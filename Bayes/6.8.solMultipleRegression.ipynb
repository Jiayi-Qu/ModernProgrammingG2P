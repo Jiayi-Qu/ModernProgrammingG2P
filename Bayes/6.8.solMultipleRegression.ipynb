{
 "cells": [
  {
   "cell_type": "code",
   "execution_count": 9,
   "metadata": {},
   "outputs": [],
   "source": [
    "#using Pkg\n",
    "#Pkg.add(\"ProgressMeter\")"
   ]
  },
  {
   "cell_type": "code",
   "execution_count": 1,
   "metadata": {},
   "outputs": [],
   "source": [
    "using Distributions\n",
    "using StatsBase\n",
    "using Printf\n",
    "using LinearAlgebra\n",
    "using ProgressMeter\n",
    "using Random"
   ]
  },
  {
   "cell_type": "markdown",
   "metadata": {},
   "source": [
    "### Exercise \n",
    "\n",
    "1 . Generate data from model (1) with  𝑘=10  covariates."
   ]
  },
  {
   "cell_type": "code",
   "execution_count": 2,
   "metadata": {},
   "outputs": [
    {
     "data": {
      "text/plain": [
       "2000×11 Array{Float64,2}:\n",
       " 1.0  -1.006   1.0125   0.0335   0.009  …   0.0155   0.009   0.0125   1.0025\n",
       " 1.0  -0.006  -0.9875   1.0335   1.009     -0.9845   1.009   0.0125   0.0025\n",
       " 1.0  -0.006   0.0125   0.0335   0.009      0.0155   0.009   0.0125   1.0025\n",
       " 1.0  -0.006  -0.9875   0.0335   0.009     -0.9845   1.009   0.0125   0.0025\n",
       " 1.0   0.994   0.0125   0.0335   0.009      0.0155   0.009   0.0125   1.0025\n",
       " 1.0   0.994   1.0125   1.0335   1.009  …  -0.9845   0.009  -0.9875   0.0025\n",
       " 1.0  -1.006   0.0125  -0.9665   0.009      1.0155  -0.991  -0.9875  -0.9975\n",
       " 1.0  -1.006   0.0125  -0.9665   1.009     -0.9845   1.009  -0.9875   1.0025\n",
       " 1.0  -0.006  -0.9875   0.0335   0.009      0.0155   0.009   0.0125  -0.9975\n",
       " 1.0  -0.006   0.0125  -0.9665  -0.991     -0.9845   0.009   0.0125  -0.9975\n",
       " 1.0  -0.006   0.0125   0.0335   0.009  …   0.0155   1.009   1.0125   1.0025\n",
       " 1.0  -0.006   1.0125   1.0335   0.009     -0.9845   1.009   0.0125   1.0025\n",
       " 1.0  -0.006   1.0125   0.0335  -0.991      0.0155   0.009   1.0125   0.0025\n",
       " ⋮                                      ⋱                             ⋮     \n",
       " 1.0   0.994   0.0125   0.0335   1.009      0.0155   1.009   0.0125   1.0025\n",
       " 1.0  -0.006   0.0125   0.0335   0.009      1.0155   0.009   0.0125  -0.9975\n",
       " 1.0  -1.006   1.0125   1.0335   1.009  …   0.0155   0.009  -0.9875   0.0025\n",
       " 1.0  -0.006   0.0125  -0.9665  -0.991     -0.9845   0.009   0.0125   0.0025\n",
       " 1.0   0.994   1.0125   1.0335   1.009      1.0155  -0.991   0.0125   0.0025\n",
       " 1.0  -1.006   0.0125   0.0335   1.009      0.0155   0.009   0.0125   1.0025\n",
       " 1.0  -1.006  -0.9875  -0.9665   0.009      0.0155   1.009   0.0125   1.0025\n",
       " 1.0  -0.006  -0.9875   1.0335   1.009  …  -0.9845  -0.991  -0.9875  -0.9975\n",
       " 1.0   0.994   1.0125   1.0335   0.009     -0.9845   1.009   1.0125   1.0025\n",
       " 1.0   0.994   0.0125   1.0335   0.009     -0.9845   1.009   0.0125  -0.9975\n",
       " 1.0   0.994   1.0125  -0.9665  -0.991      0.0155   0.009   0.0125   0.0025\n",
       " 1.0  -0.006   1.0125   0.0335   0.009      1.0155   1.009   0.0125   0.0025"
      ]
     },
     "execution_count": 2,
     "metadata": {},
     "output_type": "execute_result"
    }
   ],
   "source": [
    "Random.seed!(31415)\n",
    "n = 2000 #number of observations\n",
    "k = 10   #number of covariates\n",
    "M = rand(Binomial(2,0.5),n,k)\n",
    "M = M .- mean(M,dims=1)\n",
    "X = [ones(n) M]"
   ]
  },
  {
   "cell_type": "code",
   "execution_count": 3,
   "metadata": {},
   "outputs": [],
   "source": [
    "betaTrue = [1; randn(k)]\n",
    "y = X*betaTrue+ randn(n);"
   ]
  },
  {
   "cell_type": "markdown",
   "metadata": {},
   "source": [
    "2. Setup and solve the mixed model equations given by ([BLUPBeta])."
   ]
  },
  {
   "cell_type": "code",
   "execution_count": 4,
   "metadata": {},
   "outputs": [],
   "source": [
    "XPX = X'X\n",
    "rhs = X'y\n",
    "Vb = var(betaTrue[2:end])\n",
    "Ve = 1\n",
    "λ = Vb/Ve\n",
    "mme = XPX\n",
    "mme[2:end,2:end] += I*λ;"
   ]
  },
  {
   "cell_type": "code",
   "execution_count": 5,
   "metadata": {},
   "outputs": [
    {
     "data": {
      "text/plain": [
       "11-element Array{Float64,1}:\n",
       "  0.9965642975700888 \n",
       " -0.23985017116825277\n",
       "  1.3215375049478637 \n",
       " -0.6648765335226169 \n",
       "  1.7164571072572692 \n",
       "  0.3816503944688989 \n",
       " -0.31262561115510035\n",
       " -0.9973935168915621 \n",
       "  0.19004467488805388\n",
       "  0.3121677409885229 \n",
       "  1.0578407001575203 "
      ]
     },
     "execution_count": 5,
     "metadata": {},
     "output_type": "execute_result"
    }
   ],
   "source": [
    "betaHat=inv(mme)*rhs"
   ]
  },
  {
   "cell_type": "markdown",
   "metadata": {},
   "source": [
    "3. Sample the elements of  𝜷  using Gibbs."
   ]
  },
  {
   "cell_type": "code",
   "execution_count": 6,
   "metadata": {},
   "outputs": [
    {
     "data": {
      "text/plain": [
       "GibbsSample1 (generic function with 1 method)"
      ]
     },
     "execution_count": 6,
     "metadata": {},
     "output_type": "execute_result"
    }
   ],
   "source": [
    "function GibbsSample1(y,X,b,meanB,niter,λ)\n",
    "    n,k = size(X)\n",
    "     @showprogress \"drawing MCMC samples...\" for iter = 1:niter\n",
    "        # sampling intercept\n",
    "        w = y - X[:,2:k] * b[2:k]\n",
    "        x = X[:,1]\n",
    "        xpxi = 1/(x'x)\n",
    "        bHat = (xpxi*x'w) \n",
    "        b[1] = rand(Normal(bHat, sqrt(xpxi))) # using residual var = 1     \n",
    "        # sampling marker effects\n",
    "        for i=2:k\n",
    "            btemp = copy(b)\n",
    "            btemp[i] = 0\n",
    "            w = y - X*btemp\n",
    "            x = X[:,i]\n",
    "            xpxi = 1/((x'x) + λ)\n",
    "            bHat = (xpxi*x'w)\n",
    "            b[i] = rand(Normal(bHat, sqrt(xpxi))) # using residual var = 1  \n",
    "        end \n",
    "        meanB += (b - meanB)/iter\n",
    "        a[iter,:] = b\n",
    "    end\n",
    "    return meanB, a\n",
    "end"
   ]
  },
  {
   "cell_type": "markdown",
   "metadata": {},
   "source": [
    "4. Compute the posterior mean of  𝜷  from the samples and compare with mixed model solutions."
   ]
  },
  {
   "cell_type": "markdown",
   "metadata": {},
   "source": [
    "### Compare with mixed model solution betaHat"
   ]
  },
  {
   "cell_type": "code",
   "execution_count": 8,
   "metadata": {},
   "outputs": [
    {
     "name": "stderr",
     "output_type": "stream",
     "text": [
      "\u001b[32mdrawing MCMC samples...100%|████████████████████████████| Time: 0:00:00\u001b[39m\n"
     ]
    },
    {
     "name": "stdout",
     "output_type": "stream",
     "text": [
      "  1.264396 seconds (3.06 M allocations: 217.957 MiB, 4.59% gc time)\n"
     ]
    }
   ],
   "source": [
    "niter = 100                    # number of samples\n",
    "b     = zeros(k+1)\n",
    "meanB = zeros(k+1)\n",
    "a = zeros(niter,k+1)\n",
    "@time meanB, a = GibbsSample1(y,X,b,meanB,niter,λ);"
   ]
  },
  {
   "cell_type": "code",
   "execution_count": 9,
   "metadata": {},
   "outputs": [
    {
     "data": {
      "text/plain": [
       "11×2 Array{Float64,2}:\n",
       "  0.993761   0.996564\n",
       " -0.240379  -0.23985 \n",
       "  1.32206    1.32154 \n",
       " -0.66328   -0.664877\n",
       "  1.72179    1.71646 \n",
       "  0.384768   0.38165 \n",
       " -0.309759  -0.312626\n",
       " -0.99521   -0.997394\n",
       "  0.195714   0.190045\n",
       "  0.310968   0.312168\n",
       "  1.05411    1.05784 "
      ]
     },
     "execution_count": 9,
     "metadata": {},
     "output_type": "execute_result"
    }
   ],
   "source": [
    "[meanB betaHat]"
   ]
  },
  {
   "cell_type": "markdown",
   "metadata": {},
   "source": [
    "5. Compute the posterior covariance matrix from the sampled values. \n"
   ]
  },
  {
   "cell_type": "code",
   "execution_count": 10,
   "metadata": {},
   "outputs": [
    {
     "data": {
      "text/plain": [
       "11×11 Array{Float64,2}:\n",
       "  0.000651665  -8.42895e-5    2.48558e-5   …  -0.000128422  -2.76139e-5 \n",
       " -8.42895e-5    0.00146731   -3.90336e-6      -7.43539e-5   -5.49242e-5 \n",
       "  2.48558e-5   -3.90336e-6    0.00103095       8.16413e-5    6.06216e-5 \n",
       " -5.07055e-5   -1.41525e-5    0.000158239     -9.00448e-5   -4.69847e-5 \n",
       " -0.000186333   0.000228324   0.000161735      0.000146325   0.000175542\n",
       "  0.000131081  -6.62626e-5    1.58106e-5   …  -1.52908e-5   -0.000143815\n",
       " -8.13383e-5   -0.000129752   5.42766e-5      -5.11952e-6   -2.17382e-5 \n",
       " -4.41439e-5   -0.00014498    0.000125654      0.000165445  -1.13875e-5 \n",
       "  3.85293e-5   -0.000212901   1.68746e-5      -0.000202583  -1.18488e-5 \n",
       " -0.000128422  -7.43539e-5    8.16413e-5       0.00123665    1.04021e-5 \n",
       " -2.76139e-5   -5.49242e-5    6.06216e-5   …   1.04021e-5    0.000992308"
      ]
     },
     "execution_count": 10,
     "metadata": {},
     "output_type": "execute_result"
    }
   ],
   "source": [
    "cov(a)"
   ]
  },
  {
   "cell_type": "markdown",
   "metadata": {},
   "source": [
    "### compare with the inverse of mixed models"
   ]
  },
  {
   "cell_type": "code",
   "execution_count": 11,
   "metadata": {},
   "outputs": [
    {
     "data": {
      "text/plain": [
       "11×11 Array{Float64,2}:\n",
       "  0.0005        1.7034e-19  -2.14702e-20  …   1.02704e-19   1.345e-19  \n",
       "  1.7034e-19    0.00101519  -1.95152e-5       2.20307e-5    1.09205e-6 \n",
       " -2.14702e-20  -1.95152e-5   0.000989398      1.28415e-5    4.99645e-7 \n",
       " -6.79513e-20  -1.35172e-6   2.179e-5        -3.72122e-6    1.16829e-5 \n",
       " -9.88436e-20   2.09381e-5   6.51383e-6      -9.56427e-8   -4.14459e-8 \n",
       " -9.59556e-20   9.35145e-6   1.52844e-5   …  -1.00062e-5   -3.25821e-5 \n",
       " -2.85862e-19  -1.52144e-5   5.46944e-5       1.19275e-5   -2.0614e-6  \n",
       "  9.42679e-20  -4.93898e-5   2.25753e-5       3.39892e-5    5.72522e-6 \n",
       " -1.56183e-19  -4.14536e-5   2.83066e-6      -2.12451e-5   -2.96701e-6 \n",
       "  1.02704e-19   2.20307e-5   1.28415e-5       0.00101552   -1.61024e-5 \n",
       "  1.345e-19     1.09205e-6   4.99645e-7   …  -1.61024e-5    0.000974595"
      ]
     },
     "execution_count": 11,
     "metadata": {},
     "output_type": "execute_result"
    }
   ],
   "source": [
    "v=inv(mme)"
   ]
  }
 ],
 "metadata": {
  "kernelspec": {
   "display_name": "Julia 1.1.0",
   "language": "julia",
   "name": "julia-1.1"
  },
  "language_info": {
   "file_extension": ".jl",
   "mimetype": "application/julia",
   "name": "julia",
   "version": "1.1.0"
  }
 },
 "nbformat": 4,
 "nbformat_minor": 2
}
