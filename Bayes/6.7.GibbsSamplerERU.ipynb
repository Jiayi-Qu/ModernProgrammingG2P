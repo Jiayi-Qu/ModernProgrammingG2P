{
 "cells": [
  {
   "cell_type": "code",
   "execution_count": null,
   "metadata": {},
   "outputs": [],
   "source": [
    "function GibbsSamplerERU(y,X,xpx,b,niter,νB,Sb)\n",
    "    chain = zeros(niter)   #to save sigma2\n",
    "    n,k = size(X)\n",
    "    vare = 1.0\n",
    "    varb = Sb*νB/(νB - 2)\n",
    "    ycorr = y - X*b      # adjusting y for all covariates \n",
    "    @showprogress \"drawing MCMC samples...\" for iter=1:niter    \n",
    "        # sampling intercept\n",
    "        x = X[:,1]\n",
    "        rhs = x'ycorr + xpx[1]*b[1]\n",
    "        #rhs = dot(x,ycorr) + xpx[1]*b[1]\n",
    "        lhsi = 1/xpx[1]\n",
    "        bHat = lhsi*rhs\n",
    "        oldb = b[1]\n",
    "        b[1] = rand(Normal(bHat, sqrt(lhsi))) # using residual var = 1 \n",
    "        #BLAS.axpy!(oldb-b[1],x,ycorr)\n",
    "        ycorr += (oldb - b[1])*x\n",
    "        λ = vare/varb\n",
    "        # sampling marker effects\n",
    "        for i=2:k\n",
    "            x = X[:,i]\n",
    "            rhs = x'ycorr + xpx[i]*b[i]\n",
    "            lhsi = 1/(xpx[i] + λ)\n",
    "            bHat = lhsi*rhs\n",
    "            oldb = b[i]\n",
    "            b[i] = rand(Normal(bHat, sqrt(lhsi)))\n",
    "            ycorr += (oldb - b[i])*x\n",
    "            #BLAS.axpy!(oldb-b[i],x,ycorr)\n",
    "        end\n",
    "        # sampling sigmaB\n",
    "        varb = (sum(b[2:end].^2) + νB*Sb) /rand(Chisq(νB+k-1))\n",
    "        chain[iter] = varb\n",
    "    end\n",
    "    return chain\n",
    "end"
   ]
  }
 ],
 "metadata": {
  "kernelspec": {
   "display_name": "Julia 1.1.0",
   "language": "julia",
   "name": "julia-1.1"
  },
  "language_info": {
   "file_extension": ".jl",
   "mimetype": "application/julia",
   "name": "julia",
   "version": "1.1.0"
  }
 },
 "nbformat": 4,
 "nbformat_minor": 2
}
