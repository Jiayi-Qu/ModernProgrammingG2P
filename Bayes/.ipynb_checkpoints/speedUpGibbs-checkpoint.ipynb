{
 "cells": [
  {
   "cell_type": "code",
   "execution_count": null,
   "metadata": {},
   "outputs": [],
   "source": [
    "#using Pkg\n",
    "#Pkg.add(\"ProgressMeter\")"
   ]
  },
  {
   "cell_type": "code",
   "execution_count": null,
   "metadata": {},
   "outputs": [],
   "source": [
    "using Distributions\n",
    "using StatsBase\n",
    "using Printf\n",
    "using LinearAlgebra\n",
    "using ProgressMeter"
   ]
  },
  {
   "cell_type": "code",
   "execution_count": null,
   "metadata": {},
   "outputs": [],
   "source": [
    "using Profile"
   ]
  },
  {
   "cell_type": "markdown",
   "metadata": {},
   "source": [
    "# Exercise\n",
    "\n",
    "The purpose of this exercise is to show how the Gibbs sampler can be speeded up by over 1000 times."
   ]
  },
  {
   "cell_type": "markdown",
   "metadata": {},
   "source": [
    "In sampling the effect for covariate $i$, the right-hand-side is \n",
    "$$\n",
    "rhs_i = \\mathbf{x}_i'(\\mathbf{y} - \\sum_{j\\neq i} \\mathbf{x}_jb_j)\n",
    "$$"
   ]
  },
  {
   "cell_type": "markdown",
   "metadata": {},
   "source": [
    "#### 1. Assuming $n=1000$ observations and $k=5000$ covariates, estimate the number of arithmetic operations to compute $rhs_i$ in $N=10000$ iterations of the Gibbs sampler."
   ]
  },
  {
   "cell_type": "code",
   "execution_count": null,
   "metadata": {},
   "outputs": [],
   "source": []
  },
  {
   "cell_type": "markdown",
   "metadata": {},
   "source": [
    "\n",
    "\n",
    "#### 1 . Generate data from model (1) with  n = 2000 and 𝑘=1000."
   ]
  },
  {
   "cell_type": "code",
   "execution_count": null,
   "metadata": {},
   "outputs": [],
   "source": [
    "n = 2_000  #number of observations\n",
    "k = 1_000  #number of covariates\n",
    "M = rand(Binomial(2,0.5),n,k)\n",
    "M = M .- mean(M,dims=1)\n",
    "X = [ones(n) M]\n",
    "betaTrue = [1; randn(k)]\n",
    "y = X*betaTrue+ randn(n);"
   ]
  },
  {
   "cell_type": "markdown",
   "metadata": {},
   "source": [
    "#### 2. Profile Gibbs sampler\n",
    "\n",
    "Where is most of the time spent in the sampler? "
   ]
  },
  {
   "cell_type": "code",
   "execution_count": null,
   "metadata": {},
   "outputs": [],
   "source": [
    "function GibbsSampler(y,X,b,niter,νB,Sb)\n",
    "    chain = zeros(niter)   #to save sigma2\n",
    "    n,k = size(X)\n",
    "    λ    = 1.0\n",
    "    @showprogress \"drawing MCMC samples...\" for iter = 1:niter\n",
    "        # sampling intercept\n",
    "        btemp = copy(b)\n",
    "        btemp[1] = 0\n",
    "        w = y - X*btemp\n",
    "        x = X[:,1]\n",
    "        xpxi = 1/(x'x)[1,1]\n",
    "        bHat = (xpxi*x'w)[1,1] \n",
    "        b[1] = rand(Normal(bHat, sqrt(xpxi))) # using residual var = 1 \n",
    "        # sampling marker effects\n",
    "        for i=2:k\n",
    "            btemp = copy(b)\n",
    "            btemp[i] = 0\n",
    "            w = y - X*btemp\n",
    "            x = X[:,i]\n",
    "            xpxi = 1/((x'x) + λ)[1,1]\n",
    "            bHat = (xpxi*x'w)[1,1]\n",
    "            b[i] = rand(Normal(bHat, sqrt(xpxi))) # using residual var = 1  \n",
    "        end         \n",
    "        # sampling sigmaB\n",
    "        varb = (sum(b[2:end].^2) + νB*Sb) /rand(Chisq(νB+k-1))\n",
    "        λ    = 1.0/varb\n",
    "        chain[iter] = varb\n",
    "    end\n",
    "    return chain\n",
    "end"
   ]
  },
  {
   "cell_type": "markdown",
   "metadata": {},
   "source": [
    "#### Run the next two cells to profile the ``GibbsSampler`` function"
   ]
  },
  {
   "cell_type": "code",
   "execution_count": null,
   "metadata": {},
   "outputs": [],
   "source": [
    "niter = 2                     # number of samples\n",
    "b     = zeros(k+1)\n",
    "νB    = 4\n",
    "varb  = 1\n",
    "vare  = 1\n",
    "Sb    = varb*(νB - 2)/νB\n",
    "@profile chain = GibbsSampler(y,X,b,niter,νB,Sb);"
   ]
  },
  {
   "cell_type": "code",
   "execution_count": null,
   "metadata": {},
   "outputs": [],
   "source": [
    "Profile.print()"
   ]
  },
  {
   "cell_type": "markdown",
   "metadata": {},
   "source": [
    "### Efficient Residual Updating \n",
    "\n",
    "As described below, (Legarra and Misztal; J Dairy Sci 2007, 91:360–366) the right-hand-side for sampling covariate $i$, $rhs_i$, can be computed much more efficiently.\n",
    "\n",
    "Before drawing any samples, adjust $\\mathbf{y}$ for all effects in the model as:\n",
    "\n",
    "$$\n",
    "\\mathbf{ycorr} = \\mathbf{y} - \\mathbf{Xb}\n",
    "$$"
   ]
  },
  {
   "cell_type": "markdown",
   "metadata": {},
   "source": [
    "with the current value of $\\mathbf{b}$. Then, $rhs_i$ can be compute efficiently as:\n",
    "\n",
    "$$\n",
    "rhs_i = \\mathbf{x}_i'(\\mathbf{ycorr}) + \\mathbf{x}_i'\\mathbf{x}_ib_i\n",
    "$$\n",
    "\n",
    "After sampling a new value for $b_i$, the vector $\\mathbf{ycorr}$ of residuals has to be updated for the new value of $b_i$ as:\n",
    "\n",
    "$$\n",
    "\\mathbf{ycorr} = \\mathbf{ycorr} + (b_i^{[\\text{old}]} - b_i^{[\\text{new}]})\\mathbf{x}_i.\n",
    "$$"
   ]
  },
  {
   "cell_type": "markdown",
   "metadata": {},
   "source": [
    "#### 3.1. Assuming $n=1000$ observations and $k=5000$ covariates, estimate the number of arithmetic operations to compute $rhs_i$ in $N=10000$ iterations of the Gibbs sampler with efficient residual updates."
   ]
  },
  {
   "cell_type": "code",
   "execution_count": null,
   "metadata": {},
   "outputs": [],
   "source": []
  },
  {
   "cell_type": "markdown",
   "metadata": {},
   "source": [
    "#### 3.2 Modify the Gibbs sampler for efficient residual updating\n",
    "\n",
    "A vector containing the values of $\\mathbf{x}_i'\\mathbf{x}_i$ can be computed once before calling the sampler as shown in the next cell.  Try completing the exercise on your own before looking at the solution given [here](GibbsSamplerERU.ipynb)."
   ]
  },
  {
   "cell_type": "code",
   "execution_count": null,
   "metadata": {},
   "outputs": [],
   "source": [
    "xpx = [X[:,j]'X[:,j] for j=1:size(X,2)];"
   ]
  },
  {
   "cell_type": "code",
   "execution_count": null,
   "metadata": {},
   "outputs": [],
   "source": [
    "# fucntion for Gibbs sampling with efficient residual updates"
   ]
  },
  {
   "cell_type": "markdown",
   "metadata": {},
   "source": [
    "#### 4. Compare computing time of the efficient sampler with the old version"
   ]
  },
  {
   "cell_type": "code",
   "execution_count": null,
   "metadata": {},
   "outputs": [],
   "source": [
    "niter = 100              # number of samples\n",
    "b     = zeros(k+1)\n",
    "νB    = 4\n",
    "varb  = 1\n",
    "vare  = 1\n",
    "Sb    = varb*(νB - 2)/νB\n",
    "@time chain = GibbsSamplerERU(y,X,xpx,b,niter,νB,Sb);"
   ]
  },
  {
   "cell_type": "markdown",
   "metadata": {},
   "source": [
    "#### 5. Profile GibbsSamplerERU\n",
    "\n",
    "You may have to remove the ProgressMeter from the function as appears to intrfere with the profiler. Use ``Profile.clear()`` to  empty the profiler of results from the previous invocation. "
   ]
  },
  {
   "cell_type": "markdown",
   "metadata": {},
   "source": [
    "### Gibbs sampler with efficient access of covariates"
   ]
  },
  {
   "cell_type": "code",
   "execution_count": null,
   "metadata": {},
   "outputs": [],
   "source": [
    "x = @view X[:,2]\n",
    "ptr = pointer(x,1)               # this gives the memory address of x[1]"
   ]
  },
  {
   "cell_type": "code",
   "execution_count": null,
   "metadata": {},
   "outputs": [],
   "source": [
    "ptr = pointer(X,2001)           # this also gives the memory address of X[1,2]   "
   ]
  },
  {
   "cell_type": "markdown",
   "metadata": {},
   "source": [
    "Note that @view did not create a new copy of X[:,2]. However, see below that ``x = X[:,2]`` creates a new copy of the second column of $\\mathbf{X}$"
   ]
  },
  {
   "cell_type": "code",
   "execution_count": null,
   "metadata": {},
   "outputs": [],
   "source": [
    "x = X[:,2]\n",
    "ptr = pointer(x,1)"
   ]
  },
  {
   "cell_type": "markdown",
   "metadata": {},
   "source": [
    "#### 6. Replace ``x = X[:,2]`` with ``x = @view X[:,2]`` and compare speed of the two versions."
   ]
  },
  {
   "cell_type": "code",
   "execution_count": null,
   "metadata": {},
   "outputs": [],
   "source": [
    "function GibbsSamplerERUCA(y,X,xpx,b,niter,νB,Sb)\n",
    "    chain = zeros(niter)   #to save sigma2\n",
    "    n,k = size(X)\n",
    "    vare = 1.0\n",
    "    varb = Sb*νB/(νB - 2)\n",
    "    ycorr = y - X*b      # adjusting y for all covariates \n",
    "    @showprogress \"drawing MCMC samples...\" for iter=1:niter    \n",
    "        # sampling intercept\n",
    "        x = @view X[:,1]                                                  # does not get a copy of the column\n",
    "        rhs = x'ycorr + xpx[1]*b[1]\n",
    "        #rhs = dot(x,ycorr) + xpx[1]*b[1]\n",
    "        lhsi = 1/xpx[1]\n",
    "        bHat = lhsi*rhs\n",
    "        oldb = b[1]\n",
    "        b[1] = rand(Normal(bHat, sqrt(lhsi))) # using residual var = 1 \n",
    "        #BLAS.axpy!(oldb-b[1],x,ycorr)\n",
    "        ycorr += (oldb - b[1])*x\n",
    "        λ = vare/varb\n",
    "        # sampling marker effects\n",
    "        for i=2:k\n",
    "            x = @view X[:,i]                                              # does not get a copy of the column\n",
    "            rhs = x'ycorr + xpx[i]*b[i]\n",
    "            lhsi = 1/(xpx[i] + λ)\n",
    "            bHat = lhsi*rhs\n",
    "            oldb = b[i]\n",
    "            b[i] = rand(Normal(bHat, sqrt(lhsi)))\n",
    "            ycorr += (oldb - b[i])*x\n",
    "            #BLAS.axpy!(oldb-b[i],x,ycorr)\n",
    "        end\n",
    "        # sampling sigmaB\n",
    "        varb = (sum(b[2:end].^2) + νB*Sb) /rand(Chisq(νB+k-1))\n",
    "        chain[iter] = varb\n",
    "    end\n",
    "    return chain\n",
    "end"
   ]
  },
  {
   "cell_type": "code",
   "execution_count": null,
   "metadata": {},
   "outputs": [],
   "source": [
    "n = 10_000  #number of observations\n",
    "k = 10_000  #number of covariates\n",
    "M = rand(Binomial(2,0.5),n,k)\n",
    "M = M .- mean(M,dims=1)\n",
    "X = [ones(n) M]\n",
    "betaTrue = [1; randn(k)]\n",
    "y = X*betaTrue+ randn(n)\n",
    "xpx = [X[:,j]'X[:,j] for j=1:size(X,2)];"
   ]
  },
  {
   "cell_type": "code",
   "execution_count": null,
   "metadata": {},
   "outputs": [],
   "source": [
    "niter = 2                     # number of samples\n",
    "b     = zeros(k+1)\n",
    "νB    = 4\n",
    "varb  = 1\n",
    "vare  = 1\n",
    "Sb    = varb*(νB - 2)/νB\n",
    "@time chain = GibbsSampler(y,X,b,niter,νB,Sb);"
   ]
  },
  {
   "cell_type": "code",
   "execution_count": null,
   "metadata": {},
   "outputs": [],
   "source": [
    "niter = 100              # number of samples\n",
    "b     = zeros(k+1)\n",
    "νB    = 4\n",
    "varb  = 1\n",
    "vare  = 1\n",
    "Sb    = varb*(νB - 2)/νB\n",
    "@time chain = GibbsSamplerERU(y,X,xpx,b,niter,νB,Sb);"
   ]
  },
  {
   "cell_type": "code",
   "execution_count": null,
   "metadata": {},
   "outputs": [],
   "source": [
    "niter = 100              # number of samples\n",
    "b     = zeros(k+1)\n",
    "νB    = 4\n",
    "varb  = 1\n",
    "vare  = 1\n",
    "Sb    = varb*(νB - 2)/νB\n",
    "@time chain = GibbsSamplerERUCA(y,X,xpx,b,niter,νB,Sb);"
   ]
  },
  {
   "cell_type": "markdown",
   "metadata": {},
   "source": [
    "#### Use of BLASS functions"
   ]
  },
  {
   "cell_type": "code",
   "execution_count": null,
   "metadata": {},
   "outputs": [],
   "source": [
    "function GibbsSamplerERUCABLASS(y,X,xpx,b,niter,νB,Sb)\n",
    "    chain = zeros(niter)   #to save sigma2\n",
    "    n,k = size(X)\n",
    "    vare = 1.0\n",
    "    varb = Sb*νB/(νB - 2)\n",
    "    ycorr = y - X*b      # adjusting y for all covariates \n",
    "    @showprogress \"drawing MCMC samples...\" for iter=1:niter    \n",
    "        # sampling intercept\n",
    "        x = @view X[:,1]                                                  # does not get a copy of the column\n",
    "        rhs = dot(x,ycorr) + xpx[1]*b[1]\n",
    "        lhsi = 1/xpx[1]\n",
    "        bHat = lhsi*rhs\n",
    "        oldb = b[1]\n",
    "        b[1] = rand(Normal(bHat, sqrt(lhsi)))\n",
    "        BLAS.axpy!(oldb-b[1],x,ycorr)\n",
    "        λ = vare/varb\n",
    "        # sampling marker effects\n",
    "        for i=2:k\n",
    "            x = @view X[:,i]                                              # does not get a copy of the column\n",
    "            rhs = x'ycorr + xpx[i]*b[i]\n",
    "            lhsi = 1/(xpx[i] + λ)\n",
    "            bHat = lhsi*rhs\n",
    "            oldb = b[i]\n",
    "            b[i] = rand(Normal(bHat, sqrt(lhsi)))\n",
    "            BLAS.axpy!(oldb-b[i],x,ycorr)\n",
    "        end\n",
    "        # sampling sigmaB\n",
    "        varb = (sum(b[2:end].^2) + νB*Sb) /rand(Chisq(νB+k-1))\n",
    "        chain[iter] = varb\n",
    "    end\n",
    "    return chain\n",
    "end"
   ]
  },
  {
   "cell_type": "code",
   "execution_count": null,
   "metadata": {},
   "outputs": [],
   "source": [
    "niter = 100              # number of samples\n",
    "b     = zeros(k+1)\n",
    "νB    = 4\n",
    "varb  = 1\n",
    "vare  = 1\n",
    "Sb    = varb*(νB - 2)/νB\n",
    "@time chain = GibbsSamplerERUCABLASS(y,X,xpx,b,niter,νB,Sb);"
   ]
  }
 ],
 "metadata": {
  "kernelspec": {
   "display_name": "Julia 1.1.0",
   "language": "julia",
   "name": "julia-1.1"
  },
  "language_info": {
   "file_extension": ".jl",
   "mimetype": "application/julia",
   "name": "julia",
   "version": "1.1.0"
  }
 },
 "nbformat": 4,
 "nbformat_minor": 2
}
