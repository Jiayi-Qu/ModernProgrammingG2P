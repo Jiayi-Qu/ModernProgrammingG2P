{
 "cells": [
  {
   "cell_type": "code",
   "execution_count": 9,
   "metadata": {},
   "outputs": [],
   "source": [
    "#using Pkg\n",
    "#Pkg.add(\"ProgressMeter\")"
   ]
  },
  {
   "cell_type": "code",
   "execution_count": 1,
   "metadata": {},
   "outputs": [],
   "source": [
    "using Distributions\n",
    "using StatsBase\n",
    "using Printf\n",
    "using LinearAlgebra\n",
    "using ProgressMeter\n",
    "using Random"
   ]
  },
  {
   "cell_type": "markdown",
   "metadata": {},
   "source": [
    "### Exercise \n",
    "\n",
    "1 . Generate data from model (1) with  𝑘=10  covariates."
   ]
  },
  {
   "cell_type": "code",
   "execution_count": 7,
   "metadata": {},
   "outputs": [
    {
     "data": {
      "text/plain": [
       "2000×11 Array{Float64,2}:\n",
       " 1.0   0.992   0.0105   0.9805   0.9615  …   0.0005   0.0035  -1.024  -0.02\n",
       " 1.0   0.992   1.0105  -0.0195  -0.0385     -0.9995  -0.9965   0.976  -0.02\n",
       " 1.0  -0.008   1.0105  -0.0195   0.9615     -0.9995  -0.9965   0.976  -0.02\n",
       " 1.0  -0.008   0.0105  -1.0195  -1.0385      1.0005   1.0035   0.976  -1.02\n",
       " 1.0  -1.008   1.0105  -1.0195   0.9615      0.0005   0.0035  -0.024  -0.02\n",
       " 1.0  -0.008   0.0105  -1.0195  -0.0385  …   0.0005   0.0035  -0.024  -0.02\n",
       " 1.0  -0.008   0.0105  -1.0195  -1.0385      0.0005   0.0035  -0.024  -0.02\n",
       " 1.0   0.992   0.0105  -0.0195  -0.0385      1.0005  -0.9965   0.976   0.98\n",
       " 1.0  -1.008   0.0105  -1.0195  -0.0385      0.0005   0.0035  -0.024  -1.02\n",
       " 1.0  -1.008  -0.9895   0.9805   0.9615      0.0005   0.0035  -1.024  -0.02\n",
       " 1.0  -0.008   0.0105  -1.0195  -1.0385  …  -0.9995   1.0035  -1.024  -0.02\n",
       " 1.0  -0.008   1.0105   0.9805  -0.0385      1.0005   1.0035  -0.024  -1.02\n",
       " 1.0   0.992   0.0105   0.9805  -0.0385     -0.9995   0.0035  -0.024  -0.02\n",
       " ⋮                                       ⋱                             ⋮   \n",
       " 1.0   0.992   1.0105   0.9805   0.9615     -0.9995   0.0035  -1.024   0.98\n",
       " 1.0  -0.008   1.0105  -0.0195   0.9615     -0.9995   1.0035  -0.024   0.98\n",
       " 1.0  -0.008  -0.9895   0.9805  -1.0385  …   1.0005  -0.9965   0.976  -1.02\n",
       " 1.0  -0.008   0.0105  -1.0195  -1.0385      0.0005   0.0035   0.976  -1.02\n",
       " 1.0  -0.008   0.0105  -0.0195  -0.0385     -0.9995  -0.9965   0.976   0.98\n",
       " 1.0  -0.008  -0.9895  -1.0195  -0.0385      1.0005   1.0035  -0.024   0.98\n",
       " 1.0  -0.008   0.0105  -1.0195  -0.0385      1.0005   0.0035  -1.024   0.98\n",
       " 1.0  -0.008  -0.9895  -0.0195  -0.0385  …   1.0005   0.0035   0.976  -1.02\n",
       " 1.0  -0.008   0.0105  -0.0195   0.9615      1.0005   0.0035  -1.024  -0.02\n",
       " 1.0  -0.008  -0.9895   0.9805  -0.0385      0.0005   1.0035   0.976  -1.02\n",
       " 1.0   0.992   1.0105  -0.0195  -0.0385      0.0005   0.0035   0.976  -1.02\n",
       " 1.0  -0.008   0.0105  -0.0195  -0.0385      0.0005   0.0035  -0.024  -1.02"
      ]
     },
     "execution_count": 7,
     "metadata": {},
     "output_type": "execute_result"
    }
   ],
   "source": [
    "Random.seed!(31415)\n",
    "n = 2000 #number of observations\n",
    "k = 10   #number of covariates\n",
    "M = rand(Binomial(2,0.5),n,k)\n",
    "M = M .- mean(M,dims=1)\n",
    "X = [ones(n) M]"
   ]
  },
  {
   "cell_type": "code",
   "execution_count": 8,
   "metadata": {},
   "outputs": [],
   "source": [
    "betaTrue = [1; randn(k)]\n",
    "y = X*betaTrue+ randn(n);"
   ]
  },
  {
   "cell_type": "markdown",
   "metadata": {},
   "source": [
    "2. Setup and solve the mixed model equations given by ([BLUPBeta])."
   ]
  },
  {
   "cell_type": "code",
   "execution_count": 9,
   "metadata": {},
   "outputs": [],
   "source": [
    "XPX = X'X\n",
    "rhs = X'y\n",
    "Vb = var(betaTrue[2:end])\n",
    "Ve = 1\n",
    "λ = Vb/Ve\n",
    "mme = XPX\n",
    "mme[2:end,2:end] += I*λ;"
   ]
  },
  {
   "cell_type": "code",
   "execution_count": 10,
   "metadata": {},
   "outputs": [
    {
     "data": {
      "text/plain": [
       "11-element Array{Float64,1}:\n",
       "  1.0302802442984926  \n",
       " -0.03816884247171719 \n",
       " -0.9544320253414547  \n",
       " -0.019472011511207192\n",
       "  2.1318102781652852  \n",
       " -0.7507314839724013  \n",
       "  1.5028597069108955  \n",
       "  0.0484206745273173  \n",
       " -0.9995251229319282  \n",
       " -0.585532587141623   \n",
       "  0.2507596045644597  "
      ]
     },
     "execution_count": 10,
     "metadata": {},
     "output_type": "execute_result"
    }
   ],
   "source": [
    "betaHat=inv(mme)*rhs"
   ]
  },
  {
   "cell_type": "markdown",
   "metadata": {},
   "source": [
    "3. Sample the elements of  𝜷  using Gibbs."
   ]
  },
  {
   "cell_type": "code",
   "execution_count": 11,
   "metadata": {},
   "outputs": [
    {
     "data": {
      "text/plain": [
       "GibbsSample1 (generic function with 2 methods)"
      ]
     },
     "execution_count": 11,
     "metadata": {},
     "output_type": "execute_result"
    }
   ],
   "source": [
    "function GibbsSample1(y,X,b,meanB,niter,λ)\n",
    "    n,k = size(X)\n",
    "     @showprogress \"drawing MCMC samples...\" for iter = 1:niter\n",
    "        # sampling intercept\n",
    "        w = y - X[:,2:k] * b[2:k]\n",
    "        x = X[:,1]\n",
    "        xpxi = 1/(x'x)\n",
    "        bHat = (xpxi*x'w) \n",
    "        b[1] = rand(Normal(bHat, sqrt(xpxi))) # using residual var = 1     \n",
    "        # sampling marker effects\n",
    "        for i=2:k\n",
    "            btemp = copy(b)\n",
    "            btemp[i] = 0\n",
    "            w = y - X*btemp\n",
    "            x = X[:,i]\n",
    "            xpxi = 1/((x'x) + λ)\n",
    "            bHat = (xpxi*x'w)\n",
    "            b[i] = rand(Normal(bHat, sqrt(xpxi))) # using residual var = 1  \n",
    "        end \n",
    "        meanB += (b - meanB)/iter\n",
    "        a[iter,:] = b\n",
    "    end\n",
    "    return meanB, a\n",
    "end"
   ]
  },
  {
   "cell_type": "markdown",
   "metadata": {},
   "source": [
    "4. Compute the posterior mean of  𝜷  from the samples and compare with mixed model solutions."
   ]
  },
  {
   "cell_type": "markdown",
   "metadata": {},
   "source": [
    "### compare with mixed model solution betaHat"
   ]
  },
  {
   "cell_type": "code",
   "execution_count": 12,
   "metadata": {},
   "outputs": [
    {
     "name": "stderr",
     "output_type": "stream",
     "text": [
      "\u001b[32mdrawing MCMC samples...100%|████████████████████████████| Time: 0:00:00\u001b[39m\n"
     ]
    },
    {
     "name": "stdout",
     "output_type": "stream",
     "text": [
      "  2.026680 seconds (3.23 M allocations: 226.189 MiB, 5.20% gc time)\n"
     ]
    }
   ],
   "source": [
    "niter = 100                    # number of samples\n",
    "b     = zeros(k+1)\n",
    "meanB = zeros(k+1)\n",
    "a = zeros(niter,k+1)\n",
    "@time meanB, a = GibbsSample1(y,X,b,meanB,niter);"
   ]
  },
  {
   "cell_type": "code",
   "execution_count": 13,
   "metadata": {},
   "outputs": [
    {
     "data": {
      "text/plain": [
       "11×2 Array{Float64,2}:\n",
       "  1.02964     1.03028  \n",
       " -0.0374659  -0.0381688\n",
       " -0.957586   -0.954432 \n",
       " -0.0198745  -0.019472 \n",
       "  2.13333     2.13181  \n",
       " -0.746793   -0.750731 \n",
       "  1.50164     1.50286  \n",
       "  0.044903    0.0484207\n",
       " -1.00044    -0.999525 \n",
       " -0.585224   -0.585533 \n",
       "  0.255794    0.25076  "
      ]
     },
     "execution_count": 13,
     "metadata": {},
     "output_type": "execute_result"
    }
   ],
   "source": [
    "[meanB betaHat]"
   ]
  },
  {
   "cell_type": "markdown",
   "metadata": {},
   "source": [
    "5. Compute the posterior covariance matrix from the sampled values. \n"
   ]
  },
  {
   "cell_type": "code",
   "execution_count": 14,
   "metadata": {},
   "outputs": [
    {
     "data": {
      "text/plain": [
       "11×11 Array{Float64,2}:\n",
       "  0.000437639   1.6154e-5    -4.30498e-5   …  -6.35178e-6    2.43975e-6 \n",
       "  1.6154e-5     0.00115002    0.000197386     -5.68011e-5   -4.65595e-5 \n",
       " -4.30498e-5    0.000197386   0.000981091      2.50123e-5    5.86709e-5 \n",
       "  1.69372e-5    7.29325e-5    5.17747e-5      -3.57058e-5   -6.15731e-6 \n",
       "  3.90285e-5   -1.93296e-5   -0.000202198     -0.000124702   9.30791e-6 \n",
       " -9.00602e-5   -2.41068e-5    5.23271e-5   …   9.71741e-5    4.58777e-5 \n",
       "  0.000134281  -1.92878e-5   -2.59506e-6       9.13606e-5   -0.000200597\n",
       "  3.86496e-6   -8.36521e-5   -0.00029681       6.62081e-5    0.000110458\n",
       " -0.000112542  -0.000107561  -0.00023408      -1.05573e-5    9.04592e-6 \n",
       " -6.35178e-6   -5.68011e-5    2.50123e-5       0.000874495  -2.28942e-5 \n",
       "  2.43975e-6   -4.65595e-5    5.86709e-5   …  -2.28942e-5    0.00064828 "
      ]
     },
     "execution_count": 14,
     "metadata": {},
     "output_type": "execute_result"
    }
   ],
   "source": [
    "cov(a)"
   ]
  },
  {
   "cell_type": "markdown",
   "metadata": {},
   "source": [
    "### compare with the inverse of mixed models"
   ]
  },
  {
   "cell_type": "code",
   "execution_count": 15,
   "metadata": {},
   "outputs": [
    {
     "data": {
      "text/plain": [
       "11×11 Array{Float64,2}:\n",
       "  0.0005       -2.21178e-19  -1.86994e-19  …   3.69269e-19  -9.52459e-20\n",
       " -2.21178e-19   0.00100747    5.57214e-6       1.26773e-5   -5.06514e-6 \n",
       " -1.86994e-19   5.57214e-6    0.000976156      4.9435e-5    -3.34433e-5 \n",
       "  1.66269e-19  -3.69235e-5   -1.44811e-5      -1.37478e-5    1.00786e-5 \n",
       " -1.8326e-19   -1.98017e-5   -3.61261e-5      -5.63877e-6   -6.36248e-6 \n",
       "  1.57248e-19   1.99185e-5   -4.59402e-6   …  -1.22226e-5   -2.55495e-6 \n",
       " -4.56568e-20   4.06165e-6    1.56493e-6       2.04061e-5   -3.26871e-5 \n",
       "  3.59724e-20   4.89903e-6   -9.05321e-6      -3.23841e-5    3.76592e-5 \n",
       "  8.64089e-20   7.57659e-6   -8.88273e-6      -1.79716e-5    2.62158e-5 \n",
       "  3.69269e-19   1.26773e-5    4.9435e-5        0.000985082  -1.08866e-5 \n",
       " -9.52459e-20  -5.06514e-6   -3.34433e-5   …  -1.08866e-5    0.00100409 "
      ]
     },
     "execution_count": 15,
     "metadata": {},
     "output_type": "execute_result"
    }
   ],
   "source": [
    "v=inv(mme)"
   ]
  },
  {
   "cell_type": "code",
   "execution_count": 18,
   "metadata": {},
   "outputs": [],
   "source": [
    "using Plots"
   ]
  },
  {
   "cell_type": "code",
   "execution_count": 19,
   "metadata": {},
   "outputs": [
    {
     "data": {
      "image/svg+xml": [
       "<?xml version=\"1.0\" encoding=\"utf-8\"?>\n",
       "<svg xmlns=\"http://www.w3.org/2000/svg\" xmlns:xlink=\"http://www.w3.org/1999/xlink\" width=\"600\" height=\"400\" viewBox=\"0 0 2400 1600\">\n",
       "<defs>\n",
       "  <clipPath id=\"clip4600\">\n",
       "    <rect x=\"0\" y=\"0\" width=\"2400\" height=\"1600\"/>\n",
       "  </clipPath>\n",
       "</defs>\n",
       "<polygon clip-path=\"url(#clip4600)\" points=\"\n",
       "0,1600 2400,1600 2400,0 0,0 \n",
       "  \" fill=\"#ffffff\" fill-rule=\"evenodd\" fill-opacity=\"1\"/>\n",
       "<defs>\n",
       "  <clipPath id=\"clip4601\">\n",
       "    <rect x=\"480\" y=\"0\" width=\"1681\" height=\"1600\"/>\n",
       "  </clipPath>\n",
       "</defs>\n",
       "<polygon clip-path=\"url(#clip4600)\" points=\"\n",
       "202.373,1425.62 2352.76,1425.62 2352.76,121.675 202.373,121.675 \n",
       "  \" fill=\"#ffffff\" fill-rule=\"evenodd\" fill-opacity=\"1\"/>\n",
       "<defs>\n",
       "  <clipPath id=\"clip4602\">\n",
       "    <rect x=\"202\" y=\"121\" width=\"2151\" height=\"1305\"/>\n",
       "  </clipPath>\n",
       "</defs>\n",
       "<polyline clip-path=\"url(#clip4602)\" style=\"stroke:#000000; stroke-width:2; stroke-opacity:0.1; fill:none\" points=\"\n",
       "  233.655,1425.62 233.655,121.675 \n",
       "  \"/>\n",
       "<polyline clip-path=\"url(#clip4602)\" style=\"stroke:#000000; stroke-width:2; stroke-opacity:0.1; fill:none\" points=\"\n",
       "  668.617,1425.62 668.617,121.675 \n",
       "  \"/>\n",
       "<polyline clip-path=\"url(#clip4602)\" style=\"stroke:#000000; stroke-width:2; stroke-opacity:0.1; fill:none\" points=\"\n",
       "  1103.58,1425.62 1103.58,121.675 \n",
       "  \"/>\n",
       "<polyline clip-path=\"url(#clip4602)\" style=\"stroke:#000000; stroke-width:2; stroke-opacity:0.1; fill:none\" points=\"\n",
       "  1538.54,1425.62 1538.54,121.675 \n",
       "  \"/>\n",
       "<polyline clip-path=\"url(#clip4602)\" style=\"stroke:#000000; stroke-width:2; stroke-opacity:0.1; fill:none\" points=\"\n",
       "  1973.5,1425.62 1973.5,121.675 \n",
       "  \"/>\n",
       "<polyline clip-path=\"url(#clip4602)\" style=\"stroke:#000000; stroke-width:2; stroke-opacity:0.1; fill:none\" points=\"\n",
       "  202.373,1388.71 2352.76,1388.71 \n",
       "  \"/>\n",
       "<polyline clip-path=\"url(#clip4602)\" style=\"stroke:#000000; stroke-width:2; stroke-opacity:0.1; fill:none\" points=\"\n",
       "  202.373,1169.05 2352.76,1169.05 \n",
       "  \"/>\n",
       "<polyline clip-path=\"url(#clip4602)\" style=\"stroke:#000000; stroke-width:2; stroke-opacity:0.1; fill:none\" points=\"\n",
       "  202.373,949.38 2352.76,949.38 \n",
       "  \"/>\n",
       "<polyline clip-path=\"url(#clip4602)\" style=\"stroke:#000000; stroke-width:2; stroke-opacity:0.1; fill:none\" points=\"\n",
       "  202.373,729.713 2352.76,729.713 \n",
       "  \"/>\n",
       "<polyline clip-path=\"url(#clip4602)\" style=\"stroke:#000000; stroke-width:2; stroke-opacity:0.1; fill:none\" points=\"\n",
       "  202.373,510.046 2352.76,510.046 \n",
       "  \"/>\n",
       "<polyline clip-path=\"url(#clip4602)\" style=\"stroke:#000000; stroke-width:2; stroke-opacity:0.1; fill:none\" points=\"\n",
       "  202.373,290.379 2352.76,290.379 \n",
       "  \"/>\n",
       "<polyline clip-path=\"url(#clip4600)\" style=\"stroke:#000000; stroke-width:4; stroke-opacity:1; fill:none\" points=\"\n",
       "  202.373,1425.62 2352.76,1425.62 \n",
       "  \"/>\n",
       "<polyline clip-path=\"url(#clip4600)\" style=\"stroke:#000000; stroke-width:4; stroke-opacity:1; fill:none\" points=\"\n",
       "  202.373,1425.62 202.373,121.675 \n",
       "  \"/>\n",
       "<polyline clip-path=\"url(#clip4600)\" style=\"stroke:#000000; stroke-width:4; stroke-opacity:1; fill:none\" points=\"\n",
       "  233.655,1425.62 233.655,1406.06 \n",
       "  \"/>\n",
       "<polyline clip-path=\"url(#clip4600)\" style=\"stroke:#000000; stroke-width:4; stroke-opacity:1; fill:none\" points=\"\n",
       "  668.617,1425.62 668.617,1406.06 \n",
       "  \"/>\n",
       "<polyline clip-path=\"url(#clip4600)\" style=\"stroke:#000000; stroke-width:4; stroke-opacity:1; fill:none\" points=\"\n",
       "  1103.58,1425.62 1103.58,1406.06 \n",
       "  \"/>\n",
       "<polyline clip-path=\"url(#clip4600)\" style=\"stroke:#000000; stroke-width:4; stroke-opacity:1; fill:none\" points=\"\n",
       "  1538.54,1425.62 1538.54,1406.06 \n",
       "  \"/>\n",
       "<polyline clip-path=\"url(#clip4600)\" style=\"stroke:#000000; stroke-width:4; stroke-opacity:1; fill:none\" points=\"\n",
       "  1973.5,1425.62 1973.5,1406.06 \n",
       "  \"/>\n",
       "<polyline clip-path=\"url(#clip4600)\" style=\"stroke:#000000; stroke-width:4; stroke-opacity:1; fill:none\" points=\"\n",
       "  202.373,1388.71 234.629,1388.71 \n",
       "  \"/>\n",
       "<polyline clip-path=\"url(#clip4600)\" style=\"stroke:#000000; stroke-width:4; stroke-opacity:1; fill:none\" points=\"\n",
       "  202.373,1169.05 234.629,1169.05 \n",
       "  \"/>\n",
       "<polyline clip-path=\"url(#clip4600)\" style=\"stroke:#000000; stroke-width:4; stroke-opacity:1; fill:none\" points=\"\n",
       "  202.373,949.38 234.629,949.38 \n",
       "  \"/>\n",
       "<polyline clip-path=\"url(#clip4600)\" style=\"stroke:#000000; stroke-width:4; stroke-opacity:1; fill:none\" points=\"\n",
       "  202.373,729.713 234.629,729.713 \n",
       "  \"/>\n",
       "<polyline clip-path=\"url(#clip4600)\" style=\"stroke:#000000; stroke-width:4; stroke-opacity:1; fill:none\" points=\"\n",
       "  202.373,510.046 234.629,510.046 \n",
       "  \"/>\n",
       "<polyline clip-path=\"url(#clip4600)\" style=\"stroke:#000000; stroke-width:4; stroke-opacity:1; fill:none\" points=\"\n",
       "  202.373,290.379 234.629,290.379 \n",
       "  \"/>\n",
       "<g clip-path=\"url(#clip4600)\">\n",
       "<text style=\"fill:#000000; fill-opacity:1; font-family:Arial,Helvetica Neue,Helvetica,sans-serif; font-size:48px; text-anchor:middle;\" transform=\"rotate(0, 233.655, 1479.62)\" x=\"233.655\" y=\"1479.62\">0</text>\n",
       "</g>\n",
       "<g clip-path=\"url(#clip4600)\">\n",
       "<text style=\"fill:#000000; fill-opacity:1; font-family:Arial,Helvetica Neue,Helvetica,sans-serif; font-size:48px; text-anchor:middle;\" transform=\"rotate(0, 668.617, 1479.62)\" x=\"668.617\" y=\"1479.62\">1</text>\n",
       "</g>\n",
       "<g clip-path=\"url(#clip4600)\">\n",
       "<text style=\"fill:#000000; fill-opacity:1; font-family:Arial,Helvetica Neue,Helvetica,sans-serif; font-size:48px; text-anchor:middle;\" transform=\"rotate(0, 1103.58, 1479.62)\" x=\"1103.58\" y=\"1479.62\">2</text>\n",
       "</g>\n",
       "<g clip-path=\"url(#clip4600)\">\n",
       "<text style=\"fill:#000000; fill-opacity:1; font-family:Arial,Helvetica Neue,Helvetica,sans-serif; font-size:48px; text-anchor:middle;\" transform=\"rotate(0, 1538.54, 1479.62)\" x=\"1538.54\" y=\"1479.62\">3</text>\n",
       "</g>\n",
       "<g clip-path=\"url(#clip4600)\">\n",
       "<text style=\"fill:#000000; fill-opacity:1; font-family:Arial,Helvetica Neue,Helvetica,sans-serif; font-size:48px; text-anchor:middle;\" transform=\"rotate(0, 1973.5, 1479.62)\" x=\"1973.5\" y=\"1479.62\">4</text>\n",
       "</g>\n",
       "<g clip-path=\"url(#clip4600)\">\n",
       "<text style=\"fill:#000000; fill-opacity:1; font-family:Arial,Helvetica Neue,Helvetica,sans-serif; font-size:48px; text-anchor:end;\" transform=\"rotate(0, 178.373, 1406.21)\" x=\"178.373\" y=\"1406.21\">0</text>\n",
       "</g>\n",
       "<g clip-path=\"url(#clip4600)\">\n",
       "<text style=\"fill:#000000; fill-opacity:1; font-family:Arial,Helvetica Neue,Helvetica,sans-serif; font-size:48px; text-anchor:end;\" transform=\"rotate(0, 178.373, 1186.55)\" x=\"178.373\" y=\"1186.55\">5</text>\n",
       "</g>\n",
       "<g clip-path=\"url(#clip4600)\">\n",
       "<text style=\"fill:#000000; fill-opacity:1; font-family:Arial,Helvetica Neue,Helvetica,sans-serif; font-size:48px; text-anchor:end;\" transform=\"rotate(0, 178.373, 966.88)\" x=\"178.373\" y=\"966.88\">10</text>\n",
       "</g>\n",
       "<g clip-path=\"url(#clip4600)\">\n",
       "<text style=\"fill:#000000; fill-opacity:1; font-family:Arial,Helvetica Neue,Helvetica,sans-serif; font-size:48px; text-anchor:end;\" transform=\"rotate(0, 178.373, 747.213)\" x=\"178.373\" y=\"747.213\">15</text>\n",
       "</g>\n",
       "<g clip-path=\"url(#clip4600)\">\n",
       "<text style=\"fill:#000000; fill-opacity:1; font-family:Arial,Helvetica Neue,Helvetica,sans-serif; font-size:48px; text-anchor:end;\" transform=\"rotate(0, 178.373, 527.546)\" x=\"178.373\" y=\"527.546\">20</text>\n",
       "</g>\n",
       "<g clip-path=\"url(#clip4600)\">\n",
       "<text style=\"fill:#000000; fill-opacity:1; font-family:Arial,Helvetica Neue,Helvetica,sans-serif; font-size:48px; text-anchor:end;\" transform=\"rotate(0, 178.373, 307.879)\" x=\"178.373\" y=\"307.879\">25</text>\n",
       "</g>\n",
       "<g clip-path=\"url(#clip4600)\">\n",
       "<text style=\"fill:#000000; fill-opacity:1; font-family:Arial,Helvetica Neue,Helvetica,sans-serif; font-size:84px; text-anchor:middle;\" transform=\"rotate(0, 1277.56, 73.2)\" x=\"1277.56\" y=\"73.2\">Posterior distribution of Sigma Beta </text>\n",
       "</g>\n",
       "<g clip-path=\"url(#clip4600)\">\n",
       "<text style=\"fill:#000000; fill-opacity:1; font-family:Arial,Helvetica Neue,Helvetica,sans-serif; font-size:66px; text-anchor:middle;\" transform=\"rotate(0, 1277.56, 1559.48)\" x=\"1277.56\" y=\"1559.48\">Sigma Beta</text>\n",
       "</g>\n",
       "<g clip-path=\"url(#clip4600)\">\n",
       "<text style=\"fill:#000000; fill-opacity:1; font-family:Arial,Helvetica Neue,Helvetica,sans-serif; font-size:66px; text-anchor:middle;\" transform=\"rotate(-90, 89.2861, 773.647)\" x=\"89.2861\" y=\"773.647\">Frequency</text>\n",
       "</g>\n",
       "<polygon clip-path=\"url(#clip4602)\" points=\"\n",
       "320.648,1344.78 320.648,1388.71 407.64,1388.71 407.64,1344.78 320.648,1344.78 320.648,1344.78 \n",
       "  \" fill=\"#009af9\" fill-rule=\"evenodd\" fill-opacity=\"1\"/>\n",
       "<polyline clip-path=\"url(#clip4602)\" style=\"stroke:#000000; stroke-width:4; stroke-opacity:1; fill:none\" points=\"\n",
       "  320.648,1344.78 320.648,1388.71 407.64,1388.71 407.64,1344.78 320.648,1344.78 \n",
       "  \"/>\n",
       "<polygon clip-path=\"url(#clip4602)\" points=\"\n",
       "407.64,861.514 407.64,1388.71 494.633,1388.71 494.633,861.514 407.64,861.514 407.64,861.514 \n",
       "  \" fill=\"#009af9\" fill-rule=\"evenodd\" fill-opacity=\"1\"/>\n",
       "<polyline clip-path=\"url(#clip4602)\" style=\"stroke:#000000; stroke-width:4; stroke-opacity:1; fill:none\" points=\"\n",
       "  407.64,861.514 407.64,1388.71 494.633,1388.71 494.633,861.514 407.64,861.514 \n",
       "  \"/>\n",
       "<polygon clip-path=\"url(#clip4602)\" points=\"\n",
       "494.633,466.113 494.633,1388.71 581.625,1388.71 581.625,466.113 494.633,466.113 494.633,466.113 \n",
       "  \" fill=\"#009af9\" fill-rule=\"evenodd\" fill-opacity=\"1\"/>\n",
       "<polyline clip-path=\"url(#clip4602)\" style=\"stroke:#000000; stroke-width:4; stroke-opacity:1; fill:none\" points=\"\n",
       "  494.633,466.113 494.633,1388.71 581.625,1388.71 581.625,466.113 494.633,466.113 \n",
       "  \"/>\n",
       "<polygon clip-path=\"url(#clip4602)\" points=\"\n",
       "581.625,158.579 581.625,1388.71 668.617,1388.71 668.617,158.579 581.625,158.579 581.625,158.579 \n",
       "  \" fill=\"#009af9\" fill-rule=\"evenodd\" fill-opacity=\"1\"/>\n",
       "<polyline clip-path=\"url(#clip4602)\" style=\"stroke:#000000; stroke-width:4; stroke-opacity:1; fill:none\" points=\"\n",
       "  581.625,158.579 581.625,1388.71 668.617,1388.71 668.617,158.579 581.625,158.579 \n",
       "  \"/>\n",
       "<polygon clip-path=\"url(#clip4602)\" points=\"\n",
       "668.617,685.78 668.617,1388.71 755.61,1388.71 755.61,685.78 668.617,685.78 668.617,685.78 \n",
       "  \" fill=\"#009af9\" fill-rule=\"evenodd\" fill-opacity=\"1\"/>\n",
       "<polyline clip-path=\"url(#clip4602)\" style=\"stroke:#000000; stroke-width:4; stroke-opacity:1; fill:none\" points=\"\n",
       "  668.617,685.78 668.617,1388.71 755.61,1388.71 755.61,685.78 668.617,685.78 \n",
       "  \"/>\n",
       "<polygon clip-path=\"url(#clip4602)\" points=\"\n",
       "755.61,993.314 755.61,1388.71 842.602,1388.71 842.602,993.314 755.61,993.314 755.61,993.314 \n",
       "  \" fill=\"#009af9\" fill-rule=\"evenodd\" fill-opacity=\"1\"/>\n",
       "<polyline clip-path=\"url(#clip4602)\" style=\"stroke:#000000; stroke-width:4; stroke-opacity:1; fill:none\" points=\"\n",
       "  755.61,993.314 755.61,1388.71 842.602,1388.71 842.602,993.314 755.61,993.314 \n",
       "  \"/>\n",
       "<polygon clip-path=\"url(#clip4602)\" points=\"\n",
       "842.602,1125.11 842.602,1388.71 929.595,1388.71 929.595,1125.11 842.602,1125.11 842.602,1125.11 \n",
       "  \" fill=\"#009af9\" fill-rule=\"evenodd\" fill-opacity=\"1\"/>\n",
       "<polyline clip-path=\"url(#clip4602)\" style=\"stroke:#000000; stroke-width:4; stroke-opacity:1; fill:none\" points=\"\n",
       "  842.602,1125.11 842.602,1388.71 929.595,1388.71 929.595,1125.11 842.602,1125.11 \n",
       "  \"/>\n",
       "<polygon clip-path=\"url(#clip4602)\" points=\"\n",
       "929.595,1300.85 929.595,1388.71 1016.59,1388.71 1016.59,1300.85 929.595,1300.85 929.595,1300.85 \n",
       "  \" fill=\"#009af9\" fill-rule=\"evenodd\" fill-opacity=\"1\"/>\n",
       "<polyline clip-path=\"url(#clip4602)\" style=\"stroke:#000000; stroke-width:4; stroke-opacity:1; fill:none\" points=\"\n",
       "  929.595,1300.85 929.595,1388.71 1016.59,1388.71 1016.59,1300.85 929.595,1300.85 \n",
       "  \"/>\n",
       "<polygon clip-path=\"url(#clip4602)\" points=\"\n",
       "1016.59,1344.78 1016.59,1388.71 1103.58,1388.71 1103.58,1344.78 1016.59,1344.78 1016.59,1344.78 \n",
       "  \" fill=\"#009af9\" fill-rule=\"evenodd\" fill-opacity=\"1\"/>\n",
       "<polyline clip-path=\"url(#clip4602)\" style=\"stroke:#000000; stroke-width:4; stroke-opacity:1; fill:none\" points=\"\n",
       "  1016.59,1344.78 1016.59,1388.71 1103.58,1388.71 1103.58,1344.78 1016.59,1344.78 \n",
       "  \"/>\n",
       "<polygon clip-path=\"url(#clip4602)\" points=\"\n",
       "1103.58,1344.78 1103.58,1388.71 1190.57,1388.71 1190.57,1344.78 1103.58,1344.78 1103.58,1344.78 \n",
       "  \" fill=\"#009af9\" fill-rule=\"evenodd\" fill-opacity=\"1\"/>\n",
       "<polyline clip-path=\"url(#clip4602)\" style=\"stroke:#000000; stroke-width:4; stroke-opacity:1; fill:none\" points=\"\n",
       "  1103.58,1344.78 1103.58,1388.71 1190.57,1388.71 1190.57,1344.78 1103.58,1344.78 \n",
       "  \"/>\n",
       "<polygon clip-path=\"url(#clip4602)\" points=\"\n",
       "1190.57,1344.78 1190.57,1388.71 1277.56,1388.71 1277.56,1344.78 1190.57,1344.78 1190.57,1344.78 \n",
       "  \" fill=\"#009af9\" fill-rule=\"evenodd\" fill-opacity=\"1\"/>\n",
       "<polyline clip-path=\"url(#clip4602)\" style=\"stroke:#000000; stroke-width:4; stroke-opacity:1; fill:none\" points=\"\n",
       "  1190.57,1344.78 1190.57,1388.71 1277.56,1388.71 1277.56,1344.78 1190.57,1344.78 \n",
       "  \"/>\n",
       "<polygon clip-path=\"url(#clip4602)\" points=\"\n",
       "1277.56,1388.71 1277.56,1388.71 1364.56,1388.71 1364.56,1388.71 1277.56,1388.71 1277.56,1388.71 \n",
       "  \" fill=\"#009af9\" fill-rule=\"evenodd\" fill-opacity=\"1\"/>\n",
       "<polyline clip-path=\"url(#clip4602)\" style=\"stroke:#000000; stroke-width:4; stroke-opacity:1; fill:none\" points=\"\n",
       "  1277.56,1388.71 1277.56,1388.71 1364.56,1388.71 1277.56,1388.71 \n",
       "  \"/>\n",
       "<polygon clip-path=\"url(#clip4602)\" points=\"\n",
       "1364.56,1388.71 1364.56,1388.71 1451.55,1388.71 1451.55,1388.71 1364.56,1388.71 1364.56,1388.71 \n",
       "  \" fill=\"#009af9\" fill-rule=\"evenodd\" fill-opacity=\"1\"/>\n",
       "<polyline clip-path=\"url(#clip4602)\" style=\"stroke:#000000; stroke-width:4; stroke-opacity:1; fill:none\" points=\"\n",
       "  1364.56,1388.71 1364.56,1388.71 1451.55,1388.71 1364.56,1388.71 \n",
       "  \"/>\n",
       "<polygon clip-path=\"url(#clip4602)\" points=\"\n",
       "1451.55,1388.71 1451.55,1388.71 1538.54,1388.71 1538.54,1388.71 1451.55,1388.71 1451.55,1388.71 \n",
       "  \" fill=\"#009af9\" fill-rule=\"evenodd\" fill-opacity=\"1\"/>\n",
       "<polyline clip-path=\"url(#clip4602)\" style=\"stroke:#000000; stroke-width:4; stroke-opacity:1; fill:none\" points=\"\n",
       "  1451.55,1388.71 1451.55,1388.71 1538.54,1388.71 1451.55,1388.71 \n",
       "  \"/>\n",
       "<polygon clip-path=\"url(#clip4602)\" points=\"\n",
       "1538.54,1344.78 1538.54,1388.71 1625.53,1388.71 1625.53,1344.78 1538.54,1344.78 1538.54,1344.78 \n",
       "  \" fill=\"#009af9\" fill-rule=\"evenodd\" fill-opacity=\"1\"/>\n",
       "<polyline clip-path=\"url(#clip4602)\" style=\"stroke:#000000; stroke-width:4; stroke-opacity:1; fill:none\" points=\"\n",
       "  1538.54,1344.78 1538.54,1388.71 1625.53,1388.71 1625.53,1344.78 1538.54,1344.78 \n",
       "  \"/>\n",
       "<polygon clip-path=\"url(#clip4602)\" points=\"\n",
       "1625.53,1388.71 1625.53,1388.71 1712.53,1388.71 1712.53,1388.71 1625.53,1388.71 1625.53,1388.71 \n",
       "  \" fill=\"#009af9\" fill-rule=\"evenodd\" fill-opacity=\"1\"/>\n",
       "<polyline clip-path=\"url(#clip4602)\" style=\"stroke:#000000; stroke-width:4; stroke-opacity:1; fill:none\" points=\"\n",
       "  1625.53,1388.71 1625.53,1388.71 1712.53,1388.71 1625.53,1388.71 \n",
       "  \"/>\n",
       "<polygon clip-path=\"url(#clip4602)\" points=\"\n",
       "1712.53,1388.71 1712.53,1388.71 1799.52,1388.71 1799.52,1388.71 1712.53,1388.71 1712.53,1388.71 \n",
       "  \" fill=\"#009af9\" fill-rule=\"evenodd\" fill-opacity=\"1\"/>\n",
       "<polyline clip-path=\"url(#clip4602)\" style=\"stroke:#000000; stroke-width:4; stroke-opacity:1; fill:none\" points=\"\n",
       "  1712.53,1388.71 1712.53,1388.71 1799.52,1388.71 1712.53,1388.71 \n",
       "  \"/>\n",
       "<polygon clip-path=\"url(#clip4602)\" points=\"\n",
       "1799.52,1388.71 1799.52,1388.71 1886.51,1388.71 1886.51,1388.71 1799.52,1388.71 1799.52,1388.71 \n",
       "  \" fill=\"#009af9\" fill-rule=\"evenodd\" fill-opacity=\"1\"/>\n",
       "<polyline clip-path=\"url(#clip4602)\" style=\"stroke:#000000; stroke-width:4; stroke-opacity:1; fill:none\" points=\"\n",
       "  1799.52,1388.71 1799.52,1388.71 1886.51,1388.71 1799.52,1388.71 \n",
       "  \"/>\n",
       "<polygon clip-path=\"url(#clip4602)\" points=\"\n",
       "1886.51,1388.71 1886.51,1388.71 1973.5,1388.71 1973.5,1388.71 1886.51,1388.71 1886.51,1388.71 \n",
       "  \" fill=\"#009af9\" fill-rule=\"evenodd\" fill-opacity=\"1\"/>\n",
       "<polyline clip-path=\"url(#clip4602)\" style=\"stroke:#000000; stroke-width:4; stroke-opacity:1; fill:none\" points=\"\n",
       "  1886.51,1388.71 1886.51,1388.71 1973.5,1388.71 1886.51,1388.71 \n",
       "  \"/>\n",
       "<polygon clip-path=\"url(#clip4602)\" points=\"\n",
       "1973.5,1388.71 1973.5,1388.71 2060.5,1388.71 2060.5,1388.71 1973.5,1388.71 1973.5,1388.71 \n",
       "  \" fill=\"#009af9\" fill-rule=\"evenodd\" fill-opacity=\"1\"/>\n",
       "<polyline clip-path=\"url(#clip4602)\" style=\"stroke:#000000; stroke-width:4; stroke-opacity:1; fill:none\" points=\"\n",
       "  1973.5,1388.71 1973.5,1388.71 2060.5,1388.71 1973.5,1388.71 \n",
       "  \"/>\n",
       "<polygon clip-path=\"url(#clip4602)\" points=\"\n",
       "2060.5,1388.71 2060.5,1388.71 2147.49,1388.71 2147.49,1388.71 2060.5,1388.71 2060.5,1388.71 \n",
       "  \" fill=\"#009af9\" fill-rule=\"evenodd\" fill-opacity=\"1\"/>\n",
       "<polyline clip-path=\"url(#clip4602)\" style=\"stroke:#000000; stroke-width:4; stroke-opacity:1; fill:none\" points=\"\n",
       "  2060.5,1388.71 2060.5,1388.71 2147.49,1388.71 2060.5,1388.71 \n",
       "  \"/>\n",
       "<polygon clip-path=\"url(#clip4602)\" points=\"\n",
       "2147.49,1344.78 2147.49,1388.71 2234.48,1388.71 2234.48,1344.78 2147.49,1344.78 2147.49,1344.78 \n",
       "  \" fill=\"#009af9\" fill-rule=\"evenodd\" fill-opacity=\"1\"/>\n",
       "<polyline clip-path=\"url(#clip4602)\" style=\"stroke:#000000; stroke-width:4; stroke-opacity:1; fill:none\" points=\"\n",
       "  2147.49,1344.78 2147.49,1388.71 2234.48,1388.71 2234.48,1344.78 2147.49,1344.78 \n",
       "  \"/>\n",
       "<polygon clip-path=\"url(#clip4600)\" points=\"\n",
       "1989.93,326.155 2280.76,326.155 2280.76,205.195 1989.93,205.195 \n",
       "  \" fill=\"#ffffff\" fill-rule=\"evenodd\" fill-opacity=\"1\"/>\n",
       "<polyline clip-path=\"url(#clip4600)\" style=\"stroke:#000000; stroke-width:4; stroke-opacity:1; fill:none\" points=\"\n",
       "  1989.93,326.155 2280.76,326.155 2280.76,205.195 1989.93,205.195 1989.93,326.155 \n",
       "  \"/>\n",
       "<polygon clip-path=\"url(#clip4600)\" points=\"\n",
       "2013.93,289.867 2157.93,289.867 2157.93,241.483 2013.93,241.483 2013.93,289.867 \n",
       "  \" fill=\"#009af9\" fill-rule=\"evenodd\" fill-opacity=\"1\"/>\n",
       "<polyline clip-path=\"url(#clip4600)\" style=\"stroke:#000000; stroke-width:4; stroke-opacity:1; fill:none\" points=\"\n",
       "  2013.93,289.867 2157.93,289.867 2157.93,241.483 2013.93,241.483 2013.93,289.867 \n",
       "  \"/>\n",
       "<g clip-path=\"url(#clip4600)\">\n",
       "<text style=\"fill:#000000; fill-opacity:1; font-family:Arial,Helvetica Neue,Helvetica,sans-serif; font-size:48px; text-anchor:start;\" transform=\"rotate(0, 2181.93, 283.175)\" x=\"2181.93\" y=\"283.175\">y1</text>\n",
       "</g>\n",
       "</svg>\n"
      ]
     },
     "execution_count": 19,
     "metadata": {},
     "output_type": "execute_result"
    }
   ],
   "source": [
    "histogram(chain, \n",
    "title  = \"Posterior distribution of Sigma Beta \",\n",
    "ylabel = \"Frequency\",\n",
    "xlabel = \"Sigma Beta\"\n",
    ")"
   ]
  }
 ],
 "metadata": {
  "kernelspec": {
   "display_name": "Julia 1.1.0",
   "language": "julia",
   "name": "julia-1.1"
  },
  "language_info": {
   "file_extension": ".jl",
   "mimetype": "application/julia",
   "name": "julia",
   "version": "1.1.0"
  }
 },
 "nbformat": 4,
 "nbformat_minor": 2
}
