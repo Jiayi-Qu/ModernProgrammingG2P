{
 "cells": [
  {
   "cell_type": "markdown",
   "metadata": {},
   "source": [
    "Latex Macros:\n",
    "$$\n",
    "\\newcommand{\\E}{\\text{E}}\n",
    "\\newcommand{\\mbf}{\\mathbf}\n",
    "\\newcommand{\\bs}{\\boldsymbol}\n",
    "\\newcommand{\\Cov}{\\text{Cov}}\n",
    "\\newcommand{\\Var}{\\text{Var}}\n",
    "\\newcommand{\\Cov}{\\text{Cov}}\n",
    "\\newcommand{\\A}[1]{\\mathbf{A}_{#1}}\n",
    "\\newcommand{\\Ai}[1]{\\mathbf{A}^{#1}}\n",
    "$$"
   ]
  },
  {
   "cell_type": "code",
   "execution_count": null,
   "metadata": {},
   "outputs": [],
   "source": [
    "macro javascript_str(s) display(\"text/javascript\", s); end\n",
    "javascript\"\"\"\n",
    "    MathJax.Hub.Config({\n",
    "      TeX: { equationNumbers: { autoNumber: \"AMS\" } }\n",
    "    });\n",
    "    MathJax.Hub.Queue( \n",
    "        [\"resetEquationNumbers\",MathJax.InputJax.TeX], \n",
    "        [\"PreProcess\",MathJax.Hub], \n",
    "        [\"Reprocess\",MathJax.Hub] \n",
    "    );\n",
    "\"\"\""
   ]
  },
  {
   "cell_type": "markdown",
   "metadata": {},
   "source": [
    "Mixed Linear Model\n",
    "======================================="
   ]
  },
  {
   "cell_type": "markdown",
   "metadata": {},
   "source": [
    "Consider the mixed linear model\n",
    "\n",
    "\\begin{equation}\n",
    "\\mathbf{y} = \\mathbf{X}\\boldsymbol{\\beta} + \\mathbf{Zu} + \\mathbf{e}, \n",
    "\\label{eq.mixedModel}\n",
    "\\end{equation}"
   ]
  },
  {
   "cell_type": "markdown",
   "metadata": {},
   "source": [
    "where $\\boldsymbol{\\beta}$ is a vector of fixed effects, $\\mathbf{X}$ is an observed matrix that relates $\\boldsymbol{\\beta}$ to $\\mathbf{y}$, $\\mathbf{u}$ is a vector of multivariate normal random effects with null means and covariance matrix $\\mathbf{G}\\sigma^2_u$, and $\\mathbf{e}$ is a vector of multivariate normal residuals with null means and covariance matrix $\\mathbf{R}\\sigma^2_e$. The fixed effects are usually assigned a flat prior distribution, and the matrices $\\mathbf{G}$ and $\\mathbf{R}$ are assumed to be known. The variance components $\\sigma^2_u$ and $\\sigma^2_e$ will be assigned scaled inverted chi-square prior distributions with scale parameter $S_{u}^{2}$ and degrees of freedom $\\nu_{u}$ for $\\sigma^2_u$ and parameters $S_{e}^{2}$ and $\\nu_{e}$ for $\\sigma^2_e$. As described in Sorensen and Gianola (2002), the Gibbs sampler can be used to construct a Markov chain that has the posterior for the unknowns in the model as its stationary distribution. This is accomplished be sampling from the full-conditional posteriors of the unknowns. The derivations presented below closely follow those in Sorensen and Gianola (2002).  "
   ]
  },
  {
   "cell_type": "markdown",
   "metadata": {},
   "source": [
    "Then, the joint\n",
    "posterior for all the unknowns, denoted by $\\boldsymbol{\\theta}$, is"
   ]
  },
  {
   "cell_type": "markdown",
   "metadata": {},
   "source": [
    "\\begin{align}\n",
    "f(\\boldsymbol{\\theta}|\\mathbf{y}) \n",
    "& \\propto f(\\mathbf{y}|\\boldsymbol{\\theta})f(\\boldsymbol{\\theta})\\\\\n",
    "& \\propto \\left(\\sigma_{e}^{2}\\right)^{-n/2}\n",
    "\\exp\\left\\{ \n",
    "-\\frac{(\\mathbf{y} - \\mathbf{X}\\boldsymbol{\\beta} - \\mathbf{Zu})'\\mathbf{R}^{-1} \n",
    "       (\\mathbf{y} - \\mathbf{X}\\boldsymbol{\\beta} - \\mathbf{Zu})}{2\\sigma_{e}^{2}}\n",
    "\\right\\} \\\\\n",
    "& \\times \\left(\\sigma_{u}^{2}\\right)^{-k/2}\n",
    "\\exp \\left\\{ \n",
    "-\\frac{\\mathbf{u}'\\mathbf{G}^{-1}\\mathbf{u}}\n",
    "      {2\\sigma_{u}^{2}}\n",
    "\\right\\} \\label{eq:prioru} \\\\ \n",
    "& \\times (\\sigma_{u}^{2})^{-(2+\\nu_{u})/2}\\exp\\left\\{ -\\frac{\\nu_{u}S_{u}^{2}}{2\\sigma_{u}^{2}}\\right\\} \\label{eq:priorSigmau} \\\\ \n",
    "& \\times (\\sigma_{e}^{2})^{-(2+\\nu_{e})/2}\\exp\\left\\{ -\\frac{\\nu_{e}S_{e}^{2}}{2\\sigma_{e}^{2}}\\right\\} . \n",
    "\\end{align}"
   ]
  },
  {
   "cell_type": "markdown",
   "metadata": {},
   "source": [
    "### Full-conditional posterior for location parameters\n",
    "We show below that the full-conditional distribution for the location parameters in the model, $\\boldsymbol{\\theta}_1' = [\\boldsymbol{\\beta}', \\mathbf{u}']$, is normal with mean given by the solution to:\n",
    "\n",
    "\\begin{equation}\n",
    "\\begin{bmatrix}\n",
    "\\mathbf{X}'\\mathbf{R}^{-1}\\mathbf{X} & \\mathbf{X}'\\mathbf{R}^{-1}\\mathbf{Z} \\\\\n",
    "\\mathbf{Z}'\\mathbf{R}^{-1}\\mathbf{X} & \\mathbf{Z}'\\mathbf{R}^{-1}\\mathbf{Z} + \\frac{\\sigma_{e}^{2}}{\\sigma_u^2}\\mathbf{G}^{-1}\n",
    "\\end{bmatrix}\n",
    "\\begin{bmatrix}\n",
    "\\hat{\\bs{\\beta}}\\\\\n",
    "\\hat{\\mbf{u}}\n",
    "\\end{bmatrix}\n",
    "=\n",
    "\\begin{bmatrix}\n",
    "\\mathbf{X}'\\mathbf{R}^{-1}\\mathbf{y}\\\\\n",
    "\\mathbf{Z}'\\mathbf{R}^{-1}\\mathbf{y}\n",
    "\\end{bmatrix},\n",
    "\\label{eq.MME}\n",
    "\\end{equation}\n",
    "\n",
    "and variance-covariance matrix given by the inverse of the coefficient matrix of (\\ref{eq.MME}).\n",
    "\n",
    "For convenience, we will write the above equation as:\n",
    "$$\n",
    "(\\mathbf{W}'\\mathbf{R}^{-1}\\mathbf{W} + \\frac{\\sigma_{e}^{2}}{\\sigma_u^2}\\mathbf{D})\\hat{\\bs{\\theta}}_1=\\mathbf{W}'\\mathbf{R}^{-1}\\mathbf{y},\n",
    "$$"
   ]
  },
  {
   "cell_type": "markdown",
   "metadata": {},
   "source": [
    "where $\\mathbf{W} = \\begin{bmatrix}\\mathbf{X} & \\mathbf{Z}\\end{bmatrix}$ and $\\mathbf{D}$ is a block diagonal matrix that adds zero to the diagonals of $\\mathbf{X}'\\mathbf{R}^{-1}\\mathbf{X}$ \n",
    "and $\\mathbf{G}^{-1}$ to $\\mathbf{Z}'\\mathbf{R}^{-1}\\mathbf{Z}$. "
   ]
  },
  {
   "cell_type": "markdown",
   "metadata": {},
   "source": [
    "The full-conditional posterior for $\\bs{\\theta}_1$ is "
   ]
  },
  {
   "cell_type": "markdown",
   "metadata": {},
   "source": [
    "$$\\begin{aligned}\n",
    "f(\\boldsymbol{\\theta}_1|\\text{ELSE})\n",
    "&  =\\frac{f(\\mathbf{y}|\\boldsymbol{\\theta}_1,\\sigma_{u}^{2},\\sigma_{e}^{2})f(\\mathbf{u}|\\sigma_{u}^{2})f(\\sigma_{u}^{2})f(\\sigma_{e}^{2})}{f(\\mathbf{y},\\sigma_{u}^{2},\\sigma_{e}^{2})}\\\\ \n",
    "& \\propto f(\\mathbf{y}|\\boldsymbol{\\theta}_1,\\sigma_{u}^{2},\\sigma_{e}^{2})f(\\mathbf{u}|\\sigma_{u}^{2})\\\\\n",
    "& \\propto \\left(\\sigma_{e}^{2}\\right)^{-n/2}\n",
    "\\exp\\left\\{ \n",
    "-\\frac{(\\mathbf{y}-\\mathbf{\\mathbf{W}}\\boldsymbol{\\theta}_1)'\\mathbf{R}^{-1}(\\mathbf{y}-\\mathbf{W}\\boldsymbol{\\theta}_1)}\n",
    "      {2\\sigma_{e}^{2}}\\right\\} \\\\\n",
    "& \\times \\left(\\sigma_u^2\\right)^{-k/2}\n",
    "\\exp\\left\\{ \n",
    "-\\frac{\\mathbf{u}'\\mathbf{G}^{-1}\\mathbf{u}}\n",
    "      {2\\sigma_{u}^{2}}\n",
    "\\right\\} \\\\\n",
    "& \\propto \\exp\\left\\{ -\\frac{(\\mathbf{y}-\\mathbf{\\mathbf{W}}\\boldsymbol{\\theta}_1)'\\mathbf{R}^{-1}(\\mathbf{y}-\\mathbf{W}\\boldsymbol{\\theta}_1)+\n",
    "\\frac{\\sigma_e^2}{\\sigma_u^2}\\mathbf{u}'\\mathbf{G}^{-1}\\mathbf{u}}{2\\sigma_{e}^{2}}\\right\\} \\\\\n",
    "& \\propto \\exp\\left\\{ -\\frac{\\mathbf{y}'\\mathbf{R}^{-1}\\mathbf{y}-2\\mathbf{y}'\\mathbf{R}^{-1}\\mathbf{W}\\boldsymbol{\\theta}_1\n",
    "+\\bs{\\theta}_1'(\\mathbf{W}'\\mathbf{R}^{-1}\\mathbf{W}+\\frac{\\sigma_{e}^{2}}{\\sigma_u^2}\\mathbf{D})\\boldsymbol{\\theta}_1}{2\\sigma_{e}^{2}}\\right\\} \\\\\n",
    "& \\propto  \n",
    "\\exp\\left\\{ -\\frac{\\mathbf{y}'\\mathbf{R}^{-1}\\mathbf{y} -\n",
    "(\\bs{\\theta}_1 - \\hat{\\bs{\\theta}}_1)'(\\mathbf{W}'\\mathbf{R}^{-1}\\mathbf{W} \n",
    "+ \\frac{\\sigma_e^2}{\\sigma_u^2}\\mathbf{D})(\\bs{\\theta}_1 - \\hat{\\bs{\\theta}}_1) - \\hat{\\bs{\\theta}}_1'(\\mathbf{W}'\\mathbf{R}^{-1}\\mathbf{W} + \\frac{\\sigma_e^2}{\\sigma^2_u}\\mathbf{D})\\hat{\\bs{\\theta}}_1}{2\\sigma^2_e}\\right\\} \\\\\n",
    "& \\propto  \\exp\\left\\{ -\\frac{(\\bs{\\theta}_1 - \\hat{\\bs{\\theta}}_1)'(\\mathbf{W}'\\mathbf{R}^{-1}\\mathbf{W} \n",
    "+ \\frac{\\sigma_e^2}{\\sigma_u^2}\\mathbf{D})(\\bs{\\theta}_1 - \\hat{\\bs{\\theta}}_1)}{2\\sigma_{e}^{2}}\\right\\} ,\n",
    "\\end{aligned}$$"
   ]
  },
  {
   "cell_type": "markdown",
   "metadata": {},
   "source": [
    "which can be recognized as a normal distribution with mean $\\hat{\\bs{\\theta}}_1$ and covariance matrix $(\\mathbf{W}'\\mathbf{R}^{-1}\\mathbf{W} + \\frac{\\sigma_{e}^{2}}{\\sigma_u^2}\\mathbf{D})^{-1}\\sigma^2_e$, assuming that $(\\mathbf{W}'\\mathbf{R}^{-1}\\mathbf{W} + \\frac{\\sigma_{e}^{2}}{\\sigma_u^2}\\mathbf{D})$ is non-singular."
   ]
  },
  {
   "cell_type": "markdown",
   "metadata": {},
   "source": [
    "### Full-conditional posteriors for $\\sigma^2_u$ and $\\sigma^2_e$ "
   ]
  },
  {
   "cell_type": "markdown",
   "metadata": {},
   "source": [
    "In the joint posterior, $\\sigma^2_u$ appears only the density of $\\mbf{u}$  (\\ref{eq:prioru}) and in its scaled inverted chi-square prior (\\ref{eq:priorSigmau}). Thus, the full-conditional posterior for $\\sigma^2_u$ is:"
   ]
  },
  {
   "cell_type": "markdown",
   "metadata": {},
   "source": [
    "\\begin{align}\n",
    "f(\\sigma^2_u|\\text{ELSE}) \n",
    "&\\propto \n",
    "(\\sigma_{u}^{2})^{-k/2}\n",
    "\\exp \\left\\{  -\\frac{\\mathbf{u}'\\mathbf{G}^{-1}\\mathbf{u}}{2\\sigma_{u}^{2}} \\right\\} \\\\\n",
    "& \\times\n",
    "(\\sigma_{u}^{2})^{-(2+\\nu_{u})/2}\n",
    "\\exp\\left\\{ -\\frac{\\nu_{u}S_{u}^{2}}{2\\sigma_{u}^{2}}\\right\\}\\\\\n",
    "&\\propto \n",
    "(\\sigma_{u}^{2})^{-(2 + \\nu_u + k)/2} \n",
    "\\exp\\left\\{-\\frac{\\mbf{u}'\\mbf{G}^{-1}\\mbf{u} + \\nu_uS_u^2}{2\\sigma^2_u}\\right\\},\n",
    "\\end{align}"
   ]
  },
  {
   "cell_type": "markdown",
   "metadata": {},
   "source": [
    "which can be recognized as having the form of a scaled inverted chi-square distribution with degrees of freedom $\\tilde{\\nu}_u = \\nu + k$ and scale parameter:\n",
    "\n",
    "$$\n",
    "\\tilde{S}^2_u = (\\mbf{u}'\\mbf{G}^{-1}\\mbf{u} + \\nu_uS_u^2)/\\tilde{\\nu}_u.\n",
    "$$ \n",
    "\n",
    "A random variable from this distribution can be obtained as: $\\frac{(\\mbf{u}'\\mbf{G}^{-1}\\mbf{u} + \\nu_uS_u^2)}{\\chi^2(\\tilde{\\nu}_u)}$, where $\\chi^2(\\tilde{\\nu}_u)$ is a chi-square random variable with $\\tilde{\\nu}_u$ degrees of freedom.\n",
    "\n",
    "Similarly, it can be shown that the full-conditional distribution for $\\sigma^2_e$ is a scaled inverted chi-square with degrees of freedom $\\tilde{\\nu}_e = n + \\nu_e$ and scale parameter:\n",
    "\n",
    "$$\n",
    "\\tilde{S}^2_e = \n",
    "      \\frac{(\\mathbf{y} - \\mathbf{X}\\boldsymbol{\\beta} - \\mathbf{Zu})'\\mathbf{R}^{-1} \n",
    "       (\\mathbf{y} - \\mathbf{X}\\boldsymbol{\\beta} - \\mathbf{Zu}) + \\nu_eS_e^2}{\\tilde{\\nu}_e}.\n",
    "$$"
   ]
  },
  {
   "cell_type": "markdown",
   "metadata": {},
   "source": [
    "### Full-conditional posteriors for $\\mathbf{G}_0$ and $\\mathbf{R}_0$ "
   ]
  },
  {
   "cell_type": "markdown",
   "metadata": {},
   "source": [
    "Suppose the covariance matrix of $\\mbf{u}$ can be written as:\n",
    "\\begin{align}\n",
    "\\Var(\\mbf{u})\n",
    "              &=\\mbf{G}_0 \\otimes \\mbf{A} \\\\\n",
    "              &= \\begin{bmatrix}\n",
    "                  g_{011}\\mbf{A} & \\cdots & g_{01m}\\mbf{A} \\\\\n",
    "                  \\vdots         & \\ddots & \\vdots         \\\\\n",
    "                  g_{0m}\\mbf{A} & \\cdots & g_{0mm}\\mbf{A}\n",
    "                 \\end{bmatrix},             \n",
    "\\end{align}\n",
    "where $\\mbf{G}_0$ and $\\mbf{A}$ are positive definite matricies, and $g_{0ij}$ denotes the element from row $i$ and column $j$ of $\\mbf{G}_0$."
   ]
  },
  {
   "cell_type": "markdown",
   "metadata": {},
   "source": [
    "Then, the mutivariate normal prior for $\\mbf{u}$ is:\n",
    "\\begin{align}\n",
    "f(\\mbf{u}|\\mbf{G}_0) &\\propto |\\mbf{G}_0|^{-k/2}\n",
    "\\exp\\left\\{-\\frac{1}{2}\\mbf{u}'\\mbf{G}^{-1}\\mbf{u} \\right\\} \\\\\n",
    "&\\propto |\\mbf{G}_0|^{-k/2}\n",
    "\\exp\\left\\{-\\frac{1}{2}\\mbf{u}'(\\mbf{G}_0\\otimes\\mbf{A})^{-1}\\mbf{u}\\right\\} \\\\\n",
    "&\\propto |\\mbf{G}_0|^{-k/2}\n",
    "\\exp\\left\\{-\\frac{1}{2}\\mbf{u}'(\\mbf{G}_0^{-1}\\otimes\\mbf{A}^{-1})\\mbf{u}\\right\\} \\\\\n",
    "&\\propto |\\mbf{G}_0|^{-k/2}\n",
    "\\exp\\left\\{-\\frac{1}{2}\n",
    "\\begin{bmatrix} \\mbf{u}_1 & \\mbf{u}_2 &\\cdots &\\mbf{u}_m \\end{bmatrix}\n",
    "\\begin{bmatrix}\n",
    "  g_0^{11}\\mbf{A}^{-1} & \\cdots & g_0^{1m}\\mbf{A}^{-1} \\\\\n",
    "  \\vdots         & \\ddots & \\vdots         \\\\\n",
    "  g_0^{1m}\\mbf{A}^{-1} & \\cdots & g_0^{mm}\\mbf{A}^{-1}\n",
    "\\end{bmatrix}\n",
    "\\begin{bmatrix}\n",
    "\\mbf{u}_1\\\\\n",
    "\\mbf{u}_2\\\\\n",
    "\\vdots\\\\\n",
    "\\mbf{u}_m\n",
    "\\end{bmatrix}\n",
    "\\right\\}\\\\\n",
    "&\\propto |\\mbf{G}_0|^{-k/2}\n",
    "\\exp\\left\\{ \n",
    "-\\frac{1}{2}\\sum_{ij} g_0^{ij}\\mbf{u}_i'\\mbf{A}^{-1}\\mbf{u}_j\n",
    "\\right\\}\\\\\n",
    "&\\propto |\\mbf{G}_0|^{-k/2}\n",
    "\\exp\\left\\{ \n",
    "-\\frac{1}{2}\\sum_{ij} g_0^{ij}s_{ij}\n",
    "\\right\\}\\\\\n",
    "&\\propto |\\mbf{G}_0|^{-k/2}\n",
    "\\exp\\left\\{ \n",
    "-\\frac{1}{2}\\text{tr}(\\mbf{G}_0^{-1}\\mbf{S})\n",
    "\\right\\}, \\label{eq:priorG0}\n",
    "\\end{align}"
   ]
  },
  {
   "cell_type": "markdown",
   "metadata": {},
   "source": [
    "where the $\\mbf{S} = \\{s_{ij} = \\mbf{u}_i'\\mbf{A}^{-1}\\mbf{u}_j\\}$. In this prior, the matrix $\\mbf{A}$ is assumed to be known, and the matrix $\\mbf{G}_0$ may be considered unknown with a scaled inverted Wishart prior:"
   ]
  },
  {
   "cell_type": "markdown",
   "metadata": {},
   "source": [
    "$$\n",
    "f(\\mbf{G}_0|\\nu_u,\\mbf{V_u}) \\propto |\\mbf{G}_0|^{-(\\nu_u+m+2)/2}\n",
    "\\exp\\left\\{\n",
    "-\\frac{1}{2}\\text{tr}(\\mbf{G}_0^{-1}\\mbf{V}_u)\n",
    "\\right\\},\n",
    "$$\n",
    "\n",
    "where $\\nu_u$ and $\\mbf{V}_u$ are the degrees of freedom and scale matrix of this prior. The scale matrix $\\mbf{V}_u$ in this prior is the inverse of the scale matrix in Sorensen and Gianola (2002). The parameterization presented here is that used in the Julia Distributions package.  Combining this prior with (\\ref{eq:priorG0}) gives full-conditional posterior for $\\mbf{G}_0$: "
   ]
  },
  {
   "cell_type": "markdown",
   "metadata": {},
   "source": [
    "\\begin{align}\n",
    "f(\\mbf{G}_0|\\text{ELSE}) &\\propto \n",
    "|\\mbf{G}_0|^{-k/2}\n",
    "\\exp\\left\\{ \n",
    "-\\frac{1}{2}\\text{tr}(\\mbf{G}_0^{-1}\\mbf{S})\n",
    "\\right\\} \\\\\n",
    "&\\times\n",
    "|\\mbf{G}_0|^{-(\\nu_u+m+2)/2}\n",
    "\\exp\\left\\{\n",
    "-\\frac{1}{2}\\text{tr}(\\mbf{G}_0^{-1}\\mbf{V}_u)\n",
    "\\right\\}\\\\\n",
    "&\\propto\n",
    "|\\mbf{G}_0|^{-(\\nu_u+m + k +2)/2}\n",
    "\\exp\\left\\{\n",
    "-\\frac{1}{2}\\text{tr}[\\mbf{G}_0^{-1}(\\mbf{V}_u + \\mbf{S})]\n",
    "\\right\\},\n",
    "\\end{align}"
   ]
  },
  {
   "cell_type": "markdown",
   "metadata": {},
   "source": [
    "which can be recognized as an inverted Wishart distribution with $\\tilde{\\nu}_u = (\\nu_u+k)$ degrees of freemom and scale matrix $\\tilde{\\mbf{V}}_u = (\\mbf{V}_u + \\mbf{S})$."
   ]
  },
  {
   "cell_type": "markdown",
   "metadata": {},
   "source": [
    "Similarly, it can be shown that the full-conditional posterior for $\\mbf{R}_0$ is a scaled inverted Wishart distribution with $\\tilde{\\nu}_e = (\\nu_e + n)$ degrees of freedom and scale matrix $\\tilde{\\mbf{V}}_e = (\\mbf{V}_e + \\mbf{S}_e)$, when the residual covariance matrix has the form:"
   ]
  },
  {
   "cell_type": "markdown",
   "metadata": {},
   "source": [
    "\\begin{align}\n",
    "\\Var(\\mbf{e}) &= \\mbf{R}_0 \\otimes \\mbf{I},\n",
    "\\end{align}"
   ]
  },
  {
   "cell_type": "markdown",
   "metadata": {},
   "source": [
    "where $\\mbf{R}_0$ is an $m \\times m$ positive definite matrix, $\\mbf{I}$ is an $n\\times n$ identity matrix, $\\mbf{S}_e = \\{\\mbf{e}_i'\\mbf{e}_j \\}$, and $\\nu_e$ and $\\mbf{V}_e$ are the hyperparameters of the scaled inverted Wishart prior for $\\mbf{R}_0$."
   ]
  },
  {
   "cell_type": "markdown",
   "metadata": {},
   "source": [
    "## Breeding value model (pedigree based)"
   ]
  },
  {
   "cell_type": "markdown",
   "metadata": {},
   "source": [
    "Suppose that $\\mbf{u}$ in (\\ref{eq.mixedModel}) is a vector of breeding values. Then, given a pedigree $\\mbf{P}$ for the individuals, the covariance matrix of $\\mbf{u}$ is"
   ]
  },
  {
   "cell_type": "markdown",
   "metadata": {},
   "source": [
    "$$\n",
    "\\Var(\\mbf{u}|\\mbf{P}) = \\mbf{A}\\sigma^2_a,\n",
    "$$\n",
    "\n",
    "where $\\mbf{A}$ is the additive genetic relationship matrix and $\\sigma^2_a$ is the additive genetic variance."
   ]
  },
  {
   "cell_type": "markdown",
   "metadata": {},
   "source": [
    "## Genomic Models"
   ]
  },
  {
   "cell_type": "markdown",
   "metadata": {},
   "source": [
    "Suppose SNP genotypes are available on each of the $n$ individuals at $k$ loci. Let $\\mbf{M}$ denote the $n\\times k$ matrix of SNP genotype covariates and $\\bs{\\alpha}$ denote their effects. Although from a frequentist point of view $\\bs{\\alpha}$ is a fixed effect, for Bayesian analyses, $\\bs{\\alpha}$ is often assigned a normal prior with null mean and covariance matrix: $\\Var(\\bs{\\alpha}) = \\mbf{I}\\sigma^2_{\\alpha}$. Then, the breeding values can be modeled as: "
   ]
  },
  {
   "cell_type": "markdown",
   "metadata": {},
   "source": [
    "\\begin{equation*}\n",
    "\\mbf{u} = \\mbf{M}\\bs{\\alpha}.\n",
    "\\end{equation*}"
   ]
  },
  {
   "cell_type": "markdown",
   "metadata": {},
   "source": [
    "Assuming that the $\\mbf{Z}$ matrix in (\\ref{eq.mixedModel}) is an identity matrix, the model for the phenotypes can be wrtten as either:"
   ]
  },
  {
   "cell_type": "markdown",
   "metadata": {},
   "source": [
    "\\begin{equation}\n",
    "\\mathbf{y} = \\mathbf{X}\\boldsymbol{\\beta} + \\mathbf{M}\\bs{\\alpha} + \\mathbf{e},\n",
    "\\label{eq.MEM}\n",
    "\\end{equation}"
   ]
  },
  {
   "cell_type": "markdown",
   "metadata": {},
   "source": [
    "or as "
   ]
  },
  {
   "cell_type": "markdown",
   "metadata": {},
   "source": [
    "\\begin{equation}\n",
    "\\mathbf{y} = \\mathbf{X}\\boldsymbol{\\beta} + \\mbf{u} + \\mathbf{e}.\n",
    "\\label{eq.BVM}\n",
    "\\end{equation}"
   ]
  },
  {
   "cell_type": "markdown",
   "metadata": {},
   "source": [
    "In (\\ref{eq.BVM}), conditional on the SNP genotypes, the covariance matrix of $\\mbf{u}$ is: "
   ]
  },
  {
   "cell_type": "markdown",
   "metadata": {},
   "source": [
    "$$\n",
    "\\begin{align}\n",
    "\\Var(\\mbf{u}|\\mbf{M}) &= \\mbf{MM}'\\sigma^2_{\\alpha}\\\\\n",
    "                      &= \\frac{\\mbf{MM}'}{k\\overline{2pq}}k\\overline{2pq}\\sigma^2_{\\alpha}\\\\\n",
    "                      &= \\mbf{G}\\sigma^2_u,\n",
    "\\end{align}\n",
    "$$\n",
    "\n",
    "where $\\mbf{G} = \\frac{\\mbf{MM}'}{k\\overline{2pq}}$ and $\\sigma^2_u = k\\overline{2pq}\\sigma^2_{\\alpha}$. The model given by (\\ref{eq.BVM}) is a genomic breeding value model. "
   ]
  },
  {
   "cell_type": "markdown",
   "metadata": {},
   "source": [
    "Assuming, for simplicity that $\\mbf{R} = \\mbf{I}$, mixed model equations (MME) that correspend to model (\\ref{eq.MEM}) is:"
   ]
  },
  {
   "cell_type": "markdown",
   "metadata": {},
   "source": [
    "\\begin{equation}\n",
    "\\begin{bmatrix}\n",
    "\\mathbf{X}'\\mathbf{X} & \\mathbf{X}'\\mathbf{M} \\\\\n",
    "\\mathbf{M}'\\mathbf{X} & \\mathbf{M}'\\mathbf{M} + \\frac{\\sigma_{e}^{2}}{\\sigma_{\\alpha}^2}\\mathbf{I}\n",
    "\\end{bmatrix}\n",
    "\\begin{bmatrix}\n",
    "\\hat{\\bs{\\beta}}\\\\\n",
    "\\hat{\\bs{\\alpha}}\n",
    "\\end{bmatrix}\n",
    "=\n",
    "\\begin{bmatrix}\n",
    "\\mathbf{X}'\\mathbf{y}\\\\\n",
    "\\mathbf{M}'\\mathbf{y}\n",
    "\\end{bmatrix},\n",
    "\\label{eq.MMEMEM}\n",
    "\\end{equation}"
   ]
  },
  {
   "cell_type": "markdown",
   "metadata": {},
   "source": [
    "and the MME corresponding to (\\ref{eq.BVM}) is:"
   ]
  },
  {
   "cell_type": "markdown",
   "metadata": {},
   "source": [
    "\\begin{equation}\n",
    "\\begin{bmatrix}\n",
    "\\mathbf{X}'\\mathbf{X} & \\mathbf{X}' \\\\\n",
    "\\mathbf{X} & \\mathbf{I} + \\frac{\\sigma_{e}^{2}}{\\sigma_u^2}\\mathbf{G}^{-1}\n",
    "\\end{bmatrix}\n",
    "\\begin{bmatrix}\n",
    "\\hat{\\bs{\\beta}}\\\\\n",
    "\\hat{\\mbf{u}}\n",
    "\\end{bmatrix}\n",
    "=\n",
    "\\begin{bmatrix}\n",
    "\\mathbf{X}'\\mathbf{y}\\\\\n",
    "\\mathbf{y}\n",
    "\\end{bmatrix},\n",
    "\\label{MMEBVM}\n",
    "\\end{equation}"
   ]
  },
  {
   "cell_type": "markdown",
   "metadata": {},
   "source": [
    "where $\\mbf{G} = \\frac{\\mbf{MM}'}{k\\overline{2pq}}$ and $\\sigma^2_u = k\\overline{2pq}\\sigma^2_{\\alpha}$."
   ]
  }
 ],
 "metadata": {
  "kernelspec": {
   "display_name": "Julia 1.1.0",
   "language": "julia",
   "name": "julia-1.1"
  },
  "language": "Julia",
  "language_info": {
   "file_extension": ".jl",
   "mimetype": "application/julia",
   "name": "julia",
   "version": "1.1.0"
  }
 },
 "nbformat": 4,
 "nbformat_minor": 2
}
