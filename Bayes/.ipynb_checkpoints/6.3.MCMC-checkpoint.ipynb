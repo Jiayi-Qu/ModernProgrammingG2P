{
 "cells": [
  {
   "cell_type": "markdown",
   "metadata": {},
   "source": [
    "Markov Chain Monte-Carlo Methods\n",
    "================================\n",
    "\n",
    "-   Often no closed form for\n",
    "    $f({\\boldsymbol \\theta}|{\\boldsymbol y})$\n",
    "\n",
    "-   Further, even if computing\n",
    "    $f({\\boldsymbol \\theta}|{\\boldsymbol y})$\n",
    "    is feasible, obtaining\n",
    "    $f(\\theta_{i}|{\\boldsymbol y})$ would require\n",
    "    integrating over many dimensions\n",
    "\n",
    "-   Thus, in many situations, inferences are made using the empirical\n",
    "    posterior constructed by drawing samples from\n",
    "    $f({\\boldsymbol \\theta}|{\\boldsymbol y})$\n",
    "\n",
    "-   Gibbs sampler is widely used for drawing samples from posteriors\n",
    "\n",
    "Gibbs Sampler\n",
    "-------------\n",
    "\n",
    "-   Want to draw samples from $f(x_{1},x_{2},\\ldots,x_{n})$\n",
    "\n",
    "-   Even though it may be possible to compute\n",
    "    $f(x_{1},x_{2},\\ldots,x_{n})$, it is difficult to draw samples\n",
    "    directly from $f(x_{1},x_{2},\\ldots,x_{n})$\n",
    "\n",
    "-   Gibbs:\n",
    "\n",
    "    -   Get valid a starting point $\\mathbf{x}^{0}$\n",
    "\n",
    "    -   Draw sample $\\mathbf{x}^{t}$ as:\n",
    "        $$\\begin{matrix}x_{1}^{t} & \\text{from} & f(x_{1}|x_{2}^{t-1},x_{3}^{t-1},\\ldots,x_{n}^{t-1})\\\\\n",
    "        x_{2}^{t} & \\text{from} & f(x_{2}|x_{1}^{t},x_{3}^{t-1},\\ldots,x_{n}^{t-1})\\\\\n",
    "        x_{3}^{t} & \\text{from} & f(x_{3}|x_{1}^{t},x_{2}^{t},\\ldots,x_{n}^{t-1})\\\\\n",
    "        \\vdots &  & \\vdots\\\\\n",
    "        x_{n}^{t} & \\text{from} & f(x_{n}|x_{1}^{t},x_{2}^{t},\\ldots,x_{n-1}^{t})\n",
    "        \\end{matrix}$$\n",
    "\n",
    "-   The sequence\n",
    "    ${\\boldsymbol x}^{1},{\\boldsymbol x}^{2},\\ldots,{\\boldsymbol x}^{n}$\n",
    "    is a Markov chain with stationary distribution\n",
    "    $f(x_{1},x_{2},\\ldots,x_{n})$\n",
    "\n",
    "Making Inferences from Markov Chain\n",
    "-----------------------------------\n",
    "\n",
    "Can show that samples obtained from a <font color='red'>Markov chain</font> can be\n",
    "used to draw inferences from $f(x_{1},x_{2},\\ldots,x_{n})$ provided the\n",
    "chain is:\n",
    "\n",
    "-   <font color='red'>Irreducible</font>: can move from any state $i$ to any other\n",
    "    state $j$\n",
    "\n",
    "-   <font color='red'>Positive recurrent</font>: return time to any state has finite\n",
    "    expectation\n",
    "\n",
    "-   *Markov Chains*, J. R. Norris (1997)"
   ]
  },
  {
   "cell_type": "markdown",
   "metadata": {},
   "source": [
    "## Exercise"
   ]
  },
  {
   "cell_type": "markdown",
   "metadata": {},
   "source": [
    "Let $f(x)$ be a bivariate normal density with means \n"
   ]
  },
  {
   "cell_type": "markdown",
   "metadata": {},
   "source": [
    "$$\n",
    "\\mathbf{\\mu} = \n",
    "\\begin{bmatrix}\n",
    "1\\\\\n",
    "2\\\\\n",
    "\\end{bmatrix}\n",
    "$$\n",
    "\n",
    "and covariance matrix\n",
    "\n",
    "$$\n",
    "\\mathbf{V} = \n",
    "\\begin{bmatrix}\n",
    "1.0 & 0.5\\\\\n",
    "0.5 & 2.0\\\\\n",
    "\\end{bmatrix}\n",
    "$$"
   ]
  },
  {
   "cell_type": "markdown",
   "metadata": {},
   "source": [
    "Suppose we don't know how to draw samples from $f(\\mathbf{x})$, but know how to sample from $f(x_i|x_j)$, which is univariate normal with mean:\n",
    "$$\\mu_{i.j}=\\mu_i+\\frac{V_{ij}}{V_{jj}}(x_j-\\mu_j)$$\n",
    "and variance\n",
    "$$V_{i.j}=V_{ii}-\\frac{V^2_{ij}}{V_{jj}}$$"
   ]
  },
  {
   "cell_type": "markdown",
   "metadata": {},
   "source": [
    "* Gibbs\n",
    "    * Start with $\\mathbf{x}^{0}=\\begin{bmatrix}0\\\\0\\\\\\end{bmatrix}$\n",
    "    * Draw samples $\\mathbf{x}^{t}$ as:\n",
    "        * $x_1^t$ from $f(x_1|x_2^{t-1})$\n",
    "        * $x_2^t$ from $f(x_2|x_1^{t})$\n",
    "    * Use the sequence of $\\mathbf{x}^1,\\mathbf{x}^2,\\cdots,\\mathbf{x}^n$ to compute any property of $\\mathbf{x}$, for example\n",
    "        * $Pr(x_1 > 1 \\text{ and } x_2 > 2)$"
   ]
  },
  {
   "cell_type": "markdown",
   "metadata": {},
   "source": [
    "Suppose we don't know how to draw samples from $f(\\mathbf{x})$, but know how to sample from $f(x_1|x_2)$, which is univariate normal with mean:\n",
    "$$\\mu_{1.2}=\\mu_1+\\frac{V_{12}}{V_{22}}(x_2-\\mu_2)$$\n",
    "and variance\n",
    "$$V_{1.2}=V_{11}-\\frac{V^2_{12}}{V_{22}}$$"
   ]
  },
  {
   "cell_type": "markdown",
   "metadata": {},
   "source": [
    "## Gibbs Sampler"
   ]
  },
  {
   "cell_type": "code",
   "execution_count": 20,
   "metadata": {},
   "outputs": [
    {
     "data": {
      "text/plain": [
       "0.308"
      ]
     },
     "execution_count": 20,
     "metadata": {},
     "output_type": "execute_result"
    }
   ],
   "source": [
    "using Distributions\n",
    "μ = [1.0;2.0]\n",
    "V = [1.0 0.5;0.5 2.0]\n",
    "\n",
    "x     = [0.0;0.0]\n",
    "niter = 50000\n",
    "c     = 0\n",
    "\n",
    "for i in 1:niter\n",
    "    mean12 = μ[1]+V[1,2]/V[2,2]*(x[2]-μ[2])\n",
    "    var12  = V[1,1]-V[1,2]^2/V[2,2]\n",
    "    \n",
    "    x[1] = mean12+randn()*sqrt(var12)\n",
    "    \n",
    "    mean21 = μ[2]+V[2,1]/V[1,1]*(x[1]-μ[1])\n",
    "    var21  = V[2,2]-V[2,1]^2/V[1,1]\n",
    "    \n",
    "    x[2] = mean21+randn()*sqrt(var21)\n",
    "    \n",
    "    if x[1] > 1 && x[2] > 2\n",
    "        c += 1\n",
    "    end\n",
    "end\n",
    "\n",
    "c/niter"
   ]
  },
  {
   "cell_type": "markdown",
   "metadata": {},
   "source": [
    "## Sampling directly from bivariate normal"
   ]
  },
  {
   "cell_type": "code",
   "execution_count": 1,
   "metadata": {},
   "outputs": [
    {
     "data": {
      "text/plain": [
       "0.30674"
      ]
     },
     "execution_count": 1,
     "metadata": {},
     "output_type": "execute_result"
    }
   ],
   "source": [
    "using Distributions\n",
    "μ = [1;2]\n",
    "V = [1.0 0.5;0.5 2.0]\n",
    "\n",
    "x     = [0;0]\n",
    "niter = 50000\n",
    "c     = 0\n",
    "\n",
    "for i in 1:niter\n",
    "    x = rand(MvNormal(μ, V))\n",
    "    if x[1] > 1 && x[2] > 2\n",
    "        c += 1\n",
    "    end\n",
    "end\n",
    "\n",
    "c/niter"
   ]
  }
 ],
 "metadata": {
  "kernelspec": {
   "display_name": "Julia 1.1.0",
   "language": "julia",
   "name": "julia-1.1"
  },
  "language": "Julia",
  "language_info": {
   "file_extension": ".jl",
   "mimetype": "application/julia",
   "name": "julia",
   "version": "1.1.0"
  }
 },
 "nbformat": 4,
 "nbformat_minor": 2
}
