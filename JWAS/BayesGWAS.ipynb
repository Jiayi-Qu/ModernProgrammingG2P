{
 "cells": [
  {
   "cell_type": "code",
   "execution_count": 4,
   "metadata": {},
   "outputs": [
    {
     "name": "stdout",
     "output_type": "stream",
     "text": [
      "\u001b[32m\u001b[1m  Updating\u001b[22m\u001b[39m git-repo `https://github.com/reworkhow/JWAS.jl.git`\n",
      "\u001b[?25l\u001b[2K\u001b[?25h\u001b[32m\u001b[1m Resolving\u001b[22m\u001b[39m package versions...\n",
      "\u001b[32m\u001b[1m  Updating\u001b[22m\u001b[39m `/opt/julia/environments/v1.1/Project.toml`\n",
      "\u001b[90m [no changes]\u001b[39m\n",
      "\u001b[32m\u001b[1m  Updating\u001b[22m\u001b[39m `/opt/julia/environments/v1.1/Manifest.toml`\n",
      "\u001b[90m [no changes]\u001b[39m\n"
     ]
    }
   ],
   "source": [
    "#using Pkg\n",
    "#Pkg.add(PackageSpec(name=\"JWAS\",rev=\"master\"))"
   ]
  },
  {
   "cell_type": "code",
   "execution_count": 20,
   "metadata": {},
   "outputs": [],
   "source": [
    "#Pkg.develop(PackageSpec(path=\"/home/jovyan/rohan/Box Sync/JWAS.jl\"))\n",
    "#Pkg.free(\"JWAS\")\n",
    "#Pkg.add(\"StatsPlots\")"
   ]
  },
  {
   "cell_type": "code",
   "execution_count": 2,
   "metadata": {
    "collapsed": true,
    "jupyter": {
     "outputs_hidden": true
    }
   },
   "outputs": [],
   "source": [
    "using DataFrames              # package for working with data sets\n",
    "using JWAS                    # package for Bayesian regression analyses, including BayesB and BayesCπ        \n",
    "using JWAS:misc               # utility functions\n",
    "using Distributions       \n",
    "using Plots                   # package for plotting \n",
    "using LinearAlgebra,Statistics,Random,DelimitedFiles, DataFrames"
   ]
  },
  {
   "cell_type": "markdown",
   "metadata": {},
   "source": [
    "### Input marker and phenotype data"
   ]
  },
  {
   "cell_type": "code",
   "execution_count": 3,
   "metadata": {},
   "outputs": [
    {
     "data": {
      "text/plain": [
       "removeCols! (generic function with 1 method)"
      ]
     },
     "execution_count": 3,
     "metadata": {},
     "output_type": "execute_result"
    }
   ],
   "source": [
    "function readMatBin(fileName)\n",
    "    genStr = open(fileName)\n",
    "    n = read(genStr,Int64)\n",
    "    p = read(genStr,Int64)\n",
    "    M = zeros(n,p)\n",
    "    for j in 1:p\n",
    "        for i in 1:n\n",
    "            M[i,j] = read(genStr,Float64)\n",
    "        end\n",
    "    end\n",
    "    close(genStr)\n",
    "    return M\n",
    "end\n",
    "\n",
    "function removeCols!(M,cols)\n",
    "    return M[:, [!(i in cols) for i=1:size(M,2)]]\n",
    "end"
   ]
  },
  {
   "cell_type": "code",
   "execution_count": 4,
   "metadata": {
    "collapsed": true,
    "jupyter": {
     "outputs_hidden": true
    }
   },
   "outputs": [],
   "source": [
    "posQTL  = Int64.(vec(readdlm(\"posQTL.csv\")))\n",
    "beta    = readdlm(\"beta.csv\")\n",
    "M = readMatBin(\"genotypes.bin\");"
   ]
  },
  {
   "cell_type": "code",
   "execution_count": 5,
   "metadata": {
    "collapsed": true,
    "jupyter": {
     "outputs_hidden": true
    }
   },
   "outputs": [
    {
     "name": "stderr",
     "output_type": "stream",
     "text": [
      "┌ Warning: readtable is deprecated, use CSV.read from the CSV package instead\n",
      "│   caller = ip:0x0\n",
      "└ @ Core :-1\n",
      "┌ Warning: `getindex(df::DataFrame, col_ind::ColumnIndex)` is deprecated, use `df[!, col_ind]` instead.\n",
      "│   caller = top-level scope at In[5]:3\n",
      "└ @ Core In[5]:3\n"
     ]
    },
    {
     "data": {
      "text/html": [
       "<table class=\"data-frame\"><thead><tr><th></th><th>id</th><th>y</th></tr><tr><th></th><th>Int64</th><th>Float64⍰</th></tr></thead><tbody><p>5 rows × 2 columns</p><tr><th>1</th><td>1</td><td>-3.56863</td></tr><tr><th>2</th><td>2</td><td>1.73437</td></tr><tr><th>3</th><td>3</td><td>2.31795</td></tr><tr><th>4</th><td>4</td><td>-0.264018</td></tr><tr><th>5</th><td>5</td><td>-3.13096</td></tr></tbody></table>"
      ],
      "text/latex": [
       "\\begin{tabular}{r|cc}\n",
       "\t& id & y\\\\\n",
       "\t\\hline\n",
       "\t& Int64 & Float64⍰\\\\\n",
       "\t\\hline\n",
       "\t1 & 1 & -3.56863 \\\\\n",
       "\t2 & 2 & 1.73437 \\\\\n",
       "\t3 & 3 & 2.31795 \\\\\n",
       "\t4 & 4 & -0.264018 \\\\\n",
       "\t5 & 5 & -3.13096 \\\\\n",
       "\\end{tabular}\n"
      ],
      "text/plain": [
       "5×2 DataFrame\n",
       "│ Row │ id    │ y         │\n",
       "│     │ \u001b[90mInt64\u001b[39m │ \u001b[90mFloat64⍰\u001b[39m  │\n",
       "├─────┼───────┼───────────┤\n",
       "│ 1   │ 1     │ -3.56863  │\n",
       "│ 2   │ 2     │ 1.73437   │\n",
       "│ 3   │ 3     │ 2.31795   │\n",
       "│ 4   │ 4     │ -0.264018 │\n",
       "│ 5   │ 5     │ -3.13096  │"
      ]
     },
     "execution_count": 5,
     "metadata": {},
     "output_type": "execute_result"
    },
    {
     "name": "stderr",
     "output_type": "stream",
     "text": [
      "┌ Warning: `T` is deprecated, use `nonmissingtype` instead.\n",
      "│   caller = compacttype(::Type, ::Int64) at show.jl:39\n",
      "└ @ DataFrames /opt/julia/packages/DataFrames/XuYBH/src/abstractdataframe/show.jl:39\n"
     ]
    }
   ],
   "source": [
    "n,p = size(M)\n",
    "simData  = readtable(\"phenotypes.csv\",header=false,names=[:y])# reading in the simulated phenotypes into a data frame\n",
    "phenData = DataFrame(id=1:n, y=simData[:y])\n",
    "first(phenData,5)"
   ]
  },
  {
   "cell_type": "code",
   "execution_count": 6,
   "metadata": {},
   "outputs": [
    {
     "data": {
      "text/html": [
       "<table class=\"data-frame\"><thead><tr><th></th><th>id</th><th>y</th></tr><tr><th></th><th>Int64</th><th>Float64⍰</th></tr></thead><tbody><p>5 rows × 2 columns</p><tr><th>1</th><td>1001</td><td>-6.22029</td></tr><tr><th>2</th><td>1002</td><td>-0.952557</td></tr><tr><th>3</th><td>1003</td><td>-9.66847</td></tr><tr><th>4</th><td>1004</td><td>-0.959437</td></tr><tr><th>5</th><td>1005</td><td>1.48486</td></tr></tbody></table>"
      ],
      "text/latex": [
       "\\begin{tabular}{r|cc}\n",
       "\t& id & y\\\\\n",
       "\t\\hline\n",
       "\t& Int64 & Float64⍰\\\\\n",
       "\t\\hline\n",
       "\t1 & 1001 & -6.22029 \\\\\n",
       "\t2 & 1002 & -0.952557 \\\\\n",
       "\t3 & 1003 & -9.66847 \\\\\n",
       "\t4 & 1004 & -0.959437 \\\\\n",
       "\t5 & 1005 & 1.48486 \\\\\n",
       "\\end{tabular}\n"
      ],
      "text/plain": [
       "5×2 DataFrame\n",
       "│ Row │ id    │ y         │\n",
       "│     │ \u001b[90mInt64\u001b[39m │ \u001b[90mFloat64⍰\u001b[39m  │\n",
       "├─────┼───────┼───────────┤\n",
       "│ 1   │ 1001  │ -6.22029  │\n",
       "│ 2   │ 1002  │ -0.952557 │\n",
       "│ 3   │ 1003  │ -9.66847  │\n",
       "│ 4   │ 1004  │ -0.959437 │\n",
       "│ 5   │ 1005  │ 1.48486   │"
      ]
     },
     "execution_count": 6,
     "metadata": {},
     "output_type": "execute_result"
    }
   ],
   "source": [
    "phenTrain = phenData[1001:end,:]\n",
    "first(phenTrain,5)"
   ]
  },
  {
   "cell_type": "code",
   "execution_count": 7,
   "metadata": {},
   "outputs": [
    {
     "name": "stderr",
     "output_type": "stream",
     "text": [
      "┌ Warning: `getindex(df::DataFrame, col_ind::ColumnIndex)` is deprecated, use `df[!, col_ind]` instead.\n",
      "│   caller = top-level scope at In[7]:1\n",
      "└ @ Core In[7]:1\n"
     ]
    },
    {
     "data": {
      "text/plain": [
       "12.83523324152048"
      ]
     },
     "execution_count": 7,
     "metadata": {},
     "output_type": "execute_result"
    }
   ],
   "source": [
    "resVar = var(simData[:y])/2\n",
    "genVar = resVar"
   ]
  },
  {
   "cell_type": "markdown",
   "metadata": {},
   "source": [
    "### Run BayesC$\\pi$ using JWAS"
   ]
  },
  {
   "cell_type": "code",
   "execution_count": 8,
   "metadata": {},
   "outputs": [
    {
     "name": "stdout",
     "output_type": "stream",
     "text": [
      "21834 markers on 2000 individuals were added.\n"
     ]
    }
   ],
   "source": [
    "ids = string.(1:size(M,1))                     # ids in genotype file are sequential numbers 1...n\n",
    "model  = build_model(\"y = intercept\",resVar)   # give model (except for marker part)\n",
    "add_genotypes(model,M,genVar,header=false,rowID=ids,G_is_marker_variance=false);"
   ]
  },
  {
   "cell_type": "code",
   "execution_count": 8,
   "metadata": {},
   "outputs": [
    {
     "name": "stdout",
     "output_type": "stream",
     "text": [
      "search: \u001b[0m\u001b[1mr\u001b[22m\u001b[0m\u001b[1mu\u001b[22m\u001b[0m\u001b[1mn\u001b[22m\u001b[0m\u001b[1mM\u001b[22m\u001b[0m\u001b[1mC\u001b[22m\u001b[0m\u001b[1mM\u001b[22m\u001b[0m\u001b[1mC\u001b[22m Ze\u001b[0m\u001b[1mr\u001b[22moMeanF\u001b[0m\u001b[1mu\u001b[22mll\u001b[0m\u001b[1mN\u001b[22mor\u001b[0m\u001b[1mm\u001b[22mal\u001b[0m\u001b[1mC\u001b[22manon\n",
      "\n"
     ]
    },
    {
     "data": {
      "text/latex": [
       "\\begin{verbatim}\n",
       "runMCMC(model::MME,df::DataFrame;\n",
       "        ### MCMC\n",
       "        chain_length             = 1000,\n",
       "        starting_value           = false,\n",
       "        burnin                   = 0,\n",
       "        output_samples_frequency = 0,\n",
       "        output_samples_file      = \"MCMC_samples\",\n",
       "        update_priors_frequency  = 0,\n",
       "        ### Methods\n",
       "        methods                  = \"conventional (no markers)\",\n",
       "        estimate_variance        = true,\n",
       "        Pi                       = 0.0,\n",
       "        estimatePi               = false,\n",
       "        estimateScale            = false,\n",
       "        single_step_analysis     = false,\n",
       "        pedigree                 = false,\n",
       "        categorical_trait        = false,\n",
       "        missing_phenotypes       = false,\n",
       "        constraint               = false,\n",
       "        causal_structure         = false,\n",
       "        ### Genomic Prediction\n",
       "        outputEBV                = true,\n",
       "        output_heritability      = false,\n",
       "        ### MISC\n",
       "        seed                     = false,\n",
       "        printout_model_info      = true,\n",
       "        printout_frequency       = 0)\n",
       "\\end{verbatim}\n",
       "\\textbf{Run MCMC for Bayesian Linear Mixed Models with or without estimation of variance components.}\n",
       "\n",
       "\\begin{itemize}\n",
       "\\item Markov chain Monte Carlo\n",
       "\n",
       "\\begin{itemize}\n",
       "\\item The first \\texttt{burnin} iterations are discarded at the beginning of a MCMC chain of length \\texttt{chain\\_length}.\n",
       "\n",
       "\n",
       "\\item The \\texttt{starting\\_value} can be provided as a vector for all location parameteres and marker effects, defaulting to \\texttt{0.0}s.\n",
       "\n",
       "\n",
       "\\item Save MCMC samples every \\texttt{output\\_samples\\_frequency} iterations, defaulting to \\texttt{chain\\_length/1000}, to files \\texttt{output\\_samples\\_file}, defaulting to \\texttt{MCMC\\_samples.txt}. MCMC samples for hyperparametes (variance componets) and marker effects are saved by default. MCMC samples for location parametes can be saved using \\texttt{output\\_MCMC\\_samples()}. Note that saving MCMC samples too frequently slows down the computation.\n",
       "\n",
       "\n",
       "\\item Miscellaneous Options\n",
       "\n",
       "\\begin{itemize}\n",
       "\\item Priors are updated every \\texttt{update\\_priors\\_frequency} iterations, defaulting to \\texttt{0}.\n",
       "\n",
       "\\end{itemize}\n",
       "\\end{itemize}\n",
       "\n",
       "\\item Methods\n",
       "\n",
       "\\begin{itemize}\n",
       "\\item Available \\texttt{methods} include \"conventional (no markers)\", \"RR-BLUP\", \"BayesB\", \"BayesC\", \"Bayesian Lasso\", and \"GBLUP\".\n",
       "\n",
       "\n",
       "\\item Single step analysis is allowed if \\texttt{single\\_step\\_analysis} = \\texttt{true} and \\texttt{pedigree} is provided.\n",
       "\n",
       "\n",
       "\\item In Bayesian variable selection methods, \\texttt{Pi} for single-trait analyses is a number; \\texttt{Pi} for multi-trait analyses is a dictionary such as \\texttt{Pi=Dict([1.0; 1.0]=>0.7,[1.0; 0.0]=>0.1,[0.0; 1.0]=>0.1,[0.0; 0.0]=>0.1)}, defaulting to \\texttt{all markers have effects (Pi = 0.0)} in single-trait analysis and \\texttt{all markers have effects on all traits (Pi=Dict([1.0; 1.0]=>1.0,[0.0; 0.0]=>0.0))} in multi-trait analysis. \\texttt{Pi} is estimated if \\texttt{estimatePi} = true\n",
       "\n",
       "\n",
       "\\item Variance components are estimated if \\texttt{estimate\\_variance}=true, defaulting to \\texttt{true}.\n",
       "\n",
       "\n",
       "\\item Scale parameter for prior of marker effect variance is estimated if \\texttt{estimateScale} = true\n",
       "\n",
       "\n",
       "\\item Miscellaneous Options\n",
       "\n",
       "\\begin{itemize}\n",
       "\\item Missing phenotypes are allowed in multi-trait analysis with \\texttt{missing\\_phenotypes}=true, defaulting to \\texttt{true}.\n",
       "\n",
       "\n",
       "\\item Catogorical Traits are allowed if \\texttt{categorical\\_trait}=true, defaulting to \\texttt{false}.\n",
       "\n",
       "\n",
       "\\item If \\texttt{constraint}=true, defaulting to \\texttt{false}, constrain residual covariances between traits to be zeros.\n",
       "\n",
       "\n",
       "\\item If \\texttt{causal\\_structure} is provided, e.g., causal\\_structure = [0.0,0.0,0.0;1.0,0.0,0.0;1.0,0.0,0.0] for trait 2 -> trait 1 and trait 3 -> trait 1, phenotypic causal networks will be incorporated using structure equation models.\n",
       "\n",
       "\\end{itemize}\n",
       "\\end{itemize}\n",
       "\n",
       "\\item Genomic Prediction\n",
       "\n",
       "\\begin{itemize}\n",
       "\\item Individual estimted breeding values (EBVs) and prediction error variances (PEVs) are returned if \\texttt{outputEBV}=true, defaulting to \\texttt{true}. Heritability and genetic\n",
       "\n",
       "\\end{itemize}\n",
       "variances are returned if \\texttt{output\\_heritability}=\\texttt{true}, defaulting to \\texttt{false}. Note that estimation of heritability is computaionally intensive.\n",
       "\n",
       "\n",
       "\\item Miscellaneous Options\n",
       "\n",
       "\\begin{itemize}\n",
       "\\item Print out the model information in REPL if \\texttt{printout\\_model\\_info}=true; print out the monte carlo mean in REPL with \\texttt{printout\\_frequency}, defaulting to \\texttt{false}.\n",
       "\n",
       "\n",
       "\\item If \\texttt{seed}, defaulting to \\texttt{false}, is provided, a reproducible sequence of numbers will be generated for random number generation.\n",
       "\n",
       "\\end{itemize}\n",
       "\\end{itemize}\n"
      ],
      "text/markdown": [
       "```\n",
       "runMCMC(model::MME,df::DataFrame;\n",
       "        ### MCMC\n",
       "        chain_length             = 1000,\n",
       "        starting_value           = false,\n",
       "        burnin                   = 0,\n",
       "        output_samples_frequency = 0,\n",
       "        output_samples_file      = \"MCMC_samples\",\n",
       "        update_priors_frequency  = 0,\n",
       "        ### Methods\n",
       "        methods                  = \"conventional (no markers)\",\n",
       "        estimate_variance        = true,\n",
       "        Pi                       = 0.0,\n",
       "        estimatePi               = false,\n",
       "        estimateScale            = false,\n",
       "        single_step_analysis     = false,\n",
       "        pedigree                 = false,\n",
       "        categorical_trait        = false,\n",
       "        missing_phenotypes       = false,\n",
       "        constraint               = false,\n",
       "        causal_structure         = false,\n",
       "        ### Genomic Prediction\n",
       "        outputEBV                = true,\n",
       "        output_heritability      = false,\n",
       "        ### MISC\n",
       "        seed                     = false,\n",
       "        printout_model_info      = true,\n",
       "        printout_frequency       = 0)\n",
       "```\n",
       "\n",
       "**Run MCMC for Bayesian Linear Mixed Models with or without estimation of variance components.**\n",
       "\n",
       "  * Markov chain Monte Carlo\n",
       "\n",
       "      * The first `burnin` iterations are discarded at the beginning of a MCMC chain of length `chain_length`.\n",
       "      * The `starting_value` can be provided as a vector for all location parameteres and marker effects, defaulting to `0.0`s.\n",
       "      * Save MCMC samples every `output_samples_frequency` iterations, defaulting to `chain_length/1000`, to files `output_samples_file`, defaulting to `MCMC_samples.txt`. MCMC samples for hyperparametes (variance componets) and marker effects are saved by default. MCMC samples for location parametes can be saved using `output_MCMC_samples()`. Note that saving MCMC samples too frequently slows down the computation.\n",
       "      * Miscellaneous Options\n",
       "\n",
       "          * Priors are updated every `update_priors_frequency` iterations, defaulting to `0`.\n",
       "  * Methods\n",
       "\n",
       "      * Available `methods` include \"conventional (no markers)\", \"RR-BLUP\", \"BayesB\", \"BayesC\", \"Bayesian Lasso\", and \"GBLUP\".\n",
       "      * Single step analysis is allowed if `single_step_analysis` = `true` and `pedigree` is provided.\n",
       "      * In Bayesian variable selection methods, `Pi` for single-trait analyses is a number; `Pi` for multi-trait analyses is a dictionary such as `Pi=Dict([1.0; 1.0]=>0.7,[1.0; 0.0]=>0.1,[0.0; 1.0]=>0.1,[0.0; 0.0]=>0.1)`, defaulting to `all markers have effects (Pi = 0.0)` in single-trait analysis and `all markers have effects on all traits (Pi=Dict([1.0; 1.0]=>1.0,[0.0; 0.0]=>0.0))` in multi-trait analysis. `Pi` is estimated if `estimatePi` = true\n",
       "      * Variance components are estimated if `estimate_variance`=true, defaulting to `true`.\n",
       "      * Scale parameter for prior of marker effect variance is estimated if `estimateScale` = true\n",
       "      * Miscellaneous Options\n",
       "\n",
       "          * Missing phenotypes are allowed in multi-trait analysis with `missing_phenotypes`=true, defaulting to `true`.\n",
       "          * Catogorical Traits are allowed if `categorical_trait`=true, defaulting to `false`.\n",
       "          * If `constraint`=true, defaulting to `false`, constrain residual covariances between traits to be zeros.\n",
       "          * If `causal_structure` is provided, e.g., causal_structure = [0.0,0.0,0.0;1.0,0.0,0.0;1.0,0.0,0.0] for trait 2 -> trait 1 and trait 3 -> trait 1, phenotypic causal networks will be incorporated using structure equation models.\n",
       "  * Genomic Prediction\n",
       "\n",
       "      * Individual estimted breeding values (EBVs) and prediction error variances (PEVs) are returned if `outputEBV`=true, defaulting to `true`. Heritability and genetic\n",
       "\n",
       "    variances are returned if `output_heritability`=`true`, defaulting to `false`. Note that estimation of heritability is computaionally intensive.\n",
       "  * Miscellaneous Options\n",
       "\n",
       "      * Print out the model information in REPL if `printout_model_info`=true; print out the monte carlo mean in REPL with `printout_frequency`, defaulting to `false`.\n",
       "      * If `seed`, defaulting to `false`, is provided, a reproducible sequence of numbers will be generated for random number generation.\n"
      ],
      "text/plain": [
       "\u001b[36m  runMCMC(model::MME,df::DataFrame;\u001b[39m\n",
       "\u001b[36m          ### MCMC\u001b[39m\n",
       "\u001b[36m          chain_length             = 1000,\u001b[39m\n",
       "\u001b[36m          starting_value           = false,\u001b[39m\n",
       "\u001b[36m          burnin                   = 0,\u001b[39m\n",
       "\u001b[36m          output_samples_frequency = 0,\u001b[39m\n",
       "\u001b[36m          output_samples_file      = \"MCMC_samples\",\u001b[39m\n",
       "\u001b[36m          update_priors_frequency  = 0,\u001b[39m\n",
       "\u001b[36m          ### Methods\u001b[39m\n",
       "\u001b[36m          methods                  = \"conventional (no markers)\",\u001b[39m\n",
       "\u001b[36m          estimate_variance        = true,\u001b[39m\n",
       "\u001b[36m          Pi                       = 0.0,\u001b[39m\n",
       "\u001b[36m          estimatePi               = false,\u001b[39m\n",
       "\u001b[36m          estimateScale            = false,\u001b[39m\n",
       "\u001b[36m          single_step_analysis     = false,\u001b[39m\n",
       "\u001b[36m          pedigree                 = false,\u001b[39m\n",
       "\u001b[36m          categorical_trait        = false,\u001b[39m\n",
       "\u001b[36m          missing_phenotypes       = false,\u001b[39m\n",
       "\u001b[36m          constraint               = false,\u001b[39m\n",
       "\u001b[36m          causal_structure         = false,\u001b[39m\n",
       "\u001b[36m          ### Genomic Prediction\u001b[39m\n",
       "\u001b[36m          outputEBV                = true,\u001b[39m\n",
       "\u001b[36m          output_heritability      = false,\u001b[39m\n",
       "\u001b[36m          ### MISC\u001b[39m\n",
       "\u001b[36m          seed                     = false,\u001b[39m\n",
       "\u001b[36m          printout_model_info      = true,\u001b[39m\n",
       "\u001b[36m          printout_frequency       = 0)\u001b[39m\n",
       "\n",
       "  \u001b[1mRun MCMC for Bayesian Linear Mixed Models with or without estimation of\n",
       "  variance components.\u001b[22m\n",
       "\n",
       "    •    Markov chain Monte Carlo\n",
       "      \n",
       "          •    The first \u001b[36mburnin\u001b[39m iterations are discarded at the\n",
       "              beginning of a MCMC chain of length \u001b[36mchain_length\u001b[39m.\n",
       "      \n",
       "          •    The \u001b[36mstarting_value\u001b[39m can be provided as a vector for all\n",
       "              location parameteres and marker effects, defaulting to\n",
       "              \u001b[36m0.0\u001b[39ms.\n",
       "      \n",
       "          •    Save MCMC samples every \u001b[36moutput_samples_frequency\u001b[39m\n",
       "              iterations, defaulting to \u001b[36mchain_length/1000\u001b[39m, to files\n",
       "              \u001b[36moutput_samples_file\u001b[39m, defaulting to \u001b[36mMCMC_samples.txt\u001b[39m.\n",
       "              MCMC samples for hyperparametes (variance componets) and\n",
       "              marker effects are saved by default. MCMC samples for\n",
       "              location parametes can be saved using\n",
       "              \u001b[36moutput_MCMC_samples()\u001b[39m. Note that saving MCMC samples too\n",
       "              frequently slows down the computation.\n",
       "      \n",
       "          •    Miscellaneous Options\n",
       "            \n",
       "                •    Priors are updated every\n",
       "                    \u001b[36mupdate_priors_frequency\u001b[39m iterations, defaulting\n",
       "                    to \u001b[36m0\u001b[39m.\n",
       "\n",
       "    •    Methods\n",
       "      \n",
       "          •    Available \u001b[36mmethods\u001b[39m include \"conventional (no markers)\",\n",
       "              \"RR-BLUP\", \"BayesB\", \"BayesC\", \"Bayesian Lasso\", and\n",
       "              \"GBLUP\".\n",
       "      \n",
       "          •    Single step analysis is allowed if \u001b[36msingle_step_analysis\u001b[39m\n",
       "              = \u001b[36mtrue\u001b[39m and \u001b[36mpedigree\u001b[39m is provided.\n",
       "      \n",
       "          •    In Bayesian variable selection methods, \u001b[36mPi\u001b[39m for\n",
       "              single-trait analyses is a number; \u001b[36mPi\u001b[39m for multi-trait\n",
       "              analyses is a dictionary such as \u001b[36mPi=Dict([1.0;\n",
       "              1.0]=>0.7,[1.0; 0.0]=>0.1,[0.0; 1.0]=>0.1,[0.0;\n",
       "              0.0]=>0.1)\u001b[39m, defaulting to \u001b[36mall markers have effects (Pi =\n",
       "              0.0)\u001b[39m in single-trait analysis and \u001b[36mall markers have\n",
       "              effects on all traits (Pi=Dict([1.0; 1.0]=>1.0,[0.0;\n",
       "              0.0]=>0.0))\u001b[39m in multi-trait analysis. \u001b[36mPi\u001b[39m is estimated if\n",
       "              \u001b[36mestimatePi\u001b[39m = true\n",
       "      \n",
       "          •    Variance components are estimated if\n",
       "              \u001b[36mestimate_variance\u001b[39m=true, defaulting to \u001b[36mtrue\u001b[39m.\n",
       "      \n",
       "          •    Scale parameter for prior of marker effect variance is\n",
       "              estimated if \u001b[36mestimateScale\u001b[39m = true\n",
       "      \n",
       "          •    Miscellaneous Options\n",
       "            \n",
       "                •    Missing phenotypes are allowed in multi-trait\n",
       "                    analysis with \u001b[36mmissing_phenotypes\u001b[39m=true,\n",
       "                    defaulting to \u001b[36mtrue\u001b[39m.\n",
       "            \n",
       "                •    Catogorical Traits are allowed if\n",
       "                    \u001b[36mcategorical_trait\u001b[39m=true, defaulting to \u001b[36mfalse\u001b[39m.\n",
       "            \n",
       "                •    If \u001b[36mconstraint\u001b[39m=true, defaulting to \u001b[36mfalse\u001b[39m,\n",
       "                    constrain residual covariances between traits\n",
       "                    to be zeros.\n",
       "            \n",
       "                •    If \u001b[36mcausal_structure\u001b[39m is provided, e.g.,\n",
       "                    causal_structure =\n",
       "                    [0.0,0.0,0.0;1.0,0.0,0.0;1.0,0.0,0.0] for\n",
       "                    trait 2 -> trait 1 and trait 3 -> trait 1,\n",
       "                    phenotypic causal networks will be\n",
       "                    incorporated using structure equation models.\n",
       "\n",
       "    •    Genomic Prediction\n",
       "      \n",
       "          •    Individual estimted breeding values (EBVs) and\n",
       "              prediction error variances (PEVs) are returned if\n",
       "              \u001b[36moutputEBV\u001b[39m=true, defaulting to \u001b[36mtrue\u001b[39m. Heritability and\n",
       "              genetic\n",
       "      \n",
       "        variances are returned if \u001b[36moutput_heritability\u001b[39m=\u001b[36mtrue\u001b[39m, defaulting to\n",
       "        \u001b[36mfalse\u001b[39m. Note that estimation of heritability is computaionally\n",
       "        intensive.\n",
       "\n",
       "    •    Miscellaneous Options\n",
       "      \n",
       "          •    Print out the model information in REPL if\n",
       "              \u001b[36mprintout_model_info\u001b[39m=true; print out the monte carlo mean\n",
       "              in REPL with \u001b[36mprintout_frequency\u001b[39m, defaulting to \u001b[36mfalse\u001b[39m.\n",
       "      \n",
       "          •    If \u001b[36mseed\u001b[39m, defaulting to \u001b[36mfalse\u001b[39m, is provided, a\n",
       "              reproducible sequence of numbers will be generated for\n",
       "              random number generation."
      ]
     },
     "execution_count": 8,
     "metadata": {},
     "output_type": "execute_result"
    }
   ],
   "source": [
    "?runMCMC"
   ]
  },
  {
   "cell_type": "code",
   "execution_count": 11,
   "metadata": {},
   "outputs": [
    {
     "name": "stderr",
     "output_type": "stream",
     "text": [
      "┌ Warning: `T` is deprecated, use `nonmissingtype` instead.\n",
      "│   caller = recode at recode.jl:354 [inlined]\n",
      "└ @ Core /opt/julia/packages/CategoricalArrays/xjesC/src/recode.jl:354\n"
     ]
    },
    {
     "name": "stdout",
     "output_type": "stream",
     "text": [
      "\n",
      "The prior for marker effects variance is calculated from the genetic variance and π.\n",
      "The mean of the prior for the marker effects variance is: 0.001683\n",
      "\n",
      "\n",
      "\u001b[0m\u001b[1mA Linear Mixed Model was build using model equations:\u001b[22m\n",
      "\n",
      "y = intercept\n",
      "\n",
      "\u001b[0m\u001b[1mModel Information:\u001b[22m\n",
      "\n",
      "Term            C/F          F/R            nLevels\n",
      "intercept       factor       fixed                1\n",
      "\n",
      "\u001b[0m\u001b[1mMCMC Information:\u001b[22m\n",
      "\n",
      "methods                                      BayesC\n",
      "chain_length                                   6000\n",
      "burnin                                            0\n",
      "estimatePi                                    false\n",
      "estimateScale                                 false\n",
      "starting_value                                 true\n",
      "printout_frequency                             5000\n",
      "output_samples_frequency                         20\n",
      "constraint                                    false\n",
      "missing_phenotypes                             true\n",
      "update_priors_frequency                           0\n",
      "\n",
      "\u001b[0m\u001b[1mHyper-parameters Information:\u001b[22m\n",
      "\n",
      "residual variances:                          12.835\n",
      "genetic variances (genomic):                 12.835\n",
      "marker effect variances:                      0.002\n",
      "π                                               0.0\n",
      "\n",
      "\u001b[0m\u001b[1mDegree of freedom for hyper-parameters:\u001b[22m\n",
      "\n",
      "residual variances:                           4.000\n",
      "iid random effect variances:                  4.000\n",
      "marker effect variances:                      4.000\n",
      "\n",
      "\n",
      "\n",
      "\u001b[31mThe file MCMCSamples_residual_variance.txt already exists!!! It is overwritten by the new output.\u001b[39m\n",
      "\u001b[32mThe file MCMCSamples_marker_effects_y.txt is created to save MCMC samples for marker_effects_y.\u001b[39m\n",
      "\u001b[32mThe file MCMCSamples_marker_effects_variances.txt is created to save MCMC samples for marker_effects_variances.\u001b[39m\n",
      "\u001b[31mThe file MCMCSamples_pi.txt already exists!!! It is overwritten by the new output.\u001b[39m\n",
      "\u001b[31mThe file MCMCSamples_EBV_y.txt already exists!!! It is overwritten by the new output.\u001b[39m\n",
      "\u001b[32mThe file MCMCSamples_genetic_variance.txt is created to save MCMC samples for genetic_variance.\u001b[39m\n",
      "\u001b[32mThe file MCMCSamples_heritability.txt is created to save MCMC samples for heritability.\u001b[39m\n"
     ]
    },
    {
     "name": "stderr",
     "output_type": "stream",
     "text": [
      "\u001b[32mrunning MCMC for BayesC... 83%|████████████████████▉    |  ETA: 0:00:21\u001b[39m"
     ]
    },
    {
     "name": "stdout",
     "output_type": "stream",
     "text": [
      "\n",
      "Posterior means at iteration: 5000\n",
      "Residual variance: 13.151845\n",
      "Marker effects variance: 0.001619\n"
     ]
    },
    {
     "name": "stderr",
     "output_type": "stream",
     "text": [
      "\u001b[32mrunning MCMC for BayesC...100%|█████████████████████████| Time: 0:02:04\u001b[39m\n"
     ]
    },
    {
     "name": "stdout",
     "output_type": "stream",
     "text": [
      "\n",
      "\n",
      "\u001b[0m\u001b[1mThe version of Julia and Platform in use:\u001b[22m\n",
      "\n",
      "Julia Version 1.1.0\n",
      "Commit 80516ca202 (2019-01-21 21:24 UTC)\n",
      "Platform Info:\n",
      "  OS: Linux (x86_64-pc-linux-gnu)\n",
      "  CPU: Intel(R) Core(TM) i5-4570 CPU @ 3.20GHz\n",
      "  WORD_SIZE: 64\n",
      "  LIBM: libopenlibm\n",
      "  LLVM: libLLVM-6.0.1 (ORCJIT, haswell)\n",
      "Environment:\n",
      "  JULIA_DEPOT_PATH = /opt/julia\n",
      "  JULIA_PKGDIR = /opt/julia\n",
      "  JULIA_VERSION = 1.1.0\n",
      "\n",
      "\n",
      "\u001b[0m\u001b[1mThe analysis has finished. Results are saved in the returned \u001b[22m\u001b[0m\u001b[1mvariable and text files. MCMC samples are saved in text files.\u001b[22m\n",
      "\n",
      "\n"
     ]
    }
   ],
   "source": [
    "MCMCFileNAME = \"MCMCSamples\"                  # place to put samples of marker effects\n",
    "                                              # marker effect is set to zero if that locus is not in model\n",
    "out=runMCMC(model, phenTrain,                 # tell JWAS to run analysis, for given model and data \n",
    "    Pi=0.0,                                   # intial value of π\n",
    "    estimatePi=false,\n",
    "    chain_length=6000,                        # length of chain\n",
    "    printout_frequency=5000,                  # how often to show progress of analysis \n",
    "    printout_model_info=true,                 # tell JWAS to show the options used in this analysis\n",
    "    methods=\"BayesC\",                         # tell JWAS to run a BayesC analysis\n",
    "    output_samples_frequency=20,              # how often to output sampled quantities\n",
    "    output_samples_file=MCMCFileNAME,         # file name to output sampled marker effects\n",
    "    output_heritability = true,               # output samples of heritability\n",
    "    outputEBV = true\n",
    ");"
   ]
  },
  {
   "cell_type": "code",
   "execution_count": 12,
   "metadata": {},
   "outputs": [
    {
     "data": {
      "text/plain": [
       "Base.KeySet for a Dict{Any,Any} with 5 entries. Keys:\n",
       "  \"marker effects\"\n",
       "  \"EBV_y\"\n",
       "  \"location parameters\"\n",
       "  \"residual variance\"\n",
       "  \"marker effects variance\""
      ]
     },
     "execution_count": 12,
     "metadata": {},
     "output_type": "execute_result"
    }
   ],
   "source": [
    "keys(out)"
   ]
  },
  {
   "cell_type": "code",
   "execution_count": 13,
   "metadata": {},
   "outputs": [
    {
     "data": {
      "text/html": [
       "<table class=\"data-frame\"><thead><tr><th></th><th>ID</th><th>EBV</th><th>PEV</th></tr><tr><th></th><th>Any</th><th>Any</th><th>Any</th></tr></thead><tbody><p>2,000 rows × 3 columns</p><tr><th>1</th><td>1</td><td>1.42562</td><td>4.41834</td></tr><tr><th>2</th><td>2</td><td>3.20395</td><td>5.30227</td></tr><tr><th>3</th><td>3</td><td>1.06357</td><td>6.01509</td></tr><tr><th>4</th><td>4</td><td>6.5609</td><td>5.56653</td></tr><tr><th>5</th><td>5</td><td>-1.50374</td><td>4.8313</td></tr><tr><th>6</th><td>6</td><td>-1.86879</td><td>5.40491</td></tr><tr><th>7</th><td>7</td><td>3.06172</td><td>5.13748</td></tr><tr><th>8</th><td>8</td><td>0.694606</td><td>5.15166</td></tr><tr><th>9</th><td>9</td><td>-0.33398</td><td>4.21524</td></tr><tr><th>10</th><td>10</td><td>-1.18586</td><td>5.29056</td></tr><tr><th>11</th><td>11</td><td>0.891697</td><td>4.88019</td></tr><tr><th>12</th><td>12</td><td>2.21912</td><td>4.45345</td></tr><tr><th>13</th><td>13</td><td>3.8786</td><td>4.34069</td></tr><tr><th>14</th><td>14</td><td>-1.02591</td><td>6.00658</td></tr><tr><th>15</th><td>15</td><td>2.0483</td><td>4.94476</td></tr><tr><th>16</th><td>16</td><td>1.07906</td><td>5.23233</td></tr><tr><th>17</th><td>17</td><td>2.16148</td><td>4.8836</td></tr><tr><th>18</th><td>18</td><td>0.717245</td><td>5.60756</td></tr><tr><th>19</th><td>19</td><td>-0.234491</td><td>4.46464</td></tr><tr><th>20</th><td>20</td><td>-4.1387</td><td>4.6931</td></tr><tr><th>21</th><td>21</td><td>-6.60988</td><td>4.77129</td></tr><tr><th>22</th><td>22</td><td>-1.41039</td><td>4.86835</td></tr><tr><th>23</th><td>23</td><td>0.0604597</td><td>4.42764</td></tr><tr><th>24</th><td>24</td><td>-4.10264</td><td>4.81465</td></tr><tr><th>25</th><td>25</td><td>3.82358</td><td>4.5386</td></tr><tr><th>26</th><td>26</td><td>-3.46121</td><td>5.84362</td></tr><tr><th>27</th><td>27</td><td>-0.17415</td><td>5.44119</td></tr><tr><th>28</th><td>28</td><td>-1.01876</td><td>4.13954</td></tr><tr><th>29</th><td>29</td><td>-1.17281</td><td>5.52208</td></tr><tr><th>30</th><td>30</td><td>1.53137</td><td>4.78727</td></tr><tr><th>&vellip;</th><td>&vellip;</td><td>&vellip;</td><td>&vellip;</td></tr></tbody></table>"
      ],
      "text/latex": [
       "\\begin{tabular}{r|ccc}\n",
       "\t& ID & EBV & PEV\\\\\n",
       "\t\\hline\n",
       "\t& Any & Any & Any\\\\\n",
       "\t\\hline\n",
       "\t1 & 1 & 1.42562 & 4.41834 \\\\\n",
       "\t2 & 2 & 3.20395 & 5.30227 \\\\\n",
       "\t3 & 3 & 1.06357 & 6.01509 \\\\\n",
       "\t4 & 4 & 6.5609 & 5.56653 \\\\\n",
       "\t5 & 5 & -1.50374 & 4.8313 \\\\\n",
       "\t6 & 6 & -1.86879 & 5.40491 \\\\\n",
       "\t7 & 7 & 3.06172 & 5.13748 \\\\\n",
       "\t8 & 8 & 0.694606 & 5.15166 \\\\\n",
       "\t9 & 9 & -0.33398 & 4.21524 \\\\\n",
       "\t10 & 10 & -1.18586 & 5.29056 \\\\\n",
       "\t11 & 11 & 0.891697 & 4.88019 \\\\\n",
       "\t12 & 12 & 2.21912 & 4.45345 \\\\\n",
       "\t13 & 13 & 3.8786 & 4.34069 \\\\\n",
       "\t14 & 14 & -1.02591 & 6.00658 \\\\\n",
       "\t15 & 15 & 2.0483 & 4.94476 \\\\\n",
       "\t16 & 16 & 1.07906 & 5.23233 \\\\\n",
       "\t17 & 17 & 2.16148 & 4.8836 \\\\\n",
       "\t18 & 18 & 0.717245 & 5.60756 \\\\\n",
       "\t19 & 19 & -0.234491 & 4.46464 \\\\\n",
       "\t20 & 20 & -4.1387 & 4.6931 \\\\\n",
       "\t21 & 21 & -6.60988 & 4.77129 \\\\\n",
       "\t22 & 22 & -1.41039 & 4.86835 \\\\\n",
       "\t23 & 23 & 0.0604597 & 4.42764 \\\\\n",
       "\t24 & 24 & -4.10264 & 4.81465 \\\\\n",
       "\t25 & 25 & 3.82358 & 4.5386 \\\\\n",
       "\t26 & 26 & -3.46121 & 5.84362 \\\\\n",
       "\t27 & 27 & -0.17415 & 5.44119 \\\\\n",
       "\t28 & 28 & -1.01876 & 4.13954 \\\\\n",
       "\t29 & 29 & -1.17281 & 5.52208 \\\\\n",
       "\t30 & 30 & 1.53137 & 4.78727 \\\\\n",
       "\t$\\dots$ & $\\dots$ & $\\dots$ & $\\dots$ \\\\\n",
       "\\end{tabular}\n"
      ],
      "text/plain": [
       "2000×3 DataFrame\n",
       "│ Row  │ ID   │ EBV       │ PEV     │\n",
       "│      │ \u001b[90mAny\u001b[39m  │ \u001b[90mAny\u001b[39m       │ \u001b[90mAny\u001b[39m     │\n",
       "├──────┼──────┼───────────┼─────────┤\n",
       "│ 1    │ 1    │ 1.42562   │ 4.41834 │\n",
       "│ 2    │ 2    │ 3.20395   │ 5.30227 │\n",
       "│ 3    │ 3    │ 1.06357   │ 6.01509 │\n",
       "│ 4    │ 4    │ 6.5609    │ 5.56653 │\n",
       "│ 5    │ 5    │ -1.50374  │ 4.8313  │\n",
       "│ 6    │ 6    │ -1.86879  │ 5.40491 │\n",
       "│ 7    │ 7    │ 3.06172   │ 5.13748 │\n",
       "│ 8    │ 8    │ 0.694606  │ 5.15166 │\n",
       "│ 9    │ 9    │ -0.33398  │ 4.21524 │\n",
       "│ 10   │ 10   │ -1.18586  │ 5.29056 │\n",
       "⋮\n",
       "│ 1990 │ 1990 │ 3.41467   │ 3.22921 │\n",
       "│ 1991 │ 1991 │ -3.6222   │ 4.19623 │\n",
       "│ 1992 │ 1992 │ 3.98096   │ 3.62918 │\n",
       "│ 1993 │ 1993 │ -0.535527 │ 4.27239 │\n",
       "│ 1994 │ 1994 │ 1.23847   │ 3.01153 │\n",
       "│ 1995 │ 1995 │ -6.25803  │ 4.09303 │\n",
       "│ 1996 │ 1996 │ -5.34854  │ 3.88621 │\n",
       "│ 1997 │ 1997 │ 2.81871   │ 3.86867 │\n",
       "│ 1998 │ 1998 │ -4.55866  │ 3.1295  │\n",
       "│ 1999 │ 1999 │ 2.3324    │ 3.59935 │\n",
       "│ 2000 │ 2000 │ -5.69573  │ 3.64109 │"
      ]
     },
     "execution_count": 13,
     "metadata": {},
     "output_type": "execute_result"
    }
   ],
   "source": [
    "out[\"EBV_y\"]"
   ]
  },
  {
   "cell_type": "code",
   "execution_count": 12,
   "metadata": {},
   "outputs": [
    {
     "ename": "ArgumentError",
     "evalue": "ArgumentError: Cannot open 'MCMCSamples_marker_effects_y.txt': not a file",
     "output_type": "error",
     "traceback": [
      "ArgumentError: Cannot open 'MCMCSamples_marker_effects_y.txt': not a file",
      "",
      "Stacktrace:",
      " [1] #readdlm_auto#9(::Base.Iterators.Pairs{Symbol,Bool,Tuple{Symbol},NamedTuple{(:header,),Tuple{Bool}}}, ::Function, ::String, ::Char, ::Type, ::Char, ::Bool) at /buildworker/worker/package_linux64/build/usr/share/julia/stdlib/v1.1/DelimitedFiles/src/DelimitedFiles.jl:233",
      " [2] #readdlm_auto at ./none:0 [inlined]",
      " [3] #readdlm#5 at /buildworker/worker/package_linux64/build/usr/share/julia/stdlib/v1.1/DelimitedFiles/src/DelimitedFiles.jl:172 [inlined]",
      " [4] #readdlm at ./none:0 [inlined]",
      " [5] #readdlm#4 at /buildworker/worker/package_linux64/build/usr/share/julia/stdlib/v1.1/DelimitedFiles/src/DelimitedFiles.jl:164 [inlined]",
      " [6] #readdlm at ./none:0 [inlined]",
      " [7] #GWAS#20(::Bool, ::Function, ::String) at /home/jovyan/rohan/Box Sync/JWAS.jl/src/4.misc/src/GWAS.jl:9",
      " [8] (::getfield(JWAS.misc, Symbol(\"#kw##GWAS\")))(::NamedTuple{(:header,),Tuple{Bool}}, ::typeof(GWAS), ::String) at ./none:0",
      " [9] top-level scope at In[12]:1"
     ]
    }
   ],
   "source": [
    "res = GWAS(\"MCMCSamples_marker_effects_y.txt\";header=true)"
   ]
  },
  {
   "cell_type": "code",
   "execution_count": 15,
   "metadata": {},
   "outputs": [
    {
     "data": {
      "text/plain": [
       "40×4 Array{Any,2}:\n",
       " \"8729\"   0.483333     1.13899     0.517909   \n",
       " \"18201\"  0.346667     0.742589    0.330605   \n",
       " \"16771\"  0.0         -0.416029    2.68797e-5 \n",
       " \"14237\"  0.0         -0.68567    -0.00337233 \n",
       " \"11291\"  0.0166667   -1.25694    -0.0253099  \n",
       " \"15837\"  0.0          0.060424    4.24308e-5 \n",
       " \"17008\"  0.0         -0.333503   -0.000654036\n",
       " \"16115\"  0.0          0.457435    0.000199527\n",
       " \"1681\"   0.0          0.0351858  -6.74777e-5 \n",
       " \"15679\"  0.663333     2.7329      1.53616    \n",
       " \"2790\"   0.0166667   -0.692791   -0.01069    \n",
       " \"20843\"  0.00333333  -0.411793   -0.00145473 \n",
       " \"19915\"  0.0         -0.146152   -0.000284847\n",
       " ⋮                                            \n",
       " \"11391\"  0.0         -0.132497   -0.000361095\n",
       " \"17889\"  0.04         0.426983    0.0192386  \n",
       " \"7815\"   0.266667    -1.64235    -0.37516    \n",
       " \"18247\"  0.123333    -1.10174    -0.140383   \n",
       " \"21776\"  0.0         -1.16958    -0.00232964 \n",
       " \"1206\"   0.00666667   0.15797     0.000745576\n",
       " \"6447\"   0.246667    -0.978558   -0.260678   \n",
       " \"14881\"  0.00333333   0.334122    0.00127561 \n",
       " \"8043\"   0.02        -1.16384    -0.0146383  \n",
       " \"21226\"  0.00333333  -0.727422   -0.000608386\n",
       " \"14022\"  0.0         -0.463916   -0.00104437 \n",
       " \"7705\"   0.00666667  -0.397445   -0.00381082 "
      ]
     },
     "execution_count": 15,
     "metadata": {},
     "output_type": "execute_result"
    }
   ],
   "source": [
    "[res[posQTL,:] beta  out[\"Posterior mean of marker effects\"][posQTL,2]]"
   ]
  },
  {
   "cell_type": "code",
   "execution_count": 95,
   "metadata": {},
   "outputs": [
    {
     "data": {
      "text/plain": [
       "winTest (generic function with 2 methods)"
      ]
     },
     "execution_count": 95,
     "metadata": {},
     "output_type": "execute_result"
    }
   ],
   "source": [
    "#W,y,Va,Ve = M[1:1000,:],phenTrain[:y],0.07,13.3\n",
    "function winTest(W,y,Va,Ve,wSize=100)\n",
    "    W = W .- mean(W,dims=1)\n",
    "    V = W*W'*Va + I*Ve\n",
    "    #V = I*Ve\n",
    "    Vi = inv(V)\n",
    "    n,k = size(W)\n",
    "    X = [ones(n) zeros(n)]  \n",
    "    nWin = ceil(Int64,k/wSize)\n",
    "\n",
    "    testStat = zeros(nWin)\n",
    "    wStartV  = Array{Int64,1}(undef,nWin)\n",
    "    wEndV    = Array{Int64,1}(undef,nWin)\n",
    "    for i=1:nWin\n",
    "        wStart = (i-1)*wSize + 1\n",
    "        wEnd   = wStart + wSize - 1\n",
    "        wEnd   = wEnd <= k ? wEnd : k\n",
    "        X = [ones(n) W[:,collect(wStart:wEnd)]]\n",
    "        lhsi   = inv(X'Vi*X + I*0.001)\n",
    "        rhs = X'Vi*y\n",
    "        betaHat = lhsi*rhs\n",
    "        vBetaH = lhsi - I*Va\n",
    "        testStat[i] = betaHat[2:end]'inv(vBetaH[2:end,2:end])*betaHat[2:end]\n",
    "        wStartV[i] = wStart\n",
    "        wEndV[i] = wEnd\n",
    "    end\n",
    "    return (wStartV,wEndV,testStat)\n",
    "end "
   ]
  },
  {
   "cell_type": "code",
   "execution_count": 14,
   "metadata": {},
   "outputs": [
    {
     "data": {
      "text/html": [
       "3 methods for generic function <b>GWAS</b>:<ul><li> GWAS(marker_effects_file; <i>header</i>) in JWAS.misc at <a href=\"file:///opt/julia/packages/JWAS/MHlxX/src/4.misc/src/GWAS.jl\" target=\"_blank\">/opt/julia/packages/JWAS/MHlxX/src/4.misc/src/GWAS.jl:7</a></li> <li> GWAS(marker_effect_file, mme; <i>header, window_size, threshold, output_winVarProps</i>) in JWAS.misc at <a href=\"file:///opt/julia/packages/JWAS/MHlxX/src/4.misc/src/GWAS.jl\" target=\"_blank\">/opt/julia/packages/JWAS/MHlxX/src/4.misc/src/GWAS.jl:35</a></li> <li> GWAS(marker_effects_file, map_file, mme; <i>header, window_size, threshold, output_winVarProps</i>) in JWAS.misc at <a href=\"file:///opt/julia/packages/JWAS/MHlxX/src/4.misc/src/GWAS.jl\" target=\"_blank\">/opt/julia/packages/JWAS/MHlxX/src/4.misc/src/GWAS.jl:105</a></li> </ul>"
      ],
      "text/plain": [
       "# 3 methods for generic function \"GWAS\":\n",
       "[1] GWAS(marker_effects_file; header) in JWAS.misc at /opt/julia/packages/JWAS/MHlxX/src/4.misc/src/GWAS.jl:7\n",
       "[2] GWAS(marker_effect_file, mme; header, window_size, threshold, output_winVarProps) in JWAS.misc at /opt/julia/packages/JWAS/MHlxX/src/4.misc/src/GWAS.jl:35\n",
       "[3] GWAS(marker_effects_file, map_file, mme; header, window_size, threshold, output_winVarProps) in JWAS.misc at /opt/julia/packages/JWAS/MHlxX/src/4.misc/src/GWAS.jl:105"
      ]
     },
     "execution_count": 14,
     "metadata": {},
     "output_type": "execute_result"
    }
   ],
   "source": [
    "methods(GWAS)"
   ]
  },
  {
   "cell_type": "code",
   "execution_count": 15,
   "metadata": {},
   "outputs": [
    {
     "name": "stdout",
     "output_type": "stream",
     "text": [
      "Compute the posterior probability of association of the genomic window that explains more than 0.005 of the total genetic variance.\n"
     ]
    },
    {
     "data": {
      "text/html": [
       "<table class=\"data-frame\"><thead><tr><th></th><th>wStart</th><th>wEnd</th><th>wSize</th><th>prGenVar</th><th>WPPA</th><th>PPA_t</th></tr><tr><th></th><th>Int64</th><th>Int64</th><th>Int64</th><th>Float64</th><th>Float64</th><th>Float64</th></tr></thead><tbody><p>219 rows × 6 columns</p><tr><th>1</th><td>15601</td><td>15700</td><td>100</td><td>1.91</td><td>0.986667</td><td>0.986667</td></tr><tr><th>2</th><td>3101</td><td>3200</td><td>100</td><td>1.71</td><td>0.943333</td><td>0.965</td></tr><tr><th>3</th><td>8701</td><td>8800</td><td>100</td><td>0.97</td><td>0.813333</td><td>0.914444</td></tr><tr><th>4</th><td>19901</td><td>20000</td><td>100</td><td>1.07</td><td>0.76</td><td>0.875833</td></tr><tr><th>5</th><td>6401</td><td>6500</td><td>100</td><td>0.99</td><td>0.74</td><td>0.848667</td></tr><tr><th>6</th><td>3801</td><td>3900</td><td>100</td><td>0.78</td><td>0.736667</td><td>0.83</td></tr><tr><th>7</th><td>7801</td><td>7900</td><td>100</td><td>0.75</td><td>0.726667</td><td>0.815238</td></tr><tr><th>8</th><td>12901</td><td>13000</td><td>100</td><td>0.84</td><td>0.72</td><td>0.803333</td></tr><tr><th>9</th><td>15701</td><td>15800</td><td>100</td><td>0.74</td><td>0.713333</td><td>0.793333</td></tr><tr><th>10</th><td>20201</td><td>20300</td><td>100</td><td>0.71</td><td>0.696667</td><td>0.783667</td></tr><tr><th>11</th><td>20601</td><td>20700</td><td>100</td><td>0.76</td><td>0.696667</td><td>0.775758</td></tr><tr><th>12</th><td>18201</td><td>18300</td><td>100</td><td>0.77</td><td>0.653333</td><td>0.765556</td></tr><tr><th>13</th><td>4101</td><td>4200</td><td>100</td><td>0.7</td><td>0.65</td><td>0.756667</td></tr><tr><th>14</th><td>2801</td><td>2900</td><td>100</td><td>0.61</td><td>0.613333</td><td>0.746429</td></tr><tr><th>15</th><td>20501</td><td>20600</td><td>100</td><td>0.66</td><td>0.606667</td><td>0.737111</td></tr><tr><th>16</th><td>6301</td><td>6400</td><td>100</td><td>0.69</td><td>0.6</td><td>0.728542</td></tr><tr><th>17</th><td>9301</td><td>9400</td><td>100</td><td>0.61</td><td>0.593333</td><td>0.720588</td></tr><tr><th>18</th><td>2101</td><td>2200</td><td>100</td><td>0.64</td><td>0.58</td><td>0.712778</td></tr><tr><th>19</th><td>13001</td><td>13100</td><td>100</td><td>0.64</td><td>0.58</td><td>0.705789</td></tr><tr><th>20</th><td>18701</td><td>18800</td><td>100</td><td>0.66</td><td>0.566667</td><td>0.698833</td></tr><tr><th>21</th><td>3001</td><td>3100</td><td>100</td><td>0.61</td><td>0.53</td><td>0.690794</td></tr><tr><th>22</th><td>19801</td><td>19900</td><td>100</td><td>0.62</td><td>0.53</td><td>0.683485</td></tr><tr><th>23</th><td>4201</td><td>4300</td><td>100</td><td>0.57</td><td>0.526667</td><td>0.676667</td></tr><tr><th>24</th><td>18101</td><td>18200</td><td>100</td><td>0.6</td><td>0.526667</td><td>0.670417</td></tr><tr><th>25</th><td>4001</td><td>4100</td><td>100</td><td>0.56</td><td>0.523333</td><td>0.664533</td></tr><tr><th>26</th><td>3901</td><td>4000</td><td>100</td><td>0.6</td><td>0.513333</td><td>0.658718</td></tr><tr><th>27</th><td>401</td><td>500</td><td>100</td><td>0.55</td><td>0.503333</td><td>0.652963</td></tr><tr><th>28</th><td>19301</td><td>19400</td><td>100</td><td>0.6</td><td>0.503333</td><td>0.647619</td></tr><tr><th>29</th><td>17801</td><td>17900</td><td>100</td><td>0.56</td><td>0.5</td><td>0.642529</td></tr><tr><th>30</th><td>201</td><td>300</td><td>100</td><td>0.54</td><td>0.49</td><td>0.637444</td></tr><tr><th>&vellip;</th><td>&vellip;</td><td>&vellip;</td><td>&vellip;</td><td>&vellip;</td><td>&vellip;</td><td>&vellip;</td></tr></tbody></table>"
      ],
      "text/latex": [
       "\\begin{tabular}{r|cccccc}\n",
       "\t& wStart & wEnd & wSize & prGenVar & WPPA & PPA\\_t\\\\\n",
       "\t\\hline\n",
       "\t& Int64 & Int64 & Int64 & Float64 & Float64 & Float64\\\\\n",
       "\t\\hline\n",
       "\t1 & 15601 & 15700 & 100 & 1.91 & 0.986667 & 0.986667 \\\\\n",
       "\t2 & 3101 & 3200 & 100 & 1.71 & 0.943333 & 0.965 \\\\\n",
       "\t3 & 8701 & 8800 & 100 & 0.97 & 0.813333 & 0.914444 \\\\\n",
       "\t4 & 19901 & 20000 & 100 & 1.07 & 0.76 & 0.875833 \\\\\n",
       "\t5 & 6401 & 6500 & 100 & 0.99 & 0.74 & 0.848667 \\\\\n",
       "\t6 & 3801 & 3900 & 100 & 0.78 & 0.736667 & 0.83 \\\\\n",
       "\t7 & 7801 & 7900 & 100 & 0.75 & 0.726667 & 0.815238 \\\\\n",
       "\t8 & 12901 & 13000 & 100 & 0.84 & 0.72 & 0.803333 \\\\\n",
       "\t9 & 15701 & 15800 & 100 & 0.74 & 0.713333 & 0.793333 \\\\\n",
       "\t10 & 20201 & 20300 & 100 & 0.71 & 0.696667 & 0.783667 \\\\\n",
       "\t11 & 20601 & 20700 & 100 & 0.76 & 0.696667 & 0.775758 \\\\\n",
       "\t12 & 18201 & 18300 & 100 & 0.77 & 0.653333 & 0.765556 \\\\\n",
       "\t13 & 4101 & 4200 & 100 & 0.7 & 0.65 & 0.756667 \\\\\n",
       "\t14 & 2801 & 2900 & 100 & 0.61 & 0.613333 & 0.746429 \\\\\n",
       "\t15 & 20501 & 20600 & 100 & 0.66 & 0.606667 & 0.737111 \\\\\n",
       "\t16 & 6301 & 6400 & 100 & 0.69 & 0.6 & 0.728542 \\\\\n",
       "\t17 & 9301 & 9400 & 100 & 0.61 & 0.593333 & 0.720588 \\\\\n",
       "\t18 & 2101 & 2200 & 100 & 0.64 & 0.58 & 0.712778 \\\\\n",
       "\t19 & 13001 & 13100 & 100 & 0.64 & 0.58 & 0.705789 \\\\\n",
       "\t20 & 18701 & 18800 & 100 & 0.66 & 0.566667 & 0.698833 \\\\\n",
       "\t21 & 3001 & 3100 & 100 & 0.61 & 0.53 & 0.690794 \\\\\n",
       "\t22 & 19801 & 19900 & 100 & 0.62 & 0.53 & 0.683485 \\\\\n",
       "\t23 & 4201 & 4300 & 100 & 0.57 & 0.526667 & 0.676667 \\\\\n",
       "\t24 & 18101 & 18200 & 100 & 0.6 & 0.526667 & 0.670417 \\\\\n",
       "\t25 & 4001 & 4100 & 100 & 0.56 & 0.523333 & 0.664533 \\\\\n",
       "\t26 & 3901 & 4000 & 100 & 0.6 & 0.513333 & 0.658718 \\\\\n",
       "\t27 & 401 & 500 & 100 & 0.55 & 0.503333 & 0.652963 \\\\\n",
       "\t28 & 19301 & 19400 & 100 & 0.6 & 0.503333 & 0.647619 \\\\\n",
       "\t29 & 17801 & 17900 & 100 & 0.56 & 0.5 & 0.642529 \\\\\n",
       "\t30 & 201 & 300 & 100 & 0.54 & 0.49 & 0.637444 \\\\\n",
       "\t$\\dots$ & $\\dots$ & $\\dots$ & $\\dots$ & $\\dots$ & $\\dots$ & $\\dots$ \\\\\n",
       "\\end{tabular}\n"
      ],
      "text/plain": [
       "219×6 DataFrame\n",
       "│ Row │ wStart │ wEnd  │ wSize │ prGenVar │ WPPA      │ PPA_t    │\n",
       "│     │ \u001b[90mInt64\u001b[39m  │ \u001b[90mInt64\u001b[39m │ \u001b[90mInt64\u001b[39m │ \u001b[90mFloat64\u001b[39m  │ \u001b[90mFloat64\u001b[39m   │ \u001b[90mFloat64\u001b[39m  │\n",
       "├─────┼────────┼───────┼───────┼──────────┼───────────┼──────────┤\n",
       "│ 1   │ 15601  │ 15700 │ 100   │ 1.91     │ 0.986667  │ 0.986667 │\n",
       "│ 2   │ 3101   │ 3200  │ 100   │ 1.71     │ 0.943333  │ 0.965    │\n",
       "│ 3   │ 8701   │ 8800  │ 100   │ 0.97     │ 0.813333  │ 0.914444 │\n",
       "│ 4   │ 19901  │ 20000 │ 100   │ 1.07     │ 0.76      │ 0.875833 │\n",
       "│ 5   │ 6401   │ 6500  │ 100   │ 0.99     │ 0.74      │ 0.848667 │\n",
       "│ 6   │ 3801   │ 3900  │ 100   │ 0.78     │ 0.736667  │ 0.83     │\n",
       "│ 7   │ 7801   │ 7900  │ 100   │ 0.75     │ 0.726667  │ 0.815238 │\n",
       "│ 8   │ 12901  │ 13000 │ 100   │ 0.84     │ 0.72      │ 0.803333 │\n",
       "│ 9   │ 15701  │ 15800 │ 100   │ 0.74     │ 0.713333  │ 0.793333 │\n",
       "│ 10  │ 20201  │ 20300 │ 100   │ 0.71     │ 0.696667  │ 0.783667 │\n",
       "⋮\n",
       "│ 209 │ 14101  │ 14200 │ 100   │ 0.33     │ 0.153333  │ 0.344466 │\n",
       "│ 210 │ 16201  │ 16300 │ 100   │ 0.33     │ 0.146667  │ 0.343524 │\n",
       "│ 211 │ 701    │ 800   │ 100   │ 0.32     │ 0.143333  │ 0.342575 │\n",
       "│ 212 │ 6201   │ 6300  │ 100   │ 0.32     │ 0.143333  │ 0.341635 │\n",
       "│ 213 │ 17101  │ 17200 │ 100   │ 0.31     │ 0.13      │ 0.340642 │\n",
       "│ 214 │ 8001   │ 8100  │ 100   │ 0.31     │ 0.113333  │ 0.339579 │\n",
       "│ 215 │ 6101   │ 6200  │ 100   │ 0.28     │ 0.11      │ 0.338512 │\n",
       "│ 216 │ 14301  │ 14400 │ 100   │ 0.27     │ 0.09      │ 0.337361 │\n",
       "│ 217 │ 7001   │ 7100  │ 100   │ 0.27     │ 0.0833333 │ 0.33619  │\n",
       "│ 218 │ 14201  │ 14300 │ 100   │ 0.22     │ 0.05      │ 0.334878 │\n",
       "│ 219 │ 21801  │ 21834 │ 100   │ 0.15     │ 0.01      │ 0.333394 │"
      ]
     },
     "execution_count": 15,
     "metadata": {},
     "output_type": "execute_result"
    }
   ],
   "source": [
    "winVar = GWAS(\"MCMCSamples_marker_effects_y.txt\",model.output_genotypes;header=true,window_size=100,threshold=0.005,output_winVarProps=false)"
   ]
  },
  {
   "cell_type": "code",
   "execution_count": 102,
   "metadata": {},
   "outputs": [
    {
     "data": {
      "text/plain": [
       "101.03999999999996"
      ]
     },
     "execution_count": 102,
     "metadata": {},
     "output_type": "execute_result"
    }
   ],
   "source": [
    "sum(winVar[:prGenVar])"
   ]
  },
  {
   "cell_type": "code",
   "execution_count": 18,
   "metadata": {},
   "outputs": [],
   "source": [
    "sortPosQTL = sort(posQTL);"
   ]
  },
  {
   "cell_type": "code",
   "execution_count": 19,
   "metadata": {},
   "outputs": [
    {
     "data": {
      "text/html": [
       "<table class=\"data-frame\"><thead><tr><th></th><th>wStart</th><th>wEnd</th><th>wQTL</th><th>oQTL</th><th>prVar</th><th>WPPA</th><th>PPA_t</th></tr><tr><th></th><th>Int64</th><th>Int64</th><th>Int64</th><th>Int64</th><th>Float64</th><th>Float64</th><th>Float64</th></tr></thead><tbody><p>28 rows × 7 columns</p><tr><th>1</th><td>7801</td><td>7900</td><td>7815</td><td>96</td><td>5.7</td><td>1.0</td><td>1.0</td></tr><tr><th>2</th><td>15601</td><td>15700</td><td>15679</td><td>137</td><td>19.23</td><td>1.0</td><td>1.0</td></tr><tr><th>3</th><td>20201</td><td>20300</td><td>20210</td><td>252</td><td>6.43</td><td>1.0</td><td>1.0</td></tr><tr><th>4</th><td>20501</td><td>20600</td><td>20589</td><td>243</td><td>7.61</td><td>1.0</td><td>1.0</td></tr><tr><th>5</th><td>8701</td><td>8800</td><td>8729</td><td>228</td><td>4.45</td><td>0.996667</td><td>0.999333</td></tr><tr><th>6</th><td>6401</td><td>6500</td><td>6447</td><td>1205</td><td>3.88</td><td>0.993333</td><td>0.998333</td></tr><tr><th>7</th><td>3801</td><td>3900</td><td>3843</td><td>355</td><td>4.06</td><td>0.966667</td><td>0.99381</td></tr><tr><th>8</th><td>18201</td><td>18300</td><td>18201</td><td>0</td><td>5.98</td><td>0.966667</td><td>0.990417</td></tr><tr><th>9</th><td>3101</td><td>3200</td><td>3139</td><td>311</td><td>7.61</td><td>0.943333</td><td>0.985185</td></tr><tr><th>10</th><td>11201</td><td>11300</td><td>11291</td><td>91</td><td>2.3</td><td>0.896667</td><td>0.976333</td></tr><tr><th>11</th><td>19901</td><td>20000</td><td>19915</td><td>210</td><td>1.65</td><td>0.85</td><td>0.964848</td></tr><tr><th>12</th><td>19301</td><td>19400</td><td>0</td><td>277</td><td>1.94</td><td>0.763333</td><td>0.948056</td></tr><tr><th>13</th><td>1101</td><td>1200</td><td>0</td><td>6</td><td>1.64</td><td>0.746667</td><td>0.932564</td></tr><tr><th>14</th><td>12901</td><td>13000</td><td>12995</td><td>210</td><td>2.58</td><td>0.716667</td><td>0.917143</td></tr><tr><th>15</th><td>14501</td><td>14600</td><td>14577</td><td>264</td><td>1.06</td><td>0.666667</td><td>0.900444</td></tr><tr><th>16</th><td>4201</td><td>4300</td><td>4255</td><td>49</td><td>1.52</td><td>0.573333</td><td>0.88</td></tr><tr><th>17</th><td>4101</td><td>4200</td><td>0</td><td>55</td><td>1.32</td><td>0.526667</td><td>0.859216</td></tr><tr><th>18</th><td>8301</td><td>8400</td><td>0</td><td>258</td><td>0.87</td><td>0.523333</td><td>0.840556</td></tr><tr><th>19</th><td>17801</td><td>17900</td><td>17889</td><td>301</td><td>0.87</td><td>0.523333</td><td>0.82386</td></tr><tr><th>20</th><td>3501</td><td>3600</td><td>0</td><td>243</td><td>0.82</td><td>0.52</td><td>0.808667</td></tr><tr><th>21</th><td>201</td><td>300</td><td>285</td><td>201</td><td>0.97</td><td>0.513333</td><td>0.794603</td></tr><tr><th>22</th><td>9301</td><td>9400</td><td>0</td><td>273</td><td>0.83</td><td>0.486667</td><td>0.780606</td></tr><tr><th>23</th><td>901</td><td>1000</td><td>0</td><td>206</td><td>0.76</td><td>0.413333</td><td>0.764638</td></tr><tr><th>24</th><td>13001</td><td>13100</td><td>0</td><td>6</td><td>1.22</td><td>0.413333</td><td>0.75</td></tr><tr><th>25</th><td>11901</td><td>12000</td><td>0</td><td>510</td><td>0.73</td><td>0.406667</td><td>0.736267</td></tr><tr><th>26</th><td>18701</td><td>18800</td><td>0</td><td>454</td><td>0.47</td><td>0.356667</td><td>0.721667</td></tr><tr><th>27</th><td>12601</td><td>12700</td><td>12691</td><td>295</td><td>0.44</td><td>0.346667</td><td>0.707778</td></tr><tr><th>28</th><td>2701</td><td>2800</td><td>2790</td><td>339</td><td>0.58</td><td>0.34</td><td>0.694643</td></tr></tbody></table>"
      ],
      "text/latex": [
       "\\begin{tabular}{r|ccccccc}\n",
       "\t& wStart & wEnd & wQTL & oQTL & prVar & WPPA & PPA\\_t\\\\\n",
       "\t\\hline\n",
       "\t& Int64 & Int64 & Int64 & Int64 & Float64 & Float64 & Float64\\\\\n",
       "\t\\hline\n",
       "\t1 & 7801 & 7900 & 7815 & 96 & 5.7 & 1.0 & 1.0 \\\\\n",
       "\t2 & 15601 & 15700 & 15679 & 137 & 19.23 & 1.0 & 1.0 \\\\\n",
       "\t3 & 20201 & 20300 & 20210 & 252 & 6.43 & 1.0 & 1.0 \\\\\n",
       "\t4 & 20501 & 20600 & 20589 & 243 & 7.61 & 1.0 & 1.0 \\\\\n",
       "\t5 & 8701 & 8800 & 8729 & 228 & 4.45 & 0.996667 & 0.999333 \\\\\n",
       "\t6 & 6401 & 6500 & 6447 & 1205 & 3.88 & 0.993333 & 0.998333 \\\\\n",
       "\t7 & 3801 & 3900 & 3843 & 355 & 4.06 & 0.966667 & 0.99381 \\\\\n",
       "\t8 & 18201 & 18300 & 18201 & 0 & 5.98 & 0.966667 & 0.990417 \\\\\n",
       "\t9 & 3101 & 3200 & 3139 & 311 & 7.61 & 0.943333 & 0.985185 \\\\\n",
       "\t10 & 11201 & 11300 & 11291 & 91 & 2.3 & 0.896667 & 0.976333 \\\\\n",
       "\t11 & 19901 & 20000 & 19915 & 210 & 1.65 & 0.85 & 0.964848 \\\\\n",
       "\t12 & 19301 & 19400 & 0 & 277 & 1.94 & 0.763333 & 0.948056 \\\\\n",
       "\t13 & 1101 & 1200 & 0 & 6 & 1.64 & 0.746667 & 0.932564 \\\\\n",
       "\t14 & 12901 & 13000 & 12995 & 210 & 2.58 & 0.716667 & 0.917143 \\\\\n",
       "\t15 & 14501 & 14600 & 14577 & 264 & 1.06 & 0.666667 & 0.900444 \\\\\n",
       "\t16 & 4201 & 4300 & 4255 & 49 & 1.52 & 0.573333 & 0.88 \\\\\n",
       "\t17 & 4101 & 4200 & 0 & 55 & 1.32 & 0.526667 & 0.859216 \\\\\n",
       "\t18 & 8301 & 8400 & 0 & 258 & 0.87 & 0.523333 & 0.840556 \\\\\n",
       "\t19 & 17801 & 17900 & 17889 & 301 & 0.87 & 0.523333 & 0.82386 \\\\\n",
       "\t20 & 3501 & 3600 & 0 & 243 & 0.82 & 0.52 & 0.808667 \\\\\n",
       "\t21 & 201 & 300 & 285 & 201 & 0.97 & 0.513333 & 0.794603 \\\\\n",
       "\t22 & 9301 & 9400 & 0 & 273 & 0.83 & 0.486667 & 0.780606 \\\\\n",
       "\t23 & 901 & 1000 & 0 & 206 & 0.76 & 0.413333 & 0.764638 \\\\\n",
       "\t24 & 13001 & 13100 & 0 & 6 & 1.22 & 0.413333 & 0.75 \\\\\n",
       "\t25 & 11901 & 12000 & 0 & 510 & 0.73 & 0.406667 & 0.736267 \\\\\n",
       "\t26 & 18701 & 18800 & 0 & 454 & 0.47 & 0.356667 & 0.721667 \\\\\n",
       "\t27 & 12601 & 12700 & 12691 & 295 & 0.44 & 0.346667 & 0.707778 \\\\\n",
       "\t28 & 2701 & 2800 & 2790 & 339 & 0.58 & 0.34 & 0.694643 \\\\\n",
       "\\end{tabular}\n"
      ],
      "text/plain": [
       "28×7 DataFrame\n",
       "│ Row │ wStart │ wEnd  │ wQTL  │ oQTL  │ prVar   │ WPPA     │ PPA_t    │\n",
       "│     │ \u001b[90mInt64\u001b[39m  │ \u001b[90mInt64\u001b[39m │ \u001b[90mInt64\u001b[39m │ \u001b[90mInt64\u001b[39m │ \u001b[90mFloat64\u001b[39m │ \u001b[90mFloat64\u001b[39m  │ \u001b[90mFloat64\u001b[39m  │\n",
       "├─────┼────────┼───────┼───────┼───────┼─────────┼──────────┼──────────┤\n",
       "│ 1   │ 7801   │ 7900  │ 7815  │ 96    │ 5.7     │ 1.0      │ 1.0      │\n",
       "│ 2   │ 15601  │ 15700 │ 15679 │ 137   │ 19.23   │ 1.0      │ 1.0      │\n",
       "│ 3   │ 20201  │ 20300 │ 20210 │ 252   │ 6.43    │ 1.0      │ 1.0      │\n",
       "│ 4   │ 20501  │ 20600 │ 20589 │ 243   │ 7.61    │ 1.0      │ 1.0      │\n",
       "│ 5   │ 8701   │ 8800  │ 8729  │ 228   │ 4.45    │ 0.996667 │ 0.999333 │\n",
       "│ 6   │ 6401   │ 6500  │ 6447  │ 1205  │ 3.88    │ 0.993333 │ 0.998333 │\n",
       "│ 7   │ 3801   │ 3900  │ 3843  │ 355   │ 4.06    │ 0.966667 │ 0.99381  │\n",
       "│ 8   │ 18201  │ 18300 │ 18201 │ 0     │ 5.98    │ 0.966667 │ 0.990417 │\n",
       "│ 9   │ 3101   │ 3200  │ 3139  │ 311   │ 7.61    │ 0.943333 │ 0.985185 │\n",
       "│ 10  │ 11201  │ 11300 │ 11291 │ 91    │ 2.3     │ 0.896667 │ 0.976333 │\n",
       "⋮\n",
       "│ 18  │ 8301   │ 8400  │ 0     │ 258   │ 0.87    │ 0.523333 │ 0.840556 │\n",
       "│ 19  │ 17801  │ 17900 │ 17889 │ 301   │ 0.87    │ 0.523333 │ 0.82386  │\n",
       "│ 20  │ 3501   │ 3600  │ 0     │ 243   │ 0.82    │ 0.52     │ 0.808667 │\n",
       "│ 21  │ 201    │ 300   │ 285   │ 201   │ 0.97    │ 0.513333 │ 0.794603 │\n",
       "│ 22  │ 9301   │ 9400  │ 0     │ 273   │ 0.83    │ 0.486667 │ 0.780606 │\n",
       "│ 23  │ 901    │ 1000  │ 0     │ 206   │ 0.76    │ 0.413333 │ 0.764638 │\n",
       "│ 24  │ 13001  │ 13100 │ 0     │ 6     │ 1.22    │ 0.413333 │ 0.75     │\n",
       "│ 25  │ 11901  │ 12000 │ 0     │ 510   │ 0.73    │ 0.406667 │ 0.736267 │\n",
       "│ 26  │ 18701  │ 18800 │ 0     │ 454   │ 0.47    │ 0.356667 │ 0.721667 │\n",
       "│ 27  │ 12601  │ 12700 │ 12691 │ 295   │ 0.44    │ 0.346667 │ 0.707778 │\n",
       "│ 28  │ 2701   │ 2800  │ 2790  │ 339   │ 0.58    │ 0.34     │ 0.694643 │"
      ]
     },
     "execution_count": 19,
     "metadata": {},
     "output_type": "execute_result"
    }
   ],
   "source": [
    "PPA = 0.34\n",
    "bigPPA = winVar[PPA .<= winVar[:WPPA],: ]\n",
    "\n",
    "lowPos  = [findlast(sortPosQTL .<= row[1]) for row in eachrow(bigPPA)] \n",
    "highPos = [findfirst(sortPosQTL .>= row[2]) for row in eachrow(bigPPA)]   \n",
    "wPos = [findfirst(bigPPA[i,1] .<= sortPosQTL .< bigPPA[i,2]) for i=1:size(bigPPA,1) ]\n",
    "\n",
    "lowQTL  = [i == nothing ? 0 : sortPosQTL[i] for i in lowPos]\n",
    "highQTL = [i == nothing ? 0 : sortPosQTL[i] for i in highPos]\n",
    "wQTL    = [i == nothing ? 0 : sortPosQTL[i] for i in wPos]\n",
    "\n",
    "res = DataFrame(\n",
    "    wStart = bigPPA[:wStart],\n",
    "    wEnd = bigPPA[:wEnd],\n",
    "    wQTL = wQTL,\n",
    "    oQTL = min.(bigPPA[:wStart]-lowQTL,highQTL-bigPPA[:wEnd]),\n",
    "    prVar  = bigPPA[:prGenVar],\n",
    "    WPPA   = bigPPA[:WPPA],\n",
    "    PPA_t = bigPPA[:PPA_t]\n",
    "    )"
   ]
  },
  {
   "cell_type": "code",
   "execution_count": 105,
   "metadata": {},
   "outputs": [
    {
     "data": {
      "text/plain": [
       "219×3 Array{Float64,2}:\n",
       "  1301.0   1400.0  221.426 \n",
       "  7501.0   7600.0  219.96  \n",
       "  4901.0   5000.0  204.866 \n",
       "  6601.0   6700.0  202.336 \n",
       " 12501.0  12600.0  200.426 \n",
       " 20001.0  20100.0  198.554 \n",
       "  2901.0   3000.0  192.879 \n",
       "  8101.0   8200.0  192.754 \n",
       " 12701.0  12800.0  192.553 \n",
       "  4301.0   4400.0  189.845 \n",
       "  6001.0   6100.0  187.563 \n",
       " 12401.0  12500.0  185.368 \n",
       " 18601.0  18700.0  184.861 \n",
       "     ⋮                     \n",
       " 10401.0  10500.0   94.3837\n",
       " 11601.0  11700.0   92.8171\n",
       " 12201.0  12300.0   91.6667\n",
       " 18001.0  18100.0   88.549 \n",
       "  1501.0   1600.0   88.084 \n",
       "  1401.0   1500.0   87.3405\n",
       " 14301.0  14400.0   85.5331\n",
       "  2301.0   2400.0   85.4357\n",
       " 14601.0  14700.0   85.4   \n",
       " 13101.0  13200.0   83.5136\n",
       " 14201.0  14300.0   47.6031\n",
       " 21801.0  21834.0   25.4372"
      ]
     },
     "execution_count": 105,
     "metadata": {},
     "output_type": "execute_result"
    }
   ],
   "source": [
    "wSize = 100\n",
    "winTest(M[1:1000,:],y[1:1000],Va,Ve,wSize)\n",
    "srtIndx = sortperm(testStat,rev=true)\n",
    "bigF = [wStartV[srtIndx] wEndV[srtIndx] testStat[srtIndx]]"
   ]
  },
  {
   "cell_type": "code",
   "execution_count": 111,
   "metadata": {},
   "outputs": [
    {
     "data": {
      "text/plain": [
       "219-element Array{Union{Nothing, Int64},1}:\n",
       "   nothing\n",
       "   nothing\n",
       " 10       \n",
       "   nothing\n",
       "   nothing\n",
       "   nothing\n",
       "   nothing\n",
       "   nothing\n",
       "   nothing\n",
       "  8       \n",
       "   nothing\n",
       "   nothing\n",
       "   nothing\n",
       "  ⋮       \n",
       "   nothing\n",
       "   nothing\n",
       "   nothing\n",
       "   nothing\n",
       "   nothing\n",
       "   nothing\n",
       "   nothing\n",
       "   nothing\n",
       "   nothing\n",
       "   nothing\n",
       " 22       \n",
       "   nothing"
      ]
     },
     "execution_count": 111,
     "metadata": {},
     "output_type": "execute_result"
    }
   ],
   "source": [
    "wPos = [findfirst(bigF[i,1] .<= sortPosQTL .< bigF[i,2]) for i=1:size(bigF,1) ]"
   ]
  },
  {
   "cell_type": "code",
   "execution_count": 109,
   "metadata": {},
   "outputs": [
    {
     "data": {
      "text/plain": [
       "40-element Array{Int64,1}:\n",
       "   285\n",
       "  1206\n",
       "  1681\n",
       "  2790\n",
       "  3139\n",
       "  3843\n",
       "  4255\n",
       "  4349\n",
       "  4454\n",
       "  4953\n",
       "  6447\n",
       "  7705\n",
       "  7815\n",
       "     ⋮\n",
       " 17008\n",
       " 17889\n",
       " 18201\n",
       " 18247\n",
       " 19677\n",
       " 19915\n",
       " 19949\n",
       " 20210\n",
       " 20589\n",
       " 20843\n",
       " 21226\n",
       " 21776"
      ]
     },
     "execution_count": 109,
     "metadata": {},
     "output_type": "execute_result"
    }
   ],
   "source": [
    "sortPosQTL"
   ]
  },
  {
   "cell_type": "code",
   "execution_count": 20,
   "metadata": {},
   "outputs": [
    {
     "data": {
      "text/plain": [
       "71.42857142857143"
      ]
     },
     "execution_count": 20,
     "metadata": {},
     "output_type": "execute_result"
    }
   ],
   "source": [
    "(1 - 8/28)*100"
   ]
  },
  {
   "cell_type": "code",
   "execution_count": 21,
   "metadata": {},
   "outputs": [
    {
     "data": {
      "text/plain": [
       "93.33333333333333"
      ]
     },
     "execution_count": 21,
     "metadata": {},
     "output_type": "execute_result"
    }
   ],
   "source": [
    "(1 - 1/15)*100"
   ]
  },
  {
   "cell_type": "code",
   "execution_count": 88,
   "metadata": {},
   "outputs": [
    {
     "data": {
      "text/plain": [
       "(0.7, 13.3)"
      ]
     },
     "execution_count": 88,
     "metadata": {},
     "output_type": "execute_result"
    }
   ],
   "source": [
    "Va,Ve = 0.7,13.3"
   ]
  },
  {
   "cell_type": "code",
   "execution_count": 66,
   "metadata": {},
   "outputs": [
    {
     "data": {
      "text/plain": [
       "1000×2 Array{Float64,2}:\n",
       " 1.0  0.0\n",
       " 1.0  0.0\n",
       " 1.0  0.0\n",
       " 1.0  0.0\n",
       " 1.0  0.0\n",
       " 1.0  0.0\n",
       " 1.0  0.0\n",
       " 1.0  0.0\n",
       " 1.0  0.0\n",
       " 1.0  0.0\n",
       " 1.0  0.0\n",
       " 1.0  0.0\n",
       " 1.0  0.0\n",
       " ⋮       \n",
       " 1.0  0.0\n",
       " 1.0  0.0\n",
       " 1.0  0.0\n",
       " 1.0  0.0\n",
       " 1.0  0.0\n",
       " 1.0  0.0\n",
       " 1.0  0.0\n",
       " 1.0  0.0\n",
       " 1.0  0.0\n",
       " 1.0  0.0\n",
       " 1.0  0.0\n",
       " 1.0  0.0"
      ]
     },
     "execution_count": 66,
     "metadata": {},
     "output_type": "execute_result"
    }
   ],
   "source": [
    "#function t_test(M,y,Va,Ve)\n",
    "    W = W .- mean(W,dims=1)\n",
    "    V = W*W'*Va + I*Ve\n",
    "    V = I*Ve\n",
    "    Vi = inv(V)\n",
    "\n",
    "    n,k = size(W)\n",
    "    X = [ones(n) zeros(n)]  "
   ]
  },
  {
   "cell_type": "code",
   "execution_count": 55,
   "metadata": {},
   "outputs": [],
   "source": [
    "    tcalc = zeros(k)\n",
    "    for i=1:1=k\n",
    "        X[:,2] = W[:,i]\n",
    "        lhsi   = inv(X'Vi*X)\n",
    "        rhs = X'Vi*y\n",
    "        betaHat = lhsi*rhs\n",
    "        #tcalc[i] = betaHat[2]/sqrt(lhsi[2,2])\n",
    "        tcalc[i] = betaHat[2]\n",
    "    end "
   ]
  },
  {
   "cell_type": "code",
   "execution_count": 56,
   "metadata": {},
   "outputs": [
    {
     "data": {
      "text/plain": [
       "1-element Array{Float64,1}:\n",
       " 0.026816102227243416"
      ]
     },
     "execution_count": 56,
     "metadata": {},
     "output_type": "execute_result"
    }
   ],
   "source": [
    "pvals = ccdf.(Normal(0,1), tcalc)\n",
    "pvals[pvals .< 0.05]"
   ]
  },
  {
   "cell_type": "code",
   "execution_count": 60,
   "metadata": {},
   "outputs": [
    {
     "data": {
      "text/plain": [
       "40×2 Array{Float64,2}:\n",
       " -0.315159    -1.79167 \n",
       "  0.0327568   -1.72478 \n",
       " -0.193849    -1.64235 \n",
       " -0.116496    -1.58839 \n",
       "  0.0109232   -1.25694 \n",
       "  0.398628    -1.16958 \n",
       "  1.9298      -1.16384 \n",
       " -0.154986    -1.10174 \n",
       " -0.449875    -0.978558\n",
       " -0.361338    -0.727422\n",
       "  0.111133    -0.692791\n",
       "  0.553563    -0.68567 \n",
       "  0.188779    -0.463916\n",
       "  ⋮                    \n",
       "  0.140443     0.426983\n",
       "  0.00940731   0.457435\n",
       " -0.214029     0.578151\n",
       " -0.141314     0.738006\n",
       " -0.33507      0.742589\n",
       "  0.0719255    0.755684\n",
       " -0.472743     0.882019\n",
       " -0.153497     0.898326\n",
       "  0.361763     1.13899 \n",
       " -0.25496      1.73079 \n",
       "  0.503377     1.8056  \n",
       " -0.267722     2.7329  "
      ]
     },
     "execution_count": 60,
     "metadata": {},
     "output_type": "execute_result"
    }
   ],
   "source": [
    "srtIndx = sortperm(vec(beta))\n",
    "[tcalc[srtIndx] beta[srtIndx]]"
   ]
  },
  {
   "cell_type": "code",
   "execution_count": 1,
   "metadata": {},
   "outputs": [
    {
     "ename": "UndefVarError",
     "evalue": "UndefVarError: cor not defined",
     "output_type": "error",
     "traceback": [
      "UndefVarError: cor not defined",
      "",
      "Stacktrace:",
      " [1] top-level scope at In[1]:1"
     ]
    }
   ],
   "source": [
    "cor(beta,tcalc)"
   ]
  }
 ],
 "metadata": {
  "kernelspec": {
   "display_name": "Julia 1.3.1",
   "language": "julia",
   "name": "julia-1.3"
  },
  "language_info": {
   "file_extension": ".jl",
   "mimetype": "application/julia",
   "name": "julia",
   "version": "1.3.1"
  }
 },
 "nbformat": 4,
 "nbformat_minor": 4
}
