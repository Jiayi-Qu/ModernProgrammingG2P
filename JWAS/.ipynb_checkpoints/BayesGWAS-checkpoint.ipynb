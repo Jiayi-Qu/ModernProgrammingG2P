{
 "cells": [
  {
   "cell_type": "code",
   "execution_count": 2,
   "metadata": {},
   "outputs": [],
   "source": [
    "#using Pkg\n",
    "#Pkg.add(PackageSpec(name=\"JWAS\",rev=\"master\"))"
   ]
  },
  {
   "cell_type": "code",
   "execution_count": 3,
   "metadata": {},
   "outputs": [],
   "source": [
    "#Pkg.develop(PackageSpec(path=\"/home/jovyan/rohan/Box Sync/JWAS.jl\"))\n",
    "#Pkg.free(\"JWAS\")\n",
    "#Pkg.add(\"StatsPlots\")"
   ]
  },
  {
   "cell_type": "code",
   "execution_count": 4,
   "metadata": {
    "collapsed": true
   },
   "outputs": [],
   "source": [
    "using DataFrames              # package for working with data sets\n",
    "using JWAS                    # package for Bayesian regression analyses, including BayesB and BayesCπ        \n",
    "using JWAS:misc               # utility functions\n",
    "using Distributions       \n",
    "using Plots                   # package for plotting \n",
    "using LinearAlgebra,Statistics,Random,DelimitedFiles, DataFrames"
   ]
  },
  {
   "cell_type": "markdown",
   "metadata": {},
   "source": [
    "### Input marker and phenotype data"
   ]
  },
  {
   "cell_type": "code",
   "execution_count": 5,
   "metadata": {},
   "outputs": [
    {
     "data": {
      "text/plain": [
       "removeCols! (generic function with 1 method)"
      ]
     },
     "execution_count": 5,
     "metadata": {},
     "output_type": "execute_result"
    }
   ],
   "source": [
    "function readMatBin(fileName)\n",
    "    genStr = open(fileName)\n",
    "    n = read(genStr,Int64)\n",
    "    p = read(genStr,Int64)\n",
    "    M = zeros(n,p)\n",
    "    for j in 1:p\n",
    "        for i in 1:n\n",
    "            M[i,j] = read(genStr,Float64)\n",
    "        end\n",
    "    end\n",
    "    close(genStr)\n",
    "    return M\n",
    "end\n",
    "\n",
    "function removeCols!(M,cols)\n",
    "    return M[:, [!(i in cols) for i=1:size(M,2)]]\n",
    "end"
   ]
  },
  {
   "cell_type": "code",
   "execution_count": 6,
   "metadata": {
    "collapsed": true
   },
   "outputs": [],
   "source": [
    "posQTL  = Int64.(vec(readdlm(\"posQTL.csv\")))\n",
    "beta    = readdlm(\"beta.csv\")\n",
    "M = readMatBin(\"genotypes.bin\");"
   ]
  },
  {
   "cell_type": "code",
   "execution_count": 7,
   "metadata": {
    "collapsed": true
   },
   "outputs": [
    {
     "name": "stderr",
     "output_type": "stream",
     "text": [
      "┌ Warning: readtable is deprecated, use CSV.read from the CSV package instead\n",
      "│   caller = ip:0x0\n",
      "└ @ Core :-1\n"
     ]
    },
    {
     "data": {
      "text/html": [
       "<table class=\"data-frame\"><thead><tr><th></th><th>id</th><th>y</th></tr><tr><th></th><th>Int64</th><th>Float64⍰</th></tr></thead><tbody><p>5 rows × 2 columns</p><tr><th>1</th><td>1</td><td>-3.56863</td></tr><tr><th>2</th><td>2</td><td>1.73437</td></tr><tr><th>3</th><td>3</td><td>2.31795</td></tr><tr><th>4</th><td>4</td><td>-0.264018</td></tr><tr><th>5</th><td>5</td><td>-3.13096</td></tr></tbody></table>"
      ],
      "text/latex": [
       "\\begin{tabular}{r|cc}\n",
       "\t& id & y\\\\\n",
       "\t\\hline\n",
       "\t& Int64 & Float64⍰\\\\\n",
       "\t\\hline\n",
       "\t1 & 1 & -3.56863 \\\\\n",
       "\t2 & 2 & 1.73437 \\\\\n",
       "\t3 & 3 & 2.31795 \\\\\n",
       "\t4 & 4 & -0.264018 \\\\\n",
       "\t5 & 5 & -3.13096 \\\\\n",
       "\\end{tabular}\n"
      ],
      "text/plain": [
       "5×2 DataFrame\n",
       "│ Row │ id    │ y         │\n",
       "│     │ \u001b[90mInt64\u001b[39m │ \u001b[90mFloat64⍰\u001b[39m  │\n",
       "├─────┼───────┼───────────┤\n",
       "│ 1   │ 1     │ -3.56863  │\n",
       "│ 2   │ 2     │ 1.73437   │\n",
       "│ 3   │ 3     │ 2.31795   │\n",
       "│ 4   │ 4     │ -0.264018 │\n",
       "│ 5   │ 5     │ -3.13096  │"
      ]
     },
     "execution_count": 7,
     "metadata": {},
     "output_type": "execute_result"
    }
   ],
   "source": [
    "n,p = size(M)\n",
    "simData  = readtable(\"phenotypes.csv\",header=false,names=[:y])# reading in the simulated phenotypes into a data frame\n",
    "phenData = DataFrame(id=1:n, y=simData[:y])\n",
    "first(phenData,5)"
   ]
  },
  {
   "cell_type": "code",
   "execution_count": 8,
   "metadata": {},
   "outputs": [
    {
     "data": {
      "text/html": [
       "<table class=\"data-frame\"><thead><tr><th></th><th>id</th><th>y</th></tr><tr><th></th><th>Int64</th><th>Float64⍰</th></tr></thead><tbody><p>5 rows × 2 columns</p><tr><th>1</th><td>1001</td><td>-6.22029</td></tr><tr><th>2</th><td>1002</td><td>-0.952557</td></tr><tr><th>3</th><td>1003</td><td>-9.66847</td></tr><tr><th>4</th><td>1004</td><td>-0.959437</td></tr><tr><th>5</th><td>1005</td><td>1.48486</td></tr></tbody></table>"
      ],
      "text/latex": [
       "\\begin{tabular}{r|cc}\n",
       "\t& id & y\\\\\n",
       "\t\\hline\n",
       "\t& Int64 & Float64⍰\\\\\n",
       "\t\\hline\n",
       "\t1 & 1001 & -6.22029 \\\\\n",
       "\t2 & 1002 & -0.952557 \\\\\n",
       "\t3 & 1003 & -9.66847 \\\\\n",
       "\t4 & 1004 & -0.959437 \\\\\n",
       "\t5 & 1005 & 1.48486 \\\\\n",
       "\\end{tabular}\n"
      ],
      "text/plain": [
       "5×2 DataFrame\n",
       "│ Row │ id    │ y         │\n",
       "│     │ \u001b[90mInt64\u001b[39m │ \u001b[90mFloat64⍰\u001b[39m  │\n",
       "├─────┼───────┼───────────┤\n",
       "│ 1   │ 1001  │ -6.22029  │\n",
       "│ 2   │ 1002  │ -0.952557 │\n",
       "│ 3   │ 1003  │ -9.66847  │\n",
       "│ 4   │ 1004  │ -0.959437 │\n",
       "│ 5   │ 1005  │ 1.48486   │"
      ]
     },
     "execution_count": 8,
     "metadata": {},
     "output_type": "execute_result"
    }
   ],
   "source": [
    "phenTrain = phenData[1001:end,:]\n",
    "first(phenTrain,5)"
   ]
  },
  {
   "cell_type": "code",
   "execution_count": 9,
   "metadata": {},
   "outputs": [
    {
     "data": {
      "text/plain": [
       "12.83523324152048"
      ]
     },
     "execution_count": 9,
     "metadata": {},
     "output_type": "execute_result"
    }
   ],
   "source": [
    "resVar = var(simData[:y])/2\n",
    "genVar = resVar"
   ]
  },
  {
   "cell_type": "markdown",
   "metadata": {},
   "source": [
    "### Run BayesC$\\pi$ using JWAS"
   ]
  },
  {
   "cell_type": "code",
   "execution_count": 10,
   "metadata": {
    "scrolled": false
   },
   "outputs": [
    {
     "name": "stdout",
     "output_type": "stream",
     "text": [
      "21834 markers on 2000 individuals were added.\n"
     ]
    }
   ],
   "source": [
    "ids = string.(1:size(M,1))                     # ids in genotype file are sequential numbers 1...n\n",
    "model  = build_model(\"y = intercept\",resVar)   # give model (except for marker part)\n",
    "add_genotypes(model,M,genVar,header=false,rowID=ids,G_is_marker_variance=false);"
   ]
  },
  {
   "cell_type": "code",
   "execution_count": 11,
   "metadata": {},
   "outputs": [
    {
     "name": "stdout",
     "output_type": "stream",
     "text": [
      "search: \u001b[0m\u001b[1mr\u001b[22m\u001b[0m\u001b[1mu\u001b[22m\u001b[0m\u001b[1mn\u001b[22m\u001b[0m\u001b[1mM\u001b[22m\u001b[0m\u001b[1mC\u001b[22m\u001b[0m\u001b[1mM\u001b[22m\u001b[0m\u001b[1mC\u001b[22m Ze\u001b[0m\u001b[1mr\u001b[22moMeanF\u001b[0m\u001b[1mu\u001b[22mll\u001b[0m\u001b[1mN\u001b[22mor\u001b[0m\u001b[1mm\u001b[22mal\u001b[0m\u001b[1mC\u001b[22manon\n",
      "\n"
     ]
    },
    {
     "data": {
      "text/latex": [
       "\\begin{verbatim}\n",
       "runMCMC(model::MME,df::DataFrame;\n",
       "        chain_length=1000,starting_value=false,burnin = 0,\n",
       "        output_samples_frequency = 0,output_samples_file=\"MCMC_samples\",\n",
       "        printout_model_info=true,printout_frequency=100,\n",
       "        methods=\"conventional (no markers)\",Pi=0.0,estimatePi=false,\n",
       "        single_step_analysis= false,pedigree = false,\n",
       "        missing_phenotypes=false,constraint=false,\n",
       "        update_priors_frequency::Int64=0,\n",
       "        outputEBV=true,output_PEV=false,output_heritability=false)\n",
       "\\end{verbatim}\n",
       "\\textbf{Run MCMC for Bayesian Linear Mixed Models with or without estimation of variance components.}\n",
       "\n",
       "\\begin{itemize}\n",
       "\\item Available \\textbf{methods} include \"conventional (no markers)\", \"RR-BLUP\", \"BayesB\", \"BayesC\", \"Bayesian Lasso\", and \"GBLUP\".\n",
       "\n",
       "\n",
       "\\item Single step analysis is allowed if \\textbf{single\\emph{step}analysis} = \\texttt{true} and \\textbf{pedigree} is provided.\n",
       "\n",
       "\n",
       "\\item The \\textbf{starting\\_value} can be provided as a vector of numbers for all location parameteres and marker effects, defaulting to \\texttt{0.0}s.\n",
       "\n",
       "\n",
       "\\item The first \\textbf{burnin} iterations are discarded at the beginning of a MCMC chain of length \\textbf{chain\\_length}.\n",
       "\n",
       "\n",
       "\\item Save MCMC samples every \\textbf{output\\emph{samples}frequency} iterations, defaulting to \\texttt{false}, to files \\textbf{output\\emph{samples}file}, defaulting to \\texttt{MCMC\\_samples.txt}. MCMC samples for hyperparametes (variance componets) and marker effects are saved by default if \\textbf{output\\emph{samples}frequency} is provided. MCMC samples for location parametes can be saved using \\texttt{output\\_MCMC\\_samples()}. Note that saving MCMC samples too frequently slows down the computation.\n",
       "\n",
       "\n",
       "\\item In Bayesian variable selection methods, \\textbf{Pi} for single-trait analyses is a number; \\textbf{Pi} for multi-trait analyses is a dictionary such as \\texttt{Pi=Dict([1.0; 1.0]=>0.7,[1.0; 0.0]=>0.1,[0.0; 1.0]=>0.1,[0.0; 0.0]=>0.1)}, defaulting to \\texttt{all markers have effects (0.0)} in single-trait analysis and \\texttt{all markers have effects on all traits} in multi-trait analysis. \\textbf{Pi} is estimated if \\textbf{estimatePi} = true\n",
       "\n",
       "\n",
       "\\item In multi-trait analysis, \\textbf{missing\\_phenotypes}, defaulting to \\texttt{true}, and \\textbf{constraint} variance components, defaulting to \\texttt{false}, are allowed. If \\textbf{constraint}=true, constrain residual covariances between traits to be zeros.\n",
       "\n",
       "\n",
       "\\item Print out the model information in REPL if \\texttt{printout\\_model\\_info=true}; print out the monte carlo mean in REPL with \\textbf{printout\\_frequency}, defaulting to \\texttt{false}.\n",
       "\n",
       "\n",
       "\\item Individual estimted breeding values (EBVs) are returned if \\textbf{outputEBV}=\\texttt{true}, defaulting to \\texttt{true}. Heritability and genetic variances are returned if \\textbf{output\\_heritability}=\\texttt{true}, defaulting to \\texttt{false}. Note that estimation of heritability is computaionally intensive.\n",
       "\n",
       "\\end{itemize}\n"
      ],
      "text/markdown": [
       "```\n",
       "runMCMC(model::MME,df::DataFrame;\n",
       "        chain_length=1000,starting_value=false,burnin = 0,\n",
       "        output_samples_frequency = 0,output_samples_file=\"MCMC_samples\",\n",
       "        printout_model_info=true,printout_frequency=100,\n",
       "        methods=\"conventional (no markers)\",Pi=0.0,estimatePi=false,\n",
       "        single_step_analysis= false,pedigree = false,\n",
       "        missing_phenotypes=false,constraint=false,\n",
       "        update_priors_frequency::Int64=0,\n",
       "        outputEBV=true,output_PEV=false,output_heritability=false)\n",
       "```\n",
       "\n",
       "**Run MCMC for Bayesian Linear Mixed Models with or without estimation of variance components.**\n",
       "\n",
       "  * Available **methods** include \"conventional (no markers)\", \"RR-BLUP\", \"BayesB\", \"BayesC\", \"Bayesian Lasso\", and \"GBLUP\".\n",
       "  * Single step analysis is allowed if **single*step*analysis** = `true` and **pedigree** is provided.\n",
       "  * The **starting_value** can be provided as a vector of numbers for all location parameteres and marker effects, defaulting to `0.0`s.\n",
       "  * The first **burnin** iterations are discarded at the beginning of a MCMC chain of length **chain_length**.\n",
       "  * Save MCMC samples every **output*samples*frequency** iterations, defaulting to `false`, to files **output*samples*file**, defaulting to `MCMC_samples.txt`. MCMC samples for hyperparametes (variance componets) and marker effects are saved by default if **output*samples*frequency** is provided. MCMC samples for location parametes can be saved using `output_MCMC_samples()`. Note that saving MCMC samples too frequently slows down the computation.\n",
       "  * In Bayesian variable selection methods, **Pi** for single-trait analyses is a number; **Pi** for multi-trait analyses is a dictionary such as `Pi=Dict([1.0; 1.0]=>0.7,[1.0; 0.0]=>0.1,[0.0; 1.0]=>0.1,[0.0; 0.0]=>0.1)`, defaulting to `all markers have effects (0.0)` in single-trait analysis and `all markers have effects on all traits` in multi-trait analysis. **Pi** is estimated if **estimatePi** = true\n",
       "  * In multi-trait analysis, **missing_phenotypes**, defaulting to `true`, and **constraint** variance components, defaulting to `false`, are allowed. If **constraint**=true, constrain residual covariances between traits to be zeros.\n",
       "  * Print out the model information in REPL if `printout_model_info=true`; print out the monte carlo mean in REPL with **printout_frequency**, defaulting to `false`.\n",
       "  * Individual estimted breeding values (EBVs) are returned if **outputEBV**=`true`, defaulting to `true`. Heritability and genetic variances are returned if **output_heritability**=`true`, defaulting to `false`. Note that estimation of heritability is computaionally intensive.\n"
      ],
      "text/plain": [
       "\u001b[36m  runMCMC(model::MME,df::DataFrame;\u001b[39m\n",
       "\u001b[36m          chain_length=1000,starting_value=false,burnin = 0,\u001b[39m\n",
       "\u001b[36m          output_samples_frequency = 0,output_samples_file=\"MCMC_samples\",\u001b[39m\n",
       "\u001b[36m          printout_model_info=true,printout_frequency=100,\u001b[39m\n",
       "\u001b[36m          methods=\"conventional (no markers)\",Pi=0.0,estimatePi=false,\u001b[39m\n",
       "\u001b[36m          single_step_analysis= false,pedigree = false,\u001b[39m\n",
       "\u001b[36m          missing_phenotypes=false,constraint=false,\u001b[39m\n",
       "\u001b[36m          update_priors_frequency::Int64=0,\u001b[39m\n",
       "\u001b[36m          outputEBV=true,output_PEV=false,output_heritability=false)\u001b[39m\n",
       "\n",
       "  \u001b[1mRun MCMC for Bayesian Linear Mixed Models with or without estimation of\n",
       "  variance components.\u001b[22m\n",
       "\n",
       "    •    Available \u001b[1mmethods\u001b[22m include \"conventional (no markers)\", \"RR-BLUP\",\n",
       "        \"BayesB\", \"BayesC\", \"Bayesian Lasso\", and \"GBLUP\".\n",
       "\n",
       "    •    Single step analysis is allowed if \u001b[1msingle\u001b[4mstep\u001b[24manalysis\u001b[22m = \u001b[36mtrue\u001b[39m and\n",
       "        \u001b[1mpedigree\u001b[22m is provided.\n",
       "\n",
       "    •    The \u001b[1mstarting_value\u001b[22m can be provided as a vector of numbers for all\n",
       "        location parameteres and marker effects, defaulting to \u001b[36m0.0\u001b[39ms.\n",
       "\n",
       "    •    The first \u001b[1mburnin\u001b[22m iterations are discarded at the beginning of a\n",
       "        MCMC chain of length \u001b[1mchain_length\u001b[22m.\n",
       "\n",
       "    •    Save MCMC samples every \u001b[1moutput\u001b[4msamples\u001b[24mfrequency\u001b[22m iterations,\n",
       "        defaulting to \u001b[36mfalse\u001b[39m, to files \u001b[1moutput\u001b[4msamples\u001b[24mfile\u001b[22m, defaulting to\n",
       "        \u001b[36mMCMC_samples.txt\u001b[39m. MCMC samples for hyperparametes (variance\n",
       "        componets) and marker effects are saved by default if\n",
       "        \u001b[1moutput\u001b[4msamples\u001b[24mfrequency\u001b[22m is provided. MCMC samples for location\n",
       "        parametes can be saved using \u001b[36moutput_MCMC_samples()\u001b[39m. Note that\n",
       "        saving MCMC samples too frequently slows down the computation.\n",
       "\n",
       "    •    In Bayesian variable selection methods, \u001b[1mPi\u001b[22m for single-trait\n",
       "        analyses is a number; \u001b[1mPi\u001b[22m for multi-trait analyses is a dictionary\n",
       "        such as \u001b[36mPi=Dict([1.0; 1.0]=>0.7,[1.0; 0.0]=>0.1,[0.0;\n",
       "        1.0]=>0.1,[0.0; 0.0]=>0.1)\u001b[39m, defaulting to \u001b[36mall markers have effects\n",
       "        (0.0)\u001b[39m in single-trait analysis and \u001b[36mall markers have effects on all\n",
       "        traits\u001b[39m in multi-trait analysis. \u001b[1mPi\u001b[22m is estimated if \u001b[1mestimatePi\u001b[22m =\n",
       "        true\n",
       "\n",
       "    •    In multi-trait analysis, \u001b[1mmissing_phenotypes\u001b[22m, defaulting to \u001b[36mtrue\u001b[39m,\n",
       "        and \u001b[1mconstraint\u001b[22m variance components, defaulting to \u001b[36mfalse\u001b[39m, are\n",
       "        allowed. If \u001b[1mconstraint\u001b[22m=true, constrain residual covariances\n",
       "        between traits to be zeros.\n",
       "\n",
       "    •    Print out the model information in REPL if\n",
       "        \u001b[36mprintout_model_info=true\u001b[39m; print out the monte carlo mean in REPL\n",
       "        with \u001b[1mprintout_frequency\u001b[22m, defaulting to \u001b[36mfalse\u001b[39m.\n",
       "\n",
       "    •    Individual estimted breeding values (EBVs) are returned if\n",
       "        \u001b[1moutputEBV\u001b[22m=\u001b[36mtrue\u001b[39m, defaulting to \u001b[36mtrue\u001b[39m. Heritability and genetic\n",
       "        variances are returned if \u001b[1moutput_heritability\u001b[22m=\u001b[36mtrue\u001b[39m, defaulting to\n",
       "        \u001b[36mfalse\u001b[39m. Note that estimation of heritability is computaionally\n",
       "        intensive."
      ]
     },
     "execution_count": 11,
     "metadata": {},
     "output_type": "execute_result"
    }
   ],
   "source": [
    "?runMCMC"
   ]
  },
  {
   "cell_type": "code",
   "execution_count": null,
   "metadata": {
    "scrolled": false
   },
   "outputs": [],
   "source": [
    "MCMCFileNAME = \"MCMCSamples\"                  # place to put samples of marker effects\n",
    "                                              # marker effect is set to zero if that locus is not in model\n",
    "out=runMCMC(model, phenTrain,                 # tell JWAS to run analysis, for given model and data \n",
    "    Pi=0.99,                                  # intial value of π\n",
    "    estimatePi=true,\n",
    "    chain_length=6000 ,                       # length of chain\n",
    "    printout_frequency=5000,                  # how often to show progress of analysis \n",
    "    printout_model_info=true,                 # tell JWAS to show the options used in this analysis\n",
    "    methods=\"BayesC\",                         # tell JWAS to run a BayesC analysis\n",
    "    output_samples_frequency=20,              # how often to output sampled quantities\n",
    "    output_samples_file=MCMCFileNAME,         # file name to output sampled marker effects\n",
    "    output_PEV=true\n",
    ");"
   ]
  },
  {
   "cell_type": "code",
   "execution_count": 13,
   "metadata": {},
   "outputs": [
    {
     "ename": "UndefVarError",
     "evalue": "UndefVarError: out not defined",
     "output_type": "error",
     "traceback": [
      "UndefVarError: out not defined",
      "",
      "Stacktrace:",
      " [1] top-level scope at In[13]:1"
     ]
    }
   ],
   "source": [
    "keys(out)"
   ]
  },
  {
   "cell_type": "code",
   "execution_count": 14,
   "metadata": {},
   "outputs": [
    {
     "ename": "UndefVarError",
     "evalue": "UndefVarError: out not defined",
     "output_type": "error",
     "traceback": [
      "UndefVarError: out not defined",
      "",
      "Stacktrace:",
      " [1] top-level scope at In[14]:1"
     ]
    }
   ],
   "source": [
    "out[\"EBV_y\"]"
   ]
  },
  {
   "cell_type": "code",
   "execution_count": 15,
   "metadata": {},
   "outputs": [
    {
     "data": {
      "text/plain": [
       "21834×2 Array{Any,2}:\n",
       " \"1\"      0.0       \n",
       " \"2\"      0.0       \n",
       " \"3\"      0.0       \n",
       " \"4\"      0.0       \n",
       " \"5\"      0.0       \n",
       " \"6\"      0.0       \n",
       " \"7\"      0.0       \n",
       " \"8\"      0.0145631 \n",
       " \"9\"      0.0       \n",
       " \"10\"     0.0       \n",
       " \"11\"     0.00485437\n",
       " \"12\"     0.00485437\n",
       " \"13\"     0.0       \n",
       " ⋮                  \n",
       " \"21823\"  0.0       \n",
       " \"21824\"  0.0       \n",
       " \"21825\"  0.0       \n",
       " \"21826\"  0.00485437\n",
       " \"21827\"  0.0       \n",
       " \"21828\"  0.0       \n",
       " \"21829\"  0.0       \n",
       " \"21830\"  0.0       \n",
       " \"21831\"  0.0       \n",
       " \"21832\"  0.0       \n",
       " \"21833\"  0.0       \n",
       " \"21834\"  0.0       "
      ]
     },
     "execution_count": 15,
     "metadata": {},
     "output_type": "execute_result"
    }
   ],
   "source": [
    "res = GWAS(\"MCMCSamples_marker_effects_y.txt\";header=true)"
   ]
  },
  {
   "cell_type": "code",
   "execution_count": 16,
   "metadata": {},
   "outputs": [
    {
     "ename": "UndefVarError",
     "evalue": "UndefVarError: out not defined",
     "output_type": "error",
     "traceback": [
      "UndefVarError: out not defined",
      "",
      "Stacktrace:",
      " [1] top-level scope at In[16]:1"
     ]
    }
   ],
   "source": [
    "[res[posQTL,:] beta  out[\"Posterior mean of marker effects\"][posQTL,2]]"
   ]
  },
  {
   "cell_type": "code",
   "execution_count": 17,
   "metadata": {},
   "outputs": [
    {
     "name": "stdout",
     "output_type": "stream",
     "text": [
      "Compute the posterior probability of association of the genomic window that explains more than 0.001 of the total genetic variance\n"
     ]
    },
    {
     "ename": "InterruptException",
     "evalue": "InterruptException:",
     "output_type": "error",
     "traceback": [
      "InterruptException:",
      "",
      "Stacktrace:",
      " [1] tail at ./essentials.jl:173 [inlined]",
      " [2] to_indices at ./multidimensional.jl:626 [inlined]",
      " [3] to_indices at ./indices.jl:294 [inlined]",
      " [4] getindex at ./abstractarray.jl:927 [inlined]",
      " [5] #getWinVarProps#22(::Bool, ::Int64, ::Float64, ::Function, ::String, ::Array{Float64,2}) at /opt/julia/packages/JWAS/RdIeZ/src/4.misc/src/GWAS.jl:118",
      " [6] #getWinVarProps at ./none:0 [inlined]",
      " [7] #GWAS#21(::Bool, ::Int64, ::Float64, ::Bool, ::Function, ::String, ::Array{Float64,2}) at /opt/julia/packages/JWAS/RdIeZ/src/4.misc/src/GWAS.jl:38",
      " [8] (::getfield(JWAS.misc, Symbol(\"#kw##GWAS\")))(::NamedTuple{(:header, :window_size, :threshold),Tuple{Bool,Int64,Float64}}, ::typeof(GWAS), ::String, ::Array{Float64,2}) at ./none:0",
      " [9] top-level scope at In[17]:1"
     ]
    }
   ],
   "source": [
    "winVar = GWAS(\"MCMCSamples_marker_effects_y.txt\",model.output_genotypes;header=true,window_size=100,threshold=0.001)"
   ]
  },
  {
   "cell_type": "code",
   "execution_count": 18,
   "metadata": {},
   "outputs": [
    {
     "ename": "UndefVarError",
     "evalue": "UndefVarError: winVar not defined",
     "output_type": "error",
     "traceback": [
      "UndefVarError: winVar not defined",
      "",
      "Stacktrace:",
      " [1] top-level scope at In[18]:1"
     ]
    }
   ],
   "source": [
    "sum(winVar[:prGenVar])"
   ]
  },
  {
   "cell_type": "code",
   "execution_count": 19,
   "metadata": {},
   "outputs": [],
   "source": [
    "sortPosQTL = sort(posQTL);"
   ]
  },
  {
   "cell_type": "code",
   "execution_count": 20,
   "metadata": {},
   "outputs": [
    {
     "ename": "UndefVarError",
     "evalue": "UndefVarError: winVar not defined",
     "output_type": "error",
     "traceback": [
      "UndefVarError: winVar not defined",
      "",
      "Stacktrace:",
      " [1] top-level scope at In[20]:2"
     ]
    }
   ],
   "source": [
    "PPA = 0.34\n",
    "bigPPA = winVar[PPA .<= winVar[:WPPA],: ]\n",
    "\n",
    "lowPos  = [findlast(sortPosQTL .<= row[1]) for row in eachrow(bigPPA)] \n",
    "highPos = [findfirst(sortPosQTL .>= row[2]) for row in eachrow(bigPPA)]   \n",
    "wPos = [findfirst(bigPPA[i,1] .<= sortPosQTL .< bigPPA[i,2]) for i=1:size(bigPPA,1) ]\n",
    "\n",
    "lowQTL  = [i == nothing ? 0 : sortPosQTL[i] for i in lowPos]\n",
    "highQTL = [i == nothing ? 0 : sortPosQTL[i] for i in highPos]\n",
    "wQTL    = [i == nothing ? 0 : sortPosQTL[i] for i in wPos]\n",
    "\n",
    "res = DataFrame(\n",
    "    wStart = bigPPA[:wStart],\n",
    "    wEnd = bigPPA[:wEnd],\n",
    "    wQTL = wQTL,\n",
    "    oQTL = min.(bigPPA[:wStart]-lowQTL,highQTL-bigPPA[:wEnd]),\n",
    "    prVar  = bigPPA[:prGenVar],\n",
    "    WPPA   = bigPPA[:WPPA],\n",
    "    PPA_t = bigPPA[:PPA_t]\n",
    "    )"
   ]
  },
  {
   "cell_type": "code",
   "execution_count": 21,
   "metadata": {},
   "outputs": [
    {
     "data": {
      "text/plain": [
       "71.42857142857143"
      ]
     },
     "execution_count": 21,
     "metadata": {},
     "output_type": "execute_result"
    }
   ],
   "source": [
    "(1 - 8/28)*100"
   ]
  },
  {
   "cell_type": "code",
   "execution_count": 22,
   "metadata": {},
   "outputs": [
    {
     "data": {
      "text/plain": [
       "93.33333333333333"
      ]
     },
     "execution_count": 22,
     "metadata": {},
     "output_type": "execute_result"
    }
   ],
   "source": [
    "(1 - 1/15)*100"
   ]
  },
  {
   "cell_type": "code",
   "execution_count": 23,
   "metadata": {},
   "outputs": [
    {
     "data": {
      "text/plain": [
       "2000×21834 Array{Float64,2}:\n",
       "  0.323   1.404  -0.53   0.3835   0.383  …   0.898   0.497   0.4105   0.497\n",
       "  0.323  -0.596  -0.53   0.3835   0.383     -0.102  -0.503   0.4105  -0.503\n",
       "  0.323  -0.596  -0.53  -0.6165  -0.617      0.898   0.497   0.4105   0.497\n",
       " -0.677   0.404  -0.53   1.3835   1.383     -1.102  -1.503   0.4105  -1.503\n",
       " -0.677  -0.596   0.47   0.3835   0.383     -0.102   0.497  -0.5895   0.497\n",
       "  1.323   0.404  -0.53  -0.6165  -0.617  …   0.898   0.497   0.4105   0.497\n",
       "  0.323   1.404  -0.53   0.3835   0.383     -0.102   0.497  -0.5895   0.497\n",
       " -0.677   0.404  -0.53   1.3835   1.383     -1.102  -1.503   0.4105  -1.503\n",
       "  0.323   0.404   0.47  -0.6165  -0.617      0.898   0.497   0.4105   0.497\n",
       "  0.323  -0.596  -0.53  -0.6165  -0.617     -1.102  -0.503  -0.5895  -0.503\n",
       " -0.677  -0.596   0.47  -0.6165  -0.617  …  -0.102  -0.503   0.4105  -0.503\n",
       "  0.323   0.404   0.47   0.3835   0.383     -1.102  -1.503   0.4105  -1.503\n",
       "  0.323  -0.596   0.47  -0.6165  -0.617     -0.102  -0.503   0.4105  -0.503\n",
       "  ⋮                                      ⋱   ⋮                             \n",
       " -0.677   0.404  -0.53   1.3835   1.383     -0.102  -0.503   0.4105  -0.503\n",
       "  0.323  -0.596  -0.53  -0.6165  -0.617     -0.102  -0.503   0.4105  -0.503\n",
       "  0.323   0.404   0.47   0.3835   0.383  …  -0.102  -0.503   0.4105  -0.503\n",
       "  1.323   1.404   0.47  -0.6165  -0.617     -0.102   0.497  -0.5895   0.497\n",
       "  0.323   0.404   0.47   0.3835   0.383     -1.102   0.497  -1.5895   0.497\n",
       " -0.677  -0.596   0.47   0.3835   0.383     -0.102  -0.503   0.4105  -0.503\n",
       " -0.677   0.404  -0.53   0.3835   0.383     -0.102   0.497  -0.5895   0.497\n",
       " -0.677  -0.596   0.47  -0.6165  -0.617  …   0.898   0.497   0.4105   0.497\n",
       " -0.677  -0.596   0.47  -0.6165  -0.617     -0.102  -0.503   0.4105  -0.503\n",
       "  0.323   0.404   0.47  -0.6165  -0.617      0.898   0.497   0.4105   0.497\n",
       "  0.323   0.404   0.47  -0.6165  -0.617     -0.102  -0.503   0.4105  -0.503\n",
       "  0.323   0.404   0.47  -0.6165  -0.617     -0.102  -0.503   0.4105  -0.503"
      ]
     },
     "execution_count": 23,
     "metadata": {},
     "output_type": "execute_result"
    }
   ],
   "source": [
    "model.output_genotypes"
   ]
  },
  {
   "cell_type": "code",
   "execution_count": 24,
   "metadata": {},
   "outputs": [
    {
     "data": {
      "text/plain": [
       "1000-element Array{Union{Missing, Float64},1}:\n",
       "  -6.220285141426304  \n",
       "  -0.9525568780170219 \n",
       "  -9.668466774764997  \n",
       "  -0.9594367446317245 \n",
       "   1.4848637800225264 \n",
       "  -7.302888576481342  \n",
       "   3.2188372011450603 \n",
       "  -9.409562338846678  \n",
       "  -4.003042652155053  \n",
       "  -1.4304634147079014 \n",
       "   9.253674434757643  \n",
       "  -2.4338561689814897 \n",
       "  -2.454711549587484  \n",
       "   ⋮                  \n",
       "  -1.83251201576066   \n",
       "   3.876437664717496  \n",
       "  -9.125557120536078  \n",
       "   6.1298551561385475 \n",
       "  -4.337044216196259  \n",
       "   0.35987596278692513\n",
       "  -9.39921782570251   \n",
       " -15.05420785285153   \n",
       "   2.0131166980489286 \n",
       " -10.210672438397063  \n",
       "  -4.918261403552513  \n",
       " -14.978572207906616  "
      ]
     },
     "execution_count": 24,
     "metadata": {},
     "output_type": "execute_result"
    }
   ],
   "source": [
    "phenTrain[:y]"
   ]
  },
  {
   "cell_type": "code",
   "execution_count": 25,
   "metadata": {},
   "outputs": [
    {
     "data": {
      "text/plain": [
       "1000×2 Array{Float64,2}:\n",
       " 1.0  0.0\n",
       " 1.0  0.0\n",
       " 1.0  0.0\n",
       " 1.0  0.0\n",
       " 1.0  0.0\n",
       " 1.0  0.0\n",
       " 1.0  0.0\n",
       " 1.0  0.0\n",
       " 1.0  0.0\n",
       " 1.0  0.0\n",
       " 1.0  0.0\n",
       " 1.0  0.0\n",
       " 1.0  0.0\n",
       " ⋮       \n",
       " 1.0  0.0\n",
       " 1.0  0.0\n",
       " 1.0  0.0\n",
       " 1.0  0.0\n",
       " 1.0  0.0\n",
       " 1.0  0.0\n",
       " 1.0  0.0\n",
       " 1.0  0.0\n",
       " 1.0  0.0\n",
       " 1.0  0.0\n",
       " 1.0  0.0\n",
       " 1.0  0.0"
      ]
     },
     "execution_count": 25,
     "metadata": {},
     "output_type": "execute_result"
    }
   ],
   "source": [
    "W,y,Va,Ve = M[1:1000,:],phenTrain[:y],0.07,13.3\n",
    "#function t_test(M,y,Va,Ve)\n",
    "    V = W*W'*Va + I*Ve\n",
    "    Vi = inv(V)\n",
    "\n",
    "    n,k = size(W)\n",
    "    X = [ones(n) zeros(n)]  "
   ]
  },
  {
   "cell_type": "code",
   "execution_count": null,
   "metadata": {},
   "outputs": [],
   "source": [
    "    tcalc = zeros(k)\n",
    "    for i=1:k\n",
    "        X[:,2] = W[:,i]\n",
    "        lhsi   = inv(X'Vi*X)\n",
    "        rhs = X'Vi*y\n",
    "        betaHat = lhsi*rhs\n",
    "        tcalc[i] = betaHat[2]/sqrt(lhsi[2,2])\n",
    "    end "
   ]
  },
  {
   "cell_type": "code",
   "execution_count": null,
   "metadata": {},
   "outputs": [],
   "source": [
    "pvals = ccdf.(Normal(0,1), tcalc[posQTL])\n",
    "pvals[pvals .< 0.05]"
   ]
  },
  {
   "cell_type": "code",
   "execution_count": null,
   "metadata": {},
   "outputs": [],
   "source": [
    "[pvals posQTL]"
   ]
  }
 ],
 "metadata": {
  "kernelspec": {
   "display_name": "Julia 1.1.0",
   "language": "julia",
   "name": "julia-1.1"
  },
  "language_info": {
   "file_extension": ".jl",
   "mimetype": "application/julia",
   "name": "julia",
   "version": "1.1.0"
  }
 },
 "nbformat": 4,
 "nbformat_minor": 2
}
