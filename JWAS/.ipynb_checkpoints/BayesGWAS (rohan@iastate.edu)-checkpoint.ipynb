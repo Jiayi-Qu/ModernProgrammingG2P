{
 "cells": [
  {
   "cell_type": "code",
   "execution_count": 23,
   "metadata": {},
   "outputs": [
    {
     "name": "stdout",
     "output_type": "stream",
     "text": [
      "\u001b[32m\u001b[1m  Updating\u001b[22m\u001b[39m registry at `/opt/julia/registries/General`\n",
      "\u001b[32m\u001b[1m  Updating\u001b[22m\u001b[39m git-repo `https://github.com/JuliaRegistries/General.git`\n",
      "\u001b[?25l\u001b[2K\u001b[?25h\u001b[32m\u001b[1m Resolving\u001b[22m\u001b[39m package versions...\n",
      "\u001b[32m\u001b[1m  Updating\u001b[22m\u001b[39m `/opt/julia/environments/v1.1/Project.toml`\n",
      " \u001b[90m [c9a035f4]\u001b[39m\u001b[31m ? JWAS v0.5.3\u001b[39m\n",
      "\u001b[32m\u001b[1m  Updating\u001b[22m\u001b[39m `/opt/julia/environments/v1.1/Manifest.toml`\n",
      " \u001b[90m [c9a035f4]\u001b[39m\u001b[31m ? JWAS v0.5.3\u001b[39m\n",
      "\u001b[32m\u001b[1m  Updating\u001b[22m\u001b[39m registry at `/opt/julia/registries/General`\n",
      "\u001b[32m\u001b[1m  Updating\u001b[22m\u001b[39m git-repo `https://github.com/JuliaRegistries/General.git`\n",
      "\u001b[?25l\u001b[2K\u001b[?25h"
     ]
    },
    {
     "ename": "MethodError",
     "evalue": "MethodError: Cannot `convert` an object of type Nothing to an object of type Base.SHA1\nClosest candidates are:\n  convert(::Type{S}, !Matched::T<:(Union{CategoricalString{R}, CategoricalValue{T,R} where T} where R)) where {S, T<:(Union{CategoricalString{R}, CategoricalValue{T,R} where T} where R)} at /opt/julia/packages/CategoricalArrays/ucKV2/src/value.jl:91\n  convert(::Type{T}, !Matched::T) where T at essentials.jl:154",
     "output_type": "error",
     "traceback": [
      "MethodError: Cannot `convert` an object of type Nothing to an object of type Base.SHA1\nClosest candidates are:\n  convert(::Type{S}, !Matched::T<:(Union{CategoricalString{R}, CategoricalValue{T,R} where T} where R)) where {S, T<:(Union{CategoricalString{R}, CategoricalValue{T,R} where T} where R)} at /opt/julia/packages/CategoricalArrays/ucKV2/src/value.jl:91\n  convert(::Type{T}, !Matched::T) where T at essentials.jl:154",
      "",
      "Stacktrace:",
      " [1] setindex!(::Dict{Base.UUID,Base.SHA1}, ::Nothing, ::Base.UUID) at ./dict.jl:381",
      " [2] #instantiate#65(::Nothing, ::Base.Iterators.Pairs{Union{},Union{},Tuple{},NamedTuple{(),Tuple{}}}, ::Function, ::Pkg.Types.Context) at /buildworker/worker/package_linux64/build/usr/share/julia/stdlib/v1.1/Pkg/src/API.jl:458",
      " [3] instantiate at /buildworker/worker/package_linux64/build/usr/share/julia/stdlib/v1.1/Pkg/src/API.jl:437 [inlined]",
      " [4] #instantiate#64 at /buildworker/worker/package_linux64/build/usr/share/julia/stdlib/v1.1/Pkg/src/API.jl:435 [inlined]",
      " [5] instantiate() at /buildworker/worker/package_linux64/build/usr/share/julia/stdlib/v1.1/Pkg/src/API.jl:435",
      " [6] top-level scope at In[23]:3"
     ]
    }
   ],
   "source": [
    "using Pkg\n",
    "Pkg.update(PackageSpec(name=\"JWAS\",rev=\"master\"))"
   ]
  },
  {
   "cell_type": "code",
   "execution_count": 22,
   "metadata": {},
   "outputs": [
    {
     "name": "stdout",
     "output_type": "stream",
     "text": [
      "\u001b[32m\u001b[1m  Updating\u001b[22m\u001b[39m `/opt/julia/environments/v1.1/Project.toml`\n",
      " \u001b[90m [c9a035f4]\u001b[39m\u001b[31m ? JWAS v0.5.3\u001b[39m\n",
      "\u001b[32m\u001b[1m  Updating\u001b[22m\u001b[39m `/opt/julia/environments/v1.1/Manifest.toml`\n",
      " \u001b[90m [c9a035f4]\u001b[39m\u001b[31m ? JWAS v0.5.3\u001b[39m\n"
     ]
    }
   ],
   "source": [
    "#Pkg.develop(PackageSpec(path=\"/home/jovyan/rohan/Box Sync/JWAS.jl\"))\n",
    "#Pkg.free(\"JWAS\")\n",
    "#Pkg.add(\"StatsPlots\")"
   ]
  },
  {
   "cell_type": "code",
   "execution_count": 3,
   "metadata": {
    "collapsed": true
   },
   "outputs": [
    {
     "ename": "ArgumentError",
     "evalue": "ArgumentError: Package JWAS [c9a035f4-d403-5e6b-8649-6be755bc4798] is required but does not seem to be installed:\n - Run `Pkg.instantiate()` to install all recorded dependencies.\n",
     "output_type": "error",
     "traceback": [
      "ArgumentError: Package JWAS [c9a035f4-d403-5e6b-8649-6be755bc4798] is required but does not seem to be installed:\n - Run `Pkg.instantiate()` to install all recorded dependencies.\n",
      "",
      "Stacktrace:",
      " [1] _require(::Base.PkgId) at ./loading.jl:929",
      " [2] require(::Base.PkgId) at ./loading.jl:858",
      " [3] require(::Module, ::Symbol) at ./loading.jl:853",
      " [4] top-level scope at In[3]:2"
     ]
    }
   ],
   "source": [
    "using DataFrames              # package for working with data sets\n",
    "using JWAS                    # package for Bayesian regression analyses, including BayesB and BayesCπ        \n",
    "using JWAS:misc               # utility functions\n",
    "using Distributions       \n",
    "using Plots                   # package for plotting \n",
    "using LinearAlgebra,Statistics,Random,DelimitedFiles, DataFrames"
   ]
  },
  {
   "cell_type": "markdown",
   "metadata": {},
   "source": [
    "### Input marker and phenotype data"
   ]
  },
  {
   "cell_type": "code",
   "execution_count": 4,
   "metadata": {},
   "outputs": [
    {
     "data": {
      "text/plain": [
       "removeCols! (generic function with 1 method)"
      ]
     },
     "execution_count": 4,
     "metadata": {},
     "output_type": "execute_result"
    }
   ],
   "source": [
    "function readMatBin(fileName)\n",
    "    genStr = open(fileName)\n",
    "    n = read(genStr,Int64)\n",
    "    p = read(genStr,Int64)\n",
    "    M = zeros(n,p)\n",
    "    for j in 1:p\n",
    "        for i in 1:n\n",
    "            M[i,j] = read(genStr,Float64)\n",
    "        end\n",
    "    end\n",
    "    close(genStr)\n",
    "    return M\n",
    "end\n",
    "\n",
    "function removeCols!(M,cols)\n",
    "    return M[:, [!(i in cols) for i=1:size(M,2)]]\n",
    "end"
   ]
  },
  {
   "cell_type": "code",
   "execution_count": 5,
   "metadata": {
    "collapsed": true
   },
   "outputs": [
    {
     "ename": "UndefVarError",
     "evalue": "UndefVarError: readdlm not defined",
     "output_type": "error",
     "traceback": [
      "UndefVarError: readdlm not defined",
      "",
      "Stacktrace:",
      " [1] top-level scope at In[5]:1"
     ]
    }
   ],
   "source": [
    "posQTL  = Int64.(vec(readdlm(\"posQTL.csv\")))\n",
    "beta    = readdlm(\"beta.csv\")\n",
    "M = readMatBin(\"genotypes.bin\");"
   ]
  },
  {
   "cell_type": "code",
   "execution_count": 6,
   "metadata": {
    "collapsed": true
   },
   "outputs": [
    {
     "ename": "UndefVarError",
     "evalue": "UndefVarError: M not defined",
     "output_type": "error",
     "traceback": [
      "UndefVarError: M not defined",
      "",
      "Stacktrace:",
      " [1] top-level scope at In[6]:1"
     ]
    }
   ],
   "source": [
    "n,p = size(M)\n",
    "simData  = readtable(\"phenotypes.csv\",header=false,names=[:y])# reading in the simulated phenotypes into a data frame\n",
    "phenData = DataFrame(id=1:n, y=simData[:y])\n",
    "first(phenData,5)"
   ]
  },
  {
   "cell_type": "code",
   "execution_count": 7,
   "metadata": {},
   "outputs": [
    {
     "ename": "UndefVarError",
     "evalue": "UndefVarError: phenData not defined",
     "output_type": "error",
     "traceback": [
      "UndefVarError: phenData not defined",
      "",
      "Stacktrace:",
      " [1] top-level scope at In[7]:1"
     ]
    }
   ],
   "source": [
    "phenTrain = phenData[1001:end,:]\n",
    "first(phenTrain,5)"
   ]
  },
  {
   "cell_type": "code",
   "execution_count": 8,
   "metadata": {},
   "outputs": [
    {
     "ename": "UndefVarError",
     "evalue": "UndefVarError: simData not defined",
     "output_type": "error",
     "traceback": [
      "UndefVarError: simData not defined",
      "",
      "Stacktrace:",
      " [1] top-level scope at In[8]:1"
     ]
    }
   ],
   "source": [
    "resVar = var(simData[:y])/2\n",
    "genVar = resVar"
   ]
  },
  {
   "cell_type": "markdown",
   "metadata": {},
   "source": [
    "### Run BayesC$\\pi$ using JWAS"
   ]
  },
  {
   "cell_type": "code",
   "execution_count": 9,
   "metadata": {
    "scrolled": false
   },
   "outputs": [
    {
     "ename": "UndefVarError",
     "evalue": "UndefVarError: M not defined",
     "output_type": "error",
     "traceback": [
      "UndefVarError: M not defined",
      "",
      "Stacktrace:",
      " [1] top-level scope at In[9]:1"
     ]
    }
   ],
   "source": [
    "ids = string.(1:size(M,1))                     # ids in genotype file are sequential numbers 1...n\n",
    "model  = build_model(\"y = intercept\",resVar)   # give model (except for marker part)\n",
    "add_genotypes(model,M,genVar,header=false,rowID=ids,G_is_marker_variance=false);"
   ]
  },
  {
   "cell_type": "code",
   "execution_count": 10,
   "metadata": {},
   "outputs": [
    {
     "name": "stdout",
     "output_type": "stream",
     "text": [
      "search:\n",
      "\n",
      "Couldn't find \u001b[36mrunMCMC\u001b[39m\n",
      "Perhaps you meant run\n"
     ]
    },
    {
     "data": {
      "text/latex": [
       "No documentation found.\n",
       "\n",
       "Binding \\texttt{runMCMC} does not exist.\n",
       "\n"
      ],
      "text/markdown": [
       "No documentation found.\n",
       "\n",
       "Binding `runMCMC` does not exist.\n"
      ],
      "text/plain": [
       "  No documentation found.\n",
       "\n",
       "  Binding \u001b[36mrunMCMC\u001b[39m does not exist."
      ]
     },
     "execution_count": 10,
     "metadata": {},
     "output_type": "execute_result"
    }
   ],
   "source": [
    "?runMCMC"
   ]
  },
  {
   "cell_type": "code",
   "execution_count": 11,
   "metadata": {
    "scrolled": false
   },
   "outputs": [
    {
     "ename": "UndefVarError",
     "evalue": "UndefVarError: runMCMC not defined",
     "output_type": "error",
     "traceback": [
      "UndefVarError: runMCMC not defined",
      "",
      "Stacktrace:",
      " [1] top-level scope at In[11]:2"
     ]
    }
   ],
   "source": [
    "MCMCFileNAME = \"MCMCSamples\"                  # place to put samples of marker effects\n",
    "                                              # marker effect is set to zero if that locus is not in model\n",
    "out=runMCMC(model, phenTrain,                 # tell JWAS to run analysis, for given model and data \n",
    "    Pi=0.99,                                  # intial value of π\n",
    "    estimatePi=true,\n",
    "    chain_length=1000,                       # length of chain\n",
    "    printout_frequency=5000,                  # how often to show progress of analysis \n",
    "    printout_model_info=true,                 # tell JWAS to show the options used in this analysis\n",
    "    methods=\"BayesC\",                         # tell JWAS to run a BayesC analysis\n",
    "    output_samples_frequency=20,              # how often to output sampled quantities\n",
    "    output_samples_file=MCMCFileNAME,         # file name to output sampled marker effects\n",
    "    output_PEV=true\n",
    ");"
   ]
  },
  {
   "cell_type": "code",
   "execution_count": 12,
   "metadata": {},
   "outputs": [
    {
     "ename": "UndefVarError",
     "evalue": "UndefVarError: out not defined",
     "output_type": "error",
     "traceback": [
      "UndefVarError: out not defined",
      "",
      "Stacktrace:",
      " [1] top-level scope at In[12]:1"
     ]
    }
   ],
   "source": [
    "keys(out)"
   ]
  },
  {
   "cell_type": "code",
   "execution_count": 13,
   "metadata": {},
   "outputs": [
    {
     "ename": "UndefVarError",
     "evalue": "UndefVarError: out not defined",
     "output_type": "error",
     "traceback": [
      "UndefVarError: out not defined",
      "",
      "Stacktrace:",
      " [1] top-level scope at In[13]:1"
     ]
    }
   ],
   "source": [
    "out[\"EBV_y\"]"
   ]
  },
  {
   "cell_type": "code",
   "execution_count": 14,
   "metadata": {},
   "outputs": [
    {
     "ename": "UndefVarError",
     "evalue": "UndefVarError: GWAS not defined",
     "output_type": "error",
     "traceback": [
      "UndefVarError: GWAS not defined",
      "",
      "Stacktrace:",
      " [1] top-level scope at In[14]:1"
     ]
    }
   ],
   "source": [
    "res = GWAS(\"MCMCSamples_marker_effects_y.txt\";header=true)"
   ]
  },
  {
   "cell_type": "code",
   "execution_count": 15,
   "metadata": {},
   "outputs": [
    {
     "ename": "UndefVarError",
     "evalue": "UndefVarError: res not defined",
     "output_type": "error",
     "traceback": [
      "UndefVarError: res not defined",
      "",
      "Stacktrace:",
      " [1] top-level scope at In[15]:1"
     ]
    }
   ],
   "source": [
    "[res[posQTL,:] beta  out[\"Posterior mean of marker effects\"][posQTL,2]]"
   ]
  },
  {
   "cell_type": "code",
   "execution_count": 16,
   "metadata": {},
   "outputs": [
    {
     "ename": "UndefVarError",
     "evalue": "UndefVarError: GWAS not defined",
     "output_type": "error",
     "traceback": [
      "UndefVarError: GWAS not defined",
      "",
      "Stacktrace:",
      " [1] top-level scope at In[16]:1"
     ]
    }
   ],
   "source": [
    "winVar = GWAS(\"MCMCSamples_marker_effects_y.txt\",model.output_genotypes;header=true,window_size=100,threshold=0.001)"
   ]
  },
  {
   "cell_type": "code",
   "execution_count": 17,
   "metadata": {},
   "outputs": [
    {
     "ename": "UndefVarError",
     "evalue": "UndefVarError: winVar not defined",
     "output_type": "error",
     "traceback": [
      "UndefVarError: winVar not defined",
      "",
      "Stacktrace:",
      " [1] top-level scope at In[17]:1"
     ]
    }
   ],
   "source": [
    "sum(winVar[:prGenVar])"
   ]
  },
  {
   "cell_type": "code",
   "execution_count": 18,
   "metadata": {},
   "outputs": [
    {
     "ename": "UndefVarError",
     "evalue": "UndefVarError: posQTL not defined",
     "output_type": "error",
     "traceback": [
      "UndefVarError: posQTL not defined",
      "",
      "Stacktrace:",
      " [1] top-level scope at In[18]:1"
     ]
    }
   ],
   "source": [
    "sortPosQTL = sort(posQTL);"
   ]
  },
  {
   "cell_type": "code",
   "execution_count": 19,
   "metadata": {},
   "outputs": [
    {
     "ename": "UndefVarError",
     "evalue": "UndefVarError: winVar not defined",
     "output_type": "error",
     "traceback": [
      "UndefVarError: winVar not defined",
      "",
      "Stacktrace:",
      " [1] top-level scope at In[19]:2"
     ]
    }
   ],
   "source": [
    "PPA = 0.44\n",
    "bigPPA = winVar[PPA .<= winVar[:WPPA],: ]\n",
    "\n",
    "lowPos  = [findlast(sortPosQTL .<= row[1]) for row in eachrow(bigPPA)] \n",
    "highPos = [findfirst(sortPosQTL .>= row[2]) for row in eachrow(bigPPA)]   \n",
    "wPos = [findfirst(bigPPA[i,1] .<= sortPosQTL .< bigPPA[i,2]) for i=1:size(bigPPA,1) ]\n",
    "\n",
    "lowQTL  = [i == nothing ? 0 : sortPosQTL[i] for i in lowPos]\n",
    "highQTL = [i == nothing ? 0 : sortPosQTL[i] for i in highPos]\n",
    "wQTL    = [i == nothing ? 0 : sortPosQTL[i] for i in wPos]\n",
    "\n",
    "res = DataFrame(\n",
    "    wStart = bigPPA[:wStart],\n",
    "    wEnd = bigPPA[:wEnd],\n",
    "    wQTL = wQTL,\n",
    "    oQTL = min.(bigPPA[:wStart]-lowQTL,highQTL-bigPPA[:wEnd]),\n",
    "    prVar  = bigPPA[:prGenVar],\n",
    "    WPPA   = bigPPA[:WPPA],\n",
    "    meanPPA = bigPPA[:meanPPA]\n",
    "    )"
   ]
  },
  {
   "cell_type": "code",
   "execution_count": 20,
   "metadata": {},
   "outputs": [
    {
     "data": {
      "text/plain": [
       "78.26086956521739"
      ]
     },
     "execution_count": 20,
     "metadata": {},
     "output_type": "execute_result"
    }
   ],
   "source": [
    "(1 - 5/23)*100"
   ]
  }
 ],
 "metadata": {
  "kernelspec": {
   "display_name": "Julia 1.1.0",
   "language": "julia",
   "name": "julia-1.1"
  },
  "language_info": {
   "file_extension": ".jl",
   "mimetype": "application/julia",
   "name": "julia",
   "version": "1.1.0"
  }
 },
 "nbformat": 4,
 "nbformat_minor": 2
}
