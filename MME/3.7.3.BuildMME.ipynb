{
 "cells": [
  {
   "cell_type": "markdown",
   "metadata": {},
   "source": [
    "## Extensions for Models with SNP Covariates\n",
    "\n",
    "We have already seen how the MME can be constructed from the Data in a DataFrame and a higher-level description of the model. The model description included a string representation of the model equation, identification of the quantitative factors in the model, and specification of the random terms in the model. Here, we will see how substitution effects of SNPs can be inluded in the model as random effects in the model. In multiple-trait analyses, a single command will be used to include SNP effects in all the models. "
   ]
  },
  {
   "cell_type": "markdown",
   "metadata": {},
   "source": [
    "### Structures for Building MME"
   ]
  },
  {
   "cell_type": "code",
   "execution_count": 1,
   "metadata": {},
   "outputs": [
    {
     "name": "stderr",
     "output_type": "stream",
     "text": [
      "┌ Info: Precompiling DataFrames [a93c6f00-e57d-5684-b7b6-d8193f3e46c0]\n",
      "└ @ Base loading.jl:1273\n",
      "┌ Info: Precompiling JWAS [c9a035f4-d403-5e6b-8649-6be755bc4798]\n",
      "└ @ Base loading.jl:1273\n"
     ]
    },
    {
     "data": {
      "text/plain": [
       "ModelTerm"
      ]
     },
     "execution_count": 1,
     "metadata": {},
     "output_type": "execute_result"
    }
   ],
   "source": [
    "#EXECUTE \n",
    "using DataFrames, SparseArrays, LinearAlgebra, Random, JWAS, CSV, Distributions\n",
    "using Printf\n",
    "\n",
    "mutable struct ModelTerm\n",
    "    trmString::AbstractString\n",
    "    iModel::Int64                           # the model (trait) this term belongs to\n",
    "    startPos::Int64\n",
    "    endPos::Int64\n",
    "    randomType::String\n",
    "end\n",
    "\n",
    "# Composite type for including SNP effects in the model\n",
    "mutable struct Genotypes                    # ZM where Z is a sparse incidence matrix and M is a dense matrix of covariates           \n",
    "    trmString::AbstractString               # \"Ztrm\"\n",
    "    Z::SparseMatrixCSC{Float64,Int64}       # incidence matrix Z to map rows of M to phenotypes according to \"Ind\" \n",
    "    M::Array{Float64,2}                     # dense matrix of covariates\n",
    "    MArray::Array{Any,1}                    # column views of M\n",
    "    MPMArray::Array{Float64,1}              # diagonals of M'M\n",
    "    idGeno::Array{String}                   # row names of M (Ind must be a subset of idGeno)\n",
    "    α::Array{Float64,2}                     # nCovariates x nTraits matrix of effects\n",
    "    αMean::Array{Float64,2}                 # mean of sampled values  \n",
    "    yAdjArray::Array{Any,1}                 # Array of Arrays that will be used to access adjusted y-vector\n",
    "    νpr::Float64\n",
    "    Spr::Array{Float64,2}\n",
    "    Vi::Array{Float64,2}\n",
    "    meanV::Array{Float64,2}\n",
    "    estimate::Bool\n",
    "    outSamples::Bool\n",
    "    outFreq::Int64\n",
    "    outStream   \n",
    "end \n",
    "\n",
    "mutable struct RandomEffect\n",
    "    modelTermVec::Array{ModelTerm,1}      \n",
    "    νpr::Float64\n",
    "    Spr::Array{Float64,2}\n",
    "    Vi::Array{Float64,2}\n",
    "    meanV::Array{Float64,2}\n",
    "    Ai\n",
    "    estimate::Bool\n",
    "    outSamples::Bool\n",
    "    outFreq::Int64\n",
    "    outStream\n",
    "end\n",
    "\n",
    "mutable struct MME\n",
    "    modelEquations::Array{AbstractString,1} #\"[y1 = A + B + A*B ;y2 = A + B\"]\n",
    "    covVec::Array{String}                   #[\"age\"]\n",
    "    modelTermVec::Array{ModelTerm,1}        #[modelTerm(\"A\") , modelTerm(\"A*B\")]\n",
    "    modelTermDict::Dict{AbstractString,ModelTerm}\n",
    "    genotypes                               # dense component of model\n",
    "    randomEffectsVec::Array{RandomEffect,1} #[RandomEffect(\"Ind\"), RandomEffect(\"Mat\")]\n",
    "    ped                                     # false or a pedigee structure defined in JWAS.PedModule\n",
    "    depVarVec::Array{AbstractString,1}      #[\"y1\",\"y2\"]\n",
    "    X::SparseMatrixCSC{Float64,Int64}       #design matrix\n",
    "    mmeLhs::SparseMatrixCSC{Float64,Int64}  #left-hand side for MME\n",
    "    mmeRhs::Array{Float64,1}                #right-hand side for MME\n",
    "    mmeSpl::Array{Float64,1}                #sample of location parameters\n",
    "    meanEffects::Array{Float64,1}           #mean of location parameters\n",
    "    varRes::Array{Float64,2}                #residual variance \n",
    "    νRes::Float64                           #prior degrees of freedom for varRes\n",
    "    SRes::Array{Float64,2}                  #prior scale parameter for resVar\n",
    "    y::Array{Float64,1}                     #dependent variable\n",
    "    yAdj::Array{Float64,1}\n",
    "    meanVarRes::Array{Float64,2}                     \n",
    "end \n",
    "\n",
    "function ModelTerm(str::AbstractString,iModel)\n",
    "    ModelTerm(str,iModel,0,0,\"fixed\")\n",
    "end  "
   ]
  },
  {
   "cell_type": "code",
   "execution_count": 2,
   "metadata": {},
   "outputs": [
    {
     "data": {
      "text/plain": [
       "2×2 Array{Float64,2}:\n",
       " 1.0  0.5\n",
       " 0.5  2.0"
      ]
     },
     "execution_count": 2,
     "metadata": {},
     "output_type": "execute_result"
    }
   ],
   "source": [
    "Ri = [1.0 0.5;0.5 2.0]"
   ]
  },
  {
   "cell_type": "markdown",
   "metadata": {},
   "source": [
    "### Functions for Building MME"
   ]
  },
  {
   "cell_type": "code",
   "execution_count": 4,
   "metadata": {},
   "outputs": [
    {
     "data": {
      "text/plain": [
       "initMME (generic function with 1 method)"
      ]
     },
     "execution_count": 4,
     "metadata": {},
     "output_type": "execute_result"
    }
   ],
   "source": [
    "#EXECUTE \n",
    "function initMME(modelEquations::AbstractString,varRes;νRes=5.0)  # \"y1 = A + A*B; y2 = A + B + !(A)M\n",
    "    if modelEquations==\"\"\n",
    "        error(\"modelEquations is empty\\n\")\n",
    "    end\n",
    "    modelVec   = [strip(i) for i in split(modelEquations,[';','\\n'],keepempty=false)]\n",
    "    nModels    = size(modelVec,1)\n",
    "    depVarVec  = Array{AbstractString,1}()\n",
    "    modelTermVec  = Array{ModelTerm,1}()                 # modelTerms across all the models\n",
    "    modelTermDict = Dict{AbstractString,ModelTerm}()  \n",
    "    for (m,model) = enumerate(modelVec)\n",
    "        leftRight  = split(model,\"=\")                 # \"y\", \"A+A*B\"\n",
    "        depVarVec  = [depVarVec; strip(leftRight[1])] # [\"y1\",\"y2\"]\n",
    "        modelParts = strip(leftRight[2])              # \"A+A*B\" \n",
    "        termsVec   = split(modelParts,\"+\")            # \"A\",\"A*B\"\n",
    "        modelTermVeci = [ModelTerm(string(m)*\":\"*strip(trmStr),m) for trmStr in termsVec]\n",
    "        modelTermVec  = [modelTermVec;modelTermVeci]    \n",
    "    end\n",
    "    for i in modelTermVec\n",
    "        modelTermDict[i.trmString] = i\n",
    "    end\n",
    "    genotypes = false\n",
    "    randomEffectsVec = []\n",
    "    ped = false\n",
    "    covVec = []\n",
    "    X = spzeros(0,0)\n",
    "    mmeLhs = spzeros(0,0)\n",
    "    mmeRhs = []\n",
    "    mmeSpl = []\n",
    "    meanEffects = []\n",
    "    y      = Array{Float64,1}(undef,0)\n",
    "    yAdj   = Array{Float64,1}(undef,0)\n",
    "    m = size(varRes,1)\n",
    "    varRes = m==1 ? fill(varRes,1,1) : varRes\n",
    "    SRes   = varRes*(νRes - m - 1)\n",
    "    meanVarRes = zero(varRes)\n",
    "    return MME(modelVec,covVec,modelTermVec,modelTermDict,genotypes,randomEffectsVec,ped,\n",
    "               depVarVec,X,mmeLhs,mmeRhs,mmeSpl,meanEffects,varRes,νRes,SRes,y,yAdj,meanVarRes)\n",
    "end "
   ]
  },
  {
   "cell_type": "markdown",
   "metadata": {},
   "source": [
    "### Function for Adding SNP Effects to Model"
   ]
  },
  {
   "cell_type": "code",
   "execution_count": 5,
   "metadata": {},
   "outputs": [
    {
     "data": {
      "text/plain": [
       "addGenotypes! (generic function with 1 method)"
      ]
     },
     "execution_count": 5,
     "metadata": {},
     "output_type": "execute_result"
    }
   ],
   "source": [
    "#EXECUTE\n",
    "function addGenotypes!(mme::MME,df::DataFrame,ZTrm::AbstractString,M::Array{Float64,2},\n",
    "            idGeno::Array{String,1},V;\n",
    "            estimate::Bool=false,\n",
    "            νPrior::Float64=4.1,\n",
    "            outSamples::Bool=false,\n",
    "            outFreq::Int64=100\n",
    "        )\n",
    "        m = size(V,1)        \n",
    "        if outSamples==true\n",
    "            fileName = \"G.samples\"\n",
    "            outStream = open(fileName,\"w\")\n",
    "            for i=1:m,j=i:m\n",
    "                if i==j==1\n",
    "                    @printf(outStream,\"%6s\", \"V[$i,$j]\")\n",
    "                else\n",
    "                    @printf(outStream,\" %6s\", \"V[$i,$j]\")    \n",
    "                end        \n",
    "            end\n",
    "            @printf(outStream,\"\\n\")        \n",
    "        else\n",
    "            outStream = nothing\n",
    "        end        \n",
    "        var = m==1 ? fill(V,1,1) : V\n",
    "        d = Dict()\n",
    "        for (i,s) = enumerate(idGeno)\n",
    "            d[s] = i\n",
    "        end\n",
    "        n = size(df,1) \n",
    "        ii = collect(1:n) \n",
    "        jj = Array{Int64,1}(undef,n)\n",
    "        idPheno = string.(df[!,Symbol(ZTrm)])    \n",
    "        for (i,v) = enumerate(idPheno)\n",
    "            jj[i] = d[v]\n",
    "        end\n",
    "        Z = sparse(ii,jj,1.0,n,size(idGeno,1))\n",
    "        α = zeros(0,0)\n",
    "        αMean = zeros(0,0)    \n",
    "        Spr = (νPrior - m - 1)*var \n",
    "        yAdjArray = Array{Array{Float64,1},1}(undef,0)\n",
    "        MArray = Array{Any,1}(undef,0)\n",
    "        MPMArray = Array{Any,1}(undef,0)  \n",
    "        mme.genotypes = Genotypes(ZTrm,Z,M,MArray,MPMArray,idGeno,α,αMean,yAdjArray,νPrior,Spr,\n",
    "            inv(var),zero(var),estimate,outSamples,outFreq,outStream)\n",
    "        return\n",
    "end"
   ]
  },
  {
   "cell_type": "code",
   "execution_count": 6,
   "metadata": {},
   "outputs": [
    {
     "data": {
      "text/plain": [
       "addGiMats! (generic function with 1 method)"
      ]
     },
     "execution_count": 6,
     "metadata": {},
     "output_type": "execute_result"
    }
   ],
   "source": [
    "#EXECUTE \n",
    "# This function returns returns a dictionary with the names in the pedigree as the keys and their \n",
    "# sequential numbers as the associated values\n",
    "# It also returns vector with the keys in sequential order. \n",
    "\n",
    "function mkDict(ped::JWAS.PedModule.Pedigree)\n",
    "    d = Dict()\n",
    "    names = Array{String}(undef,length(ped.idMap))\n",
    "    for i in ped.idMap    \n",
    "        d[i.first] = i.second.seqID\n",
    "        names[i.second.seqID] = i.first\n",
    "    end\n",
    "    return d,names\n",
    "end\n",
    "\n",
    "# This function returns \n",
    "# a dictionary with the unique values in the vector \"a\" as the keys and their \n",
    "# sequential numbers as the associated values\n",
    "# It also returns vector with the keys in sequential order. \n",
    "function mkDict(a)\n",
    "    d = Dict()\n",
    "    aUnique = unique(a)\n",
    "    names = Array{String}(undef,size(aUnique,1))\n",
    "    for (i,s) in enumerate(aUnique)\n",
    "    names[i] = s\n",
    "    d[s] = i\n",
    "    end\n",
    "    return d,names\n",
    "end\n",
    "\n",
    "function getX(mme,modelTerm::ModelTerm,covariables,df)\n",
    "    n = size(df,1)\n",
    "    nModels = size(mme.modelEquations,1)\n",
    "    trmString = split(modelTerm.trmString,':')[2]\n",
    "    if trmString == \"intercept\"\n",
    "        ii = (modelTerm.iModel-1)*n .+ (1:n) # row numbers\n",
    "        jj = ones(n)\n",
    "        val = 1.0\n",
    "        p = 1\n",
    "        X  = sparse(ii,jj,val,n*nModels,p)\n",
    "        colNames = modelTerm.trmString\n",
    "        return X,colNames\n",
    "    end\n",
    "    factors = strip.(split(trmString,\"*\"))\n",
    "    covs = [i in covariables for i in factors]\n",
    "    \n",
    "    if covs[1] == false\n",
    "        str = string.(df[:,Symbol(factors[1])])\n",
    "        val = 1.0\n",
    "    else\n",
    "        str = fill(factors[1],n) \n",
    "        val = df[:,Symbol(factors[1])]    \n",
    "    end       \n",
    "\n",
    "    for i in 2:length(factors)\n",
    "        if covs[i] == false\n",
    "            str = str .*\" x \".*string.(df[:,Symbol(factors[i])])\n",
    "            val = val .* 1.0 \n",
    "        else\n",
    "            str = str .*\" x \".*fill(factors[i],n) \n",
    "            val = val .* df[:,Symbol(factors[i])]    \n",
    "        end \n",
    "    end\n",
    "    dict,colNames   = modelTerm.randomType != \"A\" ? mkDict(str) : mkDict(mme.ped)\n",
    "    #str = modelTerm.randomType != \"A\" ? str : string.(df[:,Symbol(factors[1])])\n",
    "    str = modelTerm.randomType != \"A\" ? str : string.(df[:, Symbol(factors[factors .!= mme.covVec][1])])\n",
    "    ii = (modelTerm.iModel-1)*n .+ (1:n)      # row numbers \n",
    "    jj = [dict[i] for i in str]  # column numbers\n",
    "    p = length(colNames)        \n",
    "    X  = sparse(ii,jj,val,n*nModels,p)\n",
    "    return X, strip(modelTerm.trmString)*\": \".*colNames   \n",
    "end\n",
    "\n",
    "function setRandom!(mme::MME,trmStrings::String,V,ped=false;\n",
    "                estimate::Bool=false,\n",
    "                νPrior::Float64=4.1,\n",
    "                outSamples::Bool=false,\n",
    "                outFreq::Int64=100\n",
    "            )\n",
    "    m = size(V,1)        \n",
    "    if outSamples==true\n",
    "        fileName = \"V($trmStrings).samples\"\n",
    "        outStream = open(fileName,\"w\")\n",
    "        for i=1:m,j=i:m\n",
    "            if i==j==1\n",
    "                @printf(outStream,\"%6s\", \"V[$i,$j]\")\n",
    "            else\n",
    "                @printf(outStream,\" %6s\", \"V[$i,$j]\")    \n",
    "            end        \n",
    "        end\n",
    "        @printf(outStream,\"\\n\")        \n",
    "    else\n",
    "        outStream = nothing\n",
    "    end        \n",
    "    var = m==1 ? fill(V,1,1) : V        \n",
    "    trmVec = strip.(split(trmStrings,[',';' '],keepempty=false))\n",
    "    modelTerms = []\n",
    "    for modelTerm in mme.modelTermVec\n",
    "        trmString = split(modelTerm.trmString,':')[2]\n",
    "        if trmString in trmVec\n",
    "            push!(modelTerms,modelTerm)\n",
    "        end                \n",
    "    end\n",
    "    if length(modelTerms) != size(var,1)\n",
    "        println(\"size of var: $(size(var,1)) does not match the number of random effects: $(length(modelTerms))\")\n",
    "        return\n",
    "    end \n",
    "                \n",
    "    if ped==false\n",
    "        [trm.randomType = \"I\" for trm in modelTerms]\n",
    "        Ai = I\n",
    "    else\n",
    "        [trm.randomType = \"A\" for trm in modelTerms] \n",
    "        mme.ped = pedigree\n",
    "        Ai = JWAS.PedModule.AInverse(pedigree)    \n",
    "    end\n",
    "    Spr = (νPrior - m - 1)*var    \n",
    "    randomEffect = RandomEffect(modelTerms,νPrior,Spr,inv(var),zero(var),Ai,\n",
    "                        estimate,outSamples,outFreq,outStream)\n",
    "    push!(mme.randomEffectsVec,randomEffect)   \n",
    "end\n",
    "\n",
    "function addGiMats!(mme::MME)\n",
    "    for randomEffect in mme.randomEffectsVec\n",
    "        for (i,modelTermi) in enumerate(randomEffect.modelTermVec), (j,modelTermj) in enumerate(randomEffect.modelTermVec)\n",
    "            starti = modelTermi.startPos\n",
    "            startj = modelTermj.startPos\n",
    "            endi = modelTermi.endPos\n",
    "            endj = modelTermj.endPos\n",
    "            mme.mmeLhs[starti:endi,startj:endj] = mme.mmeLhs[starti:endi,startj:endj] + randomEffect.Ai*randomEffect.Vi[i,j]\n",
    "        end\n",
    "    end\n",
    "end"
   ]
  },
  {
   "cell_type": "code",
   "execution_count": 7,
   "metadata": {},
   "outputs": [
    {
     "data": {
      "text/plain": [
       "updateLhsRhs! (generic function with 1 method)"
      ]
     },
     "execution_count": 7,
     "metadata": {},
     "output_type": "execute_result"
    }
   ],
   "source": [
    "#EXECUTE\n",
    "function getLhsRhs!(mme,df)\n",
    "    n = size(df,1)\n",
    "    X,colNames = getX(mme,mme.modelTermVec[1],mme.covVec,df)\n",
    "    mme.modelTermVec[1].startPos = 1\n",
    "    mme.modelTermVec[1].endPos  = mme.modelTermVec[1].startPos + size(X,2) - 1\n",
    "    for i = 2:size(mme.modelTermVec,1)\n",
    "        Xi,namesi = getX(mme,mme.modelTermVec[i],mme.covVec,df)\n",
    "        X = [X Xi]\n",
    "        mme.modelTermVec[i].startPos = mme.modelTermVec[i-1].endPos + 1\n",
    "        mme.modelTermVec[i].endPos   = mme.modelTermVec[i].startPos + size(Xi,2) - 1\n",
    "        colNames = [colNames; namesi]\n",
    "    end\n",
    "    y = Array{Float64,1}()\n",
    "    for v in mme.depVarVec\n",
    "        y = [y;df[:,Symbol(v)]]\n",
    "    end\n",
    "    Ri = kron(inv(mme.varRes),sparse(I, n, n))\n",
    "    mme.X = X\n",
    "    mme.mmeLhs = X'Ri*X\n",
    "    mme.mmeRhs = X'Ri*y\n",
    "    mme.mmeSpl = zero(mme.mmeRhs)\n",
    "    mme.meanEffects = zero(mme.mmeRhs)\n",
    "    mme.y      = y\n",
    "    mme.yAdj = copy(mme.y)\n",
    "    addGiMats!(mme)\n",
    "    if mme.genotypes != false\n",
    "        mme.genotypes.M = mme.genotypes.M .- mean(mme.genotypes.M,dims=1)\n",
    "        mme.genotypes.M = mme.genotypes.Z * mme.genotypes.M\n",
    "        nModels  = size(mme.varRes,1)\n",
    "        nMarkers = size(mme.genotypes.M,2)\n",
    "        yAdjArray = Array{Any,1}(undef,nModels)\n",
    "        for i=1:nModels\n",
    "            startPos = (i-1)*n + 1\n",
    "            endPos = startPos + n - 1\n",
    "            yAdjArray[i] = @view mme.yAdj[startPos:endPos]\n",
    "        end\n",
    "        MArray   = Array{Any,1}(undef,nMarkers)\n",
    "        MPMArray = Array{Float64,1}(undef,nMarkers)\n",
    "        for i=1:nMarkers\n",
    "            m = @view mme.genotypes.M[:,i]\n",
    "            MArray[i] = m\n",
    "            MPMArray[i] = m'm\n",
    "        end\n",
    "        mme.genotypes.yAdjArray = yAdjArray\n",
    "        mme.genotypes.MArray = MArray\n",
    "        mme.genotypes.MPMArray = MPMArray\n",
    "        mme.genotypes.α = zeros(nMarkers,nModels)\n",
    "        mme.genotypes.αMean = zeros(nMarkers,nModels)\n",
    "    end\n",
    "    return mme.mmeLhs,mme.mmeRhs,colNames\n",
    "end\n",
    "function updateLhsRhs!(mme)\n",
    "    m = size(mme.varRes,1)\n",
    "    n = Int(size(mme.y,1)/m)\n",
    "    Ri = kron(inv(mme.varRes),sparse(I, n, n))\n",
    "    mme.mmeLhs = mme.X'Ri*mme.X\n",
    "    mme.mmeRhs = mme.X'Ri*mme.yAdj\n",
    "    addGiMats!(mme)\n",
    "end"
   ]
  },
  {
   "cell_type": "code",
   "execution_count": 8,
   "metadata": {},
   "outputs": [
    {
     "name": "stdout",
     "output_type": "stream",
     "text": [
      "\u001b[32mThe delimiter in pedFile is ','.\u001b[39m\n"
     ]
    },
    {
     "name": "stderr",
     "output_type": "stream",
     "text": [
      "\u001b[32mcoding pedigree... 100%|████████████████████████████████| Time: 0:00:00\u001b[39m\n",
      "\u001b[32mcalculating inbreeding... 100%|█████████████████████████| Time: 0:00:00\u001b[39m\n"
     ]
    },
    {
     "name": "stdout",
     "output_type": "stream",
     "text": [
      "Finished!\n"
     ]
    }
   ],
   "source": [
    "pedigree   = get_pedigree(\"pedFile\",separator=\",\",header=false);"
   ]
  },
  {
   "cell_type": "code",
   "execution_count": 9,
   "metadata": {},
   "outputs": [
    {
     "data": {
      "text/plain": [
       "JWAS.PedModule.Pedigree"
      ]
     },
     "execution_count": 9,
     "metadata": {},
     "output_type": "execute_result"
    }
   ],
   "source": [
    "typeof(pedigree)"
   ]
  },
  {
   "cell_type": "code",
   "execution_count": 10,
   "metadata": {},
   "outputs": [
    {
     "data": {
      "text/html": [
       "<table class=\"data-frame\"><thead><tr><th></th><th>Ind</th><th>Mat</th><th>y1</th><th>y2</th><th>x</th></tr><tr><th></th><th>Int64</th><th>Int64</th><th>Float64</th><th>Float64</th><th>Float64</th></tr></thead><tbody><p>3 rows × 5 columns</p><tr><th>1</th><td>3</td><td>2</td><td>8.9</td><td>9.2</td><td>11.9</td></tr><tr><th>2</th><td>4</td><td>2</td><td>9.7</td><td>5.7</td><td>10.8</td></tr><tr><th>3</th><td>5</td><td>4</td><td>8.8</td><td>8.5</td><td>11.7</td></tr></tbody></table>"
      ],
      "text/latex": [
       "\\begin{tabular}{r|ccccc}\n",
       "\t& Ind & Mat & y1 & y2 & x\\\\\n",
       "\t\\hline\n",
       "\t& Int64 & Int64 & Float64 & Float64 & Float64\\\\\n",
       "\t\\hline\n",
       "\t1 & 3 & 2 & 8.9 & 9.2 & 11.9 \\\\\n",
       "\t2 & 4 & 2 & 9.7 & 5.7 & 10.8 \\\\\n",
       "\t3 & 5 & 4 & 8.8 & 8.5 & 11.7 \\\\\n",
       "\\end{tabular}\n"
      ],
      "text/plain": [
       "3×5 DataFrame\n",
       "│ Row │ Ind   │ Mat   │ y1      │ y2      │ x       │\n",
       "│     │ \u001b[90mInt64\u001b[39m │ \u001b[90mInt64\u001b[39m │ \u001b[90mFloat64\u001b[39m │ \u001b[90mFloat64\u001b[39m │ \u001b[90mFloat64\u001b[39m │\n",
       "├─────┼───────┼───────┼─────────┼─────────┼─────────┤\n",
       "│ 1   │ 3     │ 2     │ 8.9     │ 9.2     │ 11.9    │\n",
       "│ 2   │ 4     │ 2     │ 9.7     │ 5.7     │ 10.8    │\n",
       "│ 3   │ 5     │ 4     │ 8.8     │ 8.5     │ 11.7    │"
      ]
     },
     "execution_count": 10,
     "metadata": {},
     "output_type": "execute_result"
    }
   ],
   "source": [
    "data = CSV.read(\"data.phen\")"
   ]
  },
  {
   "cell_type": "code",
   "execution_count": 59,
   "metadata": {},
   "outputs": [],
   "source": [
    "varRes = 1.0\n",
    "mme = initMME(\"y1 = intercept + Ind\",varRes);\n",
    "setRandom!(mme,\"Ind\",1.0,pedigree);"
   ]
  },
  {
   "cell_type": "code",
   "execution_count": 60,
   "metadata": {},
   "outputs": [
    {
     "data": {
      "text/plain": [
       "5×10 Array{Float64,2}:\n",
       " 1.0  2.0  1.0  0.0  2.0  1.0  2.0  1.0  1.0  1.0\n",
       " 1.0  2.0  2.0  1.0  2.0  0.0  0.0  0.0  0.0  1.0\n",
       " 2.0  2.0  1.0  1.0  1.0  2.0  1.0  2.0  2.0  1.0\n",
       " 2.0  0.0  2.0  1.0  1.0  2.0  1.0  0.0  2.0  1.0\n",
       " 1.0  0.0  1.0  2.0  0.0  1.0  1.0  0.0  2.0  2.0"
      ]
     },
     "execution_count": 60,
     "metadata": {},
     "output_type": "execute_result"
    }
   ],
   "source": [
    "M = float.(rand(Binomial(2,0.5),5,10))"
   ]
  },
  {
   "cell_type": "code",
   "execution_count": 61,
   "metadata": {},
   "outputs": [],
   "source": [
    "idGeno = string.(1:5);\n",
    "addGenotypes!(mme,data,\"Ind\",M,idGeno,1.0)"
   ]
  },
  {
   "cell_type": "code",
   "execution_count": 62,
   "metadata": {},
   "outputs": [
    {
     "data": {
      "text/plain": [
       "6×8 Array{Any,2}:\n",
       " \"1:intercept\"  3.0   0.0   0.0   1.0   1.0   1.0  27.4\n",
       " \"1:Ind: 1\"     0.0   2.0   1.0  -1.0  -1.0   0.0   0.0\n",
       " \"1:Ind: 2\"     0.0   1.0   2.0  -1.0  -1.0   0.0   0.0\n",
       " \"1:Ind: 4\"     1.0  -1.0  -1.0   3.5   0.5  -1.0   9.7\n",
       " \"1:Ind: 3\"     1.0  -1.0  -1.0   0.5   3.5  -1.0   8.9\n",
       " \"1:Ind: 5\"     1.0   0.0   0.0  -1.0  -1.0   3.0   8.8"
      ]
     },
     "execution_count": 62,
     "metadata": {},
     "output_type": "execute_result"
    }
   ],
   "source": [
    "lhs,rhs,names = getLhsRhs!(mme,data)\n",
    "[names Matrix(lhs) rhs]"
   ]
  },
  {
   "cell_type": "code",
   "execution_count": 63,
   "metadata": {},
   "outputs": [
    {
     "data": {
      "text/plain": [
       "3×10 Array{Float64,2}:\n",
       "  0.6   0.8  -0.4  0.0  -0.2   0.8  0.0   1.4  0.6  -0.2\n",
       "  0.6  -1.2   0.6  0.0  -0.2   0.8  0.0  -0.6  0.6  -0.2\n",
       " -0.4  -1.2  -0.4  1.0  -1.2  -0.2  0.0  -0.6  0.6   0.8"
      ]
     },
     "execution_count": 63,
     "metadata": {},
     "output_type": "execute_result"
    }
   ],
   "source": [
    "mme.genotypes.M"
   ]
  },
  {
   "cell_type": "code",
   "execution_count": 64,
   "metadata": {},
   "outputs": [
    {
     "data": {
      "text/plain": [
       "1×10 Array{Float64,2}:\n",
       " 0.266667  -0.533333  -0.0666667  0.333333  …  0.0  0.0666667  0.6  0.133333"
      ]
     },
     "execution_count": 64,
     "metadata": {},
     "output_type": "execute_result"
    }
   ],
   "source": [
    "mean(mme.genotypes.M,dims=1)"
   ]
  },
  {
   "cell_type": "code",
   "execution_count": 65,
   "metadata": {},
   "outputs": [
    {
     "data": {
      "text/plain": [
       "10-element Array{Any,1}:\n",
       " [0.6, 0.6, -0.4]  \n",
       " [0.8, -1.2, -1.2] \n",
       " [-0.4, 0.6, -0.4] \n",
       " [0.0, 0.0, 1.0]   \n",
       " [-0.2, -0.2, -1.2]\n",
       " [0.8, 0.8, -0.2]  \n",
       " [0.0, 0.0, 0.0]   \n",
       " [1.4, -0.6, -0.6] \n",
       " [0.6, 0.6, 0.6]   \n",
       " [-0.2, -0.2, 0.8] "
      ]
     },
     "execution_count": 65,
     "metadata": {},
     "output_type": "execute_result"
    }
   ],
   "source": [
    "mme.genotypes.MArray"
   ]
  },
  {
   "cell_type": "code",
   "execution_count": 66,
   "metadata": {},
   "outputs": [
    {
     "data": {
      "text/plain": [
       "10-element Array{Float64,1}:\n",
       " 0.8799999999999998\n",
       " 3.5200000000000005\n",
       " 0.68              \n",
       " 1.0               \n",
       " 1.5200000000000005\n",
       " 1.3199999999999994\n",
       " 0.0               \n",
       " 2.6799999999999997\n",
       " 1.0799999999999994\n",
       " 0.7199999999999999"
      ]
     },
     "execution_count": 66,
     "metadata": {},
     "output_type": "execute_result"
    }
   ],
   "source": [
    "mme.genotypes.MPMArray"
   ]
  },
  {
   "cell_type": "code",
   "execution_count": 22,
   "metadata": {},
   "outputs": [
    {
     "data": {
      "text/plain": [
       "3×5 Array{Float64,2}:\n",
       " 0.0  0.0  1.0  0.0  0.0\n",
       " 0.0  0.0  0.0  1.0  0.0\n",
       " 0.0  0.0  0.0  0.0  1.0"
      ]
     },
     "execution_count": 22,
     "metadata": {},
     "output_type": "execute_result"
    }
   ],
   "source": [
    "Matrix(mme.genotypes.Z)"
   ]
  },
  {
   "cell_type": "code",
   "execution_count": 57,
   "metadata": {},
   "outputs": [
    {
     "data": {
      "text/plain": [
       "1×3 Adjoint{Float64,SubArray{Float64,1,Array{Float64,1},Tuple{UnitRange{Int64}},true}}:\n",
       " 8.9  9.7  8.8"
      ]
     },
     "execution_count": 57,
     "metadata": {},
     "output_type": "execute_result"
    }
   ],
   "source": [
    "mme.genotypes.yAdjArray[1]'"
   ]
  },
  {
   "cell_type": "code",
   "execution_count": 22,
   "metadata": {},
   "outputs": [
    {
     "data": {
      "text/plain": [
       "5×5 Array{Float64,2}:\n",
       "  2.0   1.0  -1.0  -1.0   0.0\n",
       "  1.0   2.0  -1.0  -1.0   0.0\n",
       " -1.0  -1.0   2.5   0.5  -1.0\n",
       " -1.0  -1.0   0.5   2.5  -1.0\n",
       "  0.0   0.0  -1.0  -1.0   2.0"
      ]
     },
     "execution_count": 22,
     "metadata": {},
     "output_type": "execute_result"
    }
   ],
   "source": [
    "Matrix(mme.randomEffectsVec[1].Ai)"
   ]
  },
  {
   "cell_type": "code",
   "execution_count": 46,
   "metadata": {},
   "outputs": [
    {
     "data": {
      "text/plain": [
       "1-element Array{Array{Float64,1},1}:\n",
       " [8.9, 9.7, 8.8]"
      ]
     },
     "execution_count": 46,
     "metadata": {},
     "output_type": "execute_result"
    }
   ],
   "source": [
    "mme.genotypes.yAdjArray"
   ]
  },
  {
   "cell_type": "code",
   "execution_count": 18,
   "metadata": {},
   "outputs": [
    {
     "data": {
      "text/plain": [
       "6×6 Array{Float64,2}:\n",
       " 3.0  0.0  0.0  1.0  1.0  1.0\n",
       " 0.0  0.0  0.0  0.0  0.0  0.0\n",
       " 0.0  0.0  0.0  0.0  0.0  0.0\n",
       " 1.0  0.0  0.0  1.0  0.0  0.0\n",
       " 1.0  0.0  0.0  0.0  1.0  0.0\n",
       " 1.0  0.0  0.0  0.0  0.0  1.0"
      ]
     },
     "execution_count": 18,
     "metadata": {},
     "output_type": "execute_result"
    }
   ],
   "source": [
    "Matrix(mme.X'mme.X)"
   ]
  },
  {
   "cell_type": "code",
   "execution_count": 19,
   "metadata": {},
   "outputs": [
    {
     "data": {
      "text/plain": [
       "2-element Array{ModelTerm,1}:\n",
       " ModelTerm(\"intercept\", 1, 1, \"fixed\")\n",
       " ModelTerm(\"Ind\", 2, 6, \"A\")          "
      ]
     },
     "execution_count": 19,
     "metadata": {},
     "output_type": "execute_result"
    }
   ],
   "source": [
    "mme.modelTermVec"
   ]
  },
  {
   "cell_type": "code",
   "execution_count": 20,
   "metadata": {},
   "outputs": [],
   "source": [
    "varRes = 1.0\n",
    "mme = initMME(\"y1 = intercept + Ind + Mat\",varRes);\n",
    "setRandom!(mme,\"Ind\",1.0,pedigree)\n",
    "setRandom!(mme,\"Mat\",1.0,pedigree);"
   ]
  },
  {
   "cell_type": "code",
   "execution_count": 21,
   "metadata": {},
   "outputs": [
    {
     "data": {
      "text/plain": [
       "11×12 Array{Any,2}:\n",
       " \"intercept\"  3.0   0.0   0.0   1.0   1.0   1.0   0.0   2.0   1.0   0.0   0.0\n",
       " \"Ind: 1\"     0.0   2.0   1.0  -1.0  -1.0   0.0   0.0   0.0   0.0   0.0   0.0\n",
       " \"Ind: 2\"     0.0   1.0   2.0  -1.0  -1.0   0.0   0.0   0.0   0.0   0.0   0.0\n",
       " \"Ind: 4\"     1.0  -1.0  -1.0   3.5   0.5  -1.0   0.0   1.0   0.0   0.0   0.0\n",
       " \"Ind: 3\"     1.0  -1.0  -1.0   0.5   3.5  -1.0   0.0   1.0   0.0   0.0   0.0\n",
       " \"Ind: 5\"     1.0   0.0   0.0  -1.0  -1.0   3.0   0.0   0.0   1.0   0.0   0.0\n",
       " \"Mat: 1\"     0.0   0.0   0.0   0.0   0.0   0.0   2.0   1.0  -1.0  -1.0   0.0\n",
       " \"Mat: 2\"     2.0   0.0   0.0   1.0   1.0   0.0   1.0   4.0  -1.0  -1.0   0.0\n",
       " \"Mat: 4\"     1.0   0.0   0.0   0.0   0.0   1.0  -1.0  -1.0   3.5   0.5  -1.0\n",
       " \"Mat: 3\"     0.0   0.0   0.0   0.0   0.0   0.0  -1.0  -1.0   0.5   2.5  -1.0\n",
       " \"Mat: 5\"     0.0   0.0   0.0   0.0   0.0   0.0   0.0   0.0  -1.0  -1.0   2.0"
      ]
     },
     "execution_count": 21,
     "metadata": {},
     "output_type": "execute_result"
    }
   ],
   "source": [
    "lhs,rhs,names = getLhsRhs!(mme,data)\n",
    "[names Matrix(lhs)]"
   ]
  },
  {
   "cell_type": "code",
   "execution_count": 22,
   "metadata": {},
   "outputs": [
    {
     "data": {
      "text/plain": [
       "11×11 Array{Float64,2}:\n",
       " 3.0  0.0  0.0  1.0  1.0  1.0  0.0  2.0  1.0  0.0  0.0\n",
       " 0.0  0.0  0.0  0.0  0.0  0.0  0.0  0.0  0.0  0.0  0.0\n",
       " 0.0  0.0  0.0  0.0  0.0  0.0  0.0  0.0  0.0  0.0  0.0\n",
       " 1.0  0.0  0.0  1.0  0.0  0.0  0.0  1.0  0.0  0.0  0.0\n",
       " 1.0  0.0  0.0  0.0  1.0  0.0  0.0  1.0  0.0  0.0  0.0\n",
       " 1.0  0.0  0.0  0.0  0.0  1.0  0.0  0.0  1.0  0.0  0.0\n",
       " 0.0  0.0  0.0  0.0  0.0  0.0  0.0  0.0  0.0  0.0  0.0\n",
       " 2.0  0.0  0.0  1.0  1.0  0.0  0.0  2.0  0.0  0.0  0.0\n",
       " 1.0  0.0  0.0  0.0  0.0  1.0  0.0  0.0  1.0  0.0  0.0\n",
       " 0.0  0.0  0.0  0.0  0.0  0.0  0.0  0.0  0.0  0.0  0.0\n",
       " 0.0  0.0  0.0  0.0  0.0  0.0  0.0  0.0  0.0  0.0  0.0"
      ]
     },
     "execution_count": 22,
     "metadata": {},
     "output_type": "execute_result"
    }
   ],
   "source": [
    "Matrix(mme.X'mme.X)"
   ]
  },
  {
   "cell_type": "code",
   "execution_count": 37,
   "metadata": {},
   "outputs": [
    {
     "data": {
      "text/plain": [
       "2×2 Array{Float64,2}:\n",
       " 1.0  0.5\n",
       " 0.5  2.0"
      ]
     },
     "execution_count": 37,
     "metadata": {},
     "output_type": "execute_result"
    }
   ],
   "source": [
    "V = [1   0.5\n",
    "     0.5 2.0]"
   ]
  },
  {
   "cell_type": "code",
   "execution_count": 35,
   "metadata": {},
   "outputs": [
    {
     "name": "stdout",
     "output_type": "stream",
     "text": [
      "size of var: 1 does not match the number of random effects: 2\n"
     ]
    }
   ],
   "source": [
    "varRes = 1.0\n",
    "mme = initMME(\"y1 = intercept + Ind + Mat\",varRes);\n",
    "setRandom!(mme,\"Ind, Mat\",1.0,pedigree);"
   ]
  },
  {
   "cell_type": "code",
   "execution_count": 38,
   "metadata": {},
   "outputs": [],
   "source": [
    "varRes = 1.0\n",
    "mme = initMME(\"y1 = intercept + Ind + Mat\",varRes);\n",
    "setRandom!(mme,\"Ind, Mat\",V,pedigree);"
   ]
  },
  {
   "cell_type": "code",
   "execution_count": 39,
   "metadata": {},
   "outputs": [
    {
     "data": {
      "text/plain": [
       "11×11 Array{Float64,2}:\n",
       " 3.0   0.0        0.0        1.0       …   1.0        0.0        0.0     \n",
       " 0.0   2.28571    1.14286   -1.14286       0.285714   0.285714   0.0     \n",
       " 0.0   1.14286    2.28571   -1.14286       0.285714   0.285714   0.0     \n",
       " 1.0  -1.14286   -1.14286    3.85714      -0.714286  -0.142857   0.285714\n",
       " 1.0  -1.14286   -1.14286    0.571429     -0.142857  -0.714286   0.285714\n",
       " 1.0   0.0        0.0       -1.14286   …   1.28571    0.285714  -0.571429\n",
       " 0.0  -0.571429  -0.285714   0.285714     -0.571429  -0.571429   0.0     \n",
       " 2.0  -0.285714  -0.571429   1.28571      -0.571429  -0.571429   0.0     \n",
       " 1.0   0.285714   0.285714  -0.714286      2.42857    0.285714  -0.571429\n",
       " 0.0   0.285714   0.285714  -0.142857      0.285714   1.42857   -0.571429\n",
       " 0.0   0.0        0.0        0.285714  …  -0.571429  -0.571429   1.14286 "
      ]
     },
     "execution_count": 39,
     "metadata": {},
     "output_type": "execute_result"
    }
   ],
   "source": [
    "lhs,rhs,names = getLhsRhs!(mme,data)\n",
    "Matrix(lhs)"
   ]
  },
  {
   "cell_type": "code",
   "execution_count": 41,
   "metadata": {},
   "outputs": [],
   "source": [
    "varRes = 1.0\n",
    "mme = initMME(\"y1 = intercept + Ind + Ind*x\",varRes);\n",
    "mme.covVec = [\"x\"]\n",
    "setRandom!(mme,\"Ind\",1.0,pedigree);"
   ]
  },
  {
   "cell_type": "code",
   "execution_count": 42,
   "metadata": {},
   "outputs": [
    {
     "data": {
      "text/plain": [
       "1"
      ]
     },
     "execution_count": 42,
     "metadata": {},
     "output_type": "execute_result"
    }
   ],
   "source": [
    "size(mme.randomEffectsVec,1)"
   ]
  },
  {
   "cell_type": "code",
   "execution_count": 43,
   "metadata": {},
   "outputs": [],
   "source": [
    "setRandom!(mme,\"Ind*x\",1.0,pedigree);"
   ]
  },
  {
   "cell_type": "code",
   "execution_count": 44,
   "metadata": {},
   "outputs": [
    {
     "data": {
      "text/plain": [
       "2"
      ]
     },
     "execution_count": 44,
     "metadata": {},
     "output_type": "execute_result"
    }
   ],
   "source": [
    "size(mme.randomEffectsVec,1)"
   ]
  },
  {
   "cell_type": "code",
   "execution_count": 45,
   "metadata": {},
   "outputs": [
    {
     "data": {
      "text/plain": [
       "11×12 Array{Any,2}:\n",
       " \"1:intercept\"   3.0   0.0   0.0   1.0  …   0.0   0.0   10.8    11.9    11.7 \n",
       " \"1:Ind: 1\"      0.0   2.0   1.0  -1.0      0.0   0.0    0.0     0.0     0.0 \n",
       " \"1:Ind: 2\"      0.0   1.0   2.0  -1.0      0.0   0.0    0.0     0.0     0.0 \n",
       " \"1:Ind: 4\"      1.0  -1.0  -1.0   3.5      0.0   0.0   10.8     0.0     0.0 \n",
       " \"1:Ind: 3\"      1.0  -1.0  -1.0   0.5      0.0   0.0    0.0    11.9     0.0 \n",
       " \"1:Ind: 5\"      1.0   0.0   0.0  -1.0  …   0.0   0.0    0.0     0.0    11.7 \n",
       " \"1:Ind*x: 1\"    0.0   0.0   0.0   0.0      2.0   1.0   -1.0    -1.0     0.0 \n",
       " \"1:Ind*x: 2\"    0.0   0.0   0.0   0.0      1.0   2.0   -1.0    -1.0     0.0 \n",
       " \"1:Ind*x: 4\"   10.8   0.0   0.0  10.8     -1.0  -1.0  119.14    0.5    -1.0 \n",
       " \"1:Ind*x: 3\"   11.9   0.0   0.0   0.0     -1.0  -1.0    0.5   144.11   -1.0 \n",
       " \"1:Ind*x: 5\"   11.7   0.0   0.0   0.0  …   0.0   0.0   -1.0    -1.0   138.89"
      ]
     },
     "execution_count": 45,
     "metadata": {},
     "output_type": "execute_result"
    }
   ],
   "source": [
    "lhs,rhs,names = getLhsRhs!(mme,data)\n",
    "[names Matrix(lhs)]"
   ]
  },
  {
   "cell_type": "code",
   "execution_count": 32,
   "metadata": {},
   "outputs": [
    {
     "data": {
      "text/plain": [
       "11×11 Array{Float64,2}:\n",
       "  3.0  0.0  0.0   1.0   1.0   1.0  0.0  0.0   10.8    11.9    11.7 \n",
       "  0.0  0.0  0.0   0.0   0.0   0.0  0.0  0.0    0.0     0.0     0.0 \n",
       "  0.0  0.0  0.0   0.0   0.0   0.0  0.0  0.0    0.0     0.0     0.0 \n",
       "  1.0  0.0  0.0   1.0   0.0   0.0  0.0  0.0   10.8     0.0     0.0 \n",
       "  1.0  0.0  0.0   0.0   1.0   0.0  0.0  0.0    0.0    11.9     0.0 \n",
       "  1.0  0.0  0.0   0.0   0.0   1.0  0.0  0.0    0.0     0.0    11.7 \n",
       "  0.0  0.0  0.0   0.0   0.0   0.0  0.0  0.0    0.0     0.0     0.0 \n",
       "  0.0  0.0  0.0   0.0   0.0   0.0  0.0  0.0    0.0     0.0     0.0 \n",
       " 10.8  0.0  0.0  10.8   0.0   0.0  0.0  0.0  116.64    0.0     0.0 \n",
       " 11.9  0.0  0.0   0.0  11.9   0.0  0.0  0.0    0.0   141.61    0.0 \n",
       " 11.7  0.0  0.0   0.0   0.0  11.7  0.0  0.0    0.0     0.0   136.89"
      ]
     },
     "execution_count": 32,
     "metadata": {},
     "output_type": "execute_result"
    }
   ],
   "source": [
    "Matrix(mme.X'mme.X)"
   ]
  },
  {
   "cell_type": "code",
   "execution_count": 46,
   "metadata": {},
   "outputs": [],
   "source": [
    "varRes = 1.0\n",
    "mme = initMME(\"y1 = intercept + Ind + Ind*x\",varRes);\n",
    "mme.covVec = [\"x\"]\n",
    "setRandom!(mme,\"Ind, Ind*x\",V,pedigree);"
   ]
  },
  {
   "cell_type": "code",
   "execution_count": 47,
   "metadata": {},
   "outputs": [
    {
     "data": {
      "text/plain": [
       "1"
      ]
     },
     "execution_count": 47,
     "metadata": {},
     "output_type": "execute_result"
    }
   ],
   "source": [
    "size(mme.randomEffectsVec,1)"
   ]
  },
  {
   "cell_type": "code",
   "execution_count": 48,
   "metadata": {},
   "outputs": [
    {
     "data": {
      "text/plain": [
       "11×13 Array{Any,2}:\n",
       " \"1:intercept\"   3.0   0.0        0.0       …   11.9        11.7        27.4 \n",
       " \"1:Ind: 1\"      0.0   2.28571    1.14286        0.285714    0.0         0.0 \n",
       " \"1:Ind: 2\"      0.0   1.14286    2.28571        0.285714    0.0         0.0 \n",
       " \"1:Ind: 4\"      1.0  -1.14286   -1.14286       -0.142857    0.285714    9.7 \n",
       " \"1:Ind: 3\"      1.0  -1.14286   -1.14286       11.1857      0.285714    8.9 \n",
       " \"1:Ind: 5\"      1.0   0.0        0.0       …    0.285714   11.1286      8.8 \n",
       " \"1:Ind*x: 1\"    0.0  -0.571429  -0.285714      -0.571429    0.0         0.0 \n",
       " \"1:Ind*x: 2\"    0.0  -0.285714  -0.571429      -0.571429    0.0         0.0 \n",
       " \"1:Ind*x: 4\"   10.8   0.285714   0.285714       0.285714   -0.571429  104.76\n",
       " \"1:Ind*x: 3\"   11.9   0.285714   0.285714     143.039      -0.571429  105.91\n",
       " \"1:Ind*x: 5\"   11.7   0.0        0.0       …   -0.571429  138.033     102.96"
      ]
     },
     "execution_count": 48,
     "metadata": {},
     "output_type": "execute_result"
    }
   ],
   "source": [
    "lhs,rhs,names = getLhsRhs!(mme,data)\n",
    "[names Matrix(lhs) rhs]"
   ]
  },
  {
   "cell_type": "code",
   "execution_count": 49,
   "metadata": {},
   "outputs": [
    {
     "data": {
      "text/plain": [
       "3×11 Array{Float64,2}:\n",
       " 1.0  0.0  0.0  0.0  1.0  0.0  0.0  0.0   0.0  11.9   0.0\n",
       " 1.0  0.0  0.0  1.0  0.0  0.0  0.0  0.0  10.8   0.0   0.0\n",
       " 1.0  0.0  0.0  0.0  0.0  1.0  0.0  0.0   0.0   0.0  11.7"
      ]
     },
     "execution_count": 49,
     "metadata": {},
     "output_type": "execute_result"
    }
   ],
   "source": [
    "Matrix(mme.X)"
   ]
  },
  {
   "cell_type": "code",
   "execution_count": 50,
   "metadata": {},
   "outputs": [
    {
     "data": {
      "text/plain": [
       "11×11 Array{Float64,2}:\n",
       "  3.0  0.0  0.0   1.0   1.0   1.0  0.0  0.0   10.8    11.9    11.7 \n",
       "  0.0  0.0  0.0   0.0   0.0   0.0  0.0  0.0    0.0     0.0     0.0 \n",
       "  0.0  0.0  0.0   0.0   0.0   0.0  0.0  0.0    0.0     0.0     0.0 \n",
       "  1.0  0.0  0.0   1.0   0.0   0.0  0.0  0.0   10.8     0.0     0.0 \n",
       "  1.0  0.0  0.0   0.0   1.0   0.0  0.0  0.0    0.0    11.9     0.0 \n",
       "  1.0  0.0  0.0   0.0   0.0   1.0  0.0  0.0    0.0     0.0    11.7 \n",
       "  0.0  0.0  0.0   0.0   0.0   0.0  0.0  0.0    0.0     0.0     0.0 \n",
       "  0.0  0.0  0.0   0.0   0.0   0.0  0.0  0.0    0.0     0.0     0.0 \n",
       " 10.8  0.0  0.0  10.8   0.0   0.0  0.0  0.0  116.64    0.0     0.0 \n",
       " 11.9  0.0  0.0   0.0  11.9   0.0  0.0  0.0    0.0   141.61    0.0 \n",
       " 11.7  0.0  0.0   0.0   0.0  11.7  0.0  0.0    0.0     0.0   136.89"
      ]
     },
     "execution_count": 50,
     "metadata": {},
     "output_type": "execute_result"
    }
   ],
   "source": [
    "Matrix(mme.X'mme.X)"
   ]
  },
  {
   "cell_type": "code",
   "execution_count": 51,
   "metadata": {},
   "outputs": [],
   "source": [
    "varRes = 1.0\n",
    "mme = initMME(\"y1 = intercept + Ind + Ind*x\",varRes);\n",
    "mme.covVec = [\"x\"]\n",
    "setRandom!(mme,\"Ind\",1.0,pedigree)\n",
    "setRandom!(mme,\"Ind*x\",1.0);"
   ]
  },
  {
   "cell_type": "code",
   "execution_count": 52,
   "metadata": {},
   "outputs": [
    {
     "data": {
      "text/plain": [
       "9×11 Array{Any,2}:\n",
       " \"1:intercept\"      3.0   0.0   0.0   1.0  …   11.9    10.8    11.7    27.4 \n",
       " \"1:Ind: 1\"         0.0   2.0   1.0  -1.0       0.0     0.0     0.0     0.0 \n",
       " \"1:Ind: 2\"         0.0   1.0   2.0  -1.0       0.0     0.0     0.0     0.0 \n",
       " \"1:Ind: 4\"         1.0  -1.0  -1.0   3.5       0.0    10.8     0.0     9.7 \n",
       " \"1:Ind: 3\"         1.0  -1.0  -1.0   0.5      11.9     0.0     0.0     8.9 \n",
       " \"1:Ind: 5\"         1.0   0.0   0.0  -1.0  …    0.0     0.0    11.7     8.8 \n",
       " \"1:Ind*x: 3 x x\"  11.9   0.0   0.0   0.0     142.61    0.0     0.0   105.91\n",
       " \"1:Ind*x: 4 x x\"  10.8   0.0   0.0  10.8       0.0   117.64    0.0   104.76\n",
       " \"1:Ind*x: 5 x x\"  11.7   0.0   0.0   0.0       0.0     0.0   137.89  102.96"
      ]
     },
     "execution_count": 52,
     "metadata": {},
     "output_type": "execute_result"
    }
   ],
   "source": [
    "lhs,rhs,names = getLhsRhs!(mme,data)\n",
    "[names Matrix(lhs) rhs]"
   ]
  },
  {
   "cell_type": "code",
   "execution_count": 74,
   "metadata": {},
   "outputs": [],
   "source": [
    "varRes =[1   0.5\n",
    "         0.5 2.0]\n",
    "V = [1.0 0.0 0.0\n",
    "     0.0 2.0 0.0\n",
    "     0.0 0.0 3.0]\n",
    "mme = initMME(\"y1 = intercept + Ind + Ind*x;\n",
    "               y2 = intercept + Ind\",varRes);\n",
    "mme.covVec = [\"x\"]\n",
    "#setRandom!(mme,\"Ind Ind*x\",V,pedigree);"
   ]
  },
  {
   "cell_type": "code",
   "execution_count": 75,
   "metadata": {},
   "outputs": [
    {
     "data": {
      "text/plain": [
       "11×12 Array{Any,2}:\n",
       " \"1:intercept\"      3.42857    1.14286   …  -0.285714  -0.285714  -0.285714\n",
       " \"1:Ind: 3\"         1.14286    1.14286      -0.285714   0.0        0.0     \n",
       " \"1:Ind: 4\"         1.14286    0.0           0.0       -0.285714   0.0     \n",
       " \"1:Ind: 5\"         1.14286    0.0           0.0        0.0       -0.285714\n",
       " \"1:Ind*x: 3 x x\"  13.6       13.6          -3.4        0.0        0.0     \n",
       " \"1:Ind*x: 4 x x\"  12.3429     0.0       …   0.0       -3.08571    0.0     \n",
       " \"1:Ind*x: 5 x x\"  13.3714     0.0           0.0        0.0       -3.34286 \n",
       " \"2:intercept\"     -0.857143  -0.285714      0.571429   0.571429   0.571429\n",
       " \"2:Ind: 3\"        -0.285714  -0.285714      0.571429   0.0        0.0     \n",
       " \"2:Ind: 4\"        -0.285714   0.0           0.0        0.571429   0.0     \n",
       " \"2:Ind: 5\"        -0.285714   0.0       …   0.0        0.0        0.571429"
      ]
     },
     "execution_count": 75,
     "metadata": {},
     "output_type": "execute_result"
    }
   ],
   "source": [
    "lhs,rhs,names = getLhsRhs!(mme,data)\n",
    "[names Matrix(lhs)]"
   ]
  },
  {
   "cell_type": "code",
   "execution_count": 72,
   "metadata": {},
   "outputs": [
    {
     "data": {
      "text/plain": [
       "3-element Array{ModelTerm,1}:\n",
       " ModelTerm(\"1:Ind\", 1, 2, 6, \"A\")   \n",
       " ModelTerm(\"1:Ind*x\", 1, 7, 11, \"A\")\n",
       " ModelTerm(\"2:Ind\", 2, 13, 17, \"A\") "
      ]
     },
     "execution_count": 72,
     "metadata": {},
     "output_type": "execute_result"
    }
   ],
   "source": [
    "mme.randomEffectsVec[1].modelTermVec"
   ]
  },
  {
   "cell_type": "code",
   "execution_count": 73,
   "metadata": {},
   "outputs": [
    {
     "data": {
      "text/plain": [
       "3×3 Array{Float64,2}:\n",
       " 1.0  0.0  0.0     \n",
       " 0.0  0.5  0.0     \n",
       " 0.0  0.0  0.333333"
      ]
     },
     "execution_count": 73,
     "metadata": {},
     "output_type": "execute_result"
    }
   ],
   "source": [
    "inv(V)"
   ]
  },
  {
   "cell_type": "code",
   "execution_count": 18,
   "metadata": {},
   "outputs": [],
   "source": [
    "varRes =[1   0.5\n",
    "         0.5 2.0]\n",
    "V = [1.0 0.0 0.0\n",
    "     0.0 2.0 0.0\n",
    "     0.0 0.0 3.0]\n",
    "mme = initMME(\"y1 = intercept + Ind + Ind*x\n",
    "               y2 = intercept + Ind\",varRes);\n",
    "mme.covVec = [\"x\"]\n",
    "setRandom!(mme,\"Ind Ind*x\",V,pedigree);"
   ]
  },
  {
   "cell_type": "code",
   "execution_count": 19,
   "metadata": {},
   "outputs": [
    {
     "data": {
      "text/plain": [
       "3-element Array{ModelTerm,1}:\n",
       " ModelTerm(\"1:Ind\", 1, 0, 0, \"A\")  \n",
       " ModelTerm(\"1:Ind*x\", 1, 0, 0, \"A\")\n",
       " ModelTerm(\"2:Ind\", 2, 0, 0, \"A\")  "
      ]
     },
     "execution_count": 19,
     "metadata": {},
     "output_type": "execute_result"
    }
   ],
   "source": [
    "mme.randomEffectsVec[1].modelTermVec"
   ]
  },
  {
   "cell_type": "code",
   "execution_count": 10,
   "metadata": {},
   "outputs": [
    {
     "data": {
      "text/plain": [
       "17×18 Array{Any,2}:\n",
       " \"1:intercept\"   3.42857    0.0   0.0  …  -0.285714  -0.285714  -0.285714\n",
       " \"1:Ind: 1\"      0.0        2.0   1.0      0.0        0.0        0.0     \n",
       " \"1:Ind: 2\"      0.0        1.0   2.0      0.0        0.0        0.0     \n",
       " \"1:Ind: 4\"      1.14286   -1.0  -1.0     -0.285714   0.0        0.0     \n",
       " \"1:Ind: 3\"      1.14286   -1.0  -1.0      0.0       -0.285714   0.0     \n",
       " \"1:Ind: 5\"      1.14286    0.0   0.0  …   0.0        0.0       -0.285714\n",
       " \"1:Ind*x: 1\"    0.0        0.0   0.0      0.0        0.0        0.0     \n",
       " \"1:Ind*x: 2\"    0.0        0.0   0.0      0.0        0.0        0.0     \n",
       " \"1:Ind*x: 4\"   12.3429     0.0   0.0     -3.08571    0.0        0.0     \n",
       " \"1:Ind*x: 3\"   13.6        0.0   0.0      0.0       -3.4        0.0     \n",
       " \"1:Ind*x: 5\"   13.3714     0.0   0.0  …   0.0        0.0       -3.34286 \n",
       " \"2:intercept\"  -0.857143   0.0   0.0      0.571429   0.571429   0.571429\n",
       " \"2:Ind: 1\"      0.0        0.0   0.0     -0.333333  -0.333333   0.0     \n",
       " \"2:Ind: 2\"      0.0        0.0   0.0     -0.333333  -0.333333   0.0     \n",
       " \"2:Ind: 4\"     -0.285714   0.0   0.0      1.40476    0.166667  -0.333333\n",
       " \"2:Ind: 3\"     -0.285714   0.0   0.0  …   0.166667   1.40476   -0.333333\n",
       " \"2:Ind: 5\"     -0.285714   0.0   0.0     -0.333333  -0.333333   1.2381  "
      ]
     },
     "execution_count": 10,
     "metadata": {},
     "output_type": "execute_result"
    }
   ],
   "source": [
    "lhs,rhs,names = getLhsRhs!(mme,data)\n",
    "[names Matrix(lhs)]"
   ]
  },
  {
   "cell_type": "code",
   "execution_count": 16,
   "metadata": {},
   "outputs": [],
   "source": [
    "varRes =[1   0.5\n",
    "         0.5 2.0]\n",
    "V = [1.0 0.0\n",
    "     0.0 2.0 ]\n",
    "mme = initMME(\"y1 = intercept + Ind + Ind*x\n",
    "               y2 = intercept + Ind\",varRes);\n",
    "mme.covVec = [\"x\"]\n",
    "setRandom!(mme,\"Ind\",V,pedigree);"
   ]
  },
  {
   "cell_type": "code",
   "execution_count": 17,
   "metadata": {},
   "outputs": [
    {
     "data": {
      "text/plain": [
       "2-element Array{ModelTerm,1}:\n",
       " ModelTerm(\"1:Ind\", 1, 0, 0, \"A\")\n",
       " ModelTerm(\"2:Ind\", 2, 0, 0, \"A\")"
      ]
     },
     "execution_count": 17,
     "metadata": {},
     "output_type": "execute_result"
    }
   ],
   "source": [
    "mme.randomEffectsVec[1].modelTermVec"
   ]
  },
  {
   "cell_type": "code",
   "execution_count": 2,
   "metadata": {},
   "outputs": [
    {
     "data": {
      "text/plain": [
       "10-element Array{Float64,1}:\n",
       "  1.0\n",
       "  2.0\n",
       "  3.0\n",
       "  4.0\n",
       "  5.0\n",
       "  6.0\n",
       "  7.0\n",
       "  8.0\n",
       "  9.0\n",
       " 10.0"
      ]
     },
     "execution_count": 2,
     "metadata": {},
     "output_type": "execute_result"
    }
   ],
   "source": [
    "y = float.(1:10)"
   ]
  },
  {
   "cell_type": "code",
   "execution_count": 30,
   "metadata": {},
   "outputs": [
    {
     "data": {
      "text/plain": [
       "2-element Array{Any,1}:\n",
       " [1.0, 2.0, 3.0, 4.0, 5.0] \n",
       " [6.0, 7.0, 8.0, 9.0, 10.0]"
      ]
     },
     "execution_count": 30,
     "metadata": {},
     "output_type": "execute_result"
    }
   ],
   "source": [
    "yArray = []\n",
    "push!(yArray,unsafe_wrap(Array,pointer(y,1),5))\n",
    "push!(yArray,unsafe_wrap(Array,pointer(y,6),5))"
   ]
  },
  {
   "cell_type": "code",
   "execution_count": 32,
   "metadata": {},
   "outputs": [
    {
     "data": {
      "text/plain": [
       "10-element Array{Float64,1}:\n",
       "  1.0\n",
       "  2.0\n",
       "  3.0\n",
       "  4.0\n",
       "  5.0\n",
       "  6.0\n",
       "  7.7\n",
       "  8.0\n",
       "  9.0\n",
       " 10.0"
      ]
     },
     "execution_count": 32,
     "metadata": {},
     "output_type": "execute_result"
    }
   ],
   "source": [
    "yArray[2][2] = 7.7\n",
    "y"
   ]
  },
  {
   "cell_type": "code",
   "execution_count": 3,
   "metadata": {},
   "outputs": [
    {
     "data": {
      "text/plain": [
       "1-element Array{Any,1}:\n",
       " [1.0, 2.0, 3.0, 4.0, 5.0]"
      ]
     },
     "execution_count": 3,
     "metadata": {},
     "output_type": "execute_result"
    }
   ],
   "source": [
    "v = []\n",
    "push!(v,@view y[1:5])"
   ]
  },
  {
   "cell_type": "code",
   "execution_count": 7,
   "metadata": {},
   "outputs": [
    {
     "data": {
      "text/plain": [
       "5-element view(::Array{Float64,1}, 1:5) with eltype Float64:\n",
       " 1.0\n",
       " 2.0\n",
       " 3.0\n",
       " 4.0\n",
       " 5.0"
      ]
     },
     "execution_count": 7,
     "metadata": {},
     "output_type": "execute_result"
    }
   ],
   "source": [
    "@view y[1:5]"
   ]
  },
  {
   "cell_type": "code",
   "execution_count": 4,
   "metadata": {},
   "outputs": [
    {
     "data": {
      "text/plain": [
       "2-element Array{Any,1}:\n",
       " [1.0, 2.0, 3.0, 4.0, 5.0] \n",
       " [6.0, 7.0, 8.0, 9.0, 10.0]"
      ]
     },
     "execution_count": 4,
     "metadata": {},
     "output_type": "execute_result"
    }
   ],
   "source": [
    "push!(v,@view y[6:10])"
   ]
  },
  {
   "cell_type": "code",
   "execution_count": 6,
   "metadata": {},
   "outputs": [
    {
     "data": {
      "text/plain": [
       "SubArray{Float64,1,Array{Float64,1},Tuple{UnitRange{Int64}},true}"
      ]
     },
     "execution_count": 6,
     "metadata": {},
     "output_type": "execute_result"
    }
   ],
   "source": [
    "typeof(v[1])"
   ]
  },
  {
   "cell_type": "code",
   "execution_count": 60,
   "metadata": {},
   "outputs": [
    {
     "data": {
      "text/plain": [
       "2.3"
      ]
     },
     "execution_count": 60,
     "metadata": {},
     "output_type": "execute_result"
    }
   ],
   "source": [
    "v[1][2] = 2.3"
   ]
  },
  {
   "cell_type": "code",
   "execution_count": 61,
   "metadata": {},
   "outputs": [
    {
     "data": {
      "text/plain": [
       "10-element Array{Float64,1}:\n",
       "  1.0\n",
       "  2.3\n",
       "  3.0\n",
       "  4.0\n",
       "  5.0\n",
       "  6.0\n",
       "  7.7\n",
       "  8.0\n",
       "  9.0\n",
       " 10.0"
      ]
     },
     "execution_count": 61,
     "metadata": {},
     "output_type": "execute_result"
    }
   ],
   "source": [
    "y"
   ]
  }
 ],
 "metadata": {
  "kernelspec": {
   "display_name": "Julia 1.3.1",
   "language": "julia",
   "name": "julia-1.3"
  },
  "language_info": {
   "file_extension": ".jl",
   "mimetype": "application/julia",
   "name": "julia",
   "version": "1.3.1"
  }
 },
 "nbformat": 4,
 "nbformat_minor": 4
}
