{
 "cells": [
  {
   "cell_type": "markdown",
   "metadata": {},
   "source": [
    "$$\n",
    "\\newcommand{\\E}{\\text{E}}\n",
    "\\newcommand{\\mbf}{\\mathbf}\n",
    "\\newcommand{\\bo}{\\mathbf}\n",
    "\\newcommand{\\bs}{\\boldsymbol}\n",
    "\\newcommand{\\Var}{\\text{Var}}\n",
    "\\newcommand{\\Cov}{\\text{Cov}}\n",
    "\\newcommand{\\e}{\\frac{1}{\\sigma^2_e}}\n",
    "\\newcommand{\\f}{\\frac{1}{\\sigma^2_{\\alpha}}}\n",
    "$$"
   ]
  },
  {
   "cell_type": "markdown",
   "metadata": {
    "slideshow": {
     "slide_type": "slide"
    }
   },
   "source": [
    "# Iterative methods for solving linear systems"
   ]
  },
  {
   "cell_type": "markdown",
   "metadata": {
    "slideshow": {
     "slide_type": "slide"
    }
   },
   "source": [
    "Consider the system of consistent linear equations: \n",
    "\n",
    "$$\n",
    "\\label{eq:Axb}\n",
    "\\mathbf{Ax} = \\mathbf{b},\n",
    "$$ (eq:Axb)\n",
    "\n",
    "\n",
    "* Three iterative methods that we will use for solving the linear systems are the Jacobi method, the Gauss-Seidel Methods, and the Preconditioned Conjugate Gradient (PCCG) method. \n",
    "* These methods can be used to solve normal equations shown in the previous section and Mixed Model Equations (MME) we will covered later. \n",
    "* Consider MME, the left-hand-side (LHS) of the MME is represented by $\\mathbf{A}$ and the right-hand-side (RHS) by $\\mathbf{b}$. \n",
    "* The LHS of the MME is often too large to store in memory as a “fully-stored” matrix. However, $\\mathbf{A}$ is often very sparse. Thus, it is may be possible to store only the non-zero elements of $\\mathbf{A}$ and compute $\\mathbf{Ax_n}$, using sparse matrix methods."
   ]
  },
  {
   "cell_type": "markdown",
   "metadata": {
    "slideshow": {
     "slide_type": "slide"
    }
   },
   "source": [
    "## The Jacobi method"
   ]
  },
  {
   "cell_type": "markdown",
   "metadata": {
    "slideshow": {
     "slide_type": "fragment"
    }
   },
   "source": [
    "In the Jacobi method, the solution at iteration $t+1$ can be written as: \n",
    "\n",
    "$$\n",
    "  \\label{eq:jacobi}\n",
    "\\mathbf{x}^{t+1} = \\mathbf{D}^{−1}(\\mathbf{b} − \\mathbf{A}\\mathbf{x}^t) + \\mathbf{x}^t,\n",
    "$$ (eq:jacobi)\n",
    "\n",
    "where $\\mathbf{D}$ is the diagonal component of $\\mathbf{A}$.\n",
    "\n",
    "### Weighted Jacobi algorithm\n",
    "\n",
    "Convergence can often be improved by using a weighted Jacobi approach:\n",
    "\n",
    "$$\n",
    "\\mathbf{x}^{t+1*} = \\alpha\\mathbf{x}^{t+1} + (1 − \\alpha)\\mathbf{x}^{t*}   \\label{eq:jacobi_modified}\n",
    "$$ (eq:jacobi_modified)\n",
    "\n",
    "for $0 < \\alpha < 1$.\n",
    "\n",
    "Straightforward application of the Jacobi method to solve the normal equations or mixed model equations\n",
    "would require first computing the left-hand-side (LHS) and right-hand-side (RHS) of the normal equations or mixed model equations, and then using {eq}`eq:jacobi_modified` until convergence."
   ]
  },
  {
   "cell_type": "markdown",
   "metadata": {
    "slideshow": {
     "slide_type": "slide"
    }
   },
   "source": [
    "### Numerical Example"
   ]
  },
  {
   "cell_type": "code",
   "execution_count": 1,
   "metadata": {
    "slideshow": {
     "slide_type": "fragment"
    }
   },
   "outputs": [],
   "source": [
    "using LinearAlgebra, Distributions, DataFrames, Random"
   ]
  },
  {
   "cell_type": "code",
   "execution_count": 2,
   "metadata": {
    "slideshow": {
     "slide_type": "fragment"
    }
   },
   "outputs": [],
   "source": [
    "data = DataFrame(x=[1,1,2,2,2,2,3,3,4,1],y=[1.1,1.2,1.9,1.2,2.0,1.7,1.0,1.7,1.1,1.7])\n",
    "n = size(data,1)\n",
    "p = length(unique(data[:,:x]))\n",
    "X = zeros(n,p);\n",
    "for i = 1:n\n",
    "    j = data[:,:x][i]\n",
    "    X[i,j] = 1.0\n",
    "end\n",
    "X = [ones(n) X];\n",
    "y = data[:,:y];\n",
    "lhs = X'X;\n",
    "rhs = X'y;"
   ]
  },
  {
   "cell_type": "code",
   "execution_count": 3,
   "metadata": {},
   "outputs": [
    {
     "data": {
      "text/plain": [
       "5×5 Array{Float64,2}:\n",
       " 10.0  3.0  4.0  2.0  1.0\n",
       "  3.0  3.0  0.0  0.0  0.0\n",
       "  4.0  0.0  4.0  0.0  0.0\n",
       "  2.0  0.0  0.0  2.0  0.0\n",
       "  1.0  0.0  0.0  0.0  1.0"
      ]
     },
     "execution_count": 3,
     "metadata": {},
     "output_type": "execute_result"
    }
   ],
   "source": [
    "lhs"
   ]
  },
  {
   "cell_type": "code",
   "execution_count": 4,
   "metadata": {
    "slideshow": {
     "slide_type": "slide"
    }
   },
   "outputs": [
    {
     "name": "stdout",
     "output_type": "stream",
     "text": [
      "[0.46, 0.333333, 0.7, 0.35, 0.1]\n",
      "[1.0, 0.873333, 1.24, 0.89, 0.64]\n",
      "[0.46, 0.333333, 0.7, 0.35, 0.1]\n",
      "[1.0, 0.873333, 1.24, 0.89, 0.64]\n",
      "[0.46, 0.333333, 0.7, 0.35, 0.1]\n",
      "[1.0, 0.873333, 1.24, 0.89, 0.64]\n",
      "[0.46, 0.333333, 0.7, 0.35, 0.1]\n",
      "[1.0, 0.873333, 1.24, 0.89, 0.64]\n",
      "[0.46, 0.333333, 0.7, 0.35, 0.1]\n",
      "[1.0, 0.873333, 1.24, 0.89, 0.64]\n",
      "[0.46, 0.333333, 0.7, 0.35, 0.1]\n",
      "[1.0, 0.873333, 1.24, 0.89, 0.64]\n",
      "[0.46, 0.333333, 0.7, 0.35, 0.1]\n",
      "[1.0, 0.873333, 1.24, 0.89, 0.64]\n",
      "[0.46, 0.333333, 0.7, 0.35, 0.1]\n",
      "[1.0, 0.873333, 1.24, 0.89, 0.64]\n",
      "[0.46, 0.333333, 0.7, 0.35, 0.1]\n",
      "[1.0, 0.873333, 1.24, 0.89, 0.64]\n",
      "[0.46, 0.333333, 0.7, 0.35, 0.1]\n",
      "[1.0, 0.873333, 1.24, 0.89, 0.64]\n"
     ]
    }
   ],
   "source": [
    "D = Diagonal(lhs)\n",
    "A = lhs + I*0.0\n",
    "b = rhs\n",
    "x = ones(5)\n",
    "for i = 1:20\n",
    "    x=inv(D)*(b-A*x)+x\n",
    "    println(x)\n",
    "end"
   ]
  },
  {
   "cell_type": "code",
   "execution_count": 5,
   "metadata": {},
   "outputs": [
    {
     "data": {
      "text/plain": [
       "5×2 Array{Float64,2}:\n",
       " 20.0   14.6\n",
       "  5.62   4.0\n",
       "  8.96   6.8\n",
       "  3.78   2.7\n",
       "  1.64   1.1"
      ]
     },
     "execution_count": 5,
     "metadata": {},
     "output_type": "execute_result"
    }
   ],
   "source": [
    "[A*x b]"
   ]
  },
  {
   "cell_type": "markdown",
   "metadata": {
    "slideshow": {
     "slide_type": "slide"
    }
   },
   "source": [
    "### Function for Weighed Jacobi Iteration"
   ]
  },
  {
   "cell_type": "code",
   "execution_count": 6,
   "metadata": {
    "slideshow": {
     "slide_type": "slide"
    }
   },
   "outputs": [
    {
     "data": {
      "text/plain": [
       "WJacobi (generic function with 2 methods)"
      ]
     },
     "execution_count": 6,
     "metadata": {},
     "output_type": "execute_result"
    }
   ],
   "source": [
    "function WJacobi(A,x,b,p=0.7;tolerance=0.000001,printout_frequency=10,maxiter=1000) #optional arguments keyword arguments\n",
    "    n       = size(A,1)        #number of linear equations\n",
    "    D       = diag(A)\n",
    "    error   = b - A*x\n",
    "    diff    = sum(error.^2)/n\n",
    "    \n",
    "    iter    = 0\n",
    "    while (diff > tolerance) && (iter < maxiter)\n",
    "        iter   += 1\n",
    "        error   = b - A*x\n",
    "        x_temp  = error./D + x\n",
    "        x       = p*x_temp + (1-p)*x\n",
    "        diff    = sum(error.^2)/n\n",
    "        \n",
    "        if iter%printout_frequency == 0\n",
    "            println(iter,\" \",diff)\n",
    "        end\n",
    "    end\n",
    "    return x\n",
    "end"
   ]
  },
  {
   "cell_type": "code",
   "execution_count": 7,
   "metadata": {
    "slideshow": {
     "slide_type": "slide"
    }
   },
   "outputs": [
    {
     "name": "stdout",
     "output_type": "stream",
     "text": [
      "10 3.8029144498142352e-6\n"
     ]
    },
    {
     "data": {
      "text/plain": [
       "5×2 Array{Float64,2}:\n",
       " 14.6006   14.6\n",
       "  4.00018   4.0\n",
       "  6.80024   6.8\n",
       "  2.70012   2.7\n",
       "  1.10006   1.1"
      ]
     },
     "execution_count": 7,
     "metadata": {},
     "output_type": "execute_result"
    }
   ],
   "source": [
    "starting_value = zeros(size(lhs,2))\n",
    "sol=WJacobi(lhs,starting_value,rhs,0.7)\n",
    "[A*sol A*(lhs\\rhs)]"
   ]
  },
  {
   "cell_type": "markdown",
   "metadata": {},
   "source": [
    "### Why does weighted Jacobi work better?"
   ]
  },
  {
   "cell_type": "markdown",
   "metadata": {},
   "source": [
    "Equation {eq}`eq:Axb` can be rearranged as follows to get "
   ]
  },
  {
   "cell_type": "markdown",
   "metadata": {},
   "source": [
    "$$\n",
    "\\begin{align}\n",
    "\\bo{Ax} &= \\bo{b} \\\\\n",
    "(\\bo{D} + \\bo{E})\\bo{x} &= \\bo{b}\\\\\n",
    "\\bo{D}\\bo{x} &= -\\bo{E}\\bo{x} + \\bo{b}\\\\\n",
    "\\bo{x} &= -\\bo{D}^{-1}\\bo{E}\\bo{x} + \\bo{D}^{-1}\\bo{b}\\\\\n",
    "\\bo{x} &= \\bo{B}\\bo{x} + \\bo{z}, \n",
    "\\label{eq:xBXz}\n",
    "\\end{align}\n",
    "$$ (eq:xBXz)"
   ]
  },
  {
   "cell_type": "markdown",
   "metadata": {},
   "source": [
    "where $\\bo{B} = -\\bo{D}^{-1}\\bo{E}$ and $\\bo{z} = \\bo{D}^{-1}\\bo{b}$. Functional iteration using {eq}`eq:xBXz` results in the Jacobi method:"
   ]
  },
  {
   "cell_type": "markdown",
   "metadata": {},
   "source": [
    "$$\n",
    "\\label{eq:Jacobi1}\n",
    "\\bo{x}^{(t+1)} = \\bo{B}\\bo{x}^{t} + \\bo{z}, \n",
    "$$ (eq:Jacobi1)\n",
    "\n",
    "Let $\\bo{x}$ be a solution for {eq}`eq:Axb`. Then, {eq}`eq:Jacobi1` can be written as"
   ]
  },
  {
   "cell_type": "markdown",
   "metadata": {},
   "source": [
    "$$\n",
    "\\label{eq:Jacobi2}\n",
    "\\bo{x}^{(t+1)} = \\bo{B}(\\bo{x} + \\bo{e}^{t}) + \\bo{z}, \n",
    "$$ (eq:Jacobi2)"
   ]
  },
  {
   "cell_type": "markdown",
   "metadata": {},
   "source": [
    "where $\\bo{e}^{t} = \\bo{x}^t - \\bo{x}$. But, from {eq}`eq:xBXz`, $\\bo{x} = \\bo{B}\\bo{x} + \\bo{z}$, and therefore {eq}`eq:Jacobi2` can be written as\n",
    "\n",
    "$$\n",
    "\\label{eq:Jacobi3}\n",
    "\\bo{x}^{(t+1)} = \\bo{x} + \\bo{B}\\bo{e}^{t}, \n",
    "$$ (eq:Jacobi3)\n",
    "\n",
    "or\n",
    "\n",
    "$$\n",
    "\\label{eq:Jacobi4}\n",
    "\\bo{e}^{(t+1)} = \\bo{B}\\bo{e}^{t},\n",
    "$$ (eq:Jacobi4)"
   ]
  },
  {
   "cell_type": "markdown",
   "metadata": {},
   "source": [
    "which implies\n",
    "\n",
    "$$\n",
    "\\label{eq:Jacobi5}\n",
    "\\bo{e}^{(t+1)} = \\bo{B}^{t+1}\\bo{e}^{0}.\n",
    "$$ (eq:Jacobi5)"
   ]
  },
  {
   "cell_type": "markdown",
   "metadata": {},
   "source": [
    "For the matrix $\\bo{B}$ in {eq}`eq:Jacobi4`, let $\\bs{\\Lambda}$ be a diagonal matrix with its eigen values and $\\bo{R}$ a matrix with the corresponding eigen vectors. Provided that the matrix $\\bo{R}$ is non-singular, it can be shown that $\\bo{B}^t = \\bo{R}\\bo{\\Lambda}^{t}\\bo{R}^{-1}$, and thus\n",
    "\n",
    "$$\n",
    "\\label{eq:Jacobi6}\n",
    "\\bo{e}^{(t)} = \\bo{R}\\bo{\\Lambda}^{t}\\bo{R}^{-1}\\bo{e}^{0}.\n",
    "$$ (eq:Jacobi6)"
   ]
  },
  {
   "cell_type": "markdown",
   "metadata": {},
   "source": [
    "### Eigen values and Eigen vectors of $\\mathbf{B}$"
   ]
  },
  {
   "cell_type": "markdown",
   "metadata": {},
   "source": [
    "Can see below that $\\bo{B}$ has two non-zero eigen values equal to 1 and -1. Thus, {eq}`eq:Jacobi6` does not converge.  "
   ]
  },
  {
   "cell_type": "code",
   "execution_count": 8,
   "metadata": {},
   "outputs": [
    {
     "data": {
      "text/plain": [
       "5×5 Array{Float64,2}:\n",
       " 10.0  3.0  4.0  2.0  1.0\n",
       "  3.0  3.0  0.0  0.0  0.0\n",
       "  4.0  0.0  4.0  0.0  0.0\n",
       "  2.0  0.0  0.0  2.0  0.0\n",
       "  1.0  0.0  0.0  0.0  1.0"
      ]
     },
     "execution_count": 8,
     "metadata": {},
     "output_type": "execute_result"
    }
   ],
   "source": [
    "A"
   ]
  },
  {
   "cell_type": "code",
   "execution_count": 9,
   "metadata": {},
   "outputs": [
    {
     "data": {
      "text/plain": [
       "5×5 Array{Float64,2}:\n",
       " 0.0  3.0  4.0  2.0  1.0\n",
       " 3.0  0.0  0.0  0.0  0.0\n",
       " 4.0  0.0  0.0  0.0  0.0\n",
       " 2.0  0.0  0.0  0.0  0.0\n",
       " 1.0  0.0  0.0  0.0  0.0"
      ]
     },
     "execution_count": 9,
     "metadata": {},
     "output_type": "execute_result"
    }
   ],
   "source": [
    "E = A - D"
   ]
  },
  {
   "cell_type": "code",
   "execution_count": 10,
   "metadata": {},
   "outputs": [
    {
     "data": {
      "text/plain": [
       "true"
      ]
     },
     "execution_count": 10,
     "metadata": {},
     "output_type": "execute_result"
    }
   ],
   "source": [
    "E + D == A"
   ]
  },
  {
   "cell_type": "code",
   "execution_count": 11,
   "metadata": {},
   "outputs": [
    {
     "data": {
      "text/plain": [
       "5×5 Array{Float64,2}:\n",
       " -0.0  -0.3  -0.4  -0.2  -0.1\n",
       " -1.0  -0.0  -0.0  -0.0  -0.0\n",
       " -1.0  -0.0  -0.0  -0.0  -0.0\n",
       " -1.0  -0.0  -0.0  -0.0  -0.0\n",
       " -1.0  -0.0  -0.0  -0.0  -0.0"
      ]
     },
     "execution_count": 11,
     "metadata": {},
     "output_type": "execute_result"
    }
   ],
   "source": [
    "B = -inv(D)*E"
   ]
  },
  {
   "cell_type": "code",
   "execution_count": 12,
   "metadata": {},
   "outputs": [
    {
     "data": {
      "text/plain": [
       "Eigen{Float64,Float64,Array{Float64,2},Array{Float64,1}}\n",
       "eigenvalues:\n",
       "5-element Array{Float64,1}:\n",
       "  1.0               \n",
       " -1.0000000000000002\n",
       " -0.0               \n",
       " -0.0               \n",
       " -0.0               \n",
       "eigenvectors:\n",
       "5×5 Array{Float64,2}:\n",
       "  0.447214  -0.447214  -1.16153e-17   1.34094e-17  -3.20829e-18\n",
       " -0.447214  -0.447214  -0.621287     -0.440536     -0.171607   \n",
       " -0.447214  -0.447214   0.676061     -0.0910583    -0.0773749  \n",
       " -0.447214  -0.447214  -0.280128      0.888451     -0.0773749  \n",
       " -0.447214  -0.447214  -0.280128     -0.0910583     0.97907    "
      ]
     },
     "execution_count": 12,
     "metadata": {},
     "output_type": "execute_result"
    }
   ],
   "source": [
    "d,R = eigen(B)"
   ]
  },
  {
   "cell_type": "code",
   "execution_count": 13,
   "metadata": {},
   "outputs": [
    {
     "data": {
      "text/plain": [
       "5×5 Array{Float64,2}:\n",
       " 1.0   0.0  0.0  0.0  0.0\n",
       " 0.0  -1.0  0.0  0.0  0.0\n",
       " 0.0   0.0  0.0  0.0  0.0\n",
       " 0.0   0.0  0.0  0.0  0.0\n",
       " 0.0   0.0  0.0  0.0  0.0"
      ]
     },
     "execution_count": 13,
     "metadata": {},
     "output_type": "execute_result"
    }
   ],
   "source": [
    "Λ = diagm(0=>d)"
   ]
  },
  {
   "cell_type": "code",
   "execution_count": 14,
   "metadata": {},
   "outputs": [
    {
     "data": {
      "text/plain": [
       "5×5 Array{Float64,2}:\n",
       "  1.11803      -0.33541   -0.447214  -0.223607  -0.111803 \n",
       " -1.11803      -0.33541   -0.447214  -0.223607  -0.111803 \n",
       " -7.20078e-17  -0.580115   0.838839  -0.206979  -0.0517447\n",
       " -7.02935e-17  -0.566304  -0.202051   0.818869  -0.0505128\n",
       " -6.51744e-17  -0.525063  -0.187337  -0.187337   0.899737 "
      ]
     },
     "execution_count": 14,
     "metadata": {},
     "output_type": "execute_result"
    }
   ],
   "source": [
    "Ri = inv(R)"
   ]
  },
  {
   "cell_type": "code",
   "execution_count": 15,
   "metadata": {},
   "outputs": [
    {
     "data": {
      "text/plain": [
       "5-element Array{Float64,1}:\n",
       "  1.118033988749895    \n",
       " -1.1180339887498951   \n",
       " -7.200778190572192e-17\n",
       " -7.029350243045226e-17\n",
       " -6.517437471516372e-17"
      ]
     },
     "execution_count": 15,
     "metadata": {},
     "output_type": "execute_result"
    }
   ],
   "source": [
    "e0 = [1,0,0,0,0]\n",
    "Ri*e0"
   ]
  },
  {
   "cell_type": "code",
   "execution_count": 16,
   "metadata": {},
   "outputs": [
    {
     "data": {
      "text/plain": [
       "5×5 Array{Float64,2}:\n",
       "  0.447214  0.447214  0.0  0.0  0.0\n",
       " -0.447214  0.447214  0.0  0.0  0.0\n",
       " -0.447214  0.447214  0.0  0.0  0.0\n",
       " -0.447214  0.447214  0.0  0.0  0.0\n",
       " -0.447214  0.447214  0.0  0.0  0.0"
      ]
     },
     "execution_count": 16,
     "metadata": {},
     "output_type": "execute_result"
    }
   ],
   "source": [
    "R*Λ"
   ]
  },
  {
   "cell_type": "code",
   "execution_count": 17,
   "metadata": {},
   "outputs": [
    {
     "data": {
      "text/plain": [
       "5×5 Array{Float64,2}:\n",
       "  0.447214  -0.447214  0.0  0.0  0.0\n",
       " -0.447214  -0.447214  0.0  0.0  0.0\n",
       " -0.447214  -0.447214  0.0  0.0  0.0\n",
       " -0.447214  -0.447214  0.0  0.0  0.0\n",
       " -0.447214  -0.447214  0.0  0.0  0.0"
      ]
     },
     "execution_count": 17,
     "metadata": {},
     "output_type": "execute_result"
    }
   ],
   "source": [
    "R*Λ^2"
   ]
  },
  {
   "cell_type": "code",
   "execution_count": 18,
   "metadata": {},
   "outputs": [
    {
     "data": {
      "text/plain": [
       "5-element Array{Float64,1}:\n",
       " 1.0000000000000113    \n",
       " 1.1108967702578393e-14\n",
       " 1.1213437802440985e-14\n",
       " 1.1213437802440985e-14\n",
       " 1.1213437802440985e-14"
      ]
     },
     "execution_count": 18,
     "metadata": {},
     "output_type": "execute_result"
    }
   ],
   "source": [
    "R*Λ^100*Ri*e0"
   ]
  },
  {
   "cell_type": "code",
   "execution_count": 19,
   "metadata": {},
   "outputs": [
    {
     "data": {
      "text/plain": [
       "5-element Array{Float64,1}:\n",
       " -1.1523754571596893e-14\n",
       " -1.0000000000000115    \n",
       " -1.0000000000000113    \n",
       " -1.0000000000000113    \n",
       " -1.0000000000000113    "
      ]
     },
     "execution_count": 19,
     "metadata": {},
     "output_type": "execute_result"
    }
   ],
   "source": [
    "R*Λ^101*Ri*e0"
   ]
  },
  {
   "cell_type": "code",
   "execution_count": 20,
   "metadata": {},
   "outputs": [
    {
     "data": {
      "text/plain": [
       "5-element Array{Float64,1}:\n",
       " 1.0000000000000115    \n",
       " 1.1295157764071938e-14\n",
       " 1.1399627863934529e-14\n",
       " 1.1399627863934529e-14\n",
       " 1.1399627863934529e-14"
      ]
     },
     "execution_count": 20,
     "metadata": {},
     "output_type": "execute_result"
    }
   ],
   "source": [
    "R*Λ^102*Ri*e0"
   ]
  },
  {
   "cell_type": "markdown",
   "metadata": {},
   "source": [
    "### Weighted Jacobi"
   ]
  },
  {
   "cell_type": "markdown",
   "metadata": {},
   "source": [
    "The weighted Jacobi algorithm can be obtained by writing $\\bo{x}$ as"
   ]
  },
  {
   "cell_type": "markdown",
   "metadata": {},
   "source": [
    "$$\n",
    "\\bo{x} = \\alpha\\bo{x} + (1-\\alpha)\\bo{x},\n",
    "$$\n",
    "and substituting {eq}`eq:xBXz` for the first term on right to get"
   ]
  },
  {
   "cell_type": "markdown",
   "metadata": {},
   "source": [
    "$$\n",
    "\\bo{x} = \\alpha(\\bo{B}\\bo{x} + \\bo{z}) + (1-\\alpha)\\bo{x}.\n",
    "$$"
   ]
  },
  {
   "cell_type": "markdown",
   "metadata": {},
   "source": [
    "Using this equation for functional iteration, the weighted Jacobi algorithm can be written as:"
   ]
  },
  {
   "cell_type": "markdown",
   "metadata": {},
   "source": [
    "$$\n",
    "\\begin{align}\n",
    "\\bo{x}^{(t+1)} &= \\alpha(\\bo{B}\\bo{x}^t + \\bo{z}) + (1-\\alpha)\\bo{x}^t \\\\\n",
    "               &= [(1-\\alpha)\\bo{I} + \\alpha\\bo{B}]\\bo{x}^t + \\alpha\\bo{z}\\\\\n",
    "               &= \\bo{C}\\bo{x}^t + \\alpha\\bo{z},\n",
    "\\label{eq:wjacobi1}               \n",
    "\\end{align} \n",
    "$$ (eq:wjacobi1)\n",
    "\n",
    "where $\\bo{C} = (1-\\alpha)\\bo{I} + \\alpha\\bo{B}$."
   ]
  },
  {
   "cell_type": "markdown",
   "metadata": {},
   "source": [
    "As reasoned before, {eq}`eq:wjacobi1` can be written as"
   ]
  },
  {
   "cell_type": "markdown",
   "metadata": {},
   "source": [
    "$$\n",
    "\\label{eq:Cte0}\n",
    "\\bo{x}^{(t+1)} = \\bo{x} + \\bo{C}\\bo{e}^{t}, \n",
    "$$ (eq:Cte0)\n",
    "\n",
    "or\n",
    "\\begin{align}\n",
    "\\bo{e}^{(t+1)} &= \\bo{C}^t\\bo{e}^{0}\\\\\n",
    "               &= \\bo{R}\\bs{\\Lambda}^{t+1}\\bo{R}^{-1}\\bo{e}^0,\n",
    "\\end{align}\n",
    "\n",
    "where $\\bs{\\Lambda}$ and $\\bo{R}$ contain the eigen values and eigen vectors of $\\bo{C}$.  "
   ]
  },
  {
   "cell_type": "markdown",
   "metadata": {},
   "source": [
    "Can see below that the largest eigen value of $\\bo{C}$ is 1.0, and the rest, in absolute value, are smaller than 1. This implies that the system of equations given by {eq}`eq:Axb` is singular and has an infinite number of solutions."
   ]
  },
  {
   "cell_type": "markdown",
   "metadata": {},
   "source": [
    "### Exercise 1\n",
    "\n",
    "1. Use the `WJocobi` function given above to get a solution to the system {eq}`eq:Axb` for the Matrix $\\bo{A}$ and the vector $\\bo{b}$ of this numerical example. \n",
    "\n",
    "2. Using the solution obtained above in equation {eq}`eq:Cte0`, obtain two other solutions to {eq}`eq:Axb`. "
   ]
  },
  {
   "cell_type": "markdown",
   "metadata": {},
   "source": [
    "#### Eigen values and Eigen vectors of $\\bo{C}$"
   ]
  },
  {
   "cell_type": "code",
   "execution_count": 21,
   "metadata": {},
   "outputs": [
    {
     "data": {
      "text/plain": [
       "5×5 Array{Float64,2}:\n",
       "  0.3  -0.21  -0.28  -0.14  -0.07\n",
       " -0.7   0.3   -0.0   -0.0   -0.0 \n",
       " -0.7  -0.0    0.3   -0.0   -0.0 \n",
       " -0.7  -0.0   -0.0    0.3   -0.0 \n",
       " -0.7  -0.0   -0.0   -0.0    0.3 "
      ]
     },
     "execution_count": 21,
     "metadata": {},
     "output_type": "execute_result"
    }
   ],
   "source": [
    "α = 0.7\n",
    "C = I*(1-α) + B*α "
   ]
  },
  {
   "cell_type": "code",
   "execution_count": 22,
   "metadata": {},
   "outputs": [
    {
     "data": {
      "text/plain": [
       "5×5 Array{Float64,2}:\n",
       " 1.0   0.0  0.0  0.0  0.0\n",
       " 0.0  -0.4  0.0  0.0  0.0\n",
       " 0.0   0.0  0.3  0.0  0.0\n",
       " 0.0   0.0  0.0  0.3  0.0\n",
       " 0.0   0.0  0.0  0.0  0.3"
      ]
     },
     "execution_count": 22,
     "metadata": {},
     "output_type": "execute_result"
    }
   ],
   "source": [
    "d,R = eigen(C)\n",
    "Λ = diagm(0=>d)"
   ]
  },
  {
   "cell_type": "code",
   "execution_count": 24,
   "metadata": {},
   "outputs": [
    {
     "data": {
      "text/plain": [
       "5×5 Array{Float64,2}:\n",
       "  1.0        0.6        0.102598  -0.302193   -0.148436 \n",
       "  0.6        1.0        0.102598  -0.302193   -0.148436 \n",
       "  0.102598   0.102598   1.0        0.225486   -0.295895 \n",
       " -0.302193  -0.302193   0.225486   1.0        -0.0180626\n",
       " -0.148436  -0.148436  -0.295895  -0.0180626   1.0      "
      ]
     },
     "execution_count": 24,
     "metadata": {},
     "output_type": "execute_result"
    }
   ],
   "source": []
  },
  {
   "cell_type": "code",
   "execution_count": 23,
   "metadata": {},
   "outputs": [
    {
     "data": {
      "text/plain": [
       "5×5 Array{Float64,2}:\n",
       "  1.11803      -0.33541  -0.447214   -0.223607  -0.111803\n",
       " -1.11803      -0.33541  -0.447214   -0.223607  -0.111803\n",
       " -2.22045e-16   0.87178  -0.0484322  -0.621391  -0.201956\n",
       "  0.0           0.0      -0.904379    0.452189   0.452189\n",
       "  0.0           0.0       0.0        -0.747524   0.747524"
      ]
     },
     "execution_count": 23,
     "metadata": {},
     "output_type": "execute_result"
    }
   ],
   "source": [
    "Ri = inv(R)"
   ]
  },
  {
   "cell_type": "code",
   "execution_count": 26,
   "metadata": {},
   "outputs": [
    {
     "data": {
      "text/plain": [
       "5-element Array{Float64,1}:\n",
       "  1.1180339887498945   \n",
       " -1.1180339887498947   \n",
       " -2.220446049250313e-16\n",
       "  0.0                  \n",
       "  0.0                  "
      ]
     },
     "execution_count": 26,
     "metadata": {},
     "output_type": "execute_result"
    }
   ],
   "source": [
    "e0 = [1,0,0,0,0]\n",
    "h = Ri*e0"
   ]
  },
  {
   "cell_type": "code",
   "execution_count": 27,
   "metadata": {},
   "outputs": [
    {
     "data": {
      "text/plain": [
       "5×5 Array{Float64,2}:\n",
       "  0.447214  -7.18645e-41  -1.04142e-69  -3.06489e-69  -7.14908e-70\n",
       " -0.447214  -7.18645e-41   4.13825e-53   2.05786e-53  -8.16261e-54\n",
       " -0.447214  -7.18645e-41  -1.77354e-53  -3.32424e-53   8.42287e-54\n",
       " -0.447214  -7.18645e-41  -1.77354e-53   2.37445e-53  -2.60494e-53\n",
       " -0.447214  -7.18645e-41  -1.77354e-53   2.37445e-53   4.28952e-53"
      ]
     },
     "execution_count": 27,
     "metadata": {},
     "output_type": "execute_result"
    }
   ],
   "source": [
    "R*Λ^100"
   ]
  },
  {
   "cell_type": "code",
   "execution_count": 28,
   "metadata": {},
   "outputs": [
    {
     "data": {
      "text/plain": [
       "5-element Array{Float64,1}:\n",
       "  0.5                \n",
       " -0.4999999999999996 \n",
       " -0.49999999999999983\n",
       " -0.49999999999999983\n",
       " -0.49999999999999983"
      ]
     },
     "execution_count": 28,
     "metadata": {},
     "output_type": "execute_result"
    }
   ],
   "source": [
    "R*Λ^100*Ri*e0"
   ]
  },
  {
   "cell_type": "code",
   "execution_count": 29,
   "metadata": {},
   "outputs": [
    {
     "data": {
      "text/plain": [
       "5-element Array{Float64,1}:\n",
       "  0.5                \n",
       " -0.4999999999999996 \n",
       " -0.49999999999999983\n",
       " -0.49999999999999983\n",
       " -0.49999999999999983"
      ]
     },
     "execution_count": 29,
     "metadata": {},
     "output_type": "execute_result"
    }
   ],
   "source": [
    "R*Λ^101*Ri*e0"
   ]
  },
  {
   "cell_type": "code",
   "execution_count": 30,
   "metadata": {},
   "outputs": [
    {
     "data": {
      "text/plain": [
       "5-element Array{Float64,1}:\n",
       "  0.5                \n",
       " -0.4999999999999996 \n",
       " -0.49999999999999983\n",
       " -0.49999999999999983\n",
       " -0.49999999999999983"
      ]
     },
     "execution_count": 30,
     "metadata": {},
     "output_type": "execute_result"
    }
   ],
   "source": [
    "R[:,1]*h[1]"
   ]
  },
  {
   "cell_type": "code",
   "execution_count": 39,
   "metadata": {},
   "outputs": [
    {
     "data": {
      "text/plain": [
       "5-element Array{Float64,1}:\n",
       " 0.7300306184192006\n",
       " 0.6033641761387329\n",
       " 0.9700301932663996\n",
       " 0.6200308132808996\n",
       " 0.3700312561483997"
      ]
     },
     "execution_count": 39,
     "metadata": {},
     "output_type": "execute_result"
    }
   ],
   "source": [
    "sol"
   ]
  },
  {
   "cell_type": "code",
   "execution_count": 44,
   "metadata": {},
   "outputs": [
    {
     "data": {
      "text/plain": [
       "5×3 Array{Float64,2}:\n",
       " 0.730031  1.08003     1.43003  \n",
       " 0.603364  0.253364   -0.0966358\n",
       " 0.97003   0.62003     0.27003  \n",
       " 0.620031  0.270031   -0.0799692\n",
       " 0.370031  0.0200313  -0.329969 "
      ]
     },
     "execution_count": 44,
     "metadata": {},
     "output_type": "execute_result"
    }
   ],
   "source": [
    "e0 = [1,1,0,0,0]\n",
    "sol1 = sol  + R*Λ^101*Ri*e0\n",
    "sol2 = sol1 + R*Λ^101*Ri*e0\n",
    "[sol sol1 sol2]"
   ]
  },
  {
   "cell_type": "code",
   "execution_count": 45,
   "metadata": {},
   "outputs": [
    {
     "data": {
      "text/plain": [
       "5×3 Array{Float64,2}:\n",
       " 14.6006   14.6006   14.6006 \n",
       "  4.00018   4.00018   4.00018\n",
       "  6.80024   6.80024   6.80024\n",
       "  2.70012   2.70012   2.70012\n",
       "  1.10006   1.10006   1.10006"
      ]
     },
     "execution_count": 45,
     "metadata": {},
     "output_type": "execute_result"
    }
   ],
   "source": [
    "[A*sol A*sol1 A*sol2]"
   ]
  },
  {
   "cell_type": "markdown",
   "metadata": {
    "slideshow": {
     "slide_type": "slide"
    }
   },
   "source": [
    "## The Gauss–Seidel method\n",
    "\n",
    "The Gauss–Seidel method can be obtained by first writing {eq}`eq:Axb` as\n",
    "\n",
    "\\begin{align} \n",
    "\\bo{Ax} &= \\bo{b} \\\\\n",
    "(\\bo{L}+\\bo{D}+\\bo{U})\\bo{x} &= \\bo{b} \\\\\n",
    "\\bo{D}\\bo{x} &= \\bo{b} - \\bo{L}\\bo{x} - \\bo{U}\\bo{x} \\\\\n",
    "\\bo{x} &= \\bo{D}^{-1}(\\bo{b} - \\bo{L}\\bo{x} - \\bo{U}\\bo{x}), \n",
    "\\label{gs}\n",
    "\\end{align}\n",
    "\n",
    "where $\\mathbf{D}$ is a diagonal matrix with the diagonal elements of $\\mathbf{A}$, and  $\\mathbf{L}$ and $\\mathbf{U}$ are matrices with the strictly lower and upper triangular components of $\\mathbf{A}$."
   ]
  },
  {
   "cell_type": "markdown",
   "metadata": {},
   "source": [
    "Functional iteration using {eq}`gs` as:"
   ]
  },
  {
   "cell_type": "markdown",
   "metadata": {},
   "source": [
    "$$\n",
    "\\label{eq:GS}\n",
    "\\bo{x}^{(t+1)} = \\bo{D}^{-1}(\\bo{b} - \\bo{L}\\bo{x}^{(t+1)} - \\bo{U}\\bo{x}^t)\n",
    "$$ (eq:GS)\n",
    "\n",
    "is the Gauss-Seidel algorithm, which is equivalent to"
   ]
  },
  {
   "cell_type": "markdown",
   "metadata": {},
   "source": [
    "$$\n",
    "\\label{eq:GS1}\n",
    "\\bo{x}^{(t+1)} = (\\bo{D + L})^{-1}(\\bo{b} - \\bo{U}\\bo{x}^t).\n",
    "$$ (eq:GS1)"
   ]
  },
  {
   "cell_type": "markdown",
   "metadata": {},
   "source": [
    "The Gauss-Seidel algorithm given by (eq:GS) only requires the inverse of a diagonal matrix, and thus it is used for iteration. As we will see below, the second form given by {eq}`eq:GS1` is useful to study the convergence properties of the algorithm."
   ]
  },
  {
   "cell_type": "markdown",
   "metadata": {},
   "source": [
    "To study the convergence of Gauss-Seidel, {eq}`eq:GS1` can be written as"
   ]
  },
  {
   "cell_type": "markdown",
   "metadata": {},
   "source": [
    "$$\n",
    "\\label{eq:GS2}\n",
    "\\bo{x}^{(t+1)} = \\bo{B}\\bo{x}^t + \\bo{z},\n",
    "$$ (eq:GS2)"
   ]
  },
  {
   "cell_type": "markdown",
   "metadata": {},
   "source": [
    "for $\\bo{B} = -(\\bo{D + L})^{-1}\\bo{U}$ and $\\bo{z} = (\\bo{D + L})^{-1}\\bo{b}$. Given $\\bo{x}$ is a solution to {eq}`eq:Axb` and $\\bo{e}^t = \\bo{x}^t - \\bo{x}$, {eq}`eq:GS2` can be written as:"
   ]
  },
  {
   "cell_type": "markdown",
   "metadata": {},
   "source": [
    "$$\n",
    "\\begin{align}\n",
    "\\label{eq:GS3}\n",
    "\\bo{x}^{(t+1)} &= \\bo{x} + \\bo{B}\\bo{e}^{t}   \\\\\n",
    "               &= \\bo{x} + \\bo{B}^t\\bo{e}^{0} \\\\\n",
    "               &= \\bo{x} + \\bo{R}\\bs{\\Lambda}^t\\bo{R}^{-1}\\bo{e}^{0}\n",
    "\\end{align}\n",
    "$$ (eq:GS3)"
   ]
  },
  {
   "cell_type": "markdown",
   "metadata": {},
   "source": [
    "Can see below that the matrix $\\bo{B}$ for Gauss-Seidel in this example has only one non-zero eigen value, which is equal to 1.0. Thus, in this example, Gauss-Seidel will converge in one iteration.  "
   ]
  },
  {
   "cell_type": "code",
   "execution_count": 7,
   "metadata": {},
   "outputs": [
    {
     "data": {
      "text/plain": [
       "5×5 Array{Float64,2}:\n",
       " 0.0  -0.3  -0.4  -0.2  -0.1\n",
       " 0.0   0.3   0.4   0.2   0.1\n",
       " 0.0   0.3   0.4   0.2   0.1\n",
       " 0.0   0.3   0.4   0.2   0.1\n",
       " 0.0   0.3   0.4   0.2   0.1"
      ]
     },
     "execution_count": 7,
     "metadata": {},
     "output_type": "execute_result"
    }
   ],
   "source": [
    "L = LowerTriangular(A-D)\n",
    "U = UpperTriangular(A-D)\n",
    "B = -inv(D+L)*U"
   ]
  },
  {
   "cell_type": "code",
   "execution_count": 8,
   "metadata": {},
   "outputs": [
    {
     "data": {
      "text/plain": [
       "Eigen{Float64,Float64,Array{Float64,2},Array{Float64,1}}\n",
       "eigenvalues:\n",
       "5-element Array{Float64,1}:\n",
       "  0.0                   \n",
       "  1.1102230246251565e-16\n",
       "  1.0000000000000002    \n",
       " -2.6020852139652106e-17\n",
       "  1.5407439555097887e-33\n",
       "eigenvectors:\n",
       "5×5 Array{Float64,2}:\n",
       " 1.0  -0.430735  -0.447214  -0.662932   -1.0        \n",
       " 0.0  -0.72465    0.447214   0.0710403   4.76929e-18\n",
       " 0.0   0.310564   0.447214  -0.390077   -5.34648e-17\n",
       " 0.0   0.310564   0.447214   0.449062   -8.47158e-18\n",
       " 0.0   0.310564   0.447214   0.449062    2.16494e-16"
      ]
     },
     "execution_count": 8,
     "metadata": {},
     "output_type": "execute_result"
    }
   ],
   "source": [
    "d,R = eigen(B)"
   ]
  },
  {
   "cell_type": "code",
   "execution_count": 75,
   "metadata": {},
   "outputs": [
    {
     "data": {
      "text/plain": [
       "5×5 Diagonal{Float64,Array{Float64,1}}:\n",
       " 0.0   ⋅            ⋅     ⋅            ⋅         \n",
       "  ⋅   1.11022e-16   ⋅     ⋅            ⋅         \n",
       "  ⋅    ⋅           1.0    ⋅            ⋅         \n",
       "  ⋅    ⋅            ⋅   -2.60209e-17   ⋅         \n",
       "  ⋅    ⋅            ⋅     ⋅           1.54074e-33"
      ]
     },
     "execution_count": 75,
     "metadata": {},
     "output_type": "execute_result"
    }
   ],
   "source": [
    "Λ = Diagonal(d) "
   ]
  },
  {
   "cell_type": "code",
   "execution_count": 9,
   "metadata": {},
   "outputs": [
    {
     "data": {
      "text/plain": [
       "5-element Array{Float64,1}:\n",
       " 0.4600000000000002\n",
       " 0.8733333333333331\n",
       " 1.2399999999999998\n",
       " 0.8899999999999999\n",
       " 0.6400000000000001"
      ]
     },
     "execution_count": 9,
     "metadata": {},
     "output_type": "execute_result"
    }
   ],
   "source": [
    "x0 = ones(5)\n",
    "x1 = B*x0 + inv(D+L)*b"
   ]
  },
  {
   "cell_type": "code",
   "execution_count": 10,
   "metadata": {},
   "outputs": [
    {
     "data": {
      "text/plain": [
       "5×2 Array{Float64,2}:\n",
       " 14.6  14.6\n",
       "  4.0   4.0\n",
       "  6.8   6.8\n",
       "  2.7   2.7\n",
       "  1.1   1.1"
      ]
     },
     "execution_count": 10,
     "metadata": {},
     "output_type": "execute_result"
    }
   ],
   "source": [
    "[A*x1 b]"
   ]
  },
  {
   "cell_type": "markdown",
   "metadata": {
    "slideshow": {
     "slide_type": "slide"
    }
   },
   "source": [
    "### Function for Gauss-Seidel Iteration"
   ]
  },
  {
   "cell_type": "code",
   "execution_count": 50,
   "metadata": {
    "slideshow": {
     "slide_type": "slide"
    }
   },
   "outputs": [
    {
     "data": {
      "text/plain": [
       "GaussSeidel (generic function with 1 method)"
      ]
     },
     "execution_count": 50,
     "metadata": {},
     "output_type": "execute_result"
    }
   ],
   "source": [
    "function GaussSeidel(A,x,b;tolerance=0.000001,printout_frequency=10,maxiter=1000)\n",
    "    n = size(A,1)\n",
    "    for i = 1:n\n",
    "        x[i] = (b[i] - A[:,i]'x)/A[i,i] + x[i]\n",
    "    end\n",
    "    error = b - A*x\n",
    "    diff  = sum(error.^2)/n\n",
    "    \n",
    "    iter  = 0\n",
    "    while (diff > tolerance) & (iter < maxiter)\n",
    "        iter += 1\n",
    "        for i = 1:n\n",
    "            x[i] = (b[i] - A[:,i]'x)/A[i,i] + x[i]\n",
    "        end\n",
    "        \n",
    "        error = b - A*x\n",
    "        diff  = sum(error.^2)/n\n",
    "        if iter%printout_frequency == 0\n",
    "            println(iter,\" \",diff)\n",
    "        end\n",
    "    end\n",
    "    return x\n",
    "end"
   ]
  },
  {
   "cell_type": "code",
   "execution_count": 51,
   "metadata": {
    "slideshow": {
     "slide_type": "slide"
    }
   },
   "outputs": [
    {
     "data": {
      "text/plain": [
       "WGaussSeidel (generic function with 2 methods)"
      ]
     },
     "execution_count": 51,
     "metadata": {},
     "output_type": "execute_result"
    }
   ],
   "source": [
    "function WGaussSeidel(A,x,b,p=0.7;tolerance=0.000001,printout_frequency=10,maxiter=1000)\n",
    "    n = size(A,1)\n",
    "    for i = 1:n\n",
    "        x[i] = (b[i] - A[:,i]'x)/A[i,i] + x[i]\n",
    "    end\n",
    "    error = b - A*x\n",
    "    diff  = sum(error.^2)/n\n",
    "    iter  = 0\n",
    "    while (diff > tolerance) & (iter < maxiter)\n",
    "        iter += 1\n",
    "        oldx = copy(x)\n",
    "        for i = 1:n\n",
    "            x[i] = (b[i] - A[:,i]'x)/A[i,i] + x[i]\n",
    "        end\n",
    "        x = p.*x + (1-p).*oldx \n",
    "        error = b - A*x\n",
    "        diff  = sum(error.^2)/n\n",
    "        if iter%printout_frequency == 0\n",
    "            println(iter,\" \",diff)\n",
    "        end\n",
    "    end\n",
    "    return x\n",
    "end"
   ]
  },
  {
   "cell_type": "code",
   "execution_count": 48,
   "metadata": {},
   "outputs": [],
   "source": [
    "Random.seed!(31415)\n",
    "n,p = 10_000, 1_000\n",
    "M = randn(n,p)\n",
    "A = M'M \n",
    "b = M'randn(n);"
   ]
  },
  {
   "cell_type": "code",
   "execution_count": 63,
   "metadata": {},
   "outputs": [
    {
     "name": "stdout",
     "output_type": "stream",
     "text": [
      "1 19.382247782128207\n",
      "2 1.026978747753112\n",
      "3 0.06034068457675013\n",
      "4 0.003963205852774553\n",
      "5 0.0002664861096804365\n",
      "6 1.8252879289966156e-5\n",
      "7 1.2665276654822162e-6\n",
      "8 8.853342003744916e-8\n"
     ]
    }
   ],
   "source": [
    "x = zeros(p)\n",
    "sol = GaussSeidel(A,x,b,printout_frequency=1);"
   ]
  },
  {
   "cell_type": "code",
   "execution_count": 74,
   "metadata": {},
   "outputs": [
    {
     "name": "stdout",
     "output_type": "stream",
     "text": [
      "1 18.763683181281007\n",
      "2 0.6255245075284355\n",
      "3 0.019759026072331123\n",
      "4 0.000636590811215651\n",
      "5 2.0800319208576652e-5\n",
      "6 7.834096768402393e-7\n"
     ]
    }
   ],
   "source": [
    "x = zeros(p)\n",
    "sol = WGaussSeidel(A,x,b,1.1,printout_frequency=1);"
   ]
  },
  {
   "cell_type": "code",
   "execution_count": 15,
   "metadata": {},
   "outputs": [
    {
     "data": {
      "text/plain": [
       "1000×2 Array{Float64,2}:\n",
       "  -26.6233    -26.6226 \n",
       "   24.489      24.4916 \n",
       " -121.92     -121.921  \n",
       "  -32.8524    -32.8548 \n",
       "   29.3232     29.3254 \n",
       " -119.331    -119.328  \n",
       "  204.99      204.991  \n",
       "   62.2943     62.2935 \n",
       "    8.31866     8.32001\n",
       "   32.5295     32.5297 \n",
       "  -19.019     -19.0191 \n",
       " -129.999    -130.001  \n",
       "  102.933     102.935  \n",
       "    ⋮                  \n",
       "   88.3856     88.3856 \n",
       "  -86.6757    -86.6757 \n",
       "  -15.9833    -15.9834 \n",
       "  147.779     147.779  \n",
       "   -2.9699     -2.9699 \n",
       "  -69.0023    -69.0023 \n",
       "   51.2483     51.2483 \n",
       "  -66.5852    -66.5852 \n",
       "   99.3869     99.3868 \n",
       "  105.491     105.491  \n",
       "  -11.578     -11.578  \n",
       "   23.7324     23.7324 "
      ]
     },
     "execution_count": 15,
     "metadata": {},
     "output_type": "execute_result"
    }
   ],
   "source": [
    "[A*sol b] "
   ]
  },
  {
   "cell_type": "markdown",
   "metadata": {},
   "source": [
    "### Exercise 2\n",
    "\n",
    "Modify the Gauss-Seidel function given above for a weighted Gauss-Seidel algorithm. Compare convergence of the new algorithm with that given above for a range of weights between 0 and 1."
   ]
  },
  {
   "cell_type": "code",
   "execution_count": 16,
   "metadata": {},
   "outputs": [
    {
     "data": {
      "text/plain": [
       "1000×1000 Diagonal{Complex{Float64},Array{Complex{Float64},1}}:\n",
       " 0.0+0.0im           ⋅                     ⋅            …               ⋅    \n",
       "     ⋅      0.267411+0.0299211im           ⋅                            ⋅    \n",
       "     ⋅               ⋅            0.267411-0.0299211im                  ⋅    \n",
       "     ⋅               ⋅                     ⋅                            ⋅    \n",
       "     ⋅               ⋅                     ⋅                            ⋅    \n",
       "     ⋅               ⋅                     ⋅            …               ⋅    \n",
       "     ⋅               ⋅                     ⋅                            ⋅    \n",
       "     ⋅               ⋅                     ⋅                            ⋅    \n",
       "     ⋅               ⋅                     ⋅                            ⋅    \n",
       "     ⋅               ⋅                     ⋅                            ⋅    \n",
       "     ⋅               ⋅                     ⋅            …               ⋅    \n",
       "     ⋅               ⋅                     ⋅                            ⋅    \n",
       "     ⋅               ⋅                     ⋅                            ⋅    \n",
       "    ⋮                                                   ⋱                    \n",
       "     ⋅               ⋅                     ⋅                            ⋅    \n",
       "     ⋅               ⋅                     ⋅                            ⋅    \n",
       "     ⋅               ⋅                     ⋅            …               ⋅    \n",
       "     ⋅               ⋅                     ⋅                            ⋅    \n",
       "     ⋅               ⋅                     ⋅                            ⋅    \n",
       "     ⋅               ⋅                     ⋅                            ⋅    \n",
       "     ⋅               ⋅                     ⋅                            ⋅    \n",
       "     ⋅               ⋅                     ⋅            …               ⋅    \n",
       "     ⋅               ⋅                     ⋅                            ⋅    \n",
       "     ⋅               ⋅                     ⋅                            ⋅    \n",
       "     ⋅               ⋅                     ⋅                            ⋅    \n",
       "     ⋅               ⋅                     ⋅               -2.50333e-17+0.0im"
      ]
     },
     "execution_count": 16,
     "metadata": {},
     "output_type": "execute_result"
    }
   ],
   "source": [
    "D = Diagonal(A)\n",
    "L = LowerTriangular(A-D)\n",
    "U = UpperTriangular(A-D)\n",
    "B = -inv(D+L)*U\n",
    "d,R = eigen(B)\n",
    "Λ = Diagonal(d)"
   ]
  },
  {
   "cell_type": "code",
   "execution_count": 18,
   "metadata": {},
   "outputs": [
    {
     "data": {
      "text/plain": [
       "0.0"
      ]
     },
     "execution_count": 18,
     "metadata": {},
     "output_type": "execute_result"
    }
   ],
   "source": [
    "maximum(B^10000)"
   ]
  },
  {
   "cell_type": "markdown",
   "metadata": {},
   "source": [
    "## The Conjugate Gradient Method"
   ]
  },
  {
   "cell_type": "markdown",
   "metadata": {},
   "source": [
    "In the conjugate gradient method, the solution at iteration $n+1$ is: \n",
    "\n",
    "$$\n",
    "  \\mathbf{x}_{n+1} = \\mathbf{x}_n + \\alpha_n\\mathbf{d}_n, \n",
    "$$"
   ]
  },
  {
   "cell_type": "markdown",
   "metadata": {},
   "source": [
    "where\n",
    "\n",
    "$$\n",
    "\\alpha_n = \\frac{-\\mathbf{r}_n'\\mathbf{r}_n}{\\mathbf{d}_n'\\mathbf{Ad}_n},\n",
    "$$ (eq:5)\n",
    "\n",
    "$$\n",
    "  \\mathbf{r}_n = \\mathbf{Ax}_n - \\mathbf{b},\n",
    "$$ (eq6)  \n",
    "\n",
    "$$\n",
    "  \\mathbf{d}_n = \\mathbf{r}_n - \\beta_{n-1}\\mathbf{d}_{n-1}, \n",
    "$$ (eq:7)\n",
    "\n",
    "and\n",
    "\n",
    "$$\n",
    "  \\beta_{n-1} = \\frac{-\\mathbf{r}_n'\\mathbf{r}_n}\n",
    "                {\\mathbf{r}'_{n-1}\\mathbf{r}_{n-1}}.\n",
    "$$ (eq:8)\n",
    "\n",
    "It can be shown that the residual can be computed as\n",
    "\n",
    "$$\n",
    "  \\mathbf{r}_n = \\mathbf{r}_{n-1} + \\alpha_{n-1}\\mathbf{Ad}_{n-1},\n",
    "$$ (eq9)\n",
    "\n",
    "and thus avoiding computation of $\\mathbf{Ax}_n$. However, using {eq}`eq9` \n",
    "leads to the accumulation of rounding errors. Thus, it is recommended that {eq}`eq6` is used every 50 iterations."
   ]
  },
  {
   "cell_type": "markdown",
   "metadata": {},
   "source": [
    "Unlike the Jacobi method, it is not intuitively obvious why the conjugate \n",
    "gradient method works. Following is an attempt to explain why the method works.\n",
    "\n",
    "In the conjugate gradient method, the value of $\\bo{x}$ that minimizes\n",
    "\n",
    "$$\n",
    "\\label{eq:10}\n",
    "\\begin{split}\n",
    "f(\\bo{x}) &= \\frac{1}{2}\\bo{x}'\\bo{Ax} -\\bo{b}'\\bo{x}\\\\\n",
    "\\end{split}\n",
    "$$ (eq:10)\n",
    "\n",
    "is obtained by line minimizations in $n$ linearly independent directions, where\n",
    "$n$ is the order of the symmetric positive definite matrix $\\bo{A}$. Note that\n",
    "after minimization of $f(\\bo{x})$ in any direction $\\bo{d}_i$, the gradient\n",
    "$\\bo{r}_{i+1}$ will be orthogonal to $\\bo{d}_i$. \n",
    "\n",
    "In the conjugate gradient method, each direction $\\bo{d}_i$ is is chosen such\n",
    "that the gradient $\\bo{r}_{i+1}$ will also be orthogonal to all the directions\n",
    "$\\bo{d}_j$, for $j<i$, that have already been used for line minimization. If the\n",
    "directions are also linearly independent, after $n$ line minimizations, the\n",
    "function will be at its minimum in $n$ linearly independent directions. Further,\n",
    "at this point, the gradient \n",
    "\n",
    "$$\n",
    "\\bo{r} = \\bo{Ax} - \\bo{b}\n",
    "$$\n",
    "\n",
    "is orthogonal to the $n$ direction vectors. Thus, it must be the zero vector."
   ]
  },
  {
   "cell_type": "markdown",
   "metadata": {},
   "source": [
    "Following is a description of how the direction vectors are computed.  Suppose\n",
    "the search is initiated at $\\bo{x}_0 = \\bo{0}$. At this point, the gradient of\n",
    "the $f(\\bo{x})$ is\n",
    "\n",
    "$$\n",
    "\\label{eq:11}\n",
    "  \\begin{split}\n",
    "    \\bo{r}_0 &= \\bo{Ax}_o - \\bo{b}\\\\\n",
    "            &= -b. \n",
    "  \\end{split}\n",
    "$$ (eq:11)\n",
    "\n",
    "Let $\\bo{d}_0 = \\bo{r}_0$ be the first direction for line minimization. After\n",
    "minimization of $f(\\bo{x})$ in the direction $\\bo{d}_0$, the value of $\\bo{x}$\n",
    "is\n",
    "\n",
    "$$\n",
    "  \\label{eq:12}\n",
    "  \\bo{x}_1 = \\bo{x}_0 + \\alpha_0\\bo{d}_0.\n",
    "$$ (eq:12)\n",
    "\n",
    "At $\\bo{x}_1$, the gradient of the function is\n",
    "\n",
    "$$\n",
    "  \\label{eq:13}\n",
    "  \\begin{split}\n",
    "    \\bo{r}_1 &= \\bo{Ax}_1 - \\bo{b}\\\\\n",
    "            &= \\bo{A}(\\bo{x}_0 + \\alpha_0\\bo{d}_0) - \\bo{b}\\\\\n",
    "            &= \\bo{r}_0 + \\alpha_0\\bo{Ad}_0,\n",
    "  \\end{split}\n",
    "$$ (eq:13)\n",
    "\n",
    "and $\\bo{r}_1$ is orthogonal to $\\bo{d}_0$. Writing the product\n",
    "$\\bo{d}_0\\bo{r}_1=0$ as \n",
    "\n",
    "$$\n",
    "  \\label{eq:14}\n",
    "  \\begin{split}\n",
    "  \\bo{d}_0'\\bo{r}_1 &= \\bo{d}_0'\\bo{r}_0 + \\alpha_0\\bo{d}_0'\\bo{Ad}_0\\\\\n",
    "                 &= 0\n",
    "  \\end{split}\n",
    "$$ (eq:14)\n",
    "\n",
    "shows that \n",
    "\n",
    "$$\n",
    "  \\label{eq:15}\n",
    "  \\alpha_0 = \\frac{- \\bo{d}'_0\\bo{r}_0}{\\bo{d}_0'\\bo{Ad}_0},\n",
    "$$ (eq:15)\n",
    "\n",
    "and in general,\n",
    "\n",
    "$$\n",
    "  \\label{eq:16}\n",
    "    \\alpha_i = \\frac{- \\bo{d}_i'\\bo{r}_i}{\\bo{d}_i'\\bo{Ad}_i}. \n",
    "$$ (eq:16)"
   ]
  },
  {
   "cell_type": "markdown",
   "metadata": {},
   "source": [
    "At this point, line minimization\n",
    "proceeds in the direction $\\bo{d}_1$, and the value of $\\bo{x}$ at the minimum\n",
    "is\n",
    "\n",
    "$$\n",
    "\\label{eq:17}\n",
    "\\bo{x}_2 = \\bo{x}_1 + \\alpha_1\\bo{d}_1.\n",
    "$$ (eq:17)\n",
    "\n",
    "The gradient of the function at $\\bo{x}_2$ is \n",
    "\n",
    "$$\n",
    "\\label{eq:18}\n",
    "\\begin{split}\n",
    "\\bo{r}_2 &= \\bo{Ax}_2 - \\bo{b}\\\\ \n",
    "         &= \\bo{r}_1 + \\alpha_1\\bo{Ad}_1, \n",
    "\\end{split}\n",
    "$$ (eq:17)\n",
    "\n",
    "and $\\bo{r}_2$ is orthogonal to $\\bo{d}_1$. In the conjugate gradient method,\n",
    "the direction $\\bo{d}_1$ is chosen such that $\\bo{r}_2$ will also be orthogonal\n",
    "to the direction $\\bo{d}_0$. Thus the product \n",
    "\n",
    "$$\n",
    "  \\label{eq:19}\n",
    "  \\begin{split}\n",
    "    \\bo{d}_0'\\bo{r}_2 &= \\bo{d}_0'\\bo{r}_1 + \\alpha_1\\bo{d}_0'\\bo{Ad}_1\\\\\n",
    "                    &= \\alpha_1\\bo{d}_0'\\bo{Ad}_1\\\\\n",
    "                    &= 0.\n",
    "  \\end{split}\n",
    "$$ (eq:19)\n",
    "\n",
    "So, the direction, $\\bo{d}_1$ must satisfy the condition\n",
    "\n",
    "$$\n",
    "\\bo{d}_0'\\bo{Ad}_1 = 0\n",
    "$$\n",
    "\n",
    "in order for $\\bo{r}_2$ to be orthogonal to $\\bo{d}_0$. To accomplish this,\n",
    "following the Grahm-Schmidt procedure, $\\bo{d}_1$ is written as\n",
    "\n",
    "$$\n",
    "  \\label{eq:20}\n",
    "  \\bo{d}_1 = \\bo{r}_1 - \\beta_{10}\\bo{d}_0.\n",
    "$$ (eq:20)\n",
    "\n",
    "Writing $\\bo{d}_0'\\bo{Ad}_1=0$ as\n",
    "\n",
    "$$\n",
    "  \\label{eq:21}\n",
    "  \\begin{split}\n",
    "   \\bo{d}_0'\\bo{Ad}_1 &= \\bo{d}_0'\\bo{Ar}_1 - \\beta_{10}\\bo{d}_0'\\bo{Ad}_0\\\\\n",
    "                    &= 0         \n",
    "  \\end{split}\n",
    "$$ (eq:21)\n",
    "\n",
    "shows that \n",
    "\n",
    "$$\n",
    "  \\label{eq:22}\n",
    "  \\beta_{10} = \\frac{\\bo{d}_0'\\bo{Ar}_1}{\\bo{d}_0'\\bo{Ad}_0}.\n",
    "$$ (eq:22)\n",
    "\n",
    "In general, \n",
    "\n",
    "$$\n",
    "  \\label{eq:23}\n",
    "  \\bo{r}_{i+1} = \\bo{r}_i + \\alpha_i\\bo{Ad}_i,\n",
    "$$ (eq:23)\n",
    "\n",
    "and by induction, $\\bo{r}_{i+1}'\\bo{d}_j=0$ provided $\\bo{d}_i'\\bo{Ad}_j=0$ for\n",
    "$j<i$. This can be achieved by using Grahm-Schmidt as \n",
    "\n",
    "$$\n",
    "  \\label{eq:24}\n",
    "  \\bo{d}_i = \\bo{r}_i - \\sum_{j=0}^{i-1} \\beta_{ij}\\bo{d}_j,\n",
    "$$ (eq:24)\n",
    "\n",
    "where\n",
    "\n",
    "$$\n",
    "  \\label{eq:25}\n",
    "   \\beta_{ij} = \\frac{\\bo{d}_j'\\bo{Ar}_{i}}{\\bo{d}_j'\\bo{Ad}_j}.\n",
    "$$ (eq:25)\n",
    "\n",
    "Note that using the result $\\bo{r}_i\\bo{d}_j=0$ for $j<i$ in \\eqref{eq:24}\n",
    "implies:\n",
    "\n",
    "$$\n",
    "  \\label{eq:26}\n",
    "  \\bo{r}_i'\\bo{r}_j=0\\, \\text{for}\\,  j<i.\n",
    "$$ (eq:26)\n",
    "\n",
    "Using {eq}`eq:26` in {eq}`eq:23`, shows that $\\bo{r}_i'\\bo{Ad}_j=0$ for\n",
    "$j<i-1$.  Thus, in {eq}`eq:25`, $\\beta_{ij}=0$ for $j<i-1$, and the general\n",
    "expression for $\\bo{d}_i$ simplifies to\n",
    "\n",
    "$$\n",
    "  \\label{eq:27}\n",
    "  \\bo{d}_i = \\bo{r}_i - \\beta_{i-1}\\bo{d}_{i-1},\n",
    "$$ (eq:27)\n",
    "\n",
    "where\n",
    "\n",
    "$$\n",
    "  \\label{eq:28}\n",
    "  \\beta_{i-1} = \\frac{\\bo{d}_{i-1}'\\bo{Ar}_i}{\\bo{d}_{i-1}'\\bo{Ad}_{i-1}}.\n",
    "$$ (eq:28)\n",
    "\n",
    "Writing $\\bo{r}_i$ as \n",
    "\n",
    "$$\n",
    "  \\label{eq:29}\n",
    "  \\bo{r}_i = \\bo{r}_{i-1} + \\alpha_{i-1}\\bo{Ad}_{i-1}\n",
    "$$ (eq:29)\n",
    "\n",
    "and pre-multiplying by $\\bo{r}_i'$ gives\n",
    "\n",
    "$$\n",
    "  \\label{eq:30}\n",
    "  \\bo{r}_i'\\bo{r}_i = \\alpha_{i-1}\\bo{r}_i'\\bo{Ad}_{i-1}.\n",
    "$$ (eq:30)\n",
    "\n",
    "Pre-multiplying {eq}`eq:29` by $\\bo{d}_{i-1}$ gives\n",
    "\n",
    "$$\n",
    "  \\label{eq:31}\n",
    "  \\bo{d}_{i-1}'\\bo{r}_{i-1} = -\\alpha_{i-1}\\bo{d}_{i-1}'\\bo{Ad}_{i-1}.\n",
    "$$ (eq:31)\n",
    "\n",
    "Further, from {eq}`eq:27`, we can see that \n",
    "\n",
    "$$\n",
    "  \\label{eq:32}\n",
    "  \\bo{d}_i'\\bo{r}_i = \\bo{r}_i'\\bo{r}_i.\n",
    "$$ (eq:32)\n",
    "\n",
    "Using this is {eq}`eq:31` gives\n",
    "\n",
    "$$\n",
    "  \\label{eq:33}\n",
    "  \\bo{r}_{i-1}'\\bo{r}_{i-1} = -\\alpha_{i-1}\\bo{d}_{i-1}'\\bo{Ad}_{i-1}.\n",
    "$$ (eq:33)\n",
    "\n",
    "Using {eq}`eq:30` and {eq}`eq:33` in {eq}`eq:28` gives\n",
    "\n",
    "$$\n",
    "  \\label{eq:34}\n",
    "  \\beta_{i-1} = \\frac{-\\bo{r}_i'\\bo{r}_i}{\\bo{r}_{i-1}'\\bo{r}_{i-1}}.\n",
    "$$ (eq:34)\n",
    "\n",
    "Finally, using {eq}`eq:32` in {eq}`eq:16` gives\n",
    "\n",
    "$$\n",
    "  \\label{eq:35}\n",
    "  \\alpha_i = \\frac{-\\bo{r}_i'\\bo{r}_i}{\\bo{d}_i'\\bo{Ad}_i}.\n",
    "$$ (eq:35)"
   ]
  },
  {
   "cell_type": "markdown",
   "metadata": {},
   "source": [
    "## Preconditioned conjugate gradient method\n",
    "In the PCCG method, the conjugate gradient method is applied to a transformed\n",
    "system of equations. The transformation of the system is based on a matrix\n",
    "$\\mathbf{M}$ that is approximately equal to $\\mathbf{A}$ and is easy to invert.  A detailed\n",
    "explanation of PCCG is given in [An Introduction to the Conjugate Gradient Method Without the Agonizing Pain](./painless-conjugate-gradient.pdf) by Jonathan Richard Shewchuk."
   ]
  },
  {
   "cell_type": "markdown",
   "metadata": {},
   "source": [
    "In PCCG, the solution at iteration $n+1$ is:\n",
    "\n",
    "$$\n",
    "  \\label{eq:36}\n",
    "  \\bo{x}_{n+1} = \\bo{x}_n + \\alpha_n\\bo{d}_n,\n",
    "$$ (eq:36)\n",
    "\n",
    "where\n",
    "\n",
    "$$\n",
    "  \\label{eq:37}\n",
    "  \\alpha_n = \\frac{-\\bo{r}_n'\\bo{M}^{-1}\\bo{r}_n}\n",
    "            {\\bo{d}_n'\\bo{Ad}_n},\n",
    "$$ (eq:37)\n",
    "\n",
    "$$\n",
    "  \\label{eq:38}\n",
    "  \\bo{r}_n = \\bo{Ax}_n - \\bo{b},  \n",
    "$$ (eq:38)\n",
    "\n",
    "$$\n",
    "  \\label{eq:39}\n",
    "  \\bo{d}_n = \\bo{M}^{-1}\\bo{r}_n - \\beta_{n-1}\\bo{d}_{n-1}, \n",
    "$$ (eq:39)\n",
    "\n",
    "$$\n",
    "  \\label{eq:40}\n",
    "  \\beta_{n-1} = \\frac{-\\bo{r}_n'\\bo{M}^{-1}\\bo{r}_n}\n",
    "                {\\bo{r}'_{n-1}\\bo{M}^{-1}\\bo{r}_{n-1}}.  \n",
    "$$ (eq:40)\n",
    "\n",
    "As in the conjugate gradient method, the residual can be computed more\n",
    "efficiently as\n",
    "\n",
    "$$\n",
    "  \\label{eq:41}\n",
    "  \\bo{r}_n = \\bo{r}_{n-1} + \\alpha_{n-1}\\bo{Ad}_{n-1}.  \n",
    "$$ (eq:41)\n",
    "\n",
    "However, it is recommended that {eq}`eq:38` is used to every 50 iterations to\n",
    "avoid the accumulation of errors.\n"
   ]
  }
 ],
 "metadata": {
  "@webio": {
   "lastCommId": null,
   "lastKernelId": null
  },
  "celltoolbar": "Slideshow",
  "kernelspec": {
   "display_name": "Julia 1.3.1",
   "language": "julia",
   "name": "julia-1.3"
  },
  "language_info": {
   "file_extension": ".jl",
   "mimetype": "application/julia",
   "name": "julia",
   "version": "1.3.1"
  }
 },
 "nbformat": 4,
 "nbformat_minor": 4
}
