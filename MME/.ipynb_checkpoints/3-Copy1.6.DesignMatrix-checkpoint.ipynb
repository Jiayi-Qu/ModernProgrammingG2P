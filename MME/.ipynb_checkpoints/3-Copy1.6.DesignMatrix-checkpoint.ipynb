{
 "cells": [
  {
   "cell_type": "markdown",
   "metadata": {},
   "source": [
    "## Design Matrices from Data and Model\n",
    "\n",
    "Here, we will see how the design matrix can be constructed from the Data in a DataFrame and a model given as a string.\n",
    "\n",
    "### Data"
   ]
  },
  {
   "cell_type": "code",
   "execution_count": 1,
   "metadata": {},
   "outputs": [
    {
     "data": {
      "text/html": [
       "<table class=\"data-frame\"><thead><tr><th></th><th>animal</th><th>sex</th><th>breed</th><th>age</th><th>y</th></tr><tr><th></th><th>String</th><th>String</th><th>String</th><th>Int64</th><th>Float64</th></tr></thead><tbody><p>6 rows × 5 columns</p><tr><th>1</th><td>animal1</td><td>m</td><td>Angus</td><td>40</td><td>0.488</td></tr><tr><th>2</th><td>animal2</td><td>f</td><td>Angus</td><td>36</td><td>-1.519</td></tr><tr><th>3</th><td>animal3</td><td>f</td><td>Hereford</td><td>38</td><td>-0.795</td></tr><tr><th>4</th><td>animal4</td><td>m</td><td>Hereford</td><td>42</td><td>0.775</td></tr><tr><th>5</th><td>animal5</td><td>f</td><td>Angus</td><td>40</td><td>0.422</td></tr><tr><th>6</th><td>animal6</td><td>f</td><td>Angus</td><td>36</td><td>-0.238</td></tr></tbody></table>"
      ],
      "text/latex": [
       "\\begin{tabular}{r|ccccc}\n",
       "\t& animal & sex & breed & age & y\\\\\n",
       "\t\\hline\n",
       "\t& String & String & String & Int64 & Float64\\\\\n",
       "\t\\hline\n",
       "\t1 & animal1 & m & Angus & 40 & 0.488 \\\\\n",
       "\t2 & animal2 & f & Angus & 36 & -1.519 \\\\\n",
       "\t3 & animal3 & f & Hereford & 38 & -0.795 \\\\\n",
       "\t4 & animal4 & m & Hereford & 42 & 0.775 \\\\\n",
       "\t5 & animal5 & f & Angus & 40 & 0.422 \\\\\n",
       "\t6 & animal6 & f & Angus & 36 & -0.238 \\\\\n",
       "\\end{tabular}\n"
      ],
      "text/plain": [
       "6×5 DataFrame\n",
       "│ Row │ animal  │ sex    │ breed    │ age   │ y       │\n",
       "│     │ \u001b[90mString\u001b[39m  │ \u001b[90mString\u001b[39m │ \u001b[90mString\u001b[39m   │ \u001b[90mInt64\u001b[39m │ \u001b[90mFloat64\u001b[39m │\n",
       "├─────┼─────────┼────────┼──────────┼───────┼─────────┤\n",
       "│ 1   │ animal1 │ m      │ Angus    │ 40    │ 0.488   │\n",
       "│ 2   │ animal2 │ f      │ Angus    │ 36    │ -1.519  │\n",
       "│ 3   │ animal3 │ f      │ Hereford │ 38    │ -0.795  │\n",
       "│ 4   │ animal4 │ m      │ Hereford │ 42    │ 0.775   │\n",
       "│ 5   │ animal5 │ f      │ Angus    │ 40    │ 0.422   │\n",
       "│ 6   │ animal6 │ f      │ Angus    │ 36    │ -0.238  │"
      ]
     },
     "execution_count": 1,
     "metadata": {},
     "output_type": "execute_result"
    }
   ],
   "source": [
    "using DataFrames, SparseArrays\n",
    "animal= [\"animal1\",\"animal2\",\"animal3\",\"animal4\",\"animal5\",\"animal6\"]\n",
    "sex   = [\"m\",\"f\",\"f\",\"m\",\"f\",\"f\"]\n",
    "breed = [\"Angus\",\"Angus\",\"Hereford\",\"Hereford\",\"Angus\",\"Angus\"]\n",
    "age   = [40,36,38,42,40,36]\n",
    "df    = DataFrame(animal=animal,sex=sex,breed=breed,age=age,y=round.(randn(6),digits=3))"
   ]
  },
  {
   "cell_type": "markdown",
   "metadata": {},
   "source": [
    "### Model"
   ]
  },
  {
   "cell_type": "markdown",
   "metadata": {},
   "source": [
    "$$\n",
    "y_{ij} = \\mu + sex_i + e_{ij}.\n",
    "$$"
   ]
  },
  {
   "cell_type": "markdown",
   "metadata": {},
   "source": [
    "We have seen previously how to construct the design matrix for a one-way model when the levels had sequential integer values. In this DataFrame the levels of sex are `m` and `f`. We will see below how to assign sequential integers to these strings \"m\" and \"f\""
   ]
  },
  {
   "cell_type": "markdown",
   "metadata": {},
   "source": [
    "#### Get the levels of sex from the DataFrame into a vector `A`"
   ]
  },
  {
   "cell_type": "code",
   "execution_count": 2,
   "metadata": {},
   "outputs": [
    {
     "data": {
      "text/plain": [
       "6-element Array{String,1}:\n",
       " \"m\"\n",
       " \"f\"\n",
       " \"f\"\n",
       " \"m\"\n",
       " \"f\"\n",
       " \"f\""
      ]
     },
     "execution_count": 2,
     "metadata": {},
     "output_type": "execute_result"
    }
   ],
   "source": [
    "A=df[:,:sex]"
   ]
  },
  {
   "cell_type": "markdown",
   "metadata": {},
   "source": [
    "The `unique` function returns the unique levels of a vector:"
   ]
  },
  {
   "cell_type": "code",
   "execution_count": 3,
   "metadata": {},
   "outputs": [
    {
     "data": {
      "text/plain": [
       "2-element Array{String,1}:\n",
       " \"m\"\n",
       " \"f\""
      ]
     },
     "execution_count": 3,
     "metadata": {},
     "output_type": "execute_result"
    }
   ],
   "source": [
    "res = unique(A)"
   ]
  },
  {
   "cell_type": "markdown",
   "metadata": {},
   "source": [
    "Now, can make a dictionary were each unique level is the key and the associated value is the sequential integer:"
   ]
  },
  {
   "cell_type": "code",
   "execution_count": 4,
   "metadata": {},
   "outputs": [
    {
     "data": {
      "text/plain": [
       "Dict{Any,Any} with 2 entries:\n",
       "  \"f\" => 2\n",
       "  \"m\" => 1"
      ]
     },
     "execution_count": 4,
     "metadata": {},
     "output_type": "execute_result"
    }
   ],
   "source": [
    "dictA = Dict()                 # declare empty dictionary\n",
    "for (i,s) in enumerate(res)    # fill the dictionary with the values in res\n",
    "    dictA[s] = i\n",
    "end\n",
    "dictA"
   ]
  },
  {
   "cell_type": "markdown",
   "metadata": {},
   "source": [
    "Can use this dictionary to make design matrix:"
   ]
  },
  {
   "cell_type": "code",
   "execution_count": 5,
   "metadata": {},
   "outputs": [
    {
     "data": {
      "text/plain": [
       "6-element Array{Int64,1}:\n",
       " 1\n",
       " 2\n",
       " 2\n",
       " 1\n",
       " 2\n",
       " 2"
      ]
     },
     "execution_count": 5,
     "metadata": {},
     "output_type": "execute_result"
    }
   ],
   "source": [
    "ii = 1:size(A,1)            # row numbers\n",
    "jj = [dictA[i] for i in A]  # column numbers"
   ]
  },
  {
   "cell_type": "code",
   "execution_count": 5,
   "metadata": {},
   "outputs": [
    {
     "data": {
      "text/plain": [
       "6×2 Array{Int64,2}:\n",
       " 1  1\n",
       " 2  2\n",
       " 3  2\n",
       " 4  1\n",
       " 5  2\n",
       " 6  2"
      ]
     },
     "execution_count": 5,
     "metadata": {},
     "output_type": "execute_result"
    }
   ],
   "source": [
    "[ii jj]"
   ]
  },
  {
   "cell_type": "code",
   "execution_count": 6,
   "metadata": {},
   "outputs": [
    {
     "data": {
      "text/plain": [
       "6×2 SparseMatrixCSC{Float64,Int64} with 6 stored entries:\n",
       "  [1, 1]  =  1.0\n",
       "  [4, 1]  =  1.0\n",
       "  [2, 2]  =  1.0\n",
       "  [3, 2]  =  1.0\n",
       "  [5, 2]  =  1.0\n",
       "  [6, 2]  =  1.0"
      ]
     },
     "execution_count": 6,
     "metadata": {},
     "output_type": "execute_result"
    }
   ],
   "source": [
    "XA   = sparse(ii,jj,1.0)"
   ]
  },
  {
   "cell_type": "code",
   "execution_count": 7,
   "metadata": {},
   "outputs": [
    {
     "data": {
      "text/plain": [
       "6×3 Array{Float64,2}:\n",
       " 1.0  1.0  0.0\n",
       " 1.0  0.0  1.0\n",
       " 1.0  0.0  1.0\n",
       " 1.0  1.0  0.0\n",
       " 1.0  0.0  1.0\n",
       " 1.0  0.0  1.0"
      ]
     },
     "execution_count": 7,
     "metadata": {},
     "output_type": "execute_result"
    }
   ],
   "source": [
    "n = size(A,1)\n",
    "Matrix([ones(n,1) XA])"
   ]
  },
  {
   "cell_type": "code",
   "execution_count": 8,
   "metadata": {},
   "outputs": [
    {
     "data": {
      "text/plain": [
       "mkDict (generic function with 1 method)"
      ]
     },
     "execution_count": 8,
     "metadata": {},
     "output_type": "execute_result"
    }
   ],
   "source": [
    "# This function returns a dictionary with the unique values in the vector \"a\" as the keys and their \n",
    "# sequential numbers as the associated values\n",
    "# It also returns vector with the keys in sequential order. \n",
    "function mkDict(a)\n",
    "  aUnique = unique(a)\n",
    "  d = Dict()\n",
    "  names = Array{String}(undef,size(aUnique,1))\n",
    "  for (i,s) in enumerate(aUnique)\n",
    "    names[i] = s\n",
    "    d[s] = i\n",
    "  end\n",
    "  return d,names\n",
    "end"
   ]
  },
  {
   "cell_type": "markdown",
   "metadata": {},
   "source": [
    "### Model\n",
    "$$\n",
    "y_{ij} = \\mu + sex_i + breed_j + \\beta age_{ij} + e_{ij}\n",
    "$$"
   ]
  },
  {
   "cell_type": "markdown",
   "metadata": {},
   "source": [
    "We will use the `mkDict` function to construct the design matrix for this model given the data in DataFrame `df'."
   ]
  },
  {
   "cell_type": "code",
   "execution_count": 9,
   "metadata": {},
   "outputs": [
    {
     "data": {
      "text/plain": [
       "(Dict{Any,Any}(\"f\"=>2,\"m\"=>1), [\"m\", \"f\"])"
      ]
     },
     "execution_count": 9,
     "metadata": {},
     "output_type": "execute_result"
    }
   ],
   "source": [
    "dictA,namesA   = mkDict(A)"
   ]
  },
  {
   "cell_type": "code",
   "execution_count": 10,
   "metadata": {},
   "outputs": [
    {
     "data": {
      "text/plain": [
       "2-element Array{String,1}:\n",
       " \"m\"\n",
       " \"f\""
      ]
     },
     "execution_count": 10,
     "metadata": {},
     "output_type": "execute_result"
    }
   ],
   "source": [
    "namesA"
   ]
  },
  {
   "cell_type": "code",
   "execution_count": 11,
   "metadata": {},
   "outputs": [
    {
     "data": {
      "text/plain": [
       "6×2 SparseMatrixCSC{Float64,Int64} with 6 stored entries:\n",
       "  [1, 1]  =  1.0\n",
       "  [4, 1]  =  1.0\n",
       "  [2, 2]  =  1.0\n",
       "  [3, 2]  =  1.0\n",
       "  [5, 2]  =  1.0\n",
       "  [6, 2]  =  1.0"
      ]
     },
     "execution_count": 11,
     "metadata": {},
     "output_type": "execute_result"
    }
   ],
   "source": [
    "ii = 1:size(A,1)\n",
    "jj = [dictA[i] for i in A]  #list comprehension \n",
    "[ii jj]\n",
    "XA = sparse(ii,jj,1.0)"
   ]
  },
  {
   "cell_type": "code",
   "execution_count": 12,
   "metadata": {},
   "outputs": [
    {
     "data": {
      "text/plain": [
       "6×2 SparseMatrixCSC{Float64,Int64} with 6 stored entries:\n",
       "  [1, 1]  =  1.0\n",
       "  [2, 1]  =  1.0\n",
       "  [5, 1]  =  1.0\n",
       "  [6, 1]  =  1.0\n",
       "  [3, 2]  =  1.0\n",
       "  [4, 2]  =  1.0"
      ]
     },
     "execution_count": 12,
     "metadata": {},
     "output_type": "execute_result"
    }
   ],
   "source": [
    "B = df[:,:breed]\n",
    "dictB,namesB   = mkDict(B)\n",
    "jj   = [dictB[i] for i in B]  #list comprehension \n",
    "ii   = 1:size(B,1)\n",
    "XB   = sparse(ii,jj,1.0)"
   ]
  },
  {
   "cell_type": "code",
   "execution_count": 13,
   "metadata": {},
   "outputs": [
    {
     "data": {
      "text/plain": [
       "Dict{Any,Any} with 2 entries:\n",
       "  \"Angus\"    => 1\n",
       "  \"Hereford\" => 2"
      ]
     },
     "execution_count": 13,
     "metadata": {},
     "output_type": "execute_result"
    }
   ],
   "source": [
    "dictB"
   ]
  },
  {
   "cell_type": "code",
   "execution_count": 11,
   "metadata": {},
   "outputs": [
    {
     "data": {
      "text/plain": [
       "6-element Array{String,1}:\n",
       " \"age\"\n",
       " \"age\"\n",
       " \"age\"\n",
       " \"age\"\n",
       " \"age\"\n",
       " \"age\""
      ]
     },
     "execution_count": 11,
     "metadata": {},
     "output_type": "execute_result"
    }
   ],
   "source": [
    "CVal = df[:,:age]\n",
    "CStr = fill(\"age\",size(CVal,1))  # only one column in design matrix for age"
   ]
  },
  {
   "cell_type": "code",
   "execution_count": 12,
   "metadata": {},
   "outputs": [
    {
     "data": {
      "text/plain": [
       "6×1 SparseMatrixCSC{Int64,Int64} with 6 stored entries:\n",
       "  [1, 1]  =  40\n",
       "  [2, 1]  =  36\n",
       "  [3, 1]  =  38\n",
       "  [4, 1]  =  42\n",
       "  [5, 1]  =  40\n",
       "  [6, 1]  =  36"
      ]
     },
     "execution_count": 12,
     "metadata": {},
     "output_type": "execute_result"
    }
   ],
   "source": [
    "dictC,namesC   = mkDict(CStr)\n",
    "jj   = [dictC[i] for i in CStr]  #list comprehension \n",
    "ii   = 1:size(CStr,1)\n",
    "XC   = sparse(ii,jj,CVal)"
   ]
  },
  {
   "cell_type": "code",
   "execution_count": 13,
   "metadata": {},
   "outputs": [
    {
     "data": {
      "text/plain": [
       "6×6 Array{Float64,2}:\n",
       " 1.0  1.0  0.0  1.0  0.0  40.0\n",
       " 1.0  0.0  1.0  1.0  0.0  36.0\n",
       " 1.0  0.0  1.0  0.0  1.0  38.0\n",
       " 1.0  1.0  0.0  0.0  1.0  42.0\n",
       " 1.0  0.0  1.0  1.0  0.0  40.0\n",
       " 1.0  0.0  1.0  1.0  0.0  36.0"
      ]
     },
     "execution_count": 13,
     "metadata": {},
     "output_type": "execute_result"
    }
   ],
   "source": [
    "n = size(A,1)\n",
    "Matrix([ones(n,1) XA XB XC])"
   ]
  },
  {
   "cell_type": "code",
   "execution_count": 14,
   "metadata": {},
   "outputs": [
    {
     "data": {
      "text/plain": [
       "6-element Array{Any,1}:\n",
       " \"intercept\"\n",
       " \"m\"        \n",
       " \"f\"        \n",
       " \"Angus\"    \n",
       " \"Hereford\" \n",
       " \"age\"      "
      ]
     },
     "execution_count": 14,
     "metadata": {},
     "output_type": "execute_result"
    }
   ],
   "source": [
    "[\"intercept\"; namesA; namesB; namesC]"
   ]
  },
  {
   "cell_type": "markdown",
   "metadata": {},
   "source": [
    "### Two-way model with interaction"
   ]
  },
  {
   "cell_type": "markdown",
   "metadata": {},
   "source": [
    "The $\\mathbf{X}$ matrix for the two-way model with interation between breed and sex\n",
    "\n",
    "$$\n",
    "y_{ijk} = \\mu + sex_i + breed_j + sex_i*breed_j+ e_{ijk}\n",
    "$$"
   ]
  },
  {
   "cell_type": "markdown",
   "metadata": {},
   "source": [
    "We already have the design matrices for the main effects."
   ]
  },
  {
   "cell_type": "markdown",
   "metadata": {},
   "source": [
    "### Design Matrix for Interaction Term\n",
    "\n",
    "#### Make vector of levels for interaction:"
   ]
  },
  {
   "cell_type": "code",
   "execution_count": 15,
   "metadata": {},
   "outputs": [
    {
     "data": {
      "text/plain": [
       "\"Rohan Fernando\""
      ]
     },
     "execution_count": 15,
     "metadata": {},
     "output_type": "execute_result"
    }
   ],
   "source": [
    "firstName = \"Rohan\"\n",
    "lastName = \" Fernando\"\n",
    "firstName * lastName"
   ]
  },
  {
   "cell_type": "code",
   "execution_count": 16,
   "metadata": {
    "slideshow": {
     "slide_type": "-"
    }
   },
   "outputs": [
    {
     "data": {
      "text/plain": [
       "6-element Array{String,1}:\n",
       " \"m x Angus\"   \n",
       " \"f x Angus\"   \n",
       " \"f x Hereford\"\n",
       " \"m x Hereford\"\n",
       " \"f x Angus\"   \n",
       " \"f x Angus\"   "
      ]
     },
     "execution_count": 16,
     "metadata": {},
     "output_type": "execute_result"
    }
   ],
   "source": [
    "AB = A .*\" x \".*B"
   ]
  },
  {
   "cell_type": "markdown",
   "metadata": {},
   "source": [
    "Use `AB` to construct `XAB` "
   ]
  },
  {
   "cell_type": "code",
   "execution_count": 22,
   "metadata": {
    "slideshow": {
     "slide_type": "-"
    }
   },
   "outputs": [
    {
     "data": {
      "text/plain": [
       "6×4 SparseMatrixCSC{Float64,Int64} with 6 stored entries:\n",
       "  [1, 1]  =  1.0\n",
       "  [2, 2]  =  1.0\n",
       "  [5, 2]  =  1.0\n",
       "  [6, 2]  =  1.0\n",
       "  [3, 3]  =  1.0\n",
       "  [4, 4]  =  1.0"
      ]
     },
     "execution_count": 22,
     "metadata": {},
     "output_type": "execute_result"
    }
   ],
   "source": [
    "dictAB,namesAB   = mkDict(AB)\n",
    "ii   = 1:size(A,1)\n",
    "jj   = [dictAB[i] for i in AB]  #list comprehension \n",
    "XAB = sparse(ii,jj,1.0)"
   ]
  },
  {
   "cell_type": "code",
   "execution_count": 23,
   "metadata": {},
   "outputs": [
    {
     "data": {
      "text/plain": [
       "4-element Array{String,1}:\n",
       " \"m x Angus\"   \n",
       " \"f x Angus\"   \n",
       " \"f x Hereford\"\n",
       " \"m x Hereford\""
      ]
     },
     "execution_count": 23,
     "metadata": {},
     "output_type": "execute_result"
    }
   ],
   "source": [
    "namesAB"
   ]
  },
  {
   "cell_type": "markdown",
   "metadata": {},
   "source": [
    "#### Design Matrix for Model"
   ]
  },
  {
   "cell_type": "code",
   "execution_count": 24,
   "metadata": {},
   "outputs": [
    {
     "data": {
      "text/plain": [
       "6×9 Array{Float64,2}:\n",
       " 1.0  1.0  0.0  1.0  0.0  1.0  0.0  0.0  0.0\n",
       " 1.0  0.0  1.0  1.0  0.0  0.0  1.0  0.0  0.0\n",
       " 1.0  0.0  1.0  0.0  1.0  0.0  0.0  1.0  0.0\n",
       " 1.0  1.0  0.0  0.0  1.0  0.0  0.0  0.0  1.0\n",
       " 1.0  0.0  1.0  1.0  0.0  0.0  1.0  0.0  0.0\n",
       " 1.0  0.0  1.0  1.0  0.0  0.0  1.0  0.0  0.0"
      ]
     },
     "execution_count": 24,
     "metadata": {},
     "output_type": "execute_result"
    }
   ],
   "source": [
    "n = size(A,1)\n",
    "Matrix([ones(n,1) XA XB XAB])"
   ]
  },
  {
   "cell_type": "code",
   "execution_count": 19,
   "metadata": {},
   "outputs": [
    {
     "data": {
      "text/plain": [
       "9-element Array{Any,1}:\n",
       " \"intercept\"   \n",
       " \"m\"           \n",
       " \"f\"           \n",
       " \"Angus\"       \n",
       " \"Hereford\"    \n",
       " \"m x Angus\"   \n",
       " \"f x Angus\"   \n",
       " \"f x Hereford\"\n",
       " \"m x Hereford\""
      ]
     },
     "execution_count": 19,
     "metadata": {},
     "output_type": "execute_result"
    }
   ],
   "source": [
    "[\"intercept\"; namesA; namesB; namesAB]"
   ]
  },
  {
   "cell_type": "markdown",
   "metadata": {},
   "source": [
    "### Model with sex-specific slope for age"
   ]
  },
  {
   "cell_type": "markdown",
   "metadata": {},
   "source": [
    "$$\n",
    "y_{ij} = \\mu + sex_i + \\beta_{i}(age_{ij})+ e_{ij}\n",
    "$$"
   ]
  },
  {
   "cell_type": "code",
   "execution_count": 25,
   "metadata": {},
   "outputs": [
    {
     "data": {
      "text/plain": [
       "6-element Array{String,1}:\n",
       " \"age\"\n",
       " \"age\"\n",
       " \"age\"\n",
       " \"age\"\n",
       " \"age\"\n",
       " \"age\""
      ]
     },
     "execution_count": 25,
     "metadata": {},
     "output_type": "execute_result"
    }
   ],
   "source": [
    "BVal = df[:,:age]\n",
    "BStr = fill(\"age\",size(BVal,1))"
   ]
  },
  {
   "cell_type": "code",
   "execution_count": 26,
   "metadata": {},
   "outputs": [
    {
     "data": {
      "text/plain": [
       "6-element Array{String,1}:\n",
       " \"m x age\"\n",
       " \"f x age\"\n",
       " \"f x age\"\n",
       " \"m x age\"\n",
       " \"f x age\"\n",
       " \"f x age\""
      ]
     },
     "execution_count": 26,
     "metadata": {},
     "output_type": "execute_result"
    }
   ],
   "source": [
    "AB = A.*\" x \".*BStr "
   ]
  },
  {
   "cell_type": "code",
   "execution_count": 27,
   "metadata": {},
   "outputs": [
    {
     "data": {
      "text/plain": [
       "6×2 Array{Int64,2}:\n",
       " 40   0\n",
       "  0  36\n",
       "  0  38\n",
       " 42   0\n",
       "  0  40\n",
       "  0  36"
      ]
     },
     "execution_count": 27,
     "metadata": {},
     "output_type": "execute_result"
    }
   ],
   "source": [
    "dAB,namesAB   = mkDict(AB)\n",
    "ii    = 1:size(AB,1)\n",
    "jj   = [dAB[i] for i in AB]  #list comprehension \n",
    "XAB   = sparse(ii,jj,BVal)\n",
    "Matrix(XAB)"
   ]
  },
  {
   "cell_type": "markdown",
   "metadata": {},
   "source": [
    "#### Design Matrix for Model"
   ]
  },
  {
   "cell_type": "code",
   "execution_count": 28,
   "metadata": {},
   "outputs": [
    {
     "data": {
      "text/plain": [
       "6×5 Array{Float64,2}:\n",
       " 1.0  1.0  0.0  40.0   0.0\n",
       " 1.0  0.0  1.0   0.0  36.0\n",
       " 1.0  0.0  1.0   0.0  38.0\n",
       " 1.0  1.0  0.0  42.0   0.0\n",
       " 1.0  0.0  1.0   0.0  40.0\n",
       " 1.0  0.0  1.0   0.0  36.0"
      ]
     },
     "execution_count": 28,
     "metadata": {},
     "output_type": "execute_result"
    }
   ],
   "source": [
    "Matrix([ones(n,1) XA XAB])"
   ]
  },
  {
   "cell_type": "code",
   "execution_count": 29,
   "metadata": {},
   "outputs": [
    {
     "data": {
      "text/plain": [
       "5-element Array{String,1}:\n",
       " \"intercept\"\n",
       " \"m\"        \n",
       " \"f\"        \n",
       " \"m x age\"  \n",
       " \"f x age\"  "
      ]
     },
     "execution_count": 29,
     "metadata": {},
     "output_type": "execute_result"
    }
   ],
   "source": [
    "[\"intercept\"; namesA; namesAB]"
   ]
  },
  {
   "cell_type": "markdown",
   "metadata": {},
   "source": [
    "### Function to Construct Design Matrix"
   ]
  },
  {
   "cell_type": "markdown",
   "metadata": {},
   "source": [
    "#### Function for main effects\n",
    "\n",
    "We will do this by putting the code we have used earlier into a fucntion.\n",
    "First, let's make our code work for quantitative or qualitiative factors."
   ]
  },
  {
   "cell_type": "code",
   "execution_count": 35,
   "metadata": {},
   "outputs": [
    {
     "data": {
      "text/plain": [
       "6×2 Array{Float64,2}:\n",
       " 1.0  0.0\n",
       " 0.0  1.0\n",
       " 0.0  1.0\n",
       " 1.0  0.0\n",
       " 0.0  1.0\n",
       " 0.0  1.0"
      ]
     },
     "execution_count": 35,
     "metadata": {},
     "output_type": "execute_result"
    }
   ],
   "source": [
    "# Test code for qualitative factor\n",
    "factor = \"sex\"\n",
    "cov    = false\n",
    "data = df[:,Symbol(factor)]\n",
    "\n",
    "n = size(data,1)\n",
    "if cov==false\n",
    "    str = data\n",
    "    val = 1.0\n",
    "else \n",
    "    str = fill(factor,n)\n",
    "    val = data\n",
    "end\n",
    "\n",
    "dict,names   = mkDict(str)\n",
    "ii    = 1:n                    # row numbers \n",
    "jj   = [dict[i] for i in str]  # column numbers\n",
    "X    = sparse(ii,jj,val)\n",
    "Matrix(X)    "
   ]
  },
  {
   "cell_type": "code",
   "execution_count": 36,
   "metadata": {},
   "outputs": [
    {
     "data": {
      "text/plain": [
       "6×1 Array{Int64,2}:\n",
       " 40\n",
       " 36\n",
       " 38\n",
       " 42\n",
       " 40\n",
       " 36"
      ]
     },
     "execution_count": 36,
     "metadata": {},
     "output_type": "execute_result"
    }
   ],
   "source": [
    "# Test code for quantitative factor\n",
    "factor = \"age\"\n",
    "cov    = true\n",
    "\n",
    "data = df[:,Symbol(factor)]\n",
    "n = size(data,1)\n",
    "if cov==false\n",
    "    str = data\n",
    "    val = 1.0\n",
    "else \n",
    "    str = fill(factor,n)\n",
    "    val = data\n",
    "end\n",
    "\n",
    "dict,names   = mkDict(str)\n",
    "ii    = 1:n                    # row numbers \n",
    "jj   = [dict[i] for i in str]  # column numbers\n",
    "X    = sparse(ii,jj,val)\n",
    "Matrix(X)"
   ]
  },
  {
   "cell_type": "markdown",
   "metadata": {},
   "source": [
    "#### Put the code in a function:"
   ]
  },
  {
   "cell_type": "code",
   "execution_count": 37,
   "metadata": {},
   "outputs": [
    {
     "data": {
      "text/plain": [
       "getX (generic function with 1 method)"
      ]
     },
     "execution_count": 37,
     "metadata": {},
     "output_type": "execute_result"
    }
   ],
   "source": [
    "function getX(factor,df;cov=false)\n",
    "    data = df[:,Symbol(factor)]\n",
    "    n = size(data,1)\n",
    "    if cov==false\n",
    "        str = data\n",
    "        val = 1.0\n",
    "    else \n",
    "        str = fill(factor,n)\n",
    "        val = data\n",
    "    end\n",
    "\n",
    "    dict,names   = mkDict(str)\n",
    "    ii    = 1:n                    # row numbers \n",
    "    jj   = [dict[i] for i in str]  # column numbers\n",
    "    X    = sparse(ii,jj,val)    \n",
    "end        "
   ]
  },
  {
   "cell_type": "code",
   "execution_count": 39,
   "metadata": {},
   "outputs": [
    {
     "data": {
      "text/plain": [
       "6×2 Array{Float64,2}:\n",
       " 1.0  0.0\n",
       " 0.0  1.0\n",
       " 0.0  1.0\n",
       " 1.0  0.0\n",
       " 0.0  1.0\n",
       " 0.0  1.0"
      ]
     },
     "execution_count": 39,
     "metadata": {},
     "output_type": "execute_result"
    }
   ],
   "source": [
    "X = getX(\"sex\",df)\n",
    "Matrix(X)"
   ]
  },
  {
   "cell_type": "code",
   "execution_count": 40,
   "metadata": {},
   "outputs": [
    {
     "data": {
      "text/plain": [
       "6×1 Array{Int64,2}:\n",
       " 40\n",
       " 36\n",
       " 38\n",
       " 42\n",
       " 40\n",
       " 36"
      ]
     },
     "execution_count": 40,
     "metadata": {},
     "output_type": "execute_result"
    }
   ],
   "source": [
    "X = getX(\"age\",df,cov=true)\n",
    "Matrix(X)"
   ]
  },
  {
   "cell_type": "code",
   "execution_count": 43,
   "metadata": {},
   "outputs": [
    {
     "data": {
      "text/plain": [
       "6"
      ]
     },
     "execution_count": 43,
     "metadata": {},
     "output_type": "execute_result"
    }
   ],
   "source": [
    "factors = [\"sex\", \"breed\"]\n",
    "covs =[false, false]\n",
    "n = size(df,1)"
   ]
  },
  {
   "cell_type": "code",
   "execution_count": 60,
   "metadata": {},
   "outputs": [
    {
     "data": {
      "text/plain": [
       "getX (generic function with 2 methods)"
      ]
     },
     "execution_count": 60,
     "metadata": {},
     "output_type": "execute_result"
    }
   ],
   "source": [
    "function getX(factors,covs,df)\n",
    "    n = size(df,1)\n",
    "    if covs[1] == false\n",
    "        str = df[:,Symbol(factors[1])]\n",
    "        val = 1.0\n",
    "    else\n",
    "        str = fill(factors[1],n) \n",
    "        val = df[:,Symbol(factors[1])]    \n",
    "    end       \n",
    "\n",
    "    for i in 2:length(factors)\n",
    "        if covs[i] == false\n",
    "            str = str .*\" x \".*df[:,Symbol(factors[i])]\n",
    "            val = val .* 1.0 \n",
    "        else\n",
    "            str = str .*\" x \".*fill(factors[i],n) \n",
    "            val = val .* df[:,Symbol(factors[i])]    \n",
    "        end \n",
    "    end \n",
    "    dict,names   = mkDict(str)\n",
    "    ii    = 1:n                    # row numbers \n",
    "    jj   = [dict[i] for i in str]  # column numbers\n",
    "    X    = sparse(ii,jj,val)    \n",
    "    Matrix(X) \n",
    "end            "
   ]
  },
  {
   "cell_type": "code",
   "execution_count": 61,
   "metadata": {},
   "outputs": [
    {
     "data": {
      "text/plain": [
       "6×4 Array{Float64,2}:\n",
       " 1.0  0.0  0.0  0.0\n",
       " 0.0  1.0  0.0  0.0\n",
       " 0.0  0.0  1.0  0.0\n",
       " 0.0  0.0  0.0  1.0\n",
       " 0.0  1.0  0.0  0.0\n",
       " 0.0  1.0  0.0  0.0"
      ]
     },
     "execution_count": 61,
     "metadata": {},
     "output_type": "execute_result"
    }
   ],
   "source": [
    "getX(factors,covs,df)"
   ]
  },
  {
   "cell_type": "code",
   "execution_count": 62,
   "metadata": {},
   "outputs": [
    {
     "data": {
      "text/plain": [
       "6×2 Array{Float64,2}:\n",
       " 1.0  0.0\n",
       " 0.0  1.0\n",
       " 0.0  1.0\n",
       " 1.0  0.0\n",
       " 0.0  1.0\n",
       " 0.0  1.0"
      ]
     },
     "execution_count": 62,
     "metadata": {},
     "output_type": "execute_result"
    }
   ],
   "source": [
    "factors = [\"sex\"]\n",
    "covs =[false]\n",
    "getX(factors,covs,df)"
   ]
  },
  {
   "cell_type": "code",
   "execution_count": 66,
   "metadata": {},
   "outputs": [
    {
     "data": {
      "text/plain": [
       "6×1 Array{Int64,2}:\n",
       " 1600\n",
       " 1296\n",
       " 1444\n",
       " 1764\n",
       " 1600\n",
       " 1296"
      ]
     },
     "execution_count": 66,
     "metadata": {},
     "output_type": "execute_result"
    }
   ],
   "source": [
    "factors = [\"age\", \"age\"]\n",
    "covs =[true, true]\n",
    "getX(factors,covs,df)"
   ]
  }
 ],
 "metadata": {
  "@webio": {
   "lastCommId": null,
   "lastKernelId": null
  },
  "kernelspec": {
   "display_name": "Julia 1.1.0",
   "language": "julia",
   "name": "julia-1.1"
  },
  "language_info": {
   "file_extension": ".jl",
   "mimetype": "application/julia",
   "name": "julia",
   "version": "1.1.0"
  }
 },
 "nbformat": 4,
 "nbformat_minor": 2
}
