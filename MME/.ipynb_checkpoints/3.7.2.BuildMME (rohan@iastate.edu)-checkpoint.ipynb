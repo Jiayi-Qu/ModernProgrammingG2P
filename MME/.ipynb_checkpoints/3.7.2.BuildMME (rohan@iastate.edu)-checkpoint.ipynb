{
 "cells": [
  {
   "cell_type": "markdown",
   "metadata": {},
   "source": [
    "## Mixed Model Equations(MME) from Data and Model\n",
    "\n",
    "### Extensions for Multi-trait Models\n",
    "\n",
    "Here, we will see how the MME can be constructed from the Data in a DataFrame and a higher-level description of the model. The model description will include a string representation of the model equation, identification of the quantitative factors in the model, and specification of the random terms in the model. In the previous [notebook](3.6.DesignMatrix.ipynb), we constructed the left-hand-side (LHS) and the right-hand-side (RHS)  of the normal equations for a fixed-effects model. In order to construct the MME for a mixed model, we need to identify the random effects in the model and also determine the row and column positions for these random effects in the LHS of the MME. In order to store this information needed to construct the MME, we will use the following stuctures (composite types). \n",
    "\n",
    "### Structures for Building MME"
   ]
  },
  {
   "cell_type": "code",
   "execution_count": 1,
   "metadata": {},
   "outputs": [
    {
     "data": {
      "text/plain": [
       "ModelTerm"
      ]
     },
     "execution_count": 1,
     "metadata": {},
     "output_type": "execute_result"
    }
   ],
   "source": [
    "#EXECUTE \n",
    "using DataFrames, SparseArrays, LinearAlgebra, Random, JWAS, CSV\n",
    "using Printf\n",
    "\n",
    "mutable struct ModelTerm\n",
    "    trmString::AbstractString\n",
    "    iModel::Int64                           # the model (trait) this term belongs to\n",
    "    startPos::Int64\n",
    "    endPos::Int64\n",
    "    randomType::String\n",
    "end\n",
    "\n",
    "mutable struct RandomEffect\n",
    "    modelTermVec::Array{ModelTerm,1}      \n",
    "    νpr::Float64\n",
    "    Spr::Array{Float64,2}\n",
    "    Vi::Array{Float64,2}\n",
    "    meanV::Array{Float64,2}\n",
    "    Ai\n",
    "    estimate::Bool\n",
    "    outSamples::Bool\n",
    "    outFreq::Int64\n",
    "    outStream\n",
    "end\n",
    "\n",
    "mutable struct MME\n",
    "    modelEquations::Array{AbstractString,1} #\"[y1 = A + B + A*B ;y2 = A + B\"]\n",
    "    covVec::Array{String}                   #[\"age\"]\n",
    "    modelTermVec::Array{ModelTerm,1}        #[modelTerm(\"A\") , modelTerm(\"A*B\")]\n",
    "    modelTermDict::Dict{AbstractString,ModelTerm}\n",
    "    randomEffectsVec::Array{RandomEffect,1} #[RandomEffect(\"Ind\"), RandomEffect(\"Mat\")]\n",
    "    ped                                     # false or a pedigee structure defined in JWAS.PedModule\n",
    "    depVarVec::Array{AbstractString,1}      #[\"y1\",\"y2\"]\n",
    "    X::SparseMatrixCSC{Float64,Int64}       #design matrix\n",
    "    mmeLhs::SparseMatrixCSC{Float64,Int64}  #left-hand side for MME\n",
    "    mmeRhs::Array{Float64,1}                #right-hand side for MME\n",
    "    mmeSpl::Array{Float64,1}                #sample of location effects\n",
    "    varRes::Array{Float64,2}                #residual variance \n",
    "    νRes::Float64                           #prior degrees of freedom for varRes\n",
    "    SRes::Array{Float64,2}                  #prior scale parameter for resVar\n",
    "    y::Array{Float64,1}                     #matrix of values for dependent variable\n",
    "    meanVarRes::Array{Float64,2}                     \n",
    "end \n",
    "\n",
    "function ModelTerm(str::AbstractString,iModel)\n",
    "    ModelTerm(str,iModel,0,0,\"fixed\")\n",
    "end  "
   ]
  },
  {
   "cell_type": "markdown",
   "metadata": {},
   "source": [
    "### Functions for Building MME"
   ]
  },
  {
   "cell_type": "code",
   "execution_count": 2,
   "metadata": {},
   "outputs": [
    {
     "data": {
      "text/plain": [
       "initMME (generic function with 1 method)"
      ]
     },
     "execution_count": 2,
     "metadata": {},
     "output_type": "execute_result"
    }
   ],
   "source": [
    "#EXECUTE \n",
    "function initMME(modelEquations::AbstractString,varRes;νRes=5.0)  # \"y1 = A + A*B; y2 = A + B\"\n",
    "    if modelEquations==\"\"\n",
    "        error(\"modelEquations is empty\\n\")\n",
    "    end\n",
    "    modelVec   = [strip(i) for i in split(modelEquations,[';','\\n'],keepempty=false)]\n",
    "    nModels    = size(modelVec,1)\n",
    "    depVarVec  = Array{AbstractString,1}()\n",
    "    modelTermVec  = Array{ModelTerm,1}()                 # modelTerms across all the models\n",
    "    modelTermDict = Dict{AbstractString,ModelTerm}()  \n",
    "    for (m,model) = enumerate(modelVec)\n",
    "        leftRight  = split(model,\"=\")                 # \"y\", \"A+A*B\"\n",
    "        depVarVec  = [depVarVec; strip(leftRight[1])] # [\"y1\",\"y2\"]\n",
    "        modelParts = strip(leftRight[2])              # \"A+A*B\" \n",
    "        termsVec   = split(modelParts,\"+\")            # \"A\",\"A*B\"\n",
    "        modelTermVeci = [ModelTerm(string(m)*\":\"*strip(trmStr),m) for trmStr in termsVec]\n",
    "        modelTermVec  = [modelTermVec;modelTermVeci]    \n",
    "    end\n",
    "    for i in modelTermVec\n",
    "        modelTermDict[i.trmString] = i\n",
    "    end\n",
    "    randomEffectsVec = []\n",
    "    ped = false\n",
    "    covVec = []\n",
    "    X = spzeros(0,0)\n",
    "    mmeLhs = spzeros(0,0)\n",
    "    mmeRhs = []\n",
    "    mmeSol = []\n",
    "    y      = Array{Float64,1}(undef,0)\n",
    "    m = size(varRes,1)\n",
    "    varRes = m==1 ? fill(varRes,1,1) : varRes\n",
    "    SRes   = varRes*(νRes - m - 1)\n",
    "    meanVarRes = zero(varRes)\n",
    "    return MME(modelVec,covVec,modelTermVec,modelTermDict,randomEffectsVec,ped,\n",
    "               depVarVec,X,mmeLhs,mmeRhs,mmeSol,varRes,νRes,SRes,y,meanVarRes)\n",
    "end "
   ]
  },
  {
   "cell_type": "code",
   "execution_count": 3,
   "metadata": {},
   "outputs": [],
   "source": [
    "varRes = 1.0\n",
    "mme = initMME(\"y = sex + breed + age\",varRes)\n",
    "mme.covVec = [\"age\"];"
   ]
  },
  {
   "cell_type": "code",
   "execution_count": 4,
   "metadata": {},
   "outputs": [
    {
     "data": {
      "text/plain": [
       "\"1:sex\""
      ]
     },
     "execution_count": 4,
     "metadata": {},
     "output_type": "execute_result"
    }
   ],
   "source": [
    "mme.modelTermVec[1].trmString"
   ]
  },
  {
   "cell_type": "code",
   "execution_count": 5,
   "metadata": {},
   "outputs": [
    {
     "data": {
      "text/plain": [
       "\"sex\""
      ]
     },
     "execution_count": 5,
     "metadata": {},
     "output_type": "execute_result"
    }
   ],
   "source": [
    "mme.modelTermVec[1].trmString[3:end]"
   ]
  },
  {
   "cell_type": "code",
   "execution_count": 57,
   "metadata": {},
   "outputs": [
    {
     "data": {
      "text/plain": [
       "addGiMats! (generic function with 1 method)"
      ]
     },
     "execution_count": 57,
     "metadata": {},
     "output_type": "execute_result"
    }
   ],
   "source": [
    "#EXECUTE \n",
    "# This function returns returns a dictionary with the names in the pedigree as the keys and their \n",
    "# sequential numbers as the associated values\n",
    "# It also returns vector with the keys in sequential order. \n",
    "\n",
    "function mkDict(ped::JWAS.PedModule.Pedigree)\n",
    "    d = Dict()\n",
    "    names = Array{String}(undef,length(ped.idMap))\n",
    "    for i in ped.idMap    \n",
    "        d[i.first] = i.second.seqID\n",
    "        names[i.second.seqID] = i.first\n",
    "    end\n",
    "    return d,names\n",
    "end\n",
    "\n",
    "# This function returns \n",
    "# a dictionary with the unique values in the vector \"a\" as the keys and their \n",
    "# sequential numbers as the associated values\n",
    "# It also returns vector with the keys in sequential order. \n",
    "function mkDict(a)\n",
    "    d = Dict()\n",
    "    aUnique = unique(a)\n",
    "    names = Array{String}(undef,size(aUnique,1))\n",
    "    for (i,s) in enumerate(aUnique)\n",
    "    names[i] = s\n",
    "    d[s] = i\n",
    "    end\n",
    "    return d,names\n",
    "end\n",
    "\n",
    "function getX(mme,modelTerm::ModelTerm,covariables,df)\n",
    "    n = size(df,1)\n",
    "    nModels = size(mme.modelEquations,1)\n",
    "    trmString = split(modelTerm.trmString,':')[2]\n",
    "    if trmString == \"intercept\"\n",
    "        ii = (modelTerm.iModel-1)*n .+ (1:n) # row numbers\n",
    "        jj = ones(n)\n",
    "        val = 1.0\n",
    "        p = 1\n",
    "        X  = sparse(ii,jj,val,n*nModels,p)\n",
    "        colNames = modelTerm.trmString\n",
    "        return X,colNames\n",
    "    end\n",
    "    factors = strip.(split(trmString,\"*\"))\n",
    "    covs = [i in covariables for i in factors]\n",
    "    \n",
    "    if covs[1] == false\n",
    "        str = string.(df[:,Symbol(factors[1])])\n",
    "        val = 1.0\n",
    "    else\n",
    "        str = fill(factors[1],n) \n",
    "        val = df[:,Symbol(factors[1])]    \n",
    "    end       \n",
    "\n",
    "    for i in 2:length(factors)\n",
    "        if covs[i] == false\n",
    "            str = str .*\" x \".*string.(df[:,Symbol(factors[i])])\n",
    "            val = val .* 1.0 \n",
    "        else\n",
    "            str = str .*\" x \".*fill(factors[i],n) \n",
    "            val = val .* df[:,Symbol(factors[i])]    \n",
    "        end \n",
    "    end\n",
    "    dict,colNames   = modelTerm.randomType != \"A\" ? mkDict(str) : mkDict(mme.ped)\n",
    "    str = modelTerm.randomType != \"A\" ? str : string.(df[:,Symbol(factors[1])])        \n",
    "    ii = (modelTerm.iModel-1)*n .+ (1:n)      # row numbers \n",
    "    jj = [dict[i] for i in str]  # column numbers\n",
    "    p = length(colNames)        \n",
    "    X  = sparse(ii,jj,val,n*nModels,p)\n",
    "    return X, strip(modelTerm.trmString)*\": \".*colNames   \n",
    "end\n",
    "\n",
    "function setRandom!(mme::MME,trmStrings::String,V,ped=false;\n",
    "                estimate::Bool=false,\n",
    "                νPrior::Float64=4.1,\n",
    "                outSamples::Bool=false,\n",
    "                outFreq::Int64=100\n",
    "            )\n",
    "    m = size(V,1)        \n",
    "    if outSamples==true\n",
    "        fileName = \"V($trmStrings).samples\"\n",
    "        outStream = open(fileName,\"w\")\n",
    "        for i=1:m,j=i:m\n",
    "            if i==j==1\n",
    "                @printf(outStream,\"%6s\", \"V[$i,$j]\")\n",
    "            else\n",
    "                @printf(outStream,\" %6s\", \"V[$i,$j]\")    \n",
    "            end        \n",
    "        end\n",
    "        @printf(outStream,\"\\n\")        \n",
    "    else\n",
    "        outStream = nothing\n",
    "    end        \n",
    "    var = m==1 ? fill(V,1,1) : V        \n",
    "    trmVec = strip.(split(trmStrings,[',';' '],keepempty=false))\n",
    "    modelTerms = []\n",
    "    [begin\n",
    "        trmString = split(modelTerm.trmString,':')[2]\n",
    "        if trmString in trmVec\n",
    "            push!(modelTerms,modelTerm)\n",
    "        end\n",
    "     end\n",
    "     for modelTerm in mme.modelTermVec\n",
    "    ] \n",
    "    if length(modelTerms) != size(var,1)\n",
    "        println(\"size of var: $(size(var,1)) does not match the number of random effects: $(length(modelTerms))\")\n",
    "        return\n",
    "    end \n",
    "                \n",
    "    if ped==false\n",
    "        [trm.randomType = \"I\" for trm in modelTerms]\n",
    "        Ai = I\n",
    "    else\n",
    "        [trm.randomType = \"A\" for trm in modelTerms] \n",
    "        mme.ped = pedigree\n",
    "        Ai = JWAS.PedModule.AInverse(pedigree)    \n",
    "    end\n",
    "    Spr = (νPrior - m - 1)*var    \n",
    "    randomEffect = RandomEffect(modelTerms,νPrior,Spr,inv(var),zero(var),Ai,\n",
    "                        estimate,outSamples,outFreq,outStream)\n",
    "    push!(mme.randomEffectsVec,randomEffect)   \n",
    "end\n",
    "\n",
    "function addGiMats!(mme::MME)\n",
    "    for randomEffect in mme.randomEffectsVec\n",
    "        for (i,modelTermi) in enumerate(randomEffect.modelTermVec), (j,modelTermj) in enumerate(randomEffect.modelTermVec)\n",
    "            starti = modelTermi.startPos\n",
    "            startj = modelTermj.startPos\n",
    "            endi = modelTermi.endPos\n",
    "            endj = modelTermj.endPos\n",
    "            mme.mmeLhs[starti:endi,startj:endj] = mme.mmeLhs[starti:endi,startj:endj] + randomEffect.Ai*randomEffect.Vi[i,j]\n",
    "        end\n",
    "    end\n",
    "end"
   ]
  },
  {
   "cell_type": "code",
   "execution_count": 3,
   "metadata": {},
   "outputs": [
    {
     "data": {
      "text/plain": [
       "updateLhs! (generic function with 1 method)"
      ]
     },
     "execution_count": 3,
     "metadata": {},
     "output_type": "execute_result"
    }
   ],
   "source": [
    "#EXECUTE\n",
    "function getLhsRhs!(mme,df)\n",
    "    n = size(df,1)\n",
    "    X,colNames = getX(mme,mme.modelTermVec[1],mme.covVec,df)\n",
    "    mme.modelTermVec[1].startPos = 1\n",
    "    mme.modelTermVec[1].endPos  = mme.modelTermVec[1].startPos + size(X,2) - 1\n",
    "    for i = 2:size(mme.modelTermVec,1)\n",
    "        Xi,namesi = getX(mme,mme.modelTermVec[i],mme.covVec,df)\n",
    "        X = [X Xi]\n",
    "        mme.modelTermVec[i].startPos = mme.modelTermVec[i-1].endPos + 1\n",
    "        mme.modelTermVec[i].endPos   = mme.modelTermVec[i].startPos + size(Xi,2) - 1\n",
    "        colNames = [colNames; namesi]\n",
    "    end\n",
    "    y = Array{Float64,1}()\n",
    "    for v in mme.depVarVec\n",
    "        y = [y;df[:,Symbol(v)]]\n",
    "    end\n",
    "    Ri = kron(inv(mme.varRes),sparse(I, n, n))\n",
    "    mme.X = X\n",
    "    mme.mmeLhs = X'Ri*X\n",
    "    mme.mmeRhs = X'Ri*y\n",
    "    mme.mmeSpl = zero(mme.mmeRhs)\n",
    "    mme.y      = y\n",
    "    addGiMats!(mme)\n",
    "    return mme.mmeLhs,mme.mmeRhs,colNames\n",
    "end\n",
    "function updateLhs!(mme)\n",
    "    m = size(mme.varRes,1)\n",
    "    n = Int(size(mme.y,1)/m)\n",
    "    Ri = kron(inv(mme.varRes),sparse(I, n, n))\n",
    "    mme.mmeLhs = mme.X'Ri*mme.X\n",
    "    mme.mmeRhs = mme.X'Ri*mme.y\n",
    "    addGiMats!(mme)\n",
    "end"
   ]
  },
  {
   "cell_type": "code",
   "execution_count": 8,
   "metadata": {},
   "outputs": [
    {
     "data": {
      "text/html": [
       "<table class=\"data-frame\"><thead><tr><th></th><th>animal</th><th>sex</th><th>breed</th><th>age</th><th>y</th></tr><tr><th></th><th>String</th><th>String</th><th>String</th><th>Int64</th><th>Float64</th></tr></thead><tbody><p>6 rows × 5 columns</p><tr><th>1</th><td>animal1</td><td>m</td><td>Angus</td><td>40</td><td>-0.859</td></tr><tr><th>2</th><td>animal2</td><td>f</td><td>Angus</td><td>36</td><td>0.631</td></tr><tr><th>3</th><td>animal3</td><td>f</td><td>Hereford</td><td>38</td><td>1.775</td></tr><tr><th>4</th><td>animal4</td><td>m</td><td>Hereford</td><td>42</td><td>-0.17</td></tr><tr><th>5</th><td>animal5</td><td>f</td><td>Angus</td><td>40</td><td>-0.561</td></tr><tr><th>6</th><td>animal6</td><td>f</td><td>Angus</td><td>36</td><td>0.214</td></tr></tbody></table>"
      ],
      "text/latex": [
       "\\begin{tabular}{r|ccccc}\n",
       "\t& animal & sex & breed & age & y\\\\\n",
       "\t\\hline\n",
       "\t& String & String & String & Int64 & Float64\\\\\n",
       "\t\\hline\n",
       "\t1 & animal1 & m & Angus & 40 & -0.859 \\\\\n",
       "\t2 & animal2 & f & Angus & 36 & 0.631 \\\\\n",
       "\t3 & animal3 & f & Hereford & 38 & 1.775 \\\\\n",
       "\t4 & animal4 & m & Hereford & 42 & -0.17 \\\\\n",
       "\t5 & animal5 & f & Angus & 40 & -0.561 \\\\\n",
       "\t6 & animal6 & f & Angus & 36 & 0.214 \\\\\n",
       "\\end{tabular}\n"
      ],
      "text/plain": [
       "6×5 DataFrame\n",
       "│ Row │ animal  │ sex    │ breed    │ age   │ y       │\n",
       "│     │ \u001b[90mString\u001b[39m  │ \u001b[90mString\u001b[39m │ \u001b[90mString\u001b[39m   │ \u001b[90mInt64\u001b[39m │ \u001b[90mFloat64\u001b[39m │\n",
       "├─────┼─────────┼────────┼──────────┼───────┼─────────┤\n",
       "│ 1   │ animal1 │ m      │ Angus    │ 40    │ -0.859  │\n",
       "│ 2   │ animal2 │ f      │ Angus    │ 36    │ 0.631   │\n",
       "│ 3   │ animal3 │ f      │ Hereford │ 38    │ 1.775   │\n",
       "│ 4   │ animal4 │ m      │ Hereford │ 42    │ -0.17   │\n",
       "│ 5   │ animal5 │ f      │ Angus    │ 40    │ -0.561  │\n",
       "│ 6   │ animal6 │ f      │ Angus    │ 36    │ 0.214   │"
      ]
     },
     "execution_count": 8,
     "metadata": {},
     "output_type": "execute_result"
    }
   ],
   "source": [
    "Random.seed!(31415)\n",
    "animal= [\"animal1\",\"animal2\",\"animal3\",\"animal4\",\"animal5\",\"animal6\"]\n",
    "sex   = [\"m\",\"f\",\"f\",\"m\",\"f\",\"f\"]\n",
    "breed = [\"Angus\",\"Angus\",\"Hereford\",\"Hereford\",\"Angus\",\"Angus\"]\n",
    "age   = [40,36,38,42,40,36]\n",
    "df    = DataFrame(animal=animal,sex=sex,breed=breed,age=age,y=round.(randn(6),digits=3))"
   ]
  },
  {
   "cell_type": "code",
   "execution_count": 15,
   "metadata": {},
   "outputs": [
    {
     "data": {
      "text/plain": [
       "6×8 Array{Any,2}:\n",
       " \"1:intercept\"          6.0   2.0    4.0    4.0   2.0   232.0   1.03 \n",
       " \"1:sex: m\"             2.0   2.0    0.0    1.0   1.0    82.0  -1.029\n",
       " \"1:sex: f\"             4.0   0.0    4.0    3.0   1.0   150.0   2.059\n",
       " \"1:breed: Angus\"       4.0   1.0    3.0    4.0   0.0   152.0  -0.575\n",
       " \"1:breed: Hereford\"    2.0   1.0    1.0    0.0   2.0    80.0   1.605\n",
       " \"1:age: age\"         232.0  82.0  150.0  152.0  80.0  9000.0  33.93 "
      ]
     },
     "execution_count": 15,
     "metadata": {},
     "output_type": "execute_result"
    }
   ],
   "source": [
    "mme = initMME(\"y = intercept + sex + breed + age\",varRes)\n",
    "mme.covVec = [\"age\"];\n",
    "lhs,rhs,names = getLhsRhs!(mme,df)\n",
    "[names Matrix(lhs) rhs]"
   ]
  },
  {
   "cell_type": "code",
   "execution_count": 10,
   "metadata": {},
   "outputs": [
    {
     "data": {
      "text/plain": [
       "4-element Array{ModelTerm,1}:\n",
       " ModelTerm(\"1:intercept\", 1, 1, 1, \"fixed\")\n",
       " ModelTerm(\"1:sex\", 1, 2, 3, \"fixed\")      \n",
       " ModelTerm(\"1:breed\", 1, 4, 5, \"fixed\")    \n",
       " ModelTerm(\"1:age\", 1, 6, 6, \"fixed\")      "
      ]
     },
     "execution_count": 10,
     "metadata": {},
     "output_type": "execute_result"
    }
   ],
   "source": [
    "mme.modelTermVec"
   ]
  },
  {
   "cell_type": "code",
   "execution_count": 11,
   "metadata": {},
   "outputs": [
    {
     "name": "stdout",
     "output_type": "stream",
     "text": [
      "\u001b[32mThe delimiter in pedFile is ','.\u001b[39m\n"
     ]
    },
    {
     "name": "stderr",
     "output_type": "stream",
     "text": [
      "\u001b[32mcoding pedigree... 100%|████████████████████████████████| Time: 0:00:00\u001b[39m\n"
     ]
    },
    {
     "name": "stdout",
     "output_type": "stream",
     "text": [
      "Finished!\n"
     ]
    }
   ],
   "source": [
    "pedigree   = get_pedigree(\"pedFile\",separator=\",\",header=false);"
   ]
  },
  {
   "cell_type": "code",
   "execution_count": 55,
   "metadata": {},
   "outputs": [
    {
     "data": {
      "text/html": [
       "<table class=\"data-frame\"><thead><tr><th></th><th>Ind</th><th>Mat</th><th>y1</th><th>y2</th><th>x</th></tr><tr><th></th><th>Int64</th><th>Int64</th><th>Float64</th><th>Float64</th><th>Float64</th></tr></thead><tbody><p>3 rows × 5 columns</p><tr><th>1</th><td>3</td><td>2</td><td>8.9</td><td>9.2</td><td>11.9</td></tr><tr><th>2</th><td>4</td><td>2</td><td>9.7</td><td>5.7</td><td>10.8</td></tr><tr><th>3</th><td>5</td><td>4</td><td>8.8</td><td>8.5</td><td>11.7</td></tr></tbody></table>"
      ],
      "text/latex": [
       "\\begin{tabular}{r|ccccc}\n",
       "\t& Ind & Mat & y1 & y2 & x\\\\\n",
       "\t\\hline\n",
       "\t& Int64 & Int64 & Float64 & Float64 & Float64\\\\\n",
       "\t\\hline\n",
       "\t1 & 3 & 2 & 8.9 & 9.2 & 11.9 \\\\\n",
       "\t2 & 4 & 2 & 9.7 & 5.7 & 10.8 \\\\\n",
       "\t3 & 5 & 4 & 8.8 & 8.5 & 11.7 \\\\\n",
       "\\end{tabular}\n"
      ],
      "text/plain": [
       "3×5 DataFrame\n",
       "│ Row │ Ind   │ Mat   │ y1      │ y2      │ x       │\n",
       "│     │ \u001b[90mInt64\u001b[39m │ \u001b[90mInt64\u001b[39m │ \u001b[90mFloat64\u001b[39m │ \u001b[90mFloat64\u001b[39m │ \u001b[90mFloat64\u001b[39m │\n",
       "├─────┼───────┼───────┼─────────┼─────────┼─────────┤\n",
       "│ 1   │ 3     │ 2     │ 8.9     │ 9.2     │ 11.9    │\n",
       "│ 2   │ 4     │ 2     │ 9.7     │ 5.7     │ 10.8    │\n",
       "│ 3   │ 5     │ 4     │ 8.8     │ 8.5     │ 11.7    │"
      ]
     },
     "execution_count": 55,
     "metadata": {},
     "output_type": "execute_result"
    }
   ],
   "source": [
    "data = CSV.read(\"data.phen\")"
   ]
  },
  {
   "cell_type": "code",
   "execution_count": 31,
   "metadata": {},
   "outputs": [],
   "source": [
    "varRes = 1.0\n",
    "mme = initMME(\"y1 = intercept + Ind\",varRes);\n",
    "setRandom!(mme,\"Ind\",1.0,pedigree);\n",
    "#setRandom!(mme,\"Ind\",1.0);"
   ]
  },
  {
   "cell_type": "code",
   "execution_count": 34,
   "metadata": {},
   "outputs": [
    {
     "data": {
      "text/plain": [
       "6×8 Array{Any,2}:\n",
       " \"1:intercept\"  3.0   0.0   0.0   1.0   1.0   1.0  27.4\n",
       " \"1:Ind: 1\"     0.0   2.0   1.0  -1.0  -1.0   0.0   0.0\n",
       " \"1:Ind: 2\"     0.0   1.0   2.0  -1.0  -1.0   0.0   0.0\n",
       " \"1:Ind: 4\"     1.0  -1.0  -1.0   3.5   0.5  -1.0   9.7\n",
       " \"1:Ind: 3\"     1.0  -1.0  -1.0   0.5   3.5  -1.0   8.9\n",
       " \"1:Ind: 5\"     1.0   0.0   0.0  -1.0  -1.0   3.0   8.8"
      ]
     },
     "execution_count": 34,
     "metadata": {},
     "output_type": "execute_result"
    }
   ],
   "source": [
    "lhs,rhs,names = getLhsRhs!(mme,data)\n",
    "[names Matrix(lhs) rhs]"
   ]
  },
  {
   "cell_type": "code",
   "execution_count": 22,
   "metadata": {},
   "outputs": [
    {
     "data": {
      "text/plain": [
       "5×5 Array{Float64,2}:\n",
       "  2.0   1.0  -1.0  -1.0   0.0\n",
       "  1.0   2.0  -1.0  -1.0   0.0\n",
       " -1.0  -1.0   2.5   0.5  -1.0\n",
       " -1.0  -1.0   0.5   2.5  -1.0\n",
       "  0.0   0.0  -1.0  -1.0   2.0"
      ]
     },
     "execution_count": 22,
     "metadata": {},
     "output_type": "execute_result"
    }
   ],
   "source": [
    "Matrix(mme.randomEffectsVec[1].Ai)"
   ]
  },
  {
   "cell_type": "code",
   "execution_count": 23,
   "metadata": {},
   "outputs": [
    {
     "data": {
      "text/plain": [
       "(6, 6)"
      ]
     },
     "execution_count": 23,
     "metadata": {},
     "output_type": "execute_result"
    }
   ],
   "source": [
    "size(mme.mmeLhs)"
   ]
  },
  {
   "cell_type": "code",
   "execution_count": 18,
   "metadata": {},
   "outputs": [
    {
     "data": {
      "text/plain": [
       "6×6 Array{Float64,2}:\n",
       " 3.0  0.0  0.0  1.0  1.0  1.0\n",
       " 0.0  0.0  0.0  0.0  0.0  0.0\n",
       " 0.0  0.0  0.0  0.0  0.0  0.0\n",
       " 1.0  0.0  0.0  1.0  0.0  0.0\n",
       " 1.0  0.0  0.0  0.0  1.0  0.0\n",
       " 1.0  0.0  0.0  0.0  0.0  1.0"
      ]
     },
     "execution_count": 18,
     "metadata": {},
     "output_type": "execute_result"
    }
   ],
   "source": [
    "Matrix(mme.X'mme.X)"
   ]
  },
  {
   "cell_type": "code",
   "execution_count": 19,
   "metadata": {},
   "outputs": [
    {
     "data": {
      "text/plain": [
       "2-element Array{ModelTerm,1}:\n",
       " ModelTerm(\"intercept\", 1, 1, \"fixed\")\n",
       " ModelTerm(\"Ind\", 2, 6, \"A\")          "
      ]
     },
     "execution_count": 19,
     "metadata": {},
     "output_type": "execute_result"
    }
   ],
   "source": [
    "mme.modelTermVec"
   ]
  },
  {
   "cell_type": "code",
   "execution_count": 20,
   "metadata": {},
   "outputs": [],
   "source": [
    "varRes = 1.0\n",
    "mme = initMME(\"y1 = intercept + Ind + Mat\",varRes);\n",
    "setRandom!(mme,\"Ind\",1.0,pedigree)\n",
    "setRandom!(mme,\"Mat\",1.0,pedigree);"
   ]
  },
  {
   "cell_type": "code",
   "execution_count": 21,
   "metadata": {},
   "outputs": [
    {
     "data": {
      "text/plain": [
       "11×12 Array{Any,2}:\n",
       " \"intercept\"  3.0   0.0   0.0   1.0   1.0   1.0   0.0   2.0   1.0   0.0   0.0\n",
       " \"Ind: 1\"     0.0   2.0   1.0  -1.0  -1.0   0.0   0.0   0.0   0.0   0.0   0.0\n",
       " \"Ind: 2\"     0.0   1.0   2.0  -1.0  -1.0   0.0   0.0   0.0   0.0   0.0   0.0\n",
       " \"Ind: 4\"     1.0  -1.0  -1.0   3.5   0.5  -1.0   0.0   1.0   0.0   0.0   0.0\n",
       " \"Ind: 3\"     1.0  -1.0  -1.0   0.5   3.5  -1.0   0.0   1.0   0.0   0.0   0.0\n",
       " \"Ind: 5\"     1.0   0.0   0.0  -1.0  -1.0   3.0   0.0   0.0   1.0   0.0   0.0\n",
       " \"Mat: 1\"     0.0   0.0   0.0   0.0   0.0   0.0   2.0   1.0  -1.0  -1.0   0.0\n",
       " \"Mat: 2\"     2.0   0.0   0.0   1.0   1.0   0.0   1.0   4.0  -1.0  -1.0   0.0\n",
       " \"Mat: 4\"     1.0   0.0   0.0   0.0   0.0   1.0  -1.0  -1.0   3.5   0.5  -1.0\n",
       " \"Mat: 3\"     0.0   0.0   0.0   0.0   0.0   0.0  -1.0  -1.0   0.5   2.5  -1.0\n",
       " \"Mat: 5\"     0.0   0.0   0.0   0.0   0.0   0.0   0.0   0.0  -1.0  -1.0   2.0"
      ]
     },
     "execution_count": 21,
     "metadata": {},
     "output_type": "execute_result"
    }
   ],
   "source": [
    "lhs,rhs,names = getLhsRhs!(mme,data)\n",
    "[names Matrix(lhs)]"
   ]
  },
  {
   "cell_type": "code",
   "execution_count": 22,
   "metadata": {},
   "outputs": [
    {
     "data": {
      "text/plain": [
       "11×11 Array{Float64,2}:\n",
       " 3.0  0.0  0.0  1.0  1.0  1.0  0.0  2.0  1.0  0.0  0.0\n",
       " 0.0  0.0  0.0  0.0  0.0  0.0  0.0  0.0  0.0  0.0  0.0\n",
       " 0.0  0.0  0.0  0.0  0.0  0.0  0.0  0.0  0.0  0.0  0.0\n",
       " 1.0  0.0  0.0  1.0  0.0  0.0  0.0  1.0  0.0  0.0  0.0\n",
       " 1.0  0.0  0.0  0.0  1.0  0.0  0.0  1.0  0.0  0.0  0.0\n",
       " 1.0  0.0  0.0  0.0  0.0  1.0  0.0  0.0  1.0  0.0  0.0\n",
       " 0.0  0.0  0.0  0.0  0.0  0.0  0.0  0.0  0.0  0.0  0.0\n",
       " 2.0  0.0  0.0  1.0  1.0  0.0  0.0  2.0  0.0  0.0  0.0\n",
       " 1.0  0.0  0.0  0.0  0.0  1.0  0.0  0.0  1.0  0.0  0.0\n",
       " 0.0  0.0  0.0  0.0  0.0  0.0  0.0  0.0  0.0  0.0  0.0\n",
       " 0.0  0.0  0.0  0.0  0.0  0.0  0.0  0.0  0.0  0.0  0.0"
      ]
     },
     "execution_count": 22,
     "metadata": {},
     "output_type": "execute_result"
    }
   ],
   "source": [
    "Matrix(mme.X'mme.X)"
   ]
  },
  {
   "cell_type": "code",
   "execution_count": 37,
   "metadata": {},
   "outputs": [
    {
     "data": {
      "text/plain": [
       "2×2 Array{Float64,2}:\n",
       " 1.0  0.5\n",
       " 0.5  2.0"
      ]
     },
     "execution_count": 37,
     "metadata": {},
     "output_type": "execute_result"
    }
   ],
   "source": [
    "V = [1   0.5\n",
    "     0.5 2.0]"
   ]
  },
  {
   "cell_type": "code",
   "execution_count": 35,
   "metadata": {},
   "outputs": [
    {
     "name": "stdout",
     "output_type": "stream",
     "text": [
      "size of var: 1 does not match the number of random effects: 2\n"
     ]
    }
   ],
   "source": [
    "varRes = 1.0\n",
    "mme = initMME(\"y1 = intercept + Ind + Mat\",varRes);\n",
    "setRandom!(mme,\"Ind, Mat\",1.0,pedigree);"
   ]
  },
  {
   "cell_type": "code",
   "execution_count": 38,
   "metadata": {},
   "outputs": [],
   "source": [
    "varRes = 1.0\n",
    "mme = initMME(\"y1 = intercept + Ind + Mat\",varRes);\n",
    "setRandom!(mme,\"Ind, Mat\",V,pedigree);"
   ]
  },
  {
   "cell_type": "code",
   "execution_count": 39,
   "metadata": {},
   "outputs": [
    {
     "data": {
      "text/plain": [
       "11×11 Array{Float64,2}:\n",
       " 3.0   0.0        0.0        1.0       …   1.0        0.0        0.0     \n",
       " 0.0   2.28571    1.14286   -1.14286       0.285714   0.285714   0.0     \n",
       " 0.0   1.14286    2.28571   -1.14286       0.285714   0.285714   0.0     \n",
       " 1.0  -1.14286   -1.14286    3.85714      -0.714286  -0.142857   0.285714\n",
       " 1.0  -1.14286   -1.14286    0.571429     -0.142857  -0.714286   0.285714\n",
       " 1.0   0.0        0.0       -1.14286   …   1.28571    0.285714  -0.571429\n",
       " 0.0  -0.571429  -0.285714   0.285714     -0.571429  -0.571429   0.0     \n",
       " 2.0  -0.285714  -0.571429   1.28571      -0.571429  -0.571429   0.0     \n",
       " 1.0   0.285714   0.285714  -0.714286      2.42857    0.285714  -0.571429\n",
       " 0.0   0.285714   0.285714  -0.142857      0.285714   1.42857   -0.571429\n",
       " 0.0   0.0        0.0        0.285714  …  -0.571429  -0.571429   1.14286 "
      ]
     },
     "execution_count": 39,
     "metadata": {},
     "output_type": "execute_result"
    }
   ],
   "source": [
    "lhs,rhs,names = getLhsRhs!(mme,data)\n",
    "Matrix(lhs)"
   ]
  },
  {
   "cell_type": "code",
   "execution_count": 41,
   "metadata": {},
   "outputs": [],
   "source": [
    "varRes = 1.0\n",
    "mme = initMME(\"y1 = intercept + Ind + Ind*x\",varRes);\n",
    "mme.covVec = [\"x\"]\n",
    "setRandom!(mme,\"Ind\",1.0,pedigree);"
   ]
  },
  {
   "cell_type": "code",
   "execution_count": 42,
   "metadata": {},
   "outputs": [
    {
     "data": {
      "text/plain": [
       "1"
      ]
     },
     "execution_count": 42,
     "metadata": {},
     "output_type": "execute_result"
    }
   ],
   "source": [
    "size(mme.randomEffectsVec,1)"
   ]
  },
  {
   "cell_type": "code",
   "execution_count": 43,
   "metadata": {},
   "outputs": [],
   "source": [
    "setRandom!(mme,\"Ind*x\",1.0,pedigree);"
   ]
  },
  {
   "cell_type": "code",
   "execution_count": 44,
   "metadata": {},
   "outputs": [
    {
     "data": {
      "text/plain": [
       "2"
      ]
     },
     "execution_count": 44,
     "metadata": {},
     "output_type": "execute_result"
    }
   ],
   "source": [
    "size(mme.randomEffectsVec,1)"
   ]
  },
  {
   "cell_type": "code",
   "execution_count": 45,
   "metadata": {},
   "outputs": [
    {
     "data": {
      "text/plain": [
       "11×12 Array{Any,2}:\n",
       " \"1:intercept\"   3.0   0.0   0.0   1.0  …   0.0   0.0   10.8    11.9    11.7 \n",
       " \"1:Ind: 1\"      0.0   2.0   1.0  -1.0      0.0   0.0    0.0     0.0     0.0 \n",
       " \"1:Ind: 2\"      0.0   1.0   2.0  -1.0      0.0   0.0    0.0     0.0     0.0 \n",
       " \"1:Ind: 4\"      1.0  -1.0  -1.0   3.5      0.0   0.0   10.8     0.0     0.0 \n",
       " \"1:Ind: 3\"      1.0  -1.0  -1.0   0.5      0.0   0.0    0.0    11.9     0.0 \n",
       " \"1:Ind: 5\"      1.0   0.0   0.0  -1.0  …   0.0   0.0    0.0     0.0    11.7 \n",
       " \"1:Ind*x: 1\"    0.0   0.0   0.0   0.0      2.0   1.0   -1.0    -1.0     0.0 \n",
       " \"1:Ind*x: 2\"    0.0   0.0   0.0   0.0      1.0   2.0   -1.0    -1.0     0.0 \n",
       " \"1:Ind*x: 4\"   10.8   0.0   0.0  10.8     -1.0  -1.0  119.14    0.5    -1.0 \n",
       " \"1:Ind*x: 3\"   11.9   0.0   0.0   0.0     -1.0  -1.0    0.5   144.11   -1.0 \n",
       " \"1:Ind*x: 5\"   11.7   0.0   0.0   0.0  …   0.0   0.0   -1.0    -1.0   138.89"
      ]
     },
     "execution_count": 45,
     "metadata": {},
     "output_type": "execute_result"
    }
   ],
   "source": [
    "lhs,rhs,names = getLhsRhs!(mme,data)\n",
    "[names Matrix(lhs)]"
   ]
  },
  {
   "cell_type": "code",
   "execution_count": 32,
   "metadata": {},
   "outputs": [
    {
     "data": {
      "text/plain": [
       "11×11 Array{Float64,2}:\n",
       "  3.0  0.0  0.0   1.0   1.0   1.0  0.0  0.0   10.8    11.9    11.7 \n",
       "  0.0  0.0  0.0   0.0   0.0   0.0  0.0  0.0    0.0     0.0     0.0 \n",
       "  0.0  0.0  0.0   0.0   0.0   0.0  0.0  0.0    0.0     0.0     0.0 \n",
       "  1.0  0.0  0.0   1.0   0.0   0.0  0.0  0.0   10.8     0.0     0.0 \n",
       "  1.0  0.0  0.0   0.0   1.0   0.0  0.0  0.0    0.0    11.9     0.0 \n",
       "  1.0  0.0  0.0   0.0   0.0   1.0  0.0  0.0    0.0     0.0    11.7 \n",
       "  0.0  0.0  0.0   0.0   0.0   0.0  0.0  0.0    0.0     0.0     0.0 \n",
       "  0.0  0.0  0.0   0.0   0.0   0.0  0.0  0.0    0.0     0.0     0.0 \n",
       " 10.8  0.0  0.0  10.8   0.0   0.0  0.0  0.0  116.64    0.0     0.0 \n",
       " 11.9  0.0  0.0   0.0  11.9   0.0  0.0  0.0    0.0   141.61    0.0 \n",
       " 11.7  0.0  0.0   0.0   0.0  11.7  0.0  0.0    0.0     0.0   136.89"
      ]
     },
     "execution_count": 32,
     "metadata": {},
     "output_type": "execute_result"
    }
   ],
   "source": [
    "Matrix(mme.X'mme.X)"
   ]
  },
  {
   "cell_type": "code",
   "execution_count": 46,
   "metadata": {},
   "outputs": [],
   "source": [
    "varRes = 1.0\n",
    "mme = initMME(\"y1 = intercept + Ind + Ind*x\",varRes);\n",
    "mme.covVec = [\"x\"]\n",
    "setRandom!(mme,\"Ind, Ind*x\",V,pedigree);"
   ]
  },
  {
   "cell_type": "code",
   "execution_count": 47,
   "metadata": {},
   "outputs": [
    {
     "data": {
      "text/plain": [
       "1"
      ]
     },
     "execution_count": 47,
     "metadata": {},
     "output_type": "execute_result"
    }
   ],
   "source": [
    "size(mme.randomEffectsVec,1)"
   ]
  },
  {
   "cell_type": "code",
   "execution_count": 48,
   "metadata": {},
   "outputs": [
    {
     "data": {
      "text/plain": [
       "11×13 Array{Any,2}:\n",
       " \"1:intercept\"   3.0   0.0        0.0       …   11.9        11.7        27.4 \n",
       " \"1:Ind: 1\"      0.0   2.28571    1.14286        0.285714    0.0         0.0 \n",
       " \"1:Ind: 2\"      0.0   1.14286    2.28571        0.285714    0.0         0.0 \n",
       " \"1:Ind: 4\"      1.0  -1.14286   -1.14286       -0.142857    0.285714    9.7 \n",
       " \"1:Ind: 3\"      1.0  -1.14286   -1.14286       11.1857      0.285714    8.9 \n",
       " \"1:Ind: 5\"      1.0   0.0        0.0       …    0.285714   11.1286      8.8 \n",
       " \"1:Ind*x: 1\"    0.0  -0.571429  -0.285714      -0.571429    0.0         0.0 \n",
       " \"1:Ind*x: 2\"    0.0  -0.285714  -0.571429      -0.571429    0.0         0.0 \n",
       " \"1:Ind*x: 4\"   10.8   0.285714   0.285714       0.285714   -0.571429  104.76\n",
       " \"1:Ind*x: 3\"   11.9   0.285714   0.285714     143.039      -0.571429  105.91\n",
       " \"1:Ind*x: 5\"   11.7   0.0        0.0       …   -0.571429  138.033     102.96"
      ]
     },
     "execution_count": 48,
     "metadata": {},
     "output_type": "execute_result"
    }
   ],
   "source": [
    "lhs,rhs,names = getLhsRhs!(mme,data)\n",
    "[names Matrix(lhs) rhs]"
   ]
  },
  {
   "cell_type": "code",
   "execution_count": 49,
   "metadata": {},
   "outputs": [
    {
     "data": {
      "text/plain": [
       "3×11 Array{Float64,2}:\n",
       " 1.0  0.0  0.0  0.0  1.0  0.0  0.0  0.0   0.0  11.9   0.0\n",
       " 1.0  0.0  0.0  1.0  0.0  0.0  0.0  0.0  10.8   0.0   0.0\n",
       " 1.0  0.0  0.0  0.0  0.0  1.0  0.0  0.0   0.0   0.0  11.7"
      ]
     },
     "execution_count": 49,
     "metadata": {},
     "output_type": "execute_result"
    }
   ],
   "source": [
    "Matrix(mme.X)"
   ]
  },
  {
   "cell_type": "code",
   "execution_count": 50,
   "metadata": {},
   "outputs": [
    {
     "data": {
      "text/plain": [
       "11×11 Array{Float64,2}:\n",
       "  3.0  0.0  0.0   1.0   1.0   1.0  0.0  0.0   10.8    11.9    11.7 \n",
       "  0.0  0.0  0.0   0.0   0.0   0.0  0.0  0.0    0.0     0.0     0.0 \n",
       "  0.0  0.0  0.0   0.0   0.0   0.0  0.0  0.0    0.0     0.0     0.0 \n",
       "  1.0  0.0  0.0   1.0   0.0   0.0  0.0  0.0   10.8     0.0     0.0 \n",
       "  1.0  0.0  0.0   0.0   1.0   0.0  0.0  0.0    0.0    11.9     0.0 \n",
       "  1.0  0.0  0.0   0.0   0.0   1.0  0.0  0.0    0.0     0.0    11.7 \n",
       "  0.0  0.0  0.0   0.0   0.0   0.0  0.0  0.0    0.0     0.0     0.0 \n",
       "  0.0  0.0  0.0   0.0   0.0   0.0  0.0  0.0    0.0     0.0     0.0 \n",
       " 10.8  0.0  0.0  10.8   0.0   0.0  0.0  0.0  116.64    0.0     0.0 \n",
       " 11.9  0.0  0.0   0.0  11.9   0.0  0.0  0.0    0.0   141.61    0.0 \n",
       " 11.7  0.0  0.0   0.0   0.0  11.7  0.0  0.0    0.0     0.0   136.89"
      ]
     },
     "execution_count": 50,
     "metadata": {},
     "output_type": "execute_result"
    }
   ],
   "source": [
    "Matrix(mme.X'mme.X)"
   ]
  },
  {
   "cell_type": "code",
   "execution_count": 51,
   "metadata": {},
   "outputs": [],
   "source": [
    "varRes = 1.0\n",
    "mme = initMME(\"y1 = intercept + Ind + Ind*x\",varRes);\n",
    "mme.covVec = [\"x\"]\n",
    "setRandom!(mme,\"Ind\",1.0,pedigree)\n",
    "setRandom!(mme,\"Ind*x\",1.0);"
   ]
  },
  {
   "cell_type": "code",
   "execution_count": 52,
   "metadata": {},
   "outputs": [
    {
     "data": {
      "text/plain": [
       "9×11 Array{Any,2}:\n",
       " \"1:intercept\"      3.0   0.0   0.0   1.0  …   11.9    10.8    11.7    27.4 \n",
       " \"1:Ind: 1\"         0.0   2.0   1.0  -1.0       0.0     0.0     0.0     0.0 \n",
       " \"1:Ind: 2\"         0.0   1.0   2.0  -1.0       0.0     0.0     0.0     0.0 \n",
       " \"1:Ind: 4\"         1.0  -1.0  -1.0   3.5       0.0    10.8     0.0     9.7 \n",
       " \"1:Ind: 3\"         1.0  -1.0  -1.0   0.5      11.9     0.0     0.0     8.9 \n",
       " \"1:Ind: 5\"         1.0   0.0   0.0  -1.0  …    0.0     0.0    11.7     8.8 \n",
       " \"1:Ind*x: 3 x x\"  11.9   0.0   0.0   0.0     142.61    0.0     0.0   105.91\n",
       " \"1:Ind*x: 4 x x\"  10.8   0.0   0.0  10.8       0.0   117.64    0.0   104.76\n",
       " \"1:Ind*x: 5 x x\"  11.7   0.0   0.0   0.0       0.0     0.0   137.89  102.96"
      ]
     },
     "execution_count": 52,
     "metadata": {},
     "output_type": "execute_result"
    }
   ],
   "source": [
    "lhs,rhs,names = getLhsRhs!(mme,data)\n",
    "[names Matrix(lhs) rhs]"
   ]
  },
  {
   "cell_type": "code",
   "execution_count": 74,
   "metadata": {},
   "outputs": [],
   "source": [
    "varRes =[1   0.5\n",
    "         0.5 2.0]\n",
    "V = [1.0 0.0 0.0\n",
    "     0.0 2.0 0.0\n",
    "     0.0 0.0 3.0]\n",
    "mme = initMME(\"y1 = intercept + Ind + Ind*x;\n",
    "               y2 = intercept + Ind\",varRes);\n",
    "mme.covVec = [\"x\"]\n",
    "#setRandom!(mme,\"Ind Ind*x\",V,pedigree);"
   ]
  },
  {
   "cell_type": "code",
   "execution_count": 75,
   "metadata": {},
   "outputs": [
    {
     "data": {
      "text/plain": [
       "11×12 Array{Any,2}:\n",
       " \"1:intercept\"      3.42857    1.14286   …  -0.285714  -0.285714  -0.285714\n",
       " \"1:Ind: 3\"         1.14286    1.14286      -0.285714   0.0        0.0     \n",
       " \"1:Ind: 4\"         1.14286    0.0           0.0       -0.285714   0.0     \n",
       " \"1:Ind: 5\"         1.14286    0.0           0.0        0.0       -0.285714\n",
       " \"1:Ind*x: 3 x x\"  13.6       13.6          -3.4        0.0        0.0     \n",
       " \"1:Ind*x: 4 x x\"  12.3429     0.0       …   0.0       -3.08571    0.0     \n",
       " \"1:Ind*x: 5 x x\"  13.3714     0.0           0.0        0.0       -3.34286 \n",
       " \"2:intercept\"     -0.857143  -0.285714      0.571429   0.571429   0.571429\n",
       " \"2:Ind: 3\"        -0.285714  -0.285714      0.571429   0.0        0.0     \n",
       " \"2:Ind: 4\"        -0.285714   0.0           0.0        0.571429   0.0     \n",
       " \"2:Ind: 5\"        -0.285714   0.0       …   0.0        0.0        0.571429"
      ]
     },
     "execution_count": 75,
     "metadata": {},
     "output_type": "execute_result"
    }
   ],
   "source": [
    "lhs,rhs,names = getLhsRhs!(mme,data)\n",
    "[names Matrix(lhs)]"
   ]
  },
  {
   "cell_type": "code",
   "execution_count": 72,
   "metadata": {},
   "outputs": [
    {
     "data": {
      "text/plain": [
       "3-element Array{ModelTerm,1}:\n",
       " ModelTerm(\"1:Ind\", 1, 2, 6, \"A\")   \n",
       " ModelTerm(\"1:Ind*x\", 1, 7, 11, \"A\")\n",
       " ModelTerm(\"2:Ind\", 2, 13, 17, \"A\") "
      ]
     },
     "execution_count": 72,
     "metadata": {},
     "output_type": "execute_result"
    }
   ],
   "source": [
    "mme.randomEffectsVec[1].modelTermVec"
   ]
  },
  {
   "cell_type": "code",
   "execution_count": 73,
   "metadata": {},
   "outputs": [
    {
     "data": {
      "text/plain": [
       "3×3 Array{Float64,2}:\n",
       " 1.0  0.0  0.0     \n",
       " 0.0  0.5  0.0     \n",
       " 0.0  0.0  0.333333"
      ]
     },
     "execution_count": 73,
     "metadata": {},
     "output_type": "execute_result"
    }
   ],
   "source": [
    "inv(V)"
   ]
  },
  {
   "cell_type": "code",
   "execution_count": 77,
   "metadata": {},
   "outputs": [
    {
     "data": {
      "text/plain": [
       "17×18 Array{Any,2}:\n",
       " \"1:intercept\"   3.42857    0.0   0.0  …  -0.285714  -0.285714  -0.285714\n",
       " \"1:Ind: 1\"      0.0        2.0   1.0      0.0        0.0        0.0     \n",
       " \"1:Ind: 2\"      0.0        1.0   2.0      0.0        0.0        0.0     \n",
       " \"1:Ind: 4\"      1.14286   -1.0  -1.0     -0.285714   0.0        0.0     \n",
       " \"1:Ind: 3\"      1.14286   -1.0  -1.0      0.0       -0.285714   0.0     \n",
       " \"1:Ind: 5\"      1.14286    0.0   0.0  …   0.0        0.0       -0.285714\n",
       " \"1:Ind*x: 1\"    0.0        0.0   0.0      0.0        0.0        0.0     \n",
       " \"1:Ind*x: 2\"    0.0        0.0   0.0      0.0        0.0        0.0     \n",
       " \"1:Ind*x: 4\"   12.3429     0.0   0.0     -3.08571    0.0        0.0     \n",
       " \"1:Ind*x: 3\"   13.6        0.0   0.0      0.0       -3.4        0.0     \n",
       " \"1:Ind*x: 5\"   13.3714     0.0   0.0  …   0.0        0.0       -3.34286 \n",
       " \"2:intercept\"  -0.857143   0.0   0.0      0.571429   0.571429   0.571429\n",
       " \"2:Ind: 1\"      0.0        0.0   0.0     -0.333333  -0.333333   0.0     \n",
       " \"2:Ind: 2\"      0.0        0.0   0.0     -0.333333  -0.333333   0.0     \n",
       " \"2:Ind: 4\"     -0.285714   0.0   0.0      1.40476    0.166667  -0.333333\n",
       " \"2:Ind: 3\"     -0.285714   0.0   0.0  …   0.166667   1.40476   -0.333333\n",
       " \"2:Ind: 5\"     -0.285714   0.0   0.0     -0.333333  -0.333333   1.2381  "
      ]
     },
     "execution_count": 77,
     "metadata": {},
     "output_type": "execute_result"
    }
   ],
   "source": [
    "varRes =[1   0.5\n",
    "         0.5 2.0]\n",
    "V = [1.0 0.0 0.0\n",
    "     0.0 2.0 0.0\n",
    "     0.0 0.0 3.0]\n",
    "mme = initMME(\"y1 = intercept + Ind + Ind*x;\n",
    "               y2 = intercept + Ind\",varRes);\n",
    "mme.covVec = [\"x\"]\n",
    "setRandom!(mme,\"Ind Ind*x\",V,pedigree);\n",
    "lhs,rhs,names = getLhsRhs!(mme,data)\n",
    "[names Matrix(lhs)]"
   ]
  }
 ],
 "metadata": {
  "kernelspec": {
   "display_name": "Julia 1.1.0",
   "language": "julia",
   "name": "julia-1.1"
  },
  "language_info": {
   "file_extension": ".jl",
   "mimetype": "application/julia",
   "name": "julia",
   "version": "1.1.0"
  }
 },
 "nbformat": 4,
 "nbformat_minor": 2
}
