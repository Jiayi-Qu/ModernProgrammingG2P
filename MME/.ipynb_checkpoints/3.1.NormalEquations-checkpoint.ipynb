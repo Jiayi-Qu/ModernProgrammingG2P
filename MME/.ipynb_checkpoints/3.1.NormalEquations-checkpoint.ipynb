{
 "cells": [
  {
   "cell_type": "markdown",
   "metadata": {
    "slideshow": {
     "slide_type": "slide"
    }
   },
   "source": [
    "# Normal Equations"
   ]
  },
  {
   "cell_type": "markdown",
   "metadata": {
    "slideshow": {
     "slide_type": "slide"
    }
   },
   "source": [
    "## Constructing Normal Equations "
   ]
  },
  {
   "cell_type": "markdown",
   "metadata": {
    "slideshow": {
     "slide_type": "fragment"
    }
   },
   "source": [
    "Consider the fixed linear model\n",
    "\n",
    "$$\n",
    "\\mathbf{y} = \\mathbf{X\\beta} + \\mathbf{e},\n",
    "$$\n",
    "\n",
    "where $\\mathbf{y}$ is a $n\\times1$ vector of observations, $\\mathbf{X}$ is a $n\\times p$ known matrix, $\\mathbf{\\beta}$ is a $p\\times 1$ vector of fixed effects, and $\\mathbf{e}$ is an $n\\times 1$ vector of residuals that are often assumed to be identically and independently distributed with null mean and variance $\\sigma^2_e$. "
   ]
  },
  {
   "cell_type": "markdown",
   "metadata": {
    "slideshow": {
     "slide_type": "subslide"
    }
   },
   "source": [
    "The normal equations for this model are\n",
    "\n",
    "$$\n",
    "(\\mathbf{X}'\\mathbf{X})\\hat{\\mathbf{\\beta}} = \\mathbf{X}'\\mathbf{y},\n",
    "$$\n",
    "\n",
    "where  $\\mathbf{X'X}$ is $p\\times p$ and  $\\mathbf{X'y}$ is $p\\times 1$. In breeding applications, $p$ may be large, but  $\\mathbf{X'X}$ is often very sparse, i.e., has very few non-zero elements. Efficient algorithms take advantage of this sparse structure to reduce computing time and storage requirements."
   ]
  },
  {
   "cell_type": "markdown",
   "metadata": {
    "slideshow": {
     "slide_type": "slide"
    }
   },
   "source": [
    "In this section, we will consider how to compute a **full-stored**  $\\mathbf{X'X}$ matrix and $\\mathbf{X'y}$ vector.\n",
    "\n",
    "* One way to proceed would be to first build $\\mathbf{X}$ and then get $\\mathbf{X'X}$ by matrix multiplication. \n",
    "* Next, we will look more closely at a one-way model and write a simple program for constructing the normal equations for this model."
   ]
  },
  {
   "cell_type": "markdown",
   "metadata": {
    "slideshow": {
     "slide_type": "slide"
    }
   },
   "source": [
    "## Data\n",
    "\n",
    "Consider the following data from a hypothetical one-way experiment with four levels of one factor."
   ]
  },
  {
   "cell_type": "code",
   "execution_count": 2,
   "metadata": {
    "slideshow": {
     "slide_type": "fragment"
    }
   },
   "outputs": [
    {
     "data": {
      "text/html": [
       "<table class=\"data-frame\"><thead><tr><th></th><th>x</th><th>y</th></tr><tr><th></th><th>Int64</th><th>Float64</th></tr></thead><tbody><p>10 rows × 2 columns</p><tr><th>1</th><td>1</td><td>1.1</td></tr><tr><th>2</th><td>1</td><td>1.2</td></tr><tr><th>3</th><td>2</td><td>1.9</td></tr><tr><th>4</th><td>2</td><td>1.2</td></tr><tr><th>5</th><td>2</td><td>2.0</td></tr><tr><th>6</th><td>2</td><td>1.7</td></tr><tr><th>7</th><td>3</td><td>1.0</td></tr><tr><th>8</th><td>3</td><td>1.7</td></tr><tr><th>9</th><td>4</td><td>1.1</td></tr><tr><th>10</th><td>1</td><td>1.7</td></tr></tbody></table>"
      ],
      "text/latex": [
       "\\begin{tabular}{r|cc}\n",
       "\t& x & y\\\\\n",
       "\t\\hline\n",
       "\t& Int64 & Float64\\\\\n",
       "\t\\hline\n",
       "\t1 & 1 & 1.1 \\\\\n",
       "\t2 & 1 & 1.2 \\\\\n",
       "\t3 & 2 & 1.9 \\\\\n",
       "\t4 & 2 & 1.2 \\\\\n",
       "\t5 & 2 & 2.0 \\\\\n",
       "\t6 & 2 & 1.7 \\\\\n",
       "\t7 & 3 & 1.0 \\\\\n",
       "\t8 & 3 & 1.7 \\\\\n",
       "\t9 & 4 & 1.1 \\\\\n",
       "\t10 & 1 & 1.7 \\\\\n",
       "\\end{tabular}\n"
      ],
      "text/plain": [
       "10×2 DataFrame\n",
       "│ Row │ x     │ y       │\n",
       "│     │ \u001b[90mInt64\u001b[39m │ \u001b[90mFloat64\u001b[39m │\n",
       "├─────┼───────┼─────────┤\n",
       "│ 1   │ 1     │ 1.1     │\n",
       "│ 2   │ 1     │ 1.2     │\n",
       "│ 3   │ 2     │ 1.9     │\n",
       "│ 4   │ 2     │ 1.2     │\n",
       "│ 5   │ 2     │ 2.0     │\n",
       "│ 6   │ 2     │ 1.7     │\n",
       "│ 7   │ 3     │ 1.0     │\n",
       "│ 8   │ 3     │ 1.7     │\n",
       "│ 9   │ 4     │ 1.1     │\n",
       "│ 10  │ 1     │ 1.7     │"
      ]
     },
     "execution_count": 2,
     "metadata": {},
     "output_type": "execute_result"
    }
   ],
   "source": [
    "using DataFrames\n",
    "data = DataFrame(x=[1,1,2,2,2,2,3,3,4,1],y=[1.1,1.2,1.9,1.2,2.0,1.7,1.0,1.7,1.1,1.7])"
   ]
  },
  {
   "cell_type": "markdown",
   "metadata": {
    "slideshow": {
     "slide_type": "slide"
    }
   },
   "source": [
    "## One way model"
   ]
  },
  {
   "cell_type": "markdown",
   "metadata": {
    "slideshow": {
     "slide_type": "subslide"
    }
   },
   "source": [
    "The $\\mathbf{X}$ matrix for the one-way model\n",
    "\n",
    "$$\n",
    "y_{ij} = \\mu + \\alpha_i + e_{ij}\n",
    "$$\n",
    "\n",
    "is"
   ]
  },
  {
   "cell_type": "markdown",
   "metadata": {
    "slideshow": {
     "slide_type": "subslide"
    }
   },
   "source": [
    "$$\n",
    "\\mathbf{X} = \n",
    "\\begin{bmatrix}\n",
    "1 & 1 & 0 & 0 & 0 \\\\\n",
    "1 & 1 & 0 & 0 & 0 \\\\\n",
    "1 & 0 & 1 & 0 & 0 \\\\\n",
    "1 & 0 & 1 & 0 & 0 \\\\\n",
    "1 & 0 & 1 & 0 & 0 \\\\\n",
    "1 & 0 & 1 & 0 & 0 \\\\\n",
    "1 & 0 & 0 & 1 & 0 \\\\\n",
    "1 & 0 & 0 & 1 & 0 \\\\\n",
    "1 & 0 & 0 & 0 & 1 \\\\\n",
    "1 & 1 & 0 & 0 & 0 \\\\\n",
    "\\end{bmatrix}\n",
    "$$"
   ]
  },
  {
   "cell_type": "markdown",
   "metadata": {
    "slideshow": {
     "slide_type": "fragment"
    }
   },
   "source": [
    "Note $\\mathbf{X'X}$ is singular, but a solution can be obtained as follows. "
   ]
  },
  {
   "cell_type": "markdown",
   "metadata": {
    "slideshow": {
     "slide_type": "slide"
    }
   },
   "source": [
    "## Computing X'X as the product of full-stored X' and X"
   ]
  },
  {
   "cell_type": "code",
   "execution_count": 3,
   "metadata": {
    "slideshow": {
     "slide_type": "fragment"
    }
   },
   "outputs": [],
   "source": [
    "n = size(data,1)\n",
    "p = length(unique(data[:x]))\n",
    "X = zeros(n,p);"
   ]
  },
  {
   "cell_type": "code",
   "execution_count": 4,
   "metadata": {
    "slideshow": {
     "slide_type": "fragment"
    }
   },
   "outputs": [
    {
     "name": "stdout",
     "output_type": "stream",
     "text": [
      "  0.003962 seconds (36 allocations: 1.984 KiB)\n"
     ]
    }
   ],
   "source": [
    "@time for i = 1:n\n",
    "    j = data[:x][i]\n",
    "    X[i,j] = 1.0\n",
    "end"
   ]
  },
  {
   "cell_type": "code",
   "execution_count": 5,
   "metadata": {
    "slideshow": {
     "slide_type": "subslide"
    }
   },
   "outputs": [
    {
     "data": {
      "text/plain": [
       "10×5 Array{Float64,2}:\n",
       " 1.0  1.0  0.0  0.0  0.0\n",
       " 1.0  1.0  0.0  0.0  0.0\n",
       " 1.0  0.0  1.0  0.0  0.0\n",
       " 1.0  0.0  1.0  0.0  0.0\n",
       " 1.0  0.0  1.0  0.0  0.0\n",
       " 1.0  0.0  1.0  0.0  0.0\n",
       " 1.0  0.0  0.0  1.0  0.0\n",
       " 1.0  0.0  0.0  1.0  0.0\n",
       " 1.0  0.0  0.0  0.0  1.0\n",
       " 1.0  1.0  0.0  0.0  0.0"
      ]
     },
     "execution_count": 5,
     "metadata": {},
     "output_type": "execute_result"
    }
   ],
   "source": [
    "X = [ones(n) X]"
   ]
  },
  {
   "cell_type": "code",
   "execution_count": 6,
   "metadata": {
    "slideshow": {
     "slide_type": "fragment"
    }
   },
   "outputs": [],
   "source": [
    "y = data[:y];"
   ]
  },
  {
   "cell_type": "code",
   "execution_count": 7,
   "metadata": {
    "slideshow": {
     "slide_type": "slide"
    }
   },
   "outputs": [],
   "source": [
    "lhs = X'X\n",
    "rhs = X'y;"
   ]
  },
  {
   "cell_type": "markdown",
   "metadata": {},
   "source": [
    "### Solve normal equations"
   ]
  },
  {
   "cell_type": "code",
   "execution_count": 8,
   "metadata": {
    "slideshow": {
     "slide_type": "fragment"
    }
   },
   "outputs": [
    {
     "data": {
      "text/plain": [
       "5-element Array{Float64,1}:\n",
       " -0.04583333333333304\n",
       "  1.3791666666666667 \n",
       "  1.745833333333333  \n",
       "  1.3958333333333333 \n",
       "  1.1458333333333333 "
      ]
     },
     "execution_count": 8,
     "metadata": {},
     "output_type": "execute_result"
    }
   ],
   "source": [
    "sol = lhs\\rhs"
   ]
  },
  {
   "cell_type": "markdown",
   "metadata": {
    "slideshow": {
     "slide_type": "subslide"
    }
   },
   "source": [
    "### Check solution  "
   ]
  },
  {
   "cell_type": "code",
   "execution_count": 9,
   "metadata": {
    "scrolled": true,
    "slideshow": {
     "slide_type": "fragment"
    }
   },
   "outputs": [
    {
     "data": {
      "text/plain": [
       "5×2 Array{Float64,2}:\n",
       " 14.6  14.6\n",
       "  4.0   4.0\n",
       "  6.8   6.8\n",
       "  2.7   2.7\n",
       "  1.1   1.1"
      ]
     },
     "execution_count": 9,
     "metadata": {},
     "output_type": "execute_result"
    }
   ],
   "source": [
    "[lhs*sol rhs]"
   ]
  },
  {
   "cell_type": "markdown",
   "metadata": {
    "slideshow": {
     "slide_type": "slide"
    }
   },
   "source": [
    "In this section, we will consider how to compute a **sparse-stored**  $\\mathbf{X'X}$ matrix and $\\mathbf{X'y}$ vector. \n",
    "\n",
    "* One way to proceed would be to first build $\\mathbf{X}$ as a sparse matrix and then get $\\mathbf{X'X}$ by matrix multiplication. \n",
    "* Now we will use the same one-way model and write a simple program for constructing the normal equations for this model."
   ]
  },
  {
   "cell_type": "markdown",
   "metadata": {
    "slideshow": {
     "slide_type": "slide"
    }
   },
   "source": [
    "## Computing X'X as the product of sparse-stored X' and X"
   ]
  },
  {
   "cell_type": "code",
   "execution_count": 17,
   "metadata": {
    "slideshow": {
     "slide_type": "fragment"
    }
   },
   "outputs": [],
   "source": [
    "using SparseArrays, LinearAlgebra\n",
    "X = sparse(1:n,data[:x],1.0)\n",
    "X =[ones(n) X]"
   ]
  },
  {
   "cell_type": "code",
   "execution_count": 19,
   "metadata": {},
   "outputs": [
    {
     "data": {
      "text/plain": [
       "10×5 Array{Float64,2}:\n",
       " 1.0  1.0  0.0  0.0  0.0\n",
       " 1.0  1.0  0.0  0.0  0.0\n",
       " 1.0  0.0  1.0  0.0  0.0\n",
       " 1.0  0.0  1.0  0.0  0.0\n",
       " 1.0  0.0  1.0  0.0  0.0\n",
       " 1.0  0.0  1.0  0.0  0.0\n",
       " 1.0  0.0  0.0  1.0  0.0\n",
       " 1.0  0.0  0.0  1.0  0.0\n",
       " 1.0  0.0  0.0  0.0  1.0\n",
       " 1.0  1.0  0.0  0.0  0.0"
      ]
     },
     "execution_count": 19,
     "metadata": {},
     "output_type": "execute_result"
    }
   ],
   "source": [
    "Matrix(X)"
   ]
  },
  {
   "cell_type": "code",
   "execution_count": 13,
   "metadata": {
    "slideshow": {
     "slide_type": "slide"
    }
   },
   "outputs": [
    {
     "data": {
      "text/plain": [
       "5-element Array{Float64,1}:\n",
       " 14.599999999999998\n",
       "  4.0              \n",
       "  6.8              \n",
       "  2.7              \n",
       "  1.1              "
      ]
     },
     "execution_count": 13,
     "metadata": {},
     "output_type": "execute_result"
    }
   ],
   "source": [
    "lhs = X'X\n",
    "rhs = X'y"
   ]
  },
  {
   "cell_type": "code",
   "execution_count": 25,
   "metadata": {},
   "outputs": [
    {
     "data": {
      "text/plain": [
       "5-element Array{Float64,1}:\n",
       " 1.099999999999999  \n",
       " 0.23333333333333395\n",
       " 0.6000000000000002 \n",
       " 0.25000000000000117\n",
       " 0.0                "
      ]
     },
     "execution_count": 25,
     "metadata": {},
     "output_type": "execute_result"
    }
   ],
   "source": [
    "QRLhs = qr(lhs) \n",
    "sol1 = QRLhs\\rhs"
   ]
  },
  {
   "cell_type": "code",
   "execution_count": 20,
   "metadata": {},
   "outputs": [
    {
     "data": {
      "text/plain": [
       "5×2 Array{Float64,2}:\n",
       " 14.6  14.6\n",
       "  4.0   4.0\n",
       "  6.8   6.8\n",
       "  2.7   2.7\n",
       "  1.1   1.1"
      ]
     },
     "execution_count": 20,
     "metadata": {},
     "output_type": "execute_result"
    }
   ],
   "source": [
    "[lhs*sol1 rhs]"
   ]
  },
  {
   "cell_type": "code",
   "execution_count": 21,
   "metadata": {},
   "outputs": [
    {
     "data": {
      "text/plain": [
       "5-element SparseVector{Float64,Int64} with 5 stored entries:\n",
       "  [1]  =  14.6\n",
       "  [2]  =  4.0\n",
       "  [3]  =  6.8\n",
       "  [4]  =  2.7\n",
       "  [5]  =  1.1"
      ]
     },
     "execution_count": 21,
     "metadata": {},
     "output_type": "execute_result"
    }
   ],
   "source": [
    "spRhs = sparse(rhs)"
   ]
  },
  {
   "cell_type": "code",
   "execution_count": 31,
   "metadata": {},
   "outputs": [
    {
     "data": {
      "text/plain": [
       "5-element Array{Float64,1}:\n",
       " -0.0\n",
       "  1.0\n",
       " -1.0\n",
       " -0.0\n",
       " -0.0"
      ]
     },
     "execution_count": 31,
     "metadata": {},
     "output_type": "execute_result"
    }
   ],
   "source": [
    "k = [0.0;1.0;-1.0;0;0.0]\n",
    "b = QRLhs\\k\n",
    "round.(lhs*b,digits=3)"
   ]
  },
  {
   "cell_type": "markdown",
   "metadata": {
    "slideshow": {
     "slide_type": "slide"
    }
   },
   "source": [
    "## [Supplemental Note: Computing full-stored or sparse-stored X'X without matrix multiplication](3.2.SupplementalNote.ipynb)"
   ]
  }
 ],
 "metadata": {
  "@webio": {
   "lastCommId": null,
   "lastKernelId": null
  },
  "celltoolbar": "Slideshow",
  "kernelspec": {
   "display_name": "Julia 1.3.1",
   "language": "julia",
   "name": "julia-1.3"
  },
  "language_info": {
   "file_extension": ".jl",
   "mimetype": "application/julia",
   "name": "julia",
   "version": "1.3.1"
  }
 },
 "nbformat": 4,
 "nbformat_minor": 4
}
