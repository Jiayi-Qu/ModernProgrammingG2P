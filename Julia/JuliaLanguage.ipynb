{
 "cells": [
  {
   "cell_type": "markdown",
   "metadata": {
    "tags": [],
    "toc-hr-collapsed": true,
    "toc-nb-collapsed": true
   },
   "source": [
    "## Basics"
   ]
  },
  {
   "cell_type": "code",
   "execution_count": 1,
   "metadata": {},
   "outputs": [
    {
     "data": {
      "text/plain": [
       "12.5"
      ]
     },
     "execution_count": 1,
     "metadata": {},
     "output_type": "execute_result"
    }
   ],
   "source": [
    "a = 2.5\n",
    "5a"
   ]
  },
  {
   "cell_type": "code",
   "execution_count": 2,
   "metadata": {},
   "outputs": [
    {
     "data": {
      "text/plain": [
       "12.5"
      ]
     },
     "execution_count": 2,
     "metadata": {},
     "output_type": "execute_result"
    }
   ],
   "source": [
    "5*a"
   ]
  },
  {
   "cell_type": "markdown",
   "metadata": {},
   "source": [
    "`ans` has the result from the last calculation:"
   ]
  },
  {
   "cell_type": "code",
   "execution_count": 3,
   "metadata": {},
   "outputs": [
    {
     "data": {
      "text/plain": [
       "12.5"
      ]
     },
     "execution_count": 3,
     "metadata": {},
     "output_type": "execute_result"
    }
   ],
   "source": [
    "ans"
   ]
  },
  {
   "cell_type": "markdown",
   "metadata": {},
   "source": [
    "### Two types of comments \n",
    "\n",
    "#### First type:"
   ]
  },
  {
   "cell_type": "code",
   "execution_count": 4,
   "metadata": {},
   "outputs": [
    {
     "data": {
      "text/plain": [
       "22.5"
      ]
     },
     "execution_count": 4,
     "metadata": {},
     "output_type": "execute_result"
    }
   ],
   "source": [
    "# this is a one line comment\n",
    "9a # comment can be at the end of a line too"
   ]
  },
  {
   "cell_type": "markdown",
   "metadata": {},
   "source": [
    "#### Second type:"
   ]
  },
  {
   "cell_type": "code",
   "execution_count": 5,
   "metadata": {},
   "outputs": [],
   "source": [
    "#= This is the first line of a comment block\n",
    "9a # comment can be at the end of a line too\n",
    "This is the last line of the block =# "
   ]
  },
  {
   "cell_type": "markdown",
   "metadata": {},
   "source": [
    "### Julia allows simple way to swap values of variables"
   ]
  },
  {
   "cell_type": "code",
   "execution_count": 6,
   "metadata": {},
   "outputs": [
    {
     "data": {
      "text/plain": [
       "2-element Array{Int64,1}:\n",
       " 1\n",
       " 2"
      ]
     },
     "execution_count": 6,
     "metadata": {},
     "output_type": "execute_result"
    }
   ],
   "source": [
    "a,b = 1,2\n",
    "[a,b]"
   ]
  },
  {
   "cell_type": "code",
   "execution_count": 7,
   "metadata": {},
   "outputs": [
    {
     "data": {
      "text/plain": [
       "2-element Array{Int64,1}:\n",
       " 2\n",
       " 1"
      ]
     },
     "execution_count": 7,
     "metadata": {},
     "output_type": "execute_result"
    }
   ],
   "source": [
    "# easy swapping of values\n",
    "a,b = b,a\n",
    "[a,b]"
   ]
  },
  {
   "cell_type": "code",
   "execution_count": 8,
   "metadata": {},
   "outputs": [
    {
     "data": {
      "text/plain": [
       "2-element Array{Int64,1}:\n",
       " 2\n",
       " 1"
      ]
     },
     "execution_count": 8,
     "metadata": {},
     "output_type": "execute_result"
    }
   ],
   "source": [
    "# in most languages you have to do\n",
    "a = 1\n",
    "b = 2\n",
    "temp = a\n",
    "a = b\n",
    "b = temp\n",
    "[a,b]"
   ]
  },
  {
   "cell_type": "markdown",
   "metadata": {},
   "source": [
    "### Julia allows simple boolean expressions"
   ]
  },
  {
   "cell_type": "code",
   "execution_count": 9,
   "metadata": {},
   "outputs": [
    {
     "data": {
      "text/plain": [
       "true"
      ]
     },
     "execution_count": 9,
     "metadata": {},
     "output_type": "execute_result"
    }
   ],
   "source": [
    "# Example\n",
    "1 < a < 3"
   ]
  },
  {
   "cell_type": "code",
   "execution_count": 10,
   "metadata": {},
   "outputs": [
    {
     "data": {
      "text/plain": [
       "true"
      ]
     },
     "execution_count": 10,
     "metadata": {},
     "output_type": "execute_result"
    }
   ],
   "source": [
    "# In many languages this has to be written as\n",
    "1 < a && a < 3"
   ]
  },
  {
   "cell_type": "markdown",
   "metadata": {},
   "source": [
    "### Ternary Operator"
   ]
  },
  {
   "cell_type": "code",
   "execution_count": 11,
   "metadata": {},
   "outputs": [
    {
     "data": {
      "text/plain": [
       "1"
      ]
     },
     "execution_count": 11,
     "metadata": {},
     "output_type": "execute_result"
    }
   ],
   "source": [
    "a = 1\n",
    "b = 1\n",
    "c = 2\n",
    "\n",
    "res = a==b ? a : b"
   ]
  },
  {
   "cell_type": "code",
   "execution_count": 12,
   "metadata": {},
   "outputs": [
    {
     "data": {
      "text/plain": [
       "2"
      ]
     },
     "execution_count": 12,
     "metadata": {},
     "output_type": "execute_result"
    }
   ],
   "source": [
    "a==c ? a : c"
   ]
  },
  {
   "cell_type": "code",
   "execution_count": 13,
   "metadata": {},
   "outputs": [
    {
     "data": {
      "text/plain": [
       "10"
      ]
     },
     "execution_count": 13,
     "metadata": {},
     "output_type": "execute_result"
    }
   ],
   "source": [
    "a==c ? 1 : 10"
   ]
  },
  {
   "cell_type": "code",
   "execution_count": 14,
   "metadata": {},
   "outputs": [
    {
     "data": {
      "text/plain": [
       "1"
      ]
     },
     "execution_count": 14,
     "metadata": {},
     "output_type": "execute_result"
    }
   ],
   "source": [
    "a==c-b ? 1 : 10"
   ]
  },
  {
   "cell_type": "markdown",
   "metadata": {},
   "source": [
    "### Remainder"
   ]
  },
  {
   "cell_type": "code",
   "execution_count": 15,
   "metadata": {},
   "outputs": [
    {
     "data": {
      "text/plain": [
       "9"
      ]
     },
     "execution_count": 15,
     "metadata": {},
     "output_type": "execute_result"
    }
   ],
   "source": [
    "99 % 10"
   ]
  },
  {
   "cell_type": "code",
   "execution_count": 16,
   "metadata": {},
   "outputs": [
    {
     "data": {
      "text/plain": [
       "0"
      ]
     },
     "execution_count": 16,
     "metadata": {},
     "output_type": "execute_result"
    }
   ],
   "source": [
    "100 % 10"
   ]
  },
  {
   "cell_type": "code",
   "execution_count": 17,
   "metadata": {},
   "outputs": [
    {
     "data": {
      "text/plain": [
       "0"
      ]
     },
     "execution_count": 17,
     "metadata": {},
     "output_type": "execute_result"
    }
   ],
   "source": [
    "90 % 10"
   ]
  },
  {
   "cell_type": "markdown",
   "metadata": {
    "tags": [],
    "toc-nb-collapsed": true
   },
   "source": [
    "## Arrays (Vectors and Matricies)"
   ]
  },
  {
   "cell_type": "markdown",
   "metadata": {},
   "source": [
    "### Declaration, Initialization and Indexing"
   ]
  },
  {
   "cell_type": "code",
   "execution_count": 18,
   "metadata": {},
   "outputs": [
    {
     "data": {
      "text/plain": [
       "Float64[]"
      ]
     },
     "execution_count": 18,
     "metadata": {},
     "output_type": "execute_result"
    }
   ],
   "source": [
    "# empty vector of double precision floats\n",
    "v = Array{Float64,1}()"
   ]
  },
  {
   "cell_type": "code",
   "execution_count": 19,
   "metadata": {},
   "outputs": [
    {
     "data": {
      "text/plain": [
       "1-element Array{Float64,1}:\n",
       " 2.0"
      ]
     },
     "execution_count": 19,
     "metadata": {},
     "output_type": "execute_result"
    }
   ],
   "source": [
    "push!(v,2.0)\n",
    "v"
   ]
  },
  {
   "cell_type": "code",
   "execution_count": 20,
   "metadata": {},
   "outputs": [
    {
     "data": {
      "text/plain": [
       "5-element Array{Float64,1}:\n",
       " 4.4e-323\n",
       " 5.0e-324\n",
       " 2.341927066e-314\n",
       " 5.0e-323\n",
       " 5.0e-324"
      ]
     },
     "execution_count": 20,
     "metadata": {},
     "output_type": "execute_result"
    }
   ],
   "source": [
    "# vector of size 5, double precision floats\n",
    "u =  Array{Float64,1}(undef, 5)"
   ]
  },
  {
   "cell_type": "code",
   "execution_count": 21,
   "metadata": {},
   "outputs": [
    {
     "data": {
      "text/plain": [
       "3×5 Array{Float64,2}:\n",
       " 8.48798e-314  2.35612e-314  0.0  0.0  0.0\n",
       " 7.4e-323      0.0           0.0  0.0  0.0\n",
       " 2.5e-323      5.0e-324      0.0  0.0  0.0"
      ]
     },
     "execution_count": 21,
     "metadata": {},
     "output_type": "execute_result"
    }
   ],
   "source": [
    "# matrix of size 3x5, double precision floats\n",
    "U =  Array{Float64,2}(undef, 3,5)"
   ]
  },
  {
   "cell_type": "code",
   "execution_count": 22,
   "metadata": {},
   "outputs": [
    {
     "data": {
      "text/plain": [
       "5-element Array{Float64,1}:\n",
       " 2.2\n",
       " 2.2\n",
       " 2.2\n",
       " 2.2\n",
       " 2.2"
      ]
     },
     "execution_count": 22,
     "metadata": {},
     "output_type": "execute_result"
    }
   ],
   "source": [
    "# vector of size 5, of 2.2\n",
    "u =  fill(2.2,5)"
   ]
  },
  {
   "cell_type": "code",
   "execution_count": 23,
   "metadata": {},
   "outputs": [
    {
     "data": {
      "text/plain": [
       "5-element Array{Float64,1}:\n",
       " 0.0\n",
       " 0.0\n",
       " 0.0\n",
       " 0.0\n",
       " 0.0"
      ]
     },
     "execution_count": 23,
     "metadata": {},
     "output_type": "execute_result"
    }
   ],
   "source": [
    "zeros(5)"
   ]
  },
  {
   "cell_type": "code",
   "execution_count": 24,
   "metadata": {},
   "outputs": [
    {
     "data": {
      "text/plain": [
       "3×5 Array{Float64,2}:\n",
       " 0.0  0.0  0.0  0.0  0.0\n",
       " 0.0  0.0  0.0  0.0  0.0\n",
       " 0.0  0.0  0.0  0.0  0.0"
      ]
     },
     "execution_count": 24,
     "metadata": {},
     "output_type": "execute_result"
    }
   ],
   "source": [
    "zeros(3,5)"
   ]
  },
  {
   "cell_type": "code",
   "execution_count": 25,
   "metadata": {},
   "outputs": [
    {
     "data": {
      "text/plain": [
       "3×5 Array{Float64,2}:\n",
       " 0.0  0.0  0.0  0.0  0.0\n",
       " 0.0  0.0  0.0  0.0  0.0\n",
       " 0.0  0.0  0.0  0.0  0.0"
      ]
     },
     "execution_count": 25,
     "metadata": {},
     "output_type": "execute_result"
    }
   ],
   "source": [
    "zero(U)"
   ]
  },
  {
   "cell_type": "code",
   "execution_count": 26,
   "metadata": {},
   "outputs": [
    {
     "data": {
      "text/plain": [
       "3×5 Array{Float64,2}:\n",
       " 1.0  1.0  1.0  1.0  1.0\n",
       " 1.0  1.0  1.0  1.0  1.0\n",
       " 1.0  1.0  1.0  1.0  1.0"
      ]
     },
     "execution_count": 26,
     "metadata": {},
     "output_type": "execute_result"
    }
   ],
   "source": [
    "ones(3,5)"
   ]
  },
  {
   "cell_type": "code",
   "execution_count": 1,
   "metadata": {},
   "outputs": [],
   "source": [
    "using Random, Statistics, Distributions, LinearAlgebra, DataFrames, StatsPlots"
   ]
  },
  {
   "cell_type": "code",
   "execution_count": 51,
   "metadata": {},
   "outputs": [
    {
     "data": {
      "text/plain": [
       "3×5 Matrix{Float64}:\n",
       " 0.697279  0.0611266  0.654257  0.72795    0.327499\n",
       " 0.649843  0.466537   0.365878  0.179563   0.267685\n",
       " 0.982942  0.923874   0.452673  0.0612897  0.986985"
      ]
     },
     "execution_count": 51,
     "metadata": {},
     "output_type": "execute_result"
    }
   ],
   "source": [
    "rand(3,5) # uniform(0,1)"
   ]
  },
  {
   "cell_type": "code",
   "execution_count": 29,
   "metadata": {},
   "outputs": [
    {
     "data": {
      "text/plain": [
       "3×5 Array{Float64,2}:\n",
       " -0.50009   -0.189503   0.998086  -0.942539  -2.88695\n",
       "  0.137258  -0.96548   -1.41631   -0.284165   0.223993\n",
       " -0.317524   1.33572   -1.37344   -1.82464    1.50459"
      ]
     },
     "execution_count": 29,
     "metadata": {},
     "output_type": "execute_result"
    }
   ],
   "source": [
    "randn(3,5) # standard normal"
   ]
  },
  {
   "cell_type": "code",
   "execution_count": 52,
   "metadata": {},
   "outputs": [
    {
     "data": {
      "text/plain": [
       "0.00020277189438182178"
      ]
     },
     "execution_count": 52,
     "metadata": {},
     "output_type": "execute_result"
    }
   ],
   "source": [
    "mean(randn(1_000_000))"
   ]
  },
  {
   "cell_type": "code",
   "execution_count": 31,
   "metadata": {},
   "outputs": [
    {
     "data": {
      "text/plain": [
       "1.0016738780324588"
      ]
     },
     "execution_count": 31,
     "metadata": {},
     "output_type": "execute_result"
    }
   ],
   "source": [
    "var(randn(1_000_000))"
   ]
  },
  {
   "cell_type": "code",
   "execution_count": 7,
   "metadata": {},
   "outputs": [
    {
     "data": {
      "text/plain": [
       "10×20 Matrix{Int64}:\n",
       " 1  1  1  0  1  0  1  2  1  0  0  0  1  1  1  1  0  0  0  0\n",
       " 2  0  0  2  1  2  1  0  1  1  1  2  1  1  2  0  0  1  2  1\n",
       " 1  0  2  0  0  2  0  0  1  1  2  1  2  1  1  0  1  1  2  0\n",
       " 1  2  1  1  1  0  2  2  2  2  1  0  0  2  1  1  0  0  1  1\n",
       " 1  2  0  1  1  1  2  0  2  0  1  2  1  1  0  2  0  2  2  1\n",
       " 0  1  2  2  2  2  2  1  2  1  1  1  2  1  1  2  2  1  0  0\n",
       " 0  1  1  1  1  0  1  1  1  2  0  2  0  2  2  1  1  1  1  1\n",
       " 2  0  1  1  2  0  0  2  0  1  2  1  1  2  1  2  1  0  2  1\n",
       " 0  1  2  2  1  1  1  1  1  1  2  0  0  2  0  1  2  2  1  1\n",
       " 0  1  0  0  1  1  2  0  1  0  1  1  0  1  1  2  2  0  1  1"
      ]
     },
     "execution_count": 7,
     "metadata": {},
     "output_type": "execute_result"
    }
   ],
   "source": [
    "M = rand(Binomial(2,0.5),10,20)"
   ]
  },
  {
   "cell_type": "markdown",
   "metadata": {},
   "source": [
    "#### Get first column as one dimensionsal array"
   ]
  },
  {
   "cell_type": "code",
   "execution_count": 8,
   "metadata": {},
   "outputs": [
    {
     "data": {
      "text/plain": [
       "10-element Vector{Int64}:\n",
       " 1\n",
       " 2\n",
       " 1\n",
       " 1\n",
       " 1\n",
       " 0\n",
       " 0\n",
       " 2\n",
       " 0\n",
       " 0"
      ]
     },
     "execution_count": 8,
     "metadata": {},
     "output_type": "execute_result"
    }
   ],
   "source": [
    "M[:,1]"
   ]
  },
  {
   "cell_type": "markdown",
   "metadata": {},
   "source": [
    "#### Get first row as one dimensionsal array¶"
   ]
  },
  {
   "cell_type": "code",
   "execution_count": 9,
   "metadata": {},
   "outputs": [
    {
     "data": {
      "text/plain": [
       "20-element Vector{Int64}:\n",
       " 1\n",
       " 1\n",
       " 1\n",
       " 0\n",
       " 1\n",
       " 0\n",
       " 1\n",
       " 2\n",
       " 1\n",
       " 0\n",
       " 0\n",
       " 0\n",
       " 1\n",
       " 1\n",
       " 1\n",
       " 1\n",
       " 0\n",
       " 0\n",
       " 0\n",
       " 0"
      ]
     },
     "execution_count": 9,
     "metadata": {},
     "output_type": "execute_result"
    }
   ],
   "source": [
    "M[1,:]"
   ]
  },
  {
   "cell_type": "markdown",
   "metadata": {},
   "source": [
    "#### Transposing and array gives a row vector "
   ]
  },
  {
   "cell_type": "code",
   "execution_count": 10,
   "metadata": {},
   "outputs": [
    {
     "data": {
      "text/plain": [
       "1×20 adjoint(::Vector{Int64}) with eltype Int64:\n",
       " 1  1  1  0  1  0  1  2  1  0  0  0  1  1  1  1  0  0  0  0"
      ]
     },
     "execution_count": 10,
     "metadata": {},
     "output_type": "execute_result"
    }
   ],
   "source": [
    "M[1,:]'"
   ]
  },
  {
   "cell_type": "markdown",
   "metadata": {},
   "source": [
    "#### Sum of squares of elements in first row"
   ]
  },
  {
   "cell_type": "code",
   "execution_count": 11,
   "metadata": {},
   "outputs": [
    {
     "data": {
      "text/plain": [
       "14"
      ]
     },
     "execution_count": 11,
     "metadata": {},
     "output_type": "execute_result"
    }
   ],
   "source": [
    "M[1,:]'M[1,:]"
   ]
  },
  {
   "cell_type": "code",
   "execution_count": 12,
   "metadata": {},
   "outputs": [
    {
     "data": {
      "text/plain": [
       "14"
      ]
     },
     "execution_count": 12,
     "metadata": {},
     "output_type": "execute_result"
    }
   ],
   "source": [
    "M[1,:]'*M[1,:]"
   ]
  },
  {
   "cell_type": "code",
   "execution_count": 13,
   "metadata": {},
   "outputs": [
    {
     "data": {
      "text/plain": [
       "14"
      ]
     },
     "execution_count": 13,
     "metadata": {},
     "output_type": "execute_result"
    }
   ],
   "source": [
    "dot(M[1,:],M[1,:])"
   ]
  },
  {
   "cell_type": "code",
   "execution_count": 14,
   "metadata": {},
   "outputs": [
    {
     "data": {
      "text/plain": [
       "20-element Vector{Int64}:\n",
       " 1\n",
       " 1\n",
       " 1\n",
       " 0\n",
       " 1\n",
       " 0\n",
       " 1\n",
       " 4\n",
       " 1\n",
       " 0\n",
       " 0\n",
       " 0\n",
       " 1\n",
       " 1\n",
       " 1\n",
       " 1\n",
       " 0\n",
       " 0\n",
       " 0\n",
       " 0"
      ]
     },
     "execution_count": 14,
     "metadata": {},
     "output_type": "execute_result"
    }
   ],
   "source": [
    "M[1,:].^2"
   ]
  },
  {
   "cell_type": "code",
   "execution_count": 15,
   "metadata": {},
   "outputs": [
    {
     "data": {
      "text/plain": [
       "14"
      ]
     },
     "execution_count": 15,
     "metadata": {},
     "output_type": "execute_result"
    }
   ],
   "source": [
    "sum(M[1,:].^2)"
   ]
  },
  {
   "cell_type": "markdown",
   "metadata": {},
   "source": [
    "#### Matrix transpose and product "
   ]
  },
  {
   "cell_type": "code",
   "execution_count": 16,
   "metadata": {},
   "outputs": [
    {
     "data": {
      "text/plain": [
       "true"
      ]
     },
     "execution_count": 16,
     "metadata": {},
     "output_type": "execute_result"
    }
   ],
   "source": [
    "M'M == M'*M"
   ]
  },
  {
   "cell_type": "markdown",
   "metadata": {},
   "source": [
    "### Identity Matrix"
   ]
  },
  {
   "cell_type": "markdown",
   "metadata": {},
   "source": [
    "#### In general"
   ]
  },
  {
   "cell_type": "code",
   "execution_count": 67,
   "metadata": {},
   "outputs": [
    {
     "data": {
      "text/plain": [
       "3×3 Diagonal{Int64, Vector{Int64}}:\n",
       " 1  ⋅  ⋅\n",
       " ⋅  1  ⋅\n",
       " ⋅  ⋅  1"
      ]
     },
     "execution_count": 67,
     "metadata": {},
     "output_type": "execute_result"
    }
   ],
   "source": [
    "1I(3)"
   ]
  },
  {
   "cell_type": "code",
   "execution_count": 69,
   "metadata": {},
   "outputs": [
    {
     "data": {
      "text/plain": [
       "2×2 Diagonal{Float64, Vector{Float64}}:\n",
       " 1.0   ⋅ \n",
       "  ⋅   1.0"
      ]
     },
     "execution_count": 69,
     "metadata": {},
     "output_type": "execute_result"
    }
   ],
   "source": [
    "1.0I(2)"
   ]
  },
  {
   "cell_type": "markdown",
   "metadata": {},
   "source": [
    "#### When dimensions and type can be inferred"
   ]
  },
  {
   "cell_type": "code",
   "execution_count": 20,
   "metadata": {},
   "outputs": [
    {
     "data": {
      "text/plain": [
       "20×20 Matrix{Int64}:\n",
       " 13   5   6   8   9   7   7   8   8  …   9   8  11   9   8   3   5  13   6\n",
       "  5  14   8   9  10   6  15   9  14      8   5  13   7  13   7   8   9   7\n",
       "  6   8  17  11  11  10  10  11  12      7  10  15   9  11  12   9  10   5\n",
       "  8   9  11  17  13  11  13   9  13     11   8  15  10  12  10  11  12   8\n",
       "  9  10  11  13  16   9  14  12  13     11   9  16  11  16  11   8  12   8\n",
       "  7   6  10  11   9  16  11   3  12  …  11  11  10   9   9  10  10  12   5\n",
       "  7  15  10  13  14  11  21  10  18     12   8  16  11  17  11  10  12   9\n",
       "  8   9  11   9  12   3  10  16  10      5   6  15   9  12   7   4   8   6\n",
       "  8  14  12  13  13  12  18  10  19     12  10  16  11  15  10  11  13   8\n",
       "  7   8  11  11  10   7  10  10  11      9   6  15  11   9   8   7  11   7\n",
       " 10   8  13  12  12  12  11   9  12  …  10  10  16   9  13  12  10  16   8\n",
       "  9   8   7  11  11  11  12   5  12     17   9  13  12  12   8  10  15   8\n",
       "  8   5  10   8   9  11   8   6  10      9  13   9   8   9   7   7  10   3\n",
       " 11  13  15  15  16  10  16  15  16     13   9  23  14  17  13  11  17  11\n",
       "  9   7   9  10  11   9  11   9  11     12   8  14  15  10   8   6  12   7\n",
       "  8  13  11  12  16   9  17  12  15  …  12   9  17  10  21  13   9  13   9\n",
       "  3   7  12  10  11  10  11   7  10      8   7  13   8  13  16   8   9   6\n",
       "  5   8   9  11   8  10  10   4  11     10   7  11   6   9   8  13  11   6\n",
       " 13   9  10  12  12  12  12   8  13     15  10  17  12  13   9  11  21  10\n",
       "  6   7   5   8   8   5   9   6   8      8   3  11   7   9   6   6  10   8"
      ]
     },
     "execution_count": 20,
     "metadata": {},
     "output_type": "execute_result"
    }
   ],
   "source": [
    "A = M'M + I"
   ]
  },
  {
   "cell_type": "code",
   "execution_count": 72,
   "metadata": {},
   "outputs": [
    {
     "data": {
      "text/plain": [
       "3×3 Matrix{Float64}:\n",
       " 1.98787   0.588998  0.826345\n",
       " 0.428663  1.67649   0.443566\n",
       " 0.652387  0.875017  1.88685"
      ]
     },
     "execution_count": 72,
     "metadata": {},
     "output_type": "execute_result"
    }
   ],
   "source": [
    "B = rand(3,3) + I"
   ]
  },
  {
   "cell_type": "code",
   "execution_count": 73,
   "metadata": {},
   "outputs": [
    {
     "data": {
      "text/plain": [
       "3×3 Matrix{Float64}:\n",
       " 1.98787   0.588998  0.826345\n",
       " 0.428663  1.67649   0.443566\n",
       " 0.652387  0.875017  1.88685"
      ]
     },
     "execution_count": 73,
     "metadata": {},
     "output_type": "execute_result"
    }
   ],
   "source": [
    "B*I"
   ]
  },
  {
   "cell_type": "code",
   "execution_count": 74,
   "metadata": {},
   "outputs": [
    {
     "data": {
      "text/plain": [
       "true"
      ]
     },
     "execution_count": 74,
     "metadata": {},
     "output_type": "execute_result"
    }
   ],
   "source": [
    "B == B*I"
   ]
  },
  {
   "cell_type": "code",
   "execution_count": 75,
   "metadata": {},
   "outputs": [
    {
     "data": {
      "text/plain": [
       "false"
      ]
     },
     "execution_count": 75,
     "metadata": {},
     "output_type": "execute_result"
    }
   ],
   "source": [
    "B === B*I"
   ]
  },
  {
   "cell_type": "markdown",
   "metadata": {},
   "source": [
    "### Diagonal Matrix from $\\mathbf{A}$"
   ]
  },
  {
   "cell_type": "code",
   "execution_count": 47,
   "metadata": {},
   "outputs": [
    {
     "data": {
      "text/plain": [
       "20×20 Diagonal{Int64,Array{Int64,1}}:\n",
       " 18   ⋅   ⋅   ⋅   ⋅   ⋅   ⋅   ⋅   ⋅  ⋅   ⋅   ⋅   ⋅   ⋅   ⋅   ⋅   ⋅  ⋅   ⋅   ⋅\n",
       "  ⋅  13   ⋅   ⋅   ⋅   ⋅   ⋅   ⋅   ⋅  ⋅   ⋅   ⋅   ⋅   ⋅   ⋅   ⋅   ⋅  ⋅   ⋅   ⋅\n",
       "  ⋅   ⋅  15   ⋅   ⋅   ⋅   ⋅   ⋅   ⋅  ⋅   ⋅   ⋅   ⋅   ⋅   ⋅   ⋅   ⋅  ⋅   ⋅   ⋅\n",
       "  ⋅   ⋅   ⋅  14   ⋅   ⋅   ⋅   ⋅   ⋅  ⋅   ⋅   ⋅   ⋅   ⋅   ⋅   ⋅   ⋅  ⋅   ⋅   ⋅\n",
       "  ⋅   ⋅   ⋅   ⋅  25   ⋅   ⋅   ⋅   ⋅  ⋅   ⋅   ⋅   ⋅   ⋅   ⋅   ⋅   ⋅  ⋅   ⋅   ⋅\n",
       "  ⋅   ⋅   ⋅   ⋅   ⋅  20   ⋅   ⋅   ⋅  ⋅   ⋅   ⋅   ⋅   ⋅   ⋅   ⋅   ⋅  ⋅   ⋅   ⋅\n",
       "  ⋅   ⋅   ⋅   ⋅   ⋅   ⋅  14   ⋅   ⋅  ⋅   ⋅   ⋅   ⋅   ⋅   ⋅   ⋅   ⋅  ⋅   ⋅   ⋅\n",
       "  ⋅   ⋅   ⋅   ⋅   ⋅   ⋅   ⋅  12   ⋅  ⋅   ⋅   ⋅   ⋅   ⋅   ⋅   ⋅   ⋅  ⋅   ⋅   ⋅\n",
       "  ⋅   ⋅   ⋅   ⋅   ⋅   ⋅   ⋅   ⋅  13  ⋅   ⋅   ⋅   ⋅   ⋅   ⋅   ⋅   ⋅  ⋅   ⋅   ⋅\n",
       "  ⋅   ⋅   ⋅   ⋅   ⋅   ⋅   ⋅   ⋅   ⋅  8   ⋅   ⋅   ⋅   ⋅   ⋅   ⋅   ⋅  ⋅   ⋅   ⋅\n",
       "  ⋅   ⋅   ⋅   ⋅   ⋅   ⋅   ⋅   ⋅   ⋅  ⋅  11   ⋅   ⋅   ⋅   ⋅   ⋅   ⋅  ⋅   ⋅   ⋅\n",
       "  ⋅   ⋅   ⋅   ⋅   ⋅   ⋅   ⋅   ⋅   ⋅  ⋅   ⋅  15   ⋅   ⋅   ⋅   ⋅   ⋅  ⋅   ⋅   ⋅\n",
       "  ⋅   ⋅   ⋅   ⋅   ⋅   ⋅   ⋅   ⋅   ⋅  ⋅   ⋅   ⋅  21   ⋅   ⋅   ⋅   ⋅  ⋅   ⋅   ⋅\n",
       "  ⋅   ⋅   ⋅   ⋅   ⋅   ⋅   ⋅   ⋅   ⋅  ⋅   ⋅   ⋅   ⋅  12   ⋅   ⋅   ⋅  ⋅   ⋅   ⋅\n",
       "  ⋅   ⋅   ⋅   ⋅   ⋅   ⋅   ⋅   ⋅   ⋅  ⋅   ⋅   ⋅   ⋅   ⋅  13   ⋅   ⋅  ⋅   ⋅   ⋅\n",
       "  ⋅   ⋅   ⋅   ⋅   ⋅   ⋅   ⋅   ⋅   ⋅  ⋅   ⋅   ⋅   ⋅   ⋅   ⋅  18   ⋅  ⋅   ⋅   ⋅\n",
       "  ⋅   ⋅   ⋅   ⋅   ⋅   ⋅   ⋅   ⋅   ⋅  ⋅   ⋅   ⋅   ⋅   ⋅   ⋅   ⋅  18  ⋅   ⋅   ⋅\n",
       "  ⋅   ⋅   ⋅   ⋅   ⋅   ⋅   ⋅   ⋅   ⋅  ⋅   ⋅   ⋅   ⋅   ⋅   ⋅   ⋅   ⋅  7   ⋅   ⋅\n",
       "  ⋅   ⋅   ⋅   ⋅   ⋅   ⋅   ⋅   ⋅   ⋅  ⋅   ⋅   ⋅   ⋅   ⋅   ⋅   ⋅   ⋅  ⋅  13   ⋅\n",
       "  ⋅   ⋅   ⋅   ⋅   ⋅   ⋅   ⋅   ⋅   ⋅  ⋅   ⋅   ⋅   ⋅   ⋅   ⋅   ⋅   ⋅  ⋅   ⋅  20"
      ]
     },
     "execution_count": 47,
     "metadata": {},
     "output_type": "execute_result"
    }
   ],
   "source": [
    "Diagonal(A)"
   ]
  },
  {
   "cell_type": "markdown",
   "metadata": {},
   "source": [
    "### Diagonal Matrix from $\\mathbf{v}$"
   ]
  },
  {
   "cell_type": "code",
   "execution_count": 21,
   "metadata": {},
   "outputs": [
    {
     "data": {
      "text/plain": [
       "3×3 Diagonal{Int64, Vector{Int64}}:\n",
       " 1  ⋅  ⋅\n",
       " ⋅  2  ⋅\n",
       " ⋅  ⋅  3"
      ]
     },
     "execution_count": 21,
     "metadata": {},
     "output_type": "execute_result"
    }
   ],
   "source": [
    "v = [1,2,3]\n",
    "Diagonal(v)"
   ]
  },
  {
   "cell_type": "markdown",
   "metadata": {},
   "source": [
    "### Subset of Matrix"
   ]
  },
  {
   "cell_type": "code",
   "execution_count": 23,
   "metadata": {},
   "outputs": [
    {
     "data": {
      "text/plain": [
       "2×2 Matrix{Int64}:\n",
       " 6  8\n",
       " 8  9"
      ]
     },
     "execution_count": 23,
     "metadata": {},
     "output_type": "execute_result"
    }
   ],
   "source": [
    "B = A[1:2,3:4]"
   ]
  },
  {
   "cell_type": "code",
   "execution_count": 24,
   "metadata": {},
   "outputs": [
    {
     "data": {
      "text/plain": [
       "2×10 Matrix{Int64}:\n",
       " 10  9  8  11  9   8  3  5  13  6\n",
       "  8  8  5  13  7  13  7  8   9  7"
      ]
     },
     "execution_count": 24,
     "metadata": {},
     "output_type": "execute_result"
    }
   ],
   "source": [
    "C = A[1:2,11:end]"
   ]
  },
  {
   "cell_type": "markdown",
   "metadata": {},
   "source": [
    "### Concatenation\n",
    "#### Horizontal"
   ]
  },
  {
   "cell_type": "code",
   "execution_count": 25,
   "metadata": {},
   "outputs": [
    {
     "data": {
      "text/plain": [
       "2×12 Matrix{Int64}:\n",
       " 6  8  10  9  8  11  9   8  3  5  13  6\n",
       " 8  9   8  8  5  13  7  13  7  8   9  7"
      ]
     },
     "execution_count": 25,
     "metadata": {},
     "output_type": "execute_result"
    }
   ],
   "source": [
    "[B C]"
   ]
  },
  {
   "cell_type": "code",
   "execution_count": 26,
   "metadata": {},
   "outputs": [
    {
     "data": {
      "text/plain": [
       "2×12 Matrix{Int64}:\n",
       " 6  8  10  9  8  11  9   8  3  5  13  6\n",
       " 8  9   8  8  5  13  7  13  7  8   9  7"
      ]
     },
     "execution_count": 26,
     "metadata": {},
     "output_type": "execute_result"
    }
   ],
   "source": [
    "hcat(B,C)"
   ]
  },
  {
   "cell_type": "markdown",
   "metadata": {},
   "source": [
    "#### Vertical"
   ]
  },
  {
   "cell_type": "code",
   "execution_count": 27,
   "metadata": {},
   "outputs": [
    {
     "data": {
      "text/plain": [
       "12×20 Matrix{Int64}:\n",
       " 13   5   6   8   9   7   7   8   8  …   9   8  11   9   8   3   5  13   6\n",
       "  5  14   8   9  10   6  15   9  14      8   5  13   7  13   7   8   9   7\n",
       " 10   8  13  12  12  12  11   9  12     10  10  16   9  13  12  10  16   8\n",
       "  9   8   7  11  11  11  12   5  12     17   9  13  12  12   8  10  15   8\n",
       "  8   5  10   8   9  11   8   6  10      9  13   9   8   9   7   7  10   3\n",
       " 11  13  15  15  16  10  16  15  16  …  13   9  23  14  17  13  11  17  11\n",
       "  9   7   9  10  11   9  11   9  11     12   8  14  15  10   8   6  12   7\n",
       "  8  13  11  12  16   9  17  12  15     12   9  17  10  21  13   9  13   9\n",
       "  3   7  12  10  11  10  11   7  10      8   7  13   8  13  16   8   9   6\n",
       "  5   8   9  11   8  10  10   4  11     10   7  11   6   9   8  13  11   6\n",
       " 13   9  10  12  12  12  12   8  13  …  15  10  17  12  13   9  11  21  10\n",
       "  6   7   5   8   8   5   9   6   8      8   3  11   7   9   6   6  10   8"
      ]
     },
     "execution_count": 27,
     "metadata": {},
     "output_type": "execute_result"
    }
   ],
   "source": [
    "[ \n",
    "A[1:2,:]\n",
    "A[11:end,:]\n",
    "]"
   ]
  },
  {
   "cell_type": "code",
   "execution_count": 28,
   "metadata": {},
   "outputs": [
    {
     "data": {
      "text/plain": [
       "12×20 Matrix{Int64}:\n",
       " 13   5   6   8   9   7   7   8   8  …   9   8  11   9   8   3   5  13   6\n",
       "  5  14   8   9  10   6  15   9  14      8   5  13   7  13   7   8   9   7\n",
       " 10   8  13  12  12  12  11   9  12     10  10  16   9  13  12  10  16   8\n",
       "  9   8   7  11  11  11  12   5  12     17   9  13  12  12   8  10  15   8\n",
       "  8   5  10   8   9  11   8   6  10      9  13   9   8   9   7   7  10   3\n",
       " 11  13  15  15  16  10  16  15  16  …  13   9  23  14  17  13  11  17  11\n",
       "  9   7   9  10  11   9  11   9  11     12   8  14  15  10   8   6  12   7\n",
       "  8  13  11  12  16   9  17  12  15     12   9  17  10  21  13   9  13   9\n",
       "  3   7  12  10  11  10  11   7  10      8   7  13   8  13  16   8   9   6\n",
       "  5   8   9  11   8  10  10   4  11     10   7  11   6   9   8  13  11   6\n",
       " 13   9  10  12  12  12  12   8  13  …  15  10  17  12  13   9  11  21  10\n",
       "  6   7   5   8   8   5   9   6   8      8   3  11   7   9   6   6  10   8"
      ]
     },
     "execution_count": 28,
     "metadata": {},
     "output_type": "execute_result"
    }
   ],
   "source": [
    "vcat(A[1:2,:],A[11:end,:])"
   ]
  },
  {
   "cell_type": "markdown",
   "metadata": {},
   "source": [
    "### Sorting"
   ]
  },
  {
   "cell_type": "code",
   "execution_count": 29,
   "metadata": {},
   "outputs": [
    {
     "data": {
      "text/plain": [
       "10-element Vector{Int64}:\n",
       " 0\n",
       " 0\n",
       " 0\n",
       " 0\n",
       " 1\n",
       " 1\n",
       " 1\n",
       " 1\n",
       " 2\n",
       " 2"
      ]
     },
     "execution_count": 29,
     "metadata": {},
     "output_type": "execute_result"
    }
   ],
   "source": [
    "sort(M[:,1])"
   ]
  },
  {
   "cell_type": "code",
   "execution_count": 30,
   "metadata": {},
   "outputs": [
    {
     "data": {
      "text/plain": [
       "10-element Vector{Int64}:\n",
       "  6\n",
       "  7\n",
       "  9\n",
       " 10\n",
       "  1\n",
       "  3\n",
       "  4\n",
       "  5\n",
       "  2\n",
       "  8"
      ]
     },
     "execution_count": 30,
     "metadata": {},
     "output_type": "execute_result"
    }
   ],
   "source": [
    "index = sortperm(M[:,1])"
   ]
  },
  {
   "cell_type": "code",
   "execution_count": 31,
   "metadata": {},
   "outputs": [
    {
     "data": {
      "text/plain": [
       "10-element Vector{Int64}:\n",
       " 0\n",
       " 0\n",
       " 0\n",
       " 0\n",
       " 1\n",
       " 1\n",
       " 1\n",
       " 1\n",
       " 2\n",
       " 2"
      ]
     },
     "execution_count": 31,
     "metadata": {},
     "output_type": "execute_result"
    }
   ],
   "source": [
    "M[index,1]"
   ]
  },
  {
   "cell_type": "markdown",
   "metadata": {},
   "source": [
    "### Sorting the entire matrix by the first column"
   ]
  },
  {
   "cell_type": "code",
   "execution_count": 32,
   "metadata": {},
   "outputs": [
    {
     "data": {
      "text/plain": [
       "10×20 Matrix{Int64}:\n",
       " 0  1  2  2  2  2  2  1  2  1  1  1  2  1  1  2  2  1  0  0\n",
       " 0  1  1  1  1  0  1  1  1  2  0  2  0  2  2  1  1  1  1  1\n",
       " 0  1  2  2  1  1  1  1  1  1  2  0  0  2  0  1  2  2  1  1\n",
       " 0  1  0  0  1  1  2  0  1  0  1  1  0  1  1  2  2  0  1  1\n",
       " 1  1  1  0  1  0  1  2  1  0  0  0  1  1  1  1  0  0  0  0\n",
       " 1  0  2  0  0  2  0  0  1  1  2  1  2  1  1  0  1  1  2  0\n",
       " 1  2  1  1  1  0  2  2  2  2  1  0  0  2  1  1  0  0  1  1\n",
       " 1  2  0  1  1  1  2  0  2  0  1  2  1  1  0  2  0  2  2  1\n",
       " 2  0  0  2  1  2  1  0  1  1  1  2  1  1  2  0  0  1  2  1\n",
       " 2  0  1  1  2  0  0  2  0  1  2  1  1  2  1  2  1  0  2  1"
      ]
     },
     "execution_count": 32,
     "metadata": {},
     "output_type": "execute_result"
    }
   ],
   "source": [
    "M[index,:]"
   ]
  },
  {
   "cell_type": "markdown",
   "metadata": {},
   "source": [
    "### Sorting matrix by the sum of columns 1 and 2"
   ]
  },
  {
   "cell_type": "code",
   "execution_count": 33,
   "metadata": {},
   "outputs": [
    {
     "data": {
      "text/plain": [
       "10×20 Matrix{Int64}:\n",
       " 1  0  2  0  0  2  0  0  1  1  2  1  2  1  1  0  1  1  2  0\n",
       " 0  1  2  2  2  2  2  1  2  1  1  1  2  1  1  2  2  1  0  0\n",
       " 0  1  1  1  1  0  1  1  1  2  0  2  0  2  2  1  1  1  1  1\n",
       " 0  1  2  2  1  1  1  1  1  1  2  0  0  2  0  1  2  2  1  1\n",
       " 0  1  0  0  1  1  2  0  1  0  1  1  0  1  1  2  2  0  1  1\n",
       " 1  1  1  0  1  0  1  2  1  0  0  0  1  1  1  1  0  0  0  0\n",
       " 2  0  0  2  1  2  1  0  1  1  1  2  1  1  2  0  0  1  2  1\n",
       " 2  0  1  1  2  0  0  2  0  1  2  1  1  2  1  2  1  0  2  1\n",
       " 1  2  1  1  1  0  2  2  2  2  1  0  0  2  1  1  0  0  1  1\n",
       " 1  2  0  1  1  1  2  0  2  0  1  2  1  1  0  2  0  2  2  1"
      ]
     },
     "execution_count": 33,
     "metadata": {},
     "output_type": "execute_result"
    }
   ],
   "source": [
    "M[sortperm( M[:,1]+M[:,2] ),:]"
   ]
  },
  {
   "cell_type": "markdown",
   "metadata": {},
   "source": [
    "### Selecting rows or columns of matrix"
   ]
  },
  {
   "cell_type": "markdown",
   "metadata": {},
   "source": [
    "#### Select rows where row sum is > 19"
   ]
  },
  {
   "cell_type": "code",
   "execution_count": 34,
   "metadata": {},
   "outputs": [
    {
     "data": {
      "text/plain": [
       "10-element BitVector:\n",
       " 0\n",
       " 1\n",
       " 0\n",
       " 1\n",
       " 1\n",
       " 1\n",
       " 1\n",
       " 1\n",
       " 1\n",
       " 0"
      ]
     },
     "execution_count": 34,
     "metadata": {},
     "output_type": "execute_result"
    }
   ],
   "source": [
    "vec(sum(M,dims=2) .> 19)"
   ]
  },
  {
   "cell_type": "code",
   "execution_count": 35,
   "metadata": {},
   "outputs": [
    {
     "data": {
      "text/plain": [
       "7×20 Matrix{Int64}:\n",
       " 2  0  0  2  1  2  1  0  1  1  1  2  1  1  2  0  0  1  2  1\n",
       " 1  2  1  1  1  0  2  2  2  2  1  0  0  2  1  1  0  0  1  1\n",
       " 1  2  0  1  1  1  2  0  2  0  1  2  1  1  0  2  0  2  2  1\n",
       " 0  1  2  2  2  2  2  1  2  1  1  1  2  1  1  2  2  1  0  0\n",
       " 0  1  1  1  1  0  1  1  1  2  0  2  0  2  2  1  1  1  1  1\n",
       " 2  0  1  1  2  0  0  2  0  1  2  1  1  2  1  2  1  0  2  1\n",
       " 0  1  2  2  1  1  1  1  1  1  2  0  0  2  0  1  2  2  1  1"
      ]
     },
     "execution_count": 35,
     "metadata": {},
     "output_type": "execute_result"
    }
   ],
   "source": [
    "M[vec(sum(M,dims=2) .> 19), :]"
   ]
  },
  {
   "cell_type": "markdown",
   "metadata": {},
   "source": [
    "#### Get random subset of 5 columns from M"
   ]
  },
  {
   "cell_type": "code",
   "execution_count": 36,
   "metadata": {},
   "outputs": [
    {
     "data": {
      "text/plain": [
       "5-element Vector{Int64}:\n",
       "  6\n",
       " 20\n",
       " 10\n",
       " 17\n",
       "  2"
      ]
     },
     "execution_count": 36,
     "metadata": {},
     "output_type": "execute_result"
    }
   ],
   "source": [
    "sel = sample(1:size(M,2),5,replace=false)"
   ]
  },
  {
   "cell_type": "code",
   "execution_count": 37,
   "metadata": {},
   "outputs": [
    {
     "data": {
      "text/plain": [
       "10×5 Matrix{Int64}:\n",
       " 0  0  0  0  1\n",
       " 2  1  1  0  0\n",
       " 2  0  1  1  0\n",
       " 0  1  2  0  2\n",
       " 1  1  0  0  2\n",
       " 2  0  1  2  1\n",
       " 0  1  2  1  1\n",
       " 0  1  1  1  0\n",
       " 1  1  1  2  1\n",
       " 1  1  0  2  1"
      ]
     },
     "execution_count": 37,
     "metadata": {},
     "output_type": "execute_result"
    }
   ],
   "source": [
    "M[:,sel]"
   ]
  },
  {
   "cell_type": "markdown",
   "metadata": {},
   "source": [
    "#### Get the remaining columns: \n",
    "\n",
    "M[:,-sel] does not work in Julia"
   ]
  },
  {
   "cell_type": "code",
   "execution_count": 38,
   "metadata": {},
   "outputs": [
    {
     "data": {
      "text/plain": [
       "10×15 Matrix{Int64}:\n",
       " 1  1  0  1  1  2  1  0  0  1  1  1  1  0  0\n",
       " 2  0  2  1  1  0  1  1  2  1  1  2  0  1  2\n",
       " 1  2  0  0  0  0  1  2  1  2  1  1  0  1  2\n",
       " 1  1  1  1  2  2  2  1  0  0  2  1  1  0  1\n",
       " 1  0  1  1  2  0  2  1  2  1  1  0  2  2  2\n",
       " 0  2  2  2  2  1  2  1  1  2  1  1  2  1  0\n",
       " 0  1  1  1  1  1  1  0  2  0  2  2  1  1  1\n",
       " 2  1  1  2  0  2  0  2  1  1  2  1  2  0  2\n",
       " 0  2  2  1  1  1  1  2  0  0  2  0  1  2  1\n",
       " 0  0  0  1  2  0  1  1  1  0  1  1  2  0  1"
      ]
     },
     "execution_count": 38,
     "metadata": {},
     "output_type": "execute_result"
    }
   ],
   "source": [
    "M[:,Not(sel)] "
   ]
  },
  {
   "cell_type": "markdown",
   "metadata": {},
   "source": [
    "### View of array"
   ]
  },
  {
   "cell_type": "code",
   "execution_count": 39,
   "metadata": {},
   "outputs": [
    {
     "data": {
      "text/plain": [
       "10-element view(::Matrix{Int64}, :, 2) with eltype Int64:\n",
       " 1\n",
       " 0\n",
       " 0\n",
       " 2\n",
       " 2\n",
       " 1\n",
       " 1\n",
       " 0\n",
       " 1\n",
       " 1"
      ]
     },
     "execution_count": 39,
     "metadata": {},
     "output_type": "execute_result"
    }
   ],
   "source": [
    "m2 = @view M[:,2] # does not make a copy of the second column of M"
   ]
  },
  {
   "cell_type": "code",
   "execution_count": 40,
   "metadata": {},
   "outputs": [
    {
     "data": {
      "text/plain": [
       "10×20 Matrix{Int64}:\n",
       " 1  1  1  0  1  0  1  2  1  0  0  0  1  1  1  1  0  0  0  0\n",
       " 2  3  0  2  1  2  1  0  1  1  1  2  1  1  2  0  0  1  2  1\n",
       " 1  0  2  0  0  2  0  0  1  1  2  1  2  1  1  0  1  1  2  0\n",
       " 1  2  1  1  1  0  2  2  2  2  1  0  0  2  1  1  0  0  1  1\n",
       " 1  2  0  1  1  1  2  0  2  0  1  2  1  1  0  2  0  2  2  1\n",
       " 0  1  2  2  2  2  2  1  2  1  1  1  2  1  1  2  2  1  0  0\n",
       " 0  1  1  1  1  0  1  1  1  2  0  2  0  2  2  1  1  1  1  1\n",
       " 2  0  1  1  2  0  0  2  0  1  2  1  1  2  1  2  1  0  2  1\n",
       " 0  1  2  2  1  1  1  1  1  1  2  0  0  2  0  1  2  2  1  1\n",
       " 0  1  0  0  1  1  2  0  1  0  1  1  0  1  1  2  2  0  1  1"
      ]
     },
     "execution_count": 40,
     "metadata": {},
     "output_type": "execute_result"
    }
   ],
   "source": [
    "m2[2] = 3\n",
    "M"
   ]
  },
  {
   "cell_type": "markdown",
   "metadata": {},
   "source": [
    "Note that changing the value of m2[2] results in changing the second column of M. "
   ]
  },
  {
   "cell_type": "markdown",
   "metadata": {},
   "source": [
    "#### View of a row from a matrix"
   ]
  },
  {
   "cell_type": "code",
   "execution_count": 41,
   "metadata": {},
   "outputs": [
    {
     "data": {
      "text/plain": [
       "20-element view(::Matrix{Int64}, 2, :) with eltype Int64:\n",
       " 2\n",
       " 3\n",
       " 0\n",
       " 2\n",
       " 1\n",
       " 2\n",
       " 1\n",
       " 0\n",
       " 1\n",
       " 1\n",
       " 1\n",
       " 2\n",
       " 1\n",
       " 1\n",
       " 2\n",
       " 0\n",
       " 0\n",
       " 1\n",
       " 2\n",
       " 1"
      ]
     },
     "execution_count": 41,
     "metadata": {},
     "output_type": "execute_result"
    }
   ],
   "source": [
    "# view of row 2 from M\n",
    "row2 = @view M[2,:]"
   ]
  },
  {
   "cell_type": "markdown",
   "metadata": {},
   "source": [
    "Note that the view of a row from a matrix is a one-dimensional array that behaves like a column vector!"
   ]
  },
  {
   "cell_type": "code",
   "execution_count": 42,
   "metadata": {},
   "outputs": [
    {
     "data": {
      "text/plain": [
       "42"
      ]
     },
     "execution_count": 42,
     "metadata": {},
     "output_type": "execute_result"
    }
   ],
   "source": [
    "row2'row2"
   ]
  },
  {
   "cell_type": "markdown",
   "metadata": {},
   "source": [
    "### Copy of array"
   ]
  },
  {
   "cell_type": "code",
   "execution_count": 43,
   "metadata": {},
   "outputs": [
    {
     "data": {
      "text/plain": [
       "3-element Vector{Int64}:\n",
       " 1\n",
       " 2\n",
       " 3"
      ]
     },
     "execution_count": 43,
     "metadata": {},
     "output_type": "execute_result"
    }
   ],
   "source": [
    "v = [1, 2, 3]"
   ]
  },
  {
   "cell_type": "code",
   "execution_count": 44,
   "metadata": {},
   "outputs": [
    {
     "data": {
      "text/plain": [
       "3-element Vector{Int64}:\n",
       " 10\n",
       "  2\n",
       "  3"
      ]
     },
     "execution_count": 44,
     "metadata": {},
     "output_type": "execute_result"
    }
   ],
   "source": [
    "u = v\n",
    "u[1] = 10\n",
    "u"
   ]
  },
  {
   "cell_type": "code",
   "execution_count": 45,
   "metadata": {},
   "outputs": [
    {
     "data": {
      "text/plain": [
       "3-element Vector{Int64}:\n",
       " 10\n",
       "  2\n",
       "  3"
      ]
     },
     "execution_count": 45,
     "metadata": {},
     "output_type": "execute_result"
    }
   ],
   "source": [
    "v"
   ]
  },
  {
   "cell_type": "markdown",
   "metadata": {},
   "source": [
    "So, u is not just a copy of v. It is another name for v. To get a copy use:"
   ]
  },
  {
   "cell_type": "code",
   "execution_count": 46,
   "metadata": {},
   "outputs": [
    {
     "data": {
      "text/plain": [
       "3-element Vector{Int64}:\n",
       " 10\n",
       "  2\n",
       "  3"
      ]
     },
     "execution_count": 46,
     "metadata": {},
     "output_type": "execute_result"
    }
   ],
   "source": [
    "v = [1, 2, 3]\n",
    "u = copy(v)\n",
    "u[1] = 10\n",
    "u"
   ]
  },
  {
   "cell_type": "code",
   "execution_count": 47,
   "metadata": {},
   "outputs": [
    {
     "data": {
      "text/plain": [
       "3-element Vector{Int64}:\n",
       " 1\n",
       " 2\n",
       " 3"
      ]
     },
     "execution_count": 47,
     "metadata": {},
     "output_type": "execute_result"
    }
   ],
   "source": [
    "v"
   ]
  },
  {
   "cell_type": "markdown",
   "metadata": {
    "toc-hr-collapsed": true,
    "toc-nb-collapsed": true
   },
   "source": [
    "### Sparse Matrices"
   ]
  },
  {
   "cell_type": "code",
   "execution_count": 48,
   "metadata": {},
   "outputs": [
    {
     "data": {
      "text/plain": [
       "10"
      ]
     },
     "execution_count": 48,
     "metadata": {},
     "output_type": "execute_result"
    }
   ],
   "source": [
    "using SparseArrays, LinearAlgebra\n",
    "x=[1,1,2,2,2,2,3,3,4,1]\n",
    "y=[1.1,1.2,1.9,1.2,2.0,1.7,1.0,1.7,1.1,1.7]\n",
    "n = size(x,1)"
   ]
  },
  {
   "cell_type": "code",
   "execution_count": 49,
   "metadata": {},
   "outputs": [
    {
     "data": {
      "text/plain": [
       "10×5 SparseMatrixCSC{Float64, Int64} with 20 stored entries:\n",
       " 1.0  1.0   ⋅    ⋅    ⋅ \n",
       " 1.0  1.0   ⋅    ⋅    ⋅ \n",
       " 1.0   ⋅   1.0   ⋅    ⋅ \n",
       " 1.0   ⋅   1.0   ⋅    ⋅ \n",
       " 1.0   ⋅   1.0   ⋅    ⋅ \n",
       " 1.0   ⋅   1.0   ⋅    ⋅ \n",
       " 1.0   ⋅    ⋅   1.0   ⋅ \n",
       " 1.0   ⋅    ⋅   1.0   ⋅ \n",
       " 1.0   ⋅    ⋅    ⋅   1.0\n",
       " 1.0  1.0   ⋅    ⋅    ⋅ "
      ]
     },
     "execution_count": 49,
     "metadata": {},
     "output_type": "execute_result"
    }
   ],
   "source": [
    "# X is a sparse matrix, where only non-zero elements are stored\n",
    "X = sparse(1:n,x,1.0) # In general, the last argument can be a vector\n",
    "X =[ones(n) X]        # # concatenation works with sparse X"
   ]
  },
  {
   "cell_type": "code",
   "execution_count": 77,
   "metadata": {},
   "outputs": [
    {
     "data": {
      "text/plain": [
       "10×5 Array{Float64,2}:\n",
       " 1.0  1.0  0.0  0.0  0.0\n",
       " 1.0  1.0  0.0  0.0  0.0\n",
       " 1.0  0.0  1.0  0.0  0.0\n",
       " 1.0  0.0  1.0  0.0  0.0\n",
       " 1.0  0.0  1.0  0.0  0.0\n",
       " 1.0  0.0  1.0  0.0  0.0\n",
       " 1.0  0.0  0.0  1.0  0.0\n",
       " 1.0  0.0  0.0  1.0  0.0\n",
       " 1.0  0.0  0.0  0.0  1.0\n",
       " 1.0  1.0  0.0  0.0  0.0"
      ]
     },
     "execution_count": 77,
     "metadata": {},
     "output_type": "execute_result"
    }
   ],
   "source": [
    "# Full matrix from X\n",
    "Matrix(X)"
   ]
  },
  {
   "cell_type": "code",
   "execution_count": 78,
   "metadata": {
    "slideshow": {
     "slide_type": "slide"
    }
   },
   "outputs": [
    {
     "data": {
      "text/plain": [
       "5×5 SparseMatrixCSC{Float64,Int64} with 13 stored entries:\n",
       "  [1, 1]  =  10.0\n",
       "  [2, 1]  =  3.0\n",
       "  [3, 1]  =  4.0\n",
       "  [4, 1]  =  2.0\n",
       "  [5, 1]  =  1.0\n",
       "  [1, 2]  =  3.0\n",
       "  [2, 2]  =  3.0\n",
       "  [1, 3]  =  4.0\n",
       "  [3, 3]  =  4.0\n",
       "  [1, 4]  =  2.0\n",
       "  [4, 4]  =  2.0\n",
       "  [1, 5]  =  1.0\n",
       "  [5, 5]  =  1.0"
      ]
     },
     "execution_count": 78,
     "metadata": {},
     "output_type": "execute_result"
    }
   ],
   "source": [
    "# usual matrix operations work\n",
    "rhs = X'y\n",
    "lhs = X'X"
   ]
  },
  {
   "cell_type": "code",
   "execution_count": 79,
   "metadata": {
    "slideshow": {
     "slide_type": "slide"
    }
   },
   "outputs": [
    {
     "data": {
      "text/plain": [
       "5-element Array{Float64,1}:\n",
       " 14.599999999999998\n",
       "  4.0\n",
       "  6.8\n",
       "  2.7\n",
       "  1.1"
      ]
     },
     "execution_count": 79,
     "metadata": {},
     "output_type": "execute_result"
    }
   ],
   "source": [
    "lhs = X'X\n",
    "rhs = X'y"
   ]
  },
  {
   "cell_type": "markdown",
   "metadata": {},
   "source": [
    "#### Getting solution to (X'X)b = X'y"
   ]
  },
  {
   "cell_type": "code",
   "execution_count": 80,
   "metadata": {},
   "outputs": [
    {
     "data": {
      "text/plain": [
       "5-element Array{Float64,1}:\n",
       " 1.099999999999999\n",
       " 0.23333333333333395\n",
       " 0.6000000000000002\n",
       " 0.25000000000000117\n",
       " 0.0"
      ]
     },
     "execution_count": 80,
     "metadata": {},
     "output_type": "execute_result"
    }
   ],
   "source": [
    "# lhs = X'X and rhs=X'y\n",
    "QRLhs = qr(lhs) \n",
    "b = QRLhs\\rhs"
   ]
  },
  {
   "cell_type": "code",
   "execution_count": 81,
   "metadata": {},
   "outputs": [
    {
     "data": {
      "text/plain": [
       "5×2 Array{Float64,2}:\n",
       " 14.6  14.6\n",
       "  4.0   4.0\n",
       "  6.8   6.8\n",
       "  2.7   2.7\n",
       "  1.1   1.1"
      ]
     },
     "execution_count": 81,
     "metadata": {},
     "output_type": "execute_result"
    }
   ],
   "source": [
    "[lhs*b rhs]"
   ]
  },
  {
   "cell_type": "markdown",
   "metadata": {},
   "source": [
    "#### Sparse Zero Matrix"
   ]
  },
  {
   "cell_type": "code",
   "execution_count": 82,
   "metadata": {},
   "outputs": [
    {
     "data": {
      "text/plain": [
       "2×2 SparseMatrixCSC{Float64,Int64} with 0 stored entries"
      ]
     },
     "execution_count": 82,
     "metadata": {},
     "output_type": "execute_result"
    }
   ],
   "source": [
    "spzeros(2,2)"
   ]
  },
  {
   "cell_type": "markdown",
   "metadata": {},
   "source": [
    "#### Sparse Identity Matrix"
   ]
  },
  {
   "cell_type": "code",
   "execution_count": 83,
   "metadata": {},
   "outputs": [
    {
     "data": {
      "text/plain": [
       "1000000×1000000 SparseMatrixCSC{Float64,Int64} with 1000000 stored entries:\n",
       "  [1      ,       1]  =  1.0\n",
       "  [2      ,       2]  =  1.0\n",
       "  [3      ,       3]  =  1.0\n",
       "  [4      ,       4]  =  1.0\n",
       "  [5      ,       5]  =  1.0\n",
       "  [6      ,       6]  =  1.0\n",
       "  [7      ,       7]  =  1.0\n",
       "  [8      ,       8]  =  1.0\n",
       "  [9      ,       9]  =  1.0\n",
       "  [10     ,      10]  =  1.0\n",
       "  [11     ,      11]  =  1.0\n",
       "  [12     ,      12]  =  1.0\n",
       "  ⋮\n",
       "  [999988 ,  999988]  =  1.0\n",
       "  [999989 ,  999989]  =  1.0\n",
       "  [999990 ,  999990]  =  1.0\n",
       "  [999991 ,  999991]  =  1.0\n",
       "  [999992 ,  999992]  =  1.0\n",
       "  [999993 ,  999993]  =  1.0\n",
       "  [999994 ,  999994]  =  1.0\n",
       "  [999995 ,  999995]  =  1.0\n",
       "  [999996 ,  999996]  =  1.0\n",
       "  [999997 ,  999997]  =  1.0\n",
       "  [999998 ,  999998]  =  1.0\n",
       "  [999999 ,  999999]  =  1.0\n",
       "  [1000000, 1000000]  =  1.0"
      ]
     },
     "execution_count": 83,
     "metadata": {},
     "output_type": "execute_result"
    }
   ],
   "source": [
    "N = 1_000_000\n",
    "R = sparse(1.0I,N,N)"
   ]
  },
  {
   "cell_type": "markdown",
   "metadata": {
    "toc-hr-collapsed": true
   },
   "source": [
    "## Control Flow and Loops"
   ]
  },
  {
   "cell_type": "markdown",
   "metadata": {},
   "source": [
    "### Adding vectors u and v."
   ]
  },
  {
   "cell_type": "markdown",
   "metadata": {
    "tags": [],
    "toc-hr-collapsed": true
   },
   "source": [
    "#### Hard coding:\n",
    "\n",
    "This is one way to get the result. But, coding will be tedious for long vectors. Further, recoding will be required when the lenght of the vectors changes."
   ]
  },
  {
   "cell_type": "code",
   "execution_count": 84,
   "metadata": {},
   "outputs": [
    {
     "data": {
      "text/plain": [
       "3×3 Array{Int64,2}:\n",
       " 10  1  11\n",
       "  2  2   4\n",
       "  3  3   6"
      ]
     },
     "execution_count": 84,
     "metadata": {},
     "output_type": "execute_result"
    }
   ],
   "source": [
    "result = zero(u) # gets vector of zeros identical in dimension to that of u\n",
    "result[1] = u[1] + v[1]\n",
    "result[2] = u[2] + v[2]\n",
    "result[3] = u[3] + v[3]\n",
    "[u v result]"
   ]
  },
  {
   "cell_type": "markdown",
   "metadata": {
    "tags": [],
    "toc-hr-collapsed": true
   },
   "source": [
    "#### Using loop:\n",
    "\n",
    "The code is the same for vectors of any length."
   ]
  },
  {
   "cell_type": "code",
   "execution_count": 85,
   "metadata": {},
   "outputs": [
    {
     "data": {
      "text/plain": [
       "3×3 Array{Int64,2}:\n",
       " 10  1  11\n",
       "  2  2   4\n",
       "  3  3   6"
      ]
     },
     "execution_count": 85,
     "metadata": {},
     "output_type": "execute_result"
    }
   ],
   "source": [
    "result = zero(u)\n",
    "for i=1:size(u,1)\n",
    "    result[i] = u[i] + v[i]\n",
    "end\n",
    "[u v result]"
   ]
  },
  {
   "cell_type": "markdown",
   "metadata": {},
   "source": [
    "Use of a [function](content:Functions) is a more general way to do this!"
   ]
  },
  {
   "cell_type": "markdown",
   "metadata": {
    "tags": [],
    "toc-hr-collapsed": true
   },
   "source": [
    "### Sum of elements in v"
   ]
  },
  {
   "cell_type": "code",
   "execution_count": 86,
   "metadata": {},
   "outputs": [
    {
     "data": {
      "text/plain": [
       "6.0"
      ]
     },
     "execution_count": 86,
     "metadata": {},
     "output_type": "execute_result"
    }
   ],
   "source": [
    "mySum = 0.0\n",
    "for i = v\n",
    "    mySum += i\n",
    "end\n",
    "mySum"
   ]
  },
  {
   "cell_type": "markdown",
   "metadata": {},
   "source": [
    "### Get vector of squared values in v "
   ]
  },
  {
   "cell_type": "markdown",
   "metadata": {
    "toc-hr-collapsed": true
   },
   "source": [
    "#### Using loop:"
   ]
  },
  {
   "cell_type": "code",
   "execution_count": 87,
   "metadata": {},
   "outputs": [
    {
     "data": {
      "text/plain": [
       "3-element Array{Float64,1}:\n",
       " 1.0\n",
       " 4.0\n",
       " 9.0"
      ]
     },
     "execution_count": 87,
     "metadata": {},
     "output_type": "execute_result"
    }
   ],
   "source": [
    "n = size(v,1)\n",
    "result = zeros(n)\n",
    "for i=1:n\n",
    "    result[i] = v[i]^2\n",
    "end\n",
    "result"
   ]
  },
  {
   "cell_type": "markdown",
   "metadata": {
    "toc-hr-collapsed": true
   },
   "source": [
    "#### Using list comprehension:\n",
    "\n",
    "This is a more concise way to get the same result."
   ]
  },
  {
   "cell_type": "code",
   "execution_count": 88,
   "metadata": {},
   "outputs": [
    {
     "data": {
      "text/plain": [
       "3-element Array{Int64,1}:\n",
       " 1\n",
       " 4\n",
       " 9"
      ]
     },
     "execution_count": 88,
     "metadata": {},
     "output_type": "execute_result"
    }
   ],
   "source": [
    "[i^2 for i in v]"
   ]
  },
  {
   "cell_type": "markdown",
   "metadata": {
    "toc-hr-collapsed": true
   },
   "source": [
    "### List comprehension with condition"
   ]
  },
  {
   "cell_type": "code",
   "execution_count": 89,
   "metadata": {},
   "outputs": [
    {
     "data": {
      "text/plain": [
       "3-element Array{Float64,1}:\n",
       " 1.4075528832179276\n",
       " 0.883316577324486\n",
       " 1.0370944039431345"
      ]
     },
     "execution_count": 89,
     "metadata": {},
     "output_type": "execute_result"
    }
   ],
   "source": [
    "x = randn(10)\n",
    "[sqrt(i) for i in x if i >= 0.0]"
   ]
  },
  {
   "cell_type": "code",
   "execution_count": 90,
   "metadata": {},
   "outputs": [
    {
     "data": {
      "text/plain": [
       "3-element Array{Array{Float64,2},1}:\n",
       " [5.0 1.4075528832179276]\n",
       " [6.0 0.883316577324486]\n",
       " [10.0 1.0370944039431345]"
      ]
     },
     "execution_count": 90,
     "metadata": {},
     "output_type": "execute_result"
    }
   ],
   "source": [
    "res = [[i sqrt(value)] for (i,value) in enumerate(x) if value >= 0.0]"
   ]
  },
  {
   "cell_type": "markdown",
   "metadata": {
    "toc-hr-collapsed": true
   },
   "source": [
    "### Convert array of arrays to matrix:\n",
    "\n",
    "Each element of `res` computed above is also an array with two elements. Often, we would like to convert such and array of arrays to a matrix. \n",
    "Two methods methods are given below to accomplish this."
   ]
  },
  {
   "cell_type": "markdown",
   "metadata": {},
   "source": [
    "#### Method 1:"
   ]
  },
  {
   "cell_type": "code",
   "execution_count": 91,
   "metadata": {},
   "outputs": [
    {
     "data": {
      "text/plain": [
       "3×2 Array{Float64,2}:\n",
       "  5.0  1.40755\n",
       "  6.0  0.883317\n",
       " 10.0  1.03709"
      ]
     },
     "execution_count": 91,
     "metadata": {},
     "output_type": "execute_result"
    }
   ],
   "source": [
    "resMat = [row[i] for row in res, i=1:2]"
   ]
  },
  {
   "cell_type": "markdown",
   "metadata": {},
   "source": [
    "#### Method 2:"
   ]
  },
  {
   "cell_type": "code",
   "execution_count": 92,
   "metadata": {},
   "outputs": [
    {
     "data": {
      "text/plain": [
       "3×2 Array{Float64,2}:\n",
       "  5.0  1.40755\n",
       "  6.0  0.883317\n",
       " 10.0  1.03709"
      ]
     },
     "execution_count": 92,
     "metadata": {},
     "output_type": "execute_result"
    }
   ],
   "source": [
    "vcat(res...)"
   ]
  },
  {
   "cell_type": "markdown",
   "metadata": {
    "toc-hr-collapsed": true
   },
   "source": [
    "### Matrix from list comprehension"
   ]
  },
  {
   "cell_type": "code",
   "execution_count": 93,
   "metadata": {},
   "outputs": [
    {
     "data": {
      "text/plain": [
       "2×3 Array{Int64,2}:\n",
       " 4  5  6\n",
       " 5  6  7"
      ]
     },
     "execution_count": 93,
     "metadata": {},
     "output_type": "execute_result"
    }
   ],
   "source": [
    "[i+j for i=1:2, j=3:5]"
   ]
  },
  {
   "cell_type": "markdown",
   "metadata": {
    "tags": [],
    "toc-hr-collapsed": true
   },
   "source": [
    "### Use of Range"
   ]
  },
  {
   "cell_type": "code",
   "execution_count": 94,
   "metadata": {},
   "outputs": [
    {
     "data": {
      "text/plain": [
       "0.0:0.1:1.0"
      ]
     },
     "execution_count": 94,
     "metadata": {},
     "output_type": "execute_result"
    }
   ],
   "source": [
    "r = range(0, step=0.1, stop=1)"
   ]
  },
  {
   "cell_type": "code",
   "execution_count": 95,
   "metadata": {},
   "outputs": [
    {
     "data": {
      "text/plain": [
       "0.0:0.1:1.0"
      ]
     },
     "execution_count": 95,
     "metadata": {},
     "output_type": "execute_result"
    }
   ],
   "source": [
    "# This works too\n",
    "\n",
    "r = 0:0.1:1"
   ]
  },
  {
   "cell_type": "markdown",
   "metadata": {},
   "source": [
    "r is not an arryay, but in many contexts behaves like one"
   ]
  },
  {
   "cell_type": "code",
   "execution_count": 96,
   "metadata": {},
   "outputs": [
    {
     "data": {
      "text/plain": [
       "11-element Array{Float64,1}:\n",
       " 0.0\n",
       " 0.09983341664682815\n",
       " 0.19866933079506122\n",
       " 0.29552020666133955\n",
       " 0.3894183423086505\n",
       " 0.479425538604203\n",
       " 0.5646424733950354\n",
       " 0.644217687237691\n",
       " 0.7173560908995228\n",
       " 0.7833269096274834\n",
       " 0.8414709848078965"
      ]
     },
     "execution_count": 96,
     "metadata": {},
     "output_type": "execute_result"
    }
   ],
   "source": [
    "sin.(r)"
   ]
  },
  {
   "cell_type": "markdown",
   "metadata": {
    "tags": [],
    "toc-hr-collapsed": true
   },
   "source": [
    "### Use of Map to apply a function to elements of array"
   ]
  },
  {
   "cell_type": "code",
   "execution_count": 97,
   "metadata": {},
   "outputs": [
    {
     "data": {
      "text/plain": [
       "11-element Array{Float64,1}:\n",
       " 0.0\n",
       " 0.09983341664682815\n",
       " 0.19866933079506122\n",
       " 0.29552020666133955\n",
       " 0.3894183423086505\n",
       " 0.479425538604203\n",
       " 0.5646424733950354\n",
       " 0.644217687237691\n",
       " 0.7173560908995228\n",
       " 0.7833269096274834\n",
       " 0.8414709848078965"
      ]
     },
     "execution_count": 97,
     "metadata": {},
     "output_type": "execute_result"
    }
   ],
   "source": [
    "map(sin,r)"
   ]
  },
  {
   "cell_type": "markdown",
   "metadata": {
    "toc-hr-collapsed": true
   },
   "source": [
    "### Reduce and Map-Reduce"
   ]
  },
  {
   "cell_type": "code",
   "execution_count": 98,
   "metadata": {},
   "outputs": [
    {
     "data": {
      "text/plain": [
       "15"
      ]
     },
     "execution_count": 98,
     "metadata": {},
     "output_type": "execute_result"
    }
   ],
   "source": [
    "# sum of elements in u\n",
    "reduce(+,u)"
   ]
  },
  {
   "cell_type": "code",
   "execution_count": 99,
   "metadata": {},
   "outputs": [
    {
     "data": {
      "text/plain": [
       "60"
      ]
     },
     "execution_count": 99,
     "metadata": {},
     "output_type": "execute_result"
    }
   ],
   "source": [
    "# product of elements in u\n",
    "reduce(*,u)"
   ]
  },
  {
   "cell_type": "code",
   "execution_count": 100,
   "metadata": {},
   "outputs": [
    {
     "data": {
      "text/plain": [
       "500000500000"
      ]
     },
     "execution_count": 100,
     "metadata": {},
     "output_type": "execute_result"
    }
   ],
   "source": [
    "reduce(+,1:1000000)"
   ]
  },
  {
   "cell_type": "markdown",
   "metadata": {},
   "source": [
    "#### Sum of squares"
   ]
  },
  {
   "cell_type": "code",
   "execution_count": 101,
   "metadata": {},
   "outputs": [
    {
     "data": {
      "text/plain": [
       "333333833333500000"
      ]
     },
     "execution_count": 101,
     "metadata": {},
     "output_type": "execute_result"
    }
   ],
   "source": [
    "n = 1_000_000\n",
    "mapreduce(x -> x^2, +, 1:n)"
   ]
  },
  {
   "cell_type": "markdown",
   "metadata": {},
   "source": [
    "Here, a vector of squares is created first, which, as will be demonstrated later, slower because of the time used for memory allocation"
   ]
  },
  {
   "cell_type": "code",
   "execution_count": 102,
   "metadata": {},
   "outputs": [
    {
     "data": {
      "text/plain": [
       "333333833333500000"
      ]
     },
     "execution_count": 102,
     "metadata": {},
     "output_type": "execute_result"
    }
   ],
   "source": [
    "reduce(+,(1:n).^2)"
   ]
  },
  {
   "cell_type": "markdown",
   "metadata": {
    "tags": [],
    "toc-hr-collapsed": true,
    "toc-nb-collapsed": true
   },
   "source": [
    "## Types"
   ]
  },
  {
   "cell_type": "markdown",
   "metadata": {},
   "source": [
    "### Determine the type of a variable as:"
   ]
  },
  {
   "cell_type": "code",
   "execution_count": 103,
   "metadata": {},
   "outputs": [
    {
     "data": {
      "text/plain": [
       "Array{Int64,2}"
      ]
     },
     "execution_count": 103,
     "metadata": {},
     "output_type": "execute_result"
    }
   ],
   "source": [
    "# type of M\n",
    "typeof(M)"
   ]
  },
  {
   "cell_type": "code",
   "execution_count": 104,
   "metadata": {},
   "outputs": [
    {
     "data": {
      "text/plain": [
       "Array{Int64,1}"
      ]
     },
     "execution_count": 104,
     "metadata": {},
     "output_type": "execute_result"
    }
   ],
   "source": [
    "# type of v\n",
    "typeof(v)"
   ]
  },
  {
   "cell_type": "markdown",
   "metadata": {},
   "source": [
    "(section:compositeTypes)=\n",
    "### Composite Types\n",
    "\n",
    "An example of a user-defined type:"
   ]
  },
  {
   "cell_type": "code",
   "execution_count": 105,
   "metadata": {},
   "outputs": [],
   "source": [
    "# Example\n",
    "mutable struct BankAccount\n",
    "    accountNumber::Int64\n",
    "    firstName::String\n",
    "    lastName::String\n",
    "    balance::Float64\n",
    "end"
   ]
  },
  {
   "cell_type": "markdown",
   "metadata": {},
   "source": [
    "#### Get all the names in a composite type:"
   ]
  },
  {
   "cell_type": "code",
   "execution_count": 106,
   "metadata": {},
   "outputs": [
    {
     "data": {
      "text/plain": [
       "(:accountNumber, :firstName, :lastName, :balance)"
      ]
     },
     "execution_count": 106,
     "metadata": {},
     "output_type": "execute_result"
    }
   ],
   "source": [
    "fieldnames(BankAccount)"
   ]
  },
  {
   "cell_type": "markdown",
   "metadata": {},
   "source": [
    "#### Get the types of all fields:"
   ]
  },
  {
   "cell_type": "code",
   "execution_count": 107,
   "metadata": {},
   "outputs": [
    {
     "data": {
      "text/plain": [
       "svec(Int64, String, String, Float64)"
      ]
     },
     "execution_count": 107,
     "metadata": {},
     "output_type": "execute_result"
    }
   ],
   "source": [
    "BankAccount.types"
   ]
  },
  {
   "cell_type": "markdown",
   "metadata": {},
   "source": [
    "#### Create an instance of `BankAccount`"
   ]
  },
  {
   "cell_type": "code",
   "execution_count": 108,
   "metadata": {},
   "outputs": [
    {
     "data": {
      "text/plain": [
       "BankAccount(9321, \"Scott\", \"Williams\", 500.0)"
      ]
     },
     "execution_count": 108,
     "metadata": {},
     "output_type": "execute_result"
    }
   ],
   "source": [
    "a1 = BankAccount(1234,\"Tom\",\"Smith\",1000.0)\n",
    "a2 = BankAccount(4321,\"Jim\",\"Shanks\",500.0)\n",
    "a3 = BankAccount(9321,\"Scott\",\"Williams\",500.0)"
   ]
  },
  {
   "cell_type": "markdown",
   "metadata": {},
   "source": [
    "#### Access field in composite type:"
   ]
  },
  {
   "cell_type": "code",
   "execution_count": 109,
   "metadata": {},
   "outputs": [
    {
     "data": {
      "text/plain": [
       "1000.0"
      ]
     },
     "execution_count": 109,
     "metadata": {},
     "output_type": "execute_result"
    }
   ],
   "source": [
    "a1.balance"
   ]
  },
  {
   "cell_type": "code",
   "execution_count": 110,
   "metadata": {},
   "outputs": [
    {
     "data": {
      "text/plain": [
       "2000.5"
      ]
     },
     "execution_count": 110,
     "metadata": {},
     "output_type": "execute_result"
    }
   ],
   "source": [
    "# can modify fields of mutable structs\n",
    "a1.balance = 2000.50"
   ]
  },
  {
   "cell_type": "code",
   "execution_count": 111,
   "metadata": {},
   "outputs": [
    {
     "data": {
      "text/plain": [
       "500.0"
      ]
     },
     "execution_count": 111,
     "metadata": {},
     "output_type": "execute_result"
    }
   ],
   "source": [
    "a2.balance"
   ]
  },
  {
   "cell_type": "code",
   "execution_count": 112,
   "metadata": {},
   "outputs": [
    {
     "data": {
      "text/plain": [
       "\"Jim\""
      ]
     },
     "execution_count": 112,
     "metadata": {},
     "output_type": "execute_result"
    }
   ],
   "source": [
    "a2.firstName"
   ]
  },
  {
   "cell_type": "markdown",
   "metadata": {
    "toc-hr-collapsed": true,
    "toc-nb-collapsed": true
   },
   "source": [
    "## Dictionaries (Associative Arrays) "
   ]
  },
  {
   "cell_type": "markdown",
   "metadata": {},
   "source": [
    "A dictionary in Julia is a collection of key value pairs. "
   ]
  },
  {
   "cell_type": "markdown",
   "metadata": {},
   "source": [
    "### Declaration\n",
    "\n",
    "In the example given below, d is an empty dictionary that can store an instance of the composite type {ref}`BankAccount<section:compositeTypes>` with an associated integer key."
   ]
  },
  {
   "cell_type": "code",
   "execution_count": 113,
   "metadata": {},
   "outputs": [
    {
     "data": {
      "text/plain": [
       "Dict{Int64,BankAccount}()"
      ]
     },
     "execution_count": 113,
     "metadata": {},
     "output_type": "execute_result"
    }
   ],
   "source": [
    "#= \n",
    "d is an empty dictionary that can store \"BackAccounts\" \n",
    "with an interger key (i.e., with the account number as the key)\n",
    "=#\n",
    "\n",
    "d = Dict{Int64,BankAccount}()"
   ]
  },
  {
   "cell_type": "markdown",
   "metadata": {},
   "source": [
    "### Putting values in dictionary\n",
    "\n",
    "Recall that `a1` and `a2` are instances of the composite type {ref}`BankAccount<section:compositeTypes>`."
   ]
  },
  {
   "cell_type": "code",
   "execution_count": 114,
   "metadata": {},
   "outputs": [
    {
     "name": "stdout",
     "output_type": "stream",
     "text": [
      "a1 = BankAccount(1234, \"Tom\", \"Smith\", 2000.5)\n"
     ]
    },
    {
     "data": {
      "text/plain": [
       "BankAccount(1234, \"Tom\", \"Smith\", 2000.5)"
      ]
     },
     "execution_count": 114,
     "metadata": {},
     "output_type": "execute_result"
    }
   ],
   "source": [
    "@show(a1)"
   ]
  },
  {
   "cell_type": "code",
   "execution_count": 115,
   "metadata": {},
   "outputs": [
    {
     "data": {
      "text/plain": [
       "Dict{Int64,BankAccount} with 1 entry:\n",
       "  1234 => BankAccount(1234, \"Tom\", \"Smith\", 2000.5)"
      ]
     },
     "execution_count": 115,
     "metadata": {},
     "output_type": "execute_result"
    }
   ],
   "source": [
    "d[a1.accountNumber] = a1\n",
    "d"
   ]
  },
  {
   "cell_type": "code",
   "execution_count": 116,
   "metadata": {},
   "outputs": [
    {
     "data": {
      "text/plain": [
       "Dict{Int64,BankAccount} with 2 entries:\n",
       "  4321 => BankAccount(4321, \"Jim\", \"Shanks\", 500.0)\n",
       "  1234 => BankAccount(1234, \"Tom\", \"Smith\", 2000.5)"
      ]
     },
     "execution_count": 116,
     "metadata": {},
     "output_type": "execute_result"
    }
   ],
   "source": [
    "d[a2.accountNumber] = a2\n",
    "d"
   ]
  },
  {
   "cell_type": "code",
   "execution_count": 117,
   "metadata": {},
   "outputs": [
    {
     "data": {
      "text/plain": [
       "Dict{Int64,BankAccount} with 3 entries:\n",
       "  4321 => BankAccount(4321, \"Jim\", \"Shanks\", 500.0)\n",
       "  9321 => BankAccount(9321, \"Scott\", \"Williams\", 500.0)\n",
       "  1234 => BankAccount(1234, \"Tom\", \"Smith\", 2000.5)"
      ]
     },
     "execution_count": 117,
     "metadata": {},
     "output_type": "execute_result"
    }
   ],
   "source": [
    "d[a3.accountNumber] = a3\n",
    "d"
   ]
  },
  {
   "cell_type": "markdown",
   "metadata": {},
   "source": [
    "### Get array of keys in d"
   ]
  },
  {
   "cell_type": "code",
   "execution_count": 118,
   "metadata": {},
   "outputs": [
    {
     "data": {
      "text/plain": [
       "3-element Array{Int64,1}:\n",
       " 4321\n",
       " 9321\n",
       " 1234"
      ]
     },
     "execution_count": 118,
     "metadata": {},
     "output_type": "execute_result"
    }
   ],
   "source": [
    "collect(keys(d))"
   ]
  },
  {
   "cell_type": "markdown",
   "metadata": {},
   "source": [
    "#### Get the value associated with `key = 1234`"
   ]
  },
  {
   "cell_type": "code",
   "execution_count": 119,
   "metadata": {},
   "outputs": [
    {
     "data": {
      "text/plain": [
       "BankAccount(1234, \"Tom\", \"Smith\", 2000.5)"
      ]
     },
     "execution_count": 119,
     "metadata": {},
     "output_type": "execute_result"
    }
   ],
   "source": [
    "d[1234]"
   ]
  },
  {
   "cell_type": "markdown",
   "metadata": {},
   "source": [
    "### Get array of values in d"
   ]
  },
  {
   "cell_type": "markdown",
   "metadata": {},
   "source": [
    "#### Using `values` function"
   ]
  },
  {
   "cell_type": "code",
   "execution_count": 120,
   "metadata": {},
   "outputs": [
    {
     "data": {
      "text/plain": [
       "Base.ValueIterator for a Dict{Int64,BankAccount} with 3 entries. Values:\n",
       "  BankAccount(4321, \"Jim\", \"Shanks\", 500.0)\n",
       "  BankAccount(9321, \"Scott\", \"Williams\", 500.0)\n",
       "  BankAccount(1234, \"Tom\", \"Smith\", 2000.5)"
      ]
     },
     "execution_count": 120,
     "metadata": {},
     "output_type": "execute_result"
    }
   ],
   "source": [
    "values(d)"
   ]
  },
  {
   "cell_type": "code",
   "execution_count": 121,
   "metadata": {},
   "outputs": [
    {
     "data": {
      "text/plain": [
       "3-element Array{BankAccount,1}:\n",
       " BankAccount(4321, \"Jim\", \"Shanks\", 500.0)\n",
       " BankAccount(9321, \"Scott\", \"Williams\", 500.0)\n",
       " BankAccount(1234, \"Tom\", \"Smith\", 2000.5)"
      ]
     },
     "execution_count": 121,
     "metadata": {},
     "output_type": "execute_result"
    }
   ],
   "source": [
    "collect(values(d))"
   ]
  },
  {
   "cell_type": "markdown",
   "metadata": {},
   "source": [
    "#### Using list comprehension"
   ]
  },
  {
   "cell_type": "code",
   "execution_count": 122,
   "metadata": {},
   "outputs": [
    {
     "data": {
      "text/plain": [
       "3-element Array{BankAccount,1}:\n",
       " BankAccount(4321, \"Jim\", \"Shanks\", 500.0)\n",
       " BankAccount(9321, \"Scott\", \"Williams\", 500.0)\n",
       " BankAccount(1234, \"Tom\", \"Smith\", 2000.5)"
      ]
     },
     "execution_count": 122,
     "metadata": {},
     "output_type": "execute_result"
    }
   ],
   "source": [
    "[i for i in values(d)]"
   ]
  },
  {
   "cell_type": "code",
   "execution_count": 123,
   "metadata": {},
   "outputs": [
    {
     "data": {
      "text/plain": [
       "Base.KeySet for a Dict{Int64,BankAccount} with 3 entries. Keys:\n",
       "  4321\n",
       "  9321\n",
       "  1234"
      ]
     },
     "execution_count": 123,
     "metadata": {},
     "output_type": "execute_result"
    }
   ],
   "source": [
    "keys(d)"
   ]
  },
  {
   "cell_type": "code",
   "execution_count": 124,
   "metadata": {},
   "outputs": [
    {
     "data": {
      "text/plain": [
       "3-element Array{BankAccount,1}:\n",
       " BankAccount(4321, \"Jim\", \"Shanks\", 500.0)\n",
       " BankAccount(9321, \"Scott\", \"Williams\", 500.0)\n",
       " BankAccount(1234, \"Tom\", \"Smith\", 2000.5)"
      ]
     },
     "execution_count": 124,
     "metadata": {},
     "output_type": "execute_result"
    }
   ],
   "source": [
    "[d[i] for i in keys(d)] "
   ]
  },
  {
   "cell_type": "markdown",
   "metadata": {},
   "source": [
    "### Check if Dictionary has a particular key"
   ]
  },
  {
   "cell_type": "code",
   "execution_count": 125,
   "metadata": {},
   "outputs": [
    {
     "data": {
      "text/plain": [
       "true"
      ]
     },
     "execution_count": 125,
     "metadata": {},
     "output_type": "execute_result"
    }
   ],
   "source": [
    "haskey(d,1234)"
   ]
  },
  {
   "cell_type": "code",
   "execution_count": 126,
   "metadata": {},
   "outputs": [
    {
     "data": {
      "text/plain": [
       "false"
      ]
     },
     "execution_count": 126,
     "metadata": {},
     "output_type": "execute_result"
    }
   ],
   "source": [
    "haskey(d,123)"
   ]
  },
  {
   "cell_type": "markdown",
   "metadata": {
    "toc-hr-collapsed": true,
    "toc-nb-collapsed": true
   },
   "source": [
    "## Functions and Scope of Variables"
   ]
  },
  {
   "cell_type": "markdown",
   "metadata": {},
   "source": [
    "(content:Functions)=\n",
    "### Function for adding two vectors"
   ]
  },
  {
   "cell_type": "markdown",
   "metadata": {},
   "source": [
    "Functions allow code to be reused. We have seen how a loop can be used to add two vectors:"
   ]
  },
  {
   "cell_type": "code",
   "execution_count": 127,
   "metadata": {},
   "outputs": [
    {
     "data": {
      "text/plain": [
       "2×3 Array{Int64,2}:\n",
       " 1  3  4\n",
       " 2  4  6"
      ]
     },
     "execution_count": 127,
     "metadata": {},
     "output_type": "execute_result"
    }
   ],
   "source": [
    "u = [1,2]\n",
    "v = [3,4]\n",
    "result = zero(u)\n",
    "for i=1:size(u,1)\n",
    "    result[i] = u[i] + v[i]\n",
    "end\n",
    "[u v result]"
   ]
  },
  {
   "cell_type": "markdown",
   "metadata": {},
   "source": [
    "Suppose we now want to add vector `x` to vector `y`:"
   ]
  },
  {
   "cell_type": "code",
   "execution_count": 128,
   "metadata": {},
   "outputs": [],
   "source": [
    "x = [9,7,6,5]\n",
    "y = [2,2,2,1];"
   ]
  },
  {
   "cell_type": "markdown",
   "metadata": {},
   "source": [
    "We can do by copying the code from above as:"
   ]
  },
  {
   "cell_type": "code",
   "execution_count": 129,
   "metadata": {},
   "outputs": [
    {
     "data": {
      "text/plain": [
       "4×3 Array{Int64,2}:\n",
       " 9  2  11\n",
       " 7  2   9\n",
       " 6  2   8\n",
       " 5  1   6"
      ]
     },
     "execution_count": 129,
     "metadata": {},
     "output_type": "execute_result"
    }
   ],
   "source": [
    "u = x\n",
    "v = y\n",
    "result = zero(u)\n",
    "for i=1:size(u,1)\n",
    "    result[i] = u[i] + v[i]\n",
    "end\n",
    "[u v result]"
   ]
  },
  {
   "cell_type": "markdown",
   "metadata": {},
   "source": [
    "This can and should be avoided by using a function with the code that was repeated. "
   ]
  },
  {
   "cell_type": "code",
   "execution_count": 130,
   "metadata": {},
   "outputs": [
    {
     "data": {
      "text/plain": [
       "addVectors (generic function with 1 method)"
      ]
     },
     "execution_count": 130,
     "metadata": {},
     "output_type": "execute_result"
    }
   ],
   "source": [
    "function addVectors(u,v)\n",
    "    if size(u,1) != size(v,1)\n",
    "        println(\"The size of u (= $(size(u,1))) is not equal to the size of v (= $(size(v,1))) \")\n",
    "        return []\n",
    "    end\n",
    "    result = zero(u)\n",
    "    for i=1:size(u,1)\n",
    "        result[i] = u[i] + v[i]\n",
    "    end\n",
    "    return result\n",
    "end"
   ]
  },
  {
   "cell_type": "code",
   "execution_count": 131,
   "metadata": {},
   "outputs": [
    {
     "data": {
      "text/plain": [
       "4×3 Array{Int64,2}:\n",
       " 9  2  11\n",
       " 7  2   9\n",
       " 6  2   8\n",
       " 5  1   6"
      ]
     },
     "execution_count": 131,
     "metadata": {},
     "output_type": "execute_result"
    }
   ],
   "source": [
    "[u v addVectors(u,v)]"
   ]
  },
  {
   "cell_type": "code",
   "execution_count": 132,
   "metadata": {},
   "outputs": [
    {
     "data": {
      "text/plain": [
       "4×3 Array{Int64,2}:\n",
       " 9  2  11\n",
       " 7  2   9\n",
       " 6  2   8\n",
       " 5  1   6"
      ]
     },
     "execution_count": 132,
     "metadata": {},
     "output_type": "execute_result"
    }
   ],
   "source": [
    "[x y addVectors(x,y)]"
   ]
  },
  {
   "cell_type": "code",
   "execution_count": 133,
   "metadata": {},
   "outputs": [
    {
     "data": {
      "text/plain": [
       "4×3 Array{Int64,2}:\n",
       " 9  9  18\n",
       " 7  7  14\n",
       " 6  6  12\n",
       " 5  5  10"
      ]
     },
     "execution_count": 133,
     "metadata": {},
     "output_type": "execute_result"
    }
   ],
   "source": [
    "[x u addVectors(x,u)]"
   ]
  },
  {
   "cell_type": "markdown",
   "metadata": {},
   "source": [
    "### Scope of Variables"
   ]
  },
  {
   "cell_type": "markdown",
   "metadata": {},
   "source": [
    "Note that within the function `addVectors`, the output is the sum of the vectors `u` and `v`, but calling it with the vectors `x` and `y` results their sum. The variables `u` and `v` within the function refer to those given when the function was called. Thus, the same function can be used to add any two vectors of the same length. The behavior of the variables `u` and `v` within the function has to do with what is called the scope of variables and how variables are passed to functions. In Julia variables are passed \"by reference\" rather than \"by value\". This makes passing large structures to functions very efficient compared to passing arguments to the function \"by value\", which requies making a copy of the argument.  \n",
    "\n",
    "However, at first, the way functions behave can be confusing as shown below. "
   ]
  },
  {
   "cell_type": "code",
   "execution_count": 134,
   "metadata": {},
   "outputs": [
    {
     "data": {
      "text/plain": [
       "addOne (generic function with 1 method)"
      ]
     },
     "execution_count": 134,
     "metadata": {},
     "output_type": "execute_result"
    }
   ],
   "source": [
    "function addOne(x) # x is a local variable pointing to the value of the argument of the function \n",
    "    @show(x) \n",
    "    x = x + 1     # x is now redirected to point the the value of (x+1)\n",
    "    @show(x)\n",
    "    return x\n",
    "end"
   ]
  },
  {
   "cell_type": "code",
   "execution_count": 135,
   "metadata": {},
   "outputs": [
    {
     "name": "stdout",
     "output_type": "stream",
     "text": [
      "y = 2\n",
      "x = 2\n",
      "x = 3\n",
      "addOne(y) = 3\n",
      "y = 2\n"
     ]
    }
   ],
   "source": [
    "y = 2\n",
    "@show(y)\n",
    "@show(addOne(y))\n",
    "@show(y);             # y is still pointing to 2"
   ]
  },
  {
   "cell_type": "code",
   "execution_count": 136,
   "metadata": {},
   "outputs": [
    {
     "data": {
      "text/plain": [
       "addOneToVec (generic function with 1 method)"
      ]
     },
     "execution_count": 136,
     "metadata": {},
     "output_type": "execute_result"
    }
   ],
   "source": [
    "function addOneToVec(x) # x is a local variable pointing to the vector argument of the function \n",
    "    @show(x) \n",
    "    x = x .+ 1          # x is now redirected to point a new vector with the values of (x+1)\n",
    "    @show(x)\n",
    "    return x\n",
    "end    "
   ]
  },
  {
   "cell_type": "code",
   "execution_count": 137,
   "metadata": {},
   "outputs": [
    {
     "name": "stdout",
     "output_type": "stream",
     "text": [
      "u = [1, 2]\n",
      "x = [1, 2]\n",
      "x = [2, 3]\n",
      "addOneToVec(u) = [2, 3]\n",
      "u = [1, 2]\n"
     ]
    },
    {
     "data": {
      "text/plain": [
       "2-element Array{Int64,1}:\n",
       " 1\n",
       " 2"
      ]
     },
     "execution_count": 137,
     "metadata": {},
     "output_type": "execute_result"
    }
   ],
   "source": [
    "u = [1,2]\n",
    "@show(u)\n",
    "@show(addOneToVec(u))\n",
    "@show(u)"
   ]
  },
  {
   "cell_type": "markdown",
   "metadata": {},
   "source": [
    "Compare the behavior of the following funtion with that above:"
   ]
  },
  {
   "cell_type": "code",
   "execution_count": 138,
   "metadata": {},
   "outputs": [
    {
     "data": {
      "text/plain": [
       "addOneToVec! (generic function with 1 method)"
      ]
     },
     "execution_count": 138,
     "metadata": {},
     "output_type": "execute_result"
    }
   ],
   "source": [
    "function addOneToVec!(x) # x is a local variable pointing to the vector argument of the function \n",
    "    @show(x) \n",
    "    x  .= x .+ 1          # x still points to the same vector, but the elemets in the vector are modified\n",
    "    @show(x)\n",
    "    return x\n",
    "end    "
   ]
  },
  {
   "cell_type": "code",
   "execution_count": 139,
   "metadata": {},
   "outputs": [
    {
     "name": "stdout",
     "output_type": "stream",
     "text": [
      "u = [1, 2]\n",
      "x = [1, 2]\n",
      "x = [2, 3]\n",
      "addOneToVec!(u) = [2, 3]\n",
      "u = [2, 3]\n"
     ]
    },
    {
     "data": {
      "text/plain": [
       "2-element Array{Int64,1}:\n",
       " 2\n",
       " 3"
      ]
     },
     "execution_count": 139,
     "metadata": {},
     "output_type": "execute_result"
    }
   ],
   "source": [
    "u = [1,2]\n",
    "@show(u)\n",
    "@show(addOneToVec!(u))\n",
    "@show(u)"
   ]
  },
  {
   "cell_type": "code",
   "execution_count": 140,
   "metadata": {},
   "outputs": [
    {
     "data": {
      "text/plain": [
       "addOneToVecLoop! (generic function with 1 method)"
      ]
     },
     "execution_count": 140,
     "metadata": {},
     "output_type": "execute_result"
    }
   ],
   "source": [
    "function addOneToVecLoop!(x) # x is a local variable pointing to the vector argument of the function \n",
    "    @show(x)\n",
    "    for i in 1:size(x,1)\n",
    "        x[i] += 1 # x still points to the same vector, but the elemets in the vector x are are modified here\n",
    "    end\n",
    "    @show(x)\n",
    "    return x\n",
    "end    "
   ]
  },
  {
   "cell_type": "code",
   "execution_count": 141,
   "metadata": {},
   "outputs": [
    {
     "name": "stdout",
     "output_type": "stream",
     "text": [
      "u = [1, 2]\n",
      "x = [1, 2]\n",
      "x = [2, 3]\n",
      "addOneToVecLoop!(u) = [2, 3]\n",
      "u = [2, 3]\n"
     ]
    },
    {
     "data": {
      "text/plain": [
       "2-element Array{Int64,1}:\n",
       " 2\n",
       " 3"
      ]
     },
     "execution_count": 141,
     "metadata": {},
     "output_type": "execute_result"
    }
   ],
   "source": [
    "u = [1,2]\n",
    "@show(u)\n",
    "@show(addOneToVecLoop!(u))\n",
    "@show(u)"
   ]
  },
  {
   "cell_type": "markdown",
   "metadata": {},
   "source": [
    "Nice explanation of the difference in bahavior of these functions is given here: [The Map is Not the Territory!](http://www.johnmyleswhite.com/notebook/2014/09/06/values-vs-bindings-the-map-is-not-the-territory/)"
   ]
  },
  {
   "cell_type": "markdown",
   "metadata": {},
   "source": [
    "#### Functions can have arguments with default values"
   ]
  },
  {
   "cell_type": "code",
   "execution_count": 142,
   "metadata": {},
   "outputs": [
    {
     "data": {
      "text/plain": [
       "addYToVec! (generic function with 2 methods)"
      ]
     },
     "execution_count": 142,
     "metadata": {},
     "output_type": "execute_result"
    }
   ],
   "source": [
    "function addYToVec!(x,y=1) # x is a local variable pointing to the vector argument of the function \n",
    "    @show(x) \n",
    "    x .= x .+ y          # x still points to the same vector, but the elemets in the vector are modified\n",
    "    @show(x)\n",
    "    return x\n",
    "end    "
   ]
  },
  {
   "cell_type": "code",
   "execution_count": 143,
   "metadata": {},
   "outputs": [
    {
     "name": "stdout",
     "output_type": "stream",
     "text": [
      "u = [1, 2]\n",
      "x = [1, 2]\n",
      "x = [2, 3]\n",
      "addYToVec!(u) = [2, 3]\n",
      "u = [2, 3]\n"
     ]
    },
    {
     "data": {
      "text/plain": [
       "2-element Array{Int64,1}:\n",
       " 2\n",
       " 3"
      ]
     },
     "execution_count": 143,
     "metadata": {},
     "output_type": "execute_result"
    }
   ],
   "source": [
    "u = [1,2]\n",
    "@show(u)\n",
    "@show(addYToVec!(u)) # default value is added to each element of u\n",
    "@show(u)"
   ]
  },
  {
   "cell_type": "code",
   "execution_count": 144,
   "metadata": {},
   "outputs": [
    {
     "name": "stdout",
     "output_type": "stream",
     "text": [
      "u = [1, 2]\n",
      "x = [1, 2]\n",
      "x = [3, 4]\n",
      "addYToVec!(u, 2) = [3, 4]\n",
      "u = [3, 4]\n"
     ]
    },
    {
     "data": {
      "text/plain": [
       "2-element Array{Int64,1}:\n",
       " 3\n",
       " 4"
      ]
     },
     "execution_count": 144,
     "metadata": {},
     "output_type": "execute_result"
    }
   ],
   "source": [
    "u = [1,2]\n",
    "@show(u)\n",
    "@show(addYToVec!(u,2))\n",
    "@show(u)"
   ]
  },
  {
   "cell_type": "code",
   "execution_count": 145,
   "metadata": {},
   "outputs": [
    {
     "data": {
      "text/plain": [
       "addkTimesYToVec! (generic function with 3 methods)"
      ]
     },
     "execution_count": 145,
     "metadata": {},
     "output_type": "execute_result"
    }
   ],
   "source": [
    "function addkTimesYToVec!(x,k=1,y=2) # x is a local variable pointing to the vector argument of the function \n",
    "    @show(x) \n",
    "    x .= x .+ y*k          # x still points to the same vector, but the elemets in the vector are modified\n",
    "    @show(x)\n",
    "    return x\n",
    "end    "
   ]
  },
  {
   "cell_type": "code",
   "execution_count": 146,
   "metadata": {},
   "outputs": [
    {
     "name": "stdout",
     "output_type": "stream",
     "text": [
      "u = [1, 2]\n",
      "x = [1, 2]\n",
      "x = [3, 4]\n",
      "addkTimesYToVec!(u) = [3, 4]\n",
      "u = [3, 4]\n"
     ]
    },
    {
     "data": {
      "text/plain": [
       "2-element Array{Int64,1}:\n",
       " 3\n",
       " 4"
      ]
     },
     "execution_count": 146,
     "metadata": {},
     "output_type": "execute_result"
    }
   ],
   "source": [
    "u = [1,2]\n",
    "@show(u)\n",
    "@show(addkTimesYToVec!(u))\n",
    "@show(u)"
   ]
  },
  {
   "cell_type": "code",
   "execution_count": 147,
   "metadata": {},
   "outputs": [
    {
     "name": "stdout",
     "output_type": "stream",
     "text": [
      "x = [3, 4]\n",
      "x = [7, 8]\n"
     ]
    },
    {
     "data": {
      "text/plain": [
       "2-element Array{Int64,1}:\n",
       " 7\n",
       " 8"
      ]
     },
     "execution_count": 147,
     "metadata": {},
     "output_type": "execute_result"
    }
   ],
   "source": [
    "addkTimesYToVec!(u,2,2)"
   ]
  },
  {
   "cell_type": "markdown",
   "metadata": {},
   "source": [
    "###  Functions with key value pairs"
   ]
  },
  {
   "cell_type": "code",
   "execution_count": 148,
   "metadata": {},
   "outputs": [
    {
     "data": {
      "text/plain": [
       "addcxToV! (generic function with 1 method)"
      ]
     },
     "execution_count": 148,
     "metadata": {},
     "output_type": "execute_result"
    }
   ],
   "source": [
    "function addcxToV!(v;c=1,x=2)\n",
    "    v .= c*x .+ v\n",
    "end"
   ]
  },
  {
   "cell_type": "code",
   "execution_count": 149,
   "metadata": {},
   "outputs": [
    {
     "name": "stdout",
     "output_type": "stream",
     "text": [
      "addcxToV!(v) = [4, 7]\n"
     ]
    },
    {
     "data": {
      "text/plain": [
       "2-element Array{Int64,1}:\n",
       " 4\n",
       " 7"
      ]
     },
     "execution_count": 149,
     "metadata": {},
     "output_type": "execute_result"
    }
   ],
   "source": [
    "v = [2,5]\n",
    "@show(addcxToV!(v))"
   ]
  },
  {
   "cell_type": "code",
   "execution_count": 150,
   "metadata": {},
   "outputs": [
    {
     "name": "stdout",
     "output_type": "stream",
     "text": [
      "addcxToV!(v, x = 1) = [3, 6]\n"
     ]
    },
    {
     "data": {
      "text/plain": [
       "2-element Array{Int64,1}:\n",
       " 3\n",
       " 6"
      ]
     },
     "execution_count": 150,
     "metadata": {},
     "output_type": "execute_result"
    }
   ],
   "source": [
    "v = [2,5]\n",
    "@show(addcxToV!(v,x=1))"
   ]
  },
  {
   "cell_type": "markdown",
   "metadata": {},
   "source": [
    "### Multiple Dispatch of \"+\" Operator (Overloading Operators)\n",
    "\n",
    "What the \"+\" operator does depends on the arguments. The function defined below will be called when it is used with two BankAccount arguments. Other operators can be similarly \"overloaded\" to work with user-defined types."
   ]
  },
  {
   "cell_type": "code",
   "execution_count": 151,
   "metadata": {},
   "outputs": [
    {
     "data": {
      "text/plain": [
       "+ (generic function with 225 methods)"
      ]
     },
     "execution_count": 151,
     "metadata": {},
     "output_type": "execute_result"
    }
   ],
   "source": [
    "import Base.+\n",
    "function +(a1::BankAccount,a2::BankAccount)\n",
    "    a1.balance += a2.balance\n",
    "    a2.balance = 0\n",
    "end"
   ]
  },
  {
   "cell_type": "code",
   "execution_count": 152,
   "metadata": {},
   "outputs": [
    {
     "name": "stdout",
     "output_type": "stream",
     "text": [
      "a1 = BankAccount(1234, \"Tom\", \"Smith\", 2000.5)\n",
      "a2 = BankAccount(4321, \"Jim\", \"Shanks\", 500.0)\n",
      "a1 = BankAccount(1234, \"Tom\", \"Smith\", 2500.5)\n",
      "a2 = BankAccount(4321, \"Jim\", \"Shanks\", 0.0)\n"
     ]
    },
    {
     "data": {
      "text/plain": [
       "BankAccount(4321, \"Jim\", \"Shanks\", 0.0)"
      ]
     },
     "execution_count": 152,
     "metadata": {},
     "output_type": "execute_result"
    }
   ],
   "source": [
    "@show(a1,a2)\n",
    "a1 + a2\n",
    "@show(a1,a2)"
   ]
  },
  {
   "cell_type": "code",
   "execution_count": 153,
   "metadata": {},
   "outputs": [
    {
     "name": "stdout",
     "output_type": "stream",
     "text": [
      "a1 = BankAccount(1234, \"Tom\", \"Smith\", 2500.5)\n",
      "a2 = BankAccount(4321, \"Jim\", \"Shanks\", 0.0)\n",
      "a1 = BankAccount(1234, \"Tom\", \"Smith\", 2500.5)\n",
      "a2 = BankAccount(4321, \"Jim\", \"Shanks\", 0.0)\n"
     ]
    },
    {
     "data": {
      "text/plain": [
       "BankAccount(4321, \"Jim\", \"Shanks\", 0.0)"
      ]
     },
     "execution_count": 153,
     "metadata": {},
     "output_type": "execute_result"
    }
   ],
   "source": [
    "@show(a1,a2)\n",
    "+(a1,a2)\n",
    "@show(a1,a2)"
   ]
  },
  {
   "cell_type": "markdown",
   "metadata": {},
   "source": [
    "### Keyword arguments cannot be used for multiple dispatch \n",
    "\n",
    "See example below."
   ]
  },
  {
   "cell_type": "code",
   "execution_count": 154,
   "metadata": {},
   "outputs": [],
   "source": [
    "struct T1\n",
    "    a\n",
    "end\n",
    "struct T2\n",
    "    a\n",
    "end\n",
    "struct T3\n",
    "    a\n",
    "end"
   ]
  },
  {
   "cell_type": "code",
   "execution_count": 155,
   "metadata": {},
   "outputs": [
    {
     "data": {
      "text/plain": [
       "f1 (generic function with 1 method)"
      ]
     },
     "execution_count": 155,
     "metadata": {},
     "output_type": "execute_result"
    }
   ],
   "source": [
    "function f1(;a::T1=T1(1),b::T2=T2(2))\n",
    "    println(\"called f1.1\")\n",
    "end\n",
    "function f1(;a::T1=T1(1),b::T3=T2(2))\n",
    "    println(\"called f1.2\")\n",
    "end"
   ]
  },
  {
   "cell_type": "code",
   "execution_count": 156,
   "metadata": {},
   "outputs": [
    {
     "data": {
      "text/plain": [
       "f1 (generic function with 3 methods)"
      ]
     },
     "execution_count": 156,
     "metadata": {},
     "output_type": "execute_result"
    }
   ],
   "source": [
    "function f1(a::T1,b::T2)\n",
    "    println(\"called f1.1\")\n",
    "end\n",
    "function f1(a::T1,b::T3)\n",
    "    println(\"called f1.2\")\n",
    "end"
   ]
  },
  {
   "cell_type": "markdown",
   "metadata": {},
   "source": [
    "Observe that there is only once version of the function `f1`. The error message below indicates that this is the second version of `f1`."
   ]
  },
  {
   "cell_type": "code",
   "execution_count": 157,
   "metadata": {},
   "outputs": [
    {
     "name": "stdout",
     "output_type": "stream",
     "text": [
      "called f1.1\n"
     ]
    }
   ],
   "source": [
    "t1 = T1(1)\n",
    "t2 = T2(2)\n",
    "f1(t1,t2)"
   ]
  },
  {
   "cell_type": "code",
   "execution_count": 158,
   "metadata": {},
   "outputs": [
    {
     "name": "stdout",
     "output_type": "stream",
     "text": [
      "called f1.2\n"
     ]
    }
   ],
   "source": [
    "t1 = T1(1)\n",
    "t3 = T3(2)\n",
    "f1(t1,t3)"
   ]
  },
  {
   "cell_type": "markdown",
   "metadata": {},
   "source": [
    "### Often loops faster than vectorizng!"
   ]
  },
  {
   "cell_type": "code",
   "execution_count": 159,
   "metadata": {},
   "outputs": [
    {
     "data": {
      "text/plain": [
       "f1 (generic function with 4 methods)"
      ]
     },
     "execution_count": 159,
     "metadata": {},
     "output_type": "execute_result"
    }
   ],
   "source": [
    "function f1(n)\n",
    "    mapreduce(x -> x^2, +, 1:n)\n",
    "end"
   ]
  },
  {
   "cell_type": "code",
   "execution_count": 160,
   "metadata": {},
   "outputs": [
    {
     "data": {
      "text/plain": [
       "f2 (generic function with 1 method)"
      ]
     },
     "execution_count": 160,
     "metadata": {},
     "output_type": "execute_result"
    }
   ],
   "source": [
    "function f2(n)\n",
    "    reduce(+,(1:n).^2)\n",
    "end"
   ]
  },
  {
   "cell_type": "code",
   "execution_count": 161,
   "metadata": {},
   "outputs": [
    {
     "name": "stdout",
     "output_type": "stream",
     "text": [
      "  0.000009 seconds\n"
     ]
    },
    {
     "data": {
      "text/plain": [
       "333333833333500000"
      ]
     },
     "execution_count": 161,
     "metadata": {},
     "output_type": "execute_result"
    }
   ],
   "source": [
    "@time f1(1_000_000)"
   ]
  },
  {
   "cell_type": "code",
   "execution_count": 162,
   "metadata": {},
   "outputs": [
    {
     "name": "stdout",
     "output_type": "stream",
     "text": [
      "  0.001193 seconds (2 allocations: 7.629 MiB)\n"
     ]
    },
    {
     "data": {
      "text/plain": [
       "333333833333500000"
      ]
     },
     "execution_count": 162,
     "metadata": {},
     "output_type": "execute_result"
    }
   ],
   "source": [
    "@time f2(1_000_000)"
   ]
  },
  {
   "cell_type": "code",
   "execution_count": 163,
   "metadata": {},
   "outputs": [
    {
     "data": {
      "text/plain": [
       "f3 (generic function with 1 method)"
      ]
     },
     "execution_count": 163,
     "metadata": {},
     "output_type": "execute_result"
    }
   ],
   "source": [
    "function f3(n)\n",
    "    sum = 0\n",
    "    for i=1:n\n",
    "        sum += i^2\n",
    "    end\n",
    "    return sum\n",
    "end    "
   ]
  },
  {
   "cell_type": "code",
   "execution_count": 164,
   "metadata": {},
   "outputs": [
    {
     "name": "stdout",
     "output_type": "stream",
     "text": [
      "  0.000000 seconds\n"
     ]
    },
    {
     "data": {
      "text/plain": [
       "333333833333500000"
      ]
     },
     "execution_count": 164,
     "metadata": {},
     "output_type": "execute_result"
    }
   ],
   "source": [
    "@time f3(1_000_000)"
   ]
  },
  {
   "cell_type": "markdown",
   "metadata": {},
   "source": [
    "### Exercise 1"
   ]
  },
  {
   "cell_type": "markdown",
   "metadata": {},
   "source": [
    "* Write a function that uses loops to get the sum of two matrices.\n",
    "\n",
    "* Write a function with two matrix arguments that adds the second matrix to the first. \n",
    "\n",
    "* Write a function that uses loops to get the product of two matrices."
   ]
  },
  {
   "cell_type": "markdown",
   "metadata": {
    "toc-hr-collapsed": true,
    "toc-nb-collapsed": true
   },
   "source": [
    "## Reading and Writing from Files"
   ]
  },
  {
   "cell_type": "markdown",
   "metadata": {},
   "source": [
    "### Text Files"
   ]
  },
  {
   "cell_type": "code",
   "execution_count": 165,
   "metadata": {},
   "outputs": [],
   "source": [
    "using Printf # needed for formatted print commands"
   ]
  },
  {
   "cell_type": "code",
   "execution_count": 166,
   "metadata": {},
   "outputs": [
    {
     "data": {
      "text/plain": [
       "5×3 Array{Float64,2}:\n",
       " -0.243188   2.11002   -0.293474\n",
       "  0.115541  -0.791756   0.383593\n",
       "  1.23965    0.295535   0.624417\n",
       " -1.64212   -0.309248  -0.00537324\n",
       " -0.85672   -1.05915    0.502534"
      ]
     },
     "execution_count": 166,
     "metadata": {},
     "output_type": "execute_result"
    }
   ],
   "source": [
    "A = randn(5,3)"
   ]
  },
  {
   "cell_type": "code",
   "execution_count": 167,
   "metadata": {},
   "outputs": [],
   "source": [
    "out = open(\"outFile\",\"w\")\n",
    "n,p = size(A)\n",
    "for j=1:p\n",
    "    for i=1:n\n",
    "        @printf(out,\"%10.5f \", A[i,j])\n",
    "    end\n",
    "    @printf(out,\"\\n\")\n",
    "end\n",
    "close(out)"
   ]
  },
  {
   "cell_type": "code",
   "execution_count": 168,
   "metadata": {},
   "outputs": [
    {
     "name": "stdout",
     "output_type": "stream",
     "text": [
      "  -0.24319    0.11554    1.23965   -1.64212   -0.85672 \n",
      "   2.11002   -0.79176    0.29553   -0.30925   -1.05915 \n",
      "  -0.29347    0.38359    0.62442   -0.00537    0.50253 \n"
     ]
    }
   ],
   "source": [
    ";cat outFile"
   ]
  },
  {
   "cell_type": "code",
   "execution_count": 169,
   "metadata": {},
   "outputs": [],
   "source": [
    "out = open(\"outFile\",\"w\")\n",
    "n,p = size(A)\n",
    "for j=1:p\n",
    "    for i=1:n\n",
    "        print(out,A[i,j],\" \")\n",
    "    end\n",
    "    print(out,\"\\n\")\n",
    "end\n",
    "close(out)"
   ]
  },
  {
   "cell_type": "code",
   "execution_count": 170,
   "metadata": {},
   "outputs": [
    {
     "name": "stdout",
     "output_type": "stream",
     "text": [
      "-0.2431884174967946 0.11554132994760817 1.2396518137011185 -1.6421199024818836 -0.8567200101471943 \n",
      "2.110017071943788 -0.7917555615087228 0.29553472225843075 -0.3092475824232674 -1.0591480653224863 \n",
      "-0.29347441972603305 0.38359334268691614 0.6244169090955498 -0.005373238917211167 0.5025341402728681 \n"
     ]
    }
   ],
   "source": [
    ";cat outFile"
   ]
  },
  {
   "cell_type": "code",
   "execution_count": 171,
   "metadata": {},
   "outputs": [],
   "source": [
    "out = open(\"outFile\",\"w\")\n",
    "n,p = size(A)\n",
    "for j=1:p\n",
    "    for i=1:n\n",
    "        @printf(out,\"%10.5e \", A[i,j])\n",
    "    end\n",
    "    @printf(out,\"\\n\")\n",
    "end\n",
    "close(out)"
   ]
  },
  {
   "cell_type": "code",
   "execution_count": 172,
   "metadata": {},
   "outputs": [
    {
     "name": "stdout",
     "output_type": "stream",
     "text": [
      "-2.43188e-01 1.15541e-01 1.23965e+00 -1.64212e+00 -8.56720e-01 \n",
      "2.11002e+00 -7.91756e-01 2.95535e-01 -3.09248e-01 -1.05915e+00 \n",
      "-2.93474e-01 3.83593e-01 6.24417e-01 -5.37324e-03 5.02534e-01 \n"
     ]
    }
   ],
   "source": [
    ";cat outFile"
   ]
  },
  {
   "cell_type": "code",
   "execution_count": 173,
   "metadata": {},
   "outputs": [
    {
     "name": "stdout",
     "output_type": "stream",
     "text": [
      "-2.43188e-01 1.15541e-01 1.23965e+00 -1.64212e+00 -8.56720e-01 \n",
      "2.11002e+00 -7.91756e-01 2.95535e-01 -3.09248e-01 -1.05915e+00 \n",
      "-2.93474e-01 3.83593e-01 6.24417e-01 -5.37324e-03 5.02534e-01 \n"
     ]
    }
   ],
   "source": [
    "inStream = open(\"outFile\",\"r\")\n",
    "for line = eachline(inStream)\n",
    "    println(line)\n",
    "end\n",
    "close(inStream)"
   ]
  },
  {
   "cell_type": "code",
   "execution_count": 174,
   "metadata": {},
   "outputs": [
    {
     "data": {
      "text/plain": [
       "5×3 Array{Float64,2}:\n",
       " 2.26671e-314  2.24014e-314  2.34871e-314\n",
       " 2.26671e-314  2.34871e-314  2.34871e-314\n",
       " 2.26671e-314  2.24014e-314  2.34871e-314\n",
       " 2.26671e-314  2.34871e-314  2.34871e-314\n",
       " 2.34871e-314  2.24014e-314  2.34871e-314"
      ]
     },
     "execution_count": 174,
     "metadata": {},
     "output_type": "execute_result"
    }
   ],
   "source": [
    "B = Array{Float64,2}(undef,5,3)"
   ]
  },
  {
   "cell_type": "code",
   "execution_count": 175,
   "metadata": {},
   "outputs": [
    {
     "data": {
      "text/plain": [
       "5×3 Array{Float64,2}:\n",
       " 0.0  0.0  0.0\n",
       " 0.0  0.0  0.0\n",
       " 0.0  0.0  0.0\n",
       " 0.0  0.0  0.0\n",
       " 0.0  0.0  0.0"
      ]
     },
     "execution_count": 175,
     "metadata": {},
     "output_type": "execute_result"
    }
   ],
   "source": [
    "B = zeros(5,3)"
   ]
  },
  {
   "cell_type": "code",
   "execution_count": 176,
   "metadata": {},
   "outputs": [],
   "source": [
    "inStream = open(\"outFile\",\"r\")\n",
    "j = 1\n",
    "for line = eachline(inStream)\n",
    "    B[:,j] = parse.(Float64,split(line))\n",
    "    j += 1\n",
    "end\n",
    "close(inStream)"
   ]
  },
  {
   "cell_type": "code",
   "execution_count": 177,
   "metadata": {},
   "outputs": [
    {
     "data": {
      "text/plain": [
       "5×3 Array{Float64,2}:\n",
       " -0.243188   2.11002   -0.293474\n",
       "  0.115541  -0.791756   0.383593\n",
       "  1.23965    0.295535   0.624417\n",
       " -1.64212   -0.309248  -0.00537324\n",
       " -0.85672   -1.05915    0.502534"
      ]
     },
     "execution_count": 177,
     "metadata": {},
     "output_type": "execute_result"
    }
   ],
   "source": [
    "B"
   ]
  },
  {
   "cell_type": "code",
   "execution_count": 178,
   "metadata": {},
   "outputs": [
    {
     "name": "stdout",
     "output_type": "stream",
     "text": [
      "-2.43188e-01 1.15541e-01 1.23965e+00 -1.64212e+00 -8.56720e-01 \n",
      "2.11002e+00 -7.91756e-01 2.95535e-01 -3.09248e-01 -1.05915e+00 \n",
      "-2.93474e-01 3.83593e-01 6.24417e-01 -5.37324e-03 5.02534e-01 \n"
     ]
    }
   ],
   "source": [
    ";cat outFile"
   ]
  },
  {
   "cell_type": "markdown",
   "metadata": {},
   "source": [
    "### Binary Files\n",
    "\n",
    "Write matrix A. In Julia matrices are stored by column (column-major). So writing should be done by column."
   ]
  },
  {
   "cell_type": "code",
   "execution_count": 179,
   "metadata": {},
   "outputs": [],
   "source": [
    "binOut = open(\"out.bin\",\"w\")\n",
    "n,p = size(A)\n",
    "write(binOut,n,p)\n",
    "for j=1:p, i=1:n\n",
    "    write(binOut,A[i,j])\n",
    "end\n",
    "close(binOut)"
   ]
  },
  {
   "cell_type": "code",
   "execution_count": 180,
   "metadata": {},
   "outputs": [
    {
     "data": {
      "text/plain": [
       "IOStream(<file out.bin>)"
      ]
     },
     "execution_count": 180,
     "metadata": {},
     "output_type": "execute_result"
    }
   ],
   "source": [
    "binIn = open(\"out.bin\",\"r\")"
   ]
  },
  {
   "cell_type": "markdown",
   "metadata": {},
   "source": [
    "### Reading from a binary file is easy."
   ]
  },
  {
   "cell_type": "code",
   "execution_count": 181,
   "metadata": {},
   "outputs": [
    {
     "data": {
      "text/plain": [
       "3"
      ]
     },
     "execution_count": 181,
     "metadata": {},
     "output_type": "execute_result"
    }
   ],
   "source": [
    "mySize = zeros(Int64,2)\n",
    "read!(binIn,mySize)\n",
    "n = mySize[1]\n",
    "p = mySize[2]"
   ]
  },
  {
   "cell_type": "code",
   "execution_count": 182,
   "metadata": {},
   "outputs": [],
   "source": [
    "C = zeros(n,p)\n",
    "read!(binIn,C)\n",
    "close(binIn)"
   ]
  },
  {
   "cell_type": "code",
   "execution_count": 183,
   "metadata": {},
   "outputs": [
    {
     "data": {
      "text/plain": [
       "5×3 Array{Float64,2}:\n",
       " -0.243188   2.11002   -0.293474\n",
       "  0.115541  -0.791756   0.383593\n",
       "  1.23965    0.295535   0.624417\n",
       " -1.64212   -0.309248  -0.00537324\n",
       " -0.85672   -1.05915    0.502534"
      ]
     },
     "execution_count": 183,
     "metadata": {},
     "output_type": "execute_result"
    }
   ],
   "source": [
    "C"
   ]
  },
  {
   "cell_type": "markdown",
   "metadata": {
    "toc-hr-collapsed": true
   },
   "source": [
    "## Working with DataFrames"
   ]
  },
  {
   "cell_type": "code",
   "execution_count": 184,
   "metadata": {},
   "outputs": [],
   "source": [
    "using DataFrames"
   ]
  },
  {
   "cell_type": "markdown",
   "metadata": {},
   "source": [
    "Needs to be completed"
   ]
  },
  {
   "cell_type": "markdown",
   "metadata": {},
   "source": [
    "## Plotting"
   ]
  },
  {
   "cell_type": "code",
   "execution_count": 2,
   "metadata": {},
   "outputs": [
    {
     "data": {
      "image/svg+xml": [
       "<?xml version=\"1.0\" encoding=\"utf-8\"?>\n",
       "<svg xmlns=\"http://www.w3.org/2000/svg\" xmlns:xlink=\"http://www.w3.org/1999/xlink\" width=\"600\" height=\"400\" viewBox=\"0 0 2400 1600\">\n",
       "<defs>\n",
       "  <clipPath id=\"clip0100\">\n",
       "    <rect x=\"0\" y=\"0\" width=\"2400\" height=\"1600\"/>\n",
       "  </clipPath>\n",
       "</defs>\n",
       "<path clip-path=\"url(#clip0100)\" d=\"\n",
       "M0 1600 L2400 1600 L2400 0 L0 0  Z\n",
       "  \" fill=\"#ffffff\" fill-rule=\"evenodd\" fill-opacity=\"1\"/>\n",
       "<defs>\n",
       "  <clipPath id=\"clip0101\">\n",
       "    <rect x=\"480\" y=\"0\" width=\"1681\" height=\"1600\"/>\n",
       "  </clipPath>\n",
       "</defs>\n",
       "<path clip-path=\"url(#clip0100)\" d=\"\n",
       "M153.898 1487.47 L2352.76 1487.47 L2352.76 47.2441 L153.898 47.2441  Z\n",
       "  \" fill=\"#ffffff\" fill-rule=\"evenodd\" fill-opacity=\"1\"/>\n",
       "<defs>\n",
       "  <clipPath id=\"clip0102\">\n",
       "    <rect x=\"153\" y=\"47\" width=\"2200\" height=\"1441\"/>\n",
       "  </clipPath>\n",
       "</defs>\n",
       "<polyline clip-path=\"url(#clip0102)\" style=\"stroke:#000000; stroke-width:2; stroke-opacity:0.1; fill:none\" points=\"\n",
       "  416.656,1487.47 416.656,47.2441 \n",
       "  \"/>\n",
       "<polyline clip-path=\"url(#clip0102)\" style=\"stroke:#000000; stroke-width:2; stroke-opacity:0.1; fill:none\" points=\"\n",
       "  695.547,1487.47 695.547,47.2441 \n",
       "  \"/>\n",
       "<polyline clip-path=\"url(#clip0102)\" style=\"stroke:#000000; stroke-width:2; stroke-opacity:0.1; fill:none\" points=\"\n",
       "  974.437,1487.47 974.437,47.2441 \n",
       "  \"/>\n",
       "<polyline clip-path=\"url(#clip0102)\" style=\"stroke:#000000; stroke-width:2; stroke-opacity:0.1; fill:none\" points=\"\n",
       "  1253.33,1487.47 1253.33,47.2441 \n",
       "  \"/>\n",
       "<polyline clip-path=\"url(#clip0102)\" style=\"stroke:#000000; stroke-width:2; stroke-opacity:0.1; fill:none\" points=\"\n",
       "  1532.22,1487.47 1532.22,47.2441 \n",
       "  \"/>\n",
       "<polyline clip-path=\"url(#clip0102)\" style=\"stroke:#000000; stroke-width:2; stroke-opacity:0.1; fill:none\" points=\"\n",
       "  1811.11,1487.47 1811.11,47.2441 \n",
       "  \"/>\n",
       "<polyline clip-path=\"url(#clip0102)\" style=\"stroke:#000000; stroke-width:2; stroke-opacity:0.1; fill:none\" points=\"\n",
       "  2090,1487.47 2090,47.2441 \n",
       "  \"/>\n",
       "<polyline clip-path=\"url(#clip0102)\" style=\"stroke:#000000; stroke-width:2; stroke-opacity:0.1; fill:none\" points=\"\n",
       "  153.898,1448.06 2352.76,1448.06 \n",
       "  \"/>\n",
       "<polyline clip-path=\"url(#clip0102)\" style=\"stroke:#000000; stroke-width:2; stroke-opacity:0.1; fill:none\" points=\"\n",
       "  153.898,1107.09 2352.76,1107.09 \n",
       "  \"/>\n",
       "<polyline clip-path=\"url(#clip0102)\" style=\"stroke:#000000; stroke-width:2; stroke-opacity:0.1; fill:none\" points=\"\n",
       "  153.898,766.116 2352.76,766.116 \n",
       "  \"/>\n",
       "<polyline clip-path=\"url(#clip0102)\" style=\"stroke:#000000; stroke-width:2; stroke-opacity:0.1; fill:none\" points=\"\n",
       "  153.898,425.143 2352.76,425.143 \n",
       "  \"/>\n",
       "<polyline clip-path=\"url(#clip0102)\" style=\"stroke:#000000; stroke-width:2; stroke-opacity:0.1; fill:none\" points=\"\n",
       "  153.898,84.1697 2352.76,84.1697 \n",
       "  \"/>\n",
       "<polyline clip-path=\"url(#clip0100)\" style=\"stroke:#000000; stroke-width:4; stroke-opacity:1; fill:none\" points=\"\n",
       "  153.898,1487.47 2352.76,1487.47 \n",
       "  \"/>\n",
       "<polyline clip-path=\"url(#clip0100)\" style=\"stroke:#000000; stroke-width:4; stroke-opacity:1; fill:none\" points=\"\n",
       "  153.898,1487.47 153.898,47.2441 \n",
       "  \"/>\n",
       "<polyline clip-path=\"url(#clip0100)\" style=\"stroke:#000000; stroke-width:4; stroke-opacity:1; fill:none\" points=\"\n",
       "  416.656,1487.47 416.656,1470.19 \n",
       "  \"/>\n",
       "<polyline clip-path=\"url(#clip0100)\" style=\"stroke:#000000; stroke-width:4; stroke-opacity:1; fill:none\" points=\"\n",
       "  695.547,1487.47 695.547,1470.19 \n",
       "  \"/>\n",
       "<polyline clip-path=\"url(#clip0100)\" style=\"stroke:#000000; stroke-width:4; stroke-opacity:1; fill:none\" points=\"\n",
       "  974.437,1487.47 974.437,1470.19 \n",
       "  \"/>\n",
       "<polyline clip-path=\"url(#clip0100)\" style=\"stroke:#000000; stroke-width:4; stroke-opacity:1; fill:none\" points=\"\n",
       "  1253.33,1487.47 1253.33,1470.19 \n",
       "  \"/>\n",
       "<polyline clip-path=\"url(#clip0100)\" style=\"stroke:#000000; stroke-width:4; stroke-opacity:1; fill:none\" points=\"\n",
       "  1532.22,1487.47 1532.22,1470.19 \n",
       "  \"/>\n",
       "<polyline clip-path=\"url(#clip0100)\" style=\"stroke:#000000; stroke-width:4; stroke-opacity:1; fill:none\" points=\"\n",
       "  1811.11,1487.47 1811.11,1470.19 \n",
       "  \"/>\n",
       "<polyline clip-path=\"url(#clip0100)\" style=\"stroke:#000000; stroke-width:4; stroke-opacity:1; fill:none\" points=\"\n",
       "  2090,1487.47 2090,1470.19 \n",
       "  \"/>\n",
       "<polyline clip-path=\"url(#clip0100)\" style=\"stroke:#000000; stroke-width:4; stroke-opacity:1; fill:none\" points=\"\n",
       "  153.898,1448.06 180.284,1448.06 \n",
       "  \"/>\n",
       "<polyline clip-path=\"url(#clip0100)\" style=\"stroke:#000000; stroke-width:4; stroke-opacity:1; fill:none\" points=\"\n",
       "  153.898,1107.09 180.284,1107.09 \n",
       "  \"/>\n",
       "<polyline clip-path=\"url(#clip0100)\" style=\"stroke:#000000; stroke-width:4; stroke-opacity:1; fill:none\" points=\"\n",
       "  153.898,766.116 180.284,766.116 \n",
       "  \"/>\n",
       "<polyline clip-path=\"url(#clip0100)\" style=\"stroke:#000000; stroke-width:4; stroke-opacity:1; fill:none\" points=\"\n",
       "  153.898,425.143 180.284,425.143 \n",
       "  \"/>\n",
       "<polyline clip-path=\"url(#clip0100)\" style=\"stroke:#000000; stroke-width:4; stroke-opacity:1; fill:none\" points=\"\n",
       "  153.898,84.1697 180.284,84.1697 \n",
       "  \"/>\n",
       "<g clip-path=\"url(#clip0100)\">\n",
       "<text style=\"fill:#000000; fill-opacity:1; font-family:Arial,Helvetica Neue,Helvetica,sans-serif; font-size:48px; text-anchor:middle;\" transform=\"rotate(0, 416.656, 1541.47)\" x=\"416.656\" y=\"1541.47\">-3</text>\n",
       "</g>\n",
       "<g clip-path=\"url(#clip0100)\">\n",
       "<text style=\"fill:#000000; fill-opacity:1; font-family:Arial,Helvetica Neue,Helvetica,sans-serif; font-size:48px; text-anchor:middle;\" transform=\"rotate(0, 695.547, 1541.47)\" x=\"695.547\" y=\"1541.47\">-2</text>\n",
       "</g>\n",
       "<g clip-path=\"url(#clip0100)\">\n",
       "<text style=\"fill:#000000; fill-opacity:1; font-family:Arial,Helvetica Neue,Helvetica,sans-serif; font-size:48px; text-anchor:middle;\" transform=\"rotate(0, 974.437, 1541.47)\" x=\"974.437\" y=\"1541.47\">-1</text>\n",
       "</g>\n",
       "<g clip-path=\"url(#clip0100)\">\n",
       "<text style=\"fill:#000000; fill-opacity:1; font-family:Arial,Helvetica Neue,Helvetica,sans-serif; font-size:48px; text-anchor:middle;\" transform=\"rotate(0, 1253.33, 1541.47)\" x=\"1253.33\" y=\"1541.47\">0</text>\n",
       "</g>\n",
       "<g clip-path=\"url(#clip0100)\">\n",
       "<text style=\"fill:#000000; fill-opacity:1; font-family:Arial,Helvetica Neue,Helvetica,sans-serif; font-size:48px; text-anchor:middle;\" transform=\"rotate(0, 1532.22, 1541.47)\" x=\"1532.22\" y=\"1541.47\">1</text>\n",
       "</g>\n",
       "<g clip-path=\"url(#clip0100)\">\n",
       "<text style=\"fill:#000000; fill-opacity:1; font-family:Arial,Helvetica Neue,Helvetica,sans-serif; font-size:48px; text-anchor:middle;\" transform=\"rotate(0, 1811.11, 1541.47)\" x=\"1811.11\" y=\"1541.47\">2</text>\n",
       "</g>\n",
       "<g clip-path=\"url(#clip0100)\">\n",
       "<text style=\"fill:#000000; fill-opacity:1; font-family:Arial,Helvetica Neue,Helvetica,sans-serif; font-size:48px; text-anchor:middle;\" transform=\"rotate(0, 2090, 1541.47)\" x=\"2090\" y=\"1541.47\">3</text>\n",
       "</g>\n",
       "<g clip-path=\"url(#clip0100)\">\n",
       "<text style=\"fill:#000000; fill-opacity:1; font-family:Arial,Helvetica Neue,Helvetica,sans-serif; font-size:48px; text-anchor:end;\" transform=\"rotate(0, 129.898, 1465.56)\" x=\"129.898\" y=\"1465.56\">0.0</text>\n",
       "</g>\n",
       "<g clip-path=\"url(#clip0100)\">\n",
       "<text style=\"fill:#000000; fill-opacity:1; font-family:Arial,Helvetica Neue,Helvetica,sans-serif; font-size:48px; text-anchor:end;\" transform=\"rotate(0, 129.898, 1124.59)\" x=\"129.898\" y=\"1124.59\">0.1</text>\n",
       "</g>\n",
       "<g clip-path=\"url(#clip0100)\">\n",
       "<text style=\"fill:#000000; fill-opacity:1; font-family:Arial,Helvetica Neue,Helvetica,sans-serif; font-size:48px; text-anchor:end;\" transform=\"rotate(0, 129.898, 783.616)\" x=\"129.898\" y=\"783.616\">0.2</text>\n",
       "</g>\n",
       "<g clip-path=\"url(#clip0100)\">\n",
       "<text style=\"fill:#000000; fill-opacity:1; font-family:Arial,Helvetica Neue,Helvetica,sans-serif; font-size:48px; text-anchor:end;\" transform=\"rotate(0, 129.898, 442.643)\" x=\"129.898\" y=\"442.643\">0.3</text>\n",
       "</g>\n",
       "<g clip-path=\"url(#clip0100)\">\n",
       "<text style=\"fill:#000000; fill-opacity:1; font-family:Arial,Helvetica Neue,Helvetica,sans-serif; font-size:48px; text-anchor:end;\" transform=\"rotate(0, 129.898, 101.67)\" x=\"129.898\" y=\"101.67\">0.4</text>\n",
       "</g>\n",
       "<polyline clip-path=\"url(#clip0102)\" style=\"stroke:#009af9; stroke-width:4; stroke-opacity:1; fill:none\" points=\"\n",
       "  216.13,1446.71 226.259,1446.52 236.388,1446.3 330.046,1442.39 423.704,1431.77 479.988,1418.96 536.273,1398.16 583.861,1371.79 631.449,1334.84 657.296,1309.44 \n",
       "  683.142,1279.8 708.989,1245.57 734.836,1206.46 758.665,1165.9 782.493,1120.93 806.322,1071.54 830.15,1017.86 881.244,889.446 932.337,746.646 991.534,572.493 \n",
       "  1050.73,403.248 1077.03,334.12 1103.34,270.936 1129.64,215.183 1155.94,168.226 1179.01,135.224 1202.08,110.552 1225.14,94.705 1248.21,88.0053 1273.36,91.2797 \n",
       "  1298.5,105.507 1323.65,130.343 1348.8,165.193 1374.1,209.522 1399.39,262.117 1424.69,321.784 1449.99,387.214 1505.93,545.472 1561.87,710.403 1615.09,861.583 \n",
       "  1668.32,998.457 1695.99,1062.07 1723.66,1119.93 1751.33,1171.85 1779,1217.83 1825.58,1282.35 1872.17,1332.06 1929.05,1375.8 1985.92,1404.88 2039.39,1422.44 \n",
       "  2092.85,1433.41 2178.51,1442.52 2264.16,1446.15 2277.34,1446.46 2290.52,1446.71 \n",
       "  \"/>\n",
       "<path clip-path=\"url(#clip0100)\" d=\"\n",
       "M1989.93 251.724 L2280.76 251.724 L2280.76 130.764 L1989.93 130.764  Z\n",
       "  \" fill=\"#ffffff\" fill-rule=\"evenodd\" fill-opacity=\"1\"/>\n",
       "<polyline clip-path=\"url(#clip0100)\" style=\"stroke:#000000; stroke-width:4; stroke-opacity:1; fill:none\" points=\"\n",
       "  1989.93,251.724 2280.76,251.724 2280.76,130.764 1989.93,130.764 1989.93,251.724 \n",
       "  \"/>\n",
       "<polyline clip-path=\"url(#clip0100)\" style=\"stroke:#009af9; stroke-width:4; stroke-opacity:1; fill:none\" points=\"\n",
       "  2013.93,191.244 2157.93,191.244 \n",
       "  \"/>\n",
       "<g clip-path=\"url(#clip0100)\">\n",
       "<text style=\"fill:#000000; fill-opacity:1; font-family:Arial,Helvetica Neue,Helvetica,sans-serif; font-size:48px; text-anchor:start;\" transform=\"rotate(0, 2181.93, 208.744)\" x=\"2181.93\" y=\"208.744\">y1</text>\n",
       "</g>\n",
       "</svg>\n"
      ]
     },
     "execution_count": 2,
     "metadata": {},
     "output_type": "execute_result"
    }
   ],
   "source": [
    "plot(Normal(0,1))"
   ]
  },
  {
   "cell_type": "code",
   "execution_count": 3,
   "metadata": {},
   "outputs": [
    {
     "data": {
      "image/svg+xml": [
       "<?xml version=\"1.0\" encoding=\"utf-8\"?>\n",
       "<svg xmlns=\"http://www.w3.org/2000/svg\" xmlns:xlink=\"http://www.w3.org/1999/xlink\" width=\"600\" height=\"400\" viewBox=\"0 0 2400 1600\">\n",
       "<defs>\n",
       "  <clipPath id=\"clip0500\">\n",
       "    <rect x=\"0\" y=\"0\" width=\"2400\" height=\"1600\"/>\n",
       "  </clipPath>\n",
       "</defs>\n",
       "<path clip-path=\"url(#clip0500)\" d=\"\n",
       "M0 1600 L2400 1600 L2400 0 L0 0  Z\n",
       "  \" fill=\"#ffffff\" fill-rule=\"evenodd\" fill-opacity=\"1\"/>\n",
       "<defs>\n",
       "  <clipPath id=\"clip0501\">\n",
       "    <rect x=\"480\" y=\"0\" width=\"1681\" height=\"1600\"/>\n",
       "  </clipPath>\n",
       "</defs>\n",
       "<path clip-path=\"url(#clip0500)\" d=\"\n",
       "M182.008 1487.47 L2352.76 1487.47 L2352.76 47.2441 L182.008 47.2441  Z\n",
       "  \" fill=\"#ffffff\" fill-rule=\"evenodd\" fill-opacity=\"1\"/>\n",
       "<defs>\n",
       "  <clipPath id=\"clip0502\">\n",
       "    <rect x=\"182\" y=\"47\" width=\"2172\" height=\"1441\"/>\n",
       "  </clipPath>\n",
       "</defs>\n",
       "<polyline clip-path=\"url(#clip0502)\" style=\"stroke:#000000; stroke-width:2; stroke-opacity:0.1; fill:none\" points=\"\n",
       "  432.479,1487.47 432.479,47.2441 \n",
       "  \"/>\n",
       "<polyline clip-path=\"url(#clip0502)\" style=\"stroke:#000000; stroke-width:2; stroke-opacity:0.1; fill:none\" points=\"\n",
       "  849.93,1487.47 849.93,47.2441 \n",
       "  \"/>\n",
       "<polyline clip-path=\"url(#clip0502)\" style=\"stroke:#000000; stroke-width:2; stroke-opacity:0.1; fill:none\" points=\"\n",
       "  1267.38,1487.47 1267.38,47.2441 \n",
       "  \"/>\n",
       "<polyline clip-path=\"url(#clip0502)\" style=\"stroke:#000000; stroke-width:2; stroke-opacity:0.1; fill:none\" points=\"\n",
       "  1684.83,1487.47 1684.83,47.2441 \n",
       "  \"/>\n",
       "<polyline clip-path=\"url(#clip0502)\" style=\"stroke:#000000; stroke-width:2; stroke-opacity:0.1; fill:none\" points=\"\n",
       "  2102.29,1487.47 2102.29,47.2441 \n",
       "  \"/>\n",
       "<polyline clip-path=\"url(#clip0502)\" style=\"stroke:#000000; stroke-width:2; stroke-opacity:0.1; fill:none\" points=\"\n",
       "  182.008,1321.29 2352.76,1321.29 \n",
       "  \"/>\n",
       "<polyline clip-path=\"url(#clip0502)\" style=\"stroke:#000000; stroke-width:2; stroke-opacity:0.1; fill:none\" points=\"\n",
       "  182.008,1044.33 2352.76,1044.33 \n",
       "  \"/>\n",
       "<polyline clip-path=\"url(#clip0502)\" style=\"stroke:#000000; stroke-width:2; stroke-opacity:0.1; fill:none\" points=\"\n",
       "  182.008,767.359 2352.76,767.359 \n",
       "  \"/>\n",
       "<polyline clip-path=\"url(#clip0502)\" style=\"stroke:#000000; stroke-width:2; stroke-opacity:0.1; fill:none\" points=\"\n",
       "  182.008,490.392 2352.76,490.392 \n",
       "  \"/>\n",
       "<polyline clip-path=\"url(#clip0502)\" style=\"stroke:#000000; stroke-width:2; stroke-opacity:0.1; fill:none\" points=\"\n",
       "  182.008,213.425 2352.76,213.425 \n",
       "  \"/>\n",
       "<polyline clip-path=\"url(#clip0500)\" style=\"stroke:#000000; stroke-width:4; stroke-opacity:1; fill:none\" points=\"\n",
       "  182.008,1487.47 2352.76,1487.47 \n",
       "  \"/>\n",
       "<polyline clip-path=\"url(#clip0500)\" style=\"stroke:#000000; stroke-width:4; stroke-opacity:1; fill:none\" points=\"\n",
       "  182.008,1487.47 182.008,47.2441 \n",
       "  \"/>\n",
       "<polyline clip-path=\"url(#clip0500)\" style=\"stroke:#000000; stroke-width:4; stroke-opacity:1; fill:none\" points=\"\n",
       "  432.479,1487.47 432.479,1470.19 \n",
       "  \"/>\n",
       "<polyline clip-path=\"url(#clip0500)\" style=\"stroke:#000000; stroke-width:4; stroke-opacity:1; fill:none\" points=\"\n",
       "  849.93,1487.47 849.93,1470.19 \n",
       "  \"/>\n",
       "<polyline clip-path=\"url(#clip0500)\" style=\"stroke:#000000; stroke-width:4; stroke-opacity:1; fill:none\" points=\"\n",
       "  1267.38,1487.47 1267.38,1470.19 \n",
       "  \"/>\n",
       "<polyline clip-path=\"url(#clip0500)\" style=\"stroke:#000000; stroke-width:4; stroke-opacity:1; fill:none\" points=\"\n",
       "  1684.83,1487.47 1684.83,1470.19 \n",
       "  \"/>\n",
       "<polyline clip-path=\"url(#clip0500)\" style=\"stroke:#000000; stroke-width:4; stroke-opacity:1; fill:none\" points=\"\n",
       "  2102.29,1487.47 2102.29,1470.19 \n",
       "  \"/>\n",
       "<polyline clip-path=\"url(#clip0500)\" style=\"stroke:#000000; stroke-width:4; stroke-opacity:1; fill:none\" points=\"\n",
       "  182.008,1321.29 208.057,1321.29 \n",
       "  \"/>\n",
       "<polyline clip-path=\"url(#clip0500)\" style=\"stroke:#000000; stroke-width:4; stroke-opacity:1; fill:none\" points=\"\n",
       "  182.008,1044.33 208.057,1044.33 \n",
       "  \"/>\n",
       "<polyline clip-path=\"url(#clip0500)\" style=\"stroke:#000000; stroke-width:4; stroke-opacity:1; fill:none\" points=\"\n",
       "  182.008,767.359 208.057,767.359 \n",
       "  \"/>\n",
       "<polyline clip-path=\"url(#clip0500)\" style=\"stroke:#000000; stroke-width:4; stroke-opacity:1; fill:none\" points=\"\n",
       "  182.008,490.392 208.057,490.392 \n",
       "  \"/>\n",
       "<polyline clip-path=\"url(#clip0500)\" style=\"stroke:#000000; stroke-width:4; stroke-opacity:1; fill:none\" points=\"\n",
       "  182.008,213.425 208.057,213.425 \n",
       "  \"/>\n",
       "<g clip-path=\"url(#clip0500)\">\n",
       "<text style=\"fill:#000000; fill-opacity:1; font-family:Arial,Helvetica Neue,Helvetica,sans-serif; font-size:48px; text-anchor:middle;\" transform=\"rotate(0, 432.479, 1541.47)\" x=\"432.479\" y=\"1541.47\">-5.0</text>\n",
       "</g>\n",
       "<g clip-path=\"url(#clip0500)\">\n",
       "<text style=\"fill:#000000; fill-opacity:1; font-family:Arial,Helvetica Neue,Helvetica,sans-serif; font-size:48px; text-anchor:middle;\" transform=\"rotate(0, 849.93, 1541.47)\" x=\"849.93\" y=\"1541.47\">-2.5</text>\n",
       "</g>\n",
       "<g clip-path=\"url(#clip0500)\">\n",
       "<text style=\"fill:#000000; fill-opacity:1; font-family:Arial,Helvetica Neue,Helvetica,sans-serif; font-size:48px; text-anchor:middle;\" transform=\"rotate(0, 1267.38, 1541.47)\" x=\"1267.38\" y=\"1541.47\">0.0</text>\n",
       "</g>\n",
       "<g clip-path=\"url(#clip0500)\">\n",
       "<text style=\"fill:#000000; fill-opacity:1; font-family:Arial,Helvetica Neue,Helvetica,sans-serif; font-size:48px; text-anchor:middle;\" transform=\"rotate(0, 1684.83, 1541.47)\" x=\"1684.83\" y=\"1541.47\">2.5</text>\n",
       "</g>\n",
       "<g clip-path=\"url(#clip0500)\">\n",
       "<text style=\"fill:#000000; fill-opacity:1; font-family:Arial,Helvetica Neue,Helvetica,sans-serif; font-size:48px; text-anchor:middle;\" transform=\"rotate(0, 2102.29, 1541.47)\" x=\"2102.29\" y=\"1541.47\">5.0</text>\n",
       "</g>\n",
       "<g clip-path=\"url(#clip0500)\">\n",
       "<text style=\"fill:#000000; fill-opacity:1; font-family:Arial,Helvetica Neue,Helvetica,sans-serif; font-size:48px; text-anchor:end;\" transform=\"rotate(0, 158.008, 1338.79)\" x=\"158.008\" y=\"1338.79\">-5.0</text>\n",
       "</g>\n",
       "<g clip-path=\"url(#clip0500)\">\n",
       "<text style=\"fill:#000000; fill-opacity:1; font-family:Arial,Helvetica Neue,Helvetica,sans-serif; font-size:48px; text-anchor:end;\" transform=\"rotate(0, 158.008, 1061.83)\" x=\"158.008\" y=\"1061.83\">-2.5</text>\n",
       "</g>\n",
       "<g clip-path=\"url(#clip0500)\">\n",
       "<text style=\"fill:#000000; fill-opacity:1; font-family:Arial,Helvetica Neue,Helvetica,sans-serif; font-size:48px; text-anchor:end;\" transform=\"rotate(0, 158.008, 784.859)\" x=\"158.008\" y=\"784.859\">0.0</text>\n",
       "</g>\n",
       "<g clip-path=\"url(#clip0500)\">\n",
       "<text style=\"fill:#000000; fill-opacity:1; font-family:Arial,Helvetica Neue,Helvetica,sans-serif; font-size:48px; text-anchor:end;\" transform=\"rotate(0, 158.008, 507.892)\" x=\"158.008\" y=\"507.892\">2.5</text>\n",
       "</g>\n",
       "<g clip-path=\"url(#clip0500)\">\n",
       "<text style=\"fill:#000000; fill-opacity:1; font-family:Arial,Helvetica Neue,Helvetica,sans-serif; font-size:48px; text-anchor:end;\" transform=\"rotate(0, 158.008, 230.925)\" x=\"158.008\" y=\"230.925\">5.0</text>\n",
       "</g>\n",
       "<path clip-path=\"url(#clip0502)\" d=\"\n",
       "M1284.57 871.265 L1251.07 873.493 L1217.62 875.295 L1184.38 876.661 L1151.48 877.588 L1119.04 878.071 L1087.19 878.108 L1056.08 877.698 L1025.81 876.845 L996.516 875.551 \n",
       "  L968.313 873.821 L941.314 871.663 L915.628 869.084 L891.359 866.096 L868.604 862.71 L847.454 858.94 L827.995 854.802 L810.306 850.311 L794.457 845.487 L780.512 840.348 \n",
       "  L768.528 834.915 L758.553 829.21 L750.626 823.256 L744.78 817.076 L741.039 810.697 L739.417 804.143 L739.92 797.441 L742.548 790.618 L747.289 783.701 L754.124 776.719 \n",
       "  L763.026 769.698 L773.959 762.669 L786.879 755.658 L801.734 748.694 L818.463 741.806 L837 735.02 L857.27 728.365 L879.192 721.866 L902.677 715.551 L927.63 709.444 \n",
       "  L953.951 703.571 L981.534 697.955 L1010.27 692.617 L1040.04 687.581 L1070.72 682.867 L1102.2 678.492 L1134.34 674.475 L1167.02 670.832 L1200.1 667.578 L1233.45 664.726 \n",
       "  L1266.94 662.287 L1300.44 660.271 L1333.79 658.686 L1366.88 657.539 L1399.57 656.834 L1431.73 656.574 L1463.23 656.76 L1493.93 657.392 L1523.73 658.466 L1552.49 659.979 \n",
       "  L1580.11 661.924 L1606.46 664.294 L1631.45 667.078 L1654.98 670.267 L1676.94 673.846 L1697.26 677.803 L1715.84 682.119 L1732.62 686.779 L1747.52 691.763 L1760.49 697.052 \n",
       "  L1771.48 702.624 L1780.43 708.457 L1787.32 714.526 L1792.12 720.809 L1794.8 727.279 L1795.36 733.91 L1793.79 740.676 L1790.11 747.549 L1784.32 754.502 L1776.44 761.507 \n",
       "  L1766.52 768.536 L1754.59 775.56 L1740.7 782.55 L1724.9 789.48 L1707.25 796.321 L1687.84 803.044 L1666.73 809.625 L1644.02 816.035 L1619.79 822.249 L1594.14 828.242 \n",
       "  L1567.17 833.99 L1539 839.469 L1509.73 844.658 L1479.49 849.536 L1448.39 854.083 L1416.57 858.281 L1384.14 862.113 L1351.25 865.563 L1318.01 868.618 L1284.57 871.265 \n",
       "  L1284.57 871.265  Z\n",
       "  \" fill=\"#009af9\" fill-rule=\"evenodd\" fill-opacity=\"0.3\"/>\n",
       "<polyline clip-path=\"url(#clip0502)\" style=\"stroke:#000000; stroke-width:4; stroke-opacity:0.3; fill:none\" points=\"\n",
       "  1284.57,871.265 1251.07,873.493 1217.62,875.295 1184.38,876.661 1151.48,877.588 1119.04,878.071 1087.19,878.108 1056.08,877.698 1025.81,876.845 996.516,875.551 \n",
       "  968.313,873.821 941.314,871.663 915.628,869.084 891.359,866.096 868.604,862.71 847.454,858.94 827.995,854.802 810.306,850.311 794.457,845.487 780.512,840.348 \n",
       "  768.528,834.915 758.553,829.21 750.626,823.256 744.78,817.076 741.039,810.697 739.417,804.143 739.92,797.441 742.548,790.618 747.289,783.701 754.124,776.719 \n",
       "  763.026,769.698 773.959,762.669 786.879,755.658 801.734,748.694 818.463,741.806 837,735.02 857.27,728.365 879.192,721.866 902.677,715.551 927.63,709.444 \n",
       "  953.951,703.571 981.534,697.955 1010.27,692.617 1040.04,687.581 1070.72,682.867 1102.2,678.492 1134.34,674.475 1167.02,670.832 1200.1,667.578 1233.45,664.726 \n",
       "  1266.94,662.287 1300.44,660.271 1333.79,658.686 1366.88,657.539 1399.57,656.834 1431.73,656.574 1463.23,656.76 1493.93,657.392 1523.73,658.466 1552.49,659.979 \n",
       "  1580.11,661.924 1606.46,664.294 1631.45,667.078 1654.98,670.267 1676.94,673.846 1697.26,677.803 1715.84,682.119 1732.62,686.779 1747.52,691.763 1760.49,697.052 \n",
       "  1771.48,702.624 1780.43,708.457 1787.32,714.526 1792.12,720.809 1794.8,727.279 1795.36,733.91 1793.79,740.676 1790.11,747.549 1784.32,754.502 1776.44,761.507 \n",
       "  1766.52,768.536 1754.59,775.56 1740.7,782.55 1724.9,789.48 1707.25,796.321 1687.84,803.044 1666.73,809.625 1644.02,816.035 1619.79,822.249 1594.14,828.242 \n",
       "  1567.17,833.99 1539,839.469 1509.73,844.658 1479.49,849.536 1448.39,854.083 1416.57,858.281 1384.14,862.113 1351.25,865.563 1318.01,868.618 1284.57,871.265 \n",
       "  \n",
       "  \"/>\n",
       "<path clip-path=\"url(#clip0502)\" d=\"\n",
       "M1301.76 975.17 L1234.75 979.628 L1167.87 983.23 L1101.39 985.963 L1035.57 987.816 L970.691 988.782 L907.005 988.856 L844.771 988.038 L784.238 986.331 L725.65 983.742 \n",
       "  L669.244 980.283 L615.247 975.966 L563.875 970.809 L515.336 964.832 L469.825 958.061 L427.526 950.521 L388.609 942.245 L353.23 933.264 L321.532 923.614 L293.643 913.336 \n",
       "  L269.674 902.47 L249.723 891.06 L233.87 879.152 L222.178 866.793 L214.695 854.035 L211.451 840.927 L212.459 827.523 L217.714 813.877 L227.196 800.043 L240.867 786.078 \n",
       "  L258.671 772.037 L280.537 757.978 L306.376 743.956 L336.085 730.029 L369.544 716.252 L406.618 702.681 L447.159 689.37 L491.002 676.373 L537.971 663.743 L587.877 651.53 \n",
       "  L640.52 639.783 L695.686 628.55 L753.155 617.876 L812.694 607.803 L874.064 598.374 L937.018 589.624 L1001.3 581.591 L1066.66 574.305 L1132.82 567.797 L1199.53 562.092 \n",
       "  L1266.51 557.214 L1333.49 553.182 L1400.2 550.013 L1466.39 547.718 L1531.77 546.308 L1596.08 545.789 L1659.07 546.161 L1720.49 547.424 L1780.08 549.573 L1837.6 552.598 \n",
       "  L1892.83 556.489 L1945.54 561.228 L1995.53 566.797 L2042.57 573.175 L2086.5 580.334 L2127.13 588.246 L2164.3 596.879 L2197.85 606.199 L2227.66 616.167 L2253.6 626.745 \n",
       "  L2275.57 637.889 L2293.48 649.554 L2307.26 661.693 L2316.86 674.258 L2322.22 687.198 L2323.34 700.46 L2320.21 713.992 L2312.83 727.739 L2301.25 741.645 L2285.51 755.655 \n",
       "  L2265.66 769.712 L2241.8 783.76 L2214.01 797.741 L2182.41 811.601 L2147.13 825.282 L2108.3 838.729 L2066.09 851.89 L2020.66 864.71 L1972.19 877.138 L1920.89 889.124 \n",
       "  L1866.96 900.62 L1810.62 911.579 L1752.08 921.957 L1691.6 931.713 L1629.4 940.807 L1565.75 949.203 L1500.9 956.866 L1435.11 963.767 L1368.64 969.876 L1301.76 975.17 \n",
       "  L1301.76 975.17  Z\n",
       "  \" fill=\"#e26f46\" fill-rule=\"evenodd\" fill-opacity=\"0.3\"/>\n",
       "<polyline clip-path=\"url(#clip0502)\" style=\"stroke:#000000; stroke-width:4; stroke-opacity:0.3; fill:none\" points=\"\n",
       "  1301.76,975.17 1234.75,979.628 1167.87,983.23 1101.39,985.963 1035.57,987.816 970.691,988.782 907.005,988.856 844.771,988.038 784.238,986.331 725.65,983.742 \n",
       "  669.244,980.283 615.247,975.966 563.875,970.809 515.336,964.832 469.825,958.061 427.526,950.521 388.609,942.245 353.23,933.264 321.532,923.614 293.643,913.336 \n",
       "  269.674,902.47 249.723,891.06 233.87,879.152 222.178,866.793 214.695,854.035 211.451,840.927 212.459,827.523 217.714,813.877 227.196,800.043 240.867,786.078 \n",
       "  258.671,772.037 280.537,757.978 306.376,743.956 336.085,730.029 369.544,716.252 406.618,702.681 447.159,689.37 491.002,676.373 537.971,663.743 587.877,651.53 \n",
       "  640.52,639.783 695.686,628.55 753.155,617.876 812.694,607.803 874.064,598.374 937.018,589.624 1001.3,581.591 1066.66,574.305 1132.82,567.797 1199.53,562.092 \n",
       "  1266.51,557.214 1333.49,553.182 1400.2,550.013 1466.39,547.718 1531.77,546.308 1596.08,545.789 1659.07,546.161 1720.49,547.424 1780.08,549.573 1837.6,552.598 \n",
       "  1892.83,556.489 1945.54,561.228 1995.53,566.797 2042.57,573.175 2086.5,580.334 2127.13,588.246 2164.3,596.879 2197.85,606.199 2227.66,616.167 2253.6,626.745 \n",
       "  2275.57,637.889 2293.48,649.554 2307.26,661.693 2316.86,674.258 2322.22,687.198 2323.34,700.46 2320.21,713.992 2312.83,727.739 2301.25,741.645 2285.51,755.655 \n",
       "  2265.66,769.712 2241.8,783.76 2214.01,797.741 2182.41,811.601 2147.13,825.282 2108.3,838.729 2066.09,851.89 2020.66,864.71 1972.19,877.138 1920.89,889.124 \n",
       "  1866.96,900.62 1810.62,911.579 1752.08,921.957 1691.6,931.713 1629.4,940.807 1565.75,949.203 1500.9,956.866 1435.11,963.767 1368.64,969.876 1301.76,975.17 \n",
       "  1301.76,975.17 \n",
       "  \"/>\n",
       "<polyline clip-path=\"url(#clip0502)\" style=\"stroke:#3da44d; stroke-width:4; stroke-opacity:1; fill:none\" points=\"\n",
       "  182.008,839.371 203.207,837.964 399.224,824.959 517.022,817.144 616.618,810.536 724.808,803.358 824.549,796.74 931.483,789.645 1055.38,781.425 1165.48,774.121 \n",
       "  1262.03,767.715 1367.29,760.731 1473.18,753.705 1590.25,745.938 1701.65,738.547 1817.47,730.863 1914.97,724.394 2034,716.496 2145.9,709.072 2325.17,697.178 \n",
       "  2352.76,695.348 \n",
       "  \"/>\n",
       "<path clip-path=\"url(#clip0500)\" d=\"\n",
       "M1989.93 372.684 L2280.76 372.684 L2280.76 130.764 L1989.93 130.764  Z\n",
       "  \" fill=\"#ffffff\" fill-rule=\"evenodd\" fill-opacity=\"1\"/>\n",
       "<polyline clip-path=\"url(#clip0500)\" style=\"stroke:#000000; stroke-width:4; stroke-opacity:1; fill:none\" points=\"\n",
       "  1989.93,372.684 2280.76,372.684 2280.76,130.764 1989.93,130.764 1989.93,372.684 \n",
       "  \"/>\n",
       "<path clip-path=\"url(#clip0500)\" d=\"\n",
       "M2013.93 215.436 L2157.93 215.436 L2157.93 167.052 L2013.93 167.052 L2013.93 215.436  Z\n",
       "  \" fill=\"#009af9\" fill-rule=\"evenodd\" fill-opacity=\"0.3\"/>\n",
       "<polyline clip-path=\"url(#clip0500)\" style=\"stroke:#000000; stroke-width:4; stroke-opacity:1; fill:none\" points=\"\n",
       "  2013.93,215.436 2157.93,215.436 2157.93,167.052 2013.93,167.052 2013.93,215.436 \n",
       "  \"/>\n",
       "<g clip-path=\"url(#clip0500)\">\n",
       "<text style=\"fill:#000000; fill-opacity:1; font-family:Arial,Helvetica Neue,Helvetica,sans-serif; font-size:48px; text-anchor:start;\" transform=\"rotate(0, 2181.93, 208.744)\" x=\"2181.93\" y=\"208.744\">y1</text>\n",
       "</g>\n",
       "<path clip-path=\"url(#clip0500)\" d=\"\n",
       "M2013.93 275.916 L2157.93 275.916 L2157.93 227.532 L2013.93 227.532 L2013.93 275.916  Z\n",
       "  \" fill=\"#e26f46\" fill-rule=\"evenodd\" fill-opacity=\"0.3\"/>\n",
       "<polyline clip-path=\"url(#clip0500)\" style=\"stroke:#000000; stroke-width:4; stroke-opacity:1; fill:none\" points=\"\n",
       "  2013.93,275.916 2157.93,275.916 2157.93,227.532 2013.93,227.532 2013.93,275.916 \n",
       "  \"/>\n",
       "<g clip-path=\"url(#clip0500)\">\n",
       "<text style=\"fill:#000000; fill-opacity:1; font-family:Arial,Helvetica Neue,Helvetica,sans-serif; font-size:48px; text-anchor:start;\" transform=\"rotate(0, 2181.93, 269.224)\" x=\"2181.93\" y=\"269.224\">y2</text>\n",
       "</g>\n",
       "<polyline clip-path=\"url(#clip0500)\" style=\"stroke:#3da44d; stroke-width:4; stroke-opacity:1; fill:none\" points=\"\n",
       "  2013.93,312.204 2157.93,312.204 \n",
       "  \"/>\n",
       "<g clip-path=\"url(#clip0500)\">\n",
       "<text style=\"fill:#000000; fill-opacity:1; font-family:Arial,Helvetica Neue,Helvetica,sans-serif; font-size:48px; text-anchor:start;\" transform=\"rotate(0, 2181.93, 329.704)\" x=\"2181.93\" y=\"329.704\">y3</text>\n",
       "</g>\n",
       "</svg>\n"
      ]
     },
     "execution_count": 3,
     "metadata": {},
     "output_type": "execute_result"
    }
   ],
   "source": [
    " covellipse([0,0], [10.0 1.0; 1.0 1.0], n_std=1,xlims=(-6.5,6.5),ylims=(-6.5,6.5))\n",
    "covellipse!([0,0], [10.0 1.0; 1.0 1.0], n_std=2,xlims=(-6.5,6.5),ylims=(-6.5,6.5))\n",
    "plot!(x->x/10,x=-6.5:6.5)"
   ]
  },
  {
   "cell_type": "code",
   "execution_count": 26,
   "metadata": {},
   "outputs": [
    {
     "data": {
      "image/svg+xml": [
       "<?xml version=\"1.0\" encoding=\"utf-8\"?>\n",
       "<svg xmlns=\"http://www.w3.org/2000/svg\" xmlns:xlink=\"http://www.w3.org/1999/xlink\" width=\"600\" height=\"400\" viewBox=\"0 0 2400 1600\">\n",
       "<defs>\n",
       "  <clipPath id=\"clip5700\">\n",
       "    <rect x=\"0\" y=\"0\" width=\"2400\" height=\"1600\"/>\n",
       "  </clipPath>\n",
       "</defs>\n",
       "<path clip-path=\"url(#clip5700)\" d=\"\n",
       "M0 1600 L2400 1600 L2400 0 L0 0  Z\n",
       "  \" fill=\"#ffffff\" fill-rule=\"evenodd\" fill-opacity=\"1\"/>\n",
       "<defs>\n",
       "  <clipPath id=\"clip5701\">\n",
       "    <rect x=\"480\" y=\"0\" width=\"1681\" height=\"1600\"/>\n",
       "  </clipPath>\n",
       "</defs>\n",
       "<path clip-path=\"url(#clip5700)\" d=\"\n",
       "M141.865 1487.47 L2352.76 1487.47 L2352.76 47.2441 L141.865 47.2441  Z\n",
       "  \" fill=\"#ffffff\" fill-rule=\"evenodd\" fill-opacity=\"1\"/>\n",
       "<defs>\n",
       "  <clipPath id=\"clip5702\">\n",
       "    <rect x=\"141\" y=\"47\" width=\"2212\" height=\"1441\"/>\n",
       "  </clipPath>\n",
       "</defs>\n",
       "<polyline clip-path=\"url(#clip5702)\" style=\"stroke:#000000; stroke-width:2; stroke-opacity:0.1; fill:none\" points=\"\n",
       "  362.954,1487.47 362.954,47.2441 \n",
       "  \"/>\n",
       "<polyline clip-path=\"url(#clip5702)\" style=\"stroke:#000000; stroke-width:2; stroke-opacity:0.1; fill:none\" points=\"\n",
       "  805.132,1487.47 805.132,47.2441 \n",
       "  \"/>\n",
       "<polyline clip-path=\"url(#clip5702)\" style=\"stroke:#000000; stroke-width:2; stroke-opacity:0.1; fill:none\" points=\"\n",
       "  1247.31,1487.47 1247.31,47.2441 \n",
       "  \"/>\n",
       "<polyline clip-path=\"url(#clip5702)\" style=\"stroke:#000000; stroke-width:2; stroke-opacity:0.1; fill:none\" points=\"\n",
       "  1689.49,1487.47 1689.49,47.2441 \n",
       "  \"/>\n",
       "<polyline clip-path=\"url(#clip5702)\" style=\"stroke:#000000; stroke-width:2; stroke-opacity:0.1; fill:none\" points=\"\n",
       "  2131.67,1487.47 2131.67,47.2441 \n",
       "  \"/>\n",
       "<polyline clip-path=\"url(#clip5702)\" style=\"stroke:#000000; stroke-width:2; stroke-opacity:0.1; fill:none\" points=\"\n",
       "  141.865,1343.45 2352.76,1343.45 \n",
       "  \"/>\n",
       "<polyline clip-path=\"url(#clip5702)\" style=\"stroke:#000000; stroke-width:2; stroke-opacity:0.1; fill:none\" points=\"\n",
       "  141.865,1055.41 2352.76,1055.41 \n",
       "  \"/>\n",
       "<polyline clip-path=\"url(#clip5702)\" style=\"stroke:#000000; stroke-width:2; stroke-opacity:0.1; fill:none\" points=\"\n",
       "  141.865,767.359 2352.76,767.359 \n",
       "  \"/>\n",
       "<polyline clip-path=\"url(#clip5702)\" style=\"stroke:#000000; stroke-width:2; stroke-opacity:0.1; fill:none\" points=\"\n",
       "  141.865,479.313 2352.76,479.313 \n",
       "  \"/>\n",
       "<polyline clip-path=\"url(#clip5702)\" style=\"stroke:#000000; stroke-width:2; stroke-opacity:0.1; fill:none\" points=\"\n",
       "  141.865,191.267 2352.76,191.267 \n",
       "  \"/>\n",
       "<polyline clip-path=\"url(#clip5700)\" style=\"stroke:#000000; stroke-width:4; stroke-opacity:1; fill:none\" points=\"\n",
       "  141.865,1487.47 2352.76,1487.47 \n",
       "  \"/>\n",
       "<polyline clip-path=\"url(#clip5700)\" style=\"stroke:#000000; stroke-width:4; stroke-opacity:1; fill:none\" points=\"\n",
       "  141.865,1487.47 141.865,47.2441 \n",
       "  \"/>\n",
       "<polyline clip-path=\"url(#clip5700)\" style=\"stroke:#000000; stroke-width:4; stroke-opacity:1; fill:none\" points=\"\n",
       "  362.954,1487.47 362.954,1470.19 \n",
       "  \"/>\n",
       "<polyline clip-path=\"url(#clip5700)\" style=\"stroke:#000000; stroke-width:4; stroke-opacity:1; fill:none\" points=\"\n",
       "  805.132,1487.47 805.132,1470.19 \n",
       "  \"/>\n",
       "<polyline clip-path=\"url(#clip5700)\" style=\"stroke:#000000; stroke-width:4; stroke-opacity:1; fill:none\" points=\"\n",
       "  1247.31,1487.47 1247.31,1470.19 \n",
       "  \"/>\n",
       "<polyline clip-path=\"url(#clip5700)\" style=\"stroke:#000000; stroke-width:4; stroke-opacity:1; fill:none\" points=\"\n",
       "  1689.49,1487.47 1689.49,1470.19 \n",
       "  \"/>\n",
       "<polyline clip-path=\"url(#clip5700)\" style=\"stroke:#000000; stroke-width:4; stroke-opacity:1; fill:none\" points=\"\n",
       "  2131.67,1487.47 2131.67,1470.19 \n",
       "  \"/>\n",
       "<polyline clip-path=\"url(#clip5700)\" style=\"stroke:#000000; stroke-width:4; stroke-opacity:1; fill:none\" points=\"\n",
       "  141.865,1343.45 168.395,1343.45 \n",
       "  \"/>\n",
       "<polyline clip-path=\"url(#clip5700)\" style=\"stroke:#000000; stroke-width:4; stroke-opacity:1; fill:none\" points=\"\n",
       "  141.865,1055.41 168.395,1055.41 \n",
       "  \"/>\n",
       "<polyline clip-path=\"url(#clip5700)\" style=\"stroke:#000000; stroke-width:4; stroke-opacity:1; fill:none\" points=\"\n",
       "  141.865,767.359 168.395,767.359 \n",
       "  \"/>\n",
       "<polyline clip-path=\"url(#clip5700)\" style=\"stroke:#000000; stroke-width:4; stroke-opacity:1; fill:none\" points=\"\n",
       "  141.865,479.313 168.395,479.313 \n",
       "  \"/>\n",
       "<polyline clip-path=\"url(#clip5700)\" style=\"stroke:#000000; stroke-width:4; stroke-opacity:1; fill:none\" points=\"\n",
       "  141.865,191.267 168.395,191.267 \n",
       "  \"/>\n",
       "<g clip-path=\"url(#clip5700)\">\n",
       "<text style=\"fill:#000000; fill-opacity:1; font-family:Arial,Helvetica Neue,Helvetica,sans-serif; font-size:48px; text-anchor:middle;\" transform=\"rotate(0, 362.954, 1541.47)\" x=\"362.954\" y=\"1541.47\">-2</text>\n",
       "</g>\n",
       "<g clip-path=\"url(#clip5700)\">\n",
       "<text style=\"fill:#000000; fill-opacity:1; font-family:Arial,Helvetica Neue,Helvetica,sans-serif; font-size:48px; text-anchor:middle;\" transform=\"rotate(0, 805.132, 1541.47)\" x=\"805.132\" y=\"1541.47\">-1</text>\n",
       "</g>\n",
       "<g clip-path=\"url(#clip5700)\">\n",
       "<text style=\"fill:#000000; fill-opacity:1; font-family:Arial,Helvetica Neue,Helvetica,sans-serif; font-size:48px; text-anchor:middle;\" transform=\"rotate(0, 1247.31, 1541.47)\" x=\"1247.31\" y=\"1541.47\">0</text>\n",
       "</g>\n",
       "<g clip-path=\"url(#clip5700)\">\n",
       "<text style=\"fill:#000000; fill-opacity:1; font-family:Arial,Helvetica Neue,Helvetica,sans-serif; font-size:48px; text-anchor:middle;\" transform=\"rotate(0, 1689.49, 1541.47)\" x=\"1689.49\" y=\"1541.47\">1</text>\n",
       "</g>\n",
       "<g clip-path=\"url(#clip5700)\">\n",
       "<text style=\"fill:#000000; fill-opacity:1; font-family:Arial,Helvetica Neue,Helvetica,sans-serif; font-size:48px; text-anchor:middle;\" transform=\"rotate(0, 2131.67, 1541.47)\" x=\"2131.67\" y=\"1541.47\">2</text>\n",
       "</g>\n",
       "<g clip-path=\"url(#clip5700)\">\n",
       "<text style=\"fill:#000000; fill-opacity:1; font-family:Arial,Helvetica Neue,Helvetica,sans-serif; font-size:48px; text-anchor:end;\" transform=\"rotate(0, 117.865, 1360.95)\" x=\"117.865\" y=\"1360.95\">-2</text>\n",
       "</g>\n",
       "<g clip-path=\"url(#clip5700)\">\n",
       "<text style=\"fill:#000000; fill-opacity:1; font-family:Arial,Helvetica Neue,Helvetica,sans-serif; font-size:48px; text-anchor:end;\" transform=\"rotate(0, 117.865, 1072.91)\" x=\"117.865\" y=\"1072.91\">-1</text>\n",
       "</g>\n",
       "<g clip-path=\"url(#clip5700)\">\n",
       "<text style=\"fill:#000000; fill-opacity:1; font-family:Arial,Helvetica Neue,Helvetica,sans-serif; font-size:48px; text-anchor:end;\" transform=\"rotate(0, 117.865, 784.859)\" x=\"117.865\" y=\"784.859\">0</text>\n",
       "</g>\n",
       "<g clip-path=\"url(#clip5700)\">\n",
       "<text style=\"fill:#000000; fill-opacity:1; font-family:Arial,Helvetica Neue,Helvetica,sans-serif; font-size:48px; text-anchor:end;\" transform=\"rotate(0, 117.865, 496.813)\" x=\"117.865\" y=\"496.813\">1</text>\n",
       "</g>\n",
       "<g clip-path=\"url(#clip5700)\">\n",
       "<text style=\"fill:#000000; fill-opacity:1; font-family:Arial,Helvetica Neue,Helvetica,sans-serif; font-size:48px; text-anchor:end;\" transform=\"rotate(0, 117.865, 208.767)\" x=\"117.865\" y=\"208.767\">2</text>\n",
       "</g>\n",
       "<path clip-path=\"url(#clip5702)\" d=\"\n",
       "M1116.17 757.982 L1119.51 739.741 L1123.36 721.612 L1127.72 703.667 L1132.55 685.978 L1137.85 668.617 L1143.59 651.654 L1149.75 635.157 L1156.3 619.192 L1163.21 603.823 \n",
       "  L1170.47 589.113 L1178.03 575.121 L1185.88 561.903 L1193.97 549.512 L1202.27 537.999 L1210.76 527.409 L1219.39 517.785 L1228.14 509.166 L1236.96 501.587 L1245.83 495.078 \n",
       "  L1254.7 489.665 L1263.54 485.37 L1272.31 482.211 L1280.99 480.2 L1289.53 479.346 L1297.9 479.651 L1306.06 481.115 L1313.99 483.731 L1321.65 487.489 L1329.02 492.375 \n",
       "  L1336.05 498.367 L1342.72 505.443 L1349.01 513.573 L1354.9 522.725 L1360.34 532.863 L1365.34 543.944 L1369.85 555.925 L1373.88 568.758 L1377.39 582.39 L1380.38 596.767 \n",
       "  L1382.84 611.831 L1384.75 627.521 L1386.11 643.774 L1386.9 660.525 L1387.14 677.706 L1386.81 695.248 L1385.92 713.081 L1384.47 731.132 L1382.47 749.329 L1379.93 767.598 \n",
       "  L1376.85 785.867 L1373.25 804.061 L1369.14 822.107 L1364.54 839.933 L1359.47 857.466 L1353.95 874.637 L1348 891.376 L1341.65 907.615 L1334.91 923.29 L1327.82 938.337 \n",
       "  L1320.41 952.695 L1312.7 966.307 L1304.73 979.118 L1296.53 991.076 L1288.13 1002.13 L1279.56 1012.25 L1270.87 1021.37 L1262.08 1029.47 L1253.23 1036.52 L1244.36 1042.49 \n",
       "  L1235.5 1047.34 L1226.68 1051.07 L1217.95 1053.66 L1209.34 1055.09 L1200.88 1055.37 L1192.61 1054.48 L1184.56 1052.44 L1176.76 1049.25 L1169.25 1044.93 L1162.05 1039.49 \n",
       "  L1155.19 1032.95 L1148.7 1025.34 L1142.61 1016.7 L1136.95 1007.05 L1131.72 996.431 L1126.96 984.894 L1122.69 972.481 L1118.92 959.242 L1115.66 945.23 L1112.94 930.502 \n",
       "  L1110.76 915.117 L1109.12 899.137 L1108.05 882.627 L1107.53 865.652 L1107.58 848.282 L1108.19 830.586 L1109.36 812.635 L1111.08 794.502 L1113.35 776.26 L1116.17 757.982 \n",
       "  L1116.17 757.982  Z\n",
       "  \" fill=\"#009af9\" fill-rule=\"evenodd\" fill-opacity=\"0.3\"/>\n",
       "<polyline clip-path=\"url(#clip5702)\" style=\"stroke:#000000; stroke-width:4; stroke-opacity:0.3; fill:none\" points=\"\n",
       "  1116.17,757.982 1119.51,739.741 1123.36,721.612 1127.72,703.667 1132.55,685.978 1137.85,668.617 1143.59,651.654 1149.75,635.157 1156.3,619.192 1163.21,603.823 \n",
       "  1170.47,589.113 1178.03,575.121 1185.88,561.903 1193.97,549.512 1202.27,537.999 1210.76,527.409 1219.39,517.785 1228.14,509.166 1236.96,501.587 1245.83,495.078 \n",
       "  1254.7,489.665 1263.54,485.37 1272.31,482.211 1280.99,480.2 1289.53,479.346 1297.9,479.651 1306.06,481.115 1313.99,483.731 1321.65,487.489 1329.02,492.375 \n",
       "  1336.05,498.367 1342.72,505.443 1349.01,513.573 1354.9,522.725 1360.34,532.863 1365.34,543.944 1369.85,555.925 1373.88,568.758 1377.39,582.39 1380.38,596.767 \n",
       "  1382.84,611.831 1384.75,627.521 1386.11,643.774 1386.9,660.525 1387.14,677.706 1386.81,695.248 1385.92,713.081 1384.47,731.132 1382.47,749.329 1379.93,767.598 \n",
       "  1376.85,785.867 1373.25,804.061 1369.14,822.107 1364.54,839.933 1359.47,857.466 1353.95,874.637 1348,891.376 1341.65,907.615 1334.91,923.29 1327.82,938.337 \n",
       "  1320.41,952.695 1312.7,966.307 1304.73,979.118 1296.53,991.076 1288.13,1002.13 1279.56,1012.25 1270.87,1021.37 1262.08,1029.47 1253.23,1036.52 1244.36,1042.49 \n",
       "  1235.5,1047.34 1226.68,1051.07 1217.95,1053.66 1209.34,1055.09 1200.88,1055.37 1192.61,1054.48 1184.56,1052.44 1176.76,1049.25 1169.25,1044.93 1162.05,1039.49 \n",
       "  1155.19,1032.95 1148.7,1025.34 1142.61,1016.7 1136.95,1007.05 1131.72,996.431 1126.96,984.894 1122.69,972.481 1118.92,959.242 1115.66,945.23 1112.94,930.502 \n",
       "  1110.76,915.117 1109.12,899.137 1108.05,882.627 1107.53,865.652 1107.58,848.282 1108.19,830.586 1109.36,812.635 1111.08,794.502 1113.35,776.26 1116.17,757.982 \n",
       "  \n",
       "  \"/>\n",
       "<path clip-path=\"url(#clip5702)\" d=\"\n",
       "M985.023 748.604 L991.705 712.123 L999.416 675.864 L1008.13 639.974 L1017.8 604.597 L1028.39 569.875 L1039.87 535.949 L1052.19 502.954 L1065.28 471.024 L1079.12 440.287 \n",
       "  L1093.63 410.867 L1108.75 382.883 L1124.44 356.447 L1140.62 331.665 L1157.23 308.638 L1174.2 287.458 L1191.47 268.21 L1208.96 250.972 L1226.61 235.814 L1244.34 222.796 \n",
       "  L1262.08 211.97 L1279.76 203.381 L1297.32 197.063 L1314.67 193.041 L1331.75 191.332 L1348.49 191.943 L1364.82 194.87 L1380.68 200.102 L1396 207.619 L1410.72 217.39 \n",
       "  L1424.79 229.375 L1438.14 243.526 L1450.72 259.787 L1462.48 278.091 L1473.38 298.366 L1483.36 320.529 L1492.4 344.491 L1500.45 370.156 L1507.48 397.421 L1513.46 426.175 \n",
       "  L1518.37 456.302 L1522.19 487.683 L1524.9 520.189 L1526.49 553.691 L1526.96 588.053 L1526.31 623.138 L1524.53 658.802 L1521.63 694.904 L1517.63 731.298 L1512.54 767.837 \n",
       "  L1506.39 804.374 L1499.19 840.762 L1490.97 876.855 L1481.78 912.506 L1471.64 947.573 L1460.59 981.915 L1448.69 1015.39 L1435.98 1047.87 L1422.51 1079.22 L1408.33 1109.31 \n",
       "  L1393.5 1138.03 L1378.09 1165.25 L1362.15 1190.88 L1345.74 1214.79 L1328.94 1236.91 L1311.82 1257.13 L1294.43 1275.38 L1276.85 1291.59 L1259.15 1305.69 L1241.41 1317.61 \n",
       "  L1223.68 1327.32 L1206.06 1334.78 L1188.6 1339.95 L1171.38 1342.82 L1154.46 1343.37 L1137.91 1341.6 L1121.81 1337.52 L1106.21 1331.14 L1091.18 1322.49 L1076.78 1311.61 \n",
       "  L1063.07 1298.54 L1050.09 1283.32 L1037.92 1266.03 L1026.58 1246.73 L1016.13 1225.5 L1006.62 1202.43 L998.071 1177.6 L990.528 1151.12 L984.019 1123.1 L978.571 1093.64 \n",
       "  L974.204 1062.87 L970.937 1030.92 L968.783 997.895 L967.75 963.946 L967.843 929.205 L969.062 893.813 L971.401 857.911 L974.85 821.645 L979.397 785.16 L985.023 748.604 \n",
       "  L985.023 748.604  Z\n",
       "  \" fill=\"#e26f46\" fill-rule=\"evenodd\" fill-opacity=\"0.3\"/>\n",
       "<polyline clip-path=\"url(#clip5702)\" style=\"stroke:#000000; stroke-width:4; stroke-opacity:0.3; fill:none\" points=\"\n",
       "  985.023,748.604 991.705,712.123 999.416,675.864 1008.13,639.974 1017.8,604.597 1028.39,569.875 1039.87,535.949 1052.19,502.954 1065.28,471.024 1079.12,440.287 \n",
       "  1093.63,410.867 1108.75,382.883 1124.44,356.447 1140.62,331.665 1157.23,308.638 1174.2,287.458 1191.47,268.21 1208.96,250.972 1226.61,235.814 1244.34,222.796 \n",
       "  1262.08,211.97 1279.76,203.381 1297.32,197.063 1314.67,193.041 1331.75,191.332 1348.49,191.943 1364.82,194.87 1380.68,200.102 1396,207.619 1410.72,217.39 \n",
       "  1424.79,229.375 1438.14,243.526 1450.72,259.787 1462.48,278.091 1473.38,298.366 1483.36,320.529 1492.4,344.491 1500.45,370.156 1507.48,397.421 1513.46,426.175 \n",
       "  1518.37,456.302 1522.19,487.683 1524.9,520.189 1526.49,553.691 1526.96,588.053 1526.31,623.138 1524.53,658.802 1521.63,694.904 1517.63,731.298 1512.54,767.837 \n",
       "  1506.39,804.374 1499.19,840.762 1490.97,876.855 1481.78,912.506 1471.64,947.573 1460.59,981.915 1448.69,1015.39 1435.98,1047.87 1422.51,1079.22 1408.33,1109.31 \n",
       "  1393.5,1138.03 1378.09,1165.25 1362.15,1190.88 1345.74,1214.79 1328.94,1236.91 1311.82,1257.13 1294.43,1275.38 1276.85,1291.59 1259.15,1305.69 1241.41,1317.61 \n",
       "  1223.68,1327.32 1206.06,1334.78 1188.6,1339.95 1171.38,1342.82 1154.46,1343.37 1137.91,1341.6 1121.81,1337.52 1106.21,1331.14 1091.18,1322.49 1076.78,1311.61 \n",
       "  1063.07,1298.54 1050.09,1283.32 1037.92,1266.03 1026.58,1246.73 1016.13,1225.5 1006.62,1202.43 998.071,1177.6 990.528,1151.12 984.019,1123.1 978.571,1093.64 \n",
       "  974.204,1062.87 970.937,1030.92 968.783,997.895 967.75,963.946 967.843,929.205 969.062,893.813 971.401,857.911 974.85,821.645 979.397,785.16 985.023,748.604 \n",
       "  985.023,748.604 \n",
       "  \"/>\n",
       "<polyline clip-path=\"url(#clip5702)\" style=\"stroke:#3da44d; stroke-width:4; stroke-opacity:1; fill:none\" points=\"\n",
       "  141.865,1487.47 163.456,1473.41 363.097,1343.36 483.073,1265.2 584.512,1199.12 694.702,1127.34 796.288,1061.17 905.199,990.219 1031.38,908.02 1143.52,834.971 \n",
       "  1241.85,770.913 1349.07,701.074 1456.91,630.819 1576.15,553.143 1689.61,479.236 1807.57,402.391 1906.87,337.703 2028.11,258.727 2142.08,184.487 2324.66,65.5482 \n",
       "  2352.76,47.2441 \n",
       "  \"/>\n",
       "<path clip-path=\"url(#clip5700)\" d=\"\n",
       "M1989.93 372.684 L2280.76 372.684 L2280.76 130.764 L1989.93 130.764  Z\n",
       "  \" fill=\"#ffffff\" fill-rule=\"evenodd\" fill-opacity=\"1\"/>\n",
       "<polyline clip-path=\"url(#clip5700)\" style=\"stroke:#000000; stroke-width:4; stroke-opacity:1; fill:none\" points=\"\n",
       "  1989.93,372.684 2280.76,372.684 2280.76,130.764 1989.93,130.764 1989.93,372.684 \n",
       "  \"/>\n",
       "<path clip-path=\"url(#clip5700)\" d=\"\n",
       "M2013.93 215.436 L2157.93 215.436 L2157.93 167.052 L2013.93 167.052 L2013.93 215.436  Z\n",
       "  \" fill=\"#009af9\" fill-rule=\"evenodd\" fill-opacity=\"0.3\"/>\n",
       "<polyline clip-path=\"url(#clip5700)\" style=\"stroke:#000000; stroke-width:4; stroke-opacity:1; fill:none\" points=\"\n",
       "  2013.93,215.436 2157.93,215.436 2157.93,167.052 2013.93,167.052 2013.93,215.436 \n",
       "  \"/>\n",
       "<g clip-path=\"url(#clip5700)\">\n",
       "<text style=\"fill:#000000; fill-opacity:1; font-family:Arial,Helvetica Neue,Helvetica,sans-serif; font-size:48px; text-anchor:start;\" transform=\"rotate(0, 2181.93, 208.744)\" x=\"2181.93\" y=\"208.744\">y1</text>\n",
       "</g>\n",
       "<path clip-path=\"url(#clip5700)\" d=\"\n",
       "M2013.93 275.916 L2157.93 275.916 L2157.93 227.532 L2013.93 227.532 L2013.93 275.916  Z\n",
       "  \" fill=\"#e26f46\" fill-rule=\"evenodd\" fill-opacity=\"0.3\"/>\n",
       "<polyline clip-path=\"url(#clip5700)\" style=\"stroke:#000000; stroke-width:4; stroke-opacity:1; fill:none\" points=\"\n",
       "  2013.93,275.916 2157.93,275.916 2157.93,227.532 2013.93,227.532 2013.93,275.916 \n",
       "  \"/>\n",
       "<g clip-path=\"url(#clip5700)\">\n",
       "<text style=\"fill:#000000; fill-opacity:1; font-family:Arial,Helvetica Neue,Helvetica,sans-serif; font-size:48px; text-anchor:start;\" transform=\"rotate(0, 2181.93, 269.224)\" x=\"2181.93\" y=\"269.224\">y2</text>\n",
       "</g>\n",
       "<polyline clip-path=\"url(#clip5700)\" style=\"stroke:#3da44d; stroke-width:4; stroke-opacity:1; fill:none\" points=\"\n",
       "  2013.93,312.204 2157.93,312.204 \n",
       "  \"/>\n",
       "<g clip-path=\"url(#clip5700)\">\n",
       "<text style=\"fill:#000000; fill-opacity:1; font-family:Arial,Helvetica Neue,Helvetica,sans-serif; font-size:48px; text-anchor:start;\" transform=\"rotate(0, 2181.93, 329.704)\" x=\"2181.93\" y=\"329.704\">y3</text>\n",
       "</g>\n",
       "</svg>\n"
      ]
     },
     "execution_count": 26,
     "metadata": {},
     "output_type": "execute_result"
    }
   ],
   "source": [
    "c = 1.0/10.0\n",
    "a = 2.5\n",
    "covellipse([0,0],  [c c; c 1], n_std=1,xlims=(-a,a),ylims=(-a,a))\n",
    "covellipse!([0,0], [c c; c 1], n_std=2,xlims=(-a,a),ylims=(-a,a))\n",
    "plot!(x->x,x=-a:a)"
   ]
  },
  {
   "cell_type": "code",
   "execution_count": 20,
   "metadata": {},
   "outputs": [
    {
     "data": {
      "image/svg+xml": [
       "<?xml version=\"1.0\" encoding=\"utf-8\"?>\n",
       "<svg xmlns=\"http://www.w3.org/2000/svg\" xmlns:xlink=\"http://www.w3.org/1999/xlink\" width=\"600\" height=\"400\" viewBox=\"0 0 2400 1600\">\n",
       "<defs>\n",
       "  <clipPath id=\"clip4500\">\n",
       "    <rect x=\"0\" y=\"0\" width=\"2400\" height=\"1600\"/>\n",
       "  </clipPath>\n",
       "</defs>\n",
       "<path clip-path=\"url(#clip4500)\" d=\"\n",
       "M0 1600 L2400 1600 L2400 0 L0 0  Z\n",
       "  \" fill=\"#ffffff\" fill-rule=\"evenodd\" fill-opacity=\"1\"/>\n",
       "<defs>\n",
       "  <clipPath id=\"clip4501\">\n",
       "    <rect x=\"480\" y=\"0\" width=\"1681\" height=\"1600\"/>\n",
       "  </clipPath>\n",
       "</defs>\n",
       "<path clip-path=\"url(#clip4500)\" d=\"\n",
       "M182.008 1487.47 L2352.76 1487.47 L2352.76 47.2441 L182.008 47.2441  Z\n",
       "  \" fill=\"#ffffff\" fill-rule=\"evenodd\" fill-opacity=\"1\"/>\n",
       "<defs>\n",
       "  <clipPath id=\"clip4502\">\n",
       "    <rect x=\"182\" y=\"47\" width=\"2172\" height=\"1441\"/>\n",
       "  </clipPath>\n",
       "</defs>\n",
       "<polyline clip-path=\"url(#clip4502)\" style=\"stroke:#000000; stroke-width:2; stroke-opacity:0.1; fill:none\" points=\"\n",
       "  432.479,1487.47 432.479,47.2441 \n",
       "  \"/>\n",
       "<polyline clip-path=\"url(#clip4502)\" style=\"stroke:#000000; stroke-width:2; stroke-opacity:0.1; fill:none\" points=\"\n",
       "  849.93,1487.47 849.93,47.2441 \n",
       "  \"/>\n",
       "<polyline clip-path=\"url(#clip4502)\" style=\"stroke:#000000; stroke-width:2; stroke-opacity:0.1; fill:none\" points=\"\n",
       "  1267.38,1487.47 1267.38,47.2441 \n",
       "  \"/>\n",
       "<polyline clip-path=\"url(#clip4502)\" style=\"stroke:#000000; stroke-width:2; stroke-opacity:0.1; fill:none\" points=\"\n",
       "  1684.83,1487.47 1684.83,47.2441 \n",
       "  \"/>\n",
       "<polyline clip-path=\"url(#clip4502)\" style=\"stroke:#000000; stroke-width:2; stroke-opacity:0.1; fill:none\" points=\"\n",
       "  2102.29,1487.47 2102.29,47.2441 \n",
       "  \"/>\n",
       "<polyline clip-path=\"url(#clip4502)\" style=\"stroke:#000000; stroke-width:2; stroke-opacity:0.1; fill:none\" points=\"\n",
       "  182.008,1321.29 2352.76,1321.29 \n",
       "  \"/>\n",
       "<polyline clip-path=\"url(#clip4502)\" style=\"stroke:#000000; stroke-width:2; stroke-opacity:0.1; fill:none\" points=\"\n",
       "  182.008,1044.33 2352.76,1044.33 \n",
       "  \"/>\n",
       "<polyline clip-path=\"url(#clip4502)\" style=\"stroke:#000000; stroke-width:2; stroke-opacity:0.1; fill:none\" points=\"\n",
       "  182.008,767.359 2352.76,767.359 \n",
       "  \"/>\n",
       "<polyline clip-path=\"url(#clip4502)\" style=\"stroke:#000000; stroke-width:2; stroke-opacity:0.1; fill:none\" points=\"\n",
       "  182.008,490.392 2352.76,490.392 \n",
       "  \"/>\n",
       "<polyline clip-path=\"url(#clip4502)\" style=\"stroke:#000000; stroke-width:2; stroke-opacity:0.1; fill:none\" points=\"\n",
       "  182.008,213.425 2352.76,213.425 \n",
       "  \"/>\n",
       "<polyline clip-path=\"url(#clip4500)\" style=\"stroke:#000000; stroke-width:4; stroke-opacity:1; fill:none\" points=\"\n",
       "  182.008,1487.47 2352.76,1487.47 \n",
       "  \"/>\n",
       "<polyline clip-path=\"url(#clip4500)\" style=\"stroke:#000000; stroke-width:4; stroke-opacity:1; fill:none\" points=\"\n",
       "  182.008,1487.47 182.008,47.2441 \n",
       "  \"/>\n",
       "<polyline clip-path=\"url(#clip4500)\" style=\"stroke:#000000; stroke-width:4; stroke-opacity:1; fill:none\" points=\"\n",
       "  432.479,1487.47 432.479,1470.19 \n",
       "  \"/>\n",
       "<polyline clip-path=\"url(#clip4500)\" style=\"stroke:#000000; stroke-width:4; stroke-opacity:1; fill:none\" points=\"\n",
       "  849.93,1487.47 849.93,1470.19 \n",
       "  \"/>\n",
       "<polyline clip-path=\"url(#clip4500)\" style=\"stroke:#000000; stroke-width:4; stroke-opacity:1; fill:none\" points=\"\n",
       "  1267.38,1487.47 1267.38,1470.19 \n",
       "  \"/>\n",
       "<polyline clip-path=\"url(#clip4500)\" style=\"stroke:#000000; stroke-width:4; stroke-opacity:1; fill:none\" points=\"\n",
       "  1684.83,1487.47 1684.83,1470.19 \n",
       "  \"/>\n",
       "<polyline clip-path=\"url(#clip4500)\" style=\"stroke:#000000; stroke-width:4; stroke-opacity:1; fill:none\" points=\"\n",
       "  2102.29,1487.47 2102.29,1470.19 \n",
       "  \"/>\n",
       "<polyline clip-path=\"url(#clip4500)\" style=\"stroke:#000000; stroke-width:4; stroke-opacity:1; fill:none\" points=\"\n",
       "  182.008,1321.29 208.057,1321.29 \n",
       "  \"/>\n",
       "<polyline clip-path=\"url(#clip4500)\" style=\"stroke:#000000; stroke-width:4; stroke-opacity:1; fill:none\" points=\"\n",
       "  182.008,1044.33 208.057,1044.33 \n",
       "  \"/>\n",
       "<polyline clip-path=\"url(#clip4500)\" style=\"stroke:#000000; stroke-width:4; stroke-opacity:1; fill:none\" points=\"\n",
       "  182.008,767.359 208.057,767.359 \n",
       "  \"/>\n",
       "<polyline clip-path=\"url(#clip4500)\" style=\"stroke:#000000; stroke-width:4; stroke-opacity:1; fill:none\" points=\"\n",
       "  182.008,490.392 208.057,490.392 \n",
       "  \"/>\n",
       "<polyline clip-path=\"url(#clip4500)\" style=\"stroke:#000000; stroke-width:4; stroke-opacity:1; fill:none\" points=\"\n",
       "  182.008,213.425 208.057,213.425 \n",
       "  \"/>\n",
       "<g clip-path=\"url(#clip4500)\">\n",
       "<text style=\"fill:#000000; fill-opacity:1; font-family:Arial,Helvetica Neue,Helvetica,sans-serif; font-size:48px; text-anchor:middle;\" transform=\"rotate(0, 432.479, 1541.47)\" x=\"432.479\" y=\"1541.47\">-5.0</text>\n",
       "</g>\n",
       "<g clip-path=\"url(#clip4500)\">\n",
       "<text style=\"fill:#000000; fill-opacity:1; font-family:Arial,Helvetica Neue,Helvetica,sans-serif; font-size:48px; text-anchor:middle;\" transform=\"rotate(0, 849.93, 1541.47)\" x=\"849.93\" y=\"1541.47\">-2.5</text>\n",
       "</g>\n",
       "<g clip-path=\"url(#clip4500)\">\n",
       "<text style=\"fill:#000000; fill-opacity:1; font-family:Arial,Helvetica Neue,Helvetica,sans-serif; font-size:48px; text-anchor:middle;\" transform=\"rotate(0, 1267.38, 1541.47)\" x=\"1267.38\" y=\"1541.47\">0.0</text>\n",
       "</g>\n",
       "<g clip-path=\"url(#clip4500)\">\n",
       "<text style=\"fill:#000000; fill-opacity:1; font-family:Arial,Helvetica Neue,Helvetica,sans-serif; font-size:48px; text-anchor:middle;\" transform=\"rotate(0, 1684.83, 1541.47)\" x=\"1684.83\" y=\"1541.47\">2.5</text>\n",
       "</g>\n",
       "<g clip-path=\"url(#clip4500)\">\n",
       "<text style=\"fill:#000000; fill-opacity:1; font-family:Arial,Helvetica Neue,Helvetica,sans-serif; font-size:48px; text-anchor:middle;\" transform=\"rotate(0, 2102.29, 1541.47)\" x=\"2102.29\" y=\"1541.47\">5.0</text>\n",
       "</g>\n",
       "<g clip-path=\"url(#clip4500)\">\n",
       "<text style=\"fill:#000000; fill-opacity:1; font-family:Arial,Helvetica Neue,Helvetica,sans-serif; font-size:48px; text-anchor:end;\" transform=\"rotate(0, 158.008, 1338.79)\" x=\"158.008\" y=\"1338.79\">-5.0</text>\n",
       "</g>\n",
       "<g clip-path=\"url(#clip4500)\">\n",
       "<text style=\"fill:#000000; fill-opacity:1; font-family:Arial,Helvetica Neue,Helvetica,sans-serif; font-size:48px; text-anchor:end;\" transform=\"rotate(0, 158.008, 1061.83)\" x=\"158.008\" y=\"1061.83\">-2.5</text>\n",
       "</g>\n",
       "<g clip-path=\"url(#clip4500)\">\n",
       "<text style=\"fill:#000000; fill-opacity:1; font-family:Arial,Helvetica Neue,Helvetica,sans-serif; font-size:48px; text-anchor:end;\" transform=\"rotate(0, 158.008, 784.859)\" x=\"158.008\" y=\"784.859\">0.0</text>\n",
       "</g>\n",
       "<g clip-path=\"url(#clip4500)\">\n",
       "<text style=\"fill:#000000; fill-opacity:1; font-family:Arial,Helvetica Neue,Helvetica,sans-serif; font-size:48px; text-anchor:end;\" transform=\"rotate(0, 158.008, 507.892)\" x=\"158.008\" y=\"507.892\">2.5</text>\n",
       "</g>\n",
       "<g clip-path=\"url(#clip4500)\">\n",
       "<text style=\"fill:#000000; fill-opacity:1; font-family:Arial,Helvetica Neue,Helvetica,sans-serif; font-size:48px; text-anchor:end;\" transform=\"rotate(0, 158.008, 230.925)\" x=\"158.008\" y=\"230.925\">5.0</text>\n",
       "</g>\n",
       "<path clip-path=\"url(#clip4502)\" d=\"\n",
       "M1179.6 731.363 L1188.78 721.764 L1198.28 712.349 L1208.06 703.155 L1218.08 694.22 L1228.3 685.579 L1238.68 677.268 L1249.17 669.32 L1259.73 661.766 L1270.32 654.637 \n",
       "  L1280.91 647.963 L1291.44 641.769 L1301.87 636.08 L1312.16 630.921 L1322.27 626.311 L1332.16 622.268 L1341.8 618.81 L1351.13 615.951 L1360.12 613.7 L1368.74 612.069 \n",
       "  L1376.95 611.063 L1384.72 610.686 L1392.02 610.94 L1398.82 611.824 L1405.09 613.334 L1410.8 615.465 L1415.93 618.207 L1420.47 621.549 L1424.39 625.479 L1427.68 629.98 \n",
       "  L1430.32 635.034 L1432.31 640.621 L1433.63 646.719 L1434.29 653.302 L1434.27 660.344 L1433.58 667.818 L1432.22 675.692 L1430.19 683.935 L1427.52 692.514 L1424.19 701.395 \n",
       "  L1420.24 710.541 L1415.67 719.916 L1410.5 729.482 L1404.75 739.2 L1398.46 749.032 L1391.63 758.938 L1384.31 768.878 L1376.51 778.811 L1368.27 788.699 L1359.63 798.5 \n",
       "  L1350.62 808.176 L1341.27 817.688 L1331.62 826.997 L1321.72 836.066 L1311.59 844.858 L1301.29 853.338 L1290.86 861.472 L1280.32 869.227 L1269.74 876.572 L1259.14 883.477 \n",
       "  L1248.58 889.915 L1238.1 895.859 L1227.73 901.286 L1217.52 906.173 L1207.51 910.501 L1197.75 914.253 L1188.26 917.414 L1179.1 919.97 L1170.28 921.912 L1161.86 923.231 \n",
       "  L1153.87 923.923 L1146.33 923.985 L1139.28 923.415 L1132.74 922.218 L1126.75 920.397 L1121.32 917.959 L1116.48 914.915 L1112.25 911.277 L1108.65 907.06 L1105.68 902.28 \n",
       "  L1103.36 896.956 L1101.71 891.111 L1100.72 884.768 L1100.4 877.951 L1100.76 870.69 L1101.78 863.012 L1103.47 854.95 L1105.83 846.534 L1108.83 837.8 L1112.47 828.782 \n",
       "  L1116.74 819.517 L1121.61 810.041 L1127.07 800.394 L1133.09 790.614 L1139.66 780.74 L1146.74 770.813 L1154.3 760.871 L1162.32 750.956 L1170.76 741.106 L1179.6 731.363 \n",
       "  L1179.6 731.363  Z\n",
       "  \" fill=\"#009af9\" fill-rule=\"evenodd\" fill-opacity=\"0.3\"/>\n",
       "<polyline clip-path=\"url(#clip4502)\" style=\"stroke:#000000; stroke-width:4; stroke-opacity:0.3; fill:none\" points=\"\n",
       "  1179.6,731.363 1188.78,721.764 1198.28,712.349 1208.06,703.155 1218.08,694.22 1228.3,685.579 1238.68,677.268 1249.17,669.32 1259.73,661.766 1270.32,654.637 \n",
       "  1280.91,647.963 1291.44,641.769 1301.87,636.08 1312.16,630.921 1322.27,626.311 1332.16,622.268 1341.8,618.81 1351.13,615.951 1360.12,613.7 1368.74,612.069 \n",
       "  1376.95,611.063 1384.72,610.686 1392.02,610.94 1398.82,611.824 1405.09,613.334 1410.8,615.465 1415.93,618.207 1420.47,621.549 1424.39,625.479 1427.68,629.98 \n",
       "  1430.32,635.034 1432.31,640.621 1433.63,646.719 1434.29,653.302 1434.27,660.344 1433.58,667.818 1432.22,675.692 1430.19,683.935 1427.52,692.514 1424.19,701.395 \n",
       "  1420.24,710.541 1415.67,719.916 1410.5,729.482 1404.75,739.2 1398.46,749.032 1391.63,758.938 1384.31,768.878 1376.51,778.811 1368.27,788.699 1359.63,798.5 \n",
       "  1350.62,808.176 1341.27,817.688 1331.62,826.997 1321.72,836.066 1311.59,844.858 1301.29,853.338 1290.86,861.472 1280.32,869.227 1269.74,876.572 1259.14,883.477 \n",
       "  1248.58,889.915 1238.1,895.859 1227.73,901.286 1217.52,906.173 1207.51,910.501 1197.75,914.253 1188.26,917.414 1179.1,919.97 1170.28,921.912 1161.86,923.231 \n",
       "  1153.87,923.923 1146.33,923.985 1139.28,923.415 1132.74,922.218 1126.75,920.397 1121.32,917.959 1116.48,914.915 1112.25,911.277 1108.65,907.06 1105.68,902.28 \n",
       "  1103.36,896.956 1101.71,891.111 1100.72,884.768 1100.4,877.951 1100.76,870.69 1101.78,863.012 1103.47,854.95 1105.83,846.534 1108.83,837.8 1112.47,828.782 \n",
       "  1116.74,819.517 1121.61,810.041 1127.07,800.394 1133.09,790.614 1139.66,780.74 1146.74,770.813 1154.3,760.871 1162.32,750.956 1170.76,741.106 1179.6,731.363 \n",
       "  1179.6,731.363 \n",
       "  \"/>\n",
       "<path clip-path=\"url(#clip4502)\" d=\"\n",
       "M1091.81 695.366 L1110.18 676.168 L1129.18 657.338 L1148.74 638.951 L1168.78 621.08 L1189.22 603.799 L1209.97 587.177 L1230.95 571.28 L1252.08 556.172 L1273.27 541.915 \n",
       "  L1294.43 528.566 L1315.49 516.178 L1336.35 504.801 L1356.94 494.482 L1377.16 485.262 L1396.95 477.177 L1416.21 470.261 L1434.87 464.542 L1452.86 460.041 L1470.1 456.778 \n",
       "  L1486.52 454.766 L1502.07 454.013 L1516.66 454.521 L1530.26 456.288 L1542.79 459.309 L1554.22 463.57 L1564.49 469.054 L1573.56 475.739 L1581.4 483.598 L1587.98 492.601 \n",
       "  L1593.27 502.709 L1597.24 513.883 L1599.89 526.078 L1601.19 539.244 L1601.16 553.329 L1599.77 568.276 L1597.06 584.024 L1593.01 600.511 L1587.65 617.669 L1581 635.43 \n",
       "  L1573.09 653.723 L1563.95 672.472 L1553.61 691.604 L1542.12 711.042 L1529.53 730.705 L1515.88 750.517 L1501.23 770.396 L1485.64 790.263 L1469.16 810.038 L1451.88 829.641 \n",
       "  L1433.85 848.993 L1415.16 868.016 L1395.86 886.635 L1376.06 904.772 L1355.81 922.357 L1335.2 939.317 L1314.33 955.585 L1293.26 971.096 L1272.09 985.785 L1250.91 999.595 \n",
       "  L1229.78 1012.47 L1208.81 1024.36 L1188.08 1035.21 L1167.66 1044.99 L1147.65 1053.64 L1128.12 1061.15 L1109.14 1067.47 L1090.81 1072.58 L1073.19 1076.46 L1056.35 1079.1 \n",
       "  L1040.36 1080.49 L1025.28 1080.61 L1011.18 1079.47 L998.105 1077.08 L986.119 1073.43 L975.265 1068.56 L965.588 1062.47 L957.125 1055.2 L949.912 1046.76 L943.978 1037.2 \n",
       "  L939.345 1026.55 L936.034 1014.86 L934.056 1002.18 L933.421 988.544 L934.131 974.02 L936.182 958.665 L939.567 942.54 L944.273 925.709 L950.279 908.24 L957.562 890.204 \n",
       "  L966.092 871.674 L975.836 852.723 L986.754 833.429 L998.801 813.869 L1011.93 794.121 L1026.09 774.266 L1041.22 754.383 L1057.26 734.552 L1074.14 714.853 L1091.81 695.366 \n",
       "  L1091.81 695.366  Z\n",
       "  \" fill=\"#e26f46\" fill-rule=\"evenodd\" fill-opacity=\"0.3\"/>\n",
       "<polyline clip-path=\"url(#clip4502)\" style=\"stroke:#000000; stroke-width:4; stroke-opacity:0.3; fill:none\" points=\"\n",
       "  1091.81,695.366 1110.18,676.168 1129.18,657.338 1148.74,638.951 1168.78,621.08 1189.22,603.799 1209.97,587.177 1230.95,571.28 1252.08,556.172 1273.27,541.915 \n",
       "  1294.43,528.566 1315.49,516.178 1336.35,504.801 1356.94,494.482 1377.16,485.262 1396.95,477.177 1416.21,470.261 1434.87,464.542 1452.86,460.041 1470.1,456.778 \n",
       "  1486.52,454.766 1502.07,454.013 1516.66,454.521 1530.26,456.288 1542.79,459.309 1554.22,463.57 1564.49,469.054 1573.56,475.739 1581.4,483.598 1587.98,492.601 \n",
       "  1593.27,502.709 1597.24,513.883 1599.89,526.078 1601.19,539.244 1601.16,553.329 1599.77,568.276 1597.06,584.024 1593.01,600.511 1587.65,617.669 1581,635.43 \n",
       "  1573.09,653.723 1563.95,672.472 1553.61,691.604 1542.12,711.042 1529.53,730.705 1515.88,750.517 1501.23,770.396 1485.64,790.263 1469.16,810.038 1451.88,829.641 \n",
       "  1433.85,848.993 1415.16,868.016 1395.86,886.635 1376.06,904.772 1355.81,922.357 1335.2,939.317 1314.33,955.585 1293.26,971.096 1272.09,985.785 1250.91,999.595 \n",
       "  1229.78,1012.47 1208.81,1024.36 1188.08,1035.21 1167.66,1044.99 1147.65,1053.64 1128.12,1061.15 1109.14,1067.47 1090.81,1072.58 1073.19,1076.46 1056.35,1079.1 \n",
       "  1040.36,1080.49 1025.28,1080.61 1011.18,1079.47 998.105,1077.08 986.119,1073.43 975.265,1068.56 965.588,1062.47 957.125,1055.2 949.912,1046.76 943.978,1037.2 \n",
       "  939.345,1026.55 936.034,1014.86 934.056,1002.18 933.421,988.544 934.131,974.02 936.182,958.665 939.567,942.54 944.273,925.709 950.279,908.24 957.562,890.204 \n",
       "  966.092,871.674 975.836,852.723 986.754,833.429 998.801,813.869 1011.93,794.121 1026.09,774.266 1041.22,754.383 1057.26,734.552 1074.14,714.853 1091.81,695.366 \n",
       "  \n",
       "  \"/>\n",
       "<polyline clip-path=\"url(#clip4502)\" style=\"stroke:#3da44d; stroke-width:4; stroke-opacity:1; fill:none\" points=\"\n",
       "  182.008,1487.47 203.207,1473.41 399.224,1343.36 517.022,1265.2 616.618,1199.12 724.808,1127.34 824.549,1061.17 931.483,990.219 1055.38,908.02 1165.48,834.971 \n",
       "  1262.03,770.913 1367.29,701.074 1473.18,630.819 1590.25,553.143 1701.65,479.236 1817.47,402.391 1914.97,337.703 2034,258.727 2145.9,184.487 2325.17,65.5482 \n",
       "  2352.76,47.2441 \n",
       "  \"/>\n",
       "<path clip-path=\"url(#clip4500)\" d=\"\n",
       "M1989.93 372.684 L2280.76 372.684 L2280.76 130.764 L1989.93 130.764  Z\n",
       "  \" fill=\"#ffffff\" fill-rule=\"evenodd\" fill-opacity=\"1\"/>\n",
       "<polyline clip-path=\"url(#clip4500)\" style=\"stroke:#000000; stroke-width:4; stroke-opacity:1; fill:none\" points=\"\n",
       "  1989.93,372.684 2280.76,372.684 2280.76,130.764 1989.93,130.764 1989.93,372.684 \n",
       "  \"/>\n",
       "<path clip-path=\"url(#clip4500)\" d=\"\n",
       "M2013.93 215.436 L2157.93 215.436 L2157.93 167.052 L2013.93 167.052 L2013.93 215.436  Z\n",
       "  \" fill=\"#009af9\" fill-rule=\"evenodd\" fill-opacity=\"0.3\"/>\n",
       "<polyline clip-path=\"url(#clip4500)\" style=\"stroke:#000000; stroke-width:4; stroke-opacity:1; fill:none\" points=\"\n",
       "  2013.93,215.436 2157.93,215.436 2157.93,167.052 2013.93,167.052 2013.93,215.436 \n",
       "  \"/>\n",
       "<g clip-path=\"url(#clip4500)\">\n",
       "<text style=\"fill:#000000; fill-opacity:1; font-family:Arial,Helvetica Neue,Helvetica,sans-serif; font-size:48px; text-anchor:start;\" transform=\"rotate(0, 2181.93, 208.744)\" x=\"2181.93\" y=\"208.744\">y1</text>\n",
       "</g>\n",
       "<path clip-path=\"url(#clip4500)\" d=\"\n",
       "M2013.93 275.916 L2157.93 275.916 L2157.93 227.532 L2013.93 227.532 L2013.93 275.916  Z\n",
       "  \" fill=\"#e26f46\" fill-rule=\"evenodd\" fill-opacity=\"0.3\"/>\n",
       "<polyline clip-path=\"url(#clip4500)\" style=\"stroke:#000000; stroke-width:4; stroke-opacity:1; fill:none\" points=\"\n",
       "  2013.93,275.916 2157.93,275.916 2157.93,227.532 2013.93,227.532 2013.93,275.916 \n",
       "  \"/>\n",
       "<g clip-path=\"url(#clip4500)\">\n",
       "<text style=\"fill:#000000; fill-opacity:1; font-family:Arial,Helvetica Neue,Helvetica,sans-serif; font-size:48px; text-anchor:start;\" transform=\"rotate(0, 2181.93, 269.224)\" x=\"2181.93\" y=\"269.224\">y2</text>\n",
       "</g>\n",
       "<polyline clip-path=\"url(#clip4500)\" style=\"stroke:#3da44d; stroke-width:4; stroke-opacity:1; fill:none\" points=\"\n",
       "  2013.93,312.204 2157.93,312.204 \n",
       "  \"/>\n",
       "<g clip-path=\"url(#clip4500)\">\n",
       "<text style=\"fill:#000000; fill-opacity:1; font-family:Arial,Helvetica Neue,Helvetica,sans-serif; font-size:48px; text-anchor:start;\" transform=\"rotate(0, 2181.93, 329.704)\" x=\"2181.93\" y=\"329.704\">y3</text>\n",
       "</g>\n",
       "</svg>\n"
      ]
     },
     "execution_count": 20,
     "metadata": {},
     "output_type": "execute_result"
    }
   ],
   "source": [
    "covellipse([0,0], [1.0 1.0; 1.0 2.0], n_std=1,xlims=(-6.5,6.5),ylims=(-6.5,6.5))\n",
    "covellipse!([0,0], [1.0 1.0; 1.0 2.0], n_std=2,xlims=(-6.5,6.5),ylims=(-6.5,6.5))\n",
    "plot!(x->x,x=-6.5:6.5)"
   ]
  },
  {
   "cell_type": "code",
   "execution_count": 6,
   "metadata": {},
   "outputs": [
    {
     "data": {
      "text/plain": [
       "FullNormal(\n",
       "dim: 2\n",
       "μ: [0.0, 0.0]\n",
       "Σ: [1.0 1.0; 1.0 2.0]\n",
       ")\n"
      ]
     },
     "execution_count": 6,
     "metadata": {},
     "output_type": "execute_result"
    }
   ],
   "source": [
    "μ = [0.0, 0.0]\n",
    "Σ = [1.0 1.0\n",
    "     1.0 2.0]\n",
    "BVN = MvNormal(μ,Σ)"
   ]
  },
  {
   "cell_type": "code",
   "execution_count": 7,
   "metadata": {},
   "outputs": [
    {
     "data": {
      "text/plain": [
       "2×10000 Matrix{Float64}:\n",
       " -1.11678  -0.547226   0.39713   0.991704  …  -1.23382   -1.06636  1.35362\n",
       " -2.275    -1.63734   -0.625554  0.270737     -0.956787  -1.29182  2.49127"
      ]
     },
     "execution_count": 7,
     "metadata": {},
     "output_type": "execute_result"
    }
   ],
   "source": [
    "XY = rand(BVN,10000)"
   ]
  },
  {
   "cell_type": "code",
   "execution_count": 8,
   "metadata": {},
   "outputs": [
    {
     "data": {
      "image/svg+xml": [
       "<?xml version=\"1.0\" encoding=\"utf-8\"?>\n",
       "<svg xmlns=\"http://www.w3.org/2000/svg\" xmlns:xlink=\"http://www.w3.org/1999/xlink\" width=\"600\" height=\"400\" viewBox=\"0 0 2400 1600\">\n",
       "<defs>\n",
       "  <clipPath id=\"clip1700\">\n",
       "    <rect x=\"0\" y=\"0\" width=\"2400\" height=\"1600\"/>\n",
       "  </clipPath>\n",
       "</defs>\n",
       "<path clip-path=\"url(#clip1700)\" d=\"\n",
       "M0 1600 L2400 1600 L2400 0 L0 0  Z\n",
       "  \" fill=\"#ffffff\" fill-rule=\"evenodd\" fill-opacity=\"1\"/>\n",
       "<defs>\n",
       "  <clipPath id=\"clip1701\">\n",
       "    <rect x=\"480\" y=\"0\" width=\"1681\" height=\"1600\"/>\n",
       "  </clipPath>\n",
       "</defs>\n",
       "<path clip-path=\"url(#clip1700)\" d=\"\n",
       "M141.865 181.818 L2046.63 181.818 L2046.63 47.2441 L141.865 47.2441  Z\n",
       "  \" fill=\"#ffffff\" fill-rule=\"evenodd\" fill-opacity=\"1\"/>\n",
       "<defs>\n",
       "  <clipPath id=\"clip1702\">\n",
       "    <rect x=\"141\" y=\"47\" width=\"1906\" height=\"136\"/>\n",
       "  </clipPath>\n",
       "</defs>\n",
       "<polyline clip-path=\"url(#clip1700)\" style=\"stroke:#000000; stroke-width:4; stroke-opacity:1; fill:none\" points=\"\n",
       "  141.865,181.818 2046.63,181.818 \n",
       "  \"/>\n",
       "<polyline clip-path=\"url(#clip1700)\" style=\"stroke:#000000; stroke-width:4; stroke-opacity:1; fill:none\" points=\"\n",
       "  141.865,181.818 141.865,47.2441 \n",
       "  \"/>\n",
       "<polyline clip-path=\"url(#clip1702)\" style=\"stroke:#009af9; stroke-width:4; stroke-opacity:1; fill:none\" points=\"\n",
       "  -240.563,181.818 -226.624,181.818 -212.684,181.818 -198.745,181.818 -184.806,181.816 -170.867,181.814 -156.927,181.81 -142.988,181.803 -129.049,181.792 -115.11,181.778 \n",
       "  -101.17,181.76 -87.2311,181.741 -73.2918,181.721 -59.3526,181.7 -45.4134,181.675 -31.4741,181.64 -17.5349,181.593 -3.59562,181.53 10.3436,181.455 24.2829,181.377 \n",
       "  38.2221,181.305 52.1613,181.247 66.1006,181.203 80.0398,181.164 93.9791,181.115 107.918,181.038 121.858,180.918 135.797,180.746 149.736,180.519 163.675,180.243 \n",
       "  177.615,179.927 191.554,179.582 205.493,179.214 219.432,178.826 233.371,178.413 247.311,177.969 261.25,177.477 275.189,176.917 289.128,176.27 303.068,175.524 \n",
       "  317.007,174.683 330.946,173.769 344.885,172.809 358.825,171.824 372.764,170.82 386.703,169.781 400.642,168.681 414.582,167.489 428.521,166.184 442.46,164.761 \n",
       "  456.399,163.229 470.339,161.607 484.278,159.917 498.217,158.179 512.156,156.405 526.096,154.602 540.035,152.775 553.974,150.925 567.913,149.052 581.853,147.14 \n",
       "  595.792,145.155 609.731,143.038 623.67,140.722 637.61,138.15 651.549,135.307 665.488,132.231 679.427,129.004 693.366,125.72 707.306,122.442 721.245,119.178 \n",
       "  735.184,115.887 749.123,112.505 763.063,108.986 777.002,105.336 790.941,101.615 804.88,97.9285 818.82,94.401 832.759,91.141 846.698,88.2138 860.637,85.6266 \n",
       "  874.577,83.3328 888.516,81.2576 902.455,79.3337 916.394,77.5283 930.334,75.8458 944.273,74.2993 958.212,72.8692 972.151,71.4781 986.091,70.0037 1000.03,68.3351 \n",
       "  1013.97,66.4418 1027.91,64.419 1041.85,62.4768 1055.79,60.8783 1069.73,59.8551 1083.67,59.5414 1097.6,59.9492 1111.54,60.9844 1125.48,62.484 1139.42,64.2551 \n",
       "  1153.36,66.1068 1167.3,67.8772 1181.24,69.4583 1195.18,70.8198 1209.12,72.0221 1223.06,73.2066 1237,74.5569 1250.94,76.2417 1264.88,78.3594 1278.81,80.911 \n",
       "  1292.75,83.8095 1306.69,86.9181 1320.63,90.0935 1334.57,93.2165 1348.51,96.2057 1362.45,99.0227 1376.39,101.677 1390.33,104.232 1404.27,106.795 1418.21,109.491 \n",
       "  1432.15,112.418 1446.09,115.606 1460.02,118.999 1473.96,122.48 1487.9,125.912 1501.84,129.192 1515.78,132.28 1529.72,135.195 1543.66,137.991 1557.6,140.72 \n",
       "  1571.54,143.41 1585.48,146.056 1599.42,148.628 1613.36,151.086 1627.3,153.394 1641.23,155.53 1655.17,157.491 1669.11,159.283 1683.05,160.928 1696.99,162.452 \n",
       "  1710.93,163.884 1724.87,165.251 1738.81,166.573 1752.75,167.852 1766.69,169.075 1780.63,170.219 1794.57,171.262 1808.51,172.189 1822.45,173.002 1836.38,173.72 \n",
       "  1850.32,174.377 1864.26,175.003 1878.2,175.621 1892.14,176.239 1906.08,176.846 1920.02,177.425 1933.96,177.955 1947.9,178.425 1961.84,178.832 1975.78,179.179 \n",
       "  1989.72,179.474 2003.66,179.724 2017.59,179.938 2031.53,180.125 2045.47,180.295 2059.41,180.455 2073.35,180.607 2087.29,180.75 2101.23,180.88 2115.17,180.995 \n",
       "  2129.11,181.098 2143.05,181.194 2156.99,181.288 2170.93,181.383 2184.87,181.475 2198.8,181.56 2212.74,181.63 2226.68,181.68 2240.62,181.709 2254.56,181.719 \n",
       "  2268.5,181.715 2282.44,181.703 2296.38,181.689 2310.32,181.679 2324.26,181.675 2338.2,181.679 2352.14,181.691 2366.08,181.71 2380.01,181.731 2393.95,181.754 \n",
       "  2407.89,181.774 2421.83,181.79 2435.77,181.802 2449.71,181.81 2463.65,181.814 2477.59,181.816 2491.53,181.818 2505.47,181.818 2519.41,181.818 2533.35,181.818 \n",
       "  \n",
       "  \"/>\n",
       "<path clip-path=\"url(#clip1700)\" d=\"\n",
       "M141.865 1487.47 L2046.63 1487.47 L2046.63 276.307 L141.865 276.307  Z\n",
       "  \" fill=\"#ffffff\" fill-rule=\"evenodd\" fill-opacity=\"1\"/>\n",
       "<defs>\n",
       "  <clipPath id=\"clip1703\">\n",
       "    <rect x=\"141\" y=\"276\" width=\"1906\" height=\"1212\"/>\n",
       "  </clipPath>\n",
       "</defs>\n",
       "<polyline clip-path=\"url(#clip1703)\" style=\"stroke:#000000; stroke-width:2; stroke-opacity:0.1; fill:none\" points=\"\n",
       "  142.186,1487.47 142.186,276.307 \n",
       "  \"/>\n",
       "<polyline clip-path=\"url(#clip1703)\" style=\"stroke:#000000; stroke-width:2; stroke-opacity:0.1; fill:none\" points=\"\n",
       "  457.421,1487.47 457.421,276.307 \n",
       "  \"/>\n",
       "<polyline clip-path=\"url(#clip1703)\" style=\"stroke:#000000; stroke-width:2; stroke-opacity:0.1; fill:none\" points=\"\n",
       "  772.657,1487.47 772.657,276.307 \n",
       "  \"/>\n",
       "<polyline clip-path=\"url(#clip1703)\" style=\"stroke:#000000; stroke-width:2; stroke-opacity:0.1; fill:none\" points=\"\n",
       "  1087.89,1487.47 1087.89,276.307 \n",
       "  \"/>\n",
       "<polyline clip-path=\"url(#clip1703)\" style=\"stroke:#000000; stroke-width:2; stroke-opacity:0.1; fill:none\" points=\"\n",
       "  1403.13,1487.47 1403.13,276.307 \n",
       "  \"/>\n",
       "<polyline clip-path=\"url(#clip1703)\" style=\"stroke:#000000; stroke-width:2; stroke-opacity:0.1; fill:none\" points=\"\n",
       "  1718.36,1487.47 1718.36,276.307 \n",
       "  \"/>\n",
       "<polyline clip-path=\"url(#clip1703)\" style=\"stroke:#000000; stroke-width:2; stroke-opacity:0.1; fill:none\" points=\"\n",
       "  2033.6,1487.47 2033.6,276.307 \n",
       "  \"/>\n",
       "<polyline clip-path=\"url(#clip1703)\" style=\"stroke:#000000; stroke-width:2; stroke-opacity:0.1; fill:none\" points=\"\n",
       "  141.865,1459.12 2046.63,1459.12 \n",
       "  \"/>\n",
       "<polyline clip-path=\"url(#clip1703)\" style=\"stroke:#000000; stroke-width:2; stroke-opacity:0.1; fill:none\" points=\"\n",
       "  141.865,1171.13 2046.63,1171.13 \n",
       "  \"/>\n",
       "<polyline clip-path=\"url(#clip1703)\" style=\"stroke:#000000; stroke-width:2; stroke-opacity:0.1; fill:none\" points=\"\n",
       "  141.865,883.146 2046.63,883.146 \n",
       "  \"/>\n",
       "<polyline clip-path=\"url(#clip1703)\" style=\"stroke:#000000; stroke-width:2; stroke-opacity:0.1; fill:none\" points=\"\n",
       "  141.865,595.161 2046.63,595.161 \n",
       "  \"/>\n",
       "<polyline clip-path=\"url(#clip1703)\" style=\"stroke:#000000; stroke-width:2; stroke-opacity:0.1; fill:none\" points=\"\n",
       "  141.865,307.175 2046.63,307.175 \n",
       "  \"/>\n",
       "<polyline clip-path=\"url(#clip1700)\" style=\"stroke:#000000; stroke-width:4; stroke-opacity:1; fill:none\" points=\"\n",
       "  141.865,1487.47 2046.63,1487.47 \n",
       "  \"/>\n",
       "<polyline clip-path=\"url(#clip1700)\" style=\"stroke:#000000; stroke-width:4; stroke-opacity:1; fill:none\" points=\"\n",
       "  141.865,1487.47 141.865,276.307 \n",
       "  \"/>\n",
       "<polyline clip-path=\"url(#clip1700)\" style=\"stroke:#000000; stroke-width:4; stroke-opacity:1; fill:none\" points=\"\n",
       "  142.186,1487.47 142.186,1472.94 \n",
       "  \"/>\n",
       "<polyline clip-path=\"url(#clip1700)\" style=\"stroke:#000000; stroke-width:4; stroke-opacity:1; fill:none\" points=\"\n",
       "  457.421,1487.47 457.421,1472.94 \n",
       "  \"/>\n",
       "<polyline clip-path=\"url(#clip1700)\" style=\"stroke:#000000; stroke-width:4; stroke-opacity:1; fill:none\" points=\"\n",
       "  772.657,1487.47 772.657,1472.94 \n",
       "  \"/>\n",
       "<polyline clip-path=\"url(#clip1700)\" style=\"stroke:#000000; stroke-width:4; stroke-opacity:1; fill:none\" points=\"\n",
       "  1087.89,1487.47 1087.89,1472.94 \n",
       "  \"/>\n",
       "<polyline clip-path=\"url(#clip1700)\" style=\"stroke:#000000; stroke-width:4; stroke-opacity:1; fill:none\" points=\"\n",
       "  1403.13,1487.47 1403.13,1472.94 \n",
       "  \"/>\n",
       "<polyline clip-path=\"url(#clip1700)\" style=\"stroke:#000000; stroke-width:4; stroke-opacity:1; fill:none\" points=\"\n",
       "  1718.36,1487.47 1718.36,1472.94 \n",
       "  \"/>\n",
       "<polyline clip-path=\"url(#clip1700)\" style=\"stroke:#000000; stroke-width:4; stroke-opacity:1; fill:none\" points=\"\n",
       "  2033.6,1487.47 2033.6,1472.94 \n",
       "  \"/>\n",
       "<polyline clip-path=\"url(#clip1700)\" style=\"stroke:#000000; stroke-width:4; stroke-opacity:1; fill:none\" points=\"\n",
       "  141.865,1459.12 164.722,1459.12 \n",
       "  \"/>\n",
       "<polyline clip-path=\"url(#clip1700)\" style=\"stroke:#000000; stroke-width:4; stroke-opacity:1; fill:none\" points=\"\n",
       "  141.865,1171.13 164.722,1171.13 \n",
       "  \"/>\n",
       "<polyline clip-path=\"url(#clip1700)\" style=\"stroke:#000000; stroke-width:4; stroke-opacity:1; fill:none\" points=\"\n",
       "  141.865,883.146 164.722,883.146 \n",
       "  \"/>\n",
       "<polyline clip-path=\"url(#clip1700)\" style=\"stroke:#000000; stroke-width:4; stroke-opacity:1; fill:none\" points=\"\n",
       "  141.865,595.161 164.722,595.161 \n",
       "  \"/>\n",
       "<polyline clip-path=\"url(#clip1700)\" style=\"stroke:#000000; stroke-width:4; stroke-opacity:1; fill:none\" points=\"\n",
       "  141.865,307.175 164.722,307.175 \n",
       "  \"/>\n",
       "<g clip-path=\"url(#clip1700)\">\n",
       "<text style=\"fill:#000000; fill-opacity:1; font-family:Arial,Helvetica Neue,Helvetica,sans-serif; font-size:48px; text-anchor:middle;\" transform=\"rotate(0, 142.186, 1541.47)\" x=\"142.186\" y=\"1541.47\">-3</text>\n",
       "</g>\n",
       "<g clip-path=\"url(#clip1700)\">\n",
       "<text style=\"fill:#000000; fill-opacity:1; font-family:Arial,Helvetica Neue,Helvetica,sans-serif; font-size:48px; text-anchor:middle;\" transform=\"rotate(0, 457.421, 1541.47)\" x=\"457.421\" y=\"1541.47\">-2</text>\n",
       "</g>\n",
       "<g clip-path=\"url(#clip1700)\">\n",
       "<text style=\"fill:#000000; fill-opacity:1; font-family:Arial,Helvetica Neue,Helvetica,sans-serif; font-size:48px; text-anchor:middle;\" transform=\"rotate(0, 772.657, 1541.47)\" x=\"772.657\" y=\"1541.47\">-1</text>\n",
       "</g>\n",
       "<g clip-path=\"url(#clip1700)\">\n",
       "<text style=\"fill:#000000; fill-opacity:1; font-family:Arial,Helvetica Neue,Helvetica,sans-serif; font-size:48px; text-anchor:middle;\" transform=\"rotate(0, 1087.89, 1541.47)\" x=\"1087.89\" y=\"1541.47\">0</text>\n",
       "</g>\n",
       "<g clip-path=\"url(#clip1700)\">\n",
       "<text style=\"fill:#000000; fill-opacity:1; font-family:Arial,Helvetica Neue,Helvetica,sans-serif; font-size:48px; text-anchor:middle;\" transform=\"rotate(0, 1403.13, 1541.47)\" x=\"1403.13\" y=\"1541.47\">1</text>\n",
       "</g>\n",
       "<g clip-path=\"url(#clip1700)\">\n",
       "<text style=\"fill:#000000; fill-opacity:1; font-family:Arial,Helvetica Neue,Helvetica,sans-serif; font-size:48px; text-anchor:middle;\" transform=\"rotate(0, 1718.36, 1541.47)\" x=\"1718.36\" y=\"1541.47\">2</text>\n",
       "</g>\n",
       "<g clip-path=\"url(#clip1700)\">\n",
       "<text style=\"fill:#000000; fill-opacity:1; font-family:Arial,Helvetica Neue,Helvetica,sans-serif; font-size:48px; text-anchor:middle;\" transform=\"rotate(0, 2033.6, 1541.47)\" x=\"2033.6\" y=\"1541.47\">3</text>\n",
       "</g>\n",
       "<g clip-path=\"url(#clip1700)\">\n",
       "<text style=\"fill:#000000; fill-opacity:1; font-family:Arial,Helvetica Neue,Helvetica,sans-serif; font-size:48px; text-anchor:end;\" transform=\"rotate(0, 117.865, 1476.62)\" x=\"117.865\" y=\"1476.62\">-4</text>\n",
       "</g>\n",
       "<g clip-path=\"url(#clip1700)\">\n",
       "<text style=\"fill:#000000; fill-opacity:1; font-family:Arial,Helvetica Neue,Helvetica,sans-serif; font-size:48px; text-anchor:end;\" transform=\"rotate(0, 117.865, 1188.63)\" x=\"117.865\" y=\"1188.63\">-2</text>\n",
       "</g>\n",
       "<g clip-path=\"url(#clip1700)\">\n",
       "<text style=\"fill:#000000; fill-opacity:1; font-family:Arial,Helvetica Neue,Helvetica,sans-serif; font-size:48px; text-anchor:end;\" transform=\"rotate(0, 117.865, 900.646)\" x=\"117.865\" y=\"900.646\">0</text>\n",
       "</g>\n",
       "<g clip-path=\"url(#clip1700)\">\n",
       "<text style=\"fill:#000000; fill-opacity:1; font-family:Arial,Helvetica Neue,Helvetica,sans-serif; font-size:48px; text-anchor:end;\" transform=\"rotate(0, 117.865, 612.661)\" x=\"117.865\" y=\"612.661\">2</text>\n",
       "</g>\n",
       "<g clip-path=\"url(#clip1700)\">\n",
       "<text style=\"fill:#000000; fill-opacity:1; font-family:Arial,Helvetica Neue,Helvetica,sans-serif; font-size:48px; text-anchor:end;\" transform=\"rotate(0, 117.865, 324.675)\" x=\"117.865\" y=\"324.675\">4</text>\n",
       "</g>\n",
       "<polyline clip-path=\"url(#clip1703)\" style=\"stroke:#160b38; stroke-width:4; stroke-opacity:1; fill:none\" points=\"\n",
       "  464.585,1288.56 466.512,1290.24 472.989,1295.49 477.39,1298.84 482.708,1302.42 488.268,1306.1 494.147,1309.35 499.146,1312.14 508.854,1316.28 510.024,1316.78 \n",
       "  520.903,1319.84 531.781,1321.26 542.659,1321.04 553.537,1319.29 564.415,1316.31 564.506,1316.28 575.293,1312.75 586.171,1309.68 588.207,1309.35 597.049,1308.15 \n",
       "  607.927,1308.2 617.187,1309.35 618.805,1309.57 629.683,1312.17 640.561,1315.13 644.854,1316.28 651.439,1318.28 662.318,1320.88 673.196,1322.37 684.074,1322.82 \n",
       "  694.952,1322.48 705.83,1321.71 716.708,1320.77 727.586,1319.83 738.464,1318.93 749.342,1318.03 760.22,1317.04 766.893,1316.28 771.098,1315.8 781.976,1314.12 \n",
       "  792.854,1311.77 801.293,1309.35 803.732,1308.56 814.611,1304.38 819.22,1302.42 825.489,1299.42 834.051,1295.49 836.367,1294.35 847.245,1289.95 851.787,1288.56 \n",
       "  858.123,1286.69 869.001,1284.33 879.879,1282.26 882.644,1281.64 890.757,1279.92 901.635,1276.63 906.025,1274.71 912.513,1272.11 920.668,1267.78 923.391,1266.5 \n",
       "  933.404,1260.85 934.269,1260.42 945.147,1254.44 946.035,1253.92 956.026,1248.66 959.08,1246.99 966.904,1242.93 972.259,1240.07 977.782,1237.12 985.126,1233.14 \n",
       "  988.66,1231.17 997.737,1226.21 999.538,1225.2 1010.42,1219.45 1010.77,1219.28 1021.29,1214.26 1025.86,1212.35 1032.17,1209.71 1043.05,1205.66 1043.74,1205.43 \n",
       "  1053.93,1201.97 1063.73,1198.5 1064.81,1198.12 1075.68,1193.9 1080.74,1191.57 1086.56,1188.88 1094.26,1184.64 1097.44,1182.89 1105.58,1177.71 1108.32,1175.97 \n",
       "  1115.71,1170.78 1119.2,1168.33 1125.36,1163.86 1130.07,1160.44 1135.09,1156.93 1140.95,1152.92 1145.62,1150 1151.83,1146.29 1157.89,1143.07 1162.71,1140.65 \n",
       "  1172.62,1136.14 1173.59,1135.73 1184.47,1131.45 1190.2,1129.21 1195.34,1127.28 1206.22,1123.04 1208.09,1122.29 1217.1,1118.82 1225.43,1115.36 1227.98,1114.36 \n",
       "  1238.86,1109.91 1242.21,1108.43 1249.73,1105.35 1258.21,1101.5 1260.61,1100.46 1271.49,1095.14 1272.52,1094.57 1282.37,1089.03 1284.56,1087.65 1293.25,1081.68 \n",
       "  1294.54,1080.72 1302.9,1073.79 1304.12,1072.67 1310.36,1066.86 1315,1062.36 1317.6,1059.93 1325.45,1053 1325.88,1052.67 1335,1046.08 1336.76,1044.97 \n",
       "  1346.76,1039.15 1347.64,1038.69 1358.51,1033.41 1361.15,1032.22 1369.39,1028.7 1377.8,1025.29 1380.27,1024.31 1391.15,1020.28 1396.52,1018.36 1402.03,1016.43 \n",
       "  1412.9,1012.63 1416.2,1011.43 1423.78,1008.74 1434.35,1004.51 1434.66,1004.38 1445.54,999.417 1448.91,997.578 1456.42,993.347 1460.48,990.65 1467.3,985.763 \n",
       "  1469.82,983.721 1477.55,976.793 1478.17,976.177 1484.3,969.865 1489.05,964.31 1490.27,962.937 1496.03,956.008 1499.93,951.001 1501.61,949.08 1507.56,942.152 \n",
       "  1510.81,938.356 1513.92,935.224 1520.86,928.296 1521.69,927.502 1528.89,921.367 1532.56,918.277 1537.52,914.439 1543.44,909.855 1546.57,907.511 1554.32,901.623 \n",
       "  1555.68,900.583 1564.48,893.654 1565.2,893.067 1572.72,886.726 1576.08,883.619 1580.1,879.798 1586.54,872.87 1586.95,872.371 1592.32,865.941 1597.2,859.013 \n",
       "  1597.83,858.009 1601.7,852.085 1605.73,845.157 1608.71,839.598 1609.5,838.228 1613.42,831.3 1617.26,824.372 1619.59,820.121 1621.23,817.444 1625.5,810.515 \n",
       "  1629.63,803.587 1630.47,802.154 1634.17,796.659 1638.64,789.731 1641.34,785.338 1643.16,782.802 1648.02,775.874 1652.22,769.768 1652.88,768.946 1658.72,762.018 \n",
       "  1663.1,757.163 1665.32,755.09 1673.74,748.161 1673.98,747.988 1684.86,741.338 1685.05,741.233 1695.73,736.013 1699.38,734.305 1706.61,731.142 1714.99,727.377 \n",
       "  1717.49,726.262 1728.37,721.015 1729.45,720.448 1739.25,714.821 1741.26,713.52 1750.13,706.686 1750.23,706.592 1756.67,699.664 1761,693.258 1761.33,692.735 \n",
       "  1764.59,685.807 1766.82,678.879 1768.17,671.951 1768.68,665.022 1768.38,658.094 1767.32,651.166 1765.6,644.238 1763.44,637.309 1761.16,630.381 1761,629.814 \n",
       "  1759.27,623.453 1758.06,616.525 1757.82,609.596 1758.65,602.668 1760.38,595.74 1761,593.779 1762.79,588.812 1765.3,581.883 1767.22,574.955 1767.92,568.027 \n",
       "  1766.76,561.099 1763.13,554.171 1761,551.807 1756.81,547.242 1750.13,542.187 1747.5,540.314 1739.25,535.451 1735.58,533.386 1728.37,529.593 1722.51,526.458 \n",
       "  1717.49,523.706 1710.46,519.529 1706.61,517.039 1700.37,512.601 1695.73,508.976 1691.73,505.673 1684.86,499.725 1683.71,498.745 1675.42,491.816 1673.98,490.694 \n",
       "  1665.7,484.888 1663.1,483.248 1653.63,477.96 1652.22,477.222 1641.34,471.916 1639.4,471.032 1630.47,466.713 1624.8,464.103 1619.59,461.311 1611.22,457.175 \n",
       "  1608.71,455.606 1598.34,450.247 1597.83,449.903 1586.95,445.12 1576.08,443.727 1565.2,446.455 1558.79,450.247 1554.32,452.27 1546.34,457.175 1543.44,458.466 \n",
       "  1532.56,463.88 1532.12,464.103 1521.69,468.106 1513.99,471.032 1510.81,472.004 1499.93,475.285 1490.82,477.96 1489.05,478.408 1478.17,480.94 1467.3,483.188 \n",
       "  1457.28,484.888 1456.42,485.015 1445.54,486.23 1434.66,487.134 1423.78,487.834 1412.9,488.447 1402.03,489.08 1391.15,489.831 1380.27,490.787 1371.15,491.816 \n",
       "  1369.39,492.018 1358.51,493.548 1347.64,495.419 1336.76,497.496 1329.97,498.745 1325.88,499.514 1315,501.209 1304.12,502.428 1293.25,503.16 1282.37,503.557 \n",
       "  1271.49,503.868 1260.61,504.369 1249.73,505.322 1247.42,505.673 1238.86,506.997 1227.98,509.626 1219.3,512.601 1217.1,513.389 1206.22,518.477 1204.36,519.529 \n",
       "  1195.34,524.722 1192.64,526.458 1184.47,531.531 1181.55,533.386 1173.59,537.996 1169.33,540.314 1162.71,543.48 1153.54,547.242 1151.83,547.857 1140.95,550.924 \n",
       "  1130.07,553.147 1122.89,554.171 1119.2,554.651 1108.32,555.768 1097.44,557.002 1086.56,558.834 1078.2,561.099 1075.68,561.819 1064.81,566.634 1062.59,568.027 \n",
       "  1053.93,574.267 1053.18,574.955 1046.19,581.883 1043.05,585.199 1039.94,588.812 1033.71,595.74 1032.17,597.268 1026.69,602.668 1021.29,607.298 1018.43,609.596 \n",
       "  1010.42,615.244 1008.43,616.525 999.538,621.776 996.479,623.453 988.66,627.598 983.206,630.381 977.782,633.205 969.851,637.309 966.904,638.927 957.194,644.238 \n",
       "  956.026,644.923 945.147,651.084 944.992,651.166 934.269,656.938 931.851,658.094 923.391,662.052 916.002,665.022 912.513,666.352 901.635,669.915 895.035,671.951 \n",
       "  890.757,673.202 879.879,676.508 873.119,678.879 869.001,680.288 858.123,684.73 855.872,685.807 847.245,689.883 842.062,692.735 836.367,695.819 830.047,699.664 \n",
       "  825.489,702.418 819.209,706.592 814.611,709.73 809.502,713.52 803.732,718.152 801.055,720.448 793.878,727.377 792.854,728.508 787.684,734.305 782.565,741.233 \n",
       "  781.976,742.138 777.836,748.161 773.57,755.09 771.098,759.234 769.254,762.018 764.42,768.946 760.22,774.472 759.026,775.874 752.381,782.802 749.342,785.654 \n",
       "  744.611,789.731 738.464,794.623 735.76,796.659 727.586,802.474 725.983,803.587 716.708,809.783 715.606,810.515 705.83,816.818 704.855,817.444 694.952,823.595 \n",
       "  693.674,824.372 684.074,830.008 681.767,831.3 673.196,835.995 668.84,838.228 662.318,841.607 654.978,845.157 651.439,846.98 640.991,852.085 640.561,852.323 \n",
       "  629.683,858.068 627.879,859.013 618.805,864.824 617.095,865.941 608.345,872.87 607.927,873.245 600.521,879.798 597.049,882.982 592.923,886.726 586.171,892.527 \n",
       "  584.882,893.654 576.343,900.583 575.293,901.392 567.944,907.511 564.415,910.544 560.312,914.439 553.772,921.367 553.537,921.64 548.209,928.296 543.475,935.224 \n",
       "  542.659,936.49 539.012,942.152 534.561,949.08 531.781,953.077 529.607,956.008 523.754,962.937 520.903,965.921 516.853,969.865 510.024,976.087 509.207,976.793 \n",
       "  501.16,983.721 499.146,985.559 493.426,990.65 488.268,995.832 486.474,997.578 480.217,1004.51 477.39,1008.1 474.651,1011.43 469.641,1018.36 466.512,1023.22 \n",
       "  465.143,1025.29 461.062,1032.22 457.52,1039.15 455.634,1043.32 454.387,1046.08 451.533,1053 448.801,1059.93 445.894,1066.86 444.756,1069.16 442.277,1073.79 \n",
       "  437.644,1080.72 433.878,1085.25 431.647,1087.65 424.111,1094.57 423,1095.51 415.34,1101.5 412.122,1104.06 406.5,1108.43 401.244,1113.06 398.669,1115.36 \n",
       "  392.413,1122.29 390.366,1125.32 387.8,1129.21 384.704,1136.14 382.909,1143.07 382.21,1150 382.431,1156.93 383.371,1163.86 384.781,1170.78 386.389,1177.71 \n",
       "  387.965,1184.64 389.4,1191.57 390.366,1196.6 390.724,1198.5 392.107,1205.43 393.928,1212.35 396.621,1219.28 400.669,1226.21 401.244,1226.95 406.321,1233.14 \n",
       "  412.122,1238.59 413.741,1240.07 422.166,1246.99 423,1247.66 430.307,1253.92 433.878,1257.09 437.696,1260.85 444.424,1267.78 444.756,1268.12 450.661,1274.71 \n",
       "  455.634,1279.89 457.301,1281.64 464.585,1288.56 \n",
       "  \"/>\n",
       "<polyline clip-path=\"url(#clip1703)\" style=\"stroke:#400a66; stroke-width:4; stroke-opacity:1; fill:none\" points=\"\n",
       "  575.187,1219.28 575.293,1219.34 586.171,1225.04 588.73,1226.21 597.049,1229.72 605.475,1233.14 607.927,1234.12 618.805,1238.67 622.019,1240.07 629.683,1243.52 \n",
       "  637.263,1246.99 640.561,1248.5 651.439,1253.08 653.897,1253.92 662.318,1256.6 673.196,1259.02 684.074,1260.25 694.952,1260.29 705.83,1259.25 716.708,1257.3 \n",
       "  727.586,1254.62 729.895,1253.92 738.464,1251.35 749.342,1247.76 751.39,1246.99 760.22,1244.23 771.098,1240.69 772.893,1240.07 781.976,1237.52 792.854,1234.49 \n",
       "  797.812,1233.14 803.732,1231.8 814.611,1229.48 825.489,1227.39 832.495,1226.21 836.367,1225.63 847.245,1224.26 858.123,1223.09 869.001,1222.06 879.879,1221.02 \n",
       "  890.757,1219.8 894.28,1219.28 901.635,1218.27 912.513,1216.21 923.391,1213.39 926.497,1212.35 934.269,1209.8 944.777,1205.43 945.147,1205.27 956.026,1199.89 \n",
       "  958.517,1198.5 966.904,1193.75 970.494,1191.57 977.782,1187.12 981.8,1184.64 988.66,1180.43 993.302,1177.71 999.538,1174.17 1006.14,1170.78 1010.42,1168.73 \n",
       "  1021.29,1164.22 1022.29,1163.86 1032.17,1160.58 1043.05,1157.22 1043.97,1156.93 1053.93,1153.95 1064.81,1150.11 1065.08,1150 1075.68,1145.58 1080.59,1143.07 \n",
       "  1086.56,1139.93 1092.81,1136.14 1097.44,1133.23 1103.4,1129.21 1108.32,1125.83 1113.5,1122.29 1119.2,1118.4 1123.93,1115.36 1130.07,1111.52 1135.46,1108.43 \n",
       "  1140.95,1105.4 1148.63,1101.5 1151.83,1099.95 1162.71,1094.97 1163.6,1094.57 1173.59,1090.36 1179.98,1087.65 1184.47,1085.8 1195.34,1081.19 1196.46,1080.72 \n",
       "  1206.22,1076.49 1212.12,1073.79 1217.1,1071.37 1225.77,1066.86 1227.98,1065.58 1237.13,1059.93 1238.86,1058.72 1246.63,1053 1249.73,1050.48 1255.11,1046.08 \n",
       "  1260.61,1041.52 1263.55,1039.15 1271.49,1033.25 1272.96,1032.22 1282.37,1026.39 1284.26,1025.29 1293.25,1020.6 1297.69,1018.36 1304.12,1015.34 1312.39,1011.43 \n",
       "  1315,1010.22 1325.88,1005.04 1326.98,1004.51 1336.76,999.62 1340.74,997.578 1347.64,993.908 1353.78,990.65 1358.51,988.061 1366.81,983.721 1369.39,982.35 \n",
       "  1380.27,977.034 1380.82,976.793 1391.15,972.241 1396.88,969.865 1402.03,967.699 1412.9,962.978 1412.99,962.937 1423.78,957.422 1426.09,956.008 1434.66,950.096 \n",
       "  1435.89,949.08 1443.37,942.152 1445.54,939.852 1449.5,935.224 1454.86,928.296 1456.42,926.158 1459.89,921.367 1464.91,914.439 1467.3,911.294 1470.34,907.511 \n",
       "  1476.53,900.583 1478.17,898.951 1483.9,893.654 1489.05,889.43 1492.49,886.726 1499.93,881.315 1502.02,879.798 1510.81,873.54 1511.72,872.87 1520.81,865.941 \n",
       "  1521.69,865.225 1528.86,859.013 1532.56,855.369 1535.76,852.085 1541.62,845.157 1543.44,842.721 1546.76,838.228 1551.32,831.3 1554.32,826.323 1555.52,824.372 \n",
       "  1559.63,817.444 1563.56,810.515 1565.2,807.606 1567.53,803.587 1571.47,796.659 1575.26,789.731 1576.08,788.206 1579.08,782.802 1582.69,775.874 1586,768.946 \n",
       "  1586.95,766.747 1589.14,762.018 1591.94,755.09 1594.34,748.161 1596.42,741.233 1597.83,736.005 1598.35,734.305 1600.44,727.377 1602.77,720.448 1605.58,713.52 \n",
       "  1608.71,707.391 1609.22,706.592 1614.59,699.664 1619.59,694.54 1621.92,692.735 1630.47,686.905 1632.54,685.807 1641.34,681.213 1646.49,678.879 1652.22,675.958 \n",
       "  1659.87,671.951 1663.1,669.726 1669,665.022 1673.98,658.306 1674.11,658.094 1675.59,651.166 1674.62,644.238 1673.98,642.645 1671.62,637.309 1667.61,630.381 \n",
       "  1663.65,623.453 1663.1,622.303 1660.26,616.525 1658.02,609.596 1656.8,602.668 1656.16,595.74 1655.5,588.812 1654.17,581.883 1652.22,576.664 1651.58,574.955 \n",
       "  1647.26,568.027 1641.34,561.465 1640.99,561.099 1632.31,554.171 1630.47,552.931 1620.66,547.242 1619.59,546.682 1608.71,541.911 1604.27,540.314 1597.83,538.079 \n",
       "  1586.95,534.958 1580.19,533.386 1576.08,532.428 1565.2,530.545 1554.32,529.449 1543.44,529.254 1532.56,529.954 1521.69,531.347 1510.81,533.06 1508.72,533.386 \n",
       "  1499.93,534.692 1489.05,535.918 1478.17,536.639 1467.3,536.941 1456.42,537.011 1445.54,537.085 1434.66,537.398 1423.78,538.154 1412.9,539.49 1408.28,540.314 \n",
       "  1402.03,541.424 1391.15,543.816 1380.27,546.446 1376.97,547.242 1369.39,548.965 1358.51,551.172 1347.64,553.037 1339.85,554.171 1336.76,554.588 1325.88,555.897 \n",
       "  1315,557.147 1304.12,558.458 1293.25,559.934 1285.83,561.099 1282.37,561.624 1271.49,563.517 1260.61,565.779 1251.49,568.027 1249.73,568.444 1238.86,571.342 \n",
       "  1227.98,574.707 1227.23,574.955 1217.1,578.209 1206.61,581.883 1206.22,582.019 1195.34,585.808 1186.75,588.812 1184.47,589.608 1173.59,593.189 1165.17,595.74 \n",
       "  1162.71,596.49 1151.83,599.435 1140.95,602.106 1138.53,602.668 1130.07,604.615 1119.2,607.237 1110.83,609.596 1108.32,610.285 1097.44,613.94 1091.35,616.525 \n",
       "  1086.56,618.448 1076.32,623.453 1075.68,623.744 1064.81,629.481 1063.26,630.381 1053.93,635.523 1050.85,637.309 1043.05,641.753 1038.78,644.238 1032.17,648.165 \n",
       "  1027.16,651.166 1021.29,654.894 1016.28,658.094 1010.42,662.189 1006.37,665.022 999.538,670.306 997.397,671.951 989.029,678.879 988.66,679.198 980.615,685.807 \n",
       "  977.782,688.083 971.443,692.735 966.904,695.826 960.509,699.664 956.026,702.126 946.638,706.592 945.147,707.254 934.269,711.488 928.358,713.52 923.391,715.194 \n",
       "  912.513,718.596 906.456,720.448 901.635,721.926 890.757,725.407 885.187,727.377 879.879,729.277 869.001,733.809 867.989,734.305 858.123,739.431 855.249,741.233 \n",
       "  847.245,746.802 845.605,748.161 838.2,755.09 836.367,757.001 832.118,762.018 826.7,768.946 825.489,770.492 821.467,775.874 816.123,782.802 814.611,784.628 \n",
       "  810.307,789.731 804.041,796.659 803.732,796.974 796.873,803.587 792.854,807.197 788.899,810.515 781.976,815.93 779.915,817.444 771.098,823.522 769.811,824.372 \n",
       "  760.22,830.403 758.772,831.3 749.342,836.96 747.243,838.228 738.464,843.462 735.664,845.157 727.586,850.064 724.302,852.085 716.708,856.875 713.348,859.013 \n",
       "  705.83,864.062 703.054,865.941 694.952,871.959 693.736,872.87 685.537,879.798 684.074,881.227 678.422,886.726 673.196,892.728 672.362,893.654 666.738,900.583 \n",
       "  662.318,906.497 661.484,907.511 655.804,914.439 651.439,919.561 649.647,921.367 642.378,928.296 640.561,929.956 633.904,935.224 629.683,938.593 624.878,942.152 \n",
       "  618.805,947.037 616.302,949.08 608.891,956.008 607.927,957.044 602.734,962.937 597.193,969.865 597.049,970.052 591.935,976.793 586.375,983.721 586.171,983.967 \n",
       "  580.506,990.65 575.293,996.629 574.451,997.578 568.816,1004.51 564.415,1010.97 564.097,1011.43 560.605,1018.36 558.24,1025.29 556.691,1032.22 555.496,1039.15 \n",
       "  554.165,1046.08 553.537,1048.41 552.145,1053 549.141,1059.93 545.237,1066.86 542.659,1070.81 540.561,1073.79 535.563,1080.72 531.781,1086.33 530.901,1087.65 \n",
       "  526.925,1094.57 523.867,1101.5 521.898,1108.43 521.183,1115.36 521.813,1122.29 523.706,1129.21 526.551,1136.14 529.892,1143.07 531.781,1146.87 533.233,1150 \n",
       "  536.222,1156.93 538.904,1163.86 541.435,1170.78 542.659,1174.03 543.948,1177.71 546.627,1184.64 549.821,1191.57 553.537,1197.99 553.836,1198.5 558.829,1205.43 \n",
       "  564.415,1211.23 565.64,1212.35 575.187,1219.28 \n",
       "  \"/>\n",
       "<polyline clip-path=\"url(#clip1703)\" style=\"stroke:#63146e; stroke-width:4; stroke-opacity:1; fill:none\" points=\"\n",
       "  661.645,1163.86 662.318,1166.28 663.691,1170.78 668.95,1177.71 673.196,1180.39 682.152,1184.64 684.074,1185.25 694.952,1188.13 705.83,1190.27 713.844,1191.57 \n",
       "  716.708,1191.99 727.586,1193.52 738.464,1194.99 749.342,1196.41 760.22,1197.72 767.871,1198.5 771.098,1198.81 781.976,1199.55 792.854,1199.84 803.732,1199.69 \n",
       "  814.611,1199.11 821.749,1198.5 825.489,1198.18 836.367,1196.97 847.245,1195.55 858.123,1194 869.001,1192.36 874.157,1191.57 879.879,1190.63 890.757,1188.75 \n",
       "  901.635,1186.61 909.92,1184.64 912.513,1183.99 923.391,1180.63 930.974,1177.71 934.269,1176.4 945.147,1171.21 945.929,1170.78 956.026,1165.18 958.239,1163.86 \n",
       "  966.904,1158.76 970.003,1156.93 977.782,1152.62 982.878,1150 988.66,1147.32 999.297,1143.07 999.538,1142.98 1010.42,1139.63 1021.29,1136.74 1023.65,1136.14 \n",
       "  1032.17,1134.06 1043.05,1131.13 1048.96,1129.21 1053.93,1127.55 1064.81,1122.96 1066.13,1122.29 1075.68,1117.14 1078.56,1115.36 1086.56,1110.26 1089.26,1108.43 \n",
       "  1097.44,1102.96 1099.61,1101.5 1108.32,1095.96 1110.6,1094.57 1119.2,1089.7 1123.06,1087.65 1130.07,1084.18 1137.48,1080.72 1140.95,1079.19 1151.83,1074.56 \n",
       "  1153.67,1073.79 1162.71,1070.08 1170.24,1066.86 1173.59,1065.41 1184.47,1060.35 1185.32,1059.93 1195.34,1054.62 1198.14,1053 1206.22,1047.87 1208.86,1046.08 \n",
       "  1217.1,1039.94 1218.13,1039.15 1226.79,1032.22 1227.98,1031.26 1235.6,1025.29 1238.86,1022.83 1245.18,1018.36 1249.73,1015.33 1256.13,1011.43 1260.61,1008.86 \n",
       "  1268.83,1004.51 1271.49,1003.15 1282.37,997.871 1282.99,997.578 1293.25,992.735 1297.55,990.65 1304.12,987.415 1311.25,983.721 1315,981.73 1323.82,976.793 \n",
       "  1325.88,975.61 1335.55,969.865 1336.76,969.132 1346.95,962.937 1347.64,962.511 1358.51,956.016 1358.53,956.008 1369.39,949.814 1370.77,949.08 1380.27,943.782 \n",
       "  1383.3,942.152 1391.15,937.504 1394.9,935.224 1402.03,930.175 1404.49,928.296 1411.98,921.367 1412.9,920.318 1417.82,914.439 1422.7,907.511 1423.78,905.845 \n",
       "  1427.23,900.583 1432.06,893.654 1434.66,890.496 1437.96,886.726 1445.54,879.83 1445.58,879.798 1455.38,872.87 1456.42,872.237 1466.79,865.941 1467.3,865.657 \n",
       "  1478.17,859.172 1478.42,859.013 1488.93,852.085 1489.05,852.002 1497.79,845.157 1499.93,843.253 1505.14,838.228 1510.81,831.859 1511.28,831.3 1516.56,824.372 \n",
       "  1521.27,817.444 1521.69,816.804 1525.71,810.515 1529.97,803.587 1532.56,799.318 1534.18,796.659 1538.34,789.731 1542.37,782.802 1543.44,780.867 1546.2,775.874 \n",
       "  1549.69,768.946 1552.75,762.018 1554.32,757.77 1555.32,755.09 1557.38,748.161 1558.95,741.233 1560.08,734.305 1560.87,727.377 1561.36,720.448 1561.58,713.52 \n",
       "  1561.48,706.592 1560.98,699.664 1559.96,692.735 1558.29,685.807 1555.86,678.879 1554.32,675.259 1552.85,671.951 1549.55,665.022 1546.22,658.094 1543.44,651.361 \n",
       "  1543.36,651.166 1541.59,644.238 1540.7,637.309 1540.49,630.381 1540.53,623.453 1540.13,616.525 1538.37,609.596 1533.7,602.668 1532.56,601.749 1522.63,595.74 \n",
       "  1521.69,595.386 1510.81,591.775 1500.48,588.812 1499.93,588.689 1489.05,586.09 1478.17,583.585 1470.1,581.883 1467.3,581.359 1456.42,579.621 1445.54,578.456 \n",
       "  1434.66,578.009 1423.78,578.304 1412.9,579.225 1402.03,580.53 1391.46,581.883 1391.15,581.921 1380.27,583.117 1369.39,583.972 1358.51,584.462 1347.64,584.683 \n",
       "  1336.76,584.812 1325.88,585.043 1315,585.538 1304.12,586.41 1293.25,587.729 1286.76,588.812 1282.37,589.503 1271.49,591.706 1260.61,594.439 1256.22,595.74 \n",
       "  1249.73,597.645 1238.86,601.378 1235.47,602.668 1227.98,605.619 1218.79,609.596 1217.1,610.367 1206.22,615.432 1203.83,616.525 1195.34,620.528 1188.66,623.453 \n",
       "  1184.47,625.282 1173.59,629.353 1170.25,630.381 1162.71,632.564 1151.83,635.117 1140.95,637.307 1140.94,637.309 1130.07,639.284 1119.2,641.511 1108.39,644.238 \n",
       "  1108.32,644.256 1097.44,647.619 1088.32,651.166 1086.56,651.872 1075.68,657.085 1073.83,658.094 1064.81,663.422 1062.31,665.022 1053.93,671.054 1052.73,671.951 \n",
       "  1044.57,678.879 1043.05,680.348 1037.35,685.807 1032.17,691.257 1030.71,692.735 1023.91,699.664 1021.29,702.154 1016.27,706.592 1010.42,711.07 1006.94,713.52 \n",
       "  999.538,717.94 995.041,720.448 988.66,723.539 980.494,727.377 977.782,728.536 966.904,733.201 964.314,734.305 956.026,737.735 947.653,741.233 945.147,742.272 \n",
       "  934.269,746.651 930.356,748.161 923.391,750.821 912.513,754.869 911.906,755.09 901.635,758.783 893.452,762.018 890.757,763.089 879.879,768.162 878.494,768.946 \n",
       "  869.001,774.571 867.207,775.874 858.158,782.802 858.123,782.831 850.514,789.731 847.245,792.825 843.465,796.659 836.729,803.587 836.367,803.962 829.974,810.515 \n",
       "  825.489,815.002 822.934,817.444 815.249,824.372 814.611,824.91 806.432,831.3 803.732,833.232 796.254,838.228 792.854,840.339 784.774,845.157 781.976,846.754 \n",
       "  772.598,852.085 771.098,852.93 760.554,859.013 760.22,859.21 749.342,865.863 749.217,865.941 738.838,872.87 738.464,873.14 729.554,879.798 727.586,881.442 \n",
       "  721.455,886.726 716.708,891.448 714.55,893.654 708.763,900.583 705.83,904.695 703.843,907.511 699.539,914.439 695.573,921.367 694.952,922.495 691.62,928.296 \n",
       "  687.55,935.224 684.074,940.906 683.242,942.152 678.495,949.08 673.683,956.008 673.196,956.728 668.566,962.937 663.736,969.865 662.318,972.049 658.975,976.793 \n",
       "  654.448,983.721 651.439,988.525 649.998,990.65 645.236,997.578 640.561,1004.32 640.425,1004.51 635.066,1011.43 629.977,1018.36 629.683,1018.78 625.008,1025.29 \n",
       "  620.827,1032.22 618.805,1036.24 617.353,1039.15 614.478,1046.08 612.167,1053 610.295,1059.93 608.828,1066.86 607.927,1073.21 607.835,1073.79 607.498,1080.72 \n",
       "  607.927,1084.94 608.207,1087.65 610.313,1094.57 614.381,1101.5 618.805,1106.38 620.708,1108.43 628.77,1115.36 629.683,1116.08 637.156,1122.29 640.561,1125.2 \n",
       "  644.87,1129.21 651.287,1136.14 651.439,1136.37 655.587,1143.07 658.515,1150 660.318,1156.93 661.645,1163.86 \n",
       "  \"/>\n",
       "<polyline clip-path=\"url(#clip1703)\" style=\"stroke:#8d2368; stroke-width:4; stroke-opacity:1; fill:none\" points=\"\n",
       "  727.523,1136.14 727.586,1136.19 738.137,1143.07 738.464,1143.26 749.342,1148.68 752.388,1150 760.22,1152.96 771.098,1156.53 772.471,1156.93 781.976,1159.39 \n",
       "  792.854,1161.63 803.732,1163.11 814.611,1163.72 825.489,1163.45 836.367,1162.4 847.245,1160.74 858.123,1158.65 866.107,1156.93 869.001,1156.34 879.879,1153.96 \n",
       "  890.757,1151.42 896.263,1150 901.635,1148.69 912.513,1145.6 919.962,1143.07 923.391,1141.96 934.269,1137.85 938.29,1136.14 945.147,1133.43 955.294,1129.21 \n",
       "  956.026,1128.93 966.904,1124.82 974.049,1122.29 977.782,1121.04 988.66,1117.72 997.207,1115.36 999.538,1114.72 1010.42,1111.9 1021.29,1109.04 1023.42,1108.43 \n",
       "  1032.17,1105.82 1043.05,1101.98 1044.19,1101.5 1053.93,1097.34 1059.42,1094.57 1064.81,1091.95 1072.74,1087.65 1075.68,1086.16 1085.81,1080.72 1086.56,1080.35 \n",
       "  1097.44,1074.87 1099.61,1073.79 1108.32,1069.77 1114.79,1066.86 1119.2,1064.98 1130.07,1060.42 1131.26,1059.93 1140.95,1055.94 1147.82,1053 1151.83,1051.24 \n",
       "  1162.71,1046.1 1162.76,1046.08 1173.59,1040.18 1175.33,1039.15 1184.47,1033.25 1185.95,1032.22 1195.3,1025.29 1195.34,1025.26 1204.05,1018.36 1206.22,1016.61 \n",
       "  1212.75,1011.43 1217.1,1008.02 1221.84,1004.51 1227.98,1000.08 1231.75,997.578 1238.86,993.031 1242.92,990.65 1249.73,986.802 1255.59,983.721 1260.61,981.161 \n",
       "  1269.46,976.793 1271.49,975.813 1282.37,970.499 1283.62,969.865 1293.25,964.985 1297.05,962.937 1304.12,959.033 1309.28,956.008 1315,952.494 1320.34,949.08 \n",
       "  1325.88,945.285 1330.44,942.152 1336.76,937.377 1339.72,935.224 1347.64,928.724 1348.19,928.296 1355.96,921.367 1358.51,918.608 1362.66,914.439 1368.25,907.511 \n",
       "  1369.39,905.819 1373.08,900.583 1377.58,893.654 1380.27,889.789 1382.43,886.726 1388.29,879.798 1391.15,877.078 1395.68,872.87 1402.03,868.085 1404.98,865.941 \n",
       "  1412.9,861.05 1416.35,859.013 1423.78,855.018 1429.36,852.085 1434.66,849.35 1442.61,845.157 1445.54,843.527 1454.47,838.228 1456.42,836.931 1464.19,831.3 \n",
       "  1467.3,828.675 1471.98,824.372 1478.17,817.66 1478.36,817.444 1483.65,810.515 1488.36,803.587 1489.05,802.488 1492.65,796.659 1496.76,789.731 1499.93,784.29 \n",
       "  1500.79,782.802 1504.65,775.874 1508.36,768.946 1510.81,763.99 1511.75,762.018 1514.63,755.09 1516.98,748.161 1518.74,741.233 1519.89,734.305 1520.41,727.377 \n",
       "  1520.26,720.448 1519.35,713.52 1517.56,706.592 1514.76,699.664 1510.83,692.735 1510.81,692.699 1505.95,685.807 1500.21,678.879 1499.93,678.562 1494.26,671.951 \n",
       "  1489.05,666.104 1488.12,665.022 1482.15,658.094 1478.17,653.604 1475.94,651.166 1469.17,644.238 1467.3,642.477 1460.88,637.309 1456.42,634.179 1449.33,630.381 \n",
       "  1445.54,628.553 1434.66,624.899 1427.65,623.453 1423.78,622.671 1412.9,621.4 1402.03,620.789 1391.15,620.483 1380.27,620.177 1369.39,619.641 1358.51,618.769 \n",
       "  1347.64,617.597 1338.74,616.525 1336.76,616.282 1325.88,615.049 1315,614.215 1304.12,613.982 1293.25,614.487 1282.37,615.816 1278.86,616.525 1271.49,618.034 \n",
       "  1260.61,621.187 1254.51,623.453 1249.73,625.322 1238.9,630.381 1238.86,630.404 1227.98,636.26 1226.1,637.309 1217.1,642.398 1213.72,644.238 1206.22,648.187 \n",
       "  1199.9,651.166 1195.34,653.172 1184.47,657.203 1181.52,658.094 1173.59,660.321 1162.71,662.846 1152.1,665.022 1151.83,665.075 1140.95,667.202 1130.07,669.669 \n",
       "  1122.02,671.951 1119.2,672.811 1108.32,677.042 1104.57,678.879 1097.44,682.882 1093.09,685.807 1086.56,690.91 1084.47,692.735 1077.33,699.664 1075.68,701.364 \n",
       "  1070.72,706.592 1064.81,712.764 1064.06,713.52 1056.47,720.448 1053.93,722.487 1047.27,727.377 1043.05,730.031 1035.46,734.305 1032.17,735.905 1021.29,740.705 \n",
       "  1020.02,741.233 1010.42,744.853 1001.75,748.161 999.538,748.973 988.66,753.194 984.137,755.09 977.782,757.785 968.459,762.018 966.904,762.744 956.026,767.86 \n",
       "  953.662,768.946 945.147,772.887 938.334,775.874 934.269,777.663 923.391,782.202 921.926,782.802 912.513,786.767 905.926,789.731 901.635,791.793 892.668,796.659 \n",
       "  890.757,797.813 882.351,803.587 879.879,805.529 874.115,810.515 869.001,815.552 867.164,817.444 860.99,824.372 858.123,827.754 855.005,831.3 848.68,838.228 \n",
       "  847.245,839.692 841.348,845.157 836.367,849.22 832.469,852.085 825.489,856.711 821.712,859.013 814.611,863.111 809.495,865.941 803.732,869.118 796.958,872.87 \n",
       "  792.854,875.234 785.239,879.798 781.976,881.904 774.931,886.726 771.098,889.634 766.135,893.654 760.22,899.108 758.72,900.583 752.58,907.511 749.342,911.752 \n",
       "  747.396,914.439 742.922,921.367 738.876,928.296 738.464,929.029 735.037,935.224 731.235,942.152 727.586,948.747 727.4,949.08 723.372,956.008 719.241,962.937 \n",
       "  716.708,967.088 714.977,969.865 710.589,976.793 706.197,983.721 705.83,984.293 701.697,990.65 697.209,997.578 694.952,1001.02 692.624,1004.51 687.939,1011.43 \n",
       "  684.074,1017.09 683.174,1018.36 678.327,1025.29 673.657,1032.22 673.196,1032.97 669.285,1039.15 665.566,1046.08 662.692,1053 662.318,1054.46 660.902,1059.93 \n",
       "  660.387,1066.86 661.323,1073.79 662.318,1076.54 663.983,1080.72 668.527,1087.65 673.196,1092.89 674.881,1094.57 682.86,1101.5 684.074,1102.5 691.931,1108.43 \n",
       "  694.952,1110.8 701.197,1115.36 705.83,1119.08 710.104,1122.29 716.708,1127.74 718.651,1129.21 727.523,1136.14 \n",
       "  \"/>\n",
       "<polyline clip-path=\"url(#clip1703)\" style=\"stroke:#b53357; stroke-width:4; stroke-opacity:1; fill:none\" points=\"\n",
       "  774.02,1101.5 781.976,1106.9 784.333,1108.43 792.854,1113.74 795.845,1115.36 803.732,1119.31 811.582,1122.29 814.611,1123.33 825.489,1125.92 836.367,1127.24 \n",
       "  847.245,1127.53 858.123,1126.99 869.001,1125.77 879.879,1123.97 887.834,1122.29 890.757,1121.66 901.635,1118.87 912.513,1115.71 913.636,1115.36 923.391,1112.24 \n",
       "  934.269,1108.67 934.987,1108.43 945.147,1105.04 956.026,1101.5 956.032,1101.5 966.904,1097.95 977.616,1094.57 977.782,1094.52 988.66,1091.08 999.538,1087.74 \n",
       "  999.856,1087.65 1010.42,1084.45 1021.29,1081.15 1022.64,1080.72 1032.17,1077.78 1043.05,1074.14 1043.97,1073.79 1053.93,1070.27 1062.65,1066.86 1064.81,1066.06 \n",
       "  1075.68,1061.69 1079.86,1059.93 1086.56,1057.21 1096.76,1053 1097.44,1052.73 1108.32,1048.26 1113.64,1046.08 1119.2,1043.74 1129.87,1039.15 1130.07,1039.06 \n",
       "  1140.95,1033.86 1144.16,1032.22 1151.83,1027.95 1156.26,1025.29 1162.71,1021.06 1166.56,1018.36 1173.59,1013.07 1175.67,1011.43 1184.07,1004.51 1184.47,1004.17 \n",
       "  1192.19,997.578 1195.34,994.88 1200.51,990.65 1206.22,986.14 1209.51,983.721 1217.1,978.517 1219.84,976.793 1227.98,972.088 1232.14,969.865 1238.86,966.553 \n",
       "  1246.51,962.937 1249.73,961.502 1260.61,956.591 1261.85,956.008 1271.49,951.487 1276.24,949.08 1282.37,945.828 1288.69,942.152 1293.25,939.233 1299.03,935.224 \n",
       "  1304.12,931.126 1307.49,928.296 1314.28,921.367 1315,920.444 1319.78,914.439 1324.09,907.511 1325.88,903.952 1327.71,900.583 1331.1,893.654 1334.66,886.726 \n",
       "  1336.76,883.301 1339.15,879.798 1345.08,872.87 1347.64,870.444 1352.78,865.941 1358.51,861.656 1362.22,859.013 1369.39,854.366 1373.04,852.085 1380.27,847.749 \n",
       "  1384.78,845.157 1391.15,841.466 1396.99,838.228 1402.03,835.281 1409.01,831.3 1412.9,828.843 1419.92,824.372 1423.78,821.517 1429.04,817.444 1434.66,812.236 \n",
       "  1436.4,810.515 1442.18,803.587 1445.54,798.743 1446.91,796.659 1450.78,789.731 1454.24,782.802 1456.42,778.144 1457.45,775.874 1460.54,768.946 1463.74,762.018 \n",
       "  1467.07,755.09 1467.3,754.618 1470.14,748.161 1472.91,741.233 1475.1,734.305 1476.46,727.377 1476.82,720.448 1476.07,713.52 1474.22,706.592 1471.34,699.664 \n",
       "  1467.52,692.735 1467.3,692.403 1462.9,685.807 1457.58,678.879 1456.42,677.545 1451.31,671.951 1445.54,666.471 1443.77,665.022 1434.66,658.679 1433.55,658.094 \n",
       "  1423.78,653.636 1415.36,651.166 1412.9,650.511 1402.03,648.704 1391.15,647.662 1380.27,646.964 1369.39,646.287 1358.51,645.415 1347.64,644.264 1347.42,644.238 \n",
       "  1336.76,642.897 1325.88,641.53 1315,640.45 1304.12,639.975 1293.25,640.395 1282.37,641.919 1273.1,644.238 1271.49,644.661 1260.61,648.688 1255.24,651.166 \n",
       "  1249.73,653.725 1241.32,658.094 1238.86,659.334 1227.98,664.915 1227.76,665.022 1217.1,669.927 1212.2,671.951 1206.22,674.236 1195.34,677.855 1191.81,678.879 \n",
       "  1184.47,680.927 1173.59,683.684 1165.04,685.807 1162.71,686.402 1151.83,689.375 1141.57,692.735 1140.95,692.956 1130.07,697.642 1126.27,699.664 1119.2,703.893 \n",
       "  1115.35,706.592 1108.32,712.009 1106.54,713.52 1098.61,720.448 1097.44,721.457 1090.71,727.377 1086.56,730.808 1082.22,734.305 1075.68,739.076 1072.5,741.233 \n",
       "  1064.81,745.889 1060.59,748.161 1053.93,751.392 1045.26,755.09 1043.05,755.963 1032.17,759.916 1026.22,762.018 1021.29,763.733 1010.42,767.73 1007.37,768.946 \n",
       "  999.538,772.236 991.687,775.874 988.66,777.387 978.361,782.802 977.782,783.131 966.904,789.193 965.884,789.731 956.026,795.175 953.092,796.659 945.147,800.897 \n",
       "  939.749,803.587 934.269,806.561 926.972,810.515 923.391,812.739 916.306,817.444 912.513,820.48 908.08,824.372 901.657,831.3 901.635,831.328 896.432,838.228 \n",
       "  891.562,845.157 890.757,846.257 886.368,852.085 880.358,859.013 879.879,859.483 872.728,865.941 869.001,868.824 863.305,872.87 858.123,876.169 852.089,879.798 \n",
       "  847.245,882.552 839.81,886.726 836.367,888.639 827.592,893.654 825.489,894.888 816.298,900.583 814.611,901.689 806.326,907.511 803.732,909.498 797.737,914.439 \n",
       "  792.854,918.96 790.419,921.367 784.133,928.296 781.976,930.958 778.635,935.224 773.747,942.152 771.098,946.268 769.276,949.08 765.035,956.008 761.021,962.937 \n",
       "  760.22,964.357 756.974,969.865 752.938,976.793 749.342,982.931 748.858,983.721 744.641,990.65 740.399,997.578 738.464,1000.77 736.149,1004.51 731.976,1011.43 \n",
       "  727.917,1018.36 727.586,1018.99 724.188,1025.29 720.88,1032.22 718.248,1039.15 716.708,1045.95 716.679,1046.08 716.661,1053 716.708,1053.18 718.752,1059.93 \n",
       "  723.527,1066.86 727.586,1070.6 731.327,1073.79 738.464,1078.55 741.655,1080.72 749.342,1085.36 752.857,1087.65 760.22,1092.24 763.704,1094.57 771.098,1099.5 \n",
       "  774.02,1101.5 \n",
       "  \"/>\n",
       "<polyline clip-path=\"url(#clip1703)\" style=\"stroke:#d54940; stroke-width:4; stroke-opacity:1; fill:none\" points=\"\n",
       "  811.618,1087.65 814.611,1089.31 825.489,1094.15 826.861,1094.57 836.367,1097.33 847.245,1098.99 858.123,1099.23 869.001,1098.2 879.879,1096.14 886.075,1094.57 \n",
       "  890.757,1093.28 901.635,1089.93 908.902,1087.65 912.513,1086.48 923.391,1083.07 931.365,1080.72 934.269,1079.87 945.147,1076.76 955.805,1073.79 956.026,1073.73 \n",
       "  966.904,1070.77 977.782,1067.9 981.777,1066.86 988.66,1065.2 999.538,1062.67 1010.42,1060.2 1011.57,1059.93 1021.29,1057.75 1032.17,1055.12 1039.94,1053 \n",
       "  1043.05,1052.16 1053.93,1048.81 1061.92,1046.08 1064.81,1045.07 1075.68,1040.97 1080.34,1039.15 1086.56,1036.62 1097.25,1032.22 1097.44,1032.13 1108.32,1027.27 \n",
       "  1112.62,1025.29 1119.2,1022 1126.06,1018.36 1130.07,1016.02 1137.37,1011.43 1140.95,1008.93 1146.89,1004.51 1151.83,1000.45 1155.18,997.578 1162.71,990.674 \n",
       "  1162.73,990.65 1169.95,983.721 1173.59,980.311 1177.5,976.793 1184.47,971.056 1186.02,969.865 1195.34,963.608 1196.45,962.937 1206.22,957.742 1209.83,956.008 \n",
       "  1217.1,952.88 1226.53,949.08 1227.98,948.536 1238.86,944.352 1244.27,942.152 1249.73,939.907 1259.88,935.224 1260.61,934.857 1271.49,928.581 1271.93,928.296 \n",
       "  1280.9,921.367 1282.37,919.956 1287.55,914.439 1292.48,907.511 1293.25,906.111 1296.16,900.583 1299.1,893.654 1301.76,886.726 1304.12,880.97 1304.64,879.798 \n",
       "  1308.3,872.87 1312.99,865.941 1315,863.534 1319.26,859.013 1325.88,853.032 1327.05,852.085 1336.2,845.157 1336.76,844.733 1345.96,838.228 1347.64,836.963 \n",
       "  1355.58,831.3 1358.51,828.966 1364.65,824.372 1369.39,820.34 1373.01,817.444 1380.27,810.73 1380.51,810.515 1387.05,803.587 1391.15,798.292 1392.41,796.659 \n",
       "  1396.63,789.731 1399.86,782.802 1402.03,776.782 1402.35,775.874 1404.49,768.946 1406.64,762.018 1409.13,755.09 1412.17,748.161 1412.9,746.772 1415.9,741.233 \n",
       "  1420,734.305 1423.78,727.73 1423.98,727.377 1427.23,720.448 1429.28,713.52 1429.84,706.592 1428.73,699.664 1425.82,692.735 1423.78,689.838 1420.41,685.807 \n",
       "  1412.9,679.876 1411.16,678.879 1402.03,675.035 1391.15,672.226 1389.38,671.951 1380.27,670.748 1369.39,669.83 1358.51,669.112 1347.64,668.402 1336.76,667.645 \n",
       "  1325.88,666.928 1315,666.47 1304.12,666.573 1293.25,667.53 1282.37,669.514 1273.53,671.951 1271.49,672.521 1260.61,676.366 1254.27,678.879 1249.73,680.6 \n",
       "  1238.86,684.819 1236.25,685.807 1227.98,688.782 1217.1,692.322 1215.73,692.735 1206.22,695.571 1195.34,698.535 1191.08,699.664 1184.47,701.503 1173.59,704.653 \n",
       "  1167.57,706.592 1162.71,708.314 1151.83,712.818 1150.39,713.52 1140.95,718.576 1137.95,720.448 1130.07,725.624 1127.69,727.377 1119.2,733.641 1118.36,734.305 \n",
       "  1109.25,741.233 1108.32,741.909 1099.76,748.161 1097.44,749.74 1089.24,755.09 1086.56,756.704 1076.85,762.018 1075.68,762.607 1064.81,767.499 1061.16,768.946 \n",
       "  1053.93,771.684 1043.05,775.507 1042,775.874 1032.17,779.395 1023.43,782.802 1021.29,783.697 1010.42,788.837 1008.7,789.731 999.538,795.078 996.973,796.659 \n",
       "  988.66,802.339 986.807,803.587 977.782,810.185 977.298,810.515 967.812,817.444 966.904,818.151 958.338,824.372 956.026,826.189 949.377,831.3 945.147,834.893 \n",
       "  941.372,838.228 934.285,845.157 934.269,845.172 927.724,852.085 923.391,856.649 921.238,859.013 914.359,865.941 912.513,867.612 906.631,872.87 901.635,876.868 \n",
       "  897.809,879.798 890.757,884.691 887.658,886.726 879.879,891.506 876.231,893.654 869.001,897.799 864.069,900.583 858.123,903.974 851.996,907.511 847.245,910.372 \n",
       "  840.709,914.439 836.367,917.34 830.612,921.367 825.489,925.325 821.847,928.296 814.611,934.994 814.376,935.224 808.07,942.152 803.732,947.743 802.725,949.08 \n",
       "  798.193,956.008 794.288,962.937 792.854,965.865 790.863,969.865 787.815,976.793 785.021,983.721 782.383,990.65 781.976,991.824 779.886,997.578 777.504,1004.51 \n",
       "  775.239,1011.43 773.159,1018.36 771.418,1025.29 771.098,1027.27 770.291,1032.22 770.067,1039.15 771.098,1046.05 771.102,1046.08 773.681,1053 777.934,1059.93 \n",
       "  781.976,1064.63 783.888,1066.86 791.363,1073.79 792.854,1074.97 800.483,1080.72 803.732,1082.92 811.618,1087.65 \n",
       "  \"/>\n",
       "<polyline clip-path=\"url(#clip1703)\" style=\"stroke:#ec6726; stroke-width:4; stroke-opacity:1; fill:none\" points=\"\n",
       "  856.893,1059.93 858.123,1060.05 859.781,1059.93 869.001,1059.26 879.879,1057.53 890.757,1055.66 901.635,1053.95 908.341,1053 912.513,1052.46 923.391,1051.13 \n",
       "  934.269,1049.92 945.147,1048.69 956.026,1047.38 965.891,1046.08 966.904,1045.95 977.782,1044.41 988.66,1042.76 999.538,1040.99 1009.76,1039.15 1010.42,1039.03 \n",
       "  1021.29,1036.69 1032.17,1033.98 1038.34,1032.22 1043.05,1030.76 1053.93,1026.98 1058.43,1025.29 1064.81,1022.72 1075.22,1018.36 1075.68,1018.16 1086.56,1013.11 \n",
       "  1090.03,1011.43 1097.44,1007.59 1103,1004.51 1108.32,1001.29 1113.91,997.578 1119.2,993.746 1123.09,990.65 1130.07,984.679 1131.12,983.721 1138.52,976.793 \n",
       "  1140.95,974.577 1145.99,969.865 1151.83,964.825 1154.06,962.937 1162.71,956.394 1163.25,956.008 1173.59,949.482 1174.29,949.08 1184.47,943.816 1188.13,942.152 \n",
       "  1195.34,939.056 1205.52,935.224 1206.22,934.962 1217.1,931.158 1225.31,928.296 1227.98,927.311 1238.86,922.852 1241.95,921.367 1249.73,917.053 1253.62,914.439 \n",
       "  1260.61,908.595 1261.69,907.511 1267.07,900.583 1271.12,893.654 1271.49,892.868 1274.09,886.726 1276.76,879.798 1279.58,872.87 1282.37,867.05 1282.9,865.941 \n",
       "  1286.97,859.013 1292.02,852.085 1293.25,850.614 1298.15,845.157 1304.12,839.068 1305.02,838.228 1312.24,831.3 1315,828.425 1319.14,824.372 1325.26,817.444 \n",
       "  1325.88,816.606 1330.62,810.515 1335.21,803.587 1336.76,800.865 1339.29,796.659 1342.94,789.731 1346.25,782.802 1347.64,779.546 1349.2,775.874 1351.77,768.946 \n",
       "  1354.1,762.018 1356.35,755.09 1358.51,748.747 1358.71,748.161 1361.06,741.233 1363.64,734.305 1366.33,727.377 1368.57,720.448 1369.04,713.52 1364.86,706.592 \n",
       "  1358.51,703.107 1347.64,700.079 1344.45,699.664 1336.76,698.972 1325.88,698.621 1315,698.756 1304.12,699.34 1300.81,699.664 1293.25,700.487 1282.37,702.127 \n",
       "  1271.49,704.095 1260.61,706.26 1259.15,706.592 1249.73,708.733 1238.86,711.233 1228.76,713.52 1227.98,713.705 1217.1,716.447 1206.22,719.182 1201.48,720.448 \n",
       "  1195.34,722.221 1184.47,725.651 1179.64,727.377 1173.59,729.663 1162.85,734.305 1162.71,734.366 1151.83,739.918 1149.59,741.233 1140.95,746.145 1137.8,748.161 \n",
       "  1130.07,752.887 1126.75,755.09 1119.2,759.857 1115.86,762.018 1108.32,766.638 1104.41,768.946 1097.44,772.789 1091.27,775.874 1086.56,778.07 1075.68,782.528 \n",
       "  1074.95,782.802 1064.81,786.468 1055.31,789.731 1053.93,790.211 1043.05,794.253 1037.32,796.659 1032.17,799.004 1023.59,803.587 1021.29,804.947 1013.01,810.515 \n",
       "  1010.42,812.443 1004.09,817.444 999.538,821.313 995.934,824.372 988.66,830.816 988.089,831.3 980.045,838.228 977.782,840.186 971.834,845.157 966.904,849.286 \n",
       "  963.555,852.085 956.026,858.356 955.261,859.013 946.951,865.941 945.147,867.39 938.551,872.87 934.269,876.244 929.83,879.798 923.391,884.623 920.553,886.726 \n",
       "  912.513,892.32 910.532,893.654 901.635,899.405 899.739,900.583 890.757,906.128 888.438,907.511 879.879,912.79 877.144,914.439 869.001,919.7 866.395,921.367 \n",
       "  858.123,927.198 856.573,928.296 847.898,935.224 847.245,935.828 840.559,942.152 836.367,946.83 834.43,949.08 829.609,956.008 825.766,962.937 825.489,963.637 \n",
       "  823.133,969.865 821.407,976.793 820.507,983.721 820.381,990.65 820.942,997.578 822.036,1004.51 823.422,1011.43 824.812,1018.36 825.489,1022.48 826.07,1025.29 \n",
       "  827.228,1032.22 828.616,1039.15 831.135,1046.08 836.008,1053 836.367,1053.31 847.245,1058.63 856.893,1059.93 \n",
       "  \"/>\n",
       "<polyline clip-path=\"url(#clip1703)\" style=\"stroke:#f7870d; stroke-width:4; stroke-opacity:1; fill:none\" points=\"\n",
       "  912.513,1012.45 910.773,1011.43 901.635,1004.87 901.123,1004.51 891.407,997.578 890.757,997.137 880.708,990.65 879.879,990.113 871.373,983.721 869.001,981.449 \n",
       "  865.48,976.793 862.716,969.865 862.471,962.937 864.297,956.008 867.801,949.08 869.001,947.523 872.992,942.152 879.5,935.224 879.879,934.904 887.373,928.296 \n",
       "  890.757,925.756 896.365,921.367 901.635,917.731 906.235,914.439 912.513,910.284 916.574,907.511 923.391,902.986 926.922,900.583 934.269,895.533 936.965,893.654 \n",
       "  945.147,887.782 946.618,886.726 955.971,879.798 956.026,879.756 965.173,872.87 966.904,871.528 974.162,865.941 977.782,863.084 982.857,859.013 988.66,854.239 \n",
       "  991.195,852.085 999.179,845.157 999.538,844.841 1006.91,838.228 1010.42,835.12 1014.84,831.3 1021.29,825.946 1023.38,824.372 1032.17,818.158 1033.36,817.444 \n",
       "  1043.05,812.047 1046.44,810.515 1053.93,807.318 1064.46,803.587 1064.81,803.467 1075.68,800.097 1086.56,796.708 1086.72,796.659 1097.44,792.989 1105.63,789.731 \n",
       "  1108.32,788.56 1119.2,783.305 1120.18,782.802 1130.07,777.482 1133.09,775.874 1140.95,771.603 1146.32,768.946 1151.83,766.221 1161.78,762.018 1162.71,761.622 \n",
       "  1173.59,757.943 1184.03,755.09 1184.47,754.967 1195.34,752.641 1206.22,750.797 1217.1,749.392 1227.98,748.463 1238.01,748.161 1238.86,748.134 1239.59,748.161 \n",
       "  1249.73,748.591 1260.61,750.079 1271.49,752.963 1276.56,755.09 1282.37,758.343 1286.73,762.018 1291.93,768.946 1293.25,771.859 1294.61,775.874 1295.87,782.802 \n",
       "  1296.18,789.731 1295.65,796.659 1294.21,803.587 1293.25,806.194 1291.68,810.515 1288.06,817.444 1283.6,824.372 1282.37,825.986 1278.41,831.3 1273.17,838.228 \n",
       "  1271.49,840.504 1268.08,845.157 1263.53,852.085 1260.61,857.24 1259.54,859.013 1255.8,865.941 1252.45,872.87 1249.73,878.67 1249.1,879.798 1244.84,886.726 \n",
       "  1239.68,893.654 1238.86,894.537 1231.8,900.583 1227.98,903.174 1220.46,907.511 1217.1,909.107 1206.22,914.055 1205.43,914.439 1195.34,918.7 1189.84,921.367 \n",
       "  1184.47,923.734 1175.52,928.296 1173.59,929.238 1162.72,935.224 1162.71,935.232 1151.83,941.78 1151.24,942.152 1140.95,948.892 1140.67,949.08 1130.81,956.008 \n",
       "  1130.07,956.575 1121.37,962.937 1119.2,964.656 1111.98,969.865 1108.32,972.651 1102.13,976.793 1097.44,980.007 1091.14,983.721 1086.56,986.434 1078.36,990.65 \n",
       "  1075.68,992.027 1064.81,997.083 1063.66,997.578 1053.93,1001.81 1047.58,1004.51 1043.05,1006.38 1032.17,1010.71 1030.25,1011.43 1021.29,1014.47 1010.42,1017.74 \n",
       "  1007.97,1018.36 999.538,1020.24 988.66,1022.13 977.782,1023.47 966.904,1024.17 956.026,1024.16 945.147,1023.27 934.269,1021.31 924.265,1018.36 923.391,1018.01 \n",
       "  912.513,1012.45 \n",
       "  \"/>\n",
       "<polyline clip-path=\"url(#clip1703)\" style=\"stroke:#fbb116; stroke-width:4; stroke-opacity:1; fill:none\" points=\"\n",
       "  966.904,977.139 966.029,976.793 956.026,973.071 949.9,969.865 945.147,967.542 937.494,962.937 934.269,960.858 928.087,956.008 923.391,950.379 922.526,949.08 \n",
       "  921.233,942.152 923.273,935.224 923.391,935.066 928.391,928.296 934.269,922.461 935.37,921.367 943.888,914.439 945.147,913.513 953.14,907.511 956.026,905.415 \n",
       "  962.48,900.583 966.904,897.31 971.666,893.654 977.782,889.003 980.648,886.726 988.66,880.417 989.407,879.798 997.887,872.87 999.538,871.507 1006.02,865.941 \n",
       "  1010.42,862.091 1013.87,859.013 1021.29,852.357 1021.61,852.085 1029.79,845.157 1032.17,843.201 1039.03,838.228 1043.05,835.48 1050.58,831.3 1053.93,829.554 \n",
       "  1064.81,825.261 1067.98,824.372 1075.68,822.234 1086.56,820.086 1097.44,818.523 1107.35,817.444 1108.32,817.324 1119.2,816.295 1130.07,815.318 1140.95,814.313 \n",
       "  1151.83,813.244 1162.71,812.139 1173.59,811.141 1184.47,810.591 1195.34,811.167 1206.22,814.186 1211.05,817.444 1215.88,824.372 1216.63,831.3 1215.15,838.228 \n",
       "  1212.44,845.157 1208.93,852.085 1206.22,856.531 1204.78,859.013 1200.2,865.941 1195.38,872.87 1195.34,872.91 1190.72,879.798 1185.45,886.726 1184.47,887.767 \n",
       "  1179.87,893.654 1173.59,900.01 1173.1,900.583 1165.6,907.511 1162.71,909.69 1156.97,914.439 1151.83,918.069 1147.38,921.367 1140.95,925.672 1137.06,928.296 \n",
       "  1130.07,932.776 1126.13,935.224 1119.2,939.501 1114.56,942.152 1108.32,945.83 1102.08,949.08 1097.44,951.629 1087.96,956.008 1086.56,956.701 1075.68,961.011 \n",
       "  1069.32,962.937 1064.81,964.451 1053.93,967.179 1043.05,969.331 1039.71,969.865 1032.17,971.282 1021.29,973.248 1010.42,975.361 1002.8,976.793 999.538,977.492 \n",
       "  988.66,979.057 977.782,979.167 966.904,977.139 \n",
       "  \"/>\n",
       "<path clip-path=\"url(#clip1700)\" d=\"\n",
       "M2141.12 1487.47 L2352.76 1487.47 L2352.76 276.307 L2141.12 276.307  Z\n",
       "  \" fill=\"#ffffff\" fill-rule=\"evenodd\" fill-opacity=\"1\"/>\n",
       "<defs>\n",
       "  <clipPath id=\"clip1704\">\n",
       "    <rect x=\"2141\" y=\"276\" width=\"213\" height=\"1212\"/>\n",
       "  </clipPath>\n",
       "</defs>\n",
       "<polyline clip-path=\"url(#clip1700)\" style=\"stroke:#000000; stroke-width:4; stroke-opacity:1; fill:none\" points=\"\n",
       "  2141.12,1487.47 2352.76,1487.47 \n",
       "  \"/>\n",
       "<polyline clip-path=\"url(#clip1700)\" style=\"stroke:#000000; stroke-width:4; stroke-opacity:1; fill:none\" points=\"\n",
       "  2141.12,1487.47 2141.12,276.307 \n",
       "  \"/>\n",
       "<polyline clip-path=\"url(#clip1704)\" style=\"stroke:#009af9; stroke-width:4; stroke-opacity:1; fill:none\" points=\"\n",
       "  2141.12,1731.97 2141.12,1723.09 2141.12,1714.22 2141.12,1705.34 2141.12,1696.46 2141.12,1687.58 2141.13,1678.7 2141.15,1669.83 2141.17,1660.95 2141.2,1652.07 \n",
       "  2141.25,1643.19 2141.32,1634.31 2141.4,1625.44 2141.49,1616.56 2141.59,1607.68 2141.7,1598.8 2141.81,1589.93 2141.93,1581.05 2142.04,1572.17 2142.16,1563.29 \n",
       "  2142.26,1554.41 2142.35,1545.54 2142.42,1536.66 2142.48,1527.78 2142.55,1518.9 2142.66,1510.02 2142.82,1501.15 2143.06,1492.27 2143.4,1483.39 2143.84,1474.51 \n",
       "  2144.38,1465.63 2145.01,1456.76 2145.73,1447.88 2146.53,1439 2147.37,1430.12 2148.23,1421.25 2149.1,1412.37 2149.98,1403.49 2150.87,1394.61 2151.81,1385.73 \n",
       "  2152.82,1376.86 2153.92,1367.98 2155.11,1359.1 2156.39,1350.22 2157.77,1341.34 2159.27,1332.47 2160.92,1323.59 2162.73,1314.71 2164.72,1305.83 2166.85,1296.95 \n",
       "  2169.1,1288.08 2171.47,1279.2 2173.97,1270.32 2176.63,1261.44 2179.45,1252.57 2182.45,1243.69 2185.67,1234.81 2189.1,1225.93 2192.74,1217.05 2196.54,1208.18 \n",
       "  2200.42,1199.3 2204.28,1190.42 2208.05,1181.54 2211.73,1172.66 2215.42,1163.79 2219.24,1154.91 2223.36,1146.03 2227.85,1137.15 2232.69,1128.27 2237.79,1119.4 \n",
       "  2243.03,1110.52 2248.34,1101.64 2253.68,1092.76 2259.05,1083.89 2264.44,1075.01 2269.78,1066.13 2275.01,1057.25 2280.04,1048.37 2284.83,1039.5 2289.36,1030.62 \n",
       "  2293.65,1021.74 2297.71,1012.86 2301.58,1003.98 2305.28,995.106 2308.89,986.228 2312.48,977.35 2316.13,968.472 2319.85,959.594 2323.54,950.717 2326.99,941.839 \n",
       "  2329.93,932.961 2332.08,924.083 2333.24,915.205 2333.4,906.327 2332.67,897.449 2331.34,888.571 2329.69,879.693 2327.99,870.815 2326.36,861.938 2324.82,853.06 \n",
       "  2323.28,844.182 2321.62,835.304 2319.72,826.426 2317.51,817.548 2314.95,808.67 2312.04,799.792 2308.8,790.914 2305.29,782.037 2301.62,773.159 2297.92,764.281 \n",
       "  2294.3,755.403 2290.83,746.525 2287.5,737.647 2284.25,728.769 2280.97,719.891 2277.49,711.013 2273.68,702.135 2269.4,693.258 2264.62,684.38 2259.36,675.502 \n",
       "  2253.73,666.624 2247.84,657.746 2241.84,648.868 2235.88,639.99 2230.1,631.112 2224.66,622.234 2219.67,613.357 2215.18,604.479 2211.1,595.601 2207.29,586.723 \n",
       "  2203.56,577.845 2199.77,568.967 2195.86,560.089 2191.88,551.211 2187.93,542.333 2184.13,533.455 2180.52,524.578 2177.13,515.7 2173.91,506.822 2170.84,497.944 \n",
       "  2167.94,489.066 2165.24,480.188 2162.8,471.31 2160.7,462.432 2158.96,453.554 2157.57,444.676 2156.48,435.799 2155.59,426.921 2154.78,418.043 2153.97,409.165 \n",
       "  2153.1,400.287 2152.16,391.409 2151.17,382.531 2150.15,373.653 2149.15,364.775 2148.19,355.898 2147.3,347.02 2146.49,338.142 2145.77,329.264 2145.15,320.386 \n",
       "  2144.67,311.508 2144.31,302.63 2144.09,293.752 2143.96,284.874 2143.89,275.996 2143.84,267.119 2143.78,258.241 2143.68,249.363 2143.54,240.485 2143.36,231.607 \n",
       "  2143.14,222.729 2142.9,213.851 2142.64,204.973 2142.36,196.095 2142.09,187.217 2141.84,178.34 2141.63,169.462 2141.46,160.584 2141.34,151.706 2141.27,142.828 \n",
       "  2141.25,133.95 2141.26,125.072 2141.29,116.194 2141.32,107.316 2141.36,98.4385 2141.38,89.5606 2141.38,80.6827 2141.35,71.8049 2141.31,62.927 2141.26,54.0491 \n",
       "  2141.22,45.1712 2141.18,36.2933 2141.15,27.4154 2141.13,18.5375 2141.12,9.65958 2141.12,0.781682 2141.12,-8.09621 2141.12,-16.9741 2141.12,-25.852 2141.12,-34.7299 \n",
       "  \n",
       "  \"/>\n",
       "</svg>\n"
      ]
     },
     "execution_count": 8,
     "metadata": {},
     "output_type": "execute_result"
    }
   ],
   "source": [
    "marginalkde(XY[1,:],XY[2,:],xlims=(-4.0,4.0))"
   ]
  },
  {
   "cell_type": "code",
   "execution_count": 9,
   "metadata": {
    "tags": []
   },
   "outputs": [
    {
     "data": {
      "image/svg+xml": [
       "<?xml version=\"1.0\" encoding=\"utf-8\"?>\n",
       "<svg xmlns=\"http://www.w3.org/2000/svg\" xmlns:xlink=\"http://www.w3.org/1999/xlink\" width=\"600\" height=\"400\" viewBox=\"0 0 2400 1600\">\n",
       "<defs>\n",
       "  <clipPath id=\"clip2100\">\n",
       "    <rect x=\"0\" y=\"0\" width=\"2400\" height=\"1600\"/>\n",
       "  </clipPath>\n",
       "</defs>\n",
       "<path clip-path=\"url(#clip2100)\" d=\"\n",
       "M0 1600 L2400 1600 L2400 0 L0 0  Z\n",
       "  \" fill=\"#ffffff\" fill-rule=\"evenodd\" fill-opacity=\"1\"/>\n",
       "<defs>\n",
       "  <clipPath id=\"clip2101\">\n",
       "    <rect x=\"480\" y=\"0\" width=\"1681\" height=\"1600\"/>\n",
       "  </clipPath>\n",
       "</defs>\n",
       "<path clip-path=\"url(#clip2100)\" d=\"\n",
       "M141.865 1487.47 L2112.76 1487.47 L2112.76 47.2441 L141.865 47.2441  Z\n",
       "  \" fill=\"#ffffff\" fill-rule=\"evenodd\" fill-opacity=\"1\"/>\n",
       "<defs>\n",
       "  <clipPath id=\"clip2102\">\n",
       "    <rect x=\"141\" y=\"47\" width=\"1972\" height=\"1441\"/>\n",
       "  </clipPath>\n",
       "</defs>\n",
       "<polyline clip-path=\"url(#clip2102)\" style=\"stroke:#000000; stroke-width:2; stroke-opacity:0.1; fill:none\" points=\"\n",
       "  141.865,1487.47 141.865,47.2441 \n",
       "  \"/>\n",
       "<polyline clip-path=\"url(#clip2102)\" style=\"stroke:#000000; stroke-width:2; stroke-opacity:0.1; fill:none\" points=\"\n",
       "  634.587,1487.47 634.587,47.2441 \n",
       "  \"/>\n",
       "<polyline clip-path=\"url(#clip2102)\" style=\"stroke:#000000; stroke-width:2; stroke-opacity:0.1; fill:none\" points=\"\n",
       "  1127.31,1487.47 1127.31,47.2441 \n",
       "  \"/>\n",
       "<polyline clip-path=\"url(#clip2102)\" style=\"stroke:#000000; stroke-width:2; stroke-opacity:0.1; fill:none\" points=\"\n",
       "  1620.03,1487.47 1620.03,47.2441 \n",
       "  \"/>\n",
       "<polyline clip-path=\"url(#clip2102)\" style=\"stroke:#000000; stroke-width:2; stroke-opacity:0.1; fill:none\" points=\"\n",
       "  2112.76,1487.47 2112.76,47.2441 \n",
       "  \"/>\n",
       "<polyline clip-path=\"url(#clip2102)\" style=\"stroke:#000000; stroke-width:2; stroke-opacity:0.1; fill:none\" points=\"\n",
       "  141.865,1487.47 2112.76,1487.47 \n",
       "  \"/>\n",
       "<polyline clip-path=\"url(#clip2102)\" style=\"stroke:#000000; stroke-width:2; stroke-opacity:0.1; fill:none\" points=\"\n",
       "  141.865,1127.42 2112.76,1127.42 \n",
       "  \"/>\n",
       "<polyline clip-path=\"url(#clip2102)\" style=\"stroke:#000000; stroke-width:2; stroke-opacity:0.1; fill:none\" points=\"\n",
       "  141.865,767.359 2112.76,767.359 \n",
       "  \"/>\n",
       "<polyline clip-path=\"url(#clip2102)\" style=\"stroke:#000000; stroke-width:2; stroke-opacity:0.1; fill:none\" points=\"\n",
       "  141.865,407.302 2112.76,407.302 \n",
       "  \"/>\n",
       "<polyline clip-path=\"url(#clip2102)\" style=\"stroke:#000000; stroke-width:2; stroke-opacity:0.1; fill:none\" points=\"\n",
       "  141.865,47.2441 2112.76,47.2441 \n",
       "  \"/>\n",
       "<polyline clip-path=\"url(#clip2100)\" style=\"stroke:#000000; stroke-width:4; stroke-opacity:1; fill:none\" points=\"\n",
       "  141.865,1487.47 2112.76,1487.47 \n",
       "  \"/>\n",
       "<polyline clip-path=\"url(#clip2100)\" style=\"stroke:#000000; stroke-width:4; stroke-opacity:1; fill:none\" points=\"\n",
       "  141.865,1487.47 141.865,47.2441 \n",
       "  \"/>\n",
       "<polyline clip-path=\"url(#clip2100)\" style=\"stroke:#000000; stroke-width:4; stroke-opacity:1; fill:none\" points=\"\n",
       "  141.865,1487.47 141.865,1470.19 \n",
       "  \"/>\n",
       "<polyline clip-path=\"url(#clip2100)\" style=\"stroke:#000000; stroke-width:4; stroke-opacity:1; fill:none\" points=\"\n",
       "  634.587,1487.47 634.587,1470.19 \n",
       "  \"/>\n",
       "<polyline clip-path=\"url(#clip2100)\" style=\"stroke:#000000; stroke-width:4; stroke-opacity:1; fill:none\" points=\"\n",
       "  1127.31,1487.47 1127.31,1470.19 \n",
       "  \"/>\n",
       "<polyline clip-path=\"url(#clip2100)\" style=\"stroke:#000000; stroke-width:4; stroke-opacity:1; fill:none\" points=\"\n",
       "  1620.03,1487.47 1620.03,1470.19 \n",
       "  \"/>\n",
       "<polyline clip-path=\"url(#clip2100)\" style=\"stroke:#000000; stroke-width:4; stroke-opacity:1; fill:none\" points=\"\n",
       "  2112.76,1487.47 2112.76,1470.19 \n",
       "  \"/>\n",
       "<polyline clip-path=\"url(#clip2100)\" style=\"stroke:#000000; stroke-width:4; stroke-opacity:1; fill:none\" points=\"\n",
       "  141.865,1487.47 165.515,1487.47 \n",
       "  \"/>\n",
       "<polyline clip-path=\"url(#clip2100)\" style=\"stroke:#000000; stroke-width:4; stroke-opacity:1; fill:none\" points=\"\n",
       "  141.865,1127.42 165.515,1127.42 \n",
       "  \"/>\n",
       "<polyline clip-path=\"url(#clip2100)\" style=\"stroke:#000000; stroke-width:4; stroke-opacity:1; fill:none\" points=\"\n",
       "  141.865,767.359 165.515,767.359 \n",
       "  \"/>\n",
       "<polyline clip-path=\"url(#clip2100)\" style=\"stroke:#000000; stroke-width:4; stroke-opacity:1; fill:none\" points=\"\n",
       "  141.865,407.302 165.515,407.302 \n",
       "  \"/>\n",
       "<polyline clip-path=\"url(#clip2100)\" style=\"stroke:#000000; stroke-width:4; stroke-opacity:1; fill:none\" points=\"\n",
       "  141.865,47.2441 165.515,47.2441 \n",
       "  \"/>\n",
       "<g clip-path=\"url(#clip2100)\">\n",
       "<text style=\"fill:#000000; fill-opacity:1; font-family:Arial,Helvetica Neue,Helvetica,sans-serif; font-size:48px; text-anchor:middle;\" transform=\"rotate(0, 141.865, 1541.47)\" x=\"141.865\" y=\"1541.47\">-4</text>\n",
       "</g>\n",
       "<g clip-path=\"url(#clip2100)\">\n",
       "<text style=\"fill:#000000; fill-opacity:1; font-family:Arial,Helvetica Neue,Helvetica,sans-serif; font-size:48px; text-anchor:middle;\" transform=\"rotate(0, 634.587, 1541.47)\" x=\"634.587\" y=\"1541.47\">-2</text>\n",
       "</g>\n",
       "<g clip-path=\"url(#clip2100)\">\n",
       "<text style=\"fill:#000000; fill-opacity:1; font-family:Arial,Helvetica Neue,Helvetica,sans-serif; font-size:48px; text-anchor:middle;\" transform=\"rotate(0, 1127.31, 1541.47)\" x=\"1127.31\" y=\"1541.47\">0</text>\n",
       "</g>\n",
       "<g clip-path=\"url(#clip2100)\">\n",
       "<text style=\"fill:#000000; fill-opacity:1; font-family:Arial,Helvetica Neue,Helvetica,sans-serif; font-size:48px; text-anchor:middle;\" transform=\"rotate(0, 1620.03, 1541.47)\" x=\"1620.03\" y=\"1541.47\">2</text>\n",
       "</g>\n",
       "<g clip-path=\"url(#clip2100)\">\n",
       "<text style=\"fill:#000000; fill-opacity:1; font-family:Arial,Helvetica Neue,Helvetica,sans-serif; font-size:48px; text-anchor:middle;\" transform=\"rotate(0, 2112.76, 1541.47)\" x=\"2112.76\" y=\"1541.47\">4</text>\n",
       "</g>\n",
       "<g clip-path=\"url(#clip2100)\">\n",
       "<text style=\"fill:#000000; fill-opacity:1; font-family:Arial,Helvetica Neue,Helvetica,sans-serif; font-size:48px; text-anchor:end;\" transform=\"rotate(0, 117.865, 1504.97)\" x=\"117.865\" y=\"1504.97\">-4</text>\n",
       "</g>\n",
       "<g clip-path=\"url(#clip2100)\">\n",
       "<text style=\"fill:#000000; fill-opacity:1; font-family:Arial,Helvetica Neue,Helvetica,sans-serif; font-size:48px; text-anchor:end;\" transform=\"rotate(0, 117.865, 1144.92)\" x=\"117.865\" y=\"1144.92\">-2</text>\n",
       "</g>\n",
       "<g clip-path=\"url(#clip2100)\">\n",
       "<text style=\"fill:#000000; fill-opacity:1; font-family:Arial,Helvetica Neue,Helvetica,sans-serif; font-size:48px; text-anchor:end;\" transform=\"rotate(0, 117.865, 784.859)\" x=\"117.865\" y=\"784.859\">0</text>\n",
       "</g>\n",
       "<g clip-path=\"url(#clip2100)\">\n",
       "<text style=\"fill:#000000; fill-opacity:1; font-family:Arial,Helvetica Neue,Helvetica,sans-serif; font-size:48px; text-anchor:end;\" transform=\"rotate(0, 117.865, 424.802)\" x=\"117.865\" y=\"424.802\">2</text>\n",
       "</g>\n",
       "<g clip-path=\"url(#clip2100)\">\n",
       "<text style=\"fill:#000000; fill-opacity:1; font-family:Arial,Helvetica Neue,Helvetica,sans-serif; font-size:48px; text-anchor:end;\" transform=\"rotate(0, 117.865, 64.7441)\" x=\"117.865\" y=\"64.7441\">4</text>\n",
       "</g>\n",
       "<path clip-path=\"url(#clip2102)\" d=\"\n",
       "M141.865 1487.47 L141.865 1487.47 L166.501 1487.47 L191.137 1487.47 L215.773 1487.47 L240.409 1487.47 L265.045 1487.47 L289.681 1487.47 L314.318 1487.47 L338.954 1487.47 \n",
       "  L363.59 1487.47 L388.226 1487.47 L412.862 1487.47 L437.498 1487.47 L462.134 1487.47 L486.771 1487.47 L511.407 1487.47 L536.043 1487.47 L560.679 1487.47 L585.315 1487.47 \n",
       "  L609.951 1487.47 L634.587 1487.47 L659.224 1487.47 L683.86 1487.47 L708.496 1487.47 L733.132 1487.47 L757.768 1487.47 L782.404 1487.47 L807.04 1487.47 L831.677 1487.47 \n",
       "  L856.313 1487.47 L880.949 1487.47 L905.585 1487.47 L930.221 1487.47 L954.857 1487.47 L979.493 1487.47 L1004.13 1487.47 L1028.77 1487.47 L1053.4 1487.47 L1078.04 1487.47 \n",
       "  L1102.67 1487.47 L1127.31 1487.47 L1151.95 1487.47 L1176.58 1487.47 L1201.22 1487.47 L1225.85 1487.47 L1250.49 1487.47 L1275.13 1487.47 L1299.76 1487.47 L1324.4 1487.47 \n",
       "  L1349.04 1487.47 L1373.67 1487.47 L1398.31 1487.47 L1422.94 1487.47 L1447.58 1487.47 L1472.22 1487.47 L1496.85 1487.47 L1521.49 1487.47 L1546.12 1487.47 L1570.76 1487.47 \n",
       "  L1595.4 1487.47 L1620.03 1487.47 L1644.67 1487.47 L1669.31 1487.47 L1693.94 1487.47 L1718.58 1487.47 L1743.21 1487.47 L1767.85 1487.47 L1792.49 1487.47 L1817.12 1487.47 \n",
       "  L1841.76 1487.47 L1866.39 1487.47 L1891.03 1487.47 L1915.67 1487.47 L1940.3 1487.47 L1964.94 1487.47 L1989.58 1487.47 L2014.21 1487.47 L2038.85 1487.47 L2063.48 1487.47 \n",
       "  L2088.12 1487.47 L2112.76 1487.47 L2112.76 1487.47 L2112.76 1487.47 L2112.76 1487.47 L2112.76 1469.47 L2112.76 1451.47 L2112.76 1433.47 L2112.76 1415.46 L2112.76 1397.46 \n",
       "  L2112.76 1379.46 L2112.76 1361.45 L2112.76 1343.45 L2112.76 1325.45 L2112.76 1307.45 L2112.76 1289.44 L2112.76 1271.44 L2112.76 1253.44 L2112.76 1235.43 L2112.76 1217.43 \n",
       "  L2112.76 1199.43 L2112.76 1181.43 L2112.76 1163.42 L2112.76 1145.42 L2112.76 1127.42 L2112.76 1109.41 L2112.76 1091.41 L2112.76 1073.41 L2112.76 1055.41 L2112.76 1037.4 \n",
       "  L2112.76 1019.4 L2112.76 1001.4 L2112.76 983.394 L2112.76 965.391 L2112.76 947.388 L2112.76 929.385 L2112.76 911.382 L2112.76 893.38 L2112.76 875.377 L2112.76 857.374 \n",
       "  L2112.76 839.371 L2112.76 821.368 L2112.76 803.365 L2112.76 785.362 L2112.76 767.359 L2112.76 749.357 L2112.76 731.354 L2112.76 713.351 L2112.76 695.348 L2112.76 677.345 \n",
       "  L2112.76 659.342 L2112.76 641.339 L2112.76 623.336 L2112.76 605.333 L2112.76 587.331 L2112.76 569.328 L2112.76 551.325 L2112.76 533.322 L2112.76 515.319 L2112.76 497.316 \n",
       "  L2112.76 479.313 L2112.76 461.31 L2112.76 443.308 L2112.76 425.305 L2112.76 407.302 L2112.76 389.299 L2112.76 371.296 L2112.76 353.293 L2112.76 335.29 L2112.76 317.287 \n",
       "  L2112.76 299.284 L2112.76 281.282 L2112.76 263.279 L2112.76 245.276 L2112.76 227.273 L2112.76 209.27 L2112.76 191.267 L2112.76 173.264 L2112.76 155.261 L2112.76 137.259 \n",
       "  L2112.76 119.256 L2112.76 101.253 L2112.76 83.2499 L2112.76 65.247 L2112.76 47.2441 L2112.76 47.2441 L2112.76 47.2441 L2112.76 47.2441 L2088.12 47.2441 L2063.48 47.2441 \n",
       "  L2038.85 47.2441 L2014.21 47.2441 L1989.58 47.2441 L1964.94 47.2441 L1940.3 47.2441 L1915.67 47.2441 L1891.03 47.2441 L1866.39 47.2441 L1841.76 47.2441 L1817.12 47.2441 \n",
       "  L1792.49 47.2441 L1767.85 47.2441 L1743.21 47.2441 L1718.58 47.2441 L1693.94 47.2441 L1669.31 47.2441 L1644.67 47.2441 L1620.03 47.2441 L1595.4 47.2441 L1570.76 47.2441 \n",
       "  L1546.12 47.2441 L1521.49 47.2441 L1496.85 47.2441 L1472.22 47.2441 L1447.58 47.2441 L1422.94 47.2441 L1398.31 47.2441 L1373.67 47.2441 L1349.04 47.2441 L1324.4 47.2441 \n",
       "  L1299.76 47.2441 L1275.13 47.2441 L1250.49 47.2441 L1225.85 47.2441 L1201.22 47.2441 L1176.58 47.2441 L1151.95 47.2441 L1127.31 47.2441 L1102.67 47.2441 L1078.04 47.2441 \n",
       "  L1053.4 47.2441 L1028.77 47.2441 L1004.13 47.2441 L979.493 47.2441 L954.857 47.2441 L930.221 47.2441 L905.585 47.2441 L880.949 47.2441 L856.313 47.2441 L831.677 47.2441 \n",
       "  L807.04 47.2441 L782.404 47.2441 L757.768 47.2441 L733.132 47.2441 L708.496 47.2441 L683.86 47.2441 L659.224 47.2441 L634.587 47.2441 L609.951 47.2441 L585.315 47.2441 \n",
       "  L560.679 47.2441 L536.043 47.2441 L511.407 47.2441 L486.771 47.2441 L462.134 47.2441 L437.498 47.2441 L412.862 47.2441 L388.226 47.2441 L363.59 47.2441 L338.954 47.2441 \n",
       "  L314.318 47.2441 L289.681 47.2441 L265.045 47.2441 L240.409 47.2441 L215.773 47.2441 L191.137 47.2441 L166.501 47.2441 L141.865 47.2441 L141.865 47.2441 L141.865 47.2441 \n",
       "  L141.865 47.2441 L141.865 65.247 L141.865 83.2499 L141.865 101.253 L141.865 119.256 L141.865 137.259 L141.865 155.261 L141.865 173.264 L141.865 191.267 L141.865 209.27 \n",
       "  L141.865 227.273 L141.865 245.276 L141.865 263.279 L141.865 281.282 L141.865 299.284 L141.865 317.287 L141.865 335.29 L141.865 353.293 L141.865 371.296 L141.865 389.299 \n",
       "  L141.865 407.302 L141.865 425.305 L141.865 443.308 L141.865 461.31 L141.865 479.313 L141.865 497.316 L141.865 515.319 L141.865 533.322 L141.865 551.325 L141.865 569.328 \n",
       "  L141.865 587.331 L141.865 605.333 L141.865 623.336 L141.865 641.339 L141.865 659.342 L141.865 677.345 L141.865 695.348 L141.865 713.351 L141.865 731.354 L141.865 749.357 \n",
       "  L141.865 767.359 L141.865 785.362 L141.865 803.365 L141.865 821.368 L141.865 839.371 L141.865 857.374 L141.865 875.377 L141.865 893.38 L141.865 911.382 L141.865 929.385 \n",
       "  L141.865 947.388 L141.865 965.391 L141.865 983.394 L141.865 1001.4 L141.865 1019.4 L141.865 1037.4 L141.865 1055.41 L141.865 1073.41 L141.865 1091.41 L141.865 1109.41 \n",
       "  L141.865 1127.42 L141.865 1145.42 L141.865 1163.42 L141.865 1181.43 L141.865 1199.43 L141.865 1217.43 L141.865 1235.43 L141.865 1253.44 L141.865 1271.44 L141.865 1289.44 \n",
       "  L141.865 1307.45 L141.865 1325.45 L141.865 1343.45 L141.865 1361.45 L141.865 1379.46 L141.865 1397.46 L141.865 1415.46 L141.865 1433.47 L141.865 1451.47 L141.865 1469.47 \n",
       "  L141.865 1487.47 L141.865 1487.47 L141.865 1487.47  Z\n",
       "  \" fill=\"#000003\" fill-rule=\"evenodd\" fill-opacity=\"1\"/>\n",
       "<path clip-path=\"url(#clip2102)\" d=\"\n",
       "M683.86 1364.87 L708.496 1366.96 L733.132 1366.67 L757.768 1364.36 L774.865 1361.45 L782.404 1360.35 L807.04 1355.18 L831.677 1348.43 L846.34 1343.45 L856.313 1340.44 \n",
       "  L880.949 1331.53 L895.187 1325.45 L905.585 1321.41 L930.221 1310.31 L935.892 1307.45 L954.857 1298.56 L971.853 1289.44 L979.493 1285.6 L1004.13 1271.66 L1004.5 1271.44 \n",
       "  L1028.77 1257.43 L1035.08 1253.44 L1053.4 1242.25 L1063.71 1235.43 L1078.04 1226.2 L1090.76 1217.43 L1102.67 1209.35 L1116.51 1199.43 L1127.31 1191.72 L1141.14 1181.43 \n",
       "  L1151.95 1173.34 L1164.8 1163.42 L1176.58 1154.19 L1187.56 1145.42 L1201.22 1134.23 L1209.47 1127.42 L1225.85 1113.41 L1230.54 1109.41 L1250.49 1091.63 L1250.74 1091.41 \n",
       "  L1271.02 1073.41 L1275.13 1069.57 L1290.64 1055.41 L1299.76 1046.52 L1309.46 1037.4 L1324.4 1022.26 L1327.36 1019.4 L1345.25 1001.4 L1349.04 997.358 L1362.9 983.394 \n",
       "  L1373.67 971.473 L1379.55 965.391 L1395.72 947.388 L1398.31 944.372 L1412.19 929.385 L1422.94 916.358 L1427.43 911.382 L1442.67 893.38 L1447.58 887.1 L1457.69 875.377 \n",
       "  L1471.4 857.374 L1472.22 856.267 L1486.11 839.371 L1496.85 824.269 L1499.18 821.368 L1512.93 803.365 L1521.49 790.574 L1525.46 785.362 L1538.27 767.359 L1546.12 754.857 \n",
       "  L1550.1 749.357 L1562.2 731.354 L1570.76 716.763 L1573.09 713.351 L1584.65 695.348 L1594.58 677.345 L1595.4 675.789 L1605.51 659.342 L1615.13 641.339 L1620.03 631.185 \n",
       "  L1624.52 623.336 L1633.91 605.333 L1642.09 587.331 L1644.67 581.132 L1650.55 569.328 L1658.54 551.325 L1665.52 533.322 L1669.31 522.403 L1672.27 515.319 L1679 497.316 \n",
       "  L1684.82 479.313 L1689.84 461.31 L1693.94 444.177 L1694.19 443.308 L1698.63 425.305 L1702.19 407.302 L1704.92 389.299 L1706.79 371.296 L1707.77 353.293 L1707.78 335.29 \n",
       "  L1706.67 317.287 L1704.25 299.284 L1700.26 281.282 L1694.31 263.279 L1693.94 262.409 L1686.3 245.276 L1674.98 227.273 L1669.31 220.189 L1658.91 209.27 L1644.67 197.466 \n",
       "  L1634.7 191.267 L1620.03 183.418 L1595.4 174.82 L1587.86 173.264 L1570.76 169.852 L1546.12 167.764 L1521.49 168.053 L1496.85 170.364 L1479.76 173.264 L1472.22 174.371 \n",
       "  L1447.58 179.543 L1422.94 186.291 L1408.28 191.267 L1398.31 194.283 L1373.67 203.188 L1359.43 209.27 L1349.04 213.309 L1324.4 224.408 L1318.73 227.273 L1299.76 236.162 \n",
       "  L1282.77 245.276 L1275.13 249.115 L1250.49 263.056 L1250.12 263.279 L1225.85 277.287 L1219.54 281.282 L1201.22 292.47 L1190.91 299.284 L1176.58 308.519 L1163.86 317.287 \n",
       "  L1151.95 325.373 L1138.11 335.29 L1127.31 342.996 L1113.48 353.293 L1102.67 361.378 L1089.82 371.296 L1078.04 380.531 L1067.06 389.299 L1053.4 400.488 L1045.15 407.302 \n",
       "  L1028.77 421.31 L1024.08 425.305 L1004.13 443.085 L1003.88 443.308 L983.596 461.31 L979.493 465.15 L963.98 479.313 L954.857 488.202 L945.161 497.316 L930.221 512.454 \n",
       "  L927.258 515.319 L909.374 533.322 L905.585 537.361 L891.716 551.325 L880.949 563.246 L875.069 569.328 L858.897 587.331 L856.313 590.347 L842.432 605.333 L831.677 618.361 \n",
       "  L827.186 623.336 L811.946 641.339 L807.04 647.618 L796.928 659.342 L783.22 677.345 L782.404 678.451 L768.51 695.348 L757.768 710.45 L755.442 713.351 L741.694 731.354 \n",
       "  L733.132 744.145 L729.16 749.357 L716.346 767.359 L708.496 779.862 L704.523 785.362 L692.422 803.365 L683.86 817.956 L681.534 821.368 L669.966 839.371 L660.039 857.374 \n",
       "  L659.224 858.929 L649.111 875.377 L639.493 893.38 L634.587 903.533 L630.097 911.382 L620.706 929.385 L612.535 947.388 L609.951 953.587 L604.072 965.391 L596.082 983.394 \n",
       "  L589.104 1001.4 L585.315 1012.32 L582.352 1019.4 L575.619 1037.4 L569.802 1055.41 L564.781 1073.41 L560.679 1090.54 L560.426 1091.41 L555.991 1109.41 L552.426 1127.42 \n",
       "  L549.703 1145.42 L547.829 1163.42 L546.849 1181.43 L546.845 1199.43 L547.954 1217.43 L550.369 1235.43 L554.363 1253.44 L560.311 1271.44 L560.679 1272.31 L568.319 1289.44 \n",
       "  L579.644 1307.45 L585.315 1314.53 L595.713 1325.45 L609.951 1337.25 L619.923 1343.45 L634.587 1351.3 L659.224 1359.9 L666.763 1361.45 L683.86 1364.87  Z\n",
       "  \" fill=\"#0c0727\" fill-rule=\"evenodd\" fill-opacity=\"1\"/>\n",
       "<path clip-path=\"url(#clip2102)\" d=\"\n",
       "M708.496 1276.25 L733.132 1283.14 L757.768 1286.22 L782.404 1286.46 L807.04 1284.44 L831.677 1280.48 L856.313 1274.69 L866.885 1271.44 L880.949 1267.54 L905.585 1259.09 \n",
       "  L919.302 1253.44 L930.221 1249.31 L954.857 1238.38 L960.72 1235.43 L979.493 1226.59 L996.488 1217.43 L1004.13 1213.53 L1028.68 1199.43 L1028.77 1199.38 L1053.4 1184.71 \n",
       "  L1058.47 1181.43 L1078.04 1169.03 L1086.25 1163.42 L1102.67 1152.39 L1112.42 1145.42 L1127.31 1134.83 L1137.24 1127.42 L1151.95 1116.38 L1160.9 1109.41 L1176.58 1097.02 \n",
       "  L1183.5 1091.41 L1201.22 1076.7 L1205.13 1073.41 L1225.8 1055.41 L1225.85 1055.36 L1246.26 1037.4 L1250.49 1033.51 L1265.95 1019.4 L1275.13 1010.55 L1284.82 1001.4 \n",
       "  L1299.76 986.342 L1302.78 983.394 L1320.53 965.391 L1324.4 961.262 L1337.95 947.388 L1349.04 935.033 L1354.38 929.385 L1370.38 911.382 L1373.67 907.486 L1386.36 893.38 \n",
       "  L1398.31 878.63 L1401.15 875.377 L1416.13 857.374 L1422.94 848.41 L1430.42 839.371 L1444.03 821.368 L1447.58 816.363 L1457.73 803.365 L1470.24 785.362 L1472.22 782.376 \n",
       "  L1483.23 767.359 L1494.88 749.357 L1496.85 746.132 L1507 731.354 L1517.93 713.351 L1521.49 707.048 L1528.96 695.348 L1539.31 677.345 L1546.12 664.15 L1548.96 659.342 \n",
       "  L1558.81 641.339 L1567.47 623.336 L1570.76 615.859 L1576.11 605.333 L1584.31 587.331 L1591.53 569.328 L1595.4 558.553 L1598.42 551.325 L1605.09 533.322 L1610.86 515.319 \n",
       "  L1615.8 497.316 L1619.98 479.313 L1620.03 479.031 L1623.94 461.31 L1626.95 443.308 L1628.98 425.305 L1629.97 407.302 L1629.78 389.299 L1628.25 371.296 L1625.1 353.293 \n",
       "  L1620.03 335.573 L1619.95 335.29 L1612.39 317.287 L1601.26 299.284 L1595.4 292.056 L1584.48 281.282 L1570.76 270.756 L1556.7 263.279 L1546.12 258.471 L1521.49 251.578 \n",
       "  L1496.85 248.5 L1472.22 248.263 L1447.58 250.281 L1422.94 254.24 L1398.31 260.025 L1387.74 263.279 L1373.67 267.175 L1349.04 275.634 L1335.32 281.282 L1324.4 285.411 \n",
       "  L1299.76 296.336 L1293.9 299.284 L1275.13 308.13 L1258.13 317.287 L1250.49 321.185 L1225.94 335.29 L1225.85 335.337 L1201.22 350.005 L1196.16 353.293 L1176.58 365.691 \n",
       "  L1168.37 371.296 L1151.95 382.331 L1142.2 389.299 L1127.31 399.884 L1117.38 407.302 L1102.67 418.337 L1093.72 425.305 L1078.04 437.702 L1071.12 443.308 L1053.4 458.022 \n",
       "  L1049.49 461.31 L1028.82 479.313 L1028.77 479.36 L1008.36 497.316 L1004.13 501.214 L988.669 515.319 L979.493 524.164 L969.796 533.322 L954.857 548.377 L951.837 551.325 \n",
       "  L934.088 569.328 L930.221 573.457 L916.67 587.331 L905.585 599.686 L900.24 605.333 L884.239 623.336 L880.949 627.233 L868.259 641.339 L856.313 656.089 L853.473 659.342 \n",
       "  L838.487 677.345 L831.677 686.309 L824.203 695.348 L810.594 713.351 L807.04 718.356 L796.895 731.354 L784.378 749.357 L782.404 752.343 L771.386 767.359 L759.742 785.362 \n",
       "  L757.768 788.587 L747.623 803.365 L736.686 821.368 L733.132 827.67 L725.658 839.371 L715.306 857.374 L708.496 870.569 L705.657 875.377 L695.806 893.38 L687.15 911.382 \n",
       "  L683.86 918.86 L678.515 929.385 L670.308 947.388 L663.091 965.391 L659.224 976.166 L656.203 983.394 L649.526 1001.4 L643.763 1019.4 L638.821 1037.4 L634.641 1055.41 \n",
       "  L634.587 1055.69 L630.678 1073.41 L627.668 1091.41 L625.638 1109.41 L624.655 1127.42 L624.838 1145.42 L626.371 1163.42 L629.524 1181.43 L634.587 1199.15 L634.672 1199.43 \n",
       "  L642.229 1217.43 L653.36 1235.43 L659.224 1242.66 L670.142 1253.44 L683.86 1263.96 L697.924 1271.44 L708.496 1276.25  Z\n",
       "  \" fill=\"#240b4e\" fill-rule=\"evenodd\" fill-opacity=\"1\"/>\n",
       "<path clip-path=\"url(#clip2102)\" d=\"\n",
       "M757.768 1226.06 L782.404 1231.54 L807.04 1233.25 L831.677 1232.15 L856.313 1228.79 L880.949 1223.42 L901.169 1217.43 L905.585 1216.24 L930.221 1207.87 L950.632 1199.43 \n",
       "  L954.857 1197.81 L979.493 1186.79 L989.907 1181.43 L1004.13 1174.5 L1024.09 1163.42 L1028.77 1160.94 L1053.4 1146.37 L1054.89 1145.42 L1078.04 1130.98 L1083.3 1127.42 \n",
       "  L1102.67 1114.51 L1109.82 1109.41 L1127.31 1097.01 L1134.79 1091.41 L1151.95 1078.5 L1158.44 1073.41 L1176.58 1058.97 L1180.93 1055.41 L1201.22 1038.36 L1202.33 1037.4 \n",
       "  L1223.08 1019.4 L1225.85 1016.92 L1243.12 1001.4 L1250.49 994.468 L1262.33 983.394 L1275.13 970.751 L1280.65 965.391 L1298.22 947.388 L1299.76 945.767 L1315.74 929.385 \n",
       "  L1324.4 919.822 L1332.34 911.382 L1348.03 893.38 L1349.04 892.189 L1363.97 875.377 L1373.67 863.367 L1378.81 857.374 L1393.31 839.371 L1398.31 832.723 L1407.47 821.368 \n",
       "  L1420.66 803.365 L1422.94 800.081 L1434.05 785.362 L1446.18 767.359 L1447.58 765.175 L1458.69 749.357 L1469.93 731.354 L1472.22 727.459 L1481.38 713.351 L1491.85 695.348 \n",
       "  L1496.85 685.978 L1502 677.345 L1511.79 659.342 L1520.48 641.339 L1521.49 639.09 L1529.43 623.336 L1537.47 605.333 L1544.59 587.331 L1546.12 583.001 L1551.64 569.328 \n",
       "  L1557.97 551.325 L1563.39 533.322 L1567.98 515.319 L1570.76 501.994 L1571.88 497.316 L1575.11 479.313 L1577.26 461.31 L1578.24 443.308 L1577.91 425.305 L1576.03 407.302 \n",
       "  L1572.25 389.299 L1570.76 384.621 L1566.08 371.296 L1556.54 353.293 L1546.12 339.62 L1541.9 335.29 L1521.49 319.537 L1517.07 317.287 L1496.85 308.655 L1472.22 303.179 \n",
       "  L1447.58 301.468 L1422.94 302.568 L1398.31 305.933 L1373.67 311.295 L1353.45 317.287 L1349.04 318.478 L1324.4 326.851 L1303.99 335.29 L1299.76 336.911 L1275.13 347.933 \n",
       "  L1264.71 353.293 L1250.49 360.222 L1230.53 371.296 L1225.85 373.778 L1201.22 388.346 L1199.73 389.299 L1176.58 403.741 L1171.32 407.302 L1151.95 420.21 L1144.8 425.305 \n",
       "  L1127.31 437.707 L1119.83 443.308 L1102.67 456.216 L1096.18 461.31 L1078.04 475.753 L1073.69 479.313 L1053.4 496.364 L1052.29 497.316 L1031.55 515.319 L1028.77 517.801 \n",
       "  L1011.5 533.322 L1004.13 540.251 L992.289 551.325 L979.493 563.968 L973.975 569.328 L956.396 587.331 L954.857 588.952 L938.876 605.333 L930.221 614.897 L922.279 623.336 \n",
       "  L906.592 641.339 L905.585 642.529 L890.65 659.342 L880.949 671.352 L875.806 677.345 L861.311 695.348 L856.313 701.996 L847.152 713.351 L833.963 731.354 L831.677 734.638 \n",
       "  L820.566 749.357 L808.441 767.359 L807.04 769.543 L795.93 785.362 L784.691 803.365 L782.404 807.26 L773.243 821.368 L762.766 839.371 L757.768 848.741 L752.625 857.374 \n",
       "  L742.834 875.377 L734.139 893.38 L733.132 895.629 L725.19 911.382 L717.151 929.385 L710.035 947.388 L708.496 951.718 L702.977 965.391 L696.655 983.394 L691.229 1001.4 \n",
       "  L686.639 1019.4 L683.86 1032.73 L682.745 1037.4 L679.515 1055.41 L677.364 1073.41 L676.379 1091.41 L676.711 1109.41 L678.595 1127.42 L682.371 1145.42 L683.86 1150.1 \n",
       "  L688.538 1163.42 L698.083 1181.43 L708.496 1195.1 L712.721 1199.43 L733.132 1215.18 L737.548 1217.43 L757.768 1226.06  Z\n",
       "  \" fill=\"#420a67\" fill-rule=\"evenodd\" fill-opacity=\"1\"/>\n",
       "<path clip-path=\"url(#clip2102)\" d=\"\n",
       "M782.404 1181.68 L807.04 1188.73 L831.677 1191.28 L856.313 1190.53 L880.949 1187.19 L905.585 1181.6 L906.132 1181.43 L930.221 1174.45 L954.857 1165.45 L959.484 1163.42 \n",
       "  L979.493 1155.21 L999.707 1145.42 L1004.13 1143.39 L1028.77 1130.49 L1034.01 1127.42 L1053.4 1116.45 L1064.61 1109.41 L1078.04 1101.2 L1092.66 1091.41 L1102.67 1084.81 \n",
       "  L1118.73 1073.41 L1127.31 1067.34 L1143.2 1055.41 L1151.95 1048.8 L1166.35 1037.4 L1176.58 1029.19 L1188.35 1019.4 L1201.22 1008.43 L1209.3 1001.4 L1225.85 986.466 \n",
       "  L1229.23 983.394 L1248.39 965.391 L1250.49 963.364 L1267.06 947.388 L1275.13 939.175 L1284.87 929.385 L1299.76 913.409 L1301.7 911.382 L1318.35 893.38 L1324.4 886.404 \n",
       "  L1334.31 875.377 L1349.04 857.546 L1349.18 857.374 L1364.31 839.371 L1373.67 827.135 L1378.34 821.368 L1392.04 803.365 L1398.31 794.471 L1405.17 785.362 L1417.69 767.359 \n",
       "  L1422.94 759.209 L1429.81 749.357 L1441.31 731.354 L1447.58 720.657 L1452.25 713.351 L1462.86 695.348 L1472.22 677.602 L1472.37 677.345 L1482.13 659.342 L1490.8 641.339 \n",
       "  L1496.85 627.363 L1498.79 623.336 L1506.59 605.333 L1513.42 587.331 L1519.39 569.328 L1521.49 561.943 L1524.86 551.325 L1529.57 533.322 L1533.26 515.319 L1535.9 497.316 \n",
       "  L1537.38 479.313 L1537.54 461.31 L1536.11 443.308 L1532.7 425.305 L1526.73 407.302 L1521.49 396.684 L1517.07 389.299 L1501.48 371.296 L1496.85 367.269 L1472.76 353.293 \n",
       "  L1472.22 353.036 L1447.58 345.987 L1422.94 343.44 L1398.31 344.184 L1373.67 347.526 L1349.04 353.121 L1348.49 353.293 L1324.4 360.269 L1299.76 369.27 L1295.14 371.296 \n",
       "  L1275.13 379.509 L1254.91 389.299 L1250.49 391.326 L1225.85 404.23 L1220.61 407.302 L1201.22 418.268 L1190.01 425.305 L1176.58 433.522 L1161.96 443.308 L1151.95 449.909 \n",
       "  L1135.9 461.31 L1127.31 467.378 L1111.42 479.313 L1102.67 485.914 L1088.27 497.316 L1078.04 505.534 L1066.27 515.319 L1053.4 526.285 L1045.32 533.322 L1028.77 548.253 \n",
       "  L1025.39 551.325 L1006.23 569.328 L1004.13 571.355 L987.558 587.331 L979.493 595.544 L969.753 605.333 L954.857 621.31 L952.919 623.336 L936.274 641.339 L930.221 648.315 \n",
       "  L920.308 659.342 L905.585 677.172 L905.436 677.345 L890.308 695.348 L880.949 707.584 L876.278 713.351 L862.579 731.354 L856.313 740.248 L849.448 749.357 L836.933 767.359 \n",
       "  L831.677 775.51 L824.812 785.362 L813.307 803.365 L807.04 814.062 L802.37 821.368 L791.763 839.371 L782.404 857.117 L782.255 857.374 L772.491 875.377 L763.821 893.38 \n",
       "  L757.768 907.356 L755.83 911.382 L748.028 929.385 L741.196 947.388 L735.233 965.391 L733.132 972.776 L729.757 983.394 L725.052 1001.4 L721.361 1019.4 L718.725 1037.4 \n",
       "  L717.241 1055.41 L717.081 1073.41 L718.509 1091.41 L721.92 1109.41 L727.887 1127.42 L733.132 1138.03 L737.555 1145.42 L753.142 1163.42 L757.768 1167.45 L781.857 1181.43 \n",
       "  L782.404 1181.68  Z\n",
       "  \" fill=\"#5d126d\" fill-rule=\"evenodd\" fill-opacity=\"1\"/>\n",
       "<path clip-path=\"url(#clip2102)\" d=\"\n",
       "M831.677 1152.86 L856.313 1155.62 L880.949 1154.78 L905.585 1151.16 L929.104 1145.42 L930.221 1145.17 L954.857 1137.47 L979.493 1127.84 L980.394 1127.42 L1004.13 1116.95 \n",
       "  L1018.75 1109.41 L1028.77 1104.48 L1051.95 1091.41 L1053.4 1090.62 L1078.04 1075.66 L1081.43 1073.41 L1102.67 1059.49 L1108.44 1055.41 L1127.31 1042.1 L1133.55 1037.4 \n",
       "  L1151.95 1023.49 L1157.08 1019.4 L1176.58 1003.65 L1179.27 1001.4 L1200.3 983.394 L1201.22 982.601 L1220.52 965.391 L1225.85 960.46 L1239.81 947.388 L1250.49 936.92 \n",
       "  L1258.17 929.385 L1275.13 911.802 L1275.54 911.382 L1292.66 893.38 L1299.76 885.433 L1308.94 875.377 L1324.19 857.374 L1324.4 857.124 L1339.47 839.371 L1349.04 827.103 \n",
       "  L1353.71 821.368 L1367.5 803.365 L1373.67 794.724 L1380.72 785.362 L1393.25 767.359 L1398.31 759.56 L1405.36 749.357 L1416.78 731.354 L1422.94 720.787 L1427.61 713.351 \n",
       "  L1438.01 695.348 L1447.37 677.345 L1447.58 676.917 L1456.75 659.342 L1465.12 641.339 L1472.22 624.236 L1472.63 623.336 L1479.89 605.333 L1486.17 587.331 L1491.51 569.328 \n",
       "  L1495.94 551.325 L1496.85 546.437 L1499.54 533.322 L1501.99 515.319 L1503.09 497.316 L1502.62 479.313 L1500.24 461.31 L1496.85 448.195 L1495.4 443.308 L1486.84 425.305 \n",
       "  L1473.12 407.302 L1472.22 406.402 L1447.58 389.727 L1446.46 389.299 L1422.94 381.863 L1398.31 379.096 L1373.67 379.937 L1349.04 383.564 L1325.52 389.299 L1324.4 389.549 \n",
       "  L1299.76 397.246 L1275.13 406.882 L1274.23 407.302 L1250.49 417.77 L1235.87 425.305 L1225.85 430.235 L1202.67 443.308 L1201.22 444.1 L1176.58 459.055 L1173.19 461.31 \n",
       "  L1151.95 475.225 L1146.18 479.313 L1127.31 492.623 L1121.07 497.316 L1102.67 511.231 L1097.54 515.319 L1078.04 531.067 L1075.35 533.322 L1054.32 551.325 L1053.4 552.118 \n",
       "  L1034.1 569.328 L1028.77 574.258 L1014.81 587.331 L1004.13 597.799 L996.452 605.333 L979.493 622.917 L979.084 623.336 L961.957 641.339 L954.857 649.286 L945.683 659.342 \n",
       "  L930.427 677.345 L930.221 677.595 L915.151 695.348 L905.585 707.616 L900.915 713.351 L887.116 731.354 L880.949 739.995 L873.901 749.357 L861.369 767.359 L856.313 775.159 \n",
       "  L849.265 785.362 L837.844 803.365 L831.677 813.932 L827.007 821.368 L816.606 839.371 L807.246 857.374 L807.04 857.802 L797.866 875.377 L789.504 893.38 L782.404 910.483 \n",
       "  L781.995 911.382 L774.726 929.385 L768.451 947.388 L763.107 965.391 L758.682 983.394 L757.768 988.282 L755.078 1001.4 L752.63 1019.4 L751.531 1037.4 L752.001 1055.41 \n",
       "  L754.376 1073.41 L757.768 1086.52 L759.224 1091.41 L767.779 1109.41 L781.504 1127.42 L782.404 1128.32 L807.04 1144.99 L808.158 1145.42 L831.677 1152.86  Z\n",
       "  \" fill=\"#781c6d\" fill-rule=\"evenodd\" fill-opacity=\"1\"/>\n",
       "<path clip-path=\"url(#clip2102)\" d=\"\n",
       "M831.677 1113.33 L856.313 1121.41 L880.949 1123.92 L905.585 1122.6 L930.221 1118.41 L954.857 1111.82 L961.501 1109.41 L979.493 1103.31 L1004.13 1092.95 L1007.21 1091.41 \n",
       "  L1028.77 1081.15 L1042.82 1073.41 L1053.4 1067.78 L1073.94 1055.41 L1078.04 1052.99 L1101.87 1037.4 L1102.67 1036.88 L1127.31 1019.51 L1127.46 1019.4 L1151.26 1001.4 \n",
       "  L1151.95 1000.88 L1173.64 983.394 L1176.58 980.983 L1194.81 965.391 L1201.22 959.766 L1214.9 947.388 L1225.85 937.126 L1233.98 929.385 L1250.49 912.918 L1252.02 911.382 \n",
       "  L1269.49 893.38 L1275.13 887.273 L1286.18 875.377 L1299.76 859.78 L1301.9 857.374 L1317.22 839.371 L1324.4 830.367 L1331.78 821.368 L1345.55 803.365 L1349.04 798.552 \n",
       "  L1358.96 785.362 L1371.39 767.359 L1373.67 763.863 L1383.6 749.357 L1394.82 731.354 L1398.31 725.347 L1405.69 713.351 L1415.77 695.348 L1422.94 681.258 L1425.08 677.345 \n",
       "  L1434 659.342 L1441.94 641.339 L1447.58 626.96 L1449.11 623.336 L1455.7 605.333 L1461.26 587.331 L1465.8 569.328 L1469.27 551.325 L1471.53 533.322 L1472.22 518.311 \n",
       "  L1472.36 515.319 L1472.22 512.327 L1471.41 497.316 L1468.12 479.313 L1461.64 461.31 L1450.66 443.308 L1447.58 439.684 L1429.59 425.305 L1422.94 421.392 L1398.31 413.308 \n",
       "  L1373.67 410.798 L1349.04 412.115 L1324.4 416.306 L1299.76 422.898 L1293.12 425.305 L1275.13 431.411 L1250.49 441.772 L1247.41 443.308 L1225.85 453.57 L1211.8 461.31 \n",
       "  L1201.22 466.935 L1180.68 479.313 L1176.58 481.724 L1152.75 497.316 L1151.95 497.837 L1127.31 515.208 L1127.16 515.319 L1103.36 533.322 L1102.67 533.843 L1080.98 551.325 \n",
       "  L1078.04 553.736 L1059.81 569.328 L1053.4 574.953 L1039.72 587.331 L1028.77 597.593 L1020.64 605.333 L1004.13 621.801 L1002.6 623.336 L985.135 641.339 L979.493 647.445 \n",
       "  L968.438 659.342 L954.857 674.939 L952.723 677.345 L937.398 695.348 L930.221 704.352 L922.841 713.351 L909.07 731.354 L905.585 736.167 L895.66 749.357 L883.228 767.359 \n",
       "  L880.949 770.856 L871.024 785.362 L859.798 803.365 L856.313 809.372 L848.933 821.368 L838.853 839.371 L831.677 853.461 L829.542 857.374 L820.622 875.377 L812.682 893.38 \n",
       "  L807.04 907.759 L805.507 911.382 L798.92 929.385 L793.358 947.388 L788.816 965.391 L785.351 983.394 L783.089 1001.4 L782.404 1016.41 L782.258 1019.4 L782.404 1022.39 \n",
       "  L783.212 1037.4 L786.505 1055.41 L792.983 1073.41 L803.957 1091.41 L807.04 1095.03 L825.033 1109.41 L831.677 1113.33  Z\n",
       "  \" fill=\"#942666\" fill-rule=\"evenodd\" fill-opacity=\"1\"/>\n",
       "<path clip-path=\"url(#clip2102)\" d=\"\n",
       "M880.949 1092.88 L905.585 1094.7 L930.221 1092.61 L935.77 1091.41 L954.857 1087.57 L979.493 1080.17 L996.763 1073.41 L1004.13 1070.68 L1028.77 1059.44 L1036.3 1055.41 \n",
       "  L1053.4 1046.57 L1068.89 1037.4 L1078.04 1032.12 L1097.67 1019.4 L1102.67 1016.21 L1123.74 1001.4 L1127.31 998.897 L1147.76 983.394 L1151.95 980.204 L1170.18 965.391 \n",
       "  L1176.58 960.109 L1191.27 947.388 L1201.22 938.55 L1211.19 929.385 L1225.85 915.416 L1230 911.382 L1247.87 893.38 L1250.49 890.648 L1265.01 875.377 L1275.13 864.139 \n",
       "  L1281.23 857.374 L1296.63 839.371 L1299.76 835.534 L1311.49 821.368 L1324.4 804.567 L1325.35 803.365 L1338.86 785.362 L1349.04 770.645 L1351.39 767.359 L1363.49 749.357 \n",
       "  L1373.67 732.824 L1374.62 731.354 L1385.4 713.351 L1395.17 695.348 L1398.31 689.023 L1404.41 677.345 L1412.83 659.342 L1420.32 641.339 L1422.94 634.107 L1427.09 623.336 \n",
       "  L1432.91 605.333 L1437.63 587.331 L1441.18 569.328 L1443.39 551.325 L1444.01 533.322 L1442.58 515.319 L1438.43 497.316 L1430.48 479.313 L1422.94 468.543 L1415.58 461.31 \n",
       "  L1398.31 449.633 L1379.22 443.308 L1373.67 441.837 L1349.04 440.022 L1324.4 442.105 L1318.85 443.308 L1299.76 447.144 L1275.13 454.545 L1257.86 461.31 L1250.49 464.042 \n",
       "  L1225.85 475.28 L1218.32 479.313 L1201.22 488.152 L1185.73 497.316 L1176.58 502.598 L1156.95 515.319 L1151.95 518.509 L1130.88 533.322 L1127.31 535.822 L1106.86 551.325 \n",
       "  L1102.67 554.515 L1084.44 569.328 L1078.04 574.61 L1063.35 587.331 L1053.4 596.169 L1043.44 605.333 L1028.77 619.303 L1024.62 623.336 L1006.75 641.339 L1004.13 644.071 \n",
       "  L989.608 659.342 L979.493 670.58 L973.388 677.345 L957.994 695.348 L954.857 699.185 L943.127 713.351 L930.221 730.151 L929.273 731.354 L915.762 749.357 L905.585 764.074 \n",
       "  L903.23 767.359 L891.126 785.362 L880.949 801.895 L880.001 803.365 L869.219 821.368 L859.45 839.371 L856.313 845.696 L850.208 857.374 L841.791 875.377 L834.302 893.38 \n",
       "  L831.677 900.612 L827.528 911.382 L821.71 929.385 L816.992 947.388 L813.445 965.391 L811.228 983.394 L810.613 1001.4 L812.04 1019.4 L816.191 1037.4 L824.141 1055.41 \n",
       "  L831.677 1066.18 L839.043 1073.41 L856.313 1085.09 L875.4 1091.41 L880.949 1092.88  Z\n",
       "  \" fill=\"#ad305b\" fill-rule=\"evenodd\" fill-opacity=\"1\"/>\n",
       "<path clip-path=\"url(#clip2102)\" d=\"\n",
       "M880.949 1059.14 L905.585 1065.93 L930.221 1066.84 L954.857 1063.79 L979.493 1057.76 L986.091 1055.41 L1004.13 1049.3 L1028.77 1038.75 L1031.37 1037.4 L1053.4 1026.4 \n",
       "  L1065.49 1019.4 L1078.04 1012.31 L1095.09 1001.4 L1102.67 996.616 L1121.54 983.394 L1127.31 979.374 L1145.69 965.391 L1151.95 960.61 L1168.07 947.388 L1176.58 940.303 \n",
       "  L1189.01 929.385 L1201.22 918.381 L1208.69 911.382 L1225.85 894.724 L1227.21 893.38 L1244.78 875.377 L1250.49 869.272 L1261.47 857.374 L1275.13 841.73 L1277.19 839.371 \n",
       "  L1292.21 821.368 L1299.76 811.754 L1306.42 803.365 L1319.8 785.362 L1324.4 778.795 L1332.56 767.359 L1344.44 749.357 L1349.04 741.875 L1355.69 731.354 L1366.12 713.351 \n",
       "  L1373.67 699.084 L1375.73 695.348 L1384.65 677.345 L1392.59 659.342 L1398.31 644.659 L1399.66 641.339 L1405.78 623.336 L1410.73 605.333 L1414.43 587.331 L1416.69 569.328 \n",
       "  L1417.18 551.325 L1415.36 533.322 L1410.4 515.319 L1400.91 497.316 L1398.31 493.996 L1380.27 479.313 L1373.67 475.577 L1349.04 468.792 L1324.4 467.878 L1299.76 470.924 \n",
       "  L1275.13 476.954 L1268.53 479.313 L1250.49 485.418 L1225.85 495.971 L1223.25 497.316 L1201.22 508.321 L1189.13 515.319 L1176.58 522.405 L1159.53 533.322 L1151.95 538.103 \n",
       "  L1133.08 551.325 L1127.31 555.345 L1108.93 569.328 L1102.67 574.109 L1086.55 587.331 L1078.04 594.416 L1065.61 605.333 L1053.4 616.338 L1045.93 623.336 L1028.77 639.995 \n",
       "  L1027.41 641.339 L1009.84 659.342 L1004.13 665.447 L993.153 677.345 L979.493 692.989 L977.435 695.348 L962.414 713.351 L954.857 722.965 L948.202 731.354 L934.817 749.357 \n",
       "  L930.221 755.924 L922.065 767.359 L910.18 785.362 L905.585 792.844 L898.93 803.365 L888.505 821.368 L880.949 835.635 L878.891 839.371 L869.972 857.374 L862.027 875.377 \n",
       "  L856.313 890.06 L854.961 893.38 L848.844 911.382 L843.89 929.385 L840.189 947.388 L837.931 965.391 L837.443 983.394 L839.258 1001.4 L844.225 1019.4 L853.713 1037.4 \n",
       "  L856.313 1040.72 L874.351 1055.41 L880.949 1059.14  Z\n",
       "  \" fill=\"#c73e4c\" fill-rule=\"evenodd\" fill-opacity=\"1\"/>\n",
       "<path clip-path=\"url(#clip2102)\" d=\"\n",
       "M930.221 1039.97 L954.857 1039.68 L967.685 1037.4 L979.493 1035.44 L1004.13 1028.21 L1026.53 1019.4 L1028.77 1018.56 L1053.4 1006.8 L1062.99 1001.4 L1078.04 993.122 \n",
       "  L1093.45 983.394 L1102.67 977.663 L1120.26 965.391 L1127.31 960.5 L1144.48 947.388 L1151.95 941.657 L1166.75 929.385 L1176.58 921.11 L1187.47 911.382 L1201.22 898.781 \n",
       "  L1206.86 893.38 L1225.03 875.377 L1225.85 874.537 L1242.15 857.374 L1250.49 848.181 L1258.34 839.371 L1273.54 821.368 L1275.13 819.403 L1287.97 803.365 L1299.76 787.64 \n",
       "  L1301.48 785.362 L1314.23 767.359 L1324.4 751.925 L1326.12 749.357 L1337.24 731.354 L1347.45 713.351 L1349.04 710.268 L1356.88 695.348 L1365.33 677.345 L1372.85 659.342 \n",
       "  L1373.67 656.994 L1379.31 641.339 L1384.56 623.336 L1388.47 605.333 L1390.84 587.331 L1391.26 569.328 L1389.09 551.325 L1383.26 533.322 L1373.67 517.668 L1371.44 515.319 \n",
       "  L1349.04 500.399 L1337.23 497.316 L1324.4 494.747 L1299.76 495.038 L1286.94 497.316 L1275.13 499.281 L1250.49 506.509 L1228.09 515.319 L1225.85 516.158 L1201.22 527.92 \n",
       "  L1191.64 533.322 L1176.58 541.597 L1161.17 551.325 L1151.95 557.056 L1134.36 569.328 L1127.31 574.219 L1110.14 587.331 L1102.67 593.061 L1087.87 605.333 L1078.04 613.609 \n",
       "  L1067.15 623.336 L1053.4 635.937 L1047.76 641.339 L1029.59 659.342 L1028.77 660.182 L1012.47 677.345 L1004.13 686.538 L996.285 695.348 L981.081 713.351 L979.493 715.316 \n",
       "  L966.654 731.354 L954.857 747.079 L953.139 749.357 L940.386 767.359 L930.221 782.793 L928.503 785.362 L917.382 803.365 L907.172 821.368 L905.585 824.451 L897.741 839.371 \n",
       "  L889.292 857.374 L881.773 875.377 L880.949 877.725 L875.309 893.38 L870.064 911.382 L866.146 929.385 L863.78 947.388 L863.359 965.391 L865.532 983.394 L871.365 1001.4 \n",
       "  L880.949 1017.05 L883.182 1019.4 L905.585 1034.32 L917.393 1037.4 L930.221 1039.97  Z\n",
       "  \" fill=\"#db503a\" fill-rule=\"evenodd\" fill-opacity=\"1\"/>\n",
       "<path clip-path=\"url(#clip2102)\" d=\"\n",
       "M930.221 1009.7 L954.857 1013.99 L979.493 1012.36 L1004.13 1006.85 L1019.64 1001.4 L1028.77 998.331 L1053.4 987.328 L1060.62 983.394 L1078.04 974.133 L1092.14 965.391 \n",
       "  L1102.67 958.957 L1119.34 947.388 L1127.31 941.887 L1143.6 929.385 L1151.95 922.952 L1165.72 911.382 L1176.58 902.121 L1186.17 893.38 L1201.22 879.311 L1205.22 875.377 \n",
       "  L1222.94 857.374 L1225.85 854.308 L1239.52 839.371 L1250.49 826.824 L1255.15 821.368 L1269.72 803.365 L1275.13 796.326 L1283.43 785.362 L1296.18 767.359 L1299.76 761.945 \n",
       "  L1308.06 749.357 L1319 731.354 L1324.4 721.658 L1329.06 713.351 L1338.06 695.348 L1346.12 677.345 L1349.04 669.708 L1353.04 659.342 L1358.62 641.339 L1362.81 623.336 \n",
       "  L1365.33 605.333 L1365.71 587.331 L1363.14 569.328 L1356.25 551.325 L1349.04 540.959 L1339.91 533.322 L1324.4 525.015 L1299.76 520.733 L1275.13 522.358 L1250.49 527.866 \n",
       "  L1234.98 533.322 L1225.85 536.388 L1201.22 547.391 L1194 551.325 L1176.58 560.586 L1162.48 569.328 L1151.95 575.762 L1135.28 587.331 L1127.31 592.831 L1111.02 605.333 \n",
       "  L1102.67 611.767 L1088.9 623.336 L1078.04 632.598 L1068.45 641.339 L1053.4 655.408 L1049.4 659.342 L1031.69 677.345 L1028.77 680.411 L1015.1 695.348 L1004.13 707.895 \n",
       "  L999.473 713.351 L984.897 731.354 L979.493 738.392 L971.195 749.357 L958.441 767.359 L954.857 772.774 L946.559 785.362 L935.625 803.365 L930.221 813.061 L925.564 821.368 \n",
       "  L916.558 839.371 L908.505 857.374 L905.585 865.01 L901.583 875.377 L895.998 893.38 L891.811 911.382 L889.292 929.385 L888.915 947.388 L891.484 965.391 L898.368 983.394 \n",
       "  L905.585 993.76 L914.706 1001.4 L930.221 1009.7  Z\n",
       "  \" fill=\"#ec6925\" fill-rule=\"evenodd\" fill-opacity=\"1\"/>\n",
       "<path clip-path=\"url(#clip2102)\" d=\"\n",
       "M954.857 984.969 L979.493 987.567 L1004.13 984.561 L1008.03 983.394 L1028.77 977.47 L1053.4 967.522 L1057.48 965.391 L1078.04 954.922 L1090.46 947.388 L1102.67 940.096 \n",
       "  L1118.21 929.385 L1127.31 923.141 L1142.55 911.382 L1151.95 904.09 L1164.5 893.38 L1176.58 882.91 L1184.65 875.377 L1201.22 859.505 L1203.32 857.374 L1220.42 839.371 \n",
       "  L1225.85 833.447 L1236.42 821.368 L1250.49 804.532 L1251.44 803.365 L1265.16 785.362 L1275.13 771.532 L1278.07 767.359 L1289.79 749.357 L1299.76 732.929 L1300.71 731.354 \n",
       "  L1310.33 713.351 L1318.97 695.348 L1324.4 682.394 L1326.5 677.345 L1332.46 659.342 L1336.95 641.339 L1339.63 623.336 L1339.93 605.333 L1336.83 587.331 L1328.48 569.328 \n",
       "  L1324.4 564.278 L1303.67 551.325 L1299.76 549.75 L1275.13 547.152 L1250.49 550.158 L1246.59 551.325 L1225.85 557.249 L1201.22 567.196 L1197.14 569.328 L1176.58 579.797 \n",
       "  L1164.16 587.331 L1151.95 594.623 L1136.41 605.333 L1127.31 611.578 L1112.08 623.336 L1102.67 630.629 L1090.12 641.339 L1078.04 651.809 L1069.97 659.342 L1053.4 675.214 \n",
       "  L1051.3 677.345 L1034.2 695.348 L1028.77 701.272 L1018.2 713.351 L1004.13 730.187 L1003.18 731.354 L989.463 749.357 L979.493 763.187 L976.546 767.359 L964.827 785.362 \n",
       "  L954.857 801.79 L953.911 803.365 L944.295 821.368 L935.651 839.371 L930.221 852.325 L928.119 857.374 L922.156 875.377 L917.671 893.38 L914.986 911.382 L914.687 929.385 \n",
       "  L917.795 947.388 L926.14 965.391 L930.221 970.44 L950.954 983.394 L954.857 984.969  Z\n",
       "  \" fill=\"#f7850e\" fill-rule=\"evenodd\" fill-opacity=\"1\"/>\n",
       "<path clip-path=\"url(#clip2102)\" d=\"\n",
       "M979.493 958.559 L1004.13 959.829 L1028.77 955.199 L1051.52 947.388 L1053.4 946.766 L1078.04 934.973 L1087.53 929.385 L1102.67 920.596 L1116.15 911.382 L1127.31 903.79 \n",
       "  L1140.7 893.38 L1151.95 884.591 L1162.53 875.377 L1176.58 862.962 L1182.39 857.374 L1200.61 839.371 L1201.22 838.749 L1216.95 821.368 L1225.85 811.175 L1232.31 803.365 \n",
       "  L1246.4 785.362 L1250.49 779.8 L1259.24 767.359 L1271.04 749.357 L1275.13 742.524 L1281.58 731.354 L1290.86 713.351 L1299.16 695.348 L1299.76 693.698 L1305.57 677.345 \n",
       "  L1310.35 659.342 L1313.15 641.339 L1313.24 623.336 L1309.25 605.333 L1299.76 588.981 L1297.89 587.331 L1275.13 576.16 L1250.49 574.89 L1225.85 579.52 L1203.1 587.331 \n",
       "  L1201.22 587.953 L1176.58 599.746 L1167.1 605.333 L1151.95 614.122 L1138.47 623.336 L1127.31 630.929 L1113.92 641.339 L1102.67 650.128 L1092.09 659.342 L1078.04 671.757 \n",
       "  L1072.23 677.345 L1054.01 695.348 L1053.4 695.97 L1037.67 713.351 L1028.77 723.543 L1022.31 731.354 L1008.22 749.357 L1004.13 754.919 L995.383 767.359 L983.585 785.362 \n",
       "  L979.493 792.195 L973.036 803.365 L963.764 821.368 L955.464 839.371 L954.857 841.021 L949.051 857.374 L944.272 875.377 L941.468 893.38 L941.381 911.382 L945.37 929.385 \n",
       "  L954.857 945.738 L956.734 947.388 L979.493 958.559  Z\n",
       "  \" fill=\"#fba40a\" fill-rule=\"evenodd\" fill-opacity=\"1\"/>\n",
       "<path clip-path=\"url(#clip2102)\" d=\"\n",
       "M1004.13 930.464 L1028.77 930.272 L1032.05 929.385 L1053.4 923.809 L1078.04 913.56 L1081.88 911.382 L1102.67 899.783 L1112.14 893.38 L1127.31 883.175 L1137.24 875.377 \n",
       "  L1151.95 863.777 L1159.12 857.374 L1176.58 841.548 L1178.76 839.371 L1196.04 821.368 L1201.22 815.792 L1211.79 803.365 L1225.85 786.249 L1226.54 785.362 L1239.17 767.359 \n",
       "  L1250.49 750.435 L1251.17 749.357 L1261.06 731.354 L1269.95 713.351 L1275.13 700.897 L1277.31 695.348 L1282.3 677.345 L1285.06 659.342 L1284.6 641.339 L1278.97 623.336 \n",
       "  L1275.13 617.787 L1253.77 605.333 L1250.49 604.255 L1225.85 604.447 L1222.58 605.333 L1201.22 610.909 L1176.58 621.159 L1172.74 623.336 L1151.95 634.936 L1142.48 641.339 \n",
       "  L1127.31 651.544 L1117.38 659.342 L1102.67 670.941 L1095.5 677.345 L1078.04 693.171 L1075.86 695.348 L1058.58 713.351 L1053.4 718.927 L1042.83 731.354 L1028.77 748.47 \n",
       "  L1028.08 749.357 L1015.45 767.359 L1004.13 784.284 L1003.45 785.362 L993.556 803.365 L984.673 821.368 L979.493 833.822 L977.315 839.371 L972.32 857.374 L969.559 875.377 \n",
       "  L970.024 893.38 L975.649 911.382 L979.493 916.932 L1000.85 929.385 L1004.13 930.464  Z\n",
       "  \" fill=\"#f9c52d\" fill-rule=\"evenodd\" fill-opacity=\"1\"/>\n",
       "<path clip-path=\"url(#clip2102)\" d=\"\n",
       "M1028.77 897.826 L1053.4 896.855 L1063.97 893.38 L1078.04 888.868 L1102.67 876.563 L1104.45 875.377 L1127.31 860.232 L1130.9 857.374 L1151.95 840.557 L1153.23 839.371 \n",
       "  L1171.99 821.368 L1176.58 816.857 L1188.6 803.365 L1201.22 788.838 L1203.94 785.362 L1216.74 767.359 L1225.85 753.803 L1228.58 749.357 L1237.87 731.354 L1245.9 713.351 \n",
       "  L1250.49 699.611 L1251.78 695.348 L1254.08 677.345 L1252.27 659.342 L1250.49 655.079 L1236.42 641.339 L1225.85 636.893 L1201.22 637.864 L1190.65 641.339 L1176.58 645.851 \n",
       "  L1151.95 658.156 L1150.17 659.342 L1127.31 674.487 L1123.72 677.345 L1102.67 694.162 L1101.39 695.348 L1082.63 713.351 L1078.04 717.862 L1066.02 731.354 L1053.4 745.881 \n",
       "  L1050.68 749.357 L1037.88 767.359 L1028.77 780.916 L1026.04 785.362 L1016.75 803.365 L1008.72 821.368 L1004.13 835.108 L1002.84 839.371 L1000.54 857.374 L1002.35 875.377 \n",
       "  L1004.13 879.639 L1018.2 893.38 L1028.77 897.826  Z\n",
       "  \" fill=\"#f2e55f\" fill-rule=\"evenodd\" fill-opacity=\"1\"/>\n",
       "<path clip-path=\"url(#clip2102)\" d=\"\n",
       "M1053.4 856.824 L1078.04 857.046 L1102.67 846.926 L1114.71 839.371 L1127.31 831.496 L1139.47 821.368 L1151.95 810.92 L1159.24 803.365 L1176.3 785.362 L1176.58 785.034 \n",
       "  L1188.83 767.359 L1200.94 749.357 L1201.22 748.807 L1208.51 731.354 L1213.38 713.351 L1213.25 695.348 L1201.22 677.895 L1176.58 677.673 L1151.95 687.793 L1139.91 695.348 \n",
       "  L1127.31 703.223 L1115.15 713.351 L1102.67 723.799 L1095.38 731.354 L1078.32 749.357 L1078.04 749.685 L1065.79 767.359 L1053.68 785.362 L1053.4 785.912 L1046.11 803.365 \n",
       "  L1041.24 821.368 L1041.37 839.371 L1053.4 856.824  Z\n",
       "  \" fill=\"#fcfea4\" fill-rule=\"evenodd\" fill-opacity=\"1\"/>\n",
       "<polyline clip-path=\"url(#clip2102)\" style=\"stroke:#000000; stroke-width:4; stroke-opacity:1; fill:none\" points=\"\n",
       "  141.865,1487.47 141.865,1487.47 166.501,1487.47 191.137,1487.47 215.773,1487.47 240.409,1487.47 265.045,1487.47 289.681,1487.47 314.318,1487.47 338.954,1487.47 \n",
       "  363.59,1487.47 388.226,1487.47 412.862,1487.47 437.498,1487.47 462.134,1487.47 486.771,1487.47 511.407,1487.47 536.043,1487.47 560.679,1487.47 585.315,1487.47 \n",
       "  609.951,1487.47 634.587,1487.47 659.224,1487.47 683.86,1487.47 708.496,1487.47 733.132,1487.47 757.768,1487.47 782.404,1487.47 807.04,1487.47 831.677,1487.47 \n",
       "  856.313,1487.47 880.949,1487.47 905.585,1487.47 930.221,1487.47 954.857,1487.47 979.493,1487.47 1004.13,1487.47 1028.77,1487.47 1053.4,1487.47 1078.04,1487.47 \n",
       "  1102.67,1487.47 1127.31,1487.47 1151.95,1487.47 1176.58,1487.47 1201.22,1487.47 1225.85,1487.47 1250.49,1487.47 1275.13,1487.47 1299.76,1487.47 1324.4,1487.47 \n",
       "  1349.04,1487.47 1373.67,1487.47 1398.31,1487.47 1422.94,1487.47 1447.58,1487.47 1472.22,1487.47 1496.85,1487.47 1521.49,1487.47 1546.12,1487.47 1570.76,1487.47 \n",
       "  1595.4,1487.47 1620.03,1487.47 1644.67,1487.47 1669.31,1487.47 1693.94,1487.47 1718.58,1487.47 1743.21,1487.47 1767.85,1487.47 1792.49,1487.47 1817.12,1487.47 \n",
       "  1841.76,1487.47 1866.39,1487.47 1891.03,1487.47 1915.67,1487.47 1940.3,1487.47 1964.94,1487.47 1989.58,1487.47 2014.21,1487.47 2038.85,1487.47 2063.48,1487.47 \n",
       "  2088.12,1487.47 2112.76,1487.47 2112.76,1469.47 2112.76,1451.47 2112.76,1433.47 2112.76,1415.46 2112.76,1397.46 \n",
       "  2112.76,1379.46 2112.76,1361.45 2112.76,1343.45 2112.76,1325.45 2112.76,1307.45 2112.76,1289.44 2112.76,1271.44 2112.76,1253.44 2112.76,1235.43 2112.76,1217.43 \n",
       "  2112.76,1199.43 2112.76,1181.43 2112.76,1163.42 2112.76,1145.42 2112.76,1127.42 2112.76,1109.41 2112.76,1091.41 2112.76,1073.41 2112.76,1055.41 2112.76,1037.4 \n",
       "  2112.76,1019.4 2112.76,1001.4 2112.76,983.394 2112.76,965.391 2112.76,947.388 2112.76,929.385 2112.76,911.382 2112.76,893.38 2112.76,875.377 2112.76,857.374 \n",
       "  2112.76,839.371 2112.76,821.368 2112.76,803.365 2112.76,785.362 2112.76,767.359 2112.76,749.357 2112.76,731.354 2112.76,713.351 2112.76,695.348 2112.76,677.345 \n",
       "  2112.76,659.342 2112.76,641.339 2112.76,623.336 2112.76,605.333 2112.76,587.331 2112.76,569.328 2112.76,551.325 2112.76,533.322 2112.76,515.319 2112.76,497.316 \n",
       "  2112.76,479.313 2112.76,461.31 2112.76,443.308 2112.76,425.305 2112.76,407.302 2112.76,389.299 2112.76,371.296 2112.76,353.293 2112.76,335.29 2112.76,317.287 \n",
       "  2112.76,299.284 2112.76,281.282 2112.76,263.279 2112.76,245.276 2112.76,227.273 2112.76,209.27 2112.76,191.267 2112.76,173.264 2112.76,155.261 2112.76,137.259 \n",
       "  2112.76,119.256 2112.76,101.253 2112.76,83.2499 2112.76,65.247 2112.76,47.2441 2088.12,47.2441 2063.48,47.2441 \n",
       "  2038.85,47.2441 2014.21,47.2441 1989.58,47.2441 1964.94,47.2441 1940.3,47.2441 1915.67,47.2441 1891.03,47.2441 1866.39,47.2441 1841.76,47.2441 1817.12,47.2441 \n",
       "  1792.49,47.2441 1767.85,47.2441 1743.21,47.2441 1718.58,47.2441 1693.94,47.2441 1669.31,47.2441 1644.67,47.2441 1620.03,47.2441 1595.4,47.2441 1570.76,47.2441 \n",
       "  1546.12,47.2441 1521.49,47.2441 1496.85,47.2441 1472.22,47.2441 1447.58,47.2441 1422.94,47.2441 1398.31,47.2441 1373.67,47.2441 1349.04,47.2441 1324.4,47.2441 \n",
       "  1299.76,47.2441 1275.13,47.2441 1250.49,47.2441 1225.85,47.2441 1201.22,47.2441 1176.58,47.2441 1151.95,47.2441 1127.31,47.2441 1102.67,47.2441 1078.04,47.2441 \n",
       "  1053.4,47.2441 1028.77,47.2441 1004.13,47.2441 979.493,47.2441 954.857,47.2441 930.221,47.2441 905.585,47.2441 880.949,47.2441 856.313,47.2441 831.677,47.2441 \n",
       "  807.04,47.2441 782.404,47.2441 757.768,47.2441 733.132,47.2441 708.496,47.2441 683.86,47.2441 659.224,47.2441 634.587,47.2441 609.951,47.2441 585.315,47.2441 \n",
       "  560.679,47.2441 536.043,47.2441 511.407,47.2441 486.771,47.2441 462.134,47.2441 437.498,47.2441 412.862,47.2441 388.226,47.2441 363.59,47.2441 338.954,47.2441 \n",
       "  314.318,47.2441 289.681,47.2441 265.045,47.2441 240.409,47.2441 215.773,47.2441 191.137,47.2441 166.501,47.2441 141.865,47.2441 \n",
       "  141.865,65.247 141.865,83.2499 141.865,101.253 141.865,119.256 141.865,137.259 141.865,155.261 141.865,173.264 141.865,191.267 141.865,209.27 \n",
       "  141.865,227.273 141.865,245.276 141.865,263.279 141.865,281.282 141.865,299.284 141.865,317.287 141.865,335.29 141.865,353.293 141.865,371.296 141.865,389.299 \n",
       "  141.865,407.302 141.865,425.305 141.865,443.308 141.865,461.31 141.865,479.313 141.865,497.316 141.865,515.319 141.865,533.322 141.865,551.325 141.865,569.328 \n",
       "  141.865,587.331 141.865,605.333 141.865,623.336 141.865,641.339 141.865,659.342 141.865,677.345 141.865,695.348 141.865,713.351 141.865,731.354 141.865,749.357 \n",
       "  141.865,767.359 141.865,785.362 141.865,803.365 141.865,821.368 141.865,839.371 141.865,857.374 141.865,875.377 141.865,893.38 141.865,911.382 141.865,929.385 \n",
       "  141.865,947.388 141.865,965.391 141.865,983.394 141.865,1001.4 141.865,1019.4 141.865,1037.4 141.865,1055.41 141.865,1073.41 141.865,1091.41 141.865,1109.41 \n",
       "  141.865,1127.42 141.865,1145.42 141.865,1163.42 141.865,1181.43 141.865,1199.43 141.865,1217.43 141.865,1235.43 141.865,1253.44 141.865,1271.44 141.865,1289.44 \n",
       "  141.865,1307.45 141.865,1325.45 141.865,1343.45 141.865,1361.45 141.865,1379.46 141.865,1397.46 141.865,1415.46 141.865,1433.47 141.865,1451.47 141.865,1469.47 \n",
       "  141.865,1487.47 \n",
       "  \"/>\n",
       "<polyline clip-path=\"url(#clip2102)\" style=\"stroke:#000000; stroke-width:4; stroke-opacity:1; fill:none\" points=\"\n",
       "  683.86,1364.87 708.496,1366.96 733.132,1366.67 757.768,1364.36 774.865,1361.45 782.404,1360.35 807.04,1355.18 831.677,1348.43 846.34,1343.45 856.313,1340.44 \n",
       "  880.949,1331.53 895.187,1325.45 905.585,1321.41 930.221,1310.31 935.892,1307.45 954.857,1298.56 971.853,1289.44 979.493,1285.6 1004.13,1271.66 1004.5,1271.44 \n",
       "  1028.77,1257.43 1035.08,1253.44 1053.4,1242.25 1063.71,1235.43 1078.04,1226.2 1090.76,1217.43 1102.67,1209.35 1116.51,1199.43 1127.31,1191.72 1141.14,1181.43 \n",
       "  1151.95,1173.34 1164.8,1163.42 1176.58,1154.19 1187.56,1145.42 1201.22,1134.23 1209.47,1127.42 1225.85,1113.41 1230.54,1109.41 1250.49,1091.63 1250.74,1091.41 \n",
       "  1271.02,1073.41 1275.13,1069.57 1290.64,1055.41 1299.76,1046.52 1309.46,1037.4 1324.4,1022.26 1327.36,1019.4 1345.25,1001.4 1349.04,997.358 1362.9,983.394 \n",
       "  1373.67,971.473 1379.55,965.391 1395.72,947.388 1398.31,944.372 1412.19,929.385 1422.94,916.358 1427.43,911.382 1442.67,893.38 1447.58,887.1 1457.69,875.377 \n",
       "  1471.4,857.374 1472.22,856.267 1486.11,839.371 1496.85,824.269 1499.18,821.368 1512.93,803.365 1521.49,790.574 1525.46,785.362 1538.27,767.359 1546.12,754.857 \n",
       "  1550.1,749.357 1562.2,731.354 1570.76,716.763 1573.09,713.351 1584.65,695.348 1594.58,677.345 1595.4,675.789 1605.51,659.342 1615.13,641.339 1620.03,631.185 \n",
       "  1624.52,623.336 1633.91,605.333 1642.09,587.331 1644.67,581.132 1650.55,569.328 1658.54,551.325 1665.52,533.322 1669.31,522.403 1672.27,515.319 1679,497.316 \n",
       "  1684.82,479.313 1689.84,461.31 1693.94,444.177 1694.19,443.308 1698.63,425.305 1702.19,407.302 1704.92,389.299 1706.79,371.296 1707.77,353.293 1707.78,335.29 \n",
       "  1706.67,317.287 1704.25,299.284 1700.26,281.282 1694.31,263.279 1693.94,262.409 1686.3,245.276 1674.98,227.273 1669.31,220.189 1658.91,209.27 1644.67,197.466 \n",
       "  1634.7,191.267 1620.03,183.418 1595.4,174.82 1587.86,173.264 1570.76,169.852 1546.12,167.764 1521.49,168.053 1496.85,170.364 1479.76,173.264 1472.22,174.371 \n",
       "  1447.58,179.543 1422.94,186.291 1408.28,191.267 1398.31,194.283 1373.67,203.188 1359.43,209.27 1349.04,213.309 1324.4,224.408 1318.73,227.273 1299.76,236.162 \n",
       "  1282.77,245.276 1275.13,249.115 1250.49,263.056 1250.12,263.279 1225.85,277.287 1219.54,281.282 1201.22,292.47 1190.91,299.284 1176.58,308.519 1163.86,317.287 \n",
       "  1151.95,325.373 1138.11,335.29 1127.31,342.996 1113.48,353.293 1102.67,361.378 1089.82,371.296 1078.04,380.531 1067.06,389.299 1053.4,400.488 1045.15,407.302 \n",
       "  1028.77,421.31 1024.08,425.305 1004.13,443.085 1003.88,443.308 983.596,461.31 979.493,465.15 963.98,479.313 954.857,488.202 945.161,497.316 930.221,512.454 \n",
       "  927.258,515.319 909.374,533.322 905.585,537.361 891.716,551.325 880.949,563.246 875.069,569.328 858.897,587.331 856.313,590.347 842.432,605.333 831.677,618.361 \n",
       "  827.186,623.336 811.946,641.339 807.04,647.618 796.928,659.342 783.22,677.345 782.404,678.451 768.51,695.348 757.768,710.45 755.442,713.351 741.694,731.354 \n",
       "  733.132,744.145 729.16,749.357 716.346,767.359 708.496,779.862 704.523,785.362 692.422,803.365 683.86,817.956 681.534,821.368 669.966,839.371 660.039,857.374 \n",
       "  659.224,858.929 649.111,875.377 639.493,893.38 634.587,903.533 630.097,911.382 620.706,929.385 612.535,947.388 609.951,953.587 604.072,965.391 596.082,983.394 \n",
       "  589.104,1001.4 585.315,1012.32 582.352,1019.4 575.619,1037.4 569.802,1055.41 564.781,1073.41 560.679,1090.54 560.426,1091.41 555.991,1109.41 552.426,1127.42 \n",
       "  549.703,1145.42 547.829,1163.42 546.849,1181.43 546.845,1199.43 547.954,1217.43 550.369,1235.43 554.363,1253.44 560.311,1271.44 560.679,1272.31 568.319,1289.44 \n",
       "  579.644,1307.45 585.315,1314.53 595.713,1325.45 609.951,1337.25 619.923,1343.45 634.587,1351.3 659.224,1359.9 666.763,1361.45 683.86,1364.87 \n",
       "  \"/>\n",
       "<polyline clip-path=\"url(#clip2102)\" style=\"stroke:#000000; stroke-width:4; stroke-opacity:1; fill:none\" points=\"\n",
       "  708.496,1276.25 733.132,1283.14 757.768,1286.22 782.404,1286.46 807.04,1284.44 831.677,1280.48 856.313,1274.69 866.885,1271.44 880.949,1267.54 905.585,1259.09 \n",
       "  919.302,1253.44 930.221,1249.31 954.857,1238.38 960.72,1235.43 979.493,1226.59 996.488,1217.43 1004.13,1213.53 1028.68,1199.43 1028.77,1199.38 1053.4,1184.71 \n",
       "  1058.47,1181.43 1078.04,1169.03 1086.25,1163.42 1102.67,1152.39 1112.42,1145.42 1127.31,1134.83 1137.24,1127.42 1151.95,1116.38 1160.9,1109.41 1176.58,1097.02 \n",
       "  1183.5,1091.41 1201.22,1076.7 1205.13,1073.41 1225.8,1055.41 1225.85,1055.36 1246.26,1037.4 1250.49,1033.51 1265.95,1019.4 1275.13,1010.55 1284.82,1001.4 \n",
       "  1299.76,986.342 1302.78,983.394 1320.53,965.391 1324.4,961.262 1337.95,947.388 1349.04,935.033 1354.38,929.385 1370.38,911.382 1373.67,907.486 1386.36,893.38 \n",
       "  1398.31,878.63 1401.15,875.377 1416.13,857.374 1422.94,848.41 1430.42,839.371 1444.03,821.368 1447.58,816.363 1457.73,803.365 1470.24,785.362 1472.22,782.376 \n",
       "  1483.23,767.359 1494.88,749.357 1496.85,746.132 1507,731.354 1517.93,713.351 1521.49,707.048 1528.96,695.348 1539.31,677.345 1546.12,664.15 1548.96,659.342 \n",
       "  1558.81,641.339 1567.47,623.336 1570.76,615.859 1576.11,605.333 1584.31,587.331 1591.53,569.328 1595.4,558.553 1598.42,551.325 1605.09,533.322 1610.86,515.319 \n",
       "  1615.8,497.316 1619.98,479.313 1620.03,479.031 1623.94,461.31 1626.95,443.308 1628.98,425.305 1629.97,407.302 1629.78,389.299 1628.25,371.296 1625.1,353.293 \n",
       "  1620.03,335.573 1619.95,335.29 1612.39,317.287 1601.26,299.284 1595.4,292.056 1584.48,281.282 1570.76,270.756 1556.7,263.279 1546.12,258.471 1521.49,251.578 \n",
       "  1496.85,248.5 1472.22,248.263 1447.58,250.281 1422.94,254.24 1398.31,260.025 1387.74,263.279 1373.67,267.175 1349.04,275.634 1335.32,281.282 1324.4,285.411 \n",
       "  1299.76,296.336 1293.9,299.284 1275.13,308.13 1258.13,317.287 1250.49,321.185 1225.94,335.29 1225.85,335.337 1201.22,350.005 1196.16,353.293 1176.58,365.691 \n",
       "  1168.37,371.296 1151.95,382.331 1142.2,389.299 1127.31,399.884 1117.38,407.302 1102.67,418.337 1093.72,425.305 1078.04,437.702 1071.12,443.308 1053.4,458.022 \n",
       "  1049.49,461.31 1028.82,479.313 1028.77,479.36 1008.36,497.316 1004.13,501.214 988.669,515.319 979.493,524.164 969.796,533.322 954.857,548.377 951.837,551.325 \n",
       "  934.088,569.328 930.221,573.457 916.67,587.331 905.585,599.686 900.24,605.333 884.239,623.336 880.949,627.233 868.259,641.339 856.313,656.089 853.473,659.342 \n",
       "  838.487,677.345 831.677,686.309 824.203,695.348 810.594,713.351 807.04,718.356 796.895,731.354 784.378,749.357 782.404,752.343 771.386,767.359 759.742,785.362 \n",
       "  757.768,788.587 747.623,803.365 736.686,821.368 733.132,827.67 725.658,839.371 715.306,857.374 708.496,870.569 705.657,875.377 695.806,893.38 687.15,911.382 \n",
       "  683.86,918.86 678.515,929.385 670.308,947.388 663.091,965.391 659.224,976.166 656.203,983.394 649.526,1001.4 643.763,1019.4 638.821,1037.4 634.641,1055.41 \n",
       "  634.587,1055.69 630.678,1073.41 627.668,1091.41 625.638,1109.41 624.655,1127.42 624.838,1145.42 626.371,1163.42 629.524,1181.43 634.587,1199.15 634.672,1199.43 \n",
       "  642.229,1217.43 653.36,1235.43 659.224,1242.66 670.142,1253.44 683.86,1263.96 697.924,1271.44 708.496,1276.25 \n",
       "  \"/>\n",
       "<polyline clip-path=\"url(#clip2102)\" style=\"stroke:#000000; stroke-width:4; stroke-opacity:1; fill:none\" points=\"\n",
       "  757.768,1226.06 782.404,1231.54 807.04,1233.25 831.677,1232.15 856.313,1228.79 880.949,1223.42 901.169,1217.43 905.585,1216.24 930.221,1207.87 950.632,1199.43 \n",
       "  954.857,1197.81 979.493,1186.79 989.907,1181.43 1004.13,1174.5 1024.09,1163.42 1028.77,1160.94 1053.4,1146.37 1054.89,1145.42 1078.04,1130.98 1083.3,1127.42 \n",
       "  1102.67,1114.51 1109.82,1109.41 1127.31,1097.01 1134.79,1091.41 1151.95,1078.5 1158.44,1073.41 1176.58,1058.97 1180.93,1055.41 1201.22,1038.36 1202.33,1037.4 \n",
       "  1223.08,1019.4 1225.85,1016.92 1243.12,1001.4 1250.49,994.468 1262.33,983.394 1275.13,970.751 1280.65,965.391 1298.22,947.388 1299.76,945.767 1315.74,929.385 \n",
       "  1324.4,919.822 1332.34,911.382 1348.03,893.38 1349.04,892.189 1363.97,875.377 1373.67,863.367 1378.81,857.374 1393.31,839.371 1398.31,832.723 1407.47,821.368 \n",
       "  1420.66,803.365 1422.94,800.081 1434.05,785.362 1446.18,767.359 1447.58,765.175 1458.69,749.357 1469.93,731.354 1472.22,727.459 1481.38,713.351 1491.85,695.348 \n",
       "  1496.85,685.978 1502,677.345 1511.79,659.342 1520.48,641.339 1521.49,639.09 1529.43,623.336 1537.47,605.333 1544.59,587.331 1546.12,583.001 1551.64,569.328 \n",
       "  1557.97,551.325 1563.39,533.322 1567.98,515.319 1570.76,501.994 1571.88,497.316 1575.11,479.313 1577.26,461.31 1578.24,443.308 1577.91,425.305 1576.03,407.302 \n",
       "  1572.25,389.299 1570.76,384.621 1566.08,371.296 1556.54,353.293 1546.12,339.62 1541.9,335.29 1521.49,319.537 1517.07,317.287 1496.85,308.655 1472.22,303.179 \n",
       "  1447.58,301.468 1422.94,302.568 1398.31,305.933 1373.67,311.295 1353.45,317.287 1349.04,318.478 1324.4,326.851 1303.99,335.29 1299.76,336.911 1275.13,347.933 \n",
       "  1264.71,353.293 1250.49,360.222 1230.53,371.296 1225.85,373.778 1201.22,388.346 1199.73,389.299 1176.58,403.741 1171.32,407.302 1151.95,420.21 1144.8,425.305 \n",
       "  1127.31,437.707 1119.83,443.308 1102.67,456.216 1096.18,461.31 1078.04,475.753 1073.69,479.313 1053.4,496.364 1052.29,497.316 1031.55,515.319 1028.77,517.801 \n",
       "  1011.5,533.322 1004.13,540.251 992.289,551.325 979.493,563.968 973.975,569.328 956.396,587.331 954.857,588.952 938.876,605.333 930.221,614.897 922.279,623.336 \n",
       "  906.592,641.339 905.585,642.529 890.65,659.342 880.949,671.352 875.806,677.345 861.311,695.348 856.313,701.996 847.152,713.351 833.963,731.354 831.677,734.638 \n",
       "  820.566,749.357 808.441,767.359 807.04,769.543 795.93,785.362 784.691,803.365 782.404,807.26 773.243,821.368 762.766,839.371 757.768,848.741 752.625,857.374 \n",
       "  742.834,875.377 734.139,893.38 733.132,895.629 725.19,911.382 717.151,929.385 710.035,947.388 708.496,951.718 702.977,965.391 696.655,983.394 691.229,1001.4 \n",
       "  686.639,1019.4 683.86,1032.73 682.745,1037.4 679.515,1055.41 677.364,1073.41 676.379,1091.41 676.711,1109.41 678.595,1127.42 682.371,1145.42 683.86,1150.1 \n",
       "  688.538,1163.42 698.083,1181.43 708.496,1195.1 712.721,1199.43 733.132,1215.18 737.548,1217.43 757.768,1226.06 \n",
       "  \"/>\n",
       "<polyline clip-path=\"url(#clip2102)\" style=\"stroke:#000000; stroke-width:4; stroke-opacity:1; fill:none\" points=\"\n",
       "  782.404,1181.68 807.04,1188.73 831.677,1191.28 856.313,1190.53 880.949,1187.19 905.585,1181.6 906.132,1181.43 930.221,1174.45 954.857,1165.45 959.484,1163.42 \n",
       "  979.493,1155.21 999.707,1145.42 1004.13,1143.39 1028.77,1130.49 1034.01,1127.42 1053.4,1116.45 1064.61,1109.41 1078.04,1101.2 1092.66,1091.41 1102.67,1084.81 \n",
       "  1118.73,1073.41 1127.31,1067.34 1143.2,1055.41 1151.95,1048.8 1166.35,1037.4 1176.58,1029.19 1188.35,1019.4 1201.22,1008.43 1209.3,1001.4 1225.85,986.466 \n",
       "  1229.23,983.394 1248.39,965.391 1250.49,963.364 1267.06,947.388 1275.13,939.175 1284.87,929.385 1299.76,913.409 1301.7,911.382 1318.35,893.38 1324.4,886.404 \n",
       "  1334.31,875.377 1349.04,857.546 1349.18,857.374 1364.31,839.371 1373.67,827.135 1378.34,821.368 1392.04,803.365 1398.31,794.471 1405.17,785.362 1417.69,767.359 \n",
       "  1422.94,759.209 1429.81,749.357 1441.31,731.354 1447.58,720.657 1452.25,713.351 1462.86,695.348 1472.22,677.602 1472.37,677.345 1482.13,659.342 1490.8,641.339 \n",
       "  1496.85,627.363 1498.79,623.336 1506.59,605.333 1513.42,587.331 1519.39,569.328 1521.49,561.943 1524.86,551.325 1529.57,533.322 1533.26,515.319 1535.9,497.316 \n",
       "  1537.38,479.313 1537.54,461.31 1536.11,443.308 1532.7,425.305 1526.73,407.302 1521.49,396.684 1517.07,389.299 1501.48,371.296 1496.85,367.269 1472.76,353.293 \n",
       "  1472.22,353.036 1447.58,345.987 1422.94,343.44 1398.31,344.184 1373.67,347.526 1349.04,353.121 1348.49,353.293 1324.4,360.269 1299.76,369.27 1295.14,371.296 \n",
       "  1275.13,379.509 1254.91,389.299 1250.49,391.326 1225.85,404.23 1220.61,407.302 1201.22,418.268 1190.01,425.305 1176.58,433.522 1161.96,443.308 1151.95,449.909 \n",
       "  1135.9,461.31 1127.31,467.378 1111.42,479.313 1102.67,485.914 1088.27,497.316 1078.04,505.534 1066.27,515.319 1053.4,526.285 1045.32,533.322 1028.77,548.253 \n",
       "  1025.39,551.325 1006.23,569.328 1004.13,571.355 987.558,587.331 979.493,595.544 969.753,605.333 954.857,621.31 952.919,623.336 936.274,641.339 930.221,648.315 \n",
       "  920.308,659.342 905.585,677.172 905.436,677.345 890.308,695.348 880.949,707.584 876.278,713.351 862.579,731.354 856.313,740.248 849.448,749.357 836.933,767.359 \n",
       "  831.677,775.51 824.812,785.362 813.307,803.365 807.04,814.062 802.37,821.368 791.763,839.371 782.404,857.117 782.255,857.374 772.491,875.377 763.821,893.38 \n",
       "  757.768,907.356 755.83,911.382 748.028,929.385 741.196,947.388 735.233,965.391 733.132,972.776 729.757,983.394 725.052,1001.4 721.361,1019.4 718.725,1037.4 \n",
       "  717.241,1055.41 717.081,1073.41 718.509,1091.41 721.92,1109.41 727.887,1127.42 733.132,1138.03 737.555,1145.42 753.142,1163.42 757.768,1167.45 781.857,1181.43 \n",
       "  782.404,1181.68 \n",
       "  \"/>\n",
       "<polyline clip-path=\"url(#clip2102)\" style=\"stroke:#000000; stroke-width:4; stroke-opacity:1; fill:none\" points=\"\n",
       "  831.677,1152.86 856.313,1155.62 880.949,1154.78 905.585,1151.16 929.104,1145.42 930.221,1145.17 954.857,1137.47 979.493,1127.84 980.394,1127.42 1004.13,1116.95 \n",
       "  1018.75,1109.41 1028.77,1104.48 1051.95,1091.41 1053.4,1090.62 1078.04,1075.66 1081.43,1073.41 1102.67,1059.49 1108.44,1055.41 1127.31,1042.1 1133.55,1037.4 \n",
       "  1151.95,1023.49 1157.08,1019.4 1176.58,1003.65 1179.27,1001.4 1200.3,983.394 1201.22,982.601 1220.52,965.391 1225.85,960.46 1239.81,947.388 1250.49,936.92 \n",
       "  1258.17,929.385 1275.13,911.802 1275.54,911.382 1292.66,893.38 1299.76,885.433 1308.94,875.377 1324.19,857.374 1324.4,857.124 1339.47,839.371 1349.04,827.103 \n",
       "  1353.71,821.368 1367.5,803.365 1373.67,794.724 1380.72,785.362 1393.25,767.359 1398.31,759.56 1405.36,749.357 1416.78,731.354 1422.94,720.787 1427.61,713.351 \n",
       "  1438.01,695.348 1447.37,677.345 1447.58,676.917 1456.75,659.342 1465.12,641.339 1472.22,624.236 1472.63,623.336 1479.89,605.333 1486.17,587.331 1491.51,569.328 \n",
       "  1495.94,551.325 1496.85,546.437 1499.54,533.322 1501.99,515.319 1503.09,497.316 1502.62,479.313 1500.24,461.31 1496.85,448.195 1495.4,443.308 1486.84,425.305 \n",
       "  1473.12,407.302 1472.22,406.402 1447.58,389.727 1446.46,389.299 1422.94,381.863 1398.31,379.096 1373.67,379.937 1349.04,383.564 1325.52,389.299 1324.4,389.549 \n",
       "  1299.76,397.246 1275.13,406.882 1274.23,407.302 1250.49,417.77 1235.87,425.305 1225.85,430.235 1202.67,443.308 1201.22,444.1 1176.58,459.055 1173.19,461.31 \n",
       "  1151.95,475.225 1146.18,479.313 1127.31,492.623 1121.07,497.316 1102.67,511.231 1097.54,515.319 1078.04,531.067 1075.35,533.322 1054.32,551.325 1053.4,552.118 \n",
       "  1034.1,569.328 1028.77,574.258 1014.81,587.331 1004.13,597.799 996.452,605.333 979.493,622.917 979.084,623.336 961.957,641.339 954.857,649.286 945.683,659.342 \n",
       "  930.427,677.345 930.221,677.595 915.151,695.348 905.585,707.616 900.915,713.351 887.116,731.354 880.949,739.995 873.901,749.357 861.369,767.359 856.313,775.159 \n",
       "  849.265,785.362 837.844,803.365 831.677,813.932 827.007,821.368 816.606,839.371 807.246,857.374 807.04,857.802 797.866,875.377 789.504,893.38 782.404,910.483 \n",
       "  781.995,911.382 774.726,929.385 768.451,947.388 763.107,965.391 758.682,983.394 757.768,988.282 755.078,1001.4 752.63,1019.4 751.531,1037.4 752.001,1055.41 \n",
       "  754.376,1073.41 757.768,1086.52 759.224,1091.41 767.779,1109.41 781.504,1127.42 782.404,1128.32 807.04,1144.99 808.158,1145.42 831.677,1152.86 \n",
       "  \"/>\n",
       "<polyline clip-path=\"url(#clip2102)\" style=\"stroke:#000000; stroke-width:4; stroke-opacity:1; fill:none\" points=\"\n",
       "  831.677,1113.33 856.313,1121.41 880.949,1123.92 905.585,1122.6 930.221,1118.41 954.857,1111.82 961.501,1109.41 979.493,1103.31 1004.13,1092.95 1007.21,1091.41 \n",
       "  1028.77,1081.15 1042.82,1073.41 1053.4,1067.78 1073.94,1055.41 1078.04,1052.99 1101.87,1037.4 1102.67,1036.88 1127.31,1019.51 1127.46,1019.4 1151.26,1001.4 \n",
       "  1151.95,1000.88 1173.64,983.394 1176.58,980.983 1194.81,965.391 1201.22,959.766 1214.9,947.388 1225.85,937.126 1233.98,929.385 1250.49,912.918 1252.02,911.382 \n",
       "  1269.49,893.38 1275.13,887.273 1286.18,875.377 1299.76,859.78 1301.9,857.374 1317.22,839.371 1324.4,830.367 1331.78,821.368 1345.55,803.365 1349.04,798.552 \n",
       "  1358.96,785.362 1371.39,767.359 1373.67,763.863 1383.6,749.357 1394.82,731.354 1398.31,725.347 1405.69,713.351 1415.77,695.348 1422.94,681.258 1425.08,677.345 \n",
       "  1434,659.342 1441.94,641.339 1447.58,626.96 1449.11,623.336 1455.7,605.333 1461.26,587.331 1465.8,569.328 1469.27,551.325 1471.53,533.322 1472.22,518.311 \n",
       "  1472.36,515.319 1472.22,512.327 1471.41,497.316 1468.12,479.313 1461.64,461.31 1450.66,443.308 1447.58,439.684 1429.59,425.305 1422.94,421.392 1398.31,413.308 \n",
       "  1373.67,410.798 1349.04,412.115 1324.4,416.306 1299.76,422.898 1293.12,425.305 1275.13,431.411 1250.49,441.772 1247.41,443.308 1225.85,453.57 1211.8,461.31 \n",
       "  1201.22,466.935 1180.68,479.313 1176.58,481.724 1152.75,497.316 1151.95,497.837 1127.31,515.208 1127.16,515.319 1103.36,533.322 1102.67,533.843 1080.98,551.325 \n",
       "  1078.04,553.736 1059.81,569.328 1053.4,574.953 1039.72,587.331 1028.77,597.593 1020.64,605.333 1004.13,621.801 1002.6,623.336 985.135,641.339 979.493,647.445 \n",
       "  968.438,659.342 954.857,674.939 952.723,677.345 937.398,695.348 930.221,704.352 922.841,713.351 909.07,731.354 905.585,736.167 895.66,749.357 883.228,767.359 \n",
       "  880.949,770.856 871.024,785.362 859.798,803.365 856.313,809.372 848.933,821.368 838.853,839.371 831.677,853.461 829.542,857.374 820.622,875.377 812.682,893.38 \n",
       "  807.04,907.759 805.507,911.382 798.92,929.385 793.358,947.388 788.816,965.391 785.351,983.394 783.089,1001.4 782.404,1016.41 782.258,1019.4 782.404,1022.39 \n",
       "  783.212,1037.4 786.505,1055.41 792.983,1073.41 803.957,1091.41 807.04,1095.03 825.033,1109.41 831.677,1113.33 \n",
       "  \"/>\n",
       "<polyline clip-path=\"url(#clip2102)\" style=\"stroke:#000000; stroke-width:4; stroke-opacity:1; fill:none\" points=\"\n",
       "  880.949,1092.88 905.585,1094.7 930.221,1092.61 935.77,1091.41 954.857,1087.57 979.493,1080.17 996.763,1073.41 1004.13,1070.68 1028.77,1059.44 1036.3,1055.41 \n",
       "  1053.4,1046.57 1068.89,1037.4 1078.04,1032.12 1097.67,1019.4 1102.67,1016.21 1123.74,1001.4 1127.31,998.897 1147.76,983.394 1151.95,980.204 1170.18,965.391 \n",
       "  1176.58,960.109 1191.27,947.388 1201.22,938.55 1211.19,929.385 1225.85,915.416 1230,911.382 1247.87,893.38 1250.49,890.648 1265.01,875.377 1275.13,864.139 \n",
       "  1281.23,857.374 1296.63,839.371 1299.76,835.534 1311.49,821.368 1324.4,804.567 1325.35,803.365 1338.86,785.362 1349.04,770.645 1351.39,767.359 1363.49,749.357 \n",
       "  1373.67,732.824 1374.62,731.354 1385.4,713.351 1395.17,695.348 1398.31,689.023 1404.41,677.345 1412.83,659.342 1420.32,641.339 1422.94,634.107 1427.09,623.336 \n",
       "  1432.91,605.333 1437.63,587.331 1441.18,569.328 1443.39,551.325 1444.01,533.322 1442.58,515.319 1438.43,497.316 1430.48,479.313 1422.94,468.543 1415.58,461.31 \n",
       "  1398.31,449.633 1379.22,443.308 1373.67,441.837 1349.04,440.022 1324.4,442.105 1318.85,443.308 1299.76,447.144 1275.13,454.545 1257.86,461.31 1250.49,464.042 \n",
       "  1225.85,475.28 1218.32,479.313 1201.22,488.152 1185.73,497.316 1176.58,502.598 1156.95,515.319 1151.95,518.509 1130.88,533.322 1127.31,535.822 1106.86,551.325 \n",
       "  1102.67,554.515 1084.44,569.328 1078.04,574.61 1063.35,587.331 1053.4,596.169 1043.44,605.333 1028.77,619.303 1024.62,623.336 1006.75,641.339 1004.13,644.071 \n",
       "  989.608,659.342 979.493,670.58 973.388,677.345 957.994,695.348 954.857,699.185 943.127,713.351 930.221,730.151 929.273,731.354 915.762,749.357 905.585,764.074 \n",
       "  903.23,767.359 891.126,785.362 880.949,801.895 880.001,803.365 869.219,821.368 859.45,839.371 856.313,845.696 850.208,857.374 841.791,875.377 834.302,893.38 \n",
       "  831.677,900.612 827.528,911.382 821.71,929.385 816.992,947.388 813.445,965.391 811.228,983.394 810.613,1001.4 812.04,1019.4 816.191,1037.4 824.141,1055.41 \n",
       "  831.677,1066.18 839.043,1073.41 856.313,1085.09 875.4,1091.41 880.949,1092.88 \n",
       "  \"/>\n",
       "<polyline clip-path=\"url(#clip2102)\" style=\"stroke:#000000; stroke-width:4; stroke-opacity:1; fill:none\" points=\"\n",
       "  880.949,1059.14 905.585,1065.93 930.221,1066.84 954.857,1063.79 979.493,1057.76 986.091,1055.41 1004.13,1049.3 1028.77,1038.75 1031.37,1037.4 1053.4,1026.4 \n",
       "  1065.49,1019.4 1078.04,1012.31 1095.09,1001.4 1102.67,996.616 1121.54,983.394 1127.31,979.374 1145.69,965.391 1151.95,960.61 1168.07,947.388 1176.58,940.303 \n",
       "  1189.01,929.385 1201.22,918.381 1208.69,911.382 1225.85,894.724 1227.21,893.38 1244.78,875.377 1250.49,869.272 1261.47,857.374 1275.13,841.73 1277.19,839.371 \n",
       "  1292.21,821.368 1299.76,811.754 1306.42,803.365 1319.8,785.362 1324.4,778.795 1332.56,767.359 1344.44,749.357 1349.04,741.875 1355.69,731.354 1366.12,713.351 \n",
       "  1373.67,699.084 1375.73,695.348 1384.65,677.345 1392.59,659.342 1398.31,644.659 1399.66,641.339 1405.78,623.336 1410.73,605.333 1414.43,587.331 1416.69,569.328 \n",
       "  1417.18,551.325 1415.36,533.322 1410.4,515.319 1400.91,497.316 1398.31,493.996 1380.27,479.313 1373.67,475.577 1349.04,468.792 1324.4,467.878 1299.76,470.924 \n",
       "  1275.13,476.954 1268.53,479.313 1250.49,485.418 1225.85,495.971 1223.25,497.316 1201.22,508.321 1189.13,515.319 1176.58,522.405 1159.53,533.322 1151.95,538.103 \n",
       "  1133.08,551.325 1127.31,555.345 1108.93,569.328 1102.67,574.109 1086.55,587.331 1078.04,594.416 1065.61,605.333 1053.4,616.338 1045.93,623.336 1028.77,639.995 \n",
       "  1027.41,641.339 1009.84,659.342 1004.13,665.447 993.153,677.345 979.493,692.989 977.435,695.348 962.414,713.351 954.857,722.965 948.202,731.354 934.817,749.357 \n",
       "  930.221,755.924 922.065,767.359 910.18,785.362 905.585,792.844 898.93,803.365 888.505,821.368 880.949,835.635 878.891,839.371 869.972,857.374 862.027,875.377 \n",
       "  856.313,890.06 854.961,893.38 848.844,911.382 843.89,929.385 840.189,947.388 837.931,965.391 837.443,983.394 839.258,1001.4 844.225,1019.4 853.713,1037.4 \n",
       "  856.313,1040.72 874.351,1055.41 880.949,1059.14 \n",
       "  \"/>\n",
       "<polyline clip-path=\"url(#clip2102)\" style=\"stroke:#000000; stroke-width:4; stroke-opacity:1; fill:none\" points=\"\n",
       "  930.221,1039.97 954.857,1039.68 967.685,1037.4 979.493,1035.44 1004.13,1028.21 1026.53,1019.4 1028.77,1018.56 1053.4,1006.8 1062.99,1001.4 1078.04,993.122 \n",
       "  1093.45,983.394 1102.67,977.663 1120.26,965.391 1127.31,960.5 1144.48,947.388 1151.95,941.657 1166.75,929.385 1176.58,921.11 1187.47,911.382 1201.22,898.781 \n",
       "  1206.86,893.38 1225.03,875.377 1225.85,874.537 1242.15,857.374 1250.49,848.181 1258.34,839.371 1273.54,821.368 1275.13,819.403 1287.97,803.365 1299.76,787.64 \n",
       "  1301.48,785.362 1314.23,767.359 1324.4,751.925 1326.12,749.357 1337.24,731.354 1347.45,713.351 1349.04,710.268 1356.88,695.348 1365.33,677.345 1372.85,659.342 \n",
       "  1373.67,656.994 1379.31,641.339 1384.56,623.336 1388.47,605.333 1390.84,587.331 1391.26,569.328 1389.09,551.325 1383.26,533.322 1373.67,517.668 1371.44,515.319 \n",
       "  1349.04,500.399 1337.23,497.316 1324.4,494.747 1299.76,495.038 1286.94,497.316 1275.13,499.281 1250.49,506.509 1228.09,515.319 1225.85,516.158 1201.22,527.92 \n",
       "  1191.64,533.322 1176.58,541.597 1161.17,551.325 1151.95,557.056 1134.36,569.328 1127.31,574.219 1110.14,587.331 1102.67,593.061 1087.87,605.333 1078.04,613.609 \n",
       "  1067.15,623.336 1053.4,635.937 1047.76,641.339 1029.59,659.342 1028.77,660.182 1012.47,677.345 1004.13,686.538 996.285,695.348 981.081,713.351 979.493,715.316 \n",
       "  966.654,731.354 954.857,747.079 953.139,749.357 940.386,767.359 930.221,782.793 928.503,785.362 917.382,803.365 907.172,821.368 905.585,824.451 897.741,839.371 \n",
       "  889.292,857.374 881.773,875.377 880.949,877.725 875.309,893.38 870.064,911.382 866.146,929.385 863.78,947.388 863.359,965.391 865.532,983.394 871.365,1001.4 \n",
       "  880.949,1017.05 883.182,1019.4 905.585,1034.32 917.393,1037.4 930.221,1039.97 \n",
       "  \"/>\n",
       "<polyline clip-path=\"url(#clip2102)\" style=\"stroke:#000000; stroke-width:4; stroke-opacity:1; fill:none\" points=\"\n",
       "  930.221,1009.7 954.857,1013.99 979.493,1012.36 1004.13,1006.85 1019.64,1001.4 1028.77,998.331 1053.4,987.328 1060.62,983.394 1078.04,974.133 1092.14,965.391 \n",
       "  1102.67,958.957 1119.34,947.388 1127.31,941.887 1143.6,929.385 1151.95,922.952 1165.72,911.382 1176.58,902.121 1186.17,893.38 1201.22,879.311 1205.22,875.377 \n",
       "  1222.94,857.374 1225.85,854.308 1239.52,839.371 1250.49,826.824 1255.15,821.368 1269.72,803.365 1275.13,796.326 1283.43,785.362 1296.18,767.359 1299.76,761.945 \n",
       "  1308.06,749.357 1319,731.354 1324.4,721.658 1329.06,713.351 1338.06,695.348 1346.12,677.345 1349.04,669.708 1353.04,659.342 1358.62,641.339 1362.81,623.336 \n",
       "  1365.33,605.333 1365.71,587.331 1363.14,569.328 1356.25,551.325 1349.04,540.959 1339.91,533.322 1324.4,525.015 1299.76,520.733 1275.13,522.358 1250.49,527.866 \n",
       "  1234.98,533.322 1225.85,536.388 1201.22,547.391 1194,551.325 1176.58,560.586 1162.48,569.328 1151.95,575.762 1135.28,587.331 1127.31,592.831 1111.02,605.333 \n",
       "  1102.67,611.767 1088.9,623.336 1078.04,632.598 1068.45,641.339 1053.4,655.408 1049.4,659.342 1031.69,677.345 1028.77,680.411 1015.1,695.348 1004.13,707.895 \n",
       "  999.473,713.351 984.897,731.354 979.493,738.392 971.195,749.357 958.441,767.359 954.857,772.774 946.559,785.362 935.625,803.365 930.221,813.061 925.564,821.368 \n",
       "  916.558,839.371 908.505,857.374 905.585,865.01 901.583,875.377 895.998,893.38 891.811,911.382 889.292,929.385 888.915,947.388 891.484,965.391 898.368,983.394 \n",
       "  905.585,993.76 914.706,1001.4 930.221,1009.7 \n",
       "  \"/>\n",
       "<polyline clip-path=\"url(#clip2102)\" style=\"stroke:#000000; stroke-width:4; stroke-opacity:1; fill:none\" points=\"\n",
       "  954.857,984.969 979.493,987.567 1004.13,984.561 1008.03,983.394 1028.77,977.47 1053.4,967.522 1057.48,965.391 1078.04,954.922 1090.46,947.388 1102.67,940.096 \n",
       "  1118.21,929.385 1127.31,923.141 1142.55,911.382 1151.95,904.09 1164.5,893.38 1176.58,882.91 1184.65,875.377 1201.22,859.505 1203.32,857.374 1220.42,839.371 \n",
       "  1225.85,833.447 1236.42,821.368 1250.49,804.532 1251.44,803.365 1265.16,785.362 1275.13,771.532 1278.07,767.359 1289.79,749.357 1299.76,732.929 1300.71,731.354 \n",
       "  1310.33,713.351 1318.97,695.348 1324.4,682.394 1326.5,677.345 1332.46,659.342 1336.95,641.339 1339.63,623.336 1339.93,605.333 1336.83,587.331 1328.48,569.328 \n",
       "  1324.4,564.278 1303.67,551.325 1299.76,549.75 1275.13,547.152 1250.49,550.158 1246.59,551.325 1225.85,557.249 1201.22,567.196 1197.14,569.328 1176.58,579.797 \n",
       "  1164.16,587.331 1151.95,594.623 1136.41,605.333 1127.31,611.578 1112.08,623.336 1102.67,630.629 1090.12,641.339 1078.04,651.809 1069.97,659.342 1053.4,675.214 \n",
       "  1051.3,677.345 1034.2,695.348 1028.77,701.272 1018.2,713.351 1004.13,730.187 1003.18,731.354 989.463,749.357 979.493,763.187 976.546,767.359 964.827,785.362 \n",
       "  954.857,801.79 953.911,803.365 944.295,821.368 935.651,839.371 930.221,852.325 928.119,857.374 922.156,875.377 917.671,893.38 914.986,911.382 914.687,929.385 \n",
       "  917.795,947.388 926.14,965.391 930.221,970.44 950.954,983.394 954.857,984.969 \n",
       "  \"/>\n",
       "<polyline clip-path=\"url(#clip2102)\" style=\"stroke:#000000; stroke-width:4; stroke-opacity:1; fill:none\" points=\"\n",
       "  979.493,958.559 1004.13,959.829 1028.77,955.199 1051.52,947.388 1053.4,946.766 1078.04,934.973 1087.53,929.385 1102.67,920.596 1116.15,911.382 1127.31,903.79 \n",
       "  1140.7,893.38 1151.95,884.591 1162.53,875.377 1176.58,862.962 1182.39,857.374 1200.61,839.371 1201.22,838.749 1216.95,821.368 1225.85,811.175 1232.31,803.365 \n",
       "  1246.4,785.362 1250.49,779.8 1259.24,767.359 1271.04,749.357 1275.13,742.524 1281.58,731.354 1290.86,713.351 1299.16,695.348 1299.76,693.698 1305.57,677.345 \n",
       "  1310.35,659.342 1313.15,641.339 1313.24,623.336 1309.25,605.333 1299.76,588.981 1297.89,587.331 1275.13,576.16 1250.49,574.89 1225.85,579.52 1203.1,587.331 \n",
       "  1201.22,587.953 1176.58,599.746 1167.1,605.333 1151.95,614.122 1138.47,623.336 1127.31,630.929 1113.92,641.339 1102.67,650.128 1092.09,659.342 1078.04,671.757 \n",
       "  1072.23,677.345 1054.01,695.348 1053.4,695.97 1037.67,713.351 1028.77,723.543 1022.31,731.354 1008.22,749.357 1004.13,754.919 995.383,767.359 983.585,785.362 \n",
       "  979.493,792.195 973.036,803.365 963.764,821.368 955.464,839.371 954.857,841.021 949.051,857.374 944.272,875.377 941.468,893.38 941.381,911.382 945.37,929.385 \n",
       "  954.857,945.738 956.734,947.388 979.493,958.559 \n",
       "  \"/>\n",
       "<polyline clip-path=\"url(#clip2102)\" style=\"stroke:#000000; stroke-width:4; stroke-opacity:1; fill:none\" points=\"\n",
       "  1004.13,930.464 1028.77,930.272 1032.05,929.385 1053.4,923.809 1078.04,913.56 1081.88,911.382 1102.67,899.783 1112.14,893.38 1127.31,883.175 1137.24,875.377 \n",
       "  1151.95,863.777 1159.12,857.374 1176.58,841.548 1178.76,839.371 1196.04,821.368 1201.22,815.792 1211.79,803.365 1225.85,786.249 1226.54,785.362 1239.17,767.359 \n",
       "  1250.49,750.435 1251.17,749.357 1261.06,731.354 1269.95,713.351 1275.13,700.897 1277.31,695.348 1282.3,677.345 1285.06,659.342 1284.6,641.339 1278.97,623.336 \n",
       "  1275.13,617.787 1253.77,605.333 1250.49,604.255 1225.85,604.447 1222.58,605.333 1201.22,610.909 1176.58,621.159 1172.74,623.336 1151.95,634.936 1142.48,641.339 \n",
       "  1127.31,651.544 1117.38,659.342 1102.67,670.941 1095.5,677.345 1078.04,693.171 1075.86,695.348 1058.58,713.351 1053.4,718.927 1042.83,731.354 1028.77,748.47 \n",
       "  1028.08,749.357 1015.45,767.359 1004.13,784.284 1003.45,785.362 993.556,803.365 984.673,821.368 979.493,833.822 977.315,839.371 972.32,857.374 969.559,875.377 \n",
       "  970.024,893.38 975.649,911.382 979.493,916.932 1000.85,929.385 1004.13,930.464 \n",
       "  \"/>\n",
       "<polyline clip-path=\"url(#clip2102)\" style=\"stroke:#000000; stroke-width:4; stroke-opacity:1; fill:none\" points=\"\n",
       "  1028.77,897.826 1053.4,896.855 1063.97,893.38 1078.04,888.868 1102.67,876.563 1104.45,875.377 1127.31,860.232 1130.9,857.374 1151.95,840.557 1153.23,839.371 \n",
       "  1171.99,821.368 1176.58,816.857 1188.6,803.365 1201.22,788.838 1203.94,785.362 1216.74,767.359 1225.85,753.803 1228.58,749.357 1237.87,731.354 1245.9,713.351 \n",
       "  1250.49,699.611 1251.78,695.348 1254.08,677.345 1252.27,659.342 1250.49,655.079 1236.42,641.339 1225.85,636.893 1201.22,637.864 1190.65,641.339 1176.58,645.851 \n",
       "  1151.95,658.156 1150.17,659.342 1127.31,674.487 1123.72,677.345 1102.67,694.162 1101.39,695.348 1082.63,713.351 1078.04,717.862 1066.02,731.354 1053.4,745.881 \n",
       "  1050.68,749.357 1037.88,767.359 1028.77,780.916 1026.04,785.362 1016.75,803.365 1008.72,821.368 1004.13,835.108 1002.84,839.371 1000.54,857.374 1002.35,875.377 \n",
       "  1004.13,879.639 1018.2,893.38 1028.77,897.826 \n",
       "  \"/>\n",
       "<polyline clip-path=\"url(#clip2102)\" style=\"stroke:#000000; stroke-width:4; stroke-opacity:1; fill:none\" points=\"\n",
       "  1053.4,856.824 1078.04,857.046 1102.67,846.926 1114.71,839.371 1127.31,831.496 1139.47,821.368 1151.95,810.92 1159.24,803.365 1176.3,785.362 1176.58,785.034 \n",
       "  1188.83,767.359 1200.94,749.357 1201.22,748.807 1208.51,731.354 1213.38,713.351 1213.25,695.348 1201.22,677.895 1176.58,677.673 1151.95,687.793 1139.91,695.348 \n",
       "  1127.31,703.223 1115.15,713.351 1102.67,723.799 1095.38,731.354 1078.32,749.357 1078.04,749.685 1065.79,767.359 1053.68,785.362 1053.4,785.912 1046.11,803.365 \n",
       "  1041.24,821.368 1041.37,839.371 1053.4,856.824 \n",
       "  \"/>\n",
       "<defs>\n",
       "  <clipPath id=\"clip2103\">\n",
       "    <rect x=\"2160\" y=\"47\" width=\"73\" height=\"1441\"/>\n",
       "  </clipPath>\n",
       "</defs>\n",
       "<path clip-path=\"url(#clip2103)\" d=\"\n",
       "M2160.76 1487.47 L2232.76 1487.47 L2232.76 1397.46 L2160.76 1397.46  Z\n",
       "  \" fill=\"#000003\" fill-rule=\"evenodd\" fill-opacity=\"1\"/>\n",
       "<path clip-path=\"url(#clip2103)\" d=\"\n",
       "M2160.76 1397.46 L2232.76 1397.46 L2232.76 1307.45 L2160.76 1307.45  Z\n",
       "  \" fill=\"#0c0727\" fill-rule=\"evenodd\" fill-opacity=\"1\"/>\n",
       "<path clip-path=\"url(#clip2103)\" d=\"\n",
       "M2160.76 1307.45 L2232.76 1307.45 L2232.76 1217.43 L2160.76 1217.43  Z\n",
       "  \" fill=\"#240b4e\" fill-rule=\"evenodd\" fill-opacity=\"1\"/>\n",
       "<path clip-path=\"url(#clip2103)\" d=\"\n",
       "M2160.76 1217.43 L2232.76 1217.43 L2232.76 1127.42 L2160.76 1127.42  Z\n",
       "  \" fill=\"#420a67\" fill-rule=\"evenodd\" fill-opacity=\"1\"/>\n",
       "<path clip-path=\"url(#clip2103)\" d=\"\n",
       "M2160.76 1127.42 L2232.76 1127.42 L2232.76 1037.4 L2160.76 1037.4  Z\n",
       "  \" fill=\"#5d126d\" fill-rule=\"evenodd\" fill-opacity=\"1\"/>\n",
       "<path clip-path=\"url(#clip2103)\" d=\"\n",
       "M2160.76 1037.4 L2232.76 1037.4 L2232.76 947.388 L2160.76 947.388  Z\n",
       "  \" fill=\"#781c6d\" fill-rule=\"evenodd\" fill-opacity=\"1\"/>\n",
       "<path clip-path=\"url(#clip2103)\" d=\"\n",
       "M2160.76 947.388 L2232.76 947.388 L2232.76 857.374 L2160.76 857.374  Z\n",
       "  \" fill=\"#942666\" fill-rule=\"evenodd\" fill-opacity=\"1\"/>\n",
       "<path clip-path=\"url(#clip2103)\" d=\"\n",
       "M2160.76 857.374 L2232.76 857.374 L2232.76 767.359 L2160.76 767.359  Z\n",
       "  \" fill=\"#ad305b\" fill-rule=\"evenodd\" fill-opacity=\"1\"/>\n",
       "<path clip-path=\"url(#clip2103)\" d=\"\n",
       "M2160.76 767.359 L2232.76 767.359 L2232.76 677.345 L2160.76 677.345  Z\n",
       "  \" fill=\"#c73e4c\" fill-rule=\"evenodd\" fill-opacity=\"1\"/>\n",
       "<path clip-path=\"url(#clip2103)\" d=\"\n",
       "M2160.76 677.345 L2232.76 677.345 L2232.76 587.331 L2160.76 587.331  Z\n",
       "  \" fill=\"#db503a\" fill-rule=\"evenodd\" fill-opacity=\"1\"/>\n",
       "<path clip-path=\"url(#clip2103)\" d=\"\n",
       "M2160.76 587.331 L2232.76 587.331 L2232.76 497.316 L2160.76 497.316  Z\n",
       "  \" fill=\"#ec6925\" fill-rule=\"evenodd\" fill-opacity=\"1\"/>\n",
       "<path clip-path=\"url(#clip2103)\" d=\"\n",
       "M2160.76 497.316 L2232.76 497.316 L2232.76 407.302 L2160.76 407.302  Z\n",
       "  \" fill=\"#f7850e\" fill-rule=\"evenodd\" fill-opacity=\"1\"/>\n",
       "<path clip-path=\"url(#clip2103)\" d=\"\n",
       "M2160.76 407.302 L2232.76 407.302 L2232.76 317.287 L2160.76 317.287  Z\n",
       "  \" fill=\"#fba40a\" fill-rule=\"evenodd\" fill-opacity=\"1\"/>\n",
       "<path clip-path=\"url(#clip2103)\" d=\"\n",
       "M2160.76 317.287 L2232.76 317.287 L2232.76 227.273 L2160.76 227.273  Z\n",
       "  \" fill=\"#f9c52d\" fill-rule=\"evenodd\" fill-opacity=\"1\"/>\n",
       "<path clip-path=\"url(#clip2103)\" d=\"\n",
       "M2160.76 227.273 L2232.76 227.273 L2232.76 137.259 L2160.76 137.259  Z\n",
       "  \" fill=\"#f2e55f\" fill-rule=\"evenodd\" fill-opacity=\"1\"/>\n",
       "<path clip-path=\"url(#clip2103)\" d=\"\n",
       "M2160.76 137.259 L2232.76 137.259 L2232.76 47.2441 L2160.76 47.2441  Z\n",
       "  \" fill=\"#fcfea4\" fill-rule=\"evenodd\" fill-opacity=\"1\"/>\n",
       "<g clip-path=\"url(#clip2100)\">\n",
       "<text style=\"fill:#000000; fill-opacity:1; font-family:Arial,Helvetica Neue,Helvetica,sans-serif; font-size:48px; text-anchor:start;\" transform=\"rotate(0, 2268.76, 1274.9)\" x=\"2268.76\" y=\"1274.9\">0.025</text>\n",
       "</g>\n",
       "<g clip-path=\"url(#clip2100)\">\n",
       "<text style=\"fill:#000000; fill-opacity:1; font-family:Arial,Helvetica Neue,Helvetica,sans-serif; font-size:48px; text-anchor:start;\" transform=\"rotate(0, 2268.76, 1048.66)\" x=\"2268.76\" y=\"1048.66\">0.050</text>\n",
       "</g>\n",
       "<g clip-path=\"url(#clip2100)\">\n",
       "<text style=\"fill:#000000; fill-opacity:1; font-family:Arial,Helvetica Neue,Helvetica,sans-serif; font-size:48px; text-anchor:start;\" transform=\"rotate(0, 2268.76, 822.433)\" x=\"2268.76\" y=\"822.433\">0.075</text>\n",
       "</g>\n",
       "<g clip-path=\"url(#clip2100)\">\n",
       "<text style=\"fill:#000000; fill-opacity:1; font-family:Arial,Helvetica Neue,Helvetica,sans-serif; font-size:48px; text-anchor:start;\" transform=\"rotate(0, 2268.76, 596.202)\" x=\"2268.76\" y=\"596.202\">0.100</text>\n",
       "</g>\n",
       "<g clip-path=\"url(#clip2100)\">\n",
       "<text style=\"fill:#000000; fill-opacity:1; font-family:Arial,Helvetica Neue,Helvetica,sans-serif; font-size:48px; text-anchor:start;\" transform=\"rotate(0, 2268.76, 369.971)\" x=\"2268.76\" y=\"369.971\">0.125</text>\n",
       "</g>\n",
       "<g clip-path=\"url(#clip2100)\">\n",
       "<text style=\"fill:#000000; fill-opacity:1; font-family:Arial,Helvetica Neue,Helvetica,sans-serif; font-size:48px; text-anchor:start;\" transform=\"rotate(0, 2268.76, 143.741)\" x=\"2268.76\" y=\"143.741\">0.150</text>\n",
       "</g>\n",
       "<polyline clip-path=\"url(#clip2100)\" style=\"stroke:#000000; stroke-width:4; stroke-opacity:1; fill:none\" points=\"\n",
       "  2232.76,1487.47 2232.76,1261.24 2256.76,1261.24 2232.76,1261.24 2232.76,1035.01 2256.76,1035.01 2232.76,1035.01 2232.76,808.782 2256.76,808.782 2232.76,808.782 \n",
       "  2232.76,582.551 2256.76,582.551 2232.76,582.551 2232.76,356.32 2256.76,356.32 2232.76,356.32 2232.76,130.089 2256.76,130.089 2232.76,130.089 2232.76,47.2441 \n",
       "  \n",
       "  \"/>\n",
       "</svg>\n"
      ]
     },
     "execution_count": 9,
     "metadata": {},
     "output_type": "execute_result"
    }
   ],
   "source": [
    "f(x,y) = pdf(BVN,[x,y])\n",
    "x = -4:0.1:4\n",
    "y = -4:0.1:4\n",
    "contour(x, y, f, fill = true)"
   ]
  },
  {
   "cell_type": "code",
   "execution_count": 10,
   "metadata": {},
   "outputs": [
    {
     "data": {
      "text/plain": [
       "FullNormal(\n",
       "dim: 2\n",
       "μ: [0.0, 0.0]\n",
       "Σ: [1.0 1.0; 1.0 10.0]\n",
       ")\n"
      ]
     },
     "execution_count": 10,
     "metadata": {},
     "output_type": "execute_result"
    }
   ],
   "source": [
    "μ = [0.0, 0.0]\n",
    "Σ1 = [1.0 1.0\n",
    "     1.0 10.0]\n",
    "BVN2 = MvNormal(μ,Σ1)"
   ]
  },
  {
   "cell_type": "code",
   "execution_count": 11,
   "metadata": {
    "tags": []
   },
   "outputs": [
    {
     "data": {
      "image/svg+xml": [
       "<?xml version=\"1.0\" encoding=\"utf-8\"?>\n",
       "<svg xmlns=\"http://www.w3.org/2000/svg\" xmlns:xlink=\"http://www.w3.org/1999/xlink\" width=\"600\" height=\"400\" viewBox=\"0 0 2400 1600\">\n",
       "<defs>\n",
       "  <clipPath id=\"clip2500\">\n",
       "    <rect x=\"0\" y=\"0\" width=\"2400\" height=\"1600\"/>\n",
       "  </clipPath>\n",
       "</defs>\n",
       "<path clip-path=\"url(#clip2500)\" d=\"\n",
       "M0 1600 L2400 1600 L2400 0 L0 0  Z\n",
       "  \" fill=\"#ffffff\" fill-rule=\"evenodd\" fill-opacity=\"1\"/>\n",
       "<defs>\n",
       "  <clipPath id=\"clip2501\">\n",
       "    <rect x=\"480\" y=\"0\" width=\"1681\" height=\"1600\"/>\n",
       "  </clipPath>\n",
       "</defs>\n",
       "<path clip-path=\"url(#clip2500)\" d=\"\n",
       "M182.008 1487.47 L2112.76 1487.47 L2112.76 47.2441 L182.008 47.2441  Z\n",
       "  \" fill=\"#ffffff\" fill-rule=\"evenodd\" fill-opacity=\"1\"/>\n",
       "<defs>\n",
       "  <clipPath id=\"clip2502\">\n",
       "    <rect x=\"182\" y=\"47\" width=\"1932\" height=\"1441\"/>\n",
       "  </clipPath>\n",
       "</defs>\n",
       "<polyline clip-path=\"url(#clip2502)\" style=\"stroke:#000000; stroke-width:2; stroke-opacity:0.1; fill:none\" points=\"\n",
       "  457.829,1487.47 457.829,47.2441 \n",
       "  \"/>\n",
       "<polyline clip-path=\"url(#clip2502)\" style=\"stroke:#000000; stroke-width:2; stroke-opacity:0.1; fill:none\" points=\"\n",
       "  802.606,1487.47 802.606,47.2441 \n",
       "  \"/>\n",
       "<polyline clip-path=\"url(#clip2502)\" style=\"stroke:#000000; stroke-width:2; stroke-opacity:0.1; fill:none\" points=\"\n",
       "  1147.38,1487.47 1147.38,47.2441 \n",
       "  \"/>\n",
       "<polyline clip-path=\"url(#clip2502)\" style=\"stroke:#000000; stroke-width:2; stroke-opacity:0.1; fill:none\" points=\"\n",
       "  1492.16,1487.47 1492.16,47.2441 \n",
       "  \"/>\n",
       "<polyline clip-path=\"url(#clip2502)\" style=\"stroke:#000000; stroke-width:2; stroke-opacity:0.1; fill:none\" points=\"\n",
       "  1836.93,1487.47 1836.93,47.2441 \n",
       "  \"/>\n",
       "<polyline clip-path=\"url(#clip2502)\" style=\"stroke:#000000; stroke-width:2; stroke-opacity:0.1; fill:none\" points=\"\n",
       "  182.008,1281.73 2112.76,1281.73 \n",
       "  \"/>\n",
       "<polyline clip-path=\"url(#clip2502)\" style=\"stroke:#000000; stroke-width:2; stroke-opacity:0.1; fill:none\" points=\"\n",
       "  182.008,1024.54 2112.76,1024.54 \n",
       "  \"/>\n",
       "<polyline clip-path=\"url(#clip2502)\" style=\"stroke:#000000; stroke-width:2; stroke-opacity:0.1; fill:none\" points=\"\n",
       "  182.008,767.359 2112.76,767.359 \n",
       "  \"/>\n",
       "<polyline clip-path=\"url(#clip2502)\" style=\"stroke:#000000; stroke-width:2; stroke-opacity:0.1; fill:none\" points=\"\n",
       "  182.008,510.175 2112.76,510.175 \n",
       "  \"/>\n",
       "<polyline clip-path=\"url(#clip2502)\" style=\"stroke:#000000; stroke-width:2; stroke-opacity:0.1; fill:none\" points=\"\n",
       "  182.008,252.991 2112.76,252.991 \n",
       "  \"/>\n",
       "<polyline clip-path=\"url(#clip2500)\" style=\"stroke:#000000; stroke-width:4; stroke-opacity:1; fill:none\" points=\"\n",
       "  182.008,1487.47 2112.76,1487.47 \n",
       "  \"/>\n",
       "<polyline clip-path=\"url(#clip2500)\" style=\"stroke:#000000; stroke-width:4; stroke-opacity:1; fill:none\" points=\"\n",
       "  182.008,1487.47 182.008,47.2441 \n",
       "  \"/>\n",
       "<polyline clip-path=\"url(#clip2500)\" style=\"stroke:#000000; stroke-width:4; stroke-opacity:1; fill:none\" points=\"\n",
       "  457.829,1487.47 457.829,1470.19 \n",
       "  \"/>\n",
       "<polyline clip-path=\"url(#clip2500)\" style=\"stroke:#000000; stroke-width:4; stroke-opacity:1; fill:none\" points=\"\n",
       "  802.606,1487.47 802.606,1470.19 \n",
       "  \"/>\n",
       "<polyline clip-path=\"url(#clip2500)\" style=\"stroke:#000000; stroke-width:4; stroke-opacity:1; fill:none\" points=\"\n",
       "  1147.38,1487.47 1147.38,1470.19 \n",
       "  \"/>\n",
       "<polyline clip-path=\"url(#clip2500)\" style=\"stroke:#000000; stroke-width:4; stroke-opacity:1; fill:none\" points=\"\n",
       "  1492.16,1487.47 1492.16,1470.19 \n",
       "  \"/>\n",
       "<polyline clip-path=\"url(#clip2500)\" style=\"stroke:#000000; stroke-width:4; stroke-opacity:1; fill:none\" points=\"\n",
       "  1836.93,1487.47 1836.93,1470.19 \n",
       "  \"/>\n",
       "<polyline clip-path=\"url(#clip2500)\" style=\"stroke:#000000; stroke-width:4; stroke-opacity:1; fill:none\" points=\"\n",
       "  182.008,1281.73 205.177,1281.73 \n",
       "  \"/>\n",
       "<polyline clip-path=\"url(#clip2500)\" style=\"stroke:#000000; stroke-width:4; stroke-opacity:1; fill:none\" points=\"\n",
       "  182.008,1024.54 205.177,1024.54 \n",
       "  \"/>\n",
       "<polyline clip-path=\"url(#clip2500)\" style=\"stroke:#000000; stroke-width:4; stroke-opacity:1; fill:none\" points=\"\n",
       "  182.008,767.359 205.177,767.359 \n",
       "  \"/>\n",
       "<polyline clip-path=\"url(#clip2500)\" style=\"stroke:#000000; stroke-width:4; stroke-opacity:1; fill:none\" points=\"\n",
       "  182.008,510.175 205.177,510.175 \n",
       "  \"/>\n",
       "<polyline clip-path=\"url(#clip2500)\" style=\"stroke:#000000; stroke-width:4; stroke-opacity:1; fill:none\" points=\"\n",
       "  182.008,252.991 205.177,252.991 \n",
       "  \"/>\n",
       "<g clip-path=\"url(#clip2500)\">\n",
       "<text style=\"fill:#000000; fill-opacity:1; font-family:Arial,Helvetica Neue,Helvetica,sans-serif; font-size:48px; text-anchor:middle;\" transform=\"rotate(0, 457.829, 1541.47)\" x=\"457.829\" y=\"1541.47\">-5.0</text>\n",
       "</g>\n",
       "<g clip-path=\"url(#clip2500)\">\n",
       "<text style=\"fill:#000000; fill-opacity:1; font-family:Arial,Helvetica Neue,Helvetica,sans-serif; font-size:48px; text-anchor:middle;\" transform=\"rotate(0, 802.606, 1541.47)\" x=\"802.606\" y=\"1541.47\">-2.5</text>\n",
       "</g>\n",
       "<g clip-path=\"url(#clip2500)\">\n",
       "<text style=\"fill:#000000; fill-opacity:1; font-family:Arial,Helvetica Neue,Helvetica,sans-serif; font-size:48px; text-anchor:middle;\" transform=\"rotate(0, 1147.38, 1541.47)\" x=\"1147.38\" y=\"1541.47\">0.0</text>\n",
       "</g>\n",
       "<g clip-path=\"url(#clip2500)\">\n",
       "<text style=\"fill:#000000; fill-opacity:1; font-family:Arial,Helvetica Neue,Helvetica,sans-serif; font-size:48px; text-anchor:middle;\" transform=\"rotate(0, 1492.16, 1541.47)\" x=\"1492.16\" y=\"1541.47\">2.5</text>\n",
       "</g>\n",
       "<g clip-path=\"url(#clip2500)\">\n",
       "<text style=\"fill:#000000; fill-opacity:1; font-family:Arial,Helvetica Neue,Helvetica,sans-serif; font-size:48px; text-anchor:middle;\" transform=\"rotate(0, 1836.93, 1541.47)\" x=\"1836.93\" y=\"1541.47\">5.0</text>\n",
       "</g>\n",
       "<g clip-path=\"url(#clip2500)\">\n",
       "<text style=\"fill:#000000; fill-opacity:1; font-family:Arial,Helvetica Neue,Helvetica,sans-serif; font-size:48px; text-anchor:end;\" transform=\"rotate(0, 158.008, 1299.23)\" x=\"158.008\" y=\"1299.23\">-5.0</text>\n",
       "</g>\n",
       "<g clip-path=\"url(#clip2500)\">\n",
       "<text style=\"fill:#000000; fill-opacity:1; font-family:Arial,Helvetica Neue,Helvetica,sans-serif; font-size:48px; text-anchor:end;\" transform=\"rotate(0, 158.008, 1042.04)\" x=\"158.008\" y=\"1042.04\">-2.5</text>\n",
       "</g>\n",
       "<g clip-path=\"url(#clip2500)\">\n",
       "<text style=\"fill:#000000; fill-opacity:1; font-family:Arial,Helvetica Neue,Helvetica,sans-serif; font-size:48px; text-anchor:end;\" transform=\"rotate(0, 158.008, 784.859)\" x=\"158.008\" y=\"784.859\">0.0</text>\n",
       "</g>\n",
       "<g clip-path=\"url(#clip2500)\">\n",
       "<text style=\"fill:#000000; fill-opacity:1; font-family:Arial,Helvetica Neue,Helvetica,sans-serif; font-size:48px; text-anchor:end;\" transform=\"rotate(0, 158.008, 527.675)\" x=\"158.008\" y=\"527.675\">2.5</text>\n",
       "</g>\n",
       "<g clip-path=\"url(#clip2500)\">\n",
       "<text style=\"fill:#000000; fill-opacity:1; font-family:Arial,Helvetica Neue,Helvetica,sans-serif; font-size:48px; text-anchor:end;\" transform=\"rotate(0, 158.008, 270.491)\" x=\"158.008\" y=\"270.491\">5.0</text>\n",
       "</g>\n",
       "<path clip-path=\"url(#clip2502)\" d=\"\n",
       "M182.008 1487.47 L182.008 1487.47 L195.799 1487.47 L209.59 1487.47 L223.381 1487.47 L237.172 1487.47 L250.963 1487.47 L264.754 1487.47 L278.545 1487.47 L292.337 1487.47 \n",
       "  L306.128 1487.47 L319.919 1487.47 L333.71 1487.47 L347.501 1487.47 L361.292 1487.47 L375.083 1487.47 L388.874 1487.47 L402.665 1487.47 L416.456 1487.47 L430.247 1487.47 \n",
       "  L444.038 1487.47 L457.829 1487.47 L471.62 1487.47 L485.411 1487.47 L499.202 1487.47 L512.993 1487.47 L526.784 1487.47 L540.576 1487.47 L554.367 1487.47 L568.158 1487.47 \n",
       "  L581.949 1487.47 L595.74 1487.47 L609.531 1487.47 L623.322 1487.47 L637.113 1487.47 L650.904 1487.47 L664.695 1487.47 L678.486 1487.47 L692.277 1487.47 L706.068 1487.47 \n",
       "  L719.859 1487.47 L733.65 1487.47 L747.441 1487.47 L761.232 1487.47 L775.023 1487.47 L788.815 1487.47 L802.606 1487.47 L816.397 1487.47 L830.188 1487.47 L843.979 1487.47 \n",
       "  L857.77 1487.47 L871.561 1487.47 L885.352 1487.47 L899.143 1487.47 L912.934 1487.47 L926.725 1487.47 L940.516 1487.47 L954.307 1487.47 L968.098 1487.47 L981.889 1487.47 \n",
       "  L995.68 1487.47 L1009.47 1487.47 L1023.26 1487.47 L1037.05 1487.47 L1050.84 1487.47 L1064.64 1487.47 L1078.43 1487.47 L1092.22 1487.47 L1106.01 1487.47 L1119.8 1487.47 \n",
       "  L1133.59 1487.47 L1147.38 1487.47 L1161.17 1487.47 L1174.96 1487.47 L1188.76 1487.47 L1202.55 1487.47 L1216.34 1487.47 L1230.13 1487.47 L1243.92 1487.47 L1257.71 1487.47 \n",
       "  L1271.5 1487.47 L1285.29 1487.47 L1299.08 1487.47 L1312.87 1487.47 L1326.67 1487.47 L1340.46 1487.47 L1354.25 1487.47 L1368.04 1487.47 L1381.83 1487.47 L1395.62 1487.47 \n",
       "  L1409.41 1487.47 L1423.2 1487.47 L1436.99 1487.47 L1450.79 1487.47 L1464.58 1487.47 L1478.37 1487.47 L1492.16 1487.47 L1505.95 1487.47 L1519.74 1487.47 L1533.53 1487.47 \n",
       "  L1547.32 1487.47 L1561.11 1487.47 L1574.9 1487.47 L1588.7 1487.47 L1602.49 1487.47 L1616.28 1487.47 L1630.07 1487.47 L1643.86 1487.47 L1657.65 1487.47 L1671.44 1487.47 \n",
       "  L1685.23 1487.47 L1699.02 1487.47 L1712.82 1487.47 L1726.61 1487.47 L1740.4 1487.47 L1754.19 1487.47 L1767.98 1487.47 L1781.77 1487.47 L1795.56 1487.47 L1809.35 1487.47 \n",
       "  L1823.14 1487.47 L1836.93 1487.47 L1850.73 1487.47 L1864.52 1487.47 L1878.31 1487.47 L1892.1 1487.47 L1905.89 1487.47 L1919.68 1487.47 L1933.47 1487.47 L1947.26 1487.47 \n",
       "  L1961.05 1487.47 L1974.85 1487.47 L1988.64 1487.47 L2002.43 1487.47 L2016.22 1487.47 L2030.01 1487.47 L2043.8 1487.47 L2057.59 1487.47 L2071.38 1487.47 L2085.17 1487.47 \n",
       "  L2098.96 1487.47 L2112.76 1487.47 L2112.76 1487.47 L2112.76 1487.47 L2112.76 1487.47 L2112.76 1477.19 L2112.76 1466.9 L2112.76 1456.61 L2112.76 1446.33 L2112.76 1436.04 \n",
       "  L2112.76 1425.75 L2112.76 1415.46 L2112.76 1405.18 L2112.76 1394.89 L2112.76 1384.6 L2112.76 1374.31 L2112.76 1364.03 L2112.76 1353.74 L2112.76 1343.45 L2112.76 1333.16 \n",
       "  L2112.76 1322.88 L2112.76 1312.59 L2112.76 1302.3 L2112.76 1292.01 L2112.76 1281.73 L2112.76 1271.44 L2112.76 1261.15 L2112.76 1250.87 L2112.76 1240.58 L2112.76 1230.29 \n",
       "  L2112.76 1220 L2112.76 1209.72 L2112.76 1199.43 L2112.76 1189.14 L2112.76 1178.85 L2112.76 1168.57 L2112.76 1158.28 L2112.76 1147.99 L2112.76 1137.7 L2112.76 1127.42 \n",
       "  L2112.76 1117.13 L2112.76 1106.84 L2112.76 1096.55 L2112.76 1086.27 L2112.76 1075.98 L2112.76 1065.69 L2112.76 1055.41 L2112.76 1045.12 L2112.76 1034.83 L2112.76 1024.54 \n",
       "  L2112.76 1014.26 L2112.76 1003.97 L2112.76 993.681 L2112.76 983.394 L2112.76 973.107 L2112.76 962.819 L2112.76 952.532 L2112.76 942.245 L2112.76 931.957 L2112.76 921.67 \n",
       "  L2112.76 911.382 L2112.76 901.095 L2112.76 890.808 L2112.76 880.52 L2112.76 870.233 L2112.76 859.946 L2112.76 849.658 L2112.76 839.371 L2112.76 829.084 L2112.76 818.796 \n",
       "  L2112.76 808.509 L2112.76 798.221 L2112.76 787.934 L2112.76 777.647 L2112.76 767.359 L2112.76 757.072 L2112.76 746.785 L2112.76 736.497 L2112.76 726.21 L2112.76 715.923 \n",
       "  L2112.76 705.635 L2112.76 695.348 L2112.76 685.061 L2112.76 674.773 L2112.76 664.486 L2112.76 654.198 L2112.76 643.911 L2112.76 633.624 L2112.76 623.336 L2112.76 613.049 \n",
       "  L2112.76 602.762 L2112.76 592.474 L2112.76 582.187 L2112.76 571.9 L2112.76 561.612 L2112.76 551.325 L2112.76 541.037 L2112.76 530.75 L2112.76 520.463 L2112.76 510.175 \n",
       "  L2112.76 499.888 L2112.76 489.601 L2112.76 479.313 L2112.76 469.026 L2112.76 458.739 L2112.76 448.451 L2112.76 438.164 L2112.76 427.876 L2112.76 417.589 L2112.76 407.302 \n",
       "  L2112.76 397.014 L2112.76 386.727 L2112.76 376.44 L2112.76 366.152 L2112.76 355.865 L2112.76 345.578 L2112.76 335.29 L2112.76 325.003 L2112.76 314.715 L2112.76 304.428 \n",
       "  L2112.76 294.141 L2112.76 283.853 L2112.76 273.566 L2112.76 263.279 L2112.76 252.991 L2112.76 242.704 L2112.76 232.417 L2112.76 222.129 L2112.76 211.842 L2112.76 201.555 \n",
       "  L2112.76 191.267 L2112.76 180.98 L2112.76 170.692 L2112.76 160.405 L2112.76 150.118 L2112.76 139.83 L2112.76 129.543 L2112.76 119.256 L2112.76 108.968 L2112.76 98.6809 \n",
       "  L2112.76 88.3935 L2112.76 78.1062 L2112.76 67.8188 L2112.76 57.5315 L2112.76 47.2441 L2112.76 47.2441 L2112.76 47.2441 L2112.76 47.2441 L2098.96 47.2441 L2085.17 47.2441 \n",
       "  L2071.38 47.2441 L2057.59 47.2441 L2043.8 47.2441 L2030.01 47.2441 L2016.22 47.2441 L2002.43 47.2441 L1988.64 47.2441 L1974.85 47.2441 L1961.05 47.2441 L1947.26 47.2441 \n",
       "  L1933.47 47.2441 L1919.68 47.2441 L1905.89 47.2441 L1892.1 47.2441 L1878.31 47.2441 L1864.52 47.2441 L1850.73 47.2441 L1836.93 47.2441 L1823.14 47.2441 L1809.35 47.2441 \n",
       "  L1795.56 47.2441 L1781.77 47.2441 L1767.98 47.2441 L1754.19 47.2441 L1740.4 47.2441 L1726.61 47.2441 L1712.82 47.2441 L1699.02 47.2441 L1685.23 47.2441 L1671.44 47.2441 \n",
       "  L1657.65 47.2441 L1643.86 47.2441 L1630.07 47.2441 L1616.28 47.2441 L1602.49 47.2441 L1588.7 47.2441 L1574.9 47.2441 L1561.11 47.2441 L1547.32 47.2441 L1533.53 47.2441 \n",
       "  L1519.74 47.2441 L1505.95 47.2441 L1492.16 47.2441 L1478.37 47.2441 L1464.58 47.2441 L1450.79 47.2441 L1436.99 47.2441 L1423.2 47.2441 L1409.41 47.2441 L1395.62 47.2441 \n",
       "  L1381.83 47.2441 L1368.04 47.2441 L1354.25 47.2441 L1340.46 47.2441 L1326.67 47.2441 L1312.87 47.2441 L1299.08 47.2441 L1285.29 47.2441 L1271.5 47.2441 L1257.71 47.2441 \n",
       "  L1243.92 47.2441 L1230.13 47.2441 L1216.34 47.2441 L1202.55 47.2441 L1188.76 47.2441 L1174.96 47.2441 L1161.17 47.2441 L1147.38 47.2441 L1133.59 47.2441 L1119.8 47.2441 \n",
       "  L1106.01 47.2441 L1092.22 47.2441 L1078.43 47.2441 L1064.64 47.2441 L1050.84 47.2441 L1037.05 47.2441 L1023.26 47.2441 L1009.47 47.2441 L995.68 47.2441 L981.889 47.2441 \n",
       "  L968.098 47.2441 L954.307 47.2441 L940.516 47.2441 L926.725 47.2441 L912.934 47.2441 L899.143 47.2441 L885.352 47.2441 L871.561 47.2441 L857.77 47.2441 L843.979 47.2441 \n",
       "  L830.188 47.2441 L816.397 47.2441 L802.606 47.2441 L788.815 47.2441 L775.023 47.2441 L761.232 47.2441 L747.441 47.2441 L733.65 47.2441 L719.859 47.2441 L706.068 47.2441 \n",
       "  L692.277 47.2441 L678.486 47.2441 L664.695 47.2441 L650.904 47.2441 L637.113 47.2441 L623.322 47.2441 L609.531 47.2441 L595.74 47.2441 L581.949 47.2441 L568.158 47.2441 \n",
       "  L554.367 47.2441 L540.576 47.2441 L526.784 47.2441 L512.993 47.2441 L499.202 47.2441 L485.411 47.2441 L471.62 47.2441 L457.829 47.2441 L444.038 47.2441 L430.247 47.2441 \n",
       "  L416.456 47.2441 L402.665 47.2441 L388.874 47.2441 L375.083 47.2441 L361.292 47.2441 L347.501 47.2441 L333.71 47.2441 L319.919 47.2441 L306.128 47.2441 L292.337 47.2441 \n",
       "  L278.545 47.2441 L264.754 47.2441 L250.963 47.2441 L237.172 47.2441 L223.381 47.2441 L209.59 47.2441 L195.799 47.2441 L182.008 47.2441 L182.008 47.2441 L182.008 47.2441 \n",
       "  L182.008 47.2441 L182.008 57.5315 L182.008 67.8188 L182.008 78.1062 L182.008 88.3935 L182.008 98.6809 L182.008 108.968 L182.008 119.256 L182.008 129.543 L182.008 139.83 \n",
       "  L182.008 150.118 L182.008 160.405 L182.008 170.692 L182.008 180.98 L182.008 191.267 L182.008 201.555 L182.008 211.842 L182.008 222.129 L182.008 232.417 L182.008 242.704 \n",
       "  L182.008 252.991 L182.008 263.279 L182.008 273.566 L182.008 283.853 L182.008 294.141 L182.008 304.428 L182.008 314.715 L182.008 325.003 L182.008 335.29 L182.008 345.578 \n",
       "  L182.008 355.865 L182.008 366.152 L182.008 376.44 L182.008 386.727 L182.008 397.014 L182.008 407.302 L182.008 417.589 L182.008 427.876 L182.008 438.164 L182.008 448.451 \n",
       "  L182.008 458.739 L182.008 469.026 L182.008 479.313 L182.008 489.601 L182.008 499.888 L182.008 510.175 L182.008 520.463 L182.008 530.75 L182.008 541.037 L182.008 551.325 \n",
       "  L182.008 561.612 L182.008 571.9 L182.008 582.187 L182.008 592.474 L182.008 602.762 L182.008 613.049 L182.008 623.336 L182.008 633.624 L182.008 643.911 L182.008 654.198 \n",
       "  L182.008 664.486 L182.008 674.773 L182.008 685.061 L182.008 695.348 L182.008 705.635 L182.008 715.923 L182.008 726.21 L182.008 736.497 L182.008 746.785 L182.008 757.072 \n",
       "  L182.008 767.359 L182.008 777.647 L182.008 787.934 L182.008 798.221 L182.008 808.509 L182.008 818.796 L182.008 829.084 L182.008 839.371 L182.008 849.658 L182.008 859.946 \n",
       "  L182.008 870.233 L182.008 880.52 L182.008 890.808 L182.008 901.095 L182.008 911.382 L182.008 921.67 L182.008 931.957 L182.008 942.245 L182.008 952.532 L182.008 962.819 \n",
       "  L182.008 973.107 L182.008 983.394 L182.008 993.681 L182.008 1003.97 L182.008 1014.26 L182.008 1024.54 L182.008 1034.83 L182.008 1045.12 L182.008 1055.41 L182.008 1065.69 \n",
       "  L182.008 1075.98 L182.008 1086.27 L182.008 1096.55 L182.008 1106.84 L182.008 1117.13 L182.008 1127.42 L182.008 1137.7 L182.008 1147.99 L182.008 1158.28 L182.008 1168.57 \n",
       "  L182.008 1178.85 L182.008 1189.14 L182.008 1199.43 L182.008 1209.72 L182.008 1220 L182.008 1230.29 L182.008 1240.58 L182.008 1250.87 L182.008 1261.15 L182.008 1271.44 \n",
       "  L182.008 1281.73 L182.008 1292.01 L182.008 1302.3 L182.008 1312.59 L182.008 1322.88 L182.008 1333.16 L182.008 1343.45 L182.008 1353.74 L182.008 1364.03 L182.008 1374.31 \n",
       "  L182.008 1384.6 L182.008 1394.89 L182.008 1405.18 L182.008 1415.46 L182.008 1425.75 L182.008 1436.04 L182.008 1446.33 L182.008 1456.61 L182.008 1466.9 L182.008 1477.19 \n",
       "  L182.008 1487.47 L182.008 1487.47 L182.008 1487.47  Z\n",
       "  \" fill=\"#000003\" fill-rule=\"evenodd\" fill-opacity=\"1\"/>\n",
       "<path clip-path=\"url(#clip2502)\" d=\"\n",
       "M954.307 1487.47 L968.098 1487.47 L981.889 1487.47 L995.68 1487.47 L1009.47 1487.47 L1023.26 1487.47 L1037.05 1487.47 L1050.84 1487.47 L1064.64 1487.47 L1078.43 1487.47 \n",
       "  L1092.22 1487.47 L1106.01 1487.47 L1119.8 1487.47 L1133.59 1487.47 L1147.38 1487.47 L1147.38 1487.47 L1155.85 1487.47 L1161.17 1483.24 L1168.04 1477.19 L1174.96 1470.98 \n",
       "  L1179.17 1466.9 L1188.76 1457.34 L1189.44 1456.61 L1199.05 1446.33 L1202.55 1442.47 L1208.12 1436.04 L1216.34 1426.11 L1216.63 1425.75 L1224.83 1415.46 L1230.13 1408.46 \n",
       "  L1232.58 1405.18 L1240.05 1394.89 L1243.92 1389.32 L1247.2 1384.6 L1254.09 1374.31 L1257.71 1368.66 L1260.72 1364.03 L1267.16 1353.74 L1271.5 1346.41 L1273.3 1343.45 \n",
       "  L1279.4 1333.16 L1285.06 1322.88 L1285.29 1322.46 L1290.89 1312.59 L1296.33 1302.3 L1299.08 1296.85 L1301.66 1292.01 L1306.95 1281.73 L1311.86 1271.44 L1312.87 1269.26 \n",
       "  L1316.91 1261.15 L1321.75 1250.87 L1326.25 1240.58 L1326.67 1239.61 L1331 1230.29 L1335.49 1220 L1339.67 1209.72 L1340.46 1207.73 L1344.07 1199.43 L1348.29 1189.14 \n",
       "  L1352.22 1178.85 L1354.25 1173.33 L1356.18 1168.57 L1360.2 1158.28 L1363.96 1147.99 L1367.47 1137.7 L1368.04 1136.01 L1371.26 1127.42 L1374.89 1117.13 L1378.29 1106.84 \n",
       "  L1381.47 1096.55 L1381.83 1095.38 L1384.96 1086.27 L1388.3 1075.98 L1391.42 1065.69 L1394.35 1055.41 L1395.62 1050.8 L1397.41 1045.12 L1400.51 1034.83 L1403.43 1024.54 \n",
       "  L1406.17 1014.26 L1408.75 1003.97 L1409.41 1001.25 L1411.55 993.681 L1414.3 983.394 L1416.9 973.107 L1419.34 962.819 L1421.65 952.532 L1423.2 945.26 L1423.96 942.245 \n",
       "  L1426.45 931.957 L1428.79 921.67 L1431.01 911.382 L1433.1 901.095 L1435.07 890.808 L1436.93 880.52 L1436.99 880.145 L1439.06 870.233 L1441.08 859.946 L1442.99 849.658 \n",
       "  L1444.8 839.371 L1446.5 829.084 L1448.11 818.796 L1449.62 808.509 L1450.79 800.192 L1451.12 798.221 L1452.77 787.934 L1454.33 777.647 L1455.79 767.359 L1457.17 757.072 \n",
       "  L1458.47 746.785 L1459.68 736.497 L1460.83 726.21 L1461.9 715.923 L1462.9 705.635 L1463.83 695.348 L1464.58 686.618 L1464.74 685.061 L1465.73 674.773 L1466.64 664.486 \n",
       "  L1467.49 654.198 L1468.26 643.911 L1468.96 633.624 L1469.6 623.336 L1470.17 613.049 L1470.67 602.762 L1471.12 592.474 L1471.49 582.187 L1471.81 571.9 L1472.06 561.612 \n",
       "  L1472.25 551.325 L1472.38 541.037 L1472.45 530.75 L1472.45 520.463 L1472.38 510.175 L1472.25 499.888 L1472.06 489.601 L1471.79 479.313 L1471.45 469.026 L1471.04 458.739 \n",
       "  L1470.56 448.451 L1469.99 438.164 L1469.34 427.876 L1468.61 417.589 L1467.79 407.302 L1466.88 397.014 L1465.87 386.727 L1464.76 376.44 L1464.58 374.882 L1463.69 366.152 \n",
       "  L1462.55 355.865 L1461.3 345.578 L1459.95 335.29 L1458.47 325.003 L1456.86 314.715 L1455.12 304.428 L1453.24 294.141 L1451.2 283.853 L1450.79 281.882 L1449.21 273.566 \n",
       "  L1447.12 263.279 L1444.86 252.991 L1442.4 242.704 L1439.75 232.417 L1436.99 222.505 L1436.9 222.129 L1434.12 211.842 L1431.1 201.555 L1427.83 191.267 L1424.29 180.98 \n",
       "  L1423.2 177.965 L1420.68 170.692 L1416.85 160.405 L1412.69 150.118 L1409.41 142.553 L1408.25 139.83 L1403.63 129.543 L1398.58 119.256 L1395.62 113.577 L1393.18 108.968 \n",
       "  L1387.4 98.6809 L1381.83 89.5678 L1381.08 88.3935 L1374.25 78.1062 L1368.04 69.5098 L1366.72 67.8188 L1358.37 57.5315 L1354.25 52.7673 L1348.93 47.2441 L1340.46 47.2441 \n",
       "  L1340.46 47.2441 L1326.67 47.2441 L1312.87 47.2441 L1299.08 47.2441 L1285.29 47.2441 L1271.5 47.2441 L1257.71 47.2441 L1243.92 47.2441 L1230.13 47.2441 L1216.34 47.2441 \n",
       "  L1202.55 47.2441 L1188.76 47.2441 L1174.96 47.2441 L1161.17 47.2441 L1147.38 47.2441 L1133.59 47.2441 L1138.91 47.2441 L1133.59 51.4756 L1126.73 57.5315 L1119.8 63.7349 \n",
       "  L1115.6 67.8188 L1106.01 77.3754 L1105.32 78.1062 L1095.71 88.3935 L1092.22 92.2476 L1086.65 98.6809 L1078.43 108.61 L1078.14 108.968 L1069.93 119.256 L1064.64 126.255 \n",
       "  L1062.18 129.543 L1054.71 139.83 L1050.84 145.4 L1047.56 150.118 L1040.68 160.405 L1037.05 166.061 L1034.04 170.692 L1027.6 180.98 L1023.26 188.312 L1021.46 191.267 \n",
       "  L1015.36 201.555 L1009.7 211.842 L1009.47 212.26 L1003.87 222.129 L998.439 232.417 L995.68 237.87 L993.099 242.704 L987.818 252.991 L982.906 263.279 L981.889 265.46 \n",
       "  L977.849 273.566 L973.016 283.853 L968.515 294.141 L968.098 295.109 L963.761 304.428 L959.276 314.715 L955.095 325.003 L954.307 326.986 L950.697 335.29 L946.479 345.578 \n",
       "  L942.542 355.865 L940.516 361.388 L938.581 366.152 L934.56 376.44 L930.804 386.727 L927.29 397.014 L926.725 398.705 L923.509 407.302 L919.877 417.589 L916.477 427.876 \n",
       "  L913.29 438.164 L912.934 439.338 L909.801 448.451 L906.469 458.739 L903.343 469.026 L900.409 479.313 L899.143 483.922 L897.355 489.601 L894.25 499.888 L891.335 510.175 \n",
       "  L888.594 520.463 L886.014 530.75 L885.352 533.473 L883.219 541.037 L880.46 551.325 L877.864 561.612 L875.419 571.9 L873.114 582.187 L871.561 589.459 L870.806 592.474 \n",
       "  L868.316 602.762 L865.969 613.049 L863.757 623.336 L861.669 633.624 L859.698 643.911 L857.836 654.198 L857.77 654.574 L855.704 664.486 L853.679 674.773 L851.769 685.061 \n",
       "  L849.967 695.348 L848.265 705.635 L846.659 715.923 L845.142 726.21 L843.979 734.526 L843.649 736.497 L841.995 746.785 L840.438 757.072 L838.973 767.359 L837.594 777.647 \n",
       "  L836.298 787.934 L835.081 798.221 L833.938 808.509 L832.868 818.796 L831.865 829.084 L830.929 839.371 L830.188 848.101 L830.028 849.658 L829.037 859.946 L828.122 870.233 \n",
       "  L827.279 880.52 L826.507 890.808 L825.803 901.095 L825.167 911.382 L824.596 921.67 L824.09 931.957 L823.648 942.245 L823.27 952.532 L822.954 962.819 L822.7 973.107 \n",
       "  L822.509 983.394 L822.381 993.681 L822.316 1003.97 L822.315 1014.26 L822.38 1024.54 L822.51 1034.83 L822.707 1045.12 L822.974 1055.41 L823.312 1065.69 L823.722 1075.98 \n",
       "  L824.209 1086.27 L824.774 1096.55 L825.42 1106.84 L826.151 1117.13 L826.971 1127.42 L827.884 1137.7 L828.894 1147.99 L830.006 1158.28 L830.188 1159.84 L831.073 1168.57 \n",
       "  L832.213 1178.85 L833.459 1189.14 L834.817 1199.43 L836.295 1209.72 L837.901 1220 L839.641 1230.29 L841.527 1240.58 L843.567 1250.87 L843.979 1252.84 L845.55 1261.15 \n",
       "  L847.642 1271.44 L849.908 1281.73 L852.359 1292.01 L855.011 1302.3 L857.77 1312.21 L857.867 1312.59 L860.648 1322.88 L863.662 1333.16 L866.93 1343.45 L870.473 1353.74 \n",
       "  L871.561 1356.75 L874.084 1364.03 L877.91 1374.31 L882.071 1384.6 L885.352 1392.17 L886.518 1394.89 L891.139 1405.18 L896.183 1415.46 L899.143 1421.14 L901.584 1425.75 \n",
       "  L907.363 1436.04 L912.934 1445.15 L913.684 1446.33 L920.513 1456.61 L926.725 1465.21 L928.04 1466.9 L936.398 1477.19 L940.516 1481.95 L945.835 1487.47 L940.516 1487.47 \n",
       "  L954.307 1487.47  Z\n",
       "  \" fill=\"#0c0727\" fill-rule=\"evenodd\" fill-opacity=\"1\"/>\n",
       "<path clip-path=\"url(#clip2502)\" d=\"\n",
       "M1037.05 1428.64 L1050.84 1430.57 L1064.64 1430.67 L1078.43 1429.02 L1091.86 1425.75 L1092.22 1425.67 L1106.01 1420.82 L1117.3 1415.46 L1119.8 1414.31 L1133.59 1406.3 \n",
       "  L1135.21 1405.18 L1147.38 1396.78 L1149.75 1394.89 L1161.17 1385.72 L1162.41 1384.6 L1173.71 1374.31 L1174.96 1373.16 L1184 1364.03 L1188.76 1359.1 L1193.56 1353.74 \n",
       "  L1202.47 1343.45 L1202.55 1343.37 L1210.87 1333.16 L1216.34 1326.15 L1218.8 1322.88 L1226.34 1312.59 L1230.13 1307.22 L1233.53 1302.3 L1240.41 1292.01 L1243.92 1286.55 \n",
       "  L1247 1281.73 L1253.36 1271.44 L1257.71 1264.04 L1259.42 1261.15 L1265.38 1250.87 L1270.96 1240.58 L1271.5 1239.57 L1276.57 1230.29 L1281.87 1220 L1285.29 1213.05 \n",
       "  L1286.99 1209.72 L1292.09 1199.43 L1296.88 1189.14 L1299.08 1184.22 L1301.61 1178.85 L1306.27 1168.57 L1310.65 1158.28 L1312.87 1152.84 L1314.99 1147.99 L1319.3 1137.7 \n",
       "  L1323.36 1127.42 L1326.67 1118.57 L1327.25 1117.13 L1331.3 1106.84 L1335.11 1096.55 L1338.69 1086.27 L1340.46 1081.01 L1342.3 1075.98 L1345.92 1065.69 L1349.34 1055.41 \n",
       "  L1352.55 1045.12 L1354.25 1039.47 L1355.79 1034.83 L1359.08 1024.54 L1362.17 1014.26 L1365.1 1003.97 L1367.86 993.681 L1368.04 993.008 L1370.86 983.394 L1373.71 973.107 \n",
       "  L1376.4 962.819 L1378.94 952.532 L1381.35 942.245 L1381.83 940.126 L1383.92 931.957 L1386.43 921.67 L1388.79 911.382 L1391.03 901.095 L1393.15 890.808 L1395.15 880.52 \n",
       "  L1395.62 878.023 L1397.29 870.233 L1399.39 859.946 L1401.37 849.658 L1403.24 839.371 L1405.01 829.084 L1406.68 818.796 L1408.25 808.509 L1409.41 800.529 L1409.8 798.221 \n",
       "  L1411.45 787.934 L1413 777.647 L1414.45 767.359 L1415.82 757.072 L1417.1 746.785 L1418.3 736.497 L1419.42 726.21 L1420.47 715.923 L1421.44 705.635 L1422.34 695.348 \n",
       "  L1423.17 685.061 L1423.2 684.614 L1424.06 674.773 L1424.87 664.486 L1425.61 654.198 L1426.27 643.911 L1426.86 633.624 L1427.37 623.336 L1427.8 613.049 L1428.16 602.762 \n",
       "  L1428.45 592.474 L1428.67 582.187 L1428.81 571.9 L1428.87 561.612 L1428.86 551.325 L1428.77 541.037 L1428.61 530.75 L1428.36 520.463 L1428.03 510.175 L1427.62 499.888 \n",
       "  L1427.11 489.601 L1426.52 479.313 L1425.83 469.026 L1425.05 458.739 L1424.16 448.451 L1423.2 438.611 L1423.16 438.164 L1422.19 427.876 L1421.1 417.589 L1419.9 407.302 \n",
       "  L1418.58 397.014 L1417.13 386.727 L1415.55 376.44 L1413.82 366.152 L1411.94 355.865 L1409.9 345.578 L1409.41 343.27 L1407.84 335.29 L1405.65 325.003 L1403.27 314.715 \n",
       "  L1400.69 304.428 L1397.9 294.141 L1395.62 286.351 L1394.92 283.853 L1391.85 273.566 L1388.53 263.279 L1384.92 252.991 L1381.83 244.823 L1381.03 242.704 L1376.96 232.417 \n",
       "  L1372.53 222.129 L1368.04 212.515 L1367.72 211.842 L1362.57 201.555 L1356.94 191.267 L1354.25 186.623 L1350.77 180.98 L1343.99 170.692 L1340.46 165.659 L1336.4 160.405 \n",
       "  L1327.91 150.118 L1326.67 148.678 L1317.94 139.83 L1312.87 134.98 L1306.08 129.543 L1299.08 124.177 L1290.95 119.256 L1285.29 115.921 L1271.5 109.979 L1267.92 108.968 \n",
       "  L1257.71 106.082 L1243.92 104.146 L1230.13 104.049 L1216.34 105.697 L1202.91 108.968 L1202.55 109.052 L1188.76 113.899 L1177.46 119.256 L1174.96 120.411 L1161.17 128.423 \n",
       "  L1159.56 129.543 L1147.38 137.939 L1145.01 139.83 L1133.59 148.997 L1132.35 150.118 L1121.06 160.405 L1119.8 161.561 L1110.77 170.692 L1106.01 175.623 L1101.2 180.98 \n",
       "  L1092.29 191.267 L1092.22 191.351 L1083.9 201.555 L1078.43 208.571 L1075.97 211.842 L1068.43 222.129 L1064.64 227.498 L1061.23 232.417 L1054.36 242.704 L1050.84 248.169 \n",
       "  L1047.76 252.991 L1041.41 263.279 L1037.05 270.68 L1035.34 273.566 L1029.39 283.853 L1023.8 294.141 L1023.26 295.151 L1018.19 304.428 L1012.89 314.715 L1009.47 321.668 \n",
       "  L1007.77 325.003 L1002.67 335.29 L997.886 345.578 L995.68 350.498 L993.151 355.865 L988.49 366.152 L984.113 376.44 L981.889 381.877 L979.777 386.727 L975.46 397.014 \n",
       "  L971.402 407.302 L968.098 416.15 L967.519 417.589 L963.467 427.876 L959.657 438.164 L956.07 448.451 L954.307 453.705 L952.465 458.739 L948.841 469.026 L945.429 479.313 \n",
       "  L942.211 489.601 L940.516 495.244 L938.976 499.888 L935.689 510.175 L932.589 520.463 L929.665 530.75 L926.902 541.037 L926.725 541.711 L923.908 551.325 L921.057 561.612 \n",
       "  L918.365 571.9 L915.821 582.187 L913.415 592.474 L912.934 594.593 L910.842 602.762 L908.336 613.049 L905.969 623.336 L903.731 633.624 L901.615 643.911 L899.612 654.198 \n",
       "  L899.143 656.696 L897.472 664.486 L895.374 674.773 L893.394 685.061 L891.523 695.348 L889.756 705.635 L888.087 715.923 L886.511 726.21 L885.352 734.19 L884.965 736.497 \n",
       "  L883.317 746.785 L881.766 757.072 L880.31 767.359 L878.942 777.647 L877.661 787.934 L876.461 798.221 L875.34 808.509 L874.296 818.796 L873.325 829.084 L872.425 839.371 \n",
       "  L871.594 849.658 L871.561 850.105 L870.705 859.946 L869.89 870.233 L869.153 880.52 L868.493 890.808 L867.908 901.095 L867.399 911.382 L866.963 921.67 L866.601 931.957 \n",
       "  L866.313 942.245 L866.098 952.532 L865.958 962.819 L865.893 973.107 L865.903 983.394 L865.991 993.681 L866.157 1003.97 L866.404 1014.26 L866.734 1024.54 L867.148 1034.83 \n",
       "  L867.651 1045.12 L868.244 1055.41 L868.932 1065.69 L869.719 1075.98 L870.608 1086.27 L871.561 1096.11 L871.6 1096.55 L872.578 1106.84 L873.665 1117.13 L874.865 1127.42 \n",
       "  L876.185 1137.7 L877.633 1147.99 L879.216 1158.28 L880.943 1168.57 L882.823 1178.85 L884.866 1189.14 L885.352 1191.45 L886.925 1199.43 L889.113 1209.72 L891.491 1220 \n",
       "  L894.071 1230.29 L896.868 1240.58 L899.143 1248.37 L899.848 1250.87 L902.91 1261.15 L906.236 1271.44 L909.849 1281.73 L912.934 1289.9 L913.732 1292.01 L917.799 1302.3 \n",
       "  L922.23 1312.59 L926.725 1322.2 L927.048 1322.88 L932.195 1333.16 L937.823 1343.45 L940.516 1348.1 L943.992 1353.74 L950.774 1364.03 L954.307 1369.06 L958.359 1374.31 \n",
       "  L966.858 1384.6 L968.098 1386.04 L976.82 1394.89 L981.889 1399.74 L988.684 1405.18 L995.68 1410.54 L1003.81 1415.46 L1009.47 1418.8 L1023.26 1424.74 L1026.85 1425.75 \n",
       "  L1037.05 1428.64  Z\n",
       "  \" fill=\"#240b4e\" fill-rule=\"evenodd\" fill-opacity=\"1\"/>\n",
       "<path clip-path=\"url(#clip2502)\" d=\"\n",
       "M1037.05 1357.56 L1050.84 1361.15 L1064.64 1362.58 L1078.43 1362.03 L1092.22 1359.6 L1106.01 1355.3 L1109.54 1353.74 L1119.8 1349.3 L1130.14 1343.45 L1133.59 1341.53 \n",
       "  L1145.79 1333.16 L1147.38 1332.08 L1158.8 1322.88 L1161.17 1320.96 L1170.23 1312.59 L1174.96 1308.15 L1180.58 1302.3 L1188.76 1293.58 L1190.11 1292.01 L1198.88 1281.73 \n",
       "  L1202.55 1277.3 L1207.12 1271.44 L1214.86 1261.15 L1216.34 1259.16 L1222.22 1250.87 L1229.17 1240.58 L1230.13 1239.13 L1235.86 1230.29 L1242.19 1220 L1243.92 1217.12 \n",
       "  L1248.33 1209.72 L1254.18 1199.43 L1257.71 1192.96 L1259.81 1189.14 L1265.29 1178.85 L1270.47 1168.57 L1271.5 1166.46 L1275.61 1158.28 L1280.52 1147.99 L1285.15 1137.7 \n",
       "  L1285.29 1137.39 L1289.87 1127.42 L1294.33 1117.13 L1298.53 1106.84 L1299.08 1105.47 L1302.83 1096.55 L1306.92 1086.27 L1310.79 1075.98 L1312.87 1070.23 L1314.62 1065.69 \n",
       "  L1318.43 1055.41 L1322.04 1045.12 L1325.45 1034.83 L1326.67 1031.03 L1328.9 1024.54 L1332.3 1014.26 L1335.51 1003.97 L1338.55 993.681 L1340.46 986.94 L1341.55 983.394 \n",
       "  L1344.61 973.107 L1347.5 962.819 L1350.25 952.532 L1352.84 942.245 L1354.25 936.436 L1355.44 931.957 L1358.08 921.67 L1360.57 911.382 L1362.93 901.095 L1365.17 890.808 \n",
       "  L1367.28 880.52 L1368.04 876.704 L1369.46 870.233 L1371.62 859.946 L1373.66 849.658 L1375.59 839.371 L1377.41 829.084 L1379.13 818.796 L1380.75 808.509 L1381.83 801.296 \n",
       "  L1382.35 798.221 L1383.99 787.934 L1385.54 777.647 L1386.99 767.359 L1388.35 757.072 L1389.62 746.785 L1390.8 736.497 L1391.9 726.21 L1392.92 715.923 L1393.86 705.635 \n",
       "  L1394.72 695.348 L1395.51 685.061 L1395.62 683.528 L1396.31 674.773 L1397.05 664.486 L1397.69 654.198 L1398.26 643.911 L1398.74 633.624 L1399.13 623.336 L1399.45 613.049 \n",
       "  L1399.68 602.762 L1399.83 592.474 L1399.9 582.187 L1399.88 571.9 L1399.77 561.612 L1399.58 551.325 L1399.29 541.037 L1398.91 530.75 L1398.43 520.463 L1397.86 510.175 \n",
       "  L1397.18 499.888 L1396.39 489.601 L1395.62 480.845 L1395.5 479.313 L1394.58 469.026 L1393.54 458.739 L1392.38 448.451 L1391.1 438.164 L1389.68 427.876 L1388.12 417.589 \n",
       "  L1386.41 407.302 L1384.53 397.014 L1382.48 386.727 L1381.83 383.652 L1380.36 376.44 L1378.09 366.152 L1375.62 355.865 L1372.93 345.578 L1370.01 335.29 L1368.04 328.819 \n",
       "  L1366.89 325.003 L1363.58 314.715 L1359.98 304.428 L1356.06 294.141 L1354.25 289.662 L1351.84 283.853 L1347.26 273.566 L1342.27 263.279 L1340.46 259.733 L1336.79 252.991 \n",
       "  L1330.75 242.704 L1326.67 236.219 L1324.03 232.417 L1316.44 222.129 L1312.87 217.589 L1307.69 211.842 L1299.08 202.926 L1297.49 201.555 L1285.29 191.581 L1284.8 191.267 \n",
       "  L1271.5 183.084 L1266.66 180.98 L1257.71 177.157 L1243.92 173.572 L1230.13 172.139 L1216.34 172.687 L1202.55 175.121 L1188.76 179.415 L1185.23 180.98 L1174.96 185.419 \n",
       "  L1164.62 191.267 L1161.17 193.186 L1148.98 201.555 L1147.38 202.642 L1135.96 211.842 L1133.59 213.761 L1124.53 222.129 L1119.8 226.568 L1114.18 232.417 L1106.01 241.139 \n",
       "  L1104.66 242.704 L1095.89 252.991 L1092.22 257.42 L1087.65 263.279 L1079.9 273.566 L1078.43 275.561 L1072.55 283.853 L1065.6 294.141 L1064.64 295.587 L1058.91 304.428 \n",
       "  L1052.57 314.715 L1050.84 317.595 L1046.43 325.003 L1040.58 335.29 L1037.05 341.755 L1034.95 345.578 L1029.47 355.865 L1024.3 366.152 L1023.26 368.256 L1019.16 376.44 \n",
       "  L1014.25 386.727 L1009.61 397.014 L1009.47 397.328 L1004.9 407.302 L1000.44 417.589 L996.23 427.876 L995.68 429.248 L991.938 438.164 L987.84 448.451 L983.969 458.739 \n",
       "  L981.889 464.486 L980.145 469.026 L976.331 479.313 L972.726 489.601 L969.318 499.888 L968.098 503.69 L965.863 510.175 L962.466 520.463 L959.255 530.75 L956.215 541.037 \n",
       "  L954.307 547.779 L953.216 551.325 L950.155 561.612 L947.259 571.9 L944.519 582.187 L941.923 592.474 L940.516 598.283 L939.323 602.762 L936.687 613.049 L934.192 623.336 \n",
       "  L931.832 633.624 L929.597 643.911 L927.48 654.198 L926.725 658.014 L925.301 664.486 L923.142 674.773 L921.102 685.061 L919.175 695.348 L917.354 705.635 L915.635 715.923 \n",
       "  L914.012 726.21 L912.934 733.422 L912.417 736.497 L910.77 746.785 L909.223 757.072 L907.773 767.359 L906.415 777.647 L905.146 787.934 L903.963 798.221 L902.863 808.509 \n",
       "  L901.844 818.796 L900.903 829.084 L900.039 839.371 L899.25 849.658 L899.143 851.19 L898.449 859.946 L897.718 870.233 L897.072 880.52 L896.509 890.808 L896.028 901.095 \n",
       "  L895.629 911.382 L895.313 921.67 L895.08 931.957 L894.93 942.245 L894.864 952.532 L894.884 962.819 L894.99 973.107 L895.186 983.394 L895.473 993.681 L895.853 1003.97 \n",
       "  L896.33 1014.26 L896.908 1024.54 L897.589 1034.83 L898.378 1045.12 L899.143 1053.87 L899.266 1055.41 L900.187 1065.69 L901.223 1075.98 L902.379 1086.27 L903.664 1096.55 \n",
       "  L905.083 1106.84 L906.645 1117.13 L908.358 1127.42 L910.234 1137.7 L912.281 1147.99 L912.934 1151.07 L914.404 1158.28 L916.671 1168.57 L919.142 1178.85 L921.831 1189.14 \n",
       "  L924.755 1199.43 L926.725 1205.9 L927.879 1209.72 L931.186 1220 L934.787 1230.29 L938.706 1240.58 L940.516 1245.06 L942.927 1250.87 L947.499 1261.15 L952.49 1271.44 \n",
       "  L954.307 1274.99 L957.978 1281.73 L964.013 1292.01 L968.098 1298.5 L970.735 1302.3 L978.322 1312.59 L981.889 1317.13 L987.074 1322.88 L995.68 1331.79 L997.274 1333.16 \n",
       "  L1009.47 1343.14 L1009.96 1343.45 L1023.26 1351.63 L1028.1 1353.74 L1037.05 1357.56  Z\n",
       "  \" fill=\"#420a67\" fill-rule=\"evenodd\" fill-opacity=\"1\"/>\n",
       "<path clip-path=\"url(#clip2502)\" d=\"\n",
       "M1050.84 1305.67 L1064.64 1308.49 L1078.43 1309.01 L1092.22 1307.39 L1106.01 1303.72 L1109.45 1302.3 L1119.8 1298.14 L1131.01 1292.01 L1133.59 1290.63 L1146.68 1281.73 \n",
       "  L1147.38 1281.25 L1159.47 1271.44 L1161.17 1270.05 L1170.62 1261.15 L1174.96 1256.99 L1180.68 1250.87 L1188.76 1242 L1189.94 1240.58 L1198.4 1230.29 L1202.55 1225.09 \n",
       "  L1206.35 1220 L1213.8 1209.72 L1216.34 1206.13 L1220.86 1199.43 L1227.54 1189.14 L1230.13 1185.04 L1233.92 1178.85 L1240 1168.57 L1243.92 1161.65 L1245.81 1158.28 \n",
       "  L1251.42 1147.99 L1256.73 1137.7 L1257.71 1135.77 L1261.94 1127.42 L1266.92 1117.13 L1271.5 1107.13 L1271.64 1106.84 L1276.35 1096.55 L1280.82 1086.27 L1285.05 1075.98 \n",
       "  L1285.29 1075.38 L1289.33 1065.69 L1293.39 1055.41 L1297.24 1045.12 L1299.08 1040 L1301.04 1034.83 L1304.78 1024.54 L1308.32 1014.26 L1311.68 1003.97 L1312.87 1000.19 \n",
       "  L1315.05 993.681 L1318.35 983.394 L1321.48 973.107 L1324.44 962.819 L1326.67 954.739 L1327.32 952.532 L1330.26 942.245 L1333.04 931.957 L1335.68 921.67 L1338.18 911.382 \n",
       "  L1340.46 901.537 L1340.57 901.095 L1343.06 890.808 L1345.43 880.52 L1347.66 870.233 L1349.78 859.946 L1351.78 849.658 L1353.68 839.371 L1354.25 836.127 L1355.61 829.084 \n",
       "  L1357.49 818.796 L1359.27 808.509 L1360.94 798.221 L1362.5 787.934 L1363.98 777.647 L1365.35 767.359 L1366.64 757.072 L1367.85 746.785 L1368.04 745.016 L1369.07 736.497 \n",
       "  L1370.22 726.21 L1371.28 715.923 L1372.25 705.635 L1373.13 695.348 L1373.92 685.061 L1374.63 674.773 L1375.25 664.486 L1375.78 654.198 L1376.23 643.911 L1376.59 633.624 \n",
       "  L1376.86 623.336 L1377.05 613.049 L1377.15 602.762 L1377.16 592.474 L1377.08 582.187 L1376.91 571.9 L1376.64 561.612 L1376.27 551.325 L1375.8 541.037 L1375.22 530.75 \n",
       "  L1374.53 520.463 L1373.73 510.175 L1372.81 499.888 L1371.76 489.601 L1370.57 479.313 L1369.25 469.026 L1368.04 460.507 L1367.8 458.739 L1366.28 448.451 L1364.59 438.164 \n",
       "  L1362.74 427.876 L1360.71 417.589 L1358.48 407.302 L1356.05 397.014 L1354.25 389.971 L1353.42 386.727 L1350.63 376.44 L1347.58 366.152 L1344.25 355.865 L1340.62 345.578 \n",
       "  L1340.46 345.135 L1336.7 335.29 L1332.41 325.003 L1327.72 314.715 L1326.67 312.509 L1322.51 304.428 L1316.78 294.141 L1312.87 287.635 L1310.35 283.853 L1303.03 273.566 \n",
       "  L1299.08 268.392 L1294.54 263.279 L1285.29 253.587 L1284.59 252.991 L1271.88 242.704 L1271.5 242.415 L1257.71 234.349 L1252.75 232.417 L1243.92 229.044 L1230.13 226.232 \n",
       "  L1216.34 225.713 L1202.55 227.328 L1188.76 230.998 L1185.31 232.417 L1174.96 236.574 L1163.75 242.704 L1161.17 244.091 L1148.08 252.991 L1147.38 253.464 L1135.29 263.279 \n",
       "  L1133.59 264.666 L1124.15 273.566 L1119.8 277.724 L1114.08 283.853 L1106.01 292.722 L1104.83 294.141 L1096.37 304.428 L1092.22 309.627 L1088.42 314.715 L1080.96 325.003 \n",
       "  L1078.43 328.587 L1073.91 335.29 L1067.23 345.578 L1064.64 349.681 L1060.84 355.865 L1054.77 366.152 L1050.84 373.067 L1048.96 376.44 L1043.35 386.727 L1038.03 397.014 \n",
       "  L1037.05 398.947 L1032.82 407.302 L1027.85 417.589 L1023.26 427.588 L1023.13 427.876 L1018.41 438.164 L1013.94 448.451 L1009.71 458.739 L1009.47 459.334 L1005.44 469.026 \n",
       "  L1001.38 479.313 L997.527 489.601 L995.68 494.714 L993.728 499.888 L989.989 510.175 L986.445 520.463 L983.085 530.75 L981.889 534.531 L979.713 541.037 L976.414 551.325 \n",
       "  L973.287 561.612 L970.322 571.9 L968.098 579.98 L967.447 582.187 L964.508 592.474 L961.724 602.762 L959.084 613.049 L956.582 623.336 L954.307 633.182 L954.196 633.624 \n",
       "  L951.699 643.911 L949.336 654.198 L947.1 664.486 L944.984 674.773 L942.982 685.061 L941.088 695.348 L940.516 698.592 L939.155 705.635 L937.272 715.923 L935.498 726.21 \n",
       "  L933.828 736.497 L932.26 746.785 L930.788 757.072 L929.409 767.359 L928.12 777.647 L926.918 787.934 L926.725 789.703 L925.693 798.221 L924.54 808.509 L923.48 818.796 \n",
       "  L922.512 829.084 L921.633 839.371 L920.841 849.658 L920.137 859.946 L919.518 870.233 L918.985 880.52 L918.538 890.808 L918.176 901.095 L917.9 911.382 L917.711 921.67 \n",
       "  L917.61 931.957 L917.599 942.245 L917.679 952.532 L917.853 962.819 L918.123 973.107 L918.492 983.394 L918.964 993.681 L919.542 1003.97 L920.23 1014.26 L921.034 1024.54 \n",
       "  L921.957 1034.83 L923.008 1045.12 L924.19 1055.41 L925.513 1065.69 L926.725 1074.21 L926.966 1075.98 L928.488 1086.27 L930.17 1096.55 L932.022 1106.84 L934.056 1117.13 \n",
       "  L936.283 1127.42 L938.716 1137.7 L940.516 1144.75 L941.341 1147.99 L944.135 1158.28 L947.187 1168.57 L950.516 1178.85 L954.144 1189.14 L954.307 1189.58 L958.069 1199.43 \n",
       "  L962.357 1209.72 L967.04 1220 L968.098 1222.21 L972.249 1230.29 L977.986 1240.58 L981.889 1247.08 L984.413 1250.87 L991.735 1261.15 L995.68 1266.33 L1000.22 1271.44 \n",
       "  L1009.47 1281.13 L1010.17 1281.73 L1022.89 1292.01 L1023.26 1292.3 L1037.05 1300.37 L1042.01 1302.3 L1050.84 1305.67  Z\n",
       "  \" fill=\"#5d126d\" fill-rule=\"evenodd\" fill-opacity=\"1\"/>\n",
       "<path clip-path=\"url(#clip2502)\" d=\"\n",
       "M1064.64 1261.85 L1078.43 1263.52 L1092.22 1262.77 L1099.49 1261.15 L1106.01 1259.76 L1119.8 1254.62 L1126.9 1250.87 L1133.59 1247.38 L1143.69 1240.58 L1147.38 1238.1 \n",
       "  L1156.93 1230.29 L1161.17 1226.81 L1168.26 1220 L1174.96 1213.47 L1178.37 1209.72 L1187.53 1199.43 L1188.76 1198.03 L1195.86 1189.14 L1202.55 1180.47 L1203.7 1178.85 \n",
       "  L1210.96 1168.57 L1216.34 1160.65 L1217.86 1158.28 L1224.35 1147.99 L1230.13 1138.41 L1230.54 1137.7 L1236.43 1127.42 L1242.04 1117.13 L1243.92 1113.58 L1247.44 1106.84 \n",
       "  L1252.6 1096.55 L1257.51 1086.27 L1257.71 1085.83 L1262.32 1075.98 L1266.9 1065.69 L1271.25 1055.41 L1271.5 1054.81 L1275.57 1045.12 L1279.69 1034.83 L1283.59 1024.54 \n",
       "  L1285.29 1019.92 L1287.43 1014.26 L1291.17 1003.97 L1294.72 993.681 L1298.09 983.394 L1299.08 980.276 L1301.46 973.107 L1304.72 962.819 L1307.81 952.532 L1310.75 942.245 \n",
       "  L1312.87 934.454 L1313.59 931.957 L1316.46 921.67 L1319.17 911.382 L1321.75 901.095 L1324.19 890.808 L1326.51 880.52 L1326.67 879.801 L1328.89 870.233 L1331.15 859.946 \n",
       "  L1333.29 849.658 L1335.31 839.371 L1337.22 829.084 L1339.02 818.796 L1340.46 810.099 L1340.74 808.509 L1342.49 798.221 L1344.13 787.934 L1345.66 777.647 L1347.09 767.359 \n",
       "  L1348.42 757.072 L1349.66 746.785 L1350.8 736.497 L1351.85 726.21 L1352.81 715.923 L1353.68 705.635 L1354.25 698.184 L1354.48 695.348 L1355.24 685.061 L1355.9 674.773 \n",
       "  L1356.47 664.486 L1356.94 654.198 L1357.31 643.911 L1357.58 633.624 L1357.76 623.336 L1357.83 613.049 L1357.8 602.762 L1357.67 592.474 L1357.43 582.187 L1357.08 571.9 \n",
       "  L1356.62 561.612 L1356.04 551.325 L1355.34 541.037 L1354.51 530.75 L1354.25 527.914 L1353.59 520.463 L1352.55 510.175 L1351.37 499.888 L1350.04 489.601 L1348.55 479.313 \n",
       "  L1346.9 469.026 L1345.07 458.739 L1343.05 448.451 L1340.82 438.164 L1340.46 436.573 L1338.44 427.876 L1335.83 417.589 L1332.97 407.302 L1329.84 397.014 L1326.67 387.447 \n",
       "  L1326.42 386.727 L1322.66 376.44 L1318.54 366.152 L1314.03 355.865 L1312.87 353.368 L1308.95 345.578 L1303.33 335.29 L1299.08 328.121 L1297 325.003 L1289.65 314.715 \n",
       "  L1285.29 309.05 L1281.05 304.428 L1271.5 294.739 L1270.75 294.141 L1257.71 284.289 L1256.9 283.853 L1243.92 277.111 L1232.45 273.566 L1230.13 272.864 L1216.34 271.196 \n",
       "  L1202.55 271.953 L1195.27 273.566 L1188.76 274.961 L1174.96 280.1 L1167.86 283.853 L1161.17 287.336 L1151.08 294.141 L1147.38 296.617 L1137.83 304.428 L1133.59 307.911 \n",
       "  L1126.5 314.715 L1119.8 321.249 L1116.39 325.003 L1107.24 335.29 L1106.01 336.685 L1098.91 345.578 L1092.22 354.251 L1091.06 355.865 L1083.8 366.152 L1078.43 374.07 \n",
       "  L1076.9 376.44 L1070.41 386.727 L1064.64 396.313 L1064.23 397.014 L1058.33 407.302 L1052.73 417.589 L1050.84 421.134 L1047.33 427.876 L1042.17 438.164 L1037.26 448.451 \n",
       "  L1037.05 448.887 L1032.44 458.739 L1027.86 469.026 L1023.51 479.313 L1023.26 479.912 L1019.19 489.601 L1015.08 499.888 L1011.17 510.175 L1009.47 514.797 L1007.33 520.463 \n",
       "  L1003.59 530.75 L1000.05 541.037 L996.671 551.325 L995.68 554.443 L993.307 561.612 L990.048 571.9 L986.955 582.187 L984.016 592.474 L981.889 600.264 L981.17 602.762 \n",
       "  L978.306 613.049 L975.591 623.336 L973.015 633.624 L970.572 643.911 L968.255 654.198 L968.098 654.918 L965.877 664.486 L963.615 674.773 L961.476 685.061 L959.456 695.348 \n",
       "  L957.547 705.635 L955.746 715.923 L954.307 724.619 L954.023 726.21 L952.275 736.497 L950.637 746.785 L949.105 757.072 L947.674 767.359 L946.342 777.647 L945.107 787.934 \n",
       "  L943.965 798.221 L942.915 808.509 L941.955 818.796 L941.084 829.084 L940.516 836.534 L940.28 839.371 L939.521 849.658 L938.86 859.946 L938.295 870.233 L937.826 880.52 \n",
       "  L937.455 890.808 L937.182 901.095 L937.007 911.382 L936.933 921.67 L936.96 931.957 L937.092 942.245 L937.331 952.532 L937.68 962.819 L938.143 973.107 L938.723 983.394 \n",
       "  L939.425 993.681 L940.254 1003.97 L940.516 1006.81 L941.175 1014.26 L942.214 1024.54 L943.394 1034.83 L944.723 1045.12 L946.21 1055.41 L947.865 1065.69 L949.697 1075.98 \n",
       "  L951.717 1086.27 L953.94 1096.55 L954.307 1098.15 L956.325 1106.84 L958.934 1117.13 L961.794 1127.42 L964.925 1137.7 L968.098 1147.27 L968.347 1147.99 L972.107 1158.28 \n",
       "  L976.225 1168.57 L980.731 1178.85 L981.889 1181.35 L985.81 1189.14 L991.437 1199.43 L995.68 1206.6 L997.768 1209.72 L1005.11 1220 L1009.47 1225.67 L1013.71 1230.29 \n",
       "  L1023.26 1239.98 L1024.01 1240.58 L1037.05 1250.43 L1037.86 1250.87 L1050.84 1257.61 L1062.32 1261.15 L1064.64 1261.85  Z\n",
       "  \" fill=\"#781c6d\" fill-rule=\"evenodd\" fill-opacity=\"1\"/>\n",
       "<path clip-path=\"url(#clip2502)\" d=\"\n",
       "M1078.43 1222.58 L1092.22 1222.78 L1106.01 1220.45 L1107.29 1220 L1119.8 1215.78 L1131.77 1209.72 L1133.59 1208.8 L1147.38 1199.61 L1147.61 1199.43 L1160.07 1189.14 \n",
       "  L1161.17 1188.23 L1170.73 1178.85 L1174.96 1174.63 L1180.3 1168.57 L1188.76 1158.72 L1189.1 1158.28 L1196.98 1147.99 L1202.55 1140.48 L1204.45 1137.7 L1211.35 1127.42 \n",
       "  L1216.34 1119.71 L1217.91 1117.13 L1224.06 1106.84 L1229.94 1096.55 L1230.13 1096.22 L1235.51 1086.27 L1240.82 1075.98 L1243.92 1069.76 L1245.9 1065.69 L1250.78 1055.41 \n",
       "  L1255.42 1045.12 L1257.71 1039.87 L1259.9 1034.83 L1264.22 1024.54 L1268.33 1014.26 L1271.5 1005.97 L1272.28 1003.97 L1276.15 993.681 L1279.83 983.394 L1283.33 973.107 \n",
       "  L1285.29 967.131 L1286.74 962.819 L1290.07 952.532 L1293.24 942.245 L1296.25 931.957 L1299.08 921.767 L1299.11 921.67 L1302 911.382 L1304.73 901.095 L1307.33 890.808 \n",
       "  L1309.79 880.52 L1312.13 870.233 L1312.87 866.79 L1314.44 859.946 L1316.68 849.658 L1318.79 839.371 L1320.78 829.084 L1322.66 818.796 L1324.43 808.509 L1326.09 798.221 \n",
       "  L1326.67 794.423 L1327.72 787.934 L1329.28 777.647 L1330.73 767.359 L1332.08 757.072 L1333.32 746.785 L1334.46 736.497 L1335.51 726.21 L1336.45 715.923 L1337.29 705.635 \n",
       "  L1338.04 695.348 L1338.7 685.061 L1339.25 674.773 L1339.71 664.486 L1340.07 654.198 L1340.33 643.911 L1340.46 635.314 L1340.48 633.624 L1340.54 623.336 L1340.48 613.049 \n",
       "  L1340.46 611.358 L1340.32 602.762 L1340.05 592.474 L1339.65 582.187 L1339.14 571.9 L1338.5 561.612 L1337.73 551.325 L1336.81 541.037 L1335.76 530.75 L1334.55 520.463 \n",
       "  L1333.17 510.175 L1331.63 499.888 L1329.91 489.601 L1327.99 479.313 L1326.67 472.824 L1325.88 469.026 L1323.56 458.739 L1321.01 448.451 L1318.19 438.164 L1315.1 427.876 \n",
       "  L1312.87 421.032 L1311.69 417.589 L1307.89 407.302 L1303.71 397.014 L1299.13 386.727 L1299.08 386.63 L1293.8 376.44 L1287.93 366.152 L1285.29 361.841 L1281.06 355.865 \n",
       "  L1273.14 345.578 L1271.5 343.571 L1263.16 335.29 L1257.71 330.247 L1250.12 325.003 L1243.92 320.938 L1230.13 315.053 L1228.57 314.715 L1216.34 312.135 L1202.55 311.941 \n",
       "  L1188.76 314.273 L1187.48 314.715 L1174.96 318.935 L1163 325.003 L1161.17 325.914 L1147.38 335.105 L1147.16 335.29 L1134.69 345.578 L1133.59 346.489 L1124.04 355.865 \n",
       "  L1119.8 360.084 L1114.46 366.152 L1106.01 375.997 L1105.67 376.44 L1097.78 386.727 L1092.22 394.239 L1090.32 397.014 L1083.41 407.302 L1078.43 415.009 L1076.85 417.589 \n",
       "  L1070.7 427.876 L1064.83 438.164 L1064.64 438.501 L1059.26 448.451 L1053.95 458.739 L1050.84 464.961 L1048.86 469.026 L1043.99 479.313 L1039.34 489.601 L1037.05 494.845 \n",
       "  L1034.86 499.888 L1030.54 510.175 L1026.43 520.463 L1023.26 528.744 L1022.49 530.75 L1018.62 541.037 L1014.93 551.325 L1011.43 561.612 L1009.47 567.588 L1008.02 571.9 \n",
       "  L1004.69 582.187 L1001.53 592.474 L998.517 602.762 L995.68 612.952 L995.652 613.049 L992.768 623.336 L990.032 633.624 L987.436 643.911 L984.974 654.198 L982.638 664.486 \n",
       "  L981.889 667.929 L980.324 674.773 L978.087 685.061 L975.976 695.348 L973.984 705.635 L972.106 715.923 L970.338 726.21 L968.677 736.497 L968.098 740.295 L967.046 746.785 \n",
       "  L965.484 757.072 L964.032 767.359 L962.685 777.647 L961.442 787.934 L960.3 798.221 L959.258 808.509 L958.315 818.796 L957.469 829.084 L956.721 839.371 L956.069 849.658 \n",
       "  L955.514 859.946 L955.056 870.233 L954.697 880.52 L954.438 890.808 L954.307 899.405 L954.28 901.095 L954.223 911.382 L954.279 921.67 L954.307 923.36 L954.443 931.957 \n",
       "  L954.719 942.245 L955.111 952.532 L955.625 962.819 L956.266 973.107 L957.039 983.394 L957.95 993.681 L959.007 1003.97 L960.217 1014.26 L961.589 1024.54 L963.132 1034.83 \n",
       "  L964.857 1045.12 L966.773 1055.41 L968.098 1061.89 L968.884 1065.69 L971.199 1075.98 L973.755 1086.27 L976.569 1096.55 L979.66 1106.84 L981.889 1113.69 L983.074 1117.13 \n",
       "  L986.876 1127.42 L991.052 1137.7 L995.635 1147.99 L995.68 1148.09 L1000.96 1158.28 L1006.84 1168.57 L1009.47 1172.88 L1013.71 1178.85 L1021.62 1189.14 L1023.26 1191.15 \n",
       "  L1031.6 1199.43 L1037.05 1204.47 L1044.64 1209.72 L1050.84 1213.78 L1064.64 1219.67 L1066.2 1220 L1078.43 1222.58  Z\n",
       "  \" fill=\"#942666\" fill-rule=\"evenodd\" fill-opacity=\"1\"/>\n",
       "<path clip-path=\"url(#clip2502)\" d=\"\n",
       "M1064.64 1180.07 L1078.43 1184.41 L1092.22 1185.67 L1106.01 1184.12 L1119.8 1179.95 L1122.04 1178.85 L1133.59 1173.3 L1140.76 1168.57 L1147.38 1164.21 L1154.52 1158.28 \n",
       "  L1161.17 1152.73 L1165.91 1147.99 L1174.96 1138.8 L1175.9 1137.7 L1184.6 1127.42 L1188.76 1122.4 L1192.66 1117.13 L1200.09 1106.84 L1202.55 1103.37 L1206.97 1096.55 \n",
       "  L1213.44 1086.27 L1216.34 1081.54 L1219.54 1075.98 L1225.27 1065.69 L1230.13 1056.62 L1230.75 1055.41 L1235.92 1045.12 L1240.86 1034.83 L1243.92 1028.23 L1245.59 1024.54 \n",
       "  L1250.1 1014.26 L1254.4 1003.97 L1257.71 995.736 L1258.53 993.681 L1262.51 983.394 L1266.31 973.107 L1269.93 962.819 L1271.5 958.186 L1273.43 952.532 L1276.81 942.245 \n",
       "  L1280.03 931.957 L1283.09 921.67 L1285.29 913.932 L1286.03 911.382 L1288.91 901.095 L1291.64 890.808 L1294.24 880.52 L1296.7 870.233 L1299.03 859.946 L1299.08 859.69 \n",
       "  L1301.34 849.658 L1303.52 839.371 L1305.58 829.084 L1307.52 818.796 L1309.34 808.509 L1311.05 798.221 L1312.65 787.934 L1312.87 786.428 L1314.22 777.647 L1315.67 767.359 \n",
       "  L1317.02 757.072 L1318.26 746.785 L1319.38 736.497 L1320.4 726.21 L1321.31 715.923 L1322.12 705.635 L1322.82 695.348 L1323.41 685.061 L1323.9 674.773 L1324.28 664.486 \n",
       "  L1324.55 654.198 L1324.7 643.911 L1324.74 633.624 L1324.66 623.336 L1324.46 613.049 L1324.14 602.762 L1323.68 592.474 L1323.09 582.187 L1322.36 571.9 L1321.47 561.612 \n",
       "  L1320.43 551.325 L1319.23 541.037 L1317.85 530.75 L1316.29 520.463 L1314.54 510.175 L1312.87 501.394 L1312.58 499.888 L1310.39 489.601 L1307.96 479.313 L1305.26 469.026 \n",
       "  L1302.28 458.739 L1299.08 448.707 L1299 448.451 L1295.23 438.164 L1291.08 427.876 L1286.5 417.589 L1285.29 415.039 L1281.14 407.302 L1275.1 397.014 L1271.5 391.36 \n",
       "  L1267.98 386.727 L1259.51 376.44 L1257.71 374.385 L1248.39 366.152 L1243.92 362.466 L1232.37 355.865 L1230.13 354.649 L1216.34 350.305 L1202.55 349.051 L1188.76 350.596 \n",
       "  L1174.96 354.773 L1172.73 355.865 L1161.17 361.419 L1154.01 366.152 L1147.38 370.504 L1140.24 376.44 L1133.59 381.993 L1128.86 386.727 L1119.8 395.922 L1118.86 397.014 \n",
       "  L1110.16 407.302 L1106.01 412.32 L1102.1 417.589 L1094.67 427.876 L1092.22 431.35 L1087.79 438.164 L1081.32 448.451 L1078.43 453.179 L1075.23 458.739 L1069.49 469.026 \n",
       "  L1064.64 478.097 L1064.01 479.313 L1058.84 489.601 L1053.9 499.888 L1050.84 506.489 L1049.18 510.175 L1044.67 520.463 L1040.36 530.75 L1037.05 538.982 L1036.23 541.037 \n",
       "  L1032.25 551.325 L1028.46 561.612 L1024.84 571.9 L1023.26 576.533 L1021.33 582.187 L1017.95 592.474 L1014.73 602.762 L1011.67 613.049 L1009.47 620.787 L1008.73 623.336 \n",
       "  L1005.85 633.624 L1003.12 643.911 L1000.53 654.198 L998.068 664.486 L995.736 674.773 L995.68 675.029 L993.424 685.061 L991.239 695.348 L989.18 705.635 L987.242 715.923 \n",
       "  L985.419 726.21 L983.71 736.497 L982.109 746.785 L981.889 748.291 L980.548 757.072 L979.09 767.359 L977.744 777.647 L976.509 787.934 L975.382 798.221 L974.363 808.509 \n",
       "  L973.451 818.796 L972.644 829.084 L971.944 839.371 L971.35 849.658 L970.864 859.946 L970.486 870.233 L970.218 880.52 L970.063 890.808 L970.023 901.095 L970.1 911.382 \n",
       "  L970.3 921.67 L970.626 931.957 L971.082 942.245 L971.674 952.532 L972.408 962.819 L973.291 973.107 L974.33 983.394 L975.533 993.681 L976.91 1003.97 L978.469 1014.26 \n",
       "  L980.223 1024.54 L981.889 1033.32 L982.183 1034.83 L984.372 1045.12 L986.806 1055.41 L989.503 1065.69 L992.482 1075.98 L995.68 1086.01 L995.768 1086.27 L999.532 1096.55 \n",
       "  L1003.69 1106.84 L1008.26 1117.13 L1009.47 1119.68 L1013.62 1127.42 L1019.67 1137.7 L1023.26 1143.36 L1026.78 1147.99 L1035.25 1158.28 L1037.05 1160.33 L1046.37 1168.57 \n",
       "  L1050.84 1172.25 L1062.4 1178.85 L1064.64 1180.07  Z\n",
       "  \" fill=\"#ad305b\" fill-rule=\"evenodd\" fill-opacity=\"1\"/>\n",
       "<path clip-path=\"url(#clip2502)\" d=\"\n",
       "M1092.22 1150.28 L1106.01 1149.61 L1112.16 1147.99 L1119.8 1146.03 L1133.59 1139.72 L1136.67 1137.7 L1147.38 1130.75 L1151.35 1127.42 L1161.17 1119.14 L1163.14 1117.13 \n",
       "  L1173.09 1106.84 L1174.96 1104.88 L1181.81 1096.55 L1188.76 1087.88 L1189.91 1086.27 L1197.11 1075.98 L1202.55 1067.98 L1203.96 1065.69 L1210.21 1055.41 L1216.21 1045.12 \n",
       "  L1216.34 1044.9 L1221.73 1034.83 L1227.02 1024.54 L1230.13 1018.29 L1232.04 1014.26 L1236.77 1003.97 L1241.3 993.681 L1243.92 987.524 L1245.62 983.394 L1249.73 973.107 \n",
       "  L1253.66 962.819 L1257.4 952.532 L1257.71 951.669 L1261 942.245 L1264.43 931.957 L1267.7 921.67 L1270.82 911.382 L1271.5 909.042 L1273.83 901.095 L1276.7 890.808 \n",
       "  L1279.42 880.52 L1282 870.233 L1284.46 859.946 L1285.29 856.262 L1286.82 849.658 L1289.07 839.371 L1291.19 829.084 L1293.19 818.796 L1295.06 808.509 L1296.82 798.221 \n",
       "  L1298.45 787.934 L1299.08 783.699 L1300.01 777.647 L1301.46 767.359 L1302.8 757.072 L1304.02 746.785 L1305.12 736.497 L1306.11 726.21 L1306.98 715.923 L1307.74 705.635 \n",
       "  L1308.38 695.348 L1308.9 685.061 L1309.3 674.773 L1309.59 664.486 L1309.75 654.198 L1309.78 643.911 L1309.68 633.624 L1309.45 623.336 L1309.08 613.049 L1308.56 602.762 \n",
       "  L1307.89 592.474 L1307.06 582.187 L1306.07 571.9 L1304.9 561.612 L1303.54 551.325 L1301.99 541.037 L1300.24 530.75 L1299.08 524.698 L1298.24 520.463 L1295.97 510.175 \n",
       "  L1293.44 499.888 L1290.62 489.601 L1287.49 479.313 L1285.29 472.709 L1283.94 469.026 L1279.86 458.739 L1275.33 448.451 L1271.5 440.504 L1270.19 438.164 L1264 427.876 \n",
       "  L1257.71 418.452 L1257 417.589 L1247.89 407.302 L1243.92 403.172 L1235.81 397.014 L1230.13 392.982 L1216.34 386.941 L1215.19 386.727 L1202.55 384.442 L1188.76 385.111 \n",
       "  L1182.6 386.727 L1174.96 388.685 L1161.17 395.003 L1158.09 397.014 L1147.38 403.974 L1143.41 407.302 L1133.59 415.578 L1131.62 417.589 L1121.67 427.876 L1119.8 429.834 \n",
       "  L1112.96 438.164 L1106.01 446.835 L1104.86 448.451 L1097.65 458.739 L1092.22 466.741 L1090.8 469.026 L1084.55 479.313 L1078.55 489.601 L1078.43 489.815 L1073.03 499.888 \n",
       "  L1067.74 510.175 L1064.64 516.43 L1062.72 520.463 L1057.99 530.75 L1053.46 541.037 L1050.84 547.195 L1049.14 551.325 L1045.03 561.612 L1041.11 571.9 L1037.36 582.187 \n",
       "  L1037.05 583.05 L1033.76 592.474 L1030.33 602.762 L1027.06 613.049 L1023.95 623.336 L1023.26 625.676 L1020.94 633.624 L1018.07 643.911 L1015.34 654.198 L1012.76 664.486 \n",
       "  L1010.31 674.773 L1009.47 678.456 L1007.94 685.061 L1005.69 695.348 L1003.57 705.635 L1001.57 715.923 L999.701 726.21 L997.947 736.497 L996.309 746.785 L995.68 751.02 \n",
       "  L994.755 757.072 L993.3 767.359 L991.963 777.647 L990.745 787.934 L989.642 798.221 L988.655 808.509 L987.784 818.796 L987.027 829.084 L986.387 839.371 L985.864 849.658 \n",
       "  L985.46 859.946 L985.177 870.233 L985.018 880.52 L984.985 890.808 L985.083 901.095 L985.315 911.382 L985.687 921.67 L986.205 931.957 L986.874 942.245 L987.702 952.532 \n",
       "  L988.697 962.819 L989.867 973.107 L991.221 983.394 L992.771 993.681 L994.529 1003.97 L995.68 1010.02 L996.524 1014.26 L998.79 1024.54 L1001.32 1034.83 L1004.14 1045.12 \n",
       "  L1007.27 1055.41 L1009.47 1062.01 L1010.82 1065.69 L1014.9 1075.98 L1019.43 1086.27 L1023.26 1094.22 L1024.57 1096.55 L1030.77 1106.84 L1037.05 1116.27 L1037.77 1117.13 \n",
       "  L1046.87 1127.42 L1050.84 1131.55 L1058.95 1137.7 L1064.64 1141.74 L1078.43 1147.78 L1079.57 1147.99 L1092.22 1150.28  Z\n",
       "  \" fill=\"#c73e4c\" fill-rule=\"evenodd\" fill-opacity=\"1\"/>\n",
       "<path clip-path=\"url(#clip2502)\" d=\"\n",
       "M1078.43 1111.69 L1092.22 1115.7 L1106.01 1116.08 L1119.8 1113.2 L1133.59 1107.27 L1134.25 1106.84 L1147.38 1098.43 L1149.59 1096.55 L1161.17 1086.7 L1161.58 1086.27 \n",
       "  L1171.3 1075.98 L1174.96 1072.05 L1180 1065.69 L1187.95 1055.41 L1188.76 1054.35 L1194.95 1045.12 L1201.63 1034.83 L1202.55 1033.4 L1207.66 1024.54 L1213.39 1014.26 \n",
       "  L1216.34 1008.82 L1218.78 1003.97 L1223.8 993.681 L1228.61 983.394 L1230.13 980.061 L1233.13 973.107 L1237.4 962.819 L1241.49 952.532 L1243.92 946.194 L1245.38 942.245 \n",
       "  L1249.06 931.957 L1252.56 921.67 L1255.9 911.382 L1257.71 905.588 L1259.09 901.095 L1262.11 890.808 L1264.98 880.52 L1267.7 870.233 L1270.29 859.946 L1271.5 854.873 \n",
       "  L1272.75 849.658 L1275.07 839.371 L1277.26 829.084 L1279.32 818.796 L1281.25 808.509 L1283.05 798.221 L1284.73 787.934 L1285.29 784.217 L1286.3 777.647 L1287.75 767.359 \n",
       "  L1289.07 757.072 L1290.27 746.785 L1291.34 736.497 L1292.29 726.21 L1293.11 715.923 L1293.81 705.635 L1294.38 695.348 L1294.81 685.061 L1295.12 674.773 L1295.29 664.486 \n",
       "  L1295.32 654.198 L1295.2 643.911 L1294.94 633.624 L1294.52 623.336 L1293.93 613.049 L1293.18 602.762 L1292.25 592.474 L1291.13 582.187 L1289.82 571.9 L1288.29 561.612 \n",
       "  L1286.55 551.325 L1285.29 544.755 L1284.53 541.037 L1282.2 530.75 L1279.56 520.463 L1276.62 510.175 L1273.33 499.888 L1271.5 494.674 L1269.5 489.601 L1265.04 479.313 \n",
       "  L1260.07 469.026 L1257.71 464.533 L1254.05 458.739 L1246.9 448.451 L1243.92 444.502 L1237.64 438.164 L1230.13 431.21 L1224.73 427.876 L1216.34 423.025 L1202.55 419.024 \n",
       "  L1188.76 418.643 L1174.96 421.522 L1161.17 427.449 L1160.51 427.876 L1147.38 436.292 L1145.17 438.164 L1133.59 448.024 L1133.18 448.451 L1123.46 458.739 L1119.8 462.671 \n",
       "  L1114.77 469.026 L1106.81 479.313 L1106.01 480.367 L1099.81 489.601 L1093.13 499.888 L1092.22 501.323 L1087.1 510.175 L1081.37 520.463 L1078.43 525.899 L1075.98 530.75 \n",
       "  L1070.97 541.037 L1066.15 551.325 L1064.64 554.658 L1061.63 561.612 L1057.36 571.9 L1053.27 582.187 L1050.84 588.525 L1049.38 592.474 L1045.71 602.762 L1042.2 613.049 \n",
       "  L1038.86 623.336 L1037.05 629.13 L1035.68 633.624 L1032.65 643.911 L1029.78 654.198 L1027.06 664.486 L1024.48 674.773 L1023.26 679.846 L1022.02 685.061 L1019.69 695.348 \n",
       "  L1017.5 705.635 L1015.44 715.923 L1013.51 726.21 L1011.71 736.497 L1010.03 746.785 L1009.47 750.502 L1008.46 757.072 L1007.02 767.359 L1005.69 777.647 L1004.49 787.934 \n",
       "  L1003.42 798.221 L1002.47 808.509 L1001.65 818.796 L1000.96 829.084 L1000.39 839.371 L999.951 849.658 L999.646 859.946 L999.477 870.233 L999.448 880.52 L999.563 890.808 \n",
       "  L999.828 901.095 L1000.25 911.382 L1000.83 921.67 L1001.58 931.957 L1002.51 942.245 L1003.63 952.532 L1004.95 962.819 L1006.47 973.107 L1008.22 983.394 L1009.47 989.964 \n",
       "  L1010.23 993.681 L1012.57 1003.97 L1015.2 1014.26 L1018.15 1024.54 L1021.44 1034.83 L1023.26 1040.05 L1025.27 1045.12 L1029.73 1055.41 L1034.7 1065.69 L1037.05 1070.19 \n",
       "  L1040.72 1075.98 L1047.86 1086.27 L1050.84 1090.22 L1057.12 1096.55 L1064.64 1103.51 L1070.03 1106.84 L1078.43 1111.69  Z\n",
       "  \" fill=\"#db503a\" fill-rule=\"evenodd\" fill-opacity=\"1\"/>\n",
       "<path clip-path=\"url(#clip2502)\" d=\"\n",
       "M1092.22 1081.07 L1106.01 1082.75 L1119.8 1080.71 L1131.77 1075.98 L1133.59 1075.27 L1147.38 1066.58 L1148.42 1065.69 L1160.35 1055.41 L1161.17 1054.7 L1169.95 1045.12 \n",
       "  L1174.96 1039.56 L1178.55 1034.83 L1186.19 1024.54 L1188.76 1021.03 L1193.06 1014.26 L1199.42 1003.97 L1202.55 998.767 L1205.3 993.681 L1210.71 983.394 L1215.93 973.107 \n",
       "  L1216.34 972.279 L1220.65 962.819 L1225.16 952.532 L1229.48 942.245 L1230.13 940.663 L1233.48 931.957 L1237.26 921.67 L1240.88 911.382 L1243.92 902.364 L1244.33 901.095 \n",
       "  L1247.53 890.808 L1250.58 880.52 L1253.47 870.233 L1256.22 859.946 L1257.71 854.048 L1258.8 849.658 L1261.22 839.371 L1263.49 829.084 L1265.62 818.796 L1267.61 808.509 \n",
       "  L1269.47 798.221 L1271.2 787.934 L1271.5 785.987 L1272.78 777.647 L1274.23 767.359 L1275.54 757.072 L1276.71 746.785 L1277.75 736.497 L1278.65 726.21 L1279.41 715.923 \n",
       "  L1280.03 705.635 L1280.51 695.348 L1280.84 685.061 L1281.03 674.773 L1281.05 664.486 L1280.92 654.198 L1280.62 643.911 L1280.14 633.624 L1279.49 623.336 L1278.64 613.049 \n",
       "  L1277.59 602.762 L1276.32 592.474 L1274.83 582.187 L1273.1 571.9 L1271.5 563.559 L1271.09 561.612 L1268.67 551.325 L1265.93 541.037 L1262.83 530.75 L1259.34 520.463 \n",
       "  L1257.71 516.073 L1255.15 510.175 L1250.21 499.888 L1244.66 489.601 L1243.92 488.332 L1237.28 479.313 L1230.13 470.608 L1228.3 469.026 L1216.34 459.567 L1214.51 458.739 \n",
       "  L1202.55 453.653 L1188.76 451.968 L1174.96 454.004 L1163 458.739 L1161.17 459.449 L1147.38 468.14 L1146.35 469.026 L1134.41 479.313 L1133.59 480.023 L1124.81 489.601 \n",
       "  L1119.8 495.154 L1116.21 499.888 L1108.57 510.175 L1106.01 513.692 L1101.7 520.463 L1095.35 530.75 L1092.22 535.952 L1089.46 541.037 L1084.05 551.325 L1078.84 561.612 \n",
       "  L1078.43 562.44 L1074.11 571.9 L1069.61 582.187 L1065.28 592.474 L1064.64 594.056 L1061.29 602.762 L1057.5 613.049 L1053.88 623.336 L1050.84 632.355 L1050.43 633.624 \n",
       "  L1047.23 643.911 L1044.19 654.198 L1041.29 664.486 L1038.55 674.773 L1037.05 680.671 L1035.96 685.061 L1033.55 695.348 L1031.28 705.635 L1029.15 715.923 L1027.15 726.21 \n",
       "  L1025.29 736.497 L1023.56 746.785 L1023.26 748.732 L1021.98 757.072 L1020.54 767.359 L1019.23 777.647 L1018.05 787.934 L1017.02 798.221 L1016.12 808.509 L1015.35 818.796 \n",
       "  L1014.73 829.084 L1014.25 839.371 L1013.92 849.658 L1013.74 859.946 L1013.71 870.233 L1013.84 880.52 L1014.15 890.808 L1014.62 901.095 L1015.28 911.382 L1016.13 921.67 \n",
       "  L1017.18 931.957 L1018.44 942.245 L1019.93 952.532 L1021.66 962.819 L1023.26 971.16 L1023.67 973.107 L1026.09 983.394 L1028.84 993.681 L1031.94 1003.97 L1035.42 1014.26 \n",
       "  L1037.05 1018.65 L1039.61 1024.54 L1044.56 1034.83 L1050.11 1045.12 L1050.84 1046.39 L1057.48 1055.41 L1064.64 1064.11 L1066.47 1065.69 L1078.43 1075.15 L1080.25 1075.98 \n",
       "  L1092.22 1081.07  Z\n",
       "  \" fill=\"#ec6925\" fill-rule=\"evenodd\" fill-opacity=\"1\"/>\n",
       "<path clip-path=\"url(#clip2502)\" d=\"\n",
       "M1092.22 1045.44 L1106.01 1048.81 L1119.8 1047.86 L1127.55 1045.12 L1133.59 1043.01 L1146.88 1034.83 L1147.38 1034.52 L1158.78 1024.54 L1161.17 1022.44 L1168.4 1014.26 \n",
       "  L1174.96 1006.71 L1176.94 1003.97 L1184.21 993.681 L1188.76 987.089 L1190.96 983.394 L1196.94 973.107 L1202.55 963.14 L1202.71 962.819 L1207.74 952.532 L1212.59 942.245 \n",
       "  L1216.34 933.998 L1217.19 931.957 L1221.33 921.67 L1225.3 911.382 L1229.1 901.095 L1230.13 898.183 L1232.58 890.808 L1235.84 880.52 L1238.95 870.233 L1241.89 859.946 \n",
       "  L1243.92 852.479 L1244.65 849.658 L1247.18 839.371 L1249.55 829.084 L1251.78 818.796 L1253.86 808.509 L1255.79 798.221 L1257.58 787.934 L1257.71 787.098 L1259.17 777.647 \n",
       "  L1260.61 767.359 L1261.9 757.072 L1263.05 746.785 L1264.04 736.497 L1264.88 726.21 L1265.57 715.923 L1266.1 705.635 L1266.46 695.348 L1266.66 685.061 L1266.69 674.773 \n",
       "  L1266.53 664.486 L1266.18 654.198 L1265.64 643.911 L1264.88 633.624 L1263.91 623.336 L1262.7 613.049 L1261.25 602.762 L1259.54 592.474 L1257.71 583.023 L1257.53 582.187 \n",
       "  L1255 571.9 L1252.1 561.612 L1248.8 551.325 L1245.05 541.037 L1243.92 538.216 L1240.28 530.75 L1234.65 520.463 L1230.13 513.088 L1227.74 510.175 L1218.37 499.888 \n",
       "  L1216.34 497.847 L1203.11 489.601 L1202.55 489.28 L1188.76 485.905 L1174.96 486.86 L1167.21 489.601 L1161.17 491.705 L1147.89 499.888 L1147.38 500.197 L1135.98 510.175 \n",
       "  L1133.59 512.28 L1126.36 520.463 L1119.8 528.009 L1117.82 530.75 L1110.56 541.037 L1106.01 547.629 L1103.8 551.325 L1097.83 561.612 L1092.22 571.579 L1092.06 571.9 \n",
       "  L1087.02 582.187 L1082.17 592.474 L1078.43 600.721 L1077.58 602.762 L1073.43 613.049 L1069.47 623.336 L1065.67 633.624 L1064.64 636.536 L1062.18 643.911 L1058.92 654.198 \n",
       "  L1055.82 664.486 L1052.87 674.773 L1050.84 682.239 L1050.11 685.061 L1047.58 695.348 L1045.21 705.635 L1042.98 715.923 L1040.91 726.21 L1038.97 736.497 L1037.19 746.785 \n",
       "  L1037.05 747.621 L1035.59 757.072 L1034.15 767.359 L1032.86 777.647 L1031.72 787.934 L1030.72 798.221 L1029.88 808.509 L1029.19 818.796 L1028.66 829.084 L1028.3 839.371 \n",
       "  L1028.1 849.658 L1028.08 859.946 L1028.24 870.233 L1028.58 880.52 L1029.13 890.808 L1029.88 901.095 L1030.85 911.382 L1032.06 921.67 L1033.51 931.957 L1035.23 942.245 \n",
       "  L1037.05 951.696 L1037.24 952.532 L1039.76 962.819 L1042.66 973.107 L1045.97 983.394 L1049.72 993.681 L1050.84 996.502 L1054.48 1003.97 L1060.12 1014.26 L1064.64 1021.63 \n",
       "  L1067.03 1024.54 L1076.39 1034.83 L1078.43 1036.87 L1091.66 1045.12 L1092.22 1045.44  Z\n",
       "  \" fill=\"#f7850e\" fill-rule=\"evenodd\" fill-opacity=\"1\"/>\n",
       "<path clip-path=\"url(#clip2502)\" d=\"\n",
       "M1092.22 1007.38 L1106.01 1013.22 L1119.8 1013.74 L1133.59 1009.68 L1143.13 1003.97 L1147.38 1001.44 L1156.07 993.681 L1161.17 989.102 L1165.99 983.394 L1174.54 973.107 \n",
       "  L1174.96 972.593 L1181.45 962.819 L1188.1 952.532 L1188.76 951.496 L1193.73 942.245 L1199.08 931.957 L1202.55 925.078 L1204.06 921.67 L1208.48 911.382 L1212.72 901.095 \n",
       "  L1216.34 891.943 L1216.75 890.808 L1220.29 880.52 L1223.66 870.233 L1226.86 859.946 L1229.9 849.658 L1230.13 848.836 L1232.59 839.371 L1235.09 829.084 L1237.44 818.796 \n",
       "  L1239.62 808.509 L1241.64 798.221 L1243.51 787.934 L1243.92 785.418 L1245.13 777.647 L1246.57 767.359 L1247.84 757.072 L1248.94 746.785 L1249.88 736.497 L1250.64 726.21 \n",
       "  L1251.23 715.923 L1251.63 705.635 L1251.84 695.348 L1251.85 685.061 L1251.65 674.773 L1251.24 664.486 L1250.6 654.198 L1249.71 643.911 L1248.57 633.624 L1247.15 623.336 \n",
       "  L1245.44 613.049 L1243.92 605.277 L1243.35 602.762 L1240.66 592.474 L1237.53 582.187 L1233.92 571.9 L1230.13 562.434 L1229.71 561.612 L1223.87 551.325 L1217.15 541.037 \n",
       "  L1216.34 539.903 L1206.6 530.75 L1202.55 527.342 L1188.76 521.499 L1174.96 520.977 L1161.17 525.042 L1151.63 530.75 L1147.38 533.28 L1138.69 541.037 L1133.59 545.617 \n",
       "  L1128.77 551.325 L1120.22 561.612 L1119.8 562.126 L1113.32 571.9 L1106.66 582.187 L1106.01 583.223 L1101.03 592.474 L1095.68 602.762 L1092.22 609.641 L1090.7 613.049 \n",
       "  L1086.28 623.336 L1082.05 633.624 L1078.43 642.776 L1078.02 643.911 L1074.48 654.198 L1071.11 664.486 L1067.9 674.773 L1064.87 685.061 L1064.64 685.882 L1062.18 695.348 \n",
       "  L1059.67 705.635 L1057.33 715.923 L1055.14 726.21 L1053.12 736.497 L1051.26 746.785 L1050.84 749.301 L1049.64 757.072 L1048.2 767.359 L1046.93 777.647 L1045.82 787.934 \n",
       "  L1044.88 798.221 L1044.12 808.509 L1043.54 818.796 L1043.14 829.084 L1042.93 839.371 L1042.91 849.658 L1043.11 859.946 L1043.52 870.233 L1044.17 880.52 L1045.05 890.808 \n",
       "  L1046.2 901.095 L1047.62 911.382 L1049.33 921.67 L1050.84 929.441 L1051.42 931.957 L1054.11 942.245 L1057.24 952.532 L1060.84 962.819 L1064.64 972.285 L1065.06 973.107 \n",
       "  L1070.89 983.394 L1077.61 993.681 L1078.43 994.816 L1088.16 1003.97 L1092.22 1007.38  Z\n",
       "  \" fill=\"#fba40a\" fill-rule=\"evenodd\" fill-opacity=\"1\"/>\n",
       "<path clip-path=\"url(#clip2502)\" d=\"\n",
       "M1106.01 974.219 L1119.8 976.955 L1133.59 974.106 L1135.33 973.107 L1147.38 966.207 L1151.08 962.819 L1161.17 953.531 L1161.97 952.532 L1170.01 942.245 L1174.96 935.805 \n",
       "  L1177.32 931.957 L1183.44 921.67 L1188.76 912.495 L1189.3 911.382 L1194.12 901.095 L1198.77 890.808 L1202.55 882.108 L1203.15 880.52 L1206.87 870.233 L1210.41 859.946 \n",
       "  L1213.77 849.658 L1216.34 841.337 L1216.88 839.371 L1219.56 829.084 L1222.05 818.796 L1224.37 808.509 L1226.5 798.221 L1228.45 787.934 L1230.13 778.164 L1230.21 777.647 \n",
       "  L1231.63 767.359 L1232.87 757.072 L1233.92 746.785 L1234.77 736.497 L1235.41 726.21 L1235.84 715.923 L1236.05 705.635 L1236.03 695.348 L1235.77 685.061 L1235.25 674.773 \n",
       "  L1234.45 664.486 L1233.36 654.198 L1231.96 643.911 L1230.23 633.624 L1230.13 633.107 L1227.78 623.336 L1224.81 613.049 L1221.31 602.762 L1217.22 592.474 L1216.34 590.508 \n",
       "  L1211.21 582.187 L1203.82 571.9 L1202.55 570.311 L1190.49 561.612 L1188.76 560.5 L1174.96 557.764 L1161.17 560.613 L1159.44 561.612 L1147.38 568.512 L1143.68 571.9 \n",
       "  L1133.59 581.188 L1132.79 582.187 L1124.75 592.474 L1119.8 598.914 L1117.44 602.762 L1111.32 613.049 L1106.01 622.224 L1105.47 623.336 L1100.64 633.624 L1096 643.911 \n",
       "  L1092.22 652.61 L1091.62 654.198 L1087.9 664.486 L1084.36 674.773 L1081 685.061 L1078.43 693.382 L1077.88 695.348 L1075.21 705.635 L1072.71 715.923 L1070.4 726.21 \n",
       "  L1068.26 736.497 L1066.31 746.785 L1064.64 756.555 L1064.55 757.072 L1063.13 767.359 L1061.89 777.647 L1060.85 787.934 L1060 798.221 L1059.35 808.509 L1058.92 818.796 \n",
       "  L1058.71 829.084 L1058.73 839.371 L1059 849.658 L1059.52 859.946 L1060.31 870.233 L1061.4 880.52 L1062.8 890.808 L1064.53 901.095 L1064.64 901.612 L1066.99 911.382 \n",
       "  L1069.95 921.67 L1073.45 931.957 L1077.55 942.245 L1078.43 944.211 L1083.55 952.532 L1090.94 962.819 L1092.22 964.407 L1104.27 973.107 L1106.01 974.219  Z\n",
       "  \" fill=\"#f9c52d\" fill-rule=\"evenodd\" fill-opacity=\"1\"/>\n",
       "<path clip-path=\"url(#clip2502)\" d=\"\n",
       "M1119.8 934.939 L1133.59 934.081 L1137.59 931.957 L1147.38 926.788 L1152.71 921.67 L1161.17 913.506 L1162.71 911.382 L1169.93 901.095 L1174.96 893.789 L1176.55 890.808 \n",
       "  L1181.81 880.52 L1186.89 870.233 L1188.76 866.282 L1191.21 859.946 L1194.99 849.658 L1198.57 839.371 L1201.95 829.084 L1202.55 827.119 L1204.71 818.796 L1207.18 808.509 \n",
       "  L1209.44 798.221 L1211.48 787.934 L1213.3 777.647 L1214.89 767.359 L1216.24 757.072 L1216.34 756.128 L1217.19 746.785 L1217.88 736.497 L1218.33 726.21 L1218.51 715.923 \n",
       "  L1218.4 705.635 L1218.01 695.348 L1217.29 685.061 L1216.34 675.717 L1216.22 674.773 L1214.47 664.486 L1212.21 654.198 L1209.37 643.911 L1205.9 633.624 L1202.55 625.301 \n",
       "  L1201.36 623.336 L1194.09 613.049 L1188.76 606.713 L1181.38 602.762 L1174.96 599.78 L1161.17 600.638 L1157.17 602.762 L1147.38 607.931 L1142.05 613.049 L1133.59 621.212 \n",
       "  L1132.06 623.336 L1124.83 633.624 L1119.8 640.93 L1118.21 643.911 L1112.96 654.198 L1107.88 664.486 L1106.01 668.437 L1103.55 674.773 L1099.78 685.061 L1096.2 695.348 \n",
       "  L1092.82 705.635 L1092.22 707.6 L1090.05 715.923 L1087.58 726.21 L1085.32 736.497 L1083.28 746.785 L1081.46 757.072 L1079.87 767.359 L1078.53 777.647 L1078.43 778.591 \n",
       "  L1077.58 787.934 L1076.88 798.221 L1076.44 808.509 L1076.26 818.796 L1076.36 829.084 L1076.76 839.371 L1077.47 849.658 L1078.43 859.002 L1078.55 859.946 L1080.29 870.233 \n",
       "  L1082.56 880.52 L1085.39 890.808 L1088.86 901.095 L1092.22 909.418 L1093.4 911.382 L1100.68 921.67 L1106.01 928.006 L1113.38 931.957 L1119.8 934.939  Z\n",
       "  \" fill=\"#f2e55f\" fill-rule=\"evenodd\" fill-opacity=\"1\"/>\n",
       "<path clip-path=\"url(#clip2502)\" d=\"\n",
       "M1133.59 884.046 L1141.84 880.52 L1147.38 878.165 L1154.84 870.233 L1161.17 863.471 L1163.26 859.946 L1169.06 849.658 L1174.71 839.371 L1174.96 838.871 L1178.61 829.084 \n",
       "  L1182.19 818.796 L1185.51 808.509 L1188.55 798.221 L1188.76 797.447 L1190.68 787.934 L1192.48 777.647 L1193.97 767.359 L1195.14 757.072 L1195.96 746.785 L1196.39 736.497 \n",
       "  L1196.41 726.21 L1195.98 715.923 L1195.03 705.635 L1193.52 695.348 L1191.38 685.061 L1188.76 675.548 L1188.4 674.773 L1182.43 664.486 L1174.96 654.699 L1173.53 654.198 \n",
       "  L1161.17 650.673 L1152.92 654.198 L1147.38 656.554 L1139.92 664.486 L1133.59 671.248 L1131.51 674.773 L1125.7 685.061 L1120.06 695.348 L1119.8 695.848 L1116.16 705.635 \n",
       "  L1112.58 715.923 L1109.26 726.21 L1106.21 736.497 L1106.01 737.272 L1104.08 746.785 L1102.28 757.072 L1100.79 767.359 L1099.62 777.647 L1098.81 787.934 L1098.37 798.221 \n",
       "  L1098.35 808.509 L1098.79 818.796 L1099.73 829.084 L1101.24 839.371 L1103.38 849.658 L1106.01 859.171 L1106.36 859.946 L1112.34 870.233 L1119.8 880.02 L1121.23 880.52 \n",
       "  L1133.59 884.046  Z\n",
       "  \" fill=\"#fcfea4\" fill-rule=\"evenodd\" fill-opacity=\"1\"/>\n",
       "<polyline clip-path=\"url(#clip2502)\" style=\"stroke:#000000; stroke-width:4; stroke-opacity:1; fill:none\" points=\"\n",
       "  182.008,1487.47 182.008,1487.47 195.799,1487.47 209.59,1487.47 223.381,1487.47 237.172,1487.47 250.963,1487.47 264.754,1487.47 278.545,1487.47 292.337,1487.47 \n",
       "  306.128,1487.47 319.919,1487.47 333.71,1487.47 347.501,1487.47 361.292,1487.47 375.083,1487.47 388.874,1487.47 402.665,1487.47 416.456,1487.47 430.247,1487.47 \n",
       "  444.038,1487.47 457.829,1487.47 471.62,1487.47 485.411,1487.47 499.202,1487.47 512.993,1487.47 526.784,1487.47 540.576,1487.47 554.367,1487.47 568.158,1487.47 \n",
       "  581.949,1487.47 595.74,1487.47 609.531,1487.47 623.322,1487.47 637.113,1487.47 650.904,1487.47 664.695,1487.47 678.486,1487.47 692.277,1487.47 706.068,1487.47 \n",
       "  719.859,1487.47 733.65,1487.47 747.441,1487.47 761.232,1487.47 775.023,1487.47 788.815,1487.47 802.606,1487.47 816.397,1487.47 830.188,1487.47 843.979,1487.47 \n",
       "  857.77,1487.47 871.561,1487.47 885.352,1487.47 899.143,1487.47 912.934,1487.47 926.725,1487.47 940.516,1487.47 954.307,1487.47 968.098,1487.47 981.889,1487.47 \n",
       "  995.68,1487.47 1009.47,1487.47 1023.26,1487.47 1037.05,1487.47 1050.84,1487.47 1064.64,1487.47 1078.43,1487.47 1092.22,1487.47 1106.01,1487.47 1119.8,1487.47 \n",
       "  1133.59,1487.47 1147.38,1487.47 1161.17,1487.47 1174.96,1487.47 1188.76,1487.47 1202.55,1487.47 1216.34,1487.47 1230.13,1487.47 1243.92,1487.47 1257.71,1487.47 \n",
       "  1271.5,1487.47 1285.29,1487.47 1299.08,1487.47 1312.87,1487.47 1326.67,1487.47 1340.46,1487.47 1354.25,1487.47 1368.04,1487.47 1381.83,1487.47 1395.62,1487.47 \n",
       "  1409.41,1487.47 1423.2,1487.47 1436.99,1487.47 1450.79,1487.47 1464.58,1487.47 1478.37,1487.47 1492.16,1487.47 1505.95,1487.47 1519.74,1487.47 1533.53,1487.47 \n",
       "  1547.32,1487.47 1561.11,1487.47 1574.9,1487.47 1588.7,1487.47 1602.49,1487.47 1616.28,1487.47 1630.07,1487.47 1643.86,1487.47 1657.65,1487.47 1671.44,1487.47 \n",
       "  1685.23,1487.47 1699.02,1487.47 1712.82,1487.47 1726.61,1487.47 1740.4,1487.47 1754.19,1487.47 1767.98,1487.47 1781.77,1487.47 1795.56,1487.47 1809.35,1487.47 \n",
       "  1823.14,1487.47 1836.93,1487.47 1850.73,1487.47 1864.52,1487.47 1878.31,1487.47 1892.1,1487.47 1905.89,1487.47 1919.68,1487.47 1933.47,1487.47 1947.26,1487.47 \n",
       "  1961.05,1487.47 1974.85,1487.47 1988.64,1487.47 2002.43,1487.47 2016.22,1487.47 2030.01,1487.47 2043.8,1487.47 2057.59,1487.47 2071.38,1487.47 2085.17,1487.47 \n",
       "  2098.96,1487.47 2112.76,1487.47 2112.76,1477.19 2112.76,1466.9 2112.76,1456.61 2112.76,1446.33 2112.76,1436.04 \n",
       "  2112.76,1425.75 2112.76,1415.46 2112.76,1405.18 2112.76,1394.89 2112.76,1384.6 2112.76,1374.31 2112.76,1364.03 2112.76,1353.74 2112.76,1343.45 2112.76,1333.16 \n",
       "  2112.76,1322.88 2112.76,1312.59 2112.76,1302.3 2112.76,1292.01 2112.76,1281.73 2112.76,1271.44 2112.76,1261.15 2112.76,1250.87 2112.76,1240.58 2112.76,1230.29 \n",
       "  2112.76,1220 2112.76,1209.72 2112.76,1199.43 2112.76,1189.14 2112.76,1178.85 2112.76,1168.57 2112.76,1158.28 2112.76,1147.99 2112.76,1137.7 2112.76,1127.42 \n",
       "  2112.76,1117.13 2112.76,1106.84 2112.76,1096.55 2112.76,1086.27 2112.76,1075.98 2112.76,1065.69 2112.76,1055.41 2112.76,1045.12 2112.76,1034.83 2112.76,1024.54 \n",
       "  2112.76,1014.26 2112.76,1003.97 2112.76,993.681 2112.76,983.394 2112.76,973.107 2112.76,962.819 2112.76,952.532 2112.76,942.245 2112.76,931.957 2112.76,921.67 \n",
       "  2112.76,911.382 2112.76,901.095 2112.76,890.808 2112.76,880.52 2112.76,870.233 2112.76,859.946 2112.76,849.658 2112.76,839.371 2112.76,829.084 2112.76,818.796 \n",
       "  2112.76,808.509 2112.76,798.221 2112.76,787.934 2112.76,777.647 2112.76,767.359 2112.76,757.072 2112.76,746.785 2112.76,736.497 2112.76,726.21 2112.76,715.923 \n",
       "  2112.76,705.635 2112.76,695.348 2112.76,685.061 2112.76,674.773 2112.76,664.486 2112.76,654.198 2112.76,643.911 2112.76,633.624 2112.76,623.336 2112.76,613.049 \n",
       "  2112.76,602.762 2112.76,592.474 2112.76,582.187 2112.76,571.9 2112.76,561.612 2112.76,551.325 2112.76,541.037 2112.76,530.75 2112.76,520.463 2112.76,510.175 \n",
       "  2112.76,499.888 2112.76,489.601 2112.76,479.313 2112.76,469.026 2112.76,458.739 2112.76,448.451 2112.76,438.164 2112.76,427.876 2112.76,417.589 2112.76,407.302 \n",
       "  2112.76,397.014 2112.76,386.727 2112.76,376.44 2112.76,366.152 2112.76,355.865 2112.76,345.578 2112.76,335.29 2112.76,325.003 2112.76,314.715 2112.76,304.428 \n",
       "  2112.76,294.141 2112.76,283.853 2112.76,273.566 2112.76,263.279 2112.76,252.991 2112.76,242.704 2112.76,232.417 2112.76,222.129 2112.76,211.842 2112.76,201.555 \n",
       "  2112.76,191.267 2112.76,180.98 2112.76,170.692 2112.76,160.405 2112.76,150.118 2112.76,139.83 2112.76,129.543 2112.76,119.256 2112.76,108.968 2112.76,98.6809 \n",
       "  2112.76,88.3935 2112.76,78.1062 2112.76,67.8188 2112.76,57.5315 2112.76,47.2441 2098.96,47.2441 2085.17,47.2441 \n",
       "  2071.38,47.2441 2057.59,47.2441 2043.8,47.2441 2030.01,47.2441 2016.22,47.2441 2002.43,47.2441 1988.64,47.2441 1974.85,47.2441 1961.05,47.2441 1947.26,47.2441 \n",
       "  1933.47,47.2441 1919.68,47.2441 1905.89,47.2441 1892.1,47.2441 1878.31,47.2441 1864.52,47.2441 1850.73,47.2441 1836.93,47.2441 1823.14,47.2441 1809.35,47.2441 \n",
       "  1795.56,47.2441 1781.77,47.2441 1767.98,47.2441 1754.19,47.2441 1740.4,47.2441 1726.61,47.2441 1712.82,47.2441 1699.02,47.2441 1685.23,47.2441 1671.44,47.2441 \n",
       "  1657.65,47.2441 1643.86,47.2441 1630.07,47.2441 1616.28,47.2441 1602.49,47.2441 1588.7,47.2441 1574.9,47.2441 1561.11,47.2441 1547.32,47.2441 1533.53,47.2441 \n",
       "  1519.74,47.2441 1505.95,47.2441 1492.16,47.2441 1478.37,47.2441 1464.58,47.2441 1450.79,47.2441 1436.99,47.2441 1423.2,47.2441 1409.41,47.2441 1395.62,47.2441 \n",
       "  1381.83,47.2441 1368.04,47.2441 1354.25,47.2441 1340.46,47.2441 1326.67,47.2441 1312.87,47.2441 1299.08,47.2441 1285.29,47.2441 1271.5,47.2441 1257.71,47.2441 \n",
       "  1243.92,47.2441 1230.13,47.2441 1216.34,47.2441 1202.55,47.2441 1188.76,47.2441 1174.96,47.2441 1161.17,47.2441 1147.38,47.2441 1133.59,47.2441 1119.8,47.2441 \n",
       "  1106.01,47.2441 1092.22,47.2441 1078.43,47.2441 1064.64,47.2441 1050.84,47.2441 1037.05,47.2441 1023.26,47.2441 1009.47,47.2441 995.68,47.2441 981.889,47.2441 \n",
       "  968.098,47.2441 954.307,47.2441 940.516,47.2441 926.725,47.2441 912.934,47.2441 899.143,47.2441 885.352,47.2441 871.561,47.2441 857.77,47.2441 843.979,47.2441 \n",
       "  830.188,47.2441 816.397,47.2441 802.606,47.2441 788.815,47.2441 775.023,47.2441 761.232,47.2441 747.441,47.2441 733.65,47.2441 719.859,47.2441 706.068,47.2441 \n",
       "  692.277,47.2441 678.486,47.2441 664.695,47.2441 650.904,47.2441 637.113,47.2441 623.322,47.2441 609.531,47.2441 595.74,47.2441 581.949,47.2441 568.158,47.2441 \n",
       "  554.367,47.2441 540.576,47.2441 526.784,47.2441 512.993,47.2441 499.202,47.2441 485.411,47.2441 471.62,47.2441 457.829,47.2441 444.038,47.2441 430.247,47.2441 \n",
       "  416.456,47.2441 402.665,47.2441 388.874,47.2441 375.083,47.2441 361.292,47.2441 347.501,47.2441 333.71,47.2441 319.919,47.2441 306.128,47.2441 292.337,47.2441 \n",
       "  278.545,47.2441 264.754,47.2441 250.963,47.2441 237.172,47.2441 223.381,47.2441 209.59,47.2441 195.799,47.2441 182.008,47.2441 \n",
       "  182.008,57.5315 182.008,67.8188 182.008,78.1062 182.008,88.3935 182.008,98.6809 182.008,108.968 182.008,119.256 182.008,129.543 182.008,139.83 \n",
       "  182.008,150.118 182.008,160.405 182.008,170.692 182.008,180.98 182.008,191.267 182.008,201.555 182.008,211.842 182.008,222.129 182.008,232.417 182.008,242.704 \n",
       "  182.008,252.991 182.008,263.279 182.008,273.566 182.008,283.853 182.008,294.141 182.008,304.428 182.008,314.715 182.008,325.003 182.008,335.29 182.008,345.578 \n",
       "  182.008,355.865 182.008,366.152 182.008,376.44 182.008,386.727 182.008,397.014 182.008,407.302 182.008,417.589 182.008,427.876 182.008,438.164 182.008,448.451 \n",
       "  182.008,458.739 182.008,469.026 182.008,479.313 182.008,489.601 182.008,499.888 182.008,510.175 182.008,520.463 182.008,530.75 182.008,541.037 182.008,551.325 \n",
       "  182.008,561.612 182.008,571.9 182.008,582.187 182.008,592.474 182.008,602.762 182.008,613.049 182.008,623.336 182.008,633.624 182.008,643.911 182.008,654.198 \n",
       "  182.008,664.486 182.008,674.773 182.008,685.061 182.008,695.348 182.008,705.635 182.008,715.923 182.008,726.21 182.008,736.497 182.008,746.785 182.008,757.072 \n",
       "  182.008,767.359 182.008,777.647 182.008,787.934 182.008,798.221 182.008,808.509 182.008,818.796 182.008,829.084 182.008,839.371 182.008,849.658 182.008,859.946 \n",
       "  182.008,870.233 182.008,880.52 182.008,890.808 182.008,901.095 182.008,911.382 182.008,921.67 182.008,931.957 182.008,942.245 182.008,952.532 182.008,962.819 \n",
       "  182.008,973.107 182.008,983.394 182.008,993.681 182.008,1003.97 182.008,1014.26 182.008,1024.54 182.008,1034.83 182.008,1045.12 182.008,1055.41 182.008,1065.69 \n",
       "  182.008,1075.98 182.008,1086.27 182.008,1096.55 182.008,1106.84 182.008,1117.13 182.008,1127.42 182.008,1137.7 182.008,1147.99 182.008,1158.28 182.008,1168.57 \n",
       "  182.008,1178.85 182.008,1189.14 182.008,1199.43 182.008,1209.72 182.008,1220 182.008,1230.29 182.008,1240.58 182.008,1250.87 182.008,1261.15 182.008,1271.44 \n",
       "  182.008,1281.73 182.008,1292.01 182.008,1302.3 182.008,1312.59 182.008,1322.88 182.008,1333.16 182.008,1343.45 182.008,1353.74 182.008,1364.03 182.008,1374.31 \n",
       "  182.008,1384.6 182.008,1394.89 182.008,1405.18 182.008,1415.46 182.008,1425.75 182.008,1436.04 182.008,1446.33 182.008,1456.61 182.008,1466.9 182.008,1477.19 \n",
       "  182.008,1487.47 \n",
       "  \"/>\n",
       "<polyline clip-path=\"url(#clip2502)\" style=\"stroke:#000000; stroke-width:4; stroke-opacity:1; fill:none\" points=\"\n",
       "  954.307,1487.47 968.098,1487.47 981.889,1487.47 995.68,1487.47 1009.47,1487.47 1023.26,1487.47 1037.05,1487.47 1050.84,1487.47 1064.64,1487.47 1078.43,1487.47 \n",
       "  1092.22,1487.47 1106.01,1487.47 1119.8,1487.47 1133.59,1487.47 1147.38,1487.47 1155.85,1487.47 1161.17,1483.24 1168.04,1477.19 1174.96,1470.98 \n",
       "  1179.17,1466.9 1188.76,1457.34 1189.44,1456.61 1199.05,1446.33 1202.55,1442.47 1208.12,1436.04 1216.34,1426.11 1216.63,1425.75 1224.83,1415.46 1230.13,1408.46 \n",
       "  1232.58,1405.18 1240.05,1394.89 1243.92,1389.32 1247.2,1384.6 1254.09,1374.31 1257.71,1368.66 1260.72,1364.03 1267.16,1353.74 1271.5,1346.41 1273.3,1343.45 \n",
       "  1279.4,1333.16 1285.06,1322.88 1285.29,1322.46 1290.89,1312.59 1296.33,1302.3 1299.08,1296.85 1301.66,1292.01 1306.95,1281.73 1311.86,1271.44 1312.87,1269.26 \n",
       "  1316.91,1261.15 1321.75,1250.87 1326.25,1240.58 1326.67,1239.61 1331,1230.29 1335.49,1220 1339.67,1209.72 1340.46,1207.73 1344.07,1199.43 1348.29,1189.14 \n",
       "  1352.22,1178.85 1354.25,1173.33 1356.18,1168.57 1360.2,1158.28 1363.96,1147.99 1367.47,1137.7 1368.04,1136.01 1371.26,1127.42 1374.89,1117.13 1378.29,1106.84 \n",
       "  1381.47,1096.55 1381.83,1095.38 1384.96,1086.27 1388.3,1075.98 1391.42,1065.69 1394.35,1055.41 1395.62,1050.8 1397.41,1045.12 1400.51,1034.83 1403.43,1024.54 \n",
       "  1406.17,1014.26 1408.75,1003.97 1409.41,1001.25 1411.55,993.681 1414.3,983.394 1416.9,973.107 1419.34,962.819 1421.65,952.532 1423.2,945.26 1423.96,942.245 \n",
       "  1426.45,931.957 1428.79,921.67 1431.01,911.382 1433.1,901.095 1435.07,890.808 1436.93,880.52 1436.99,880.145 1439.06,870.233 1441.08,859.946 1442.99,849.658 \n",
       "  1444.8,839.371 1446.5,829.084 1448.11,818.796 1449.62,808.509 1450.79,800.192 1451.12,798.221 1452.77,787.934 1454.33,777.647 1455.79,767.359 1457.17,757.072 \n",
       "  1458.47,746.785 1459.68,736.497 1460.83,726.21 1461.9,715.923 1462.9,705.635 1463.83,695.348 1464.58,686.618 1464.74,685.061 1465.73,674.773 1466.64,664.486 \n",
       "  1467.49,654.198 1468.26,643.911 1468.96,633.624 1469.6,623.336 1470.17,613.049 1470.67,602.762 1471.12,592.474 1471.49,582.187 1471.81,571.9 1472.06,561.612 \n",
       "  1472.25,551.325 1472.38,541.037 1472.45,530.75 1472.45,520.463 1472.38,510.175 1472.25,499.888 1472.06,489.601 1471.79,479.313 1471.45,469.026 1471.04,458.739 \n",
       "  1470.56,448.451 1469.99,438.164 1469.34,427.876 1468.61,417.589 1467.79,407.302 1466.88,397.014 1465.87,386.727 1464.76,376.44 1464.58,374.882 1463.69,366.152 \n",
       "  1462.55,355.865 1461.3,345.578 1459.95,335.29 1458.47,325.003 1456.86,314.715 1455.12,304.428 1453.24,294.141 1451.2,283.853 1450.79,281.882 1449.21,273.566 \n",
       "  1447.12,263.279 1444.86,252.991 1442.4,242.704 1439.75,232.417 1436.99,222.505 1436.9,222.129 1434.12,211.842 1431.1,201.555 1427.83,191.267 1424.29,180.98 \n",
       "  1423.2,177.965 1420.68,170.692 1416.85,160.405 1412.69,150.118 1409.41,142.553 1408.25,139.83 1403.63,129.543 1398.58,119.256 1395.62,113.577 1393.18,108.968 \n",
       "  1387.4,98.6809 1381.83,89.5678 1381.08,88.3935 1374.25,78.1062 1368.04,69.5098 1366.72,67.8188 1358.37,57.5315 1354.25,52.7673 1348.93,47.2441 1340.46,47.2441 \n",
       "  1326.67,47.2441 1312.87,47.2441 1299.08,47.2441 1285.29,47.2441 1271.5,47.2441 1257.71,47.2441 1243.92,47.2441 1230.13,47.2441 1216.34,47.2441 \n",
       "  1202.55,47.2441 1188.76,47.2441 1174.96,47.2441 1161.17,47.2441 1147.38,47.2441 1133.59,47.2441 1138.91,47.2441 1133.59,51.4756 1126.73,57.5315 1119.8,63.7349 \n",
       "  1115.6,67.8188 1106.01,77.3754 1105.32,78.1062 1095.71,88.3935 1092.22,92.2476 1086.65,98.6809 1078.43,108.61 1078.14,108.968 1069.93,119.256 1064.64,126.255 \n",
       "  1062.18,129.543 1054.71,139.83 1050.84,145.4 1047.56,150.118 1040.68,160.405 1037.05,166.061 1034.04,170.692 1027.6,180.98 1023.26,188.312 1021.46,191.267 \n",
       "  1015.36,201.555 1009.7,211.842 1009.47,212.26 1003.87,222.129 998.439,232.417 995.68,237.87 993.099,242.704 987.818,252.991 982.906,263.279 981.889,265.46 \n",
       "  977.849,273.566 973.016,283.853 968.515,294.141 968.098,295.109 963.761,304.428 959.276,314.715 955.095,325.003 954.307,326.986 950.697,335.29 946.479,345.578 \n",
       "  942.542,355.865 940.516,361.388 938.581,366.152 934.56,376.44 930.804,386.727 927.29,397.014 926.725,398.705 923.509,407.302 919.877,417.589 916.477,427.876 \n",
       "  913.29,438.164 912.934,439.338 909.801,448.451 906.469,458.739 903.343,469.026 900.409,479.313 899.143,483.922 897.355,489.601 894.25,499.888 891.335,510.175 \n",
       "  888.594,520.463 886.014,530.75 885.352,533.473 883.219,541.037 880.46,551.325 877.864,561.612 875.419,571.9 873.114,582.187 871.561,589.459 870.806,592.474 \n",
       "  868.316,602.762 865.969,613.049 863.757,623.336 861.669,633.624 859.698,643.911 857.836,654.198 857.77,654.574 855.704,664.486 853.679,674.773 851.769,685.061 \n",
       "  849.967,695.348 848.265,705.635 846.659,715.923 845.142,726.21 843.979,734.526 843.649,736.497 841.995,746.785 840.438,757.072 838.973,767.359 837.594,777.647 \n",
       "  836.298,787.934 835.081,798.221 833.938,808.509 832.868,818.796 831.865,829.084 830.929,839.371 830.188,848.101 830.028,849.658 829.037,859.946 828.122,870.233 \n",
       "  827.279,880.52 826.507,890.808 825.803,901.095 825.167,911.382 824.596,921.67 824.09,931.957 823.648,942.245 823.27,952.532 822.954,962.819 822.7,973.107 \n",
       "  822.509,983.394 822.381,993.681 822.316,1003.97 822.315,1014.26 822.38,1024.54 822.51,1034.83 822.707,1045.12 822.974,1055.41 823.312,1065.69 823.722,1075.98 \n",
       "  824.209,1086.27 824.774,1096.55 825.42,1106.84 826.151,1117.13 826.971,1127.42 827.884,1137.7 828.894,1147.99 830.006,1158.28 830.188,1159.84 831.073,1168.57 \n",
       "  832.213,1178.85 833.459,1189.14 834.817,1199.43 836.295,1209.72 837.901,1220 839.641,1230.29 841.527,1240.58 843.567,1250.87 843.979,1252.84 845.55,1261.15 \n",
       "  847.642,1271.44 849.908,1281.73 852.359,1292.01 855.011,1302.3 857.77,1312.21 857.867,1312.59 860.648,1322.88 863.662,1333.16 866.93,1343.45 870.473,1353.74 \n",
       "  871.561,1356.75 874.084,1364.03 877.91,1374.31 882.071,1384.6 885.352,1392.17 886.518,1394.89 891.139,1405.18 896.183,1415.46 899.143,1421.14 901.584,1425.75 \n",
       "  907.363,1436.04 912.934,1445.15 913.684,1446.33 920.513,1456.61 926.725,1465.21 928.04,1466.9 936.398,1477.19 940.516,1481.95 945.835,1487.47 940.516,1487.47 \n",
       "  954.307,1487.47 \n",
       "  \"/>\n",
       "<polyline clip-path=\"url(#clip2502)\" style=\"stroke:#000000; stroke-width:4; stroke-opacity:1; fill:none\" points=\"\n",
       "  1037.05,1428.64 1050.84,1430.57 1064.64,1430.67 1078.43,1429.02 1091.86,1425.75 1092.22,1425.67 1106.01,1420.82 1117.3,1415.46 1119.8,1414.31 1133.59,1406.3 \n",
       "  1135.21,1405.18 1147.38,1396.78 1149.75,1394.89 1161.17,1385.72 1162.41,1384.6 1173.71,1374.31 1174.96,1373.16 1184,1364.03 1188.76,1359.1 1193.56,1353.74 \n",
       "  1202.47,1343.45 1202.55,1343.37 1210.87,1333.16 1216.34,1326.15 1218.8,1322.88 1226.34,1312.59 1230.13,1307.22 1233.53,1302.3 1240.41,1292.01 1243.92,1286.55 \n",
       "  1247,1281.73 1253.36,1271.44 1257.71,1264.04 1259.42,1261.15 1265.38,1250.87 1270.96,1240.58 1271.5,1239.57 1276.57,1230.29 1281.87,1220 1285.29,1213.05 \n",
       "  1286.99,1209.72 1292.09,1199.43 1296.88,1189.14 1299.08,1184.22 1301.61,1178.85 1306.27,1168.57 1310.65,1158.28 1312.87,1152.84 1314.99,1147.99 1319.3,1137.7 \n",
       "  1323.36,1127.42 1326.67,1118.57 1327.25,1117.13 1331.3,1106.84 1335.11,1096.55 1338.69,1086.27 1340.46,1081.01 1342.3,1075.98 1345.92,1065.69 1349.34,1055.41 \n",
       "  1352.55,1045.12 1354.25,1039.47 1355.79,1034.83 1359.08,1024.54 1362.17,1014.26 1365.1,1003.97 1367.86,993.681 1368.04,993.008 1370.86,983.394 1373.71,973.107 \n",
       "  1376.4,962.819 1378.94,952.532 1381.35,942.245 1381.83,940.126 1383.92,931.957 1386.43,921.67 1388.79,911.382 1391.03,901.095 1393.15,890.808 1395.15,880.52 \n",
       "  1395.62,878.023 1397.29,870.233 1399.39,859.946 1401.37,849.658 1403.24,839.371 1405.01,829.084 1406.68,818.796 1408.25,808.509 1409.41,800.529 1409.8,798.221 \n",
       "  1411.45,787.934 1413,777.647 1414.45,767.359 1415.82,757.072 1417.1,746.785 1418.3,736.497 1419.42,726.21 1420.47,715.923 1421.44,705.635 1422.34,695.348 \n",
       "  1423.17,685.061 1423.2,684.614 1424.06,674.773 1424.87,664.486 1425.61,654.198 1426.27,643.911 1426.86,633.624 1427.37,623.336 1427.8,613.049 1428.16,602.762 \n",
       "  1428.45,592.474 1428.67,582.187 1428.81,571.9 1428.87,561.612 1428.86,551.325 1428.77,541.037 1428.61,530.75 1428.36,520.463 1428.03,510.175 1427.62,499.888 \n",
       "  1427.11,489.601 1426.52,479.313 1425.83,469.026 1425.05,458.739 1424.16,448.451 1423.2,438.611 1423.16,438.164 1422.19,427.876 1421.1,417.589 1419.9,407.302 \n",
       "  1418.58,397.014 1417.13,386.727 1415.55,376.44 1413.82,366.152 1411.94,355.865 1409.9,345.578 1409.41,343.27 1407.84,335.29 1405.65,325.003 1403.27,314.715 \n",
       "  1400.69,304.428 1397.9,294.141 1395.62,286.351 1394.92,283.853 1391.85,273.566 1388.53,263.279 1384.92,252.991 1381.83,244.823 1381.03,242.704 1376.96,232.417 \n",
       "  1372.53,222.129 1368.04,212.515 1367.72,211.842 1362.57,201.555 1356.94,191.267 1354.25,186.623 1350.77,180.98 1343.99,170.692 1340.46,165.659 1336.4,160.405 \n",
       "  1327.91,150.118 1326.67,148.678 1317.94,139.83 1312.87,134.98 1306.08,129.543 1299.08,124.177 1290.95,119.256 1285.29,115.921 1271.5,109.979 1267.92,108.968 \n",
       "  1257.71,106.082 1243.92,104.146 1230.13,104.049 1216.34,105.697 1202.91,108.968 1202.55,109.052 1188.76,113.899 1177.46,119.256 1174.96,120.411 1161.17,128.423 \n",
       "  1159.56,129.543 1147.38,137.939 1145.01,139.83 1133.59,148.997 1132.35,150.118 1121.06,160.405 1119.8,161.561 1110.77,170.692 1106.01,175.623 1101.2,180.98 \n",
       "  1092.29,191.267 1092.22,191.351 1083.9,201.555 1078.43,208.571 1075.97,211.842 1068.43,222.129 1064.64,227.498 1061.23,232.417 1054.36,242.704 1050.84,248.169 \n",
       "  1047.76,252.991 1041.41,263.279 1037.05,270.68 1035.34,273.566 1029.39,283.853 1023.8,294.141 1023.26,295.151 1018.19,304.428 1012.89,314.715 1009.47,321.668 \n",
       "  1007.77,325.003 1002.67,335.29 997.886,345.578 995.68,350.498 993.151,355.865 988.49,366.152 984.113,376.44 981.889,381.877 979.777,386.727 975.46,397.014 \n",
       "  971.402,407.302 968.098,416.15 967.519,417.589 963.467,427.876 959.657,438.164 956.07,448.451 954.307,453.705 952.465,458.739 948.841,469.026 945.429,479.313 \n",
       "  942.211,489.601 940.516,495.244 938.976,499.888 935.689,510.175 932.589,520.463 929.665,530.75 926.902,541.037 926.725,541.711 923.908,551.325 921.057,561.612 \n",
       "  918.365,571.9 915.821,582.187 913.415,592.474 912.934,594.593 910.842,602.762 908.336,613.049 905.969,623.336 903.731,633.624 901.615,643.911 899.612,654.198 \n",
       "  899.143,656.696 897.472,664.486 895.374,674.773 893.394,685.061 891.523,695.348 889.756,705.635 888.087,715.923 886.511,726.21 885.352,734.19 884.965,736.497 \n",
       "  883.317,746.785 881.766,757.072 880.31,767.359 878.942,777.647 877.661,787.934 876.461,798.221 875.34,808.509 874.296,818.796 873.325,829.084 872.425,839.371 \n",
       "  871.594,849.658 871.561,850.105 870.705,859.946 869.89,870.233 869.153,880.52 868.493,890.808 867.908,901.095 867.399,911.382 866.963,921.67 866.601,931.957 \n",
       "  866.313,942.245 866.098,952.532 865.958,962.819 865.893,973.107 865.903,983.394 865.991,993.681 866.157,1003.97 866.404,1014.26 866.734,1024.54 867.148,1034.83 \n",
       "  867.651,1045.12 868.244,1055.41 868.932,1065.69 869.719,1075.98 870.608,1086.27 871.561,1096.11 871.6,1096.55 872.578,1106.84 873.665,1117.13 874.865,1127.42 \n",
       "  876.185,1137.7 877.633,1147.99 879.216,1158.28 880.943,1168.57 882.823,1178.85 884.866,1189.14 885.352,1191.45 886.925,1199.43 889.113,1209.72 891.491,1220 \n",
       "  894.071,1230.29 896.868,1240.58 899.143,1248.37 899.848,1250.87 902.91,1261.15 906.236,1271.44 909.849,1281.73 912.934,1289.9 913.732,1292.01 917.799,1302.3 \n",
       "  922.23,1312.59 926.725,1322.2 927.048,1322.88 932.195,1333.16 937.823,1343.45 940.516,1348.1 943.992,1353.74 950.774,1364.03 954.307,1369.06 958.359,1374.31 \n",
       "  966.858,1384.6 968.098,1386.04 976.82,1394.89 981.889,1399.74 988.684,1405.18 995.68,1410.54 1003.81,1415.46 1009.47,1418.8 1023.26,1424.74 1026.85,1425.75 \n",
       "  1037.05,1428.64 \n",
       "  \"/>\n",
       "<polyline clip-path=\"url(#clip2502)\" style=\"stroke:#000000; stroke-width:4; stroke-opacity:1; fill:none\" points=\"\n",
       "  1037.05,1357.56 1050.84,1361.15 1064.64,1362.58 1078.43,1362.03 1092.22,1359.6 1106.01,1355.3 1109.54,1353.74 1119.8,1349.3 1130.14,1343.45 1133.59,1341.53 \n",
       "  1145.79,1333.16 1147.38,1332.08 1158.8,1322.88 1161.17,1320.96 1170.23,1312.59 1174.96,1308.15 1180.58,1302.3 1188.76,1293.58 1190.11,1292.01 1198.88,1281.73 \n",
       "  1202.55,1277.3 1207.12,1271.44 1214.86,1261.15 1216.34,1259.16 1222.22,1250.87 1229.17,1240.58 1230.13,1239.13 1235.86,1230.29 1242.19,1220 1243.92,1217.12 \n",
       "  1248.33,1209.72 1254.18,1199.43 1257.71,1192.96 1259.81,1189.14 1265.29,1178.85 1270.47,1168.57 1271.5,1166.46 1275.61,1158.28 1280.52,1147.99 1285.15,1137.7 \n",
       "  1285.29,1137.39 1289.87,1127.42 1294.33,1117.13 1298.53,1106.84 1299.08,1105.47 1302.83,1096.55 1306.92,1086.27 1310.79,1075.98 1312.87,1070.23 1314.62,1065.69 \n",
       "  1318.43,1055.41 1322.04,1045.12 1325.45,1034.83 1326.67,1031.03 1328.9,1024.54 1332.3,1014.26 1335.51,1003.97 1338.55,993.681 1340.46,986.94 1341.55,983.394 \n",
       "  1344.61,973.107 1347.5,962.819 1350.25,952.532 1352.84,942.245 1354.25,936.436 1355.44,931.957 1358.08,921.67 1360.57,911.382 1362.93,901.095 1365.17,890.808 \n",
       "  1367.28,880.52 1368.04,876.704 1369.46,870.233 1371.62,859.946 1373.66,849.658 1375.59,839.371 1377.41,829.084 1379.13,818.796 1380.75,808.509 1381.83,801.296 \n",
       "  1382.35,798.221 1383.99,787.934 1385.54,777.647 1386.99,767.359 1388.35,757.072 1389.62,746.785 1390.8,736.497 1391.9,726.21 1392.92,715.923 1393.86,705.635 \n",
       "  1394.72,695.348 1395.51,685.061 1395.62,683.528 1396.31,674.773 1397.05,664.486 1397.69,654.198 1398.26,643.911 1398.74,633.624 1399.13,623.336 1399.45,613.049 \n",
       "  1399.68,602.762 1399.83,592.474 1399.9,582.187 1399.88,571.9 1399.77,561.612 1399.58,551.325 1399.29,541.037 1398.91,530.75 1398.43,520.463 1397.86,510.175 \n",
       "  1397.18,499.888 1396.39,489.601 1395.62,480.845 1395.5,479.313 1394.58,469.026 1393.54,458.739 1392.38,448.451 1391.1,438.164 1389.68,427.876 1388.12,417.589 \n",
       "  1386.41,407.302 1384.53,397.014 1382.48,386.727 1381.83,383.652 1380.36,376.44 1378.09,366.152 1375.62,355.865 1372.93,345.578 1370.01,335.29 1368.04,328.819 \n",
       "  1366.89,325.003 1363.58,314.715 1359.98,304.428 1356.06,294.141 1354.25,289.662 1351.84,283.853 1347.26,273.566 1342.27,263.279 1340.46,259.733 1336.79,252.991 \n",
       "  1330.75,242.704 1326.67,236.219 1324.03,232.417 1316.44,222.129 1312.87,217.589 1307.69,211.842 1299.08,202.926 1297.49,201.555 1285.29,191.581 1284.8,191.267 \n",
       "  1271.5,183.084 1266.66,180.98 1257.71,177.157 1243.92,173.572 1230.13,172.139 1216.34,172.687 1202.55,175.121 1188.76,179.415 1185.23,180.98 1174.96,185.419 \n",
       "  1164.62,191.267 1161.17,193.186 1148.98,201.555 1147.38,202.642 1135.96,211.842 1133.59,213.761 1124.53,222.129 1119.8,226.568 1114.18,232.417 1106.01,241.139 \n",
       "  1104.66,242.704 1095.89,252.991 1092.22,257.42 1087.65,263.279 1079.9,273.566 1078.43,275.561 1072.55,283.853 1065.6,294.141 1064.64,295.587 1058.91,304.428 \n",
       "  1052.57,314.715 1050.84,317.595 1046.43,325.003 1040.58,335.29 1037.05,341.755 1034.95,345.578 1029.47,355.865 1024.3,366.152 1023.26,368.256 1019.16,376.44 \n",
       "  1014.25,386.727 1009.61,397.014 1009.47,397.328 1004.9,407.302 1000.44,417.589 996.23,427.876 995.68,429.248 991.938,438.164 987.84,448.451 983.969,458.739 \n",
       "  981.889,464.486 980.145,469.026 976.331,479.313 972.726,489.601 969.318,499.888 968.098,503.69 965.863,510.175 962.466,520.463 959.255,530.75 956.215,541.037 \n",
       "  954.307,547.779 953.216,551.325 950.155,561.612 947.259,571.9 944.519,582.187 941.923,592.474 940.516,598.283 939.323,602.762 936.687,613.049 934.192,623.336 \n",
       "  931.832,633.624 929.597,643.911 927.48,654.198 926.725,658.014 925.301,664.486 923.142,674.773 921.102,685.061 919.175,695.348 917.354,705.635 915.635,715.923 \n",
       "  914.012,726.21 912.934,733.422 912.417,736.497 910.77,746.785 909.223,757.072 907.773,767.359 906.415,777.647 905.146,787.934 903.963,798.221 902.863,808.509 \n",
       "  901.844,818.796 900.903,829.084 900.039,839.371 899.25,849.658 899.143,851.19 898.449,859.946 897.718,870.233 897.072,880.52 896.509,890.808 896.028,901.095 \n",
       "  895.629,911.382 895.313,921.67 895.08,931.957 894.93,942.245 894.864,952.532 894.884,962.819 894.99,973.107 895.186,983.394 895.473,993.681 895.853,1003.97 \n",
       "  896.33,1014.26 896.908,1024.54 897.589,1034.83 898.378,1045.12 899.143,1053.87 899.266,1055.41 900.187,1065.69 901.223,1075.98 902.379,1086.27 903.664,1096.55 \n",
       "  905.083,1106.84 906.645,1117.13 908.358,1127.42 910.234,1137.7 912.281,1147.99 912.934,1151.07 914.404,1158.28 916.671,1168.57 919.142,1178.85 921.831,1189.14 \n",
       "  924.755,1199.43 926.725,1205.9 927.879,1209.72 931.186,1220 934.787,1230.29 938.706,1240.58 940.516,1245.06 942.927,1250.87 947.499,1261.15 952.49,1271.44 \n",
       "  954.307,1274.99 957.978,1281.73 964.013,1292.01 968.098,1298.5 970.735,1302.3 978.322,1312.59 981.889,1317.13 987.074,1322.88 995.68,1331.79 997.274,1333.16 \n",
       "  1009.47,1343.14 1009.96,1343.45 1023.26,1351.63 1028.1,1353.74 1037.05,1357.56 \n",
       "  \"/>\n",
       "<polyline clip-path=\"url(#clip2502)\" style=\"stroke:#000000; stroke-width:4; stroke-opacity:1; fill:none\" points=\"\n",
       "  1050.84,1305.67 1064.64,1308.49 1078.43,1309.01 1092.22,1307.39 1106.01,1303.72 1109.45,1302.3 1119.8,1298.14 1131.01,1292.01 1133.59,1290.63 1146.68,1281.73 \n",
       "  1147.38,1281.25 1159.47,1271.44 1161.17,1270.05 1170.62,1261.15 1174.96,1256.99 1180.68,1250.87 1188.76,1242 1189.94,1240.58 1198.4,1230.29 1202.55,1225.09 \n",
       "  1206.35,1220 1213.8,1209.72 1216.34,1206.13 1220.86,1199.43 1227.54,1189.14 1230.13,1185.04 1233.92,1178.85 1240,1168.57 1243.92,1161.65 1245.81,1158.28 \n",
       "  1251.42,1147.99 1256.73,1137.7 1257.71,1135.77 1261.94,1127.42 1266.92,1117.13 1271.5,1107.13 1271.64,1106.84 1276.35,1096.55 1280.82,1086.27 1285.05,1075.98 \n",
       "  1285.29,1075.38 1289.33,1065.69 1293.39,1055.41 1297.24,1045.12 1299.08,1040 1301.04,1034.83 1304.78,1024.54 1308.32,1014.26 1311.68,1003.97 1312.87,1000.19 \n",
       "  1315.05,993.681 1318.35,983.394 1321.48,973.107 1324.44,962.819 1326.67,954.739 1327.32,952.532 1330.26,942.245 1333.04,931.957 1335.68,921.67 1338.18,911.382 \n",
       "  1340.46,901.537 1340.57,901.095 1343.06,890.808 1345.43,880.52 1347.66,870.233 1349.78,859.946 1351.78,849.658 1353.68,839.371 1354.25,836.127 1355.61,829.084 \n",
       "  1357.49,818.796 1359.27,808.509 1360.94,798.221 1362.5,787.934 1363.98,777.647 1365.35,767.359 1366.64,757.072 1367.85,746.785 1368.04,745.016 1369.07,736.497 \n",
       "  1370.22,726.21 1371.28,715.923 1372.25,705.635 1373.13,695.348 1373.92,685.061 1374.63,674.773 1375.25,664.486 1375.78,654.198 1376.23,643.911 1376.59,633.624 \n",
       "  1376.86,623.336 1377.05,613.049 1377.15,602.762 1377.16,592.474 1377.08,582.187 1376.91,571.9 1376.64,561.612 1376.27,551.325 1375.8,541.037 1375.22,530.75 \n",
       "  1374.53,520.463 1373.73,510.175 1372.81,499.888 1371.76,489.601 1370.57,479.313 1369.25,469.026 1368.04,460.507 1367.8,458.739 1366.28,448.451 1364.59,438.164 \n",
       "  1362.74,427.876 1360.71,417.589 1358.48,407.302 1356.05,397.014 1354.25,389.971 1353.42,386.727 1350.63,376.44 1347.58,366.152 1344.25,355.865 1340.62,345.578 \n",
       "  1340.46,345.135 1336.7,335.29 1332.41,325.003 1327.72,314.715 1326.67,312.509 1322.51,304.428 1316.78,294.141 1312.87,287.635 1310.35,283.853 1303.03,273.566 \n",
       "  1299.08,268.392 1294.54,263.279 1285.29,253.587 1284.59,252.991 1271.88,242.704 1271.5,242.415 1257.71,234.349 1252.75,232.417 1243.92,229.044 1230.13,226.232 \n",
       "  1216.34,225.713 1202.55,227.328 1188.76,230.998 1185.31,232.417 1174.96,236.574 1163.75,242.704 1161.17,244.091 1148.08,252.991 1147.38,253.464 1135.29,263.279 \n",
       "  1133.59,264.666 1124.15,273.566 1119.8,277.724 1114.08,283.853 1106.01,292.722 1104.83,294.141 1096.37,304.428 1092.22,309.627 1088.42,314.715 1080.96,325.003 \n",
       "  1078.43,328.587 1073.91,335.29 1067.23,345.578 1064.64,349.681 1060.84,355.865 1054.77,366.152 1050.84,373.067 1048.96,376.44 1043.35,386.727 1038.03,397.014 \n",
       "  1037.05,398.947 1032.82,407.302 1027.85,417.589 1023.26,427.588 1023.13,427.876 1018.41,438.164 1013.94,448.451 1009.71,458.739 1009.47,459.334 1005.44,469.026 \n",
       "  1001.38,479.313 997.527,489.601 995.68,494.714 993.728,499.888 989.989,510.175 986.445,520.463 983.085,530.75 981.889,534.531 979.713,541.037 976.414,551.325 \n",
       "  973.287,561.612 970.322,571.9 968.098,579.98 967.447,582.187 964.508,592.474 961.724,602.762 959.084,613.049 956.582,623.336 954.307,633.182 954.196,633.624 \n",
       "  951.699,643.911 949.336,654.198 947.1,664.486 944.984,674.773 942.982,685.061 941.088,695.348 940.516,698.592 939.155,705.635 937.272,715.923 935.498,726.21 \n",
       "  933.828,736.497 932.26,746.785 930.788,757.072 929.409,767.359 928.12,777.647 926.918,787.934 926.725,789.703 925.693,798.221 924.54,808.509 923.48,818.796 \n",
       "  922.512,829.084 921.633,839.371 920.841,849.658 920.137,859.946 919.518,870.233 918.985,880.52 918.538,890.808 918.176,901.095 917.9,911.382 917.711,921.67 \n",
       "  917.61,931.957 917.599,942.245 917.679,952.532 917.853,962.819 918.123,973.107 918.492,983.394 918.964,993.681 919.542,1003.97 920.23,1014.26 921.034,1024.54 \n",
       "  921.957,1034.83 923.008,1045.12 924.19,1055.41 925.513,1065.69 926.725,1074.21 926.966,1075.98 928.488,1086.27 930.17,1096.55 932.022,1106.84 934.056,1117.13 \n",
       "  936.283,1127.42 938.716,1137.7 940.516,1144.75 941.341,1147.99 944.135,1158.28 947.187,1168.57 950.516,1178.85 954.144,1189.14 954.307,1189.58 958.069,1199.43 \n",
       "  962.357,1209.72 967.04,1220 968.098,1222.21 972.249,1230.29 977.986,1240.58 981.889,1247.08 984.413,1250.87 991.735,1261.15 995.68,1266.33 1000.22,1271.44 \n",
       "  1009.47,1281.13 1010.17,1281.73 1022.89,1292.01 1023.26,1292.3 1037.05,1300.37 1042.01,1302.3 1050.84,1305.67 \n",
       "  \"/>\n",
       "<polyline clip-path=\"url(#clip2502)\" style=\"stroke:#000000; stroke-width:4; stroke-opacity:1; fill:none\" points=\"\n",
       "  1064.64,1261.85 1078.43,1263.52 1092.22,1262.77 1099.49,1261.15 1106.01,1259.76 1119.8,1254.62 1126.9,1250.87 1133.59,1247.38 1143.69,1240.58 1147.38,1238.1 \n",
       "  1156.93,1230.29 1161.17,1226.81 1168.26,1220 1174.96,1213.47 1178.37,1209.72 1187.53,1199.43 1188.76,1198.03 1195.86,1189.14 1202.55,1180.47 1203.7,1178.85 \n",
       "  1210.96,1168.57 1216.34,1160.65 1217.86,1158.28 1224.35,1147.99 1230.13,1138.41 1230.54,1137.7 1236.43,1127.42 1242.04,1117.13 1243.92,1113.58 1247.44,1106.84 \n",
       "  1252.6,1096.55 1257.51,1086.27 1257.71,1085.83 1262.32,1075.98 1266.9,1065.69 1271.25,1055.41 1271.5,1054.81 1275.57,1045.12 1279.69,1034.83 1283.59,1024.54 \n",
       "  1285.29,1019.92 1287.43,1014.26 1291.17,1003.97 1294.72,993.681 1298.09,983.394 1299.08,980.276 1301.46,973.107 1304.72,962.819 1307.81,952.532 1310.75,942.245 \n",
       "  1312.87,934.454 1313.59,931.957 1316.46,921.67 1319.17,911.382 1321.75,901.095 1324.19,890.808 1326.51,880.52 1326.67,879.801 1328.89,870.233 1331.15,859.946 \n",
       "  1333.29,849.658 1335.31,839.371 1337.22,829.084 1339.02,818.796 1340.46,810.099 1340.74,808.509 1342.49,798.221 1344.13,787.934 1345.66,777.647 1347.09,767.359 \n",
       "  1348.42,757.072 1349.66,746.785 1350.8,736.497 1351.85,726.21 1352.81,715.923 1353.68,705.635 1354.25,698.184 1354.48,695.348 1355.24,685.061 1355.9,674.773 \n",
       "  1356.47,664.486 1356.94,654.198 1357.31,643.911 1357.58,633.624 1357.76,623.336 1357.83,613.049 1357.8,602.762 1357.67,592.474 1357.43,582.187 1357.08,571.9 \n",
       "  1356.62,561.612 1356.04,551.325 1355.34,541.037 1354.51,530.75 1354.25,527.914 1353.59,520.463 1352.55,510.175 1351.37,499.888 1350.04,489.601 1348.55,479.313 \n",
       "  1346.9,469.026 1345.07,458.739 1343.05,448.451 1340.82,438.164 1340.46,436.573 1338.44,427.876 1335.83,417.589 1332.97,407.302 1329.84,397.014 1326.67,387.447 \n",
       "  1326.42,386.727 1322.66,376.44 1318.54,366.152 1314.03,355.865 1312.87,353.368 1308.95,345.578 1303.33,335.29 1299.08,328.121 1297,325.003 1289.65,314.715 \n",
       "  1285.29,309.05 1281.05,304.428 1271.5,294.739 1270.75,294.141 1257.71,284.289 1256.9,283.853 1243.92,277.111 1232.45,273.566 1230.13,272.864 1216.34,271.196 \n",
       "  1202.55,271.953 1195.27,273.566 1188.76,274.961 1174.96,280.1 1167.86,283.853 1161.17,287.336 1151.08,294.141 1147.38,296.617 1137.83,304.428 1133.59,307.911 \n",
       "  1126.5,314.715 1119.8,321.249 1116.39,325.003 1107.24,335.29 1106.01,336.685 1098.91,345.578 1092.22,354.251 1091.06,355.865 1083.8,366.152 1078.43,374.07 \n",
       "  1076.9,376.44 1070.41,386.727 1064.64,396.313 1064.23,397.014 1058.33,407.302 1052.73,417.589 1050.84,421.134 1047.33,427.876 1042.17,438.164 1037.26,448.451 \n",
       "  1037.05,448.887 1032.44,458.739 1027.86,469.026 1023.51,479.313 1023.26,479.912 1019.19,489.601 1015.08,499.888 1011.17,510.175 1009.47,514.797 1007.33,520.463 \n",
       "  1003.59,530.75 1000.05,541.037 996.671,551.325 995.68,554.443 993.307,561.612 990.048,571.9 986.955,582.187 984.016,592.474 981.889,600.264 981.17,602.762 \n",
       "  978.306,613.049 975.591,623.336 973.015,633.624 970.572,643.911 968.255,654.198 968.098,654.918 965.877,664.486 963.615,674.773 961.476,685.061 959.456,695.348 \n",
       "  957.547,705.635 955.746,715.923 954.307,724.619 954.023,726.21 952.275,736.497 950.637,746.785 949.105,757.072 947.674,767.359 946.342,777.647 945.107,787.934 \n",
       "  943.965,798.221 942.915,808.509 941.955,818.796 941.084,829.084 940.516,836.534 940.28,839.371 939.521,849.658 938.86,859.946 938.295,870.233 937.826,880.52 \n",
       "  937.455,890.808 937.182,901.095 937.007,911.382 936.933,921.67 936.96,931.957 937.092,942.245 937.331,952.532 937.68,962.819 938.143,973.107 938.723,983.394 \n",
       "  939.425,993.681 940.254,1003.97 940.516,1006.81 941.175,1014.26 942.214,1024.54 943.394,1034.83 944.723,1045.12 946.21,1055.41 947.865,1065.69 949.697,1075.98 \n",
       "  951.717,1086.27 953.94,1096.55 954.307,1098.15 956.325,1106.84 958.934,1117.13 961.794,1127.42 964.925,1137.7 968.098,1147.27 968.347,1147.99 972.107,1158.28 \n",
       "  976.225,1168.57 980.731,1178.85 981.889,1181.35 985.81,1189.14 991.437,1199.43 995.68,1206.6 997.768,1209.72 1005.11,1220 1009.47,1225.67 1013.71,1230.29 \n",
       "  1023.26,1239.98 1024.01,1240.58 1037.05,1250.43 1037.86,1250.87 1050.84,1257.61 1062.32,1261.15 1064.64,1261.85 \n",
       "  \"/>\n",
       "<polyline clip-path=\"url(#clip2502)\" style=\"stroke:#000000; stroke-width:4; stroke-opacity:1; fill:none\" points=\"\n",
       "  1078.43,1222.58 1092.22,1222.78 1106.01,1220.45 1107.29,1220 1119.8,1215.78 1131.77,1209.72 1133.59,1208.8 1147.38,1199.61 1147.61,1199.43 1160.07,1189.14 \n",
       "  1161.17,1188.23 1170.73,1178.85 1174.96,1174.63 1180.3,1168.57 1188.76,1158.72 1189.1,1158.28 1196.98,1147.99 1202.55,1140.48 1204.45,1137.7 1211.35,1127.42 \n",
       "  1216.34,1119.71 1217.91,1117.13 1224.06,1106.84 1229.94,1096.55 1230.13,1096.22 1235.51,1086.27 1240.82,1075.98 1243.92,1069.76 1245.9,1065.69 1250.78,1055.41 \n",
       "  1255.42,1045.12 1257.71,1039.87 1259.9,1034.83 1264.22,1024.54 1268.33,1014.26 1271.5,1005.97 1272.28,1003.97 1276.15,993.681 1279.83,983.394 1283.33,973.107 \n",
       "  1285.29,967.131 1286.74,962.819 1290.07,952.532 1293.24,942.245 1296.25,931.957 1299.08,921.767 1299.11,921.67 1302,911.382 1304.73,901.095 1307.33,890.808 \n",
       "  1309.79,880.52 1312.13,870.233 1312.87,866.79 1314.44,859.946 1316.68,849.658 1318.79,839.371 1320.78,829.084 1322.66,818.796 1324.43,808.509 1326.09,798.221 \n",
       "  1326.67,794.423 1327.72,787.934 1329.28,777.647 1330.73,767.359 1332.08,757.072 1333.32,746.785 1334.46,736.497 1335.51,726.21 1336.45,715.923 1337.29,705.635 \n",
       "  1338.04,695.348 1338.7,685.061 1339.25,674.773 1339.71,664.486 1340.07,654.198 1340.33,643.911 1340.46,635.314 1340.48,633.624 1340.54,623.336 1340.48,613.049 \n",
       "  1340.46,611.358 1340.32,602.762 1340.05,592.474 1339.65,582.187 1339.14,571.9 1338.5,561.612 1337.73,551.325 1336.81,541.037 1335.76,530.75 1334.55,520.463 \n",
       "  1333.17,510.175 1331.63,499.888 1329.91,489.601 1327.99,479.313 1326.67,472.824 1325.88,469.026 1323.56,458.739 1321.01,448.451 1318.19,438.164 1315.1,427.876 \n",
       "  1312.87,421.032 1311.69,417.589 1307.89,407.302 1303.71,397.014 1299.13,386.727 1299.08,386.63 1293.8,376.44 1287.93,366.152 1285.29,361.841 1281.06,355.865 \n",
       "  1273.14,345.578 1271.5,343.571 1263.16,335.29 1257.71,330.247 1250.12,325.003 1243.92,320.938 1230.13,315.053 1228.57,314.715 1216.34,312.135 1202.55,311.941 \n",
       "  1188.76,314.273 1187.48,314.715 1174.96,318.935 1163,325.003 1161.17,325.914 1147.38,335.105 1147.16,335.29 1134.69,345.578 1133.59,346.489 1124.04,355.865 \n",
       "  1119.8,360.084 1114.46,366.152 1106.01,375.997 1105.67,376.44 1097.78,386.727 1092.22,394.239 1090.32,397.014 1083.41,407.302 1078.43,415.009 1076.85,417.589 \n",
       "  1070.7,427.876 1064.83,438.164 1064.64,438.501 1059.26,448.451 1053.95,458.739 1050.84,464.961 1048.86,469.026 1043.99,479.313 1039.34,489.601 1037.05,494.845 \n",
       "  1034.86,499.888 1030.54,510.175 1026.43,520.463 1023.26,528.744 1022.49,530.75 1018.62,541.037 1014.93,551.325 1011.43,561.612 1009.47,567.588 1008.02,571.9 \n",
       "  1004.69,582.187 1001.53,592.474 998.517,602.762 995.68,612.952 995.652,613.049 992.768,623.336 990.032,633.624 987.436,643.911 984.974,654.198 982.638,664.486 \n",
       "  981.889,667.929 980.324,674.773 978.087,685.061 975.976,695.348 973.984,705.635 972.106,715.923 970.338,726.21 968.677,736.497 968.098,740.295 967.046,746.785 \n",
       "  965.484,757.072 964.032,767.359 962.685,777.647 961.442,787.934 960.3,798.221 959.258,808.509 958.315,818.796 957.469,829.084 956.721,839.371 956.069,849.658 \n",
       "  955.514,859.946 955.056,870.233 954.697,880.52 954.438,890.808 954.307,899.405 954.28,901.095 954.223,911.382 954.279,921.67 954.307,923.36 954.443,931.957 \n",
       "  954.719,942.245 955.111,952.532 955.625,962.819 956.266,973.107 957.039,983.394 957.95,993.681 959.007,1003.97 960.217,1014.26 961.589,1024.54 963.132,1034.83 \n",
       "  964.857,1045.12 966.773,1055.41 968.098,1061.89 968.884,1065.69 971.199,1075.98 973.755,1086.27 976.569,1096.55 979.66,1106.84 981.889,1113.69 983.074,1117.13 \n",
       "  986.876,1127.42 991.052,1137.7 995.635,1147.99 995.68,1148.09 1000.96,1158.28 1006.84,1168.57 1009.47,1172.88 1013.71,1178.85 1021.62,1189.14 1023.26,1191.15 \n",
       "  1031.6,1199.43 1037.05,1204.47 1044.64,1209.72 1050.84,1213.78 1064.64,1219.67 1066.2,1220 1078.43,1222.58 \n",
       "  \"/>\n",
       "<polyline clip-path=\"url(#clip2502)\" style=\"stroke:#000000; stroke-width:4; stroke-opacity:1; fill:none\" points=\"\n",
       "  1064.64,1180.07 1078.43,1184.41 1092.22,1185.67 1106.01,1184.12 1119.8,1179.95 1122.04,1178.85 1133.59,1173.3 1140.76,1168.57 1147.38,1164.21 1154.52,1158.28 \n",
       "  1161.17,1152.73 1165.91,1147.99 1174.96,1138.8 1175.9,1137.7 1184.6,1127.42 1188.76,1122.4 1192.66,1117.13 1200.09,1106.84 1202.55,1103.37 1206.97,1096.55 \n",
       "  1213.44,1086.27 1216.34,1081.54 1219.54,1075.98 1225.27,1065.69 1230.13,1056.62 1230.75,1055.41 1235.92,1045.12 1240.86,1034.83 1243.92,1028.23 1245.59,1024.54 \n",
       "  1250.1,1014.26 1254.4,1003.97 1257.71,995.736 1258.53,993.681 1262.51,983.394 1266.31,973.107 1269.93,962.819 1271.5,958.186 1273.43,952.532 1276.81,942.245 \n",
       "  1280.03,931.957 1283.09,921.67 1285.29,913.932 1286.03,911.382 1288.91,901.095 1291.64,890.808 1294.24,880.52 1296.7,870.233 1299.03,859.946 1299.08,859.69 \n",
       "  1301.34,849.658 1303.52,839.371 1305.58,829.084 1307.52,818.796 1309.34,808.509 1311.05,798.221 1312.65,787.934 1312.87,786.428 1314.22,777.647 1315.67,767.359 \n",
       "  1317.02,757.072 1318.26,746.785 1319.38,736.497 1320.4,726.21 1321.31,715.923 1322.12,705.635 1322.82,695.348 1323.41,685.061 1323.9,674.773 1324.28,664.486 \n",
       "  1324.55,654.198 1324.7,643.911 1324.74,633.624 1324.66,623.336 1324.46,613.049 1324.14,602.762 1323.68,592.474 1323.09,582.187 1322.36,571.9 1321.47,561.612 \n",
       "  1320.43,551.325 1319.23,541.037 1317.85,530.75 1316.29,520.463 1314.54,510.175 1312.87,501.394 1312.58,499.888 1310.39,489.601 1307.96,479.313 1305.26,469.026 \n",
       "  1302.28,458.739 1299.08,448.707 1299,448.451 1295.23,438.164 1291.08,427.876 1286.5,417.589 1285.29,415.039 1281.14,407.302 1275.1,397.014 1271.5,391.36 \n",
       "  1267.98,386.727 1259.51,376.44 1257.71,374.385 1248.39,366.152 1243.92,362.466 1232.37,355.865 1230.13,354.649 1216.34,350.305 1202.55,349.051 1188.76,350.596 \n",
       "  1174.96,354.773 1172.73,355.865 1161.17,361.419 1154.01,366.152 1147.38,370.504 1140.24,376.44 1133.59,381.993 1128.86,386.727 1119.8,395.922 1118.86,397.014 \n",
       "  1110.16,407.302 1106.01,412.32 1102.1,417.589 1094.67,427.876 1092.22,431.35 1087.79,438.164 1081.32,448.451 1078.43,453.179 1075.23,458.739 1069.49,469.026 \n",
       "  1064.64,478.097 1064.01,479.313 1058.84,489.601 1053.9,499.888 1050.84,506.489 1049.18,510.175 1044.67,520.463 1040.36,530.75 1037.05,538.982 1036.23,541.037 \n",
       "  1032.25,551.325 1028.46,561.612 1024.84,571.9 1023.26,576.533 1021.33,582.187 1017.95,592.474 1014.73,602.762 1011.67,613.049 1009.47,620.787 1008.73,623.336 \n",
       "  1005.85,633.624 1003.12,643.911 1000.53,654.198 998.068,664.486 995.736,674.773 995.68,675.029 993.424,685.061 991.239,695.348 989.18,705.635 987.242,715.923 \n",
       "  985.419,726.21 983.71,736.497 982.109,746.785 981.889,748.291 980.548,757.072 979.09,767.359 977.744,777.647 976.509,787.934 975.382,798.221 974.363,808.509 \n",
       "  973.451,818.796 972.644,829.084 971.944,839.371 971.35,849.658 970.864,859.946 970.486,870.233 970.218,880.52 970.063,890.808 970.023,901.095 970.1,911.382 \n",
       "  970.3,921.67 970.626,931.957 971.082,942.245 971.674,952.532 972.408,962.819 973.291,973.107 974.33,983.394 975.533,993.681 976.91,1003.97 978.469,1014.26 \n",
       "  980.223,1024.54 981.889,1033.32 982.183,1034.83 984.372,1045.12 986.806,1055.41 989.503,1065.69 992.482,1075.98 995.68,1086.01 995.768,1086.27 999.532,1096.55 \n",
       "  1003.69,1106.84 1008.26,1117.13 1009.47,1119.68 1013.62,1127.42 1019.67,1137.7 1023.26,1143.36 1026.78,1147.99 1035.25,1158.28 1037.05,1160.33 1046.37,1168.57 \n",
       "  1050.84,1172.25 1062.4,1178.85 1064.64,1180.07 \n",
       "  \"/>\n",
       "<polyline clip-path=\"url(#clip2502)\" style=\"stroke:#000000; stroke-width:4; stroke-opacity:1; fill:none\" points=\"\n",
       "  1092.22,1150.28 1106.01,1149.61 1112.16,1147.99 1119.8,1146.03 1133.59,1139.72 1136.67,1137.7 1147.38,1130.75 1151.35,1127.42 1161.17,1119.14 1163.14,1117.13 \n",
       "  1173.09,1106.84 1174.96,1104.88 1181.81,1096.55 1188.76,1087.88 1189.91,1086.27 1197.11,1075.98 1202.55,1067.98 1203.96,1065.69 1210.21,1055.41 1216.21,1045.12 \n",
       "  1216.34,1044.9 1221.73,1034.83 1227.02,1024.54 1230.13,1018.29 1232.04,1014.26 1236.77,1003.97 1241.3,993.681 1243.92,987.524 1245.62,983.394 1249.73,973.107 \n",
       "  1253.66,962.819 1257.4,952.532 1257.71,951.669 1261,942.245 1264.43,931.957 1267.7,921.67 1270.82,911.382 1271.5,909.042 1273.83,901.095 1276.7,890.808 \n",
       "  1279.42,880.52 1282,870.233 1284.46,859.946 1285.29,856.262 1286.82,849.658 1289.07,839.371 1291.19,829.084 1293.19,818.796 1295.06,808.509 1296.82,798.221 \n",
       "  1298.45,787.934 1299.08,783.699 1300.01,777.647 1301.46,767.359 1302.8,757.072 1304.02,746.785 1305.12,736.497 1306.11,726.21 1306.98,715.923 1307.74,705.635 \n",
       "  1308.38,695.348 1308.9,685.061 1309.3,674.773 1309.59,664.486 1309.75,654.198 1309.78,643.911 1309.68,633.624 1309.45,623.336 1309.08,613.049 1308.56,602.762 \n",
       "  1307.89,592.474 1307.06,582.187 1306.07,571.9 1304.9,561.612 1303.54,551.325 1301.99,541.037 1300.24,530.75 1299.08,524.698 1298.24,520.463 1295.97,510.175 \n",
       "  1293.44,499.888 1290.62,489.601 1287.49,479.313 1285.29,472.709 1283.94,469.026 1279.86,458.739 1275.33,448.451 1271.5,440.504 1270.19,438.164 1264,427.876 \n",
       "  1257.71,418.452 1257,417.589 1247.89,407.302 1243.92,403.172 1235.81,397.014 1230.13,392.982 1216.34,386.941 1215.19,386.727 1202.55,384.442 1188.76,385.111 \n",
       "  1182.6,386.727 1174.96,388.685 1161.17,395.003 1158.09,397.014 1147.38,403.974 1143.41,407.302 1133.59,415.578 1131.62,417.589 1121.67,427.876 1119.8,429.834 \n",
       "  1112.96,438.164 1106.01,446.835 1104.86,448.451 1097.65,458.739 1092.22,466.741 1090.8,469.026 1084.55,479.313 1078.55,489.601 1078.43,489.815 1073.03,499.888 \n",
       "  1067.74,510.175 1064.64,516.43 1062.72,520.463 1057.99,530.75 1053.46,541.037 1050.84,547.195 1049.14,551.325 1045.03,561.612 1041.11,571.9 1037.36,582.187 \n",
       "  1037.05,583.05 1033.76,592.474 1030.33,602.762 1027.06,613.049 1023.95,623.336 1023.26,625.676 1020.94,633.624 1018.07,643.911 1015.34,654.198 1012.76,664.486 \n",
       "  1010.31,674.773 1009.47,678.456 1007.94,685.061 1005.69,695.348 1003.57,705.635 1001.57,715.923 999.701,726.21 997.947,736.497 996.309,746.785 995.68,751.02 \n",
       "  994.755,757.072 993.3,767.359 991.963,777.647 990.745,787.934 989.642,798.221 988.655,808.509 987.784,818.796 987.027,829.084 986.387,839.371 985.864,849.658 \n",
       "  985.46,859.946 985.177,870.233 985.018,880.52 984.985,890.808 985.083,901.095 985.315,911.382 985.687,921.67 986.205,931.957 986.874,942.245 987.702,952.532 \n",
       "  988.697,962.819 989.867,973.107 991.221,983.394 992.771,993.681 994.529,1003.97 995.68,1010.02 996.524,1014.26 998.79,1024.54 1001.32,1034.83 1004.14,1045.12 \n",
       "  1007.27,1055.41 1009.47,1062.01 1010.82,1065.69 1014.9,1075.98 1019.43,1086.27 1023.26,1094.22 1024.57,1096.55 1030.77,1106.84 1037.05,1116.27 1037.77,1117.13 \n",
       "  1046.87,1127.42 1050.84,1131.55 1058.95,1137.7 1064.64,1141.74 1078.43,1147.78 1079.57,1147.99 1092.22,1150.28 \n",
       "  \"/>\n",
       "<polyline clip-path=\"url(#clip2502)\" style=\"stroke:#000000; stroke-width:4; stroke-opacity:1; fill:none\" points=\"\n",
       "  1078.43,1111.69 1092.22,1115.7 1106.01,1116.08 1119.8,1113.2 1133.59,1107.27 1134.25,1106.84 1147.38,1098.43 1149.59,1096.55 1161.17,1086.7 1161.58,1086.27 \n",
       "  1171.3,1075.98 1174.96,1072.05 1180,1065.69 1187.95,1055.41 1188.76,1054.35 1194.95,1045.12 1201.63,1034.83 1202.55,1033.4 1207.66,1024.54 1213.39,1014.26 \n",
       "  1216.34,1008.82 1218.78,1003.97 1223.8,993.681 1228.61,983.394 1230.13,980.061 1233.13,973.107 1237.4,962.819 1241.49,952.532 1243.92,946.194 1245.38,942.245 \n",
       "  1249.06,931.957 1252.56,921.67 1255.9,911.382 1257.71,905.588 1259.09,901.095 1262.11,890.808 1264.98,880.52 1267.7,870.233 1270.29,859.946 1271.5,854.873 \n",
       "  1272.75,849.658 1275.07,839.371 1277.26,829.084 1279.32,818.796 1281.25,808.509 1283.05,798.221 1284.73,787.934 1285.29,784.217 1286.3,777.647 1287.75,767.359 \n",
       "  1289.07,757.072 1290.27,746.785 1291.34,736.497 1292.29,726.21 1293.11,715.923 1293.81,705.635 1294.38,695.348 1294.81,685.061 1295.12,674.773 1295.29,664.486 \n",
       "  1295.32,654.198 1295.2,643.911 1294.94,633.624 1294.52,623.336 1293.93,613.049 1293.18,602.762 1292.25,592.474 1291.13,582.187 1289.82,571.9 1288.29,561.612 \n",
       "  1286.55,551.325 1285.29,544.755 1284.53,541.037 1282.2,530.75 1279.56,520.463 1276.62,510.175 1273.33,499.888 1271.5,494.674 1269.5,489.601 1265.04,479.313 \n",
       "  1260.07,469.026 1257.71,464.533 1254.05,458.739 1246.9,448.451 1243.92,444.502 1237.64,438.164 1230.13,431.21 1224.73,427.876 1216.34,423.025 1202.55,419.024 \n",
       "  1188.76,418.643 1174.96,421.522 1161.17,427.449 1160.51,427.876 1147.38,436.292 1145.17,438.164 1133.59,448.024 1133.18,448.451 1123.46,458.739 1119.8,462.671 \n",
       "  1114.77,469.026 1106.81,479.313 1106.01,480.367 1099.81,489.601 1093.13,499.888 1092.22,501.323 1087.1,510.175 1081.37,520.463 1078.43,525.899 1075.98,530.75 \n",
       "  1070.97,541.037 1066.15,551.325 1064.64,554.658 1061.63,561.612 1057.36,571.9 1053.27,582.187 1050.84,588.525 1049.38,592.474 1045.71,602.762 1042.2,613.049 \n",
       "  1038.86,623.336 1037.05,629.13 1035.68,633.624 1032.65,643.911 1029.78,654.198 1027.06,664.486 1024.48,674.773 1023.26,679.846 1022.02,685.061 1019.69,695.348 \n",
       "  1017.5,705.635 1015.44,715.923 1013.51,726.21 1011.71,736.497 1010.03,746.785 1009.47,750.502 1008.46,757.072 1007.02,767.359 1005.69,777.647 1004.49,787.934 \n",
       "  1003.42,798.221 1002.47,808.509 1001.65,818.796 1000.96,829.084 1000.39,839.371 999.951,849.658 999.646,859.946 999.477,870.233 999.448,880.52 999.563,890.808 \n",
       "  999.828,901.095 1000.25,911.382 1000.83,921.67 1001.58,931.957 1002.51,942.245 1003.63,952.532 1004.95,962.819 1006.47,973.107 1008.22,983.394 1009.47,989.964 \n",
       "  1010.23,993.681 1012.57,1003.97 1015.2,1014.26 1018.15,1024.54 1021.44,1034.83 1023.26,1040.05 1025.27,1045.12 1029.73,1055.41 1034.7,1065.69 1037.05,1070.19 \n",
       "  1040.72,1075.98 1047.86,1086.27 1050.84,1090.22 1057.12,1096.55 1064.64,1103.51 1070.03,1106.84 1078.43,1111.69 \n",
       "  \"/>\n",
       "<polyline clip-path=\"url(#clip2502)\" style=\"stroke:#000000; stroke-width:4; stroke-opacity:1; fill:none\" points=\"\n",
       "  1092.22,1081.07 1106.01,1082.75 1119.8,1080.71 1131.77,1075.98 1133.59,1075.27 1147.38,1066.58 1148.42,1065.69 1160.35,1055.41 1161.17,1054.7 1169.95,1045.12 \n",
       "  1174.96,1039.56 1178.55,1034.83 1186.19,1024.54 1188.76,1021.03 1193.06,1014.26 1199.42,1003.97 1202.55,998.767 1205.3,993.681 1210.71,983.394 1215.93,973.107 \n",
       "  1216.34,972.279 1220.65,962.819 1225.16,952.532 1229.48,942.245 1230.13,940.663 1233.48,931.957 1237.26,921.67 1240.88,911.382 1243.92,902.364 1244.33,901.095 \n",
       "  1247.53,890.808 1250.58,880.52 1253.47,870.233 1256.22,859.946 1257.71,854.048 1258.8,849.658 1261.22,839.371 1263.49,829.084 1265.62,818.796 1267.61,808.509 \n",
       "  1269.47,798.221 1271.2,787.934 1271.5,785.987 1272.78,777.647 1274.23,767.359 1275.54,757.072 1276.71,746.785 1277.75,736.497 1278.65,726.21 1279.41,715.923 \n",
       "  1280.03,705.635 1280.51,695.348 1280.84,685.061 1281.03,674.773 1281.05,664.486 1280.92,654.198 1280.62,643.911 1280.14,633.624 1279.49,623.336 1278.64,613.049 \n",
       "  1277.59,602.762 1276.32,592.474 1274.83,582.187 1273.1,571.9 1271.5,563.559 1271.09,561.612 1268.67,551.325 1265.93,541.037 1262.83,530.75 1259.34,520.463 \n",
       "  1257.71,516.073 1255.15,510.175 1250.21,499.888 1244.66,489.601 1243.92,488.332 1237.28,479.313 1230.13,470.608 1228.3,469.026 1216.34,459.567 1214.51,458.739 \n",
       "  1202.55,453.653 1188.76,451.968 1174.96,454.004 1163,458.739 1161.17,459.449 1147.38,468.14 1146.35,469.026 1134.41,479.313 1133.59,480.023 1124.81,489.601 \n",
       "  1119.8,495.154 1116.21,499.888 1108.57,510.175 1106.01,513.692 1101.7,520.463 1095.35,530.75 1092.22,535.952 1089.46,541.037 1084.05,551.325 1078.84,561.612 \n",
       "  1078.43,562.44 1074.11,571.9 1069.61,582.187 1065.28,592.474 1064.64,594.056 1061.29,602.762 1057.5,613.049 1053.88,623.336 1050.84,632.355 1050.43,633.624 \n",
       "  1047.23,643.911 1044.19,654.198 1041.29,664.486 1038.55,674.773 1037.05,680.671 1035.96,685.061 1033.55,695.348 1031.28,705.635 1029.15,715.923 1027.15,726.21 \n",
       "  1025.29,736.497 1023.56,746.785 1023.26,748.732 1021.98,757.072 1020.54,767.359 1019.23,777.647 1018.05,787.934 1017.02,798.221 1016.12,808.509 1015.35,818.796 \n",
       "  1014.73,829.084 1014.25,839.371 1013.92,849.658 1013.74,859.946 1013.71,870.233 1013.84,880.52 1014.15,890.808 1014.62,901.095 1015.28,911.382 1016.13,921.67 \n",
       "  1017.18,931.957 1018.44,942.245 1019.93,952.532 1021.66,962.819 1023.26,971.16 1023.67,973.107 1026.09,983.394 1028.84,993.681 1031.94,1003.97 1035.42,1014.26 \n",
       "  1037.05,1018.65 1039.61,1024.54 1044.56,1034.83 1050.11,1045.12 1050.84,1046.39 1057.48,1055.41 1064.64,1064.11 1066.47,1065.69 1078.43,1075.15 1080.25,1075.98 \n",
       "  1092.22,1081.07 \n",
       "  \"/>\n",
       "<polyline clip-path=\"url(#clip2502)\" style=\"stroke:#000000; stroke-width:4; stroke-opacity:1; fill:none\" points=\"\n",
       "  1092.22,1045.44 1106.01,1048.81 1119.8,1047.86 1127.55,1045.12 1133.59,1043.01 1146.88,1034.83 1147.38,1034.52 1158.78,1024.54 1161.17,1022.44 1168.4,1014.26 \n",
       "  1174.96,1006.71 1176.94,1003.97 1184.21,993.681 1188.76,987.089 1190.96,983.394 1196.94,973.107 1202.55,963.14 1202.71,962.819 1207.74,952.532 1212.59,942.245 \n",
       "  1216.34,933.998 1217.19,931.957 1221.33,921.67 1225.3,911.382 1229.1,901.095 1230.13,898.183 1232.58,890.808 1235.84,880.52 1238.95,870.233 1241.89,859.946 \n",
       "  1243.92,852.479 1244.65,849.658 1247.18,839.371 1249.55,829.084 1251.78,818.796 1253.86,808.509 1255.79,798.221 1257.58,787.934 1257.71,787.098 1259.17,777.647 \n",
       "  1260.61,767.359 1261.9,757.072 1263.05,746.785 1264.04,736.497 1264.88,726.21 1265.57,715.923 1266.1,705.635 1266.46,695.348 1266.66,685.061 1266.69,674.773 \n",
       "  1266.53,664.486 1266.18,654.198 1265.64,643.911 1264.88,633.624 1263.91,623.336 1262.7,613.049 1261.25,602.762 1259.54,592.474 1257.71,583.023 1257.53,582.187 \n",
       "  1255,571.9 1252.1,561.612 1248.8,551.325 1245.05,541.037 1243.92,538.216 1240.28,530.75 1234.65,520.463 1230.13,513.088 1227.74,510.175 1218.37,499.888 \n",
       "  1216.34,497.847 1203.11,489.601 1202.55,489.28 1188.76,485.905 1174.96,486.86 1167.21,489.601 1161.17,491.705 1147.89,499.888 1147.38,500.197 1135.98,510.175 \n",
       "  1133.59,512.28 1126.36,520.463 1119.8,528.009 1117.82,530.75 1110.56,541.037 1106.01,547.629 1103.8,551.325 1097.83,561.612 1092.22,571.579 1092.06,571.9 \n",
       "  1087.02,582.187 1082.17,592.474 1078.43,600.721 1077.58,602.762 1073.43,613.049 1069.47,623.336 1065.67,633.624 1064.64,636.536 1062.18,643.911 1058.92,654.198 \n",
       "  1055.82,664.486 1052.87,674.773 1050.84,682.239 1050.11,685.061 1047.58,695.348 1045.21,705.635 1042.98,715.923 1040.91,726.21 1038.97,736.497 1037.19,746.785 \n",
       "  1037.05,747.621 1035.59,757.072 1034.15,767.359 1032.86,777.647 1031.72,787.934 1030.72,798.221 1029.88,808.509 1029.19,818.796 1028.66,829.084 1028.3,839.371 \n",
       "  1028.1,849.658 1028.08,859.946 1028.24,870.233 1028.58,880.52 1029.13,890.808 1029.88,901.095 1030.85,911.382 1032.06,921.67 1033.51,931.957 1035.23,942.245 \n",
       "  1037.05,951.696 1037.24,952.532 1039.76,962.819 1042.66,973.107 1045.97,983.394 1049.72,993.681 1050.84,996.502 1054.48,1003.97 1060.12,1014.26 1064.64,1021.63 \n",
       "  1067.03,1024.54 1076.39,1034.83 1078.43,1036.87 1091.66,1045.12 1092.22,1045.44 \n",
       "  \"/>\n",
       "<polyline clip-path=\"url(#clip2502)\" style=\"stroke:#000000; stroke-width:4; stroke-opacity:1; fill:none\" points=\"\n",
       "  1092.22,1007.38 1106.01,1013.22 1119.8,1013.74 1133.59,1009.68 1143.13,1003.97 1147.38,1001.44 1156.07,993.681 1161.17,989.102 1165.99,983.394 1174.54,973.107 \n",
       "  1174.96,972.593 1181.45,962.819 1188.1,952.532 1188.76,951.496 1193.73,942.245 1199.08,931.957 1202.55,925.078 1204.06,921.67 1208.48,911.382 1212.72,901.095 \n",
       "  1216.34,891.943 1216.75,890.808 1220.29,880.52 1223.66,870.233 1226.86,859.946 1229.9,849.658 1230.13,848.836 1232.59,839.371 1235.09,829.084 1237.44,818.796 \n",
       "  1239.62,808.509 1241.64,798.221 1243.51,787.934 1243.92,785.418 1245.13,777.647 1246.57,767.359 1247.84,757.072 1248.94,746.785 1249.88,736.497 1250.64,726.21 \n",
       "  1251.23,715.923 1251.63,705.635 1251.84,695.348 1251.85,685.061 1251.65,674.773 1251.24,664.486 1250.6,654.198 1249.71,643.911 1248.57,633.624 1247.15,623.336 \n",
       "  1245.44,613.049 1243.92,605.277 1243.35,602.762 1240.66,592.474 1237.53,582.187 1233.92,571.9 1230.13,562.434 1229.71,561.612 1223.87,551.325 1217.15,541.037 \n",
       "  1216.34,539.903 1206.6,530.75 1202.55,527.342 1188.76,521.499 1174.96,520.977 1161.17,525.042 1151.63,530.75 1147.38,533.28 1138.69,541.037 1133.59,545.617 \n",
       "  1128.77,551.325 1120.22,561.612 1119.8,562.126 1113.32,571.9 1106.66,582.187 1106.01,583.223 1101.03,592.474 1095.68,602.762 1092.22,609.641 1090.7,613.049 \n",
       "  1086.28,623.336 1082.05,633.624 1078.43,642.776 1078.02,643.911 1074.48,654.198 1071.11,664.486 1067.9,674.773 1064.87,685.061 1064.64,685.882 1062.18,695.348 \n",
       "  1059.67,705.635 1057.33,715.923 1055.14,726.21 1053.12,736.497 1051.26,746.785 1050.84,749.301 1049.64,757.072 1048.2,767.359 1046.93,777.647 1045.82,787.934 \n",
       "  1044.88,798.221 1044.12,808.509 1043.54,818.796 1043.14,829.084 1042.93,839.371 1042.91,849.658 1043.11,859.946 1043.52,870.233 1044.17,880.52 1045.05,890.808 \n",
       "  1046.2,901.095 1047.62,911.382 1049.33,921.67 1050.84,929.441 1051.42,931.957 1054.11,942.245 1057.24,952.532 1060.84,962.819 1064.64,972.285 1065.06,973.107 \n",
       "  1070.89,983.394 1077.61,993.681 1078.43,994.816 1088.16,1003.97 1092.22,1007.38 \n",
       "  \"/>\n",
       "<polyline clip-path=\"url(#clip2502)\" style=\"stroke:#000000; stroke-width:4; stroke-opacity:1; fill:none\" points=\"\n",
       "  1106.01,974.219 1119.8,976.955 1133.59,974.106 1135.33,973.107 1147.38,966.207 1151.08,962.819 1161.17,953.531 1161.97,952.532 1170.01,942.245 1174.96,935.805 \n",
       "  1177.32,931.957 1183.44,921.67 1188.76,912.495 1189.3,911.382 1194.12,901.095 1198.77,890.808 1202.55,882.108 1203.15,880.52 1206.87,870.233 1210.41,859.946 \n",
       "  1213.77,849.658 1216.34,841.337 1216.88,839.371 1219.56,829.084 1222.05,818.796 1224.37,808.509 1226.5,798.221 1228.45,787.934 1230.13,778.164 1230.21,777.647 \n",
       "  1231.63,767.359 1232.87,757.072 1233.92,746.785 1234.77,736.497 1235.41,726.21 1235.84,715.923 1236.05,705.635 1236.03,695.348 1235.77,685.061 1235.25,674.773 \n",
       "  1234.45,664.486 1233.36,654.198 1231.96,643.911 1230.23,633.624 1230.13,633.107 1227.78,623.336 1224.81,613.049 1221.31,602.762 1217.22,592.474 1216.34,590.508 \n",
       "  1211.21,582.187 1203.82,571.9 1202.55,570.311 1190.49,561.612 1188.76,560.5 1174.96,557.764 1161.17,560.613 1159.44,561.612 1147.38,568.512 1143.68,571.9 \n",
       "  1133.59,581.188 1132.79,582.187 1124.75,592.474 1119.8,598.914 1117.44,602.762 1111.32,613.049 1106.01,622.224 1105.47,623.336 1100.64,633.624 1096,643.911 \n",
       "  1092.22,652.61 1091.62,654.198 1087.9,664.486 1084.36,674.773 1081,685.061 1078.43,693.382 1077.88,695.348 1075.21,705.635 1072.71,715.923 1070.4,726.21 \n",
       "  1068.26,736.497 1066.31,746.785 1064.64,756.555 1064.55,757.072 1063.13,767.359 1061.89,777.647 1060.85,787.934 1060,798.221 1059.35,808.509 1058.92,818.796 \n",
       "  1058.71,829.084 1058.73,839.371 1059,849.658 1059.52,859.946 1060.31,870.233 1061.4,880.52 1062.8,890.808 1064.53,901.095 1064.64,901.612 1066.99,911.382 \n",
       "  1069.95,921.67 1073.45,931.957 1077.55,942.245 1078.43,944.211 1083.55,952.532 1090.94,962.819 1092.22,964.407 1104.27,973.107 1106.01,974.219 \n",
       "  \"/>\n",
       "<polyline clip-path=\"url(#clip2502)\" style=\"stroke:#000000; stroke-width:4; stroke-opacity:1; fill:none\" points=\"\n",
       "  1119.8,934.939 1133.59,934.081 1137.59,931.957 1147.38,926.788 1152.71,921.67 1161.17,913.506 1162.71,911.382 1169.93,901.095 1174.96,893.789 1176.55,890.808 \n",
       "  1181.81,880.52 1186.89,870.233 1188.76,866.282 1191.21,859.946 1194.99,849.658 1198.57,839.371 1201.95,829.084 1202.55,827.119 1204.71,818.796 1207.18,808.509 \n",
       "  1209.44,798.221 1211.48,787.934 1213.3,777.647 1214.89,767.359 1216.24,757.072 1216.34,756.128 1217.19,746.785 1217.88,736.497 1218.33,726.21 1218.51,715.923 \n",
       "  1218.4,705.635 1218.01,695.348 1217.29,685.061 1216.34,675.717 1216.22,674.773 1214.47,664.486 1212.21,654.198 1209.37,643.911 1205.9,633.624 1202.55,625.301 \n",
       "  1201.36,623.336 1194.09,613.049 1188.76,606.713 1181.38,602.762 1174.96,599.78 1161.17,600.638 1157.17,602.762 1147.38,607.931 1142.05,613.049 1133.59,621.212 \n",
       "  1132.06,623.336 1124.83,633.624 1119.8,640.93 1118.21,643.911 1112.96,654.198 1107.88,664.486 1106.01,668.437 1103.55,674.773 1099.78,685.061 1096.2,695.348 \n",
       "  1092.82,705.635 1092.22,707.6 1090.05,715.923 1087.58,726.21 1085.32,736.497 1083.28,746.785 1081.46,757.072 1079.87,767.359 1078.53,777.647 1078.43,778.591 \n",
       "  1077.58,787.934 1076.88,798.221 1076.44,808.509 1076.26,818.796 1076.36,829.084 1076.76,839.371 1077.47,849.658 1078.43,859.002 1078.55,859.946 1080.29,870.233 \n",
       "  1082.56,880.52 1085.39,890.808 1088.86,901.095 1092.22,909.418 1093.4,911.382 1100.68,921.67 1106.01,928.006 1113.38,931.957 1119.8,934.939 \n",
       "  \"/>\n",
       "<polyline clip-path=\"url(#clip2502)\" style=\"stroke:#000000; stroke-width:4; stroke-opacity:1; fill:none\" points=\"\n",
       "  1133.59,884.046 1141.84,880.52 1147.38,878.165 1154.84,870.233 1161.17,863.471 1163.26,859.946 1169.06,849.658 1174.71,839.371 1174.96,838.871 1178.61,829.084 \n",
       "  1182.19,818.796 1185.51,808.509 1188.55,798.221 1188.76,797.447 1190.68,787.934 1192.48,777.647 1193.97,767.359 1195.14,757.072 1195.96,746.785 1196.39,736.497 \n",
       "  1196.41,726.21 1195.98,715.923 1195.03,705.635 1193.52,695.348 1191.38,685.061 1188.76,675.548 1188.4,674.773 1182.43,664.486 1174.96,654.699 1173.53,654.198 \n",
       "  1161.17,650.673 1152.92,654.198 1147.38,656.554 1139.92,664.486 1133.59,671.248 1131.51,674.773 1125.7,685.061 1120.06,695.348 1119.8,695.848 1116.16,705.635 \n",
       "  1112.58,715.923 1109.26,726.21 1106.21,736.497 1106.01,737.272 1104.08,746.785 1102.28,757.072 1100.79,767.359 1099.62,777.647 1098.81,787.934 1098.37,798.221 \n",
       "  1098.35,808.509 1098.79,818.796 1099.73,829.084 1101.24,839.371 1103.38,849.658 1106.01,859.171 1106.36,859.946 1112.34,870.233 1119.8,880.02 1121.23,880.52 \n",
       "  1133.59,884.046 \n",
       "  \"/>\n",
       "<defs>\n",
       "  <clipPath id=\"clip2503\">\n",
       "    <rect x=\"2160\" y=\"47\" width=\"73\" height=\"1441\"/>\n",
       "  </clipPath>\n",
       "</defs>\n",
       "<path clip-path=\"url(#clip2503)\" d=\"\n",
       "M2160.76 1487.47 L2232.76 1487.47 L2232.76 1397.46 L2160.76 1397.46  Z\n",
       "  \" fill=\"#000003\" fill-rule=\"evenodd\" fill-opacity=\"1\"/>\n",
       "<path clip-path=\"url(#clip2503)\" d=\"\n",
       "M2160.76 1397.46 L2232.76 1397.46 L2232.76 1307.45 L2160.76 1307.45  Z\n",
       "  \" fill=\"#0c0727\" fill-rule=\"evenodd\" fill-opacity=\"1\"/>\n",
       "<path clip-path=\"url(#clip2503)\" d=\"\n",
       "M2160.76 1307.45 L2232.76 1307.45 L2232.76 1217.43 L2160.76 1217.43  Z\n",
       "  \" fill=\"#240b4e\" fill-rule=\"evenodd\" fill-opacity=\"1\"/>\n",
       "<path clip-path=\"url(#clip2503)\" d=\"\n",
       "M2160.76 1217.43 L2232.76 1217.43 L2232.76 1127.42 L2160.76 1127.42  Z\n",
       "  \" fill=\"#420a67\" fill-rule=\"evenodd\" fill-opacity=\"1\"/>\n",
       "<path clip-path=\"url(#clip2503)\" d=\"\n",
       "M2160.76 1127.42 L2232.76 1127.42 L2232.76 1037.4 L2160.76 1037.4  Z\n",
       "  \" fill=\"#5d126d\" fill-rule=\"evenodd\" fill-opacity=\"1\"/>\n",
       "<path clip-path=\"url(#clip2503)\" d=\"\n",
       "M2160.76 1037.4 L2232.76 1037.4 L2232.76 947.388 L2160.76 947.388  Z\n",
       "  \" fill=\"#781c6d\" fill-rule=\"evenodd\" fill-opacity=\"1\"/>\n",
       "<path clip-path=\"url(#clip2503)\" d=\"\n",
       "M2160.76 947.388 L2232.76 947.388 L2232.76 857.374 L2160.76 857.374  Z\n",
       "  \" fill=\"#942666\" fill-rule=\"evenodd\" fill-opacity=\"1\"/>\n",
       "<path clip-path=\"url(#clip2503)\" d=\"\n",
       "M2160.76 857.374 L2232.76 857.374 L2232.76 767.359 L2160.76 767.359  Z\n",
       "  \" fill=\"#ad305b\" fill-rule=\"evenodd\" fill-opacity=\"1\"/>\n",
       "<path clip-path=\"url(#clip2503)\" d=\"\n",
       "M2160.76 767.359 L2232.76 767.359 L2232.76 677.345 L2160.76 677.345  Z\n",
       "  \" fill=\"#c73e4c\" fill-rule=\"evenodd\" fill-opacity=\"1\"/>\n",
       "<path clip-path=\"url(#clip2503)\" d=\"\n",
       "M2160.76 677.345 L2232.76 677.345 L2232.76 587.331 L2160.76 587.331  Z\n",
       "  \" fill=\"#db503a\" fill-rule=\"evenodd\" fill-opacity=\"1\"/>\n",
       "<path clip-path=\"url(#clip2503)\" d=\"\n",
       "M2160.76 587.331 L2232.76 587.331 L2232.76 497.316 L2160.76 497.316  Z\n",
       "  \" fill=\"#ec6925\" fill-rule=\"evenodd\" fill-opacity=\"1\"/>\n",
       "<path clip-path=\"url(#clip2503)\" d=\"\n",
       "M2160.76 497.316 L2232.76 497.316 L2232.76 407.302 L2160.76 407.302  Z\n",
       "  \" fill=\"#f7850e\" fill-rule=\"evenodd\" fill-opacity=\"1\"/>\n",
       "<path clip-path=\"url(#clip2503)\" d=\"\n",
       "M2160.76 407.302 L2232.76 407.302 L2232.76 317.287 L2160.76 317.287  Z\n",
       "  \" fill=\"#fba40a\" fill-rule=\"evenodd\" fill-opacity=\"1\"/>\n",
       "<path clip-path=\"url(#clip2503)\" d=\"\n",
       "M2160.76 317.287 L2232.76 317.287 L2232.76 227.273 L2160.76 227.273  Z\n",
       "  \" fill=\"#f9c52d\" fill-rule=\"evenodd\" fill-opacity=\"1\"/>\n",
       "<path clip-path=\"url(#clip2503)\" d=\"\n",
       "M2160.76 227.273 L2232.76 227.273 L2232.76 137.259 L2160.76 137.259  Z\n",
       "  \" fill=\"#f2e55f\" fill-rule=\"evenodd\" fill-opacity=\"1\"/>\n",
       "<path clip-path=\"url(#clip2503)\" d=\"\n",
       "M2160.76 137.259 L2232.76 137.259 L2232.76 47.2441 L2160.76 47.2441  Z\n",
       "  \" fill=\"#fcfea4\" fill-rule=\"evenodd\" fill-opacity=\"1\"/>\n",
       "<g clip-path=\"url(#clip2500)\">\n",
       "<text style=\"fill:#000000; fill-opacity:1; font-family:Arial,Helvetica Neue,Helvetica,sans-serif; font-size:48px; text-anchor:start;\" transform=\"rotate(0, 2268.76, 1229.65)\" x=\"2268.76\" y=\"1229.65\">0.01</text>\n",
       "</g>\n",
       "<g clip-path=\"url(#clip2500)\">\n",
       "<text style=\"fill:#000000; fill-opacity:1; font-family:Arial,Helvetica Neue,Helvetica,sans-serif; font-size:48px; text-anchor:start;\" transform=\"rotate(0, 2268.76, 958.172)\" x=\"2268.76\" y=\"958.172\">0.02</text>\n",
       "</g>\n",
       "<g clip-path=\"url(#clip2500)\">\n",
       "<text style=\"fill:#000000; fill-opacity:1; font-family:Arial,Helvetica Neue,Helvetica,sans-serif; font-size:48px; text-anchor:start;\" transform=\"rotate(0, 2268.76, 686.695)\" x=\"2268.76\" y=\"686.695\">0.03</text>\n",
       "</g>\n",
       "<g clip-path=\"url(#clip2500)\">\n",
       "<text style=\"fill:#000000; fill-opacity:1; font-family:Arial,Helvetica Neue,Helvetica,sans-serif; font-size:48px; text-anchor:start;\" transform=\"rotate(0, 2268.76, 415.218)\" x=\"2268.76\" y=\"415.218\">0.04</text>\n",
       "</g>\n",
       "<g clip-path=\"url(#clip2500)\">\n",
       "<text style=\"fill:#000000; fill-opacity:1; font-family:Arial,Helvetica Neue,Helvetica,sans-serif; font-size:48px; text-anchor:start;\" transform=\"rotate(0, 2268.76, 143.741)\" x=\"2268.76\" y=\"143.741\">0.05</text>\n",
       "</g>\n",
       "<polyline clip-path=\"url(#clip2500)\" style=\"stroke:#000000; stroke-width:4; stroke-opacity:1; fill:none\" points=\"\n",
       "  2232.76,1487.47 2232.76,1216 2256.76,1216 2232.76,1216 2232.76,944.521 2256.76,944.521 2232.76,944.521 2232.76,673.043 2256.76,673.043 2232.76,673.043 \n",
       "  2232.76,401.566 2256.76,401.566 2232.76,401.566 2232.76,130.089 2256.76,130.089 2232.76,130.089 2232.76,47.2441 \n",
       "  \"/>\n",
       "</svg>\n"
      ]
     },
     "execution_count": 11,
     "metadata": {},
     "output_type": "execute_result"
    }
   ],
   "source": [
    "f(x,y) = pdf(BVN2,[x,y])\n",
    "x = -7:0.1:7\n",
    "y = -7:0.1:7\n",
    "contour(x,y, f, fill = true)"
   ]
  },
  {
   "cell_type": "code",
   "execution_count": 12,
   "metadata": {},
   "outputs": [
    {
     "data": {
      "image/svg+xml": [
       "<?xml version=\"1.0\" encoding=\"utf-8\"?>\n",
       "<svg xmlns=\"http://www.w3.org/2000/svg\" xmlns:xlink=\"http://www.w3.org/1999/xlink\" width=\"600\" height=\"400\" viewBox=\"0 0 2400 1600\">\n",
       "<defs>\n",
       "  <clipPath id=\"clip2900\">\n",
       "    <rect x=\"0\" y=\"0\" width=\"2400\" height=\"1600\"/>\n",
       "  </clipPath>\n",
       "</defs>\n",
       "<path clip-path=\"url(#clip2900)\" d=\"\n",
       "M0 1600 L2400 1600 L2400 0 L0 0  Z\n",
       "  \" fill=\"#ffffff\" fill-rule=\"evenodd\" fill-opacity=\"1\"/>\n",
       "<defs>\n",
       "  <clipPath id=\"clip2901\">\n",
       "    <rect x=\"480\" y=\"0\" width=\"1681\" height=\"1600\"/>\n",
       "  </clipPath>\n",
       "</defs>\n",
       "<path clip-path=\"url(#clip2900)\" d=\"\n",
       "M168.627 181.818 L2049.3 181.818 L2049.3 47.2441 L168.627 47.2441  Z\n",
       "  \" fill=\"#ffffff\" fill-rule=\"evenodd\" fill-opacity=\"1\"/>\n",
       "<defs>\n",
       "  <clipPath id=\"clip2902\">\n",
       "    <rect x=\"168\" y=\"47\" width=\"1882\" height=\"136\"/>\n",
       "  </clipPath>\n",
       "</defs>\n",
       "<polyline clip-path=\"url(#clip2900)\" style=\"stroke:#000000; stroke-width:4; stroke-opacity:1; fill:none\" points=\"\n",
       "  168.627,181.818 2049.3,181.818 \n",
       "  \"/>\n",
       "<polyline clip-path=\"url(#clip2900)\" style=\"stroke:#000000; stroke-width:4; stroke-opacity:1; fill:none\" points=\"\n",
       "  168.627,181.818 168.627,47.2441 \n",
       "  \"/>\n",
       "<polyline clip-path=\"url(#clip2902)\" style=\"stroke:#009af9; stroke-width:4; stroke-opacity:1; fill:none\" points=\"\n",
       "  336.145,181.811 343.912,181.81 351.679,181.807 359.446,181.803 367.213,181.797 374.98,181.787 382.747,181.774 390.514,181.755 398.281,181.728 406.048,181.692 \n",
       "  413.815,181.642 421.582,181.576 429.349,181.487 437.116,181.371 444.883,181.218 452.65,181.021 460.417,180.769 468.184,180.449 475.951,180.047 483.718,179.549 \n",
       "  491.485,178.935 499.252,178.187 507.02,177.285 514.787,176.208 522.554,174.934 530.321,173.442 538.088,171.712 545.855,169.727 553.622,167.47 561.389,164.929 \n",
       "  569.156,162.098 576.923,158.974 584.69,155.561 592.457,151.869 600.224,147.914 607.991,143.72 615.758,139.315 623.525,134.735 631.292,130.02 639.059,125.213 \n",
       "  646.826,120.362 654.593,115.513 662.36,110.714 670.127,106.013 677.894,101.452 685.661,97.0702 693.429,92.9028 701.196,88.978 708.963,85.3181 716.73,81.9389 \n",
       "  724.497,78.8496 732.264,76.0531 740.031,73.5467 747.798,71.3223 755.565,69.3677 763.332,67.6671 771.099,66.202 778.866,64.9523 786.633,63.8968 794.4,63.0141 \n",
       "  802.167,62.2832 809.934,61.6839 817.701,61.1974 825.468,60.8064 833.235,60.4952 841.002,60.2499 848.769,60.0585 856.536,59.9107 864.303,59.7975 872.07,59.7119 \n",
       "  879.838,59.6476 887.605,59.5999 895.372,59.5648 903.139,59.5392 910.906,59.5208 918.673,59.5076 926.44,59.4983 934.207,59.4918 941.974,59.4873 949.741,59.4842 \n",
       "  957.508,59.4821 965.275,59.4807 973.042,59.4798 980.809,59.4792 988.576,59.4788 996.343,59.4785 1004.11,59.4784 1011.88,59.4783 1019.64,59.4782 1027.41,59.4782 \n",
       "  1035.18,59.4782 1042.95,59.4782 1050.71,59.4782 1058.48,59.4782 1066.25,59.4782 1074.01,59.4782 1081.78,59.4782 1089.55,59.4782 1097.31,59.4782 1105.08,59.4782 \n",
       "  1112.85,59.4782 1120.62,59.4782 1128.38,59.4782 1136.15,59.4782 1143.92,59.4782 1151.68,59.4782 1159.45,59.4782 1167.22,59.4782 1174.99,59.4782 1182.75,59.4782 \n",
       "  1190.52,59.4782 1198.29,59.4782 1206.05,59.4783 1213.82,59.4784 1221.59,59.4785 1229.35,59.4788 1237.12,59.4792 1244.89,59.4798 1252.66,59.4807 1260.42,59.4821 \n",
       "  1268.19,59.4842 1275.96,59.4873 1283.72,59.4918 1291.49,59.4983 1299.26,59.5076 1307.02,59.5208 1314.79,59.5392 1322.56,59.5648 1330.33,59.5999 1338.09,59.6476 \n",
       "  1345.86,59.7119 1353.63,59.7975 1361.39,59.9107 1369.16,60.0585 1376.93,60.2499 1384.7,60.4952 1392.46,60.8064 1400.23,61.1974 1408,61.6839 1415.76,62.2832 \n",
       "  1423.53,63.0141 1431.3,63.8968 1439.06,64.9523 1446.83,66.202 1454.6,67.6671 1462.37,69.3677 1470.13,71.3223 1477.9,73.5467 1485.67,76.0531 1493.43,78.8496 \n",
       "  1501.2,81.9389 1508.97,85.3181 1516.73,88.978 1524.5,92.9028 1532.27,97.0702 1540.04,101.452 1547.8,106.013 1555.57,110.714 1563.34,115.513 1571.1,120.362 \n",
       "  1578.87,125.213 1586.64,130.02 1594.41,134.735 1602.17,139.315 1609.94,143.72 1617.71,147.914 1625.47,151.869 1633.24,155.561 1641.01,158.974 1648.77,162.098 \n",
       "  1656.54,164.929 1664.31,167.47 1672.08,169.727 1679.84,171.712 1687.61,173.442 1695.38,174.934 1703.14,176.208 1710.91,177.285 1718.68,178.187 1726.45,178.935 \n",
       "  1734.21,179.549 1741.98,180.047 1749.75,180.449 1757.51,180.769 1765.28,181.021 1773.05,181.218 1780.81,181.371 1788.58,181.487 1796.35,181.576 1804.12,181.642 \n",
       "  1811.88,181.692 1819.65,181.728 1827.42,181.755 1835.18,181.774 1842.95,181.787 1850.72,181.797 1858.48,181.803 1866.25,181.807 1874.02,181.81 1881.79,181.811 \n",
       "  \n",
       "  \"/>\n",
       "<path clip-path=\"url(#clip2900)\" d=\"\n",
       "M168.627 1487.47 L2049.3 1487.47 L2049.3 276.307 L168.627 276.307  Z\n",
       "  \" fill=\"#ffffff\" fill-rule=\"evenodd\" fill-opacity=\"1\"/>\n",
       "<defs>\n",
       "  <clipPath id=\"clip2903\">\n",
       "    <rect x=\"168\" y=\"276\" width=\"1882\" height=\"1212\"/>\n",
       "  </clipPath>\n",
       "</defs>\n",
       "<polyline clip-path=\"url(#clip2903)\" style=\"stroke:#000000; stroke-width:2; stroke-opacity:0.1; fill:none\" points=\"\n",
       "  450.465,1487.47 450.465,276.307 \n",
       "  \"/>\n",
       "<polyline clip-path=\"url(#clip2903)\" style=\"stroke:#000000; stroke-width:2; stroke-opacity:0.1; fill:none\" points=\"\n",
       "  779.715,1487.47 779.715,276.307 \n",
       "  \"/>\n",
       "<polyline clip-path=\"url(#clip2903)\" style=\"stroke:#000000; stroke-width:2; stroke-opacity:0.1; fill:none\" points=\"\n",
       "  1108.97,1487.47 1108.97,276.307 \n",
       "  \"/>\n",
       "<polyline clip-path=\"url(#clip2903)\" style=\"stroke:#000000; stroke-width:2; stroke-opacity:0.1; fill:none\" points=\"\n",
       "  1438.22,1487.47 1438.22,276.307 \n",
       "  \"/>\n",
       "<polyline clip-path=\"url(#clip2903)\" style=\"stroke:#000000; stroke-width:2; stroke-opacity:0.1; fill:none\" points=\"\n",
       "  1767.47,1487.47 1767.47,276.307 \n",
       "  \"/>\n",
       "<polyline clip-path=\"url(#clip2903)\" style=\"stroke:#000000; stroke-width:2; stroke-opacity:0.1; fill:none\" points=\"\n",
       "  168.627,1305.97 2049.3,1305.97 \n",
       "  \"/>\n",
       "<polyline clip-path=\"url(#clip2903)\" style=\"stroke:#000000; stroke-width:2; stroke-opacity:0.1; fill:none\" points=\"\n",
       "  168.627,1093.93 2049.3,1093.93 \n",
       "  \"/>\n",
       "<polyline clip-path=\"url(#clip2903)\" style=\"stroke:#000000; stroke-width:2; stroke-opacity:0.1; fill:none\" points=\"\n",
       "  168.627,881.891 2049.3,881.891 \n",
       "  \"/>\n",
       "<polyline clip-path=\"url(#clip2903)\" style=\"stroke:#000000; stroke-width:2; stroke-opacity:0.1; fill:none\" points=\"\n",
       "  168.627,669.851 2049.3,669.851 \n",
       "  \"/>\n",
       "<polyline clip-path=\"url(#clip2903)\" style=\"stroke:#000000; stroke-width:2; stroke-opacity:0.1; fill:none\" points=\"\n",
       "  168.627,457.812 2049.3,457.812 \n",
       "  \"/>\n",
       "<polyline clip-path=\"url(#clip2900)\" style=\"stroke:#000000; stroke-width:4; stroke-opacity:1; fill:none\" points=\"\n",
       "  168.627,1487.47 2049.3,1487.47 \n",
       "  \"/>\n",
       "<polyline clip-path=\"url(#clip2900)\" style=\"stroke:#000000; stroke-width:4; stroke-opacity:1; fill:none\" points=\"\n",
       "  168.627,1487.47 168.627,276.307 \n",
       "  \"/>\n",
       "<polyline clip-path=\"url(#clip2900)\" style=\"stroke:#000000; stroke-width:4; stroke-opacity:1; fill:none\" points=\"\n",
       "  450.465,1487.47 450.465,1472.94 \n",
       "  \"/>\n",
       "<polyline clip-path=\"url(#clip2900)\" style=\"stroke:#000000; stroke-width:4; stroke-opacity:1; fill:none\" points=\"\n",
       "  779.715,1487.47 779.715,1472.94 \n",
       "  \"/>\n",
       "<polyline clip-path=\"url(#clip2900)\" style=\"stroke:#000000; stroke-width:4; stroke-opacity:1; fill:none\" points=\"\n",
       "  1108.97,1487.47 1108.97,1472.94 \n",
       "  \"/>\n",
       "<polyline clip-path=\"url(#clip2900)\" style=\"stroke:#000000; stroke-width:4; stroke-opacity:1; fill:none\" points=\"\n",
       "  1438.22,1487.47 1438.22,1472.94 \n",
       "  \"/>\n",
       "<polyline clip-path=\"url(#clip2900)\" style=\"stroke:#000000; stroke-width:4; stroke-opacity:1; fill:none\" points=\"\n",
       "  1767.47,1487.47 1767.47,1472.94 \n",
       "  \"/>\n",
       "<polyline clip-path=\"url(#clip2900)\" style=\"stroke:#000000; stroke-width:4; stroke-opacity:1; fill:none\" points=\"\n",
       "  168.627,1305.97 191.195,1305.97 \n",
       "  \"/>\n",
       "<polyline clip-path=\"url(#clip2900)\" style=\"stroke:#000000; stroke-width:4; stroke-opacity:1; fill:none\" points=\"\n",
       "  168.627,1093.93 191.195,1093.93 \n",
       "  \"/>\n",
       "<polyline clip-path=\"url(#clip2900)\" style=\"stroke:#000000; stroke-width:4; stroke-opacity:1; fill:none\" points=\"\n",
       "  168.627,881.891 191.195,881.891 \n",
       "  \"/>\n",
       "<polyline clip-path=\"url(#clip2900)\" style=\"stroke:#000000; stroke-width:4; stroke-opacity:1; fill:none\" points=\"\n",
       "  168.627,669.851 191.195,669.851 \n",
       "  \"/>\n",
       "<polyline clip-path=\"url(#clip2900)\" style=\"stroke:#000000; stroke-width:4; stroke-opacity:1; fill:none\" points=\"\n",
       "  168.627,457.812 191.195,457.812 \n",
       "  \"/>\n",
       "<g clip-path=\"url(#clip2900)\">\n",
       "<text style=\"fill:#000000; fill-opacity:1; font-family:Arial,Helvetica Neue,Helvetica,sans-serif; font-size:48px; text-anchor:middle;\" transform=\"rotate(0, 450.465, 1541.47)\" x=\"450.465\" y=\"1541.47\">-10</text>\n",
       "</g>\n",
       "<g clip-path=\"url(#clip2900)\">\n",
       "<text style=\"fill:#000000; fill-opacity:1; font-family:Arial,Helvetica Neue,Helvetica,sans-serif; font-size:48px; text-anchor:middle;\" transform=\"rotate(0, 779.715, 1541.47)\" x=\"779.715\" y=\"1541.47\">-5</text>\n",
       "</g>\n",
       "<g clip-path=\"url(#clip2900)\">\n",
       "<text style=\"fill:#000000; fill-opacity:1; font-family:Arial,Helvetica Neue,Helvetica,sans-serif; font-size:48px; text-anchor:middle;\" transform=\"rotate(0, 1108.97, 1541.47)\" x=\"1108.97\" y=\"1541.47\">0</text>\n",
       "</g>\n",
       "<g clip-path=\"url(#clip2900)\">\n",
       "<text style=\"fill:#000000; fill-opacity:1; font-family:Arial,Helvetica Neue,Helvetica,sans-serif; font-size:48px; text-anchor:middle;\" transform=\"rotate(0, 1438.22, 1541.47)\" x=\"1438.22\" y=\"1541.47\">5</text>\n",
       "</g>\n",
       "<g clip-path=\"url(#clip2900)\">\n",
       "<text style=\"fill:#000000; fill-opacity:1; font-family:Arial,Helvetica Neue,Helvetica,sans-serif; font-size:48px; text-anchor:middle;\" transform=\"rotate(0, 1767.47, 1541.47)\" x=\"1767.47\" y=\"1541.47\">10</text>\n",
       "</g>\n",
       "<g clip-path=\"url(#clip2900)\">\n",
       "<text style=\"fill:#000000; fill-opacity:1; font-family:Arial,Helvetica Neue,Helvetica,sans-serif; font-size:48px; text-anchor:end;\" transform=\"rotate(0, 144.627, 1323.47)\" x=\"144.627\" y=\"1323.47\">-10</text>\n",
       "</g>\n",
       "<g clip-path=\"url(#clip2900)\">\n",
       "<text style=\"fill:#000000; fill-opacity:1; font-family:Arial,Helvetica Neue,Helvetica,sans-serif; font-size:48px; text-anchor:end;\" transform=\"rotate(0, 144.627, 1111.43)\" x=\"144.627\" y=\"1111.43\">-5</text>\n",
       "</g>\n",
       "<g clip-path=\"url(#clip2900)\">\n",
       "<text style=\"fill:#000000; fill-opacity:1; font-family:Arial,Helvetica Neue,Helvetica,sans-serif; font-size:48px; text-anchor:end;\" transform=\"rotate(0, 144.627, 899.391)\" x=\"144.627\" y=\"899.391\">0</text>\n",
       "</g>\n",
       "<g clip-path=\"url(#clip2900)\">\n",
       "<text style=\"fill:#000000; fill-opacity:1; font-family:Arial,Helvetica Neue,Helvetica,sans-serif; font-size:48px; text-anchor:end;\" transform=\"rotate(0, 144.627, 687.351)\" x=\"144.627\" y=\"687.351\">5</text>\n",
       "</g>\n",
       "<g clip-path=\"url(#clip2900)\">\n",
       "<text style=\"fill:#000000; fill-opacity:1; font-family:Arial,Helvetica Neue,Helvetica,sans-serif; font-size:48px; text-anchor:end;\" transform=\"rotate(0, 144.627, 475.312)\" x=\"144.627\" y=\"475.312\">10</text>\n",
       "</g>\n",
       "<polyline clip-path=\"url(#clip2903)\" style=\"stroke:#fafda0; stroke-width:4; stroke-opacity:1; fill:none\" points=\"\n",
       "  1034.7,930.685 1033.2,931.65 1031.7,930.685 1033.2,929.72 \n",
       "  \"/>\n",
       "<polyline clip-path=\"url(#clip2903)\" style=\"stroke:#fafda0; stroke-width:4; stroke-opacity:1; fill:none\" points=\"\n",
       "  1033.25,930.685 1033.2,930.721 1033.14,930.685 1033.2,930.649 \n",
       "  \"/>\n",
       "<polyline clip-path=\"url(#clip2903)\" style=\"stroke:#fafda0; stroke-width:4; stroke-opacity:1; fill:none\" points=\"\n",
       "  1033.2,930.685 1033.2,930.688 1033.19,930.685 1033.2,930.681 \n",
       "  \"/>\n",
       "<polyline clip-path=\"url(#clip2903)\" style=\"stroke:#fafda0; stroke-width:4; stroke-opacity:1; fill:none\" points=\"\n",
       "  1033.2,930.685 1033.2,930.688 1033.19,930.685 1033.2,930.682 \n",
       "  \"/>\n",
       "<polyline clip-path=\"url(#clip2903)\" style=\"stroke:#fafda0; stroke-width:4; stroke-opacity:1; fill:none\" points=\"\n",
       "  1033.2,930.685 1033.2,930.687 1033.2,930.685 1033.2,930.683 \n",
       "  \"/>\n",
       "<polyline clip-path=\"url(#clip2903)\" style=\"stroke:#fafda0; stroke-width:4; stroke-opacity:1; fill:none\" points=\"\n",
       "  1033.2,930.685 1033.2,930.686 1033.2,930.685 1033.2,930.684 \n",
       "  \"/>\n",
       "<polyline clip-path=\"url(#clip2903)\" style=\"stroke:#f9fc9c; stroke-width:4; stroke-opacity:1; fill:none\" points=\"\n",
       "  1045.32,930.31 1050.8,926.781 1051.38,926.407 1056.86,922.878 1057.44,922.503 1062.92,918.974 1063.51,918.6 1068.98,915.071 1069.57,914.696 1075.05,911.167 \n",
       "  1075.63,910.792 1081.11,907.264 1081.69,906.889 1087.17,903.36 1087.75,902.985 1093.23,899.457 1093.81,899.081 1099.29,895.553 1099.87,895.177 1105.35,891.649 \n",
       "  1105.93,891.274 1111.41,887.746 1112,887.37 1117.47,883.842 1118.06,883.467 1123.54,879.939 1124.12,879.563 1129.6,876.035 1130.18,875.66 1135.66,872.132 \n",
       "  1136.24,871.756 1141.72,868.228 1142.3,867.853 1147.78,864.325 1148.36,863.95 1153.84,860.421 1154.43,860.046 1159.9,856.518 1160.49,856.143 1165.97,852.614 \n",
       "  1166.55,852.239 1172.03,848.711 1172.61,848.336 1178.09,844.807 1178.67,844.432 1184.15,840.903 1184.73,840.529 1190.21,837 1190.79,836.625 1196.27,833.096 \n",
       "  1196.85,832.722 1202.33,829.193 1202.92,828.818 1208.4,825.289 1208.98,824.914 1214.46,821.386 1215.04,821.011 1220.52,817.482 1221.1,817.107 1226.58,813.579 \n",
       "  1227.16,813.203 1232.64,809.675 1233.22,809.3 1238.7,805.772 1239.28,805.396 1244.76,801.868 1245.35,801.493 1250.82,797.964 1251.41,797.589 1256.89,794.061 \n",
       "  1257.47,793.686 1262.95,790.157 1263.53,789.782 1269.01,786.254 1269.59,785.879 1275.07,782.35 1275.65,781.975 1281.13,778.447 1281.71,778.072 1287.19,774.543 \n",
       "  1287.77,774.168 1293.25,770.64 1293.84,770.265 1299.32,766.736 1299.9,766.361 1305.38,762.833 1305.96,762.458 1311.44,758.929 1312.02,758.554 1317.5,755.026 \n",
       "  1318.08,754.65 1323.56,751.122 1324.14,750.746 1329.62,747.218 1330.2,746.841 1335.68,743.315 1336.27,742.935 1341.73,739.411 1342.33,739.028 1347.78,735.508 \n",
       "  1348.39,735.118 1353.83,731.604 1354.45,731.206 1359.87,727.701 1360.51,727.289 1365.9,723.797 1366.57,723.364 1371.92,719.894 1372.63,719.429 1377.91,715.99 \n",
       "  1378.69,715.477 1383.87,712.087 1384.76,711.502 1389.78,708.183 1390.82,707.492 1395.62,704.279 1396.88,703.432 1401.38,700.376 1402.94,699.3 1407.01,696.472 \n",
       "  1409,695.066 1412.49,692.569 1415.06,690.685 1417.77,688.665 1421.12,686.089 1422.81,684.762 1427.19,681.179 1427.57,680.858 1430.29,676.955 1427.19,674.953 \n",
       "  1421.12,676.71 1420.63,676.955 1415.06,679.773 1413,680.858 1409,683.019 1405.87,684.762 1402.94,686.421 1399.06,688.665 1396.88,689.948 1392.49,692.569 \n",
       "  1390.82,693.577 1386.07,696.472 1384.76,697.282 1379.77,700.376 1378.69,701.046 1373.54,704.279 1372.63,704.852 1367.37,708.183 1366.57,708.689 1361.23,712.087 \n",
       "  1360.51,712.547 1355.12,715.99 1354.45,716.42 1349.03,719.894 1348.39,720.304 1342.95,723.797 1342.33,724.194 1336.87,727.701 1336.27,728.089 1330.8,731.604 \n",
       "  1330.2,731.988 1324.73,735.508 1324.14,735.888 1318.67,739.411 1318.08,739.789 1312.6,743.315 1312.02,743.691 1306.54,747.218 1305.96,747.594 1300.48,751.122 \n",
       "  1299.9,751.497 1294.42,755.026 1293.84,755.4 1288.36,758.929 1287.77,759.304 1282.3,762.833 1281.71,763.207 1276.23,766.736 1275.65,767.111 1270.17,770.64 \n",
       "  1269.59,771.015 1264.11,774.543 1263.53,774.918 1258.05,778.447 1257.47,778.822 1251.99,782.35 1251.41,782.726 1245.93,786.254 1245.35,786.629 1239.87,790.157 \n",
       "  1239.28,790.533 1233.81,794.061 1233.22,794.436 1227.74,797.964 1227.16,798.34 1221.68,801.868 1221.1,802.243 1215.62,805.772 1215.04,806.147 1209.56,809.675 \n",
       "  1208.98,810.05 1203.5,813.579 1202.92,813.954 1197.44,817.482 1196.85,817.857 1191.38,821.386 1190.79,821.76 1185.31,825.289 1184.73,825.664 1179.25,829.193 \n",
       "  1178.67,829.567 1173.19,833.096 1172.61,833.471 1167.13,837 1166.55,837.374 1161.07,840.903 1160.49,841.278 1155.01,844.807 1154.43,845.182 1148.95,848.711 \n",
       "  1148.36,849.085 1142.88,852.614 1142.3,852.989 1136.82,856.518 1136.24,856.893 1130.76,860.421 1130.18,860.796 1124.7,864.325 1124.12,864.7 1118.64,868.228 \n",
       "  1118.06,868.604 1112.58,872.132 1112,872.507 1106.52,876.035 1105.93,876.411 1100.46,879.939 1099.87,880.315 1094.4,883.842 1093.81,884.218 1088.33,887.746 \n",
       "  1087.75,888.121 1082.27,891.649 1081.69,892.025 1076.21,895.553 1075.63,895.928 1070.15,899.457 1069.57,899.832 1064.09,903.36 1063.51,903.735 1058.03,907.264 \n",
       "  1057.44,907.638 1051.96,911.167 1051.38,911.542 1045.9,915.071 1045.32,915.445 1039.84,918.974 1039.26,919.349 1033.78,922.878 \n",
       "  \"/>\n",
       "<polyline clip-path=\"url(#clip2903)\" style=\"stroke:#fafda0; stroke-width:4; stroke-opacity:1; fill:none\" points=\"\n",
       "  1043.82,922.878 1045.32,923.843 1046.82,922.878 1045.32,921.912 1043.82,922.878 \n",
       "  \"/>\n",
       "<polyline clip-path=\"url(#clip2903)\" style=\"stroke:#fafda0; stroke-width:4; stroke-opacity:1; fill:none\" points=\"\n",
       "  1045.27,922.878 1045.32,922.914 1045.38,922.878 1045.32,922.842 1045.27,922.878 \n",
       "  \"/>\n",
       "<polyline clip-path=\"url(#clip2903)\" style=\"stroke:#fafda0; stroke-width:4; stroke-opacity:1; fill:none\" points=\"\n",
       "  1045.32,922.878 1045.32,922.881 1045.33,922.878 1045.32,922.874 1045.32,922.878 \n",
       "  \"/>\n",
       "<polyline clip-path=\"url(#clip2903)\" style=\"stroke:#fafda0; stroke-width:4; stroke-opacity:1; fill:none\" points=\"\n",
       "  1045.32,922.878 1045.32,922.881 1045.33,922.878 1045.32,922.875 1045.32,922.878 \n",
       "  \"/>\n",
       "<polyline clip-path=\"url(#clip2903)\" style=\"stroke:#fafda0; stroke-width:4; stroke-opacity:1; fill:none\" points=\"\n",
       "  1045.32,922.878 1045.32,922.88 1045.32,922.878 1045.32,922.876 1045.32,922.878 \n",
       "  \"/>\n",
       "<polyline clip-path=\"url(#clip2903)\" style=\"stroke:#fafda0; stroke-width:4; stroke-opacity:1; fill:none\" points=\"\n",
       "  1045.32,922.878 1045.32,922.879 1045.32,922.878 1045.32,922.877 1045.32,922.878 \n",
       "  \"/>\n",
       "<polyline clip-path=\"url(#clip2903)\" style=\"stroke:#fafda0; stroke-width:4; stroke-opacity:1; fill:none\" points=\"\n",
       "  1049.88,918.974 1051.38,919.94 1052.88,918.974 1051.38,918.009 1049.88,918.974 \n",
       "  \"/>\n",
       "<polyline clip-path=\"url(#clip2903)\" style=\"stroke:#fafda0; stroke-width:4; stroke-opacity:1; fill:none\" points=\"\n",
       "  1051.33,918.974 1051.38,919.01 1051.44,918.974 1051.38,918.939 1051.33,918.974 \n",
       "  \"/>\n",
       "<polyline clip-path=\"url(#clip2903)\" style=\"stroke:#fafda0; stroke-width:4; stroke-opacity:1; fill:none\" points=\"\n",
       "  1051.38,918.974 1051.38,918.978 1051.39,918.974 1051.38,918.971 1051.38,918.974 \n",
       "  \"/>\n",
       "<polyline clip-path=\"url(#clip2903)\" style=\"stroke:#fafda0; stroke-width:4; stroke-opacity:1; fill:none\" points=\"\n",
       "  1051.38,918.974 1051.38,918.977 1051.39,918.974 1051.38,918.972 1051.38,918.974 \n",
       "  \"/>\n",
       "<polyline clip-path=\"url(#clip2903)\" style=\"stroke:#fafda0; stroke-width:4; stroke-opacity:1; fill:none\" points=\"\n",
       "  1051.38,918.974 1051.38,918.976 1051.39,918.974 1051.38,918.973 1051.38,918.974 \n",
       "  \"/>\n",
       "<polyline clip-path=\"url(#clip2903)\" style=\"stroke:#fafda0; stroke-width:4; stroke-opacity:1; fill:none\" points=\"\n",
       "  1051.38,918.974 1051.38,918.975 1051.38,918.974 1051.38,918.973 1051.38,918.974 \n",
       "  \"/>\n",
       "<polyline clip-path=\"url(#clip2903)\" style=\"stroke:#fafda0; stroke-width:4; stroke-opacity:1; fill:none\" points=\"\n",
       "  1055.95,915.071 1057.44,916.036 1058.94,915.071 1057.44,914.106 1055.95,915.071 \n",
       "  \"/>\n",
       "<polyline clip-path=\"url(#clip2903)\" style=\"stroke:#fafda0; stroke-width:4; stroke-opacity:1; fill:none\" points=\"\n",
       "  1057.39,915.071 1057.44,915.106 1057.5,915.071 1057.44,915.035 1057.39,915.071 \n",
       "  \"/>\n",
       "<polyline clip-path=\"url(#clip2903)\" style=\"stroke:#fafda0; stroke-width:4; stroke-opacity:1; fill:none\" points=\"\n",
       "  1057.44,915.071 1057.44,915.074 1057.45,915.071 1057.44,915.068 1057.44,915.071 \n",
       "  \"/>\n",
       "<polyline clip-path=\"url(#clip2903)\" style=\"stroke:#fafda0; stroke-width:4; stroke-opacity:1; fill:none\" points=\"\n",
       "  1057.44,915.071 1057.44,915.073 1057.45,915.071 1057.44,915.068 1057.44,915.071 \n",
       "  \"/>\n",
       "<polyline clip-path=\"url(#clip2903)\" style=\"stroke:#fafda0; stroke-width:4; stroke-opacity:1; fill:none\" points=\"\n",
       "  1057.44,915.071 1057.44,915.072 1057.45,915.071 1057.44,915.069 1057.44,915.071 \n",
       "  \"/>\n",
       "<polyline clip-path=\"url(#clip2903)\" style=\"stroke:#fafda0; stroke-width:4; stroke-opacity:1; fill:none\" points=\"\n",
       "  1057.44,915.071 1057.44,915.072 1057.45,915.071 1057.44,915.07 1057.44,915.071 \n",
       "  \"/>\n",
       "<polyline clip-path=\"url(#clip2903)\" style=\"stroke:#fafda0; stroke-width:4; stroke-opacity:1; fill:none\" points=\"\n",
       "  1062.01,911.167 1063.51,912.132 1065,911.167 1063.51,910.203 1062.01,911.167 \n",
       "  \"/>\n",
       "<polyline clip-path=\"url(#clip2903)\" style=\"stroke:#fafda0; stroke-width:4; stroke-opacity:1; fill:none\" points=\"\n",
       "  1063.45,911.167 1063.51,911.202 1063.56,911.167 1063.51,911.132 1063.45,911.167 \n",
       "  \"/>\n",
       "<polyline clip-path=\"url(#clip2903)\" style=\"stroke:#fafda0; stroke-width:4; stroke-opacity:1; fill:none\" points=\"\n",
       "  1063.5,911.167 1063.51,911.17 1063.51,911.167 1063.51,911.165 1063.5,911.167 \n",
       "  \"/>\n",
       "<polyline clip-path=\"url(#clip2903)\" style=\"stroke:#fafda0; stroke-width:4; stroke-opacity:1; fill:none\" points=\"\n",
       "  1063.5,911.167 1063.51,911.169 1063.51,911.167 1063.51,911.165 1063.5,911.167 \n",
       "  \"/>\n",
       "<polyline clip-path=\"url(#clip2903)\" style=\"stroke:#fafda0; stroke-width:4; stroke-opacity:1; fill:none\" points=\"\n",
       "  1063.5,911.167 1063.51,911.168 1063.51,911.167 1063.51,911.166 1063.5,911.167 \n",
       "  \"/>\n",
       "<polyline clip-path=\"url(#clip2903)\" style=\"stroke:#fafda0; stroke-width:4; stroke-opacity:1; fill:none\" points=\"\n",
       "  1063.5,911.167 1063.51,911.168 1063.51,911.167 1063.51,911.167 1063.5,911.167 \n",
       "  \"/>\n",
       "<polyline clip-path=\"url(#clip2903)\" style=\"stroke:#fafda0; stroke-width:4; stroke-opacity:1; fill:none\" points=\"\n",
       "  1068.07,907.264 1069.57,908.228 1071.06,907.264 1069.57,906.3 1068.07,907.264 \n",
       "  \"/>\n",
       "<polyline clip-path=\"url(#clip2903)\" style=\"stroke:#fafda0; stroke-width:4; stroke-opacity:1; fill:none\" points=\"\n",
       "  1069.51,907.264 1069.57,907.298 1069.62,907.264 1069.57,907.229 1069.51,907.264 \n",
       "  \"/>\n",
       "<polyline clip-path=\"url(#clip2903)\" style=\"stroke:#fafda0; stroke-width:4; stroke-opacity:1; fill:none\" points=\"\n",
       "  1069.56,907.264 1069.57,907.266 1069.57,907.264 1069.57,907.261 1069.56,907.264 \n",
       "  \"/>\n",
       "<polyline clip-path=\"url(#clip2903)\" style=\"stroke:#fafda0; stroke-width:4; stroke-opacity:1; fill:none\" points=\"\n",
       "  1069.56,907.264 1069.57,907.265 1069.57,907.264 1069.57,907.262 1069.56,907.264 \n",
       "  \"/>\n",
       "<polyline clip-path=\"url(#clip2903)\" style=\"stroke:#fafda0; stroke-width:4; stroke-opacity:1; fill:none\" points=\"\n",
       "  1069.57,907.264 1069.57,907.264 1069.57,907.264 1069.57,907.263 1069.57,907.264 \n",
       "  \"/>\n",
       "<polyline clip-path=\"url(#clip2903)\" style=\"stroke:#fafda0; stroke-width:4; stroke-opacity:1; fill:none\" points=\"\n",
       "  1074.13,903.36 1075.63,904.324 1077.12,903.36 1075.63,902.397 1074.13,903.36 \n",
       "  \"/>\n",
       "<polyline clip-path=\"url(#clip2903)\" style=\"stroke:#fafda0; stroke-width:4; stroke-opacity:1; fill:none\" points=\"\n",
       "  1075.58,903.36 1075.63,903.394 1075.68,903.36 1075.63,903.326 1075.58,903.36 \n",
       "  \"/>\n",
       "<polyline clip-path=\"url(#clip2903)\" style=\"stroke:#fafda0; stroke-width:4; stroke-opacity:1; fill:none\" points=\"\n",
       "  1075.63,903.36 1075.63,903.362 1075.63,903.36 1075.63,903.358 1075.63,903.36 \n",
       "  \"/>\n",
       "<polyline clip-path=\"url(#clip2903)\" style=\"stroke:#fafda0; stroke-width:4; stroke-opacity:1; fill:none\" points=\"\n",
       "  1075.63,903.36 1075.63,903.361 1075.63,903.36 1075.63,903.359 1075.63,903.36 \n",
       "  \"/>\n",
       "<polyline clip-path=\"url(#clip2903)\" style=\"stroke:#fafda0; stroke-width:4; stroke-opacity:1; fill:none\" points=\"\n",
       "  1075.63,903.36 1075.63,903.36 1075.63,903.36 1075.63,903.36 1075.63,903.36 \n",
       "  \"/>\n",
       "<polyline clip-path=\"url(#clip2903)\" style=\"stroke:#fafda0; stroke-width:4; stroke-opacity:1; fill:none\" points=\"\n",
       "  1080.19,899.457 1081.69,900.42 1083.18,899.457 1081.69,898.493 1080.19,899.457 \n",
       "  \"/>\n",
       "<polyline clip-path=\"url(#clip2903)\" style=\"stroke:#fafda0; stroke-width:4; stroke-opacity:1; fill:none\" points=\"\n",
       "  1081.64,899.457 1081.69,899.49 1081.74,899.457 1081.69,899.423 1081.64,899.457 \n",
       "  \"/>\n",
       "<polyline clip-path=\"url(#clip2903)\" style=\"stroke:#fafda0; stroke-width:4; stroke-opacity:1; fill:none\" points=\"\n",
       "  1081.69,899.457 1081.69,899.458 1081.69,899.457 1081.69,899.455 1081.69,899.457 \n",
       "  \"/>\n",
       "<polyline clip-path=\"url(#clip2903)\" style=\"stroke:#fafda0; stroke-width:4; stroke-opacity:1; fill:none\" points=\"\n",
       "  1081.69,899.457 1081.69,899.457 1081.69,899.457 1081.69,899.456 1081.69,899.457 \n",
       "  \"/>\n",
       "<polyline clip-path=\"url(#clip2903)\" style=\"stroke:#fafda0; stroke-width:4; stroke-opacity:1; fill:none\" points=\"\n",
       "  1086.26,895.553 1087.75,896.516 1089.25,895.553 1087.75,894.59 1086.26,895.553 \n",
       "  \"/>\n",
       "<polyline clip-path=\"url(#clip2903)\" style=\"stroke:#fafda0; stroke-width:4; stroke-opacity:1; fill:none\" points=\"\n",
       "  1087.7,895.553 1087.75,895.586 1087.8,895.553 1087.75,895.52 1087.7,895.553 \n",
       "  \"/>\n",
       "<polyline clip-path=\"url(#clip2903)\" style=\"stroke:#fafda0; stroke-width:4; stroke-opacity:1; fill:none\" points=\"\n",
       "  1087.75,895.553 1087.75,895.554 1087.75,895.553 1087.75,895.552 1087.75,895.553 \n",
       "  \"/>\n",
       "<polyline clip-path=\"url(#clip2903)\" style=\"stroke:#fafda0; stroke-width:4; stroke-opacity:1; fill:none\" points=\"\n",
       "  1087.75,895.553 1087.75,895.553 1087.75,895.553 1087.75,895.553 1087.75,895.553 \n",
       "  \"/>\n",
       "<polyline clip-path=\"url(#clip2903)\" style=\"stroke:#fafda0; stroke-width:4; stroke-opacity:1; fill:none\" points=\"\n",
       "  1092.32,891.649 1093.81,892.612 1095.31,891.649 1093.81,890.687 1092.32,891.649 \n",
       "  \"/>\n",
       "<polyline clip-path=\"url(#clip2903)\" style=\"stroke:#fafda0; stroke-width:4; stroke-opacity:1; fill:none\" points=\"\n",
       "  1093.76,891.649 1093.81,891.682 1093.86,891.649 1093.81,891.617 1093.76,891.649 \n",
       "  \"/>\n",
       "<polyline clip-path=\"url(#clip2903)\" style=\"stroke:#fafda0; stroke-width:4; stroke-opacity:1; fill:none\" points=\"\n",
       "  1093.81,891.649 1093.81,891.65 1093.81,891.649 1093.81,891.649 1093.81,891.649 \n",
       "  \"/>\n",
       "<polyline clip-path=\"url(#clip2903)\" style=\"stroke:#fafda0; stroke-width:4; stroke-opacity:1; fill:none\" points=\"\n",
       "  1098.38,887.746 1099.87,888.708 1101.37,887.746 1099.87,886.784 1098.38,887.746 \n",
       "  \"/>\n",
       "<polyline clip-path=\"url(#clip2903)\" style=\"stroke:#fafda0; stroke-width:4; stroke-opacity:1; fill:none\" points=\"\n",
       "  1099.82,887.746 1099.87,887.778 1099.92,887.746 1099.87,887.713 1099.82,887.746 \n",
       "  \"/>\n",
       "<polyline clip-path=\"url(#clip2903)\" style=\"stroke:#fafda0; stroke-width:4; stroke-opacity:1; fill:none\" points=\"\n",
       "  1099.87,887.746 1099.87,887.746 1099.87,887.746 1099.87,887.746 1099.87,887.746 \n",
       "  \"/>\n",
       "<polyline clip-path=\"url(#clip2903)\" style=\"stroke:#fafda0; stroke-width:4; stroke-opacity:1; fill:none\" points=\"\n",
       "  1104.44,883.842 1105.93,884.804 1107.43,883.842 1105.93,882.88 1104.44,883.842 \n",
       "  \"/>\n",
       "<polyline clip-path=\"url(#clip2903)\" style=\"stroke:#fafda0; stroke-width:4; stroke-opacity:1; fill:none\" points=\"\n",
       "  1105.88,883.842 1105.93,883.875 1105.98,883.842 1105.93,883.81 1105.88,883.842 \n",
       "  \"/>\n",
       "<polyline clip-path=\"url(#clip2903)\" style=\"stroke:#fafda0; stroke-width:4; stroke-opacity:1; fill:none\" points=\"\n",
       "  1105.93,883.842 1105.93,883.842 1105.93,883.842 1105.93,883.842 1105.93,883.842 \n",
       "  \"/>\n",
       "<polyline clip-path=\"url(#clip2903)\" style=\"stroke:#fafda0; stroke-width:4; stroke-opacity:1; fill:none\" points=\"\n",
       "  1110.5,879.939 1112,880.901 1113.49,879.939 1112,878.977 1110.5,879.939 \n",
       "  \"/>\n",
       "<polyline clip-path=\"url(#clip2903)\" style=\"stroke:#fafda0; stroke-width:4; stroke-opacity:1; fill:none\" points=\"\n",
       "  1111.95,879.939 1112,879.971 1112.05,879.939 1112,879.907 1111.95,879.939 \n",
       "  \"/>\n",
       "<polyline clip-path=\"url(#clip2903)\" style=\"stroke:#fafda0; stroke-width:4; stroke-opacity:1; fill:none\" points=\"\n",
       "  1112,879.939 1112,879.939 1112,879.939 1112,879.939 1112,879.939 \n",
       "  \"/>\n",
       "<polyline clip-path=\"url(#clip2903)\" style=\"stroke:#fafda0; stroke-width:4; stroke-opacity:1; fill:none\" points=\"\n",
       "  1116.56,876.035 1118.06,876.997 1119.55,876.035 1118.06,875.073 1116.56,876.035 \n",
       "  \"/>\n",
       "<polyline clip-path=\"url(#clip2903)\" style=\"stroke:#fafda0; stroke-width:4; stroke-opacity:1; fill:none\" points=\"\n",
       "  1118.01,876.035 1118.06,876.068 1118.11,876.035 1118.06,876.003 1118.01,876.035 \n",
       "  \"/>\n",
       "<polyline clip-path=\"url(#clip2903)\" style=\"stroke:#fafda0; stroke-width:4; stroke-opacity:1; fill:none\" points=\"\n",
       "  1118.06,876.035 1118.06,876.036 1118.06,876.035 1118.06,876.035 1118.06,876.035 \n",
       "  \"/>\n",
       "<polyline clip-path=\"url(#clip2903)\" style=\"stroke:#fafda0; stroke-width:4; stroke-opacity:1; fill:none\" points=\"\n",
       "  1122.62,872.132 1124.12,873.094 1125.61,872.132 1124.12,871.169 1122.62,872.132 \n",
       "  \"/>\n",
       "<polyline clip-path=\"url(#clip2903)\" style=\"stroke:#fafda0; stroke-width:4; stroke-opacity:1; fill:none\" points=\"\n",
       "  1124.07,872.132 1124.12,872.165 1124.17,872.132 1124.12,872.099 1124.07,872.132 \n",
       "  \"/>\n",
       "<polyline clip-path=\"url(#clip2903)\" style=\"stroke:#fafda0; stroke-width:4; stroke-opacity:1; fill:none\" points=\"\n",
       "  1124.12,872.132 1124.12,872.132 1124.12,872.132 1124.12,872.131 1124.12,872.132 \n",
       "  \"/>\n",
       "<polyline clip-path=\"url(#clip2903)\" style=\"stroke:#fafda0; stroke-width:4; stroke-opacity:1; fill:none\" points=\"\n",
       "  1128.69,868.228 1130.18,869.191 1131.67,868.228 1130.18,867.265 1128.69,868.228 \n",
       "  \"/>\n",
       "<polyline clip-path=\"url(#clip2903)\" style=\"stroke:#fafda0; stroke-width:4; stroke-opacity:1; fill:none\" points=\"\n",
       "  1130.13,868.228 1130.18,868.261 1130.23,868.228 1130.18,868.195 1130.13,868.228 \n",
       "  \"/>\n",
       "<polyline clip-path=\"url(#clip2903)\" style=\"stroke:#fafda0; stroke-width:4; stroke-opacity:1; fill:none\" points=\"\n",
       "  1130.18,868.228 1130.18,868.229 1130.18,868.228 1130.18,868.227 1130.18,868.228 \n",
       "  \"/>\n",
       "<polyline clip-path=\"url(#clip2903)\" style=\"stroke:#fafda0; stroke-width:4; stroke-opacity:1; fill:none\" points=\"\n",
       "  1130.18,868.228 1130.18,868.228 1130.18,868.228 1130.18,868.228 1130.18,868.228 \n",
       "  \"/>\n",
       "<polyline clip-path=\"url(#clip2903)\" style=\"stroke:#fafda0; stroke-width:4; stroke-opacity:1; fill:none\" points=\"\n",
       "  1134.75,864.325 1136.24,865.288 1137.74,864.325 1136.24,863.361 1134.75,864.325 \n",
       "  \"/>\n",
       "<polyline clip-path=\"url(#clip2903)\" style=\"stroke:#fafda0; stroke-width:4; stroke-opacity:1; fill:none\" points=\"\n",
       "  1136.19,864.325 1136.24,864.358 1136.29,864.325 1136.24,864.291 1136.19,864.325 \n",
       "  \"/>\n",
       "<polyline clip-path=\"url(#clip2903)\" style=\"stroke:#fafda0; stroke-width:4; stroke-opacity:1; fill:none\" points=\"\n",
       "  1136.24,864.325 1136.24,864.326 1136.24,864.325 1136.24,864.323 1136.24,864.325 \n",
       "  \"/>\n",
       "<polyline clip-path=\"url(#clip2903)\" style=\"stroke:#fafda0; stroke-width:4; stroke-opacity:1; fill:none\" points=\"\n",
       "  1136.24,864.325 1136.24,864.325 1136.24,864.325 1136.24,864.324 1136.24,864.325 \n",
       "  \"/>\n",
       "<polyline clip-path=\"url(#clip2903)\" style=\"stroke:#fafda0; stroke-width:4; stroke-opacity:1; fill:none\" points=\"\n",
       "  1140.81,860.421 1142.3,861.385 1143.8,860.421 1142.3,859.457 1140.81,860.421 \n",
       "  \"/>\n",
       "<polyline clip-path=\"url(#clip2903)\" style=\"stroke:#fafda0; stroke-width:4; stroke-opacity:1; fill:none\" points=\"\n",
       "  1142.25,860.421 1142.3,860.455 1142.36,860.421 1142.3,860.387 1142.25,860.421 \n",
       "  \"/>\n",
       "<polyline clip-path=\"url(#clip2903)\" style=\"stroke:#fafda0; stroke-width:4; stroke-opacity:1; fill:none\" points=\"\n",
       "  1142.3,860.421 1142.3,860.423 1142.31,860.421 1142.3,860.419 1142.3,860.421 \n",
       "  \"/>\n",
       "<polyline clip-path=\"url(#clip2903)\" style=\"stroke:#fafda0; stroke-width:4; stroke-opacity:1; fill:none\" points=\"\n",
       "  1142.3,860.421 1142.3,860.422 1142.3,860.421 1142.3,860.42 1142.3,860.421 \n",
       "  \"/>\n",
       "<polyline clip-path=\"url(#clip2903)\" style=\"stroke:#fafda0; stroke-width:4; stroke-opacity:1; fill:none\" points=\"\n",
       "  1142.3,860.421 1142.3,860.421 1142.3,860.421 1142.3,860.421 1142.3,860.421 \n",
       "  \"/>\n",
       "<polyline clip-path=\"url(#clip2903)\" style=\"stroke:#fafda0; stroke-width:4; stroke-opacity:1; fill:none\" points=\"\n",
       "  1146.87,856.518 1148.36,857.482 1149.86,856.518 1148.36,855.553 1146.87,856.518 \n",
       "  \"/>\n",
       "<polyline clip-path=\"url(#clip2903)\" style=\"stroke:#fafda0; stroke-width:4; stroke-opacity:1; fill:none\" points=\"\n",
       "  1148.31,856.518 1148.36,856.552 1148.42,856.518 1148.36,856.483 1148.31,856.518 \n",
       "  \"/>\n",
       "<polyline clip-path=\"url(#clip2903)\" style=\"stroke:#fafda0; stroke-width:4; stroke-opacity:1; fill:none\" points=\"\n",
       "  1148.36,856.518 1148.36,856.52 1148.37,856.518 1148.36,856.515 1148.36,856.518 \n",
       "  \"/>\n",
       "<polyline clip-path=\"url(#clip2903)\" style=\"stroke:#fafda0; stroke-width:4; stroke-opacity:1; fill:none\" points=\"\n",
       "  1148.36,856.518 1148.36,856.519 1148.37,856.518 1148.36,856.516 1148.36,856.518 \n",
       "  \"/>\n",
       "<polyline clip-path=\"url(#clip2903)\" style=\"stroke:#fafda0; stroke-width:4; stroke-opacity:1; fill:none\" points=\"\n",
       "  1148.36,856.518 1148.36,856.518 1148.36,856.518 1148.36,856.517 1148.36,856.518 \n",
       "  \"/>\n",
       "<polyline clip-path=\"url(#clip2903)\" style=\"stroke:#fafda0; stroke-width:4; stroke-opacity:1; fill:none\" points=\"\n",
       "  1152.93,852.614 1154.43,853.579 1155.92,852.614 1154.43,851.649 1152.93,852.614 \n",
       "  \"/>\n",
       "<polyline clip-path=\"url(#clip2903)\" style=\"stroke:#fafda0; stroke-width:4; stroke-opacity:1; fill:none\" points=\"\n",
       "  1154.37,852.614 1154.43,852.649 1154.48,852.614 1154.43,852.579 1154.37,852.614 \n",
       "  \"/>\n",
       "<polyline clip-path=\"url(#clip2903)\" style=\"stroke:#fafda0; stroke-width:4; stroke-opacity:1; fill:none\" points=\"\n",
       "  1154.42,852.614 1154.43,852.617 1154.43,852.614 1154.43,852.611 1154.42,852.614 \n",
       "  \"/>\n",
       "<polyline clip-path=\"url(#clip2903)\" style=\"stroke:#fafda0; stroke-width:4; stroke-opacity:1; fill:none\" points=\"\n",
       "  1154.42,852.614 1154.43,852.616 1154.43,852.614 1154.43,852.612 1154.42,852.614 \n",
       "  \"/>\n",
       "<polyline clip-path=\"url(#clip2903)\" style=\"stroke:#fafda0; stroke-width:4; stroke-opacity:1; fill:none\" points=\"\n",
       "  1154.42,852.614 1154.43,852.615 1154.43,852.614 1154.43,852.613 1154.42,852.614 \n",
       "  \"/>\n",
       "<polyline clip-path=\"url(#clip2903)\" style=\"stroke:#fafda0; stroke-width:4; stroke-opacity:1; fill:none\" points=\"\n",
       "  1154.42,852.614 1154.43,852.614 1154.43,852.614 1154.43,852.614 1154.42,852.614 \n",
       "  \"/>\n",
       "<polyline clip-path=\"url(#clip2903)\" style=\"stroke:#fafda0; stroke-width:4; stroke-opacity:1; fill:none\" points=\"\n",
       "  1158.99,848.711 1160.49,849.675 1161.99,848.711 1160.49,847.746 1158.99,848.711 \n",
       "  \"/>\n",
       "<polyline clip-path=\"url(#clip2903)\" style=\"stroke:#fafda0; stroke-width:4; stroke-opacity:1; fill:none\" points=\"\n",
       "  1160.43,848.711 1160.49,848.746 1160.54,848.711 1160.49,848.675 1160.43,848.711 \n",
       "  \"/>\n",
       "<polyline clip-path=\"url(#clip2903)\" style=\"stroke:#fafda0; stroke-width:4; stroke-opacity:1; fill:none\" points=\"\n",
       "  1160.48,848.711 1160.49,848.714 1160.49,848.711 1160.49,848.707 1160.48,848.711 \n",
       "  \"/>\n",
       "<polyline clip-path=\"url(#clip2903)\" style=\"stroke:#fafda0; stroke-width:4; stroke-opacity:1; fill:none\" points=\"\n",
       "  1160.48,848.711 1160.49,848.713 1160.49,848.711 1160.49,848.708 1160.48,848.711 \n",
       "  \"/>\n",
       "<polyline clip-path=\"url(#clip2903)\" style=\"stroke:#fafda0; stroke-width:4; stroke-opacity:1; fill:none\" points=\"\n",
       "  1160.48,848.711 1160.49,848.712 1160.49,848.711 1160.49,848.709 1160.48,848.711 \n",
       "  \"/>\n",
       "<polyline clip-path=\"url(#clip2903)\" style=\"stroke:#fafda0; stroke-width:4; stroke-opacity:1; fill:none\" points=\"\n",
       "  1160.49,848.711 1160.49,848.711 1160.49,848.711 1160.49,848.71 1160.49,848.711 \n",
       "  \"/>\n",
       "<polyline clip-path=\"url(#clip2903)\" style=\"stroke:#fafda0; stroke-width:4; stroke-opacity:1; fill:none\" points=\"\n",
       "  1165.05,844.807 1166.55,845.772 1168.05,844.807 1166.55,843.842 1165.05,844.807 \n",
       "  \"/>\n",
       "<polyline clip-path=\"url(#clip2903)\" style=\"stroke:#fafda0; stroke-width:4; stroke-opacity:1; fill:none\" points=\"\n",
       "  1166.49,844.807 1166.55,844.843 1166.6,844.807 1166.55,844.771 1166.49,844.807 \n",
       "  \"/>\n",
       "<polyline clip-path=\"url(#clip2903)\" style=\"stroke:#fafda0; stroke-width:4; stroke-opacity:1; fill:none\" points=\"\n",
       "  1166.54,844.807 1166.55,844.81 1166.55,844.807 1166.55,844.804 1166.54,844.807 \n",
       "  \"/>\n",
       "<polyline clip-path=\"url(#clip2903)\" style=\"stroke:#fafda0; stroke-width:4; stroke-opacity:1; fill:none\" points=\"\n",
       "  1166.54,844.807 1166.55,844.81 1166.55,844.807 1166.55,844.804 1166.54,844.807 \n",
       "  \"/>\n",
       "<polyline clip-path=\"url(#clip2903)\" style=\"stroke:#fafda0; stroke-width:4; stroke-opacity:1; fill:none\" points=\"\n",
       "  1166.55,844.807 1166.55,844.809 1166.55,844.807 1166.55,844.805 1166.55,844.807 \n",
       "  \"/>\n",
       "<polyline clip-path=\"url(#clip2903)\" style=\"stroke:#fafda0; stroke-width:4; stroke-opacity:1; fill:none\" points=\"\n",
       "  1166.55,844.807 1166.55,844.808 1166.55,844.807 1166.55,844.806 1166.55,844.807 \n",
       "  \"/>\n",
       "<polyline clip-path=\"url(#clip2903)\" style=\"stroke:#fafda0; stroke-width:4; stroke-opacity:1; fill:none\" points=\"\n",
       "  1171.11,840.903 1172.61,841.869 1174.11,840.903 1172.61,839.938 1171.11,840.903 \n",
       "  \"/>\n",
       "<polyline clip-path=\"url(#clip2903)\" style=\"stroke:#fafda0; stroke-width:4; stroke-opacity:1; fill:none\" points=\"\n",
       "  1172.55,840.903 1172.61,840.939 1172.66,840.903 1172.61,840.868 1172.55,840.903 \n",
       "  \"/>\n",
       "<polyline clip-path=\"url(#clip2903)\" style=\"stroke:#fafda0; stroke-width:4; stroke-opacity:1; fill:none\" points=\"\n",
       "  1172.6,840.903 1172.61,840.907 1172.61,840.903 1172.61,840.9 1172.6,840.903 \n",
       "  \"/>\n",
       "<polyline clip-path=\"url(#clip2903)\" style=\"stroke:#fafda0; stroke-width:4; stroke-opacity:1; fill:none\" points=\"\n",
       "  1172.6,840.903 1172.61,840.906 1172.61,840.903 1172.61,840.901 1172.6,840.903 \n",
       "  \"/>\n",
       "<polyline clip-path=\"url(#clip2903)\" style=\"stroke:#fafda0; stroke-width:4; stroke-opacity:1; fill:none\" points=\"\n",
       "  1172.61,840.903 1172.61,840.905 1172.61,840.903 1172.61,840.902 1172.61,840.903 \n",
       "  \"/>\n",
       "<polyline clip-path=\"url(#clip2903)\" style=\"stroke:#fafda0; stroke-width:4; stroke-opacity:1; fill:none\" points=\"\n",
       "  1172.61,840.903 1172.61,840.905 1172.61,840.903 1172.61,840.902 1172.61,840.903 \n",
       "  \"/>\n",
       "<polyline clip-path=\"url(#clip2903)\" style=\"stroke:#fafda0; stroke-width:4; stroke-opacity:1; fill:none\" points=\"\n",
       "  1177.17,837 1178.67,837.965 1180.17,837 1178.67,836.034 1177.17,837 \n",
       "  \"/>\n",
       "<polyline clip-path=\"url(#clip2903)\" style=\"stroke:#fafda0; stroke-width:4; stroke-opacity:1; fill:none\" points=\"\n",
       "  1178.62,837 1178.67,837.036 1178.73,837 1178.67,836.964 1178.62,837 \n",
       "  \"/>\n",
       "<polyline clip-path=\"url(#clip2903)\" style=\"stroke:#fafda0; stroke-width:4; stroke-opacity:1; fill:none\" points=\"\n",
       "  1178.67,837 1178.67,837.003 1178.68,837 1178.67,836.996 1178.67,837 \n",
       "  \"/>\n",
       "<polyline clip-path=\"url(#clip2903)\" style=\"stroke:#fafda0; stroke-width:4; stroke-opacity:1; fill:none\" points=\"\n",
       "  1178.67,837 1178.67,837.003 1178.68,837 1178.67,836.997 1178.67,837 \n",
       "  \"/>\n",
       "<polyline clip-path=\"url(#clip2903)\" style=\"stroke:#fafda0; stroke-width:4; stroke-opacity:1; fill:none\" points=\"\n",
       "  1178.67,837 1178.67,837.002 1178.67,837 1178.67,836.998 1178.67,837 \n",
       "  \"/>\n",
       "<polyline clip-path=\"url(#clip2903)\" style=\"stroke:#fafda0; stroke-width:4; stroke-opacity:1; fill:none\" points=\"\n",
       "  1178.67,837 1178.67,837.001 1178.67,837 1178.67,836.999 1178.67,837 \n",
       "  \"/>\n",
       "<polyline clip-path=\"url(#clip2903)\" style=\"stroke:#fafda0; stroke-width:4; stroke-opacity:1; fill:none\" points=\"\n",
       "  1183.23,833.096 1184.73,834.062 1186.23,833.096 1184.73,832.131 1183.23,833.096 \n",
       "  \"/>\n",
       "<polyline clip-path=\"url(#clip2903)\" style=\"stroke:#fafda0; stroke-width:4; stroke-opacity:1; fill:none\" points=\"\n",
       "  1184.68,833.096 1184.73,833.132 1184.79,833.096 1184.73,833.061 1184.68,833.096 \n",
       "  \"/>\n",
       "<polyline clip-path=\"url(#clip2903)\" style=\"stroke:#fafda0; stroke-width:4; stroke-opacity:1; fill:none\" points=\"\n",
       "  1184.73,833.096 1184.73,833.1 1184.74,833.096 1184.73,833.093 1184.73,833.096 \n",
       "  \"/>\n",
       "<polyline clip-path=\"url(#clip2903)\" style=\"stroke:#fafda0; stroke-width:4; stroke-opacity:1; fill:none\" points=\"\n",
       "  1184.73,833.096 1184.73,833.099 1184.74,833.096 1184.73,833.093 1184.73,833.096 \n",
       "  \"/>\n",
       "<polyline clip-path=\"url(#clip2903)\" style=\"stroke:#fafda0; stroke-width:4; stroke-opacity:1; fill:none\" points=\"\n",
       "  1184.73,833.096 1184.73,833.098 1184.73,833.096 1184.73,833.095 1184.73,833.096 \n",
       "  \"/>\n",
       "<polyline clip-path=\"url(#clip2903)\" style=\"stroke:#fafda0; stroke-width:4; stroke-opacity:1; fill:none\" points=\"\n",
       "  1184.73,833.096 1184.73,833.098 1184.73,833.096 1184.73,833.095 1184.73,833.096 \n",
       "  \"/>\n",
       "<polyline clip-path=\"url(#clip2903)\" style=\"stroke:#fafda0; stroke-width:4; stroke-opacity:1; fill:none\" points=\"\n",
       "  1189.29,829.193 1190.79,830.158 1192.29,829.193 1190.79,828.228 1189.29,829.193 \n",
       "  \"/>\n",
       "<polyline clip-path=\"url(#clip2903)\" style=\"stroke:#fafda0; stroke-width:4; stroke-opacity:1; fill:none\" points=\"\n",
       "  1190.74,829.193 1190.79,829.228 1190.85,829.193 1190.79,829.157 1190.74,829.193 \n",
       "  \"/>\n",
       "<polyline clip-path=\"url(#clip2903)\" style=\"stroke:#fafda0; stroke-width:4; stroke-opacity:1; fill:none\" points=\"\n",
       "  1190.79,829.193 1190.79,829.196 1190.8,829.193 1190.79,829.19 1190.79,829.193 \n",
       "  \"/>\n",
       "<polyline clip-path=\"url(#clip2903)\" style=\"stroke:#fafda0; stroke-width:4; stroke-opacity:1; fill:none\" points=\"\n",
       "  1190.79,829.193 1190.79,829.195 1190.8,829.193 1190.79,829.19 1190.79,829.193 \n",
       "  \"/>\n",
       "<polyline clip-path=\"url(#clip2903)\" style=\"stroke:#fafda0; stroke-width:4; stroke-opacity:1; fill:none\" points=\"\n",
       "  1190.79,829.193 1190.79,829.194 1190.8,829.193 1190.79,829.191 1190.79,829.193 \n",
       "  \"/>\n",
       "<polyline clip-path=\"url(#clip2903)\" style=\"stroke:#fafda0; stroke-width:4; stroke-opacity:1; fill:none\" points=\"\n",
       "  1190.79,829.193 1190.79,829.194 1190.79,829.193 1190.79,829.192 1190.79,829.193 \n",
       "  \"/>\n",
       "<polyline clip-path=\"url(#clip2903)\" style=\"stroke:#fafda0; stroke-width:4; stroke-opacity:1; fill:none\" points=\"\n",
       "  1195.36,825.289 1196.85,826.254 1198.35,825.289 1196.85,824.325 1195.36,825.289 \n",
       "  \"/>\n",
       "<polyline clip-path=\"url(#clip2903)\" style=\"stroke:#fafda0; stroke-width:4; stroke-opacity:1; fill:none\" points=\"\n",
       "  1196.8,825.289 1196.85,825.324 1196.91,825.289 1196.85,825.254 1196.8,825.289 \n",
       "  \"/>\n",
       "<polyline clip-path=\"url(#clip2903)\" style=\"stroke:#fafda0; stroke-width:4; stroke-opacity:1; fill:none\" points=\"\n",
       "  1196.85,825.289 1196.85,825.292 1196.86,825.289 1196.85,825.286 1196.85,825.289 \n",
       "  \"/>\n",
       "<polyline clip-path=\"url(#clip2903)\" style=\"stroke:#fafda0; stroke-width:4; stroke-opacity:1; fill:none\" points=\"\n",
       "  1196.85,825.289 1196.85,825.292 1196.86,825.289 1196.85,825.287 1196.85,825.289 \n",
       "  \"/>\n",
       "<polyline clip-path=\"url(#clip2903)\" style=\"stroke:#fafda0; stroke-width:4; stroke-opacity:1; fill:none\" points=\"\n",
       "  1196.85,825.289 1196.85,825.291 1196.86,825.289 1196.85,825.288 1196.85,825.289 \n",
       "  \"/>\n",
       "<polyline clip-path=\"url(#clip2903)\" style=\"stroke:#fafda0; stroke-width:4; stroke-opacity:1; fill:none\" points=\"\n",
       "  1196.85,825.289 1196.85,825.29 1196.86,825.289 1196.85,825.289 1196.85,825.289 \n",
       "  \"/>\n",
       "<polyline clip-path=\"url(#clip2903)\" style=\"stroke:#fafda0; stroke-width:4; stroke-opacity:1; fill:none\" points=\"\n",
       "  1201.42,821.386 1202.92,822.35 1204.41,821.386 1202.92,820.421 1201.42,821.386 \n",
       "  \"/>\n",
       "<polyline clip-path=\"url(#clip2903)\" style=\"stroke:#fafda0; stroke-width:4; stroke-opacity:1; fill:none\" points=\"\n",
       "  1202.86,821.386 1202.92,821.421 1202.97,821.386 1202.92,821.351 1202.86,821.386 \n",
       "  \"/>\n",
       "<polyline clip-path=\"url(#clip2903)\" style=\"stroke:#fafda0; stroke-width:4; stroke-opacity:1; fill:none\" points=\"\n",
       "  1202.91,821.386 1202.92,821.388 1202.92,821.386 1202.92,821.383 1202.91,821.386 \n",
       "  \"/>\n",
       "<polyline clip-path=\"url(#clip2903)\" style=\"stroke:#fafda0; stroke-width:4; stroke-opacity:1; fill:none\" points=\"\n",
       "  1202.91,821.386 1202.92,821.388 1202.92,821.386 1202.92,821.384 1202.91,821.386 \n",
       "  \"/>\n",
       "<polyline clip-path=\"url(#clip2903)\" style=\"stroke:#fafda0; stroke-width:4; stroke-opacity:1; fill:none\" points=\"\n",
       "  1202.91,821.386 1202.92,821.387 1202.92,821.386 1202.92,821.385 1202.91,821.386 \n",
       "  \"/>\n",
       "<polyline clip-path=\"url(#clip2903)\" style=\"stroke:#fafda0; stroke-width:4; stroke-opacity:1; fill:none\" points=\"\n",
       "  1202.92,821.386 1202.92,821.386 1202.92,821.386 1202.92,821.385 1202.92,821.386 \n",
       "  \"/>\n",
       "<polyline clip-path=\"url(#clip2903)\" style=\"stroke:#fafda0; stroke-width:4; stroke-opacity:1; fill:none\" points=\"\n",
       "  1207.48,817.482 1208.98,818.446 1210.47,817.482 1208.98,816.518 1207.48,817.482 \n",
       "  \"/>\n",
       "<polyline clip-path=\"url(#clip2903)\" style=\"stroke:#fafda0; stroke-width:4; stroke-opacity:1; fill:none\" points=\"\n",
       "  1208.92,817.482 1208.98,817.517 1209.03,817.482 1208.98,817.448 1208.92,817.482 \n",
       "  \"/>\n",
       "<polyline clip-path=\"url(#clip2903)\" style=\"stroke:#fafda0; stroke-width:4; stroke-opacity:1; fill:none\" points=\"\n",
       "  1208.97,817.482 1208.98,817.484 1208.98,817.482 1208.98,817.48 1208.97,817.482 \n",
       "  \"/>\n",
       "<polyline clip-path=\"url(#clip2903)\" style=\"stroke:#fafda0; stroke-width:4; stroke-opacity:1; fill:none\" points=\"\n",
       "  1208.97,817.482 1208.98,817.484 1208.98,817.482 1208.98,817.481 1208.97,817.482 \n",
       "  \"/>\n",
       "<polyline clip-path=\"url(#clip2903)\" style=\"stroke:#fafda0; stroke-width:4; stroke-opacity:1; fill:none\" points=\"\n",
       "  1208.98,817.482 1208.98,817.483 1208.98,817.482 1208.98,817.482 1208.98,817.482 \n",
       "  \"/>\n",
       "<polyline clip-path=\"url(#clip2903)\" style=\"stroke:#fafda0; stroke-width:4; stroke-opacity:1; fill:none\" points=\"\n",
       "  1213.54,813.579 1215.04,814.542 1216.53,813.579 1215.04,812.615 1213.54,813.579 \n",
       "  \"/>\n",
       "<polyline clip-path=\"url(#clip2903)\" style=\"stroke:#fafda0; stroke-width:4; stroke-opacity:1; fill:none\" points=\"\n",
       "  1214.99,813.579 1215.04,813.613 1215.09,813.579 1215.04,813.545 1214.99,813.579 \n",
       "  \"/>\n",
       "<polyline clip-path=\"url(#clip2903)\" style=\"stroke:#fafda0; stroke-width:4; stroke-opacity:1; fill:none\" points=\"\n",
       "  1215.04,813.579 1215.04,813.58 1215.04,813.579 1215.04,813.577 1215.04,813.579 \n",
       "  \"/>\n",
       "<polyline clip-path=\"url(#clip2903)\" style=\"stroke:#fafda0; stroke-width:4; stroke-opacity:1; fill:none\" points=\"\n",
       "  1215.04,813.579 1215.04,813.58 1215.04,813.579 1215.04,813.578 1215.04,813.579 \n",
       "  \"/>\n",
       "<polyline clip-path=\"url(#clip2903)\" style=\"stroke:#fafda0; stroke-width:4; stroke-opacity:1; fill:none\" points=\"\n",
       "  1215.04,813.579 1215.04,813.579 1215.04,813.579 1215.04,813.579 1215.04,813.579 \n",
       "  \"/>\n",
       "<polyline clip-path=\"url(#clip2903)\" style=\"stroke:#fafda0; stroke-width:4; stroke-opacity:1; fill:none\" points=\"\n",
       "  1219.6,809.675 1221.1,810.638 1222.6,809.675 1221.1,808.712 1219.6,809.675 \n",
       "  \"/>\n",
       "<polyline clip-path=\"url(#clip2903)\" style=\"stroke:#fafda0; stroke-width:4; stroke-opacity:1; fill:none\" points=\"\n",
       "  1221.05,809.675 1221.1,809.709 1221.15,809.675 1221.1,809.642 1221.05,809.675 \n",
       "  \"/>\n",
       "<polyline clip-path=\"url(#clip2903)\" style=\"stroke:#fafda0; stroke-width:4; stroke-opacity:1; fill:none\" points=\"\n",
       "  1221.1,809.675 1221.1,809.676 1221.1,809.675 1221.1,809.674 1221.1,809.675 \n",
       "  \"/>\n",
       "<polyline clip-path=\"url(#clip2903)\" style=\"stroke:#fafda0; stroke-width:4; stroke-opacity:1; fill:none\" points=\"\n",
       "  1221.1,809.675 1221.1,809.676 1221.1,809.675 1221.1,809.674 1221.1,809.675 \n",
       "  \"/>\n",
       "<polyline clip-path=\"url(#clip2903)\" style=\"stroke:#fafda0; stroke-width:4; stroke-opacity:1; fill:none\" points=\"\n",
       "  1225.67,805.772 1227.16,806.734 1228.66,805.772 1227.16,804.809 1225.67,805.772 \n",
       "  \"/>\n",
       "<polyline clip-path=\"url(#clip2903)\" style=\"stroke:#fafda0; stroke-width:4; stroke-opacity:1; fill:none\" points=\"\n",
       "  1227.11,805.772 1227.16,805.805 1227.21,805.772 1227.16,805.738 1227.11,805.772 \n",
       "  \"/>\n",
       "<polyline clip-path=\"url(#clip2903)\" style=\"stroke:#fafda0; stroke-width:4; stroke-opacity:1; fill:none\" points=\"\n",
       "  1227.16,805.772 1227.16,805.773 1227.16,805.772 1227.16,805.771 1227.16,805.772 \n",
       "  \"/>\n",
       "<polyline clip-path=\"url(#clip2903)\" style=\"stroke:#fafda0; stroke-width:4; stroke-opacity:1; fill:none\" points=\"\n",
       "  1227.16,805.772 1227.16,805.772 1227.16,805.772 1227.16,805.771 1227.16,805.772 \n",
       "  \"/>\n",
       "<polyline clip-path=\"url(#clip2903)\" style=\"stroke:#fafda0; stroke-width:4; stroke-opacity:1; fill:none\" points=\"\n",
       "  1231.73,801.868 1233.22,802.831 1234.72,801.868 1233.22,800.905 1231.73,801.868 \n",
       "  \"/>\n",
       "<polyline clip-path=\"url(#clip2903)\" style=\"stroke:#fafda0; stroke-width:4; stroke-opacity:1; fill:none\" points=\"\n",
       "  1233.17,801.868 1233.22,801.901 1233.27,801.868 1233.22,801.835 1233.17,801.868 \n",
       "  \"/>\n",
       "<polyline clip-path=\"url(#clip2903)\" style=\"stroke:#fafda0; stroke-width:4; stroke-opacity:1; fill:none\" points=\"\n",
       "  1233.22,801.868 1233.22,801.869 1233.22,801.868 1233.22,801.867 1233.22,801.868 \n",
       "  \"/>\n",
       "<polyline clip-path=\"url(#clip2903)\" style=\"stroke:#fafda0; stroke-width:4; stroke-opacity:1; fill:none\" points=\"\n",
       "  1233.22,801.868 1233.22,801.868 1233.22,801.868 1233.22,801.868 1233.22,801.868 \n",
       "  \"/>\n",
       "<polyline clip-path=\"url(#clip2903)\" style=\"stroke:#fafda0; stroke-width:4; stroke-opacity:1; fill:none\" points=\"\n",
       "  1237.79,797.964 1239.28,798.927 1240.78,797.964 1239.28,797.002 1237.79,797.964 \n",
       "  \"/>\n",
       "<polyline clip-path=\"url(#clip2903)\" style=\"stroke:#fafda0; stroke-width:4; stroke-opacity:1; fill:none\" points=\"\n",
       "  1239.23,797.964 1239.28,797.997 1239.34,797.964 1239.28,797.932 1239.23,797.964 \n",
       "  \"/>\n",
       "<polyline clip-path=\"url(#clip2903)\" style=\"stroke:#fafda0; stroke-width:4; stroke-opacity:1; fill:none\" points=\"\n",
       "  1239.28,797.964 1239.28,797.965 1239.29,797.964 1239.28,797.964 1239.28,797.964 \n",
       "  \"/>\n",
       "<polyline clip-path=\"url(#clip2903)\" style=\"stroke:#fafda0; stroke-width:4; stroke-opacity:1; fill:none\" points=\"\n",
       "  1239.28,797.964 1239.28,797.965 1239.28,797.964 1239.28,797.964 1239.28,797.964 \n",
       "  \"/>\n",
       "<polyline clip-path=\"url(#clip2903)\" style=\"stroke:#fafda0; stroke-width:4; stroke-opacity:1; fill:none\" points=\"\n",
       "  1243.85,794.061 1245.35,795.024 1246.84,794.061 1245.35,793.098 1243.85,794.061 \n",
       "  \"/>\n",
       "<polyline clip-path=\"url(#clip2903)\" style=\"stroke:#fafda0; stroke-width:4; stroke-opacity:1; fill:none\" points=\"\n",
       "  1245.29,794.061 1245.35,794.094 1245.4,794.061 1245.35,794.028 1245.29,794.061 \n",
       "  \"/>\n",
       "<polyline clip-path=\"url(#clip2903)\" style=\"stroke:#fafda0; stroke-width:4; stroke-opacity:1; fill:none\" points=\"\n",
       "  1245.34,794.061 1245.35,794.062 1245.35,794.061 1245.35,794.06 1245.34,794.061 \n",
       "  \"/>\n",
       "<polyline clip-path=\"url(#clip2903)\" style=\"stroke:#fafda0; stroke-width:4; stroke-opacity:1; fill:none\" points=\"\n",
       "  1245.35,794.061 1245.35,794.061 1245.35,794.061 1245.35,794.061 1245.35,794.061 \n",
       "  \"/>\n",
       "<polyline clip-path=\"url(#clip2903)\" style=\"stroke:#fafda0; stroke-width:4; stroke-opacity:1; fill:none\" points=\"\n",
       "  1249.91,790.157 1251.41,791.12 1252.9,790.157 1251.41,789.195 1249.91,790.157 \n",
       "  \"/>\n",
       "<polyline clip-path=\"url(#clip2903)\" style=\"stroke:#fafda0; stroke-width:4; stroke-opacity:1; fill:none\" points=\"\n",
       "  1251.36,790.157 1251.41,790.191 1251.46,790.157 1251.41,790.124 1251.36,790.157 \n",
       "  \"/>\n",
       "<polyline clip-path=\"url(#clip2903)\" style=\"stroke:#fafda0; stroke-width:4; stroke-opacity:1; fill:none\" points=\"\n",
       "  1251.41,790.157 1251.41,790.158 1251.41,790.157 1251.41,790.157 1251.41,790.157 \n",
       "  \"/>\n",
       "<polyline clip-path=\"url(#clip2903)\" style=\"stroke:#fafda0; stroke-width:4; stroke-opacity:1; fill:none\" points=\"\n",
       "  1251.41,790.157 1251.41,790.158 1251.41,790.157 1251.41,790.157 1251.41,790.157 \n",
       "  \"/>\n",
       "<polyline clip-path=\"url(#clip2903)\" style=\"stroke:#fafda0; stroke-width:4; stroke-opacity:1; fill:none\" points=\"\n",
       "  1255.97,786.254 1257.47,787.217 1258.96,786.254 1257.47,785.291 1255.97,786.254 \n",
       "  \"/>\n",
       "<polyline clip-path=\"url(#clip2903)\" style=\"stroke:#fafda0; stroke-width:4; stroke-opacity:1; fill:none\" points=\"\n",
       "  1257.42,786.254 1257.47,786.287 1257.52,786.254 1257.47,786.22 1257.42,786.254 \n",
       "  \"/>\n",
       "<polyline clip-path=\"url(#clip2903)\" style=\"stroke:#fafda0; stroke-width:4; stroke-opacity:1; fill:none\" points=\"\n",
       "  1257.47,786.254 1257.47,786.255 1257.47,786.254 1257.47,786.253 1257.47,786.254 \n",
       "  \"/>\n",
       "<polyline clip-path=\"url(#clip2903)\" style=\"stroke:#fafda0; stroke-width:4; stroke-opacity:1; fill:none\" points=\"\n",
       "  1257.47,786.254 1257.47,786.254 1257.47,786.254 1257.47,786.253 1257.47,786.254 \n",
       "  \"/>\n",
       "<polyline clip-path=\"url(#clip2903)\" style=\"stroke:#fafda0; stroke-width:4; stroke-opacity:1; fill:none\" points=\"\n",
       "  1262.03,782.35 1263.53,783.314 1265.03,782.35 1263.53,781.387 1262.03,782.35 \n",
       "  \"/>\n",
       "<polyline clip-path=\"url(#clip2903)\" style=\"stroke:#fafda0; stroke-width:4; stroke-opacity:1; fill:none\" points=\"\n",
       "  1263.48,782.35 1263.53,782.384 1263.58,782.35 1263.53,782.317 1263.48,782.35 \n",
       "  \"/>\n",
       "<polyline clip-path=\"url(#clip2903)\" style=\"stroke:#fafda0; stroke-width:4; stroke-opacity:1; fill:none\" points=\"\n",
       "  1263.53,782.35 1263.53,782.352 1263.53,782.35 1263.53,782.349 1263.53,782.35 \n",
       "  \"/>\n",
       "<polyline clip-path=\"url(#clip2903)\" style=\"stroke:#fafda0; stroke-width:4; stroke-opacity:1; fill:none\" points=\"\n",
       "  1263.53,782.35 1263.53,782.351 1263.53,782.35 1263.53,782.349 1263.53,782.35 \n",
       "  \"/>\n",
       "<polyline clip-path=\"url(#clip2903)\" style=\"stroke:#fafda0; stroke-width:4; stroke-opacity:1; fill:none\" points=\"\n",
       "  1268.09,778.447 1269.59,779.411 1271.09,778.447 1269.59,777.483 1268.09,778.447 \n",
       "  \"/>\n",
       "<polyline clip-path=\"url(#clip2903)\" style=\"stroke:#fafda0; stroke-width:4; stroke-opacity:1; fill:none\" points=\"\n",
       "  1269.54,778.447 1269.59,778.481 1269.64,778.447 1269.59,778.413 1269.54,778.447 \n",
       "  \"/>\n",
       "<polyline clip-path=\"url(#clip2903)\" style=\"stroke:#fafda0; stroke-width:4; stroke-opacity:1; fill:none\" points=\"\n",
       "  1269.59,778.447 1269.59,778.449 1269.59,778.447 1269.59,778.445 1269.59,778.447 \n",
       "  \"/>\n",
       "<polyline clip-path=\"url(#clip2903)\" style=\"stroke:#fafda0; stroke-width:4; stroke-opacity:1; fill:none\" points=\"\n",
       "  1269.59,778.447 1269.59,778.448 1269.59,778.447 1269.59,778.445 1269.59,778.447 \n",
       "  \"/>\n",
       "<polyline clip-path=\"url(#clip2903)\" style=\"stroke:#fafda0; stroke-width:4; stroke-opacity:1; fill:none\" points=\"\n",
       "  1269.59,778.447 1269.59,778.447 1269.59,778.447 1269.59,778.447 1269.59,778.447 \n",
       "  \"/>\n",
       "<polyline clip-path=\"url(#clip2903)\" style=\"stroke:#fafda0; stroke-width:4; stroke-opacity:1; fill:none\" points=\"\n",
       "  1274.15,774.543 1275.65,775.507 1277.15,774.543 1275.65,773.579 1274.15,774.543 \n",
       "  \"/>\n",
       "<polyline clip-path=\"url(#clip2903)\" style=\"stroke:#fafda0; stroke-width:4; stroke-opacity:1; fill:none\" points=\"\n",
       "  1275.6,774.543 1275.65,774.578 1275.71,774.543 1275.65,774.509 1275.6,774.543 \n",
       "  \"/>\n",
       "<polyline clip-path=\"url(#clip2903)\" style=\"stroke:#fafda0; stroke-width:4; stroke-opacity:1; fill:none\" points=\"\n",
       "  1275.65,774.543 1275.65,774.546 1275.66,774.543 1275.65,774.541 1275.65,774.543 \n",
       "  \"/>\n",
       "<polyline clip-path=\"url(#clip2903)\" style=\"stroke:#fafda0; stroke-width:4; stroke-opacity:1; fill:none\" points=\"\n",
       "  1275.65,774.543 1275.65,774.545 1275.65,774.543 1275.65,774.542 1275.65,774.543 \n",
       "  \"/>\n",
       "<polyline clip-path=\"url(#clip2903)\" style=\"stroke:#fafda0; stroke-width:4; stroke-opacity:1; fill:none\" points=\"\n",
       "  1275.65,774.543 1275.65,774.544 1275.65,774.543 1275.65,774.543 1275.65,774.543 \n",
       "  \"/>\n",
       "<polyline clip-path=\"url(#clip2903)\" style=\"stroke:#fafda0; stroke-width:4; stroke-opacity:1; fill:none\" points=\"\n",
       "  1275.65,774.543 1275.65,774.543 1275.65,774.543 1275.65,774.543 1275.65,774.543 \n",
       "  \"/>\n",
       "<polyline clip-path=\"url(#clip2903)\" style=\"stroke:#fafda0; stroke-width:4; stroke-opacity:1; fill:none\" points=\"\n",
       "  1280.22,770.64 1281.71,771.604 1283.21,770.64 1281.71,769.675 1280.22,770.64 \n",
       "  \"/>\n",
       "<polyline clip-path=\"url(#clip2903)\" style=\"stroke:#fafda0; stroke-width:4; stroke-opacity:1; fill:none\" points=\"\n",
       "  1281.66,770.64 1281.71,770.675 1281.77,770.64 1281.71,770.605 1281.66,770.64 \n",
       "  \"/>\n",
       "<polyline clip-path=\"url(#clip2903)\" style=\"stroke:#fafda0; stroke-width:4; stroke-opacity:1; fill:none\" points=\"\n",
       "  1281.71,770.64 1281.71,770.642 1281.72,770.64 1281.71,770.637 1281.71,770.64 \n",
       "  \"/>\n",
       "<polyline clip-path=\"url(#clip2903)\" style=\"stroke:#fafda0; stroke-width:4; stroke-opacity:1; fill:none\" points=\"\n",
       "  1281.71,770.64 1281.71,770.642 1281.72,770.64 1281.71,770.638 1281.71,770.64 \n",
       "  \"/>\n",
       "<polyline clip-path=\"url(#clip2903)\" style=\"stroke:#fafda0; stroke-width:4; stroke-opacity:1; fill:none\" points=\"\n",
       "  1281.71,770.64 1281.71,770.641 1281.71,770.64 1281.71,770.639 1281.71,770.64 \n",
       "  \"/>\n",
       "<polyline clip-path=\"url(#clip2903)\" style=\"stroke:#fafda0; stroke-width:4; stroke-opacity:1; fill:none\" points=\"\n",
       "  1281.71,770.64 1281.71,770.64 1281.71,770.64 1281.71,770.639 1281.71,770.64 \n",
       "  \"/>\n",
       "<polyline clip-path=\"url(#clip2903)\" style=\"stroke:#fafda0; stroke-width:4; stroke-opacity:1; fill:none\" points=\"\n",
       "  1286.28,766.736 1287.77,767.701 1289.27,766.736 1287.77,765.771 1286.28,766.736 \n",
       "  \"/>\n",
       "<polyline clip-path=\"url(#clip2903)\" style=\"stroke:#fafda0; stroke-width:4; stroke-opacity:1; fill:none\" points=\"\n",
       "  1287.72,766.736 1287.77,766.771 1287.83,766.736 1287.77,766.701 1287.72,766.736 \n",
       "  \"/>\n",
       "<polyline clip-path=\"url(#clip2903)\" style=\"stroke:#fafda0; stroke-width:4; stroke-opacity:1; fill:none\" points=\"\n",
       "  1287.77,766.736 1287.77,766.739 1287.78,766.736 1287.77,766.733 1287.77,766.736 \n",
       "  \"/>\n",
       "<polyline clip-path=\"url(#clip2903)\" style=\"stroke:#fafda0; stroke-width:4; stroke-opacity:1; fill:none\" points=\"\n",
       "  1287.77,766.736 1287.77,766.738 1287.78,766.736 1287.77,766.734 1287.77,766.736 \n",
       "  \"/>\n",
       "<polyline clip-path=\"url(#clip2903)\" style=\"stroke:#fafda0; stroke-width:4; stroke-opacity:1; fill:none\" points=\"\n",
       "  1287.77,766.736 1287.77,766.737 1287.78,766.736 1287.77,766.735 1287.77,766.736 \n",
       "  \"/>\n",
       "<polyline clip-path=\"url(#clip2903)\" style=\"stroke:#fafda0; stroke-width:4; stroke-opacity:1; fill:none\" points=\"\n",
       "  1287.77,766.736 1287.77,766.737 1287.78,766.736 1287.77,766.736 1287.77,766.736 \n",
       "  \"/>\n",
       "<polyline clip-path=\"url(#clip2903)\" style=\"stroke:#fafda0; stroke-width:4; stroke-opacity:1; fill:none\" points=\"\n",
       "  1292.34,762.833 1293.84,763.797 1295.33,762.833 1293.84,761.868 1292.34,762.833 \n",
       "  \"/>\n",
       "<polyline clip-path=\"url(#clip2903)\" style=\"stroke:#fafda0; stroke-width:4; stroke-opacity:1; fill:none\" points=\"\n",
       "  1293.78,762.833 1293.84,762.868 1293.89,762.833 1293.84,762.797 1293.78,762.833 \n",
       "  \"/>\n",
       "<polyline clip-path=\"url(#clip2903)\" style=\"stroke:#fafda0; stroke-width:4; stroke-opacity:1; fill:none\" points=\"\n",
       "  1293.83,762.833 1293.84,762.836 1293.84,762.833 1293.84,762.83 1293.83,762.833 \n",
       "  \"/>\n",
       "<polyline clip-path=\"url(#clip2903)\" style=\"stroke:#fafda0; stroke-width:4; stroke-opacity:1; fill:none\" points=\"\n",
       "  1293.83,762.833 1293.84,762.835 1293.84,762.833 1293.84,762.83 1293.83,762.833 \n",
       "  \"/>\n",
       "<polyline clip-path=\"url(#clip2903)\" style=\"stroke:#fafda0; stroke-width:4; stroke-opacity:1; fill:none\" points=\"\n",
       "  1293.83,762.833 1293.84,762.834 1293.84,762.833 1293.84,762.831 1293.83,762.833 \n",
       "  \"/>\n",
       "<polyline clip-path=\"url(#clip2903)\" style=\"stroke:#fafda0; stroke-width:4; stroke-opacity:1; fill:none\" points=\"\n",
       "  1293.84,762.833 1293.84,762.833 1293.84,762.833 1293.84,762.832 1293.84,762.833 \n",
       "  \"/>\n",
       "<polyline clip-path=\"url(#clip2903)\" style=\"stroke:#fafda0; stroke-width:4; stroke-opacity:1; fill:none\" points=\"\n",
       "  1298.4,758.929 1299.9,759.894 1301.4,758.929 1299.9,757.965 1298.4,758.929 \n",
       "  \"/>\n",
       "<polyline clip-path=\"url(#clip2903)\" style=\"stroke:#fafda0; stroke-width:4; stroke-opacity:1; fill:none\" points=\"\n",
       "  1299.84,758.929 1299.9,758.964 1299.95,758.929 1299.9,758.894 1299.84,758.929 \n",
       "  \"/>\n",
       "<polyline clip-path=\"url(#clip2903)\" style=\"stroke:#fafda0; stroke-width:4; stroke-opacity:1; fill:none\" points=\"\n",
       "  1299.89,758.929 1299.9,758.932 1299.9,758.929 1299.9,758.926 1299.89,758.929 \n",
       "  \"/>\n",
       "<polyline clip-path=\"url(#clip2903)\" style=\"stroke:#fafda0; stroke-width:4; stroke-opacity:1; fill:none\" points=\"\n",
       "  1299.89,758.929 1299.9,758.931 1299.9,758.929 1299.9,758.927 1299.89,758.929 \n",
       "  \"/>\n",
       "<polyline clip-path=\"url(#clip2903)\" style=\"stroke:#fafda0; stroke-width:4; stroke-opacity:1; fill:none\" points=\"\n",
       "  1299.9,758.929 1299.9,758.93 1299.9,758.929 1299.9,758.928 1299.9,758.929 \n",
       "  \"/>\n",
       "<polyline clip-path=\"url(#clip2903)\" style=\"stroke:#fafda0; stroke-width:4; stroke-opacity:1; fill:none\" points=\"\n",
       "  1299.9,758.929 1299.9,758.929 1299.9,758.929 1299.9,758.929 1299.9,758.929 \n",
       "  \"/>\n",
       "<polyline clip-path=\"url(#clip2903)\" style=\"stroke:#fafda0; stroke-width:4; stroke-opacity:1; fill:none\" points=\"\n",
       "  1304.46,755.026 1305.96,755.989 1307.46,755.026 1305.96,754.062 1304.46,755.026 \n",
       "  \"/>\n",
       "<polyline clip-path=\"url(#clip2903)\" style=\"stroke:#fafda0; stroke-width:4; stroke-opacity:1; fill:none\" points=\"\n",
       "  1305.91,755.026 1305.96,755.06 1306.01,755.026 1305.96,754.991 1305.91,755.026 \n",
       "  \"/>\n",
       "<polyline clip-path=\"url(#clip2903)\" style=\"stroke:#fafda0; stroke-width:4; stroke-opacity:1; fill:none\" points=\"\n",
       "  1305.96,755.026 1305.96,755.027 1305.96,755.026 1305.96,755.024 1305.96,755.026 \n",
       "  \"/>\n",
       "<polyline clip-path=\"url(#clip2903)\" style=\"stroke:#fafda0; stroke-width:4; stroke-opacity:1; fill:none\" points=\"\n",
       "  1305.96,755.026 1305.96,755.027 1305.96,755.026 1305.96,755.024 1305.96,755.026 \n",
       "  \"/>\n",
       "<polyline clip-path=\"url(#clip2903)\" style=\"stroke:#fafda0; stroke-width:4; stroke-opacity:1; fill:none\" points=\"\n",
       "  1305.96,755.026 1305.96,755.026 1305.96,755.026 1305.96,755.025 1305.96,755.026 \n",
       "  \"/>\n",
       "<polyline clip-path=\"url(#clip2903)\" style=\"stroke:#fafda0; stroke-width:4; stroke-opacity:1; fill:none\" points=\"\n",
       "  1310.53,751.122 1312.02,752.085 1313.51,751.122 1312.02,750.16 1310.53,751.122 \n",
       "  \"/>\n",
       "<polyline clip-path=\"url(#clip2903)\" style=\"stroke:#fafda0; stroke-width:4; stroke-opacity:1; fill:none\" points=\"\n",
       "  1311.97,751.122 1312.02,751.155 1312.07,751.122 1312.02,751.089 1311.97,751.122 \n",
       "  \"/>\n",
       "<polyline clip-path=\"url(#clip2903)\" style=\"stroke:#fafda0; stroke-width:4; stroke-opacity:1; fill:none\" points=\"\n",
       "  1312.02,751.122 1312.02,751.122 1312.02,751.122 1312.02,751.122 1312.02,751.122 \n",
       "  \"/>\n",
       "<polyline clip-path=\"url(#clip2903)\" style=\"stroke:#fafda0; stroke-width:4; stroke-opacity:1; fill:none\" points=\"\n",
       "  1316.59,747.218 1318.08,748.179 1319.57,747.218 1318.08,746.259 1316.59,747.218 \n",
       "  \"/>\n",
       "<polyline clip-path=\"url(#clip2903)\" style=\"stroke:#fafda0; stroke-width:4; stroke-opacity:1; fill:none\" points=\"\n",
       "  1318.03,747.218 1318.08,747.249 1318.13,747.218 1318.08,747.188 1318.03,747.218 \n",
       "  \"/>\n",
       "<polyline clip-path=\"url(#clip2903)\" style=\"stroke:#fafda0; stroke-width:4; stroke-opacity:1; fill:none\" points=\"\n",
       "  1322.66,743.315 1324.14,744.271 1325.63,743.315 1324.14,742.36 1322.66,743.315 \n",
       "  \"/>\n",
       "<polyline clip-path=\"url(#clip2903)\" style=\"stroke:#fafda0; stroke-width:4; stroke-opacity:1; fill:none\" points=\"\n",
       "  1324.1,743.315 1324.14,743.341 1324.18,743.315 1324.14,743.289 1324.1,743.315 \n",
       "  \"/>\n",
       "<polyline clip-path=\"url(#clip2903)\" style=\"stroke:#fafda0; stroke-width:4; stroke-opacity:1; fill:none\" points=\"\n",
       "  1328.73,739.411 1330.2,740.361 1331.68,739.411 1330.2,738.463 1328.73,739.411 \n",
       "  \"/>\n",
       "<polyline clip-path=\"url(#clip2903)\" style=\"stroke:#fafda0; stroke-width:4; stroke-opacity:1; fill:none\" points=\"\n",
       "  1330.17,739.411 1330.2,739.431 1330.23,739.411 1330.2,739.392 1330.17,739.411 \n",
       "  \"/>\n",
       "<polyline clip-path=\"url(#clip2903)\" style=\"stroke:#fafda0; stroke-width:4; stroke-opacity:1; fill:none\" points=\"\n",
       "  1334.81,735.508 1336.27,736.448 1337.72,735.508 1336.27,734.571 1334.81,735.508 \n",
       "  \"/>\n",
       "<polyline clip-path=\"url(#clip2903)\" style=\"stroke:#fafda0; stroke-width:4; stroke-opacity:1; fill:none\" points=\"\n",
       "  1336.25,735.508 1336.27,735.517 1336.28,735.508 1336.27,735.499 1336.25,735.508 \n",
       "  \"/>\n",
       "<polyline clip-path=\"url(#clip2903)\" style=\"stroke:#fafda0; stroke-width:4; stroke-opacity:1; fill:none\" points=\"\n",
       "  1340.89,731.604 1342.33,732.528 1343.75,731.604 1342.33,730.685 1340.89,731.604 \n",
       "  \"/>\n",
       "<polyline clip-path=\"url(#clip2903)\" style=\"stroke:#fafda0; stroke-width:4; stroke-opacity:1; fill:none\" points=\"\n",
       "  1346.99,727.701 1348.39,728.6 1349.77,727.701 1348.39,726.809 1346.99,727.701 \n",
       "  \"/>\n",
       "<polyline clip-path=\"url(#clip2903)\" style=\"stroke:#fafda0; stroke-width:4; stroke-opacity:1; fill:none\" points=\"\n",
       "  1353.11,723.797 1354.45,724.658 1355.77,723.797 1354.45,722.947 1353.11,723.797 \n",
       "  \"/>\n",
       "<polyline clip-path=\"url(#clip2903)\" style=\"stroke:#fafda0; stroke-width:4; stroke-opacity:1; fill:none\" points=\"\n",
       "  1359.27,719.894 1360.51,720.695 1361.73,719.894 1360.51,719.108 1359.27,719.894 \n",
       "  \"/>\n",
       "<polyline clip-path=\"url(#clip2903)\" style=\"stroke:#fafda0; stroke-width:4; stroke-opacity:1; fill:none\" points=\"\n",
       "  1365.47,715.99 1366.57,716.701 1367.64,715.99 1366.57,715.3 1365.47,715.99 \n",
       "  \"/>\n",
       "<polyline clip-path=\"url(#clip2903)\" style=\"stroke:#fafda0; stroke-width:4; stroke-opacity:1; fill:none\" points=\"\n",
       "  1371.74,712.087 1372.63,712.659 1373.48,712.087 1372.63,711.538 1371.74,712.087 \n",
       "  \"/>\n",
       "<polyline clip-path=\"url(#clip2903)\" style=\"stroke:#fafda0; stroke-width:4; stroke-opacity:1; fill:none\" points=\"\n",
       "  1378.13,708.183 1378.69,708.547 1379.22,708.183 1378.69,707.842 1378.13,708.183 \n",
       "  \"/>\n",
       "<polyline clip-path=\"url(#clip2903)\" style=\"stroke:#fafda0; stroke-width:4; stroke-opacity:1; fill:none\" points=\"\n",
       "  1384.68,704.279 1384.76,704.33 1384.83,704.279 1384.76,704.233 1384.68,704.279 \n",
       "  \"/>\n",
       "<polyline clip-path=\"url(#clip2903)\" style=\"stroke:#f2ee74; stroke-width:4; stroke-opacity:1; fill:none\" points=\"\n",
       "  1366.57,694.726 1363.84,696.472 1360.51,698.605 1357.75,700.376 1354.45,702.491 1351.66,704.279 1348.39,706.383 1345.59,708.183 1342.33,710.279 1339.52,712.087 \n",
       "  1336.27,714.178 1333.45,715.99 1330.2,718.078 1327.38,719.894 1324.14,721.979 1321.32,723.797 1318.08,725.882 1315.26,727.701 1312.02,729.784 1309.19,731.604 \n",
       "  1305.96,733.687 1303.13,735.508 1299.9,737.59 1297.07,739.411 1293.84,741.494 1291.01,743.315 1287.77,745.397 1284.95,747.218 1281.71,749.301 1278.89,751.122 \n",
       "  1275.65,753.204 1272.82,755.026 1269.59,757.108 1266.76,758.929 1263.53,761.011 1260.7,762.833 1257.47,764.915 1254.64,766.736 1251.41,768.819 1248.58,770.64 \n",
       "  1245.35,772.722 1242.52,774.543 1239.28,776.626 1236.46,778.447 1233.22,780.529 1230.39,782.35 1227.16,784.433 1224.33,786.254 1221.1,788.336 1218.27,790.157 \n",
       "  1215.04,792.24 1212.21,794.061 1208.98,796.143 1206.15,797.964 1202.92,800.047 1200.09,801.868 1196.85,803.95 1194.03,805.772 1190.79,807.854 1187.97,809.675 \n",
       "  1184.73,811.757 1181.9,813.579 1178.67,815.661 1175.84,817.482 1172.61,819.564 1169.78,821.386 1166.55,823.468 1163.72,825.289 1160.49,827.371 1157.66,829.193 \n",
       "  1154.43,831.275 1151.6,833.096 1148.36,835.179 1145.54,837 1142.3,839.082 1139.47,840.903 1136.24,842.986 1133.41,844.807 1130.18,846.889 1127.35,848.711 \n",
       "  1124.12,850.793 1121.29,852.614 1118.06,854.696 1115.23,856.518 1112,858.6 1109.17,860.421 1105.93,862.504 1103.11,864.325 1099.87,866.407 1097.05,868.228 \n",
       "  1093.81,870.311 1090.98,872.132 1087.75,874.214 1084.92,876.035 1081.69,878.118 1078.86,879.939 1075.63,882.021 1072.8,883.842 1069.57,885.925 1066.74,887.746 \n",
       "  1063.51,889.828 1060.68,891.649 1057.44,893.732 1054.62,895.553 1051.38,897.635 1048.55,899.457 1045.32,901.539 1042.49,903.36 1039.26,905.442 1036.43,907.264 \n",
       "  1033.2,909.346 1030.37,911.167 1027.14,913.249 1024.31,915.071 1021.08,917.153 1018.25,918.974 1015.01,921.057 1012.19,922.878 1008.95,924.96 1006.13,926.781 \n",
       "  1002.89,928.864 1000.06,930.685 996.83,932.767 994.003,934.588 990.769,936.671 987.941,938.492 984.708,940.574 981.88,942.396 978.646,944.478 975.819,946.299 \n",
       "  972.585,948.382 969.757,950.203 966.524,952.285 963.696,954.106 960.462,956.189 957.635,958.01 954.401,960.092 951.573,961.913 948.34,963.996 945.512,965.817 \n",
       "  942.278,967.899 939.451,969.72 936.217,971.803 933.389,973.624 930.156,975.706 927.328,977.527 924.094,979.61 921.266,981.431 918.033,983.513 915.205,985.334 \n",
       "  911.972,987.417 909.144,989.238 905.91,991.32 903.082,993.142 899.849,995.224 897.021,997.045 893.788,999.128 890.96,1000.95 887.726,1003.03 884.899,1004.85 \n",
       "  881.665,1006.94 878.838,1008.76 875.604,1010.84 872.778,1012.66 869.542,1014.74 866.718,1016.56 863.481,1018.65 860.658,1020.47 857.42,1022.55 854.6,1024.37 \n",
       "  851.358,1026.46 848.544,1028.27 845.297,1030.37 842.49,1032.18 839.236,1034.28 836.441,1036.08 833.174,1038.19 830.397,1039.98 827.113,1042.11 824.362,1043.89 \n",
       "  821.052,1046.03 818.34,1047.79 814.99,1049.97 812.335,1051.69 808.929,1053.92 806.354,1055.6 802.868,1057.88 800.407,1059.5 796.806,1061.88 794.504,1063.41 \n",
       "  790.745,1065.91 788.661,1067.31 784.684,1070 782.896,1071.21 778.622,1074.15 777.229,1075.12 772.561,1078.4 771.685,1079.02 766.5,1082.77 766.292,1082.92 \n",
       "  761.204,1086.83 760.438,1087.44 756.401,1090.73 754.377,1092.45 751.873,1094.63 748.316,1097.9 747.643,1098.54 744.067,1102.44 742.254,1104.71 741.007,1106.34 \n",
       "  738.869,1110.25 737.819,1114.15 739.11,1118.05 742.254,1120.08 748.316,1120.91 754.377,1120.23 760.438,1118.86 762.979,1118.05 766.5,1116.89 772.561,1114.58 \n",
       "  773.55,1114.15 778.622,1111.86 782.015,1110.25 784.684,1108.94 789.797,1106.34 790.745,1105.85 796.806,1102.57 797.043,1102.44 802.868,1099.1 803.834,1098.54 \n",
       "  808.929,1095.53 810.43,1094.63 814.99,1091.88 816.879,1090.73 821.052,1088.17 823.221,1086.83 827.113,1084.41 829.483,1082.92 833.174,1080.6 835.687,1079.02 \n",
       "  839.236,1076.77 841.848,1075.12 845.297,1072.92 847.98,1071.21 851.358,1069.06 854.089,1067.31 857.42,1065.18 860.183,1063.41 863.481,1061.29 866.267,1059.5 \n",
       "  869.542,1057.4 872.343,1055.6 875.604,1053.5 878.414,1051.69 881.665,1049.6 884.482,1047.79 887.726,1045.7 890.547,1043.89 893.788,1041.8 896.611,1039.98 \n",
       "  899.849,1037.9 902.675,1036.08 905.91,1034 908.737,1032.18 911.972,1030.09 914.799,1028.27 918.033,1026.19 920.861,1024.37 924.094,1022.29 926.922,1020.47 \n",
       "  930.156,1018.38 932.984,1016.56 936.217,1014.48 939.045,1012.66 942.278,1010.58 945.106,1008.76 948.34,1006.67 951.168,1004.85 954.401,1002.77 957.229,1000.95 \n",
       "  960.462,998.866 963.29,997.045 966.524,994.963 969.352,993.142 972.585,991.059 975.413,989.238 978.646,987.156 981.474,985.334 984.708,983.252 987.536,981.431 \n",
       "  990.769,979.348 993.597,977.527 996.83,975.445 999.658,973.624 1002.89,971.541 1005.72,969.72 1008.95,967.638 1011.78,965.817 1015.01,963.734 1017.84,961.913 \n",
       "  1021.08,959.831 1023.9,958.01 1027.14,955.927 1029.97,954.106 1033.2,952.024 1036.03,950.203 1039.26,948.12 1042.09,946.299 1045.32,944.217 1048.15,942.396 \n",
       "  1051.38,940.313 1054.21,938.492 1057.44,936.41 1060.27,934.588 1063.51,932.506 1066.33,930.685 1069.57,928.603 1072.39,926.781 1075.63,924.699 1078.46,922.878 \n",
       "  1081.69,920.796 1084.52,918.974 1087.75,916.892 1090.58,915.071 1093.81,912.988 1096.64,911.167 1099.87,909.085 1102.7,907.264 1105.93,905.181 1108.76,903.36 \n",
       "  1112,901.278 1114.82,899.457 1118.06,897.374 1120.88,895.553 1124.12,893.47 1126.95,891.649 1130.18,889.567 1133.01,887.746 1136.24,885.663 1139.07,883.842 \n",
       "  1142.3,881.76 1145.13,879.939 1148.36,877.856 1151.19,876.035 1154.43,873.953 1157.25,872.132 1160.49,870.049 1163.31,868.228 1166.55,866.146 1169.38,864.325 \n",
       "  1172.61,862.242 1175.44,860.421 1178.67,858.339 1181.5,856.518 1184.73,854.435 1187.56,852.614 1190.79,850.532 1193.62,848.711 1196.85,846.628 1199.68,844.807 \n",
       "  1202.92,842.725 1205.74,840.903 1208.98,838.821 1211.81,837 1215.04,834.918 1217.87,833.096 1221.1,831.014 1223.93,829.193 1227.16,827.11 1229.99,825.289 \n",
       "  1233.22,823.207 1236.05,821.386 1239.28,819.303 1242.11,817.482 1245.35,815.4 1248.17,813.579 1251.41,811.496 1254.23,809.675 1257.47,807.593 1260.3,805.772 \n",
       "  1263.53,803.689 1266.36,801.868 1269.59,799.786 1272.42,797.964 1275.65,795.882 1278.48,794.061 1281.71,791.979 1284.54,790.157 1287.77,788.075 1290.6,786.254 \n",
       "  1293.84,784.172 1296.66,782.35 1299.9,780.268 1302.73,778.447 1305.96,776.364 1308.79,774.543 1312.02,772.461 1314.85,770.64 1318.08,768.557 1320.91,766.736 \n",
       "  1324.14,764.654 1326.97,762.833 1330.2,760.75 1333.03,758.929 1336.27,756.846 1339.09,755.026 1342.33,752.942 1345.15,751.122 1348.39,749.038 1351.21,747.218 \n",
       "  1354.45,745.133 1357.27,743.315 1360.51,741.228 1363.33,739.411 1366.57,737.322 1369.39,735.508 1372.63,733.414 1375.44,731.604 1378.69,729.504 1381.49,727.701 \n",
       "  1384.76,725.591 1387.53,723.797 1390.82,721.674 1393.57,719.894 1396.88,717.749 1399.59,715.99 1402.94,713.814 1405.6,712.087 1409,709.866 1411.58,708.183 \n",
       "  1415.06,705.897 1417.52,704.279 1421.12,701.902 1423.43,700.376 1427.19,697.869 1429.27,696.472 1433.25,693.785 1435.03,692.569 1439.31,689.632 1440.7,688.665 \n",
       "  1445.37,685.384 1446.25,684.762 1451.43,681.011 1451.64,680.858 1456.73,676.955 1457.49,676.344 1461.53,673.051 1463.55,671.332 1466.06,669.148 1469.61,665.881 \n",
       "  1470.29,665.244 1473.86,661.341 1475.68,659.073 1476.92,657.437 1479.06,653.533 1480.11,649.63 1478.82,645.726 1475.68,643.702 1469.61,642.87 1463.55,643.546 \n",
       "  1457.49,644.923 1454.95,645.726 1451.43,646.894 1445.37,649.197 1444.38,649.63 1439.31,651.921 1435.92,653.533 1433.25,654.837 1428.13,657.437 1427.19,657.93 \n",
       "  1421.12,661.207 1420.89,661.341 1415.06,664.68 1414.1,665.244 1409,668.25 1407.5,669.148 1402.94,671.9 1401.05,673.051 1396.88,675.613 1394.71,676.955 \n",
       "  1390.82,679.376 1388.45,680.858 1384.76,683.177 1382.24,684.762 1378.69,687.007 1376.08,688.665 1372.63,690.859 1369.95,692.569 1366.57,694.726 \n",
       "  \"/>\n",
       "<polyline clip-path=\"url(#clip2903)\" style=\"stroke:#fba60c; stroke-width:4; stroke-opacity:1; fill:none\" points=\"\n",
       "  1348.39,681.173 1342.8,684.762 1342.33,685.064 1336.72,688.665 1336.27,688.959 1330.65,692.569 1330.2,692.856 1324.58,696.472 1324.14,696.756 1318.52,700.376 \n",
       "  1318.08,700.657 1312.45,704.279 1312.02,704.559 1306.39,708.183 1305.96,708.461 1300.33,712.087 1299.9,712.364 1294.27,715.99 1293.84,716.267 1288.2,719.894 \n",
       "  1287.77,720.17 1282.14,723.797 1281.71,724.074 1276.08,727.701 1275.65,727.977 1270.02,731.604 1269.59,731.881 1263.96,735.508 1263.53,735.784 1257.9,739.411 \n",
       "  1257.47,739.688 1251.84,743.315 1251.41,743.591 1245.77,747.218 1245.35,747.495 1239.71,751.122 1239.28,751.398 1233.65,755.026 1233.22,755.302 1227.59,758.929 \n",
       "  1227.16,759.206 1221.53,762.833 1221.1,763.109 1215.47,766.736 1215.04,767.013 1209.41,770.64 1208.98,770.916 1203.35,774.543 1202.92,774.82 1197.28,778.447 \n",
       "  1196.85,778.723 1191.22,782.35 1190.79,782.627 1185.16,786.254 1184.73,786.53 1179.1,790.157 1178.67,790.434 1173.04,794.061 1172.61,794.337 1166.98,797.964 \n",
       "  1166.55,798.241 1160.92,801.868 1160.49,802.144 1154.85,805.772 1154.43,806.048 1148.79,809.675 1148.36,809.952 1142.73,813.579 1142.3,813.855 1136.67,817.482 \n",
       "  1136.24,817.759 1130.61,821.386 1130.18,821.662 1124.55,825.289 1124.12,825.566 1118.49,829.193 1118.06,829.469 1112.43,833.096 1112,833.373 1106.36,837 \n",
       "  1105.93,837.276 1100.3,840.903 1099.87,841.18 1094.24,844.807 1093.81,845.084 1088.18,848.711 1087.75,848.987 1082.12,852.614 1081.69,852.891 1076.06,856.518 \n",
       "  1075.63,856.794 1070,860.421 1069.57,860.698 1063.93,864.325 1063.51,864.601 1057.87,868.228 1057.44,868.505 1051.81,872.132 1051.38,872.408 1045.75,876.035 \n",
       "  1045.32,876.312 1039.69,879.939 1039.26,880.215 1033.63,883.842 1033.2,884.119 1027.57,887.746 1027.14,888.022 1021.51,891.649 1021.08,891.926 1015.44,895.553 \n",
       "  1015.01,895.829 1009.38,899.457 1008.95,899.733 1003.32,903.36 1002.89,903.637 997.26,907.264 996.83,907.54 991.198,911.167 990.769,911.444 985.137,915.071 \n",
       "  984.708,915.347 979.076,918.974 978.646,919.251 973.014,922.878 972.585,923.154 966.953,926.781 966.524,927.058 960.892,930.685 960.462,930.961 954.831,934.588 \n",
       "  954.401,934.865 948.769,938.492 948.34,938.769 942.708,942.396 942.278,942.672 936.647,946.299 936.217,946.576 930.585,950.203 930.156,950.479 924.524,954.106 \n",
       "  924.094,954.383 918.462,958.01 918.033,958.286 912.401,961.913 911.972,962.19 906.34,965.817 905.91,966.093 900.278,969.72 899.849,969.997 894.217,973.624 \n",
       "  893.788,973.9 888.156,977.527 887.726,977.804 882.094,981.431 881.665,981.707 876.033,985.334 875.604,985.611 869.972,989.238 869.542,989.515 863.911,993.142 \n",
       "  863.481,993.418 857.85,997.045 857.42,997.322 851.789,1000.95 851.358,1001.23 845.728,1004.85 845.297,1005.13 839.668,1008.76 839.236,1009.03 833.608,1012.66 \n",
       "  833.174,1012.94 827.549,1016.56 827.113,1016.84 821.492,1020.47 821.052,1020.75 815.437,1024.37 814.99,1024.66 809.385,1028.27 808.929,1028.57 803.337,1032.18 \n",
       "  802.868,1032.48 797.296,1036.08 796.806,1036.4 791.263,1039.98 790.745,1040.32 785.243,1043.89 784.684,1044.25 779.24,1047.79 778.622,1048.19 773.261,1051.69 \n",
       "  772.561,1052.15 767.312,1055.6 766.5,1056.13 761.404,1059.5 760.438,1060.14 755.548,1063.41 754.377,1064.19 749.758,1067.31 748.316,1068.29 744.051,1071.21 \n",
       "  742.254,1072.46 738.446,1075.12 736.193,1076.71 732.964,1079.02 730.132,1081.08 727.626,1082.92 724.07,1085.6 722.457,1086.83 718.009,1090.31 717.48,1090.73 \n",
       "  712.76,1094.63 711.948,1095.34 708.317,1098.54 705.886,1100.79 704.139,1102.44 700.269,1106.34 699.825,1106.84 696.813,1110.25 693.764,1114.03 693.666,1114.15 \n",
       "  691.041,1118.05 688.815,1121.96 687.702,1124.48 687.109,1125.86 686.026,1129.77 685.585,1133.67 685.913,1137.57 687.172,1141.48 687.702,1142.39 689.867,1145.38 \n",
       "  693.764,1148.79 694.536,1149.28 699.825,1151.79 704.469,1153.19 705.886,1153.53 711.948,1154.34 718.009,1154.55 724.07,1154.27 730.132,1153.57 732.281,1153.19 \n",
       "  736.193,1152.47 742.254,1151.04 748.316,1149.35 748.508,1149.28 754.377,1147.32 759.675,1145.38 760.438,1145.09 766.5,1142.6 769.061,1141.48 772.561,1139.91 \n",
       "  777.529,1137.57 778.622,1137.05 784.684,1134.01 785.336,1133.67 790.745,1130.8 792.652,1129.77 796.806,1127.48 799.666,1125.86 802.868,1124.04 806.45,1121.96 \n",
       "  808.929,1120.51 813.056,1118.05 814.99,1116.9 819.526,1114.15 821.052,1113.22 825.892,1110.25 827.113,1109.49 832.178,1106.34 833.174,1105.72 838.404,1102.44 \n",
       "  839.236,1101.92 844.585,1098.54 845.297,1098.09 850.733,1094.63 851.358,1094.24 856.855,1090.73 857.42,1090.37 862.96,1086.83 863.481,1086.49 869.051,1082.92 \n",
       "  869.542,1082.61 875.133,1079.02 875.604,1078.72 881.208,1075.12 881.665,1074.82 887.279,1071.21 887.726,1070.92 893.347,1067.31 893.788,1067.03 899.412,1063.41 \n",
       "  899.849,1063.12 905.476,1059.5 905.91,1059.22 911.54,1055.6 911.972,1055.32 917.602,1051.69 918.033,1051.42 923.664,1047.79 924.094,1047.51 929.726,1043.89 \n",
       "  930.156,1043.61 935.787,1039.98 936.217,1039.71 941.849,1036.08 942.278,1035.8 947.91,1032.18 948.34,1031.9 953.972,1028.27 954.401,1028 960.033,1024.37 \n",
       "  960.462,1024.09 966.095,1020.47 966.524,1020.19 972.156,1016.56 972.585,1016.29 978.217,1012.66 978.646,1012.38 984.278,1008.76 984.708,1008.48 990.34,1004.85 \n",
       "  990.769,1004.58 996.401,1000.95 996.83,1000.67 1002.46,997.045 1002.89,996.769 1008.52,993.142 1008.95,992.865 1014.59,989.238 1015.01,988.961 1020.65,985.334 \n",
       "  1021.08,985.058 1026.71,981.431 1027.14,981.154 1032.77,977.527 1033.2,977.251 1038.83,973.624 1039.26,973.347 1044.89,969.72 1045.32,969.444 1050.95,965.817 \n",
       "  1051.38,965.54 1057.01,961.913 1057.44,961.637 1063.08,958.01 1063.51,957.733 1069.14,954.106 1069.57,953.83 1075.2,950.203 1075.63,949.926 1081.26,946.299 \n",
       "  1081.69,946.023 1087.32,942.396 1087.75,942.119 1093.38,938.492 1093.81,938.216 1099.44,934.588 1099.87,934.312 1105.51,930.685 1105.93,930.408 1111.57,926.781 \n",
       "  1112,926.505 1117.63,922.878 1118.06,922.601 1123.69,918.974 1124.12,918.698 1129.75,915.071 1130.18,914.794 1135.81,911.167 1136.24,910.891 1141.87,907.264 \n",
       "  1142.3,906.987 1147.93,903.36 1148.36,903.084 1154,899.457 1154.43,899.18 1160.06,895.553 1160.49,895.276 1166.12,891.649 1166.55,891.373 1172.18,887.746 \n",
       "  1172.61,887.469 1178.24,883.842 1178.67,883.566 1184.3,879.939 1184.73,879.662 1190.36,876.035 1190.79,875.759 1196.43,872.132 1196.85,871.855 1202.49,868.228 \n",
       "  1202.92,867.952 1208.55,864.325 1208.98,864.048 1214.61,860.421 1215.04,860.145 1220.67,856.518 1221.1,856.241 1226.73,852.614 1227.16,852.338 1232.79,848.711 \n",
       "  1233.22,848.434 1238.85,844.807 1239.28,844.531 1244.92,840.903 1245.35,840.627 1250.98,837 1251.41,836.723 1257.04,833.096 1257.47,832.82 1263.1,829.193 \n",
       "  1263.53,828.916 1269.16,825.289 1269.59,825.013 1275.22,821.386 1275.65,821.109 1281.28,817.482 1281.71,817.206 1287.35,813.579 1287.77,813.302 1293.41,809.675 \n",
       "  1293.84,809.399 1299.47,805.772 1299.9,805.495 1305.53,801.868 1305.96,801.592 1311.59,797.964 1312.02,797.688 1317.65,794.061 1318.08,793.784 1323.71,790.157 \n",
       "  1324.14,789.881 1329.77,786.254 1330.2,785.977 1335.84,782.35 1336.27,782.074 1341.9,778.447 1342.33,778.17 1347.96,774.543 1348.39,774.267 1354.02,770.64 \n",
       "  1354.45,770.363 1360.08,766.736 1360.51,766.459 1366.14,762.833 1366.57,762.555 1372.2,758.929 1372.63,758.651 1378.26,755.026 1378.69,754.747 1384.32,751.122 \n",
       "  1384.76,750.843 1390.38,747.218 1390.82,746.937 1396.44,743.315 1396.88,743.031 1402.49,739.411 1402.94,739.123 1408.55,735.508 1409,735.214 1414.59,731.604 \n",
       "  1415.06,731.301 1420.63,727.701 1421.12,727.384 1426.67,723.797 1427.19,723.461 1432.69,719.894 1433.25,719.53 1438.69,715.99 1439.31,715.587 1444.67,712.087 \n",
       "  1445.37,711.628 1450.62,708.183 1451.43,707.648 1456.53,704.279 1457.49,703.638 1462.38,700.376 1463.55,699.589 1468.17,696.472 1469.61,695.49 1473.88,692.569 \n",
       "  1475.68,691.323 1479.48,688.665 1481.74,687.069 1484.97,684.762 1487.8,682.7 1490.3,680.858 1493.86,678.183 1495.47,676.955 1499.92,673.471 1500.45,673.051 \n",
       "  1505.17,669.148 1505.98,668.444 1509.61,665.244 1512.04,662.99 1513.79,661.341 1517.66,657.437 1518.11,656.946 1521.12,653.533 1524.17,649.754 1524.26,649.63 \n",
       "  1526.89,645.726 1529.12,641.823 1530.23,639.303 1530.82,637.919 1531.9,634.016 1532.35,630.112 1532.02,626.209 1530.76,622.305 1530.23,621.392 1528.06,618.402 \n",
       "  1524.17,614.995 1523.39,614.498 1518.11,611.989 1513.46,610.594 1512.04,610.253 1505.98,609.442 1499.92,609.231 1493.86,609.515 1487.8,610.212 1485.65,610.594 \n",
       "  1481.74,611.311 1475.68,612.744 1469.61,614.435 1469.42,614.498 1463.55,616.462 1458.26,618.402 1457.49,618.687 1451.43,621.18 1448.87,622.305 1445.37,623.871 \n",
       "  1440.4,626.209 1439.31,626.732 1433.25,629.771 1432.59,630.112 1427.19,632.977 1425.28,634.016 1421.12,636.306 1418.26,637.919 1415.06,639.743 1411.48,641.823 \n",
       "  1409,643.274 1404.87,645.726 1402.94,646.884 1398.4,649.63 1396.88,650.559 1392.04,653.533 1390.82,654.287 1385.75,657.437 1384.76,658.059 1379.53,661.341 \n",
       "  1378.69,661.864 1373.35,665.244 1372.63,665.695 1367.2,669.148 1366.57,669.546 1361.08,673.051 1360.51,673.412 1354.97,676.955 1354.45,677.288 1348.88,680.858 \n",
       "  1348.39,681.173 \n",
       "  \"/>\n",
       "<polyline clip-path=\"url(#clip2903)\" style=\"stroke:#f9fc9c; stroke-width:4; stroke-opacity:1; fill:none\" points=\"\n",
       "  1027.72,926.781 1027.14,927.156 1021.66,930.685 1021.08,931.06 1015.6,934.588 1015.01,934.963 1009.54,938.492 1008.95,938.867 1003.47,942.396 1002.89,942.771 \n",
       "  997.413,946.299 996.83,946.674 991.352,950.203 990.769,950.578 985.291,954.106 984.708,954.482 979.229,958.01 978.646,958.385 973.168,961.913 972.585,962.289 \n",
       "  967.107,965.817 966.524,966.192 961.045,969.72 960.462,970.096 954.984,973.624 954.401,973.999 948.922,977.527 948.34,977.903 942.861,981.431 942.278,981.806 \n",
       "  936.799,985.334 936.217,985.709 930.738,989.238 930.156,989.613 924.676,993.142 924.094,993.516 918.615,997.045 918.033,997.42 912.554,1000.95 911.972,1001.32 \n",
       "  906.493,1004.85 905.91,1005.23 900.432,1008.76 899.849,1009.13 894.372,1012.66 893.788,1013.04 888.313,1016.56 887.726,1016.94 882.255,1020.47 881.665,1020.85 \n",
       "  876.199,1024.37 875.604,1024.75 870.146,1028.27 869.542,1028.66 864.098,1032.18 863.481,1032.58 858.057,1036.08 857.42,1036.49 852.026,1039.98 851.358,1040.42 \n",
       "  846.012,1043.89 845.297,1044.35 840.021,1047.79 839.236,1048.3 834.063,1051.69 833.174,1052.28 828.153,1055.6 827.113,1056.29 822.309,1059.5 821.052,1060.35 \n",
       "  816.555,1063.41 814.99,1064.48 810.921,1067.31 808.929,1068.71 805.443,1071.21 802.868,1073.1 800.162,1075.12 796.806,1077.69 795.122,1079.02 790.745,1082.6 \n",
       "  790.365,1082.92 787.637,1086.83 790.745,1088.83 796.806,1087.07 797.305,1086.83 802.868,1084.01 804.928,1082.92 808.929,1080.76 812.064,1079.02 814.99,1077.36 \n",
       "  818.868,1075.12 821.052,1073.83 825.443,1071.21 827.113,1070.2 831.858,1067.31 833.174,1066.5 838.162,1063.41 839.236,1062.74 844.389,1059.5 845.297,1058.93 \n",
       "  850.562,1055.6 851.358,1055.09 856.698,1051.69 857.42,1051.23 862.809,1047.79 863.481,1047.36 868.903,1043.89 869.542,1043.48 874.985,1039.98 875.604,1039.59 \n",
       "  881.06,1036.08 881.665,1035.69 887.131,1032.18 887.726,1031.79 893.198,1028.27 893.788,1027.89 899.262,1024.37 899.849,1023.99 905.326,1020.47 905.91,1020.09 \n",
       "  911.389,1016.56 911.972,1016.19 917.451,1012.66 918.033,1012.28 923.512,1008.76 924.094,1008.38 929.574,1004.85 930.156,1004.48 935.635,1000.95 936.217,1000.57 \n",
       "  941.696,997.045 942.278,996.67 947.758,993.142 948.34,992.767 953.819,989.238 954.401,988.863 959.88,985.334 960.462,984.959 965.941,981.431 966.524,981.056 \n",
       "  972.002,977.527 972.585,977.152 978.064,973.624 978.646,973.248 984.125,969.72 984.708,969.345 990.186,965.817 990.769,965.441 996.248,961.913 996.83,961.538 \n",
       "  1002.31,958.01 1002.89,957.634 1008.37,954.106 1008.95,953.731 1014.43,950.203 1015.01,949.828 1020.49,946.299 1021.08,945.924 1026.56,942.396 1027.14,942.021 \n",
       "  1032.62,938.492 1033.2,938.117 1038.68,934.588 1039.26,934.214 1044.74,930.685 1045.32,930.31 \n",
       "  \"/>\n",
       "<polyline clip-path=\"url(#clip2903)\" style=\"stroke:#fafda0; stroke-width:4; stroke-opacity:1; fill:none\" points=\"\n",
       "  1040.76,926.781 1039.26,927.747 1037.76,926.781 1039.26,925.816 1040.76,926.781 \n",
       "  \"/>\n",
       "<polyline clip-path=\"url(#clip2903)\" style=\"stroke:#fafda0; stroke-width:4; stroke-opacity:1; fill:none\" points=\"\n",
       "  1039.32,926.781 1039.26,926.817 1039.2,926.781 1039.26,926.746 1039.32,926.781 \n",
       "  \"/>\n",
       "<polyline clip-path=\"url(#clip2903)\" style=\"stroke:#fafda0; stroke-width:4; stroke-opacity:1; fill:none\" points=\"\n",
       "  1039.27,926.781 1039.26,926.785 1039.25,926.781 1039.26,926.778 1039.27,926.781 \n",
       "  \"/>\n",
       "<polyline clip-path=\"url(#clip2903)\" style=\"stroke:#fafda0; stroke-width:4; stroke-opacity:1; fill:none\" points=\"\n",
       "  1039.26,926.781 1039.26,926.784 1039.26,926.781 1039.26,926.778 1039.26,926.781 \n",
       "  \"/>\n",
       "<polyline clip-path=\"url(#clip2903)\" style=\"stroke:#fafda0; stroke-width:4; stroke-opacity:1; fill:none\" points=\"\n",
       "  1039.26,926.781 1039.26,926.783 1039.26,926.781 1039.26,926.779 1039.26,926.781 \n",
       "  \"/>\n",
       "<polyline clip-path=\"url(#clip2903)\" style=\"stroke:#fafda0; stroke-width:4; stroke-opacity:1; fill:none\" points=\"\n",
       "  1039.26,926.781 1039.26,926.783 1039.26,926.781 1039.26,926.78 1039.26,926.781 \n",
       "  \"/>\n",
       "<polyline clip-path=\"url(#clip2903)\" style=\"stroke:#f9fc9c; stroke-width:4; stroke-opacity:1; fill:none\" points=\"\n",
       "  1033.2,923.252 1027.72,926.781 \n",
       "  \"/>\n",
       "<polyline clip-path=\"url(#clip2903)\" style=\"stroke:#fafda0; stroke-width:4; stroke-opacity:1; fill:none\" points=\"\n",
       "  1025.64,934.588 1027.14,935.554 1028.64,934.588 1027.14,933.623 1025.64,934.588 \n",
       "  \"/>\n",
       "<polyline clip-path=\"url(#clip2903)\" style=\"stroke:#fafda0; stroke-width:4; stroke-opacity:1; fill:none\" points=\"\n",
       "  1027.08,934.588 1027.14,934.624 1027.19,934.588 1027.14,934.553 1027.08,934.588 \n",
       "  \"/>\n",
       "<polyline clip-path=\"url(#clip2903)\" style=\"stroke:#fafda0; stroke-width:4; stroke-opacity:1; fill:none\" points=\"\n",
       "  1027.13,934.588 1027.14,934.592 1027.14,934.588 1027.14,934.585 1027.13,934.588 \n",
       "  \"/>\n",
       "<polyline clip-path=\"url(#clip2903)\" style=\"stroke:#fafda0; stroke-width:4; stroke-opacity:1; fill:none\" points=\"\n",
       "  1027.13,934.588 1027.14,934.591 1027.14,934.588 1027.14,934.586 1027.13,934.588 \n",
       "  \"/>\n",
       "<polyline clip-path=\"url(#clip2903)\" style=\"stroke:#fafda0; stroke-width:4; stroke-opacity:1; fill:none\" points=\"\n",
       "  1027.13,934.588 1027.14,934.59 1027.14,934.588 1027.14,934.587 1027.13,934.588 \n",
       "  \"/>\n",
       "<polyline clip-path=\"url(#clip2903)\" style=\"stroke:#fafda0; stroke-width:4; stroke-opacity:1; fill:none\" points=\"\n",
       "  1027.14,934.588 1027.14,934.589 1027.14,934.588 1027.14,934.587 1027.14,934.588 \n",
       "  \"/>\n",
       "<polyline clip-path=\"url(#clip2903)\" style=\"stroke:#fafda0; stroke-width:4; stroke-opacity:1; fill:none\" points=\"\n",
       "  1019.58,938.492 1021.08,939.457 1022.57,938.492 1021.08,937.527 1019.58,938.492 \n",
       "  \"/>\n",
       "<polyline clip-path=\"url(#clip2903)\" style=\"stroke:#fafda0; stroke-width:4; stroke-opacity:1; fill:none\" points=\"\n",
       "  1021.02,938.492 1021.08,938.527 1021.13,938.492 1021.08,938.457 1021.02,938.492 \n",
       "  \"/>\n",
       "<polyline clip-path=\"url(#clip2903)\" style=\"stroke:#fafda0; stroke-width:4; stroke-opacity:1; fill:none\" points=\"\n",
       "  1021.07,938.492 1021.08,938.495 1021.08,938.492 1021.08,938.489 1021.07,938.492 \n",
       "  \"/>\n",
       "<polyline clip-path=\"url(#clip2903)\" style=\"stroke:#fafda0; stroke-width:4; stroke-opacity:1; fill:none\" points=\"\n",
       "  1021.07,938.492 1021.08,938.494 1021.08,938.492 1021.08,938.49 1021.07,938.492 \n",
       "  \"/>\n",
       "<polyline clip-path=\"url(#clip2903)\" style=\"stroke:#fafda0; stroke-width:4; stroke-opacity:1; fill:none\" points=\"\n",
       "  1021.07,938.492 1021.08,938.493 1021.08,938.492 1021.08,938.491 1021.07,938.492 \n",
       "  \"/>\n",
       "<polyline clip-path=\"url(#clip2903)\" style=\"stroke:#fafda0; stroke-width:4; stroke-opacity:1; fill:none\" points=\"\n",
       "  1021.07,938.492 1021.08,938.493 1021.08,938.492 1021.08,938.491 1021.07,938.492 \n",
       "  \"/>\n",
       "<polyline clip-path=\"url(#clip2903)\" style=\"stroke:#fafda0; stroke-width:4; stroke-opacity:1; fill:none\" points=\"\n",
       "  1013.52,942.396 1015.01,943.36 1016.51,942.396 1015.01,941.431 1013.52,942.396 \n",
       "  \"/>\n",
       "<polyline clip-path=\"url(#clip2903)\" style=\"stroke:#fafda0; stroke-width:4; stroke-opacity:1; fill:none\" points=\"\n",
       "  1014.96,942.396 1015.01,942.43 1015.07,942.396 1015.01,942.361 1014.96,942.396 \n",
       "  \"/>\n",
       "<polyline clip-path=\"url(#clip2903)\" style=\"stroke:#fafda0; stroke-width:4; stroke-opacity:1; fill:none\" points=\"\n",
       "  1015.01,942.396 1015.01,942.398 1015.02,942.396 1015.01,942.393 1015.01,942.396 \n",
       "  \"/>\n",
       "<polyline clip-path=\"url(#clip2903)\" style=\"stroke:#fafda0; stroke-width:4; stroke-opacity:1; fill:none\" points=\"\n",
       "  1015.01,942.396 1015.01,942.397 1015.02,942.396 1015.01,942.394 1015.01,942.396 \n",
       "  \"/>\n",
       "<polyline clip-path=\"url(#clip2903)\" style=\"stroke:#fafda0; stroke-width:4; stroke-opacity:1; fill:none\" points=\"\n",
       "  1015.01,942.396 1015.01,942.396 1015.02,942.396 1015.01,942.395 1015.01,942.396 \n",
       "  \"/>\n",
       "<polyline clip-path=\"url(#clip2903)\" style=\"stroke:#fafda0; stroke-width:4; stroke-opacity:1; fill:none\" points=\"\n",
       "  1015.01,942.396 1015.01,942.396 1015.01,942.396 1015.01,942.395 1015.01,942.396 \n",
       "  \"/>\n",
       "<polyline clip-path=\"url(#clip2903)\" style=\"stroke:#fafda0; stroke-width:4; stroke-opacity:1; fill:none\" points=\"\n",
       "  1007.46,946.299 1008.95,947.263 1010.45,946.299 1008.95,945.335 1007.46,946.299 \n",
       "  \"/>\n",
       "<polyline clip-path=\"url(#clip2903)\" style=\"stroke:#fafda0; stroke-width:4; stroke-opacity:1; fill:none\" points=\"\n",
       "  1008.9,946.299 1008.95,946.333 1009.01,946.299 1008.95,946.265 1008.9,946.299 \n",
       "  \"/>\n",
       "<polyline clip-path=\"url(#clip2903)\" style=\"stroke:#fafda0; stroke-width:4; stroke-opacity:1; fill:none\" points=\"\n",
       "  1008.95,946.299 1008.95,946.301 1008.96,946.299 1008.95,946.297 1008.95,946.299 \n",
       "  \"/>\n",
       "<polyline clip-path=\"url(#clip2903)\" style=\"stroke:#fafda0; stroke-width:4; stroke-opacity:1; fill:none\" points=\"\n",
       "  1008.95,946.299 1008.95,946.301 1008.96,946.299 1008.95,946.298 1008.95,946.299 \n",
       "  \"/>\n",
       "<polyline clip-path=\"url(#clip2903)\" style=\"stroke:#fafda0; stroke-width:4; stroke-opacity:1; fill:none\" points=\"\n",
       "  1008.95,946.299 1008.95,946.3 1008.95,946.299 1008.95,946.299 1008.95,946.299 \n",
       "  \"/>\n",
       "<polyline clip-path=\"url(#clip2903)\" style=\"stroke:#fafda0; stroke-width:4; stroke-opacity:1; fill:none\" points=\"\n",
       "  1001.4,950.203 1002.89,951.166 1004.39,950.203 1002.89,949.239 1001.4,950.203 \n",
       "  \"/>\n",
       "<polyline clip-path=\"url(#clip2903)\" style=\"stroke:#fafda0; stroke-width:4; stroke-opacity:1; fill:none\" points=\"\n",
       "  1002.84,950.203 1002.89,950.237 1002.94,950.203 1002.89,950.169 1002.84,950.203 \n",
       "  \"/>\n",
       "<polyline clip-path=\"url(#clip2903)\" style=\"stroke:#fafda0; stroke-width:4; stroke-opacity:1; fill:none\" points=\"\n",
       "  1002.89,950.203 1002.89,950.204 1002.89,950.203 1002.89,950.201 1002.89,950.203 \n",
       "  \"/>\n",
       "<polyline clip-path=\"url(#clip2903)\" style=\"stroke:#fafda0; stroke-width:4; stroke-opacity:1; fill:none\" points=\"\n",
       "  1002.89,950.203 1002.89,950.204 1002.89,950.203 1002.89,950.202 1002.89,950.203 \n",
       "  \"/>\n",
       "<polyline clip-path=\"url(#clip2903)\" style=\"stroke:#fafda0; stroke-width:4; stroke-opacity:1; fill:none\" points=\"\n",
       "  1002.89,950.203 1002.89,950.203 1002.89,950.203 1002.89,950.203 1002.89,950.203 \n",
       "  \"/>\n",
       "<polyline clip-path=\"url(#clip2903)\" style=\"stroke:#fafda0; stroke-width:4; stroke-opacity:1; fill:none\" points=\"\n",
       "  995.335,954.106 996.83,955.069 998.326,954.106 996.83,953.143 995.335,954.106 \n",
       "  \"/>\n",
       "<polyline clip-path=\"url(#clip2903)\" style=\"stroke:#fafda0; stroke-width:4; stroke-opacity:1; fill:none\" points=\"\n",
       "  996.778,954.106 996.83,954.14 996.883,954.106 996.83,954.073 996.778,954.106 \n",
       "  \"/>\n",
       "<polyline clip-path=\"url(#clip2903)\" style=\"stroke:#fafda0; stroke-width:4; stroke-opacity:1; fill:none\" points=\"\n",
       "  996.828,954.106 996.83,954.107 996.833,954.106 996.83,954.105 996.828,954.106 \n",
       "  \"/>\n",
       "<polyline clip-path=\"url(#clip2903)\" style=\"stroke:#fafda0; stroke-width:4; stroke-opacity:1; fill:none\" points=\"\n",
       "  996.829,954.106 996.83,954.107 996.832,954.106 996.83,954.105 996.829,954.106 \n",
       "  \"/>\n",
       "<polyline clip-path=\"url(#clip2903)\" style=\"stroke:#fafda0; stroke-width:4; stroke-opacity:1; fill:none\" points=\"\n",
       "  989.274,958.01 990.769,958.973 992.264,958.01 990.769,957.047 989.274,958.01 \n",
       "  \"/>\n",
       "<polyline clip-path=\"url(#clip2903)\" style=\"stroke:#fafda0; stroke-width:4; stroke-opacity:1; fill:none\" points=\"\n",
       "  990.718,958.01 990.769,958.043 990.821,958.01 990.769,957.976 990.718,958.01 \n",
       "  \"/>\n",
       "<polyline clip-path=\"url(#clip2903)\" style=\"stroke:#fafda0; stroke-width:4; stroke-opacity:1; fill:none\" points=\"\n",
       "  990.768,958.01 990.769,958.011 990.771,958.01 990.769,958.009 990.768,958.01 \n",
       "  \"/>\n",
       "<polyline clip-path=\"url(#clip2903)\" style=\"stroke:#fafda0; stroke-width:4; stroke-opacity:1; fill:none\" points=\"\n",
       "  990.769,958.01 990.769,958.01 990.77,958.01 990.769,958.009 990.769,958.01 \n",
       "  \"/>\n",
       "<polyline clip-path=\"url(#clip2903)\" style=\"stroke:#fafda0; stroke-width:4; stroke-opacity:1; fill:none\" points=\"\n",
       "  983.213,961.913 984.708,962.876 986.203,961.913 984.708,960.951 983.213,961.913 \n",
       "  \"/>\n",
       "<polyline clip-path=\"url(#clip2903)\" style=\"stroke:#fafda0; stroke-width:4; stroke-opacity:1; fill:none\" points=\"\n",
       "  984.657,961.913 984.708,961.946 984.759,961.913 984.708,961.88 984.657,961.913 \n",
       "  \"/>\n",
       "<polyline clip-path=\"url(#clip2903)\" style=\"stroke:#fafda0; stroke-width:4; stroke-opacity:1; fill:none\" points=\"\n",
       "  984.707,961.913 984.708,961.914 984.709,961.913 984.708,961.912 984.707,961.913 \n",
       "  \"/>\n",
       "<polyline clip-path=\"url(#clip2903)\" style=\"stroke:#fafda0; stroke-width:4; stroke-opacity:1; fill:none\" points=\"\n",
       "  984.708,961.913 984.708,961.913 984.708,961.913 984.708,961.913 984.708,961.913 \n",
       "  \"/>\n",
       "<polyline clip-path=\"url(#clip2903)\" style=\"stroke:#fafda0; stroke-width:4; stroke-opacity:1; fill:none\" points=\"\n",
       "  977.152,965.817 978.646,966.779 980.141,965.817 978.646,964.854 977.152,965.817 \n",
       "  \"/>\n",
       "<polyline clip-path=\"url(#clip2903)\" style=\"stroke:#fafda0; stroke-width:4; stroke-opacity:1; fill:none\" points=\"\n",
       "  978.595,965.817 978.646,965.85 978.698,965.817 978.646,965.784 978.595,965.817 \n",
       "  \"/>\n",
       "<polyline clip-path=\"url(#clip2903)\" style=\"stroke:#fafda0; stroke-width:4; stroke-opacity:1; fill:none\" points=\"\n",
       "  978.645,965.817 978.646,965.817 978.648,965.817 978.646,965.816 978.645,965.817 \n",
       "  \"/>\n",
       "<polyline clip-path=\"url(#clip2903)\" style=\"stroke:#fafda0; stroke-width:4; stroke-opacity:1; fill:none\" points=\"\n",
       "  978.646,965.817 978.646,965.817 978.647,965.817 978.646,965.817 978.646,965.817 \n",
       "  \"/>\n",
       "<polyline clip-path=\"url(#clip2903)\" style=\"stroke:#fafda0; stroke-width:4; stroke-opacity:1; fill:none\" points=\"\n",
       "  971.09,969.72 972.585,970.683 974.08,969.72 972.585,968.758 971.09,969.72 \n",
       "  \"/>\n",
       "<polyline clip-path=\"url(#clip2903)\" style=\"stroke:#fafda0; stroke-width:4; stroke-opacity:1; fill:none\" points=\"\n",
       "  972.534,969.72 972.585,969.753 972.636,969.72 972.585,969.687 972.534,969.72 \n",
       "  \"/>\n",
       "<polyline clip-path=\"url(#clip2903)\" style=\"stroke:#fafda0; stroke-width:4; stroke-opacity:1; fill:none\" points=\"\n",
       "  972.584,969.72 972.585,969.721 972.586,969.72 972.585,969.72 972.584,969.72 \n",
       "  \"/>\n",
       "<polyline clip-path=\"url(#clip2903)\" style=\"stroke:#fafda0; stroke-width:4; stroke-opacity:1; fill:none\" points=\"\n",
       "  972.585,969.72 972.585,969.72 972.585,969.72 972.585,969.72 972.585,969.72 \n",
       "  \"/>\n",
       "<polyline clip-path=\"url(#clip2903)\" style=\"stroke:#fafda0; stroke-width:4; stroke-opacity:1; fill:none\" points=\"\n",
       "  965.029,973.624 966.524,974.587 968.019,973.624 966.524,972.661 965.029,973.624 \n",
       "  \"/>\n",
       "<polyline clip-path=\"url(#clip2903)\" style=\"stroke:#fafda0; stroke-width:4; stroke-opacity:1; fill:none\" points=\"\n",
       "  966.472,973.624 966.524,973.657 966.575,973.624 966.524,973.591 966.472,973.624 \n",
       "  \"/>\n",
       "<polyline clip-path=\"url(#clip2903)\" style=\"stroke:#fafda0; stroke-width:4; stroke-opacity:1; fill:none\" points=\"\n",
       "  966.522,973.624 966.524,973.625 966.525,973.624 966.524,973.623 966.522,973.624 \n",
       "  \"/>\n",
       "<polyline clip-path=\"url(#clip2903)\" style=\"stroke:#fafda0; stroke-width:4; stroke-opacity:1; fill:none\" points=\"\n",
       "  966.523,973.624 966.524,973.624 966.524,973.624 966.524,973.624 966.523,973.624 \n",
       "  \"/>\n",
       "<polyline clip-path=\"url(#clip2903)\" style=\"stroke:#fafda0; stroke-width:4; stroke-opacity:1; fill:none\" points=\"\n",
       "  958.967,977.527 960.462,978.49 961.958,977.527 960.462,976.564 958.967,977.527 \n",
       "  \"/>\n",
       "<polyline clip-path=\"url(#clip2903)\" style=\"stroke:#fafda0; stroke-width:4; stroke-opacity:1; fill:none\" points=\"\n",
       "  960.411,977.527 960.462,977.561 960.514,977.527 960.462,977.494 960.411,977.527 \n",
       "  \"/>\n",
       "<polyline clip-path=\"url(#clip2903)\" style=\"stroke:#fafda0; stroke-width:4; stroke-opacity:1; fill:none\" points=\"\n",
       "  960.461,977.527 960.462,977.529 960.464,977.527 960.462,977.526 960.461,977.527 \n",
       "  \"/>\n",
       "<polyline clip-path=\"url(#clip2903)\" style=\"stroke:#fafda0; stroke-width:4; stroke-opacity:1; fill:none\" points=\"\n",
       "  960.462,977.527 960.462,977.528 960.463,977.527 960.462,977.527 960.462,977.527 \n",
       "  \"/>\n",
       "<polyline clip-path=\"url(#clip2903)\" style=\"stroke:#fafda0; stroke-width:4; stroke-opacity:1; fill:none\" points=\"\n",
       "  952.905,981.431 954.401,982.394 955.897,981.431 954.401,980.468 952.905,981.431 \n",
       "  \"/>\n",
       "<polyline clip-path=\"url(#clip2903)\" style=\"stroke:#fafda0; stroke-width:4; stroke-opacity:1; fill:none\" points=\"\n",
       "  954.349,981.431 954.401,981.465 954.454,981.431 954.401,981.397 954.349,981.431 \n",
       "  \"/>\n",
       "<polyline clip-path=\"url(#clip2903)\" style=\"stroke:#fafda0; stroke-width:4; stroke-opacity:1; fill:none\" points=\"\n",
       "  954.399,981.431 954.401,981.432 954.403,981.431 954.401,981.429 954.399,981.431 \n",
       "  \"/>\n",
       "<polyline clip-path=\"url(#clip2903)\" style=\"stroke:#fafda0; stroke-width:4; stroke-opacity:1; fill:none\" points=\"\n",
       "  954.4,981.431 954.401,981.432 954.403,981.431 954.401,981.43 954.4,981.431 \n",
       "  \"/>\n",
       "<polyline clip-path=\"url(#clip2903)\" style=\"stroke:#fafda0; stroke-width:4; stroke-opacity:1; fill:none\" points=\"\n",
       "  946.843,985.334 948.34,986.298 949.836,985.334 948.34,984.371 946.843,985.334 \n",
       "  \"/>\n",
       "<polyline clip-path=\"url(#clip2903)\" style=\"stroke:#fafda0; stroke-width:4; stroke-opacity:1; fill:none\" points=\"\n",
       "  948.287,985.334 948.34,985.369 948.393,985.334 948.34,985.3 948.287,985.334 \n",
       "  \"/>\n",
       "<polyline clip-path=\"url(#clip2903)\" style=\"stroke:#fafda0; stroke-width:4; stroke-opacity:1; fill:none\" points=\"\n",
       "  948.337,985.334 948.34,985.336 948.343,985.334 948.34,985.333 948.337,985.334 \n",
       "  \"/>\n",
       "<polyline clip-path=\"url(#clip2903)\" style=\"stroke:#fafda0; stroke-width:4; stroke-opacity:1; fill:none\" points=\"\n",
       "  948.338,985.334 948.34,985.336 948.342,985.334 948.34,985.333 948.338,985.334 \n",
       "  \"/>\n",
       "<polyline clip-path=\"url(#clip2903)\" style=\"stroke:#fafda0; stroke-width:4; stroke-opacity:1; fill:none\" points=\"\n",
       "  948.339,985.334 948.34,985.335 948.34,985.334 948.34,985.334 948.339,985.334 \n",
       "  \"/>\n",
       "<polyline clip-path=\"url(#clip2903)\" style=\"stroke:#fafda0; stroke-width:4; stroke-opacity:1; fill:none\" points=\"\n",
       "  940.781,989.238 942.278,990.202 943.776,989.238 942.278,988.274 940.781,989.238 \n",
       "  \"/>\n",
       "<polyline clip-path=\"url(#clip2903)\" style=\"stroke:#fafda0; stroke-width:4; stroke-opacity:1; fill:none\" points=\"\n",
       "  942.225,989.238 942.278,989.273 942.332,989.238 942.278,989.203 942.225,989.238 \n",
       "  \"/>\n",
       "<polyline clip-path=\"url(#clip2903)\" style=\"stroke:#fafda0; stroke-width:4; stroke-opacity:1; fill:none\" points=\"\n",
       "  942.275,989.238 942.278,989.24 942.282,989.238 942.278,989.236 942.275,989.238 \n",
       "  \"/>\n",
       "<polyline clip-path=\"url(#clip2903)\" style=\"stroke:#fafda0; stroke-width:4; stroke-opacity:1; fill:none\" points=\"\n",
       "  942.276,989.238 942.278,989.24 942.281,989.238 942.278,989.236 942.276,989.238 \n",
       "  \"/>\n",
       "<polyline clip-path=\"url(#clip2903)\" style=\"stroke:#fafda0; stroke-width:4; stroke-opacity:1; fill:none\" points=\"\n",
       "  942.277,989.238 942.278,989.239 942.279,989.238 942.278,989.237 942.277,989.238 \n",
       "  \"/>\n",
       "<polyline clip-path=\"url(#clip2903)\" style=\"stroke:#fafda0; stroke-width:4; stroke-opacity:1; fill:none\" points=\"\n",
       "  942.278,989.238 942.278,989.238 942.279,989.238 942.278,989.238 942.278,989.238 \n",
       "  \"/>\n",
       "<polyline clip-path=\"url(#clip2903)\" style=\"stroke:#fafda0; stroke-width:4; stroke-opacity:1; fill:none\" points=\"\n",
       "  934.719,993.142 936.217,994.106 937.715,993.142 936.217,992.177 934.719,993.142 \n",
       "  \"/>\n",
       "<polyline clip-path=\"url(#clip2903)\" style=\"stroke:#fafda0; stroke-width:4; stroke-opacity:1; fill:none\" points=\"\n",
       "  936.163,993.142 936.217,993.177 936.271,993.142 936.217,993.107 936.163,993.142 \n",
       "  \"/>\n",
       "<polyline clip-path=\"url(#clip2903)\" style=\"stroke:#fafda0; stroke-width:4; stroke-opacity:1; fill:none\" points=\"\n",
       "  936.213,993.142 936.217,993.144 936.221,993.142 936.217,993.139 936.213,993.142 \n",
       "  \"/>\n",
       "<polyline clip-path=\"url(#clip2903)\" style=\"stroke:#fafda0; stroke-width:4; stroke-opacity:1; fill:none\" points=\"\n",
       "  936.214,993.142 936.217,993.144 936.22,993.142 936.217,993.139 936.214,993.142 \n",
       "  \"/>\n",
       "<polyline clip-path=\"url(#clip2903)\" style=\"stroke:#fafda0; stroke-width:4; stroke-opacity:1; fill:none\" points=\"\n",
       "  936.216,993.142 936.217,993.143 936.219,993.142 936.217,993.141 936.216,993.142 \n",
       "  \"/>\n",
       "<polyline clip-path=\"url(#clip2903)\" style=\"stroke:#fafda0; stroke-width:4; stroke-opacity:1; fill:none\" points=\"\n",
       "  936.216,993.142 936.217,993.142 936.218,993.142 936.217,993.141 936.216,993.142 \n",
       "  \"/>\n",
       "<polyline clip-path=\"url(#clip2903)\" style=\"stroke:#fafda0; stroke-width:4; stroke-opacity:1; fill:none\" points=\"\n",
       "  928.658,997.045 930.156,998.01 931.654,997.045 930.156,996.08 928.658,997.045 \n",
       "  \"/>\n",
       "<polyline clip-path=\"url(#clip2903)\" style=\"stroke:#fafda0; stroke-width:4; stroke-opacity:1; fill:none\" points=\"\n",
       "  930.101,997.045 930.156,997.08 930.21,997.045 930.156,997.01 930.101,997.045 \n",
       "  \"/>\n",
       "<polyline clip-path=\"url(#clip2903)\" style=\"stroke:#fafda0; stroke-width:4; stroke-opacity:1; fill:none\" points=\"\n",
       "  930.151,997.045 930.156,997.048 930.16,997.045 930.156,997.042 930.151,997.045 \n",
       "  \"/>\n",
       "<polyline clip-path=\"url(#clip2903)\" style=\"stroke:#fafda0; stroke-width:4; stroke-opacity:1; fill:none\" points=\"\n",
       "  930.152,997.045 930.156,997.047 930.159,997.045 930.156,997.043 930.152,997.045 \n",
       "  \"/>\n",
       "<polyline clip-path=\"url(#clip2903)\" style=\"stroke:#fafda0; stroke-width:4; stroke-opacity:1; fill:none\" points=\"\n",
       "  930.154,997.045 930.156,997.046 930.158,997.045 930.156,997.044 930.154,997.045 \n",
       "  \"/>\n",
       "<polyline clip-path=\"url(#clip2903)\" style=\"stroke:#fafda0; stroke-width:4; stroke-opacity:1; fill:none\" points=\"\n",
       "  930.155,997.045 930.156,997.046 930.157,997.045 930.156,997.044 930.155,997.045 \n",
       "  \"/>\n",
       "<polyline clip-path=\"url(#clip2903)\" style=\"stroke:#fafda0; stroke-width:4; stroke-opacity:1; fill:none\" points=\"\n",
       "  922.596,1000.95 924.094,1001.91 925.593,1000.95 924.094,999.984 922.596,1000.95 \n",
       "  \"/>\n",
       "<polyline clip-path=\"url(#clip2903)\" style=\"stroke:#fafda0; stroke-width:4; stroke-opacity:1; fill:none\" points=\"\n",
       "  924.04,1000.95 924.094,1000.98 924.149,1000.95 924.094,1000.91 924.04,1000.95 \n",
       "  \"/>\n",
       "<polyline clip-path=\"url(#clip2903)\" style=\"stroke:#fafda0; stroke-width:4; stroke-opacity:1; fill:none\" points=\"\n",
       "  924.09,1000.95 924.094,1000.95 924.099,1000.95 924.094,1000.95 924.09,1000.95 \n",
       "  \"/>\n",
       "<polyline clip-path=\"url(#clip2903)\" style=\"stroke:#fafda0; stroke-width:4; stroke-opacity:1; fill:none\" points=\"\n",
       "  924.091,1000.95 924.094,1000.95 924.098,1000.95 924.094,1000.95 924.091,1000.95 \n",
       "  \"/>\n",
       "<polyline clip-path=\"url(#clip2903)\" style=\"stroke:#fafda0; stroke-width:4; stroke-opacity:1; fill:none\" points=\"\n",
       "  924.092,1000.95 924.094,1000.95 924.096,1000.95 924.094,1000.95 924.092,1000.95 \n",
       "  \"/>\n",
       "<polyline clip-path=\"url(#clip2903)\" style=\"stroke:#fafda0; stroke-width:4; stroke-opacity:1; fill:none\" points=\"\n",
       "  924.093,1000.95 924.094,1000.95 924.095,1000.95 924.094,1000.95 924.093,1000.95 \n",
       "  \"/>\n",
       "<polyline clip-path=\"url(#clip2903)\" style=\"stroke:#fafda0; stroke-width:4; stroke-opacity:1; fill:none\" points=\"\n",
       "  916.535,1004.85 918.033,1005.82 919.531,1004.85 918.033,1003.89 916.535,1004.85 \n",
       "  \"/>\n",
       "<polyline clip-path=\"url(#clip2903)\" style=\"stroke:#fafda0; stroke-width:4; stroke-opacity:1; fill:none\" points=\"\n",
       "  917.979,1004.85 918.033,1004.89 918.087,1004.85 918.033,1004.82 917.979,1004.85 \n",
       "  \"/>\n",
       "<polyline clip-path=\"url(#clip2903)\" style=\"stroke:#fafda0; stroke-width:4; stroke-opacity:1; fill:none\" points=\"\n",
       "  918.029,1004.85 918.033,1004.85 918.037,1004.85 918.033,1004.85 918.029,1004.85 \n",
       "  \"/>\n",
       "<polyline clip-path=\"url(#clip2903)\" style=\"stroke:#fafda0; stroke-width:4; stroke-opacity:1; fill:none\" points=\"\n",
       "  918.03,1004.85 918.033,1004.85 918.036,1004.85 918.033,1004.85 918.03,1004.85 \n",
       "  \"/>\n",
       "<polyline clip-path=\"url(#clip2903)\" style=\"stroke:#fafda0; stroke-width:4; stroke-opacity:1; fill:none\" points=\"\n",
       "  918.032,1004.85 918.033,1004.85 918.035,1004.85 918.033,1004.85 918.032,1004.85 \n",
       "  \"/>\n",
       "<polyline clip-path=\"url(#clip2903)\" style=\"stroke:#fafda0; stroke-width:4; stroke-opacity:1; fill:none\" points=\"\n",
       "  918.032,1004.85 918.033,1004.85 918.034,1004.85 918.033,1004.85 918.032,1004.85 \n",
       "  \"/>\n",
       "<polyline clip-path=\"url(#clip2903)\" style=\"stroke:#fafda0; stroke-width:4; stroke-opacity:1; fill:none\" points=\"\n",
       "  910.475,1008.76 911.972,1009.72 913.468,1008.76 911.972,1007.79 910.475,1008.76 \n",
       "  \"/>\n",
       "<polyline clip-path=\"url(#clip2903)\" style=\"stroke:#fafda0; stroke-width:4; stroke-opacity:1; fill:none\" points=\"\n",
       "  911.919,1008.76 911.972,1008.79 912.025,1008.76 911.972,1008.72 911.919,1008.76 \n",
       "  \"/>\n",
       "<polyline clip-path=\"url(#clip2903)\" style=\"stroke:#fafda0; stroke-width:4; stroke-opacity:1; fill:none\" points=\"\n",
       "  911.969,1008.76 911.972,1008.76 911.975,1008.76 911.972,1008.75 911.969,1008.76 \n",
       "  \"/>\n",
       "<polyline clip-path=\"url(#clip2903)\" style=\"stroke:#fafda0; stroke-width:4; stroke-opacity:1; fill:none\" points=\"\n",
       "  911.97,1008.76 911.972,1008.76 911.974,1008.76 911.972,1008.75 911.97,1008.76 \n",
       "  \"/>\n",
       "<polyline clip-path=\"url(#clip2903)\" style=\"stroke:#fafda0; stroke-width:4; stroke-opacity:1; fill:none\" points=\"\n",
       "  911.971,1008.76 911.972,1008.76 911.972,1008.76 911.972,1008.76 911.971,1008.76 \n",
       "  \"/>\n",
       "<polyline clip-path=\"url(#clip2903)\" style=\"stroke:#fafda0; stroke-width:4; stroke-opacity:1; fill:none\" points=\"\n",
       "  904.417,1012.66 905.91,1013.62 907.405,1012.66 905.91,1011.7 904.417,1012.66 \n",
       "  \"/>\n",
       "<polyline clip-path=\"url(#clip2903)\" style=\"stroke:#fafda0; stroke-width:4; stroke-opacity:1; fill:none\" points=\"\n",
       "  905.86,1012.66 905.91,1012.69 905.961,1012.66 905.91,1012.63 905.86,1012.66 \n",
       "  \"/>\n",
       "<polyline clip-path=\"url(#clip2903)\" style=\"stroke:#fafda0; stroke-width:4; stroke-opacity:1; fill:none\" points=\"\n",
       "  905.91,1012.66 905.91,1012.66 905.911,1012.66 905.91,1012.66 905.91,1012.66 \n",
       "  \"/>\n",
       "<polyline clip-path=\"url(#clip2903)\" style=\"stroke:#fafda0; stroke-width:4; stroke-opacity:1; fill:none\" points=\"\n",
       "  898.359,1016.56 899.849,1017.52 901.34,1016.56 899.849,1015.6 898.359,1016.56 \n",
       "  \"/>\n",
       "<polyline clip-path=\"url(#clip2903)\" style=\"stroke:#fafda0; stroke-width:4; stroke-opacity:1; fill:none\" points=\"\n",
       "  899.802,1016.56 899.849,1016.59 899.896,1016.56 899.849,1016.53 899.802,1016.56 \n",
       "  \"/>\n",
       "<polyline clip-path=\"url(#clip2903)\" style=\"stroke:#fafda0; stroke-width:4; stroke-opacity:1; fill:none\" points=\"\n",
       "  892.305,1020.47 893.788,1021.42 895.273,1020.47 893.788,1019.51 892.305,1020.47 \n",
       "  \"/>\n",
       "<polyline clip-path=\"url(#clip2903)\" style=\"stroke:#fafda0; stroke-width:4; stroke-opacity:1; fill:none\" points=\"\n",
       "  893.747,1020.47 893.788,1020.49 893.828,1020.47 893.788,1020.44 893.747,1020.47 \n",
       "  \"/>\n",
       "<polyline clip-path=\"url(#clip2903)\" style=\"stroke:#fafda0; stroke-width:4; stroke-opacity:1; fill:none\" points=\"\n",
       "  886.254,1024.37 887.726,1025.32 889.201,1024.37 887.726,1023.42 886.254,1024.37 \n",
       "  \"/>\n",
       "<polyline clip-path=\"url(#clip2903)\" style=\"stroke:#fafda0; stroke-width:4; stroke-opacity:1; fill:none\" points=\"\n",
       "  887.696,1024.37 887.726,1024.39 887.757,1024.37 887.726,1024.35 887.696,1024.37 \n",
       "  \"/>\n",
       "<polyline clip-path=\"url(#clip2903)\" style=\"stroke:#fafda0; stroke-width:4; stroke-opacity:1; fill:none\" points=\"\n",
       "  880.211,1028.27 881.665,1029.21 883.125,1028.27 881.665,1027.33 880.211,1028.27 \n",
       "  \"/>\n",
       "<polyline clip-path=\"url(#clip2903)\" style=\"stroke:#fafda0; stroke-width:4; stroke-opacity:1; fill:none\" points=\"\n",
       "  881.651,1028.27 881.665,1028.28 881.679,1028.27 881.665,1028.26 881.651,1028.27 \n",
       "  \"/>\n",
       "<polyline clip-path=\"url(#clip2903)\" style=\"stroke:#fafda0; stroke-width:4; stroke-opacity:1; fill:none\" points=\"\n",
       "  874.176,1032.18 875.604,1033.1 877.039,1032.18 875.604,1031.25 874.176,1032.18 \n",
       "  \"/>\n",
       "<polyline clip-path=\"url(#clip2903)\" style=\"stroke:#fafda0; stroke-width:4; stroke-opacity:1; fill:none\" points=\"\n",
       "  868.157,1036.08 869.542,1036.97 870.939,1036.08 869.542,1035.18 868.157,1036.08 \n",
       "  \"/>\n",
       "<polyline clip-path=\"url(#clip2903)\" style=\"stroke:#fafda0; stroke-width:4; stroke-opacity:1; fill:none\" points=\"\n",
       "  862.161,1039.98 863.481,1040.83 864.818,1039.98 863.481,1039.12 862.161,1039.98 \n",
       "  \"/>\n",
       "<polyline clip-path=\"url(#clip2903)\" style=\"stroke:#fafda0; stroke-width:4; stroke-opacity:1; fill:none\" points=\"\n",
       "  856.199,1043.89 857.42,1044.67 858.664,1043.89 857.42,1043.09 856.199,1043.89 \n",
       "  \"/>\n",
       "<polyline clip-path=\"url(#clip2903)\" style=\"stroke:#fafda0; stroke-width:4; stroke-opacity:1; fill:none\" points=\"\n",
       "  850.287,1047.79 851.358,1048.48 852.462,1047.79 851.358,1047.08 850.287,1047.79 \n",
       "  \"/>\n",
       "<polyline clip-path=\"url(#clip2903)\" style=\"stroke:#fafda0; stroke-width:4; stroke-opacity:1; fill:none\" points=\"\n",
       "  844.446,1051.69 845.297,1052.24 846.186,1051.69 845.297,1051.12 844.446,1051.69 \n",
       "  \"/>\n",
       "<polyline clip-path=\"url(#clip2903)\" style=\"stroke:#fafda0; stroke-width:4; stroke-opacity:1; fill:none\" points=\"\n",
       "  838.706,1055.6 839.236,1055.94 839.801,1055.6 839.236,1055.23 838.706,1055.6 \n",
       "  \"/>\n",
       "<polyline clip-path=\"url(#clip2903)\" style=\"stroke:#fafda0; stroke-width:4; stroke-opacity:1; fill:none\" points=\"\n",
       "  833.103,1059.5 833.174,1059.55 833.253,1059.5 833.174,1059.45 833.103,1059.5 \n",
       "  \"/>\n",
       "<path clip-path=\"url(#clip2900)\" d=\"\n",
       "M2143.79 1487.47 L2352.76 1487.47 L2352.76 276.307 L2143.79 276.307  Z\n",
       "  \" fill=\"#ffffff\" fill-rule=\"evenodd\" fill-opacity=\"1\"/>\n",
       "<defs>\n",
       "  <clipPath id=\"clip2904\">\n",
       "    <rect x=\"2143\" y=\"276\" width=\"210\" height=\"1212\"/>\n",
       "  </clipPath>\n",
       "</defs>\n",
       "<polyline clip-path=\"url(#clip2900)\" style=\"stroke:#000000; stroke-width:4; stroke-opacity:1; fill:none\" points=\"\n",
       "  2143.79,1487.47 2352.76,1487.47 \n",
       "  \"/>\n",
       "<polyline clip-path=\"url(#clip2900)\" style=\"stroke:#000000; stroke-width:4; stroke-opacity:1; fill:none\" points=\"\n",
       "  2143.79,1487.47 2143.79,276.307 \n",
       "  \"/>\n",
       "<polyline clip-path=\"url(#clip2904)\" style=\"stroke:#009af9; stroke-width:4; stroke-opacity:1; fill:none\" points=\"\n",
       "  2143.8,1379.59 2143.8,1374.59 2143.81,1369.59 2143.82,1364.59 2143.83,1359.58 2143.84,1354.58 2143.86,1349.58 2143.89,1344.58 2143.93,1339.58 2143.99,1334.57 \n",
       "  2144.07,1329.57 2144.17,1324.57 2144.31,1319.57 2144.49,1314.57 2144.72,1309.56 2145.03,1304.56 2145.42,1299.56 2145.92,1294.56 2146.54,1289.56 2147.32,1284.55 \n",
       "  2148.27,1279.55 2149.43,1274.55 2150.83,1269.55 2152.5,1264.55 2154.48,1259.54 2156.8,1254.54 2159.48,1249.54 2162.57,1244.54 2166.07,1239.54 2170.02,1234.53 \n",
       "  2174.41,1229.53 2179.26,1224.53 2184.56,1219.53 2190.3,1214.53 2196.44,1209.52 2202.95,1204.52 2209.79,1199.52 2216.9,1194.52 2224.22,1189.52 2231.69,1184.51 \n",
       "  2239.22,1179.51 2246.75,1174.51 2254.2,1169.51 2261.5,1164.51 2268.58,1159.5 2275.39,1154.5 2281.86,1149.5 2287.95,1144.5 2293.64,1139.49 2298.88,1134.49 \n",
       "  2303.68,1129.49 2308.02,1124.49 2311.91,1119.49 2315.37,1114.48 2318.4,1109.48 2321.04,1104.48 2323.32,1099.48 2325.26,1094.48 2326.9,1089.47 2328.27,1084.47 \n",
       "  2329.4,1079.47 2330.33,1074.47 2331.09,1069.47 2331.7,1064.46 2332.18,1059.46 2332.56,1054.46 2332.86,1049.46 2333.09,1044.46 2333.26,1039.45 2333.4,1034.45 \n",
       "  2333.5,1029.45 2333.57,1024.45 2333.62,1019.45 2333.66,1014.44 2333.69,1009.44 2333.71,1004.44 2333.73,999.438 2333.74,994.436 2333.74,989.434 2333.75,984.432 \n",
       "  2333.75,979.43 2333.76,974.428 2333.76,969.426 2333.76,964.424 2333.76,959.422 2333.76,954.42 2333.76,949.418 2333.76,944.416 2333.76,939.414 2333.76,934.412 \n",
       "  2333.76,929.41 2333.76,924.408 2333.76,919.406 2333.76,914.404 2333.76,909.402 2333.76,904.4 2333.76,899.398 2333.76,894.396 2333.76,889.394 2333.76,884.392 \n",
       "  2333.76,879.39 2333.76,874.388 2333.76,869.386 2333.76,864.384 2333.76,859.382 2333.76,854.379 2333.76,849.377 2333.76,844.375 2333.76,839.373 2333.76,834.371 \n",
       "  2333.76,829.369 2333.76,824.367 2333.76,819.365 2333.76,814.363 2333.76,809.361 2333.76,804.359 2333.76,799.357 2333.76,794.355 2333.76,789.353 2333.75,784.351 \n",
       "  2333.75,779.349 2333.74,774.347 2333.74,769.345 2333.73,764.343 2333.71,759.341 2333.69,754.339 2333.66,749.337 2333.62,744.335 2333.57,739.333 2333.5,734.331 \n",
       "  2333.4,729.329 2333.26,724.327 2333.09,719.325 2332.86,714.323 2332.56,709.321 2332.18,704.319 2331.7,699.317 2331.09,694.315 2330.33,689.313 2329.4,684.311 \n",
       "  2328.27,679.309 2326.9,674.307 2325.26,669.305 2323.32,664.302 2321.04,659.3 2318.4,654.298 2315.37,649.296 2311.91,644.294 2308.02,639.292 2303.68,634.29 \n",
       "  2298.88,629.288 2293.64,624.286 2287.95,619.284 2281.86,614.282 2275.39,609.28 2268.58,604.278 2261.5,599.276 2254.2,594.274 2246.75,589.272 2239.22,584.27 \n",
       "  2231.69,579.268 2224.22,574.266 2216.9,569.264 2209.79,564.262 2202.95,559.26 2196.44,554.258 2190.3,549.256 2184.56,544.254 2179.26,539.252 2174.41,534.25 \n",
       "  2170.02,529.248 2166.07,524.246 2162.57,519.244 2159.48,514.242 2156.8,509.24 2154.48,504.238 2152.5,499.236 2150.83,494.234 2149.43,489.232 2148.27,484.23 \n",
       "  2147.32,479.228 2146.54,474.225 2145.92,469.223 2145.42,464.221 2145.03,459.219 2144.72,454.217 2144.49,449.215 2144.31,444.213 2144.17,439.211 2144.07,434.209 \n",
       "  2143.99,429.207 2143.93,424.205 2143.89,419.203 2143.86,414.201 2143.84,409.199 2143.83,404.197 2143.82,399.195 2143.81,394.193 2143.8,389.191 2143.8,384.189 \n",
       "  \n",
       "  \"/>\n",
       "</svg>\n"
      ]
     },
     "execution_count": 12,
     "metadata": {},
     "output_type": "execute_result"
    }
   ],
   "source": [
    "x = -7:0.05:7\n",
    "y = -7:0.05:7\n",
    "marginalkde(y,x,f)"
   ]
  },
  {
   "cell_type": "code",
   "execution_count": 13,
   "metadata": {},
   "outputs": [
    {
     "data": {
      "text/plain": [
       "condDist (generic function with 1 method)"
      ]
     },
     "execution_count": 13,
     "metadata": {},
     "output_type": "execute_result"
    }
   ],
   "source": [
    "function condDist(uHat,Σ)\n",
    "    # return mean and variance of u given uHat\n",
    "    condMean = uHat\n",
    "    condVar = Σ[2,2] - Σ[1,2]*Σ[1,2]/Σ[1,1]\n",
    "    return condMean,condVar\n",
    "end"
   ]
  },
  {
   "cell_type": "code",
   "execution_count": 14,
   "metadata": {},
   "outputs": [
    {
     "data": {
      "image/svg+xml": [
       "<?xml version=\"1.0\" encoding=\"utf-8\"?>\n",
       "<svg xmlns=\"http://www.w3.org/2000/svg\" xmlns:xlink=\"http://www.w3.org/1999/xlink\" width=\"600\" height=\"400\" viewBox=\"0 0 2400 1600\">\n",
       "<defs>\n",
       "  <clipPath id=\"clip3300\">\n",
       "    <rect x=\"0\" y=\"0\" width=\"2400\" height=\"1600\"/>\n",
       "  </clipPath>\n",
       "</defs>\n",
       "<path clip-path=\"url(#clip3300)\" d=\"\n",
       "M0 1600 L2400 1600 L2400 0 L0 0  Z\n",
       "  \" fill=\"#ffffff\" fill-rule=\"evenodd\" fill-opacity=\"1\"/>\n",
       "<defs>\n",
       "  <clipPath id=\"clip3301\">\n",
       "    <rect x=\"480\" y=\"0\" width=\"1681\" height=\"1600\"/>\n",
       "  </clipPath>\n",
       "</defs>\n",
       "<path clip-path=\"url(#clip3300)\" d=\"\n",
       "M153.898 1487.47 L2352.76 1487.47 L2352.76 47.2441 L153.898 47.2441  Z\n",
       "  \" fill=\"#ffffff\" fill-rule=\"evenodd\" fill-opacity=\"1\"/>\n",
       "<defs>\n",
       "  <clipPath id=\"clip3302\">\n",
       "    <rect x=\"153\" y=\"47\" width=\"2200\" height=\"1441\"/>\n",
       "  </clipPath>\n",
       "</defs>\n",
       "<polyline clip-path=\"url(#clip3302)\" style=\"stroke:#000000; stroke-width:2; stroke-opacity:0.1; fill:none\" points=\"\n",
       "  416.656,1487.47 416.656,47.2441 \n",
       "  \"/>\n",
       "<polyline clip-path=\"url(#clip3302)\" style=\"stroke:#000000; stroke-width:2; stroke-opacity:0.1; fill:none\" points=\"\n",
       "  695.547,1487.47 695.547,47.2441 \n",
       "  \"/>\n",
       "<polyline clip-path=\"url(#clip3302)\" style=\"stroke:#000000; stroke-width:2; stroke-opacity:0.1; fill:none\" points=\"\n",
       "  974.437,1487.47 974.437,47.2441 \n",
       "  \"/>\n",
       "<polyline clip-path=\"url(#clip3302)\" style=\"stroke:#000000; stroke-width:2; stroke-opacity:0.1; fill:none\" points=\"\n",
       "  1253.33,1487.47 1253.33,47.2441 \n",
       "  \"/>\n",
       "<polyline clip-path=\"url(#clip3302)\" style=\"stroke:#000000; stroke-width:2; stroke-opacity:0.1; fill:none\" points=\"\n",
       "  1532.22,1487.47 1532.22,47.2441 \n",
       "  \"/>\n",
       "<polyline clip-path=\"url(#clip3302)\" style=\"stroke:#000000; stroke-width:2; stroke-opacity:0.1; fill:none\" points=\"\n",
       "  1811.11,1487.47 1811.11,47.2441 \n",
       "  \"/>\n",
       "<polyline clip-path=\"url(#clip3302)\" style=\"stroke:#000000; stroke-width:2; stroke-opacity:0.1; fill:none\" points=\"\n",
       "  2090,1487.47 2090,47.2441 \n",
       "  \"/>\n",
       "<polyline clip-path=\"url(#clip3302)\" style=\"stroke:#000000; stroke-width:2; stroke-opacity:0.1; fill:none\" points=\"\n",
       "  153.898,1448.06 2352.76,1448.06 \n",
       "  \"/>\n",
       "<polyline clip-path=\"url(#clip3302)\" style=\"stroke:#000000; stroke-width:2; stroke-opacity:0.1; fill:none\" points=\"\n",
       "  153.898,1107.09 2352.76,1107.09 \n",
       "  \"/>\n",
       "<polyline clip-path=\"url(#clip3302)\" style=\"stroke:#000000; stroke-width:2; stroke-opacity:0.1; fill:none\" points=\"\n",
       "  153.898,766.116 2352.76,766.116 \n",
       "  \"/>\n",
       "<polyline clip-path=\"url(#clip3302)\" style=\"stroke:#000000; stroke-width:2; stroke-opacity:0.1; fill:none\" points=\"\n",
       "  153.898,425.143 2352.76,425.143 \n",
       "  \"/>\n",
       "<polyline clip-path=\"url(#clip3302)\" style=\"stroke:#000000; stroke-width:2; stroke-opacity:0.1; fill:none\" points=\"\n",
       "  153.898,84.1697 2352.76,84.1697 \n",
       "  \"/>\n",
       "<polyline clip-path=\"url(#clip3300)\" style=\"stroke:#000000; stroke-width:4; stroke-opacity:1; fill:none\" points=\"\n",
       "  153.898,1487.47 2352.76,1487.47 \n",
       "  \"/>\n",
       "<polyline clip-path=\"url(#clip3300)\" style=\"stroke:#000000; stroke-width:4; stroke-opacity:1; fill:none\" points=\"\n",
       "  153.898,1487.47 153.898,47.2441 \n",
       "  \"/>\n",
       "<polyline clip-path=\"url(#clip3300)\" style=\"stroke:#000000; stroke-width:4; stroke-opacity:1; fill:none\" points=\"\n",
       "  416.656,1487.47 416.656,1470.19 \n",
       "  \"/>\n",
       "<polyline clip-path=\"url(#clip3300)\" style=\"stroke:#000000; stroke-width:4; stroke-opacity:1; fill:none\" points=\"\n",
       "  695.547,1487.47 695.547,1470.19 \n",
       "  \"/>\n",
       "<polyline clip-path=\"url(#clip3300)\" style=\"stroke:#000000; stroke-width:4; stroke-opacity:1; fill:none\" points=\"\n",
       "  974.437,1487.47 974.437,1470.19 \n",
       "  \"/>\n",
       "<polyline clip-path=\"url(#clip3300)\" style=\"stroke:#000000; stroke-width:4; stroke-opacity:1; fill:none\" points=\"\n",
       "  1253.33,1487.47 1253.33,1470.19 \n",
       "  \"/>\n",
       "<polyline clip-path=\"url(#clip3300)\" style=\"stroke:#000000; stroke-width:4; stroke-opacity:1; fill:none\" points=\"\n",
       "  1532.22,1487.47 1532.22,1470.19 \n",
       "  \"/>\n",
       "<polyline clip-path=\"url(#clip3300)\" style=\"stroke:#000000; stroke-width:4; stroke-opacity:1; fill:none\" points=\"\n",
       "  1811.11,1487.47 1811.11,1470.19 \n",
       "  \"/>\n",
       "<polyline clip-path=\"url(#clip3300)\" style=\"stroke:#000000; stroke-width:4; stroke-opacity:1; fill:none\" points=\"\n",
       "  2090,1487.47 2090,1470.19 \n",
       "  \"/>\n",
       "<polyline clip-path=\"url(#clip3300)\" style=\"stroke:#000000; stroke-width:4; stroke-opacity:1; fill:none\" points=\"\n",
       "  153.898,1448.06 180.284,1448.06 \n",
       "  \"/>\n",
       "<polyline clip-path=\"url(#clip3300)\" style=\"stroke:#000000; stroke-width:4; stroke-opacity:1; fill:none\" points=\"\n",
       "  153.898,1107.09 180.284,1107.09 \n",
       "  \"/>\n",
       "<polyline clip-path=\"url(#clip3300)\" style=\"stroke:#000000; stroke-width:4; stroke-opacity:1; fill:none\" points=\"\n",
       "  153.898,766.116 180.284,766.116 \n",
       "  \"/>\n",
       "<polyline clip-path=\"url(#clip3300)\" style=\"stroke:#000000; stroke-width:4; stroke-opacity:1; fill:none\" points=\"\n",
       "  153.898,425.143 180.284,425.143 \n",
       "  \"/>\n",
       "<polyline clip-path=\"url(#clip3300)\" style=\"stroke:#000000; stroke-width:4; stroke-opacity:1; fill:none\" points=\"\n",
       "  153.898,84.1697 180.284,84.1697 \n",
       "  \"/>\n",
       "<g clip-path=\"url(#clip3300)\">\n",
       "<text style=\"fill:#000000; fill-opacity:1; font-family:Arial,Helvetica Neue,Helvetica,sans-serif; font-size:48px; text-anchor:middle;\" transform=\"rotate(0, 416.656, 1541.47)\" x=\"416.656\" y=\"1541.47\">-3</text>\n",
       "</g>\n",
       "<g clip-path=\"url(#clip3300)\">\n",
       "<text style=\"fill:#000000; fill-opacity:1; font-family:Arial,Helvetica Neue,Helvetica,sans-serif; font-size:48px; text-anchor:middle;\" transform=\"rotate(0, 695.547, 1541.47)\" x=\"695.547\" y=\"1541.47\">-2</text>\n",
       "</g>\n",
       "<g clip-path=\"url(#clip3300)\">\n",
       "<text style=\"fill:#000000; fill-opacity:1; font-family:Arial,Helvetica Neue,Helvetica,sans-serif; font-size:48px; text-anchor:middle;\" transform=\"rotate(0, 974.437, 1541.47)\" x=\"974.437\" y=\"1541.47\">-1</text>\n",
       "</g>\n",
       "<g clip-path=\"url(#clip3300)\">\n",
       "<text style=\"fill:#000000; fill-opacity:1; font-family:Arial,Helvetica Neue,Helvetica,sans-serif; font-size:48px; text-anchor:middle;\" transform=\"rotate(0, 1253.33, 1541.47)\" x=\"1253.33\" y=\"1541.47\">0</text>\n",
       "</g>\n",
       "<g clip-path=\"url(#clip3300)\">\n",
       "<text style=\"fill:#000000; fill-opacity:1; font-family:Arial,Helvetica Neue,Helvetica,sans-serif; font-size:48px; text-anchor:middle;\" transform=\"rotate(0, 1532.22, 1541.47)\" x=\"1532.22\" y=\"1541.47\">1</text>\n",
       "</g>\n",
       "<g clip-path=\"url(#clip3300)\">\n",
       "<text style=\"fill:#000000; fill-opacity:1; font-family:Arial,Helvetica Neue,Helvetica,sans-serif; font-size:48px; text-anchor:middle;\" transform=\"rotate(0, 1811.11, 1541.47)\" x=\"1811.11\" y=\"1541.47\">2</text>\n",
       "</g>\n",
       "<g clip-path=\"url(#clip3300)\">\n",
       "<text style=\"fill:#000000; fill-opacity:1; font-family:Arial,Helvetica Neue,Helvetica,sans-serif; font-size:48px; text-anchor:middle;\" transform=\"rotate(0, 2090, 1541.47)\" x=\"2090\" y=\"1541.47\">3</text>\n",
       "</g>\n",
       "<g clip-path=\"url(#clip3300)\">\n",
       "<text style=\"fill:#000000; fill-opacity:1; font-family:Arial,Helvetica Neue,Helvetica,sans-serif; font-size:48px; text-anchor:end;\" transform=\"rotate(0, 129.898, 1465.56)\" x=\"129.898\" y=\"1465.56\">0.0</text>\n",
       "</g>\n",
       "<g clip-path=\"url(#clip3300)\">\n",
       "<text style=\"fill:#000000; fill-opacity:1; font-family:Arial,Helvetica Neue,Helvetica,sans-serif; font-size:48px; text-anchor:end;\" transform=\"rotate(0, 129.898, 1124.59)\" x=\"129.898\" y=\"1124.59\">0.1</text>\n",
       "</g>\n",
       "<g clip-path=\"url(#clip3300)\">\n",
       "<text style=\"fill:#000000; fill-opacity:1; font-family:Arial,Helvetica Neue,Helvetica,sans-serif; font-size:48px; text-anchor:end;\" transform=\"rotate(0, 129.898, 783.616)\" x=\"129.898\" y=\"783.616\">0.2</text>\n",
       "</g>\n",
       "<g clip-path=\"url(#clip3300)\">\n",
       "<text style=\"fill:#000000; fill-opacity:1; font-family:Arial,Helvetica Neue,Helvetica,sans-serif; font-size:48px; text-anchor:end;\" transform=\"rotate(0, 129.898, 442.643)\" x=\"129.898\" y=\"442.643\">0.3</text>\n",
       "</g>\n",
       "<g clip-path=\"url(#clip3300)\">\n",
       "<text style=\"fill:#000000; fill-opacity:1; font-family:Arial,Helvetica Neue,Helvetica,sans-serif; font-size:48px; text-anchor:end;\" transform=\"rotate(0, 129.898, 101.67)\" x=\"129.898\" y=\"101.67\">0.4</text>\n",
       "</g>\n",
       "<polyline clip-path=\"url(#clip3302)\" style=\"stroke:#009af9; stroke-width:4; stroke-opacity:1; fill:none\" points=\"\n",
       "  216.13,1446.71 226.259,1446.52 236.388,1446.3 330.046,1442.39 423.704,1431.77 479.988,1418.96 536.273,1398.16 583.861,1371.79 631.449,1334.84 657.296,1309.44 \n",
       "  683.142,1279.8 708.989,1245.57 734.836,1206.46 758.665,1165.9 782.493,1120.93 806.322,1071.54 830.15,1017.86 881.244,889.446 932.337,746.646 991.534,572.493 \n",
       "  1050.73,403.248 1077.03,334.12 1103.34,270.936 1129.64,215.183 1155.94,168.226 1179.01,135.224 1202.08,110.552 1225.14,94.705 1248.21,88.0053 1273.36,91.2797 \n",
       "  1298.5,105.507 1323.65,130.343 1348.8,165.193 1374.1,209.522 1399.39,262.117 1424.69,321.784 1449.99,387.214 1505.93,545.472 1561.87,710.403 1615.09,861.583 \n",
       "  1668.32,998.457 1695.99,1062.07 1723.66,1119.93 1751.33,1171.85 1779,1217.83 1825.58,1282.35 1872.17,1332.06 1929.05,1375.8 1985.92,1404.88 2039.39,1422.44 \n",
       "  2092.85,1433.41 2178.51,1442.52 2264.16,1446.15 2277.34,1446.46 2290.52,1446.71 \n",
       "  \"/>\n",
       "<path clip-path=\"url(#clip3300)\" d=\"\n",
       "M1989.93 251.724 L2280.76 251.724 L2280.76 130.764 L1989.93 130.764  Z\n",
       "  \" fill=\"#ffffff\" fill-rule=\"evenodd\" fill-opacity=\"1\"/>\n",
       "<polyline clip-path=\"url(#clip3300)\" style=\"stroke:#000000; stroke-width:4; stroke-opacity:1; fill:none\" points=\"\n",
       "  1989.93,251.724 2280.76,251.724 2280.76,130.764 1989.93,130.764 1989.93,251.724 \n",
       "  \"/>\n",
       "<polyline clip-path=\"url(#clip3300)\" style=\"stroke:#009af9; stroke-width:4; stroke-opacity:1; fill:none\" points=\"\n",
       "  2013.93,191.244 2157.93,191.244 \n",
       "  \"/>\n",
       "<g clip-path=\"url(#clip3300)\">\n",
       "<text style=\"fill:#000000; fill-opacity:1; font-family:Arial,Helvetica Neue,Helvetica,sans-serif; font-size:48px; text-anchor:start;\" transform=\"rotate(0, 2181.93, 208.744)\" x=\"2181.93\" y=\"208.744\">y1</text>\n",
       "</g>\n",
       "</svg>\n"
      ]
     },
     "execution_count": 14,
     "metadata": {},
     "output_type": "execute_result"
    }
   ],
   "source": [
    "plot(Normal(condDist(0.0,Σ)...))"
   ]
  },
  {
   "cell_type": "code",
   "execution_count": 15,
   "metadata": {},
   "outputs": [
    {
     "data": {
      "text/plain": [
       "myPdf (generic function with 1 method)"
      ]
     },
     "execution_count": 15,
     "metadata": {},
     "output_type": "execute_result"
    }
   ],
   "source": [
    "myPdf(x) = pdf(Normal(condDist(0.0,Σ)...),-3:0.1:3) .+ x"
   ]
  },
  {
   "cell_type": "code",
   "execution_count": 16,
   "metadata": {},
   "outputs": [
    {
     "data": {
      "text/plain": [
       "61-element Vector{Float64}:\n",
       " 1.004431848411938\n",
       " 1.0059525324197758\n",
       " 1.00791545158298\n",
       " 1.0104209348144226\n",
       " 1.0135829692336855\n",
       " 1.0175283004935685\n",
       " 1.022394530294843\n",
       " 1.0283270377416012\n",
       " 1.0354745928462314\n",
       " 1.0439835959804271\n",
       " 1.0539909665131881\n",
       " 1.0656158147746766\n",
       " 1.0789501583008942\n",
       " ⋮\n",
       " 1.0656158147746766\n",
       " 1.0539909665131881\n",
       " 1.0439835959804271\n",
       " 1.0354745928462314\n",
       " 1.0283270377416012\n",
       " 1.022394530294843\n",
       " 1.0175283004935685\n",
       " 1.0135829692336855\n",
       " 1.0104209348144226\n",
       " 1.00791545158298\n",
       " 1.0059525324197758\n",
       " 1.004431848411938"
      ]
     },
     "execution_count": 16,
     "metadata": {},
     "output_type": "execute_result"
    }
   ],
   "source": [
    "myPdf(1.0)"
   ]
  },
  {
   "cell_type": "code",
   "execution_count": 17,
   "metadata": {},
   "outputs": [
    {
     "data": {
      "image/svg+xml": [
       "<?xml version=\"1.0\" encoding=\"utf-8\"?>\n",
       "<svg xmlns=\"http://www.w3.org/2000/svg\" xmlns:xlink=\"http://www.w3.org/1999/xlink\" width=\"600\" height=\"400\" viewBox=\"0 0 2400 1600\">\n",
       "<defs>\n",
       "  <clipPath id=\"clip3700\">\n",
       "    <rect x=\"0\" y=\"0\" width=\"2400\" height=\"1600\"/>\n",
       "  </clipPath>\n",
       "</defs>\n",
       "<path clip-path=\"url(#clip3700)\" d=\"\n",
       "M0 1600 L2400 1600 L2400 0 L0 0  Z\n",
       "  \" fill=\"#ffffff\" fill-rule=\"evenodd\" fill-opacity=\"1\"/>\n",
       "<defs>\n",
       "  <clipPath id=\"clip3701\">\n",
       "    <rect x=\"480\" y=\"0\" width=\"1681\" height=\"1600\"/>\n",
       "  </clipPath>\n",
       "</defs>\n",
       "<path clip-path=\"url(#clip3700)\" d=\"\n",
       "M153.898 1487.47 L2352.76 1487.47 L2352.76 47.2441 L153.898 47.2441  Z\n",
       "  \" fill=\"#ffffff\" fill-rule=\"evenodd\" fill-opacity=\"1\"/>\n",
       "<defs>\n",
       "  <clipPath id=\"clip3702\">\n",
       "    <rect x=\"153\" y=\"47\" width=\"2200\" height=\"1441\"/>\n",
       "  </clipPath>\n",
       "</defs>\n",
       "<polyline clip-path=\"url(#clip3702)\" style=\"stroke:#000000; stroke-width:2; stroke-opacity:0.1; fill:none\" points=\"\n",
       "  216.13,1487.47 216.13,47.2441 \n",
       "  \"/>\n",
       "<polyline clip-path=\"url(#clip3702)\" style=\"stroke:#000000; stroke-width:2; stroke-opacity:0.1; fill:none\" points=\"\n",
       "  561.862,1487.47 561.862,47.2441 \n",
       "  \"/>\n",
       "<polyline clip-path=\"url(#clip3702)\" style=\"stroke:#000000; stroke-width:2; stroke-opacity:0.1; fill:none\" points=\"\n",
       "  907.595,1487.47 907.595,47.2441 \n",
       "  \"/>\n",
       "<polyline clip-path=\"url(#clip3702)\" style=\"stroke:#000000; stroke-width:2; stroke-opacity:0.1; fill:none\" points=\"\n",
       "  1253.33,1487.47 1253.33,47.2441 \n",
       "  \"/>\n",
       "<polyline clip-path=\"url(#clip3702)\" style=\"stroke:#000000; stroke-width:2; stroke-opacity:0.1; fill:none\" points=\"\n",
       "  1599.06,1487.47 1599.06,47.2441 \n",
       "  \"/>\n",
       "<polyline clip-path=\"url(#clip3702)\" style=\"stroke:#000000; stroke-width:2; stroke-opacity:0.1; fill:none\" points=\"\n",
       "  1944.79,1487.47 1944.79,47.2441 \n",
       "  \"/>\n",
       "<polyline clip-path=\"url(#clip3702)\" style=\"stroke:#000000; stroke-width:2; stroke-opacity:0.1; fill:none\" points=\"\n",
       "  2290.52,1487.47 2290.52,47.2441 \n",
       "  \"/>\n",
       "<polyline clip-path=\"url(#clip3702)\" style=\"stroke:#000000; stroke-width:2; stroke-opacity:0.1; fill:none\" points=\"\n",
       "  153.898,1461.98 2352.76,1461.98 \n",
       "  \"/>\n",
       "<polyline clip-path=\"url(#clip3702)\" style=\"stroke:#000000; stroke-width:2; stroke-opacity:0.1; fill:none\" points=\"\n",
       "  153.898,1117.57 2352.76,1117.57 \n",
       "  \"/>\n",
       "<polyline clip-path=\"url(#clip3702)\" style=\"stroke:#000000; stroke-width:2; stroke-opacity:0.1; fill:none\" points=\"\n",
       "  153.898,773.17 2352.76,773.17 \n",
       "  \"/>\n",
       "<polyline clip-path=\"url(#clip3702)\" style=\"stroke:#000000; stroke-width:2; stroke-opacity:0.1; fill:none\" points=\"\n",
       "  153.898,428.766 2352.76,428.766 \n",
       "  \"/>\n",
       "<polyline clip-path=\"url(#clip3702)\" style=\"stroke:#000000; stroke-width:2; stroke-opacity:0.1; fill:none\" points=\"\n",
       "  153.898,84.3625 2352.76,84.3625 \n",
       "  \"/>\n",
       "<polyline clip-path=\"url(#clip3700)\" style=\"stroke:#000000; stroke-width:4; stroke-opacity:1; fill:none\" points=\"\n",
       "  153.898,1487.47 2352.76,1487.47 \n",
       "  \"/>\n",
       "<polyline clip-path=\"url(#clip3700)\" style=\"stroke:#000000; stroke-width:4; stroke-opacity:1; fill:none\" points=\"\n",
       "  153.898,1487.47 153.898,47.2441 \n",
       "  \"/>\n",
       "<polyline clip-path=\"url(#clip3700)\" style=\"stroke:#000000; stroke-width:4; stroke-opacity:1; fill:none\" points=\"\n",
       "  216.13,1487.47 216.13,1470.19 \n",
       "  \"/>\n",
       "<polyline clip-path=\"url(#clip3700)\" style=\"stroke:#000000; stroke-width:4; stroke-opacity:1; fill:none\" points=\"\n",
       "  561.862,1487.47 561.862,1470.19 \n",
       "  \"/>\n",
       "<polyline clip-path=\"url(#clip3700)\" style=\"stroke:#000000; stroke-width:4; stroke-opacity:1; fill:none\" points=\"\n",
       "  907.595,1487.47 907.595,1470.19 \n",
       "  \"/>\n",
       "<polyline clip-path=\"url(#clip3700)\" style=\"stroke:#000000; stroke-width:4; stroke-opacity:1; fill:none\" points=\"\n",
       "  1253.33,1487.47 1253.33,1470.19 \n",
       "  \"/>\n",
       "<polyline clip-path=\"url(#clip3700)\" style=\"stroke:#000000; stroke-width:4; stroke-opacity:1; fill:none\" points=\"\n",
       "  1599.06,1487.47 1599.06,1470.19 \n",
       "  \"/>\n",
       "<polyline clip-path=\"url(#clip3700)\" style=\"stroke:#000000; stroke-width:4; stroke-opacity:1; fill:none\" points=\"\n",
       "  1944.79,1487.47 1944.79,1470.19 \n",
       "  \"/>\n",
       "<polyline clip-path=\"url(#clip3700)\" style=\"stroke:#000000; stroke-width:4; stroke-opacity:1; fill:none\" points=\"\n",
       "  2290.52,1487.47 2290.52,1470.19 \n",
       "  \"/>\n",
       "<polyline clip-path=\"url(#clip3700)\" style=\"stroke:#000000; stroke-width:4; stroke-opacity:1; fill:none\" points=\"\n",
       "  153.898,1461.98 180.284,1461.98 \n",
       "  \"/>\n",
       "<polyline clip-path=\"url(#clip3700)\" style=\"stroke:#000000; stroke-width:4; stroke-opacity:1; fill:none\" points=\"\n",
       "  153.898,1117.57 180.284,1117.57 \n",
       "  \"/>\n",
       "<polyline clip-path=\"url(#clip3700)\" style=\"stroke:#000000; stroke-width:4; stroke-opacity:1; fill:none\" points=\"\n",
       "  153.898,773.17 180.284,773.17 \n",
       "  \"/>\n",
       "<polyline clip-path=\"url(#clip3700)\" style=\"stroke:#000000; stroke-width:4; stroke-opacity:1; fill:none\" points=\"\n",
       "  153.898,428.766 180.284,428.766 \n",
       "  \"/>\n",
       "<polyline clip-path=\"url(#clip3700)\" style=\"stroke:#000000; stroke-width:4; stroke-opacity:1; fill:none\" points=\"\n",
       "  153.898,84.3625 180.284,84.3625 \n",
       "  \"/>\n",
       "<g clip-path=\"url(#clip3700)\">\n",
       "<text style=\"fill:#000000; fill-opacity:1; font-family:Arial,Helvetica Neue,Helvetica,sans-serif; font-size:48px; text-anchor:middle;\" transform=\"rotate(0, 216.13, 1541.47)\" x=\"216.13\" y=\"1541.47\">-3</text>\n",
       "</g>\n",
       "<g clip-path=\"url(#clip3700)\">\n",
       "<text style=\"fill:#000000; fill-opacity:1; font-family:Arial,Helvetica Neue,Helvetica,sans-serif; font-size:48px; text-anchor:middle;\" transform=\"rotate(0, 561.862, 1541.47)\" x=\"561.862\" y=\"1541.47\">-2</text>\n",
       "</g>\n",
       "<g clip-path=\"url(#clip3700)\">\n",
       "<text style=\"fill:#000000; fill-opacity:1; font-family:Arial,Helvetica Neue,Helvetica,sans-serif; font-size:48px; text-anchor:middle;\" transform=\"rotate(0, 907.595, 1541.47)\" x=\"907.595\" y=\"1541.47\">-1</text>\n",
       "</g>\n",
       "<g clip-path=\"url(#clip3700)\">\n",
       "<text style=\"fill:#000000; fill-opacity:1; font-family:Arial,Helvetica Neue,Helvetica,sans-serif; font-size:48px; text-anchor:middle;\" transform=\"rotate(0, 1253.33, 1541.47)\" x=\"1253.33\" y=\"1541.47\">0</text>\n",
       "</g>\n",
       "<g clip-path=\"url(#clip3700)\">\n",
       "<text style=\"fill:#000000; fill-opacity:1; font-family:Arial,Helvetica Neue,Helvetica,sans-serif; font-size:48px; text-anchor:middle;\" transform=\"rotate(0, 1599.06, 1541.47)\" x=\"1599.06\" y=\"1541.47\">1</text>\n",
       "</g>\n",
       "<g clip-path=\"url(#clip3700)\">\n",
       "<text style=\"fill:#000000; fill-opacity:1; font-family:Arial,Helvetica Neue,Helvetica,sans-serif; font-size:48px; text-anchor:middle;\" transform=\"rotate(0, 1944.79, 1541.47)\" x=\"1944.79\" y=\"1541.47\">2</text>\n",
       "</g>\n",
       "<g clip-path=\"url(#clip3700)\">\n",
       "<text style=\"fill:#000000; fill-opacity:1; font-family:Arial,Helvetica Neue,Helvetica,sans-serif; font-size:48px; text-anchor:middle;\" transform=\"rotate(0, 2290.52, 1541.47)\" x=\"2290.52\" y=\"1541.47\">3</text>\n",
       "</g>\n",
       "<g clip-path=\"url(#clip3700)\">\n",
       "<text style=\"fill:#000000; fill-opacity:1; font-family:Arial,Helvetica Neue,Helvetica,sans-serif; font-size:48px; text-anchor:end;\" transform=\"rotate(0, 129.898, 1479.48)\" x=\"129.898\" y=\"1479.48\">0.0</text>\n",
       "</g>\n",
       "<g clip-path=\"url(#clip3700)\">\n",
       "<text style=\"fill:#000000; fill-opacity:1; font-family:Arial,Helvetica Neue,Helvetica,sans-serif; font-size:48px; text-anchor:end;\" transform=\"rotate(0, 129.898, 1135.07)\" x=\"129.898\" y=\"1135.07\">0.1</text>\n",
       "</g>\n",
       "<g clip-path=\"url(#clip3700)\">\n",
       "<text style=\"fill:#000000; fill-opacity:1; font-family:Arial,Helvetica Neue,Helvetica,sans-serif; font-size:48px; text-anchor:end;\" transform=\"rotate(0, 129.898, 790.67)\" x=\"129.898\" y=\"790.67\">0.2</text>\n",
       "</g>\n",
       "<g clip-path=\"url(#clip3700)\">\n",
       "<text style=\"fill:#000000; fill-opacity:1; font-family:Arial,Helvetica Neue,Helvetica,sans-serif; font-size:48px; text-anchor:end;\" transform=\"rotate(0, 129.898, 446.266)\" x=\"129.898\" y=\"446.266\">0.3</text>\n",
       "</g>\n",
       "<g clip-path=\"url(#clip3700)\">\n",
       "<text style=\"fill:#000000; fill-opacity:1; font-family:Arial,Helvetica Neue,Helvetica,sans-serif; font-size:48px; text-anchor:end;\" transform=\"rotate(0, 129.898, 101.863)\" x=\"129.898\" y=\"101.863\">0.4</text>\n",
       "</g>\n",
       "<polyline clip-path=\"url(#clip3702)\" style=\"stroke:#009af9; stroke-width:4; stroke-opacity:1; fill:none\" points=\"\n",
       "  216.13,1446.71 250.703,1441.48 285.276,1434.72 319.85,1426.09 354.423,1415.2 388.996,1401.61 423.569,1384.85 458.142,1364.42 492.716,1339.8 527.289,1310.5 \n",
       "  561.862,1276.03 596.435,1235.99 631.009,1190.07 665.582,1138.07 700.155,1079.96 734.728,1015.91 769.302,946.31 803.875,871.777 838.448,793.193 873.021,711.686 \n",
       "  907.595,628.621 942.168,545.57 976.741,464.269 1011.31,386.563 1045.89,314.339 1080.46,249.451 1115.03,193.641 1149.61,148.464 1184.18,115.212 1218.75,94.8581 \n",
       "  1253.33,88.0053 1287.9,94.8581 1322.47,115.212 1357.05,148.464 1391.62,193.641 1426.19,249.451 1460.77,314.339 1495.34,386.563 1529.91,464.269 1564.49,545.57 \n",
       "  1599.06,628.621 1633.63,711.686 1668.21,793.193 1702.78,871.777 1737.35,946.31 1771.93,1015.91 1806.5,1079.96 1841.07,1138.07 1875.65,1190.07 1910.22,1235.99 \n",
       "  1944.79,1276.03 1979.36,1310.5 2013.94,1339.8 2048.51,1364.42 2083.08,1384.85 2117.66,1401.61 2152.23,1415.2 2186.8,1426.09 2221.38,1434.72 2255.95,1441.48 \n",
       "  2290.52,1446.71 \n",
       "  \"/>\n",
       "<path clip-path=\"url(#clip3700)\" d=\"\n",
       "M1989.93 251.724 L2280.76 251.724 L2280.76 130.764 L1989.93 130.764  Z\n",
       "  \" fill=\"#ffffff\" fill-rule=\"evenodd\" fill-opacity=\"1\"/>\n",
       "<polyline clip-path=\"url(#clip3700)\" style=\"stroke:#000000; stroke-width:4; stroke-opacity:1; fill:none\" points=\"\n",
       "  1989.93,251.724 2280.76,251.724 2280.76,130.764 1989.93,130.764 1989.93,251.724 \n",
       "  \"/>\n",
       "<polyline clip-path=\"url(#clip3700)\" style=\"stroke:#009af9; stroke-width:4; stroke-opacity:1; fill:none\" points=\"\n",
       "  2013.93,191.244 2157.93,191.244 \n",
       "  \"/>\n",
       "<g clip-path=\"url(#clip3700)\">\n",
       "<text style=\"fill:#000000; fill-opacity:1; font-family:Arial,Helvetica Neue,Helvetica,sans-serif; font-size:48px; text-anchor:start;\" transform=\"rotate(0, 2181.93, 208.744)\" x=\"2181.93\" y=\"208.744\">y1</text>\n",
       "</g>\n",
       "</svg>\n"
      ]
     },
     "execution_count": 17,
     "metadata": {},
     "output_type": "execute_result"
    }
   ],
   "source": [
    "plot(-3:0.1:3.0,pdf(Normal(condDist(0.0,Σ)...),-3:0.1:3))"
   ]
  },
  {
   "cell_type": "code",
   "execution_count": 18,
   "metadata": {},
   "outputs": [],
   "source": [
    "for x = 0.1:0.1:1.0\n",
    " plot!(-3+x:0.1:3+x,pdf(Normal(condDist(0.0,Σ)...),-3:0.1:3) .+ x)\n",
    "end    "
   ]
  },
  {
   "cell_type": "code",
   "execution_count": 19,
   "metadata": {},
   "outputs": [
    {
     "data": {
      "image/svg+xml": [
       "<?xml version=\"1.0\" encoding=\"utf-8\"?>\n",
       "<svg xmlns=\"http://www.w3.org/2000/svg\" xmlns:xlink=\"http://www.w3.org/1999/xlink\" width=\"600\" height=\"400\" viewBox=\"0 0 2400 1600\">\n",
       "<defs>\n",
       "  <clipPath id=\"clip4100\">\n",
       "    <rect x=\"0\" y=\"0\" width=\"2400\" height=\"1600\"/>\n",
       "  </clipPath>\n",
       "</defs>\n",
       "<path clip-path=\"url(#clip4100)\" d=\"\n",
       "M0 1600 L2400 1600 L2400 0 L0 0  Z\n",
       "  \" fill=\"#ffffff\" fill-rule=\"evenodd\" fill-opacity=\"1\"/>\n",
       "<defs>\n",
       "  <clipPath id=\"clip4101\">\n",
       "    <rect x=\"480\" y=\"0\" width=\"1681\" height=\"1600\"/>\n",
       "  </clipPath>\n",
       "</defs>\n",
       "<path clip-path=\"url(#clip4100)\" d=\"\n",
       "M180.66 1487.47 L2352.76 1487.47 L2352.76 47.2441 L180.66 47.2441  Z\n",
       "  \" fill=\"#ffffff\" fill-rule=\"evenodd\" fill-opacity=\"1\"/>\n",
       "<defs>\n",
       "  <clipPath id=\"clip4102\">\n",
       "    <rect x=\"180\" y=\"47\" width=\"2173\" height=\"1441\"/>\n",
       "  </clipPath>\n",
       "</defs>\n",
       "<polyline clip-path=\"url(#clip4102)\" style=\"stroke:#000000; stroke-width:2; stroke-opacity:0.1; fill:none\" points=\"\n",
       "  534.87,1487.47 534.87,47.2441 \n",
       "  \"/>\n",
       "<polyline clip-path=\"url(#clip4102)\" style=\"stroke:#000000; stroke-width:2; stroke-opacity:0.1; fill:none\" points=\"\n",
       "  1120.34,1487.47 1120.34,47.2441 \n",
       "  \"/>\n",
       "<polyline clip-path=\"url(#clip4102)\" style=\"stroke:#000000; stroke-width:2; stroke-opacity:0.1; fill:none\" points=\"\n",
       "  1705.81,1487.47 1705.81,47.2441 \n",
       "  \"/>\n",
       "<polyline clip-path=\"url(#clip4102)\" style=\"stroke:#000000; stroke-width:2; stroke-opacity:0.1; fill:none\" points=\"\n",
       "  2291.28,1487.47 2291.28,47.2441 \n",
       "  \"/>\n",
       "<polyline clip-path=\"url(#clip4102)\" style=\"stroke:#000000; stroke-width:2; stroke-opacity:0.1; fill:none\" points=\"\n",
       "  180.66,1451.03 2352.76,1451.03 \n",
       "  \"/>\n",
       "<polyline clip-path=\"url(#clip4102)\" style=\"stroke:#000000; stroke-width:2; stroke-opacity:0.1; fill:none\" points=\"\n",
       "  180.66,1207.45 2352.76,1207.45 \n",
       "  \"/>\n",
       "<polyline clip-path=\"url(#clip4102)\" style=\"stroke:#000000; stroke-width:2; stroke-opacity:0.1; fill:none\" points=\"\n",
       "  180.66,963.868 2352.76,963.868 \n",
       "  \"/>\n",
       "<polyline clip-path=\"url(#clip4102)\" style=\"stroke:#000000; stroke-width:2; stroke-opacity:0.1; fill:none\" points=\"\n",
       "  180.66,720.287 2352.76,720.287 \n",
       "  \"/>\n",
       "<polyline clip-path=\"url(#clip4102)\" style=\"stroke:#000000; stroke-width:2; stroke-opacity:0.1; fill:none\" points=\"\n",
       "  180.66,476.705 2352.76,476.705 \n",
       "  \"/>\n",
       "<polyline clip-path=\"url(#clip4102)\" style=\"stroke:#000000; stroke-width:2; stroke-opacity:0.1; fill:none\" points=\"\n",
       "  180.66,233.124 2352.76,233.124 \n",
       "  \"/>\n",
       "<polyline clip-path=\"url(#clip4100)\" style=\"stroke:#000000; stroke-width:4; stroke-opacity:1; fill:none\" points=\"\n",
       "  180.66,1487.47 2352.76,1487.47 \n",
       "  \"/>\n",
       "<polyline clip-path=\"url(#clip4100)\" style=\"stroke:#000000; stroke-width:4; stroke-opacity:1; fill:none\" points=\"\n",
       "  180.66,1487.47 180.66,47.2441 \n",
       "  \"/>\n",
       "<polyline clip-path=\"url(#clip4100)\" style=\"stroke:#000000; stroke-width:4; stroke-opacity:1; fill:none\" points=\"\n",
       "  534.87,1487.47 534.87,1470.19 \n",
       "  \"/>\n",
       "<polyline clip-path=\"url(#clip4100)\" style=\"stroke:#000000; stroke-width:4; stroke-opacity:1; fill:none\" points=\"\n",
       "  1120.34,1487.47 1120.34,1470.19 \n",
       "  \"/>\n",
       "<polyline clip-path=\"url(#clip4100)\" style=\"stroke:#000000; stroke-width:4; stroke-opacity:1; fill:none\" points=\"\n",
       "  1705.81,1487.47 1705.81,1470.19 \n",
       "  \"/>\n",
       "<polyline clip-path=\"url(#clip4100)\" style=\"stroke:#000000; stroke-width:4; stroke-opacity:1; fill:none\" points=\"\n",
       "  2291.28,1487.47 2291.28,1470.19 \n",
       "  \"/>\n",
       "<polyline clip-path=\"url(#clip4100)\" style=\"stroke:#000000; stroke-width:4; stroke-opacity:1; fill:none\" points=\"\n",
       "  180.66,1451.03 206.725,1451.03 \n",
       "  \"/>\n",
       "<polyline clip-path=\"url(#clip4100)\" style=\"stroke:#000000; stroke-width:4; stroke-opacity:1; fill:none\" points=\"\n",
       "  180.66,1207.45 206.725,1207.45 \n",
       "  \"/>\n",
       "<polyline clip-path=\"url(#clip4100)\" style=\"stroke:#000000; stroke-width:4; stroke-opacity:1; fill:none\" points=\"\n",
       "  180.66,963.868 206.725,963.868 \n",
       "  \"/>\n",
       "<polyline clip-path=\"url(#clip4100)\" style=\"stroke:#000000; stroke-width:4; stroke-opacity:1; fill:none\" points=\"\n",
       "  180.66,720.287 206.725,720.287 \n",
       "  \"/>\n",
       "<polyline clip-path=\"url(#clip4100)\" style=\"stroke:#000000; stroke-width:4; stroke-opacity:1; fill:none\" points=\"\n",
       "  180.66,476.705 206.725,476.705 \n",
       "  \"/>\n",
       "<polyline clip-path=\"url(#clip4100)\" style=\"stroke:#000000; stroke-width:4; stroke-opacity:1; fill:none\" points=\"\n",
       "  180.66,233.124 206.725,233.124 \n",
       "  \"/>\n",
       "<g clip-path=\"url(#clip4100)\">\n",
       "<text style=\"fill:#000000; fill-opacity:1; font-family:Arial,Helvetica Neue,Helvetica,sans-serif; font-size:48px; text-anchor:middle;\" transform=\"rotate(0, 534.87, 1541.47)\" x=\"534.87\" y=\"1541.47\">-2</text>\n",
       "</g>\n",
       "<g clip-path=\"url(#clip4100)\">\n",
       "<text style=\"fill:#000000; fill-opacity:1; font-family:Arial,Helvetica Neue,Helvetica,sans-serif; font-size:48px; text-anchor:middle;\" transform=\"rotate(0, 1120.34, 1541.47)\" x=\"1120.34\" y=\"1541.47\">0</text>\n",
       "</g>\n",
       "<g clip-path=\"url(#clip4100)\">\n",
       "<text style=\"fill:#000000; fill-opacity:1; font-family:Arial,Helvetica Neue,Helvetica,sans-serif; font-size:48px; text-anchor:middle;\" transform=\"rotate(0, 1705.81, 1541.47)\" x=\"1705.81\" y=\"1541.47\">2</text>\n",
       "</g>\n",
       "<g clip-path=\"url(#clip4100)\">\n",
       "<text style=\"fill:#000000; fill-opacity:1; font-family:Arial,Helvetica Neue,Helvetica,sans-serif; font-size:48px; text-anchor:middle;\" transform=\"rotate(0, 2291.28, 1541.47)\" x=\"2291.28\" y=\"1541.47\">4</text>\n",
       "</g>\n",
       "<g clip-path=\"url(#clip4100)\">\n",
       "<text style=\"fill:#000000; fill-opacity:1; font-family:Arial,Helvetica Neue,Helvetica,sans-serif; font-size:48px; text-anchor:end;\" transform=\"rotate(0, 156.66, 1468.53)\" x=\"156.66\" y=\"1468.53\">0.00</text>\n",
       "</g>\n",
       "<g clip-path=\"url(#clip4100)\">\n",
       "<text style=\"fill:#000000; fill-opacity:1; font-family:Arial,Helvetica Neue,Helvetica,sans-serif; font-size:48px; text-anchor:end;\" transform=\"rotate(0, 156.66, 1224.95)\" x=\"156.66\" y=\"1224.95\">0.25</text>\n",
       "</g>\n",
       "<g clip-path=\"url(#clip4100)\">\n",
       "<text style=\"fill:#000000; fill-opacity:1; font-family:Arial,Helvetica Neue,Helvetica,sans-serif; font-size:48px; text-anchor:end;\" transform=\"rotate(0, 156.66, 981.368)\" x=\"156.66\" y=\"981.368\">0.50</text>\n",
       "</g>\n",
       "<g clip-path=\"url(#clip4100)\">\n",
       "<text style=\"fill:#000000; fill-opacity:1; font-family:Arial,Helvetica Neue,Helvetica,sans-serif; font-size:48px; text-anchor:end;\" transform=\"rotate(0, 156.66, 737.787)\" x=\"156.66\" y=\"737.787\">0.75</text>\n",
       "</g>\n",
       "<g clip-path=\"url(#clip4100)\">\n",
       "<text style=\"fill:#000000; fill-opacity:1; font-family:Arial,Helvetica Neue,Helvetica,sans-serif; font-size:48px; text-anchor:end;\" transform=\"rotate(0, 156.66, 494.205)\" x=\"156.66\" y=\"494.205\">1.00</text>\n",
       "</g>\n",
       "<g clip-path=\"url(#clip4100)\">\n",
       "<text style=\"fill:#000000; fill-opacity:1; font-family:Arial,Helvetica Neue,Helvetica,sans-serif; font-size:48px; text-anchor:end;\" transform=\"rotate(0, 156.66, 250.624)\" x=\"156.66\" y=\"250.624\">1.25</text>\n",
       "</g>\n",
       "<polyline clip-path=\"url(#clip4102)\" style=\"stroke:#009af9; stroke-width:4; stroke-opacity:1; fill:none\" points=\"\n",
       "  242.135,1446.71 271.408,1445.23 300.682,1443.32 329.955,1440.88 359.229,1437.8 388.502,1433.95 417.776,1429.21 447.049,1423.43 476.323,1416.47 505.596,1408.18 \n",
       "  534.87,1398.43 564.143,1387.1 593.417,1374.11 622.691,1359.4 651.964,1342.96 681.238,1324.84 710.511,1305.15 739.785,1284.06 769.058,1261.83 798.332,1238.77 \n",
       "  827.605,1215.27 856.879,1191.78 886.152,1168.78 915.426,1146.79 944.699,1126.36 973.973,1108.01 1003.25,1092.22 1032.52,1079.44 1061.79,1070.03 1091.07,1064.27 \n",
       "  1120.34,1062.33 1149.61,1064.27 1178.89,1070.03 1208.16,1079.44 1237.43,1092.22 1266.71,1108.01 1295.98,1126.36 1325.26,1146.79 1354.53,1168.78 1383.8,1191.78 \n",
       "  1413.08,1215.27 1442.35,1238.77 1471.62,1261.83 1500.9,1284.06 1530.17,1305.15 1559.44,1324.84 1588.72,1342.96 1617.99,1359.4 1647.26,1374.11 1676.54,1387.1 \n",
       "  1705.81,1398.43 1735.08,1408.18 1764.36,1416.47 1793.63,1423.43 1822.91,1429.21 1852.18,1433.95 1881.45,1437.8 1910.73,1440.88 1940,1443.32 1969.27,1445.23 \n",
       "  1998.55,1446.71 \n",
       "  \"/>\n",
       "<polyline clip-path=\"url(#clip4102)\" style=\"stroke:#e26f46; stroke-width:4; stroke-opacity:1; fill:none\" points=\"\n",
       "  271.408,1349.28 300.682,1347.8 329.955,1345.89 359.229,1343.45 388.502,1340.36 417.776,1336.52 447.049,1331.78 476.323,1326 505.596,1319.04 534.87,1310.74 \n",
       "  564.143,1300.99 593.417,1289.67 622.691,1276.68 651.964,1261.96 681.238,1245.53 710.511,1227.41 739.785,1207.72 769.058,1186.63 798.332,1164.4 827.605,1141.34 \n",
       "  856.879,1117.84 886.152,1094.35 915.426,1071.34 944.699,1049.36 973.973,1028.93 1003.25,1010.57 1032.52,994.784 1061.79,982.003 1091.07,972.596 1120.34,966.838 \n",
       "  1149.61,964.899 1178.89,966.838 1208.16,972.596 1237.43,982.003 1266.71,994.784 1295.98,1010.57 1325.26,1028.93 1354.53,1049.36 1383.8,1071.34 1413.08,1094.35 \n",
       "  1442.35,1117.84 1471.62,1141.34 1500.9,1164.4 1530.17,1186.63 1559.44,1207.72 1588.72,1227.41 1617.99,1245.53 1647.26,1261.96 1676.54,1276.68 1705.81,1289.67 \n",
       "  1735.08,1300.99 1764.36,1310.74 1793.63,1319.04 1822.91,1326 1852.18,1331.78 1881.45,1336.52 1910.73,1340.36 1940,1343.45 1969.27,1345.89 1998.55,1347.8 \n",
       "  2027.82,1349.28 \n",
       "  \"/>\n",
       "<polyline clip-path=\"url(#clip4102)\" style=\"stroke:#3da44d; stroke-width:4; stroke-opacity:1; fill:none\" points=\"\n",
       "  300.682,1251.85 329.955,1250.37 359.229,1248.45 388.502,1246.01 417.776,1242.93 447.049,1239.09 476.323,1234.35 505.596,1228.57 534.87,1221.6 564.143,1213.31 \n",
       "  593.417,1203.56 622.691,1192.24 651.964,1179.24 681.238,1164.53 710.511,1148.09 739.785,1129.97 769.058,1110.28 798.332,1089.2 827.605,1066.97 856.879,1043.91 \n",
       "  886.152,1020.41 915.426,996.912 944.699,973.912 973.973,951.929 1003.25,931.497 1032.52,913.14 1061.79,897.351 1091.07,884.57 1120.34,875.163 1149.61,869.405 \n",
       "  1178.89,867.466 1208.16,869.405 1237.43,875.163 1266.71,884.57 1295.98,897.351 1325.26,913.14 1354.53,931.497 1383.8,951.929 1413.08,973.912 1442.35,996.912 \n",
       "  1471.62,1020.41 1500.9,1043.91 1530.17,1066.97 1559.44,1089.2 1588.72,1110.28 1617.99,1129.97 1647.26,1148.09 1676.54,1164.53 1705.81,1179.24 1735.08,1192.24 \n",
       "  1764.36,1203.56 1793.63,1213.31 1822.91,1221.6 1852.18,1228.57 1881.45,1234.35 1910.73,1239.09 1940,1242.93 1969.27,1246.01 1998.55,1248.45 2027.82,1250.37 \n",
       "  2057.09,1251.85 \n",
       "  \"/>\n",
       "<polyline clip-path=\"url(#clip4102)\" style=\"stroke:#c271d2; stroke-width:4; stroke-opacity:1; fill:none\" points=\"\n",
       "  329.955,1154.42 359.229,1152.93 388.502,1151.02 417.776,1148.58 447.049,1145.5 476.323,1141.66 505.596,1136.91 534.87,1131.13 564.143,1124.17 593.417,1115.88 \n",
       "  622.691,1106.13 651.964,1094.8 681.238,1081.81 710.511,1067.1 739.785,1050.66 769.058,1032.54 798.332,1012.85 827.605,991.765 856.879,969.533 886.152,946.475 \n",
       "  915.426,922.975 944.699,899.48 973.973,876.48 1003.25,854.496 1032.52,834.064 1061.79,815.707 1091.07,799.918 1120.34,787.138 1149.61,777.731 1178.89,771.972 \n",
       "  1208.16,770.034 1237.43,771.972 1266.71,777.731 1295.98,787.138 1325.26,799.918 1354.53,815.707 1383.8,834.064 1413.08,854.496 1442.35,876.48 1471.62,899.48 \n",
       "  1500.9,922.975 1530.17,946.475 1559.44,969.533 1588.72,991.765 1617.99,1012.85 1647.26,1032.54 1676.54,1050.66 1705.81,1067.1 1735.08,1081.81 1764.36,1094.8 \n",
       "  1793.63,1106.13 1822.91,1115.88 1852.18,1124.17 1881.45,1131.13 1910.73,1136.91 1940,1141.66 1969.27,1145.5 1998.55,1148.58 2027.82,1151.02 2057.09,1152.93 \n",
       "  2086.37,1154.42 \n",
       "  \"/>\n",
       "<polyline clip-path=\"url(#clip4102)\" style=\"stroke:#ac8d18; stroke-width:4; stroke-opacity:1; fill:none\" points=\"\n",
       "  359.229,1056.98 388.502,1055.5 417.776,1053.59 447.049,1051.15 476.323,1048.07 505.596,1044.22 534.87,1039.48 564.143,1033.7 593.417,1026.74 622.691,1018.45 \n",
       "  651.964,1008.7 681.238,997.37 710.511,984.378 739.785,969.667 769.058,953.228 798.332,935.109 827.605,915.418 856.879,894.332 886.152,872.1 915.426,849.042 \n",
       "  944.699,825.543 973.973,802.047 1003.25,779.047 1032.52,757.064 1061.79,736.632 1091.07,718.275 1120.34,702.486 1149.61,689.705 1178.89,680.298 1208.16,674.54 \n",
       "  1237.43,672.601 1266.71,674.54 1295.98,680.298 1325.26,689.705 1354.53,702.486 1383.8,718.275 1413.08,736.632 1442.35,757.064 1471.62,779.047 1500.9,802.047 \n",
       "  1530.17,825.543 1559.44,849.042 1588.72,872.1 1617.99,894.332 1647.26,915.418 1676.54,935.109 1705.81,953.228 1735.08,969.667 1764.36,984.378 1793.63,997.37 \n",
       "  1822.91,1008.7 1852.18,1018.45 1881.45,1026.74 1910.73,1033.7 1940,1039.48 1969.27,1044.22 1998.55,1048.07 2027.82,1051.15 2057.09,1053.59 2086.37,1055.5 \n",
       "  2115.64,1056.98 \n",
       "  \"/>\n",
       "<polyline clip-path=\"url(#clip4102)\" style=\"stroke:#00a9ad; stroke-width:4; stroke-opacity:1; fill:none\" points=\"\n",
       "  388.502,959.55 417.776,958.069 447.049,956.156 476.323,953.715 505.596,950.634 534.87,946.79 564.143,942.049 593.417,936.269 622.691,929.305 651.964,921.014 \n",
       "  681.238,911.264 710.511,899.937 739.785,886.945 769.058,872.234 798.332,855.795 827.605,837.676 856.879,817.985 886.152,796.899 915.426,774.668 944.699,751.609 \n",
       "  973.973,728.11 1003.25,704.615 1032.52,681.614 1061.79,659.631 1091.07,639.199 1120.34,620.842 1149.61,605.053 1178.89,592.272 1208.16,582.865 1237.43,577.107 \n",
       "  1266.71,575.168 1295.98,577.107 1325.26,582.865 1354.53,592.272 1383.8,605.053 1413.08,620.842 1442.35,639.199 1471.62,659.631 1500.9,681.614 1530.17,704.615 \n",
       "  1559.44,728.11 1588.72,751.609 1617.99,774.668 1647.26,796.899 1676.54,817.985 1705.81,837.676 1735.08,855.795 1764.36,872.234 1793.63,886.945 1822.91,899.937 \n",
       "  1852.18,911.264 1881.45,921.014 1910.73,929.305 1940,936.269 1969.27,942.049 1998.55,946.79 2027.82,950.634 2057.09,953.715 2086.37,956.156 2115.64,958.069 \n",
       "  2144.91,959.55 \n",
       "  \"/>\n",
       "<polyline clip-path=\"url(#clip4102)\" style=\"stroke:#ed5d92; stroke-width:4; stroke-opacity:1; fill:none\" points=\"\n",
       "  417.776,862.118 447.049,860.636 476.323,858.724 505.596,856.282 534.87,853.202 564.143,849.358 593.417,844.616 622.691,838.836 651.964,831.872 681.238,823.581 \n",
       "  710.511,813.831 739.785,802.505 769.058,789.513 798.332,774.801 827.605,758.363 856.879,740.243 886.152,720.552 915.426,699.467 944.699,677.235 973.973,654.177 \n",
       "  1003.25,630.677 1032.52,607.182 1061.79,584.182 1091.07,562.199 1120.34,541.766 1149.61,523.409 1178.89,507.621 1208.16,494.84 1237.43,485.433 1266.71,479.674 \n",
       "  1295.98,477.736 1325.26,479.674 1354.53,485.433 1383.8,494.84 1413.08,507.621 1442.35,523.409 1471.62,541.766 1500.9,562.199 1530.17,584.182 1559.44,607.182 \n",
       "  1588.72,630.677 1617.99,654.177 1647.26,677.235 1676.54,699.467 1705.81,720.552 1735.08,740.243 1764.36,758.363 1793.63,774.801 1822.91,789.513 1852.18,802.505 \n",
       "  1881.45,813.831 1910.73,823.581 1940,831.872 1969.27,838.836 1998.55,844.616 2027.82,849.358 2057.09,853.202 2086.37,856.282 2115.64,858.724 2144.91,860.636 \n",
       "  2174.19,862.118 \n",
       "  \"/>\n",
       "<polyline clip-path=\"url(#clip4102)\" style=\"stroke:#c68125; stroke-width:4; stroke-opacity:1; fill:none\" points=\"\n",
       "  447.049,764.685 476.323,763.203 505.596,761.291 534.87,758.85 564.143,755.769 593.417,751.925 622.691,747.184 651.964,741.403 681.238,734.439 710.511,726.149 \n",
       "  739.785,716.398 769.058,705.072 798.332,692.08 827.605,677.369 856.879,660.93 886.152,642.811 915.426,623.12 944.699,602.034 973.973,579.803 1003.25,556.744 \n",
       "  1032.52,533.245 1061.79,509.749 1091.07,486.749 1120.34,464.766 1149.61,444.334 1178.89,425.977 1208.16,410.188 1237.43,397.407 1266.71,388 1295.98,382.242 \n",
       "  1325.26,380.303 1354.53,382.242 1383.8,388 1413.08,397.407 1442.35,410.188 1471.62,425.977 1500.9,444.334 1530.17,464.766 1559.44,486.749 1588.72,509.749 \n",
       "  1617.99,533.245 1647.26,556.744 1676.54,579.803 1705.81,602.034 1735.08,623.12 1764.36,642.811 1793.63,660.93 1822.91,677.369 1852.18,692.08 1881.45,705.072 \n",
       "  1910.73,716.398 1940,726.149 1969.27,734.439 1998.55,741.403 2027.82,747.184 2057.09,751.925 2086.37,755.769 2115.64,758.85 2144.91,761.291 2174.19,763.203 \n",
       "  2203.46,764.685 \n",
       "  \"/>\n",
       "<polyline clip-path=\"url(#clip4102)\" style=\"stroke:#00a98d; stroke-width:4; stroke-opacity:1; fill:none\" points=\"\n",
       "  476.323,667.252 505.596,665.771 534.87,663.858 564.143,661.417 593.417,658.336 622.691,654.492 651.964,649.751 681.238,643.971 710.511,637.007 739.785,628.716 \n",
       "  769.058,618.966 798.332,607.639 827.605,594.647 856.879,579.936 886.152,563.497 915.426,545.378 944.699,525.687 973.973,504.602 1003.25,482.37 1032.52,459.311 \n",
       "  1061.79,435.812 1091.07,412.317 1120.34,389.316 1149.61,367.333 1178.89,346.901 1208.16,328.544 1237.43,312.755 1266.71,299.974 1295.98,290.567 1325.26,284.809 \n",
       "  1354.53,282.871 1383.8,284.809 1413.08,290.567 1442.35,299.974 1471.62,312.755 1500.9,328.544 1530.17,346.901 1559.44,367.333 1588.72,389.316 1617.99,412.317 \n",
       "  1647.26,435.812 1676.54,459.311 1705.81,482.37 1735.08,504.602 1764.36,525.687 1793.63,545.378 1822.91,563.497 1852.18,579.936 1881.45,594.647 1910.73,607.639 \n",
       "  1940,618.966 1969.27,628.716 1998.55,637.007 2027.82,643.971 2057.09,649.751 2086.37,654.492 2115.64,658.336 2144.91,661.417 2174.19,663.858 2203.46,665.771 \n",
       "  2232.73,667.252 \n",
       "  \"/>\n",
       "<polyline clip-path=\"url(#clip4102)\" style=\"stroke:#8e971d; stroke-width:4; stroke-opacity:1; fill:none\" points=\"\n",
       "  505.596,569.82 534.87,568.338 564.143,566.426 593.417,563.985 622.691,560.904 651.964,557.06 681.238,552.318 710.511,546.538 739.785,539.574 769.058,531.284 \n",
       "  798.332,521.533 827.605,510.207 856.879,497.215 886.152,482.503 915.426,466.065 944.699,447.946 973.973,428.255 1003.25,407.169 1032.52,384.937 1061.79,361.879 \n",
       "  1091.07,338.379 1120.34,314.884 1149.61,291.884 1178.89,269.901 1208.16,249.468 1237.43,231.111 1266.71,215.323 1295.98,202.542 1325.26,193.135 1354.53,187.377 \n",
       "  1383.8,185.438 1413.08,187.377 1442.35,193.135 1471.62,202.542 1500.9,215.323 1530.17,231.111 1559.44,249.468 1588.72,269.901 1617.99,291.884 1647.26,314.884 \n",
       "  1676.54,338.379 1705.81,361.879 1735.08,384.937 1764.36,407.169 1793.63,428.255 1822.91,447.946 1852.18,466.065 1881.45,482.503 1910.73,497.215 1940,510.207 \n",
       "  1969.27,521.533 1998.55,531.284 2027.82,539.574 2057.09,546.538 2086.37,552.318 2115.64,557.06 2144.91,560.904 2174.19,563.985 2203.46,566.426 2232.73,568.338 \n",
       "  2262.01,569.82 \n",
       "  \"/>\n",
       "<polyline clip-path=\"url(#clip4102)\" style=\"stroke:#00a8cb; stroke-width:4; stroke-opacity:1; fill:none\" points=\"\n",
       "  534.87,472.387 564.143,470.906 593.417,468.993 622.691,466.552 651.964,463.471 681.238,459.627 710.511,454.886 739.785,449.106 769.058,442.141 798.332,433.851 \n",
       "  827.605,424.1 856.879,412.774 886.152,399.782 915.426,385.071 944.699,368.632 973.973,350.513 1003.25,330.822 1032.52,309.736 1061.79,287.505 1091.07,264.446 \n",
       "  1120.34,240.947 1149.61,217.451 1178.89,194.451 1208.16,172.468 1237.43,152.036 1266.71,133.679 1295.98,117.89 1325.26,105.109 1354.53,95.7021 1383.8,89.944 \n",
       "  1413.08,88.0053 1442.35,89.944 1471.62,95.7021 1500.9,105.109 1530.17,117.89 1559.44,133.679 1588.72,152.036 1617.99,172.468 1647.26,194.451 1676.54,217.451 \n",
       "  1705.81,240.947 1735.08,264.446 1764.36,287.505 1793.63,309.736 1822.91,330.822 1852.18,350.513 1881.45,368.632 1910.73,385.071 1940,399.782 1969.27,412.774 \n",
       "  1998.55,424.1 2027.82,433.851 2057.09,442.141 2086.37,449.106 2115.64,454.886 2144.91,459.627 2174.19,463.471 2203.46,466.552 2232.73,468.993 2262.01,470.906 \n",
       "  2291.28,472.387 \n",
       "  \"/>\n",
       "<path clip-path=\"url(#clip4100)\" d=\"\n",
       "M1963.16 856.524 L2280.76 856.524 L2280.76 130.764 L1963.16 130.764  Z\n",
       "  \" fill=\"#ffffff\" fill-rule=\"evenodd\" fill-opacity=\"1\"/>\n",
       "<polyline clip-path=\"url(#clip4100)\" style=\"stroke:#000000; stroke-width:4; stroke-opacity:1; fill:none\" points=\"\n",
       "  1963.16,856.524 2280.76,856.524 2280.76,130.764 1963.16,130.764 1963.16,856.524 \n",
       "  \"/>\n",
       "<polyline clip-path=\"url(#clip4100)\" style=\"stroke:#009af9; stroke-width:4; stroke-opacity:1; fill:none\" points=\"\n",
       "  1987.16,191.244 2131.16,191.244 \n",
       "  \"/>\n",
       "<g clip-path=\"url(#clip4100)\">\n",
       "<text style=\"fill:#000000; fill-opacity:1; font-family:Arial,Helvetica Neue,Helvetica,sans-serif; font-size:48px; text-anchor:start;\" transform=\"rotate(0, 2155.16, 208.744)\" x=\"2155.16\" y=\"208.744\">y1</text>\n",
       "</g>\n",
       "<polyline clip-path=\"url(#clip4100)\" style=\"stroke:#e26f46; stroke-width:4; stroke-opacity:1; fill:none\" points=\"\n",
       "  1987.16,251.724 2131.16,251.724 \n",
       "  \"/>\n",
       "<g clip-path=\"url(#clip4100)\">\n",
       "<text style=\"fill:#000000; fill-opacity:1; font-family:Arial,Helvetica Neue,Helvetica,sans-serif; font-size:48px; text-anchor:start;\" transform=\"rotate(0, 2155.16, 269.224)\" x=\"2155.16\" y=\"269.224\">y2</text>\n",
       "</g>\n",
       "<polyline clip-path=\"url(#clip4100)\" style=\"stroke:#3da44d; stroke-width:4; stroke-opacity:1; fill:none\" points=\"\n",
       "  1987.16,312.204 2131.16,312.204 \n",
       "  \"/>\n",
       "<g clip-path=\"url(#clip4100)\">\n",
       "<text style=\"fill:#000000; fill-opacity:1; font-family:Arial,Helvetica Neue,Helvetica,sans-serif; font-size:48px; text-anchor:start;\" transform=\"rotate(0, 2155.16, 329.704)\" x=\"2155.16\" y=\"329.704\">y3</text>\n",
       "</g>\n",
       "<polyline clip-path=\"url(#clip4100)\" style=\"stroke:#c271d2; stroke-width:4; stroke-opacity:1; fill:none\" points=\"\n",
       "  1987.16,372.684 2131.16,372.684 \n",
       "  \"/>\n",
       "<g clip-path=\"url(#clip4100)\">\n",
       "<text style=\"fill:#000000; fill-opacity:1; font-family:Arial,Helvetica Neue,Helvetica,sans-serif; font-size:48px; text-anchor:start;\" transform=\"rotate(0, 2155.16, 390.184)\" x=\"2155.16\" y=\"390.184\">y4</text>\n",
       "</g>\n",
       "<polyline clip-path=\"url(#clip4100)\" style=\"stroke:#ac8d18; stroke-width:4; stroke-opacity:1; fill:none\" points=\"\n",
       "  1987.16,433.164 2131.16,433.164 \n",
       "  \"/>\n",
       "<g clip-path=\"url(#clip4100)\">\n",
       "<text style=\"fill:#000000; fill-opacity:1; font-family:Arial,Helvetica Neue,Helvetica,sans-serif; font-size:48px; text-anchor:start;\" transform=\"rotate(0, 2155.16, 450.664)\" x=\"2155.16\" y=\"450.664\">y5</text>\n",
       "</g>\n",
       "<polyline clip-path=\"url(#clip4100)\" style=\"stroke:#00a9ad; stroke-width:4; stroke-opacity:1; fill:none\" points=\"\n",
       "  1987.16,493.644 2131.16,493.644 \n",
       "  \"/>\n",
       "<g clip-path=\"url(#clip4100)\">\n",
       "<text style=\"fill:#000000; fill-opacity:1; font-family:Arial,Helvetica Neue,Helvetica,sans-serif; font-size:48px; text-anchor:start;\" transform=\"rotate(0, 2155.16, 511.144)\" x=\"2155.16\" y=\"511.144\">y6</text>\n",
       "</g>\n",
       "<polyline clip-path=\"url(#clip4100)\" style=\"stroke:#ed5d92; stroke-width:4; stroke-opacity:1; fill:none\" points=\"\n",
       "  1987.16,554.124 2131.16,554.124 \n",
       "  \"/>\n",
       "<g clip-path=\"url(#clip4100)\">\n",
       "<text style=\"fill:#000000; fill-opacity:1; font-family:Arial,Helvetica Neue,Helvetica,sans-serif; font-size:48px; text-anchor:start;\" transform=\"rotate(0, 2155.16, 571.624)\" x=\"2155.16\" y=\"571.624\">y7</text>\n",
       "</g>\n",
       "<polyline clip-path=\"url(#clip4100)\" style=\"stroke:#c68125; stroke-width:4; stroke-opacity:1; fill:none\" points=\"\n",
       "  1987.16,614.604 2131.16,614.604 \n",
       "  \"/>\n",
       "<g clip-path=\"url(#clip4100)\">\n",
       "<text style=\"fill:#000000; fill-opacity:1; font-family:Arial,Helvetica Neue,Helvetica,sans-serif; font-size:48px; text-anchor:start;\" transform=\"rotate(0, 2155.16, 632.104)\" x=\"2155.16\" y=\"632.104\">y8</text>\n",
       "</g>\n",
       "<polyline clip-path=\"url(#clip4100)\" style=\"stroke:#00a98d; stroke-width:4; stroke-opacity:1; fill:none\" points=\"\n",
       "  1987.16,675.084 2131.16,675.084 \n",
       "  \"/>\n",
       "<g clip-path=\"url(#clip4100)\">\n",
       "<text style=\"fill:#000000; fill-opacity:1; font-family:Arial,Helvetica Neue,Helvetica,sans-serif; font-size:48px; text-anchor:start;\" transform=\"rotate(0, 2155.16, 692.584)\" x=\"2155.16\" y=\"692.584\">y9</text>\n",
       "</g>\n",
       "<polyline clip-path=\"url(#clip4100)\" style=\"stroke:#8e971d; stroke-width:4; stroke-opacity:1; fill:none\" points=\"\n",
       "  1987.16,735.564 2131.16,735.564 \n",
       "  \"/>\n",
       "<g clip-path=\"url(#clip4100)\">\n",
       "<text style=\"fill:#000000; fill-opacity:1; font-family:Arial,Helvetica Neue,Helvetica,sans-serif; font-size:48px; text-anchor:start;\" transform=\"rotate(0, 2155.16, 753.064)\" x=\"2155.16\" y=\"753.064\">y10</text>\n",
       "</g>\n",
       "<polyline clip-path=\"url(#clip4100)\" style=\"stroke:#00a8cb; stroke-width:4; stroke-opacity:1; fill:none\" points=\"\n",
       "  1987.16,796.044 2131.16,796.044 \n",
       "  \"/>\n",
       "<g clip-path=\"url(#clip4100)\">\n",
       "<text style=\"fill:#000000; fill-opacity:1; font-family:Arial,Helvetica Neue,Helvetica,sans-serif; font-size:48px; text-anchor:start;\" transform=\"rotate(0, 2155.16, 813.544)\" x=\"2155.16\" y=\"813.544\">y11</text>\n",
       "</g>\n",
       "</svg>\n"
      ]
     },
     "execution_count": 19,
     "metadata": {},
     "output_type": "execute_result"
    }
   ],
   "source": [
    "plot!()"
   ]
  }
 ],
 "metadata": {
  "kernelspec": {
   "display_name": "Julia 1.8.0-beta3",
   "language": "julia",
   "name": "julia-1.8"
  },
  "language_info": {
   "file_extension": ".jl",
   "mimetype": "application/julia",
   "name": "julia",
   "version": "1.8.0"
  },
  "toc-autonumbering": false,
  "toc-showcode": false,
  "toc-showmarkdowntxt": true
 },
 "nbformat": 4,
 "nbformat_minor": 4
}
