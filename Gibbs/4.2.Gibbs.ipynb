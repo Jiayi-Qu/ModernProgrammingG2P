{
 "cells": [
  {
   "cell_type": "code",
   "execution_count": 1,
   "metadata": {},
   "outputs": [],
   "source": [
    "using Pkg\n",
    "#Pkg.add(\"NBInclude\")\n",
    "#Pkg.add(\"ProgressMeter\")"
   ]
  },
  {
   "cell_type": "markdown",
   "metadata": {},
   "source": [
    "Latex Macros:\n",
    "$$\n",
    "\\newcommand{\\E}{\\text{E}}\n",
    "\\newcommand{\\mbf}{\\mathbf}\n",
    "\\newcommand{\\bs}{\\boldsymbol}\n",
    "\\newcommand{\\Cov}{\\text{Cov}}\n",
    "\\newcommand{\\Var}{\\text{Var}}\n",
    "\\newcommand{\\Cov}{\\text{Cov}}\n",
    "\\newcommand{\\A}[1]{\\mathbf{A}_{#1}}\n",
    "\\newcommand{\\Ai}[1]{\\mathbf{A}^{#1}}\n",
    "$$"
   ]
  },
  {
   "cell_type": "code",
   "execution_count": 1,
   "metadata": {},
   "outputs": [
    {
     "data": {
      "application/javascript": [
       "    MathJax.Hub.Config({\n",
       "      TeX: { equationNumbers: { autoNumber: \"AMS\" } }\n",
       "    });\n",
       "    MathJax.Hub.Queue( \n",
       "        [\"resetEquationNumbers\",MathJax.InputJax.TeX], \n",
       "        [\"PreProcess\",MathJax.Hub], \n",
       "        [\"Reprocess\",MathJax.Hub] \n",
       "    );\n"
      ]
     },
     "metadata": {},
     "output_type": "display_data"
    }
   ],
   "source": [
    "macro javascript_str(s) display(\"text/javascript\", s); end\n",
    "javascript\"\"\"\n",
    "    MathJax.Hub.Config({\n",
    "      TeX: { equationNumbers: { autoNumber: \"AMS\" } }\n",
    "    });\n",
    "    MathJax.Hub.Queue( \n",
    "        [\"resetEquationNumbers\",MathJax.InputJax.TeX], \n",
    "        [\"PreProcess\",MathJax.Hub], \n",
    "        [\"Reprocess\",MathJax.Hub] \n",
    "    );\n",
    "\"\"\""
   ]
  },
  {
   "cell_type": "markdown",
   "metadata": {},
   "source": [
    "# Gibbs Sampling of Fixed and Random Effects"
   ]
  },
  {
   "cell_type": "markdown",
   "metadata": {},
   "source": [
    "### Extension to Multi-trait Models"
   ]
  },
  {
   "cell_type": "markdown",
   "metadata": {},
   "source": [
    "Consider the mixed linear model\n",
    "\n",
    "\\begin{equation}\n",
    "\\mathbf{y} = \\mathbf{X}\\boldsymbol{\\beta} + \\mathbf{Zu} + \\mathbf{e}, \n",
    "\\end{equation}"
   ]
  },
  {
   "cell_type": "markdown",
   "metadata": {},
   "source": [
    "where $\\boldsymbol{\\beta}$ is a vector of fixed effects, $\\mathbf{X}$ is an observed matrix that relates $\\boldsymbol{\\beta}$ to $\\mathbf{y}$, $\\mathbf{u}$ is a vector of multivariate normal random effects with null means and covariance matrix $\\mathbf{G}\\sigma^2_u$, and $\\mathbf{e}$ is a vector of multivariate normal residuals with null means and covariance matrix $\\mathbf{R}\\sigma^2_e$. The fixed effects are usually assigned a flat prior distribution, and the matrices $\\mathbf{G}$ and $\\mathbf{R}$ are assumed to be known. The variance components $\\sigma^2_u$ and $\\sigma^2_e$ will be assigned scaled inverted chi-square prior distributions with scale parameter $S_{u}^{2}$ and degrees of freedom $\\nu_{u}$ for $\\sigma^2_u$ and parameters $S_{e}^{2}$ and $\\nu_{e}$ for $\\sigma^2_e$."
   ]
  },
  {
   "cell_type": "markdown",
   "metadata": {},
   "source": [
    "If we denote the location parameters ($\\bs{\\beta}, \\mbf{u}$) of the model by $\\bs{\\theta}$, as we have seen before, the posteior distribution of $\\bs{\\theta}$ is multivariate normal with mean given by the solution to"
   ]
  },
  {
   "cell_type": "markdown",
   "metadata": {},
   "source": [
    "$$\n",
    "\\mbf{C}\\hat{\\bs{\\theta}} = \\mbf{r}\n",
    "$$\n",
    "\n",
    "and the variance is $\\mbf{C}^{-1}\\sigma^2_e$,\n",
    "where $\\mbf{C}$ and $\\mbf{r}$ are the coefficient matrix and right-hand-side of the MME. So, the quadratic in the exponent of this normal distribution is:\n",
    "\n"
   ]
  },
  {
   "cell_type": "markdown",
   "metadata": {},
   "source": [
    "\\begin{equation}\n",
    "Q = \\frac{-1}{2\\sigma^2_e}(\\bs{\\theta} - \\hat{\\bs{\\theta}})'\\mathbf{C}(\\bs{\\theta} - \\hat{\\bs{\\theta}}).\n",
    "\\label{eq:Q1}\n",
    "\\end{equation}"
   ]
  },
  {
   "cell_type": "markdown",
   "metadata": {},
   "source": [
    "In order to use the single-site Gibbs sampler to construct a Markov chain for $\\bs{\\theta}$, we need to derive the full-conditional posterior distribution for $(\\theta_i|\\text{ELSE})$, where $\\text{ELSE}$ stands for all other variables in the model other than $\\theta_i$. To simplify this derivation, $\\bs{\\theta}$ is partitioned as:\n",
    "$$\n",
    "\\bs{\\theta} = [\\bs{\\theta}_1, \\bs{\\theta}_2],\n",
    "$$\n",
    "where $\\bs{\\theta}_1 = \\theta_i$ and $\\bs{\\theta}_2$ contains the remaining elements of $\\bs{\\theta}$. Now, the quadratic (\\ref{eq:Q1}) can be written as:"
   ]
  },
  {
   "cell_type": "markdown",
   "metadata": {},
   "source": [
    "\\begin{equation}\n",
    "Q = \\frac{-1}{2\\sigma^2_e}\n",
    "\\begin{bmatrix}\n",
    "(\\bs{\\theta}_1 - \\hat{\\bs{\\theta}}_1) & (\\bs{\\theta}_2 - \\hat{\\bs{\\theta}}_2)\n",
    "\\end{bmatrix}\n",
    "\\begin{bmatrix}\n",
    "\\mathbf{C}_{11} & \\mathbf{C}_{12} \\\\\n",
    "\\mathbf{C}_{21} & \\mathbf{C}_{22}\n",
    "\\end{bmatrix}\n",
    "\\begin{bmatrix}\n",
    "(\\bs{\\theta}_1 - \\hat{\\bs{\\theta}}_1) \\\\ \n",
    "(\\bs{\\theta}_2 - \\hat{\\bs{\\theta}}_2)\n",
    "\\end{bmatrix},\n",
    "\\label{eq:Q2}\n",
    "\\end{equation}"
   ]
  },
  {
   "cell_type": "markdown",
   "metadata": {},
   "source": [
    "where the coefficient matrix $\\mbf{C}$ has also been partitioned to correspond to the partitioning of $\\bs{\\theta}$."
   ]
  },
  {
   "cell_type": "markdown",
   "metadata": {},
   "source": [
    "To derive the distribution of $(\\bs{\\theta}_1|\\bs{\\theta}_2)$, we need to only consider the terms in (\\ref{eq:Q2}) that involve $\\bs{\\theta}_1$. These terms are (after dropping $\\frac{-1}{2\\sigma^2_e}$):\n"
   ]
  },
  {
   "cell_type": "markdown",
   "metadata": {},
   "source": [
    "\\begin{align}\n",
    "Q_1 &=  \\bs{\\theta}_1'\\mbf{C}_{11}\\bs{\\theta}_1 - 2\\bs{\\theta}_1'\\mbf{C}_{11}\\hat{\\bs{\\theta}}_1\n",
    "    + 2\\bs{\\theta}_1'\\mbf{C}_{12}\\bs{\\theta}_2 - 2\\bs{\\theta}_1'\\mbf{C}_{12}\\hat{\\bs{\\theta}}_2 \\label{eq:Q_11} \\\\ \n",
    "    &= (\\bs{\\theta}_1 - \\tilde{\\bs{\\theta}}_1)'\\mbf{C}_{11}(\\bs{\\theta}_1 - \\tilde{\\bs{\\theta}}_1) \n",
    "       - \\tilde{\\bs{\\theta}}_1'\\mbf{C}_{11}\\tilde{\\bs{\\theta}}_1,\n",
    "       \\label{eq:Q_12}\n",
    "\\end{align}"
   ]
  },
  {
   "cell_type": "markdown",
   "metadata": {},
   "source": [
    "where for (\\ref{eq:Q_11}) to equal (\\ref{eq:Q_12}), $\\tilde{\\bs{\\theta}}_1$ must satisfy the equality: \n",
    "$$\n",
    "\\bs{\\theta}_1'\\mbf{C}_{11}\\tilde{\\bs{\\theta}}_1 = \\bs{\\theta}_1'\\mbf{C}_{11}\\hat{\\bs{\\theta}}_1 \n",
    "                                                       + \\bs{\\theta}_1'\\mbf{C}_{12}\\hat{\\bs{\\theta}}_2 \n",
    "                                                       - \\bs{\\theta}_1'\\mbf{C}_{12}\\bs{\\theta}_2.\n",
    "$$\n",
    "This equlity must hold for all $\\bs{\\theta}_1$, and so\n",
    "\\begin{align}\n",
    "\\mbf{C}_{11}\\tilde{\\bs{\\theta}}_1 &= \\mbf{C}_{11}\\hat{\\bs{\\theta}}_1 \n",
    "                                  + \\mbf{C}_{12}\\hat{\\bs{\\theta}}_2\n",
    "                                  - \\mbf{C}_{12}\\bs{\\theta}_2 \\\\\n",
    "\\mbf{C}_{11}\\tilde{\\bs{\\theta}}_1 &= \\mbf{r}_1 - \\mbf{C}_{12}\\bs{\\theta}_2, \\label{eq:singleSiteGibbs}                                                                   \n",
    "\\end{align}\n",
    "because the right-hand-side of the MME corresponding to $\\hat{\\bs{\\theta}}_1$ is equal to "
   ]
  },
  {
   "cell_type": "markdown",
   "metadata": {},
   "source": [
    "$$\n",
    "\\mbf{C}_{11}\\hat{\\bs{\\theta}}_1 + \\mbf{C}_{12}\\hat{\\bs{\\theta}}_2 = \\mbf{r}_1.\n",
    "$$"
   ]
  },
  {
   "cell_type": "markdown",
   "metadata": {},
   "source": [
    "Thus, $(\\bs{\\theta}_1|\\bs{\\theta}_2) \\sim \\text{N}(\\tilde{\\bs{\\theta}},\\mbf{C}_{11}^{-1}\\sigma^2_e)$. An alternative derivation is given in Sorensen and Gianola (2002)."
   ]
  },
  {
   "cell_type": "code",
   "execution_count": 3,
   "metadata": {},
   "outputs": [
    {
     "data": {
      "text/plain": [
       "Gibbs! (generic function with 1 method)"
      ]
     },
     "execution_count": 3,
     "metadata": {},
     "output_type": "execute_result"
    }
   ],
   "source": [
    "function Gibbs!(A,x,b,varRes::Float64,nIter::Int64;outFreq=100)\n",
    "    n = size(x,1)\n",
    "    xMean = zeros(n)\n",
    "    for iter = 1:nIter\n",
    "        if iter%outFreq==0\n",
    "            println(\"at sample: \",iter)\n",
    "        end\n",
    "        for i=1:n\n",
    "            cVarInv = 1.0/A[i,i]\n",
    "            cMean   = cVarInv*(b[i] - A[:,i]'x) + x[i]\n",
    "            x[i]    = randn()*sqrt(cVarInv) + cMean\n",
    "        end\n",
    "        xMean += (x - xMean)/iter\n",
    "    end\n",
    "    return xMean\n",
    "end"
   ]
  },
  {
   "cell_type": "code",
   "execution_count": 4,
   "metadata": {},
   "outputs": [
    {
     "data": {
      "text/plain": [
       "updateLhsRhs! (generic function with 1 method)"
      ]
     },
     "execution_count": 4,
     "metadata": {},
     "output_type": "execute_result"
    }
   ],
   "source": [
    "using NBInclude\n",
    "@nbinclude(\"../MME/3.7.2.BuildMME.ipynb\"; regex=r\"#\\s*EXECUTE\")"
   ]
  },
  {
   "cell_type": "code",
   "execution_count": 5,
   "metadata": {},
   "outputs": [
    {
     "name": "stdout",
     "output_type": "stream",
     "text": [
      "\u001b[32mThe delimiter in simData.ped is ','.\u001b[39m\n"
     ]
    },
    {
     "name": "stderr",
     "output_type": "stream",
     "text": [
      "\u001b[32mcoding pedigree... 100%|████████████████████████████████| Time: 0:00:00\u001b[39m\n",
      "\u001b[32mcalculating inbreeding... 100%|█████████████████████████| Time: 0:00:00\u001b[39m\n"
     ]
    },
    {
     "name": "stdout",
     "output_type": "stream",
     "text": [
      "Finished!\n"
     ]
    }
   ],
   "source": [
    "pedigree = get_pedigree(\"simData.ped\",separator=\",\",header=false);"
   ]
  },
  {
   "cell_type": "code",
   "execution_count": 6,
   "metadata": {},
   "outputs": [
    {
     "data": {
      "text/plain": [
       "JWAS.PedModule.Pedigree(1249, Dict{AbstractString,JWAS.PedModule.PedNode}(\"1\"=>PedNode(1, \"0\", \"0\", 0.0),\"519\"=>PedNode(4, \"38\", \"125\", 0.0),\"788\"=>PedNode(7, \"16\", \"92\", 0.0),\"1164\"=>PedNode(10, \"24\", \"128\", 0.0),\"774\"=>PedNode(13, \"9\", \"244\", 0.0),\"599\"=>PedNode(15, \"38\", \"249\", 0.0),\"491\"=>PedNode(18, \"23\", \"176\", 0.0),\"1195\"=>PedNode(21, \"5\", \"236\", 0.0),\"228\"=>PedNode(22, \"0\", \"0\", 0.0),\"332\"=>PedNode(25, \"34\", \"171\", 0.0)…), Dict(25748=>0.0,137381=>0.0,39274=>0.0,39192=>0.0,38408=>0.0,48586=>0.0,8714=>0.0,10196=>0.0,34547=>0.0,21639=>0.0…), Set(Any[]), Set(Any[]), Set(Any[]), Set(Any[]), [\"1\", \"38\", \"125\", \"519\", \"16\", \"92\", \"788\", \"24\", \"128\", \"1164\"  …  \"998\", \"563\", \"655\", \"336\", \"732\", \"603\", \"414\", \"710\", \"1138\", \"306\"])"
      ]
     },
     "execution_count": 6,
     "metadata": {},
     "output_type": "execute_result"
    }
   ],
   "source": [
    "pedigree"
   ]
  },
  {
   "cell_type": "code",
   "execution_count": 4,
   "metadata": {},
   "outputs": [
    {
     "data": {
      "text/html": [
       "<table class=\"data-frame\"><thead><tr><th></th><th>Ind</th><th>Mat</th><th>y</th></tr><tr><th></th><th>Int64</th><th>Int64</th><th>Float64</th></tr></thead><tbody><p>1,000 rows × 3 columns</p><tr><th>1</th><td>251</td><td>177</td><td>3.896</td></tr><tr><th>2</th><td>252</td><td>192</td><td>-1.739</td></tr><tr><th>3</th><td>253</td><td>64</td><td>2.729</td></tr><tr><th>4</th><td>254</td><td>191</td><td>2.894</td></tr><tr><th>5</th><td>255</td><td>127</td><td>4.331</td></tr><tr><th>6</th><td>256</td><td>130</td><td>-0.422</td></tr><tr><th>7</th><td>257</td><td>156</td><td>2.034</td></tr><tr><th>8</th><td>258</td><td>140</td><td>3.331</td></tr><tr><th>9</th><td>259</td><td>150</td><td>-3.944</td></tr><tr><th>10</th><td>260</td><td>218</td><td>5.763</td></tr><tr><th>11</th><td>261</td><td>216</td><td>3.21</td></tr><tr><th>12</th><td>262</td><td>111</td><td>-0.78</td></tr><tr><th>13</th><td>263</td><td>60</td><td>-5.32</td></tr><tr><th>14</th><td>264</td><td>75</td><td>1.855</td></tr><tr><th>15</th><td>265</td><td>206</td><td>-3.921</td></tr><tr><th>16</th><td>266</td><td>61</td><td>4.034</td></tr><tr><th>17</th><td>267</td><td>105</td><td>-7.571</td></tr><tr><th>18</th><td>268</td><td>106</td><td>-0.114</td></tr><tr><th>19</th><td>269</td><td>93</td><td>3.937</td></tr><tr><th>20</th><td>270</td><td>136</td><td>-4.805</td></tr><tr><th>21</th><td>271</td><td>198</td><td>-5.956</td></tr><tr><th>22</th><td>272</td><td>175</td><td>3.638</td></tr><tr><th>23</th><td>273</td><td>170</td><td>2.311</td></tr><tr><th>24</th><td>274</td><td>93</td><td>-4.529</td></tr><tr><th>25</th><td>275</td><td>76</td><td>-5.491</td></tr><tr><th>26</th><td>276</td><td>205</td><td>1.568</td></tr><tr><th>27</th><td>277</td><td>143</td><td>1.016</td></tr><tr><th>28</th><td>278</td><td>105</td><td>4.155</td></tr><tr><th>29</th><td>279</td><td>53</td><td>6.325</td></tr><tr><th>30</th><td>280</td><td>156</td><td>-9.85</td></tr><tr><th>&vellip;</th><td>&vellip;</td><td>&vellip;</td><td>&vellip;</td></tr></tbody></table>"
      ],
      "text/latex": [
       "\\begin{tabular}{r|ccc}\n",
       "\t& Ind & Mat & y\\\\\n",
       "\t\\hline\n",
       "\t& Int64 & Int64 & Float64\\\\\n",
       "\t\\hline\n",
       "\t1 & 251 & 177 & 3.896 \\\\\n",
       "\t2 & 252 & 192 & -1.739 \\\\\n",
       "\t3 & 253 & 64 & 2.729 \\\\\n",
       "\t4 & 254 & 191 & 2.894 \\\\\n",
       "\t5 & 255 & 127 & 4.331 \\\\\n",
       "\t6 & 256 & 130 & -0.422 \\\\\n",
       "\t7 & 257 & 156 & 2.034 \\\\\n",
       "\t8 & 258 & 140 & 3.331 \\\\\n",
       "\t9 & 259 & 150 & -3.944 \\\\\n",
       "\t10 & 260 & 218 & 5.763 \\\\\n",
       "\t11 & 261 & 216 & 3.21 \\\\\n",
       "\t12 & 262 & 111 & -0.78 \\\\\n",
       "\t13 & 263 & 60 & -5.32 \\\\\n",
       "\t14 & 264 & 75 & 1.855 \\\\\n",
       "\t15 & 265 & 206 & -3.921 \\\\\n",
       "\t16 & 266 & 61 & 4.034 \\\\\n",
       "\t17 & 267 & 105 & -7.571 \\\\\n",
       "\t18 & 268 & 106 & -0.114 \\\\\n",
       "\t19 & 269 & 93 & 3.937 \\\\\n",
       "\t20 & 270 & 136 & -4.805 \\\\\n",
       "\t21 & 271 & 198 & -5.956 \\\\\n",
       "\t22 & 272 & 175 & 3.638 \\\\\n",
       "\t23 & 273 & 170 & 2.311 \\\\\n",
       "\t24 & 274 & 93 & -4.529 \\\\\n",
       "\t25 & 275 & 76 & -5.491 \\\\\n",
       "\t26 & 276 & 205 & 1.568 \\\\\n",
       "\t27 & 277 & 143 & 1.016 \\\\\n",
       "\t28 & 278 & 105 & 4.155 \\\\\n",
       "\t29 & 279 & 53 & 6.325 \\\\\n",
       "\t30 & 280 & 156 & -9.85 \\\\\n",
       "\t$\\dots$ & $\\dots$ & $\\dots$ & $\\dots$ \\\\\n",
       "\\end{tabular}\n"
      ],
      "text/plain": [
       "1000×3 DataFrame\n",
       "│ Row  │ Ind   │ Mat   │ y       │\n",
       "│      │ \u001b[90mInt64\u001b[39m │ \u001b[90mInt64\u001b[39m │ \u001b[90mFloat64\u001b[39m │\n",
       "├──────┼───────┼───────┼─────────┤\n",
       "│ 1    │ 251   │ 177   │ 3.896   │\n",
       "│ 2    │ 252   │ 192   │ -1.739  │\n",
       "│ 3    │ 253   │ 64    │ 2.729   │\n",
       "│ 4    │ 254   │ 191   │ 2.894   │\n",
       "│ 5    │ 255   │ 127   │ 4.331   │\n",
       "│ 6    │ 256   │ 130   │ -0.422  │\n",
       "│ 7    │ 257   │ 156   │ 2.034   │\n",
       "│ 8    │ 258   │ 140   │ 3.331   │\n",
       "│ 9    │ 259   │ 150   │ -3.944  │\n",
       "│ 10   │ 260   │ 218   │ 5.763   │\n",
       "⋮\n",
       "│ 990  │ 1240  │ 120   │ 1.717   │\n",
       "│ 991  │ 1241  │ 222   │ 0.752   │\n",
       "│ 992  │ 1242  │ 81    │ -5.466  │\n",
       "│ 993  │ 1243  │ 53    │ -4.169  │\n",
       "│ 994  │ 1244  │ 128   │ 4.882   │\n",
       "│ 995  │ 1245  │ 91    │ -5.681  │\n",
       "│ 996  │ 1246  │ 233   │ -11.324 │\n",
       "│ 997  │ 1247  │ 99    │ 0.743   │\n",
       "│ 998  │ 1248  │ 91    │ -7.615  │\n",
       "│ 999  │ 1249  │ 239   │ -0.767  │\n",
       "│ 1000 │ 1250  │ 53    │ 1.466   │"
      ]
     },
     "execution_count": 4,
     "metadata": {},
     "output_type": "execute_result"
    }
   ],
   "source": [
    "data = CSV.read(\"data.phen\")"
   ]
  },
  {
   "cell_type": "code",
   "execution_count": 5,
   "metadata": {},
   "outputs": [],
   "source": [
    "using Statistics"
   ]
  },
  {
   "cell_type": "code",
   "execution_count": 6,
   "metadata": {},
   "outputs": [
    {
     "data": {
      "text/plain": [
       "27.49455811886987"
      ]
     },
     "execution_count": 6,
     "metadata": {},
     "output_type": "execute_result"
    }
   ],
   "source": [
    "var(data[:,3])"
   ]
  },
  {
   "cell_type": "code",
   "execution_count": 7,
   "metadata": {},
   "outputs": [],
   "source": [
    "varGen = 10.0\n",
    "varRes = 10.0\n",
    "mme = initMME(\"y = intercept + Ind\",varRes);\n",
    "setRandom!(mme,\"Ind\",varGen,pedigree,estimate=true);"
   ]
  },
  {
   "cell_type": "code",
   "execution_count": 12,
   "metadata": {},
   "outputs": [],
   "source": [
    "lhs,rhs,names = getLhsRhs!(mme,data);"
   ]
  },
  {
   "cell_type": "code",
   "execution_count": 13,
   "metadata": {},
   "outputs": [],
   "source": [
    "x = zero(rhs);"
   ]
  },
  {
   "cell_type": "code",
   "execution_count": 14,
   "metadata": {},
   "outputs": [
    {
     "name": "stdout",
     "output_type": "stream",
     "text": [
      "at sample: 10000\n",
      "at sample: 20000\n",
      "at sample: 30000\n",
      "at sample: 40000\n",
      "at sample: 50000\n"
     ]
    }
   ],
   "source": [
    "nIter = 50000\n",
    "solGibbs = Gibbs!(lhs,x,rhs,varRes,nIter;outFreq=10000);"
   ]
  },
  {
   "cell_type": "code",
   "execution_count": 15,
   "metadata": {},
   "outputs": [
    {
     "data": {
      "text/plain": [
       "1249×3 Array{Any,2}:\n",
       " \"1:intercept\"  -1.48076    -1.47888  \n",
       " \"1:Ind: 1\"     -1.90448    -1.87255  \n",
       " \"1:Ind: 38\"     0.263537    0.243685 \n",
       " \"1:Ind: 125\"   -0.399633   -0.320123 \n",
       " \"1:Ind: 519\"    0.542761    0.552815 \n",
       " \"1:Ind: 16\"    -4.58948    -4.62245  \n",
       " \"1:Ind: 92\"     0.354914    0.329252 \n",
       " \"1:Ind: 788\"   -0.0817378  -0.113106 \n",
       " \"1:Ind: 24\"     3.30249     3.33855  \n",
       " \"1:Ind: 128\"    8.43335     8.29513  \n",
       " \"1:Ind: 1164\"   8.42009     8.39919  \n",
       " \"1:Ind: 9\"      2.62804     2.64594  \n",
       " \"1:Ind: 244\"    5.36919     5.38205  \n",
       " ⋮                                    \n",
       " \"1:Ind: 604\"    2.46648     2.45415  \n",
       " \"1:Ind: 1107\"   2.5581      2.59305  \n",
       " \"1:Ind: 998\"    3.28804     3.2561   \n",
       " \"1:Ind: 563\"    0.402485    0.42913  \n",
       " \"1:Ind: 655\"   -0.244807   -0.278626 \n",
       " \"1:Ind: 336\"    6.62992     6.63799  \n",
       " \"1:Ind: 732\"   -1.38965    -1.39108  \n",
       " \"1:Ind: 603\"   -4.32555    -4.25058  \n",
       " \"1:Ind: 414\"    4.34587     4.26951  \n",
       " \"1:Ind: 710\"   -2.46927    -2.54223  \n",
       " \"1:Ind: 1138\"  -0.0409687  -0.0107614\n",
       " \"1:Ind: 306\"    0.689486    0.683421 "
      ]
     },
     "execution_count": 15,
     "metadata": {},
     "output_type": "execute_result"
    }
   ],
   "source": [
    "QRLhs = qr(lhs) \n",
    "sol = QRLhs\\rhs\n",
    "[names solGibbs sol]"
   ]
  },
  {
   "cell_type": "code",
   "execution_count": 16,
   "metadata": {},
   "outputs": [
    {
     "data": {
      "text/plain": [
       "2×2 Array{Float64,2}:\n",
       " 1.0       0.999903\n",
       " 0.999903  1.0     "
      ]
     },
     "execution_count": 16,
     "metadata": {},
     "output_type": "execute_result"
    }
   ],
   "source": [
    "cor(ans[:,2:3])"
   ]
  },
  {
   "cell_type": "code",
   "execution_count": 9,
   "metadata": {},
   "outputs": [
    {
     "data": {
      "text/plain": [
       "sampleLoc! (generic function with 1 method)"
      ]
     },
     "execution_count": 9,
     "metadata": {},
     "output_type": "execute_result"
    }
   ],
   "source": [
    "function sampleLoc!(mme)\n",
    "    A = mme.mmeLhs\n",
    "    b = mme.mmeRhs\n",
    "    x = mme.mmeSpl\n",
    "    n = size(x,1)\n",
    "    for i=1:n\n",
    "        cVarInv = 1.0/A[i,i]\n",
    "        cMean   = cVarInv*(b[i] - A[:,i]'x) + x[i]\n",
    "        x[i]    = randn()*sqrt(cVarInv) + cMean\n",
    "    end\n",
    "end"
   ]
  },
  {
   "cell_type": "code",
   "execution_count": 10,
   "metadata": {},
   "outputs": [
    {
     "data": {
      "text/plain": [
       "sampleVar! (generic function with 2 methods)"
      ]
     },
     "execution_count": 10,
     "metadata": {},
     "output_type": "execute_result"
    }
   ],
   "source": [
    "function sampleVar!(mme,iter=0)\n",
    "    for randomEffect in mme.randomEffectsVec\n",
    "        if randomEffect.estimate == false continue end\n",
    "        modelTerm1 = randomEffect.modelTermVec[1]      \n",
    "        k = modelTerm1.endPos - modelTerm1.startPos\n",
    "        m = size(randomEffect.modelTermVec,1)\n",
    "        \n",
    "        S = zeros(m,m)\n",
    "        for i=1:m\n",
    "            modelTermi = randomEffect.modelTermVec[i]\n",
    "            starti = modelTermi.startPos\n",
    "            endi = modelTermi.endPos\n",
    "            ui = mme.mmeSpl[starti:endi]\n",
    "            for j=i:m\n",
    "                modelTermj = randomEffect.modelTermVec[j]\n",
    "                startj = modelTermj.startPos\n",
    "                endj = modelTermj.endPos\n",
    "                uj = mme.mmeSpl[startj:endj]\n",
    "                S[i,j] = ui'randomEffect.Ai*uj\n",
    "                S[j,i] = S[i,j]\n",
    "            end\n",
    "        end\n",
    "        Vpo = randomEffect.Spr + S\n",
    "        νpo = randomEffect.νpr + k \n",
    "        V = rand(InverseWishart(νpo,Vpo))\n",
    "        randomEffect.Vi = inv(V)\n",
    "        if iter>0\n",
    "            randomEffect.meanV += (V - randomEffect.meanV)/iter\n",
    "        end\n",
    "        if randomEffect.outSamples==true && iter%randomEffect.outFreq==0\n",
    "            for i=1:m,j=i:m\n",
    "                if i==j==1\n",
    "                    @printf(randomEffect.outStream,\"%10.5e\", V[i,j])\n",
    "                else\n",
    "                    @printf(randomEffect.outStream,\" %10.5e\", V[i,j])    \n",
    "                end\n",
    "            end\n",
    "            @printf(randomEffect.outStream,\"\\n\")\n",
    "        end\n",
    "            \n",
    "    end\n",
    "end"
   ]
  },
  {
   "cell_type": "code",
   "execution_count": 21,
   "metadata": {},
   "outputs": [
    {
     "data": {
      "text/plain": [
       "sampleVarRes! (generic function with 2 methods)"
      ]
     },
     "execution_count": 21,
     "metadata": {},
     "output_type": "execute_result"
    }
   ],
   "source": [
    "function sampleVarRes!(mme,iter=0)\n",
    "    m = size(mme.varRes,1)\n",
    "    n = Int(size(mme.y,1)/m)\n",
    "    S = zeros(m,m)\n",
    "    e = mme.y - mme.X*mme.mmeSpl\n",
    "    for i=1:m\n",
    "        starti = (i - 1)*n + 1\n",
    "        endi = starti + n - 1\n",
    "        ei = e[starti:endi]\n",
    "        for j=i:m\n",
    "            startj = (j - 1)*n + 1\n",
    "            endj = startj + n - 1\n",
    "            ej = e[startj:endj]\n",
    "            S[i,j] = ei'ej\n",
    "            S[j,i] = S[i,j]\n",
    "        end\n",
    "    end\n",
    "    νpo = n + mme.νRes\n",
    "    Spo = S + mme.SRes\n",
    "    mme.varRes = rand(InverseWishart(νpo,Spo))\n",
    "    if iter>0\n",
    "        mme.meanVarRes += (mme.varRes - mme.meanVarRes)/iter\n",
    "    end  \n",
    "end"
   ]
  },
  {
   "cell_type": "code",
   "execution_count": 12,
   "metadata": {},
   "outputs": [],
   "source": [
    "using Distributions"
   ]
  },
  {
   "cell_type": "code",
   "execution_count": 13,
   "metadata": {},
   "outputs": [],
   "source": [
    "using Plots"
   ]
  },
  {
   "cell_type": "code",
   "execution_count": 14,
   "metadata": {},
   "outputs": [
    {
     "data": {
      "text/plain": [
       "runMCMC! (generic function with 1 method)"
      ]
     },
     "execution_count": 14,
     "metadata": {},
     "output_type": "execute_result"
    }
   ],
   "source": [
    "using ProgressMeter\n",
    "function runMCMC!(mme,nIter,burnIn)\n",
    "    @showprogress \"MCMC sampling\" for iter = 1:nIter\n",
    "        sampleLoc!(mme)\n",
    "        sampleVar!(mme,iter-burnIn)\n",
    "        sampleVarRes!(mme,iter-burnIn)\n",
    "        updateLhsRhs!(mme)\n",
    "    end\n",
    "    for randomEffect in mme.randomEffectsVec\n",
    "        if randomEffect.outStream != nothing close(randomEffect.outStream) end\n",
    "    end\n",
    "end"
   ]
  },
  {
   "cell_type": "code",
   "execution_count": 15,
   "metadata": {},
   "outputs": [
    {
     "data": {
      "text/plain": [
       "1000"
      ]
     },
     "execution_count": 15,
     "metadata": {},
     "output_type": "execute_result"
    }
   ],
   "source": [
    "varGen = G0 = [10.0 2.0; 2.0 3.0]\n",
    "varRes = 12.0\n",
    "mme = initMME(\"y = intercept + Ind + Mat\",varRes);\n",
    "setRandom!(mme,\"Ind, Mat\",varGen,pedigree,estimate=true,outSamples=true);\n",
    "lhs,rhs,names = getLhsRhs!(mme,data);\n",
    "nIter  = 10_000\n",
    "burnIn = 1_000"
   ]
  },
  {
   "cell_type": "code",
   "execution_count": 16,
   "metadata": {},
   "outputs": [
    {
     "data": {
      "text/plain": [
       "(2497, 2497)"
      ]
     },
     "execution_count": 16,
     "metadata": {},
     "output_type": "execute_result"
    }
   ],
   "source": [
    "size(mme.mmeLhs)"
   ]
  },
  {
   "cell_type": "code",
   "execution_count": 22,
   "metadata": {},
   "outputs": [
    {
     "name": "stderr",
     "output_type": "stream",
     "text": [
      "\u001b[32mMCMC sampling100%|██████████████████████████████████████| Time: 0:00:24\u001b[39m\n"
     ]
    }
   ],
   "source": [
    "runMCMC!(mme,nIter,burnIn)"
   ]
  },
  {
   "cell_type": "code",
   "execution_count": 1,
   "metadata": {},
   "outputs": [
    {
     "ename": "UndefVarError",
     "evalue": "UndefVarError: CSV not defined",
     "output_type": "error",
     "traceback": [
      "UndefVarError: CSV not defined",
      "",
      "Stacktrace:",
      " [1] top-level scope at In[1]:1"
     ]
    }
   ],
   "source": [
    "res = CSV.read(\"V(Ind, Mat).samples\")"
   ]
  },
  {
   "cell_type": "code",
   "execution_count": 41,
   "metadata": {},
   "outputs": [
    {
     "data": {
      "text/plain": [
       "1×3 Array{Float64,2}:\n",
       " 13.3561  3.86582  2.23405"
      ]
     },
     "execution_count": 41,
     "metadata": {},
     "output_type": "execute_result"
    }
   ],
   "source": [
    "mean(Matrix(res),dims=1)"
   ]
  },
  {
   "cell_type": "code",
   "execution_count": 42,
   "metadata": {},
   "outputs": [
    {
     "data": {
      "image/svg+xml": [
       "<?xml version=\"1.0\" encoding=\"utf-8\"?>\n",
       "<svg xmlns=\"http://www.w3.org/2000/svg\" xmlns:xlink=\"http://www.w3.org/1999/xlink\" width=\"600\" height=\"400\" viewBox=\"0 0 2400 1600\">\n",
       "<defs>\n",
       "  <clipPath id=\"clip3200\">\n",
       "    <rect x=\"0\" y=\"0\" width=\"2400\" height=\"1600\"/>\n",
       "  </clipPath>\n",
       "</defs>\n",
       "<path clip-path=\"url(#clip3200)\" d=\"\n",
       "M0 1600 L2400 1600 L2400 0 L0 0  Z\n",
       "  \" fill=\"#ffffff\" fill-rule=\"evenodd\" fill-opacity=\"1\"/>\n",
       "<defs>\n",
       "  <clipPath id=\"clip3201\">\n",
       "    <rect x=\"480\" y=\"0\" width=\"1681\" height=\"1600\"/>\n",
       "  </clipPath>\n",
       "</defs>\n",
       "<path clip-path=\"url(#clip3200)\" d=\"\n",
       "M140.517 1487.47 L2352.76 1487.47 L2352.76 47.2441 L140.517 47.2441  Z\n",
       "  \" fill=\"#ffffff\" fill-rule=\"evenodd\" fill-opacity=\"1\"/>\n",
       "<defs>\n",
       "  <clipPath id=\"clip3202\">\n",
       "    <rect x=\"140\" y=\"47\" width=\"2213\" height=\"1441\"/>\n",
       "  </clipPath>\n",
       "</defs>\n",
       "<polyline clip-path=\"url(#clip3202)\" style=\"stroke:#000000; stroke-width:2; stroke-opacity:0.1; fill:none\" points=\"\n",
       "  182.046,1487.47 182.046,47.2441 \n",
       "  \"/>\n",
       "<polyline clip-path=\"url(#clip3202)\" style=\"stroke:#000000; stroke-width:2; stroke-opacity:0.1; fill:none\" points=\"\n",
       "  709.071,1487.47 709.071,47.2441 \n",
       "  \"/>\n",
       "<polyline clip-path=\"url(#clip3202)\" style=\"stroke:#000000; stroke-width:2; stroke-opacity:0.1; fill:none\" points=\"\n",
       "  1236.1,1487.47 1236.1,47.2441 \n",
       "  \"/>\n",
       "<polyline clip-path=\"url(#clip3202)\" style=\"stroke:#000000; stroke-width:2; stroke-opacity:0.1; fill:none\" points=\"\n",
       "  1763.12,1487.47 1763.12,47.2441 \n",
       "  \"/>\n",
       "<polyline clip-path=\"url(#clip3202)\" style=\"stroke:#000000; stroke-width:2; stroke-opacity:0.1; fill:none\" points=\"\n",
       "  2290.15,1487.47 2290.15,47.2441 \n",
       "  \"/>\n",
       "<polyline clip-path=\"url(#clip3202)\" style=\"stroke:#000000; stroke-width:2; stroke-opacity:0.1; fill:none\" points=\"\n",
       "  140.517,1191.46 2352.76,1191.46 \n",
       "  \"/>\n",
       "<polyline clip-path=\"url(#clip3202)\" style=\"stroke:#000000; stroke-width:2; stroke-opacity:0.1; fill:none\" points=\"\n",
       "  140.517,879.565 2352.76,879.565 \n",
       "  \"/>\n",
       "<polyline clip-path=\"url(#clip3202)\" style=\"stroke:#000000; stroke-width:2; stroke-opacity:0.1; fill:none\" points=\"\n",
       "  140.517,567.674 2352.76,567.674 \n",
       "  \"/>\n",
       "<polyline clip-path=\"url(#clip3202)\" style=\"stroke:#000000; stroke-width:2; stroke-opacity:0.1; fill:none\" points=\"\n",
       "  140.517,255.784 2352.76,255.784 \n",
       "  \"/>\n",
       "<polyline clip-path=\"url(#clip3200)\" style=\"stroke:#000000; stroke-width:4; stroke-opacity:1; fill:none\" points=\"\n",
       "  140.517,1487.47 2352.76,1487.47 \n",
       "  \"/>\n",
       "<polyline clip-path=\"url(#clip3200)\" style=\"stroke:#000000; stroke-width:4; stroke-opacity:1; fill:none\" points=\"\n",
       "  140.517,1487.47 140.517,47.2441 \n",
       "  \"/>\n",
       "<polyline clip-path=\"url(#clip3200)\" style=\"stroke:#000000; stroke-width:4; stroke-opacity:1; fill:none\" points=\"\n",
       "  182.046,1487.47 182.046,1465.87 \n",
       "  \"/>\n",
       "<polyline clip-path=\"url(#clip3200)\" style=\"stroke:#000000; stroke-width:4; stroke-opacity:1; fill:none\" points=\"\n",
       "  709.071,1487.47 709.071,1465.87 \n",
       "  \"/>\n",
       "<polyline clip-path=\"url(#clip3200)\" style=\"stroke:#000000; stroke-width:4; stroke-opacity:1; fill:none\" points=\"\n",
       "  1236.1,1487.47 1236.1,1465.87 \n",
       "  \"/>\n",
       "<polyline clip-path=\"url(#clip3200)\" style=\"stroke:#000000; stroke-width:4; stroke-opacity:1; fill:none\" points=\"\n",
       "  1763.12,1487.47 1763.12,1465.87 \n",
       "  \"/>\n",
       "<polyline clip-path=\"url(#clip3200)\" style=\"stroke:#000000; stroke-width:4; stroke-opacity:1; fill:none\" points=\"\n",
       "  2290.15,1487.47 2290.15,1465.87 \n",
       "  \"/>\n",
       "<polyline clip-path=\"url(#clip3200)\" style=\"stroke:#000000; stroke-width:4; stroke-opacity:1; fill:none\" points=\"\n",
       "  140.517,1191.46 173.7,1191.46 \n",
       "  \"/>\n",
       "<polyline clip-path=\"url(#clip3200)\" style=\"stroke:#000000; stroke-width:4; stroke-opacity:1; fill:none\" points=\"\n",
       "  140.517,879.565 173.7,879.565 \n",
       "  \"/>\n",
       "<polyline clip-path=\"url(#clip3200)\" style=\"stroke:#000000; stroke-width:4; stroke-opacity:1; fill:none\" points=\"\n",
       "  140.517,567.674 173.7,567.674 \n",
       "  \"/>\n",
       "<polyline clip-path=\"url(#clip3200)\" style=\"stroke:#000000; stroke-width:4; stroke-opacity:1; fill:none\" points=\"\n",
       "  140.517,255.784 173.7,255.784 \n",
       "  \"/>\n",
       "<g clip-path=\"url(#clip3200)\">\n",
       "<text style=\"fill:#000000; fill-opacity:1; font-family:Arial,Helvetica Neue,Helvetica,sans-serif; font-size:48px; text-anchor:middle;\" transform=\"rotate(0, 182.046, 1541.47)\" x=\"182.046\" y=\"1541.47\">0</text>\n",
       "</g>\n",
       "<g clip-path=\"url(#clip3200)\">\n",
       "<text style=\"fill:#000000; fill-opacity:1; font-family:Arial,Helvetica Neue,Helvetica,sans-serif; font-size:48px; text-anchor:middle;\" transform=\"rotate(0, 709.071, 1541.47)\" x=\"709.071\" y=\"1541.47\">25</text>\n",
       "</g>\n",
       "<g clip-path=\"url(#clip3200)\">\n",
       "<text style=\"fill:#000000; fill-opacity:1; font-family:Arial,Helvetica Neue,Helvetica,sans-serif; font-size:48px; text-anchor:middle;\" transform=\"rotate(0, 1236.1, 1541.47)\" x=\"1236.1\" y=\"1541.47\">50</text>\n",
       "</g>\n",
       "<g clip-path=\"url(#clip3200)\">\n",
       "<text style=\"fill:#000000; fill-opacity:1; font-family:Arial,Helvetica Neue,Helvetica,sans-serif; font-size:48px; text-anchor:middle;\" transform=\"rotate(0, 1763.12, 1541.47)\" x=\"1763.12\" y=\"1541.47\">75</text>\n",
       "</g>\n",
       "<g clip-path=\"url(#clip3200)\">\n",
       "<text style=\"fill:#000000; fill-opacity:1; font-family:Arial,Helvetica Neue,Helvetica,sans-serif; font-size:48px; text-anchor:middle;\" transform=\"rotate(0, 2290.15, 1541.47)\" x=\"2290.15\" y=\"1541.47\">100</text>\n",
       "</g>\n",
       "<g clip-path=\"url(#clip3200)\">\n",
       "<text style=\"fill:#000000; fill-opacity:1; font-family:Arial,Helvetica Neue,Helvetica,sans-serif; font-size:48px; text-anchor:end;\" transform=\"rotate(0, 116.517, 1208.96)\" x=\"116.517\" y=\"1208.96\">5</text>\n",
       "</g>\n",
       "<g clip-path=\"url(#clip3200)\">\n",
       "<text style=\"fill:#000000; fill-opacity:1; font-family:Arial,Helvetica Neue,Helvetica,sans-serif; font-size:48px; text-anchor:end;\" transform=\"rotate(0, 116.517, 897.065)\" x=\"116.517\" y=\"897.065\">10</text>\n",
       "</g>\n",
       "<g clip-path=\"url(#clip3200)\">\n",
       "<text style=\"fill:#000000; fill-opacity:1; font-family:Arial,Helvetica Neue,Helvetica,sans-serif; font-size:48px; text-anchor:end;\" transform=\"rotate(0, 116.517, 585.174)\" x=\"116.517\" y=\"585.174\">15</text>\n",
       "</g>\n",
       "<g clip-path=\"url(#clip3200)\">\n",
       "<text style=\"fill:#000000; fill-opacity:1; font-family:Arial,Helvetica Neue,Helvetica,sans-serif; font-size:48px; text-anchor:end;\" transform=\"rotate(0, 116.517, 273.284)\" x=\"116.517\" y=\"273.284\">20</text>\n",
       "</g>\n",
       "<polyline clip-path=\"url(#clip3202)\" style=\"stroke:#009af9; stroke-width:4; stroke-opacity:1; fill:none\" points=\"\n",
       "  203.127,991.108 224.208,775.606 245.289,930.887 266.37,905.544 287.451,951.216 308.532,1030.1 329.613,932.955 350.694,793.901 371.775,708.923 392.856,723.626 \n",
       "  413.937,549.335 435.018,610.784 456.099,887.442 477.18,862.099 498.261,756.181 519.342,574.168 540.423,679.974 561.504,731.423 582.585,685.457 603.666,603.604 \n",
       "  624.747,812.802 645.828,808.647 666.909,760.41 687.99,229.03 709.071,142.306 730.152,674.266 751.233,755.196 772.314,629.229 793.395,898.856 814.476,599.955 \n",
       "  835.557,659.401 856.638,399.927 877.719,247.369 898.8,143.403 919.881,643.826 940.962,577.1 962.043,584.223 983.124,528.913 1004.2,825.758 1025.29,685.825 \n",
       "  1046.37,349.22 1067.45,751.659 1088.53,763.885 1109.61,624.707 1130.69,212.992 1151.77,125.881 1172.85,386.896 1193.93,611.913 1215.01,509.937 1236.1,559.696 \n",
       "  1257.18,715.648 1278.26,578.148 1299.34,620.085 1320.42,653.656 1341.5,635.966 1362.58,839.113 1383.66,904.203 1404.74,786.94 1425.82,872.136 1446.91,887.85 \n",
       "  1467.99,1002.73 1489.07,926.11 1510.15,874.899 1531.23,966.664 1552.31,994.673 1573.39,748.359 1594.47,878.48 1615.55,707.626 1636.63,465.193 1657.72,371.826 \n",
       "  1678.8,625.318 1699.88,767.914 1720.96,664.011 1742.04,613.485 1763.12,537.995 1784.2,312.76 1805.28,417.624 1826.36,915.052 1847.44,894.27 1868.53,807.362 \n",
       "  1889.61,767.665 1910.69,833.412 1931.77,749.756 1952.85,566.52 1973.93,629.585 1995.01,715.286 2016.09,578.597 2037.17,88.0053 2058.25,251.33 2079.34,506.656 \n",
       "  2100.42,606.074 2121.5,665.621 2142.58,722.709 2163.66,792.205 2184.74,594.647 2205.82,503.562 2226.9,748.789 2247.98,806.252 2269.06,947.035 2290.15,774.19 \n",
       "  \n",
       "  \"/>\n",
       "<polyline clip-path=\"url(#clip3202)\" style=\"stroke:#e26f46; stroke-width:4; stroke-opacity:1; fill:none\" points=\"\n",
       "  203.127,1258.7 224.208,1354.98 245.289,1305.48 266.37,1214.62 287.451,1239.79 308.532,1227.13 329.613,1313.06 350.694,1177.88 371.775,1295.65 392.856,1320.56 \n",
       "  413.937,1260.67 435.018,1269.33 456.099,1262.82 477.18,1223.4 498.261,1209.78 519.342,1196.3 540.423,1186.67 561.504,1214.18 582.585,1215.29 603.666,1144.53 \n",
       "  624.747,1221.26 645.828,1239.74 666.909,1273.05 687.99,1223.22 709.071,1243.69 730.152,1287.95 751.233,1271.88 772.314,1330.96 793.395,1354.88 814.476,1342.46 \n",
       "  835.557,1324.43 856.638,1275.55 877.719,1306.52 898.8,1274.29 919.881,1316.27 940.962,1245.63 962.043,1244.17 983.124,1190.59 1004.2,1257.26 1025.29,1276.47 \n",
       "  1046.37,1228.12 1067.45,1288.66 1088.53,1299.78 1109.61,1282.23 1130.69,1274.94 1151.77,1242.17 1172.85,1305.32 1193.93,1300.56 1215.01,1270.8 1236.1,1279.89 \n",
       "  1257.18,1260.73 1278.26,1307.25 1299.34,1295.27 1320.42,1276.95 1341.5,1253.54 1362.58,1244.37 1383.66,1259.79 1404.74,1235.63 1425.82,1267.66 1446.91,1191.58 \n",
       "  1467.99,1272.11 1489.07,1198.16 1510.15,1174.61 1531.23,1208.84 1552.31,1218.02 1573.39,1222.11 1594.47,1289.55 1615.55,1352.2 1636.63,1304.71 1657.72,1248.57 \n",
       "  1678.8,1244.48 1699.88,1306.91 1720.96,1308 1742.04,1173.78 1763.12,1224.31 1784.2,1265.69 1805.28,1323.64 1826.36,1285.89 1847.44,1264.28 1868.53,1390.94 \n",
       "  1889.61,1220.62 1910.69,1312.49 1931.77,1242 1952.85,1232.05 1973.93,1253.37 1995.01,1200.13 2016.09,1253.66 2037.17,1192.69 2058.25,1352.7 2079.34,1263.34 \n",
       "  2100.42,1245.41 2121.5,1229.66 2142.58,1217.38 2163.66,1172.81 2184.74,1274.26 2205.82,1277.26 2226.9,1349.47 2247.98,1354.43 2269.06,1303.24 2290.15,1240.26 \n",
       "  \n",
       "  \"/>\n",
       "<polyline clip-path=\"url(#clip3202)\" style=\"stroke:#3da44d; stroke-width:4; stroke-opacity:1; fill:none\" points=\"\n",
       "  203.127,1277.71 224.208,1296.45 245.289,1305.2 266.37,1300.48 287.451,1324.5 308.532,1216.51 329.613,1354.41 350.694,1302.97 371.775,1416.32 392.856,1436.49 \n",
       "  413.937,1404.9 435.018,1360.81 456.099,1331.28 477.18,1277.14 498.261,1328.38 519.342,1355.13 540.423,1332.33 561.504,1354.4 582.585,1369.96 603.666,1334.49 \n",
       "  624.747,1347.55 645.828,1314.65 666.909,1353.98 687.99,1382.06 709.071,1373.6 730.152,1359.73 751.233,1362.37 772.314,1355 793.395,1405.75 814.476,1433.11 \n",
       "  835.557,1435.88 856.638,1433.11 877.719,1446.71 898.8,1444.47 919.881,1432.79 940.962,1415.61 962.043,1421.9 983.124,1379.03 1004.2,1396.35 1025.29,1416.66 \n",
       "  1046.37,1408.97 1067.45,1403.23 1088.53,1412.34 1109.61,1426.91 1130.69,1445.43 1151.77,1434.8 1172.85,1439.34 1193.93,1420.91 1215.01,1415.17 1236.1,1413.55 \n",
       "  1257.18,1320.8 1278.26,1338.12 1299.34,1346.18 1320.42,1330.96 1341.5,1352.77 1362.58,1354.9 1383.66,1389.41 1404.74,1380.86 1425.82,1393.59 1446.91,1267.42 \n",
       "  1467.99,1333.33 1489.07,1258.79 1510.15,1275.81 1531.23,1315.76 1552.31,1237.02 1573.39,1326.41 1594.47,1346.38 1615.55,1415.18 1636.63,1422.47 1657.72,1398.5 \n",
       "  1678.8,1347.87 1699.88,1334.78 1720.96,1387.74 1742.04,1329.38 1763.12,1370.24 1784.2,1396.79 1805.28,1334.98 1826.36,1316.36 1847.44,1312.76 1868.53,1355.35 \n",
       "  1889.61,1290.78 1910.69,1360.38 1931.77,1350.61 1952.85,1369.02 1973.93,1401.72 1995.01,1332.07 2016.09,1380.92 2037.17,1377.41 2058.25,1394.8 2079.34,1347.45 \n",
       "  2100.42,1349.19 2121.5,1371.77 2142.58,1354.82 2163.66,1313.29 2184.74,1396.12 2205.82,1426.59 2226.9,1387.15 2247.98,1372.95 2269.06,1361.64 2290.15,1358.67 \n",
       "  \n",
       "  \"/>\n",
       "<path clip-path=\"url(#clip3200)\" d=\"\n",
       "M1989.93 372.684 L2280.76 372.684 L2280.76 130.764 L1989.93 130.764  Z\n",
       "  \" fill=\"#ffffff\" fill-rule=\"evenodd\" fill-opacity=\"1\"/>\n",
       "<polyline clip-path=\"url(#clip3200)\" style=\"stroke:#000000; stroke-width:4; stroke-opacity:1; fill:none\" points=\"\n",
       "  1989.93,372.684 2280.76,372.684 2280.76,130.764 1989.93,130.764 1989.93,372.684 \n",
       "  \"/>\n",
       "<polyline clip-path=\"url(#clip3200)\" style=\"stroke:#009af9; stroke-width:4; stroke-opacity:1; fill:none\" points=\"\n",
       "  2013.93,191.244 2157.93,191.244 \n",
       "  \"/>\n",
       "<g clip-path=\"url(#clip3200)\">\n",
       "<text style=\"fill:#000000; fill-opacity:1; font-family:Arial,Helvetica Neue,Helvetica,sans-serif; font-size:48px; text-anchor:start;\" transform=\"rotate(0, 2181.93, 208.744)\" x=\"2181.93\" y=\"208.744\">y1</text>\n",
       "</g>\n",
       "<polyline clip-path=\"url(#clip3200)\" style=\"stroke:#e26f46; stroke-width:4; stroke-opacity:1; fill:none\" points=\"\n",
       "  2013.93,251.724 2157.93,251.724 \n",
       "  \"/>\n",
       "<g clip-path=\"url(#clip3200)\">\n",
       "<text style=\"fill:#000000; fill-opacity:1; font-family:Arial,Helvetica Neue,Helvetica,sans-serif; font-size:48px; text-anchor:start;\" transform=\"rotate(0, 2181.93, 269.224)\" x=\"2181.93\" y=\"269.224\">y2</text>\n",
       "</g>\n",
       "<polyline clip-path=\"url(#clip3200)\" style=\"stroke:#3da44d; stroke-width:4; stroke-opacity:1; fill:none\" points=\"\n",
       "  2013.93,312.204 2157.93,312.204 \n",
       "  \"/>\n",
       "<g clip-path=\"url(#clip3200)\">\n",
       "<text style=\"fill:#000000; fill-opacity:1; font-family:Arial,Helvetica Neue,Helvetica,sans-serif; font-size:48px; text-anchor:start;\" transform=\"rotate(0, 2181.93, 329.704)\" x=\"2181.93\" y=\"329.704\">y3</text>\n",
       "</g>\n",
       "</svg>\n"
      ]
     },
     "execution_count": 42,
     "metadata": {},
     "output_type": "execute_result"
    }
   ],
   "source": [
    "plot(Matrix(res))"
   ]
  },
  {
   "cell_type": "code",
   "execution_count": 43,
   "metadata": {},
   "outputs": [
    {
     "data": {
      "text/plain": [
       "runMean (generic function with 1 method)"
      ]
     },
     "execution_count": 43,
     "metadata": {},
     "output_type": "execute_result"
    }
   ],
   "source": [
    "function runMean(x)\n",
    "    meanx = 0\n",
    "    [meanx += (v-meanx)/i for (i,v) in enumerate(x)]\n",
    "end        "
   ]
  },
  {
   "cell_type": "code",
   "execution_count": 44,
   "metadata": {},
   "outputs": [
    {
     "data": {
      "image/svg+xml": [
       "<?xml version=\"1.0\" encoding=\"utf-8\"?>\n",
       "<svg xmlns=\"http://www.w3.org/2000/svg\" xmlns:xlink=\"http://www.w3.org/1999/xlink\" width=\"600\" height=\"400\" viewBox=\"0 0 2400 1600\">\n",
       "<defs>\n",
       "  <clipPath id=\"clip3600\">\n",
       "    <rect x=\"0\" y=\"0\" width=\"2400\" height=\"1600\"/>\n",
       "  </clipPath>\n",
       "</defs>\n",
       "<path clip-path=\"url(#clip3600)\" d=\"\n",
       "M0 1600 L2400 1600 L2400 0 L0 0  Z\n",
       "  \" fill=\"#ffffff\" fill-rule=\"evenodd\" fill-opacity=\"1\"/>\n",
       "<defs>\n",
       "  <clipPath id=\"clip3601\">\n",
       "    <rect x=\"480\" y=\"0\" width=\"1681\" height=\"1600\"/>\n",
       "  </clipPath>\n",
       "</defs>\n",
       "<path clip-path=\"url(#clip3600)\" d=\"\n",
       "M140.517 1487.47 L2352.76 1487.47 L2352.76 47.2441 L140.517 47.2441  Z\n",
       "  \" fill=\"#ffffff\" fill-rule=\"evenodd\" fill-opacity=\"1\"/>\n",
       "<defs>\n",
       "  <clipPath id=\"clip3602\">\n",
       "    <rect x=\"140\" y=\"47\" width=\"2213\" height=\"1441\"/>\n",
       "  </clipPath>\n",
       "</defs>\n",
       "<polyline clip-path=\"url(#clip3602)\" style=\"stroke:#000000; stroke-width:2; stroke-opacity:0.1; fill:none\" points=\"\n",
       "  182.046,1487.47 182.046,47.2441 \n",
       "  \"/>\n",
       "<polyline clip-path=\"url(#clip3602)\" style=\"stroke:#000000; stroke-width:2; stroke-opacity:0.1; fill:none\" points=\"\n",
       "  709.071,1487.47 709.071,47.2441 \n",
       "  \"/>\n",
       "<polyline clip-path=\"url(#clip3602)\" style=\"stroke:#000000; stroke-width:2; stroke-opacity:0.1; fill:none\" points=\"\n",
       "  1236.1,1487.47 1236.1,47.2441 \n",
       "  \"/>\n",
       "<polyline clip-path=\"url(#clip3602)\" style=\"stroke:#000000; stroke-width:2; stroke-opacity:0.1; fill:none\" points=\"\n",
       "  1763.12,1487.47 1763.12,47.2441 \n",
       "  \"/>\n",
       "<polyline clip-path=\"url(#clip3602)\" style=\"stroke:#000000; stroke-width:2; stroke-opacity:0.1; fill:none\" points=\"\n",
       "  2290.15,1487.47 2290.15,47.2441 \n",
       "  \"/>\n",
       "<polyline clip-path=\"url(#clip3602)\" style=\"stroke:#000000; stroke-width:2; stroke-opacity:0.1; fill:none\" points=\"\n",
       "  140.517,1254.58 2352.76,1254.58 \n",
       "  \"/>\n",
       "<polyline clip-path=\"url(#clip3602)\" style=\"stroke:#000000; stroke-width:2; stroke-opacity:0.1; fill:none\" points=\"\n",
       "  140.517,1010.82 2352.76,1010.82 \n",
       "  \"/>\n",
       "<polyline clip-path=\"url(#clip3602)\" style=\"stroke:#000000; stroke-width:2; stroke-opacity:0.1; fill:none\" points=\"\n",
       "  140.517,767.051 2352.76,767.051 \n",
       "  \"/>\n",
       "<polyline clip-path=\"url(#clip3602)\" style=\"stroke:#000000; stroke-width:2; stroke-opacity:0.1; fill:none\" points=\"\n",
       "  140.517,523.285 2352.76,523.285 \n",
       "  \"/>\n",
       "<polyline clip-path=\"url(#clip3602)\" style=\"stroke:#000000; stroke-width:2; stroke-opacity:0.1; fill:none\" points=\"\n",
       "  140.517,279.52 2352.76,279.52 \n",
       "  \"/>\n",
       "<polyline clip-path=\"url(#clip3600)\" style=\"stroke:#000000; stroke-width:4; stroke-opacity:1; fill:none\" points=\"\n",
       "  140.517,1487.47 2352.76,1487.47 \n",
       "  \"/>\n",
       "<polyline clip-path=\"url(#clip3600)\" style=\"stroke:#000000; stroke-width:4; stroke-opacity:1; fill:none\" points=\"\n",
       "  140.517,1487.47 140.517,47.2441 \n",
       "  \"/>\n",
       "<polyline clip-path=\"url(#clip3600)\" style=\"stroke:#000000; stroke-width:4; stroke-opacity:1; fill:none\" points=\"\n",
       "  182.046,1487.47 182.046,1465.87 \n",
       "  \"/>\n",
       "<polyline clip-path=\"url(#clip3600)\" style=\"stroke:#000000; stroke-width:4; stroke-opacity:1; fill:none\" points=\"\n",
       "  709.071,1487.47 709.071,1465.87 \n",
       "  \"/>\n",
       "<polyline clip-path=\"url(#clip3600)\" style=\"stroke:#000000; stroke-width:4; stroke-opacity:1; fill:none\" points=\"\n",
       "  1236.1,1487.47 1236.1,1465.87 \n",
       "  \"/>\n",
       "<polyline clip-path=\"url(#clip3600)\" style=\"stroke:#000000; stroke-width:4; stroke-opacity:1; fill:none\" points=\"\n",
       "  1763.12,1487.47 1763.12,1465.87 \n",
       "  \"/>\n",
       "<polyline clip-path=\"url(#clip3600)\" style=\"stroke:#000000; stroke-width:4; stroke-opacity:1; fill:none\" points=\"\n",
       "  2290.15,1487.47 2290.15,1465.87 \n",
       "  \"/>\n",
       "<polyline clip-path=\"url(#clip3600)\" style=\"stroke:#000000; stroke-width:4; stroke-opacity:1; fill:none\" points=\"\n",
       "  140.517,1254.58 173.7,1254.58 \n",
       "  \"/>\n",
       "<polyline clip-path=\"url(#clip3600)\" style=\"stroke:#000000; stroke-width:4; stroke-opacity:1; fill:none\" points=\"\n",
       "  140.517,1010.82 173.7,1010.82 \n",
       "  \"/>\n",
       "<polyline clip-path=\"url(#clip3600)\" style=\"stroke:#000000; stroke-width:4; stroke-opacity:1; fill:none\" points=\"\n",
       "  140.517,767.051 173.7,767.051 \n",
       "  \"/>\n",
       "<polyline clip-path=\"url(#clip3600)\" style=\"stroke:#000000; stroke-width:4; stroke-opacity:1; fill:none\" points=\"\n",
       "  140.517,523.285 173.7,523.285 \n",
       "  \"/>\n",
       "<polyline clip-path=\"url(#clip3600)\" style=\"stroke:#000000; stroke-width:4; stroke-opacity:1; fill:none\" points=\"\n",
       "  140.517,279.52 173.7,279.52 \n",
       "  \"/>\n",
       "<g clip-path=\"url(#clip3600)\">\n",
       "<text style=\"fill:#000000; fill-opacity:1; font-family:Arial,Helvetica Neue,Helvetica,sans-serif; font-size:48px; text-anchor:middle;\" transform=\"rotate(0, 182.046, 1541.47)\" x=\"182.046\" y=\"1541.47\">0</text>\n",
       "</g>\n",
       "<g clip-path=\"url(#clip3600)\">\n",
       "<text style=\"fill:#000000; fill-opacity:1; font-family:Arial,Helvetica Neue,Helvetica,sans-serif; font-size:48px; text-anchor:middle;\" transform=\"rotate(0, 709.071, 1541.47)\" x=\"709.071\" y=\"1541.47\">25</text>\n",
       "</g>\n",
       "<g clip-path=\"url(#clip3600)\">\n",
       "<text style=\"fill:#000000; fill-opacity:1; font-family:Arial,Helvetica Neue,Helvetica,sans-serif; font-size:48px; text-anchor:middle;\" transform=\"rotate(0, 1236.1, 1541.47)\" x=\"1236.1\" y=\"1541.47\">50</text>\n",
       "</g>\n",
       "<g clip-path=\"url(#clip3600)\">\n",
       "<text style=\"fill:#000000; fill-opacity:1; font-family:Arial,Helvetica Neue,Helvetica,sans-serif; font-size:48px; text-anchor:middle;\" transform=\"rotate(0, 1763.12, 1541.47)\" x=\"1763.12\" y=\"1541.47\">75</text>\n",
       "</g>\n",
       "<g clip-path=\"url(#clip3600)\">\n",
       "<text style=\"fill:#000000; fill-opacity:1; font-family:Arial,Helvetica Neue,Helvetica,sans-serif; font-size:48px; text-anchor:middle;\" transform=\"rotate(0, 2290.15, 1541.47)\" x=\"2290.15\" y=\"1541.47\">100</text>\n",
       "</g>\n",
       "<g clip-path=\"url(#clip3600)\">\n",
       "<text style=\"fill:#000000; fill-opacity:1; font-family:Arial,Helvetica Neue,Helvetica,sans-serif; font-size:48px; text-anchor:end;\" transform=\"rotate(0, 116.517, 1272.08)\" x=\"116.517\" y=\"1272.08\">9</text>\n",
       "</g>\n",
       "<g clip-path=\"url(#clip3600)\">\n",
       "<text style=\"fill:#000000; fill-opacity:1; font-family:Arial,Helvetica Neue,Helvetica,sans-serif; font-size:48px; text-anchor:end;\" transform=\"rotate(0, 116.517, 1028.32)\" x=\"116.517\" y=\"1028.32\">10</text>\n",
       "</g>\n",
       "<g clip-path=\"url(#clip3600)\">\n",
       "<text style=\"fill:#000000; fill-opacity:1; font-family:Arial,Helvetica Neue,Helvetica,sans-serif; font-size:48px; text-anchor:end;\" transform=\"rotate(0, 116.517, 784.551)\" x=\"116.517\" y=\"784.551\">11</text>\n",
       "</g>\n",
       "<g clip-path=\"url(#clip3600)\">\n",
       "<text style=\"fill:#000000; fill-opacity:1; font-family:Arial,Helvetica Neue,Helvetica,sans-serif; font-size:48px; text-anchor:end;\" transform=\"rotate(0, 116.517, 540.785)\" x=\"116.517\" y=\"540.785\">12</text>\n",
       "</g>\n",
       "<g clip-path=\"url(#clip3600)\">\n",
       "<text style=\"fill:#000000; fill-opacity:1; font-family:Arial,Helvetica Neue,Helvetica,sans-serif; font-size:48px; text-anchor:end;\" transform=\"rotate(0, 116.517, 297.02)\" x=\"116.517\" y=\"297.02\">13</text>\n",
       "</g>\n",
       "<polyline clip-path=\"url(#clip3602)\" style=\"stroke:#009af9; stroke-width:4; stroke-opacity:1; fill:none\" points=\"\n",
       "  203.127,1446.71 224.208,1025.64 245.289,1087.55 266.37,1093.75 287.451,1133.16 308.532,1210.81 329.613,1212.05 350.694,1145.05 371.775,1056.04 392.856,990.578 \n",
       "  413.937,875.1 435.018,798.88 456.099,817.551 477.18,826.48 498.261,806.624 519.342,744.796 540.423,714.563 561.504,698.859 582.585,675.354 603.666,638.207 \n",
       "  624.747,643.526 645.828,647.624 666.909,643.17 687.99,552.563 709.071,455.648 730.152,446.144 751.233,449.057 772.314,434.181 793.395,456.665 814.476,438.714 \n",
       "  835.557,429.415 856.638,389.01 877.719,332.988 898.8,268.311 919.881,263.205 940.962,251.139 962.043,240.477 983.124,224.688 1004.2,239.454 1025.29,239.81 \n",
       "  1046.37,208.066 1067.45,215.278 1088.53,223.266 1109.61,218.529 1130.69,178.25 1151.77,132.321 1172.85,110.049 1193.93,107.024 1215.01,95.9899 1236.1,89.2863 \n",
       "  1257.18,94.7954 1278.26,89.7593 1299.34,88.0053 1320.42,88.7459 1341.5,88.2026 1362.58,101.855 1383.66,119.491 1404.74,128.618 1425.82,143.078 1446.91,158.08 \n",
       "  1467.99,179.949 1489.07,196.284 1510.15,208.924 1531.23,226.772 1552.31,245.754 1573.39,249.578 1594.47,260.876 1615.55,262.023 1636.63,249.407 1657.72,231.939 \n",
       "  1678.8,228.915 1699.88,233.715 1720.96,232.821 1742.04,229.283 1763.12,221.906 1784.2,203.142 1805.28,190.187 1826.36,202.486 1847.44,213.445 1868.53,219.885 \n",
       "  1889.61,224.251 1910.69,231.644 1931.77,234.92 1952.85,229.593 1973.93,227.291 1995.01,228.937 2016.09,224.405 2037.17,198.19 2058.25,179.736 2079.34,172.778 \n",
       "  2100.42,170.243 2121.5,170.292 2142.58,172.739 2163.66,178.023 2184.74,175.069 2205.82,168.468 2226.9,171.884 2247.98,177.521 2269.06,188.601 2290.15,192.705 \n",
       "  \n",
       "  \"/>\n",
       "<path clip-path=\"url(#clip3600)\" d=\"\n",
       "M1989.93 251.724 L2280.76 251.724 L2280.76 130.764 L1989.93 130.764  Z\n",
       "  \" fill=\"#ffffff\" fill-rule=\"evenodd\" fill-opacity=\"1\"/>\n",
       "<polyline clip-path=\"url(#clip3600)\" style=\"stroke:#000000; stroke-width:4; stroke-opacity:1; fill:none\" points=\"\n",
       "  1989.93,251.724 2280.76,251.724 2280.76,130.764 1989.93,130.764 1989.93,251.724 \n",
       "  \"/>\n",
       "<polyline clip-path=\"url(#clip3600)\" style=\"stroke:#009af9; stroke-width:4; stroke-opacity:1; fill:none\" points=\"\n",
       "  2013.93,191.244 2157.93,191.244 \n",
       "  \"/>\n",
       "<g clip-path=\"url(#clip3600)\">\n",
       "<text style=\"fill:#000000; fill-opacity:1; font-family:Arial,Helvetica Neue,Helvetica,sans-serif; font-size:48px; text-anchor:start;\" transform=\"rotate(0, 2181.93, 208.744)\" x=\"2181.93\" y=\"208.744\">y1</text>\n",
       "</g>\n",
       "</svg>\n"
      ]
     },
     "execution_count": 44,
     "metadata": {},
     "output_type": "execute_result"
    }
   ],
   "source": [
    "plot(runMean(res[!,1]))"
   ]
  },
  {
   "cell_type": "code",
   "execution_count": 45,
   "metadata": {},
   "outputs": [
    {
     "data": {
      "image/svg+xml": [
       "<?xml version=\"1.0\" encoding=\"utf-8\"?>\n",
       "<svg xmlns=\"http://www.w3.org/2000/svg\" xmlns:xlink=\"http://www.w3.org/1999/xlink\" width=\"600\" height=\"400\" viewBox=\"0 0 2400 1600\">\n",
       "<defs>\n",
       "  <clipPath id=\"clip4000\">\n",
       "    <rect x=\"0\" y=\"0\" width=\"2400\" height=\"1600\"/>\n",
       "  </clipPath>\n",
       "</defs>\n",
       "<path clip-path=\"url(#clip4000)\" d=\"\n",
       "M0 1600 L2400 1600 L2400 0 L0 0  Z\n",
       "  \" fill=\"#ffffff\" fill-rule=\"evenodd\" fill-opacity=\"1\"/>\n",
       "<defs>\n",
       "  <clipPath id=\"clip4001\">\n",
       "    <rect x=\"480\" y=\"0\" width=\"1681\" height=\"1600\"/>\n",
       "  </clipPath>\n",
       "</defs>\n",
       "<path clip-path=\"url(#clip4000)\" d=\"\n",
       "M180.66 1487.47 L2352.76 1487.47 L2352.76 47.2441 L180.66 47.2441  Z\n",
       "  \" fill=\"#ffffff\" fill-rule=\"evenodd\" fill-opacity=\"1\"/>\n",
       "<defs>\n",
       "  <clipPath id=\"clip4002\">\n",
       "    <rect x=\"180\" y=\"47\" width=\"2173\" height=\"1441\"/>\n",
       "  </clipPath>\n",
       "</defs>\n",
       "<polyline clip-path=\"url(#clip4002)\" style=\"stroke:#000000; stroke-width:2; stroke-opacity:0.1; fill:none\" points=\"\n",
       "  221.436,1487.47 221.436,47.2441 \n",
       "  \"/>\n",
       "<polyline clip-path=\"url(#clip4002)\" style=\"stroke:#000000; stroke-width:2; stroke-opacity:0.1; fill:none\" points=\"\n",
       "  738.898,1487.47 738.898,47.2441 \n",
       "  \"/>\n",
       "<polyline clip-path=\"url(#clip4002)\" style=\"stroke:#000000; stroke-width:2; stroke-opacity:0.1; fill:none\" points=\"\n",
       "  1256.36,1487.47 1256.36,47.2441 \n",
       "  \"/>\n",
       "<polyline clip-path=\"url(#clip4002)\" style=\"stroke:#000000; stroke-width:2; stroke-opacity:0.1; fill:none\" points=\"\n",
       "  1773.82,1487.47 1773.82,47.2441 \n",
       "  \"/>\n",
       "<polyline clip-path=\"url(#clip4002)\" style=\"stroke:#000000; stroke-width:2; stroke-opacity:0.1; fill:none\" points=\"\n",
       "  2291.28,1487.47 2291.28,47.2441 \n",
       "  \"/>\n",
       "<polyline clip-path=\"url(#clip4002)\" style=\"stroke:#000000; stroke-width:2; stroke-opacity:0.1; fill:none\" points=\"\n",
       "  180.66,1313.73 2352.76,1313.73 \n",
       "  \"/>\n",
       "<polyline clip-path=\"url(#clip4002)\" style=\"stroke:#000000; stroke-width:2; stroke-opacity:0.1; fill:none\" points=\"\n",
       "  180.66,980.452 2352.76,980.452 \n",
       "  \"/>\n",
       "<polyline clip-path=\"url(#clip4002)\" style=\"stroke:#000000; stroke-width:2; stroke-opacity:0.1; fill:none\" points=\"\n",
       "  180.66,647.17 2352.76,647.17 \n",
       "  \"/>\n",
       "<polyline clip-path=\"url(#clip4002)\" style=\"stroke:#000000; stroke-width:2; stroke-opacity:0.1; fill:none\" points=\"\n",
       "  180.66,313.888 2352.76,313.888 \n",
       "  \"/>\n",
       "<polyline clip-path=\"url(#clip4000)\" style=\"stroke:#000000; stroke-width:4; stroke-opacity:1; fill:none\" points=\"\n",
       "  180.66,1487.47 2352.76,1487.47 \n",
       "  \"/>\n",
       "<polyline clip-path=\"url(#clip4000)\" style=\"stroke:#000000; stroke-width:4; stroke-opacity:1; fill:none\" points=\"\n",
       "  180.66,1487.47 180.66,47.2441 \n",
       "  \"/>\n",
       "<polyline clip-path=\"url(#clip4000)\" style=\"stroke:#000000; stroke-width:4; stroke-opacity:1; fill:none\" points=\"\n",
       "  221.436,1487.47 221.436,1465.87 \n",
       "  \"/>\n",
       "<polyline clip-path=\"url(#clip4000)\" style=\"stroke:#000000; stroke-width:4; stroke-opacity:1; fill:none\" points=\"\n",
       "  738.898,1487.47 738.898,1465.87 \n",
       "  \"/>\n",
       "<polyline clip-path=\"url(#clip4000)\" style=\"stroke:#000000; stroke-width:4; stroke-opacity:1; fill:none\" points=\"\n",
       "  1256.36,1487.47 1256.36,1465.87 \n",
       "  \"/>\n",
       "<polyline clip-path=\"url(#clip4000)\" style=\"stroke:#000000; stroke-width:4; stroke-opacity:1; fill:none\" points=\"\n",
       "  1773.82,1487.47 1773.82,1465.87 \n",
       "  \"/>\n",
       "<polyline clip-path=\"url(#clip4000)\" style=\"stroke:#000000; stroke-width:4; stroke-opacity:1; fill:none\" points=\"\n",
       "  2291.28,1487.47 2291.28,1465.87 \n",
       "  \"/>\n",
       "<polyline clip-path=\"url(#clip4000)\" style=\"stroke:#000000; stroke-width:4; stroke-opacity:1; fill:none\" points=\"\n",
       "  180.66,1313.73 213.242,1313.73 \n",
       "  \"/>\n",
       "<polyline clip-path=\"url(#clip4000)\" style=\"stroke:#000000; stroke-width:4; stroke-opacity:1; fill:none\" points=\"\n",
       "  180.66,980.452 213.242,980.452 \n",
       "  \"/>\n",
       "<polyline clip-path=\"url(#clip4000)\" style=\"stroke:#000000; stroke-width:4; stroke-opacity:1; fill:none\" points=\"\n",
       "  180.66,647.17 213.242,647.17 \n",
       "  \"/>\n",
       "<polyline clip-path=\"url(#clip4000)\" style=\"stroke:#000000; stroke-width:4; stroke-opacity:1; fill:none\" points=\"\n",
       "  180.66,313.888 213.242,313.888 \n",
       "  \"/>\n",
       "<g clip-path=\"url(#clip4000)\">\n",
       "<text style=\"fill:#000000; fill-opacity:1; font-family:Arial,Helvetica Neue,Helvetica,sans-serif; font-size:48px; text-anchor:middle;\" transform=\"rotate(0, 221.436, 1541.47)\" x=\"221.436\" y=\"1541.47\">0</text>\n",
       "</g>\n",
       "<g clip-path=\"url(#clip4000)\">\n",
       "<text style=\"fill:#000000; fill-opacity:1; font-family:Arial,Helvetica Neue,Helvetica,sans-serif; font-size:48px; text-anchor:middle;\" transform=\"rotate(0, 738.898, 1541.47)\" x=\"738.898\" y=\"1541.47\">25</text>\n",
       "</g>\n",
       "<g clip-path=\"url(#clip4000)\">\n",
       "<text style=\"fill:#000000; fill-opacity:1; font-family:Arial,Helvetica Neue,Helvetica,sans-serif; font-size:48px; text-anchor:middle;\" transform=\"rotate(0, 1256.36, 1541.47)\" x=\"1256.36\" y=\"1541.47\">50</text>\n",
       "</g>\n",
       "<g clip-path=\"url(#clip4000)\">\n",
       "<text style=\"fill:#000000; fill-opacity:1; font-family:Arial,Helvetica Neue,Helvetica,sans-serif; font-size:48px; text-anchor:middle;\" transform=\"rotate(0, 1773.82, 1541.47)\" x=\"1773.82\" y=\"1541.47\">75</text>\n",
       "</g>\n",
       "<g clip-path=\"url(#clip4000)\">\n",
       "<text style=\"fill:#000000; fill-opacity:1; font-family:Arial,Helvetica Neue,Helvetica,sans-serif; font-size:48px; text-anchor:middle;\" transform=\"rotate(0, 2291.28, 1541.47)\" x=\"2291.28\" y=\"1541.47\">100</text>\n",
       "</g>\n",
       "<g clip-path=\"url(#clip4000)\">\n",
       "<text style=\"fill:#000000; fill-opacity:1; font-family:Arial,Helvetica Neue,Helvetica,sans-serif; font-size:48px; text-anchor:end;\" transform=\"rotate(0, 156.66, 1331.23)\" x=\"156.66\" y=\"1331.23\">3.25</text>\n",
       "</g>\n",
       "<g clip-path=\"url(#clip4000)\">\n",
       "<text style=\"fill:#000000; fill-opacity:1; font-family:Arial,Helvetica Neue,Helvetica,sans-serif; font-size:48px; text-anchor:end;\" transform=\"rotate(0, 156.66, 997.952)\" x=\"156.66\" y=\"997.952\">3.50</text>\n",
       "</g>\n",
       "<g clip-path=\"url(#clip4000)\">\n",
       "<text style=\"fill:#000000; fill-opacity:1; font-family:Arial,Helvetica Neue,Helvetica,sans-serif; font-size:48px; text-anchor:end;\" transform=\"rotate(0, 156.66, 664.67)\" x=\"156.66\" y=\"664.67\">3.75</text>\n",
       "</g>\n",
       "<g clip-path=\"url(#clip4000)\">\n",
       "<text style=\"fill:#000000; fill-opacity:1; font-family:Arial,Helvetica Neue,Helvetica,sans-serif; font-size:48px; text-anchor:end;\" transform=\"rotate(0, 156.66, 331.388)\" x=\"156.66\" y=\"331.388\">4.00</text>\n",
       "</g>\n",
       "<polyline clip-path=\"url(#clip4002)\" style=\"stroke:#009af9; stroke-width:4; stroke-opacity:1; fill:none\" points=\"\n",
       "  242.135,417.965 262.833,1446.71 283.532,1437.04 304.23,946.727 324.929,760.136 345.627,590.641 366.325,731.926 387.024,476.763 407.722,557.97 428.421,676.164 \n",
       "  449.119,656.51 469.818,655.553 490.516,644.042 511.215,573.994 531.913,493.894 552.612,405.787 573.31,315.95 594.008,268.752 614.707,227.772 635.405,115.282 \n",
       "  656.104,91.5903 676.802,88.0053 697.501,115.686 718.199,96.6865 738.898,96.7055 759.596,133.105 780.294,154.082 800.993,218.661 821.691,296.41 842.39,360.128 \n",
       "  863.088,407.309 883.787,418.896 904.485,449.832 925.184,458.688 945.882,492.675 966.581,482.84 987.279,472.691 1007.98,432.944 1028.68,431.768 1049.37,440.913 \n",
       "  1070.07,424.413 1090.77,439.502 1111.47,459.418 1132.17,469.901 1152.87,476.46 1173.57,467.508 1194.26,487.652 1214.96,504.836 1235.66,508.339 1256.36,515.587 \n",
       "  1277.06,514.522 1297.76,532.616 1318.45,545.199 1339.15,550.066 1359.85,545.657 1380.55,537.906 1401.25,536.208 1421.95,525.669 1442.64,527.086 1463.34,501.359 \n",
       "  1484.04,504.689 1504.74,482.42 1525.44,452.869 1546.14,435.671 1566.84,422.022 1587.53,410.111 1608.23,420.068 1628.93,449.422 1649.63,463.215 1670.33,459.475 \n",
       "  1691.03,454.608 1711.72,468.408 1732.42,482.151 1753.12,456.756 1773.82,446.439 1794.52,448.028 1815.22,465.662 1835.92,472.501 1856.61,473.318 1877.31,507.952 \n",
       "  1898.01,496.793 1918.71,509.851 1939.41,504.442 1960.11,496.632 1980.8,494.364 2001.5,478.92 2022.2,476.981 2042.9,460.277 2063.6,482.373 2084.3,482.758 \n",
       "  2105,478.923 2125.69,471.515 2146.39,461.444 2167.09,441.453 2187.79,444.705 2208.49,448.558 2229.19,468.241 2249.88,488.603 2270.58,497.504 2291.28,492.766 \n",
       "  \n",
       "  \"/>\n",
       "<path clip-path=\"url(#clip4000)\" d=\"\n",
       "M1989.93 251.724 L2280.76 251.724 L2280.76 130.764 L1989.93 130.764  Z\n",
       "  \" fill=\"#ffffff\" fill-rule=\"evenodd\" fill-opacity=\"1\"/>\n",
       "<polyline clip-path=\"url(#clip4000)\" style=\"stroke:#000000; stroke-width:4; stroke-opacity:1; fill:none\" points=\"\n",
       "  1989.93,251.724 2280.76,251.724 2280.76,130.764 1989.93,130.764 1989.93,251.724 \n",
       "  \"/>\n",
       "<polyline clip-path=\"url(#clip4000)\" style=\"stroke:#009af9; stroke-width:4; stroke-opacity:1; fill:none\" points=\"\n",
       "  2013.93,191.244 2157.93,191.244 \n",
       "  \"/>\n",
       "<g clip-path=\"url(#clip4000)\">\n",
       "<text style=\"fill:#000000; fill-opacity:1; font-family:Arial,Helvetica Neue,Helvetica,sans-serif; font-size:48px; text-anchor:start;\" transform=\"rotate(0, 2181.93, 208.744)\" x=\"2181.93\" y=\"208.744\">y1</text>\n",
       "</g>\n",
       "</svg>\n"
      ]
     },
     "execution_count": 45,
     "metadata": {},
     "output_type": "execute_result"
    }
   ],
   "source": [
    "plot(runMean(res[!,2]))"
   ]
  },
  {
   "cell_type": "code",
   "execution_count": 46,
   "metadata": {},
   "outputs": [
    {
     "data": {
      "image/svg+xml": [
       "<?xml version=\"1.0\" encoding=\"utf-8\"?>\n",
       "<svg xmlns=\"http://www.w3.org/2000/svg\" xmlns:xlink=\"http://www.w3.org/1999/xlink\" width=\"600\" height=\"400\" viewBox=\"0 0 2400 1600\">\n",
       "<defs>\n",
       "  <clipPath id=\"clip4400\">\n",
       "    <rect x=\"0\" y=\"0\" width=\"2400\" height=\"1600\"/>\n",
       "  </clipPath>\n",
       "</defs>\n",
       "<path clip-path=\"url(#clip4400)\" d=\"\n",
       "M0 1600 L2400 1600 L2400 0 L0 0  Z\n",
       "  \" fill=\"#ffffff\" fill-rule=\"evenodd\" fill-opacity=\"1\"/>\n",
       "<defs>\n",
       "  <clipPath id=\"clip4401\">\n",
       "    <rect x=\"480\" y=\"0\" width=\"1681\" height=\"1600\"/>\n",
       "  </clipPath>\n",
       "</defs>\n",
       "<path clip-path=\"url(#clip4400)\" d=\"\n",
       "M153.898 1487.47 L2352.76 1487.47 L2352.76 47.2441 L153.898 47.2441  Z\n",
       "  \" fill=\"#ffffff\" fill-rule=\"evenodd\" fill-opacity=\"1\"/>\n",
       "<defs>\n",
       "  <clipPath id=\"clip4402\">\n",
       "    <rect x=\"153\" y=\"47\" width=\"2200\" height=\"1441\"/>\n",
       "  </clipPath>\n",
       "</defs>\n",
       "<polyline clip-path=\"url(#clip4402)\" style=\"stroke:#000000; stroke-width:2; stroke-opacity:0.1; fill:none\" points=\"\n",
       "  195.176,1487.47 195.176,47.2441 \n",
       "  \"/>\n",
       "<polyline clip-path=\"url(#clip4402)\" style=\"stroke:#000000; stroke-width:2; stroke-opacity:0.1; fill:none\" points=\"\n",
       "  719.013,1487.47 719.013,47.2441 \n",
       "  \"/>\n",
       "<polyline clip-path=\"url(#clip4402)\" style=\"stroke:#000000; stroke-width:2; stroke-opacity:0.1; fill:none\" points=\"\n",
       "  1242.85,1487.47 1242.85,47.2441 \n",
       "  \"/>\n",
       "<polyline clip-path=\"url(#clip4402)\" style=\"stroke:#000000; stroke-width:2; stroke-opacity:0.1; fill:none\" points=\"\n",
       "  1766.69,1487.47 1766.69,47.2441 \n",
       "  \"/>\n",
       "<polyline clip-path=\"url(#clip4402)\" style=\"stroke:#000000; stroke-width:2; stroke-opacity:0.1; fill:none\" points=\"\n",
       "  2290.52,1487.47 2290.52,47.2441 \n",
       "  \"/>\n",
       "<polyline clip-path=\"url(#clip4402)\" style=\"stroke:#000000; stroke-width:2; stroke-opacity:0.1; fill:none\" points=\"\n",
       "  153.898,1479.45 2352.76,1479.45 \n",
       "  \"/>\n",
       "<polyline clip-path=\"url(#clip4402)\" style=\"stroke:#000000; stroke-width:2; stroke-opacity:0.1; fill:none\" points=\"\n",
       "  153.898,1049.25 2352.76,1049.25 \n",
       "  \"/>\n",
       "<polyline clip-path=\"url(#clip4402)\" style=\"stroke:#000000; stroke-width:2; stroke-opacity:0.1; fill:none\" points=\"\n",
       "  153.898,619.054 2352.76,619.054 \n",
       "  \"/>\n",
       "<polyline clip-path=\"url(#clip4402)\" style=\"stroke:#000000; stroke-width:2; stroke-opacity:0.1; fill:none\" points=\"\n",
       "  153.898,188.853 2352.76,188.853 \n",
       "  \"/>\n",
       "<polyline clip-path=\"url(#clip4400)\" style=\"stroke:#000000; stroke-width:4; stroke-opacity:1; fill:none\" points=\"\n",
       "  153.898,1487.47 2352.76,1487.47 \n",
       "  \"/>\n",
       "<polyline clip-path=\"url(#clip4400)\" style=\"stroke:#000000; stroke-width:4; stroke-opacity:1; fill:none\" points=\"\n",
       "  153.898,1487.47 153.898,47.2441 \n",
       "  \"/>\n",
       "<polyline clip-path=\"url(#clip4400)\" style=\"stroke:#000000; stroke-width:4; stroke-opacity:1; fill:none\" points=\"\n",
       "  195.176,1487.47 195.176,1465.87 \n",
       "  \"/>\n",
       "<polyline clip-path=\"url(#clip4400)\" style=\"stroke:#000000; stroke-width:4; stroke-opacity:1; fill:none\" points=\"\n",
       "  719.013,1487.47 719.013,1465.87 \n",
       "  \"/>\n",
       "<polyline clip-path=\"url(#clip4400)\" style=\"stroke:#000000; stroke-width:4; stroke-opacity:1; fill:none\" points=\"\n",
       "  1242.85,1487.47 1242.85,1465.87 \n",
       "  \"/>\n",
       "<polyline clip-path=\"url(#clip4400)\" style=\"stroke:#000000; stroke-width:4; stroke-opacity:1; fill:none\" points=\"\n",
       "  1766.69,1487.47 1766.69,1465.87 \n",
       "  \"/>\n",
       "<polyline clip-path=\"url(#clip4400)\" style=\"stroke:#000000; stroke-width:4; stroke-opacity:1; fill:none\" points=\"\n",
       "  2290.52,1487.47 2290.52,1465.87 \n",
       "  \"/>\n",
       "<polyline clip-path=\"url(#clip4400)\" style=\"stroke:#000000; stroke-width:4; stroke-opacity:1; fill:none\" points=\"\n",
       "  153.898,1479.45 186.881,1479.45 \n",
       "  \"/>\n",
       "<polyline clip-path=\"url(#clip4400)\" style=\"stroke:#000000; stroke-width:4; stroke-opacity:1; fill:none\" points=\"\n",
       "  153.898,1049.25 186.881,1049.25 \n",
       "  \"/>\n",
       "<polyline clip-path=\"url(#clip4400)\" style=\"stroke:#000000; stroke-width:4; stroke-opacity:1; fill:none\" points=\"\n",
       "  153.898,619.054 186.881,619.054 \n",
       "  \"/>\n",
       "<polyline clip-path=\"url(#clip4400)\" style=\"stroke:#000000; stroke-width:4; stroke-opacity:1; fill:none\" points=\"\n",
       "  153.898,188.853 186.881,188.853 \n",
       "  \"/>\n",
       "<g clip-path=\"url(#clip4400)\">\n",
       "<text style=\"fill:#000000; fill-opacity:1; font-family:Arial,Helvetica Neue,Helvetica,sans-serif; font-size:48px; text-anchor:middle;\" transform=\"rotate(0, 195.176, 1541.47)\" x=\"195.176\" y=\"1541.47\">0</text>\n",
       "</g>\n",
       "<g clip-path=\"url(#clip4400)\">\n",
       "<text style=\"fill:#000000; fill-opacity:1; font-family:Arial,Helvetica Neue,Helvetica,sans-serif; font-size:48px; text-anchor:middle;\" transform=\"rotate(0, 719.013, 1541.47)\" x=\"719.013\" y=\"1541.47\">25</text>\n",
       "</g>\n",
       "<g clip-path=\"url(#clip4400)\">\n",
       "<text style=\"fill:#000000; fill-opacity:1; font-family:Arial,Helvetica Neue,Helvetica,sans-serif; font-size:48px; text-anchor:middle;\" transform=\"rotate(0, 1242.85, 1541.47)\" x=\"1242.85\" y=\"1541.47\">50</text>\n",
       "</g>\n",
       "<g clip-path=\"url(#clip4400)\">\n",
       "<text style=\"fill:#000000; fill-opacity:1; font-family:Arial,Helvetica Neue,Helvetica,sans-serif; font-size:48px; text-anchor:middle;\" transform=\"rotate(0, 1766.69, 1541.47)\" x=\"1766.69\" y=\"1541.47\">75</text>\n",
       "</g>\n",
       "<g clip-path=\"url(#clip4400)\">\n",
       "<text style=\"fill:#000000; fill-opacity:1; font-family:Arial,Helvetica Neue,Helvetica,sans-serif; font-size:48px; text-anchor:middle;\" transform=\"rotate(0, 2290.52, 1541.47)\" x=\"2290.52\" y=\"1541.47\">100</text>\n",
       "</g>\n",
       "<g clip-path=\"url(#clip4400)\">\n",
       "<text style=\"fill:#000000; fill-opacity:1; font-family:Arial,Helvetica Neue,Helvetica,sans-serif; font-size:48px; text-anchor:end;\" transform=\"rotate(0, 129.898, 1496.95)\" x=\"129.898\" y=\"1496.95\">2.0</text>\n",
       "</g>\n",
       "<g clip-path=\"url(#clip4400)\">\n",
       "<text style=\"fill:#000000; fill-opacity:1; font-family:Arial,Helvetica Neue,Helvetica,sans-serif; font-size:48px; text-anchor:end;\" transform=\"rotate(0, 129.898, 1066.75)\" x=\"129.898\" y=\"1066.75\">2.5</text>\n",
       "</g>\n",
       "<g clip-path=\"url(#clip4400)\">\n",
       "<text style=\"fill:#000000; fill-opacity:1; font-family:Arial,Helvetica Neue,Helvetica,sans-serif; font-size:48px; text-anchor:end;\" transform=\"rotate(0, 129.898, 636.554)\" x=\"129.898\" y=\"636.554\">3.0</text>\n",
       "</g>\n",
       "<g clip-path=\"url(#clip4400)\">\n",
       "<text style=\"fill:#000000; fill-opacity:1; font-family:Arial,Helvetica Neue,Helvetica,sans-serif; font-size:48px; text-anchor:end;\" transform=\"rotate(0, 129.898, 206.353)\" x=\"129.898\" y=\"206.353\">3.5</text>\n",
       "</g>\n",
       "<polyline clip-path=\"url(#clip4402)\" style=\"stroke:#009af9; stroke-width:4; stroke-opacity:1; fill:none\" points=\"\n",
       "  216.13,88.0053 237.083,217.229 258.037,300.559 278.99,325.941 299.944,407.428 320.897,213.491 341.851,346.691 362.804,357.905 383.758,540.352 404.711,714.12 \n",
       "  425.665,816.683 446.618,851.481 467.572,849.588 488.525,794.624 509.478,794.112 530.432,816.722 551.385,818.172 572.339,836.37 593.292,863.953 614.246,864.316 \n",
       "  635.199,873.219 656.153,860.688 677.106,872.829 698.06,900.097 719.013,920.518 739.967,932.008 760.92,944 781.874,951.505 802.827,982.629 823.781,1024.26 \n",
       "  844.734,1064.43 865.688,1100.9 886.641,1140.85 907.595,1177.53 928.548,1207.52 949.502,1229.26 970.455,1252.16 991.408,1258.3 1012.36,1270.26 1033.32,1288.61 \n",
       "  1054.27,1303.49 1075.22,1315.77 1096.18,1330.4 1117.13,1348.94 1138.08,1372.33 1159.04,1391.51 1179.99,1411.21 1200.94,1424.79 1221.9,1436.2 1242.85,1446.71 \n",
       "  1263.8,1431.73 1284.76,1421.91 1305.71,1414.56 1326.66,1403.59 1347.62,1398.5 1368.57,1394.11 1389.52,1398.22 1410.48,1400.16 1431.43,1405.01 1452.38,1380.7 \n",
       "  1473.34,1372.08 1494.29,1347.16 1515.25,1326.76 1536.2,1315.6 1557.15,1288.08 1578.11,1280.08 1599.06,1276.42 1620.01,1286.83 1640.97,1298.39 1661.92,1304.9 \n",
       "  1682.87,1301.39 1703.83,1295.47 1724.78,1299.72 1745.73,1292.98 1766.69,1293.93 1787.64,1299.67 1808.59,1294.2 1829.55,1285.57 1850.5,1276.53 1871.45,1275.06 \n",
       "  1892.41,1262.63 1913.36,1262.21 1934.31,1260.18 1955.27,1261.22 1976.22,1267.54 1997.18,1262.54 2018.13,1265.4 2039.08,1267.65 2060.04,1272.54 2080.99,1270.07 \n",
       "  2101.94,1267.91 2122.9,1269.19 2143.85,1267.93 2164.8,1260.59 2185.76,1265.44 2206.71,1274.57 2227.66,1277.9 2248.62,1279.16 2269.57,1278.82 2290.52,1278.08 \n",
       "  \n",
       "  \"/>\n",
       "<path clip-path=\"url(#clip4400)\" d=\"\n",
       "M1989.93 251.724 L2280.76 251.724 L2280.76 130.764 L1989.93 130.764  Z\n",
       "  \" fill=\"#ffffff\" fill-rule=\"evenodd\" fill-opacity=\"1\"/>\n",
       "<polyline clip-path=\"url(#clip4400)\" style=\"stroke:#000000; stroke-width:4; stroke-opacity:1; fill:none\" points=\"\n",
       "  1989.93,251.724 2280.76,251.724 2280.76,130.764 1989.93,130.764 1989.93,251.724 \n",
       "  \"/>\n",
       "<polyline clip-path=\"url(#clip4400)\" style=\"stroke:#009af9; stroke-width:4; stroke-opacity:1; fill:none\" points=\"\n",
       "  2013.93,191.244 2157.93,191.244 \n",
       "  \"/>\n",
       "<g clip-path=\"url(#clip4400)\">\n",
       "<text style=\"fill:#000000; fill-opacity:1; font-family:Arial,Helvetica Neue,Helvetica,sans-serif; font-size:48px; text-anchor:start;\" transform=\"rotate(0, 2181.93, 208.744)\" x=\"2181.93\" y=\"208.744\">y1</text>\n",
       "</g>\n",
       "</svg>\n"
      ]
     },
     "execution_count": 46,
     "metadata": {},
     "output_type": "execute_result"
    }
   ],
   "source": [
    "plot(runMean(res[!,3]))"
   ]
  },
  {
   "cell_type": "code",
   "execution_count": 28,
   "metadata": {},
   "outputs": [
    {
     "name": "stdout",
     "output_type": "stream",
     "text": [
      "[12.3367 0.26921; 0.26921 6.42204]\n"
     ]
    }
   ],
   "source": [
    "println(mme.randomEffectsVec[1].meanV)"
   ]
  },
  {
   "cell_type": "code",
   "execution_count": 24,
   "metadata": {},
   "outputs": [
    {
     "data": {
      "text/html": [
       "<table class=\"data-frame\"><thead><tr><th></th><th>Ind</th><th>y1</th><th>y2</th></tr><tr><th></th><th>Int64</th><th>Float64</th><th>Float64</th></tr></thead><tbody><p>5 rows × 3 columns</p><tr><th>1</th><td>251</td><td>4.975</td><td>0.312</td></tr><tr><th>2</th><td>252</td><td>2.069</td><td>-4.109</td></tr><tr><th>3</th><td>253</td><td>3.413</td><td>-0.052</td></tr><tr><th>4</th><td>254</td><td>8.806</td><td>-1.066</td></tr><tr><th>5</th><td>255</td><td>5.759</td><td>-1.057</td></tr></tbody></table>"
      ],
      "text/latex": [
       "\\begin{tabular}{r|ccc}\n",
       "\t& Ind & y1 & y2\\\\\n",
       "\t\\hline\n",
       "\t& Int64 & Float64 & Float64\\\\\n",
       "\t\\hline\n",
       "\t1 & 251 & 4.975 & 0.312 \\\\\n",
       "\t2 & 252 & 2.069 & -4.109 \\\\\n",
       "\t3 & 253 & 3.413 & -0.052 \\\\\n",
       "\t4 & 254 & 8.806 & -1.066 \\\\\n",
       "\t5 & 255 & 5.759 & -1.057 \\\\\n",
       "\\end{tabular}\n"
      ],
      "text/plain": [
       "5×3 DataFrame\n",
       "│ Row │ Ind   │ y1      │ y2      │\n",
       "│     │ \u001b[90mInt64\u001b[39m │ \u001b[90mFloat64\u001b[39m │ \u001b[90mFloat64\u001b[39m │\n",
       "├─────┼───────┼─────────┼─────────┤\n",
       "│ 1   │ 251   │ 4.975   │ 0.312   │\n",
       "│ 2   │ 252   │ 2.069   │ -4.109  │\n",
       "│ 3   │ 253   │ 3.413   │ -0.052  │\n",
       "│ 4   │ 254   │ 8.806   │ -1.066  │\n",
       "│ 5   │ 255   │ 5.759   │ -1.057  │"
      ]
     },
     "execution_count": 24,
     "metadata": {},
     "output_type": "execute_result"
    }
   ],
   "source": [
    "dataTwoTrait = CSV.read(\"dataTwoTrait.phen\")\n",
    "first(dataTwoTrait,5)"
   ]
  },
  {
   "cell_type": "code",
   "execution_count": 31,
   "metadata": {},
   "outputs": [
    {
     "data": {
      "text/plain": [
       "1000"
      ]
     },
     "execution_count": 31,
     "metadata": {},
     "output_type": "execute_result"
    }
   ],
   "source": [
    "varGen = [10.0 2.0; 2.0 3.0]\n",
    "varRes = [10.0 0.0; 0.0 3.0]\n",
    "mme = initMME(\"y1 = intercept + Ind\n",
    "               y2 = intercept + Ind\",varRes);\n",
    "setRandom!(mme,\"Ind\",varGen,pedigree,estimate=true,outSamples=true);\n",
    "lhs,rhs,names = getLhsRhs!(mme,dataTwoTrait);\n",
    "nIter  = 10_000\n",
    "burnIn = 1_000"
   ]
  },
  {
   "cell_type": "code",
   "execution_count": 33,
   "metadata": {},
   "outputs": [
    {
     "data": {
      "text/plain": [
       "2-element Array{ModelTerm,1}:\n",
       " ModelTerm(\"1:Ind\", 1, 2, 1249, \"A\")   \n",
       " ModelTerm(\"2:Ind\", 2, 1251, 2498, \"A\")"
      ]
     },
     "execution_count": 33,
     "metadata": {},
     "output_type": "execute_result"
    }
   ],
   "source": [
    "mme.randomEffectsVec[1].modelTermVec"
   ]
  },
  {
   "cell_type": "code",
   "execution_count": 34,
   "metadata": {},
   "outputs": [
    {
     "name": "stderr",
     "output_type": "stream",
     "text": [
      "\u001b[32mMCMC sampling100%|██████████████████████████████████████| Time: 0:00:29\u001b[39m\n"
     ]
    }
   ],
   "source": [
    "runMCMC!(mme,nIter,burnIn)"
   ]
  },
  {
   "cell_type": "code",
   "execution_count": 35,
   "metadata": {},
   "outputs": [
    {
     "data": {
      "text/plain": [
       "2×2 Array{Float64,2}:\n",
       " 10.9154   2.11185\n",
       "  2.11185  2.88652"
      ]
     },
     "execution_count": 35,
     "metadata": {},
     "output_type": "execute_result"
    }
   ],
   "source": [
    "mme.randomEffectsVec[1].meanV"
   ]
  },
  {
   "cell_type": "code",
   "execution_count": 37,
   "metadata": {},
   "outputs": [
    {
     "data": {
      "text/plain": [
       "2×2 Array{Float64,2}:\n",
       " 9.51027  1.80657\n",
       " 1.80657  3.07883"
      ]
     },
     "execution_count": 37,
     "metadata": {},
     "output_type": "execute_result"
    }
   ],
   "source": [
    "mme.meanVarRes"
   ]
  },
  {
   "cell_type": "markdown",
   "metadata": {},
   "source": [
    "[Extension of sampler for SNP effects](4.3.Gibbs.ipynb)"
   ]
  }
 ],
 "metadata": {
  "kernelspec": {
   "display_name": "Julia 1.3.1",
   "language": "julia",
   "name": "julia-1.3"
  },
  "language_info": {
   "file_extension": ".jl",
   "mimetype": "application/julia",
   "name": "julia",
   "version": "1.3.1"
  }
 },
 "nbformat": 4,
 "nbformat_minor": 4
}
