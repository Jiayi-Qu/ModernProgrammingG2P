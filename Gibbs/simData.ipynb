{
 "cells": [
  {
   "cell_type": "code",
   "execution_count": 1,
   "metadata": {},
   "outputs": [],
   "source": [
    "using Pkg\n",
    "using Revise"
   ]
  },
  {
   "cell_type": "code",
   "execution_count": 5,
   "metadata": {},
   "outputs": [
    {
     "name": "stdout",
     "output_type": "stream",
     "text": [
      "\u001b[32m\u001b[1m Resolving\u001b[22m\u001b[39m package versions...\n",
      "\u001b[32m\u001b[1m  Updating\u001b[22m\u001b[39m `/opt/julia/environments/v1.1/Project.toml`\n",
      " \u001b[90m [3d41126b]\u001b[39m\u001b[31m ? XSim v0.4.0 [`~/rohan/Box Sync/XSim.jl`]\u001b[39m\n",
      "\u001b[32m\u001b[1m  Updating\u001b[22m\u001b[39m `/opt/julia/environments/v1.1/Manifest.toml`\n",
      " \u001b[90m [3d41126b]\u001b[39m\u001b[31m ? XSim v0.4.0 [`~/rohan/Box Sync/XSim.jl`]\u001b[39m\n"
     ]
    }
   ],
   "source": [
    "#Pkg.develop(PackageSpec(path=\"/home/jovyan/rohan/Box Sync/XSim.jl\"))\n",
    "#Pkg.add(PackageSpec(name=\"XSim\",rev=\"master\"))"
   ]
  },
  {
   "cell_type": "code",
   "execution_count": 1,
   "metadata": {},
   "outputs": [
    {
     "name": "stderr",
     "output_type": "stream",
     "text": [
      "┌ Info: Recompiling stale cache file /opt/julia/compiled/v1.1/XSim/fVVb1.ji for XSim [3d41126b-a46a-5bdb-b7a1-7ea6cc35a8ef]\n",
      "└ @ Base loading.jl:1184\n"
     ]
    }
   ],
   "source": [
    "using XSim, CSV,LinearAlgebra\n",
    "using DataFrames"
   ]
  },
  {
   "cell_type": "code",
   "execution_count": 3,
   "metadata": {},
   "outputs": [
    {
     "name": "stdout",
     "output_type": "stream",
     "text": [
      "\u001b[32m\u001b[1m    Status\u001b[22m\u001b[39m `/opt/julia/environments/v1.1/Project.toml`\n",
      " \u001b[90m [3d41126b]\u001b[39m\u001b[37m XSim v0.4.0 [`~/rohan/Box Sync/XSim.jl`]\u001b[39m\n"
     ]
    }
   ],
   "source": [
    "Pkg.status(\"XSim\")"
   ]
  },
  {
   "cell_type": "code",
   "execution_count": 4,
   "metadata": {},
   "outputs": [
    {
     "name": "stdout",
     "output_type": "stream",
     "text": [
      "G0 = [10.0 2.0; 2.0 3.0]\n",
      "G after transformation = [10.0 2.0; 2.0 3.0]\n"
     ]
    },
    {
     "data": {
      "text/plain": [
       "2×2 Adjoint{Float64,UpperTriangular{Float64,Array{Float64,2}}}:\n",
       " 3.16228   0.0    \n",
       " 0.632456  1.61245"
      ]
     },
     "execution_count": 4,
     "metadata": {},
     "output_type": "execute_result"
    }
   ],
   "source": [
    "numTraits  = 2\n",
    "G0 = [10.0 2.0;2.0 3.0]\n",
    "nChr       = 10\n",
    "nLoci      = 200\n",
    "nQTL       = 100\n",
    "chrLength  = 1.0\n",
    "intvl      = chrLength/nLoci\n",
    "mapPos     = collect(intvl/2:intvl:chrLength);\n",
    "build_genome(nChr, chrLength, nLoci, nQTL, numTraits, G0)\n",
    "XSim.common.LRes = cholesky(G0).U'"
   ]
  },
  {
   "cell_type": "code",
   "execution_count": 5,
   "metadata": {},
   "outputs": [
    {
     "data": {
      "text/plain": [
       "1-element Array{Nothing,1}:\n",
       " nothing"
      ]
     },
     "execution_count": 5,
     "metadata": {},
     "output_type": "execute_result"
    }
   ],
   "source": [
    "simFileName = \"simData\"\n",
    "[ rm(j) for j in readdir()[[occursin(Regex(\"$(simFileName).*\"), i) for i in readdir()]]] # deletes all files with baseFileName = simFileName"
   ]
  },
  {
   "cell_type": "code",
   "execution_count": 6,
   "metadata": {},
   "outputs": [
    {
     "name": "stdout",
     "output_type": "stream",
     "text": [
      "Sampling 50 animals into base population.\n",
      "Sampling 200 animals into base population.\n",
      "Generation     2: sampling   500 males and   500 females\n"
     ]
    }
   ],
   "source": [
    "popSizeFounder = 50\n",
    "sires = sampleFounders(50)\n",
    "dams  = sampleFounders(200)\n",
    "ngen,popSize = 1,1000\n",
    "sires1,dams1,gen1 = sampleRan(popSize, ngen, sires, dams; fileName=simFileName);"
   ]
  },
  {
   "cell_type": "code",
   "execution_count": 7,
   "metadata": {},
   "outputs": [
    {
     "data": {
      "text/plain": [
       "4-element Array{Nothing,1}:\n",
       " nothing\n",
       " nothing\n",
       " nothing\n",
       " nothing"
      ]
     },
     "execution_count": 7,
     "metadata": {},
     "output_type": "execute_result"
    }
   ],
   "source": [
    "simFileName = \"founders\"\n",
    "[ rm(j) for j in readdir()[[occursin(Regex(\"$(simFileName).*\"), i) for i in readdir()]]] # deletes all files with baseFileName = simFileName"
   ]
  },
  {
   "cell_type": "code",
   "execution_count": 8,
   "metadata": {},
   "outputs": [],
   "source": [
    "outputPedigree(sires, \"founders\")\n",
    "outputPedigree(dams, \"founders\")"
   ]
  },
  {
   "cell_type": "code",
   "execution_count": 9,
   "metadata": {},
   "outputs": [
    {
     "data": {
      "text/html": [
       "<table class=\"data-frame\"><thead><tr><th></th><th>Column1</th><th>Column2</th><th>Column3</th><th>Column4</th><th>Column5</th></tr><tr><th></th><th>Int64</th><th>Float64</th><th>Float64</th><th>Float64</th><th>Float64</th></tr></thead><tbody><p>250 rows × 5 columns</p><tr><th>1</th><td>1</td><td>0.758</td><td>2.572</td><td>-0.408</td><td>0.144</td></tr><tr><th>2</th><td>2</td><td>-11.979</td><td>-3.512</td><td>-7.247</td><td>-1.235</td></tr><tr><th>3</th><td>3</td><td>9.093</td><td>2.396</td><td>4.903</td><td>0.581</td></tr><tr><th>4</th><td>4</td><td>-4.455</td><td>-6.182</td><td>-2.161</td><td>-3.752</td></tr><tr><th>5</th><td>5</td><td>1.764</td><td>-2.652</td><td>-1.803</td><td>-0.543</td></tr><tr><th>6</th><td>6</td><td>-10.24</td><td>-3.829</td><td>-4.856</td><td>-3.289</td></tr><tr><th>7</th><td>7</td><td>7.009</td><td>-2.423</td><td>3.435</td><td>-1.895</td></tr><tr><th>8</th><td>8</td><td>-1.548</td><td>-3.622</td><td>-0.672</td><td>-3.595</td></tr><tr><th>9</th><td>9</td><td>2.216</td><td>-1.76</td><td>3.736</td><td>-0.814</td></tr><tr><th>10</th><td>10</td><td>-0.884</td><td>-4.49</td><td>1.885</td><td>-1.832</td></tr><tr><th>11</th><td>11</td><td>6.386</td><td>-1.269</td><td>3.702</td><td>-1.73</td></tr><tr><th>12</th><td>12</td><td>-2.566</td><td>-2.901</td><td>-1.732</td><td>-2.609</td></tr><tr><th>13</th><td>13</td><td>0.891</td><td>-3.273</td><td>-1.028</td><td>-3.527</td></tr><tr><th>14</th><td>14</td><td>1.622</td><td>0.702</td><td>0.279</td><td>0.698</td></tr><tr><th>15</th><td>15</td><td>0.834</td><td>-3.901</td><td>3.608</td><td>-3.051</td></tr><tr><th>16</th><td>16</td><td>-4.496</td><td>-3.666</td><td>-3.214</td><td>-4.588</td></tr><tr><th>17</th><td>17</td><td>3.285</td><td>-0.519</td><td>0.72</td><td>-2.599</td></tr><tr><th>18</th><td>18</td><td>4.673</td><td>1.049</td><td>0.528</td><td>-1.531</td></tr><tr><th>19</th><td>19</td><td>-6.183</td><td>-8.107</td><td>-6.403</td><td>-5.212</td></tr><tr><th>20</th><td>20</td><td>6.584</td><td>-2.374</td><td>0.392</td><td>-3.641</td></tr><tr><th>21</th><td>21</td><td>0.929</td><td>-1.787</td><td>-1.607</td><td>-1.909</td></tr><tr><th>22</th><td>22</td><td>4.464</td><td>-2.438</td><td>1.687</td><td>-2.2</td></tr><tr><th>23</th><td>23</td><td>-5.306</td><td>-2.142</td><td>-1.539</td><td>-2.925</td></tr><tr><th>24</th><td>24</td><td>1.157</td><td>-2.793</td><td>0.002</td><td>-2.269</td></tr><tr><th>25</th><td>25</td><td>-4.106</td><td>-7.668</td><td>-5.54</td><td>-6.001</td></tr><tr><th>26</th><td>26</td><td>-4.386</td><td>-6.772</td><td>-0.213</td><td>-5.467</td></tr><tr><th>27</th><td>27</td><td>-0.268</td><td>-3.976</td><td>1.062</td><td>-2.015</td></tr><tr><th>28</th><td>28</td><td>-1.229</td><td>-0.531</td><td>-3.869</td><td>-3.82</td></tr><tr><th>29</th><td>29</td><td>-3.159</td><td>-2.822</td><td>-2.716</td><td>-1.913</td></tr><tr><th>30</th><td>30</td><td>4.453</td><td>-1.944</td><td>4.34</td><td>1.181</td></tr><tr><th>&vellip;</th><td>&vellip;</td><td>&vellip;</td><td>&vellip;</td><td>&vellip;</td><td>&vellip;</td></tr></tbody></table>"
      ],
      "text/latex": [
       "\\begin{tabular}{r|ccccc}\n",
       "\t& Column1 & Column2 & Column3 & Column4 & Column5\\\\\n",
       "\t\\hline\n",
       "\t& Int64 & Float64 & Float64 & Float64 & Float64\\\\\n",
       "\t\\hline\n",
       "\t1 & 1 & 0.758 & 2.572 & -0.408 & 0.144 \\\\\n",
       "\t2 & 2 & -11.979 & -3.512 & -7.247 & -1.235 \\\\\n",
       "\t3 & 3 & 9.093 & 2.396 & 4.903 & 0.581 \\\\\n",
       "\t4 & 4 & -4.455 & -6.182 & -2.161 & -3.752 \\\\\n",
       "\t5 & 5 & 1.764 & -2.652 & -1.803 & -0.543 \\\\\n",
       "\t6 & 6 & -10.24 & -3.829 & -4.856 & -3.289 \\\\\n",
       "\t7 & 7 & 7.009 & -2.423 & 3.435 & -1.895 \\\\\n",
       "\t8 & 8 & -1.548 & -3.622 & -0.672 & -3.595 \\\\\n",
       "\t9 & 9 & 2.216 & -1.76 & 3.736 & -0.814 \\\\\n",
       "\t10 & 10 & -0.884 & -4.49 & 1.885 & -1.832 \\\\\n",
       "\t11 & 11 & 6.386 & -1.269 & 3.702 & -1.73 \\\\\n",
       "\t12 & 12 & -2.566 & -2.901 & -1.732 & -2.609 \\\\\n",
       "\t13 & 13 & 0.891 & -3.273 & -1.028 & -3.527 \\\\\n",
       "\t14 & 14 & 1.622 & 0.702 & 0.279 & 0.698 \\\\\n",
       "\t15 & 15 & 0.834 & -3.901 & 3.608 & -3.051 \\\\\n",
       "\t16 & 16 & -4.496 & -3.666 & -3.214 & -4.588 \\\\\n",
       "\t17 & 17 & 3.285 & -0.519 & 0.72 & -2.599 \\\\\n",
       "\t18 & 18 & 4.673 & 1.049 & 0.528 & -1.531 \\\\\n",
       "\t19 & 19 & -6.183 & -8.107 & -6.403 & -5.212 \\\\\n",
       "\t20 & 20 & 6.584 & -2.374 & 0.392 & -3.641 \\\\\n",
       "\t21 & 21 & 0.929 & -1.787 & -1.607 & -1.909 \\\\\n",
       "\t22 & 22 & 4.464 & -2.438 & 1.687 & -2.2 \\\\\n",
       "\t23 & 23 & -5.306 & -2.142 & -1.539 & -2.925 \\\\\n",
       "\t24 & 24 & 1.157 & -2.793 & 0.002 & -2.269 \\\\\n",
       "\t25 & 25 & -4.106 & -7.668 & -5.54 & -6.001 \\\\\n",
       "\t26 & 26 & -4.386 & -6.772 & -0.213 & -5.467 \\\\\n",
       "\t27 & 27 & -0.268 & -3.976 & 1.062 & -2.015 \\\\\n",
       "\t28 & 28 & -1.229 & -0.531 & -3.869 & -3.82 \\\\\n",
       "\t29 & 29 & -3.159 & -2.822 & -2.716 & -1.913 \\\\\n",
       "\t30 & 30 & 4.453 & -1.944 & 4.34 & 1.181 \\\\\n",
       "\t$\\dots$ & $\\dots$ & $\\dots$ & $\\dots$ & $\\dots$ & $\\dots$ \\\\\n",
       "\\end{tabular}\n"
      ],
      "text/plain": [
       "250×5 DataFrame\n",
       "│ Row │ Column1 │ Column2 │ Column3 │ Column4 │ Column5 │\n",
       "│     │ \u001b[90mInt64\u001b[39m   │ \u001b[90mFloat64\u001b[39m │ \u001b[90mFloat64\u001b[39m │ \u001b[90mFloat64\u001b[39m │ \u001b[90mFloat64\u001b[39m │\n",
       "├─────┼─────────┼─────────┼─────────┼─────────┼─────────┤\n",
       "│ 1   │ 1       │ 0.758   │ 2.572   │ -0.408  │ 0.144   │\n",
       "│ 2   │ 2       │ -11.979 │ -3.512  │ -7.247  │ -1.235  │\n",
       "│ 3   │ 3       │ 9.093   │ 2.396   │ 4.903   │ 0.581   │\n",
       "│ 4   │ 4       │ -4.455  │ -6.182  │ -2.161  │ -3.752  │\n",
       "│ 5   │ 5       │ 1.764   │ -2.652  │ -1.803  │ -0.543  │\n",
       "│ 6   │ 6       │ -10.24  │ -3.829  │ -4.856  │ -3.289  │\n",
       "│ 7   │ 7       │ 7.009   │ -2.423  │ 3.435   │ -1.895  │\n",
       "│ 8   │ 8       │ -1.548  │ -3.622  │ -0.672  │ -3.595  │\n",
       "│ 9   │ 9       │ 2.216   │ -1.76   │ 3.736   │ -0.814  │\n",
       "│ 10  │ 10      │ -0.884  │ -4.49   │ 1.885   │ -1.832  │\n",
       "⋮\n",
       "│ 240 │ 240     │ -1.423  │ -3.251  │ -0.487  │ -2.499  │\n",
       "│ 241 │ 241     │ -6.409  │ -1.867  │ -1.149  │ -1.551  │\n",
       "│ 242 │ 242     │ 3.129   │ -1.47   │ 3.612   │ -0.212  │\n",
       "│ 243 │ 243     │ 3.313   │ -0.947  │ 0.195   │ -0.63   │\n",
       "│ 244 │ 244     │ 11.472  │ 2.311   │ 2.583   │ -0.045  │\n",
       "│ 245 │ 245     │ 3.682   │ -3.132  │ 2.285   │ -2.838  │\n",
       "│ 246 │ 246     │ -0.946  │ -2.887  │ -0.59   │ -2.253  │\n",
       "│ 247 │ 247     │ 5.124   │ -3.099  │ 2.762   │ -2.559  │\n",
       "│ 248 │ 248     │ -2.741  │ -0.381  │ 0.548   │ 0.79    │\n",
       "│ 249 │ 249     │ -5.601  │ -3.892  │ -3.608  │ -4.526  │\n",
       "│ 250 │ 250     │ 1.865   │ -7.889  │ 3.806   │ -7.909  │"
      ]
     },
     "execution_count": 9,
     "metadata": {},
     "output_type": "execute_result"
    }
   ],
   "source": [
    "founders = CSV.read(\"founders.phe\",header=false)"
   ]
  },
  {
   "cell_type": "code",
   "execution_count": 4,
   "metadata": {},
   "outputs": [
    {
     "data": {
      "text/html": [
       "<table class=\"data-frame\"><thead><tr><th></th><th>Column1</th><th>Column2</th><th>Column3</th><th>Column4</th><th>Column5</th></tr><tr><th></th><th>Int64</th><th>Float64</th><th>Float64</th><th>Float64</th><th>Float64</th></tr></thead><tbody><p>5 rows × 5 columns</p><tr><th>1</th><td>251</td><td>4.975</td><td>0.312</td><td>2.711</td><td>-0.265</td></tr><tr><th>2</th><td>252</td><td>2.069</td><td>-4.109</td><td>-0.093</td><td>-2.607</td></tr><tr><th>3</th><td>253</td><td>3.413</td><td>-0.052</td><td>2.004</td><td>-0.342</td></tr><tr><th>4</th><td>254</td><td>8.806</td><td>-1.066</td><td>4.067</td><td>-3.791</td></tr><tr><th>5</th><td>255</td><td>5.759</td><td>-1.057</td><td>4.387</td><td>-0.658</td></tr></tbody></table>"
      ],
      "text/latex": [
       "\\begin{tabular}{r|ccccc}\n",
       "\t& Column1 & Column2 & Column3 & Column4 & Column5\\\\\n",
       "\t\\hline\n",
       "\t& Int64 & Float64 & Float64 & Float64 & Float64\\\\\n",
       "\t\\hline\n",
       "\t1 & 251 & 4.975 & 0.312 & 2.711 & -0.265 \\\\\n",
       "\t2 & 252 & 2.069 & -4.109 & -0.093 & -2.607 \\\\\n",
       "\t3 & 253 & 3.413 & -0.052 & 2.004 & -0.342 \\\\\n",
       "\t4 & 254 & 8.806 & -1.066 & 4.067 & -3.791 \\\\\n",
       "\t5 & 255 & 5.759 & -1.057 & 4.387 & -0.658 \\\\\n",
       "\\end{tabular}\n"
      ],
      "text/plain": [
       "5×5 DataFrame\n",
       "│ Row │ Column1 │ Column2 │ Column3 │ Column4 │ Column5 │\n",
       "│     │ \u001b[90mInt64\u001b[39m   │ \u001b[90mFloat64\u001b[39m │ \u001b[90mFloat64\u001b[39m │ \u001b[90mFloat64\u001b[39m │ \u001b[90mFloat64\u001b[39m │\n",
       "├─────┼─────────┼─────────┼─────────┼─────────┼─────────┤\n",
       "│ 1   │ 251     │ 4.975   │ 0.312   │ 2.711   │ -0.265  │\n",
       "│ 2   │ 252     │ 2.069   │ -4.109  │ -0.093  │ -2.607  │\n",
       "│ 3   │ 253     │ 3.413   │ -0.052  │ 2.004   │ -0.342  │\n",
       "│ 4   │ 254     │ 8.806   │ -1.066  │ 4.067   │ -3.791  │\n",
       "│ 5   │ 255     │ 5.759   │ -1.057  │ 4.387   │ -0.658  │"
      ]
     },
     "execution_count": 4,
     "metadata": {},
     "output_type": "execute_result"
    }
   ],
   "source": [
    "children = CSV.read(\"simData.phe\",header=false)\n",
    "first(children,5)"
   ]
  },
  {
   "cell_type": "code",
   "execution_count": 5,
   "metadata": {},
   "outputs": [
    {
     "data": {
      "text/html": [
       "<table class=\"data-frame\"><thead><tr><th></th><th>Column1</th><th>Column2</th><th>Column3</th></tr><tr><th></th><th>Int64</th><th>Int64</th><th>Int64</th></tr></thead><tbody><p>5 rows × 3 columns</p><tr><th>1</th><td>251</td><td>17</td><td>177</td></tr><tr><th>2</th><td>252</td><td>12</td><td>192</td></tr><tr><th>3</th><td>253</td><td>24</td><td>64</td></tr><tr><th>4</th><td>254</td><td>27</td><td>191</td></tr><tr><th>5</th><td>255</td><td>50</td><td>127</td></tr></tbody></table>"
      ],
      "text/latex": [
       "\\begin{tabular}{r|ccc}\n",
       "\t& Column1 & Column2 & Column3\\\\\n",
       "\t\\hline\n",
       "\t& Int64 & Int64 & Int64\\\\\n",
       "\t\\hline\n",
       "\t1 & 251 & 17 & 177 \\\\\n",
       "\t2 & 252 & 12 & 192 \\\\\n",
       "\t3 & 253 & 24 & 64 \\\\\n",
       "\t4 & 254 & 27 & 191 \\\\\n",
       "\t5 & 255 & 50 & 127 \\\\\n",
       "\\end{tabular}\n"
      ],
      "text/plain": [
       "5×3 DataFrame\n",
       "│ Row │ Column1 │ Column2 │ Column3 │\n",
       "│     │ \u001b[90mInt64\u001b[39m   │ \u001b[90mInt64\u001b[39m   │ \u001b[90mInt64\u001b[39m   │\n",
       "├─────┼─────────┼─────────┼─────────┤\n",
       "│ 1   │ 251     │ 17      │ 177     │\n",
       "│ 2   │ 252     │ 12      │ 192     │\n",
       "│ 3   │ 253     │ 24      │ 64      │\n",
       "│ 4   │ 254     │ 27      │ 191     │\n",
       "│ 5   │ 255     │ 50      │ 127     │"
      ]
     },
     "execution_count": 5,
     "metadata": {},
     "output_type": "execute_result"
    }
   ],
   "source": [
    "ped = CSV.read(\"simData.ped\",header=false)\n",
    "first(ped,5)"
   ]
  },
  {
   "cell_type": "code",
   "execution_count": 12,
   "metadata": {},
   "outputs": [],
   "source": [
    "dams = ped[:,3];"
   ]
  },
  {
   "cell_type": "code",
   "execution_count": 13,
   "metadata": {},
   "outputs": [],
   "source": [
    "damPhen = founders[dams,3] # column three has the phenotype for the maternal effect\n",
    "damGen  = founders[dams,5]; # column five  has the genotype  for the maternal effect"
   ]
  },
  {
   "cell_type": "code",
   "execution_count": 14,
   "metadata": {},
   "outputs": [],
   "source": [
    "phen = children[:,2] + damPhen;"
   ]
  },
  {
   "cell_type": "code",
   "execution_count": 15,
   "metadata": {},
   "outputs": [
    {
     "data": {
      "text/html": [
       "<table class=\"data-frame\"><thead><tr><th></th><th>Ind</th><th>Mat</th><th>y</th></tr><tr><th></th><th>Int64</th><th>Int64</th><th>Float64</th></tr></thead><tbody><p>1,000 rows × 3 columns</p><tr><th>1</th><td>251</td><td>177</td><td>3.896</td></tr><tr><th>2</th><td>252</td><td>192</td><td>-1.739</td></tr><tr><th>3</th><td>253</td><td>64</td><td>2.729</td></tr><tr><th>4</th><td>254</td><td>191</td><td>2.894</td></tr><tr><th>5</th><td>255</td><td>127</td><td>4.331</td></tr><tr><th>6</th><td>256</td><td>130</td><td>-0.422</td></tr><tr><th>7</th><td>257</td><td>156</td><td>2.034</td></tr><tr><th>8</th><td>258</td><td>140</td><td>3.331</td></tr><tr><th>9</th><td>259</td><td>150</td><td>-3.944</td></tr><tr><th>10</th><td>260</td><td>218</td><td>5.763</td></tr><tr><th>11</th><td>261</td><td>216</td><td>3.21</td></tr><tr><th>12</th><td>262</td><td>111</td><td>-0.78</td></tr><tr><th>13</th><td>263</td><td>60</td><td>-5.32</td></tr><tr><th>14</th><td>264</td><td>75</td><td>1.855</td></tr><tr><th>15</th><td>265</td><td>206</td><td>-3.921</td></tr><tr><th>16</th><td>266</td><td>61</td><td>4.034</td></tr><tr><th>17</th><td>267</td><td>105</td><td>-7.571</td></tr><tr><th>18</th><td>268</td><td>106</td><td>-0.114</td></tr><tr><th>19</th><td>269</td><td>93</td><td>3.937</td></tr><tr><th>20</th><td>270</td><td>136</td><td>-4.805</td></tr><tr><th>21</th><td>271</td><td>198</td><td>-5.956</td></tr><tr><th>22</th><td>272</td><td>175</td><td>3.638</td></tr><tr><th>23</th><td>273</td><td>170</td><td>2.311</td></tr><tr><th>24</th><td>274</td><td>93</td><td>-4.529</td></tr><tr><th>25</th><td>275</td><td>76</td><td>-5.491</td></tr><tr><th>26</th><td>276</td><td>205</td><td>1.568</td></tr><tr><th>27</th><td>277</td><td>143</td><td>1.016</td></tr><tr><th>28</th><td>278</td><td>105</td><td>4.155</td></tr><tr><th>29</th><td>279</td><td>53</td><td>6.325</td></tr><tr><th>30</th><td>280</td><td>156</td><td>-9.85</td></tr><tr><th>&vellip;</th><td>&vellip;</td><td>&vellip;</td><td>&vellip;</td></tr></tbody></table>"
      ],
      "text/latex": [
       "\\begin{tabular}{r|ccc}\n",
       "\t& Ind & Mat & y\\\\\n",
       "\t\\hline\n",
       "\t& Int64 & Int64 & Float64\\\\\n",
       "\t\\hline\n",
       "\t1 & 251 & 177 & 3.896 \\\\\n",
       "\t2 & 252 & 192 & -1.739 \\\\\n",
       "\t3 & 253 & 64 & 2.729 \\\\\n",
       "\t4 & 254 & 191 & 2.894 \\\\\n",
       "\t5 & 255 & 127 & 4.331 \\\\\n",
       "\t6 & 256 & 130 & -0.422 \\\\\n",
       "\t7 & 257 & 156 & 2.034 \\\\\n",
       "\t8 & 258 & 140 & 3.331 \\\\\n",
       "\t9 & 259 & 150 & -3.944 \\\\\n",
       "\t10 & 260 & 218 & 5.763 \\\\\n",
       "\t11 & 261 & 216 & 3.21 \\\\\n",
       "\t12 & 262 & 111 & -0.78 \\\\\n",
       "\t13 & 263 & 60 & -5.32 \\\\\n",
       "\t14 & 264 & 75 & 1.855 \\\\\n",
       "\t15 & 265 & 206 & -3.921 \\\\\n",
       "\t16 & 266 & 61 & 4.034 \\\\\n",
       "\t17 & 267 & 105 & -7.571 \\\\\n",
       "\t18 & 268 & 106 & -0.114 \\\\\n",
       "\t19 & 269 & 93 & 3.937 \\\\\n",
       "\t20 & 270 & 136 & -4.805 \\\\\n",
       "\t21 & 271 & 198 & -5.956 \\\\\n",
       "\t22 & 272 & 175 & 3.638 \\\\\n",
       "\t23 & 273 & 170 & 2.311 \\\\\n",
       "\t24 & 274 & 93 & -4.529 \\\\\n",
       "\t25 & 275 & 76 & -5.491 \\\\\n",
       "\t26 & 276 & 205 & 1.568 \\\\\n",
       "\t27 & 277 & 143 & 1.016 \\\\\n",
       "\t28 & 278 & 105 & 4.155 \\\\\n",
       "\t29 & 279 & 53 & 6.325 \\\\\n",
       "\t30 & 280 & 156 & -9.85 \\\\\n",
       "\t$\\dots$ & $\\dots$ & $\\dots$ & $\\dots$ \\\\\n",
       "\\end{tabular}\n"
      ],
      "text/plain": [
       "1000×3 DataFrame\n",
       "│ Row  │ Ind   │ Mat   │ y       │\n",
       "│      │ \u001b[90mInt64\u001b[39m │ \u001b[90mInt64\u001b[39m │ \u001b[90mFloat64\u001b[39m │\n",
       "├──────┼───────┼───────┼─────────┤\n",
       "│ 1    │ 251   │ 177   │ 3.896   │\n",
       "│ 2    │ 252   │ 192   │ -1.739  │\n",
       "│ 3    │ 253   │ 64    │ 2.729   │\n",
       "│ 4    │ 254   │ 191   │ 2.894   │\n",
       "│ 5    │ 255   │ 127   │ 4.331   │\n",
       "│ 6    │ 256   │ 130   │ -0.422  │\n",
       "│ 7    │ 257   │ 156   │ 2.034   │\n",
       "│ 8    │ 258   │ 140   │ 3.331   │\n",
       "│ 9    │ 259   │ 150   │ -3.944  │\n",
       "│ 10   │ 260   │ 218   │ 5.763   │\n",
       "⋮\n",
       "│ 990  │ 1240  │ 120   │ 1.717   │\n",
       "│ 991  │ 1241  │ 222   │ 0.752   │\n",
       "│ 992  │ 1242  │ 81    │ -5.466  │\n",
       "│ 993  │ 1243  │ 53    │ -4.169  │\n",
       "│ 994  │ 1244  │ 128   │ 4.882   │\n",
       "│ 995  │ 1245  │ 91    │ -5.681  │\n",
       "│ 996  │ 1246  │ 233   │ -11.324 │\n",
       "│ 997  │ 1247  │ 99    │ 0.743   │\n",
       "│ 998  │ 1248  │ 91    │ -7.615  │\n",
       "│ 999  │ 1249  │ 239   │ -0.767  │\n",
       "│ 1000 │ 1250  │ 53    │ 1.466   │"
      ]
     },
     "execution_count": 15,
     "metadata": {},
     "output_type": "execute_result"
    }
   ],
   "source": [
    "data = DataFrame(Ind=children[:,1],Mat=dams, y=phen)"
   ]
  },
  {
   "cell_type": "code",
   "execution_count": 16,
   "metadata": {},
   "outputs": [
    {
     "data": {
      "text/plain": [
       "\"data.phen\""
      ]
     },
     "execution_count": 16,
     "metadata": {},
     "output_type": "execute_result"
    }
   ],
   "source": [
    "CSV.write(\"data.phen\",data)"
   ]
  },
  {
   "cell_type": "code",
   "execution_count": 7,
   "metadata": {},
   "outputs": [
    {
     "data": {
      "text/html": [
       "<table class=\"data-frame\"><thead><tr><th></th><th>Ind</th><th>y1</th><th>y2</th></tr><tr><th></th><th>Int64</th><th>Float64</th><th>Float64</th></tr></thead><tbody><p>5 rows × 3 columns</p><tr><th>1</th><td>251</td><td>4.975</td><td>0.312</td></tr><tr><th>2</th><td>252</td><td>2.069</td><td>-4.109</td></tr><tr><th>3</th><td>253</td><td>3.413</td><td>-0.052</td></tr><tr><th>4</th><td>254</td><td>8.806</td><td>-1.066</td></tr><tr><th>5</th><td>255</td><td>5.759</td><td>-1.057</td></tr></tbody></table>"
      ],
      "text/latex": [
       "\\begin{tabular}{r|ccc}\n",
       "\t& Ind & y1 & y2\\\\\n",
       "\t\\hline\n",
       "\t& Int64 & Float64 & Float64\\\\\n",
       "\t\\hline\n",
       "\t1 & 251 & 4.975 & 0.312 \\\\\n",
       "\t2 & 252 & 2.069 & -4.109 \\\\\n",
       "\t3 & 253 & 3.413 & -0.052 \\\\\n",
       "\t4 & 254 & 8.806 & -1.066 \\\\\n",
       "\t5 & 255 & 5.759 & -1.057 \\\\\n",
       "\\end{tabular}\n"
      ],
      "text/plain": [
       "5×3 DataFrame\n",
       "│ Row │ Ind   │ y1      │ y2      │\n",
       "│     │ \u001b[90mInt64\u001b[39m │ \u001b[90mFloat64\u001b[39m │ \u001b[90mFloat64\u001b[39m │\n",
       "├─────┼───────┼─────────┼─────────┤\n",
       "│ 1   │ 251   │ 4.975   │ 0.312   │\n",
       "│ 2   │ 252   │ 2.069   │ -4.109  │\n",
       "│ 3   │ 253   │ 3.413   │ -0.052  │\n",
       "│ 4   │ 254   │ 8.806   │ -1.066  │\n",
       "│ 5   │ 255   │ 5.759   │ -1.057  │"
      ]
     },
     "execution_count": 7,
     "metadata": {},
     "output_type": "execute_result"
    }
   ],
   "source": [
    "dataTwoTrait = DataFrame(Ind=children[:,1],y1=children[:,2],y2=children[:,3])\n",
    "first(dataTwoTrait,5)"
   ]
  },
  {
   "cell_type": "code",
   "execution_count": 9,
   "metadata": {},
   "outputs": [
    {
     "data": {
      "text/plain": [
       "\"dataTwoTrait.phen\""
      ]
     },
     "execution_count": 9,
     "metadata": {},
     "output_type": "execute_result"
    }
   ],
   "source": [
    "CSV.write(\"dataTwoTrait.phen\",dataTwoTrait)"
   ]
  }
 ],
 "metadata": {
  "kernelspec": {
   "display_name": "Julia 1.1.0",
   "language": "julia",
   "name": "julia-1.1"
  },
  "language_info": {
   "file_extension": ".jl",
   "mimetype": "application/julia",
   "name": "julia",
   "version": "1.1.0"
  }
 },
 "nbformat": 4,
 "nbformat_minor": 2
}
