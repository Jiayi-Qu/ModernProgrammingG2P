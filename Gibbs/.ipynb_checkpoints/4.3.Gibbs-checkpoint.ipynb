{
 "cells": [
  {
   "cell_type": "code",
   "execution_count": 1,
   "metadata": {},
   "outputs": [],
   "source": [
    "using Pkg\n",
    "#Pkg.add(\"NBInclude\")\n",
    "#Pkg.add(\"ProgressMeter\")"
   ]
  },
  {
   "cell_type": "markdown",
   "metadata": {},
   "source": [
    "Latex Macros:\n",
    "$$\n",
    "\\newcommand{\\E}{\\text{E}}\n",
    "\\newcommand{\\mbf}{\\mathbf}\n",
    "\\newcommand{\\bs}{\\boldsymbol}\n",
    "\\newcommand{\\Cov}{\\text{Cov}}\n",
    "\\newcommand{\\Var}{\\text{Var}}\n",
    "\\newcommand{\\Cov}{\\text{Cov}}\n",
    "\\newcommand{\\A}[1]{\\mathbf{A}_{#1}}\n",
    "\\newcommand{\\Ai}[1]{\\mathbf{A}^{#1}}\n",
    "$$"
   ]
  },
  {
   "cell_type": "code",
   "execution_count": 2,
   "metadata": {},
   "outputs": [
    {
     "data": {
      "application/javascript": [
       "    MathJax.Hub.Config({\n",
       "      TeX: { equationNumbers: { autoNumber: \"AMS\" } }\n",
       "    });\n",
       "    MathJax.Hub.Queue( \n",
       "        [\"resetEquationNumbers\",MathJax.InputJax.TeX], \n",
       "        [\"PreProcess\",MathJax.Hub], \n",
       "        [\"Reprocess\",MathJax.Hub] \n",
       "    );\n"
      ]
     },
     "metadata": {},
     "output_type": "display_data"
    }
   ],
   "source": [
    "macro javascript_str(s) display(\"text/javascript\", s); end\n",
    "javascript\"\"\"\n",
    "    MathJax.Hub.Config({\n",
    "      TeX: { equationNumbers: { autoNumber: \"AMS\" } }\n",
    "    });\n",
    "    MathJax.Hub.Queue( \n",
    "        [\"resetEquationNumbers\",MathJax.InputJax.TeX], \n",
    "        [\"PreProcess\",MathJax.Hub], \n",
    "        [\"Reprocess\",MathJax.Hub] \n",
    "    );\n",
    "\"\"\""
   ]
  },
  {
   "cell_type": "markdown",
   "metadata": {},
   "source": [
    "# Gibbs Sampling of Fixed and Random Effects"
   ]
  },
  {
   "cell_type": "markdown",
   "metadata": {},
   "source": [
    "### Extension for SNP Effects\n"
   ]
  },
  {
   "cell_type": "markdown",
   "metadata": {},
   "source": [
    "We will initially consider a univariate mixed linear model of the form:\n",
    "\n",
    "\\begin{equation}\n",
    "\\mathbf{y} = \\mathbf{X}\\boldsymbol{\\beta} + \\mathbf{Zu} + \\mathbf{W}\\boldsymbol{\\alpha} + \\mathbf{e},\n",
    "\\label{eq:model}\n",
    "\\end{equation}"
   ]
  },
  {
   "cell_type": "markdown",
   "metadata": {},
   "source": [
    "where $\\boldsymbol{\\beta}$ is a vector of fixed effects, $\\mathbf{X}$ is an observed matrix that relates $\\boldsymbol{\\beta}$ to $\\mathbf{y}$, $\\mathbf{u}$ is a vector of multivariate normal random effects with null means and covariance matrix $\\mathbf{G}\\sigma^2_u$, $\\mathbf{Z}$ is an observed matrix that relates $\\mathbf{u}$ to $\\mathbf{y}$, $\\boldsymbol{\\alpha}$ is a vector of random SNP effects with null means and covariance matrix $\\mathbf{I}\\sigma^2_{\\alpha}$, $\\mathbf{W}$ is an observed matrix of SNP covariates, and $\\mathbf{e}$ is a vector of multivariate normal residuals with null means and covariance matrix $\\mathbf{R}\\sigma^2_e$. The fixed effects are usually assigned a flat prior distribution, and the matrices $\\mathbf{G}$ and $\\mathbf{R}$ are assumed to be known. It is assumed that vectors $\\mbf{u}$, $\\bs{\\alpha}$ and $\\mbf{e}$ are mutually independent. The variance components $\\sigma^2_u$, $\\sigma^2_{\\alpha}$ and $\\sigma^2_e$ are assigned scaled inverted chi-square prior distributions."
   ]
  },
  {
   "cell_type": "markdown",
   "metadata": {},
   "source": [
    "The MME for this model are:"
   ]
  },
  {
   "cell_type": "markdown",
   "metadata": {},
   "source": [
    "\\begin{equation}\n",
    "\\begin{bmatrix}\n",
    "\\mathbf{X}'\\mathbf{R}^{-1}\\mathbf{X} & \n",
    "\\mathbf{X}'\\mathbf{R}^{-1}\\mathbf{Z} &\n",
    "\\mathbf{X}'\\mathbf{R}^{-1}\\mathbf{W} \\\\\n",
    "\\mathbf{Z}'\\mathbf{R}^{-1}\\mathbf{X} & \n",
    "\\mathbf{Z}'\\mathbf{R}^{-1}\\mathbf{Z} + \\frac{\\sigma_{e}^{2}}{\\sigma_u^2}\\mathbf{G}^{-1}&\n",
    "\\mathbf{Z}'\\mathbf{R}^{-1}\\mathbf{W} \\\\\n",
    "\\mathbf{W}'\\mathbf{R}^{-1}\\mathbf{X} & \n",
    "\\mathbf{W}'\\mathbf{R}^{-1}\\mathbf{Z} &\n",
    "\\mathbf{W}'\\mathbf{R}^{-1}\\mathbf{W} + \\frac{\\sigma_{e}^{2}}{\\sigma_{\\alpha}^2}\\mathbf{I}       \n",
    "\\end{bmatrix}\n",
    "\\begin{bmatrix}\n",
    "\\hat{\\bs{\\beta}}\\\\\n",
    "\\hat{\\mbf{u}} \\\\\n",
    "\\hat{\\bs{\\alpha}}      \n",
    "\\end{bmatrix}\n",
    "=\n",
    "\\begin{bmatrix}\n",
    "\\mathbf{X}'\\mathbf{R}^{-1}\\mathbf{y}\\\\\n",
    "\\mathbf{Z}'\\mathbf{R}^{-1}\\mathbf{y}\\\\\n",
    "\\mathbf{W}'\\mathbf{R}^{-1}\\mathbf{y}        \n",
    "\\end{bmatrix}.\n",
    "\\label{eq:MME}\n",
    "\\end{equation}"
   ]
  },
  {
   "cell_type": "markdown",
   "metadata": {},
   "source": [
    "The rows and columns in (\\ref{eq:MME}) corresponding to $\\hat{\\bs{\\alpha}}$ are dense. Thus, an alternative sampling scheme is described below for sampling the location parameters in (\\ref{eq:model}) without constrcting the MME in (\\ref{eq:MME})."
   ]
  },
  {
   "cell_type": "markdown",
   "metadata": {},
   "source": [
    "In iteration $i$ of the Gibbs sampler, conditional on the sampled values of $\\bs{\\alpha} = \\bs{\\alpha}^{(i-1)}$ in the previous iteration, the model given by (\\ref{eq:model}) can be written as:"
   ]
  },
  {
   "cell_type": "markdown",
   "metadata": {},
   "source": [
    "\\begin{align}\n",
    "\\mathbf{y} - \\mathbf{W}\\boldsymbol{\\alpha}^{(i-1)} &= \\mathbf{X}\\boldsymbol{\\beta} + \\mathbf{Zu} + \\mathbf{e},\n",
    "\\label{eq:model2}\n",
    "\\end{align}"
   ]
  },
  {
   "cell_type": "markdown",
   "metadata": {},
   "source": [
    "where distributions of $\\mbf{u}$, and $\\mbf{e}$  in (\\ref{eq:model2}) are identical to their distibutions in (\\ref{eq:model}), because $\\bs{\\alpha}$ is independent of $\\mbf{u}$, and $\\mbf{e}$. The MME for (\\ref{eq:model2}) will be sparse when $\\mathbf{X}$, $\\mathbf{Z}$ and $\\mathbf{G}^{-1}$ are sparse as in the usual non-genomic models. Thus, the function `sampleLoc!`  can be applied to the sparse MME for (\\ref{eq:model2}) to obtain single-site Gibbs samples of the elements in $\\bs{\\beta}$ and $\\mbf{u}$. Recall that this function can be used for single-trait and multi-trait models.   "
   ]
  },
  {
   "cell_type": "markdown",
   "metadata": {},
   "source": [
    "Similarly, for a single-trait model, to apply single-site Gibbs sampling to element $j$ of $\\bs{\\alpha}$, the model in (\\ref{eq:model}) can be written as\n",
    "\\begin{align}\n",
    "\\mbf{y} - \\mbf{X}\\bs{\\beta}^{(i)} - \\mbf{Z}\\mbf{u}^{(i)} \n",
    "        - \\sum_{l < j}\\mbf{w}_l\\alpha_l^{(i)} - \\sum_{l >j}\\mbf{w}_l\\alpha_l^{(i-1)}\n",
    "                           &=  \\mbf{w}_j\\alpha_j+ \\mathbf{e}\\\\\n",
    "\\mbf{y}_{\\text{adj-j}}^{(j)} &= \\mbf{w}_j\\alpha_j + \\mathbf{e},\n",
    "\\label{eq:model3}\n",
    "\\end{align}"
   ]
  },
  {
   "cell_type": "markdown",
   "metadata": {},
   "source": [
    "where $\\mbf{w}_j$ is column $j$ of $\\mbf{W}$. In this model, $\\alpha_j$ is the only unknown, and the MME corresponding to (\\ref{eq:model3}) is:"
   ]
  },
  {
   "cell_type": "markdown",
   "metadata": {},
   "source": [
    "\\begin{equation}\n",
    "(\\mbf{w}_j'\\mbf{w}_j + \\frac{\\sigma^2_e}{\\sigma^2_{\\alpha}})\\hat{\\alpha}_j = \\mbf{w}_j'\\mbf{y}_{\\text{adj-j}}^{(j)}.\n",
    "\\label{eq:MMEAlpha}\n",
    "\\end{equation}\n",
    "Thus, as we have seen previously, the full-conditional distribution of $\\alpha_j$ can be shown to have a normal distribution with mean $\\hat{\\alpha}_j$ and variance $\\frac{\\sigma^2_e}{\\mbf{w}_j'\\mbf{w}_j + \\frac{\\sigma^2_e}{\\sigma^2_{\\alpha}}}$."
   ]
  },
  {
   "cell_type": "markdown",
   "metadata": {},
   "source": [
    "To compute the right-hand-side (RHS) of (\\ref{eq:MMEAlpha}) efficiently, before sammpling $\\alpha_j$, let "
   ]
  },
  {
   "cell_type": "markdown",
   "metadata": {},
   "source": [
    "$$\n",
    "\\mbf{y}_{\\text{adj}}^{(j-1)} = \\mbf{y} - \\mbf{X}\\bs{\\beta}^{(i)} - \\mbf{Z}\\mbf{u}^{(i)} \n",
    "                               - \\sum_{l < j}\\mbf{w}_l\\alpha_l^{(i)} - \\mbf{w}_j\\alpha_j^{(i-1)} - \\sum_{l > j}\\mbf{w}_l\\alpha_l^{(i-1)},\n",
    "$$"
   ]
  },
  {
   "cell_type": "markdown",
   "metadata": {},
   "source": [
    "where $\\mbf{y}$ has been adjusted for all the effects in the model with their sampled values, including $\\alpha_j = \\alpha_j^{(i-1)}$. Then, the RHS of (\\ref{eq:MMEAlpha}) can be written as\n",
    "\n",
    "$$\n",
    "\\mbf{w}_j'\\mbf{y}_{\\text{adj-j}}^{(j)} = \\mbf{w}_j'\\mbf{y}_{\\text{adj}}^{(j)} + \\mbf{w}_j'\\mbf{w}_j\\alpha_j^{(i-1)}.\n",
    "$$"
   ]
  },
  {
   "cell_type": "markdown",
   "metadata": {},
   "source": [
    "After sampling $\\alpha_j$, $\\mbf{y}_{\\text{adj}}^{{j}}$ is obtained efficiently as"
   ]
  },
  {
   "cell_type": "markdown",
   "metadata": {},
   "source": [
    "\\begin{align}\n",
    "\\mbf{y}_{\\text{adj}}^{(j)} &= \n",
    "   \\mbf{y} - \\mbf{X}\\bs{\\beta}^{(i)} - \\mbf{Z}\\mbf{u}^{(i)} \n",
    "           - \\sum_{l < j}\\mbf{w}_l\\alpha_l^{(i)} - \\mbf{w}_j\\alpha_j^{(i)} - \\sum_{l > j}\\mbf{w}_l\\alpha_l^{(i-1)}\\\\\n",
    "   &= \\mbf{y}_{\\text{adj}}^{(j-1)} +  \\mbf{w}_j\\alpha_j^{(i-1)} - \\mbf{w}_j\\alpha_j^{(i)} \\\\\n",
    "   &= \\mbf{y}_{\\text{adj}}^{(j-1)} +  \\mbf{w}_j(\\alpha_j^{(i-1)} - \\alpha_j^{(i)}).\n",
    "\\end{align}"
   ]
  },
  {
   "cell_type": "markdown",
   "metadata": {},
   "source": [
    "After all elements of $\\bs{\\alpha}$ have been sampled, adding $\\mbf{X}\\bs{\\beta}^{(i)} + \\mbf{Z}\\mbf{u}^{(i)}$ to $\\mbf{y}_{\\text{adj}}^{{k}}$ gives:"
   ]
  },
  {
   "cell_type": "markdown",
   "metadata": {},
   "source": [
    "$$\n",
    "\\mathbf{y} - \\mathbf{W}\\boldsymbol{\\alpha}^{(i)} = \\mbf{y}_{\\text{adj}}^{{k}} + \\mbf{X}\\bs{\\beta}^{(i)} + \\mbf{Z}\\mbf{u}^{(i)},\n",
    "$$"
   ]
  },
  {
   "cell_type": "markdown",
   "metadata": {},
   "source": [
    "which will be used in the next round of the Gibbs sampler for obtaining samples of $\\bs{\\beta}$ and $\\mbf{u}$."
   ]
  },
  {
   "cell_type": "markdown",
   "metadata": {},
   "source": [
    "Consider now a two-trait model, where, to simplify the notation, we will denote $\\mbf{y}_{\\text{adj-j}}^{{j}}$ by $\\mbf{y}_1$ for the first trait and by $\\mbf{y}_2$ for the second trait. Then, the model for sampling the effects for locus $j$ can be written as:    "
   ]
  },
  {
   "cell_type": "markdown",
   "metadata": {},
   "source": [
    "\\begin{align}\n",
    "\\begin{bmatrix}\n",
    "\\mbf{y}_1\\\\\n",
    "\\mbf{y}_2\n",
    "\\end{bmatrix}\n",
    "&=\n",
    "\\begin{bmatrix}\n",
    "\\mbf{w}_j & \\mbf{0}\\\\\n",
    "\\mbf{0}   & \\mbf{w}_j\n",
    "\\end{bmatrix}\n",
    "\\begin{bmatrix}\n",
    "\\alpha_{j1}\\\\\n",
    "\\alpha_{j2}\n",
    "\\end{bmatrix}\n",
    "+\n",
    "\\begin{bmatrix}\n",
    "\\mbf{e}_1\\\\\n",
    "\\mbf{e}_2\n",
    "\\end{bmatrix}\\\\\n",
    "&= (\\mbf{I}_2\\otimes \\mbf{w}_j)\\bs{\\alpha}_j \n",
    "+ \n",
    "\\mbf{e},\n",
    "\\label{eq:MME2Trait}\n",
    "\\end{align}"
   ]
  },
  {
   "cell_type": "markdown",
   "metadata": {},
   "source": [
    "where $\\bs{\\alpha}_j \\sim \\text{N}(\\mbf{0},\\bs{\\Sigma})$, and $\\mbf{e} \\sim \\text{N}(\\mbf{0},\\mbf{R}_0\\otimes\\mbf{I}_n)$. The MME for this model is: "
   ]
  },
  {
   "cell_type": "markdown",
   "metadata": {},
   "source": [
    "\\begin{align}\n",
    "[(\\mbf{I}_2\\otimes \\mbf{w}'_j)(\\mbf{R}_0^{-1}\\otimes\\mbf{I}_n)(\\mbf{I}_2\\otimes \\mbf{w}_j) + \\bs{\\Sigma}^{-1}]\\hat{\\bs{\\alpha}}_j &=  \n",
    "(\\mbf{I}_2\\otimes \\mbf{w}'_j)(\\mbf{R}_0^{-1}\\otimes\\mbf{I}_n)\\mbf{y} \\\\ \n",
    "(\\begin{bmatrix}\n",
    "\\mbf{w}'_j & \\mbf{0}\\\\\n",
    "\\mbf{0}    & \\mbf{w}'_j\n",
    "\\end{bmatrix}\n",
    "\\begin{bmatrix}\n",
    "r_0^{11}\\mbf{I} & r_0^{12}\\mbf{I}\\\\\n",
    "r_0^{21}\\mbf{I} & r_0^{22}\\mbf{I}\n",
    "\\end{bmatrix}\n",
    "\\begin{bmatrix}\n",
    "\\mbf{w}_j & \\mbf{0}\\\\\n",
    "\\mbf{0}   & \\mbf{w}_j\n",
    "\\end{bmatrix}\n",
    "+ \n",
    "\\bs{\\Sigma}^{-1})\n",
    "\\hat{\\bs{\\alpha}}_j\n",
    "&=\n",
    "(\\begin{bmatrix}\n",
    "\\mbf{w}'_j & \\mbf{0}\\\\\n",
    "\\mbf{0}    & \\mbf{w}'_j\n",
    "\\end{bmatrix}\n",
    "\\begin{bmatrix}\n",
    "r_0^{11}\\mbf{I} & r_0^{12}\\mbf{I}\\\\\n",
    "r_0^{21}\\mbf{I} & r_0^{22}\\mbf{I}\n",
    "\\end{bmatrix}\n",
    "\\begin{bmatrix}\n",
    "\\mbf{y}_1\\\\\n",
    "\\mbf{y}_2\n",
    "\\end{bmatrix} \\\\\n",
    "(\\mbf{w}'_j\\mbf{w}_j\\mbf{R}_0^{-1} + \\bs{\\Sigma}^{-1})\\hat{\\bs{\\alpha}}_j \n",
    "&= \n",
    "\\begin{bmatrix}\n",
    "r_0^{11}\\mbf{w}' & r_0^{12}\\mbf{w}'\\\\\n",
    "r_0^{21}\\mbf{w}' & r_0^{22}\\mbf{w}'\n",
    "\\end{bmatrix}\n",
    "\\begin{bmatrix}\n",
    "\\mbf{y}_1\\\\\n",
    "\\mbf{y}_2\n",
    "\\end{bmatrix} \\\\\n",
    "(\\mbf{w}'_j\\mbf{w}_j\\mbf{R}_0^{-1} + \\bs{\\Sigma}^{-1})\\hat{\\bs{\\alpha}}_j \n",
    "&= \n",
    "\\mbf{R}_0^{-1}\n",
    "\\begin{bmatrix}\n",
    "\\mbf{w}'_j\\mbf{y}_1\\\\\n",
    "\\mbf{w}'_j\\mbf{y}_2\n",
    "\\end{bmatrix} \n",
    "%\\label{eq:MME2Trait}\n",
    "\\end{align}"
   ]
  },
  {
   "cell_type": "markdown",
   "metadata": {},
   "source": [
    "When the multi-trait model is for $m$ traits, the coefficient matrix of the MME in (\\ref{eq:MME2Trait}) expands to an $m\\times m$ matrix and the RHS to an $m\\times 1$ vector. Then, the `sampleLoc!` function can be applied to this MME to obtain single-site Gibbs samples of the elements in $\\bs{\\alpha}_j$.  "
   ]
  },
  {
   "cell_type": "code",
   "execution_count": 68,
   "metadata": {},
   "outputs": [
    {
     "data": {
      "text/plain": [
       "updateLhsRhs! (generic function with 1 method)"
      ]
     },
     "execution_count": 68,
     "metadata": {},
     "output_type": "execute_result"
    }
   ],
   "source": [
    "using NBInclude\n",
    "@nbinclude(\"../MME/3.7.3.BuildMME.ipynb\"; regex=r\"#\\s*EXECUTE\")"
   ]
  },
  {
   "cell_type": "code",
   "execution_count": 69,
   "metadata": {},
   "outputs": [
    {
     "name": "stdout",
     "output_type": "stream",
     "text": [
      "\u001b[32mThe delimiter in pedFile is ','.\u001b[39m\n",
      "Finished!\n"
     ]
    }
   ],
   "source": [
    "pedigree = get_pedigree(\"../MME/pedFile\",separator=\",\",header=false);"
   ]
  },
  {
   "cell_type": "code",
   "execution_count": 70,
   "metadata": {},
   "outputs": [],
   "source": [
    "#JWAS.PedModule.getinfo(pedigree)"
   ]
  },
  {
   "cell_type": "code",
   "execution_count": 71,
   "metadata": {},
   "outputs": [
    {
     "data": {
      "text/html": [
       "<table class=\"data-frame\"><thead><tr><th></th><th>Ind</th><th>Mat</th><th>y1</th><th>y2</th><th>x</th></tr><tr><th></th><th>Int64</th><th>Int64</th><th>Float64</th><th>Float64</th><th>Float64</th></tr></thead><tbody><p>3 rows × 5 columns</p><tr><th>1</th><td>3</td><td>2</td><td>8.9</td><td>9.2</td><td>11.9</td></tr><tr><th>2</th><td>4</td><td>2</td><td>9.7</td><td>5.7</td><td>10.8</td></tr><tr><th>3</th><td>5</td><td>4</td><td>8.8</td><td>8.5</td><td>11.7</td></tr></tbody></table>"
      ],
      "text/latex": [
       "\\begin{tabular}{r|ccccc}\n",
       "\t& Ind & Mat & y1 & y2 & x\\\\\n",
       "\t\\hline\n",
       "\t& Int64 & Int64 & Float64 & Float64 & Float64\\\\\n",
       "\t\\hline\n",
       "\t1 & 3 & 2 & 8.9 & 9.2 & 11.9 \\\\\n",
       "\t2 & 4 & 2 & 9.7 & 5.7 & 10.8 \\\\\n",
       "\t3 & 5 & 4 & 8.8 & 8.5 & 11.7 \\\\\n",
       "\\end{tabular}\n"
      ],
      "text/plain": [
       "3×5 DataFrame\n",
       "│ Row │ Ind   │ Mat   │ y1      │ y2      │ x       │\n",
       "│     │ \u001b[90mInt64\u001b[39m │ \u001b[90mInt64\u001b[39m │ \u001b[90mFloat64\u001b[39m │ \u001b[90mFloat64\u001b[39m │ \u001b[90mFloat64\u001b[39m │\n",
       "├─────┼───────┼───────┼─────────┼─────────┼─────────┤\n",
       "│ 1   │ 3     │ 2     │ 8.9     │ 9.2     │ 11.9    │\n",
       "│ 2   │ 4     │ 2     │ 9.7     │ 5.7     │ 10.8    │\n",
       "│ 3   │ 5     │ 4     │ 8.8     │ 8.5     │ 11.7    │"
      ]
     },
     "execution_count": 71,
     "metadata": {},
     "output_type": "execute_result"
    }
   ],
   "source": [
    "data = CSV.read(\"../MME/data.phen\")"
   ]
  },
  {
   "cell_type": "code",
   "execution_count": 72,
   "metadata": {},
   "outputs": [],
   "source": [
    "using Statistics, Distributions"
   ]
  },
  {
   "cell_type": "code",
   "execution_count": 73,
   "metadata": {},
   "outputs": [
    {
     "data": {
      "text/plain": [
       "5×10 Array{Float64,2}:\n",
       " 1.0  0.0  1.0  2.0  1.0  1.0  2.0  2.0  1.0  1.0\n",
       " 0.0  0.0  2.0  0.0  0.0  1.0  1.0  1.0  1.0  1.0\n",
       " 1.0  1.0  2.0  0.0  1.0  0.0  0.0  2.0  2.0  1.0\n",
       " 1.0  1.0  0.0  2.0  2.0  0.0  1.0  0.0  1.0  1.0\n",
       " 1.0  1.0  1.0  0.0  0.0  2.0  0.0  0.0  2.0  1.0"
      ]
     },
     "execution_count": 73,
     "metadata": {},
     "output_type": "execute_result"
    }
   ],
   "source": [
    "M = float.(rand(Binomial(2,0.5),5,10))"
   ]
  },
  {
   "cell_type": "code",
   "execution_count": 74,
   "metadata": {},
   "outputs": [
    {
     "data": {
      "text/plain": [
       "0.24333333333333262"
      ]
     },
     "execution_count": 74,
     "metadata": {},
     "output_type": "execute_result"
    }
   ],
   "source": [
    "var(data[:,3])"
   ]
  },
  {
   "cell_type": "code",
   "execution_count": 75,
   "metadata": {},
   "outputs": [
    {
     "data": {
      "text/plain": [
       "sampleLoc! (generic function with 3 methods)"
      ]
     },
     "execution_count": 75,
     "metadata": {},
     "output_type": "execute_result"
    }
   ],
   "source": [
    "function sampleLoc!(mme,iter=0)\n",
    "    A = mme.mmeLhs\n",
    "    b = mme.mmeRhs\n",
    "    x = mme.mmeSpl\n",
    "    n = size(x,1)\n",
    "    sampleLoc!(A,b,x,n)\n",
    "    if iter > 0\n",
    "        mme.meanEffects += (x - mme.meanEffects)/iter\n",
    "    end\n",
    "end"
   ]
  },
  {
   "cell_type": "code",
   "execution_count": 76,
   "metadata": {},
   "outputs": [
    {
     "data": {
      "text/plain": [
       "sampleLoc! (generic function with 3 methods)"
      ]
     },
     "execution_count": 76,
     "metadata": {},
     "output_type": "execute_result"
    }
   ],
   "source": [
    "function sampleLoc!(A,b,x,n)\n",
    "    for i=1:n\n",
    "        cVarInv = 1.0/A[i,i]\n",
    "        cMean   = cVarInv*(b[i] - A[:,i]'x) + x[i]\n",
    "        x[i]    = randn()*sqrt(cVarInv) + cMean\n",
    "    end\n",
    "end"
   ]
  },
  {
   "cell_type": "code",
   "execution_count": 77,
   "metadata": {},
   "outputs": [
    {
     "data": {
      "text/plain": [
       "sampleVar! (generic function with 2 methods)"
      ]
     },
     "execution_count": 77,
     "metadata": {},
     "output_type": "execute_result"
    }
   ],
   "source": [
    "function sampleVar!(mme,iter=0)\n",
    "    for randomEffect in mme.randomEffectsVec\n",
    "        if randomEffect.estimate == false continue end\n",
    "        modelTerm1 = randomEffect.modelTermVec[1]      \n",
    "        k = modelTerm1.endPos - modelTerm1.startPos\n",
    "        m = size(randomEffect.modelTermVec,1)\n",
    "        \n",
    "        S = zeros(m,m)\n",
    "        for i=1:m\n",
    "            modelTermi = randomEffect.modelTermVec[i]\n",
    "            starti = modelTermi.startPos\n",
    "            endi = modelTermi.endPos\n",
    "            ui = @view mme.mmeSpl[starti:endi]\n",
    "            for j=i:m\n",
    "                modelTermj = randomEffect.modelTermVec[j]\n",
    "                startj = modelTermj.startPos\n",
    "                endj = modelTermj.endPos\n",
    "                uj = @view mme.mmeSpl[startj:endj]\n",
    "                S[i,j] = ui'randomEffect.Ai*uj\n",
    "                S[j,i] = S[i,j]\n",
    "            end\n",
    "        end\n",
    "        Vpo = randomEffect.Spr + S\n",
    "        νpo = randomEffect.νpr + k \n",
    "        V = rand(InverseWishart(νpo,Vpo))\n",
    "        randomEffect.Vi = inv(V)\n",
    "        if iter>0\n",
    "            randomEffect.meanV += (V - randomEffect.meanV)/iter\n",
    "        end\n",
    "        if randomEffect.outSamples==true && iter%randomEffect.outFreq==0\n",
    "            for i=1:m,j=i:m\n",
    "                if i==j==1\n",
    "                    @printf(randomEffect.outStream,\"%10.5e\", V[i,j])\n",
    "                else\n",
    "                    @printf(randomEffect.outStream,\" %10.5e\", V[i,j])    \n",
    "                end\n",
    "            end\n",
    "            @printf(randomEffect.outStream,\"\\n\")\n",
    "        end\n",
    "            \n",
    "    end\n",
    "end"
   ]
  },
  {
   "cell_type": "code",
   "execution_count": 78,
   "metadata": {},
   "outputs": [
    {
     "data": {
      "text/plain": [
       "sampleVarRes! (generic function with 2 methods)"
      ]
     },
     "execution_count": 78,
     "metadata": {},
     "output_type": "execute_result"
    }
   ],
   "source": [
    "function sampleVarRes!(mme,iter=0)\n",
    "    m = size(mme.varRes,1)\n",
    "    n = Int(size(mme.y,1)/m)\n",
    "    S = zeros(m,m)\n",
    "    e = mme.y - mme.X*mme.mmeSpl\n",
    "    for i=1:m\n",
    "        starti = (i - 1)*n + 1\n",
    "        endi = starti + n - 1\n",
    "        ei = @view e[starti:endi]\n",
    "        for j=i:m\n",
    "            startj = (j - 1)*n + 1\n",
    "            endj = startj + n - 1\n",
    "            ej = @view e[startj:endj]\n",
    "            S[i,j] = ei'ej\n",
    "            S[j,i] = S[i,j]\n",
    "        end\n",
    "    end\n",
    "    νpo = n + mme.νRes\n",
    "    Spo = S + mme.SRes\n",
    "    mme.varRes = rand(InverseWishart(νpo,Spo))\n",
    "    if iter>0\n",
    "        mme.meanVarRes += (mme.varRes - mme.meanVarRes)/iter\n",
    "    end  \n",
    "end"
   ]
  },
  {
   "cell_type": "code",
   "execution_count": 79,
   "metadata": {},
   "outputs": [
    {
     "data": {
      "text/plain": [
       "sampleGenEffects! (generic function with 2 methods)"
      ]
     },
     "execution_count": 79,
     "metadata": {},
     "output_type": "execute_result"
    }
   ],
   "source": [
    "function sampleGenEffects!(mme,iter=0)\n",
    "    # y has already been corrected for SNP effects from previous iteration\n",
    "    mme.yAdj[:] -= mme.X*mme.mmeSpl # adjust for effects in sparse MME\n",
    "    nMarkers = size(mme.genotypes.M,2)\n",
    "    Ri = inv(mme.varRes)\n",
    "    nModels = size(mme.varRes,1)\n",
    "    rhs = zeros(nModels)\n",
    "    mmeGen = mme.genotypes\n",
    "    for i=1:nMarkers\n",
    "        lhs = mmeGen.MPMArray[i]*Ri + mmeGen.Vi\n",
    "        for j=1:nModels\n",
    "            rhs[j] = mmeGen.MArray[i]'mmeGen.yAdjArray[j] + mmeGen.MPMArray[i]*mmeGen.α[i,j]\n",
    "        end\n",
    "        rhs = Ri*rhs\n",
    "        x = @view mmeGen.α[i,:]\n",
    "        old = copy(x)\n",
    "        sampleLoc!(lhs,rhs,x,nModels)\n",
    "        for j=1:nModels\n",
    "            mmeGen.yAdjArray[j][:] += mmeGen.MArray[i]*(old[j] - x[j])\n",
    "        end\n",
    "    end\n",
    "    mme.yAdj[:] += mme.X*mme.mmeSpl # unadjust for effects in sparse MME\n",
    "    if iter > 0\n",
    "        mmeGen.αMean += (mmeGen.α - mmeGen.αMean)/iter\n",
    "    end\n",
    "    nothing\n",
    "end"
   ]
  },
  {
   "cell_type": "code",
   "execution_count": 85,
   "metadata": {},
   "outputs": [
    {
     "data": {
      "text/plain": [
       "runMCMC! (generic function with 1 method)"
      ]
     },
     "execution_count": 85,
     "metadata": {},
     "output_type": "execute_result"
    }
   ],
   "source": [
    "using ProgressMeter\n",
    "function runMCMC!(mme,nIter,burnIn)\n",
    "    @showprogress \"MCMC sampling\" for iter = 1:nIter\n",
    "        sampleLoc!(mme,iter-burnIn)\n",
    "        if mme.genotypes !=false sampleGenEffects!(mme,iter-burnIn) end\n",
    "        #sampleVar!(mme,iter-burnIn)\n",
    "        #sampleVarRes!(mme,iter-burnIn)\n",
    "        updateLhsRhs!(mme)\n",
    "    end\n",
    "    for randomEffect in mme.randomEffectsVec\n",
    "        if randomEffect.outStream != nothing close(randomEffect.outStream) end\n",
    "    end\n",
    "    if mme.genotypes !=false && mme.genotypes.outStream != nothing close(mme.genotypes.outStream) end\n",
    "end"
   ]
  },
  {
   "cell_type": "code",
   "execution_count": 81,
   "metadata": {},
   "outputs": [],
   "source": [
    "varGen = 5.0\n",
    "varRes = 10.0\n",
    "mme = initMME(\"y1 = intercept\",varRes);\n",
    "#setRandom!(mme,\"Ind\",varGen,pedigree,estimate=false);\n",
    "#setRandom!(mme,\"Ind\",varGen,estimate=false);"
   ]
  },
  {
   "cell_type": "code",
   "execution_count": 82,
   "metadata": {},
   "outputs": [],
   "source": [
    "idGeno = string.(1:5);\n",
    "varSNPEffect = varGen/size(M,2)\n",
    "addGenotypes!(mme,data,\"Ind\",M,idGeno,varSNPEffect,estimate=false,outSamples=false)"
   ]
  },
  {
   "cell_type": "code",
   "execution_count": 83,
   "metadata": {},
   "outputs": [],
   "source": [
    "lhs,rhs,names = getLhsRhs!(mme,data);"
   ]
  },
  {
   "cell_type": "code",
   "execution_count": 86,
   "metadata": {},
   "outputs": [
    {
     "name": "stderr",
     "output_type": "stream",
     "text": [
      "\u001b[32mMCMC sampling100%|██████████████████████████████████████| Time: 0:00:03\u001b[39m\n"
     ]
    }
   ],
   "source": [
    "nIter  = 100_000\n",
    "burnIn = 1_0000\n",
    "runMCMC!(mme,nIter,burnIn)"
   ]
  },
  {
   "cell_type": "code",
   "execution_count": 87,
   "metadata": {},
   "outputs": [],
   "source": [
    "for i=1:size(M,2)\n",
    "    colNum  = 5+i\n",
    "    colName = Symbol(\"m$i\")\n",
    "    insertcols!(data,colNum,colName => mme.genotypes.M[:,i])\n",
    "end"
   ]
  },
  {
   "cell_type": "code",
   "execution_count": 88,
   "metadata": {},
   "outputs": [
    {
     "data": {
      "text/html": [
       "<table class=\"data-frame\"><thead><tr><th></th><th>Ind</th><th>Mat</th><th>y1</th><th>y2</th><th>x</th><th>m1</th><th>m2</th><th>m3</th><th>m4</th><th>m5</th></tr><tr><th></th><th>Int64</th><th>Int64</th><th>Float64</th><th>Float64</th><th>Float64</th><th>Float64</th><th>Float64</th><th>Float64</th><th>Float64</th><th>Float64</th></tr></thead><tbody><p>3 rows × 15 columns (omitted printing of 5 columns)</p><tr><th>1</th><td>3</td><td>2</td><td>8.9</td><td>9.2</td><td>11.9</td><td>0.2</td><td>0.4</td><td>0.8</td><td>-0.8</td><td>0.2</td></tr><tr><th>2</th><td>4</td><td>2</td><td>9.7</td><td>5.7</td><td>10.8</td><td>0.2</td><td>0.4</td><td>-1.2</td><td>1.2</td><td>1.2</td></tr><tr><th>3</th><td>5</td><td>4</td><td>8.8</td><td>8.5</td><td>11.7</td><td>0.2</td><td>0.4</td><td>-0.2</td><td>-0.8</td><td>-0.8</td></tr></tbody></table>"
      ],
      "text/latex": [
       "\\begin{tabular}{r|ccccccccccc}\n",
       "\t& Ind & Mat & y1 & y2 & x & m1 & m2 & m3 & m4 & m5 & \\\\\n",
       "\t\\hline\n",
       "\t& Int64 & Int64 & Float64 & Float64 & Float64 & Float64 & Float64 & Float64 & Float64 & Float64 & \\\\\n",
       "\t\\hline\n",
       "\t1 & 3 & 2 & 8.9 & 9.2 & 11.9 & 0.2 & 0.4 & 0.8 & -0.8 & 0.2 & $\\dots$ \\\\\n",
       "\t2 & 4 & 2 & 9.7 & 5.7 & 10.8 & 0.2 & 0.4 & -1.2 & 1.2 & 1.2 & $\\dots$ \\\\\n",
       "\t3 & 5 & 4 & 8.8 & 8.5 & 11.7 & 0.2 & 0.4 & -0.2 & -0.8 & -0.8 & $\\dots$ \\\\\n",
       "\\end{tabular}\n"
      ],
      "text/plain": [
       "3×15 DataFrame. Omitted printing of 8 columns\n",
       "│ Row │ Ind   │ Mat   │ y1      │ y2      │ x       │ m1      │ m2      │\n",
       "│     │ \u001b[90mInt64\u001b[39m │ \u001b[90mInt64\u001b[39m │ \u001b[90mFloat64\u001b[39m │ \u001b[90mFloat64\u001b[39m │ \u001b[90mFloat64\u001b[39m │ \u001b[90mFloat64\u001b[39m │ \u001b[90mFloat64\u001b[39m │\n",
       "├─────┼───────┼───────┼─────────┼─────────┼─────────┼─────────┼─────────┤\n",
       "│ 1   │ 3     │ 2     │ 8.9     │ 9.2     │ 11.9    │ 0.2     │ 0.4     │\n",
       "│ 2   │ 4     │ 2     │ 9.7     │ 5.7     │ 10.8    │ 0.2     │ 0.4     │\n",
       "│ 3   │ 5     │ 4     │ 8.8     │ 8.5     │ 11.7    │ 0.2     │ 0.4     │"
      ]
     },
     "execution_count": 88,
     "metadata": {},
     "output_type": "execute_result"
    }
   ],
   "source": [
    "data"
   ]
  },
  {
   "cell_type": "code",
   "execution_count": 89,
   "metadata": {},
   "outputs": [],
   "source": [
    "modelEqn = \"y1 = intercept\"\n",
    "for i=1:size(M,2)\n",
    "    modelEqn = modelEqn *  \" + m$i\"\n",
    "end"
   ]
  },
  {
   "cell_type": "code",
   "execution_count": 90,
   "metadata": {},
   "outputs": [
    {
     "data": {
      "text/plain": [
       "\"y1 = intercept + m1 + m2 + m3 + m4 + m5 + m6 + m7 + m8 + m9 + m10\""
      ]
     },
     "execution_count": 90,
     "metadata": {},
     "output_type": "execute_result"
    }
   ],
   "source": [
    "modelEqn"
   ]
  },
  {
   "cell_type": "code",
   "execution_count": 91,
   "metadata": {},
   "outputs": [],
   "source": [
    "mme1 = initMME(modelEqn,varRes);\n",
    "#setRandom!(mme1,\"Ind\",varGen,pedigree,estimate=false);\n",
    "#setRandom!(mme1,\"Ind\",varGen,estimate=false);"
   ]
  },
  {
   "cell_type": "code",
   "execution_count": 92,
   "metadata": {},
   "outputs": [
    {
     "data": {
      "text/plain": [
       "0.5"
      ]
     },
     "execution_count": 92,
     "metadata": {},
     "output_type": "execute_result"
    }
   ],
   "source": [
    "varSNPEffect"
   ]
  },
  {
   "cell_type": "code",
   "execution_count": 93,
   "metadata": {},
   "outputs": [],
   "source": [
    "mme1.covVec = []\n",
    "for i=1:size(M,2)\n",
    "    randomTrm = \"m$i\"\n",
    "    push!(mme1.covVec,randomTrm)\n",
    "    setRandom!(mme1,randomTrm,varSNPEffect)\n",
    "end"
   ]
  },
  {
   "cell_type": "code",
   "execution_count": 95,
   "metadata": {},
   "outputs": [
    {
     "name": "stderr",
     "output_type": "stream",
     "text": [
      "\u001b[32mMCMC sampling100%|██████████████████████████████████████| Time: 0:00:04\u001b[39m\n"
     ]
    }
   ],
   "source": [
    "nIter  = 100_000\n",
    "burnIn = 1_000\n",
    "lhs,rhs,names = getLhsRhs!(mme1,data)\n",
    "runMCMC!(mme1,nIter,burnIn)"
   ]
  },
  {
   "cell_type": "code",
   "execution_count": 96,
   "metadata": {},
   "outputs": [
    {
     "data": {
      "text/plain": [
       "11-element Array{String,1}:\n",
       " \"1:intercept\"\n",
       " \"1:m1: m1\"   \n",
       " \"1:m2: m2\"   \n",
       " \"1:m3: m3\"   \n",
       " \"1:m4: m4\"   \n",
       " \"1:m5: m5\"   \n",
       " \"1:m6: m6\"   \n",
       " \"1:m7: m7\"   \n",
       " \"1:m8: m8\"   \n",
       " \"1:m9: m9\"   \n",
       " \"1:m10: m10\" "
      ]
     },
     "execution_count": 96,
     "metadata": {},
     "output_type": "execute_result"
    }
   ],
   "source": [
    "names"
   ]
  },
  {
   "cell_type": "code",
   "execution_count": 97,
   "metadata": {},
   "outputs": [
    {
     "data": {
      "text/plain": [
       "1×3 Array{Any,2}:\n",
       " \"1:intercept\"  9.14208  -0.983296"
      ]
     },
     "execution_count": 97,
     "metadata": {},
     "output_type": "execute_result"
    }
   ],
   "source": [
    "[names[1] mme1.meanEffects[1] mme.meanEffects]"
   ]
  },
  {
   "cell_type": "code",
   "execution_count": 98,
   "metadata": {},
   "outputs": [
    {
     "data": {
      "text/plain": [
       "10×2 Array{Float64,2}:\n",
       " -0.000470887   0.000184518\n",
       "  0.003125     -3.42431e-5 \n",
       " -0.0273941    -0.0292151  \n",
       "  0.0440201     0.0404481  \n",
       "  0.0305017     0.0327615  \n",
       " -0.018772     -0.0234362  \n",
       "  0.0230383     0.0223828  \n",
       " -0.0123406    -0.0182079  \n",
       " -0.0224874    -0.0184086  \n",
       "  0.00045081   -0.00154618 "
      ]
     },
     "execution_count": 98,
     "metadata": {},
     "output_type": "execute_result"
    }
   ],
   "source": [
    "[mme1.meanEffects[2:11] mme.genotypes.αMean]"
   ]
  }
 ],
 "metadata": {
  "kernelspec": {
   "display_name": "Julia 1.1.0",
   "language": "julia",
   "name": "julia-1.1"
  },
  "language_info": {
   "file_extension": ".jl",
   "mimetype": "application/julia",
   "name": "julia",
   "version": "1.1.0"
  }
 },
 "nbformat": 4,
 "nbformat_minor": 2
}
