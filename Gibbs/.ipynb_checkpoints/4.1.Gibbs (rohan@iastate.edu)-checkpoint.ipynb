{
 "cells": [
  {
   "cell_type": "code",
   "execution_count": 27,
   "metadata": {},
   "outputs": [
    {
     "name": "stdout",
     "output_type": "stream",
     "text": [
      "\u001b[32m\u001b[1m Resolving\u001b[22m\u001b[39m package versions...\n",
      "\u001b[32m\u001b[1m  Updating\u001b[22m\u001b[39m `/opt/julia/environments/v1.1/Project.toml`\n",
      " \u001b[90m [92933f4c]\u001b[39m\u001b[92m + ProgressMeter v1.1.0\u001b[39m\n",
      "\u001b[32m\u001b[1m  Updating\u001b[22m\u001b[39m `/opt/julia/environments/v1.1/Manifest.toml`\n",
      "\u001b[90m [no changes]\u001b[39m\n"
     ]
    }
   ],
   "source": [
    "using Pkg\n",
    "#Pkg.add(\"NBInclude\")\n",
    "Pkg.add(\"ProgressMeter\")"
   ]
  },
  {
   "cell_type": "markdown",
   "metadata": {},
   "source": [
    "Latex Macros:\n",
    "$$\n",
    "\\newcommand{\\E}{\\text{E}}\n",
    "\\newcommand{\\mbf}{\\mathbf}\n",
    "\\newcommand{\\bs}{\\boldsymbol}\n",
    "\\newcommand{\\Cov}{\\text{Cov}}\n",
    "\\newcommand{\\Var}{\\text{Var}}\n",
    "\\newcommand{\\Cov}{\\text{Cov}}\n",
    "\\newcommand{\\A}[1]{\\mathbf{A}_{#1}}\n",
    "\\newcommand{\\Ai}[1]{\\mathbf{A}^{#1}}\n",
    "$$"
   ]
  },
  {
   "cell_type": "code",
   "execution_count": 1,
   "metadata": {},
   "outputs": [
    {
     "data": {
      "application/javascript": [
       "    MathJax.Hub.Config({\n",
       "      TeX: { equationNumbers: { autoNumber: \"AMS\" } }\n",
       "    });\n",
       "    MathJax.Hub.Queue( \n",
       "        [\"resetEquationNumbers\",MathJax.InputJax.TeX], \n",
       "        [\"PreProcess\",MathJax.Hub], \n",
       "        [\"Reprocess\",MathJax.Hub] \n",
       "    );\n"
      ]
     },
     "metadata": {},
     "output_type": "display_data"
    }
   ],
   "source": [
    "macro javascript_str(s) display(\"text/javascript\", s); end\n",
    "javascript\"\"\"\n",
    "    MathJax.Hub.Config({\n",
    "      TeX: { equationNumbers: { autoNumber: \"AMS\" } }\n",
    "    });\n",
    "    MathJax.Hub.Queue( \n",
    "        [\"resetEquationNumbers\",MathJax.InputJax.TeX], \n",
    "        [\"PreProcess\",MathJax.Hub], \n",
    "        [\"Reprocess\",MathJax.Hub] \n",
    "    );\n",
    "\"\"\""
   ]
  },
  {
   "cell_type": "markdown",
   "metadata": {},
   "source": [
    "# Gibbs Sampling of Fixed and Random Effects"
   ]
  },
  {
   "cell_type": "markdown",
   "metadata": {},
   "source": [
    "Consider the mixed linear model\n",
    "\n",
    "\\begin{equation}\n",
    "\\mathbf{y} = \\mathbf{X}\\boldsymbol{\\beta} + \\mathbf{Zu} + \\mathbf{e}, \n",
    "\\end{equation}"
   ]
  },
  {
   "cell_type": "markdown",
   "metadata": {},
   "source": [
    "where $\\boldsymbol{\\beta}$ is a vector of fixed effects, $\\mathbf{X}$ is an observed matrix that relates $\\boldsymbol{\\beta}$ to $\\mathbf{y}$, $\\mathbf{u}$ is a vector of multivariate normal random effects with null means and covariance matrix $\\mathbf{G}\\sigma^2_u$, and $\\mathbf{e}$ is a vector of multivariate normal residuals with null means and covariance matrix $\\mathbf{R}\\sigma^2_e$. The fixed effects are usually assigned a flat prior distribution, and the matrices $\\mathbf{G}$ and $\\mathbf{R}$ are assumed to be known. The variance components $\\sigma^2_u$ and $\\sigma^2_e$ will be assigned scaled inverted chi-square prior distributions with scale parameter $S_{u}^{2}$ and degrees of freedom $\\nu_{u}$ for $\\sigma^2_u$ and parameters $S_{e}^{2}$ and $\\nu_{e}$ for $\\sigma^2_e$."
   ]
  },
  {
   "cell_type": "markdown",
   "metadata": {},
   "source": [
    "If we denote the location parameters ($\\bs{\\beta}, \\mbf{u}$) of the model by $\\bs{\\theta}$, as we have seen before, the posteior distribution of $\\bs{\\theta}$ is multivariate normal with mean given by the solution to"
   ]
  },
  {
   "cell_type": "markdown",
   "metadata": {},
   "source": [
    "$$\n",
    "\\mbf{C}\\hat{\\bs{\\theta}} = \\mbf{r}\n",
    "$$\n",
    "\n",
    "and the variance is $\\mbf{C}^{-1}\\sigma^2_e$,\n",
    "where $\\mbf{C}$ and $\\mbf{r}$ are the coefficient matrix and right-hand-side of the MME. So, the quadratic in the exponent of this normal distribution is:\n",
    "\n"
   ]
  },
  {
   "cell_type": "markdown",
   "metadata": {},
   "source": [
    "\\begin{equation}\n",
    "Q = \\frac{-1}{2\\sigma^2_e}(\\bs{\\theta} - \\hat{\\bs{\\theta}})'\\mathbf{C}(\\bs{\\theta} - \\hat{\\bs{\\theta}}).\n",
    "\\label{eq:Q1}\n",
    "\\end{equation}"
   ]
  },
  {
   "cell_type": "markdown",
   "metadata": {},
   "source": [
    "In order to use the single-site Gibbs sampler to construct a Markov chain for $\\bs{\\theta}$, we need to derive the full-conditional posterior distribution for $(\\theta_i|\\text{ELSE})$, where $\\text{ELSE}$ stands for all other variables in the model other than $\\theta_i$. To simplify this derivation, $\\bs{\\theta}$ is partitioned as:\n",
    "$$\n",
    "\\bs{\\theta} = [\\bs{\\theta}_1, \\bs{\\theta}_2],\n",
    "$$\n",
    "where $\\bs{\\theta}_1 = \\theta_i$ and $\\bs{\\theta}_2$ contains the remaining elements of $\\bs{\\theta}$. Now, the quadratic (\\ref{eq:Q1}) can be written as:"
   ]
  },
  {
   "cell_type": "markdown",
   "metadata": {},
   "source": [
    "\\begin{equation}\n",
    "Q = \\frac{-1}{2\\sigma^2_e}\n",
    "\\begin{bmatrix}\n",
    "(\\bs{\\theta}_1 - \\hat{\\bs{\\theta}}_1) & (\\bs{\\theta}_2 - \\hat{\\bs{\\theta}}_2)\n",
    "\\end{bmatrix}\n",
    "\\begin{bmatrix}\n",
    "\\mathbf{C}_{11} & \\mathbf{C}_{12} \\\\\n",
    "\\mathbf{C}_{21} & \\mathbf{C}_{22}\n",
    "\\end{bmatrix}\n",
    "\\begin{bmatrix}\n",
    "(\\bs{\\theta}_1 - \\hat{\\bs{\\theta}}_1) \\\\ \n",
    "(\\bs{\\theta}_2 - \\hat{\\bs{\\theta}}_2)\n",
    "\\end{bmatrix},\n",
    "\\label{eq:Q2}\n",
    "\\end{equation}"
   ]
  },
  {
   "cell_type": "markdown",
   "metadata": {},
   "source": [
    "where the coefficient matrix $\\mbf{C}$ has also been partitioned to correspond to the partitioning of $\\bs{\\theta}$."
   ]
  },
  {
   "cell_type": "markdown",
   "metadata": {},
   "source": [
    "To derive the distribution of $(\\bs{\\theta}_1|\\bs{\\theta}_2)$, we need to only consider the terms in (\\ref{eq:Q2}) that involve $\\bs{\\theta}_1$. These terms are (after dropping $\\frac{-1}{2\\sigma^2_e}$):\n"
   ]
  },
  {
   "cell_type": "markdown",
   "metadata": {},
   "source": [
    "\\begin{align}\n",
    "Q_1 &=  \\bs{\\theta}_1'\\mbf{C}_{11}\\bs{\\theta}_1 - 2\\bs{\\theta}_1'\\mbf{C}_{11}\\hat{\\bs{\\theta}}_1\n",
    "    + 2\\bs{\\theta}_1'\\mbf{C}_{12}\\bs{\\theta}_2 - 2\\bs{\\theta}_1'\\mbf{C}_{12}\\hat{\\bs{\\theta}}_2 \\label{eq:Q_11} \\\\ \n",
    "    &= (\\bs{\\theta}_1 - \\tilde{\\bs{\\theta}}_1)'\\mbf{C}_{11}(\\bs{\\theta}_1 - \\tilde{\\bs{\\theta}}_1) \n",
    "       - \\tilde{\\bs{\\theta}}_1'\\mbf{C}_{11}\\tilde{\\bs{\\theta}}_1,\n",
    "       \\label{eq:Q_12}\n",
    "\\end{align}"
   ]
  },
  {
   "cell_type": "markdown",
   "metadata": {},
   "source": [
    "where for (\\ref{eq:Q_11}) to equal (\\ref{eq:Q_12}), $\\tilde{\\bs{\\theta}}_1$ must satisfy the equality: \n",
    "$$\n",
    "\\bs{\\theta}_1'\\mbf{C}_{11}\\tilde{\\bs{\\theta}}_1 = \\bs{\\theta}_1'\\mbf{C}_{11}\\hat{\\bs{\\theta}}_1 \n",
    "                                                       + \\bs{\\theta}_1'\\mbf{C}_{12}\\hat{\\bs{\\theta}}_2 \n",
    "                                                       - \\bs{\\theta}_1'\\mbf{C}_{12}\\bs{\\theta}_2.\n",
    "$$\n",
    "This equlity must hold for all $\\bs{\\theta}_1$, and so\n",
    "\\begin{align}\n",
    "\\mbf{C}_{11}\\tilde{\\bs{\\theta}}_1 &= \\mbf{C}_{11}\\hat{\\bs{\\theta}}_1 \n",
    "                                  + \\mbf{C}_{12}\\hat{\\bs{\\theta}}_2\n",
    "                                  - \\mbf{C}_{12}\\bs{\\theta}_2 \\\\\n",
    "\\mbf{C}_{11}\\tilde{\\bs{\\theta}}_1 &= \\mbf{r}_1 - \\mbf{C}_{12}\\bs{\\theta}_2, \\label{eq:singleSiteGibbs}                                                                   \n",
    "\\end{align}\n",
    "because the right-hand-side of the MME corresponding to $\\hat{\\bs{\\theta}}_1$ is equal to "
   ]
  },
  {
   "cell_type": "markdown",
   "metadata": {},
   "source": [
    "$$\n",
    "\\mbf{C}_{11}\\hat{\\bs{\\theta}}_1 + \\mbf{C}_{12}\\hat{\\bs{\\theta}}_2 = \\mbf{r}_1.\n",
    "$$"
   ]
  },
  {
   "cell_type": "markdown",
   "metadata": {},
   "source": [
    "Thus, $(\\bs{\\theta}_1|\\bs{\\theta}_2) \\sim \\text{N}(\\tilde{\\bs{\\theta}},\\mbf{C}_{11}^{-1}\\sigma^2_e)$. An alternative derivation is given in Sorensen and Gianola (2002)."
   ]
  },
  {
   "cell_type": "code",
   "execution_count": 3,
   "metadata": {},
   "outputs": [
    {
     "data": {
      "text/plain": [
       "Gibbs! (generic function with 1 method)"
      ]
     },
     "execution_count": 3,
     "metadata": {},
     "output_type": "execute_result"
    }
   ],
   "source": [
    "function Gibbs!(A,x,b,varRes::Float64,nIter::Int64;outFreq=100)\n",
    "    n = size(x,1)\n",
    "    xMean = zeros(n)\n",
    "    for iter = 1:nIter\n",
    "        if iter%outFreq==0\n",
    "            println(\"at sample: \",iter)\n",
    "        end\n",
    "        for i=1:n\n",
    "            cVarInv = 1.0/A[i,i]\n",
    "            cMean   = cVarInv*(b[i] - A[:,i]'x) + x[i]\n",
    "            x[i]    = randn()*sqrt(cVarInv*varRes) + cMean\n",
    "        end\n",
    "        xMean += (x - xMean)/iter\n",
    "    end\n",
    "    return xMean\n",
    "end"
   ]
  },
  {
   "cell_type": "code",
   "execution_count": 54,
   "metadata": {},
   "outputs": [
    {
     "data": {
      "text/plain": [
       "updateLhs! (generic function with 1 method)"
      ]
     },
     "execution_count": 54,
     "metadata": {},
     "output_type": "execute_result"
    }
   ],
   "source": [
    "using NBInclude\n",
    "@nbinclude(\"../MME/3.7.2.BuildMME.ipynb\"; regex=r\"#\\s*EXECUTE\")"
   ]
  },
  {
   "cell_type": "code",
   "execution_count": 7,
   "metadata": {},
   "outputs": [
    {
     "name": "stdout",
     "output_type": "stream",
     "text": [
      "\u001b[32mThe delimiter in simData.ped is ','.\u001b[39m\n"
     ]
    },
    {
     "name": "stderr",
     "output_type": "stream",
     "text": [
      "\u001b[32mcoding pedigree... 100%|████████████████████████████████| Time: 0:00:00\u001b[39m\n",
      "\u001b[32mcalculating inbreeding... 100%|█████████████████████████| Time: 0:00:00\u001b[39m\n"
     ]
    },
    {
     "name": "stdout",
     "output_type": "stream",
     "text": [
      "Finished!\n"
     ]
    }
   ],
   "source": [
    "pedigree = get_pedigree(\"simData.ped\",separator=\",\",header=false);"
   ]
  },
  {
   "cell_type": "code",
   "execution_count": 50,
   "metadata": {},
   "outputs": [],
   "source": [
    "data = CSV.read(\"data.phen\");"
   ]
  },
  {
   "cell_type": "code",
   "execution_count": 9,
   "metadata": {},
   "outputs": [],
   "source": [
    "using Statistics"
   ]
  },
  {
   "cell_type": "code",
   "execution_count": 10,
   "metadata": {},
   "outputs": [
    {
     "data": {
      "text/plain": [
       "27.494558118869872"
      ]
     },
     "execution_count": 10,
     "metadata": {},
     "output_type": "execute_result"
    }
   ],
   "source": [
    "var(data[:,3])"
   ]
  },
  {
   "cell_type": "code",
   "execution_count": 11,
   "metadata": {},
   "outputs": [],
   "source": [
    "varGen = 10.0\n",
    "varRes = 10.0\n",
    "mme = initMME(\"y = intercept + Ind\",varRes);\n",
    "setRandom!(mme,\"Ind\",varGen,pedigree,estimate=true);"
   ]
  },
  {
   "cell_type": "code",
   "execution_count": 12,
   "metadata": {},
   "outputs": [],
   "source": [
    "lhs,rhs,names = getLhsRhs!(mme,data);"
   ]
  },
  {
   "cell_type": "code",
   "execution_count": 13,
   "metadata": {},
   "outputs": [],
   "source": [
    "x = zero(rhs);"
   ]
  },
  {
   "cell_type": "code",
   "execution_count": 14,
   "metadata": {},
   "outputs": [
    {
     "name": "stdout",
     "output_type": "stream",
     "text": [
      "at sample: 10000\n",
      "at sample: 20000\n",
      "at sample: 30000\n",
      "at sample: 40000\n",
      "at sample: 50000\n"
     ]
    }
   ],
   "source": [
    "nIter = 50000\n",
    "solGibbs = Gibbs!(lhs,x,rhs,varRes,nIter;outFreq=10000);"
   ]
  },
  {
   "cell_type": "code",
   "execution_count": 15,
   "metadata": {},
   "outputs": [
    {
     "data": {
      "text/plain": [
       "1249×3 Array{Any,2}:\n",
       " \"1:intercept\"  -1.48076    -1.47888  \n",
       " \"1:Ind: 1\"     -1.90448    -1.87255  \n",
       " \"1:Ind: 38\"     0.263537    0.243685 \n",
       " \"1:Ind: 125\"   -0.399633   -0.320123 \n",
       " \"1:Ind: 519\"    0.542761    0.552815 \n",
       " \"1:Ind: 16\"    -4.58948    -4.62245  \n",
       " \"1:Ind: 92\"     0.354914    0.329252 \n",
       " \"1:Ind: 788\"   -0.0817378  -0.113106 \n",
       " \"1:Ind: 24\"     3.30249     3.33855  \n",
       " \"1:Ind: 128\"    8.43335     8.29513  \n",
       " \"1:Ind: 1164\"   8.42009     8.39919  \n",
       " \"1:Ind: 9\"      2.62804     2.64594  \n",
       " \"1:Ind: 244\"    5.36919     5.38205  \n",
       " ⋮                                    \n",
       " \"1:Ind: 604\"    2.46648     2.45415  \n",
       " \"1:Ind: 1107\"   2.5581      2.59305  \n",
       " \"1:Ind: 998\"    3.28804     3.2561   \n",
       " \"1:Ind: 563\"    0.402485    0.42913  \n",
       " \"1:Ind: 655\"   -0.244807   -0.278626 \n",
       " \"1:Ind: 336\"    6.62992     6.63799  \n",
       " \"1:Ind: 732\"   -1.38965    -1.39108  \n",
       " \"1:Ind: 603\"   -4.32555    -4.25058  \n",
       " \"1:Ind: 414\"    4.34587     4.26951  \n",
       " \"1:Ind: 710\"   -2.46927    -2.54223  \n",
       " \"1:Ind: 1138\"  -0.0409687  -0.0107614\n",
       " \"1:Ind: 306\"    0.689486    0.683421 "
      ]
     },
     "execution_count": 15,
     "metadata": {},
     "output_type": "execute_result"
    }
   ],
   "source": [
    "QRLhs = qr(lhs) \n",
    "sol = QRLhs\\rhs\n",
    "[names solGibbs sol]"
   ]
  },
  {
   "cell_type": "code",
   "execution_count": 16,
   "metadata": {},
   "outputs": [
    {
     "data": {
      "text/plain": [
       "2×2 Array{Float64,2}:\n",
       " 1.0       0.999903\n",
       " 0.999903  1.0     "
      ]
     },
     "execution_count": 16,
     "metadata": {},
     "output_type": "execute_result"
    }
   ],
   "source": [
    "cor(ans[:,2:3])"
   ]
  },
  {
   "cell_type": "code",
   "execution_count": 31,
   "metadata": {},
   "outputs": [
    {
     "data": {
      "text/plain": [
       "sampleLoc! (generic function with 1 method)"
      ]
     },
     "execution_count": 31,
     "metadata": {},
     "output_type": "execute_result"
    }
   ],
   "source": [
    "function sampleLoc!(mme)\n",
    "    A = mme.mmeLhs\n",
    "    b = mme.mmeRhs\n",
    "    x = mme.mmeSpl\n",
    "    n = size(x,1)\n",
    "    for i=1:n\n",
    "        cVarInv = 1.0/A[i,i]\n",
    "        cMean   = cVarInv*(b[i] - A[:,i]'x) + x[i]\n",
    "        x[i]    = randn()*sqrt(cVarInv) + cMean\n",
    "    end\n",
    "end"
   ]
  },
  {
   "cell_type": "code",
   "execution_count": 18,
   "metadata": {},
   "outputs": [
    {
     "data": {
      "text/plain": [
       "sampleVar! (generic function with 2 methods)"
      ]
     },
     "execution_count": 18,
     "metadata": {},
     "output_type": "execute_result"
    }
   ],
   "source": [
    "function sampleVar!(mme,iter=0)\n",
    "    for randomEffect in mme.randomEffectsVec\n",
    "        if randomEffect.estimate == false continue end\n",
    "        modelTerm1 = randomEffect.modelTermVec[1]      \n",
    "        k = modelTerm1.endPos - modelTerm1.startPos\n",
    "        m = size(randomEffect.modelTermVec,1)\n",
    "        \n",
    "        S = zeros(m,m)\n",
    "        for i=1:m\n",
    "            modelTermi = randomEffect.modelTermVec[i]\n",
    "            starti = modelTermi.startPos\n",
    "            endi = modelTermi.endPos\n",
    "            ui = mme.mmeSpl[starti:endi]\n",
    "            for j=i:m\n",
    "                modelTermj = randomEffect.modelTermVec[j]\n",
    "                startj = modelTermj.startPos\n",
    "                endj = modelTermj.endPos\n",
    "                uj = mme.mmeSpl[startj:endj]\n",
    "                S[i,j] = ui'randomEffect.Ai*uj\n",
    "                S[j,i] = S[i,j]\n",
    "            end\n",
    "        end\n",
    "        Vpo = randomEffect.Spr + S\n",
    "        νpo = randomEffect.νpr + k \n",
    "        V = rand(InverseWishart(νpo,Vpo))\n",
    "        randomEffect.Vi = inv(V)\n",
    "        if iter>0\n",
    "            randomEffect.meanV += (V - randomEffect.meanV)/iter\n",
    "        end\n",
    "        if randomEffect.outSamples==true && iter%randomEffect.outFreq==0\n",
    "            for i=1:m,j=i:m\n",
    "                if i==j==1\n",
    "                    @printf(randomEffect.outStream,\"%10.5e\", V[i,j])\n",
    "                else\n",
    "                    @printf(randomEffect.outStream,\" %10.5e\", V[i,j])    \n",
    "                end\n",
    "            end\n",
    "            @printf(randomEffect.outStream,\"\\n\")\n",
    "        end\n",
    "            \n",
    "    end\n",
    "end"
   ]
  },
  {
   "cell_type": "code",
   "execution_count": 19,
   "metadata": {},
   "outputs": [
    {
     "data": {
      "text/plain": [
       "sampleVarResUni! (generic function with 2 methods)"
      ]
     },
     "execution_count": 19,
     "metadata": {},
     "output_type": "execute_result"
    }
   ],
   "source": [
    "function sampleVarResUni!(mme,iter=0)\n",
    "    n = size(mme.y,1)\n",
    "    e = mme.y - mme.X*mme.mmeSpl\n",
    "    νpo = n + mme.νRes\n",
    "    mme.varRes = (e'e + mme.SRes)/rand(Chisq(νpo))\n",
    "    if iter>0\n",
    "        mme.meanVarRes += (mme.varRes - mme.meanVarRes)/iter\n",
    "    end  \n",
    "end"
   ]
  },
  {
   "cell_type": "code",
   "execution_count": 45,
   "metadata": {},
   "outputs": [
    {
     "data": {
      "text/plain": [
       "sampleVarRes! (generic function with 2 methods)"
      ]
     },
     "execution_count": 45,
     "metadata": {},
     "output_type": "execute_result"
    }
   ],
   "source": [
    "function sampleVarRes!(mme,iter=0)\n",
    "    m = size(mme.varRes,1)\n",
    "    n = Int(size(mme.y,1)/m)\n",
    "    S = zeros(m,m)\n",
    "    e = mme.y - mme.X*mme.mmeSpl\n",
    "    for i=1:m\n",
    "        starti = (i - 1)*n + 1\n",
    "        endi = starti + n - 1\n",
    "        ei = e[starti:endi]\n",
    "        for j=i:m\n",
    "            startj = (j - 1)*n + 1\n",
    "            endj = startj + n - 1\n",
    "            ej = e[startj:endj]\n",
    "            S[i,j] = ei'ej\n",
    "            S[j,i] = S[i,j]\n",
    "        end\n",
    "    end\n",
    "    νpo = n + mme.νRes\n",
    "    Spo = S + mme.SRes\n",
    "    mme.varRes = rand(InverseWishart(νpo,Spo))\n",
    "    if iter>0\n",
    "        mme.meanVarRes += (mme.varRes - mme.meanVarRes)/iter\n",
    "    end  \n",
    "end"
   ]
  },
  {
   "cell_type": "code",
   "execution_count": 21,
   "metadata": {},
   "outputs": [],
   "source": [
    "using Distributions"
   ]
  },
  {
   "cell_type": "code",
   "execution_count": 22,
   "metadata": {},
   "outputs": [],
   "source": [
    "using Plots"
   ]
  },
  {
   "cell_type": "code",
   "execution_count": 28,
   "metadata": {},
   "outputs": [
    {
     "data": {
      "text/plain": [
       "runMCMC! (generic function with 1 method)"
      ]
     },
     "execution_count": 28,
     "metadata": {},
     "output_type": "execute_result"
    }
   ],
   "source": [
    "using ProgressMeter\n",
    "function runMCMC!(mme,nIter,burnIn)\n",
    "    @showprogress \"MCMC sampling\" for iter = 1:nIter\n",
    "        sampleLoc!(mme)\n",
    "        sampleVar!(mme,iter-burnIn)\n",
    "        sampleVarRes!(mme,iter-burnIn)\n",
    "        updateLhs!(mme)\n",
    "    end\n",
    "    for randomEffect in mme.randomEffectsVec\n",
    "        if randomEffect.outStream != nothing close(randomEffect.outStream) end\n",
    "    end\n",
    "end"
   ]
  },
  {
   "cell_type": "code",
   "execution_count": 29,
   "metadata": {},
   "outputs": [
    {
     "data": {
      "text/plain": [
       "1000"
      ]
     },
     "execution_count": 29,
     "metadata": {},
     "output_type": "execute_result"
    }
   ],
   "source": [
    "varGen = G0 = [10.0 2.0; 2.0 3.0]\n",
    "varRes = 12.0\n",
    "mme = initMME(\"y = intercept + Ind + Mat\",varRes);\n",
    "setRandom!(mme,\"Ind, Mat\",varGen,pedigree,estimate=true,outSamples=true);\n",
    "lhs,rhs,names = getLhsRhs!(mme,data);\n",
    "nIter  = 10_000\n",
    "burnIn = 1_000"
   ]
  },
  {
   "cell_type": "code",
   "execution_count": 25,
   "metadata": {},
   "outputs": [
    {
     "data": {
      "text/plain": [
       "(2497, 2497)"
      ]
     },
     "execution_count": 25,
     "metadata": {},
     "output_type": "execute_result"
    }
   ],
   "source": [
    "size(mme.mmeLhs)"
   ]
  },
  {
   "cell_type": "code",
   "execution_count": 55,
   "metadata": {},
   "outputs": [
    {
     "name": "stderr",
     "output_type": "stream",
     "text": [
      "\u001b[32mMCMC sampling100%|██████████████████████████████████████| Time: 0:00:23\u001b[39m\n"
     ]
    }
   ],
   "source": [
    "runMCMC!(mme,nIter,burnIn)"
   ]
  },
  {
   "cell_type": "code",
   "execution_count": 56,
   "metadata": {},
   "outputs": [
    {
     "data": {
      "text/plain": [
       "1×1 Array{Float64,2}:\n",
       " 9.096210827729783"
      ]
     },
     "execution_count": 56,
     "metadata": {},
     "output_type": "execute_result"
    }
   ],
   "source": [
    "mme.meanVarRes"
   ]
  },
  {
   "cell_type": "code",
   "execution_count": 58,
   "metadata": {},
   "outputs": [
    {
     "data": {
      "text/html": [
       "<table class=\"data-frame\"><thead><tr><th></th><th>V[1,1]</th><th>V[1,2]</th><th>V[2,2]</th></tr><tr><th></th><th>Float64</th><th>Float64</th><th>Float64</th></tr></thead><tbody><p>100 rows × 3 columns</p><tr><th>1</th><td>16.2574</td><td>2.88989</td><td>2.62111</td></tr><tr><th>2</th><td>15.596</td><td>2.54479</td><td>1.47651</td></tr><tr><th>3</th><td>17.7833</td><td>3.67291</td><td>1.11564</td></tr><tr><th>4</th><td>20.2662</td><td>3.73439</td><td>1.10092</td></tr><tr><th>5</th><td>15.7536</td><td>4.04076</td><td>1.67241</td></tr><tr><th>6</th><td>15.0571</td><td>3.34829</td><td>1.5124</td></tr><tr><th>7</th><td>11.0045</td><td>3.69428</td><td>2.31373</td></tr><tr><th>8</th><td>14.3037</td><td>3.43421</td><td>2.13993</td></tr><tr><th>9</th><td>9.18632</td><td>2.85265</td><td>2.57163</td></tr><tr><th>10</th><td>13.3861</td><td>3.86799</td><td>3.02365</td></tr><tr><th>11</th><td>14.649</td><td>2.23209</td><td>1.53154</td></tr><tr><th>12</th><td>15.6658</td><td>2.60017</td><td>2.65221</td></tr><tr><th>13</th><td>18.106</td><td>1.87237</td><td>2.11231</td></tr><tr><th>14</th><td>16.597</td><td>3.09157</td><td>3.4594</td></tr><tr><th>15</th><td>15.4786</td><td>4.04448</td><td>3.78834</td></tr><tr><th>16</th><td>13.8346</td><td>3.97863</td><td>2.88633</td></tr><tr><th>17</th><td>11.395</td><td>3.71523</td><td>3.07073</td></tr><tr><th>18</th><td>4.76891</td><td>2.85643</td><td>3.84265</td></tr><tr><th>19</th><td>6.6245</td><td>3.49259</td><td>2.72195</td></tr><tr><th>20</th><td>5.66898</td><td>3.44485</td><td>3.1195</td></tr><tr><th>21</th><td>7.05371</td><td>4.06894</td><td>2.82677</td></tr><tr><th>22</th><td>7.4286</td><td>4.1398</td><td>2.97625</td></tr><tr><th>23</th><td>8.53057</td><td>4.46288</td><td>3.32944</td></tr><tr><th>24</th><td>6.6798</td><td>4.33842</td><td>3.7869</td></tr><tr><th>25</th><td>7.70522</td><td>4.02541</td><td>2.83339</td></tr><tr><th>26</th><td>12.0396</td><td>5.52912</td><td>3.16423</td></tr><tr><th>27</th><td>11.1848</td><td>4.3315</td><td>1.99245</td></tr><tr><th>28</th><td>11.3327</td><td>3.59761</td><td>1.4206</td></tr><tr><th>29</th><td>12.0114</td><td>3.56397</td><td>1.39173</td></tr><tr><th>30</th><td>13.3183</td><td>4.50213</td><td>1.97487</td></tr><tr><th>&vellip;</th><td>&vellip;</td><td>&vellip;</td><td>&vellip;</td></tr></tbody></table>"
      ],
      "text/latex": [
       "\\begin{tabular}{r|ccc}\n",
       "\t& V[1,1] & V[1,2] & V[2,2]\\\\\n",
       "\t\\hline\n",
       "\t& Float64 & Float64 & Float64\\\\\n",
       "\t\\hline\n",
       "\t1 & 16.2574 & 2.88989 & 2.62111 \\\\\n",
       "\t2 & 15.596 & 2.54479 & 1.47651 \\\\\n",
       "\t3 & 17.7833 & 3.67291 & 1.11564 \\\\\n",
       "\t4 & 20.2662 & 3.73439 & 1.10092 \\\\\n",
       "\t5 & 15.7536 & 4.04076 & 1.67241 \\\\\n",
       "\t6 & 15.0571 & 3.34829 & 1.5124 \\\\\n",
       "\t7 & 11.0045 & 3.69428 & 2.31373 \\\\\n",
       "\t8 & 14.3037 & 3.43421 & 2.13993 \\\\\n",
       "\t9 & 9.18632 & 2.85265 & 2.57163 \\\\\n",
       "\t10 & 13.3861 & 3.86799 & 3.02365 \\\\\n",
       "\t11 & 14.649 & 2.23209 & 1.53154 \\\\\n",
       "\t12 & 15.6658 & 2.60017 & 2.65221 \\\\\n",
       "\t13 & 18.106 & 1.87237 & 2.11231 \\\\\n",
       "\t14 & 16.597 & 3.09157 & 3.4594 \\\\\n",
       "\t15 & 15.4786 & 4.04448 & 3.78834 \\\\\n",
       "\t16 & 13.8346 & 3.97863 & 2.88633 \\\\\n",
       "\t17 & 11.395 & 3.71523 & 3.07073 \\\\\n",
       "\t18 & 4.76891 & 2.85643 & 3.84265 \\\\\n",
       "\t19 & 6.6245 & 3.49259 & 2.72195 \\\\\n",
       "\t20 & 5.66898 & 3.44485 & 3.1195 \\\\\n",
       "\t21 & 7.05371 & 4.06894 & 2.82677 \\\\\n",
       "\t22 & 7.4286 & 4.1398 & 2.97625 \\\\\n",
       "\t23 & 8.53057 & 4.46288 & 3.32944 \\\\\n",
       "\t24 & 6.6798 & 4.33842 & 3.7869 \\\\\n",
       "\t25 & 7.70522 & 4.02541 & 2.83339 \\\\\n",
       "\t26 & 12.0396 & 5.52912 & 3.16423 \\\\\n",
       "\t27 & 11.1848 & 4.3315 & 1.99245 \\\\\n",
       "\t28 & 11.3327 & 3.59761 & 1.4206 \\\\\n",
       "\t29 & 12.0114 & 3.56397 & 1.39173 \\\\\n",
       "\t30 & 13.3183 & 4.50213 & 1.97487 \\\\\n",
       "\t$\\dots$ & $\\dots$ & $\\dots$ & $\\dots$ \\\\\n",
       "\\end{tabular}\n"
      ],
      "text/plain": [
       "100×3 DataFrame\n",
       "│ Row │ V[1,1]  │ V[1,2]   │ V[2,2]  │\n",
       "│     │ \u001b[90mFloat64\u001b[39m │ \u001b[90mFloat64\u001b[39m  │ \u001b[90mFloat64\u001b[39m │\n",
       "├─────┼─────────┼──────────┼─────────┤\n",
       "│ 1   │ 16.2574 │ 2.88989  │ 2.62111 │\n",
       "│ 2   │ 15.596  │ 2.54479  │ 1.47651 │\n",
       "│ 3   │ 17.7833 │ 3.67291  │ 1.11564 │\n",
       "│ 4   │ 20.2662 │ 3.73439  │ 1.10092 │\n",
       "│ 5   │ 15.7536 │ 4.04076  │ 1.67241 │\n",
       "│ 6   │ 15.0571 │ 3.34829  │ 1.5124  │\n",
       "│ 7   │ 11.0045 │ 3.69428  │ 2.31373 │\n",
       "│ 8   │ 14.3037 │ 3.43421  │ 2.13993 │\n",
       "│ 9   │ 9.18632 │ 2.85265  │ 2.57163 │\n",
       "│ 10  │ 13.3861 │ 3.86799  │ 3.02365 │\n",
       "⋮\n",
       "│ 90  │ 7.95873 │ -1.26737 │ 7.69958 │\n",
       "│ 91  │ 13.7195 │ -1.24413 │ 9.18929 │\n",
       "│ 92  │ 23.2036 │ -2.99476 │ 4.48903 │\n",
       "│ 93  │ 18.7841 │ 2.36992  │ 3.55954 │\n",
       "│ 94  │ 12.0985 │ 1.74994  │ 4.87559 │\n",
       "│ 95  │ 14.3187 │ 2.95339  │ 3.11927 │\n",
       "│ 96  │ 16.9858 │ 2.11494  │ 2.11043 │\n",
       "│ 97  │ 21.9    │ 1.89056  │ 2.50929 │\n",
       "│ 98  │ 12.5773 │ 1.22145  │ 2.59533 │\n",
       "│ 99  │ 11.7791 │ 3.15554  │ 2.47401 │\n",
       "│ 100 │ 13.2948 │ 3.05797  │ 1.55777 │"
      ]
     },
     "execution_count": 58,
     "metadata": {},
     "output_type": "execute_result"
    }
   ],
   "source": [
    "res = CSV.read(\"V(Ind, Mat).samples\")"
   ]
  },
  {
   "cell_type": "code",
   "execution_count": 59,
   "metadata": {},
   "outputs": [
    {
     "data": {
      "text/plain": [
       "1×3 Array{Float64,2}:\n",
       " 12.2738  2.57299  3.87453"
      ]
     },
     "execution_count": 59,
     "metadata": {},
     "output_type": "execute_result"
    }
   ],
   "source": [
    "mean(Matrix(res),dims=1)"
   ]
  },
  {
   "cell_type": "code",
   "execution_count": 60,
   "metadata": {},
   "outputs": [
    {
     "data": {
      "image/svg+xml": [
       "<?xml version=\"1.0\" encoding=\"utf-8\"?>\n",
       "<svg xmlns=\"http://www.w3.org/2000/svg\" xmlns:xlink=\"http://www.w3.org/1999/xlink\" width=\"600\" height=\"400\" viewBox=\"0 0 2400 1600\">\n",
       "<defs>\n",
       "  <clipPath id=\"clip5100\">\n",
       "    <rect x=\"0\" y=\"0\" width=\"2400\" height=\"1600\"/>\n",
       "  </clipPath>\n",
       "</defs>\n",
       "<path clip-path=\"url(#clip5100)\" d=\"\n",
       "M0 1600 L2400 1600 L2400 0 L0 0  Z\n",
       "  \" fill=\"#ffffff\" fill-rule=\"evenodd\" fill-opacity=\"1\"/>\n",
       "<defs>\n",
       "  <clipPath id=\"clip5101\">\n",
       "    <rect x=\"480\" y=\"0\" width=\"1681\" height=\"1600\"/>\n",
       "  </clipPath>\n",
       "</defs>\n",
       "<path clip-path=\"url(#clip5100)\" d=\"\n",
       "M141.865 1487.47 L2352.76 1487.47 L2352.76 47.2441 L141.865 47.2441  Z\n",
       "  \" fill=\"#ffffff\" fill-rule=\"evenodd\" fill-opacity=\"1\"/>\n",
       "<defs>\n",
       "  <clipPath id=\"clip5102\">\n",
       "    <rect x=\"141\" y=\"47\" width=\"2212\" height=\"1441\"/>\n",
       "  </clipPath>\n",
       "</defs>\n",
       "<polyline clip-path=\"url(#clip5102)\" style=\"stroke:#000000; stroke-width:2; stroke-opacity:0.1; fill:none\" points=\"\n",
       "  183.369,1487.47 183.369,47.2441 \n",
       "  \"/>\n",
       "<polyline clip-path=\"url(#clip5102)\" style=\"stroke:#000000; stroke-width:2; stroke-opacity:0.1; fill:none\" points=\"\n",
       "  710.072,1487.47 710.072,47.2441 \n",
       "  \"/>\n",
       "<polyline clip-path=\"url(#clip5102)\" style=\"stroke:#000000; stroke-width:2; stroke-opacity:0.1; fill:none\" points=\"\n",
       "  1236.78,1487.47 1236.78,47.2441 \n",
       "  \"/>\n",
       "<polyline clip-path=\"url(#clip5102)\" style=\"stroke:#000000; stroke-width:2; stroke-opacity:0.1; fill:none\" points=\"\n",
       "  1763.48,1487.47 1763.48,47.2441 \n",
       "  \"/>\n",
       "<polyline clip-path=\"url(#clip5102)\" style=\"stroke:#000000; stroke-width:2; stroke-opacity:0.1; fill:none\" points=\"\n",
       "  2290.18,1487.47 2290.18,47.2441 \n",
       "  \"/>\n",
       "<polyline clip-path=\"url(#clip5102)\" style=\"stroke:#000000; stroke-width:2; stroke-opacity:0.1; fill:none\" points=\"\n",
       "  141.865,1395.32 2352.76,1395.32 \n",
       "  \"/>\n",
       "<polyline clip-path=\"url(#clip5102)\" style=\"stroke:#000000; stroke-width:2; stroke-opacity:0.1; fill:none\" points=\"\n",
       "  141.865,1163.55 2352.76,1163.55 \n",
       "  \"/>\n",
       "<polyline clip-path=\"url(#clip5102)\" style=\"stroke:#000000; stroke-width:2; stroke-opacity:0.1; fill:none\" points=\"\n",
       "  141.865,931.79 2352.76,931.79 \n",
       "  \"/>\n",
       "<polyline clip-path=\"url(#clip5102)\" style=\"stroke:#000000; stroke-width:2; stroke-opacity:0.1; fill:none\" points=\"\n",
       "  141.865,700.027 2352.76,700.027 \n",
       "  \"/>\n",
       "<polyline clip-path=\"url(#clip5102)\" style=\"stroke:#000000; stroke-width:2; stroke-opacity:0.1; fill:none\" points=\"\n",
       "  141.865,468.264 2352.76,468.264 \n",
       "  \"/>\n",
       "<polyline clip-path=\"url(#clip5102)\" style=\"stroke:#000000; stroke-width:2; stroke-opacity:0.1; fill:none\" points=\"\n",
       "  141.865,236.501 2352.76,236.501 \n",
       "  \"/>\n",
       "<polyline clip-path=\"url(#clip5100)\" style=\"stroke:#000000; stroke-width:4; stroke-opacity:1; fill:none\" points=\"\n",
       "  141.865,1487.47 2352.76,1487.47 \n",
       "  \"/>\n",
       "<polyline clip-path=\"url(#clip5100)\" style=\"stroke:#000000; stroke-width:4; stroke-opacity:1; fill:none\" points=\"\n",
       "  141.865,1487.47 141.865,47.2441 \n",
       "  \"/>\n",
       "<polyline clip-path=\"url(#clip5100)\" style=\"stroke:#000000; stroke-width:4; stroke-opacity:1; fill:none\" points=\"\n",
       "  183.369,1487.47 183.369,1465.87 \n",
       "  \"/>\n",
       "<polyline clip-path=\"url(#clip5100)\" style=\"stroke:#000000; stroke-width:4; stroke-opacity:1; fill:none\" points=\"\n",
       "  710.072,1487.47 710.072,1465.87 \n",
       "  \"/>\n",
       "<polyline clip-path=\"url(#clip5100)\" style=\"stroke:#000000; stroke-width:4; stroke-opacity:1; fill:none\" points=\"\n",
       "  1236.78,1487.47 1236.78,1465.87 \n",
       "  \"/>\n",
       "<polyline clip-path=\"url(#clip5100)\" style=\"stroke:#000000; stroke-width:4; stroke-opacity:1; fill:none\" points=\"\n",
       "  1763.48,1487.47 1763.48,1465.87 \n",
       "  \"/>\n",
       "<polyline clip-path=\"url(#clip5100)\" style=\"stroke:#000000; stroke-width:4; stroke-opacity:1; fill:none\" points=\"\n",
       "  2290.18,1487.47 2290.18,1465.87 \n",
       "  \"/>\n",
       "<polyline clip-path=\"url(#clip5100)\" style=\"stroke:#000000; stroke-width:4; stroke-opacity:1; fill:none\" points=\"\n",
       "  141.865,1395.32 175.028,1395.32 \n",
       "  \"/>\n",
       "<polyline clip-path=\"url(#clip5100)\" style=\"stroke:#000000; stroke-width:4; stroke-opacity:1; fill:none\" points=\"\n",
       "  141.865,1163.55 175.028,1163.55 \n",
       "  \"/>\n",
       "<polyline clip-path=\"url(#clip5100)\" style=\"stroke:#000000; stroke-width:4; stroke-opacity:1; fill:none\" points=\"\n",
       "  141.865,931.79 175.028,931.79 \n",
       "  \"/>\n",
       "<polyline clip-path=\"url(#clip5100)\" style=\"stroke:#000000; stroke-width:4; stroke-opacity:1; fill:none\" points=\"\n",
       "  141.865,700.027 175.028,700.027 \n",
       "  \"/>\n",
       "<polyline clip-path=\"url(#clip5100)\" style=\"stroke:#000000; stroke-width:4; stroke-opacity:1; fill:none\" points=\"\n",
       "  141.865,468.264 175.028,468.264 \n",
       "  \"/>\n",
       "<polyline clip-path=\"url(#clip5100)\" style=\"stroke:#000000; stroke-width:4; stroke-opacity:1; fill:none\" points=\"\n",
       "  141.865,236.501 175.028,236.501 \n",
       "  \"/>\n",
       "<g clip-path=\"url(#clip5100)\">\n",
       "<text style=\"fill:#000000; fill-opacity:1; font-family:Arial,Helvetica Neue,Helvetica,sans-serif; font-size:48px; text-anchor:middle;\" transform=\"rotate(0, 183.369, 1541.47)\" x=\"183.369\" y=\"1541.47\">0</text>\n",
       "</g>\n",
       "<g clip-path=\"url(#clip5100)\">\n",
       "<text style=\"fill:#000000; fill-opacity:1; font-family:Arial,Helvetica Neue,Helvetica,sans-serif; font-size:48px; text-anchor:middle;\" transform=\"rotate(0, 710.072, 1541.47)\" x=\"710.072\" y=\"1541.47\">25</text>\n",
       "</g>\n",
       "<g clip-path=\"url(#clip5100)\">\n",
       "<text style=\"fill:#000000; fill-opacity:1; font-family:Arial,Helvetica Neue,Helvetica,sans-serif; font-size:48px; text-anchor:middle;\" transform=\"rotate(0, 1236.78, 1541.47)\" x=\"1236.78\" y=\"1541.47\">50</text>\n",
       "</g>\n",
       "<g clip-path=\"url(#clip5100)\">\n",
       "<text style=\"fill:#000000; fill-opacity:1; font-family:Arial,Helvetica Neue,Helvetica,sans-serif; font-size:48px; text-anchor:middle;\" transform=\"rotate(0, 1763.48, 1541.47)\" x=\"1763.48\" y=\"1541.47\">75</text>\n",
       "</g>\n",
       "<g clip-path=\"url(#clip5100)\">\n",
       "<text style=\"fill:#000000; fill-opacity:1; font-family:Arial,Helvetica Neue,Helvetica,sans-serif; font-size:48px; text-anchor:middle;\" transform=\"rotate(0, 2290.18, 1541.47)\" x=\"2290.18\" y=\"1541.47\">100</text>\n",
       "</g>\n",
       "<g clip-path=\"url(#clip5100)\">\n",
       "<text style=\"fill:#000000; fill-opacity:1; font-family:Arial,Helvetica Neue,Helvetica,sans-serif; font-size:48px; text-anchor:end;\" transform=\"rotate(0, 117.865, 1412.82)\" x=\"117.865\" y=\"1412.82\">-5</text>\n",
       "</g>\n",
       "<g clip-path=\"url(#clip5100)\">\n",
       "<text style=\"fill:#000000; fill-opacity:1; font-family:Arial,Helvetica Neue,Helvetica,sans-serif; font-size:48px; text-anchor:end;\" transform=\"rotate(0, 117.865, 1181.05)\" x=\"117.865\" y=\"1181.05\">0</text>\n",
       "</g>\n",
       "<g clip-path=\"url(#clip5100)\">\n",
       "<text style=\"fill:#000000; fill-opacity:1; font-family:Arial,Helvetica Neue,Helvetica,sans-serif; font-size:48px; text-anchor:end;\" transform=\"rotate(0, 117.865, 949.29)\" x=\"117.865\" y=\"949.29\">5</text>\n",
       "</g>\n",
       "<g clip-path=\"url(#clip5100)\">\n",
       "<text style=\"fill:#000000; fill-opacity:1; font-family:Arial,Helvetica Neue,Helvetica,sans-serif; font-size:48px; text-anchor:end;\" transform=\"rotate(0, 117.865, 717.527)\" x=\"117.865\" y=\"717.527\">10</text>\n",
       "</g>\n",
       "<g clip-path=\"url(#clip5100)\">\n",
       "<text style=\"fill:#000000; fill-opacity:1; font-family:Arial,Helvetica Neue,Helvetica,sans-serif; font-size:48px; text-anchor:end;\" transform=\"rotate(0, 117.865, 485.764)\" x=\"117.865\" y=\"485.764\">15</text>\n",
       "</g>\n",
       "<g clip-path=\"url(#clip5100)\">\n",
       "<text style=\"fill:#000000; fill-opacity:1; font-family:Arial,Helvetica Neue,Helvetica,sans-serif; font-size:48px; text-anchor:end;\" transform=\"rotate(0, 117.865, 254.001)\" x=\"117.865\" y=\"254.001\">20</text>\n",
       "</g>\n",
       "<polyline clip-path=\"url(#clip5102)\" style=\"stroke:#009af9; stroke-width:4; stroke-opacity:1; fill:none\" points=\"\n",
       "  204.437,409.98 225.505,440.637 246.573,339.25 267.641,224.161 288.71,433.332 309.778,465.617 330.846,653.465 351.914,500.539 372.982,737.743 394.05,543.072 \n",
       "  415.118,484.533 436.187,437.402 457.255,324.292 478.323,394.239 499.391,446.079 520.459,522.283 541.527,635.365 562.595,942.501 583.664,856.49 604.732,900.781 \n",
       "  625.8,836.595 646.868,819.218 667.936,768.139 689.004,853.927 710.072,806.396 731.141,605.486 752.209,645.108 773.277,638.253 794.345,606.793 815.413,546.215 \n",
       "  836.481,466.887 857.55,450.543 878.618,519.706 899.686,585.128 920.754,355.219 941.822,704.536 962.89,654.054 983.958,641.697 1005.03,544.435 1026.09,610.218 \n",
       "  1047.16,395.476 1068.23,449.055 1089.3,652.761 1110.37,775.937 1131.44,702.992 1152.5,766.209 1173.57,707.628 1194.64,580.145 1215.71,812.812 1236.78,733.3 \n",
       "  1257.84,656.641 1278.91,727.663 1299.98,707.218 1321.05,676.739 1342.12,823.733 1363.19,716.336 1384.25,747.485 1405.32,682.292 1426.39,678.357 1447.46,431.844 \n",
       "  1468.53,459.155 1489.59,636.287 1510.66,562.628 1531.73,342.555 1552.8,226.331 1573.87,522.839 1594.93,585.781 1616,712.765 1637.07,653.007 1658.14,789.157 \n",
       "  1679.21,883.048 1700.28,810.929 1721.34,504.766 1742.41,486.503 1763.48,291.846 1784.55,597.286 1805.62,788.457 1826.68,662.458 1847.75,590.44 1868.82,485.484 \n",
       "  1889.89,522.297 1910.96,484.821 1932.03,620.583 1953.09,733.553 1974.16,594.023 1995.23,809.722 2016.3,839.504 2037.37,740.929 2058.43,675.256 2079.5,794.645 \n",
       "  2100.57,527.618 2121.64,88.0053 2142.71,292.861 2163.77,602.756 2184.84,499.844 2205.91,376.217 2226.98,148.431 2248.05,580.562 2269.12,617.561 2290.18,547.304 \n",
       "  \n",
       "  \"/>\n",
       "<polyline clip-path=\"url(#clip5102)\" style=\"stroke:#e26f46; stroke-width:4; stroke-opacity:1; fill:none\" points=\"\n",
       "  204.437,1029.6 225.505,1045.6 246.573,993.304 267.641,990.454 288.71,976.253 309.778,1008.35 330.846,992.313 351.914,1004.37 372.982,1031.33 394.05,984.261 \n",
       "  415.118,1060.09 436.187,1043.03 457.255,1076.76 478.323,1020.25 499.391,976.081 520.459,979.133 541.527,991.342 562.595,1031.15 583.664,1001.66 604.732,1003.88 \n",
       "  625.8,974.947 646.868,971.662 667.936,956.687 689.004,962.456 710.072,976.965 731.141,907.264 752.209,962.776 773.277,996.794 794.345,998.353 815.413,954.867 \n",
       "  836.481,925.748 857.55,944.351 878.618,963.007 899.686,974.798 920.754,1066.56 941.822,987.24 962.89,991.01 983.958,948.173 1005.03,961.225 1026.09,989.704 \n",
       "  1047.16,934.358 1068.23,950.397 1089.3,972.448 1110.37,970.387 1131.44,903.424 1152.5,969.187 1173.57,938.171 1194.64,891.812 1215.71,982.601 1236.78,1020.53 \n",
       "  1257.84,955.424 1278.91,966.506 1299.98,942.454 1321.05,948.086 1342.12,975.655 1363.19,982.151 1384.25,945.15 1405.32,922.503 1426.39,964.598 1447.46,990.999 \n",
       "  1468.53,976.692 1489.59,971.969 1510.66,968.635 1531.73,946.386 1552.8,981.198 1573.87,952.495 1594.93,995.536 1616,1004.09 1637.07,965.38 1658.14,945.162 \n",
       "  1679.21,1027.73 1700.28,1044.21 1721.34,1056.47 1742.41,1182.26 1763.48,1363.09 1784.55,1382.54 1805.62,1228.95 1826.68,1200.94 1847.75,1352.93 1868.82,1364.89 \n",
       "  1889.89,1365.02 1910.96,1229 1932.03,1283.31 1953.09,1168.66 1974.16,1244.66 1995.23,1265.16 2016.3,1256.68 2037.37,1446.71 2058.43,1281.28 2079.5,1222.3 \n",
       "  2100.57,1221.22 2121.64,1302.37 2142.71,1053.7 2163.77,1082.44 2184.84,1026.66 2205.91,1065.52 2226.98,1075.92 2248.05,1106.94 2269.12,1017.29 2290.18,1021.81 \n",
       "  \n",
       "  \"/>\n",
       "<polyline clip-path=\"url(#clip5102)\" style=\"stroke:#3da44d; stroke-width:4; stroke-opacity:1; fill:none\" points=\"\n",
       "  204.437,1042.06 225.505,1095.11 246.573,1111.84 267.641,1112.52 288.71,1086.03 309.778,1093.45 330.846,1056.31 351.914,1064.36 372.982,1044.35 394.05,1023.4 \n",
       "  415.118,1092.56 436.187,1040.62 457.255,1065.64 478.323,1003.2 499.391,987.953 520.459,1029.76 541.527,1021.22 562.595,985.436 583.664,1037.38 604.732,1018.96 \n",
       "  625.8,1032.52 646.868,1025.6 667.936,1009.22 689.004,988.02 710.072,1032.22 731.141,1016.88 752.209,1071.2 773.277,1097.7 794.345,1099.04 815.413,1072.01 \n",
       "  836.481,1068.98 857.55,1072.82 878.618,1076.26 899.686,1053.97 920.754,1102.08 941.822,1071.88 962.89,1093.68 983.958,1052.92 1005.03,1083.77 1026.09,1094.05 \n",
       "  1047.16,1070.94 1068.23,1057.76 1089.3,1048.97 1110.37,1023.19 1131.44,963.639 1152.5,1032.67 1173.57,1011.17 1194.64,991.492 1215.71,1009.23 1236.78,1063.61 \n",
       "  1257.84,1022.43 1278.91,1013.03 1299.98,1009.94 1321.05,1025.04 1342.12,978.536 1363.19,982.154 1384.25,995.846 1405.32,983.705 1426.39,1034.62 1447.46,1092.23 \n",
       "  1468.53,1074.15 1489.59,1080.87 1510.66,1070.82 1531.73,1088.54 1552.8,1106.64 1573.87,1051.99 1594.93,1043.77 1616,1044.58 1637.07,1031.77 1658.14,873.328 \n",
       "  1679.21,920.131 1700.28,975.567 1721.34,1012.52 1742.41,960.036 1763.48,717.345 1784.55,618.956 1805.62,615.827 1826.68,783.33 1847.75,753.25 1868.82,700.194 \n",
       "  1889.89,730.437 1910.96,835.368 1932.03,752.065 1953.09,651.922 1974.16,825.522 1995.23,772.986 2016.3,616.485 2037.37,466.141 2058.43,832.791 2079.5,806.657 \n",
       "  2100.57,737.605 2121.64,955.475 2142.71,998.559 2163.77,937.556 2184.84,1018.97 2205.91,1065.73 2226.98,1047.24 2248.05,1043.25 2269.12,1048.88 2290.18,1091.35 \n",
       "  \n",
       "  \"/>\n",
       "<path clip-path=\"url(#clip5100)\" d=\"\n",
       "M1989.93 372.684 L2280.76 372.684 L2280.76 130.764 L1989.93 130.764  Z\n",
       "  \" fill=\"#ffffff\" fill-rule=\"evenodd\" fill-opacity=\"1\"/>\n",
       "<polyline clip-path=\"url(#clip5100)\" style=\"stroke:#000000; stroke-width:4; stroke-opacity:1; fill:none\" points=\"\n",
       "  1989.93,372.684 2280.76,372.684 2280.76,130.764 1989.93,130.764 1989.93,372.684 \n",
       "  \"/>\n",
       "<polyline clip-path=\"url(#clip5100)\" style=\"stroke:#009af9; stroke-width:4; stroke-opacity:1; fill:none\" points=\"\n",
       "  2013.93,191.244 2157.93,191.244 \n",
       "  \"/>\n",
       "<g clip-path=\"url(#clip5100)\">\n",
       "<text style=\"fill:#000000; fill-opacity:1; font-family:Arial,Helvetica Neue,Helvetica,sans-serif; font-size:48px; text-anchor:start;\" transform=\"rotate(0, 2181.93, 208.744)\" x=\"2181.93\" y=\"208.744\">y1</text>\n",
       "</g>\n",
       "<polyline clip-path=\"url(#clip5100)\" style=\"stroke:#e26f46; stroke-width:4; stroke-opacity:1; fill:none\" points=\"\n",
       "  2013.93,251.724 2157.93,251.724 \n",
       "  \"/>\n",
       "<g clip-path=\"url(#clip5100)\">\n",
       "<text style=\"fill:#000000; fill-opacity:1; font-family:Arial,Helvetica Neue,Helvetica,sans-serif; font-size:48px; text-anchor:start;\" transform=\"rotate(0, 2181.93, 269.224)\" x=\"2181.93\" y=\"269.224\">y2</text>\n",
       "</g>\n",
       "<polyline clip-path=\"url(#clip5100)\" style=\"stroke:#3da44d; stroke-width:4; stroke-opacity:1; fill:none\" points=\"\n",
       "  2013.93,312.204 2157.93,312.204 \n",
       "  \"/>\n",
       "<g clip-path=\"url(#clip5100)\">\n",
       "<text style=\"fill:#000000; fill-opacity:1; font-family:Arial,Helvetica Neue,Helvetica,sans-serif; font-size:48px; text-anchor:start;\" transform=\"rotate(0, 2181.93, 329.704)\" x=\"2181.93\" y=\"329.704\">y3</text>\n",
       "</g>\n",
       "</svg>\n"
      ]
     },
     "execution_count": 60,
     "metadata": {},
     "output_type": "execute_result"
    }
   ],
   "source": [
    "plot(Matrix(res))"
   ]
  },
  {
   "cell_type": "code",
   "execution_count": 43,
   "metadata": {},
   "outputs": [
    {
     "data": {
      "text/plain": [
       "runMean (generic function with 1 method)"
      ]
     },
     "execution_count": 43,
     "metadata": {},
     "output_type": "execute_result"
    }
   ],
   "source": [
    "function runMean(x)\n",
    "    meanx = 0\n",
    "    [meanx += (v-meanx)/i for (i,v) in enumerate(x)]\n",
    "end        "
   ]
  },
  {
   "cell_type": "code",
   "execution_count": 44,
   "metadata": {},
   "outputs": [
    {
     "data": {
      "image/svg+xml": [
       "<?xml version=\"1.0\" encoding=\"utf-8\"?>\n",
       "<svg xmlns=\"http://www.w3.org/2000/svg\" xmlns:xlink=\"http://www.w3.org/1999/xlink\" width=\"600\" height=\"400\" viewBox=\"0 0 2400 1600\">\n",
       "<defs>\n",
       "  <clipPath id=\"clip3600\">\n",
       "    <rect x=\"0\" y=\"0\" width=\"2400\" height=\"1600\"/>\n",
       "  </clipPath>\n",
       "</defs>\n",
       "<path clip-path=\"url(#clip3600)\" d=\"\n",
       "M0 1600 L2400 1600 L2400 0 L0 0  Z\n",
       "  \" fill=\"#ffffff\" fill-rule=\"evenodd\" fill-opacity=\"1\"/>\n",
       "<defs>\n",
       "  <clipPath id=\"clip3601\">\n",
       "    <rect x=\"480\" y=\"0\" width=\"1681\" height=\"1600\"/>\n",
       "  </clipPath>\n",
       "</defs>\n",
       "<path clip-path=\"url(#clip3600)\" d=\"\n",
       "M140.517 1487.47 L2352.76 1487.47 L2352.76 47.2441 L140.517 47.2441  Z\n",
       "  \" fill=\"#ffffff\" fill-rule=\"evenodd\" fill-opacity=\"1\"/>\n",
       "<defs>\n",
       "  <clipPath id=\"clip3602\">\n",
       "    <rect x=\"140\" y=\"47\" width=\"2213\" height=\"1441\"/>\n",
       "  </clipPath>\n",
       "</defs>\n",
       "<polyline clip-path=\"url(#clip3602)\" style=\"stroke:#000000; stroke-width:2; stroke-opacity:0.1; fill:none\" points=\"\n",
       "  182.046,1487.47 182.046,47.2441 \n",
       "  \"/>\n",
       "<polyline clip-path=\"url(#clip3602)\" style=\"stroke:#000000; stroke-width:2; stroke-opacity:0.1; fill:none\" points=\"\n",
       "  709.071,1487.47 709.071,47.2441 \n",
       "  \"/>\n",
       "<polyline clip-path=\"url(#clip3602)\" style=\"stroke:#000000; stroke-width:2; stroke-opacity:0.1; fill:none\" points=\"\n",
       "  1236.1,1487.47 1236.1,47.2441 \n",
       "  \"/>\n",
       "<polyline clip-path=\"url(#clip3602)\" style=\"stroke:#000000; stroke-width:2; stroke-opacity:0.1; fill:none\" points=\"\n",
       "  1763.12,1487.47 1763.12,47.2441 \n",
       "  \"/>\n",
       "<polyline clip-path=\"url(#clip3602)\" style=\"stroke:#000000; stroke-width:2; stroke-opacity:0.1; fill:none\" points=\"\n",
       "  2290.15,1487.47 2290.15,47.2441 \n",
       "  \"/>\n",
       "<polyline clip-path=\"url(#clip3602)\" style=\"stroke:#000000; stroke-width:2; stroke-opacity:0.1; fill:none\" points=\"\n",
       "  140.517,1254.58 2352.76,1254.58 \n",
       "  \"/>\n",
       "<polyline clip-path=\"url(#clip3602)\" style=\"stroke:#000000; stroke-width:2; stroke-opacity:0.1; fill:none\" points=\"\n",
       "  140.517,1010.82 2352.76,1010.82 \n",
       "  \"/>\n",
       "<polyline clip-path=\"url(#clip3602)\" style=\"stroke:#000000; stroke-width:2; stroke-opacity:0.1; fill:none\" points=\"\n",
       "  140.517,767.051 2352.76,767.051 \n",
       "  \"/>\n",
       "<polyline clip-path=\"url(#clip3602)\" style=\"stroke:#000000; stroke-width:2; stroke-opacity:0.1; fill:none\" points=\"\n",
       "  140.517,523.285 2352.76,523.285 \n",
       "  \"/>\n",
       "<polyline clip-path=\"url(#clip3602)\" style=\"stroke:#000000; stroke-width:2; stroke-opacity:0.1; fill:none\" points=\"\n",
       "  140.517,279.52 2352.76,279.52 \n",
       "  \"/>\n",
       "<polyline clip-path=\"url(#clip3600)\" style=\"stroke:#000000; stroke-width:4; stroke-opacity:1; fill:none\" points=\"\n",
       "  140.517,1487.47 2352.76,1487.47 \n",
       "  \"/>\n",
       "<polyline clip-path=\"url(#clip3600)\" style=\"stroke:#000000; stroke-width:4; stroke-opacity:1; fill:none\" points=\"\n",
       "  140.517,1487.47 140.517,47.2441 \n",
       "  \"/>\n",
       "<polyline clip-path=\"url(#clip3600)\" style=\"stroke:#000000; stroke-width:4; stroke-opacity:1; fill:none\" points=\"\n",
       "  182.046,1487.47 182.046,1465.87 \n",
       "  \"/>\n",
       "<polyline clip-path=\"url(#clip3600)\" style=\"stroke:#000000; stroke-width:4; stroke-opacity:1; fill:none\" points=\"\n",
       "  709.071,1487.47 709.071,1465.87 \n",
       "  \"/>\n",
       "<polyline clip-path=\"url(#clip3600)\" style=\"stroke:#000000; stroke-width:4; stroke-opacity:1; fill:none\" points=\"\n",
       "  1236.1,1487.47 1236.1,1465.87 \n",
       "  \"/>\n",
       "<polyline clip-path=\"url(#clip3600)\" style=\"stroke:#000000; stroke-width:4; stroke-opacity:1; fill:none\" points=\"\n",
       "  1763.12,1487.47 1763.12,1465.87 \n",
       "  \"/>\n",
       "<polyline clip-path=\"url(#clip3600)\" style=\"stroke:#000000; stroke-width:4; stroke-opacity:1; fill:none\" points=\"\n",
       "  2290.15,1487.47 2290.15,1465.87 \n",
       "  \"/>\n",
       "<polyline clip-path=\"url(#clip3600)\" style=\"stroke:#000000; stroke-width:4; stroke-opacity:1; fill:none\" points=\"\n",
       "  140.517,1254.58 173.7,1254.58 \n",
       "  \"/>\n",
       "<polyline clip-path=\"url(#clip3600)\" style=\"stroke:#000000; stroke-width:4; stroke-opacity:1; fill:none\" points=\"\n",
       "  140.517,1010.82 173.7,1010.82 \n",
       "  \"/>\n",
       "<polyline clip-path=\"url(#clip3600)\" style=\"stroke:#000000; stroke-width:4; stroke-opacity:1; fill:none\" points=\"\n",
       "  140.517,767.051 173.7,767.051 \n",
       "  \"/>\n",
       "<polyline clip-path=\"url(#clip3600)\" style=\"stroke:#000000; stroke-width:4; stroke-opacity:1; fill:none\" points=\"\n",
       "  140.517,523.285 173.7,523.285 \n",
       "  \"/>\n",
       "<polyline clip-path=\"url(#clip3600)\" style=\"stroke:#000000; stroke-width:4; stroke-opacity:1; fill:none\" points=\"\n",
       "  140.517,279.52 173.7,279.52 \n",
       "  \"/>\n",
       "<g clip-path=\"url(#clip3600)\">\n",
       "<text style=\"fill:#000000; fill-opacity:1; font-family:Arial,Helvetica Neue,Helvetica,sans-serif; font-size:48px; text-anchor:middle;\" transform=\"rotate(0, 182.046, 1541.47)\" x=\"182.046\" y=\"1541.47\">0</text>\n",
       "</g>\n",
       "<g clip-path=\"url(#clip3600)\">\n",
       "<text style=\"fill:#000000; fill-opacity:1; font-family:Arial,Helvetica Neue,Helvetica,sans-serif; font-size:48px; text-anchor:middle;\" transform=\"rotate(0, 709.071, 1541.47)\" x=\"709.071\" y=\"1541.47\">25</text>\n",
       "</g>\n",
       "<g clip-path=\"url(#clip3600)\">\n",
       "<text style=\"fill:#000000; fill-opacity:1; font-family:Arial,Helvetica Neue,Helvetica,sans-serif; font-size:48px; text-anchor:middle;\" transform=\"rotate(0, 1236.1, 1541.47)\" x=\"1236.1\" y=\"1541.47\">50</text>\n",
       "</g>\n",
       "<g clip-path=\"url(#clip3600)\">\n",
       "<text style=\"fill:#000000; fill-opacity:1; font-family:Arial,Helvetica Neue,Helvetica,sans-serif; font-size:48px; text-anchor:middle;\" transform=\"rotate(0, 1763.12, 1541.47)\" x=\"1763.12\" y=\"1541.47\">75</text>\n",
       "</g>\n",
       "<g clip-path=\"url(#clip3600)\">\n",
       "<text style=\"fill:#000000; fill-opacity:1; font-family:Arial,Helvetica Neue,Helvetica,sans-serif; font-size:48px; text-anchor:middle;\" transform=\"rotate(0, 2290.15, 1541.47)\" x=\"2290.15\" y=\"1541.47\">100</text>\n",
       "</g>\n",
       "<g clip-path=\"url(#clip3600)\">\n",
       "<text style=\"fill:#000000; fill-opacity:1; font-family:Arial,Helvetica Neue,Helvetica,sans-serif; font-size:48px; text-anchor:end;\" transform=\"rotate(0, 116.517, 1272.08)\" x=\"116.517\" y=\"1272.08\">9</text>\n",
       "</g>\n",
       "<g clip-path=\"url(#clip3600)\">\n",
       "<text style=\"fill:#000000; fill-opacity:1; font-family:Arial,Helvetica Neue,Helvetica,sans-serif; font-size:48px; text-anchor:end;\" transform=\"rotate(0, 116.517, 1028.32)\" x=\"116.517\" y=\"1028.32\">10</text>\n",
       "</g>\n",
       "<g clip-path=\"url(#clip3600)\">\n",
       "<text style=\"fill:#000000; fill-opacity:1; font-family:Arial,Helvetica Neue,Helvetica,sans-serif; font-size:48px; text-anchor:end;\" transform=\"rotate(0, 116.517, 784.551)\" x=\"116.517\" y=\"784.551\">11</text>\n",
       "</g>\n",
       "<g clip-path=\"url(#clip3600)\">\n",
       "<text style=\"fill:#000000; fill-opacity:1; font-family:Arial,Helvetica Neue,Helvetica,sans-serif; font-size:48px; text-anchor:end;\" transform=\"rotate(0, 116.517, 540.785)\" x=\"116.517\" y=\"540.785\">12</text>\n",
       "</g>\n",
       "<g clip-path=\"url(#clip3600)\">\n",
       "<text style=\"fill:#000000; fill-opacity:1; font-family:Arial,Helvetica Neue,Helvetica,sans-serif; font-size:48px; text-anchor:end;\" transform=\"rotate(0, 116.517, 297.02)\" x=\"116.517\" y=\"297.02\">13</text>\n",
       "</g>\n",
       "<polyline clip-path=\"url(#clip3602)\" style=\"stroke:#009af9; stroke-width:4; stroke-opacity:1; fill:none\" points=\"\n",
       "  203.127,1446.71 224.208,1025.64 245.289,1087.55 266.37,1093.75 287.451,1133.16 308.532,1210.81 329.613,1212.05 350.694,1145.05 371.775,1056.04 392.856,990.578 \n",
       "  413.937,875.1 435.018,798.88 456.099,817.551 477.18,826.48 498.261,806.624 519.342,744.796 540.423,714.563 561.504,698.859 582.585,675.354 603.666,638.207 \n",
       "  624.747,643.526 645.828,647.624 666.909,643.17 687.99,552.563 709.071,455.648 730.152,446.144 751.233,449.057 772.314,434.181 793.395,456.665 814.476,438.714 \n",
       "  835.557,429.415 856.638,389.01 877.719,332.988 898.8,268.311 919.881,263.205 940.962,251.139 962.043,240.477 983.124,224.688 1004.2,239.454 1025.29,239.81 \n",
       "  1046.37,208.066 1067.45,215.278 1088.53,223.266 1109.61,218.529 1130.69,178.25 1151.77,132.321 1172.85,110.049 1193.93,107.024 1215.01,95.9899 1236.1,89.2863 \n",
       "  1257.18,94.7954 1278.26,89.7593 1299.34,88.0053 1320.42,88.7459 1341.5,88.2026 1362.58,101.855 1383.66,119.491 1404.74,128.618 1425.82,143.078 1446.91,158.08 \n",
       "  1467.99,179.949 1489.07,196.284 1510.15,208.924 1531.23,226.772 1552.31,245.754 1573.39,249.578 1594.47,260.876 1615.55,262.023 1636.63,249.407 1657.72,231.939 \n",
       "  1678.8,228.915 1699.88,233.715 1720.96,232.821 1742.04,229.283 1763.12,221.906 1784.2,203.142 1805.28,190.187 1826.36,202.486 1847.44,213.445 1868.53,219.885 \n",
       "  1889.61,224.251 1910.69,231.644 1931.77,234.92 1952.85,229.593 1973.93,227.291 1995.01,228.937 2016.09,224.405 2037.17,198.19 2058.25,179.736 2079.34,172.778 \n",
       "  2100.42,170.243 2121.5,170.292 2142.58,172.739 2163.66,178.023 2184.74,175.069 2205.82,168.468 2226.9,171.884 2247.98,177.521 2269.06,188.601 2290.15,192.705 \n",
       "  \n",
       "  \"/>\n",
       "<path clip-path=\"url(#clip3600)\" d=\"\n",
       "M1989.93 251.724 L2280.76 251.724 L2280.76 130.764 L1989.93 130.764  Z\n",
       "  \" fill=\"#ffffff\" fill-rule=\"evenodd\" fill-opacity=\"1\"/>\n",
       "<polyline clip-path=\"url(#clip3600)\" style=\"stroke:#000000; stroke-width:4; stroke-opacity:1; fill:none\" points=\"\n",
       "  1989.93,251.724 2280.76,251.724 2280.76,130.764 1989.93,130.764 1989.93,251.724 \n",
       "  \"/>\n",
       "<polyline clip-path=\"url(#clip3600)\" style=\"stroke:#009af9; stroke-width:4; stroke-opacity:1; fill:none\" points=\"\n",
       "  2013.93,191.244 2157.93,191.244 \n",
       "  \"/>\n",
       "<g clip-path=\"url(#clip3600)\">\n",
       "<text style=\"fill:#000000; fill-opacity:1; font-family:Arial,Helvetica Neue,Helvetica,sans-serif; font-size:48px; text-anchor:start;\" transform=\"rotate(0, 2181.93, 208.744)\" x=\"2181.93\" y=\"208.744\">y1</text>\n",
       "</g>\n",
       "</svg>\n"
      ]
     },
     "execution_count": 44,
     "metadata": {},
     "output_type": "execute_result"
    }
   ],
   "source": [
    "plot(runMean(res[!,1]))"
   ]
  },
  {
   "cell_type": "code",
   "execution_count": 45,
   "metadata": {},
   "outputs": [
    {
     "data": {
      "image/svg+xml": [
       "<?xml version=\"1.0\" encoding=\"utf-8\"?>\n",
       "<svg xmlns=\"http://www.w3.org/2000/svg\" xmlns:xlink=\"http://www.w3.org/1999/xlink\" width=\"600\" height=\"400\" viewBox=\"0 0 2400 1600\">\n",
       "<defs>\n",
       "  <clipPath id=\"clip4000\">\n",
       "    <rect x=\"0\" y=\"0\" width=\"2400\" height=\"1600\"/>\n",
       "  </clipPath>\n",
       "</defs>\n",
       "<path clip-path=\"url(#clip4000)\" d=\"\n",
       "M0 1600 L2400 1600 L2400 0 L0 0  Z\n",
       "  \" fill=\"#ffffff\" fill-rule=\"evenodd\" fill-opacity=\"1\"/>\n",
       "<defs>\n",
       "  <clipPath id=\"clip4001\">\n",
       "    <rect x=\"480\" y=\"0\" width=\"1681\" height=\"1600\"/>\n",
       "  </clipPath>\n",
       "</defs>\n",
       "<path clip-path=\"url(#clip4000)\" d=\"\n",
       "M180.66 1487.47 L2352.76 1487.47 L2352.76 47.2441 L180.66 47.2441  Z\n",
       "  \" fill=\"#ffffff\" fill-rule=\"evenodd\" fill-opacity=\"1\"/>\n",
       "<defs>\n",
       "  <clipPath id=\"clip4002\">\n",
       "    <rect x=\"180\" y=\"47\" width=\"2173\" height=\"1441\"/>\n",
       "  </clipPath>\n",
       "</defs>\n",
       "<polyline clip-path=\"url(#clip4002)\" style=\"stroke:#000000; stroke-width:2; stroke-opacity:0.1; fill:none\" points=\"\n",
       "  221.436,1487.47 221.436,47.2441 \n",
       "  \"/>\n",
       "<polyline clip-path=\"url(#clip4002)\" style=\"stroke:#000000; stroke-width:2; stroke-opacity:0.1; fill:none\" points=\"\n",
       "  738.898,1487.47 738.898,47.2441 \n",
       "  \"/>\n",
       "<polyline clip-path=\"url(#clip4002)\" style=\"stroke:#000000; stroke-width:2; stroke-opacity:0.1; fill:none\" points=\"\n",
       "  1256.36,1487.47 1256.36,47.2441 \n",
       "  \"/>\n",
       "<polyline clip-path=\"url(#clip4002)\" style=\"stroke:#000000; stroke-width:2; stroke-opacity:0.1; fill:none\" points=\"\n",
       "  1773.82,1487.47 1773.82,47.2441 \n",
       "  \"/>\n",
       "<polyline clip-path=\"url(#clip4002)\" style=\"stroke:#000000; stroke-width:2; stroke-opacity:0.1; fill:none\" points=\"\n",
       "  2291.28,1487.47 2291.28,47.2441 \n",
       "  \"/>\n",
       "<polyline clip-path=\"url(#clip4002)\" style=\"stroke:#000000; stroke-width:2; stroke-opacity:0.1; fill:none\" points=\"\n",
       "  180.66,1313.73 2352.76,1313.73 \n",
       "  \"/>\n",
       "<polyline clip-path=\"url(#clip4002)\" style=\"stroke:#000000; stroke-width:2; stroke-opacity:0.1; fill:none\" points=\"\n",
       "  180.66,980.452 2352.76,980.452 \n",
       "  \"/>\n",
       "<polyline clip-path=\"url(#clip4002)\" style=\"stroke:#000000; stroke-width:2; stroke-opacity:0.1; fill:none\" points=\"\n",
       "  180.66,647.17 2352.76,647.17 \n",
       "  \"/>\n",
       "<polyline clip-path=\"url(#clip4002)\" style=\"stroke:#000000; stroke-width:2; stroke-opacity:0.1; fill:none\" points=\"\n",
       "  180.66,313.888 2352.76,313.888 \n",
       "  \"/>\n",
       "<polyline clip-path=\"url(#clip4000)\" style=\"stroke:#000000; stroke-width:4; stroke-opacity:1; fill:none\" points=\"\n",
       "  180.66,1487.47 2352.76,1487.47 \n",
       "  \"/>\n",
       "<polyline clip-path=\"url(#clip4000)\" style=\"stroke:#000000; stroke-width:4; stroke-opacity:1; fill:none\" points=\"\n",
       "  180.66,1487.47 180.66,47.2441 \n",
       "  \"/>\n",
       "<polyline clip-path=\"url(#clip4000)\" style=\"stroke:#000000; stroke-width:4; stroke-opacity:1; fill:none\" points=\"\n",
       "  221.436,1487.47 221.436,1465.87 \n",
       "  \"/>\n",
       "<polyline clip-path=\"url(#clip4000)\" style=\"stroke:#000000; stroke-width:4; stroke-opacity:1; fill:none\" points=\"\n",
       "  738.898,1487.47 738.898,1465.87 \n",
       "  \"/>\n",
       "<polyline clip-path=\"url(#clip4000)\" style=\"stroke:#000000; stroke-width:4; stroke-opacity:1; fill:none\" points=\"\n",
       "  1256.36,1487.47 1256.36,1465.87 \n",
       "  \"/>\n",
       "<polyline clip-path=\"url(#clip4000)\" style=\"stroke:#000000; stroke-width:4; stroke-opacity:1; fill:none\" points=\"\n",
       "  1773.82,1487.47 1773.82,1465.87 \n",
       "  \"/>\n",
       "<polyline clip-path=\"url(#clip4000)\" style=\"stroke:#000000; stroke-width:4; stroke-opacity:1; fill:none\" points=\"\n",
       "  2291.28,1487.47 2291.28,1465.87 \n",
       "  \"/>\n",
       "<polyline clip-path=\"url(#clip4000)\" style=\"stroke:#000000; stroke-width:4; stroke-opacity:1; fill:none\" points=\"\n",
       "  180.66,1313.73 213.242,1313.73 \n",
       "  \"/>\n",
       "<polyline clip-path=\"url(#clip4000)\" style=\"stroke:#000000; stroke-width:4; stroke-opacity:1; fill:none\" points=\"\n",
       "  180.66,980.452 213.242,980.452 \n",
       "  \"/>\n",
       "<polyline clip-path=\"url(#clip4000)\" style=\"stroke:#000000; stroke-width:4; stroke-opacity:1; fill:none\" points=\"\n",
       "  180.66,647.17 213.242,647.17 \n",
       "  \"/>\n",
       "<polyline clip-path=\"url(#clip4000)\" style=\"stroke:#000000; stroke-width:4; stroke-opacity:1; fill:none\" points=\"\n",
       "  180.66,313.888 213.242,313.888 \n",
       "  \"/>\n",
       "<g clip-path=\"url(#clip4000)\">\n",
       "<text style=\"fill:#000000; fill-opacity:1; font-family:Arial,Helvetica Neue,Helvetica,sans-serif; font-size:48px; text-anchor:middle;\" transform=\"rotate(0, 221.436, 1541.47)\" x=\"221.436\" y=\"1541.47\">0</text>\n",
       "</g>\n",
       "<g clip-path=\"url(#clip4000)\">\n",
       "<text style=\"fill:#000000; fill-opacity:1; font-family:Arial,Helvetica Neue,Helvetica,sans-serif; font-size:48px; text-anchor:middle;\" transform=\"rotate(0, 738.898, 1541.47)\" x=\"738.898\" y=\"1541.47\">25</text>\n",
       "</g>\n",
       "<g clip-path=\"url(#clip4000)\">\n",
       "<text style=\"fill:#000000; fill-opacity:1; font-family:Arial,Helvetica Neue,Helvetica,sans-serif; font-size:48px; text-anchor:middle;\" transform=\"rotate(0, 1256.36, 1541.47)\" x=\"1256.36\" y=\"1541.47\">50</text>\n",
       "</g>\n",
       "<g clip-path=\"url(#clip4000)\">\n",
       "<text style=\"fill:#000000; fill-opacity:1; font-family:Arial,Helvetica Neue,Helvetica,sans-serif; font-size:48px; text-anchor:middle;\" transform=\"rotate(0, 1773.82, 1541.47)\" x=\"1773.82\" y=\"1541.47\">75</text>\n",
       "</g>\n",
       "<g clip-path=\"url(#clip4000)\">\n",
       "<text style=\"fill:#000000; fill-opacity:1; font-family:Arial,Helvetica Neue,Helvetica,sans-serif; font-size:48px; text-anchor:middle;\" transform=\"rotate(0, 2291.28, 1541.47)\" x=\"2291.28\" y=\"1541.47\">100</text>\n",
       "</g>\n",
       "<g clip-path=\"url(#clip4000)\">\n",
       "<text style=\"fill:#000000; fill-opacity:1; font-family:Arial,Helvetica Neue,Helvetica,sans-serif; font-size:48px; text-anchor:end;\" transform=\"rotate(0, 156.66, 1331.23)\" x=\"156.66\" y=\"1331.23\">3.25</text>\n",
       "</g>\n",
       "<g clip-path=\"url(#clip4000)\">\n",
       "<text style=\"fill:#000000; fill-opacity:1; font-family:Arial,Helvetica Neue,Helvetica,sans-serif; font-size:48px; text-anchor:end;\" transform=\"rotate(0, 156.66, 997.952)\" x=\"156.66\" y=\"997.952\">3.50</text>\n",
       "</g>\n",
       "<g clip-path=\"url(#clip4000)\">\n",
       "<text style=\"fill:#000000; fill-opacity:1; font-family:Arial,Helvetica Neue,Helvetica,sans-serif; font-size:48px; text-anchor:end;\" transform=\"rotate(0, 156.66, 664.67)\" x=\"156.66\" y=\"664.67\">3.75</text>\n",
       "</g>\n",
       "<g clip-path=\"url(#clip4000)\">\n",
       "<text style=\"fill:#000000; fill-opacity:1; font-family:Arial,Helvetica Neue,Helvetica,sans-serif; font-size:48px; text-anchor:end;\" transform=\"rotate(0, 156.66, 331.388)\" x=\"156.66\" y=\"331.388\">4.00</text>\n",
       "</g>\n",
       "<polyline clip-path=\"url(#clip4002)\" style=\"stroke:#009af9; stroke-width:4; stroke-opacity:1; fill:none\" points=\"\n",
       "  242.135,417.965 262.833,1446.71 283.532,1437.04 304.23,946.727 324.929,760.136 345.627,590.641 366.325,731.926 387.024,476.763 407.722,557.97 428.421,676.164 \n",
       "  449.119,656.51 469.818,655.553 490.516,644.042 511.215,573.994 531.913,493.894 552.612,405.787 573.31,315.95 594.008,268.752 614.707,227.772 635.405,115.282 \n",
       "  656.104,91.5903 676.802,88.0053 697.501,115.686 718.199,96.6865 738.898,96.7055 759.596,133.105 780.294,154.082 800.993,218.661 821.691,296.41 842.39,360.128 \n",
       "  863.088,407.309 883.787,418.896 904.485,449.832 925.184,458.688 945.882,492.675 966.581,482.84 987.279,472.691 1007.98,432.944 1028.68,431.768 1049.37,440.913 \n",
       "  1070.07,424.413 1090.77,439.502 1111.47,459.418 1132.17,469.901 1152.87,476.46 1173.57,467.508 1194.26,487.652 1214.96,504.836 1235.66,508.339 1256.36,515.587 \n",
       "  1277.06,514.522 1297.76,532.616 1318.45,545.199 1339.15,550.066 1359.85,545.657 1380.55,537.906 1401.25,536.208 1421.95,525.669 1442.64,527.086 1463.34,501.359 \n",
       "  1484.04,504.689 1504.74,482.42 1525.44,452.869 1546.14,435.671 1566.84,422.022 1587.53,410.111 1608.23,420.068 1628.93,449.422 1649.63,463.215 1670.33,459.475 \n",
       "  1691.03,454.608 1711.72,468.408 1732.42,482.151 1753.12,456.756 1773.82,446.439 1794.52,448.028 1815.22,465.662 1835.92,472.501 1856.61,473.318 1877.31,507.952 \n",
       "  1898.01,496.793 1918.71,509.851 1939.41,504.442 1960.11,496.632 1980.8,494.364 2001.5,478.92 2022.2,476.981 2042.9,460.277 2063.6,482.373 2084.3,482.758 \n",
       "  2105,478.923 2125.69,471.515 2146.39,461.444 2167.09,441.453 2187.79,444.705 2208.49,448.558 2229.19,468.241 2249.88,488.603 2270.58,497.504 2291.28,492.766 \n",
       "  \n",
       "  \"/>\n",
       "<path clip-path=\"url(#clip4000)\" d=\"\n",
       "M1989.93 251.724 L2280.76 251.724 L2280.76 130.764 L1989.93 130.764  Z\n",
       "  \" fill=\"#ffffff\" fill-rule=\"evenodd\" fill-opacity=\"1\"/>\n",
       "<polyline clip-path=\"url(#clip4000)\" style=\"stroke:#000000; stroke-width:4; stroke-opacity:1; fill:none\" points=\"\n",
       "  1989.93,251.724 2280.76,251.724 2280.76,130.764 1989.93,130.764 1989.93,251.724 \n",
       "  \"/>\n",
       "<polyline clip-path=\"url(#clip4000)\" style=\"stroke:#009af9; stroke-width:4; stroke-opacity:1; fill:none\" points=\"\n",
       "  2013.93,191.244 2157.93,191.244 \n",
       "  \"/>\n",
       "<g clip-path=\"url(#clip4000)\">\n",
       "<text style=\"fill:#000000; fill-opacity:1; font-family:Arial,Helvetica Neue,Helvetica,sans-serif; font-size:48px; text-anchor:start;\" transform=\"rotate(0, 2181.93, 208.744)\" x=\"2181.93\" y=\"208.744\">y1</text>\n",
       "</g>\n",
       "</svg>\n"
      ]
     },
     "execution_count": 45,
     "metadata": {},
     "output_type": "execute_result"
    }
   ],
   "source": [
    "plot(runMean(res[!,2]))"
   ]
  },
  {
   "cell_type": "code",
   "execution_count": 46,
   "metadata": {},
   "outputs": [
    {
     "data": {
      "image/svg+xml": [
       "<?xml version=\"1.0\" encoding=\"utf-8\"?>\n",
       "<svg xmlns=\"http://www.w3.org/2000/svg\" xmlns:xlink=\"http://www.w3.org/1999/xlink\" width=\"600\" height=\"400\" viewBox=\"0 0 2400 1600\">\n",
       "<defs>\n",
       "  <clipPath id=\"clip4400\">\n",
       "    <rect x=\"0\" y=\"0\" width=\"2400\" height=\"1600\"/>\n",
       "  </clipPath>\n",
       "</defs>\n",
       "<path clip-path=\"url(#clip4400)\" d=\"\n",
       "M0 1600 L2400 1600 L2400 0 L0 0  Z\n",
       "  \" fill=\"#ffffff\" fill-rule=\"evenodd\" fill-opacity=\"1\"/>\n",
       "<defs>\n",
       "  <clipPath id=\"clip4401\">\n",
       "    <rect x=\"480\" y=\"0\" width=\"1681\" height=\"1600\"/>\n",
       "  </clipPath>\n",
       "</defs>\n",
       "<path clip-path=\"url(#clip4400)\" d=\"\n",
       "M153.898 1487.47 L2352.76 1487.47 L2352.76 47.2441 L153.898 47.2441  Z\n",
       "  \" fill=\"#ffffff\" fill-rule=\"evenodd\" fill-opacity=\"1\"/>\n",
       "<defs>\n",
       "  <clipPath id=\"clip4402\">\n",
       "    <rect x=\"153\" y=\"47\" width=\"2200\" height=\"1441\"/>\n",
       "  </clipPath>\n",
       "</defs>\n",
       "<polyline clip-path=\"url(#clip4402)\" style=\"stroke:#000000; stroke-width:2; stroke-opacity:0.1; fill:none\" points=\"\n",
       "  195.176,1487.47 195.176,47.2441 \n",
       "  \"/>\n",
       "<polyline clip-path=\"url(#clip4402)\" style=\"stroke:#000000; stroke-width:2; stroke-opacity:0.1; fill:none\" points=\"\n",
       "  719.013,1487.47 719.013,47.2441 \n",
       "  \"/>\n",
       "<polyline clip-path=\"url(#clip4402)\" style=\"stroke:#000000; stroke-width:2; stroke-opacity:0.1; fill:none\" points=\"\n",
       "  1242.85,1487.47 1242.85,47.2441 \n",
       "  \"/>\n",
       "<polyline clip-path=\"url(#clip4402)\" style=\"stroke:#000000; stroke-width:2; stroke-opacity:0.1; fill:none\" points=\"\n",
       "  1766.69,1487.47 1766.69,47.2441 \n",
       "  \"/>\n",
       "<polyline clip-path=\"url(#clip4402)\" style=\"stroke:#000000; stroke-width:2; stroke-opacity:0.1; fill:none\" points=\"\n",
       "  2290.52,1487.47 2290.52,47.2441 \n",
       "  \"/>\n",
       "<polyline clip-path=\"url(#clip4402)\" style=\"stroke:#000000; stroke-width:2; stroke-opacity:0.1; fill:none\" points=\"\n",
       "  153.898,1479.45 2352.76,1479.45 \n",
       "  \"/>\n",
       "<polyline clip-path=\"url(#clip4402)\" style=\"stroke:#000000; stroke-width:2; stroke-opacity:0.1; fill:none\" points=\"\n",
       "  153.898,1049.25 2352.76,1049.25 \n",
       "  \"/>\n",
       "<polyline clip-path=\"url(#clip4402)\" style=\"stroke:#000000; stroke-width:2; stroke-opacity:0.1; fill:none\" points=\"\n",
       "  153.898,619.054 2352.76,619.054 \n",
       "  \"/>\n",
       "<polyline clip-path=\"url(#clip4402)\" style=\"stroke:#000000; stroke-width:2; stroke-opacity:0.1; fill:none\" points=\"\n",
       "  153.898,188.853 2352.76,188.853 \n",
       "  \"/>\n",
       "<polyline clip-path=\"url(#clip4400)\" style=\"stroke:#000000; stroke-width:4; stroke-opacity:1; fill:none\" points=\"\n",
       "  153.898,1487.47 2352.76,1487.47 \n",
       "  \"/>\n",
       "<polyline clip-path=\"url(#clip4400)\" style=\"stroke:#000000; stroke-width:4; stroke-opacity:1; fill:none\" points=\"\n",
       "  153.898,1487.47 153.898,47.2441 \n",
       "  \"/>\n",
       "<polyline clip-path=\"url(#clip4400)\" style=\"stroke:#000000; stroke-width:4; stroke-opacity:1; fill:none\" points=\"\n",
       "  195.176,1487.47 195.176,1465.87 \n",
       "  \"/>\n",
       "<polyline clip-path=\"url(#clip4400)\" style=\"stroke:#000000; stroke-width:4; stroke-opacity:1; fill:none\" points=\"\n",
       "  719.013,1487.47 719.013,1465.87 \n",
       "  \"/>\n",
       "<polyline clip-path=\"url(#clip4400)\" style=\"stroke:#000000; stroke-width:4; stroke-opacity:1; fill:none\" points=\"\n",
       "  1242.85,1487.47 1242.85,1465.87 \n",
       "  \"/>\n",
       "<polyline clip-path=\"url(#clip4400)\" style=\"stroke:#000000; stroke-width:4; stroke-opacity:1; fill:none\" points=\"\n",
       "  1766.69,1487.47 1766.69,1465.87 \n",
       "  \"/>\n",
       "<polyline clip-path=\"url(#clip4400)\" style=\"stroke:#000000; stroke-width:4; stroke-opacity:1; fill:none\" points=\"\n",
       "  2290.52,1487.47 2290.52,1465.87 \n",
       "  \"/>\n",
       "<polyline clip-path=\"url(#clip4400)\" style=\"stroke:#000000; stroke-width:4; stroke-opacity:1; fill:none\" points=\"\n",
       "  153.898,1479.45 186.881,1479.45 \n",
       "  \"/>\n",
       "<polyline clip-path=\"url(#clip4400)\" style=\"stroke:#000000; stroke-width:4; stroke-opacity:1; fill:none\" points=\"\n",
       "  153.898,1049.25 186.881,1049.25 \n",
       "  \"/>\n",
       "<polyline clip-path=\"url(#clip4400)\" style=\"stroke:#000000; stroke-width:4; stroke-opacity:1; fill:none\" points=\"\n",
       "  153.898,619.054 186.881,619.054 \n",
       "  \"/>\n",
       "<polyline clip-path=\"url(#clip4400)\" style=\"stroke:#000000; stroke-width:4; stroke-opacity:1; fill:none\" points=\"\n",
       "  153.898,188.853 186.881,188.853 \n",
       "  \"/>\n",
       "<g clip-path=\"url(#clip4400)\">\n",
       "<text style=\"fill:#000000; fill-opacity:1; font-family:Arial,Helvetica Neue,Helvetica,sans-serif; font-size:48px; text-anchor:middle;\" transform=\"rotate(0, 195.176, 1541.47)\" x=\"195.176\" y=\"1541.47\">0</text>\n",
       "</g>\n",
       "<g clip-path=\"url(#clip4400)\">\n",
       "<text style=\"fill:#000000; fill-opacity:1; font-family:Arial,Helvetica Neue,Helvetica,sans-serif; font-size:48px; text-anchor:middle;\" transform=\"rotate(0, 719.013, 1541.47)\" x=\"719.013\" y=\"1541.47\">25</text>\n",
       "</g>\n",
       "<g clip-path=\"url(#clip4400)\">\n",
       "<text style=\"fill:#000000; fill-opacity:1; font-family:Arial,Helvetica Neue,Helvetica,sans-serif; font-size:48px; text-anchor:middle;\" transform=\"rotate(0, 1242.85, 1541.47)\" x=\"1242.85\" y=\"1541.47\">50</text>\n",
       "</g>\n",
       "<g clip-path=\"url(#clip4400)\">\n",
       "<text style=\"fill:#000000; fill-opacity:1; font-family:Arial,Helvetica Neue,Helvetica,sans-serif; font-size:48px; text-anchor:middle;\" transform=\"rotate(0, 1766.69, 1541.47)\" x=\"1766.69\" y=\"1541.47\">75</text>\n",
       "</g>\n",
       "<g clip-path=\"url(#clip4400)\">\n",
       "<text style=\"fill:#000000; fill-opacity:1; font-family:Arial,Helvetica Neue,Helvetica,sans-serif; font-size:48px; text-anchor:middle;\" transform=\"rotate(0, 2290.52, 1541.47)\" x=\"2290.52\" y=\"1541.47\">100</text>\n",
       "</g>\n",
       "<g clip-path=\"url(#clip4400)\">\n",
       "<text style=\"fill:#000000; fill-opacity:1; font-family:Arial,Helvetica Neue,Helvetica,sans-serif; font-size:48px; text-anchor:end;\" transform=\"rotate(0, 129.898, 1496.95)\" x=\"129.898\" y=\"1496.95\">2.0</text>\n",
       "</g>\n",
       "<g clip-path=\"url(#clip4400)\">\n",
       "<text style=\"fill:#000000; fill-opacity:1; font-family:Arial,Helvetica Neue,Helvetica,sans-serif; font-size:48px; text-anchor:end;\" transform=\"rotate(0, 129.898, 1066.75)\" x=\"129.898\" y=\"1066.75\">2.5</text>\n",
       "</g>\n",
       "<g clip-path=\"url(#clip4400)\">\n",
       "<text style=\"fill:#000000; fill-opacity:1; font-family:Arial,Helvetica Neue,Helvetica,sans-serif; font-size:48px; text-anchor:end;\" transform=\"rotate(0, 129.898, 636.554)\" x=\"129.898\" y=\"636.554\">3.0</text>\n",
       "</g>\n",
       "<g clip-path=\"url(#clip4400)\">\n",
       "<text style=\"fill:#000000; fill-opacity:1; font-family:Arial,Helvetica Neue,Helvetica,sans-serif; font-size:48px; text-anchor:end;\" transform=\"rotate(0, 129.898, 206.353)\" x=\"129.898\" y=\"206.353\">3.5</text>\n",
       "</g>\n",
       "<polyline clip-path=\"url(#clip4402)\" style=\"stroke:#009af9; stroke-width:4; stroke-opacity:1; fill:none\" points=\"\n",
       "  216.13,88.0053 237.083,217.229 258.037,300.559 278.99,325.941 299.944,407.428 320.897,213.491 341.851,346.691 362.804,357.905 383.758,540.352 404.711,714.12 \n",
       "  425.665,816.683 446.618,851.481 467.572,849.588 488.525,794.624 509.478,794.112 530.432,816.722 551.385,818.172 572.339,836.37 593.292,863.953 614.246,864.316 \n",
       "  635.199,873.219 656.153,860.688 677.106,872.829 698.06,900.097 719.013,920.518 739.967,932.008 760.92,944 781.874,951.505 802.827,982.629 823.781,1024.26 \n",
       "  844.734,1064.43 865.688,1100.9 886.641,1140.85 907.595,1177.53 928.548,1207.52 949.502,1229.26 970.455,1252.16 991.408,1258.3 1012.36,1270.26 1033.32,1288.61 \n",
       "  1054.27,1303.49 1075.22,1315.77 1096.18,1330.4 1117.13,1348.94 1138.08,1372.33 1159.04,1391.51 1179.99,1411.21 1200.94,1424.79 1221.9,1436.2 1242.85,1446.71 \n",
       "  1263.8,1431.73 1284.76,1421.91 1305.71,1414.56 1326.66,1403.59 1347.62,1398.5 1368.57,1394.11 1389.52,1398.22 1410.48,1400.16 1431.43,1405.01 1452.38,1380.7 \n",
       "  1473.34,1372.08 1494.29,1347.16 1515.25,1326.76 1536.2,1315.6 1557.15,1288.08 1578.11,1280.08 1599.06,1276.42 1620.01,1286.83 1640.97,1298.39 1661.92,1304.9 \n",
       "  1682.87,1301.39 1703.83,1295.47 1724.78,1299.72 1745.73,1292.98 1766.69,1293.93 1787.64,1299.67 1808.59,1294.2 1829.55,1285.57 1850.5,1276.53 1871.45,1275.06 \n",
       "  1892.41,1262.63 1913.36,1262.21 1934.31,1260.18 1955.27,1261.22 1976.22,1267.54 1997.18,1262.54 2018.13,1265.4 2039.08,1267.65 2060.04,1272.54 2080.99,1270.07 \n",
       "  2101.94,1267.91 2122.9,1269.19 2143.85,1267.93 2164.8,1260.59 2185.76,1265.44 2206.71,1274.57 2227.66,1277.9 2248.62,1279.16 2269.57,1278.82 2290.52,1278.08 \n",
       "  \n",
       "  \"/>\n",
       "<path clip-path=\"url(#clip4400)\" d=\"\n",
       "M1989.93 251.724 L2280.76 251.724 L2280.76 130.764 L1989.93 130.764  Z\n",
       "  \" fill=\"#ffffff\" fill-rule=\"evenodd\" fill-opacity=\"1\"/>\n",
       "<polyline clip-path=\"url(#clip4400)\" style=\"stroke:#000000; stroke-width:4; stroke-opacity:1; fill:none\" points=\"\n",
       "  1989.93,251.724 2280.76,251.724 2280.76,130.764 1989.93,130.764 1989.93,251.724 \n",
       "  \"/>\n",
       "<polyline clip-path=\"url(#clip4400)\" style=\"stroke:#009af9; stroke-width:4; stroke-opacity:1; fill:none\" points=\"\n",
       "  2013.93,191.244 2157.93,191.244 \n",
       "  \"/>\n",
       "<g clip-path=\"url(#clip4400)\">\n",
       "<text style=\"fill:#000000; fill-opacity:1; font-family:Arial,Helvetica Neue,Helvetica,sans-serif; font-size:48px; text-anchor:start;\" transform=\"rotate(0, 2181.93, 208.744)\" x=\"2181.93\" y=\"208.744\">y1</text>\n",
       "</g>\n",
       "</svg>\n"
      ]
     },
     "execution_count": 46,
     "metadata": {},
     "output_type": "execute_result"
    }
   ],
   "source": [
    "plot(runMean(res[!,3]))"
   ]
  },
  {
   "cell_type": "code",
   "execution_count": 28,
   "metadata": {},
   "outputs": [
    {
     "name": "stdout",
     "output_type": "stream",
     "text": [
      "[12.3367 0.26921; 0.26921 6.42204]\n"
     ]
    }
   ],
   "source": [
    "println(mme.randomEffectsVec[1].meanV)"
   ]
  }
 ],
 "metadata": {
  "kernelspec": {
   "display_name": "Julia 1.1.0",
   "language": "julia",
   "name": "julia-1.1"
  },
  "language_info": {
   "file_extension": ".jl",
   "mimetype": "application/julia",
   "name": "julia",
   "version": "1.1.0"
  }
 },
 "nbformat": 4,
 "nbformat_minor": 2
}
