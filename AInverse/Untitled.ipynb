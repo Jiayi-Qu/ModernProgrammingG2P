{
 "cells": [
  {
   "cell_type": "markdown",
   "metadata": {},
   "source": [
    "I have a question about the fitness function $H(\\mathbf{y}|\\boldsymbol{\\varphi},\\boldsymbol{\\theta})$.\n",
    "\n",
    "Is this a scalar function or a vector-valued function? On lines 30-32, it is said to reflect the probability that an individual will reproduce. Doesn't this imply that it is a sclar? However, the way it is used on line 38 implies that it represents the fitness of all the individuals. \n",
    "\n",
    "$\\mathbf{y}$"
   ]
  }
 ],
 "metadata": {
  "kernelspec": {
   "display_name": "Julia 1.1.0",
   "language": "julia",
   "name": "julia-1.1"
  },
  "language_info": {
   "file_extension": ".jl",
   "mimetype": "application/julia",
   "name": "julia",
   "version": "1.1.0"
  }
 },
 "nbformat": 4,
 "nbformat_minor": 2
}
