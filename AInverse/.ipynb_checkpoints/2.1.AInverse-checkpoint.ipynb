{
 "cells": [
  {
   "cell_type": "markdown",
   "metadata": {
    "slideshow": {
     "slide_type": "skip"
    }
   },
   "source": [
    "### Latex macros:\n",
    "$$\n",
    "\\newcommand{\\E}{\\text{E}}\n",
    "\\newcommand{\\mbf}{\\mathbf}\n",
    "\\newcommand{\\bs}{\\boldsymbol}\n",
    "\\newcommand{\\Var}{\\text{Var}}\n",
    "\\newcommand{\\Cov}{\\text{Cov}}\n",
    "\\newcommand{\\e}{\\frac{1}{\\sigma^2_e}}\n",
    "\\newcommand{\\f}{\\frac{1}{\\sigma^2_{\\alpha}}}\n",
    "$$"
   ]
  },
  {
   "cell_type": "code",
   "execution_count": 1,
   "metadata": {
    "slideshow": {
     "slide_type": "skip"
    }
   },
   "outputs": [
    {
     "data": {
      "text/plain": [
       "Ident (generic function with 1 method)"
      ]
     },
     "execution_count": 1,
     "metadata": {},
     "output_type": "execute_result"
    }
   ],
   "source": [
    "using LinearAlgebra\n",
    "function Ident(n)\n",
    "    Matrix{Float64}(I,n,n)\n",
    "end"
   ]
  },
  {
   "cell_type": "code",
   "execution_count": 1,
   "metadata": {
    "slideshow": {
     "slide_type": "skip"
    }
   },
   "outputs": [
    {
     "data": {
      "application/javascript": [
       "    MathJax.Hub.Config({\n",
       "      TeX: { equationNumbers: { autoNumber: \"AMS\" } }\n",
       "    });\n",
       "    MathJax.Hub.Queue( \n",
       "        [\"resetEquationNumbers\",MathJax.InputJax.TeX], \n",
       "        [\"PreProcess\",MathJax.Hub], \n",
       "        [\"Reprocess\",MathJax.Hub] \n",
       "    );\n"
      ]
     },
     "metadata": {},
     "output_type": "display_data"
    }
   ],
   "source": [
    "macro javascript_str(s) display(\"text/javascript\", s); end\n",
    "javascript\"\"\"\n",
    "    MathJax.Hub.Config({\n",
    "      TeX: { equationNumbers: { autoNumber: \"AMS\" } }\n",
    "    });\n",
    "    MathJax.Hub.Queue( \n",
    "        [\"resetEquationNumbers\",MathJax.InputJax.TeX], \n",
    "        [\"PreProcess\",MathJax.Hub], \n",
    "        [\"Reprocess\",MathJax.Hub] \n",
    "    );\n",
    "\"\"\""
   ]
  },
  {
   "cell_type": "markdown",
   "metadata": {
    "slideshow": {
     "slide_type": "slide"
    }
   },
   "source": [
    "# Algorithm to Invert Additive Relationship Matrix"
   ]
  },
  {
   "cell_type": "markdown",
   "metadata": {
    "slideshow": {
     "slide_type": "slide"
    }
   },
   "source": [
    "## Additive Relationship Matrix: $\\mbf{A}$\n",
    "\n",
    "- $a_{ij}$ is two times the kinship probability ($F_{ij}$), which is the probability that randomly sampled homologous alleles from $i$ and $j$ are IBD"
   ]
  },
  {
   "cell_type": "markdown",
   "metadata": {
    "slideshow": {
     "slide_type": "fragment"
    }
   },
   "source": [
    "- Homologous alleles are IBD if they can be traced to the same ancestral allele in a founder"
   ]
  },
  {
   "cell_type": "markdown",
   "metadata": {
    "slideshow": {
     "slide_type": "fragment"
    }
   },
   "source": [
    "- Thus, two different alleles in founders are not IBD"
   ]
  },
  {
   "cell_type": "markdown",
   "metadata": {
    "slideshow": {
     "slide_type": "fragment"
    }
   },
   "source": [
    "- Homologous alleles are randomly inherited one from each of the parents $m_i$ and $f_i$ of $i$"
   ]
  },
  {
   "cell_type": "markdown",
   "metadata": {
    "slideshow": {
     "slide_type": "fragment"
    }
   },
   "source": [
    "- If $j$ is not a descendant of $i$, the genetic relationship of $j$ with $i$ is entirely through the parents of $i$"
   ]
  },
  {
   "cell_type": "markdown",
   "metadata": {
    "slideshow": {
     "slide_type": "subslide"
    }
   },
   "source": [
    "## Recursive formula:\n",
    "$$\n",
    "F_{ij} = \\frac{1}{2}(F_{jm_i} + F_{jf_i})\n",
    "$$\n",
    "\n",
    "and \n",
    "\n",
    "$$\n",
    "F_{ii} = \\frac{1}{2}(1 + F_{m_if_i})\n",
    "$$"
   ]
  },
  {
   "cell_type": "markdown",
   "metadata": {
    "slideshow": {
     "slide_type": "fragment"
    }
   },
   "source": [
    "Similarly,\n",
    "$$\n",
    "a_{ij} = \\frac{1}{2}(a_{jm_i} + a_{jf_i})\n",
    "$$\n",
    "\n",
    "and \n",
    "\n",
    "$$\n",
    "a_{ii} = \\frac{1}{2}(2 + a_{m_if_i})\n",
    "$$"
   ]
  },
  {
   "cell_type": "markdown",
   "metadata": {
    "slideshow": {
     "slide_type": "slide"
    }
   },
   "source": [
    "## Tabular Method to Compute $\\mbf{A}$ \n",
    "\n",
    "- Number individuals such that parents precede offspring"
   ]
  },
  {
   "cell_type": "markdown",
   "metadata": {
    "slideshow": {
     "slide_type": "fragment"
    }
   },
   "source": [
    "- For founders, enter 1 on diagonal and 0 on off-diagonals"
   ]
  },
  {
   "cell_type": "markdown",
   "metadata": {
    "slideshow": {
     "slide_type": "fragment"
    }
   },
   "source": [
    "- For non-founder $i$ calculate row elements 1 to $i-1$ as the average of the parental row elements"
   ]
  },
  {
   "cell_type": "markdown",
   "metadata": {
    "slideshow": {
     "slide_type": "fragment"
    }
   },
   "source": [
    "- Set diagonal element $i$ to $\\frac{1}{2}(2 + a_{m_if_i})$"
   ]
  },
  {
   "cell_type": "markdown",
   "metadata": {
    "slideshow": {
     "slide_type": "fragment"
    }
   },
   "source": [
    "- Fill columns by symmetry."
   ]
  },
  {
   "cell_type": "markdown",
   "metadata": {
    "slideshow": {
     "slide_type": "subslide"
    }
   },
   "source": [
    "## Tabular method in matrix  notation"
   ]
  },
  {
   "cell_type": "markdown",
   "metadata": {
    "slideshow": {
     "slide_type": "fragment"
    }
   },
   "source": [
    "\\begin{align}\n",
    "\\mbf{A}_i &= \n",
    "\\begin{bmatrix}\n",
    "    \\mbf{A}_{i-1}           & \\mbf{A}_{i-1}\\mbf{q}_i \\\\\n",
    "    \\mbf{q}'_i\\mbf{A}_{i-1} & \\frac{1}{2}(2 + a_{m_if_i})\n",
    "\\end{bmatrix}\\\\\n",
    "&= \n",
    "\\begin{bmatrix}\n",
    "    \\mbf{I} & \\mbf{0} \\\\\n",
    "    \\mbf{q}'_i& 1\n",
    "\\end{bmatrix}\n",
    "\\begin{bmatrix}\n",
    "    \\mbf{A}_{i-1} & \\mbf{0} \\\\\n",
    "    \\mbf{0}       & a_{ii} - \\mbf{q}'_i\\mbf{A}_{i-1}\\mbf{q}_i\n",
    "\\end{bmatrix}\n",
    "\\begin{bmatrix}\n",
    "    \\mbf{I} & \\mbf{q}_i \\\\\n",
    "    \\mbf{0}& 1\n",
    "\\end{bmatrix} \\\\\n",
    "&=\n",
    "\\mbf{LDL}'\n",
    "\\end{align}"
   ]
  },
  {
   "cell_type": "markdown",
   "metadata": {
    "slideshow": {
     "slide_type": "fragment"
    }
   },
   "source": [
    "where $a_{ii} = \\frac{1}{2}(2 + a_{m_if_i})=1 + \\frac{a_{m_if_i}}{2}$, and $\\mbf{q}_i$ has only two non-zero elements that are equal to 0.5 at positions corresponding to $m_i$ and $f_i$."
   ]
  },
  {
   "cell_type": "markdown",
   "metadata": {
    "slideshow": {
     "slide_type": "slide"
    }
   },
   "source": [
    "## Numerical Example"
   ]
  },
  {
   "cell_type": "markdown",
   "metadata": {
    "slideshow": {
     "slide_type": "fragment"
    }
   },
   "source": [
    "Pedigree:\n",
    "$$\n",
    "\\begin{matrix}\n",
    "i & f & m\\\\\n",
    "1 & 0 & 0\\\\\n",
    "2 & 0 & 0\\\\\n",
    "3 & 1 & 2\\\\\n",
    "4 & 1 & 2\\\\\n",
    "5 & 3 & 4\n",
    "\\end{matrix}\n",
    "$$"
   ]
  },
  {
   "cell_type": "code",
   "execution_count": 15,
   "metadata": {
    "slideshow": {
     "slide_type": "fragment"
    }
   },
   "outputs": [
    {
     "data": {
      "text/plain": [
       "2×2 Array{Int64,2}:\n",
       " 1  0\n",
       " 0  1"
      ]
     },
     "execution_count": 15,
     "metadata": {},
     "output_type": "execute_result"
    }
   ],
   "source": [
    "A2 = [1 0\n",
    "      0 1]"
   ]
  },
  {
   "cell_type": "code",
   "execution_count": 16,
   "metadata": {
    "slideshow": {
     "slide_type": "fragment"
    }
   },
   "outputs": [
    {
     "data": {
      "text/plain": [
       "2-element Array{Float64,1}:\n",
       " 0.5\n",
       " 0.5"
      ]
     },
     "execution_count": 16,
     "metadata": {},
     "output_type": "execute_result"
    }
   ],
   "source": [
    "q   = [0.5, 0.5]"
   ]
  },
  {
   "cell_type": "code",
   "execution_count": 9,
   "metadata": {},
   "outputs": [
    {
     "data": {
      "text/plain": [
       "1×2 LinearAlgebra.Adjoint{Float64,Array{Float64,1}}:\n",
       " 0.5  0.5"
      ]
     },
     "execution_count": 9,
     "metadata": {},
     "output_type": "execute_result"
    }
   ],
   "source": [
    "q'A2"
   ]
  },
  {
   "cell_type": "code",
   "execution_count": 17,
   "metadata": {
    "slideshow": {
     "slide_type": "fragment"
    }
   },
   "outputs": [
    {
     "data": {
      "text/plain": [
       "3×3 Array{Float64,2}:\n",
       " 1.0  0.0  0.5\n",
       " 0.0  1.0  0.5\n",
       " 0.5  0.5  1.0"
      ]
     },
     "execution_count": 17,
     "metadata": {},
     "output_type": "execute_result"
    }
   ],
   "source": [
    "amf = A2[1,2]\n",
    "A3 = [A2    A2*q\n",
    "      q'A2  1 + 0.5amf   ]"
   ]
  },
  {
   "cell_type": "code",
   "execution_count": 11,
   "metadata": {
    "slideshow": {
     "slide_type": "subslide"
    }
   },
   "outputs": [
    {
     "data": {
      "text/plain": [
       "4×4 Array{Float64,2}:\n",
       " 1.0  0.0  0.5  0.5\n",
       " 0.0  1.0  0.5  0.5\n",
       " 0.5  0.5  1.0  0.5\n",
       " 0.5  0.5  0.5  1.0"
      ]
     },
     "execution_count": 11,
     "metadata": {},
     "output_type": "execute_result"
    }
   ],
   "source": [
    "q   = [0.5, 0.5, 0]\n",
    "amf = A3[1,2]\n",
    "A4 = [A3    A3*q\n",
    "      q'A3  1 + 0.5amf   ]"
   ]
  },
  {
   "cell_type": "code",
   "execution_count": 12,
   "metadata": {
    "scrolled": false,
    "slideshow": {
     "slide_type": "fragment"
    }
   },
   "outputs": [
    {
     "data": {
      "text/plain": [
       "5×5 Array{Float64,2}:\n",
       " 1.0  0.0  0.5   0.5   0.5 \n",
       " 0.0  1.0  0.5   0.5   0.5 \n",
       " 0.5  0.5  1.0   0.5   0.75\n",
       " 0.5  0.5  0.5   1.0   0.75\n",
       " 0.5  0.5  0.75  0.75  1.25"
      ]
     },
     "execution_count": 12,
     "metadata": {},
     "output_type": "execute_result"
    }
   ],
   "source": [
    "q   = [0, 0, 0.5, 0.5]\n",
    "amf = A4[3,4]\n",
    "A5 = [A4    A4*q\n",
    "      q'A4  1 + 0.5amf   ]\n",
    "A = A5"
   ]
  },
  {
   "cell_type": "code",
   "execution_count": 13,
   "metadata": {},
   "outputs": [
    {
     "data": {
      "text/plain": [
       "6×6 Array{Float64,2}:\n",
       " 1.0  0.0  0.5   0.5   0.5   0.5 \n",
       " 0.0  1.0  0.5   0.5   0.5   0.5 \n",
       " 0.5  0.5  1.0   0.5   0.75  0.5 \n",
       " 0.5  0.5  0.5   1.0   0.75  1.0 \n",
       " 0.5  0.5  0.75  0.75  1.25  0.75\n",
       " 0.5  0.5  0.5   1.0   0.75  1.5 "
      ]
     },
     "execution_count": 13,
     "metadata": {},
     "output_type": "execute_result"
    }
   ],
   "source": [
    "q   = [0, 0, 0.0, 1.0,0.0]\n",
    "amf = A5[4,4]\n",
    "A5 = [A5    A5*q\n",
    "      q'A5  1 + 0.5amf   ]\n",
    "A = A5"
   ]
  },
  {
   "cell_type": "markdown",
   "metadata": {
    "slideshow": {
     "slide_type": "fragment"
    }
   },
   "source": [
    "[Exercise](Exercise/3.Ex1.ipynb)"
   ]
  },
  {
   "cell_type": "markdown",
   "metadata": {
    "slideshow": {
     "slide_type": "slide"
    }
   },
   "source": [
    "## Inverse of $\\mbf{A}_i$\n",
    "We have seen that $\\mbf{A}_i$ can be written as:\n",
    "$$\n",
    "\\mbf{A}_i = \\mbf{LDL}'\n",
    "$$"
   ]
  },
  {
   "cell_type": "markdown",
   "metadata": {
    "slideshow": {
     "slide_type": "fragment"
    }
   },
   "source": [
    "So,\n",
    "$$\n",
    "\\mbf{A}_i^{-1} = (\\mbf{L}')^{-1}\\mbf{D}^{-1}\\mbf{L}^{-1}\n",
    "$$"
   ]
  },
  {
   "cell_type": "markdown",
   "metadata": {
    "slideshow": {
     "slide_type": "fragment"
    }
   },
   "source": [
    "\\begin{align}\n",
    "(\\mbf{L}')^{-1}\\mbf{D}^{-1}\\mbf{L}^{-1}\n",
    "&= \n",
    "\\begin{bmatrix}\n",
    "    \\mbf{I} & -\\mbf{q}_i \\\\\n",
    "    \\mbf{0} & 1\n",
    "\\end{bmatrix}\n",
    "\\begin{bmatrix}\n",
    "    \\mbf{A}_{i-1}^{-1} & \\mbf{0} \\\\\n",
    "    \\mbf{0}       & (a_{ii} - \\mbf{q}'_i\\mbf{A}_{i-1}\\mbf{q}_i)^{-1}\n",
    "\\end{bmatrix}\n",
    "\\begin{bmatrix}\n",
    "    \\mbf{I}  & \\mbf{0} \\\\\n",
    "    -\\mbf{q}'_i & 1\n",
    "\\end{bmatrix} \\\\\n",
    "&=\n",
    "   \\begin{bmatrix}\n",
    "    \\mbf{A}_{i-1}^{-1} & \\mbf{0} \\\\\n",
    "    \\mbf{0}      & \\mbf{0}\n",
    "    \\end{bmatrix}\n",
    "+\n",
    "    \\begin{bmatrix}\n",
    "     -\\mbf{q}_i\\\\\n",
    "          1\n",
    "    \\end{bmatrix}\n",
    "    a^{ii}\n",
    "    \\begin{bmatrix}\n",
    "     -\\mbf{q}'_i & 1\n",
    "    \\end{bmatrix}\n",
    "\\end{align}"
   ]
  },
  {
   "cell_type": "markdown",
   "metadata": {
    "slideshow": {
     "slide_type": "fragment"
    }
   },
   "source": [
    "where $a^{ii}= (a_{ii} - \\mbf{q}'_i\\mbf{A}_{i-1}\\mbf{q}_i)^{-1}$. As shown below, this can be computed without computing $\\mbf{A}_{i-1}$, which can be a large dense matrix. "
   ]
  },
  {
   "cell_type": "markdown",
   "metadata": {
    "slideshow": {
     "slide_type": "subslide"
    }
   },
   "source": [
    "## Calculation of $a^{ii}$\n",
    "\n",
    "When both parents are known, $\\mbf{q}'_i\\mbf{A}_{i-1}\\mbf{q}_i = \\frac{1}{4}(a_{m_im_i} + a_{f_if_i} + 2a_{m_if_i})$,\n",
    "and because $a_{ii} = 1 + \\frac{1}{2}a_{m_if_i}$, "
   ]
  },
  {
   "cell_type": "markdown",
   "metadata": {},
   "source": [
    "\\begin{align}\n",
    "a^{ii} &= [1 - \\frac{1}{4}(a_{m_im_i} + a_{f_if_i})]^{-1} \\\\\n",
    "       &= (\\frac{1}{2} - \\frac{1}{4}f_m - \\frac{1}{4}f_f)^{-1}\\\\\n",
    "       &= [\\frac{1}{4}(2 - f_m - f_f)]^{-1}\\\\\n",
    "       &= \\frac{4}{2 - f_m - f_f},\n",
    "\\end{align} "
   ]
  },
  {
   "cell_type": "markdown",
   "metadata": {},
   "source": [
    "where $f_m$ and $f_f$ are the inbreeding values of the parents $m$ and $f$ of $i$."
   ]
  },
  {
   "cell_type": "markdown",
   "metadata": {
    "slideshow": {
     "slide_type": "subslide"
    }
   },
   "source": [
    "## Algorithm\n",
    "\n",
    "- Set $\\mbf{A}^{-1} = \\mbf{0}$"
   ]
  },
  {
   "cell_type": "markdown",
   "metadata": {
    "slideshow": {
     "slide_type": "fragment"
    }
   },
   "source": [
    "- Compute $a^{ii}$ for all animals"
   ]
  },
  {
   "cell_type": "markdown",
   "metadata": {
    "slideshow": {
     "slide_type": "fragment"
    }
   },
   "source": [
    "- For each animal add to $\\mbf{A}^{-1}$\n",
    "\n",
    "   - $a^{ii}$ to (i,i)\n",
    "   - -1/2$a^{ii}$ to $(i,f_i)$, $(f_i,i)$,$(i,m_i)$,$(m_i,i)$\n",
    "   - 1/4$a^{ii}$ to $(f_i,f_i)$, $(f_i,m_i)$,$(m_i,f_i)$,$(m_i,m_i)$"
   ]
  },
  {
   "cell_type": "markdown",
   "metadata": {
    "slideshow": {
     "slide_type": "subslide"
    }
   },
   "source": [
    "## Numerical Example"
   ]
  },
  {
   "cell_type": "code",
   "execution_count": 7,
   "metadata": {
    "slideshow": {
     "slide_type": "fragment"
    }
   },
   "outputs": [
    {
     "data": {
      "text/plain": [
       "2×2 Array{Float64,2}:\n",
       " 1.0  0.0\n",
       " 0.0  1.0"
      ]
     },
     "execution_count": 7,
     "metadata": {},
     "output_type": "execute_result"
    }
   ],
   "source": [
    "using LinearAlgebra\n",
    "A2i = Ident(2)"
   ]
  },
  {
   "cell_type": "code",
   "execution_count": 8,
   "metadata": {
    "scrolled": true,
    "slideshow": {
     "slide_type": "fragment"
    }
   },
   "outputs": [
    {
     "data": {
      "text/plain": [
       "3×3 Array{Float64,2}:\n",
       "  1.5   0.5  -1.0\n",
       "  0.5   1.5  -1.0\n",
       " -1.0  -1.0   2.0"
      ]
     },
     "execution_count": 8,
     "metadata": {},
     "output_type": "execute_result"
    }
   ],
   "source": [
    "q = [0.5, 0.5]\n",
    "a33i = 1/(A[3,3] - q'A2*q)\n",
    "A3i  = [A2i zero(q)\n",
    "        zero(q')   0] + [-q; 1]*[-q' 1].*a33i"
   ]
  },
  {
   "cell_type": "code",
   "execution_count": 9,
   "metadata": {
    "slideshow": {
     "slide_type": "fragment"
    }
   },
   "outputs": [
    {
     "data": {
      "text/plain": [
       "3×3 Array{Float64,2}:\n",
       "  1.5   0.5  -1.0\n",
       "  0.5   1.5  -1.0\n",
       " -1.0  -1.0   2.0"
      ]
     },
     "execution_count": 9,
     "metadata": {},
     "output_type": "execute_result"
    }
   ],
   "source": [
    "inv(A[1:3,1:3])"
   ]
  },
  {
   "cell_type": "code",
   "execution_count": 10,
   "metadata": {
    "slideshow": {
     "slide_type": "subslide"
    }
   },
   "outputs": [
    {
     "data": {
      "text/plain": [
       "4×4 Array{Float64,2}:\n",
       "  2.0   1.0  -1.0  -1.0\n",
       "  1.0   2.0  -1.0  -1.0\n",
       " -1.0  -1.0   2.0   0.0\n",
       " -1.0  -1.0   0.0   2.0"
      ]
     },
     "execution_count": 10,
     "metadata": {},
     "output_type": "execute_result"
    }
   ],
   "source": [
    "q    = [0.5, 0.5, 0]\n",
    "a44i = 1/(A[4,4] - q'A3*q)\n",
    "A4i  = [A3i zero(q)\n",
    "        zero(q')   0] + [-q; 1]*[-q' 1].*a44i"
   ]
  },
  {
   "cell_type": "code",
   "execution_count": 11,
   "metadata": {
    "slideshow": {
     "slide_type": "fragment"
    }
   },
   "outputs": [
    {
     "data": {
      "text/plain": [
       "4×4 Array{Float64,2}:\n",
       "  2.0   1.0  -1.0  -1.0\n",
       "  1.0   2.0  -1.0  -1.0\n",
       " -1.0  -1.0   2.0  -0.0\n",
       " -1.0  -1.0   0.0   2.0"
      ]
     },
     "execution_count": 11,
     "metadata": {},
     "output_type": "execute_result"
    }
   ],
   "source": [
    "inv(A[1:4,1:4])"
   ]
  },
  {
   "cell_type": "code",
   "execution_count": 12,
   "metadata": {
    "slideshow": {
     "slide_type": "subslide"
    }
   },
   "outputs": [
    {
     "data": {
      "text/plain": [
       "5×5 Array{Float64,2}:\n",
       "  0.0   0.0   0.0    0.0   -0.0\n",
       "  0.0   0.0   0.0    0.0   -0.0\n",
       "  0.0   0.0   0.25   0.25  -0.5\n",
       "  0.0   0.0   0.25   0.25  -0.5\n",
       " -0.0  -0.0  -0.5   -0.5    1.0"
      ]
     },
     "execution_count": 12,
     "metadata": {},
     "output_type": "execute_result"
    }
   ],
   "source": [
    "q    = [0, 0, 0.5, 0.5]\n",
    "[-q; 1]*[-q' 1]\n"
   ]
  },
  {
   "cell_type": "code",
   "execution_count": 13,
   "metadata": {
    "scrolled": true,
    "slideshow": {
     "slide_type": "fragment"
    }
   },
   "outputs": [
    {
     "data": {
      "text/plain": [
       "5×5 Array{Float64,2}:\n",
       "  2.0   1.0  -1.0  -1.0   0.0\n",
       "  1.0   2.0  -1.0  -1.0   0.0\n",
       " -1.0  -1.0   2.5   0.5  -1.0\n",
       " -1.0  -1.0   0.5   2.5  -1.0\n",
       "  0.0   0.0  -1.0  -1.0   2.0"
      ]
     },
     "execution_count": 13,
     "metadata": {},
     "output_type": "execute_result"
    }
   ],
   "source": [
    "a55i = 1/(A[5,5] - q'A4*q)\n",
    "A5i  = [A4i zero(q)\n",
    "        zero(q')   0] + [-q; 1]*[-q' 1].*a55i"
   ]
  },
  {
   "cell_type": "code",
   "execution_count": 14,
   "metadata": {
    "slideshow": {
     "slide_type": "fragment"
    }
   },
   "outputs": [
    {
     "data": {
      "text/plain": [
       "5×5 Array{Float64,2}:\n",
       "  2.0   1.0  -1.0  -1.0  -0.0\n",
       "  1.0   2.0  -1.0  -1.0  -0.0\n",
       " -1.0  -1.0   2.5   0.5  -1.0\n",
       " -1.0  -1.0   0.5   2.5  -1.0\n",
       "  0.0   0.0  -1.0  -1.0   2.0"
      ]
     },
     "execution_count": 14,
     "metadata": {},
     "output_type": "execute_result"
    }
   ],
   "source": [
    "inv(A)"
   ]
  },
  {
   "cell_type": "markdown",
   "metadata": {
    "slideshow": {
     "slide_type": "slide"
    }
   },
   "source": [
    "## Inverse of any positive definite symmetric $\\mbf{A}$"
   ]
  },
  {
   "cell_type": "markdown",
   "metadata": {
    "slideshow": {
     "slide_type": "fragment"
    }
   },
   "source": [
    "$\\mbf{A}$ is an $n\\times n$ positive definite matrix that is partitioned as\n",
    "\\begin{align*}\n",
    "    \\begin{bmatrix}\n",
    "    \\mbf{A}_{11} & \\mbf{a}_{12} \\\\\n",
    "    \\mbf{a}_{21} & \\mbf{a}_{22}\n",
    "    \\end{bmatrix}\n",
    "    &= \\begin{bmatrix}\n",
    "    \\mbf{A}_{11}         & \\mbf{A}_{11}\\mbf{q} \\\\\n",
    "    \\mbf{q}'\\mbf{A}_{11} & \\mbf{q}'\\mbf{A}_{11}\\mbf{q} + \\mbf{r} \n",
    "      \\end{bmatrix}\\\\\n",
    "\\end{align*}\n",
    "where $\\mbf{A}_{11}$ is $n-1\\times n-1$, $\\mbf{a}_{12}$ is $n-1\\times 1$ and $\\mbf{a}_{22}$ is $1\\times 1$."
   ]
  },
  {
   "cell_type": "markdown",
   "metadata": {
    "slideshow": {
     "slide_type": "fragment"
    }
   },
   "source": [
    "So, \n",
    "$$\n",
    "\\mbf{q} = \\mbf{A}_{11}^{-1}\\mbf{a}_{12},\n",
    "$$\n",
    "\n",
    "$$\n",
    "r = a_{22} - \\mbf{q}'\\mbf{A}_{11}\\mbf{q}\n",
    "$$"
   ]
  },
  {
   "cell_type": "markdown",
   "metadata": {
    "slideshow": {
     "slide_type": "subslide"
    }
   },
   "source": [
    "and \n",
    "- if $n=1$\n",
    "$$\n",
    "\\mbf{A}^{-1} = \\frac{1}{\\mbf{A}}\n",
    "$$\n",
    "- else:\n",
    "$$\n",
    "\\mbf{A}^{-1} = \n",
    "   \\begin{bmatrix}\n",
    "    \\mbf{A}_{11}^{-1} & \\mbf{0} \\\\\n",
    "    \\mbf{0}      & \\mbf{0}\n",
    "    \\end{bmatrix}\n",
    "+\n",
    "   \\begin{bmatrix}\n",
    "    \\mbf{q}\\mbf{q}' & -\\mbf{q} \\\\\n",
    "    -\\mbf{q}'       & 1\n",
    "    \\end{bmatrix}\\frac{1}{r}\n",
    "$$\n"
   ]
  },
  {
   "cell_type": "markdown",
   "metadata": {
    "slideshow": {
     "slide_type": "subslide"
    }
   },
   "source": [
    "## Julia recursive function for inverse"
   ]
  },
  {
   "cell_type": "code",
   "execution_count": 15,
   "metadata": {
    "scrolled": true,
    "slideshow": {
     "slide_type": "fragment"
    }
   },
   "outputs": [
    {
     "data": {
      "text/plain": [
       "invA (generic function with 1 method)"
      ]
     },
     "execution_count": 15,
     "metadata": {},
     "output_type": "execute_result"
    }
   ],
   "source": [
    "function invA(A)\n",
    "    n  = size(A,1)\n",
    "    if n==1\n",
    "        return 1/A[1,1]\n",
    "    else\n",
    "        Ai = zeros(n,n) # inverse of A\n",
    "        s1 = 1:n-1\n",
    "        s2 = n\n",
    "        A11 = A[s1,s1]\n",
    "        A11i = invA(A11)\n",
    "        A12 = A[s1,s2]\n",
    "        A22 = A[s2,s2]\n",
    "        q = A11i*A12\n",
    "        r = A22 - q'A11*q\n",
    "        ri = 1/r\n",
    "        Ai = [A11i .+ ri*q*q'    -q*ri\n",
    "              -q'*ri              ri]\n",
    "        return Ai\n",
    "   end\n",
    "end"
   ]
  },
  {
   "cell_type": "markdown",
   "metadata": {
    "slideshow": {
     "slide_type": "subslide"
    }
   },
   "source": [
    "## Numerical Example"
   ]
  },
  {
   "cell_type": "code",
   "execution_count": 16,
   "metadata": {
    "slideshow": {
     "slide_type": "fragment"
    }
   },
   "outputs": [
    {
     "data": {
      "text/plain": [
       "0.2"
      ]
     },
     "execution_count": 16,
     "metadata": {},
     "output_type": "execute_result"
    }
   ],
   "source": [
    "A = 5\n",
    "invA(A)"
   ]
  },
  {
   "cell_type": "code",
   "execution_count": 17,
   "metadata": {
    "scrolled": true,
    "slideshow": {
     "slide_type": "fragment"
    }
   },
   "outputs": [
    {
     "data": {
      "text/plain": [
       "5×5 Array{Float64,2}:\n",
       "  1.0   0.0   0.0   0.0  -0.0\n",
       " -0.0   1.0  -0.0  -0.0   0.0\n",
       "  0.0  -0.0   1.0  -0.0  -0.0\n",
       " -0.0   0.0   0.0   1.0   0.0\n",
       "  0.0   0.0  -0.0   0.0   1.0"
      ]
     },
     "execution_count": 17,
     "metadata": {},
     "output_type": "execute_result"
    }
   ],
   "source": [
    "X = randn(10,5)\n",
    "A = X'X\n",
    "Ai = invA(A)\n",
    "round.(A*Ai,digits=3)"
   ]
  },
  {
   "cell_type": "markdown",
   "metadata": {},
   "source": [
    "[Exercise](Exercise/3.Ex2.ipynb)"
   ]
  },
  {
   "cell_type": "code",
   "execution_count": null,
   "metadata": {},
   "outputs": [],
   "source": []
  },
  {
   "cell_type": "code",
   "execution_count": null,
   "metadata": {},
   "outputs": [],
   "source": []
  },
  {
   "cell_type": "code",
   "execution_count": null,
   "metadata": {},
   "outputs": [],
   "source": []
  },
  {
   "cell_type": "code",
   "execution_count": null,
   "metadata": {},
   "outputs": [],
   "source": []
  }
 ],
 "metadata": {
  "celltoolbar": "Slideshow",
  "kernelspec": {
   "display_name": "Julia 1.1.0",
   "language": "julia",
   "name": "julia-1.1"
  },
  "language_info": {
   "file_extension": ".jl",
   "mimetype": "application/julia",
   "name": "julia",
   "version": "1.1.0"
  }
 },
 "nbformat": 4,
 "nbformat_minor": 2
}
