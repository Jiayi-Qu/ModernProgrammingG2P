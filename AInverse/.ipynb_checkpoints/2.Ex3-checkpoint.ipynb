{
 "cells": [
  {
   "cell_type": "markdown",
   "metadata": {},
   "source": [
    "# Pedigree Module of JWAS\n",
    "\n",
    "#### The exercises here will be used to introduce concepts and features used in the Pedigree Module of JWAS"
   ]
  },
  {
   "cell_type": "markdown",
   "metadata": {},
   "source": [
    "\n",
    "In this exercise, you will be exposed to:\n",
    "\n",
    "1. DataFrames\n",
    "1. Loops\n",
    "1. Composite types\n",
    "1. Dictionaries\n",
    "1. Recursive functions\n",
    "1. Sparse matricies"
   ]
  },
  {
   "cell_type": "code",
   "execution_count": 1,
   "metadata": {},
   "outputs": [],
   "source": [
    "using CSV\n",
    "using SparseArrays\n",
    "using Printf\n",
    "\n",
    "mutable struct PedNode\n",
    "    seqID::Int64\n",
    "    sire::String\n",
    "    dam::String\n",
    "    f::Float64\n",
    "end\n",
    "\n",
    "mutable struct Pedigree\n",
    "    currentID::Int64\n",
    "    idMap::Dict{AbstractString,PedNode}\n",
    "    aij::Dict{Int64, Float64}\n",
    "end"
   ]
  },
  {
   "cell_type": "markdown",
   "metadata": {},
   "source": [
    "#### 1. Read in the data from \"ped1WithoutHeader.txt\" into a DataFrame called ``df``"
   ]
  },
  {
   "cell_type": "code",
   "execution_count": 2,
   "metadata": {
    "scrolled": true
   },
   "outputs": [
    {
     "data": {
      "text/html": [
       "<table class=\"data-frame\"><thead><tr><th></th><th>Column1</th><th>Column2</th><th>Column3</th></tr><tr><th></th><th>String</th><th>String</th><th>String</th></tr></thead><tbody><p>4 rows × 3 columns</p><tr><th>1</th><td>F</td><td>A</td><td>D</td></tr><tr><th>2</th><td>C</td><td>A</td><td>B1</td></tr><tr><th>3</th><td>D</td><td>A</td><td>B1</td></tr><tr><th>4</th><td>E</td><td>C</td><td>D</td></tr></tbody></table>"
      ],
      "text/latex": [
       "\\begin{tabular}{r|ccc}\n",
       "\t& Column1 & Column2 & Column3\\\\\n",
       "\t\\hline\n",
       "\t& String & String & String\\\\\n",
       "\t\\hline\n",
       "\t1 & F & A & D \\\\\n",
       "\t2 & C & A & B1 \\\\\n",
       "\t3 & D & A & B1 \\\\\n",
       "\t4 & E & C & D \\\\\n",
       "\\end{tabular}\n"
      ],
      "text/plain": [
       "4×3 DataFrames.DataFrame\n",
       "│ Row │ Column1 │ Column2 │ Column3 │\n",
       "│     │ \u001b[90mString\u001b[39m  │ \u001b[90mString\u001b[39m  │ \u001b[90mString\u001b[39m  │\n",
       "├─────┼─────────┼─────────┼─────────┤\n",
       "│ 1   │ F       │ A       │ D       │\n",
       "│ 2   │ C       │ A       │ B1      │\n",
       "│ 3   │ D       │ A       │ B1      │\n",
       "│ 4   │ E       │ C       │ D       │"
      ]
     },
     "execution_count": 2,
     "metadata": {},
     "output_type": "execute_result"
    }
   ],
   "source": [
    "df  = CSV.read(\"ped1.txt\",types=[String,String,String], delim=' ', header=false)"
   ]
  },
  {
   "cell_type": "markdown",
   "metadata": {},
   "source": [
    "#### 2. Intialize ``ped`` as an instance of the composite type Pedigree with 1 for the currentID and  empty Dictionaries of the appropriate types for idMap and aij"
   ]
  },
  {
   "cell_type": "markdown",
   "metadata": {},
   "source": [
    "#### Answer:"
   ]
  },
  {
   "cell_type": "code",
   "execution_count": 3,
   "metadata": {},
   "outputs": [
    {
     "data": {
      "text/plain": [
       "Pedigree(1, Dict{AbstractString,PedNode}(), Dict{Int64,Float64}())"
      ]
     },
     "execution_count": 3,
     "metadata": {},
     "output_type": "execute_result"
    }
   ],
   "source": [
    "ped = Pedigree(1,Dict{AbstractString,PedNode}(),\n",
    "                     Dict{Int64, Float64}())"
   ]
  },
  {
   "cell_type": "code",
   "execution_count": 4,
   "metadata": {},
   "outputs": [
    {
     "data": {
      "text/plain": [
       "fillMap! (generic function with 1 method)"
      ]
     },
     "execution_count": 4,
     "metadata": {},
     "output_type": "execute_result"
    }
   ],
   "source": [
    "function fillMap!(ped::Pedigree,df)\n",
    "    for i in df[:,2] \n",
    "        if i!=\"0\" && !haskey(ped.idMap,i)          # skip if 0 or already done\n",
    "            ped.idMap[i]=PedNode(0,\"0\",\"0\",-1.0)\n",
    "        end\n",
    "    end\n",
    "    for i in df[:,3]\n",
    "        if i!=\"0\" && !haskey(ped.idMap,i)         # same for dams\n",
    "            ped.idMap[i]=PedNode(0,\"0\",\"0\",-1.0)\n",
    "        end\n",
    "    end\n",
    "    j=1\n",
    "    for i in df[:,1]\n",
    "        ped.idMap[i]=PedNode(0,df[j,2],df[j,3],-1.0)\n",
    "        j+=1\n",
    "    end\n",
    "end"
   ]
  },
  {
   "cell_type": "markdown",
   "metadata": {},
   "source": [
    "#### 3. Run fillMap!(ped::Pedigree,df) to populate idMap."
   ]
  },
  {
   "cell_type": "code",
   "execution_count": 5,
   "metadata": {},
   "outputs": [],
   "source": [
    "fillMap!(ped,df)"
   ]
  },
  {
   "cell_type": "markdown",
   "metadata": {},
   "source": [
    "#### 4. Examine values stored in ped.idMap"
   ]
  },
  {
   "cell_type": "code",
   "execution_count": 6,
   "metadata": {
    "scrolled": false
   },
   "outputs": [
    {
     "data": {
      "text/plain": [
       "Dict{AbstractString,PedNode} with 6 entries:\n",
       "  \"A\"  => PedNode(0, \"0\", \"0\", -1.0)\n",
       "  \"C\"  => PedNode(0, \"A\", \"B1\", -1.0)\n",
       "  \"B1\" => PedNode(0, \"0\", \"0\", -1.0)\n",
       "  \"D\"  => PedNode(0, \"A\", \"B1\", -1.0)\n",
       "  \"E\"  => PedNode(0, \"C\", \"D\", -1.0)\n",
       "  \"F\"  => PedNode(0, \"A\", \"D\", -1.0)"
      ]
     },
     "execution_count": 6,
     "metadata": {},
     "output_type": "execute_result"
    }
   ],
   "source": [
    "ped.idMap"
   ]
  },
  {
   "cell_type": "markdown",
   "metadata": {},
   "source": [
    "#### A couple of print statements have been added to code! to show how the recursion progresses."
   ]
  },
  {
   "cell_type": "code",
   "execution_count": 7,
   "metadata": {
    "scrolled": true
   },
   "outputs": [
    {
     "data": {
      "text/plain": [
       "code! (generic function with 1 method)"
      ]
     },
     "execution_count": 7,
     "metadata": {},
     "output_type": "execute_result"
    }
   ],
   "source": [
    "function code!(ped::Pedigree,id::AbstractString)\n",
    "# The idea for this function came from a perl script by Bernt Guldbrandtsen\n",
    "    println(\"assign sequential number for $id with parents $(ped.idMap[id].sire) and $(ped.idMap[id].dam)\")\n",
    "    if ped.idMap[id].seqID!=0\n",
    "        return\n",
    "    end\n",
    "    sireID = ped.idMap[id].sire\n",
    "    damID  = ped.idMap[id].dam\n",
    "    if sireID!=\"0\" && ped.idMap[sireID].seqID==0\n",
    "        code!(ped,sireID)\n",
    "    end\n",
    "    if damID!=\"0\" && ped.idMap[damID].seqID==0\n",
    "        code!(ped,damID)\n",
    "    end\n",
    "    ped.idMap[id].seqID = ped.currentID\n",
    "    println(\"assigned $(ped.currentID) to $id\")\n",
    "    ped.currentID += 1\n",
    "    nothing\n",
    "end"
   ]
  },
  {
   "cell_type": "markdown",
   "metadata": {},
   "source": [
    "#### 5. Use the function code! to assign a sequential number for \"E\"\n",
    "\n",
    "Examine ped.idMap after calling code!"
   ]
  },
  {
   "cell_type": "code",
   "execution_count": 8,
   "metadata": {
    "scrolled": true
   },
   "outputs": [
    {
     "name": "stdout",
     "output_type": "stream",
     "text": [
      "assign sequential number for E with parents C and D\n",
      "assign sequential number for C with parents A and B1\n",
      "assign sequential number for A with parents 0 and 0\n",
      "assigned 1 to A\n",
      "assign sequential number for B1 with parents 0 and 0\n",
      "assigned 2 to B1\n",
      "assigned 3 to C\n",
      "assign sequential number for D with parents A and B1\n",
      "assigned 4 to D\n",
      "assigned 5 to E\n"
     ]
    }
   ],
   "source": [
    "code!(ped,\"E\")"
   ]
  },
  {
   "cell_type": "markdown",
   "metadata": {},
   "source": [
    "#### 6. Use the function code! to assign a sequential number for \"F\"\n",
    "\n",
    "Examine ped.idMap after calling code!"
   ]
  },
  {
   "cell_type": "code",
   "execution_count": 9,
   "metadata": {},
   "outputs": [
    {
     "name": "stdout",
     "output_type": "stream",
     "text": [
      "assign sequential number for F with parents A and D\n",
      "assigned 6 to F\n"
     ]
    }
   ],
   "source": [
    "code!(ped,\"F\")"
   ]
  },
  {
   "cell_type": "markdown",
   "metadata": {},
   "source": [
    "#### 7. Use the function code! to assign a sequential number for \"A\"\n",
    "\n",
    "Examine ped.idMap after calling code!"
   ]
  },
  {
   "cell_type": "code",
   "execution_count": 10,
   "metadata": {},
   "outputs": [
    {
     "name": "stdout",
     "output_type": "stream",
     "text": [
      "assign sequential number for A with parents 0 and 0\n"
     ]
    }
   ],
   "source": [
    "code!(ped,\"A\")"
   ]
  },
  {
   "cell_type": "code",
   "execution_count": 25,
   "metadata": {},
   "outputs": [
    {
     "data": {
      "text/plain": [
       "Dict{AbstractString,PedNode} with 6 entries:\n",
       "  \"A\"  => PedNode(1, \"0\", \"0\", -1.0)\n",
       "  \"C\"  => PedNode(3, \"A\", \"B1\", -1.0)\n",
       "  \"B1\" => PedNode(2, \"0\", \"0\", -1.0)\n",
       "  \"D\"  => PedNode(4, \"A\", \"B1\", -1.0)\n",
       "  \"E\"  => PedNode(5, \"C\", \"D\", -1.0)\n",
       "  \"F\"  => PedNode(6, \"A\", \"D\", -1.0)"
      ]
     },
     "execution_count": 25,
     "metadata": {},
     "output_type": "execute_result"
    }
   ],
   "source": [
    "ped.idMap"
   ]
  },
  {
   "cell_type": "code",
   "execution_count": 11,
   "metadata": {},
   "outputs": [
    {
     "data": {
      "text/plain": [
       "calcInbreeding! (generic function with 1 method)"
      ]
     },
     "execution_count": 11,
     "metadata": {},
     "output_type": "execute_result"
    }
   ],
   "source": [
    "function calcAddRel!(ped::Pedigree,id1::AbstractString,id2::AbstractString)\n",
    "    @printf \"calcRel between %s and %s \\n\" id1 id2\n",
    "    if id1==\"0\" || id2==\"0\"           \n",
    "        return 0.0\n",
    "    end\n",
    "    old,yng = ped.idMap[id1].seqID < ped.idMap[id2].seqID ? (id1,id2) : (id2,id1)\n",
    "    oldID = ped.idMap[old].seqID\n",
    "    yngID = ped.idMap[yng].seqID\n",
    "\n",
    "    n = yngID - 1                     \n",
    "    aijKey = n*(n+1)/2 + oldID        # this is the key used in ped.aij to store the additive  relationship coefficient\n",
    "    if haskey(ped.aij,aijKey)         # if aleady done, return stored value\n",
    "        return ped.aij[aijKey]\n",
    "    end\n",
    "\n",
    "    sireOfYng = ped.idMap[yng].sire\n",
    "    damOfYng  = ped.idMap[yng].dam\n",
    "\n",
    "    if old==yng                       # aii\n",
    "        aii = 1.0 + 0.5*calcAddRel!(ped,sireOfYng,damOfYng)\n",
    "        ped.aij[aijKey] = aii\n",
    "        return (aii)\n",
    "    end\n",
    "\n",
    "    aOldDamYoung  = (old==\"0\" || damOfYng ==\"0\") ? 0.0 : calcAddRel!(ped,old,damOfYng)\n",
    "    aOldSireYoung = (old==\"0\" || sireOfYng==\"0\") ? 0.0 : calcAddRel!(ped,old,sireOfYng)\n",
    "    aijVal = 0.5*(aOldSireYoung + aOldDamYoung)\n",
    "    ped.aij[aijKey] = aijVal\n",
    "\n",
    "    return aijVal\n",
    "end\n",
    "\n",
    "\n",
    "function calcInbreeding!(ped::Pedigree,id::AbstractString)\n",
    "    @printf \"calcInbreeding for: %s \\n\" id\n",
    "    if ped.idMap[id].f > -1.0\n",
    "        return ped.idMap[id].f\n",
    "    end\n",
    "    sireID = ped.idMap[id].sire\n",
    "    damID  = ped.idMap[id].dam\n",
    "    if (sireID==\"0\" || damID==\"0\" ) # founders have an inbreeding coeff. of zero \n",
    "        ped.idMap[id].f = 0.0\n",
    "    else\n",
    "        ped.idMap[id].f = 0.5*calcAddRel!(ped,sireID,damID)\n",
    "    end\n",
    "end"
   ]
  },
  {
   "cell_type": "markdown",
   "metadata": {},
   "source": [
    "#### 8. Use the function calcInbreeding! to compute the inbreeding of \"F\"\n",
    "\n",
    "Examine ``ped.idMap`` and ``ped.aij`` before and after calling calcInbreeding! "
   ]
  },
  {
   "cell_type": "code",
   "execution_count": 31,
   "metadata": {},
   "outputs": [
    {
     "name": "stdout",
     "output_type": "stream",
     "text": [
      "calcInbreeding for: F \n",
      "calcRel between A and D \n",
      "calcRel between A and B1 \n",
      "calcRel between A and A \n",
      "calcRel between 0 and 0 \n"
     ]
    },
    {
     "data": {
      "text/plain": [
       "0.25"
      ]
     },
     "execution_count": 31,
     "metadata": {},
     "output_type": "execute_result"
    }
   ],
   "source": [
    "calcInbreeding!(ped,\"F\")"
   ]
  },
  {
   "cell_type": "markdown",
   "metadata": {},
   "source": [
    "#### 9. Add more print statements to calcAddRel! to more closely follow the recursion\n",
    "\n",
    "Reinitialize ``ped`` and repeat inbreeding calculation for \"F\""
   ]
  },
  {
   "cell_type": "code",
   "execution_count": null,
   "metadata": {},
   "outputs": [],
   "source": []
  },
  {
   "cell_type": "markdown",
   "metadata": {},
   "source": [
    "#### 10. Run the code in the next cell to compute inbreeding for all members of the pedigree"
   ]
  },
  {
   "cell_type": "code",
   "execution_count": 12,
   "metadata": {
    "scrolled": true
   },
   "outputs": [
    {
     "name": "stdout",
     "output_type": "stream",
     "text": [
      "calcInbreeding for: A \n",
      "calcInbreeding for: C \n",
      "calcRel between A and B1 \n",
      "calcInbreeding for: B1 \n",
      "calcInbreeding for: D \n",
      "calcRel between A and B1 \n",
      "calcInbreeding for: E \n",
      "calcRel between C and D \n",
      "calcRel between C and B1 \n",
      "calcRel between B1 and B1 \n",
      "calcRel between 0 and 0 \n",
      "calcRel between B1 and A \n",
      "calcRel between C and A \n",
      "calcRel between A and B1 \n",
      "calcRel between A and A \n",
      "calcRel between 0 and 0 \n",
      "calcInbreeding for: F \n",
      "calcRel between A and D \n",
      "calcRel between A and B1 \n",
      "calcRel between A and A \n"
     ]
    }
   ],
   "source": [
    "for id in keys(ped.idMap)\n",
    "    calcInbreeding!(ped,id)\n",
    "end"
   ]
  },
  {
   "cell_type": "markdown",
   "metadata": {},
   "source": [
    "#### Run the code in the next three cells.\n",
    "\n",
    "You should see the contributions from individual \"F\" to the inverse of the additive relationship matrix. The code below assumes both parents are either known or both are unknown. "
   ]
  },
  {
   "cell_type": "code",
   "execution_count": 16,
   "metadata": {
    "scrolled": true
   },
   "outputs": [],
   "source": [
    "ind = \"F\"\n",
    "ii = Int64[]\n",
    "jj = Int64[]\n",
    "vv = Float64[]\n",
    "sire = ped.idMap[ind].sire\n",
    "dam  = ped.idMap[ind].dam\n",
    "sirePos = sire==\"0\" ? 0 : ped.idMap[sire].seqID\n",
    "damPos  = dam ==\"0\" ? 0 : ped.idMap[dam ].seqID\n",
    "myPos   = ped.idMap[ind].seqID\n",
    "if sirePos>0 && damPos>0\n",
    "    d = 4.0/(2 - ped.idMap[sire].f - ped.idMap[dam].f)\n",
    "    # sireXsire\n",
    "    push!(ii,sirePos)\n",
    "    push!(jj,sirePos)\n",
    "    push!(vv,0.25*d)\n",
    "    \n",
    "    # damXdam\n",
    "    push!(ii,damPos)\n",
    "    push!(jj,damPos)\n",
    "    push!(vv,0.25*d)\n",
    "    \n",
    "    # sireXdam\n",
    "    push!(ii,sirePos)\n",
    "    push!(jj,damPos)\n",
    "    push!(vv,0.25*d)\n",
    "    \n",
    "    # damXsire\n",
    "    push!(ii,damPos)\n",
    "    push!(jj,sirePos)\n",
    "    push!(vv,0.25*d)\n",
    "    \n",
    "    # sireXind\n",
    "    push!(ii,sirePos)\n",
    "    push!(jj,myPos)\n",
    "    push!(vv,-0.5*d)\n",
    "    \n",
    "    # indXsire\n",
    "    push!(ii,myPos)\n",
    "    push!(jj,sirePos)\n",
    "    push!(vv,-0.5*d)\n",
    "    \n",
    "    # damXind\n",
    "    push!(ii,damPos)\n",
    "    push!(jj,myPos)\n",
    "    push!(vv,-0.5*d)\n",
    "    \n",
    "    # indXdam\n",
    "    push!(ii,myPos)\n",
    "    push!(jj,damPos)\n",
    "    push!(vv,-0.5*d) \n",
    "    # \n",
    "    push!(ii,myPos)\n",
    "    push!(jj,myPos)\n",
    "    push!(vv,d)\n",
    "else\n",
    "    d = 1.0\n",
    "    push!(ii,myPos)\n",
    "    push!(jj,myPos)\n",
    "    push!(vv,d)\n",
    "end\n",
    "nothing"
   ]
  },
  {
   "cell_type": "code",
   "execution_count": null,
   "metadata": {},
   "outputs": [],
   "source": [
    "sparseAi = sparse(ii,jj,vv)"
   ]
  },
  {
   "cell_type": "code",
   "execution_count": null,
   "metadata": {
    "scrolled": false
   },
   "outputs": [],
   "source": [
    "Matrix(sparseAi)"
   ]
  },
  {
   "cell_type": "code",
   "execution_count": null,
   "metadata": {},
   "outputs": [],
   "source": [
    "function toAi!(ind,ped,ii,jj,vv)\n",
    "    sire = ped.idMap[ind].sire\n",
    "    dam  = ped.idMap[ind].dam\n",
    "    sirePos = sire==\"0\" ? 0 : ped.idMap[sire].seqID\n",
    "    damPos  = dam ==\"0\" ? 0 : ped.idMap[dam ].seqID\n",
    "    myPos   = ped.idMap[ind].seqID\n",
    "    \n",
    "    \n",
    "    \n",
    "    nothing\n",
    "end"
   ]
  },
  {
   "cell_type": "markdown",
   "metadata": {},
   "source": [
    "#### 11. Complete the function in the cell above such that the code in the next cell two cells would give the inverse of the additive relationship matrix"
   ]
  },
  {
   "cell_type": "code",
   "execution_count": 14,
   "metadata": {
    "scrolled": false
   },
   "outputs": [],
   "source": [
    "ii = Int64[]\n",
    "jj = Int64[]\n",
    "vv = Float64[]\n",
    "for ind in keys(ped.idMap)\n",
    "    toAi!(ind,ped,ii,jj,vv)\n",
    "end"
   ]
  },
  {
   "cell_type": "code",
   "execution_count": null,
   "metadata": {
    "scrolled": false
   },
   "outputs": [],
   "source": [
    "sparseAi = sparse(ii,jj,vv);"
   ]
  },
  {
   "cell_type": "code",
   "execution_count": null,
   "metadata": {
    "scrolled": false
   },
   "outputs": [],
   "source": [
    "Matrix(sparseAi)"
   ]
  }
 ],
 "metadata": {
  "kernelspec": {
   "display_name": "Julia 1.1.0",
   "language": "julia",
   "name": "julia-1.1"
  },
  "language_info": {
   "file_extension": ".jl",
   "mimetype": "application/julia",
   "name": "julia",
   "version": "1.1.0"
  }
 },
 "nbformat": 4,
 "nbformat_minor": 2
}
