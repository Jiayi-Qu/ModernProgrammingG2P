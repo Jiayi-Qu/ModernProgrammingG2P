{
 "cells": [
  {
   "cell_type": "markdown",
   "metadata": {},
   "source": [
    "$$\n",
    "\\newcommand{\\E}{\\text{E}}\n",
    "\\newcommand{\\mbf}{\\mathbf}\n",
    "\\newcommand{\\bs}{\\boldsymbol}\n",
    "\\newcommand{\\Var}{\\text{Var}}\n",
    "\\newcommand{\\Cov}{\\text{Cov}}\n",
    "\\newcommand{\\e}{\\frac{1}{\\sigma^2_e}}\n",
    "\\newcommand{\\f}{\\frac{1}{\\sigma^2_{\\alpha}}}\n",
    "$$"
   ]
  },
  {
   "cell_type": "markdown",
   "metadata": {},
   "source": [
    "# Exercise\n",
    "\n",
    "This exercise will provide an opportunity to practice your matrix calculation skills using Julia in the context of examining how $\\mbf{A}_i$ can be expressed as:\n",
    "\n",
    "\\begin{align}\n",
    "\\begin{bmatrix}\n",
    "    \\mbf{A}_{i-1}           & \\mbf{A}_{i-1}\\mbf{q}_i \\\\\n",
    "    \\mbf{q}'_i\\mbf{A}_{i-1} & \\frac{1}{2}(2 + a_{m_if_i})\n",
    "\\end{bmatrix}\n",
    "&= \n",
    "\\begin{bmatrix}\n",
    "    \\mbf{I} & \\mbf{0} \\\\\n",
    "    \\mbf{q}'_i& 1\n",
    "\\end{bmatrix}\n",
    "\\begin{bmatrix}\n",
    "    \\mbf{A}_{i-1} & \\mbf{0} \\\\\n",
    "    \\mbf{0}       & a_{ii} - \\mbf{q}'_i\\mbf{A}_{i-1}\\mbf{q}_i\n",
    "\\end{bmatrix}\n",
    "\\begin{bmatrix}\n",
    "    \\mbf{I} & \\mbf{q}_i \\\\\n",
    "    \\mbf{0}& 1\n",
    "\\end{bmatrix} \\\\\n",
    "&=\n",
    "\\mbf{LDL}'.\n",
    "\\end{align}\n",
    "\n",
    "This identity is key to deriving the efficient algorithm to invert the additive relationship matrix. It can also be used to derive a recurrsive algorithm to invert any positive-definite matrix."
   ]
  },
  {
   "cell_type": "markdown",
   "metadata": {},
   "source": [
    "1. Compute the matrix:\n",
    "$$\n",
    "\\mathbf{B} = \n",
    "\\begin{bmatrix}\n",
    "    \\mbf{I} \\\\\n",
    "    \\mbf{q}'\n",
    "\\end{bmatrix}\n",
    "\\mathbf{A}_3\n",
    "\\begin{bmatrix}\n",
    "    \\mbf{I} & \\mbf{q}\n",
    "\\end{bmatrix}\n",
    "$$\n",
    "for the pedigree given in class.\n",
    "\n",
    "1. Verify that \n",
    "$$\n",
    "\\mathbf{B} = \n",
    "\\begin{bmatrix}\n",
    "    \\mbf{A}_3          &  \\mbf{A}_3\\mbf{q}\\\\\n",
    "    \\mbf{q}'\\mbf{A}_3  &  \\mbf{q}'\\mbf{A}_3\\mbf{q}\n",
    "\\end{bmatrix}\n",
    "$$\n",
    "\n",
    "1. Compute the difference between $\\mbf{A}_4$ and $\\mbf{B}$\n",
    "\n",
    "1. Verify that\n",
    "\\begin{align}\n",
    "\\mbf{A}_4 &= \n",
    "\\mbf{B} + \n",
    "\\begin{bmatrix}\n",
    "    \\mbf{0} &  \\mbf{0}\\\\\n",
    "    \\mbf{0} &  a_{44} - \\mbf{q}'\\mbf{A}_3\\mbf{q}\n",
    "\\end{bmatrix}\\\\\n",
    "&= \\mbf{B} + \n",
    "\\begin{bmatrix}\n",
    "    \\mbf{0} \\\\\n",
    "    1\n",
    "\\end{bmatrix}\n",
    "(a_{44} - \\mbf{q}'\\mbf{A}_3\\mbf{q})\n",
    "\\begin{bmatrix}\n",
    "    \\mbf{0} & 1\n",
    "\\end{bmatrix}\\\\\n",
    "&= \\mbf{B} + \\mbf{C} \n",
    "\\end{align}\n",
    "where \n",
    "$$\n",
    "\\mbf{C} = \n",
    "\\begin{bmatrix}\n",
    "    \\mbf{0} \\\\\n",
    "         1\n",
    "\\end{bmatrix}\n",
    "(a_{44} - \\mbf{q}'\\mbf{A}_3\\mbf{q})\n",
    "\\begin{bmatrix}\n",
    "    \\mbf{0} & 1\n",
    "\\end{bmatrix}\n",
    "$$\n",
    "\n",
    "1. Verify that\n",
    "\n",
    "\\begin{align}\n",
    "\\mbf{B} + \\mbf{C} \n",
    "&= \n",
    "\\begin{bmatrix}\n",
    "    \\mbf{I} & \\mbf{0} \\\\\n",
    "    \\mbf{q}'& 1\n",
    "\\end{bmatrix}\n",
    "\\begin{bmatrix}\n",
    "    \\mbf{A}_3 & \\mbf{0} \\\\\n",
    "    \\mbf{0}       & a_{44} - \\mbf{q}'\\mbf{A}_3\\mbf{q}\n",
    "\\end{bmatrix}\n",
    "\\begin{bmatrix}\n",
    "    \\mbf{I} & \\mbf{q} \\\\\n",
    "    \\mbf{0}& 1\n",
    "\\end{bmatrix} \\\\\n",
    "\\end{align}"
   ]
  },
  {
   "cell_type": "markdown",
   "metadata": {},
   "source": [
    "### Answer to 1."
   ]
  },
  {
   "cell_type": "code",
   "execution_count": 1,
   "metadata": {},
   "outputs": [
    {
     "data": {
      "text/plain": [
       "4×4 Array{Float64,2}:\n",
       " 1.0  0.0  0.5  0.5\n",
       " 0.0  1.0  0.5  0.5\n",
       " 0.5  0.5  1.0  0.5\n",
       " 0.5  0.5  0.5  0.5"
      ]
     },
     "execution_count": 1,
     "metadata": {},
     "output_type": "execute_result"
    }
   ],
   "source": [
    "using LinearAlgebra\n",
    "### function to easily get identity matrix\n",
    "function Ident(n)\n",
    "    Matrix{Float64}(I,n,n)\n",
    "end\n",
    "\n",
    "### A_2\n",
    "A2 = [1 0\n",
    "      0 1]\n",
    "q   = [0.5, 0.5]\n",
    "amf = A2[1,2]\n",
    "\n",
    "### A_3\n",
    "A3 = [A2    A2*q\n",
    "      q'A2  1 + 0.5amf ]\n",
    "\n",
    "q   = [0.5, 0.5, 0]\n",
    "amf = A3[1,2]\n",
    "\n",
    "### A_4\n",
    "A4 = [A3    A3*q\n",
    "      q'A3  1 + 0.5amf   ]\n",
    "\n",
    "### Computing B\n",
    "P = [I\n",
    "     q']\n",
    "B1 = P*A3*P'"
   ]
  },
  {
   "cell_type": "markdown",
   "metadata": {},
   "source": [
    "### Answer to 2."
   ]
  },
  {
   "cell_type": "code",
   "execution_count": 2,
   "metadata": {
    "scrolled": true
   },
   "outputs": [
    {
     "data": {
      "text/plain": [
       "4×4 Array{Float64,2}:\n",
       " 1.0  0.0  0.5  0.5\n",
       " 0.0  1.0  0.5  0.5\n",
       " 0.5  0.5  1.0  0.5\n",
       " 0.5  0.5  0.5  0.5"
      ]
     },
     "execution_count": 2,
     "metadata": {},
     "output_type": "execute_result"
    }
   ],
   "source": [
    "B2 = [A3     A3*q\n",
    "      q'A3 q'A3*q]"
   ]
  },
  {
   "cell_type": "code",
   "execution_count": 4,
   "metadata": {},
   "outputs": [
    {
     "data": {
      "text/plain": [
       "4×4 Array{Float64,2}:\n",
       " 0.0  0.0  0.0  0.0\n",
       " 0.0  0.0  0.0  0.0\n",
       " 0.0  0.0  0.0  0.0\n",
       " 0.0  0.0  0.0  0.0"
      ]
     },
     "execution_count": 4,
     "metadata": {},
     "output_type": "execute_result"
    }
   ],
   "source": [
    "B1 - B2"
   ]
  }
 ],
 "metadata": {
  "kernelspec": {
   "display_name": "Julia 1.1.0",
   "language": "julia",
   "name": "julia-1.1"
  },
  "language_info": {
   "file_extension": ".jl",
   "mimetype": "application/julia",
   "name": "julia",
   "version": "1.1.0"
  }
 },
 "nbformat": 4,
 "nbformat_minor": 2
}
