{
 "cells": [
  {
   "cell_type": "markdown",
   "metadata": {},
   "source": [
    "### Latex macros:\n",
    "$$\n",
    "\\newcommand{\\E}{\\text{E}}\n",
    "\\newcommand{\\mbf}{\\mathbf}\n",
    "\\newcommand{\\bs}{\\boldsymbol}\n",
    "\\newcommand{\\Var}{\\text{Var}}\n",
    "\\newcommand{\\Cov}{\\text{Cov}}\n",
    "\\newcommand{\\e}{\\frac{1}{\\sigma^2_e}}\n",
    "\\newcommand{\\f}{\\frac{1}{\\sigma^2_{\\alpha}}}\n",
    "$$"
   ]
  },
  {
   "cell_type": "markdown",
   "metadata": {},
   "source": [
    "The formula\n",
    "$$\n",
    "\\mbf{A}^{-1} = \n",
    "   \\begin{bmatrix}\n",
    "    \\mbf{A}_{11}^{-1} & \\mbf{0} \\\\\n",
    "    \\mbf{0}      & \\mbf{0}\n",
    "    \\end{bmatrix}\n",
    "+\n",
    "   \\begin{bmatrix}\n",
    "    \\mbf{q}\\mbf{q}' & -\\mbf{q} \\\\\n",
    "    -\\mbf{q}'       & 1\n",
    "    \\end{bmatrix}\\frac{1}{r}\n",
    "$$"
   ]
  },
  {
   "cell_type": "markdown",
   "metadata": {},
   "source": [
    "can also be used to compute $\\mbf{A}^{-1}$ iteratively by starting with $\\mbf{A}_{11} = a_{11}$ and expanding it one row and column at a time."
   ]
  },
  {
   "cell_type": "markdown",
   "metadata": {},
   "source": [
    "Consider, for example, the matrix:\n",
    "$$\n",
    "\\mathbf{A} = \n",
    "   \\begin{bmatrix}\n",
    "    2.0 & 0.5 & 0.2 \\\\\n",
    "    0.5 & 3.0 & 0.1 \\\\\n",
    "    0.2 & 0.1 & 4.0\n",
    "\\end{bmatrix}\n",
    "$$"
   ]
  },
  {
   "cell_type": "code",
   "execution_count": 11,
   "metadata": {},
   "outputs": [
    {
     "data": {
      "text/plain": [
       "3×3 Array{Float64,2}:\n",
       " 2.0  0.5  0.2\n",
       " 0.5  3.0  0.1\n",
       " 0.2  0.1  4.0"
      ]
     },
     "execution_count": 11,
     "metadata": {},
     "output_type": "execute_result"
    }
   ],
   "source": [
    "A = [2.0 0.5 0.2\n",
    "     0.5 3.0 0.1\n",
    "     0.2 0.1 4.0]"
   ]
  },
  {
   "cell_type": "code",
   "execution_count": 3,
   "metadata": {},
   "outputs": [
    {
     "data": {
      "text/plain": [
       "0.5"
      ]
     },
     "execution_count": 3,
     "metadata": {},
     "output_type": "execute_result"
    }
   ],
   "source": [
    "# Inverse of upper 1x1 matrix\n",
    "A11 = A[1,1]\n",
    "A11i = 1/A11"
   ]
  },
  {
   "cell_type": "code",
   "execution_count": 4,
   "metadata": {},
   "outputs": [
    {
     "data": {
      "text/plain": [
       "2×2 Array{Float64,2}:\n",
       "  0.521739   -0.0869565\n",
       " -0.0869565   0.347826 "
      ]
     },
     "execution_count": 4,
     "metadata": {},
     "output_type": "execute_result"
    }
   ],
   "source": [
    "# Inverse of upper 2x2 matrix\n",
    "A22 = A[2,2]\n",
    "A12 = A[1,2]\n",
    "\n",
    "q = A11i*A12\n",
    "r = A22 - A12'A11i*A12\n",
    "ri = 1/r\n",
    "Ai = [A11i .+ ri*q*q'    -q*ri\n",
    "      -q'*ri              ri]"
   ]
  },
  {
   "cell_type": "markdown",
   "metadata": {},
   "source": [
    "### Check with Julia inverse function  "
   ]
  },
  {
   "cell_type": "code",
   "execution_count": 5,
   "metadata": {},
   "outputs": [
    {
     "data": {
      "text/plain": [
       "2×2 Array{Float64,2}:\n",
       "  0.521739   -0.0869565\n",
       " -0.0869565   0.347826 "
      ]
     },
     "execution_count": 5,
     "metadata": {},
     "output_type": "execute_result"
    }
   ],
   "source": [
    "s=1:2\n",
    "inv(A[s,s])"
   ]
  },
  {
   "cell_type": "code",
   "execution_count": 6,
   "metadata": {},
   "outputs": [
    {
     "data": {
      "text/plain": [
       "3×3 Array{Float64,2}:\n",
       "  0.524038   -0.0865385   -0.0240385 \n",
       " -0.0865385   0.347902    -0.00437063\n",
       " -0.0240385  -0.00437063   0.251311  "
      ]
     },
     "execution_count": 6,
     "metadata": {},
     "output_type": "execute_result"
    }
   ],
   "source": [
    "# Inverse of upper 3x3 matrix\n",
    "s1 = 1:2\n",
    "s2 = 3\n",
    "A22 = A[s2,s2]\n",
    "A12 = A[s1,s2]\n",
    "A11i = Ai\n",
    "\n",
    "q = A11i*A12\n",
    "r = A22 - A12'A11i*A12\n",
    "ri = 1/r\n",
    "Ai = [A11i .+ ri*q*q'    -q*ri\n",
    "      -q'*ri              ri]"
   ]
  },
  {
   "cell_type": "markdown",
   "metadata": {},
   "source": [
    "### Check with Julia inverse function  "
   ]
  },
  {
   "cell_type": "code",
   "execution_count": 7,
   "metadata": {
    "scrolled": true
   },
   "outputs": [
    {
     "data": {
      "text/plain": [
       "3×3 Array{Float64,2}:\n",
       "  0.524038   -0.0865385   -0.0240385 \n",
       " -0.0865385   0.347902    -0.00437063\n",
       " -0.0240385  -0.00437063   0.251311  "
      ]
     },
     "execution_count": 7,
     "metadata": {},
     "output_type": "execute_result"
    }
   ],
   "source": [
    "s=1:3\n",
    "inv(A[s,s])"
   ]
  },
  {
   "cell_type": "markdown",
   "metadata": {},
   "source": [
    "## Exercise"
   ]
  },
  {
   "cell_type": "markdown",
   "metadata": {},
   "source": [
    "Write an iterative function in Julia to invert a symmetric positive definite matrix. Compare the speed of this function with that of the recursive function. "
   ]
  },
  {
   "cell_type": "code",
   "execution_count": 19,
   "metadata": {},
   "outputs": [],
   "source": [
    "n = 1000\n",
    "p = 1000\n",
    "M=rand(n,p)\n",
    "A=M'M;"
   ]
  },
  {
   "cell_type": "code",
   "execution_count": 30,
   "metadata": {},
   "outputs": [
    {
     "data": {
      "text/plain": [
       "invAME2 (generic function with 1 method)"
      ]
     },
     "execution_count": 30,
     "metadata": {},
     "output_type": "execute_result"
    }
   ],
   "source": [
    "# complete function\n",
    "function invAME(A)\n",
    "    return Ai\n",
    "end        "
   ]
  }
 ],
 "metadata": {
  "kernelspec": {
   "display_name": "Julia 1.1.0",
   "language": "julia",
   "name": "julia-1.1"
  },
  "language_info": {
   "file_extension": ".jl",
   "mimetype": "application/julia",
   "name": "julia",
   "version": "1.1.0"
  }
 },
 "nbformat": 4,
 "nbformat_minor": 2
}
