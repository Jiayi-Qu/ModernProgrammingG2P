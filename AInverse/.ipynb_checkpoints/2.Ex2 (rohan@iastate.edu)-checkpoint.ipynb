{
 "cells": [
  {
   "cell_type": "markdown",
   "metadata": {},
   "source": [
    "### Latex macros:\n",
    "$$\n",
    "\\newcommand{\\E}{\\text{E}}\n",
    "\\newcommand{\\mbf}{\\mathbf}\n",
    "\\newcommand{\\bs}{\\boldsymbol}\n",
    "\\newcommand{\\Var}{\\text{Var}}\n",
    "\\newcommand{\\Cov}{\\text{Cov}}\n",
    "\\newcommand{\\e}{\\frac{1}{\\sigma^2_e}}\n",
    "\\newcommand{\\f}{\\frac{1}{\\sigma^2_{\\alpha}}}\n",
    "$$"
   ]
  },
  {
   "cell_type": "markdown",
   "metadata": {},
   "source": [
    "The formula\n",
    "$$\n",
    "\\mbf{A}^{-1} = \n",
    "   \\begin{bmatrix}\n",
    "    \\mbf{A}_{11}^{-1} & \\mbf{0} \\\\\n",
    "    \\mbf{0}      & \\mbf{0}\n",
    "    \\end{bmatrix}\n",
    "+\n",
    "   \\begin{bmatrix}\n",
    "    \\mbf{q}\\mbf{q}' & -\\mbf{q} \\\\\n",
    "    -\\mbf{q}'       & 1\n",
    "    \\end{bmatrix}\\frac{1}{r}\n",
    "$$"
   ]
  },
  {
   "cell_type": "markdown",
   "metadata": {},
   "source": [
    "can also be used to compute $\\mbf{A}^{-1}$ iteratively by starting with $\\mbf{A}_{11} = a_{11}$ and expanding it one row and column at a time."
   ]
  },
  {
   "cell_type": "markdown",
   "metadata": {},
   "source": [
    "Consider, for example, the matrix:\n",
    "$$\n",
    "\\mathbf{A} = \n",
    "   \\begin{bmatrix}\n",
    "    2.0 & 0.5 & 0.2 \\\\\n",
    "    0.5 & 3.0 & 0.1 \\\\\n",
    "    0.2 & 0.1 & 4.0\n",
    "\\end{bmatrix}\n",
    "$$"
   ]
  },
  {
   "cell_type": "code",
   "execution_count": 11,
   "metadata": {},
   "outputs": [
    {
     "data": {
      "text/plain": [
       "3×3 Array{Float64,2}:\n",
       " 2.0  0.5  0.2\n",
       " 0.5  3.0  0.1\n",
       " 0.2  0.1  4.0"
      ]
     },
     "execution_count": 11,
     "metadata": {},
     "output_type": "execute_result"
    }
   ],
   "source": [
    "A = [2.0 0.5 0.2\n",
    "     0.5 3.0 0.1\n",
    "     0.2 0.1 4.0]"
   ]
  },
  {
   "cell_type": "code",
   "execution_count": 3,
   "metadata": {},
   "outputs": [
    {
     "data": {
      "text/plain": [
       "0.5"
      ]
     },
     "execution_count": 3,
     "metadata": {},
     "output_type": "execute_result"
    }
   ],
   "source": [
    "# Inverse of upper 1x1 matrix\n",
    "A11 = A[1,1]\n",
    "A11i = 1/A11"
   ]
  },
  {
   "cell_type": "code",
   "execution_count": 4,
   "metadata": {},
   "outputs": [
    {
     "data": {
      "text/plain": [
       "2×2 Array{Float64,2}:\n",
       "  0.521739   -0.0869565\n",
       " -0.0869565   0.347826 "
      ]
     },
     "execution_count": 4,
     "metadata": {},
     "output_type": "execute_result"
    }
   ],
   "source": [
    "# Inverse of upper 2x2 matrix\n",
    "A22 = A[2,2]\n",
    "A12 = A[1,2]\n",
    "\n",
    "q = A11i*A12\n",
    "r = A22 - A12'A11i*A12\n",
    "ri = 1/r\n",
    "Ai = [A11i .+ ri*q*q'    -q*ri\n",
    "      -q'*ri              ri]"
   ]
  },
  {
   "cell_type": "markdown",
   "metadata": {},
   "source": [
    "### Check with Julia inverse function  "
   ]
  },
  {
   "cell_type": "code",
   "execution_count": 5,
   "metadata": {},
   "outputs": [
    {
     "data": {
      "text/plain": [
       "2×2 Array{Float64,2}:\n",
       "  0.521739   -0.0869565\n",
       " -0.0869565   0.347826 "
      ]
     },
     "execution_count": 5,
     "metadata": {},
     "output_type": "execute_result"
    }
   ],
   "source": [
    "s=1:2\n",
    "inv(A[s,s])"
   ]
  },
  {
   "cell_type": "code",
   "execution_count": 6,
   "metadata": {},
   "outputs": [
    {
     "data": {
      "text/plain": [
       "3×3 Array{Float64,2}:\n",
       "  0.524038   -0.0865385   -0.0240385 \n",
       " -0.0865385   0.347902    -0.00437063\n",
       " -0.0240385  -0.00437063   0.251311  "
      ]
     },
     "execution_count": 6,
     "metadata": {},
     "output_type": "execute_result"
    }
   ],
   "source": [
    "# Inverse of upper 3x3 matrix\n",
    "s1 = 1:2\n",
    "s2 = 3\n",
    "A22 = A[s2,s2]\n",
    "A12 = A[s1,s2]\n",
    "A11i = Ai\n",
    "\n",
    "q = A11i*A12\n",
    "r = A22 - A12'A11i*A12\n",
    "ri = 1/r\n",
    "Ai = [A11i .+ ri*q*q'    -q*ri\n",
    "      -q'*ri              ri]"
   ]
  },
  {
   "cell_type": "markdown",
   "metadata": {},
   "source": [
    "### Check with Julia inverse function  "
   ]
  },
  {
   "cell_type": "code",
   "execution_count": 7,
   "metadata": {
    "scrolled": true
   },
   "outputs": [
    {
     "data": {
      "text/plain": [
       "3×3 Array{Float64,2}:\n",
       "  0.524038   -0.0865385   -0.0240385 \n",
       " -0.0865385   0.347902    -0.00437063\n",
       " -0.0240385  -0.00437063   0.251311  "
      ]
     },
     "execution_count": 7,
     "metadata": {},
     "output_type": "execute_result"
    }
   ],
   "source": [
    "s=1:3\n",
    "inv(A[s,s])"
   ]
  },
  {
   "cell_type": "markdown",
   "metadata": {},
   "source": [
    "## Exercise"
   ]
  },
  {
   "cell_type": "markdown",
   "metadata": {},
   "source": [
    "Write an iterative function in Julia to invert a symmetric positive definite matrix. Compare the speed of this function with that of the recursive function. "
   ]
  },
  {
   "cell_type": "code",
   "execution_count": 1,
   "metadata": {},
   "outputs": [],
   "source": [
    "n = 1000\n",
    "p = 1000\n",
    "M=rand(n,p)\n",
    "A=M'M;"
   ]
  },
  {
   "cell_type": "code",
   "execution_count": 2,
   "metadata": {},
   "outputs": [
    {
     "data": {
      "text/plain": [
       "invA (generic function with 1 method)"
      ]
     },
     "execution_count": 2,
     "metadata": {},
     "output_type": "execute_result"
    }
   ],
   "source": [
    "function invA(A)\n",
    "    n  = size(A,1)\n",
    "    if n==1\n",
    "        return 1/A[1,1]\n",
    "    else\n",
    "        Ai = zeros(n,n) # inverse of A\n",
    "        s1 = 1:n-1\n",
    "        s2 = n\n",
    "        A11 = A[s1,s1]\n",
    "        A11i = invA(A11)\n",
    "        A12 = A[s1,s2]\n",
    "        A22 = A[s2,s2]\n",
    "        q = A11i*A12\n",
    "        r = A22 - q'A11*q\n",
    "        ri = 1/r\n",
    "        Ai = [A11i .+ ri*q*q'    -q*ri\n",
    "              -q'*ri              ri]\n",
    "        return Ai\n",
    "   end\n",
    "end"
   ]
  },
  {
   "cell_type": "code",
   "execution_count": 3,
   "metadata": {},
   "outputs": [
    {
     "data": {
      "text/plain": [
       "invAiter (generic function with 1 method)"
      ]
     },
     "execution_count": 3,
     "metadata": {},
     "output_type": "execute_result"
    }
   ],
   "source": [
    "function invAiter(A)\n",
    "    n = size(A,1)\n",
    "    Ai = 1.0/A[1,1]\n",
    "    for i=2:n\n",
    "        A11i = Ai   \n",
    "        s1 = 1:i-1\n",
    "        s2 = i \n",
    "        A11 = A[s1,s1]   \n",
    "        A12 = A[s1,s2]\n",
    "        A22 = A[s2,s2]\n",
    "        L = A11i*A12\n",
    "        R = A22 - L'A11*L\n",
    "        Ri = 1/R[1,1]\n",
    "        Ai = [A11i  .+ (Ri.* L*L')  -Ri.*L\n",
    "              -Ri.*L'                Ri.*1]\n",
    "    end\n",
    "    return Ai\n",
    "end     "
   ]
  },
  {
   "cell_type": "code",
   "execution_count": 4,
   "metadata": {},
   "outputs": [
    {
     "data": {
      "text/plain": [
       "invAME (generic function with 1 method)"
      ]
     },
     "execution_count": 4,
     "metadata": {},
     "output_type": "execute_result"
    }
   ],
   "source": [
    "# complete function\n",
    "function invAME(A)\n",
    "    n = size(A,1)\n",
    "    Ai = zeros(n,n)\n",
    "    Ai[1,1] = 1.0/A[1,1]\n",
    "    for i=2:n   \n",
    "        s1 = 1:i-1\n",
    "        s2 = i \n",
    "        A12 = A[s1,s2]\n",
    "        A22 = A[s2,s2]\n",
    "        L = Ai[s1,s1]*A12\n",
    "        R = A22 - A12'Ai[s1,s1]*A12\n",
    "        Ri = 1/R[1,1]\n",
    "        Ai[s1,s1] += (Ri.* L*L')\n",
    "        Ai[s1,s2] = -Ri.*L\n",
    "        Ai[s2,s1] = -Ri.*L' \n",
    "        Ai[s2,s2] =  Ri.*1\n",
    "    end\n",
    "    return Ai\n",
    "end                    "
   ]
  },
  {
   "cell_type": "code",
   "execution_count": null,
   "metadata": {},
   "outputs": [],
   "source": [
    "@time invA(A);"
   ]
  },
  {
   "cell_type": "code",
   "execution_count": null,
   "metadata": {},
   "outputs": [],
   "source": [
    "@time invAiter(A);"
   ]
  },
  {
   "cell_type": "code",
   "execution_count": null,
   "metadata": {},
   "outputs": [],
   "source": [
    "@time invAME(A);"
   ]
  },
  {
   "cell_type": "code",
   "execution_count": null,
   "metadata": {},
   "outputs": [],
   "source": [
    "@time inv(A);"
   ]
  },
  {
   "cell_type": "code",
   "execution_count": null,
   "metadata": {},
   "outputs": [],
   "source": []
  }
 ],
 "metadata": {
  "kernelspec": {
   "display_name": "Julia 1.1.0",
   "language": "julia",
   "name": "julia-1.1"
  },
  "language_info": {
   "file_extension": ".jl",
   "mimetype": "application/julia",
   "name": "julia",
   "version": "1.1.0"
  }
 },
 "nbformat": 4,
 "nbformat_minor": 2
}
