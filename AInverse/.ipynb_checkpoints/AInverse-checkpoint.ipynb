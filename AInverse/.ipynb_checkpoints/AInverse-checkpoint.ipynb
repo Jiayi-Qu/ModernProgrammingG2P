{
 "cells": [
  {
   "cell_type": "markdown",
   "metadata": {
    "slideshow": {
     "slide_type": "slide"
    }
   },
   "source": [
    "# Algorithm to Invert Additive Relationship Matrix"
   ]
  },
  {
   "cell_type": "markdown",
   "metadata": {
    "slideshow": {
     "slide_type": "slide"
    }
   },
   "source": [
    "## Additive Relationship Matrix: $\\mathbf{A}$\n",
    "\n",
    "- $a_{ij}$ is two times the kinship probability ($F_{ij}$), which is the probability that randomly sampled homologous alleles from $i$ and $j$ are IBD"
   ]
  },
  {
   "cell_type": "markdown",
   "metadata": {
    "slideshow": {
     "slide_type": "fragment"
    }
   },
   "source": [
    "- Homologous alleles are IBD if they can be traced to the same ancestral allele in a founder"
   ]
  },
  {
   "cell_type": "markdown",
   "metadata": {
    "slideshow": {
     "slide_type": "fragment"
    }
   },
   "source": [
    "- Thus, two different alleles in founders are not IBD"
   ]
  },
  {
   "cell_type": "markdown",
   "metadata": {
    "slideshow": {
     "slide_type": "fragment"
    }
   },
   "source": [
    "- Homologous alleles are randomly inherited one from each of the parents $m_i$ and $f_i$ of $i$"
   ]
  },
  {
   "cell_type": "markdown",
   "metadata": {
    "slideshow": {
     "slide_type": "fragment"
    }
   },
   "source": [
    "- If $j$ is not a descendant of $i$, the genetic relationship of $j$ with $i$ is entirely through the parents of $i$"
   ]
  },
  {
   "cell_type": "markdown",
   "metadata": {
    "slideshow": {
     "slide_type": "subslide"
    }
   },
   "source": [
    "## Recursive formula:\n",
    "\n",
    "$$\n",
    "F_{ij} = \\frac{1}{2}(F_{jm_i} + F_{jf_i})\n",
    "$$\n",
    "\n",
    "and \n",
    "\n",
    "$$\n",
    "F_{ii} = \\frac{1}{2}(1 + F_{m_if_i})\n",
    "$$"
   ]
  },
  {
   "cell_type": "markdown",
   "metadata": {
    "slideshow": {
     "slide_type": "fragment"
    }
   },
   "source": [
    "Similarly,\n",
    "\n",
    "$$\n",
    "a_{ij} = \\frac{1}{2}(a_{jm_i} + a_{jf_i})\n",
    "$$\n",
    "\n",
    "and \n",
    "\n",
    "$$\n",
    "a_{ii} = \\frac{1}{2}(2 + a_{m_if_i})\n",
    "$$"
   ]
  },
  {
   "cell_type": "markdown",
   "metadata": {
    "slideshow": {
     "slide_type": "slide"
    }
   },
   "source": [
    "## Tabular Method to Compute $\\mathbf{A}$ \n",
    "\n",
    "- Number individuals such that parents precede offspring"
   ]
  },
  {
   "cell_type": "markdown",
   "metadata": {
    "slideshow": {
     "slide_type": "fragment"
    }
   },
   "source": [
    "- For founders, enter 1 on diagonal and 0 on off-diagonals"
   ]
  },
  {
   "cell_type": "markdown",
   "metadata": {
    "slideshow": {
     "slide_type": "fragment"
    }
   },
   "source": [
    "- For non-founder $i$ calculate row elements 1 to $i-1$ as the average of the parental row elements"
   ]
  },
  {
   "cell_type": "markdown",
   "metadata": {
    "slideshow": {
     "slide_type": "fragment"
    }
   },
   "source": [
    "- Set diagonal element $i$ to $\\frac{1}{2}(2 + a_{m_if_i})$"
   ]
  },
  {
   "cell_type": "markdown",
   "metadata": {
    "slideshow": {
     "slide_type": "fragment"
    }
   },
   "source": [
    "- Fill columns by symmetry."
   ]
  },
  {
   "cell_type": "markdown",
   "metadata": {
    "slideshow": {
     "slide_type": "subslide"
    }
   },
   "source": [
    "## Tabular method in matrix  notation"
   ]
  },
  {
   "cell_type": "code",
   "execution_count": 5,
   "metadata": {
    "slideshow": {
     "slide_type": "skip"
    }
   },
   "outputs": [
    {
     "data": {
      "text/plain": [
       "Ident (generic function with 1 method)"
      ]
     },
     "execution_count": 5,
     "metadata": {},
     "output_type": "execute_result"
    }
   ],
   "source": [
    "using LinearAlgebra\n",
    "function Ident(n)\n",
    "    Matrix{Float64}(I,n,n)\n",
    "end"
   ]
  },
  {
   "cell_type": "markdown",
   "metadata": {
    "slideshow": {
     "slide_type": "fragment"
    }
   },
   "source": [
    "$$\n",
    "\\begin{align}\n",
    "\\mathbf{A}_i &= \n",
    "\\begin{bmatrix}\n",
    "    \\mathbf{A}_{i-1}           & \\mathbf{A}_{i-1}\\mathbf{q}_i \\\\\n",
    "    \\mathbf{q}'_i\\mathbf{A}_{i-1} & \\frac{1}{2}(2 + a_{m_if_i})\n",
    "\\end{bmatrix}\\\\\n",
    "&= \n",
    "\\begin{bmatrix}\n",
    "    \\mathbf{I} & \\mathbf{0} \\\\\n",
    "    \\mathbf{q}'_i& 1\n",
    "\\end{bmatrix}\n",
    "\\begin{bmatrix}\n",
    "    \\mathbf{A}_{i-1} & \\mathbf{0} \\\\\n",
    "    \\mathbf{0}       & a_{ii} - \\mathbf{q}'_i\\mathbf{A}_{i-1}\\mathbf{q}_i\n",
    "\\end{bmatrix}\n",
    "\\begin{bmatrix}\n",
    "    \\mathbf{I} & \\mathbf{q}_i \\\\\n",
    "    \\mathbf{0}& 1\n",
    "\\end{bmatrix} \\\\\n",
    "&=\n",
    "\\mathbf{LDL}'\n",
    "\\end{align}\n",
    "$$"
   ]
  },
  {
   "cell_type": "markdown",
   "metadata": {
    "slideshow": {
     "slide_type": "fragment"
    }
   },
   "source": [
    "where $a_{ii} = \\frac{1}{2}(2 + a_{m_if_i})=1 + \\frac{a_{m_if_i}}{2}$, and $\\mathbf{q}_i$ has only two non-zero elements that are equal to 0.5 at positions corresponding to $m_i$ and $f_i$."
   ]
  },
  {
   "cell_type": "markdown",
   "metadata": {
    "slideshow": {
     "slide_type": "slide"
    }
   },
   "source": [
    "## Numerical Example"
   ]
  },
  {
   "cell_type": "markdown",
   "metadata": {
    "slideshow": {
     "slide_type": "fragment"
    }
   },
   "source": [
    "Pedigree:\n",
    "\n",
    "$$\n",
    "\\begin{matrix}\n",
    "i & f & m\\\\\n",
    "1 & 0 & 0\\\\\n",
    "2 & 0 & 0\\\\\n",
    "3 & 1 & 2\\\\\n",
    "4 & 1 & 2\\\\\n",
    "5 & 3 & 4\n",
    "\\end{matrix}\n",
    "$$"
   ]
  },
  {
   "cell_type": "code",
   "execution_count": 7,
   "metadata": {
    "slideshow": {
     "slide_type": "fragment"
    }
   },
   "outputs": [
    {
     "data": {
      "text/plain": [
       "2×2 Array{Int64,2}:\n",
       " 1  0\n",
       " 0  1"
      ]
     },
     "execution_count": 7,
     "metadata": {},
     "output_type": "execute_result"
    }
   ],
   "source": [
    "A2 = [1 0\n",
    "      0 1]"
   ]
  },
  {
   "cell_type": "code",
   "execution_count": 8,
   "metadata": {
    "slideshow": {
     "slide_type": "fragment"
    }
   },
   "outputs": [
    {
     "data": {
      "text/plain": [
       "2-element Array{Float64,1}:\n",
       " 0.5\n",
       " 0.5"
      ]
     },
     "execution_count": 8,
     "metadata": {},
     "output_type": "execute_result"
    }
   ],
   "source": [
    "q   = [0.5, 0.5]"
   ]
  },
  {
   "cell_type": "code",
   "execution_count": 9,
   "metadata": {},
   "outputs": [
    {
     "data": {
      "text/plain": [
       "1×2 Adjoint{Float64,Array{Float64,1}}:\n",
       " 0.5  0.5"
      ]
     },
     "execution_count": 9,
     "metadata": {},
     "output_type": "execute_result"
    }
   ],
   "source": [
    "q'A2"
   ]
  },
  {
   "cell_type": "code",
   "execution_count": 10,
   "metadata": {
    "slideshow": {
     "slide_type": "fragment"
    }
   },
   "outputs": [
    {
     "data": {
      "text/plain": [
       "3×3 Array{Float64,2}:\n",
       " 1.0  0.0  0.5\n",
       " 0.0  1.0  0.5\n",
       " 0.5  0.5  1.0"
      ]
     },
     "execution_count": 10,
     "metadata": {},
     "output_type": "execute_result"
    }
   ],
   "source": [
    "amf = A2[1,2]\n",
    "A3 = [A2    A2*q\n",
    "      q'A2  1 + 0.5amf   ]"
   ]
  },
  {
   "cell_type": "code",
   "execution_count": 11,
   "metadata": {
    "slideshow": {
     "slide_type": "subslide"
    }
   },
   "outputs": [
    {
     "data": {
      "text/plain": [
       "4×4 Array{Float64,2}:\n",
       " 1.0  0.0  0.5  0.5\n",
       " 0.0  1.0  0.5  0.5\n",
       " 0.5  0.5  1.0  0.5\n",
       " 0.5  0.5  0.5  1.0"
      ]
     },
     "execution_count": 11,
     "metadata": {},
     "output_type": "execute_result"
    }
   ],
   "source": [
    "q   = [0.5, 0.5, 0]\n",
    "amf = A3[1,2]\n",
    "A4 = [A3    A3*q\n",
    "      q'A3  1 + 0.5amf   ]"
   ]
  },
  {
   "cell_type": "code",
   "execution_count": 12,
   "metadata": {
    "slideshow": {
     "slide_type": "fragment"
    }
   },
   "outputs": [
    {
     "data": {
      "text/plain": [
       "5×5 Array{Float64,2}:\n",
       " 1.0  0.0  0.5   0.5   0.5 \n",
       " 0.0  1.0  0.5   0.5   0.5 \n",
       " 0.5  0.5  1.0   0.5   0.75\n",
       " 0.5  0.5  0.5   1.0   0.75\n",
       " 0.5  0.5  0.75  0.75  1.25"
      ]
     },
     "execution_count": 12,
     "metadata": {},
     "output_type": "execute_result"
    }
   ],
   "source": [
    "q   = [0, 0, 0.5, 0.5]\n",
    "amf = A4[3,4]\n",
    "A5 = [A4    A4*q\n",
    "      q'A4  1 + 0.5amf   ]\n",
    "A = A5"
   ]
  },
  {
   "cell_type": "markdown",
   "metadata": {
    "slideshow": {
     "slide_type": "fragment"
    }
   },
   "source": [
    "[Exercise](2.Ex1.ipynb)"
   ]
  },
  {
   "cell_type": "markdown",
   "metadata": {
    "slideshow": {
     "slide_type": "slide"
    }
   },
   "source": [
    "## Inverse of $\\mathbf{A}_i$\n",
    "We have seen that $\\mathbf{A}_i$ can be written as:\n",
    "$$\n",
    "\\mathbf{A}_i = \\mathbf{LDL}'\n",
    "$$"
   ]
  },
  {
   "cell_type": "markdown",
   "metadata": {
    "slideshow": {
     "slide_type": "fragment"
    }
   },
   "source": [
    "So,\n",
    "$$\n",
    "\\mathbf{A}_i^{-1} = (\\mathbf{L}')^{-1}\\mathbf{D}^{-1}\\mathbf{L}^{-1}\n",
    "$$"
   ]
  },
  {
   "cell_type": "markdown",
   "metadata": {
    "slideshow": {
     "slide_type": "fragment"
    }
   },
   "source": [
    "$$\n",
    "\\begin{align}\n",
    "(\\mathbf{L}')^{-1}\\mathbf{D}^{-1}\\mathbf{L}^{-1}\n",
    "&= \n",
    "\\begin{bmatrix}\n",
    "    \\mathbf{I} & -\\mathbf{q}_i \\\\\n",
    "    \\mathbf{0} & 1\n",
    "\\end{bmatrix}\n",
    "\\begin{bmatrix}\n",
    "    \\mathbf{A}_{i-1}^{-1} & \\mathbf{0} \\\\\n",
    "    \\mathbf{0}       & (a_{ii} - \\mathbf{q}'_i\\mathbf{A}_{i-1}\\mathbf{q}_i)^{-1}\n",
    "\\end{bmatrix}\n",
    "\\begin{bmatrix}\n",
    "    \\mathbf{I}  & \\mathbf{0} \\\\\n",
    "    -\\mathbf{q}'_i & 1\n",
    "\\end{bmatrix} \\\\\n",
    "&=\n",
    "   \\begin{bmatrix}\n",
    "    \\mathbf{A}_{i-1}^{-1} & \\mathbf{0} \\\\\n",
    "    \\mathbf{0}      & \\mathbf{0}\n",
    "    \\end{bmatrix}\n",
    "+\n",
    "    \\begin{bmatrix}\n",
    "     -\\mathbf{q}_i\\\\\n",
    "          1\n",
    "    \\end{bmatrix}\n",
    "    a^{ii}\n",
    "    \\begin{bmatrix}\n",
    "     -\\mathbf{q}'_i & 1\n",
    "    \\end{bmatrix}\n",
    "\\end{align}\n",
    "$$"
   ]
  },
  {
   "cell_type": "markdown",
   "metadata": {
    "slideshow": {
     "slide_type": "fragment"
    }
   },
   "source": [
    "where $a^{ii}= (a_{ii} - \\mathbf{q}'_i\\mathbf{A}_{i-1}\\mathbf{q}_i)^{-1}$. As shown below, this can be computed without computing $\\mathbf{A}_{i-1}$, which can be a large dense matrix. "
   ]
  },
  {
   "cell_type": "markdown",
   "metadata": {
    "slideshow": {
     "slide_type": "subslide"
    }
   },
   "source": [
    "## Calculation of $a^{ii}$\n",
    "\n",
    "When both parents are known, $\\mathbf{q}'_i\\mathbf{A}_{i-1}\\mathbf{q}_i = \\frac{1}{4}(a_{m_im_i} + a_{f_if_i} + 2a_{m_if_i})$,\n",
    "and because $a_{ii} = 1 + \\frac{1}{2}a_{m_if_i}$, "
   ]
  },
  {
   "cell_type": "markdown",
   "metadata": {},
   "source": [
    "$$\n",
    "\\begin{align}\n",
    "a^{ii} &= [1 - \\frac{1}{4}(a_{m_im_i} + a_{f_if_i})]^{-1} \\\\\n",
    "       &= (\\frac{1}{2} - \\frac{1}{4}f_m - \\frac{1}{4}f_f)^{-1}\\\\\n",
    "       &= [\\frac{1}{4}(2 - f_m - f_f)]^{-1}\\\\\n",
    "       &= \\frac{4}{2 - f_m - f_f},\n",
    "\\end{align} \n",
    "$$"
   ]
  },
  {
   "cell_type": "markdown",
   "metadata": {},
   "source": [
    "where $f_m$ and $f_f$ are the inbreeding values of the parents $m$ and $f$ of $i$."
   ]
  },
  {
   "cell_type": "markdown",
   "metadata": {
    "slideshow": {
     "slide_type": "subslide"
    }
   },
   "source": [
    "## Algorithm\n",
    "\n",
    "- Set $\\mathbf{A}^{-1} = \\mathbf{0}$"
   ]
  },
  {
   "cell_type": "markdown",
   "metadata": {
    "slideshow": {
     "slide_type": "fragment"
    }
   },
   "source": [
    "- Compute $a^{ii}$ for all animals"
   ]
  },
  {
   "cell_type": "markdown",
   "metadata": {
    "slideshow": {
     "slide_type": "fragment"
    }
   },
   "source": [
    "- For each animal add to $\\mathbf{A}^{-1}$\n",
    "\n",
    "   - $a^{ii}$ to (i,i)\n",
    "   - -1/2$a^{ii}$ to $(i,f_i)$, $(f_i,i)$,$(i,m_i)$,$(m_i,i)$\n",
    "   - 1/4$a^{ii}$ to $(f_i,f_i)$, $(f_i,m_i)$,$(m_i,f_i)$,$(m_i,m_i)$"
   ]
  },
  {
   "cell_type": "markdown",
   "metadata": {
    "slideshow": {
     "slide_type": "subslide"
    }
   },
   "source": [
    "## Numerical Example"
   ]
  },
  {
   "cell_type": "code",
   "execution_count": 3,
   "metadata": {
    "slideshow": {
     "slide_type": "fragment"
    }
   },
   "outputs": [
    {
     "data": {
      "text/plain": [
       "2×2 Array{Float64,2}:\n",
       " 1.0  0.0\n",
       " 0.0  1.0"
      ]
     },
     "execution_count": 3,
     "metadata": {},
     "output_type": "execute_result"
    }
   ],
   "source": [
    "using LinearAlgebra\n",
    "A2i = Ident(2)"
   ]
  },
  {
   "cell_type": "code",
   "execution_count": 13,
   "metadata": {
    "scrolled": true,
    "slideshow": {
     "slide_type": "fragment"
    }
   },
   "outputs": [
    {
     "data": {
      "text/plain": [
       "3×3 Array{Float64,2}:\n",
       "  1.5   0.5  -1.0\n",
       "  0.5   1.5  -1.0\n",
       " -1.0  -1.0   2.0"
      ]
     },
     "execution_count": 13,
     "metadata": {},
     "output_type": "execute_result"
    }
   ],
   "source": [
    "q = [0.5, 0.5]\n",
    "a33i = 1/(A[3,3] - q'A2*q)\n",
    "A3i  = [A2i zero(q)\n",
    "        zero(q')   0] + [-q; 1]*[-q' 1].*a33i"
   ]
  },
  {
   "cell_type": "code",
   "execution_count": 14,
   "metadata": {
    "slideshow": {
     "slide_type": "fragment"
    }
   },
   "outputs": [
    {
     "data": {
      "text/plain": [
       "3×3 Array{Float64,2}:\n",
       "  1.5   0.5  -1.0\n",
       "  0.5   1.5  -1.0\n",
       " -1.0  -1.0   2.0"
      ]
     },
     "execution_count": 14,
     "metadata": {},
     "output_type": "execute_result"
    }
   ],
   "source": [
    "inv(A[1:3,1:3])"
   ]
  },
  {
   "cell_type": "code",
   "execution_count": 15,
   "metadata": {
    "slideshow": {
     "slide_type": "subslide"
    }
   },
   "outputs": [
    {
     "data": {
      "text/plain": [
       "4×4 Array{Float64,2}:\n",
       "  2.0   1.0  -1.0  -1.0\n",
       "  1.0   2.0  -1.0  -1.0\n",
       " -1.0  -1.0   2.0   0.0\n",
       " -1.0  -1.0   0.0   2.0"
      ]
     },
     "execution_count": 15,
     "metadata": {},
     "output_type": "execute_result"
    }
   ],
   "source": [
    "q    = [0.5, 0.5, 0]\n",
    "a44i = 1/(A[4,4] - q'A3*q)\n",
    "A4i  = [A3i zero(q)\n",
    "        zero(q')   0] + [-q; 1]*[-q' 1].*a44i"
   ]
  },
  {
   "cell_type": "code",
   "execution_count": 16,
   "metadata": {
    "slideshow": {
     "slide_type": "fragment"
    }
   },
   "outputs": [
    {
     "data": {
      "text/plain": [
       "4×4 Array{Float64,2}:\n",
       "  2.0   1.0  -1.0  -1.0\n",
       "  1.0   2.0  -1.0  -1.0\n",
       " -1.0  -1.0   2.0  -0.0\n",
       " -1.0  -1.0   0.0   2.0"
      ]
     },
     "execution_count": 16,
     "metadata": {},
     "output_type": "execute_result"
    }
   ],
   "source": [
    "inv(A[1:4,1:4])"
   ]
  },
  {
   "cell_type": "code",
   "execution_count": 17,
   "metadata": {
    "slideshow": {
     "slide_type": "subslide"
    }
   },
   "outputs": [
    {
     "data": {
      "text/plain": [
       "5×5 Array{Float64,2}:\n",
       "  0.0   0.0   0.0    0.0   -0.0\n",
       "  0.0   0.0   0.0    0.0   -0.0\n",
       "  0.0   0.0   0.25   0.25  -0.5\n",
       "  0.0   0.0   0.25   0.25  -0.5\n",
       " -0.0  -0.0  -0.5   -0.5    1.0"
      ]
     },
     "execution_count": 17,
     "metadata": {},
     "output_type": "execute_result"
    }
   ],
   "source": [
    "q    = [0, 0, 0.5, 0.5]\n",
    "[-q; 1]*[-q' 1]\n"
   ]
  },
  {
   "cell_type": "code",
   "execution_count": 18,
   "metadata": {
    "scrolled": true,
    "slideshow": {
     "slide_type": "fragment"
    }
   },
   "outputs": [
    {
     "data": {
      "text/plain": [
       "5×5 Array{Float64,2}:\n",
       "  2.0   1.0  -1.0  -1.0   0.0\n",
       "  1.0   2.0  -1.0  -1.0   0.0\n",
       " -1.0  -1.0   2.5   0.5  -1.0\n",
       " -1.0  -1.0   0.5   2.5  -1.0\n",
       "  0.0   0.0  -1.0  -1.0   2.0"
      ]
     },
     "execution_count": 18,
     "metadata": {},
     "output_type": "execute_result"
    }
   ],
   "source": [
    "a55i = 1/(A[5,5] - q'A4*q)\n",
    "A5i  = [A4i zero(q)\n",
    "        zero(q')   0] + [-q; 1]*[-q' 1].*a55i"
   ]
  },
  {
   "cell_type": "code",
   "execution_count": 19,
   "metadata": {
    "slideshow": {
     "slide_type": "fragment"
    }
   },
   "outputs": [
    {
     "data": {
      "text/plain": [
       "5×5 Array{Float64,2}:\n",
       "  2.0   1.0  -1.0  -1.0  -0.0\n",
       "  1.0   2.0  -1.0  -1.0  -0.0\n",
       " -1.0  -1.0   2.5   0.5  -1.0\n",
       " -1.0  -1.0   0.5   2.5  -1.0\n",
       "  0.0   0.0  -1.0  -1.0   2.0"
      ]
     },
     "execution_count": 19,
     "metadata": {},
     "output_type": "execute_result"
    }
   ],
   "source": [
    "inv(A)"
   ]
  },
  {
   "cell_type": "markdown",
   "metadata": {
    "slideshow": {
     "slide_type": "slide"
    }
   },
   "source": [
    "## Inverse of any positive definite symmetric $\\mathbf{A}$"
   ]
  },
  {
   "cell_type": "markdown",
   "metadata": {
    "slideshow": {
     "slide_type": "fragment"
    }
   },
   "source": [
    "$\\mathbf{A}$ is an $n\\times n$ positive definite matrix that is partitioned as\n",
    "\n",
    "$$\n",
    "\\begin{align*}\n",
    "    \\begin{bmatrix}\n",
    "    \\mathbf{A}_{11} & \\mathbf{a}_{12} \\\\\n",
    "    \\mathbf{a}_{21} & \\mathbf{a}_{22}\n",
    "    \\end{bmatrix}\n",
    "    &= \\begin{bmatrix}\n",
    "    \\mathbf{A}_{11}         & \\mathbf{A}_{11}\\mathbf{q} \\\\\n",
    "    \\mathbf{q}'\\mathbf{A}_{11} & \\mathbf{q}'\\mathbf{A}_{11}\\mathbf{q} + \\mathbf{r} \n",
    "      \\end{bmatrix}\\\\\n",
    "\\end{align*}\n",
    "$$\n",
    "\n",
    "where $\\mathbf{A}_{11}$ is $n-1\\times n-1$, $\\mathbf{a}_{12}$ is $n-1\\times 1$ and $\\mathbf{a}_{22}$ is $1\\times 1$."
   ]
  },
  {
   "cell_type": "markdown",
   "metadata": {
    "slideshow": {
     "slide_type": "fragment"
    }
   },
   "source": [
    "So, \n",
    "\n",
    "$$\n",
    "\\mathbf{q} = \\mathbf{A}_{11}^{-1}\\mathbf{a}_{12},\n",
    "$$\n",
    "\n",
    "$$\n",
    "r = a_{22} - \\mathbf{q}'\\mathbf{A}_{11}\\mathbf{q}\n",
    "$$"
   ]
  },
  {
   "cell_type": "markdown",
   "metadata": {
    "slideshow": {
     "slide_type": "subslide"
    }
   },
   "source": [
    "and \n",
    "- if $n=1$\n",
    "\n",
    "$$\n",
    "\\mathbf{A}^{-1} = \\frac{1}{\\mathbf{A}}\n",
    "$$\n",
    "\n",
    "- else:\n",
    "\n",
    "$$\n",
    "\\mathbf{A}^{-1} = \n",
    "   \\begin{bmatrix}\n",
    "    \\mathbf{A}_{11}^{-1} & \\mathbf{0} \\\\\n",
    "    \\mathbf{0}      & \\mathbf{0}\n",
    "    \\end{bmatrix}\n",
    "+\n",
    "   \\begin{bmatrix}\n",
    "    \\mathbf{q}\\mathbf{q}' & -\\mathbf{q} \\\\\n",
    "    -\\mathbf{q}'       & 1\n",
    "    \\end{bmatrix}\\frac{1}{r}\n",
    "$$"
   ]
  },
  {
   "cell_type": "markdown",
   "metadata": {
    "slideshow": {
     "slide_type": "subslide"
    }
   },
   "source": [
    "## Recursive function for inverse"
   ]
  },
  {
   "cell_type": "code",
   "execution_count": 21,
   "metadata": {
    "scrolled": true,
    "slideshow": {
     "slide_type": "fragment"
    }
   },
   "outputs": [
    {
     "data": {
      "text/plain": [
       "invA (generic function with 1 method)"
      ]
     },
     "execution_count": 21,
     "metadata": {},
     "output_type": "execute_result"
    }
   ],
   "source": [
    "function invA(A)\n",
    "    n  = size(A,1)\n",
    "    if n==1\n",
    "        return 1/A[1,1]\n",
    "    else\n",
    "        Ai = zeros(n,n) # inverse of A\n",
    "        s1 = 1:n-1\n",
    "        s2 = n\n",
    "        A11 = A[s1,s1]\n",
    "        A11i = invA(A11)\n",
    "        A12 = A[s1,s2]\n",
    "        A22 = A[s2,s2]\n",
    "        q = A11i*A12\n",
    "        r = A22 - q'A11*q\n",
    "        ri = 1/r\n",
    "        Ai = [A11i .+ ri*q*q'    -q*ri\n",
    "              -q'*ri              ri]\n",
    "        return Ai\n",
    "   end\n",
    "end"
   ]
  },
  {
   "cell_type": "markdown",
   "metadata": {
    "slideshow": {
     "slide_type": "subslide"
    }
   },
   "source": [
    "## Numerical Example"
   ]
  },
  {
   "cell_type": "code",
   "execution_count": 22,
   "metadata": {
    "slideshow": {
     "slide_type": "fragment"
    }
   },
   "outputs": [
    {
     "data": {
      "text/plain": [
       "0.2"
      ]
     },
     "execution_count": 22,
     "metadata": {},
     "output_type": "execute_result"
    }
   ],
   "source": [
    "A = 5\n",
    "invA(A)"
   ]
  },
  {
   "cell_type": "code",
   "execution_count": 23,
   "metadata": {
    "scrolled": true,
    "slideshow": {
     "slide_type": "fragment"
    }
   },
   "outputs": [
    {
     "data": {
      "text/plain": [
       "5×5 Array{Float64,2}:\n",
       "  1.0   0.0  -0.0  -0.0  -0.0\n",
       "  0.0   1.0  -0.0  -0.0   0.0\n",
       "  0.0  -0.0   1.0   0.0   0.0\n",
       " -0.0   0.0   0.0   1.0  -0.0\n",
       " -0.0   0.0   0.0   0.0   1.0"
      ]
     },
     "execution_count": 23,
     "metadata": {},
     "output_type": "execute_result"
    }
   ],
   "source": [
    "X = randn(10,5)\n",
    "A = X'X\n",
    "Ai = invA(A)\n",
    "round.(A*Ai,digits=3)"
   ]
  }
 ],
 "metadata": {
  "celltoolbar": "Slideshow",
  "kernelspec": {
   "display_name": "Julia 1.3.1",
   "language": "julia",
   "name": "julia-1.3"
  },
  "language_info": {
   "file_extension": ".jl",
   "mimetype": "application/julia",
   "name": "julia",
   "version": "1.3.1"
  }
 },
 "nbformat": 4,
 "nbformat_minor": 4
}
